{
 "cells": [
  {
   "cell_type": "markdown",
   "metadata": {},
   "source": [
    "<font color='blue' size=5><b>Комментарий ревьюера</b></font>\n",
    "\n",
    "<font color='blue'>Привет! Меня зовут Никита Бережнов, и я буду проверять твой проект. Спасибо за проделанную работу! Предлагаю общаться на «ты». Моя основная цель поделиться своим опытом и помочь тебе стать профессионалом в IT сфере.</font>\n",
    "\n",
    "<font color='blue'>Я буду использовать различные цвета, чтобы было удобнее воспринимать мои комментарии:</font>\n",
    "\n",
    "\n",
    "---\n",
    "\n",
    "<div class=\"alert alert-block alert-success\">\n",
    "<b>✔️ Комментарий ревьюера: </b> Все отлично\n",
    "</div>\n",
    "\n",
    "<div class=\"alert alert-block alert-warning\">\n",
    "<b>⚠️ Комментарий ревьюера: </b> Сделано все правильно, однако есть рекомендации, на что стоит обратить внимание\n",
    "</div>\n",
    "\n",
    "<div class=\"alert alert-block alert-danger\">\n",
    "<b>❌ Комментарий ревьюера: </b> Есть недочеты, без их отработки проект не будет принят\n",
    "</div>\n",
    "\n",
    "---\n",
    "\n",
    "<font color='blue'>Пожалуйста, не удаляй мои комментарии в случае возврата работы, так будет проще разобраться, какие были недочеты, а также сразу увидеть исправленное. </font>\n",
    "\n",
    "<font color='blue'>Давай работать над проектом в диалоге: если ты что-то меняешь в проекте или отвечаешь на мои комментарии - пиши об этом. Мне будет легче отследить изменения, если ты выделишь свои комментарии:</font>\n",
    "\n",
    "<div class=\"alert alert-block alert-info\">\n",
    "<b>Комментарий студента:</b> Например, вот так.\n",
    "</div>\n",
    "\n",
    "<font color='blue'><b>Давай смотреть, что получилось!</b></font>"
   ]
  },
  {
   "cell_type": "markdown",
   "metadata": {},
   "source": [
    "<div class=\"alert alert-block alert-success\">\n",
    "<b>✔️ Комментарий ревьюера: </b> Хорошая работа. Проведён анализ данных. Применена техника boostrap. Увидел выводы к каждому этапу работы. Но есть маленькие недочёты. Их нужно исправить. \n",
    "Осталось совсем чуть-чуть. Всегда готов ответить на твои вопросы.\n",
    "</div>"
   ]
  },
  {
   "cell_type": "markdown",
   "metadata": {},
   "source": [
    "<div class=\"alert alert-block alert-success\">\n",
    "<b>✔️ Комментарий ревьюера v2: </b> Спасибо за интерес к проекту. Принято. Желаю дальнейших успехов в учёбе и на работе\n",
    "</div>"
   ]
  },
  {
   "cell_type": "markdown",
   "metadata": {},
   "source": [
    "# Выбор локации для скважины"
   ]
  },
  {
   "cell_type": "markdown",
   "metadata": {},
   "source": [
    "Цель исследования: выбрать один из трех регионов для разработки нефтяных месторождений с минимальными финансовыми рисками и наибольшей потенциальной прибылью при помощи машинного обучения.\n",
    "\n",
    "Нам предоставлены пробы нефти в трёх регионах: в каждом 100 000 месторождений, где измерили качество нефти и объём её запасов. \n",
    "\n"
   ]
  },
  {
   "cell_type": "markdown",
   "metadata": {},
   "source": [
    "<div class=\"alert alert-block alert-success\">\n",
    "<b>✔️ Комментарий ревьюера:</b> Цель работы понятна, но лучше написать её явно\n",
    "</div>"
   ]
  },
  {
   "cell_type": "markdown",
   "metadata": {},
   "source": [
    "<div class=\"alert alert-block alert-info\">\n",
    "<b>Комментарий студента:</b> Ок. Так лучше?\n",
    "</div>"
   ]
  },
  {
   "cell_type": "markdown",
   "metadata": {},
   "source": [
    "<div class=\"alert alert-block alert-success\">\n",
    "<b>✔️ Комментарий ревьюера v2: </b> 👍\n",
    "</div>"
   ]
  },
  {
   "cell_type": "markdown",
   "metadata": {},
   "source": [
    "## Загрузка, просмотр"
   ]
  },
  {
   "cell_type": "code",
   "execution_count": 51,
   "metadata": {},
   "outputs": [],
   "source": [
    "import pandas as pd\n",
    "import numpy as np\n",
    "import matplotlib.pyplot as plt\n",
    "import seaborn as sns\n",
    "from sklearn.linear_model import LinearRegression\n",
    "from sklearn.model_selection import train_test_split\n",
    "from sklearn.metrics import r2_score, mean_squared_error\n",
    "from sklearn.preprocessing import StandardScaler"
   ]
  },
  {
   "cell_type": "code",
   "execution_count": null,
   "metadata": {},
   "outputs": [],
   "source": []
  },
  {
   "cell_type": "code",
   "execution_count": 52,
   "metadata": {
    "scrolled": false
   },
   "outputs": [
    {
     "data": {
      "text/html": [
       "<div>\n",
       "<style scoped>\n",
       "    .dataframe tbody tr th:only-of-type {\n",
       "        vertical-align: middle;\n",
       "    }\n",
       "\n",
       "    .dataframe tbody tr th {\n",
       "        vertical-align: top;\n",
       "    }\n",
       "\n",
       "    .dataframe thead th {\n",
       "        text-align: right;\n",
       "    }\n",
       "</style>\n",
       "<table border=\"1\" class=\"dataframe\">\n",
       "  <thead>\n",
       "    <tr style=\"text-align: right;\">\n",
       "      <th></th>\n",
       "      <th>id</th>\n",
       "      <th>f0</th>\n",
       "      <th>f1</th>\n",
       "      <th>f2</th>\n",
       "      <th>product</th>\n",
       "    </tr>\n",
       "  </thead>\n",
       "  <tbody>\n",
       "    <tr>\n",
       "      <th>0</th>\n",
       "      <td>txEyH</td>\n",
       "      <td>0.705745</td>\n",
       "      <td>-0.497823</td>\n",
       "      <td>1.221170</td>\n",
       "      <td>105.280062</td>\n",
       "    </tr>\n",
       "    <tr>\n",
       "      <th>1</th>\n",
       "      <td>2acmU</td>\n",
       "      <td>1.334711</td>\n",
       "      <td>-0.340164</td>\n",
       "      <td>4.365080</td>\n",
       "      <td>73.037750</td>\n",
       "    </tr>\n",
       "    <tr>\n",
       "      <th>2</th>\n",
       "      <td>409Wp</td>\n",
       "      <td>1.022732</td>\n",
       "      <td>0.151990</td>\n",
       "      <td>1.419926</td>\n",
       "      <td>85.265647</td>\n",
       "    </tr>\n",
       "    <tr>\n",
       "      <th>3</th>\n",
       "      <td>iJLyR</td>\n",
       "      <td>-0.032172</td>\n",
       "      <td>0.139033</td>\n",
       "      <td>2.978566</td>\n",
       "      <td>168.620776</td>\n",
       "    </tr>\n",
       "    <tr>\n",
       "      <th>4</th>\n",
       "      <td>Xdl7t</td>\n",
       "      <td>1.988431</td>\n",
       "      <td>0.155413</td>\n",
       "      <td>4.751769</td>\n",
       "      <td>154.036647</td>\n",
       "    </tr>\n",
       "  </tbody>\n",
       "</table>\n",
       "</div>"
      ],
      "text/plain": [
       "      id        f0        f1        f2     product\n",
       "0  txEyH  0.705745 -0.497823  1.221170  105.280062\n",
       "1  2acmU  1.334711 -0.340164  4.365080   73.037750\n",
       "2  409Wp  1.022732  0.151990  1.419926   85.265647\n",
       "3  iJLyR -0.032172  0.139033  2.978566  168.620776\n",
       "4  Xdl7t  1.988431  0.155413  4.751769  154.036647"
      ]
     },
     "metadata": {},
     "output_type": "display_data"
    },
    {
     "data": {
      "text/html": [
       "<div>\n",
       "<style scoped>\n",
       "    .dataframe tbody tr th:only-of-type {\n",
       "        vertical-align: middle;\n",
       "    }\n",
       "\n",
       "    .dataframe tbody tr th {\n",
       "        vertical-align: top;\n",
       "    }\n",
       "\n",
       "    .dataframe thead th {\n",
       "        text-align: right;\n",
       "    }\n",
       "</style>\n",
       "<table border=\"1\" class=\"dataframe\">\n",
       "  <thead>\n",
       "    <tr style=\"text-align: right;\">\n",
       "      <th></th>\n",
       "      <th>id</th>\n",
       "      <th>f0</th>\n",
       "      <th>f1</th>\n",
       "      <th>f2</th>\n",
       "      <th>product</th>\n",
       "    </tr>\n",
       "  </thead>\n",
       "  <tbody>\n",
       "    <tr>\n",
       "      <th>0</th>\n",
       "      <td>kBEdx</td>\n",
       "      <td>-15.001348</td>\n",
       "      <td>-8.276000</td>\n",
       "      <td>-0.005876</td>\n",
       "      <td>3.179103</td>\n",
       "    </tr>\n",
       "    <tr>\n",
       "      <th>1</th>\n",
       "      <td>62mP7</td>\n",
       "      <td>14.272088</td>\n",
       "      <td>-3.475083</td>\n",
       "      <td>0.999183</td>\n",
       "      <td>26.953261</td>\n",
       "    </tr>\n",
       "    <tr>\n",
       "      <th>2</th>\n",
       "      <td>vyE1P</td>\n",
       "      <td>6.263187</td>\n",
       "      <td>-5.948386</td>\n",
       "      <td>5.001160</td>\n",
       "      <td>134.766305</td>\n",
       "    </tr>\n",
       "    <tr>\n",
       "      <th>3</th>\n",
       "      <td>KcrkZ</td>\n",
       "      <td>-13.081196</td>\n",
       "      <td>-11.506057</td>\n",
       "      <td>4.999415</td>\n",
       "      <td>137.945408</td>\n",
       "    </tr>\n",
       "    <tr>\n",
       "      <th>4</th>\n",
       "      <td>AHL4O</td>\n",
       "      <td>12.702195</td>\n",
       "      <td>-8.147433</td>\n",
       "      <td>5.004363</td>\n",
       "      <td>134.766305</td>\n",
       "    </tr>\n",
       "  </tbody>\n",
       "</table>\n",
       "</div>"
      ],
      "text/plain": [
       "      id         f0         f1        f2     product\n",
       "0  kBEdx -15.001348  -8.276000 -0.005876    3.179103\n",
       "1  62mP7  14.272088  -3.475083  0.999183   26.953261\n",
       "2  vyE1P   6.263187  -5.948386  5.001160  134.766305\n",
       "3  KcrkZ -13.081196 -11.506057  4.999415  137.945408\n",
       "4  AHL4O  12.702195  -8.147433  5.004363  134.766305"
      ]
     },
     "metadata": {},
     "output_type": "display_data"
    },
    {
     "data": {
      "text/html": [
       "<div>\n",
       "<style scoped>\n",
       "    .dataframe tbody tr th:only-of-type {\n",
       "        vertical-align: middle;\n",
       "    }\n",
       "\n",
       "    .dataframe tbody tr th {\n",
       "        vertical-align: top;\n",
       "    }\n",
       "\n",
       "    .dataframe thead th {\n",
       "        text-align: right;\n",
       "    }\n",
       "</style>\n",
       "<table border=\"1\" class=\"dataframe\">\n",
       "  <thead>\n",
       "    <tr style=\"text-align: right;\">\n",
       "      <th></th>\n",
       "      <th>id</th>\n",
       "      <th>f0</th>\n",
       "      <th>f1</th>\n",
       "      <th>f2</th>\n",
       "      <th>product</th>\n",
       "    </tr>\n",
       "  </thead>\n",
       "  <tbody>\n",
       "    <tr>\n",
       "      <th>0</th>\n",
       "      <td>fwXo0</td>\n",
       "      <td>-1.146987</td>\n",
       "      <td>0.963328</td>\n",
       "      <td>-0.828965</td>\n",
       "      <td>27.758673</td>\n",
       "    </tr>\n",
       "    <tr>\n",
       "      <th>1</th>\n",
       "      <td>WJtFt</td>\n",
       "      <td>0.262778</td>\n",
       "      <td>0.269839</td>\n",
       "      <td>-2.530187</td>\n",
       "      <td>56.069697</td>\n",
       "    </tr>\n",
       "    <tr>\n",
       "      <th>2</th>\n",
       "      <td>ovLUW</td>\n",
       "      <td>0.194587</td>\n",
       "      <td>0.289035</td>\n",
       "      <td>-5.586433</td>\n",
       "      <td>62.871910</td>\n",
       "    </tr>\n",
       "    <tr>\n",
       "      <th>3</th>\n",
       "      <td>q6cA6</td>\n",
       "      <td>2.236060</td>\n",
       "      <td>-0.553760</td>\n",
       "      <td>0.930038</td>\n",
       "      <td>114.572842</td>\n",
       "    </tr>\n",
       "    <tr>\n",
       "      <th>4</th>\n",
       "      <td>WPMUX</td>\n",
       "      <td>-0.515993</td>\n",
       "      <td>1.716266</td>\n",
       "      <td>5.899011</td>\n",
       "      <td>149.600746</td>\n",
       "    </tr>\n",
       "  </tbody>\n",
       "</table>\n",
       "</div>"
      ],
      "text/plain": [
       "      id        f0        f1        f2     product\n",
       "0  fwXo0 -1.146987  0.963328 -0.828965   27.758673\n",
       "1  WJtFt  0.262778  0.269839 -2.530187   56.069697\n",
       "2  ovLUW  0.194587  0.289035 -5.586433   62.871910\n",
       "3  q6cA6  2.236060 -0.553760  0.930038  114.572842\n",
       "4  WPMUX -0.515993  1.716266  5.899011  149.600746"
      ]
     },
     "metadata": {},
     "output_type": "display_data"
    },
    {
     "name": "stdout",
     "output_type": "stream",
     "text": [
      "<class 'pandas.core.frame.DataFrame'>\n",
      "RangeIndex: 100000 entries, 0 to 99999\n",
      "Data columns (total 5 columns):\n",
      " #   Column   Non-Null Count   Dtype  \n",
      "---  ------   --------------   -----  \n",
      " 0   id       100000 non-null  object \n",
      " 1   f0       100000 non-null  float64\n",
      " 2   f1       100000 non-null  float64\n",
      " 3   f2       100000 non-null  float64\n",
      " 4   product  100000 non-null  float64\n",
      "dtypes: float64(4), object(1)\n",
      "memory usage: 3.8+ MB\n",
      "<class 'pandas.core.frame.DataFrame'>\n",
      "RangeIndex: 100000 entries, 0 to 99999\n",
      "Data columns (total 5 columns):\n",
      " #   Column   Non-Null Count   Dtype  \n",
      "---  ------   --------------   -----  \n",
      " 0   id       100000 non-null  object \n",
      " 1   f0       100000 non-null  float64\n",
      " 2   f1       100000 non-null  float64\n",
      " 3   f2       100000 non-null  float64\n",
      " 4   product  100000 non-null  float64\n",
      "dtypes: float64(4), object(1)\n",
      "memory usage: 3.8+ MB\n",
      "<class 'pandas.core.frame.DataFrame'>\n",
      "RangeIndex: 100000 entries, 0 to 99999\n",
      "Data columns (total 5 columns):\n",
      " #   Column   Non-Null Count   Dtype  \n",
      "---  ------   --------------   -----  \n",
      " 0   id       100000 non-null  object \n",
      " 1   f0       100000 non-null  float64\n",
      " 2   f1       100000 non-null  float64\n",
      " 3   f2       100000 non-null  float64\n",
      " 4   product  100000 non-null  float64\n",
      "dtypes: float64(4), object(1)\n",
      "memory usage: 3.8+ MB\n"
     ]
    }
   ],
   "source": [
    "try:\n",
    "    df_0 = pd.read_csv(\"C:\\\\Users\\\\Pasha\\\\Downloads\\\\geo_data_0\")\n",
    "except:\n",
    "    df_0 = pd.read_csv(\"/datasets/geo_data_0.csv\")\n",
    "try:\n",
    "    df_1 = pd.read_csv(\"C:\\\\Users\\\\Pasha\\\\Downloads\\\\geo_data_1\")\n",
    "except:\n",
    "    df_1 = pd.read_csv(\"/datasets/geo_data_1.csv\")\n",
    "try:\n",
    "    df_2 = pd.read_csv(\"C:\\\\Users\\\\Pasha\\\\Downloads\\\\geo_data_2\")\n",
    "except:\n",
    "    df_2 = pd.read_csv(\"/datasets/geo_data_2.csv\")\n",
    "    \n",
    "display(df_0.head())\n",
    "display(df_1.head())    \n",
    "display(df_2.head()) \n",
    "\n",
    "df_0.info()\n",
    "df_1.info()\n",
    "df_2.info()\n",
    "\n",
    "    "
   ]
  },
  {
   "cell_type": "code",
   "execution_count": 53,
   "metadata": {},
   "outputs": [
    {
     "data": {
      "text/plain": [
       "0"
      ]
     },
     "metadata": {},
     "output_type": "display_data"
    },
    {
     "data": {
      "text/plain": [
       "0"
      ]
     },
     "metadata": {},
     "output_type": "display_data"
    },
    {
     "data": {
      "text/plain": [
       "0"
      ]
     },
     "metadata": {},
     "output_type": "display_data"
    }
   ],
   "source": [
    "# проверяем явные дубликаты\n",
    "display(df_0.duplicated().sum())\n",
    "display(df_1.duplicated().sum())\n",
    "display(df_2.duplicated().sum())\n"
   ]
  },
  {
   "cell_type": "markdown",
   "metadata": {},
   "source": [
    "### Вывод"
   ]
  },
  {
   "cell_type": "markdown",
   "metadata": {},
   "source": [
    "имеется 3 таблици с данными по месторождениям в 3х регионах. Все форматы данных корректны. По смыслу значения признаков информации нет. Есть столбец с объемом запасов в скважине в тысячах баррелей. Столбец с уникальным идентификатором не имеет предсказательной ценности. Он будет удален после проверки на неявные дубликаты"
   ]
  },
  {
   "cell_type": "markdown",
   "metadata": {},
   "source": [
    "<div class=\"alert alert-block alert-success\">\n",
    "<b>✔️ Комментарий ревьюера:</b> Да, супер\n",
    "</div>"
   ]
  },
  {
   "cell_type": "markdown",
   "metadata": {},
   "source": [
    "## Предобработка"
   ]
  },
  {
   "cell_type": "code",
   "execution_count": 54,
   "metadata": {
    "scrolled": true
   },
   "outputs": [
    {
     "data": {
      "text/plain": [
       "10"
      ]
     },
     "metadata": {},
     "output_type": "display_data"
    },
    {
     "data": {
      "text/plain": [
       "4"
      ]
     },
     "metadata": {},
     "output_type": "display_data"
    },
    {
     "data": {
      "text/plain": [
       "4"
      ]
     },
     "metadata": {},
     "output_type": "display_data"
    }
   ],
   "source": [
    "# неявные дубликаты по идентификатору\n",
    "display(df_0[\"id\"].duplicated().sum())\n",
    "display(df_1[\"id\"].duplicated().sum())\n",
    "display(df_2[\"id\"].duplicated().sum())"
   ]
  },
  {
   "cell_type": "markdown",
   "metadata": {},
   "source": [
    "Присутствуют неявные дубликаты. Проверим их сходство между собой"
   ]
  },
  {
   "cell_type": "code",
   "execution_count": 55,
   "metadata": {},
   "outputs": [
    {
     "data": {
      "text/plain": [
       "['HZww2',\n",
       " 'bxg6G',\n",
       " 'A5aEY',\n",
       " 'QcMuo',\n",
       " '74z30',\n",
       " 'AGS9W',\n",
       " 'Tdehs',\n",
       " 'fiKDv',\n",
       " 'TtcGQ',\n",
       " 'bsk9y']"
      ]
     },
     "metadata": {},
     "output_type": "display_data"
    },
    {
     "data": {
      "text/plain": [
       "['LHZR0', 'bfPNe', 'wt4Uk', '5ltQ6']"
      ]
     },
     "metadata": {},
     "output_type": "display_data"
    },
    {
     "data": {
      "text/plain": [
       "['xCHr8', 'VF7Jo', 'KUPhW', 'Vcm5J']"
      ]
     },
     "metadata": {},
     "output_type": "display_data"
    }
   ],
   "source": [
    "# создаем списки продублированных айди\n",
    "df_0_id_duplicated = list(df_0[df_0[\"id\"].duplicated()][\"id\"])\n",
    "df_1_id_duplicated = list(df_1[df_1[\"id\"].duplicated()][\"id\"])\n",
    "df_2_id_duplicated = list(df_2[df_2[\"id\"].duplicated()][\"id\"])\n",
    "display(df_0_id_duplicated)\n",
    "display(df_1_id_duplicated)\n",
    "display(df_2_id_duplicated)"
   ]
  },
  {
   "cell_type": "code",
   "execution_count": 56,
   "metadata": {
    "scrolled": false
   },
   "outputs": [
    {
     "data": {
      "text/html": [
       "<div>\n",
       "<style scoped>\n",
       "    .dataframe tbody tr th:only-of-type {\n",
       "        vertical-align: middle;\n",
       "    }\n",
       "\n",
       "    .dataframe tbody tr th {\n",
       "        vertical-align: top;\n",
       "    }\n",
       "\n",
       "    .dataframe thead th {\n",
       "        text-align: right;\n",
       "    }\n",
       "</style>\n",
       "<table border=\"1\" class=\"dataframe\">\n",
       "  <thead>\n",
       "    <tr style=\"text-align: right;\">\n",
       "      <th></th>\n",
       "      <th>id</th>\n",
       "      <th>f0</th>\n",
       "      <th>f1</th>\n",
       "      <th>f2</th>\n",
       "      <th>product</th>\n",
       "    </tr>\n",
       "  </thead>\n",
       "  <tbody>\n",
       "    <tr>\n",
       "      <th>66136</th>\n",
       "      <td>74z30</td>\n",
       "      <td>1.084962</td>\n",
       "      <td>-0.312358</td>\n",
       "      <td>6.990771</td>\n",
       "      <td>127.643327</td>\n",
       "    </tr>\n",
       "    <tr>\n",
       "      <th>64022</th>\n",
       "      <td>74z30</td>\n",
       "      <td>0.741456</td>\n",
       "      <td>0.459229</td>\n",
       "      <td>5.153109</td>\n",
       "      <td>140.771492</td>\n",
       "    </tr>\n",
       "    <tr>\n",
       "      <th>51970</th>\n",
       "      <td>A5aEY</td>\n",
       "      <td>-0.180335</td>\n",
       "      <td>0.935548</td>\n",
       "      <td>-2.094773</td>\n",
       "      <td>33.020205</td>\n",
       "    </tr>\n",
       "    <tr>\n",
       "      <th>3389</th>\n",
       "      <td>A5aEY</td>\n",
       "      <td>-0.039949</td>\n",
       "      <td>0.156872</td>\n",
       "      <td>0.209861</td>\n",
       "      <td>89.249364</td>\n",
       "    </tr>\n",
       "    <tr>\n",
       "      <th>69163</th>\n",
       "      <td>AGS9W</td>\n",
       "      <td>-0.933795</td>\n",
       "      <td>0.116194</td>\n",
       "      <td>-3.655896</td>\n",
       "      <td>19.230453</td>\n",
       "    </tr>\n",
       "    <tr>\n",
       "      <th>42529</th>\n",
       "      <td>AGS9W</td>\n",
       "      <td>1.454747</td>\n",
       "      <td>-0.479651</td>\n",
       "      <td>0.683380</td>\n",
       "      <td>126.370504</td>\n",
       "    </tr>\n",
       "    <tr>\n",
       "      <th>931</th>\n",
       "      <td>HZww2</td>\n",
       "      <td>0.755284</td>\n",
       "      <td>0.368511</td>\n",
       "      <td>1.863211</td>\n",
       "      <td>30.681774</td>\n",
       "    </tr>\n",
       "    <tr>\n",
       "      <th>7530</th>\n",
       "      <td>HZww2</td>\n",
       "      <td>1.061194</td>\n",
       "      <td>-0.373969</td>\n",
       "      <td>10.430210</td>\n",
       "      <td>158.828695</td>\n",
       "    </tr>\n",
       "    <tr>\n",
       "      <th>63593</th>\n",
       "      <td>QcMuo</td>\n",
       "      <td>0.635635</td>\n",
       "      <td>-0.473422</td>\n",
       "      <td>0.862670</td>\n",
       "      <td>64.578675</td>\n",
       "    </tr>\n",
       "    <tr>\n",
       "      <th>1949</th>\n",
       "      <td>QcMuo</td>\n",
       "      <td>0.506563</td>\n",
       "      <td>-0.323775</td>\n",
       "      <td>-2.215583</td>\n",
       "      <td>75.496502</td>\n",
       "    </tr>\n",
       "    <tr>\n",
       "      <th>75715</th>\n",
       "      <td>Tdehs</td>\n",
       "      <td>0.112079</td>\n",
       "      <td>0.430296</td>\n",
       "      <td>3.218993</td>\n",
       "      <td>60.964018</td>\n",
       "    </tr>\n",
       "    <tr>\n",
       "      <th>21426</th>\n",
       "      <td>Tdehs</td>\n",
       "      <td>0.829407</td>\n",
       "      <td>0.298807</td>\n",
       "      <td>-0.049563</td>\n",
       "      <td>96.035308</td>\n",
       "    </tr>\n",
       "    <tr>\n",
       "      <th>92341</th>\n",
       "      <td>TtcGQ</td>\n",
       "      <td>0.110711</td>\n",
       "      <td>1.022689</td>\n",
       "      <td>0.911381</td>\n",
       "      <td>101.318008</td>\n",
       "    </tr>\n",
       "    <tr>\n",
       "      <th>60140</th>\n",
       "      <td>TtcGQ</td>\n",
       "      <td>0.569276</td>\n",
       "      <td>-0.104876</td>\n",
       "      <td>6.440215</td>\n",
       "      <td>85.350186</td>\n",
       "    </tr>\n",
       "    <tr>\n",
       "      <th>89582</th>\n",
       "      <td>bsk9y</td>\n",
       "      <td>0.398908</td>\n",
       "      <td>-0.400253</td>\n",
       "      <td>10.122376</td>\n",
       "      <td>163.433078</td>\n",
       "    </tr>\n",
       "    <tr>\n",
       "      <th>97785</th>\n",
       "      <td>bsk9y</td>\n",
       "      <td>0.378429</td>\n",
       "      <td>0.005837</td>\n",
       "      <td>0.160827</td>\n",
       "      <td>160.637302</td>\n",
       "    </tr>\n",
       "    <tr>\n",
       "      <th>41724</th>\n",
       "      <td>bxg6G</td>\n",
       "      <td>-0.823752</td>\n",
       "      <td>0.546319</td>\n",
       "      <td>3.630479</td>\n",
       "      <td>93.007798</td>\n",
       "    </tr>\n",
       "    <tr>\n",
       "      <th>1364</th>\n",
       "      <td>bxg6G</td>\n",
       "      <td>0.411645</td>\n",
       "      <td>0.856830</td>\n",
       "      <td>-3.653440</td>\n",
       "      <td>73.604260</td>\n",
       "    </tr>\n",
       "    <tr>\n",
       "      <th>16633</th>\n",
       "      <td>fiKDv</td>\n",
       "      <td>0.157341</td>\n",
       "      <td>1.028359</td>\n",
       "      <td>5.585586</td>\n",
       "      <td>95.817889</td>\n",
       "    </tr>\n",
       "    <tr>\n",
       "      <th>90815</th>\n",
       "      <td>fiKDv</td>\n",
       "      <td>0.049883</td>\n",
       "      <td>0.841313</td>\n",
       "      <td>6.394613</td>\n",
       "      <td>137.346586</td>\n",
       "    </tr>\n",
       "  </tbody>\n",
       "</table>\n",
       "</div>"
      ],
      "text/plain": [
       "          id        f0        f1         f2     product\n",
       "66136  74z30  1.084962 -0.312358   6.990771  127.643327\n",
       "64022  74z30  0.741456  0.459229   5.153109  140.771492\n",
       "51970  A5aEY -0.180335  0.935548  -2.094773   33.020205\n",
       "3389   A5aEY -0.039949  0.156872   0.209861   89.249364\n",
       "69163  AGS9W -0.933795  0.116194  -3.655896   19.230453\n",
       "42529  AGS9W  1.454747 -0.479651   0.683380  126.370504\n",
       "931    HZww2  0.755284  0.368511   1.863211   30.681774\n",
       "7530   HZww2  1.061194 -0.373969  10.430210  158.828695\n",
       "63593  QcMuo  0.635635 -0.473422   0.862670   64.578675\n",
       "1949   QcMuo  0.506563 -0.323775  -2.215583   75.496502\n",
       "75715  Tdehs  0.112079  0.430296   3.218993   60.964018\n",
       "21426  Tdehs  0.829407  0.298807  -0.049563   96.035308\n",
       "92341  TtcGQ  0.110711  1.022689   0.911381  101.318008\n",
       "60140  TtcGQ  0.569276 -0.104876   6.440215   85.350186\n",
       "89582  bsk9y  0.398908 -0.400253  10.122376  163.433078\n",
       "97785  bsk9y  0.378429  0.005837   0.160827  160.637302\n",
       "41724  bxg6G -0.823752  0.546319   3.630479   93.007798\n",
       "1364   bxg6G  0.411645  0.856830  -3.653440   73.604260\n",
       "16633  fiKDv  0.157341  1.028359   5.585586   95.817889\n",
       "90815  fiKDv  0.049883  0.841313   6.394613  137.346586"
      ]
     },
     "metadata": {},
     "output_type": "display_data"
    },
    {
     "data": {
      "text/html": [
       "<div>\n",
       "<style scoped>\n",
       "    .dataframe tbody tr th:only-of-type {\n",
       "        vertical-align: middle;\n",
       "    }\n",
       "\n",
       "    .dataframe tbody tr th {\n",
       "        vertical-align: top;\n",
       "    }\n",
       "\n",
       "    .dataframe thead th {\n",
       "        text-align: right;\n",
       "    }\n",
       "</style>\n",
       "<table border=\"1\" class=\"dataframe\">\n",
       "  <thead>\n",
       "    <tr style=\"text-align: right;\">\n",
       "      <th></th>\n",
       "      <th>id</th>\n",
       "      <th>f0</th>\n",
       "      <th>f1</th>\n",
       "      <th>f2</th>\n",
       "      <th>product</th>\n",
       "    </tr>\n",
       "  </thead>\n",
       "  <tbody>\n",
       "    <tr>\n",
       "      <th>5849</th>\n",
       "      <td>5ltQ6</td>\n",
       "      <td>-3.435401</td>\n",
       "      <td>-12.296043</td>\n",
       "      <td>1.999796</td>\n",
       "      <td>57.085625</td>\n",
       "    </tr>\n",
       "    <tr>\n",
       "      <th>84461</th>\n",
       "      <td>5ltQ6</td>\n",
       "      <td>18.213839</td>\n",
       "      <td>2.191999</td>\n",
       "      <td>3.993869</td>\n",
       "      <td>107.813044</td>\n",
       "    </tr>\n",
       "    <tr>\n",
       "      <th>1305</th>\n",
       "      <td>LHZR0</td>\n",
       "      <td>11.170835</td>\n",
       "      <td>-1.945066</td>\n",
       "      <td>3.002872</td>\n",
       "      <td>80.859783</td>\n",
       "    </tr>\n",
       "    <tr>\n",
       "      <th>41906</th>\n",
       "      <td>LHZR0</td>\n",
       "      <td>-8.989672</td>\n",
       "      <td>-4.286607</td>\n",
       "      <td>2.009139</td>\n",
       "      <td>57.085625</td>\n",
       "    </tr>\n",
       "    <tr>\n",
       "      <th>2721</th>\n",
       "      <td>bfPNe</td>\n",
       "      <td>-9.494442</td>\n",
       "      <td>-5.463692</td>\n",
       "      <td>4.006042</td>\n",
       "      <td>110.992147</td>\n",
       "    </tr>\n",
       "    <tr>\n",
       "      <th>82178</th>\n",
       "      <td>bfPNe</td>\n",
       "      <td>-6.202799</td>\n",
       "      <td>-4.820045</td>\n",
       "      <td>2.995107</td>\n",
       "      <td>84.038886</td>\n",
       "    </tr>\n",
       "    <tr>\n",
       "      <th>47591</th>\n",
       "      <td>wt4Uk</td>\n",
       "      <td>-9.091098</td>\n",
       "      <td>-8.109279</td>\n",
       "      <td>-0.002314</td>\n",
       "      <td>3.179103</td>\n",
       "    </tr>\n",
       "    <tr>\n",
       "      <th>82873</th>\n",
       "      <td>wt4Uk</td>\n",
       "      <td>10.259972</td>\n",
       "      <td>-9.376355</td>\n",
       "      <td>4.994297</td>\n",
       "      <td>134.766305</td>\n",
       "    </tr>\n",
       "  </tbody>\n",
       "</table>\n",
       "</div>"
      ],
      "text/plain": [
       "          id         f0         f1        f2     product\n",
       "5849   5ltQ6  -3.435401 -12.296043  1.999796   57.085625\n",
       "84461  5ltQ6  18.213839   2.191999  3.993869  107.813044\n",
       "1305   LHZR0  11.170835  -1.945066  3.002872   80.859783\n",
       "41906  LHZR0  -8.989672  -4.286607  2.009139   57.085625\n",
       "2721   bfPNe  -9.494442  -5.463692  4.006042  110.992147\n",
       "82178  bfPNe  -6.202799  -4.820045  2.995107   84.038886\n",
       "47591  wt4Uk  -9.091098  -8.109279 -0.002314    3.179103\n",
       "82873  wt4Uk  10.259972  -9.376355  4.994297  134.766305"
      ]
     },
     "metadata": {},
     "output_type": "display_data"
    },
    {
     "data": {
      "text/html": [
       "<div>\n",
       "<style scoped>\n",
       "    .dataframe tbody tr th:only-of-type {\n",
       "        vertical-align: middle;\n",
       "    }\n",
       "\n",
       "    .dataframe tbody tr th {\n",
       "        vertical-align: top;\n",
       "    }\n",
       "\n",
       "    .dataframe thead th {\n",
       "        text-align: right;\n",
       "    }\n",
       "</style>\n",
       "<table border=\"1\" class=\"dataframe\">\n",
       "  <thead>\n",
       "    <tr style=\"text-align: right;\">\n",
       "      <th></th>\n",
       "      <th>id</th>\n",
       "      <th>f0</th>\n",
       "      <th>f1</th>\n",
       "      <th>f2</th>\n",
       "      <th>product</th>\n",
       "    </tr>\n",
       "  </thead>\n",
       "  <tbody>\n",
       "    <tr>\n",
       "      <th>45404</th>\n",
       "      <td>KUPhW</td>\n",
       "      <td>0.231846</td>\n",
       "      <td>-1.698941</td>\n",
       "      <td>4.990775</td>\n",
       "      <td>11.716299</td>\n",
       "    </tr>\n",
       "    <tr>\n",
       "      <th>55967</th>\n",
       "      <td>KUPhW</td>\n",
       "      <td>1.211150</td>\n",
       "      <td>3.176408</td>\n",
       "      <td>5.543540</td>\n",
       "      <td>132.831802</td>\n",
       "    </tr>\n",
       "    <tr>\n",
       "      <th>11449</th>\n",
       "      <td>VF7Jo</td>\n",
       "      <td>2.122656</td>\n",
       "      <td>-0.858275</td>\n",
       "      <td>5.746001</td>\n",
       "      <td>181.716817</td>\n",
       "    </tr>\n",
       "    <tr>\n",
       "      <th>49564</th>\n",
       "      <td>VF7Jo</td>\n",
       "      <td>-0.883115</td>\n",
       "      <td>0.560537</td>\n",
       "      <td>0.723601</td>\n",
       "      <td>136.233420</td>\n",
       "    </tr>\n",
       "    <tr>\n",
       "      <th>44378</th>\n",
       "      <td>Vcm5J</td>\n",
       "      <td>-1.229484</td>\n",
       "      <td>-2.439204</td>\n",
       "      <td>1.222909</td>\n",
       "      <td>137.968290</td>\n",
       "    </tr>\n",
       "    <tr>\n",
       "      <th>95090</th>\n",
       "      <td>Vcm5J</td>\n",
       "      <td>2.587702</td>\n",
       "      <td>1.986875</td>\n",
       "      <td>2.482245</td>\n",
       "      <td>92.327572</td>\n",
       "    </tr>\n",
       "    <tr>\n",
       "      <th>28039</th>\n",
       "      <td>xCHr8</td>\n",
       "      <td>1.633027</td>\n",
       "      <td>0.368135</td>\n",
       "      <td>-2.378367</td>\n",
       "      <td>6.120525</td>\n",
       "    </tr>\n",
       "    <tr>\n",
       "      <th>43233</th>\n",
       "      <td>xCHr8</td>\n",
       "      <td>-0.847066</td>\n",
       "      <td>2.101796</td>\n",
       "      <td>5.597130</td>\n",
       "      <td>184.388641</td>\n",
       "    </tr>\n",
       "  </tbody>\n",
       "</table>\n",
       "</div>"
      ],
      "text/plain": [
       "          id        f0        f1        f2     product\n",
       "45404  KUPhW  0.231846 -1.698941  4.990775   11.716299\n",
       "55967  KUPhW  1.211150  3.176408  5.543540  132.831802\n",
       "11449  VF7Jo  2.122656 -0.858275  5.746001  181.716817\n",
       "49564  VF7Jo -0.883115  0.560537  0.723601  136.233420\n",
       "44378  Vcm5J -1.229484 -2.439204  1.222909  137.968290\n",
       "95090  Vcm5J  2.587702  1.986875  2.482245   92.327572\n",
       "28039  xCHr8  1.633027  0.368135 -2.378367    6.120525\n",
       "43233  xCHr8 -0.847066  2.101796  5.597130  184.388641"
      ]
     },
     "metadata": {},
     "output_type": "display_data"
    }
   ],
   "source": [
    "# изучаем месторождения с продублированными идентификаторами \n",
    "display(df_0.query('id in @df_0_id_duplicated').sort_values(\"id\"))\n",
    "display(df_1.query('id in @df_1_id_duplicated').sort_values(\"id\"))\n",
    "display(df_2.query('id in @df_2_id_duplicated').sort_values(\"id\"))"
   ]
  },
  {
   "cell_type": "markdown",
   "metadata": {},
   "source": [
    "сходств нет. Остается считать, что все месторождения уникальны и проблем в данных помимо бесполезного столбца нет"
   ]
  },
  {
   "cell_type": "markdown",
   "metadata": {},
   "source": [
    "<div class=\"alert alert-block alert-success\">\n",
    "<b>✔️ Комментарий ревьюера:</b> Согласен\n",
    "</div>"
   ]
  },
  {
   "cell_type": "code",
   "execution_count": 57,
   "metadata": {},
   "outputs": [
    {
     "data": {
      "text/html": [
       "<div>\n",
       "<style scoped>\n",
       "    .dataframe tbody tr th:only-of-type {\n",
       "        vertical-align: middle;\n",
       "    }\n",
       "\n",
       "    .dataframe tbody tr th {\n",
       "        vertical-align: top;\n",
       "    }\n",
       "\n",
       "    .dataframe thead th {\n",
       "        text-align: right;\n",
       "    }\n",
       "</style>\n",
       "<table border=\"1\" class=\"dataframe\">\n",
       "  <thead>\n",
       "    <tr style=\"text-align: right;\">\n",
       "      <th></th>\n",
       "      <th>f0</th>\n",
       "      <th>f1</th>\n",
       "      <th>f2</th>\n",
       "      <th>product</th>\n",
       "    </tr>\n",
       "  </thead>\n",
       "  <tbody>\n",
       "    <tr>\n",
       "      <th>0</th>\n",
       "      <td>0.705745</td>\n",
       "      <td>-0.497823</td>\n",
       "      <td>1.221170</td>\n",
       "      <td>105.280062</td>\n",
       "    </tr>\n",
       "    <tr>\n",
       "      <th>1</th>\n",
       "      <td>1.334711</td>\n",
       "      <td>-0.340164</td>\n",
       "      <td>4.365080</td>\n",
       "      <td>73.037750</td>\n",
       "    </tr>\n",
       "    <tr>\n",
       "      <th>2</th>\n",
       "      <td>1.022732</td>\n",
       "      <td>0.151990</td>\n",
       "      <td>1.419926</td>\n",
       "      <td>85.265647</td>\n",
       "    </tr>\n",
       "    <tr>\n",
       "      <th>3</th>\n",
       "      <td>-0.032172</td>\n",
       "      <td>0.139033</td>\n",
       "      <td>2.978566</td>\n",
       "      <td>168.620776</td>\n",
       "    </tr>\n",
       "    <tr>\n",
       "      <th>4</th>\n",
       "      <td>1.988431</td>\n",
       "      <td>0.155413</td>\n",
       "      <td>4.751769</td>\n",
       "      <td>154.036647</td>\n",
       "    </tr>\n",
       "  </tbody>\n",
       "</table>\n",
       "</div>"
      ],
      "text/plain": [
       "         f0        f1        f2     product\n",
       "0  0.705745 -0.497823  1.221170  105.280062\n",
       "1  1.334711 -0.340164  4.365080   73.037750\n",
       "2  1.022732  0.151990  1.419926   85.265647\n",
       "3 -0.032172  0.139033  2.978566  168.620776\n",
       "4  1.988431  0.155413  4.751769  154.036647"
      ]
     },
     "metadata": {},
     "output_type": "display_data"
    },
    {
     "data": {
      "text/html": [
       "<div>\n",
       "<style scoped>\n",
       "    .dataframe tbody tr th:only-of-type {\n",
       "        vertical-align: middle;\n",
       "    }\n",
       "\n",
       "    .dataframe tbody tr th {\n",
       "        vertical-align: top;\n",
       "    }\n",
       "\n",
       "    .dataframe thead th {\n",
       "        text-align: right;\n",
       "    }\n",
       "</style>\n",
       "<table border=\"1\" class=\"dataframe\">\n",
       "  <thead>\n",
       "    <tr style=\"text-align: right;\">\n",
       "      <th></th>\n",
       "      <th>f0</th>\n",
       "      <th>f1</th>\n",
       "      <th>f2</th>\n",
       "      <th>product</th>\n",
       "    </tr>\n",
       "  </thead>\n",
       "  <tbody>\n",
       "    <tr>\n",
       "      <th>0</th>\n",
       "      <td>-15.001348</td>\n",
       "      <td>-8.276000</td>\n",
       "      <td>-0.005876</td>\n",
       "      <td>3.179103</td>\n",
       "    </tr>\n",
       "    <tr>\n",
       "      <th>1</th>\n",
       "      <td>14.272088</td>\n",
       "      <td>-3.475083</td>\n",
       "      <td>0.999183</td>\n",
       "      <td>26.953261</td>\n",
       "    </tr>\n",
       "    <tr>\n",
       "      <th>2</th>\n",
       "      <td>6.263187</td>\n",
       "      <td>-5.948386</td>\n",
       "      <td>5.001160</td>\n",
       "      <td>134.766305</td>\n",
       "    </tr>\n",
       "    <tr>\n",
       "      <th>3</th>\n",
       "      <td>-13.081196</td>\n",
       "      <td>-11.506057</td>\n",
       "      <td>4.999415</td>\n",
       "      <td>137.945408</td>\n",
       "    </tr>\n",
       "    <tr>\n",
       "      <th>4</th>\n",
       "      <td>12.702195</td>\n",
       "      <td>-8.147433</td>\n",
       "      <td>5.004363</td>\n",
       "      <td>134.766305</td>\n",
       "    </tr>\n",
       "  </tbody>\n",
       "</table>\n",
       "</div>"
      ],
      "text/plain": [
       "          f0         f1        f2     product\n",
       "0 -15.001348  -8.276000 -0.005876    3.179103\n",
       "1  14.272088  -3.475083  0.999183   26.953261\n",
       "2   6.263187  -5.948386  5.001160  134.766305\n",
       "3 -13.081196 -11.506057  4.999415  137.945408\n",
       "4  12.702195  -8.147433  5.004363  134.766305"
      ]
     },
     "metadata": {},
     "output_type": "display_data"
    },
    {
     "data": {
      "text/html": [
       "<div>\n",
       "<style scoped>\n",
       "    .dataframe tbody tr th:only-of-type {\n",
       "        vertical-align: middle;\n",
       "    }\n",
       "\n",
       "    .dataframe tbody tr th {\n",
       "        vertical-align: top;\n",
       "    }\n",
       "\n",
       "    .dataframe thead th {\n",
       "        text-align: right;\n",
       "    }\n",
       "</style>\n",
       "<table border=\"1\" class=\"dataframe\">\n",
       "  <thead>\n",
       "    <tr style=\"text-align: right;\">\n",
       "      <th></th>\n",
       "      <th>f0</th>\n",
       "      <th>f1</th>\n",
       "      <th>f2</th>\n",
       "      <th>product</th>\n",
       "    </tr>\n",
       "  </thead>\n",
       "  <tbody>\n",
       "    <tr>\n",
       "      <th>0</th>\n",
       "      <td>-1.146987</td>\n",
       "      <td>0.963328</td>\n",
       "      <td>-0.828965</td>\n",
       "      <td>27.758673</td>\n",
       "    </tr>\n",
       "    <tr>\n",
       "      <th>1</th>\n",
       "      <td>0.262778</td>\n",
       "      <td>0.269839</td>\n",
       "      <td>-2.530187</td>\n",
       "      <td>56.069697</td>\n",
       "    </tr>\n",
       "    <tr>\n",
       "      <th>2</th>\n",
       "      <td>0.194587</td>\n",
       "      <td>0.289035</td>\n",
       "      <td>-5.586433</td>\n",
       "      <td>62.871910</td>\n",
       "    </tr>\n",
       "    <tr>\n",
       "      <th>3</th>\n",
       "      <td>2.236060</td>\n",
       "      <td>-0.553760</td>\n",
       "      <td>0.930038</td>\n",
       "      <td>114.572842</td>\n",
       "    </tr>\n",
       "    <tr>\n",
       "      <th>4</th>\n",
       "      <td>-0.515993</td>\n",
       "      <td>1.716266</td>\n",
       "      <td>5.899011</td>\n",
       "      <td>149.600746</td>\n",
       "    </tr>\n",
       "  </tbody>\n",
       "</table>\n",
       "</div>"
      ],
      "text/plain": [
       "         f0        f1        f2     product\n",
       "0 -1.146987  0.963328 -0.828965   27.758673\n",
       "1  0.262778  0.269839 -2.530187   56.069697\n",
       "2  0.194587  0.289035 -5.586433   62.871910\n",
       "3  2.236060 -0.553760  0.930038  114.572842\n",
       "4 -0.515993  1.716266  5.899011  149.600746"
      ]
     },
     "metadata": {},
     "output_type": "display_data"
    }
   ],
   "source": [
    "# удаляем идентификаторы\n",
    "df_0 = df_0.drop(\"id\", axis=1)\n",
    "df_1 = df_1.drop(\"id\", axis=1)    \n",
    "df_2 = df_2.drop(\"id\", axis=1)\n",
    "\n",
    "display(df_0.head())\n",
    "display(df_1.head())    \n",
    "display(df_2.head()) "
   ]
  },
  {
   "cell_type": "code",
   "execution_count": 58,
   "metadata": {
    "scrolled": false
   },
   "outputs": [
    {
     "data": {
      "text/plain": [
       "<AxesSubplot:>"
      ]
     },
     "execution_count": 58,
     "metadata": {},
     "output_type": "execute_result"
    },
    {
     "data": {
      "image/png": "[encoded data removed]",
      "text/plain": [
       "<Figure size 432x288 with 1 Axes>"
      ]
     },
     "metadata": {
      "needs_background": "light"
     },
     "output_type": "display_data"
    },
    {
     "data": {
      "image/png": "[encoded data removed]",
      "text/plain": [
       "<Figure size 432x288 with 1 Axes>"
      ]
     },
     "metadata": {
      "needs_background": "light"
     },
     "output_type": "display_data"
    },
    {
     "data": {
      "image/png": "[encoded data removed]",
      "text/plain": [
       "<Figure size 432x288 with 1 Axes>"
      ]
     },
     "metadata": {
      "needs_background": "light"
     },
     "output_type": "display_data"
    }
   ],
   "source": [
    "# смотрим распределение целевого признака\n",
    "df_0[\"product\"].hist(bins=100)\n",
    "plt.figure()\n",
    "df_1[\"product\"].hist(bins=100)\n",
    "plt.figure()\n",
    "df_2[\"product\"].hist(bins=100)"
   ]
  },
  {
   "cell_type": "markdown",
   "metadata": {},
   "source": [
    "Распределение \"шестипалая нога\" не внушает доверия, но если не всматриваться, то стремится к нормальному. во втором регионе значения распределены равномерно. Присмотримся к этому распределению"
   ]
  },
  {
   "cell_type": "code",
   "execution_count": 59,
   "metadata": {
    "scrolled": true
   },
   "outputs": [
    {
     "data": {
      "text/plain": [
       "array([  3.17910258,  26.95326103, 134.76630516, 137.94540774,\n",
       "        84.03888568, 110.99214671,  53.90652206,   0.        ,\n",
       "       107.81304413,  57.08562465,  30.13236361,  80.85978309])"
      ]
     },
     "execution_count": 59,
     "metadata": {},
     "output_type": "execute_result"
    }
   ],
   "source": [
    "df_1[\"product\"].unique()"
   ]
  },
  {
   "cell_type": "markdown",
   "metadata": {},
   "source": [
    "Мы имеем всего 12 уникальных значений с двумя значениями интервалов. Такое распределение можно было бы свести к задачи классификации, но исследование предполагает использование одного типа моделей - линейной регрессии.\n",
    "Данные синтетические, так что строить предположения по распределениям - бессмысленно."
   ]
  },
  {
   "cell_type": "markdown",
   "metadata": {},
   "source": [
    "### Вывод"
   ]
  },
  {
   "cell_type": "markdown",
   "metadata": {},
   "source": [
    "По итогам предобработки были выявлены дубликаты уникальных айди месторождений, но остальные данные не имели сходств. Так же была обнаружена существенная разница в распределении значений между вторым и двумя другими регионами. Я бы обратился к заказчику, чтобы узнать, с чем связано столь малое разнообразие и равномерное распределение значений целевово признака одного из регионов"
   ]
  },
  {
   "cell_type": "markdown",
   "metadata": {},
   "source": [
    "<div class=\"alert alert-block alert-success\">\n",
    "<b>✔️ Комментарий ревьюера:</b> Согласен с выводом\n",
    "</div>"
   ]
  },
  {
   "cell_type": "markdown",
   "metadata": {},
   "source": [
    "## Обучение и проверка модели"
   ]
  },
  {
   "cell_type": "code",
   "execution_count": 60,
   "metadata": {
    "scrolled": true
   },
   "outputs": [],
   "source": [
    "# обучаем 3 модели\n",
    "dfs =[df_0, df_1, df_2]  #создаем список датасетов\n",
    "\n",
    "def ml(dfs:list):\n",
    "    \"\"\"функция возвращает 5 списков: обученных моделей,\n",
    "    значений rmse и r2 для каждой модели и списки \n",
    "    реальных значений и предсказаний по тестовой выборке\"\"\"\n",
    "#     создаем списки\n",
    "    models_list = []\n",
    "    rmse_list = []\n",
    "    r2_list = []\n",
    "    y_valid_list = []\n",
    "    predictions_list = []\n",
    "    \n",
    "    for i in range(len(dfs)):\n",
    "#         делим на тренировочную и тестовую выборки\n",
    "        features = dfs[i].drop(\"product\", axis=1)\n",
    "        target = dfs[i][\"product\"]\n",
    "    #     scaler = StandardScaler()\n",
    "    #     features = scaler.fit_transform(features)\n",
    "        X_train, X_valid, y_train, y_valid = train_test_split(features, target, test_size=0.25, random_state=12345)\n",
    "    #     scaler = StandardScaler()\n",
    "    #     scaler.fit(X_train)\n",
    "    #     X_train = scaler.transform(X_train)\n",
    "    #     X_valid= scaler.transform(X_valid)\n",
    "#     создаем и обучаем линейную регрессию, делаем предсказания\n",
    "        model = LinearRegression()\n",
    "        model.fit(X_train, y_train)\n",
    "        predictions = pd.Series(model.predict(X_valid)) # переводим предсказания в нужный формат\n",
    "#         получаем метрики качества\n",
    "        rmse = mean_squared_error(y_valid, predictions, squared=False)\n",
    "        r2 = r2_score(y_valid, predictions)\n",
    "        y_valid = y_valid.reset_index(drop=True) #сбрасываем индексы целевого признака\n",
    "#         заполняем списки\n",
    "        models_list.append(model)\n",
    "        rmse_list.append(rmse)\n",
    "        r2_list.append(r2)\n",
    "        y_valid_list.append(y_valid)\n",
    "        predictions_list.append(predictions)\n",
    "    print(f\"{models_list} \\n{len(y_valid_list), len(predictions_list)} \\n{rmse_list} \\n{r2_list}\")    \n",
    "    return models_list, y_valid_list, predictions_list, rmse_list, r2_list\n",
    "\n"
   ]
  },
  {
   "cell_type": "markdown",
   "metadata": {},
   "source": [
    "<div class=\"alert alert-block alert-warning\">\n",
    "<b>⚠️ Комментарий ревьюера: </b>  RMSE можно посчитать, задав параметр squared=False у функции mean_squared_error\n",
    "</div>"
   ]
  },
  {
   "cell_type": "markdown",
   "metadata": {},
   "source": [
    "<div class=\"alert alert-block alert-info\">\n",
    "<b>Комментарий студента:</b> Понял. Сделал. Не знал\n",
    "</div>"
   ]
  },
  {
   "cell_type": "markdown",
   "metadata": {},
   "source": [
    "<div class=\"alert alert-block alert-success\">\n",
    "<b>✔️ Комментарий ревьюера v2: </b> Супер!\n",
    "</div>"
   ]
  },
  {
   "cell_type": "code",
   "execution_count": 61,
   "metadata": {},
   "outputs": [
    {
     "name": "stdout",
     "output_type": "stream",
     "text": [
      "[LinearRegression(), LinearRegression(), LinearRegression()] \n",
      "(3, 3) \n",
      "[37.5794217150813, 0.893099286775617, 40.02970873393434] \n",
      "[0.27994321524487786, 0.9996233978805127, 0.20524758386040443]\n"
     ]
    },
    {
     "data": {
      "text/plain": [
       "[(25000,), (25000,), (25000,)]"
      ]
     },
     "metadata": {},
     "output_type": "display_data"
    },
    {
     "data": {
      "text/plain": [
       "[(25000,), (25000,), (25000,)]"
      ]
     },
     "metadata": {},
     "output_type": "display_data"
    },
    {
     "data": {
      "text/plain": [
       "[0     10.038645\n",
       " 1    114.551489\n",
       " 2    132.603635\n",
       " 3    169.072125\n",
       " 4    122.325180\n",
       " Name: product, dtype: float64,\n",
       " 0    80.859783\n",
       " 1    53.906522\n",
       " 2    30.132364\n",
       " 3    53.906522\n",
       " 4     0.000000\n",
       " Name: product, dtype: float64,\n",
       " 0     61.212375\n",
       " 1     41.850118\n",
       " 2     57.776581\n",
       " 3    100.053761\n",
       " 4    109.897122\n",
       " Name: product, dtype: float64]"
      ]
     },
     "metadata": {},
     "output_type": "display_data"
    },
    {
     "data": {
      "text/plain": [
       "[0    95.894952\n",
       " 1    77.572583\n",
       " 2    77.892640\n",
       " 3    90.175134\n",
       " 4    70.510088\n",
       " dtype: float64,\n",
       " 0    82.663314\n",
       " 1    54.431786\n",
       " 2    29.748760\n",
       " 3    53.552133\n",
       " 4     1.243856\n",
       " dtype: float64,\n",
       " 0     93.599633\n",
       " 1     75.105159\n",
       " 2     90.066809\n",
       " 3    105.162375\n",
       " 4    115.303310\n",
       " dtype: float64]"
      ]
     },
     "metadata": {},
     "output_type": "display_data"
    }
   ],
   "source": [
    "# запускаем и проверяем результаты работы функции\n",
    "models_list, y_valid_list, predictions_list, rmse_list, r2_list = ml(dfs)\n",
    "display([x.shape for x in y_valid_list])\n",
    "display([x.shape for x in predictions_list])\n",
    "display([x.head() for x in y_valid_list])\n",
    "display([x.head() for x in predictions_list])"
   ]
  },
  {
   "cell_type": "markdown",
   "metadata": {},
   "source": [
    "все работает"
   ]
  },
  {
   "cell_type": "code",
   "execution_count": null,
   "metadata": {},
   "outputs": [],
   "source": []
  },
  {
   "cell_type": "code",
   "execution_count": 62,
   "metadata": {},
   "outputs": [
    {
     "data": {
      "text/html": [
       "<div>\n",
       "<style scoped>\n",
       "    .dataframe tbody tr th:only-of-type {\n",
       "        vertical-align: middle;\n",
       "    }\n",
       "\n",
       "    .dataframe tbody tr th {\n",
       "        vertical-align: top;\n",
       "    }\n",
       "\n",
       "    .dataframe thead th {\n",
       "        text-align: right;\n",
       "    }\n",
       "</style>\n",
       "<table border=\"1\" class=\"dataframe\">\n",
       "  <thead>\n",
       "    <tr style=\"text-align: right;\">\n",
       "      <th></th>\n",
       "      <th>region</th>\n",
       "      <th>rmse</th>\n",
       "      <th>r2</th>\n",
       "      <th>pred_mean</th>\n",
       "      <th>real_mean</th>\n",
       "    </tr>\n",
       "  </thead>\n",
       "  <tbody>\n",
       "    <tr>\n",
       "      <th>0</th>\n",
       "      <td>регион 1</td>\n",
       "      <td>37.579422</td>\n",
       "      <td>0.279943</td>\n",
       "      <td>92.592568</td>\n",
       "      <td>92.500</td>\n",
       "    </tr>\n",
       "    <tr>\n",
       "      <th>1</th>\n",
       "      <td>регион 2</td>\n",
       "      <td>0.893099</td>\n",
       "      <td>0.999623</td>\n",
       "      <td>68.728547</td>\n",
       "      <td>68.825</td>\n",
       "    </tr>\n",
       "    <tr>\n",
       "      <th>2</th>\n",
       "      <td>регион 3</td>\n",
       "      <td>40.029709</td>\n",
       "      <td>0.205248</td>\n",
       "      <td>94.965046</td>\n",
       "      <td>95.000</td>\n",
       "    </tr>\n",
       "  </tbody>\n",
       "</table>\n",
       "</div>"
      ],
      "text/plain": [
       "     region       rmse        r2  pred_mean  real_mean\n",
       "0  регион 1  37.579422  0.279943  92.592568     92.500\n",
       "1  регион 2   0.893099  0.999623  68.728547     68.825\n",
       "2  регион 3  40.029709  0.205248  94.965046     95.000"
      ]
     },
     "execution_count": 62,
     "metadata": {},
     "output_type": "execute_result"
    }
   ],
   "source": [
    "# сводим данные в табличку\n",
    "df = pd.DataFrame()\n",
    "df[\"region\"] = [\"регион 1\", \"регион 2\", \"регион 3\"]\n",
    "df[\"rmse\"] = rmse_list\n",
    "df[\"r2\"] = r2_list\n",
    "pred_mean_list = [x.mean() for x in predictions_list]\n",
    "df[\"pred_mean\"] = pred_mean_list\n",
    "real_mean_list = [x[\"product\"].mean() for x in dfs]\n",
    "df[\"real_mean\"] = real_mean_list\n",
    "df.head()"
   ]
  },
  {
   "cell_type": "code",
   "execution_count": 63,
   "metadata": {
    "scrolled": false
   },
   "outputs": [
    {
     "name": "stdout",
     "output_type": "stream",
     "text": [
      "Средний запас предсказанного сырья в регионе №1: 92.59, \n",
      "RMSE: 37.58\n",
      "\n",
      "Средний запас предсказанного сырья в регионе №2: 68.73, \n",
      "RMSE: 0.89\n",
      "\n",
      "Средний запас предсказанного сырья в регионе №3: 94.97, \n",
      "RMSE: 40.03\n",
      "\n"
     ]
    }
   ],
   "source": [
    "# печатаем средний объём предсказанного сырья и RMSE\n",
    "for i in range(3):\n",
    "    print(f\"Средний запас предсказанного сырья в регионе №{i+1}: {pred_mean_list[i]:.2f}, \\nRMSE: {rmse_list[i]:.2f}\\n\")\n",
    "# print(f\"Средний запас предсказанного сырья в регионе №1: {predictions_1.mean():.2f}, \\nRMSE: {rmse_1:.2f}\\n\")\n",
    "# print(f\"Средний запас предсказанного сырья в регионе №1: {predictions_2.mean():.2f}, \\nRMSE: {rmse_2:.2f}\\n\")\n"
   ]
  },
  {
   "cell_type": "markdown",
   "metadata": {},
   "source": [
    "### Вывод"
   ]
  },
  {
   "cell_type": "markdown",
   "metadata": {},
   "source": [
    "были созданы, обычены и оценены  модели линейной регрессии для каждого из 3 регионов. Высокие метрики качества только во втором регионе при этом самое низкое среднее значение предсказаний целевого признака, что было видно из гистограммы. Высокие метрики качества второй модели связаны с вышеупомянутыми особенностями распределения целевого признака (равномерность распределения, многократно повторяющиеся значения) "
   ]
  },
  {
   "cell_type": "markdown",
   "metadata": {},
   "source": [
    "<div class=\"alert alert-block alert-warning\">\n",
    "<b>⚠️ Комментарий ревьюера: </b>  Низкий RMSE не из-за распределения целевого признака. Здесь ключевую роль играет сильная линейная зависимость между целевой переменной и одним из признаков. Предлагаю это проверить с помощью коэффициента корреляции.\n",
    "</div>"
   ]
  },
  {
   "cell_type": "markdown",
   "metadata": {},
   "source": [
    "<div class=\"alert alert-block alert-info\">\n",
    "<b>Комментарий студента:</b> Ща будет\n",
    "</div>"
   ]
  },
  {
   "cell_type": "code",
   "execution_count": 64,
   "metadata": {
    "scrolled": false
   },
   "outputs": [
    {
     "name": "stdout",
     "output_type": "stream",
     "text": [
      "коэффиценты корреляции Пирсона с целевым признаком в 1 регионе\n",
      "f0         0.143536\n",
      "f1        -0.192356\n",
      "f2         0.483663\n",
      "product    1.000000\n",
      "Name: product, dtype: float64\n",
      "коэффиценты корреляции Пирсона с целевым признаком в 2 регионе\n",
      "f0        -0.030491\n",
      "f1        -0.010155\n",
      "f2         0.999397\n",
      "product    1.000000\n",
      "Name: product, dtype: float64\n",
      "коэффиценты корреляции Пирсона с целевым признаком в 3 регионе\n",
      "f0        -0.001987\n",
      "f1        -0.001012\n",
      "f2         0.445871\n",
      "product    1.000000\n",
      "Name: product, dtype: float64\n"
     ]
    },
    {
     "data": {
      "image/png": "[encoded data removed]",
      "text/plain": [
       "<Figure size 720x360 with 2 Axes>"
      ]
     },
     "metadata": {
      "needs_background": "light"
     },
     "output_type": "display_data"
    },
    {
     "data": {
      "image/png": "[encoded data removed]",
      "text/plain": [
       "<Figure size 720x360 with 2 Axes>"
      ]
     },
     "metadata": {
      "needs_background": "light"
     },
     "output_type": "display_data"
    },
    {
     "data": {
      "image/png": "[encoded data removed]",
      "text/plain": [
       "<Figure size 720x360 with 2 Axes>"
      ]
     },
     "metadata": {
      "needs_background": "light"
     },
     "output_type": "display_data"
    }
   ],
   "source": [
    "x = 1\n",
    "for d in dfs:\n",
    "    print(f\"коэффиценты корреляции Пирсона с целевым признаком в {x} регионе\")\n",
    "    corr = d.corr()[\"product\"]\n",
    "    print(corr)\n",
    "    plt.figure(figsize=(10, 5))\n",
    "    plt.title(f\"корреляци пирсона между признаками в {x} регионе\")\n",
    "    sns.heatmap(d.corr(), annot=True, fmt=\".3g\", cmap=\"Blues\", linewidths=1, linecolor=\"gray\")\n",
    "    x += 1\n",
    "    \n",
    "    "
   ]
  },
  {
   "cell_type": "markdown",
   "metadata": {},
   "source": [
    "Наблюдается крайне сильная линейная зависимость между одним из признаков и целевым признаком во втором регионе, чем и обусловлены высокие значения метрик качества на его модели"
   ]
  },
  {
   "cell_type": "markdown",
   "metadata": {},
   "source": [
    "<div class=\"alert alert-block alert-success\">\n",
    "<b>✔️ Комментарий ревьюера v2: </b> Да, всё верно\n",
    "</div>"
   ]
  },
  {
   "cell_type": "markdown",
   "metadata": {},
   "source": [
    "## Подготовка к расчёту прибыли"
   ]
  },
  {
   "cell_type": "code",
   "execution_count": 65,
   "metadata": {},
   "outputs": [],
   "source": [
    "# исходя из имеющихся данных создаем необходимые переменные \n",
    "EXPLORATION_POINTS = 500 # количество исследуемых точек\n",
    "OILWELLS_NUM = 200 # количество скважин\n",
    "BUDGET = 10_000_000_000 # бюджет на 200 скважин\n",
    "THOUSAND_BARRELS_INCOME = 450_000 # доход с тысячи баррелей"
   ]
  },
  {
   "cell_type": "markdown",
   "metadata": {},
   "source": [
    "<div class=\"alert alert-block alert-warning\">\n",
    "<b>⚠️ Комментарий ревьюера: </b> Константы в python принято задавать в верхнем регистре. Например, PI=3.14. Предлагаю это поправить.\n",
    "\n",
    "https://github.com/earlgreyness/python-code-conventions\n",
    "</div>"
   ]
  },
  {
   "cell_type": "markdown",
   "metadata": {},
   "source": [
    "<div class=\"alert alert-block alert-info\">\n",
    "<b>Комментарий студента:</b> был неправ\n",
    "</div>"
   ]
  },
  {
   "cell_type": "markdown",
   "metadata": {},
   "source": [
    "<div class=\"alert alert-block alert-success\">\n",
    "<b>✔️ Комментарий ревьюера v2: </b> 👌🏻\n",
    "</div>"
   ]
  },
  {
   "cell_type": "code",
   "execution_count": 66,
   "metadata": {},
   "outputs": [
    {
     "name": "stdout",
     "output_type": "stream",
     "text": [
      "объем сырья для безубыточной разработки одной скважины: 111.11 тысяч баррелей\n",
      "объем сырья для безубыточной разработки двухсот скважин: 22222.22 тысяч баррелей\n"
     ]
    }
   ],
   "source": [
    "# достаточный объём для безубытка\n",
    "breakeven = BUDGET / THOUSAND_BARRELS_INCOME\n",
    "breakeven_one = BUDGET / (OILWELLS_NUM * THOUSAND_BARRELS_INCOME)\n",
    "print(f\"объем сырья для безубыточной разработки одной скважины: {breakeven_one:.2f} тысяч баррелей\")\n",
    "print(f\"объем сырья для безубыточной разработки двухсот скважин: {breakeven:.2f} тысяч баррелей\")"
   ]
  },
  {
   "cell_type": "code",
   "execution_count": 67,
   "metadata": {},
   "outputs": [
    {
     "data": {
      "text/html": [
       "<div>\n",
       "<style scoped>\n",
       "    .dataframe tbody tr th:only-of-type {\n",
       "        vertical-align: middle;\n",
       "    }\n",
       "\n",
       "    .dataframe tbody tr th {\n",
       "        vertical-align: top;\n",
       "    }\n",
       "\n",
       "    .dataframe thead th {\n",
       "        text-align: right;\n",
       "    }\n",
       "</style>\n",
       "<table border=\"1\" class=\"dataframe\">\n",
       "  <thead>\n",
       "    <tr style=\"text-align: right;\">\n",
       "      <th></th>\n",
       "      <th>region</th>\n",
       "      <th>rmse</th>\n",
       "      <th>r2</th>\n",
       "      <th>pred_mean</th>\n",
       "      <th>real_mean</th>\n",
       "      <th>mean_prod_share_of_required</th>\n",
       "    </tr>\n",
       "  </thead>\n",
       "  <tbody>\n",
       "    <tr>\n",
       "      <th>0</th>\n",
       "      <td>регион 1</td>\n",
       "      <td>37.579422</td>\n",
       "      <td>0.279943</td>\n",
       "      <td>92.592568</td>\n",
       "      <td>92.500</td>\n",
       "      <td>0.83</td>\n",
       "    </tr>\n",
       "    <tr>\n",
       "      <th>1</th>\n",
       "      <td>регион 2</td>\n",
       "      <td>0.893099</td>\n",
       "      <td>0.999623</td>\n",
       "      <td>68.728547</td>\n",
       "      <td>68.825</td>\n",
       "      <td>0.62</td>\n",
       "    </tr>\n",
       "    <tr>\n",
       "      <th>2</th>\n",
       "      <td>регион 3</td>\n",
       "      <td>40.029709</td>\n",
       "      <td>0.205248</td>\n",
       "      <td>94.965046</td>\n",
       "      <td>95.000</td>\n",
       "      <td>0.86</td>\n",
       "    </tr>\n",
       "  </tbody>\n",
       "</table>\n",
       "</div>"
      ],
      "text/plain": [
       "     region       rmse        r2  pred_mean  real_mean  \\\n",
       "0  регион 1  37.579422  0.279943  92.592568     92.500   \n",
       "1  регион 2   0.893099  0.999623  68.728547     68.825   \n",
       "2  регион 3  40.029709  0.205248  94.965046     95.000   \n",
       "\n",
       "   mean_prod_share_of_required  \n",
       "0                         0.83  \n",
       "1                         0.62  \n",
       "2                         0.86  "
      ]
     },
     "execution_count": 67,
     "metadata": {},
     "output_type": "execute_result"
    }
   ],
   "source": [
    "# находим долю среднего запаса каждго региона от необходимого объема для безубыточной разработки\n",
    "mean_share_of_required = [(x[\"product\"].mean() / breakeven_one).round(2) for x in dfs]\n",
    "# добавляем в таблицу с данными\n",
    "df[\"mean_prod_share_of_required\"] = mean_share_of_required\n",
    "df.head()"
   ]
  },
  {
   "cell_type": "markdown",
   "metadata": {},
   "source": [
    "среднее месторождение в 3 регионах дает 83, 62 и 86 процентов от требуемого для безубытка сырья. создадим функцию для подсчета прибыли и посчитаем, сколько дают 200 лучших из тестовой выборки "
   ]
  },
  {
   "cell_type": "markdown",
   "metadata": {},
   "source": [
    "<div class=\"alert alert-block alert-success\">\n",
    "<b>✔️ Комментарий ревьюера️: </b> Да, хорошо\n",
    "</div>"
   ]
  },
  {
   "cell_type": "markdown",
   "metadata": {},
   "source": [
    "## Расчёт прибыли и рисков "
   ]
  },
  {
   "cell_type": "code",
   "execution_count": 68,
   "metadata": {},
   "outputs": [
    {
     "data": {
      "text/plain": [
       "[13.320826043, 12.415086697, 12.710349964]"
      ]
     },
     "metadata": {},
     "output_type": "display_data"
    },
    {
     "data": {
      "text/html": [
       "<div>\n",
       "<style scoped>\n",
       "    .dataframe tbody tr th:only-of-type {\n",
       "        vertical-align: middle;\n",
       "    }\n",
       "\n",
       "    .dataframe tbody tr th {\n",
       "        vertical-align: top;\n",
       "    }\n",
       "\n",
       "    .dataframe thead th {\n",
       "        text-align: right;\n",
       "    }\n",
       "</style>\n",
       "<table border=\"1\" class=\"dataframe\">\n",
       "  <thead>\n",
       "    <tr style=\"text-align: right;\">\n",
       "      <th></th>\n",
       "      <th>region</th>\n",
       "      <th>rmse</th>\n",
       "      <th>r2</th>\n",
       "      <th>pred_mean</th>\n",
       "      <th>real_mean</th>\n",
       "      <th>mean_prod_share_of_required</th>\n",
       "      <th>best_200_revenue</th>\n",
       "    </tr>\n",
       "  </thead>\n",
       "  <tbody>\n",
       "    <tr>\n",
       "      <th>0</th>\n",
       "      <td>регион 1</td>\n",
       "      <td>37.579422</td>\n",
       "      <td>0.279943</td>\n",
       "      <td>92.592568</td>\n",
       "      <td>92.500</td>\n",
       "      <td>0.83</td>\n",
       "      <td>13.320826</td>\n",
       "    </tr>\n",
       "    <tr>\n",
       "      <th>1</th>\n",
       "      <td>регион 2</td>\n",
       "      <td>0.893099</td>\n",
       "      <td>0.999623</td>\n",
       "      <td>68.728547</td>\n",
       "      <td>68.825</td>\n",
       "      <td>0.62</td>\n",
       "      <td>12.415087</td>\n",
       "    </tr>\n",
       "    <tr>\n",
       "      <th>2</th>\n",
       "      <td>регион 3</td>\n",
       "      <td>40.029709</td>\n",
       "      <td>0.205248</td>\n",
       "      <td>94.965046</td>\n",
       "      <td>95.000</td>\n",
       "      <td>0.86</td>\n",
       "      <td>12.710350</td>\n",
       "    </tr>\n",
       "  </tbody>\n",
       "</table>\n",
       "</div>"
      ],
      "text/plain": [
       "     region       rmse        r2  pred_mean  real_mean  \\\n",
       "0  регион 1  37.579422  0.279943  92.592568     92.500   \n",
       "1  регион 2   0.893099  0.999623  68.728547     68.825   \n",
       "2  регион 3  40.029709  0.205248  94.965046     95.000   \n",
       "\n",
       "   mean_prod_share_of_required  best_200_revenue  \n",
       "0                         0.83         13.320826  \n",
       "1                         0.62         12.415087  \n",
       "2                         0.86         12.710350  "
      ]
     },
     "execution_count": 68,
     "metadata": {},
     "output_type": "execute_result"
    }
   ],
   "source": [
    "# функция выручки\n",
    "def revenue(target, predictions, count):\n",
    "    \"\"\"функция возвращает истинную суммарную выручку заданного количества\n",
    "    месторождений с наибольшими значениями предсказаний объема ресурсов \"\"\"\n",
    "    predictions_sorted = predictions.sort_values(ascending=False)\n",
    "    top_predicted = target[predictions_sorted.index][:count]\n",
    "    \n",
    "    return top_predicted.sum() * THOUSAND_BARRELS_INCOME\n",
    "# считаем выручку лучших 200\n",
    "revenue_list = []\n",
    "for i in range(len(y_valid_list)):\n",
    "    t = y_valid_list[i]\n",
    "    p = predictions_list[i]\n",
    "    # для удобства сокращаем копейки и переводим в миллиарды\n",
    "    revenue_list.append(((revenue(t, p, OILWELLS_NUM)).round()) /1000000000) \n",
    "display(revenue_list)\n",
    "df[\"best_200_revenue\"] = revenue_list\n",
    "df"
   ]
  },
  {
   "cell_type": "markdown",
   "metadata": {},
   "source": [
    "лучшие результаты нас вполне устраивают, превышая уровень безубытка на 2-3 миллиарда рублей. необходимо проверить, какие результаты будут получены при случайном выборе 500 точек и отборе лучших 200 среди них. Для этого применим технику Boot Strap"
   ]
  },
  {
   "cell_type": "markdown",
   "metadata": {},
   "source": [
    "<div class=\"alert alert-block alert-success\">\n",
    "<b>✔️ Комментарий ревьюера️: </b> Отлично, движемся дальше\n",
    "</div>"
   ]
  },
  {
   "cell_type": "markdown",
   "metadata": {},
   "source": [
    "## Boot Strap"
   ]
  },
  {
   "cell_type": "code",
   "execution_count": 69,
   "metadata": {},
   "outputs": [],
   "source": [
    "state = np.random.RandomState(12345)\n",
    "\n",
    "def bootstrap(y_valid:list, predictions:list):\n",
    "    \"\"\"функция возвращает список списков  из 1000 средних значений выручки \n",
    "    200 лучших из 500 случайных месторождений каждого из регионов\"\"\"\n",
    "    values_list = []\n",
    "    for i in range(len(y_valid_list)):\n",
    "        values = []\n",
    "        for _ in range(1000):\n",
    "            subsample_target = y_valid[i].sample(n=EXPLORATION_POINTS, replace=True, random_state=state)\n",
    "            subsample_predictions = predictions_list[i][subsample_target.index]\n",
    "            value = revenue(subsample_target, subsample_predictions, OILWELLS_NUM)\n",
    "            values.append(value)\n",
    "        values_list.append(pd.Series(values))\n",
    "    return values_list"
   ]
  },
  {
   "cell_type": "code",
   "execution_count": 70,
   "metadata": {},
   "outputs": [
    {
     "data": {
      "text/plain": [
       "[0      1.058509e+10\n",
       " 1      1.053639e+10\n",
       " 2      1.021108e+10\n",
       " 3      1.026528e+10\n",
       " 4      1.027199e+10\n",
       "            ...     \n",
       " 995    1.047410e+10\n",
       " 996    1.085600e+10\n",
       " 997    1.078599e+10\n",
       " 998    1.035422e+10\n",
       " 999    1.019882e+10\n",
       " Length: 1000, dtype: float64,\n",
       " 0      1.039210e+10\n",
       " 1      1.012812e+10\n",
       " 2      1.012955e+10\n",
       " 3      1.051059e+10\n",
       " 4      1.055121e+10\n",
       "            ...     \n",
       " 995    1.058050e+10\n",
       " 996    1.052975e+10\n",
       " 997    1.032219e+10\n",
       " 998    1.106771e+10\n",
       " 999    1.024587e+10\n",
       " Length: 1000, dtype: float64,\n",
       " 0      1.074534e+10\n",
       " 1      1.057367e+10\n",
       " 2      1.024293e+10\n",
       " 3      1.041539e+10\n",
       " 4      1.054596e+10\n",
       "            ...     \n",
       " 995    1.042749e+10\n",
       " 996    1.017146e+10\n",
       " 997    1.033362e+10\n",
       " 998    1.076518e+10\n",
       " 999    1.001105e+10\n",
       " Length: 1000, dtype: float64]"
      ]
     },
     "execution_count": 70,
     "metadata": {},
     "output_type": "execute_result"
    }
   ],
   "source": [
    "# запускаем, проверяем\n",
    "values_list = bootstrap(y_valid_list, predictions_list)\n",
    "values_list"
   ]
  },
  {
   "cell_type": "code",
   "execution_count": 71,
   "metadata": {
    "scrolled": true
   },
   "outputs": [
    {
     "name": "stdout",
     "output_type": "stream",
     "text": [
      "95% доверительный интервал для 1 региона : 9.897909905 - 10.947976353 миллиардов рублей\n",
      "95% доверительный интервал для 2 региона : 10.128123231 - 10.953612982 миллиардов рублей\n",
      "95% доверительный интервал для 3 региона : 9.884147391 - 10.98962994 миллиардов рублей\n"
     ]
    }
   ],
   "source": [
    "# находим 95% доверительный интервал. Округляем до милливардов\n",
    "lower = [(x.quantile(0.025) / 1000000000).round(9) for x in values_list]\n",
    "higher = [(x.quantile(0.975) / 1000000000).round(9) for x in values_list]\n",
    "\n",
    "for i in range(len(lower)):\n",
    "    print(f\"95% доверительный интервал для {i+1} региона : {lower[i]} - {higher[i]} миллиардов рублей\")"
   ]
  },
  {
   "cell_type": "markdown",
   "metadata": {},
   "source": [
    "<div class=\"alert alert-block alert-danger\">\n",
    "<b>❌ Комментарий ревьюера:</b>\n",
    "Доверительный интервал расчитан не верно. По определению это будет по 2,5 процента с каждой стороны\n",
    "    \n",
    "\t.quantile(0.025)\n",
    "    .quantile(0.975)\n",
    "    \n",
    "https://cloud.prezentacii.org/19/05/146686/images/screen14.jpg\n",
    "</div>"
   ]
  },
  {
   "cell_type": "markdown",
   "metadata": {},
   "source": [
    "<div class=\"alert alert-block alert-info\">\n",
    "<b>Комментарий студента:</b> жаль ctrl-Z уже не прокатит). Так и сделал сначала. даже вывод написал, но прямо перед отправлением исправил\n",
    "</div>"
   ]
  },
  {
   "cell_type": "markdown",
   "metadata": {},
   "source": [
    "<div class=\"alert alert-block alert-success\">\n",
    "<b>✔️ Комментарий ревьюера v2: </b> Теперь верно\n",
    "</div>"
   ]
  },
  {
   "cell_type": "markdown",
   "metadata": {},
   "source": [
    "с высокой  долей вероятности 200 лучших из 500 случайных месторождений каждого региона не дадут выручки меньше 9.898, 10.128 и 9.884 миллиардов соответственно"
   ]
  },
  {
   "cell_type": "code",
   "execution_count": 72,
   "metadata": {},
   "outputs": [
    {
     "data": {
      "text/html": [
       "<div>\n",
       "<style scoped>\n",
       "    .dataframe tbody tr th:only-of-type {\n",
       "        vertical-align: middle;\n",
       "    }\n",
       "\n",
       "    .dataframe tbody tr th {\n",
       "        vertical-align: top;\n",
       "    }\n",
       "\n",
       "    .dataframe thead th {\n",
       "        text-align: right;\n",
       "    }\n",
       "</style>\n",
       "<table border=\"1\" class=\"dataframe\">\n",
       "  <thead>\n",
       "    <tr style=\"text-align: right;\">\n",
       "      <th></th>\n",
       "      <th>region</th>\n",
       "      <th>rmse</th>\n",
       "      <th>r2</th>\n",
       "      <th>pred_mean</th>\n",
       "      <th>real_mean</th>\n",
       "      <th>mean_prod_share_of_required</th>\n",
       "      <th>best_200_revenue</th>\n",
       "      <th>low_confidence_int</th>\n",
       "      <th>high_confidence_int</th>\n",
       "    </tr>\n",
       "  </thead>\n",
       "  <tbody>\n",
       "    <tr>\n",
       "      <th>0</th>\n",
       "      <td>регион 1</td>\n",
       "      <td>37.579422</td>\n",
       "      <td>0.279943</td>\n",
       "      <td>92.592568</td>\n",
       "      <td>92.500</td>\n",
       "      <td>0.83</td>\n",
       "      <td>13.320826</td>\n",
       "      <td>9.897910</td>\n",
       "      <td>10.947976</td>\n",
       "    </tr>\n",
       "    <tr>\n",
       "      <th>1</th>\n",
       "      <td>регион 2</td>\n",
       "      <td>0.893099</td>\n",
       "      <td>0.999623</td>\n",
       "      <td>68.728547</td>\n",
       "      <td>68.825</td>\n",
       "      <td>0.62</td>\n",
       "      <td>12.415087</td>\n",
       "      <td>10.128123</td>\n",
       "      <td>10.953613</td>\n",
       "    </tr>\n",
       "    <tr>\n",
       "      <th>2</th>\n",
       "      <td>регион 3</td>\n",
       "      <td>40.029709</td>\n",
       "      <td>0.205248</td>\n",
       "      <td>94.965046</td>\n",
       "      <td>95.000</td>\n",
       "      <td>0.86</td>\n",
       "      <td>12.710350</td>\n",
       "      <td>9.884147</td>\n",
       "      <td>10.989630</td>\n",
       "    </tr>\n",
       "  </tbody>\n",
       "</table>\n",
       "</div>"
      ],
      "text/plain": [
       "     region       rmse        r2  pred_mean  real_mean  \\\n",
       "0  регион 1  37.579422  0.279943  92.592568     92.500   \n",
       "1  регион 2   0.893099  0.999623  68.728547     68.825   \n",
       "2  регион 3  40.029709  0.205248  94.965046     95.000   \n",
       "\n",
       "   mean_prod_share_of_required  best_200_revenue  low_confidence_int  \\\n",
       "0                         0.83         13.320826            9.897910   \n",
       "1                         0.62         12.415087           10.128123   \n",
       "2                         0.86         12.710350            9.884147   \n",
       "\n",
       "   high_confidence_int  \n",
       "0            10.947976  \n",
       "1            10.953613  \n",
       "2            10.989630  "
      ]
     },
     "execution_count": 72,
     "metadata": {},
     "output_type": "execute_result"
    }
   ],
   "source": [
    "# добавляем в таблицу\n",
    "df[\"low_confidence_int\"] = lower\n",
    "df[\"high_confidence_int\"] = higher\n",
    "df"
   ]
  },
  {
   "cell_type": "code",
   "execution_count": 79,
   "metadata": {
    "scrolled": false
   },
   "outputs": [
    {
     "data": {
      "text/html": [
       "<div>\n",
       "<style scoped>\n",
       "    .dataframe tbody tr th:only-of-type {\n",
       "        vertical-align: middle;\n",
       "    }\n",
       "\n",
       "    .dataframe tbody tr th {\n",
       "        vertical-align: top;\n",
       "    }\n",
       "\n",
       "    .dataframe thead th {\n",
       "        text-align: right;\n",
       "    }\n",
       "</style>\n",
       "<table border=\"1\" class=\"dataframe\">\n",
       "  <thead>\n",
       "    <tr style=\"text-align: right;\">\n",
       "      <th></th>\n",
       "      <th>region</th>\n",
       "      <th>rmse</th>\n",
       "      <th>r2</th>\n",
       "      <th>pred_mean</th>\n",
       "      <th>real_mean</th>\n",
       "      <th>mean_prod_share_of_required</th>\n",
       "      <th>best_200_revenue</th>\n",
       "      <th>low_confidence_int</th>\n",
       "      <th>high_confidence_int</th>\n",
       "      <th>risk</th>\n",
       "      <th>mean_revenue</th>\n",
       "    </tr>\n",
       "  </thead>\n",
       "  <tbody>\n",
       "    <tr>\n",
       "      <th>0</th>\n",
       "      <td>регион 1</td>\n",
       "      <td>37.579422</td>\n",
       "      <td>0.279943</td>\n",
       "      <td>92.592568</td>\n",
       "      <td>92.500</td>\n",
       "      <td>0.83</td>\n",
       "      <td>13.320826</td>\n",
       "      <td>9.897910</td>\n",
       "      <td>10.947976</td>\n",
       "      <td>0.060</td>\n",
       "      <td>10.425939</td>\n",
       "    </tr>\n",
       "    <tr>\n",
       "      <th>1</th>\n",
       "      <td>регион 2</td>\n",
       "      <td>0.893099</td>\n",
       "      <td>0.999623</td>\n",
       "      <td>68.728547</td>\n",
       "      <td>68.825</td>\n",
       "      <td>0.62</td>\n",
       "      <td>12.415087</td>\n",
       "      <td>10.128123</td>\n",
       "      <td>10.953613</td>\n",
       "      <td>0.003</td>\n",
       "      <td>10.518259</td>\n",
       "    </tr>\n",
       "    <tr>\n",
       "      <th>2</th>\n",
       "      <td>регион 3</td>\n",
       "      <td>40.029709</td>\n",
       "      <td>0.205248</td>\n",
       "      <td>94.965046</td>\n",
       "      <td>95.000</td>\n",
       "      <td>0.86</td>\n",
       "      <td>12.710350</td>\n",
       "      <td>9.884147</td>\n",
       "      <td>10.989630</td>\n",
       "      <td>0.062</td>\n",
       "      <td>10.420194</td>\n",
       "    </tr>\n",
       "  </tbody>\n",
       "</table>\n",
       "</div>"
      ],
      "text/plain": [
       "     region       rmse        r2  pred_mean  real_mean  \\\n",
       "0  регион 1  37.579422  0.279943  92.592568     92.500   \n",
       "1  регион 2   0.893099  0.999623  68.728547     68.825   \n",
       "2  регион 3  40.029709  0.205248  94.965046     95.000   \n",
       "\n",
       "   mean_prod_share_of_required  best_200_revenue  low_confidence_int  \\\n",
       "0                         0.83         13.320826            9.897910   \n",
       "1                         0.62         12.415087           10.128123   \n",
       "2                         0.86         12.710350            9.884147   \n",
       "\n",
       "   high_confidence_int   risk  mean_revenue  \n",
       "0            10.947976  0.060     10.425939  \n",
       "1            10.953613  0.003     10.518259  \n",
       "2            10.989630  0.062     10.420194  "
      ]
     },
     "execution_count": 79,
     "metadata": {},
     "output_type": "execute_result"
    }
   ],
   "source": [
    "# добавляем значение рисков \n",
    "# df[\"risk_million\"] = (df[\"low_confidence_int\"] - BUDGET / 1000000000) * 1000\n",
    "risks = []\n",
    "for val in values_list:\n",
    "    risk = sum([x - BUDGET < 0 for x in val]) / 1000\n",
    "    risks.append(risk)\n",
    "    \n",
    "df[\"risk\"] = risks\n",
    "mean_revenue = [(x.mean() / 1000000000).round(9) for x in values_list]\n",
    "df[\"mean_revenue\"] = mean_revenue \n",
    "df"
   ]
  },
  {
   "cell_type": "markdown",
   "metadata": {},
   "source": [
    "во втором регионе риски почти нулевые в 1 и 3 6%. "
   ]
  },
  {
   "cell_type": "markdown",
   "metadata": {},
   "source": [
    "<div class=\"alert alert-block alert-danger\">\n",
    "<b>❌ Комментарий ревьюера: </b> Риск обычно считается в относительных, а не абсолюдных величинах. Предлагаю сделать так:\n",
    "100% * количество значений с отрицательной прибылью / 1000 (общее количество значений). Также по заданию его надо сравнить с 2,5.\n",
    "</div>"
   ]
  },
  {
   "cell_type": "markdown",
   "metadata": {},
   "source": [
    "<div class=\"alert alert-block alert-info\">\n",
    "<b>Комментарий студента:</b>долго я пытался понять смысл, и если я его все же понял, то нам требуется просто доля отрицательных значений не взирая на величину значений?\n",
    "</div>"
   ]
  },
  {
   "cell_type": "markdown",
   "metadata": {},
   "source": [
    "<div class=\"alert alert-block alert-success\">\n",
    "<b>✔️ Комментарий ревьюера v2: </b> Да, понял верно\n",
    "</div>"
   ]
  },
  {
   "cell_type": "markdown",
   "metadata": {},
   "source": [
    "## ВЫВОД"
   ]
  },
  {
   "cell_type": "markdown",
   "metadata": {},
   "source": [
    "для первого и третьего региона присутствует риск отрицательной выручки при большем истинном среднем значении объема месторождений это обусловленно низким качеством моделей линейной регрессии. Я бы рекомендовал выбрать для разработки второй регион, но только после проверки достоверности данных по объемам добычи. "
   ]
  },
  {
   "cell_type": "markdown",
   "metadata": {},
   "source": [
    "<div class=\"alert alert-block alert-success\">\n",
    "<b>✔️ Комментарий ревьюера: </b> Да, спасибо за вывод. Удобно отслеживать результат выполнения работы\n",
    "</div>"
   ]
  },
  {
   "cell_type": "markdown",
   "metadata": {},
   "source": [
    "<font color='blue'><b>Итоговый комментарий ревьюера</b></font>\n",
    "<div class=\"alert alert-block alert-success\">\n",
    "<b>✔️ Комментарий ревьюера:</b>\n",
    "Мне очень понравилась твоя работа. Спасибо тебе большое, за хорошее оформление проекта и выводы к каждому этапу работы.\n",
    "Чувствуется уверенное знание материала и владение питоном в целом. \n",
    "</div>\n",
    "<font color='blue'><b>Но нужно кое-что поправить:</b></font>\n",
    "<div class=\"alert alert-block alert-danger\">\n",
    "<ul>1) Поправить расчёт рисков</ul>\n",
    "<ul>2) Поправить доверительные интервалы</ul>\n",
    "</div>\n",
    "\n",
    "<font color='blue'><b>Осталось совсем немного, буду ждать твою работу на повторное ревью 🙂</b></font>"
   ]
  },
  {
   "cell_type": "markdown",
   "metadata": {},
   "source": [
    "<div class=\"alert alert-block alert-success\">\n",
    "<b>✔️ Комментарий ревьюера v2: </b> Спасибо за интерес к проекту. Принято. Желаю дальнейших успехов в учёбе и на работе\n",
    "</div>"
   ]
  },
  {
   "cell_type": "markdown",
   "metadata": {},
   "source": [
    "## Чек-лист готовности проекта"
   ]
  },
  {
   "cell_type": "markdown",
   "metadata": {},
   "source": [
    "Поставьте 'x' в выполненных пунктах. Далее нажмите Shift+Enter."
   ]
  },
  {
   "cell_type": "markdown",
   "metadata": {},
   "source": [
    "- [x]  Jupyter Notebook открыт\n",
    "- [ ]  Весь код выполняется без ошибок\n",
    "- [ ]  Ячейки с кодом расположены в порядке исполнения\n",
    "- [ ]  Выполнен шаг 1: данные подготовлены\n",
    "- [ ]  Выполнен шаг 2: модели обучены и проверены\n",
    "    - [ ]  Данные корректно разбиты на обучающую и валидационную выборки\n",
    "    - [ ]  Модели обучены, предсказания сделаны\n",
    "    - [ ]  Предсказания и правильные ответы на валидационной выборке сохранены\n",
    "    - [ ]  На экране напечатаны результаты\n",
    "    - [ ]  Сделаны выводы\n",
    "- [ ]  Выполнен шаг 3: проведена подготовка к расчёту прибыли\n",
    "    - [ ]  Для всех ключевых значений созданы константы Python\n",
    "    - [ ]  Посчитано минимальное среднее количество продукта в месторождениях региона, достаточное для разработки\n",
    "    - [ ]  По предыдущему пункту сделаны выводы\n",
    "    - [ ]  Написана функция расчёта прибыли\n",
    "- [ ]  Выполнен шаг 4: посчитаны риски и прибыль\n",
    "    - [ ]  Проведена процедура *Bootstrap*\n",
    "    - [ ]  Все параметры бутстрепа соответствуют условию\n",
    "    - [ ]  Найдены все нужные величины\n",
    "    - [ ]  Предложен регион для разработки месторождения\n",
    "    - [ ]  Выбор региона обоснован"
   ]
  },
  {
   "cell_type": "code",
   "execution_count": null,
   "metadata": {},
   "outputs": [],
   "source": []
  }
 ],
 "metadata": {
  "ExecuteTimeLog": [
   {
    "duration": 52,
    "start_time": "2022-07-04T06:50:31.878Z"
   },
   {
    "duration": 102,
    "start_time": "2022-07-04T06:50:38.961Z"
   },
   {
    "duration": 0,
    "start_time": "2022-07-04T06:50:39.067Z"
   },
   {
    "duration": 1677,
    "start_time": "2022-07-04T06:50:57.370Z"
   },
   {
    "duration": 985,
    "start_time": "2022-07-04T06:50:59.049Z"
   },
   {
    "duration": 33,
    "start_time": "2022-07-04T06:56:49.841Z"
   },
   {
    "duration": 6,
    "start_time": "2022-07-04T06:56:56.640Z"
   },
   {
    "duration": 581,
    "start_time": "2022-07-04T06:56:56.649Z"
   },
   {
    "duration": 37,
    "start_time": "2022-07-04T06:56:57.232Z"
   },
   {
    "duration": 559,
    "start_time": "2022-07-04T06:58:24.810Z"
   },
   {
    "duration": 127,
    "start_time": "2022-07-04T06:59:43.031Z"
   },
   {
    "duration": 23,
    "start_time": "2022-07-04T06:59:51.441Z"
   },
   {
    "duration": 13,
    "start_time": "2022-07-04T06:59:57.468Z"
   },
   {
    "duration": 16,
    "start_time": "2022-07-04T07:00:35.130Z"
   },
   {
    "duration": 4,
    "start_time": "2022-07-04T07:00:43.360Z"
   },
   {
    "duration": 559,
    "start_time": "2022-07-04T07:00:43.366Z"
   },
   {
    "duration": 49,
    "start_time": "2022-07-04T07:00:43.927Z"
   },
   {
    "duration": 32,
    "start_time": "2022-07-04T07:00:43.978Z"
   },
   {
    "duration": 4,
    "start_time": "2022-07-04T07:05:32.002Z"
   },
   {
    "duration": 557,
    "start_time": "2022-07-04T07:05:32.007Z"
   },
   {
    "duration": 69,
    "start_time": "2022-07-04T07:05:32.566Z"
   },
   {
    "duration": 50,
    "start_time": "2022-07-04T07:06:06.619Z"
   },
   {
    "duration": 522,
    "start_time": "2022-07-04T07:17:19.368Z"
   },
   {
    "duration": 37,
    "start_time": "2022-07-04T07:19:39.479Z"
   },
   {
    "duration": 5,
    "start_time": "2022-07-04T09:12:49.099Z"
   },
   {
    "duration": 716,
    "start_time": "2022-07-04T09:12:49.106Z"
   },
   {
    "duration": 55,
    "start_time": "2022-07-04T09:12:49.825Z"
   },
   {
    "duration": 24,
    "start_time": "2022-07-04T09:12:49.882Z"
   },
   {
    "duration": 44,
    "start_time": "2022-07-04T09:14:35.243Z"
   },
   {
    "duration": 41,
    "start_time": "2022-07-04T09:17:09.794Z"
   },
   {
    "duration": 7,
    "start_time": "2022-07-04T09:17:14.682Z"
   },
   {
    "duration": 785,
    "start_time": "2022-07-04T09:17:14.692Z"
   },
   {
    "duration": 61,
    "start_time": "2022-07-04T09:17:15.480Z"
   },
   {
    "duration": 53,
    "start_time": "2022-07-04T09:17:15.552Z"
   },
   {
    "duration": 50,
    "start_time": "2022-07-04T09:17:18.289Z"
   },
   {
    "duration": 9,
    "start_time": "2022-07-04T09:20:44.850Z"
   },
   {
    "duration": 45,
    "start_time": "2022-07-04T09:20:55.423Z"
   },
   {
    "duration": 7,
    "start_time": "2022-07-04T09:22:32.926Z"
   },
   {
    "duration": 46,
    "start_time": "2022-07-04T09:22:35.443Z"
   },
   {
    "duration": 4,
    "start_time": "2022-07-04T09:23:01.394Z"
   },
   {
    "duration": 48,
    "start_time": "2022-07-04T09:23:03.698Z"
   },
   {
    "duration": 4,
    "start_time": "2022-07-04T09:23:11.374Z"
   },
   {
    "duration": 751,
    "start_time": "2022-07-04T09:23:11.381Z"
   },
   {
    "duration": 46,
    "start_time": "2022-07-04T09:23:12.141Z"
   },
   {
    "duration": 5,
    "start_time": "2022-07-04T09:23:12.189Z"
   },
   {
    "duration": 42,
    "start_time": "2022-07-04T09:23:12.196Z"
   },
   {
    "duration": 4,
    "start_time": "2022-07-04T09:23:31.393Z"
   },
   {
    "duration": 51,
    "start_time": "2022-07-04T09:23:31.400Z"
   },
   {
    "duration": 5,
    "start_time": "2022-07-04T09:25:35.607Z"
   },
   {
    "duration": 18,
    "start_time": "2022-07-04T09:25:36.105Z"
   },
   {
    "duration": 7,
    "start_time": "2022-07-04T09:25:48.504Z"
   },
   {
    "duration": 14,
    "start_time": "2022-07-04T09:26:12.432Z"
   },
   {
    "duration": 4,
    "start_time": "2022-07-04T09:27:11.673Z"
   },
   {
    "duration": 36,
    "start_time": "2022-07-04T09:27:12.474Z"
   },
   {
    "duration": 38,
    "start_time": "2022-07-04T09:30:19.576Z"
   },
   {
    "duration": 18,
    "start_time": "2022-07-04T09:32:30.994Z"
   },
   {
    "duration": 45,
    "start_time": "2022-07-04T09:33:38.901Z"
   },
   {
    "duration": 46,
    "start_time": "2022-07-04T09:35:43.517Z"
   },
   {
    "duration": 35,
    "start_time": "2022-07-04T09:36:54.410Z"
   },
   {
    "duration": 41,
    "start_time": "2022-07-04T09:37:19.317Z"
   },
   {
    "duration": 4,
    "start_time": "2022-07-04T09:39:48.316Z"
   },
   {
    "duration": 674,
    "start_time": "2022-07-04T09:39:48.322Z"
   },
   {
    "duration": 50,
    "start_time": "2022-07-04T09:39:48.998Z"
   },
   {
    "duration": 40,
    "start_time": "2022-07-04T09:39:49.050Z"
   },
   {
    "duration": 31,
    "start_time": "2022-07-04T09:39:49.093Z"
   },
   {
    "duration": 7,
    "start_time": "2022-07-04T09:40:30.153Z"
   },
   {
    "duration": 265,
    "start_time": "2022-07-04T09:40:31.795Z"
   },
   {
    "duration": 539,
    "start_time": "2022-07-04T09:41:29.338Z"
   },
   {
    "duration": 281,
    "start_time": "2022-07-04T09:43:01.369Z"
   },
   {
    "duration": 5,
    "start_time": "2022-07-04T09:45:38.317Z"
   },
   {
    "duration": 259,
    "start_time": "2022-07-04T09:45:38.900Z"
   },
   {
    "duration": 4,
    "start_time": "2022-07-04T09:45:58.217Z"
   },
   {
    "duration": 420,
    "start_time": "2022-07-04T09:45:59.042Z"
   },
   {
    "duration": 4,
    "start_time": "2022-07-04T09:46:05.612Z"
   },
   {
    "duration": 389,
    "start_time": "2022-07-04T09:46:06.039Z"
   },
   {
    "duration": 5,
    "start_time": "2022-07-04T09:46:14.016Z"
   },
   {
    "duration": 258,
    "start_time": "2022-07-04T09:46:15.196Z"
   },
   {
    "duration": 4,
    "start_time": "2022-07-04T09:49:50.196Z"
   },
   {
    "duration": 698,
    "start_time": "2022-07-04T09:49:50.203Z"
   },
   {
    "duration": 60,
    "start_time": "2022-07-04T09:49:50.904Z"
   },
   {
    "duration": 34,
    "start_time": "2022-07-04T09:49:50.968Z"
   },
   {
    "duration": 453,
    "start_time": "2022-07-04T09:49:51.005Z"
   },
   {
    "duration": 4,
    "start_time": "2022-07-04T09:50:15.405Z"
   },
   {
    "duration": 679,
    "start_time": "2022-07-04T09:50:15.412Z"
   },
   {
    "duration": 48,
    "start_time": "2022-07-04T09:50:16.101Z"
   },
   {
    "duration": 25,
    "start_time": "2022-07-04T09:50:16.153Z"
   },
   {
    "duration": 276,
    "start_time": "2022-07-04T09:50:16.180Z"
   },
   {
    "duration": 5,
    "start_time": "2022-07-04T09:59:18.608Z"
   },
   {
    "duration": 305,
    "start_time": "2022-07-04T09:59:19.336Z"
   },
   {
    "duration": 6,
    "start_time": "2022-07-04T10:00:34.764Z"
   },
   {
    "duration": 1932,
    "start_time": "2022-07-04T10:00:34.772Z"
   },
   {
    "duration": 52,
    "start_time": "2022-07-04T10:00:36.707Z"
   },
   {
    "duration": 42,
    "start_time": "2022-07-04T10:00:36.761Z"
   },
   {
    "duration": 224,
    "start_time": "2022-07-04T10:00:36.806Z"
   },
   {
    "duration": 3,
    "start_time": "2022-07-04T10:02:51.801Z"
   },
   {
    "duration": 732,
    "start_time": "2022-07-04T10:02:51.806Z"
   },
   {
    "duration": 65,
    "start_time": "2022-07-04T10:02:52.540Z"
   },
   {
    "duration": 27,
    "start_time": "2022-07-04T10:02:52.607Z"
   },
   {
    "duration": 325,
    "start_time": "2022-07-04T10:02:52.637Z"
   },
   {
    "duration": 4,
    "start_time": "2022-07-04T10:05:12.612Z"
   },
   {
    "duration": 4,
    "start_time": "2022-07-04T10:05:26.945Z"
   },
   {
    "duration": 560,
    "start_time": "2022-07-04T10:05:26.952Z"
   },
   {
    "duration": 42,
    "start_time": "2022-07-04T10:05:27.524Z"
   },
   {
    "duration": 6,
    "start_time": "2022-07-04T10:05:27.568Z"
   },
   {
    "duration": 383,
    "start_time": "2022-07-04T10:05:27.575Z"
   },
   {
    "duration": 5,
    "start_time": "2022-07-04T10:05:59.849Z"
   },
   {
    "duration": 642,
    "start_time": "2022-07-04T10:05:59.856Z"
   },
   {
    "duration": 37,
    "start_time": "2022-07-04T10:06:00.499Z"
   },
   {
    "duration": 40,
    "start_time": "2022-07-04T10:06:00.538Z"
   },
   {
    "duration": 388,
    "start_time": "2022-07-04T10:06:00.581Z"
   },
   {
    "duration": 5,
    "start_time": "2022-07-04T11:00:04.873Z"
   },
   {
    "duration": 911,
    "start_time": "2022-07-04T11:00:04.879Z"
   },
   {
    "duration": 85,
    "start_time": "2022-07-04T11:00:05.792Z"
   },
   {
    "duration": 7,
    "start_time": "2022-07-04T11:00:05.885Z"
   },
   {
    "duration": 480,
    "start_time": "2022-07-04T11:00:05.898Z"
   },
   {
    "duration": 10,
    "start_time": "2022-07-04T13:29:37.509Z"
   },
   {
    "duration": 42,
    "start_time": "2022-07-04T13:29:39.757Z"
   },
   {
    "duration": 1626,
    "start_time": "2022-07-04T13:29:49.525Z"
   },
   {
    "duration": 1953,
    "start_time": "2022-07-04T13:29:51.153Z"
   },
   {
    "duration": 35,
    "start_time": "2022-07-04T13:29:53.108Z"
   },
   {
    "duration": 8,
    "start_time": "2022-07-04T13:29:53.145Z"
   },
   {
    "duration": 391,
    "start_time": "2022-07-04T13:29:53.155Z"
   },
   {
    "duration": 4,
    "start_time": "2022-07-04T13:44:37.607Z"
   },
   {
    "duration": 423,
    "start_time": "2022-07-04T13:44:38.816Z"
   },
   {
    "duration": 4,
    "start_time": "2022-07-04T13:45:08.903Z"
   },
   {
    "duration": 295,
    "start_time": "2022-07-04T13:45:10.347Z"
   },
   {
    "duration": 3,
    "start_time": "2022-07-04T13:46:52.941Z"
   },
   {
    "duration": 541,
    "start_time": "2022-07-04T13:46:52.948Z"
   },
   {
    "duration": 42,
    "start_time": "2022-07-04T13:46:53.491Z"
   },
   {
    "duration": 4,
    "start_time": "2022-07-04T13:46:53.534Z"
   },
   {
    "duration": 292,
    "start_time": "2022-07-04T13:46:53.540Z"
   },
   {
    "duration": 3,
    "start_time": "2022-07-04T13:47:12.532Z"
   },
   {
    "duration": 526,
    "start_time": "2022-07-04T13:47:12.538Z"
   },
   {
    "duration": 35,
    "start_time": "2022-07-04T13:47:13.066Z"
   },
   {
    "duration": 7,
    "start_time": "2022-07-04T13:47:13.126Z"
   },
   {
    "duration": 395,
    "start_time": "2022-07-04T13:47:13.135Z"
   },
   {
    "duration": 3,
    "start_time": "2022-07-04T13:48:12.307Z"
   },
   {
    "duration": 542,
    "start_time": "2022-07-04T13:48:12.312Z"
   },
   {
    "duration": 30,
    "start_time": "2022-07-04T13:48:12.857Z"
   },
   {
    "duration": 5,
    "start_time": "2022-07-04T13:48:12.888Z"
   },
   {
    "duration": 349,
    "start_time": "2022-07-04T13:48:12.895Z"
   },
   {
    "duration": 3,
    "start_time": "2022-07-04T14:01:02.277Z"
   },
   {
    "duration": 552,
    "start_time": "2022-07-04T14:01:02.281Z"
   },
   {
    "duration": 28,
    "start_time": "2022-07-04T14:01:02.835Z"
   },
   {
    "duration": 4,
    "start_time": "2022-07-04T14:01:02.864Z"
   },
   {
    "duration": 360,
    "start_time": "2022-07-04T14:01:02.870Z"
   },
   {
    "duration": 1312,
    "start_time": "2022-07-04T14:01:26.654Z"
   },
   {
    "duration": 535,
    "start_time": "2022-07-04T14:01:27.969Z"
   },
   {
    "duration": 38,
    "start_time": "2022-07-04T14:01:28.506Z"
   },
   {
    "duration": 3,
    "start_time": "2022-07-04T14:01:28.546Z"
   },
   {
    "duration": 392,
    "start_time": "2022-07-04T14:01:28.551Z"
   },
   {
    "duration": 4,
    "start_time": "2022-07-04T14:03:01.274Z"
   },
   {
    "duration": 567,
    "start_time": "2022-07-04T14:03:01.280Z"
   },
   {
    "duration": 34,
    "start_time": "2022-07-04T14:03:01.848Z"
   },
   {
    "duration": 5,
    "start_time": "2022-07-04T14:03:01.884Z"
   },
   {
    "duration": 442,
    "start_time": "2022-07-04T14:03:01.890Z"
   },
   {
    "duration": 4,
    "start_time": "2022-07-04T14:05:44.487Z"
   },
   {
    "duration": 366,
    "start_time": "2022-07-04T14:05:44.969Z"
   },
   {
    "duration": 4,
    "start_time": "2022-07-04T14:05:59.027Z"
   },
   {
    "duration": 361,
    "start_time": "2022-07-04T14:05:59.866Z"
   },
   {
    "duration": 1307,
    "start_time": "2022-07-04T14:08:25.669Z"
   },
   {
    "duration": 517,
    "start_time": "2022-07-04T14:08:26.978Z"
   },
   {
    "duration": 41,
    "start_time": "2022-07-04T14:08:27.497Z"
   },
   {
    "duration": 4,
    "start_time": "2022-07-04T14:08:27.541Z"
   },
   {
    "duration": 383,
    "start_time": "2022-07-04T14:08:27.547Z"
   },
   {
    "duration": 1592,
    "start_time": "2022-07-05T06:24:29.266Z"
   },
   {
    "duration": 956,
    "start_time": "2022-07-05T06:24:30.861Z"
   },
   {
    "duration": 56,
    "start_time": "2022-07-05T06:24:31.819Z"
   },
   {
    "duration": 6,
    "start_time": "2022-07-05T06:24:31.879Z"
   },
   {
    "duration": 104,
    "start_time": "2022-07-05T06:24:31.887Z"
   },
   {
    "duration": 362,
    "start_time": "2022-07-05T06:25:14.802Z"
   },
   {
    "duration": 5,
    "start_time": "2022-07-05T08:03:16.149Z"
   },
   {
    "duration": 6,
    "start_time": "2022-07-05T08:05:02.916Z"
   },
   {
    "duration": 4,
    "start_time": "2022-07-05T08:48:05.185Z"
   },
   {
    "duration": 9,
    "start_time": "2022-07-05T08:50:13.444Z"
   },
   {
    "duration": 11,
    "start_time": "2022-07-05T09:00:00.470Z"
   },
   {
    "duration": 4,
    "start_time": "2022-07-05T09:31:16.743Z"
   },
   {
    "duration": 4,
    "start_time": "2022-07-05T09:31:40.812Z"
   },
   {
    "duration": 18,
    "start_time": "2022-07-05T09:32:12.235Z"
   },
   {
    "duration": 111,
    "start_time": "2022-07-05T09:34:00.513Z"
   },
   {
    "duration": 10,
    "start_time": "2022-07-05T09:34:11.482Z"
   },
   {
    "duration": 9,
    "start_time": "2022-07-05T09:34:15.442Z"
   },
   {
    "duration": 6,
    "start_time": "2022-07-05T09:34:19.342Z"
   },
   {
    "duration": 13,
    "start_time": "2022-07-05T09:34:40.832Z"
   },
   {
    "duration": 5,
    "start_time": "2022-07-05T09:39:02.384Z"
   },
   {
    "duration": 143,
    "start_time": "2022-07-07T16:04:30.943Z"
   },
   {
    "duration": 52,
    "start_time": "2022-07-07T16:04:38.075Z"
   },
   {
    "duration": 1649,
    "start_time": "2022-07-07T16:04:49.723Z"
   },
   {
    "duration": 2561,
    "start_time": "2022-07-07T16:04:51.374Z"
   },
   {
    "duration": 46,
    "start_time": "2022-07-07T16:04:53.938Z"
   },
   {
    "duration": 7,
    "start_time": "2022-07-07T16:04:53.999Z"
   },
   {
    "duration": 304,
    "start_time": "2022-07-07T16:04:54.016Z"
   },
   {
    "duration": 94,
    "start_time": "2022-07-07T16:04:54.331Z"
   },
   {
    "duration": 5,
    "start_time": "2022-07-07T16:04:54.426Z"
   },
   {
    "duration": 7,
    "start_time": "2022-07-07T16:04:54.433Z"
   },
   {
    "duration": 61,
    "start_time": "2022-07-07T16:04:54.442Z"
   },
   {
    "duration": 8,
    "start_time": "2022-07-07T16:04:54.511Z"
   },
   {
    "duration": 22,
    "start_time": "2022-07-07T16:04:54.521Z"
   },
   {
    "duration": 6,
    "start_time": "2022-07-07T16:04:54.546Z"
   },
   {
    "duration": 75,
    "start_time": "2022-07-07T16:10:25.895Z"
   },
   {
    "duration": 3,
    "start_time": "2022-07-07T16:10:33.012Z"
   },
   {
    "duration": 4,
    "start_time": "2022-07-07T16:10:33.851Z"
   },
   {
    "duration": 2,
    "start_time": "2022-07-07T16:18:49.312Z"
   },
   {
    "duration": 4,
    "start_time": "2022-07-07T16:19:00.135Z"
   },
   {
    "duration": 11,
    "start_time": "2022-07-07T16:23:12.631Z"
   },
   {
    "duration": 11,
    "start_time": "2022-07-07T16:24:05.812Z"
   },
   {
    "duration": 3,
    "start_time": "2022-07-07T16:24:13.568Z"
   },
   {
    "duration": 660,
    "start_time": "2022-07-07T16:24:13.578Z"
   },
   {
    "duration": 33,
    "start_time": "2022-07-07T16:24:14.240Z"
   },
   {
    "duration": 31,
    "start_time": "2022-07-07T16:24:14.275Z"
   },
   {
    "duration": 312,
    "start_time": "2022-07-07T16:24:14.308Z"
   },
   {
    "duration": 28,
    "start_time": "2022-07-07T16:24:14.697Z"
   },
   {
    "duration": 12,
    "start_time": "2022-07-07T16:24:14.798Z"
   },
   {
    "duration": 11,
    "start_time": "2022-07-07T16:24:14.812Z"
   },
   {
    "duration": 92,
    "start_time": "2022-07-07T16:24:14.825Z"
   },
   {
    "duration": 0,
    "start_time": "2022-07-07T16:24:14.919Z"
   },
   {
    "duration": 0,
    "start_time": "2022-07-07T16:24:14.921Z"
   },
   {
    "duration": 0,
    "start_time": "2022-07-07T16:24:14.922Z"
   },
   {
    "duration": 0,
    "start_time": "2022-07-07T16:24:14.924Z"
   },
   {
    "duration": 13,
    "start_time": "2022-07-07T16:25:15.243Z"
   },
   {
    "duration": 15,
    "start_time": "2022-07-07T16:26:17.127Z"
   },
   {
    "duration": 5,
    "start_time": "2022-07-07T16:26:31.073Z"
   },
   {
    "duration": 155,
    "start_time": "2022-07-07T16:51:06.280Z"
   },
   {
    "duration": 449,
    "start_time": "2022-07-07T16:52:16.021Z"
   },
   {
    "duration": 892,
    "start_time": "2022-07-07T16:53:10.121Z"
   },
   {
    "duration": 6,
    "start_time": "2022-07-07T16:54:38.460Z"
   },
   {
    "duration": 4648,
    "start_time": "2022-07-07T16:57:19.028Z"
   },
   {
    "duration": 794,
    "start_time": "2022-07-07T16:57:42.400Z"
   },
   {
    "duration": 12,
    "start_time": "2022-07-08T12:52:47.099Z"
   },
   {
    "duration": 12,
    "start_time": "2022-07-08T12:52:59.442Z"
   },
   {
    "duration": 11,
    "start_time": "2022-07-08T12:53:15.255Z"
   },
   {
    "duration": 7,
    "start_time": "2022-07-08T12:53:21.971Z"
   },
   {
    "duration": 16,
    "start_time": "2022-07-08T12:53:29.834Z"
   },
   {
    "duration": 7,
    "start_time": "2022-07-08T12:53:40.519Z"
   },
   {
    "duration": 10,
    "start_time": "2022-07-08T12:53:44.775Z"
   },
   {
    "duration": 13,
    "start_time": "2022-07-08T12:53:54.799Z"
   },
   {
    "duration": 6,
    "start_time": "2022-07-08T12:54:00.996Z"
   },
   {
    "duration": 1176,
    "start_time": "2022-07-08T12:54:45.943Z"
   },
   {
    "duration": 861,
    "start_time": "2022-07-08T12:55:01.789Z"
   },
   {
    "duration": 6,
    "start_time": "2022-07-08T12:55:15.172Z"
   },
   {
    "duration": 10,
    "start_time": "2022-07-08T13:03:27.153Z"
   },
   {
    "duration": 5,
    "start_time": "2022-07-08T13:03:31.926Z"
   },
   {
    "duration": 4,
    "start_time": "2022-07-08T13:04:03.986Z"
   },
   {
    "duration": 644,
    "start_time": "2022-07-08T13:04:03.996Z"
   },
   {
    "duration": 38,
    "start_time": "2022-07-08T13:04:04.643Z"
   },
   {
    "duration": 919,
    "start_time": "2022-07-08T13:04:04.707Z"
   },
   {
    "duration": 8,
    "start_time": "2022-07-08T13:04:05.628Z"
   },
   {
    "duration": 22,
    "start_time": "2022-07-08T13:04:05.639Z"
   },
   {
    "duration": 169,
    "start_time": "2022-07-08T13:04:05.663Z"
   },
   {
    "duration": 98,
    "start_time": "2022-07-08T13:04:05.908Z"
   },
   {
    "duration": 22,
    "start_time": "2022-07-08T13:04:06.008Z"
   },
   {
    "duration": 9,
    "start_time": "2022-07-08T13:04:06.032Z"
   },
   {
    "duration": 7,
    "start_time": "2022-07-08T13:04:06.043Z"
   },
   {
    "duration": 193,
    "start_time": "2022-07-08T13:04:06.052Z"
   },
   {
    "duration": 4,
    "start_time": "2022-07-08T13:04:06.247Z"
   },
   {
    "duration": 15,
    "start_time": "2022-07-08T13:04:06.253Z"
   },
   {
    "duration": 33,
    "start_time": "2022-07-08T13:04:06.271Z"
   },
   {
    "duration": 4,
    "start_time": "2022-07-08T13:04:52.915Z"
   },
   {
    "duration": 6,
    "start_time": "2022-07-08T13:05:04.697Z"
   },
   {
    "duration": 6,
    "start_time": "2022-07-08T13:07:11.179Z"
   },
   {
    "duration": 9,
    "start_time": "2022-07-08T13:08:21.754Z"
   },
   {
    "duration": 9,
    "start_time": "2022-07-08T13:50:00.450Z"
   },
   {
    "duration": 11,
    "start_time": "2022-07-08T13:50:35.816Z"
   },
   {
    "duration": 10,
    "start_time": "2022-07-08T13:51:22.157Z"
   },
   {
    "duration": 6,
    "start_time": "2022-07-08T13:51:32.432Z"
   },
   {
    "duration": 14,
    "start_time": "2022-07-08T13:51:37.299Z"
   },
   {
    "duration": 10,
    "start_time": "2022-07-08T13:51:46.678Z"
   },
   {
    "duration": 28,
    "start_time": "2022-07-08T13:57:06.682Z"
   },
   {
    "duration": 4,
    "start_time": "2022-07-08T13:58:35.549Z"
   },
   {
    "duration": 572,
    "start_time": "2022-07-08T13:58:35.558Z"
   },
   {
    "duration": 32,
    "start_time": "2022-07-08T13:58:36.132Z"
   },
   {
    "duration": 943,
    "start_time": "2022-07-08T13:58:36.165Z"
   },
   {
    "duration": 5,
    "start_time": "2022-07-08T13:58:37.110Z"
   },
   {
    "duration": 11,
    "start_time": "2022-07-08T13:58:37.117Z"
   },
   {
    "duration": 375,
    "start_time": "2022-07-08T13:58:37.130Z"
   },
   {
    "duration": 199,
    "start_time": "2022-07-08T13:58:37.507Z"
   },
   {
    "duration": 3,
    "start_time": "2022-07-08T13:58:37.708Z"
   },
   {
    "duration": 14,
    "start_time": "2022-07-08T13:58:37.713Z"
   },
   {
    "duration": 12,
    "start_time": "2022-07-08T13:58:37.730Z"
   },
   {
    "duration": 6,
    "start_time": "2022-07-08T13:58:37.745Z"
   },
   {
    "duration": 58,
    "start_time": "2022-07-08T13:58:37.753Z"
   },
   {
    "duration": 0,
    "start_time": "2022-07-08T13:58:37.813Z"
   },
   {
    "duration": 27,
    "start_time": "2022-07-08T14:04:08.402Z"
   },
   {
    "duration": 7,
    "start_time": "2022-07-08T14:11:03.686Z"
   },
   {
    "duration": 3,
    "start_time": "2022-07-08T14:11:17.954Z"
   },
   {
    "duration": 587,
    "start_time": "2022-07-08T14:11:17.959Z"
   },
   {
    "duration": 34,
    "start_time": "2022-07-08T14:11:18.548Z"
   },
   {
    "duration": 944,
    "start_time": "2022-07-08T14:11:18.584Z"
   },
   {
    "duration": 6,
    "start_time": "2022-07-08T14:11:19.532Z"
   },
   {
    "duration": 9,
    "start_time": "2022-07-08T14:11:19.540Z"
   },
   {
    "duration": 270,
    "start_time": "2022-07-08T14:11:19.550Z"
   },
   {
    "duration": 38,
    "start_time": "2022-07-08T14:11:50.656Z"
   },
   {
    "duration": 32,
    "start_time": "2022-07-08T14:12:23.190Z"
   },
   {
    "duration": 36,
    "start_time": "2022-07-08T14:12:39.158Z"
   },
   {
    "duration": 6,
    "start_time": "2022-07-08T14:13:16.566Z"
   },
   {
    "duration": 10,
    "start_time": "2022-07-08T14:13:28.962Z"
   },
   {
    "duration": 77,
    "start_time": "2022-07-08T14:13:32.824Z"
   },
   {
    "duration": 11,
    "start_time": "2022-07-08T14:13:38.454Z"
   },
   {
    "duration": 4,
    "start_time": "2022-07-08T14:13:43.146Z"
   },
   {
    "duration": 6,
    "start_time": "2022-07-08T14:14:00.830Z"
   },
   {
    "duration": 7,
    "start_time": "2022-07-08T14:14:16.524Z"
   },
   {
    "duration": 10,
    "start_time": "2022-07-08T14:14:44.224Z"
   },
   {
    "duration": 10,
    "start_time": "2022-07-08T14:15:03.550Z"
   },
   {
    "duration": 5,
    "start_time": "2022-07-08T14:16:17.270Z"
   },
   {
    "duration": 32,
    "start_time": "2022-07-08T14:16:19.135Z"
   },
   {
    "duration": 6,
    "start_time": "2022-07-08T14:16:56.114Z"
   },
   {
    "duration": 160,
    "start_time": "2022-07-08T14:16:56.758Z"
   },
   {
    "duration": 9,
    "start_time": "2022-07-08T14:16:58.514Z"
   },
   {
    "duration": 7,
    "start_time": "2022-07-08T14:26:21.156Z"
   },
   {
    "duration": 107,
    "start_time": "2022-07-08T14:26:23.593Z"
   },
   {
    "duration": 5,
    "start_time": "2022-07-08T14:26:39.499Z"
   },
   {
    "duration": 284,
    "start_time": "2022-07-08T14:26:40.926Z"
   },
   {
    "duration": 10,
    "start_time": "2022-07-08T14:26:43.438Z"
   },
   {
    "duration": 5,
    "start_time": "2022-07-08T14:27:04.454Z"
   },
   {
    "duration": 408,
    "start_time": "2022-07-08T14:27:04.902Z"
   },
   {
    "duration": 9,
    "start_time": "2022-07-08T14:27:05.630Z"
   },
   {
    "duration": 7,
    "start_time": "2022-07-08T14:28:06.094Z"
   },
   {
    "duration": 10,
    "start_time": "2022-07-08T14:28:22.658Z"
   },
   {
    "duration": 5,
    "start_time": "2022-07-08T14:28:29.959Z"
   },
   {
    "duration": 629,
    "start_time": "2022-07-08T14:28:29.969Z"
   },
   {
    "duration": 31,
    "start_time": "2022-07-08T14:28:30.600Z"
   },
   {
    "duration": 1019,
    "start_time": "2022-07-08T14:28:30.632Z"
   },
   {
    "duration": 6,
    "start_time": "2022-07-08T14:28:31.654Z"
   },
   {
    "duration": 25,
    "start_time": "2022-07-08T14:28:31.662Z"
   },
   {
    "duration": 323,
    "start_time": "2022-07-08T14:28:31.689Z"
   },
   {
    "duration": 89,
    "start_time": "2022-07-08T14:28:32.014Z"
   },
   {
    "duration": 109,
    "start_time": "2022-07-08T14:28:32.105Z"
   },
   {
    "duration": 4,
    "start_time": "2022-07-08T14:28:32.215Z"
   },
   {
    "duration": 12,
    "start_time": "2022-07-08T14:28:32.222Z"
   },
   {
    "duration": 11,
    "start_time": "2022-07-08T14:28:32.236Z"
   },
   {
    "duration": 6,
    "start_time": "2022-07-08T14:28:32.249Z"
   },
   {
    "duration": 13,
    "start_time": "2022-07-08T14:28:32.257Z"
   },
   {
    "duration": 43,
    "start_time": "2022-07-08T14:28:32.272Z"
   },
   {
    "duration": 5,
    "start_time": "2022-07-08T14:28:50.291Z"
   },
   {
    "duration": 4,
    "start_time": "2022-07-08T14:30:04.667Z"
   },
   {
    "duration": 5,
    "start_time": "2022-07-08T14:30:15.101Z"
   },
   {
    "duration": 10,
    "start_time": "2022-07-08T14:30:37.452Z"
   },
   {
    "duration": 5,
    "start_time": "2022-07-08T14:30:39.012Z"
   },
   {
    "duration": 12,
    "start_time": "2022-07-08T14:30:46.465Z"
   },
   {
    "duration": 5,
    "start_time": "2022-07-08T14:30:47.513Z"
   },
   {
    "duration": 11,
    "start_time": "2022-07-08T14:33:18.631Z"
   },
   {
    "duration": 4,
    "start_time": "2022-07-08T14:34:36.918Z"
   },
   {
    "duration": 5,
    "start_time": "2022-07-08T14:34:37.306Z"
   },
   {
    "duration": 10,
    "start_time": "2022-07-08T14:35:08.344Z"
   },
   {
    "duration": 3,
    "start_time": "2022-07-08T14:35:10.259Z"
   },
   {
    "duration": 9,
    "start_time": "2022-07-08T14:35:20.158Z"
   },
   {
    "duration": 4,
    "start_time": "2022-07-08T14:35:21.646Z"
   },
   {
    "duration": 7,
    "start_time": "2022-07-08T14:38:10.601Z"
   },
   {
    "duration": 50,
    "start_time": "2022-07-10T11:51:22.009Z"
   },
   {
    "duration": 6,
    "start_time": "2022-07-10T11:51:22.416Z"
   },
   {
    "duration": 1482,
    "start_time": "2022-07-10T11:51:26.090Z"
   },
   {
    "duration": 828,
    "start_time": "2022-07-10T11:51:27.575Z"
   },
   {
    "duration": 34,
    "start_time": "2022-07-10T11:51:28.405Z"
   },
   {
    "duration": 832,
    "start_time": "2022-07-10T11:51:28.441Z"
   },
   {
    "duration": 4,
    "start_time": "2022-07-10T11:51:29.275Z"
   },
   {
    "duration": 5,
    "start_time": "2022-07-10T11:51:29.281Z"
   },
   {
    "duration": 406,
    "start_time": "2022-07-10T11:51:29.300Z"
   },
   {
    "duration": 98,
    "start_time": "2022-07-10T11:51:29.708Z"
   },
   {
    "duration": 103,
    "start_time": "2022-07-10T11:51:29.808Z"
   },
   {
    "duration": 2,
    "start_time": "2022-07-10T11:51:29.913Z"
   },
   {
    "duration": 7,
    "start_time": "2022-07-10T11:51:29.917Z"
   },
   {
    "duration": 7,
    "start_time": "2022-07-10T11:51:29.926Z"
   },
   {
    "duration": 3,
    "start_time": "2022-07-10T11:51:29.935Z"
   },
   {
    "duration": 11,
    "start_time": "2022-07-10T11:51:29.940Z"
   },
   {
    "duration": 3,
    "start_time": "2022-07-10T11:51:29.953Z"
   },
   {
    "duration": 56,
    "start_time": "2022-07-10T11:51:29.957Z"
   },
   {
    "duration": 5,
    "start_time": "2022-07-10T11:54:23.735Z"
   },
   {
    "duration": 262,
    "start_time": "2022-07-10T11:54:25.853Z"
   },
   {
    "duration": 72,
    "start_time": "2022-07-10T11:54:50.131Z"
   },
   {
    "duration": 7,
    "start_time": "2022-07-10T11:55:02.942Z"
   },
   {
    "duration": 12,
    "start_time": "2022-07-10T11:55:32.553Z"
   },
   {
    "duration": 2,
    "start_time": "2022-07-10T11:55:34.473Z"
   },
   {
    "duration": 5,
    "start_time": "2022-07-10T11:55:35.913Z"
   },
   {
    "duration": 9,
    "start_time": "2022-07-10T11:55:36.936Z"
   },
   {
    "duration": 4,
    "start_time": "2022-07-10T11:55:38.176Z"
   },
   {
    "duration": 15,
    "start_time": "2022-07-10T11:55:39.480Z"
   },
   {
    "duration": 8,
    "start_time": "2022-07-10T11:56:02.532Z"
   },
   {
    "duration": 8,
    "start_time": "2022-07-10T11:56:47.332Z"
   },
   {
    "duration": 4,
    "start_time": "2022-07-10T11:56:48.863Z"
   },
   {
    "duration": 10,
    "start_time": "2022-07-10T12:03:25.698Z"
   },
   {
    "duration": 19,
    "start_time": "2022-07-10T12:03:30.961Z"
   },
   {
    "duration": 7,
    "start_time": "2022-07-10T12:03:31.342Z"
   },
   {
    "duration": 12,
    "start_time": "2022-07-10T12:31:01.353Z"
   },
   {
    "duration": 17,
    "start_time": "2022-07-10T12:40:39.632Z"
   },
   {
    "duration": 11,
    "start_time": "2022-07-10T12:50:06.506Z"
   },
   {
    "duration": 4,
    "start_time": "2022-07-10T12:50:12.143Z"
   },
   {
    "duration": 479,
    "start_time": "2022-07-10T12:50:12.150Z"
   },
   {
    "duration": 28,
    "start_time": "2022-07-10T12:50:12.632Z"
   },
   {
    "duration": 793,
    "start_time": "2022-07-10T12:50:12.662Z"
   },
   {
    "duration": 6,
    "start_time": "2022-07-10T12:50:13.458Z"
   },
   {
    "duration": 6,
    "start_time": "2022-07-10T12:50:13.465Z"
   },
   {
    "duration": 341,
    "start_time": "2022-07-10T12:50:13.473Z"
   },
   {
    "duration": 91,
    "start_time": "2022-07-10T12:50:13.817Z"
   },
   {
    "duration": 111,
    "start_time": "2022-07-10T12:50:13.909Z"
   },
   {
    "duration": 3,
    "start_time": "2022-07-10T12:50:14.022Z"
   },
   {
    "duration": 8,
    "start_time": "2022-07-10T12:50:14.027Z"
   },
   {
    "duration": 9,
    "start_time": "2022-07-10T12:50:14.036Z"
   },
   {
    "duration": 4,
    "start_time": "2022-07-10T12:50:14.047Z"
   },
   {
    "duration": 21,
    "start_time": "2022-07-10T12:50:14.053Z"
   },
   {
    "duration": 27,
    "start_time": "2022-07-10T12:50:14.076Z"
   },
   {
    "duration": 10,
    "start_time": "2022-07-10T12:50:14.105Z"
   },
   {
    "duration": 4,
    "start_time": "2022-07-10T12:50:27.775Z"
   },
   {
    "duration": 1344,
    "start_time": "2022-07-10T12:51:05.789Z"
   },
   {
    "duration": 1373,
    "start_time": "2022-07-10T12:53:44.774Z"
   },
   {
    "duration": 4,
    "start_time": "2022-07-10T12:54:18.467Z"
   },
   {
    "duration": 7,
    "start_time": "2022-07-10T12:54:19.561Z"
   },
   {
    "duration": 5,
    "start_time": "2022-07-10T12:58:27.644Z"
   },
   {
    "duration": 8,
    "start_time": "2022-07-10T12:59:37.048Z"
   },
   {
    "duration": 8,
    "start_time": "2022-07-10T13:00:13.712Z"
   },
   {
    "duration": 9,
    "start_time": "2022-07-10T13:01:32.539Z"
   },
   {
    "duration": 4,
    "start_time": "2022-07-10T13:02:57.345Z"
   },
   {
    "duration": 1316,
    "start_time": "2022-07-10T13:02:59.202Z"
   },
   {
    "duration": 1383,
    "start_time": "2022-07-10T13:03:24.555Z"
   },
   {
    "duration": 5,
    "start_time": "2022-07-10T13:03:34.254Z"
   },
   {
    "duration": 4102,
    "start_time": "2022-07-10T13:05:35.178Z"
   },
   {
    "duration": 3,
    "start_time": "2022-07-10T13:15:07.746Z"
   },
   {
    "duration": 3836,
    "start_time": "2022-07-10T13:15:15.781Z"
   },
   {
    "duration": 5,
    "start_time": "2022-07-10T13:15:34.035Z"
   },
   {
    "duration": 4008,
    "start_time": "2022-07-10T13:15:34.660Z"
   },
   {
    "duration": 5,
    "start_time": "2022-07-10T14:17:19.264Z"
   },
   {
    "duration": 1642,
    "start_time": "2022-07-11T06:56:28.568Z"
   },
   {
    "duration": 1791,
    "start_time": "2022-07-11T06:56:30.212Z"
   },
   {
    "duration": 34,
    "start_time": "2022-07-11T06:56:32.005Z"
   },
   {
    "duration": 820,
    "start_time": "2022-07-11T06:56:32.041Z"
   },
   {
    "duration": 6,
    "start_time": "2022-07-11T06:56:32.864Z"
   },
   {
    "duration": 7,
    "start_time": "2022-07-11T06:56:32.872Z"
   },
   {
    "duration": 427,
    "start_time": "2022-07-11T06:56:32.880Z"
   },
   {
    "duration": 99,
    "start_time": "2022-07-11T06:56:33.308Z"
   },
   {
    "duration": 7,
    "start_time": "2022-07-11T06:56:56.902Z"
   },
   {
    "duration": 5,
    "start_time": "2022-07-11T06:57:17.450Z"
   },
   {
    "duration": 6,
    "start_time": "2022-07-11T06:57:24.394Z"
   },
   {
    "duration": 6,
    "start_time": "2022-07-11T06:58:18.690Z"
   },
   {
    "duration": 5,
    "start_time": "2022-07-11T06:58:43.822Z"
   },
   {
    "duration": 115,
    "start_time": "2022-07-11T07:08:51.992Z"
   },
   {
    "duration": 3,
    "start_time": "2022-07-11T07:08:57.316Z"
   },
   {
    "duration": 4,
    "start_time": "2022-07-11T07:09:05.259Z"
   },
   {
    "duration": 4,
    "start_time": "2022-07-11T07:09:47.173Z"
   },
   {
    "duration": 5,
    "start_time": "2022-07-11T07:10:47.630Z"
   },
   {
    "duration": 4,
    "start_time": "2022-07-11T07:11:04.940Z"
   },
   {
    "duration": 6,
    "start_time": "2022-07-11T07:12:05.250Z"
   },
   {
    "duration": 11,
    "start_time": "2022-07-11T07:16:11.260Z"
   },
   {
    "duration": 8,
    "start_time": "2022-07-11T07:16:26.550Z"
   },
   {
    "duration": 8,
    "start_time": "2022-07-11T07:21:25.570Z"
   },
   {
    "duration": 4,
    "start_time": "2022-07-11T07:22:10.541Z"
   },
   {
    "duration": 8,
    "start_time": "2022-07-11T07:22:11.348Z"
   },
   {
    "duration": 8,
    "start_time": "2022-07-11T07:22:12.070Z"
   },
   {
    "duration": 9,
    "start_time": "2022-07-11T07:23:15.581Z"
   },
   {
    "duration": 9,
    "start_time": "2022-07-11T07:23:25.230Z"
   },
   {
    "duration": 75,
    "start_time": "2022-07-11T07:29:02.170Z"
   },
   {
    "duration": 9,
    "start_time": "2022-07-11T07:29:10.180Z"
   },
   {
    "duration": 6,
    "start_time": "2022-07-11T07:46:06.113Z"
   },
   {
    "duration": 433,
    "start_time": "2022-07-11T07:46:06.666Z"
   },
   {
    "duration": 407,
    "start_time": "2022-07-11T07:47:35.899Z"
   },
   {
    "duration": 416,
    "start_time": "2022-07-11T07:48:20.186Z"
   },
   {
    "duration": 334,
    "start_time": "2022-07-11T07:48:47.767Z"
   },
   {
    "duration": 366,
    "start_time": "2022-07-11T07:50:02.435Z"
   },
   {
    "duration": 375,
    "start_time": "2022-07-11T07:50:19.929Z"
   },
   {
    "duration": 6,
    "start_time": "2022-07-11T07:52:03.316Z"
   },
   {
    "duration": 356,
    "start_time": "2022-07-11T07:52:05.154Z"
   },
   {
    "duration": 7,
    "start_time": "2022-07-11T07:53:35.315Z"
   },
   {
    "duration": 340,
    "start_time": "2022-07-11T07:53:37.159Z"
   },
   {
    "duration": 7,
    "start_time": "2022-07-11T07:53:51.105Z"
   },
   {
    "duration": 358,
    "start_time": "2022-07-11T07:53:54.241Z"
   },
   {
    "duration": 431,
    "start_time": "2022-07-11T07:54:59.968Z"
   },
   {
    "duration": 298,
    "start_time": "2022-07-11T07:55:11.609Z"
   },
   {
    "duration": 351,
    "start_time": "2022-07-11T07:55:40.050Z"
   },
   {
    "duration": 356,
    "start_time": "2022-07-11T07:55:46.045Z"
   },
   {
    "duration": 318,
    "start_time": "2022-07-11T07:56:08.891Z"
   },
   {
    "duration": 8,
    "start_time": "2022-07-11T07:57:10.482Z"
   },
   {
    "duration": 3,
    "start_time": "2022-07-11T07:57:20.908Z"
   },
   {
    "duration": 590,
    "start_time": "2022-07-11T07:57:20.914Z"
   },
   {
    "duration": 37,
    "start_time": "2022-07-11T07:57:21.507Z"
   },
   {
    "duration": 906,
    "start_time": "2022-07-11T07:57:21.546Z"
   },
   {
    "duration": 6,
    "start_time": "2022-07-11T07:57:22.453Z"
   },
   {
    "duration": 8,
    "start_time": "2022-07-11T07:57:22.461Z"
   },
   {
    "duration": 435,
    "start_time": "2022-07-11T07:57:22.471Z"
   },
   {
    "duration": 9,
    "start_time": "2022-07-11T07:57:22.997Z"
   },
   {
    "duration": 1335,
    "start_time": "2022-07-11T07:58:02.458Z"
   },
   {
    "duration": 555,
    "start_time": "2022-07-11T07:58:03.795Z"
   },
   {
    "duration": 52,
    "start_time": "2022-07-11T07:58:04.352Z"
   },
   {
    "duration": 833,
    "start_time": "2022-07-11T07:58:04.406Z"
   },
   {
    "duration": 6,
    "start_time": "2022-07-11T07:58:05.241Z"
   },
   {
    "duration": 11,
    "start_time": "2022-07-11T07:58:05.248Z"
   },
   {
    "duration": 357,
    "start_time": "2022-07-11T07:58:05.260Z"
   },
   {
    "duration": 204,
    "start_time": "2022-07-11T07:58:05.697Z"
   },
   {
    "duration": 0,
    "start_time": "2022-07-11T07:58:05.902Z"
   },
   {
    "duration": 0,
    "start_time": "2022-07-11T07:58:05.904Z"
   },
   {
    "duration": 0,
    "start_time": "2022-07-11T07:58:05.905Z"
   },
   {
    "duration": 0,
    "start_time": "2022-07-11T07:58:05.906Z"
   },
   {
    "duration": 0,
    "start_time": "2022-07-11T07:58:05.907Z"
   },
   {
    "duration": 0,
    "start_time": "2022-07-11T07:58:05.908Z"
   },
   {
    "duration": 0,
    "start_time": "2022-07-11T07:58:05.910Z"
   },
   {
    "duration": 0,
    "start_time": "2022-07-11T07:58:05.910Z"
   },
   {
    "duration": 0,
    "start_time": "2022-07-11T07:58:05.911Z"
   },
   {
    "duration": 0,
    "start_time": "2022-07-11T07:58:05.912Z"
   },
   {
    "duration": 0,
    "start_time": "2022-07-11T07:58:05.913Z"
   },
   {
    "duration": 8,
    "start_time": "2022-07-11T08:00:52.197Z"
   },
   {
    "duration": 519,
    "start_time": "2022-07-11T08:01:40.080Z"
   },
   {
    "duration": 5,
    "start_time": "2022-07-11T08:03:20.050Z"
   },
   {
    "duration": 13,
    "start_time": "2022-07-11T08:05:53.202Z"
   },
   {
    "duration": 14,
    "start_time": "2022-07-11T08:06:28.601Z"
   },
   {
    "duration": 18,
    "start_time": "2022-07-11T08:07:04.201Z"
   },
   {
    "duration": 3,
    "start_time": "2022-07-11T08:08:07.321Z"
   },
   {
    "duration": 562,
    "start_time": "2022-07-11T08:08:07.327Z"
   },
   {
    "duration": 36,
    "start_time": "2022-07-11T08:08:07.891Z"
   },
   {
    "duration": 985,
    "start_time": "2022-07-11T08:08:07.930Z"
   },
   {
    "duration": 7,
    "start_time": "2022-07-11T08:08:08.917Z"
   },
   {
    "duration": 16,
    "start_time": "2022-07-11T08:08:08.927Z"
   },
   {
    "duration": 269,
    "start_time": "2022-07-11T08:08:08.945Z"
   },
   {
    "duration": 103,
    "start_time": "2022-07-11T08:08:09.299Z"
   },
   {
    "duration": 81,
    "start_time": "2022-07-11T08:22:05.816Z"
   },
   {
    "duration": 10,
    "start_time": "2022-07-11T08:23:17.322Z"
   },
   {
    "duration": 10,
    "start_time": "2022-07-11T08:23:37.174Z"
   },
   {
    "duration": 19,
    "start_time": "2022-07-11T08:26:29.454Z"
   },
   {
    "duration": 4,
    "start_time": "2022-07-11T08:27:17.975Z"
   },
   {
    "duration": 3,
    "start_time": "2022-07-11T08:28:28.783Z"
   },
   {
    "duration": 4,
    "start_time": "2022-07-11T08:28:29.623Z"
   },
   {
    "duration": 18,
    "start_time": "2022-07-11T08:34:59.496Z"
   },
   {
    "duration": 17,
    "start_time": "2022-07-11T08:35:12.498Z"
   },
   {
    "duration": 7,
    "start_time": "2022-07-11T08:36:59.241Z"
   },
   {
    "duration": 95,
    "start_time": "2022-07-11T08:37:17.597Z"
   },
   {
    "duration": 75,
    "start_time": "2022-07-11T08:37:29.519Z"
   },
   {
    "duration": 125,
    "start_time": "2022-07-11T08:37:40.917Z"
   },
   {
    "duration": 111,
    "start_time": "2022-07-11T08:37:56.847Z"
   },
   {
    "duration": 6,
    "start_time": "2022-07-11T08:38:12.039Z"
   },
   {
    "duration": 10,
    "start_time": "2022-07-11T08:38:50.676Z"
   },
   {
    "duration": 11,
    "start_time": "2022-07-11T08:39:25.647Z"
   },
   {
    "duration": 6,
    "start_time": "2022-07-11T08:40:36.255Z"
   },
   {
    "duration": 8,
    "start_time": "2022-07-11T08:40:47.493Z"
   },
   {
    "duration": 6,
    "start_time": "2022-07-11T08:45:45.994Z"
   },
   {
    "duration": 11,
    "start_time": "2022-07-11T08:48:01.766Z"
   },
   {
    "duration": 6,
    "start_time": "2022-07-11T08:48:06.889Z"
   },
   {
    "duration": 15,
    "start_time": "2022-07-11T08:48:07.207Z"
   },
   {
    "duration": 96,
    "start_time": "2022-07-11T09:09:01.074Z"
   },
   {
    "duration": 3,
    "start_time": "2022-07-11T09:16:30.631Z"
   },
   {
    "duration": 538,
    "start_time": "2022-07-11T09:16:30.636Z"
   },
   {
    "duration": 40,
    "start_time": "2022-07-11T09:16:31.176Z"
   },
   {
    "duration": 989,
    "start_time": "2022-07-11T09:16:31.218Z"
   },
   {
    "duration": 5,
    "start_time": "2022-07-11T09:16:32.210Z"
   },
   {
    "duration": 11,
    "start_time": "2022-07-11T09:16:32.216Z"
   },
   {
    "duration": 377,
    "start_time": "2022-07-11T09:16:32.229Z"
   },
   {
    "duration": 104,
    "start_time": "2022-07-11T09:16:32.608Z"
   },
   {
    "duration": 4,
    "start_time": "2022-07-11T09:16:32.715Z"
   },
   {
    "duration": 7,
    "start_time": "2022-07-11T09:16:32.722Z"
   },
   {
    "duration": 9,
    "start_time": "2022-07-11T09:16:32.732Z"
   },
   {
    "duration": 15,
    "start_time": "2022-07-11T09:16:32.742Z"
   },
   {
    "duration": 18,
    "start_time": "2022-07-11T09:16:32.759Z"
   },
   {
    "duration": 4,
    "start_time": "2022-07-11T09:16:32.799Z"
   },
   {
    "duration": 17,
    "start_time": "2022-07-11T09:16:32.805Z"
   },
   {
    "duration": 5,
    "start_time": "2022-07-11T09:18:13.902Z"
   },
   {
    "duration": 4257,
    "start_time": "2022-07-11T09:19:29.309Z"
   },
   {
    "duration": 4555,
    "start_time": "2022-07-11T09:19:45.340Z"
   },
   {
    "duration": 15,
    "start_time": "2022-07-11T09:22:13.150Z"
   },
   {
    "duration": 14,
    "start_time": "2022-07-11T09:22:27.417Z"
   },
   {
    "duration": 4,
    "start_time": "2022-07-11T09:23:38.420Z"
   },
   {
    "duration": 4672,
    "start_time": "2022-07-11T09:23:39.721Z"
   },
   {
    "duration": 15,
    "start_time": "2022-07-11T09:23:52.855Z"
   },
   {
    "duration": 10,
    "start_time": "2022-07-11T09:24:08.171Z"
   },
   {
    "duration": 10,
    "start_time": "2022-07-11T09:27:19.867Z"
   },
   {
    "duration": 8,
    "start_time": "2022-07-11T09:27:53.392Z"
   },
   {
    "duration": 13,
    "start_time": "2022-07-11T09:31:21.047Z"
   },
   {
    "duration": 10,
    "start_time": "2022-07-11T09:31:46.303Z"
   },
   {
    "duration": 9,
    "start_time": "2022-07-11T09:32:52.311Z"
   },
   {
    "duration": 13,
    "start_time": "2022-07-11T09:32:52.781Z"
   },
   {
    "duration": 9,
    "start_time": "2022-07-11T09:33:07.565Z"
   },
   {
    "duration": 10,
    "start_time": "2022-07-11T09:33:22.819Z"
   },
   {
    "duration": 13,
    "start_time": "2022-07-11T09:33:23.222Z"
   },
   {
    "duration": 9,
    "start_time": "2022-07-11T09:35:21.341Z"
   },
   {
    "duration": 9,
    "start_time": "2022-07-11T09:35:33.021Z"
   },
   {
    "duration": 15,
    "start_time": "2022-07-11T09:36:16.281Z"
   },
   {
    "duration": 9,
    "start_time": "2022-07-11T09:59:12.320Z"
   },
   {
    "duration": 11,
    "start_time": "2022-07-11T09:59:37.542Z"
   },
   {
    "duration": 13,
    "start_time": "2022-07-11T09:59:43.698Z"
   },
   {
    "duration": 4,
    "start_time": "2022-07-11T10:01:07.598Z"
   },
   {
    "duration": 541,
    "start_time": "2022-07-11T10:01:07.604Z"
   },
   {
    "duration": 32,
    "start_time": "2022-07-11T10:01:08.147Z"
   },
   {
    "duration": 867,
    "start_time": "2022-07-11T10:01:08.198Z"
   },
   {
    "duration": 7,
    "start_time": "2022-07-11T10:01:09.067Z"
   },
   {
    "duration": 8,
    "start_time": "2022-07-11T10:01:09.076Z"
   },
   {
    "duration": 412,
    "start_time": "2022-07-11T10:01:09.086Z"
   },
   {
    "duration": 17,
    "start_time": "2022-07-11T10:01:09.500Z"
   },
   {
    "duration": 4,
    "start_time": "2022-07-11T10:01:09.519Z"
   },
   {
    "duration": 6,
    "start_time": "2022-07-11T10:01:09.525Z"
   },
   {
    "duration": 10,
    "start_time": "2022-07-11T10:01:09.532Z"
   },
   {
    "duration": 8,
    "start_time": "2022-07-11T10:01:09.544Z"
   },
   {
    "duration": 13,
    "start_time": "2022-07-11T10:01:09.554Z"
   },
   {
    "duration": 5,
    "start_time": "2022-07-11T10:01:09.608Z"
   },
   {
    "duration": 9,
    "start_time": "2022-07-11T10:01:09.615Z"
   },
   {
    "duration": 10,
    "start_time": "2022-07-11T10:01:09.626Z"
   },
   {
    "duration": 4320,
    "start_time": "2022-07-11T10:01:09.638Z"
   },
   {
    "duration": 9,
    "start_time": "2022-07-11T10:01:13.960Z"
   },
   {
    "duration": 29,
    "start_time": "2022-07-11T10:01:13.970Z"
   },
   {
    "duration": 16,
    "start_time": "2022-07-11T10:01:14.001Z"
   },
   {
    "duration": 15,
    "start_time": "2022-07-11T10:04:09.921Z"
   },
   {
    "duration": 14,
    "start_time": "2022-07-11T10:04:17.385Z"
   },
   {
    "duration": 15,
    "start_time": "2022-07-11T10:04:17.923Z"
   },
   {
    "duration": 10,
    "start_time": "2022-07-11T10:05:29.276Z"
   },
   {
    "duration": 16,
    "start_time": "2022-07-11T10:05:36.737Z"
   },
   {
    "duration": 9,
    "start_time": "2022-07-11T10:08:29.976Z"
   },
   {
    "duration": 640,
    "start_time": "2022-07-11T10:08:29.991Z"
   },
   {
    "duration": 37,
    "start_time": "2022-07-11T10:08:30.633Z"
   },
   {
    "duration": 1015,
    "start_time": "2022-07-11T10:08:30.672Z"
   },
   {
    "duration": 10,
    "start_time": "2022-07-11T10:08:31.689Z"
   },
   {
    "duration": 7,
    "start_time": "2022-07-11T10:08:31.702Z"
   },
   {
    "duration": 395,
    "start_time": "2022-07-11T10:08:31.711Z"
   },
   {
    "duration": 19,
    "start_time": "2022-07-11T10:08:32.198Z"
   },
   {
    "duration": 11,
    "start_time": "2022-07-11T10:08:32.219Z"
   },
   {
    "duration": 21,
    "start_time": "2022-07-11T10:08:32.232Z"
   },
   {
    "duration": 17,
    "start_time": "2022-07-11T10:08:32.255Z"
   },
   {
    "duration": 15,
    "start_time": "2022-07-11T10:08:32.273Z"
   },
   {
    "duration": 23,
    "start_time": "2022-07-11T10:08:32.290Z"
   },
   {
    "duration": 16,
    "start_time": "2022-07-11T10:08:32.315Z"
   },
   {
    "duration": 27,
    "start_time": "2022-07-11T10:08:32.334Z"
   },
   {
    "duration": 24,
    "start_time": "2022-07-11T10:08:32.363Z"
   },
   {
    "duration": 4415,
    "start_time": "2022-07-11T10:08:32.391Z"
   },
   {
    "duration": 11,
    "start_time": "2022-07-11T10:08:36.808Z"
   },
   {
    "duration": 25,
    "start_time": "2022-07-11T10:08:36.821Z"
   },
   {
    "duration": 21,
    "start_time": "2022-07-11T10:08:36.849Z"
   },
   {
    "duration": 13,
    "start_time": "2022-07-11T10:08:53.757Z"
   },
   {
    "duration": 97,
    "start_time": "2022-07-11T10:11:08.566Z"
   },
   {
    "duration": 100,
    "start_time": "2022-07-11T10:11:16.681Z"
   },
   {
    "duration": 13,
    "start_time": "2022-07-11T10:12:50.264Z"
   },
   {
    "duration": 11,
    "start_time": "2022-07-11T10:14:17.463Z"
   },
   {
    "duration": 20,
    "start_time": "2022-07-11T10:14:19.625Z"
   },
   {
    "duration": 15,
    "start_time": "2022-07-11T10:14:26.405Z"
   },
   {
    "duration": 15,
    "start_time": "2022-07-11T10:14:40.309Z"
   },
   {
    "duration": 12,
    "start_time": "2022-07-11T10:14:51.501Z"
   },
   {
    "duration": 0,
    "start_time": "2022-07-11T10:14:51.515Z"
   },
   {
    "duration": 0,
    "start_time": "2022-07-11T10:14:51.517Z"
   },
   {
    "duration": 0,
    "start_time": "2022-07-11T10:14:51.519Z"
   },
   {
    "duration": 0,
    "start_time": "2022-07-11T10:14:51.520Z"
   },
   {
    "duration": 8,
    "start_time": "2022-07-11T10:14:51.523Z"
   },
   {
    "duration": 366,
    "start_time": "2022-07-11T10:14:51.533Z"
   },
   {
    "duration": 102,
    "start_time": "2022-07-11T10:14:51.901Z"
   },
   {
    "duration": 14,
    "start_time": "2022-07-11T10:14:52.006Z"
   },
   {
    "duration": 7,
    "start_time": "2022-07-11T10:14:52.022Z"
   },
   {
    "duration": 8,
    "start_time": "2022-07-11T10:14:52.031Z"
   },
   {
    "duration": 20,
    "start_time": "2022-07-11T10:14:52.041Z"
   },
   {
    "duration": 28,
    "start_time": "2022-07-11T10:14:52.063Z"
   },
   {
    "duration": 7,
    "start_time": "2022-07-11T10:14:52.093Z"
   },
   {
    "duration": 9,
    "start_time": "2022-07-11T10:14:52.102Z"
   },
   {
    "duration": 9,
    "start_time": "2022-07-11T10:14:52.114Z"
   },
   {
    "duration": 4818,
    "start_time": "2022-07-11T10:14:52.126Z"
   },
   {
    "duration": 13,
    "start_time": "2022-07-11T10:14:56.946Z"
   },
   {
    "duration": 43,
    "start_time": "2022-07-11T10:14:56.961Z"
   },
   {
    "duration": 30,
    "start_time": "2022-07-11T10:14:57.006Z"
   },
   {
    "duration": 20,
    "start_time": "2022-07-11T10:14:57.038Z"
   },
   {
    "duration": 10,
    "start_time": "2022-07-11T10:16:39.604Z"
   },
   {
    "duration": 14,
    "start_time": "2022-07-11T10:17:15.964Z"
   },
   {
    "duration": 13,
    "start_time": "2022-07-11T10:18:34.029Z"
   },
   {
    "duration": 0,
    "start_time": "2022-07-11T10:18:34.044Z"
   },
   {
    "duration": 0,
    "start_time": "2022-07-11T10:18:34.046Z"
   },
   {
    "duration": 0,
    "start_time": "2022-07-11T10:18:34.047Z"
   },
   {
    "duration": 0,
    "start_time": "2022-07-11T10:18:34.049Z"
   },
   {
    "duration": 0,
    "start_time": "2022-07-11T10:18:34.050Z"
   },
   {
    "duration": 0,
    "start_time": "2022-07-11T10:18:34.051Z"
   },
   {
    "duration": 0,
    "start_time": "2022-07-11T10:18:34.052Z"
   },
   {
    "duration": 4,
    "start_time": "2022-07-11T10:18:34.060Z"
   },
   {
    "duration": 9,
    "start_time": "2022-07-11T10:18:34.066Z"
   },
   {
    "duration": 6,
    "start_time": "2022-07-11T10:18:34.076Z"
   },
   {
    "duration": 15,
    "start_time": "2022-07-11T10:18:34.097Z"
   },
   {
    "duration": 35,
    "start_time": "2022-07-11T10:18:34.118Z"
   },
   {
    "duration": 7,
    "start_time": "2022-07-11T10:18:34.155Z"
   },
   {
    "duration": 4,
    "start_time": "2022-07-11T10:18:34.164Z"
   },
   {
    "duration": 10,
    "start_time": "2022-07-11T10:18:34.170Z"
   },
   {
    "duration": 4754,
    "start_time": "2022-07-11T10:18:34.182Z"
   },
   {
    "duration": 12,
    "start_time": "2022-07-11T10:20:22.033Z"
   },
   {
    "duration": 10,
    "start_time": "2022-07-11T10:21:52.714Z"
   },
   {
    "duration": 11,
    "start_time": "2022-07-11T10:22:20.254Z"
   },
   {
    "duration": 15,
    "start_time": "2022-07-11T10:22:32.655Z"
   },
   {
    "duration": 0,
    "start_time": "2022-07-11T10:22:32.673Z"
   },
   {
    "duration": 0,
    "start_time": "2022-07-11T10:22:32.675Z"
   },
   {
    "duration": 0,
    "start_time": "2022-07-11T10:22:32.677Z"
   },
   {
    "duration": 0,
    "start_time": "2022-07-11T10:22:32.679Z"
   },
   {
    "duration": 0,
    "start_time": "2022-07-11T10:22:32.681Z"
   },
   {
    "duration": 0,
    "start_time": "2022-07-11T10:22:32.682Z"
   },
   {
    "duration": 30,
    "start_time": "2022-07-11T10:22:32.685Z"
   },
   {
    "duration": 8,
    "start_time": "2022-07-11T10:22:32.717Z"
   },
   {
    "duration": 14,
    "start_time": "2022-07-11T10:22:32.727Z"
   },
   {
    "duration": 16,
    "start_time": "2022-07-11T10:22:32.744Z"
   },
   {
    "duration": 9,
    "start_time": "2022-07-11T10:22:32.762Z"
   },
   {
    "duration": 13,
    "start_time": "2022-07-11T10:22:32.773Z"
   },
   {
    "duration": 7,
    "start_time": "2022-07-11T10:22:32.789Z"
   },
   {
    "duration": 24,
    "start_time": "2022-07-11T10:22:32.801Z"
   },
   {
    "duration": 11,
    "start_time": "2022-07-11T10:22:32.828Z"
   },
   {
    "duration": 4758,
    "start_time": "2022-07-11T10:22:32.841Z"
   },
   {
    "duration": 13,
    "start_time": "2022-07-11T10:22:46.365Z"
   },
   {
    "duration": 1618,
    "start_time": "2022-07-11T10:22:59.467Z"
   },
   {
    "duration": 0,
    "start_time": "2022-07-11T10:23:01.088Z"
   },
   {
    "duration": 0,
    "start_time": "2022-07-11T10:23:01.092Z"
   },
   {
    "duration": 0,
    "start_time": "2022-07-11T10:23:01.094Z"
   },
   {
    "duration": 0,
    "start_time": "2022-07-11T10:23:01.100Z"
   },
   {
    "duration": 0,
    "start_time": "2022-07-11T10:23:01.101Z"
   },
   {
    "duration": 0,
    "start_time": "2022-07-11T10:23:01.102Z"
   },
   {
    "duration": 0,
    "start_time": "2022-07-11T10:23:01.102Z"
   },
   {
    "duration": 0,
    "start_time": "2022-07-11T10:23:01.103Z"
   },
   {
    "duration": 0,
    "start_time": "2022-07-11T10:23:01.104Z"
   },
   {
    "duration": 0,
    "start_time": "2022-07-11T10:23:01.104Z"
   },
   {
    "duration": 0,
    "start_time": "2022-07-11T10:23:01.107Z"
   },
   {
    "duration": 0,
    "start_time": "2022-07-11T10:23:01.109Z"
   },
   {
    "duration": 0,
    "start_time": "2022-07-11T10:23:01.110Z"
   },
   {
    "duration": 0,
    "start_time": "2022-07-11T10:23:01.112Z"
   },
   {
    "duration": 0,
    "start_time": "2022-07-11T10:23:01.113Z"
   },
   {
    "duration": 0,
    "start_time": "2022-07-11T10:23:01.114Z"
   },
   {
    "duration": 0,
    "start_time": "2022-07-11T10:23:01.115Z"
   },
   {
    "duration": 0,
    "start_time": "2022-07-11T10:23:01.116Z"
   },
   {
    "duration": 0,
    "start_time": "2022-07-11T10:23:01.118Z"
   },
   {
    "duration": 0,
    "start_time": "2022-07-11T10:23:01.120Z"
   },
   {
    "duration": 1435,
    "start_time": "2022-07-11T10:23:38.089Z"
   },
   {
    "duration": 615,
    "start_time": "2022-07-11T10:23:39.526Z"
   },
   {
    "duration": 35,
    "start_time": "2022-07-11T10:23:40.143Z"
   },
   {
    "duration": 900,
    "start_time": "2022-07-11T10:23:40.179Z"
   },
   {
    "duration": 6,
    "start_time": "2022-07-11T10:23:41.081Z"
   },
   {
    "duration": 17,
    "start_time": "2022-07-11T10:23:41.100Z"
   },
   {
    "duration": 293,
    "start_time": "2022-07-11T10:23:41.119Z"
   },
   {
    "duration": 100,
    "start_time": "2022-07-11T10:23:41.414Z"
   },
   {
    "duration": 9,
    "start_time": "2022-07-11T10:23:41.516Z"
   },
   {
    "duration": 7,
    "start_time": "2022-07-11T10:23:41.527Z"
   },
   {
    "duration": 128,
    "start_time": "2022-07-11T10:23:41.536Z"
   },
   {
    "duration": 0,
    "start_time": "2022-07-11T10:23:41.667Z"
   },
   {
    "duration": 0,
    "start_time": "2022-07-11T10:23:41.669Z"
   },
   {
    "duration": 0,
    "start_time": "2022-07-11T10:23:41.670Z"
   },
   {
    "duration": 0,
    "start_time": "2022-07-11T10:23:41.672Z"
   },
   {
    "duration": 0,
    "start_time": "2022-07-11T10:23:41.674Z"
   },
   {
    "duration": 0,
    "start_time": "2022-07-11T10:23:41.675Z"
   },
   {
    "duration": 0,
    "start_time": "2022-07-11T10:23:41.677Z"
   },
   {
    "duration": 0,
    "start_time": "2022-07-11T10:23:41.679Z"
   },
   {
    "duration": 0,
    "start_time": "2022-07-11T10:23:41.698Z"
   },
   {
    "duration": 0,
    "start_time": "2022-07-11T10:23:41.699Z"
   },
   {
    "duration": 1522,
    "start_time": "2022-07-11T10:24:13.316Z"
   },
   {
    "duration": 589,
    "start_time": "2022-07-11T10:24:14.842Z"
   },
   {
    "duration": 37,
    "start_time": "2022-07-11T10:24:15.433Z"
   },
   {
    "duration": 942,
    "start_time": "2022-07-11T10:24:15.472Z"
   },
   {
    "duration": 8,
    "start_time": "2022-07-11T10:24:16.430Z"
   },
   {
    "duration": 8,
    "start_time": "2022-07-11T10:24:16.440Z"
   },
   {
    "duration": 371,
    "start_time": "2022-07-11T10:24:16.450Z"
   },
   {
    "duration": 90,
    "start_time": "2022-07-11T10:24:16.832Z"
   },
   {
    "duration": 26,
    "start_time": "2022-07-11T10:24:16.925Z"
   },
   {
    "duration": 28,
    "start_time": "2022-07-11T10:24:16.954Z"
   },
   {
    "duration": 143,
    "start_time": "2022-07-11T10:24:16.984Z"
   },
   {
    "duration": 0,
    "start_time": "2022-07-11T10:24:17.130Z"
   },
   {
    "duration": 0,
    "start_time": "2022-07-11T10:24:17.131Z"
   },
   {
    "duration": 0,
    "start_time": "2022-07-11T10:24:17.134Z"
   },
   {
    "duration": 0,
    "start_time": "2022-07-11T10:24:17.136Z"
   },
   {
    "duration": 0,
    "start_time": "2022-07-11T10:24:17.137Z"
   },
   {
    "duration": 0,
    "start_time": "2022-07-11T10:24:17.145Z"
   },
   {
    "duration": 0,
    "start_time": "2022-07-11T10:24:17.147Z"
   },
   {
    "duration": 0,
    "start_time": "2022-07-11T10:24:17.149Z"
   },
   {
    "duration": 0,
    "start_time": "2022-07-11T10:24:17.152Z"
   },
   {
    "duration": 0,
    "start_time": "2022-07-11T10:24:17.154Z"
   },
   {
    "duration": 1390,
    "start_time": "2022-07-11T10:24:58.074Z"
   },
   {
    "duration": 597,
    "start_time": "2022-07-11T10:24:59.466Z"
   },
   {
    "duration": 48,
    "start_time": "2022-07-11T10:25:00.065Z"
   },
   {
    "duration": 910,
    "start_time": "2022-07-11T10:25:00.116Z"
   },
   {
    "duration": 7,
    "start_time": "2022-07-11T10:25:01.028Z"
   },
   {
    "duration": 27,
    "start_time": "2022-07-11T10:25:01.039Z"
   },
   {
    "duration": 358,
    "start_time": "2022-07-11T10:25:01.068Z"
   },
   {
    "duration": 101,
    "start_time": "2022-07-11T10:25:01.500Z"
   },
   {
    "duration": 17,
    "start_time": "2022-07-11T10:25:01.608Z"
   },
   {
    "duration": 8,
    "start_time": "2022-07-11T10:25:01.629Z"
   },
   {
    "duration": 10,
    "start_time": "2022-07-11T10:25:01.639Z"
   },
   {
    "duration": 9,
    "start_time": "2022-07-11T10:25:01.651Z"
   },
   {
    "duration": 18,
    "start_time": "2022-07-11T10:25:01.662Z"
   },
   {
    "duration": 26,
    "start_time": "2022-07-11T10:25:01.682Z"
   },
   {
    "duration": 15,
    "start_time": "2022-07-11T10:25:01.713Z"
   },
   {
    "duration": 16,
    "start_time": "2022-07-11T10:25:01.730Z"
   },
   {
    "duration": 4507,
    "start_time": "2022-07-11T10:25:01.748Z"
   },
   {
    "duration": 10,
    "start_time": "2022-07-11T10:25:06.257Z"
   },
   {
    "duration": 19,
    "start_time": "2022-07-11T10:25:06.268Z"
   },
   {
    "duration": 46,
    "start_time": "2022-07-11T10:25:06.289Z"
   },
   {
    "duration": 13,
    "start_time": "2022-07-11T10:25:06.337Z"
   },
   {
    "duration": 12,
    "start_time": "2022-07-11T10:25:34.487Z"
   },
   {
    "duration": 4,
    "start_time": "2022-07-11T10:25:39.538Z"
   },
   {
    "duration": 582,
    "start_time": "2022-07-11T10:25:39.548Z"
   },
   {
    "duration": 33,
    "start_time": "2022-07-11T10:25:40.132Z"
   },
   {
    "duration": 986,
    "start_time": "2022-07-11T10:25:40.167Z"
   },
   {
    "duration": 5,
    "start_time": "2022-07-11T10:25:41.155Z"
   },
   {
    "duration": 7,
    "start_time": "2022-07-11T10:25:41.163Z"
   },
   {
    "duration": 338,
    "start_time": "2022-07-11T10:25:41.171Z"
   },
   {
    "duration": 106,
    "start_time": "2022-07-11T10:25:41.511Z"
   },
   {
    "duration": 10,
    "start_time": "2022-07-11T10:25:41.619Z"
   },
   {
    "duration": 5,
    "start_time": "2022-07-11T10:25:41.631Z"
   },
   {
    "duration": 8,
    "start_time": "2022-07-11T10:25:41.638Z"
   },
   {
    "duration": 10,
    "start_time": "2022-07-11T10:25:41.648Z"
   },
   {
    "duration": 15,
    "start_time": "2022-07-11T10:25:41.660Z"
   },
   {
    "duration": 25,
    "start_time": "2022-07-11T10:25:41.677Z"
   },
   {
    "duration": 17,
    "start_time": "2022-07-11T10:25:41.704Z"
   },
   {
    "duration": 8,
    "start_time": "2022-07-11T10:25:41.723Z"
   },
   {
    "duration": 4548,
    "start_time": "2022-07-11T10:25:41.733Z"
   },
   {
    "duration": 21,
    "start_time": "2022-07-11T10:25:46.282Z"
   },
   {
    "duration": 10,
    "start_time": "2022-07-11T10:26:28.794Z"
   },
   {
    "duration": 10,
    "start_time": "2022-07-11T10:49:53.444Z"
   },
   {
    "duration": 11,
    "start_time": "2022-07-11T10:51:14.839Z"
   },
   {
    "duration": 12,
    "start_time": "2022-07-11T10:51:34.042Z"
   },
   {
    "duration": 14,
    "start_time": "2022-07-11T10:51:53.583Z"
   },
   {
    "duration": 9,
    "start_time": "2022-07-11T10:52:10.649Z"
   },
   {
    "duration": 16,
    "start_time": "2022-07-11T10:52:14.058Z"
   },
   {
    "duration": 9,
    "start_time": "2022-07-11T10:52:19.428Z"
   },
   {
    "duration": 12,
    "start_time": "2022-07-11T10:52:21.556Z"
   },
   {
    "duration": 1375,
    "start_time": "2022-07-11T10:52:49.033Z"
   },
   {
    "duration": 544,
    "start_time": "2022-07-11T10:52:50.411Z"
   },
   {
    "duration": 48,
    "start_time": "2022-07-11T10:52:50.957Z"
   },
   {
    "duration": 858,
    "start_time": "2022-07-11T10:52:51.007Z"
   },
   {
    "duration": 6,
    "start_time": "2022-07-11T10:52:51.867Z"
   },
   {
    "duration": 7,
    "start_time": "2022-07-11T10:52:51.874Z"
   },
   {
    "duration": 426,
    "start_time": "2022-07-11T10:52:51.882Z"
   },
   {
    "duration": 18,
    "start_time": "2022-07-11T10:52:52.399Z"
   },
   {
    "duration": 4,
    "start_time": "2022-07-11T10:52:52.418Z"
   },
   {
    "duration": 8,
    "start_time": "2022-07-11T10:52:52.424Z"
   },
   {
    "duration": 8,
    "start_time": "2022-07-11T10:52:52.434Z"
   },
   {
    "duration": 10,
    "start_time": "2022-07-11T10:52:52.444Z"
   },
   {
    "duration": 12,
    "start_time": "2022-07-11T10:52:52.455Z"
   },
   {
    "duration": 29,
    "start_time": "2022-07-11T10:52:52.470Z"
   },
   {
    "duration": 8,
    "start_time": "2022-07-11T10:52:52.501Z"
   },
   {
    "duration": 7,
    "start_time": "2022-07-11T10:52:52.510Z"
   },
   {
    "duration": 4353,
    "start_time": "2022-07-11T10:52:52.518Z"
   },
   {
    "duration": 12,
    "start_time": "2022-07-11T10:52:56.873Z"
   },
   {
    "duration": 22,
    "start_time": "2022-07-11T10:52:56.900Z"
   },
   {
    "duration": 18,
    "start_time": "2022-07-11T10:52:56.924Z"
   },
   {
    "duration": 13,
    "start_time": "2022-07-11T10:52:56.944Z"
   },
   {
    "duration": 9,
    "start_time": "2022-07-11T10:53:25.803Z"
   },
   {
    "duration": 12,
    "start_time": "2022-07-11T10:53:47.445Z"
   },
   {
    "duration": 14,
    "start_time": "2022-07-11T10:54:37.001Z"
   },
   {
    "duration": 14,
    "start_time": "2022-07-11T10:54:55.810Z"
   },
   {
    "duration": 14,
    "start_time": "2022-07-11T10:55:09.523Z"
   },
   {
    "duration": 13,
    "start_time": "2022-07-11T10:55:52.984Z"
   },
   {
    "duration": 4,
    "start_time": "2022-07-11T10:56:00.642Z"
   },
   {
    "duration": 589,
    "start_time": "2022-07-11T10:56:00.649Z"
   },
   {
    "duration": 33,
    "start_time": "2022-07-11T10:56:01.240Z"
   },
   {
    "duration": 927,
    "start_time": "2022-07-11T10:56:01.275Z"
   },
   {
    "duration": 6,
    "start_time": "2022-07-11T10:56:02.204Z"
   },
   {
    "duration": 10,
    "start_time": "2022-07-11T10:56:02.211Z"
   },
   {
    "duration": 476,
    "start_time": "2022-07-11T10:56:02.222Z"
   },
   {
    "duration": 108,
    "start_time": "2022-07-11T10:56:02.700Z"
   },
   {
    "duration": 4,
    "start_time": "2022-07-11T10:56:02.810Z"
   },
   {
    "duration": 6,
    "start_time": "2022-07-11T10:56:02.815Z"
   },
   {
    "duration": 6,
    "start_time": "2022-07-11T10:56:02.824Z"
   },
   {
    "duration": 10,
    "start_time": "2022-07-11T10:56:02.831Z"
   },
   {
    "duration": 13,
    "start_time": "2022-07-11T10:56:02.842Z"
   },
   {
    "duration": 8,
    "start_time": "2022-07-11T10:56:02.857Z"
   },
   {
    "duration": 7,
    "start_time": "2022-07-11T10:56:02.867Z"
   },
   {
    "duration": 5,
    "start_time": "2022-07-11T10:56:02.898Z"
   },
   {
    "duration": 4331,
    "start_time": "2022-07-11T10:56:02.905Z"
   },
   {
    "duration": 9,
    "start_time": "2022-07-11T10:56:07.238Z"
   },
   {
    "duration": 14,
    "start_time": "2022-07-11T10:56:07.249Z"
   },
   {
    "duration": 41,
    "start_time": "2022-07-11T10:56:07.265Z"
   },
   {
    "duration": 13,
    "start_time": "2022-07-11T10:56:07.308Z"
   },
   {
    "duration": 1413,
    "start_time": "2022-07-11T10:56:57.148Z"
   },
   {
    "duration": 599,
    "start_time": "2022-07-11T10:56:58.563Z"
   },
   {
    "duration": 52,
    "start_time": "2022-07-11T10:56:59.165Z"
   },
   {
    "duration": 873,
    "start_time": "2022-07-11T10:56:59.219Z"
   },
   {
    "duration": 6,
    "start_time": "2022-07-11T10:57:00.094Z"
   },
   {
    "duration": 20,
    "start_time": "2022-07-11T10:57:00.102Z"
   },
   {
    "duration": 476,
    "start_time": "2022-07-11T10:57:00.124Z"
   },
   {
    "duration": 18,
    "start_time": "2022-07-11T10:57:00.601Z"
   },
   {
    "duration": 28,
    "start_time": "2022-07-11T10:57:00.621Z"
   },
   {
    "duration": 28,
    "start_time": "2022-07-11T10:57:00.652Z"
   },
   {
    "duration": 18,
    "start_time": "2022-07-11T10:57:00.682Z"
   },
   {
    "duration": 28,
    "start_time": "2022-07-11T10:57:00.702Z"
   },
   {
    "duration": 24,
    "start_time": "2022-07-11T10:57:00.732Z"
   },
   {
    "duration": 19,
    "start_time": "2022-07-11T10:57:00.758Z"
   },
   {
    "duration": 28,
    "start_time": "2022-07-11T10:57:00.779Z"
   },
   {
    "duration": 37,
    "start_time": "2022-07-11T10:57:00.809Z"
   },
   {
    "duration": 4346,
    "start_time": "2022-07-11T10:57:00.848Z"
   },
   {
    "duration": 10,
    "start_time": "2022-07-11T10:57:05.195Z"
   },
   {
    "duration": 16,
    "start_time": "2022-07-11T10:57:05.207Z"
   },
   {
    "duration": 16,
    "start_time": "2022-07-11T10:57:05.224Z"
   },
   {
    "duration": 13,
    "start_time": "2022-07-11T10:57:05.243Z"
   },
   {
    "duration": 17,
    "start_time": "2022-07-11T10:58:15.749Z"
   },
   {
    "duration": 12,
    "start_time": "2022-07-11T10:58:56.322Z"
   },
   {
    "duration": 15,
    "start_time": "2022-07-11T10:59:37.958Z"
   },
   {
    "duration": 14,
    "start_time": "2022-07-11T10:59:53.510Z"
   },
   {
    "duration": 14,
    "start_time": "2022-07-11T11:00:06.276Z"
   },
   {
    "duration": 15,
    "start_time": "2022-07-11T11:01:33.305Z"
   },
   {
    "duration": 18,
    "start_time": "2022-07-11T11:01:54.001Z"
   },
   {
    "duration": 1440,
    "start_time": "2022-07-11T11:02:26.844Z"
   },
   {
    "duration": 568,
    "start_time": "2022-07-11T11:02:28.286Z"
   },
   {
    "duration": 54,
    "start_time": "2022-07-11T11:02:28.855Z"
   },
   {
    "duration": 857,
    "start_time": "2022-07-11T11:02:28.912Z"
   },
   {
    "duration": 6,
    "start_time": "2022-07-11T11:02:29.770Z"
   },
   {
    "duration": 8,
    "start_time": "2022-07-11T11:02:29.778Z"
   },
   {
    "duration": 501,
    "start_time": "2022-07-11T11:02:29.798Z"
   },
   {
    "duration": 19,
    "start_time": "2022-07-11T11:02:30.301Z"
   },
   {
    "duration": 21,
    "start_time": "2022-07-11T11:02:30.322Z"
   },
   {
    "duration": 12,
    "start_time": "2022-07-11T11:02:30.346Z"
   },
   {
    "duration": 9,
    "start_time": "2022-07-11T11:02:30.360Z"
   },
   {
    "duration": 26,
    "start_time": "2022-07-11T11:02:30.371Z"
   },
   {
    "duration": 35,
    "start_time": "2022-07-11T11:02:30.399Z"
   },
   {
    "duration": 27,
    "start_time": "2022-07-11T11:02:30.436Z"
   },
   {
    "duration": 23,
    "start_time": "2022-07-11T11:02:30.465Z"
   },
   {
    "duration": 14,
    "start_time": "2022-07-11T11:02:30.489Z"
   },
   {
    "duration": 4208,
    "start_time": "2022-07-11T11:02:30.505Z"
   },
   {
    "duration": 9,
    "start_time": "2022-07-11T11:02:34.715Z"
   },
   {
    "duration": 15,
    "start_time": "2022-07-11T11:02:34.726Z"
   },
   {
    "duration": 20,
    "start_time": "2022-07-11T11:02:34.743Z"
   },
   {
    "duration": 34,
    "start_time": "2022-07-11T11:02:34.764Z"
   },
   {
    "duration": 4,
    "start_time": "2022-07-11T11:06:06.475Z"
   },
   {
    "duration": 595,
    "start_time": "2022-07-11T11:06:06.481Z"
   },
   {
    "duration": 41,
    "start_time": "2022-07-11T11:06:07.078Z"
   },
   {
    "duration": 922,
    "start_time": "2022-07-11T11:06:07.120Z"
   },
   {
    "duration": 5,
    "start_time": "2022-07-11T11:06:08.045Z"
   },
   {
    "duration": 10,
    "start_time": "2022-07-11T11:06:08.051Z"
   },
   {
    "duration": 438,
    "start_time": "2022-07-11T11:06:08.063Z"
   },
   {
    "duration": 107,
    "start_time": "2022-07-11T11:06:08.504Z"
   },
   {
    "duration": 4,
    "start_time": "2022-07-11T11:06:08.613Z"
   },
   {
    "duration": 3,
    "start_time": "2022-07-11T11:06:08.620Z"
   },
   {
    "duration": 6,
    "start_time": "2022-07-11T11:06:08.625Z"
   },
   {
    "duration": 6,
    "start_time": "2022-07-11T11:06:08.633Z"
   },
   {
    "duration": 12,
    "start_time": "2022-07-11T11:06:08.640Z"
   },
   {
    "duration": 3,
    "start_time": "2022-07-11T11:06:08.698Z"
   },
   {
    "duration": 7,
    "start_time": "2022-07-11T11:06:08.703Z"
   },
   {
    "duration": 9,
    "start_time": "2022-07-11T11:06:08.712Z"
   },
   {
    "duration": 4218,
    "start_time": "2022-07-11T11:06:08.723Z"
   },
   {
    "duration": 8,
    "start_time": "2022-07-11T11:06:12.943Z"
   },
   {
    "duration": 16,
    "start_time": "2022-07-11T11:06:12.953Z"
   },
   {
    "duration": 38,
    "start_time": "2022-07-11T11:06:12.971Z"
   },
   {
    "duration": 13,
    "start_time": "2022-07-11T11:06:13.011Z"
   },
   {
    "duration": 114,
    "start_time": "2022-07-11T12:22:01.697Z"
   },
   {
    "duration": 95,
    "start_time": "2022-07-11T12:22:28.782Z"
   },
   {
    "duration": 1509,
    "start_time": "2022-07-11T12:23:38.373Z"
   },
   {
    "duration": 3,
    "start_time": "2022-07-11T12:23:50.097Z"
   },
   {
    "duration": 656,
    "start_time": "2022-07-11T12:23:50.103Z"
   },
   {
    "duration": 608,
    "start_time": "2022-07-11T12:23:56.070Z"
   },
   {
    "duration": 2010,
    "start_time": "2022-07-11T12:24:20.521Z"
   },
   {
    "duration": 632,
    "start_time": "2022-07-11T12:24:22.533Z"
   },
   {
    "duration": 210,
    "start_time": "2022-07-11T12:24:23.166Z"
   },
   {
    "duration": 56,
    "start_time": "2022-07-11T12:24:23.377Z"
   },
   {
    "duration": 968,
    "start_time": "2022-07-11T12:24:23.435Z"
   },
   {
    "duration": 7,
    "start_time": "2022-07-11T12:24:24.405Z"
   },
   {
    "duration": 20,
    "start_time": "2022-07-11T12:24:24.414Z"
   },
   {
    "duration": 462,
    "start_time": "2022-07-11T12:24:24.436Z"
   },
   {
    "duration": 18,
    "start_time": "2022-07-11T12:24:24.903Z"
   },
   {
    "duration": 6,
    "start_time": "2022-07-11T12:24:24.924Z"
   },
   {
    "duration": 7,
    "start_time": "2022-07-11T12:24:24.932Z"
   },
   {
    "duration": 7,
    "start_time": "2022-07-11T12:24:24.941Z"
   },
   {
    "duration": 9,
    "start_time": "2022-07-11T12:24:24.950Z"
   },
   {
    "duration": 37,
    "start_time": "2022-07-11T12:24:24.963Z"
   },
   {
    "duration": 17,
    "start_time": "2022-07-11T12:24:25.002Z"
   },
   {
    "duration": 19,
    "start_time": "2022-07-11T12:24:25.021Z"
   },
   {
    "duration": 11,
    "start_time": "2022-07-11T12:24:25.042Z"
   },
   {
    "duration": 4819,
    "start_time": "2022-07-11T12:24:25.055Z"
   },
   {
    "duration": 8,
    "start_time": "2022-07-11T12:24:29.876Z"
   },
   {
    "duration": 21,
    "start_time": "2022-07-11T12:24:29.886Z"
   },
   {
    "duration": 22,
    "start_time": "2022-07-11T12:24:29.909Z"
   },
   {
    "duration": 13,
    "start_time": "2022-07-11T12:24:29.933Z"
   },
   {
    "duration": 78,
    "start_time": "2022-07-11T12:26:40.278Z"
   },
   {
    "duration": 1576,
    "start_time": "2022-07-11T12:27:00.106Z"
   },
   {
    "duration": 4,
    "start_time": "2022-07-11T12:27:10.071Z"
   },
   {
    "duration": 591,
    "start_time": "2022-07-11T12:27:10.077Z"
   },
   {
    "duration": 231,
    "start_time": "2022-07-11T12:27:10.670Z"
   },
   {
    "duration": 70,
    "start_time": "2022-07-11T12:27:10.903Z"
   },
   {
    "duration": 63,
    "start_time": "2022-07-11T12:27:10.975Z"
   },
   {
    "duration": 1027,
    "start_time": "2022-07-11T12:27:11.039Z"
   },
   {
    "duration": 6,
    "start_time": "2022-07-11T12:27:12.068Z"
   },
   {
    "duration": 24,
    "start_time": "2022-07-11T12:27:12.077Z"
   },
   {
    "duration": 324,
    "start_time": "2022-07-11T12:27:12.102Z"
   },
   {
    "duration": 109,
    "start_time": "2022-07-11T12:27:12.503Z"
   },
   {
    "duration": 7,
    "start_time": "2022-07-11T12:27:12.614Z"
   },
   {
    "duration": 9,
    "start_time": "2022-07-11T12:27:12.623Z"
   },
   {
    "duration": 6,
    "start_time": "2022-07-11T12:27:12.634Z"
   },
   {
    "duration": 5,
    "start_time": "2022-07-11T12:27:12.643Z"
   },
   {
    "duration": 15,
    "start_time": "2022-07-11T12:27:12.650Z"
   },
   {
    "duration": 7,
    "start_time": "2022-07-11T12:27:12.703Z"
   },
   {
    "duration": 20,
    "start_time": "2022-07-11T12:27:12.713Z"
   },
   {
    "duration": 9,
    "start_time": "2022-07-11T12:27:12.735Z"
   },
   {
    "duration": 5032,
    "start_time": "2022-07-11T12:27:12.746Z"
   },
   {
    "duration": 21,
    "start_time": "2022-07-11T12:27:17.780Z"
   },
   {
    "duration": 32,
    "start_time": "2022-07-11T12:27:17.803Z"
   },
   {
    "duration": 15,
    "start_time": "2022-07-11T12:27:17.837Z"
   },
   {
    "duration": 14,
    "start_time": "2022-07-11T12:27:17.854Z"
   },
   {
    "duration": 1470,
    "start_time": "2022-07-11T12:28:59.369Z"
   },
   {
    "duration": 4,
    "start_time": "2022-07-11T12:29:08.546Z"
   },
   {
    "duration": 676,
    "start_time": "2022-07-11T12:29:08.552Z"
   },
   {
    "duration": 225,
    "start_time": "2022-07-11T12:29:09.230Z"
   },
   {
    "duration": 72,
    "start_time": "2022-07-11T12:29:09.457Z"
   },
   {
    "duration": 36,
    "start_time": "2022-07-11T12:29:09.531Z"
   },
   {
    "duration": 950,
    "start_time": "2022-07-11T12:29:09.568Z"
   },
   {
    "duration": 6,
    "start_time": "2022-07-11T12:29:10.521Z"
   },
   {
    "duration": 11,
    "start_time": "2022-07-11T12:29:10.528Z"
   },
   {
    "duration": 465,
    "start_time": "2022-07-11T12:29:10.542Z"
   },
   {
    "duration": 21,
    "start_time": "2022-07-11T12:29:11.015Z"
   },
   {
    "duration": 5,
    "start_time": "2022-07-11T12:29:11.038Z"
   },
   {
    "duration": 9,
    "start_time": "2022-07-11T12:29:11.045Z"
   },
   {
    "duration": 11,
    "start_time": "2022-07-11T12:29:11.056Z"
   },
   {
    "duration": 31,
    "start_time": "2022-07-11T12:29:11.069Z"
   },
   {
    "duration": 18,
    "start_time": "2022-07-11T12:29:11.104Z"
   },
   {
    "duration": 5,
    "start_time": "2022-07-11T12:29:11.125Z"
   },
   {
    "duration": 9,
    "start_time": "2022-07-11T12:29:11.132Z"
   },
   {
    "duration": 9,
    "start_time": "2022-07-11T12:29:11.143Z"
   },
   {
    "duration": 4703,
    "start_time": "2022-07-11T12:29:11.154Z"
   },
   {
    "duration": 9,
    "start_time": "2022-07-11T12:29:15.859Z"
   },
   {
    "duration": 18,
    "start_time": "2022-07-11T12:29:15.870Z"
   },
   {
    "duration": 16,
    "start_time": "2022-07-11T12:29:15.899Z"
   },
   {
    "duration": 20,
    "start_time": "2022-07-11T12:29:15.918Z"
   },
   {
    "duration": 1576,
    "start_time": "2022-07-11T12:34:13.247Z"
   },
   {
    "duration": 3,
    "start_time": "2022-07-11T12:34:38.091Z"
   },
   {
    "duration": 629,
    "start_time": "2022-07-11T12:34:38.096Z"
   },
   {
    "duration": 263,
    "start_time": "2022-07-11T12:34:38.727Z"
   },
   {
    "duration": 4,
    "start_time": "2022-07-11T12:34:48.024Z"
   },
   {
    "duration": 621,
    "start_time": "2022-07-11T12:34:48.042Z"
   },
   {
    "duration": 236,
    "start_time": "2022-07-11T12:34:48.665Z"
   },
   {
    "duration": 59,
    "start_time": "2022-07-11T12:34:48.904Z"
   },
   {
    "duration": 54,
    "start_time": "2022-07-11T12:34:48.964Z"
   },
   {
    "duration": 0,
    "start_time": "2022-07-11T12:34:49.020Z"
   },
   {
    "duration": 0,
    "start_time": "2022-07-11T12:34:49.021Z"
   },
   {
    "duration": 0,
    "start_time": "2022-07-11T12:34:49.023Z"
   },
   {
    "duration": 0,
    "start_time": "2022-07-11T12:34:49.023Z"
   },
   {
    "duration": 0,
    "start_time": "2022-07-11T12:34:49.025Z"
   },
   {
    "duration": 0,
    "start_time": "2022-07-11T12:34:49.026Z"
   },
   {
    "duration": 0,
    "start_time": "2022-07-11T12:34:49.027Z"
   },
   {
    "duration": 0,
    "start_time": "2022-07-11T12:34:49.028Z"
   },
   {
    "duration": 0,
    "start_time": "2022-07-11T12:34:49.029Z"
   },
   {
    "duration": 0,
    "start_time": "2022-07-11T12:34:49.030Z"
   },
   {
    "duration": 0,
    "start_time": "2022-07-11T12:34:49.031Z"
   },
   {
    "duration": 0,
    "start_time": "2022-07-11T12:34:49.032Z"
   },
   {
    "duration": 0,
    "start_time": "2022-07-11T12:34:49.033Z"
   },
   {
    "duration": 1,
    "start_time": "2022-07-11T12:34:49.034Z"
   },
   {
    "duration": 0,
    "start_time": "2022-07-11T12:34:49.036Z"
   },
   {
    "duration": 0,
    "start_time": "2022-07-11T12:34:49.037Z"
   },
   {
    "duration": 0,
    "start_time": "2022-07-11T12:34:49.038Z"
   },
   {
    "duration": 0,
    "start_time": "2022-07-11T12:34:49.039Z"
   },
   {
    "duration": 0,
    "start_time": "2022-07-11T12:34:49.041Z"
   },
   {
    "duration": 49,
    "start_time": "2022-07-11T12:36:18.600Z"
   },
   {
    "duration": 3,
    "start_time": "2022-07-11T12:36:26.148Z"
   },
   {
    "duration": 563,
    "start_time": "2022-07-11T12:36:26.154Z"
   },
   {
    "duration": 199,
    "start_time": "2022-07-11T12:36:26.722Z"
   },
   {
    "duration": 45,
    "start_time": "2022-07-11T12:36:26.923Z"
   },
   {
    "duration": 47,
    "start_time": "2022-07-11T12:36:26.971Z"
   },
   {
    "duration": 0,
    "start_time": "2022-07-11T12:36:27.022Z"
   },
   {
    "duration": 1,
    "start_time": "2022-07-11T12:36:27.024Z"
   },
   {
    "duration": 0,
    "start_time": "2022-07-11T12:36:27.026Z"
   },
   {
    "duration": 0,
    "start_time": "2022-07-11T12:36:27.027Z"
   },
   {
    "duration": 0,
    "start_time": "2022-07-11T12:36:27.028Z"
   },
   {
    "duration": 0,
    "start_time": "2022-07-11T12:36:27.030Z"
   },
   {
    "duration": 0,
    "start_time": "2022-07-11T12:36:27.031Z"
   },
   {
    "duration": 0,
    "start_time": "2022-07-11T12:36:27.032Z"
   },
   {
    "duration": 0,
    "start_time": "2022-07-11T12:36:27.034Z"
   },
   {
    "duration": 0,
    "start_time": "2022-07-11T12:36:27.035Z"
   },
   {
    "duration": 0,
    "start_time": "2022-07-11T12:36:27.036Z"
   },
   {
    "duration": 0,
    "start_time": "2022-07-11T12:36:27.037Z"
   },
   {
    "duration": 0,
    "start_time": "2022-07-11T12:36:27.039Z"
   },
   {
    "duration": 0,
    "start_time": "2022-07-11T12:36:27.041Z"
   },
   {
    "duration": 0,
    "start_time": "2022-07-11T12:36:27.042Z"
   },
   {
    "duration": 0,
    "start_time": "2022-07-11T12:36:27.044Z"
   },
   {
    "duration": 0,
    "start_time": "2022-07-11T12:36:27.045Z"
   },
   {
    "duration": 0,
    "start_time": "2022-07-11T12:36:27.047Z"
   },
   {
    "duration": 0,
    "start_time": "2022-07-11T12:36:27.048Z"
   },
   {
    "duration": 72,
    "start_time": "2022-07-11T12:36:48.423Z"
   },
   {
    "duration": 54,
    "start_time": "2022-07-11T12:37:06.866Z"
   },
   {
    "duration": 48,
    "start_time": "2022-07-11T12:37:18.571Z"
   },
   {
    "duration": 3,
    "start_time": "2022-07-11T12:37:22.594Z"
   },
   {
    "duration": 727,
    "start_time": "2022-07-11T12:37:22.599Z"
   },
   {
    "duration": 200,
    "start_time": "2022-07-11T12:37:23.328Z"
   },
   {
    "duration": 74,
    "start_time": "2022-07-11T12:37:23.530Z"
   },
   {
    "duration": 60,
    "start_time": "2022-07-11T12:37:23.607Z"
   },
   {
    "duration": 0,
    "start_time": "2022-07-11T12:37:23.669Z"
   },
   {
    "duration": 0,
    "start_time": "2022-07-11T12:37:23.671Z"
   },
   {
    "duration": 0,
    "start_time": "2022-07-11T12:37:23.672Z"
   },
   {
    "duration": 0,
    "start_time": "2022-07-11T12:37:23.673Z"
   },
   {
    "duration": 0,
    "start_time": "2022-07-11T12:37:23.674Z"
   },
   {
    "duration": 0,
    "start_time": "2022-07-11T12:37:23.675Z"
   },
   {
    "duration": 0,
    "start_time": "2022-07-11T12:37:23.676Z"
   },
   {
    "duration": 0,
    "start_time": "2022-07-11T12:37:23.677Z"
   },
   {
    "duration": 0,
    "start_time": "2022-07-11T12:37:23.678Z"
   },
   {
    "duration": 0,
    "start_time": "2022-07-11T12:37:23.679Z"
   },
   {
    "duration": 0,
    "start_time": "2022-07-11T12:37:23.680Z"
   },
   {
    "duration": 0,
    "start_time": "2022-07-11T12:37:23.681Z"
   },
   {
    "duration": 0,
    "start_time": "2022-07-11T12:37:23.682Z"
   },
   {
    "duration": 0,
    "start_time": "2022-07-11T12:37:23.683Z"
   },
   {
    "duration": 0,
    "start_time": "2022-07-11T12:37:23.685Z"
   },
   {
    "duration": 0,
    "start_time": "2022-07-11T12:37:23.686Z"
   },
   {
    "duration": 0,
    "start_time": "2022-07-11T12:37:23.687Z"
   },
   {
    "duration": 0,
    "start_time": "2022-07-11T12:37:23.687Z"
   },
   {
    "duration": 0,
    "start_time": "2022-07-11T12:37:23.688Z"
   },
   {
    "duration": 44,
    "start_time": "2022-07-11T12:37:39.374Z"
   },
   {
    "duration": 4,
    "start_time": "2022-07-11T12:38:51.855Z"
   },
   {
    "duration": 646,
    "start_time": "2022-07-11T12:38:51.861Z"
   },
   {
    "duration": 223,
    "start_time": "2022-07-11T12:38:52.509Z"
   },
   {
    "duration": 63,
    "start_time": "2022-07-11T12:38:52.734Z"
   },
   {
    "duration": 25,
    "start_time": "2022-07-11T12:38:52.801Z"
   },
   {
    "duration": 32,
    "start_time": "2022-07-11T12:38:52.828Z"
   },
   {
    "duration": 1036,
    "start_time": "2022-07-11T12:38:52.862Z"
   },
   {
    "duration": 6,
    "start_time": "2022-07-11T12:38:53.901Z"
   },
   {
    "duration": 11,
    "start_time": "2022-07-11T12:38:53.909Z"
   },
   {
    "duration": 300,
    "start_time": "2022-07-11T12:38:53.922Z"
   },
   {
    "duration": 101,
    "start_time": "2022-07-11T12:38:54.302Z"
   },
   {
    "duration": 18,
    "start_time": "2022-07-11T12:38:54.405Z"
   },
   {
    "duration": 5,
    "start_time": "2022-07-11T12:38:54.424Z"
   },
   {
    "duration": 5,
    "start_time": "2022-07-11T12:38:54.432Z"
   },
   {
    "duration": 6,
    "start_time": "2022-07-11T12:38:54.439Z"
   },
   {
    "duration": 11,
    "start_time": "2022-07-11T12:38:54.447Z"
   },
   {
    "duration": 5,
    "start_time": "2022-07-11T12:38:54.459Z"
   },
   {
    "duration": 7,
    "start_time": "2022-07-11T12:38:54.466Z"
   },
   {
    "duration": 5,
    "start_time": "2022-07-11T12:38:54.499Z"
   },
   {
    "duration": 4678,
    "start_time": "2022-07-11T12:38:54.506Z"
   },
   {
    "duration": 14,
    "start_time": "2022-07-11T12:38:59.186Z"
   },
   {
    "duration": 24,
    "start_time": "2022-07-11T12:38:59.202Z"
   },
   {
    "duration": 12,
    "start_time": "2022-07-11T12:38:59.228Z"
   },
   {
    "duration": 13,
    "start_time": "2022-07-11T12:38:59.242Z"
   },
   {
    "duration": 49,
    "start_time": "2022-07-11T12:39:46.883Z"
   },
   {
    "duration": 4,
    "start_time": "2022-07-11T12:39:56.373Z"
   },
   {
    "duration": 774,
    "start_time": "2022-07-11T12:39:56.379Z"
   },
   {
    "duration": 216,
    "start_time": "2022-07-11T12:39:57.154Z"
   },
   {
    "duration": 64,
    "start_time": "2022-07-11T12:39:57.371Z"
   },
   {
    "duration": 18,
    "start_time": "2022-07-11T12:39:57.438Z"
   },
   {
    "duration": 0,
    "start_time": "2022-07-11T12:39:57.458Z"
   },
   {
    "duration": 0,
    "start_time": "2022-07-11T12:39:57.459Z"
   },
   {
    "duration": 0,
    "start_time": "2022-07-11T12:39:57.461Z"
   },
   {
    "duration": 0,
    "start_time": "2022-07-11T12:39:57.462Z"
   },
   {
    "duration": 0,
    "start_time": "2022-07-11T12:39:57.463Z"
   },
   {
    "duration": 0,
    "start_time": "2022-07-11T12:39:57.465Z"
   },
   {
    "duration": 0,
    "start_time": "2022-07-11T12:39:57.466Z"
   },
   {
    "duration": 0,
    "start_time": "2022-07-11T12:39:57.468Z"
   },
   {
    "duration": 0,
    "start_time": "2022-07-11T12:39:57.469Z"
   },
   {
    "duration": 0,
    "start_time": "2022-07-11T12:39:57.498Z"
   },
   {
    "duration": 0,
    "start_time": "2022-07-11T12:39:57.499Z"
   },
   {
    "duration": 0,
    "start_time": "2022-07-11T12:39:57.501Z"
   },
   {
    "duration": 0,
    "start_time": "2022-07-11T12:39:57.506Z"
   },
   {
    "duration": 0,
    "start_time": "2022-07-11T12:39:57.508Z"
   },
   {
    "duration": 0,
    "start_time": "2022-07-11T12:39:57.510Z"
   },
   {
    "duration": 0,
    "start_time": "2022-07-11T12:39:57.512Z"
   },
   {
    "duration": 0,
    "start_time": "2022-07-11T12:39:57.514Z"
   },
   {
    "duration": 0,
    "start_time": "2022-07-11T12:39:57.516Z"
   },
   {
    "duration": 0,
    "start_time": "2022-07-11T12:39:57.518Z"
   },
   {
    "duration": 21,
    "start_time": "2022-07-11T12:40:40.357Z"
   },
   {
    "duration": 56,
    "start_time": "2022-07-11T12:41:49.157Z"
   },
   {
    "duration": 51,
    "start_time": "2022-07-11T12:51:55.083Z"
   },
   {
    "duration": 32,
    "start_time": "2022-07-11T12:57:22.707Z"
   },
   {
    "duration": 783,
    "start_time": "2022-07-11T12:57:57.896Z"
   },
   {
    "duration": 7,
    "start_time": "2022-07-11T13:00:57.603Z"
   },
   {
    "duration": 8,
    "start_time": "2022-07-11T13:43:09.099Z"
   },
   {
    "duration": 79,
    "start_time": "2022-07-11T13:44:32.829Z"
   },
   {
    "duration": 441,
    "start_time": "2022-07-11T13:44:38.661Z"
   },
   {
    "duration": 89,
    "start_time": "2022-07-11T13:47:52.451Z"
   },
   {
    "duration": 342,
    "start_time": "2022-07-11T13:47:57.264Z"
   },
   {
    "duration": 411,
    "start_time": "2022-07-11T14:01:11.388Z"
   },
   {
    "duration": 18,
    "start_time": "2022-07-11T14:02:42.859Z"
   },
   {
    "duration": 17,
    "start_time": "2022-07-11T14:04:05.735Z"
   },
   {
    "duration": 5,
    "start_time": "2022-07-11T14:04:14.110Z"
   },
   {
    "duration": 3,
    "start_time": "2022-07-11T14:15:26.290Z"
   },
   {
    "duration": 6,
    "start_time": "2022-07-11T14:15:27.325Z"
   },
   {
    "duration": 5,
    "start_time": "2022-07-11T14:15:35.433Z"
   },
   {
    "duration": 3,
    "start_time": "2022-07-11T14:19:50.780Z"
   },
   {
    "duration": 616,
    "start_time": "2022-07-11T14:19:50.785Z"
   },
   {
    "duration": 166,
    "start_time": "2022-07-11T14:19:51.403Z"
   },
   {
    "duration": 73,
    "start_time": "2022-07-11T14:19:51.571Z"
   },
   {
    "duration": 75,
    "start_time": "2022-07-11T14:19:51.647Z"
   },
   {
    "duration": 46,
    "start_time": "2022-07-11T14:19:51.728Z"
   },
   {
    "duration": 64,
    "start_time": "2022-07-11T14:19:51.776Z"
   },
   {
    "duration": 1109,
    "start_time": "2022-07-11T14:19:51.842Z"
   },
   {
    "duration": 5,
    "start_time": "2022-07-11T14:19:52.953Z"
   },
   {
    "duration": 13,
    "start_time": "2022-07-11T14:19:52.959Z"
   },
   {
    "duration": 354,
    "start_time": "2022-07-11T14:19:52.974Z"
   },
   {
    "duration": 170,
    "start_time": "2022-07-11T14:19:53.330Z"
   },
   {
    "duration": 30,
    "start_time": "2022-07-11T14:19:53.503Z"
   },
   {
    "duration": 11,
    "start_time": "2022-07-11T14:19:53.535Z"
   },
   {
    "duration": 16,
    "start_time": "2022-07-11T14:19:53.548Z"
   },
   {
    "duration": 18,
    "start_time": "2022-07-11T14:19:53.566Z"
   },
   {
    "duration": 13,
    "start_time": "2022-07-11T14:30:32.107Z"
   },
   {
    "duration": 3,
    "start_time": "2022-07-11T14:31:41.928Z"
   },
   {
    "duration": 559,
    "start_time": "2022-07-11T14:31:41.933Z"
   },
   {
    "duration": 179,
    "start_time": "2022-07-11T14:31:42.494Z"
   },
   {
    "duration": 73,
    "start_time": "2022-07-11T14:31:42.676Z"
   },
   {
    "duration": 80,
    "start_time": "2022-07-11T14:31:42.750Z"
   },
   {
    "duration": 53,
    "start_time": "2022-07-11T14:31:42.846Z"
   },
   {
    "duration": 42,
    "start_time": "2022-07-11T14:31:42.902Z"
   },
   {
    "duration": 940,
    "start_time": "2022-07-11T14:31:42.946Z"
   },
   {
    "duration": 12,
    "start_time": "2022-07-11T14:31:43.888Z"
   },
   {
    "duration": 13,
    "start_time": "2022-07-11T14:31:43.905Z"
   },
   {
    "duration": 483,
    "start_time": "2022-07-11T14:31:43.920Z"
   },
   {
    "duration": 109,
    "start_time": "2022-07-11T14:31:44.404Z"
   },
   {
    "duration": 14,
    "start_time": "2022-07-11T14:31:44.516Z"
   },
   {
    "duration": 15,
    "start_time": "2022-07-11T14:31:44.532Z"
   },
   {
    "duration": 11,
    "start_time": "2022-07-11T14:31:44.549Z"
   },
   {
    "duration": 32,
    "start_time": "2022-07-11T14:31:44.562Z"
   },
   {
    "duration": 14,
    "start_time": "2022-07-11T14:31:44.596Z"
   },
   {
    "duration": 10,
    "start_time": "2022-07-11T14:33:18.408Z"
   },
   {
    "duration": 26,
    "start_time": "2022-07-11T14:39:30.507Z"
   },
   {
    "duration": 23,
    "start_time": "2022-07-11T14:39:46.667Z"
   },
   {
    "duration": 21,
    "start_time": "2022-07-11T14:40:14.776Z"
   },
   {
    "duration": 5,
    "start_time": "2022-07-11T14:41:13.771Z"
   },
   {
    "duration": 4954,
    "start_time": "2022-07-11T14:41:15.996Z"
   },
   {
    "duration": 28,
    "start_time": "2022-07-11T14:42:23.611Z"
   },
   {
    "duration": 5,
    "start_time": "2022-07-11T14:42:39.908Z"
   },
   {
    "duration": 616,
    "start_time": "2022-07-11T14:42:39.917Z"
   },
   {
    "duration": 169,
    "start_time": "2022-07-11T14:42:40.536Z"
   },
   {
    "duration": 59,
    "start_time": "2022-07-11T14:42:40.708Z"
   },
   {
    "duration": 70,
    "start_time": "2022-07-11T14:42:40.769Z"
   },
   {
    "duration": 86,
    "start_time": "2022-07-11T14:42:40.841Z"
   },
   {
    "duration": 30,
    "start_time": "2022-07-11T14:42:40.929Z"
   },
   {
    "duration": 1097,
    "start_time": "2022-07-11T14:42:40.961Z"
   },
   {
    "duration": 6,
    "start_time": "2022-07-11T14:42:42.060Z"
   },
   {
    "duration": 7,
    "start_time": "2022-07-11T14:42:42.069Z"
   },
   {
    "duration": 441,
    "start_time": "2022-07-11T14:42:42.079Z"
   },
   {
    "duration": 91,
    "start_time": "2022-07-11T14:42:42.523Z"
   },
   {
    "duration": 5,
    "start_time": "2022-07-11T14:42:42.616Z"
   },
   {
    "duration": 7,
    "start_time": "2022-07-11T14:42:42.623Z"
   },
   {
    "duration": 6,
    "start_time": "2022-07-11T14:42:42.632Z"
   },
   {
    "duration": 23,
    "start_time": "2022-07-11T14:42:42.640Z"
   },
   {
    "duration": 58,
    "start_time": "2022-07-11T14:42:42.665Z"
   },
   {
    "duration": 28,
    "start_time": "2022-07-11T14:43:42.101Z"
   },
   {
    "duration": 125,
    "start_time": "2022-07-11T14:44:54.246Z"
   },
   {
    "duration": 29,
    "start_time": "2022-07-11T14:45:00.354Z"
   },
   {
    "duration": 25,
    "start_time": "2022-07-11T14:47:31.290Z"
   },
   {
    "duration": 31,
    "start_time": "2022-07-11T14:50:16.986Z"
   },
   {
    "duration": 30,
    "start_time": "2022-07-11T14:50:40.449Z"
   },
   {
    "duration": 31,
    "start_time": "2022-07-11T14:52:47.471Z"
   },
   {
    "duration": 30,
    "start_time": "2022-07-11T14:52:59.654Z"
   },
   {
    "duration": 30,
    "start_time": "2022-07-11T14:54:26.358Z"
   },
   {
    "duration": 35,
    "start_time": "2022-07-11T14:55:41.490Z"
   },
   {
    "duration": 32,
    "start_time": "2022-07-11T14:57:15.812Z"
   },
   {
    "duration": 7,
    "start_time": "2022-07-11T14:59:49.623Z"
   },
   {
    "duration": 4989,
    "start_time": "2022-07-11T14:59:51.109Z"
   },
   {
    "duration": 4518,
    "start_time": "2022-07-11T15:00:51.551Z"
   },
   {
    "duration": 9,
    "start_time": "2022-07-11T15:03:49.472Z"
   },
   {
    "duration": 17,
    "start_time": "2022-07-11T15:04:17.400Z"
   },
   {
    "duration": 14,
    "start_time": "2022-07-11T15:04:33.230Z"
   },
   {
    "duration": 20,
    "start_time": "2022-07-11T15:04:45.302Z"
   },
   {
    "duration": 4,
    "start_time": "2022-07-11T15:04:53.953Z"
   },
   {
    "duration": 575,
    "start_time": "2022-07-11T15:04:53.959Z"
   },
   {
    "duration": 179,
    "start_time": "2022-07-11T15:04:54.536Z"
   },
   {
    "duration": 58,
    "start_time": "2022-07-11T15:04:54.718Z"
   },
   {
    "duration": 80,
    "start_time": "2022-07-11T15:04:54.778Z"
   },
   {
    "duration": 72,
    "start_time": "2022-07-11T15:04:54.859Z"
   },
   {
    "duration": 38,
    "start_time": "2022-07-11T15:04:54.933Z"
   },
   {
    "duration": 940,
    "start_time": "2022-07-11T15:04:54.973Z"
   },
   {
    "duration": 6,
    "start_time": "2022-07-11T15:04:55.916Z"
   },
   {
    "duration": 11,
    "start_time": "2022-07-11T15:04:55.925Z"
   },
   {
    "duration": 460,
    "start_time": "2022-07-11T15:04:55.938Z"
   },
   {
    "duration": 22,
    "start_time": "2022-07-11T15:04:56.401Z"
   },
   {
    "duration": 4,
    "start_time": "2022-07-11T15:04:56.426Z"
   },
   {
    "duration": 4,
    "start_time": "2022-07-11T15:04:56.433Z"
   },
   {
    "duration": 12,
    "start_time": "2022-07-11T15:04:56.439Z"
   },
   {
    "duration": 15,
    "start_time": "2022-07-11T15:04:56.453Z"
   },
   {
    "duration": 63,
    "start_time": "2022-07-11T15:04:56.470Z"
   },
   {
    "duration": 5,
    "start_time": "2022-07-11T15:04:56.535Z"
   },
   {
    "duration": 4694,
    "start_time": "2022-07-11T15:04:56.542Z"
   },
   {
    "duration": 9,
    "start_time": "2022-07-11T15:05:01.238Z"
   },
   {
    "duration": 22,
    "start_time": "2022-07-11T15:05:01.248Z"
   },
   {
    "duration": 16,
    "start_time": "2022-07-11T15:07:01.230Z"
   },
   {
    "duration": 41,
    "start_time": "2022-07-11T15:07:55.594Z"
   },
   {
    "duration": 5,
    "start_time": "2022-07-11T15:07:57.823Z"
   },
   {
    "duration": 4610,
    "start_time": "2022-07-11T15:07:58.632Z"
   },
   {
    "duration": 10,
    "start_time": "2022-07-11T15:08:03.245Z"
   },
   {
    "duration": 17,
    "start_time": "2022-07-11T15:08:03.257Z"
   },
   {
    "duration": 15,
    "start_time": "2022-07-11T15:08:56.182Z"
   },
   {
    "duration": 4,
    "start_time": "2022-07-11T15:09:01.312Z"
   },
   {
    "duration": 526,
    "start_time": "2022-07-11T15:09:01.319Z"
   },
   {
    "duration": 163,
    "start_time": "2022-07-11T15:09:01.847Z"
   },
   {
    "duration": 58,
    "start_time": "2022-07-11T15:09:02.012Z"
   },
   {
    "duration": 60,
    "start_time": "2022-07-11T15:09:02.071Z"
   },
   {
    "duration": 46,
    "start_time": "2022-07-11T15:09:02.132Z"
   },
   {
    "duration": 33,
    "start_time": "2022-07-11T15:09:02.199Z"
   },
   {
    "duration": 1003,
    "start_time": "2022-07-11T15:09:02.234Z"
   },
   {
    "duration": 5,
    "start_time": "2022-07-11T15:09:03.239Z"
   },
   {
    "duration": 8,
    "start_time": "2022-07-11T15:09:03.247Z"
   },
   {
    "duration": 547,
    "start_time": "2022-07-11T15:09:03.257Z"
   },
   {
    "duration": 103,
    "start_time": "2022-07-11T15:09:03.806Z"
   },
   {
    "duration": 5,
    "start_time": "2022-07-11T15:09:03.910Z"
   },
   {
    "duration": 6,
    "start_time": "2022-07-11T15:09:03.916Z"
   },
   {
    "duration": 7,
    "start_time": "2022-07-11T15:09:03.924Z"
   },
   {
    "duration": 20,
    "start_time": "2022-07-11T15:09:03.933Z"
   },
   {
    "duration": 57,
    "start_time": "2022-07-11T15:09:03.955Z"
   },
   {
    "duration": 6,
    "start_time": "2022-07-11T15:09:04.015Z"
   },
   {
    "duration": 4368,
    "start_time": "2022-07-11T15:09:04.023Z"
   },
   {
    "duration": 12,
    "start_time": "2022-07-11T15:09:08.393Z"
   },
   {
    "duration": 18,
    "start_time": "2022-07-11T15:09:08.407Z"
   },
   {
    "duration": 17,
    "start_time": "2022-07-11T15:09:08.427Z"
   },
   {
    "duration": 7,
    "start_time": "2022-07-11T15:16:10.295Z"
   },
   {
    "duration": 8,
    "start_time": "2022-07-11T15:17:10.777Z"
   },
   {
    "duration": 9,
    "start_time": "2022-07-11T15:18:03.877Z"
   },
   {
    "duration": 10,
    "start_time": "2022-07-11T15:19:31.115Z"
   },
   {
    "duration": 13,
    "start_time": "2022-07-11T15:20:19.173Z"
   },
   {
    "duration": 15,
    "start_time": "2022-07-11T15:20:27.065Z"
   },
   {
    "duration": 2727,
    "start_time": "2022-07-11T20:45:30.632Z"
   },
   {
    "duration": 516,
    "start_time": "2022-07-11T20:45:33.361Z"
   },
   {
    "duration": 145,
    "start_time": "2022-07-11T20:45:33.879Z"
   },
   {
    "duration": 62,
    "start_time": "2022-07-11T20:45:34.026Z"
   },
   {
    "duration": 38,
    "start_time": "2022-07-11T20:45:34.090Z"
   },
   {
    "duration": 57,
    "start_time": "2022-07-11T20:45:34.129Z"
   },
   {
    "duration": 28,
    "start_time": "2022-07-11T20:45:34.188Z"
   },
   {
    "duration": 890,
    "start_time": "2022-07-11T20:45:34.217Z"
   },
   {
    "duration": 5,
    "start_time": "2022-07-11T20:45:35.109Z"
   },
   {
    "duration": 7,
    "start_time": "2022-07-11T20:45:35.116Z"
   },
   {
    "duration": 242,
    "start_time": "2022-07-11T20:45:35.124Z"
   },
   {
    "duration": 92,
    "start_time": "2022-07-11T20:45:35.367Z"
   },
   {
    "duration": 13,
    "start_time": "2022-07-11T20:45:35.461Z"
   },
   {
    "duration": 5,
    "start_time": "2022-07-11T20:45:35.476Z"
   },
   {
    "duration": 9,
    "start_time": "2022-07-11T20:45:35.483Z"
   },
   {
    "duration": 68,
    "start_time": "2022-07-11T20:45:35.493Z"
   },
   {
    "duration": 38,
    "start_time": "2022-07-11T20:45:35.564Z"
   },
   {
    "duration": 5,
    "start_time": "2022-07-11T20:45:35.603Z"
   },
   {
    "duration": 4048,
    "start_time": "2022-07-11T20:45:35.609Z"
   },
   {
    "duration": 10,
    "start_time": "2022-07-11T20:45:39.660Z"
   },
   {
    "duration": 17,
    "start_time": "2022-07-11T20:45:39.671Z"
   },
   {
    "duration": 17,
    "start_time": "2022-07-11T20:45:39.689Z"
   },
   {
    "duration": 49,
    "start_time": "2022-07-12T06:55:59.475Z"
   },
   {
    "duration": 1767,
    "start_time": "2022-07-12T06:56:07.543Z"
   },
   {
    "duration": 1913,
    "start_time": "2022-07-12T06:56:09.313Z"
   },
   {
    "duration": 159,
    "start_time": "2022-07-12T06:56:11.228Z"
   },
   {
    "duration": 64,
    "start_time": "2022-07-12T06:56:11.398Z"
   },
   {
    "duration": 70,
    "start_time": "2022-07-12T06:56:11.465Z"
   },
   {
    "duration": 63,
    "start_time": "2022-07-12T06:56:11.537Z"
   },
   {
    "duration": 38,
    "start_time": "2022-07-12T06:56:11.602Z"
   },
   {
    "duration": 853,
    "start_time": "2022-07-12T06:56:11.642Z"
   },
   {
    "duration": 5,
    "start_time": "2022-07-12T06:56:12.498Z"
   },
   {
    "duration": 98,
    "start_time": "2022-07-12T06:56:12.506Z"
   },
   {
    "duration": 404,
    "start_time": "2022-07-12T06:56:12.606Z"
   },
   {
    "duration": 21,
    "start_time": "2022-07-12T06:56:13.099Z"
   },
   {
    "duration": 3,
    "start_time": "2022-07-12T06:56:13.122Z"
   },
   {
    "duration": 8,
    "start_time": "2022-07-12T06:56:13.127Z"
   },
   {
    "duration": 10,
    "start_time": "2022-07-12T06:56:13.137Z"
   },
   {
    "duration": 16,
    "start_time": "2022-07-12T06:56:13.150Z"
   },
   {
    "duration": 33,
    "start_time": "2022-07-12T06:56:13.199Z"
   },
   {
    "duration": 5,
    "start_time": "2022-07-12T06:56:13.234Z"
   },
   {
    "duration": 4404,
    "start_time": "2022-07-12T06:56:13.241Z"
   },
   {
    "duration": 9,
    "start_time": "2022-07-12T06:56:17.647Z"
   },
   {
    "duration": 17,
    "start_time": "2022-07-12T06:56:17.657Z"
   },
   {
    "duration": 35,
    "start_time": "2022-07-12T06:56:17.676Z"
   },
   {
    "duration": 4,
    "start_time": "2022-07-12T06:57:31.276Z"
   },
   {
    "duration": 587,
    "start_time": "2022-07-12T06:57:31.313Z"
   },
   {
    "duration": 161,
    "start_time": "2022-07-12T06:57:31.902Z"
   },
   {
    "duration": 70,
    "start_time": "2022-07-12T06:57:32.065Z"
   },
   {
    "duration": 65,
    "start_time": "2022-07-12T06:57:32.137Z"
   },
   {
    "duration": 49,
    "start_time": "2022-07-12T06:57:32.204Z"
   },
   {
    "duration": 60,
    "start_time": "2022-07-12T06:57:32.255Z"
   },
   {
    "duration": 839,
    "start_time": "2022-07-12T06:57:32.317Z"
   },
   {
    "duration": 6,
    "start_time": "2022-07-12T06:57:33.157Z"
   },
   {
    "duration": 10,
    "start_time": "2022-07-12T06:57:37.162Z"
   },
   {
    "duration": 420,
    "start_time": "2022-07-12T06:57:40.081Z"
   },
   {
    "duration": 19,
    "start_time": "2022-07-12T06:57:53.411Z"
   },
   {
    "duration": 75,
    "start_time": "2022-07-12T07:00:57.916Z"
   },
   {
    "duration": 32,
    "start_time": "2022-07-12T07:05:04.516Z"
   },
   {
    "duration": 42,
    "start_time": "2022-07-12T07:06:49.036Z"
   },
   {
    "duration": 63,
    "start_time": "2022-07-12T07:14:28.617Z"
   },
   {
    "duration": 605,
    "start_time": "2022-07-12T07:14:28.682Z"
   },
   {
    "duration": 151,
    "start_time": "2022-07-12T07:14:29.288Z"
   },
   {
    "duration": 73,
    "start_time": "2022-07-12T07:14:29.441Z"
   },
   {
    "duration": 43,
    "start_time": "2022-07-12T07:14:29.517Z"
   },
   {
    "duration": 75,
    "start_time": "2022-07-12T07:14:29.562Z"
   },
   {
    "duration": 32,
    "start_time": "2022-07-12T07:14:29.639Z"
   },
   {
    "duration": 977,
    "start_time": "2022-07-12T07:14:29.674Z"
   },
   {
    "duration": 5,
    "start_time": "2022-07-12T07:14:30.653Z"
   },
   {
    "duration": 11,
    "start_time": "2022-07-12T07:14:30.661Z"
   },
   {
    "duration": 425,
    "start_time": "2022-07-12T07:14:30.674Z"
   },
   {
    "duration": 111,
    "start_time": "2022-07-12T07:14:31.101Z"
   },
   {
    "duration": 6,
    "start_time": "2022-07-12T07:14:31.214Z"
   },
   {
    "duration": 41,
    "start_time": "2022-07-12T07:14:31.221Z"
   },
   {
    "duration": 0,
    "start_time": "2022-07-12T07:14:31.263Z"
   },
   {
    "duration": 0,
    "start_time": "2022-07-12T07:14:31.265Z"
   },
   {
    "duration": 0,
    "start_time": "2022-07-12T07:14:31.266Z"
   },
   {
    "duration": 0,
    "start_time": "2022-07-12T07:14:31.268Z"
   },
   {
    "duration": 0,
    "start_time": "2022-07-12T07:14:31.268Z"
   },
   {
    "duration": 0,
    "start_time": "2022-07-12T07:14:31.270Z"
   },
   {
    "duration": 0,
    "start_time": "2022-07-12T07:14:31.271Z"
   },
   {
    "duration": 0,
    "start_time": "2022-07-12T07:14:31.273Z"
   },
   {
    "duration": 0,
    "start_time": "2022-07-12T07:14:31.300Z"
   },
   {
    "duration": 1196,
    "start_time": "2022-07-12T07:15:12.213Z"
   },
   {
    "duration": 1000,
    "start_time": "2022-07-12T07:15:39.931Z"
   },
   {
    "duration": 1040,
    "start_time": "2022-07-12T07:16:28.088Z"
   },
   {
    "duration": 1205,
    "start_time": "2022-07-12T07:22:33.380Z"
   },
   {
    "duration": 1120,
    "start_time": "2022-07-12T07:24:46.111Z"
   },
   {
    "duration": 9,
    "start_time": "2022-07-12T07:38:14.853Z"
   },
   {
    "duration": 13,
    "start_time": "2022-07-12T07:42:16.537Z"
   },
   {
    "duration": 10,
    "start_time": "2022-07-12T07:42:25.819Z"
   },
   {
    "duration": 3,
    "start_time": "2022-07-12T07:43:30.749Z"
   },
   {
    "duration": 574,
    "start_time": "2022-07-12T07:43:30.779Z"
   },
   {
    "duration": 168,
    "start_time": "2022-07-12T07:43:31.355Z"
   },
   {
    "duration": 51,
    "start_time": "2022-07-12T07:43:31.525Z"
   },
   {
    "duration": 68,
    "start_time": "2022-07-12T07:43:31.578Z"
   },
   {
    "duration": 63,
    "start_time": "2022-07-12T07:43:31.649Z"
   },
   {
    "duration": 31,
    "start_time": "2022-07-12T07:43:31.714Z"
   },
   {
    "duration": 873,
    "start_time": "2022-07-12T07:43:31.747Z"
   },
   {
    "duration": 5,
    "start_time": "2022-07-12T07:43:32.622Z"
   },
   {
    "duration": 138,
    "start_time": "2022-07-12T07:43:32.629Z"
   },
   {
    "duration": 343,
    "start_time": "2022-07-12T07:43:32.769Z"
   },
   {
    "duration": 99,
    "start_time": "2022-07-12T07:43:33.113Z"
   },
   {
    "duration": 4,
    "start_time": "2022-07-12T07:43:33.216Z"
   },
   {
    "duration": 1186,
    "start_time": "2022-07-12T07:43:33.222Z"
   },
   {
    "duration": 3,
    "start_time": "2022-07-12T07:43:34.412Z"
   },
   {
    "duration": 10,
    "start_time": "2022-07-12T07:43:34.417Z"
   },
   {
    "duration": 18,
    "start_time": "2022-07-12T07:43:34.429Z"
   },
   {
    "duration": 0,
    "start_time": "2022-07-12T07:43:34.449Z"
   },
   {
    "duration": 0,
    "start_time": "2022-07-12T07:43:34.450Z"
   },
   {
    "duration": 0,
    "start_time": "2022-07-12T07:43:34.451Z"
   },
   {
    "duration": 0,
    "start_time": "2022-07-12T07:43:34.452Z"
   },
   {
    "duration": 0,
    "start_time": "2022-07-12T07:43:34.453Z"
   },
   {
    "duration": 0,
    "start_time": "2022-07-12T07:43:34.454Z"
   },
   {
    "duration": 1465,
    "start_time": "2022-07-12T07:45:32.339Z"
   },
   {
    "duration": 620,
    "start_time": "2022-07-12T07:45:33.807Z"
   },
   {
    "duration": 149,
    "start_time": "2022-07-12T07:45:34.429Z"
   },
   {
    "duration": 63,
    "start_time": "2022-07-12T07:45:34.580Z"
   },
   {
    "duration": 68,
    "start_time": "2022-07-12T07:45:34.645Z"
   },
   {
    "duration": 47,
    "start_time": "2022-07-12T07:45:34.715Z"
   },
   {
    "duration": 50,
    "start_time": "2022-07-12T07:45:34.765Z"
   },
   {
    "duration": 923,
    "start_time": "2022-07-12T07:45:34.817Z"
   },
   {
    "duration": 6,
    "start_time": "2022-07-12T07:45:35.742Z"
   },
   {
    "duration": 110,
    "start_time": "2022-07-12T07:45:35.751Z"
   },
   {
    "duration": 245,
    "start_time": "2022-07-12T07:45:35.862Z"
   },
   {
    "duration": 100,
    "start_time": "2022-07-12T07:45:36.113Z"
   },
   {
    "duration": 5,
    "start_time": "2022-07-12T07:45:36.214Z"
   },
   {
    "duration": 1175,
    "start_time": "2022-07-12T07:45:36.220Z"
   },
   {
    "duration": 16,
    "start_time": "2022-07-12T07:45:37.397Z"
   },
   {
    "duration": 8,
    "start_time": "2022-07-12T07:45:37.416Z"
   },
   {
    "duration": 133,
    "start_time": "2022-07-12T07:45:37.426Z"
   },
   {
    "duration": 0,
    "start_time": "2022-07-12T07:45:37.561Z"
   },
   {
    "duration": 0,
    "start_time": "2022-07-12T07:45:37.562Z"
   },
   {
    "duration": 0,
    "start_time": "2022-07-12T07:45:37.563Z"
   },
   {
    "duration": 0,
    "start_time": "2022-07-12T07:45:37.564Z"
   },
   {
    "duration": 0,
    "start_time": "2022-07-12T07:45:37.565Z"
   },
   {
    "duration": 0,
    "start_time": "2022-07-12T07:45:37.566Z"
   },
   {
    "duration": 3,
    "start_time": "2022-07-12T07:51:44.990Z"
   },
   {
    "duration": 699,
    "start_time": "2022-07-12T07:51:44.996Z"
   },
   {
    "duration": 149,
    "start_time": "2022-07-12T07:51:45.698Z"
   },
   {
    "duration": 65,
    "start_time": "2022-07-12T07:51:45.849Z"
   },
   {
    "duration": 55,
    "start_time": "2022-07-12T07:51:45.917Z"
   },
   {
    "duration": 59,
    "start_time": "2022-07-12T07:51:45.973Z"
   },
   {
    "duration": 32,
    "start_time": "2022-07-12T07:51:46.033Z"
   },
   {
    "duration": 926,
    "start_time": "2022-07-12T07:51:46.067Z"
   },
   {
    "duration": 14,
    "start_time": "2022-07-12T07:51:46.997Z"
   },
   {
    "duration": 20,
    "start_time": "2022-07-12T07:51:47.013Z"
   },
   {
    "duration": 380,
    "start_time": "2022-07-12T07:51:47.036Z"
   },
   {
    "duration": 99,
    "start_time": "2022-07-12T07:51:47.419Z"
   },
   {
    "duration": 8,
    "start_time": "2022-07-12T07:51:47.520Z"
   },
   {
    "duration": 1144,
    "start_time": "2022-07-12T07:51:47.530Z"
   },
   {
    "duration": 3,
    "start_time": "2022-07-12T07:51:48.676Z"
   },
   {
    "duration": 8,
    "start_time": "2022-07-12T07:51:48.681Z"
   },
   {
    "duration": 25,
    "start_time": "2022-07-12T07:51:48.697Z"
   },
   {
    "duration": 29,
    "start_time": "2022-07-12T07:51:48.724Z"
   },
   {
    "duration": 5,
    "start_time": "2022-07-12T07:51:48.755Z"
   },
   {
    "duration": 4746,
    "start_time": "2022-07-12T07:51:48.762Z"
   },
   {
    "duration": 10,
    "start_time": "2022-07-12T07:51:53.514Z"
   },
   {
    "duration": 23,
    "start_time": "2022-07-12T07:51:53.526Z"
   },
   {
    "duration": 22,
    "start_time": "2022-07-12T07:51:53.551Z"
   },
   {
    "duration": 20,
    "start_time": "2022-07-12T08:05:30.098Z"
   },
   {
    "duration": 9,
    "start_time": "2022-07-12T08:05:41.825Z"
   },
   {
    "duration": 19,
    "start_time": "2022-07-12T08:05:53.940Z"
   },
   {
    "duration": 19,
    "start_time": "2022-07-12T08:06:11.059Z"
   },
   {
    "duration": 15,
    "start_time": "2022-07-12T08:49:24.938Z"
   },
   {
    "duration": 16,
    "start_time": "2022-07-12T08:50:31.078Z"
   },
   {
    "duration": 7,
    "start_time": "2022-07-12T08:50:45.939Z"
   },
   {
    "duration": 10,
    "start_time": "2022-07-12T08:51:38.382Z"
   },
   {
    "duration": 8,
    "start_time": "2022-07-12T08:52:00.860Z"
   },
   {
    "duration": 17,
    "start_time": "2022-07-12T08:53:47.002Z"
   },
   {
    "duration": 4,
    "start_time": "2022-07-12T08:54:22.573Z"
   },
   {
    "duration": 582,
    "start_time": "2022-07-12T08:54:22.584Z"
   },
   {
    "duration": 175,
    "start_time": "2022-07-12T08:54:23.169Z"
   },
   {
    "duration": 87,
    "start_time": "2022-07-12T08:54:23.346Z"
   },
   {
    "duration": 74,
    "start_time": "2022-07-12T08:54:23.435Z"
   },
   {
    "duration": 86,
    "start_time": "2022-07-12T08:54:23.512Z"
   },
   {
    "duration": 45,
    "start_time": "2022-07-12T08:54:23.601Z"
   },
   {
    "duration": 974,
    "start_time": "2022-07-12T08:54:23.648Z"
   },
   {
    "duration": 5,
    "start_time": "2022-07-12T08:54:24.624Z"
   },
   {
    "duration": 11,
    "start_time": "2022-07-12T08:54:24.632Z"
   },
   {
    "duration": 472,
    "start_time": "2022-07-12T08:54:24.645Z"
   },
   {
    "duration": 105,
    "start_time": "2022-07-12T08:54:25.118Z"
   },
   {
    "duration": 4,
    "start_time": "2022-07-12T08:54:25.225Z"
   },
   {
    "duration": 1267,
    "start_time": "2022-07-12T08:54:25.231Z"
   },
   {
    "duration": 5,
    "start_time": "2022-07-12T08:54:26.501Z"
   },
   {
    "duration": 11,
    "start_time": "2022-07-12T08:54:26.508Z"
   },
   {
    "duration": 22,
    "start_time": "2022-07-12T08:54:26.522Z"
   },
   {
    "duration": 64,
    "start_time": "2022-07-12T08:54:26.546Z"
   },
   {
    "duration": 8,
    "start_time": "2022-07-12T08:54:26.612Z"
   },
   {
    "duration": 4829,
    "start_time": "2022-07-12T08:54:26.622Z"
   },
   {
    "duration": 13,
    "start_time": "2022-07-12T08:54:31.454Z"
   },
   {
    "duration": 36,
    "start_time": "2022-07-12T08:54:31.469Z"
   },
   {
    "duration": 29,
    "start_time": "2022-07-12T08:54:31.507Z"
   },
   {
    "duration": 7,
    "start_time": "2022-07-12T08:56:51.872Z"
   },
   {
    "duration": 116,
    "start_time": "2022-07-12T08:57:48.776Z"
   },
   {
    "duration": 6,
    "start_time": "2022-07-12T08:57:53.382Z"
   },
   {
    "duration": 19,
    "start_time": "2022-07-12T08:58:02.192Z"
   },
   {
    "duration": 8,
    "start_time": "2022-07-12T09:00:14.829Z"
   },
   {
    "duration": 28,
    "start_time": "2022-07-12T09:00:19.179Z"
   }
  ],
  "kernelspec": {
   "display_name": "Python 3 (ipykernel)",
   "language": "python",
   "name": "python3"
  },
  "language_info": {
   "codemirror_mode": {
    "name": "ipython",
    "version": 3
   },
   "file_extension": ".py",
   "mimetype": "text/x-python",
   "name": "python",
   "nbconvert_exporter": "python",
   "pygments_lexer": "ipython3",
   "version": "3.9.7"
  },
  "toc": {
   "base_numbering": 1,
   "nav_menu": {},
   "number_sections": true,
   "sideBar": true,
   "skip_h1_title": true,
   "title_cell": "Table of Contents",
   "title_sidebar": "Contents",
   "toc_cell": false,
   "toc_position": {},
   "toc_section_display": true,
   "toc_window_display": false
  }
 },
 "nbformat": 4,
 "nbformat_minor": 2
}
