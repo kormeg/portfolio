{
 "cells": [
  {
   "cell_type": "markdown",
   "metadata": {},
   "source": [
    "<div style=\"border:solid Chocolate 2px; padding: 40px\">\n",
    "\n",
    "<b>Паша, привет!👋</b>\n",
    "\n",
    "Меня зовут Горбунова Анастасия, и я буду давать обратную связь по твоему проекту. Предлагаю общаться на \"ты\", но если это  неудобно, обязательно скажи об этом, и мы перейдем на \"вы\"! Моя основная задача - поделиться своим опытом и помочь тебе пройти путь до аналитика данных.\n",
    "    \n",
    "Чтобы тебе проще было ориентироваться, мои комментарии будут отмечены <font color='green'>👍 зеленым</font>, <font color='Orange'>💡 желтым</font> и <font color='red'>❌ красным</font> цветами:\n",
    "\n",
    "\n",
    "\n",
    "<br/>\n",
    "\n",
    "<div class=\"alert alert-success\">\n",
    "<h2> Комментарий ревьюера <a class=\"tocSkip\"> </h2>\n",
    "\n",
    "<b>Все отлично! 👍:</b> \n",
    "    \n",
    "Таким цветом отмечены правильные и удачные решения, на которые можно опираться в будущих проектах. \n",
    "</div>\n",
    "\n",
    "<br/>\n",
    "\n",
    "<div class=\"alert alert-warning\">\n",
    "    <h2> Комментарий ревьюера <a class=\"tocSkip\"> </h2>\n",
    "    \n",
    "<b>Некоторые рекомендации 💡:</b> \n",
    "        \n",
    "Так отмечены комментарии-рекомендации на будущее или небольшие коррективы. Ты можешь учесть эти комментарии при выполнении следующих проектов. \n",
    "</div>\n",
    "\n",
    "\n",
    "<br/>\n",
    "<div class=\"alert alert-block alert-danger\">\n",
    "<h2> Комментарий ревьюера <a class=\"tocSkip\"></h2>\n",
    "\n",
    "    \n",
    "<b>На доработку ❌:</b> \n",
    "    \n",
    "Красным цветом отмечены комментарии, которые требуют твоего внимания. Решение на этом этапе требует переработки или внесения правок. После доработки проект будет принят.\n",
    "</div>\n",
    "    \n",
    "\n",
    "В случае доработки проекта оставь все предыдущие комментарии без изменения. Пожалуйста, не удаляй, не перемещай и не изменяй мои комментарии. Это поможет выполнить повторную проверку твоего проекта оперативнее.\n",
    "    \n",
    "    \n",
    "Также прошу реагировать на мои комментарии своими: если ты что-то меняешь в проекте по моим рекомендациям - пиши об этом в ячейке Markdown. Выдели свои комментарии каким-либо другим заметным цветом, явно  отличающимся от цвета моих комментариев. Это нужно, чтобы не создавалась путаница и было проще отследить изменения.\n"
   ]
  },
  {
   "cell_type": "markdown",
   "metadata": {},
   "source": [
    "<div style=\"border:solid Green 2px; padding: 40px\">\n",
    "Привет еще раз. Я буду также выделять свои комментарии цветом, но сейчас они будут отмечены так\n",
    "\n",
    "<h2> Комментарий ревьюера_V2 <a class=\"tocSkip\"> </h2>\n",
    "    \n",
    "Спасибо за доработку. Проект принят. Желаю удачи в дальнейшем обучении."
   ]
  },
  {
   "cell_type": "markdown",
   "metadata": {},
   "source": [
    "<div class = \"alert alert-info\" style=\"border-left: 7px solid blue\">\n",
    "<b>Комментарий студента</b>\n",
    "    \n",
    "Это шаблон для тебя, можешь воспользоваться им или сделать по своему усмотрению. Так я смогу быстро найти твои комментарии.\n",
    "</div>"
   ]
  },
  {
   "cell_type": "markdown",
   "metadata": {},
   "source": [
    "# Определение перспективного тарифа для телеком-компании"
   ]
  },
  {
   "cell_type": "markdown",
   "metadata": {},
   "source": [
    "Цель проекта:\n",
    "Провести предварительный анализ тарифов на небольшой выборке клиентов. В нашем распоряжении данные 500 пользователей «Мегалайна» за 2018 год. Нужно проанализировать поведение клиентов и сделать вывод — какой тариф лучше.\n",
    "\n",
    "Описание тарифов:\n",
    "\n",
    "\n",
    "Тариф «Смарт»\n",
    "\n",
    "Ежемесячная плата: 550 рублей\n",
    "\n",
    "Включено 500 минут разговора, 50 сообщений и 15 Гб интернет-трафика\n",
    "\n",
    "Стоимость услуг сверх тарифного пакета:\n",
    "\n",
    "минута разговора: 3 рубля\n",
    "\n",
    "сообщение: 3 рубля\n",
    "\n",
    "1 Гб интернет-трафика: 200 рублей\n",
    "\n",
    "\n",
    "Тариф «Ультра»\n",
    "\n",
    "Ежемесячная плата: 1950 рублей\n",
    "\n",
    "Включено 3000 минут разговора, 1000 сообщений и 30 Гб интернет-трафика\n",
    "\n",
    "Стоимость услуг сверх тарифного пакета:\n",
    "\n",
    "минута разговора: 1 рубль\n",
    "\n",
    "сообщение: 1 рубль\n",
    "\n",
    "1 Гб интернет-трафика: 150 рублей"
   ]
  },
  {
   "cell_type": "markdown",
   "metadata": {},
   "source": [
    "<div style=\"border:solid Green 2px; padding: 40px\">\n",
    "<div class=\"alert alert-success\">\n",
    "<h3> Комментарий ревьюера <a class=\"tocSkip\"> </h3>\n",
    "\n",
    "<font color='green'><b>Все отлично! 👍:</b>  </font>\n",
    "\n",
    "    \n",
    "Здорово, что во вступлении к твоему проекту есть заголовок, краткое описание проекта, цель проекта. Оно станет еще лучше, если ты добавишь в него описание данных и план работы. Тогда получатель отчета сможет быстрей его понять.\n",
    "    \n",
    "</div>"
   ]
  },
  {
   "cell_type": "markdown",
   "metadata": {},
   "source": [
    "<div class = \"alert alert-info\" style=\"border-left: 7px solid blue\">\n",
    "<b>ок</b>\n",
    "    \n",
    "</div>"
   ]
  },
  {
   "cell_type": "markdown",
   "metadata": {},
   "source": [
    "## Изучение данных из файла"
   ]
  },
  {
   "cell_type": "markdown",
   "metadata": {},
   "source": [
    "<div style=\"border:solid Orange 2px; padding: 40px\">\n",
    "<div class=\"alert alert-warning\">\n",
    "    <h3> Комментарий ревьюера <a class=\"tocSkip\"> </h3>\n",
    "    \n",
    "<font color='Orange'><b>Некоторые рекомендации 💡:</b> </font>\n",
    "        \n",
    "Я вижу, что ячейки в твоей тетрадке начинаются не с 1. Перед отправкой проекта стоит проверять работоспособность кода — это можно сделать, нажав на панели Jupiter Hub ``Kernel`` и ``Restart & Run All`` \n",
    "        \n",
    "\n",
    "</div>"
   ]
  },
  {
   "cell_type": "markdown",
   "metadata": {},
   "source": [
    "<div class = \"alert alert-info\" style=\"border-left: 7px solid blue\">\n",
    "<b>не понял этот комментарий. что значит \"не с 1\"? Вроде, код был работоспособен</b>\n",
    "    \n",
    "</div>"
   ]
  },
  {
   "attachments": {
    "image.png": {
     "image/png": "[encoded data removed]"
    }
   },
   "cell_type": "markdown",
   "metadata": {},
   "source": [
    "<div style=\"border:solid Green 2px; padding: 40px\">\n",
    "<div class=\"alert alert-success\">\n",
    "<h2> Комментарий ревьюера_V2 <a class=\"tocSkip\"> </h2>\n",
    "\n",
    "<font color='green'><b>Все отлично! 👍:</b>  </font>\n",
    "\n",
    "![image.png](attachment:image.png)\n",
    "    \n",
    "Это означает, что ячейка запускалась 254 по счету. Kernel и Restart&RunAll - это перезапуск ядра с очищисткой всех переменных. Можно сказать, что это смоделирует запуск на другом компьютере, выполнит последовательно код в блокноте, и проверит его работоспособнось. Это будет гарантировать, что код пойдет на любом компьютере.\n",
    "    \n",
    "</div>"
   ]
  },
  {
   "cell_type": "code",
   "execution_count": 20,
   "metadata": {},
   "outputs": [],
   "source": [
    "import pandas as pd\n",
    "import numpy as np\n",
    "import matplotlib.pyplot as plt\n",
    "from scipy import stats as st\n",
    "import warnings\n",
    "warnings.filterwarnings(\"ignore\")"
   ]
  },
  {
   "cell_type": "code",
   "execution_count": 21,
   "metadata": {
    "scrolled": false
   },
   "outputs": [
    {
     "data": {
      "text/plain": [
       "'----------------------------------------'"
      ]
     },
     "metadata": {},
     "output_type": "display_data"
    },
    {
     "data": {
      "text/plain": [
       "'TARIFFS'"
      ]
     },
     "metadata": {},
     "output_type": "display_data"
    },
    {
     "data": {
      "text/html": [
       "<div>\n",
       "<style scoped>\n",
       "    .dataframe tbody tr th:only-of-type {\n",
       "        vertical-align: middle;\n",
       "    }\n",
       "\n",
       "    .dataframe tbody tr th {\n",
       "        vertical-align: top;\n",
       "    }\n",
       "\n",
       "    .dataframe thead th {\n",
       "        text-align: right;\n",
       "    }\n",
       "</style>\n",
       "<table border=\"1\" class=\"dataframe\">\n",
       "  <thead>\n",
       "    <tr style=\"text-align: right;\">\n",
       "      <th></th>\n",
       "      <th>messages_included</th>\n",
       "      <th>mb_per_month_included</th>\n",
       "      <th>minutes_included</th>\n",
       "      <th>rub_monthly_fee</th>\n",
       "      <th>rub_per_gb</th>\n",
       "      <th>rub_per_message</th>\n",
       "      <th>rub_per_minute</th>\n",
       "      <th>tariff_name</th>\n",
       "    </tr>\n",
       "  </thead>\n",
       "  <tbody>\n",
       "    <tr>\n",
       "      <th>0</th>\n",
       "      <td>50</td>\n",
       "      <td>15360</td>\n",
       "      <td>500</td>\n",
       "      <td>550</td>\n",
       "      <td>200</td>\n",
       "      <td>3</td>\n",
       "      <td>3</td>\n",
       "      <td>smart</td>\n",
       "    </tr>\n",
       "    <tr>\n",
       "      <th>1</th>\n",
       "      <td>1000</td>\n",
       "      <td>30720</td>\n",
       "      <td>3000</td>\n",
       "      <td>1950</td>\n",
       "      <td>150</td>\n",
       "      <td>1</td>\n",
       "      <td>1</td>\n",
       "      <td>ultra</td>\n",
       "    </tr>\n",
       "  </tbody>\n",
       "</table>\n",
       "</div>"
      ],
      "text/plain": [
       "   messages_included  mb_per_month_included  minutes_included  \\\n",
       "0                 50                  15360               500   \n",
       "1               1000                  30720              3000   \n",
       "\n",
       "   rub_monthly_fee  rub_per_gb  rub_per_message  rub_per_minute tariff_name  \n",
       "0              550         200                3               3       smart  \n",
       "1             1950         150                1               1       ultra  "
      ]
     },
     "metadata": {},
     "output_type": "display_data"
    },
    {
     "name": "stdout",
     "output_type": "stream",
     "text": [
      "<class 'pandas.core.frame.DataFrame'>\n",
      "RangeIndex: 2 entries, 0 to 1\n",
      "Data columns (total 8 columns):\n",
      " #   Column                 Non-Null Count  Dtype \n",
      "---  ------                 --------------  ----- \n",
      " 0   messages_included      2 non-null      int64 \n",
      " 1   mb_per_month_included  2 non-null      int64 \n",
      " 2   minutes_included       2 non-null      int64 \n",
      " 3   rub_monthly_fee        2 non-null      int64 \n",
      " 4   rub_per_gb             2 non-null      int64 \n",
      " 5   rub_per_message        2 non-null      int64 \n",
      " 6   rub_per_minute         2 non-null      int64 \n",
      " 7   tariff_name            2 non-null      object\n",
      "dtypes: int64(7), object(1)\n",
      "memory usage: 256.0+ bytes\n"
     ]
    },
    {
     "data": {
      "text/plain": [
       "'----------------------------------------'"
      ]
     },
     "metadata": {},
     "output_type": "display_data"
    },
    {
     "data": {
      "text/plain": [
       "'USERS'"
      ]
     },
     "metadata": {},
     "output_type": "display_data"
    },
    {
     "data": {
      "text/html": [
       "<div>\n",
       "<style scoped>\n",
       "    .dataframe tbody tr th:only-of-type {\n",
       "        vertical-align: middle;\n",
       "    }\n",
       "\n",
       "    .dataframe tbody tr th {\n",
       "        vertical-align: top;\n",
       "    }\n",
       "\n",
       "    .dataframe thead th {\n",
       "        text-align: right;\n",
       "    }\n",
       "</style>\n",
       "<table border=\"1\" class=\"dataframe\">\n",
       "  <thead>\n",
       "    <tr style=\"text-align: right;\">\n",
       "      <th></th>\n",
       "      <th>user_id</th>\n",
       "      <th>age</th>\n",
       "      <th>churn_date</th>\n",
       "      <th>city</th>\n",
       "      <th>first_name</th>\n",
       "      <th>last_name</th>\n",
       "      <th>reg_date</th>\n",
       "      <th>tariff</th>\n",
       "    </tr>\n",
       "  </thead>\n",
       "  <tbody>\n",
       "    <tr>\n",
       "      <th>0</th>\n",
       "      <td>1000</td>\n",
       "      <td>52</td>\n",
       "      <td>NaN</td>\n",
       "      <td>Краснодар</td>\n",
       "      <td>Рафаил</td>\n",
       "      <td>Верещагин</td>\n",
       "      <td>2018-05-25</td>\n",
       "      <td>ultra</td>\n",
       "    </tr>\n",
       "    <tr>\n",
       "      <th>1</th>\n",
       "      <td>1001</td>\n",
       "      <td>41</td>\n",
       "      <td>NaN</td>\n",
       "      <td>Москва</td>\n",
       "      <td>Иван</td>\n",
       "      <td>Ежов</td>\n",
       "      <td>2018-11-01</td>\n",
       "      <td>smart</td>\n",
       "    </tr>\n",
       "    <tr>\n",
       "      <th>2</th>\n",
       "      <td>1002</td>\n",
       "      <td>59</td>\n",
       "      <td>NaN</td>\n",
       "      <td>Стерлитамак</td>\n",
       "      <td>Евгений</td>\n",
       "      <td>Абрамович</td>\n",
       "      <td>2018-06-17</td>\n",
       "      <td>smart</td>\n",
       "    </tr>\n",
       "    <tr>\n",
       "      <th>3</th>\n",
       "      <td>1003</td>\n",
       "      <td>23</td>\n",
       "      <td>NaN</td>\n",
       "      <td>Москва</td>\n",
       "      <td>Белла</td>\n",
       "      <td>Белякова</td>\n",
       "      <td>2018-08-17</td>\n",
       "      <td>ultra</td>\n",
       "    </tr>\n",
       "    <tr>\n",
       "      <th>4</th>\n",
       "      <td>1004</td>\n",
       "      <td>68</td>\n",
       "      <td>NaN</td>\n",
       "      <td>Новокузнецк</td>\n",
       "      <td>Татьяна</td>\n",
       "      <td>Авдеенко</td>\n",
       "      <td>2018-05-14</td>\n",
       "      <td>ultra</td>\n",
       "    </tr>\n",
       "    <tr>\n",
       "      <th>5</th>\n",
       "      <td>1005</td>\n",
       "      <td>67</td>\n",
       "      <td>NaN</td>\n",
       "      <td>Набережные Челны</td>\n",
       "      <td>Афанасий</td>\n",
       "      <td>Горлов</td>\n",
       "      <td>2018-01-25</td>\n",
       "      <td>smart</td>\n",
       "    </tr>\n",
       "    <tr>\n",
       "      <th>6</th>\n",
       "      <td>1006</td>\n",
       "      <td>21</td>\n",
       "      <td>NaN</td>\n",
       "      <td>Ульяновск</td>\n",
       "      <td>Леонид</td>\n",
       "      <td>Ермолаев</td>\n",
       "      <td>2018-02-26</td>\n",
       "      <td>smart</td>\n",
       "    </tr>\n",
       "    <tr>\n",
       "      <th>7</th>\n",
       "      <td>1007</td>\n",
       "      <td>65</td>\n",
       "      <td>NaN</td>\n",
       "      <td>Москва</td>\n",
       "      <td>Юна</td>\n",
       "      <td>Березина</td>\n",
       "      <td>2018-04-19</td>\n",
       "      <td>smart</td>\n",
       "    </tr>\n",
       "    <tr>\n",
       "      <th>8</th>\n",
       "      <td>1008</td>\n",
       "      <td>63</td>\n",
       "      <td>NaN</td>\n",
       "      <td>Челябинск</td>\n",
       "      <td>Рустэм</td>\n",
       "      <td>Пономарёв</td>\n",
       "      <td>2018-12-19</td>\n",
       "      <td>smart</td>\n",
       "    </tr>\n",
       "    <tr>\n",
       "      <th>9</th>\n",
       "      <td>1009</td>\n",
       "      <td>24</td>\n",
       "      <td>NaN</td>\n",
       "      <td>Пермь</td>\n",
       "      <td>Василиса</td>\n",
       "      <td>Блинова</td>\n",
       "      <td>2018-03-22</td>\n",
       "      <td>smart</td>\n",
       "    </tr>\n",
       "  </tbody>\n",
       "</table>\n",
       "</div>"
      ],
      "text/plain": [
       "   user_id  age churn_date              city first_name  last_name  \\\n",
       "0     1000   52        NaN         Краснодар     Рафаил  Верещагин   \n",
       "1     1001   41        NaN            Москва       Иван       Ежов   \n",
       "2     1002   59        NaN       Стерлитамак    Евгений  Абрамович   \n",
       "3     1003   23        NaN            Москва      Белла   Белякова   \n",
       "4     1004   68        NaN       Новокузнецк    Татьяна   Авдеенко   \n",
       "5     1005   67        NaN  Набережные Челны   Афанасий     Горлов   \n",
       "6     1006   21        NaN         Ульяновск     Леонид   Ермолаев   \n",
       "7     1007   65        NaN            Москва        Юна   Березина   \n",
       "8     1008   63        NaN         Челябинск     Рустэм  Пономарёв   \n",
       "9     1009   24        NaN             Пермь   Василиса    Блинова   \n",
       "\n",
       "     reg_date tariff  \n",
       "0  2018-05-25  ultra  \n",
       "1  2018-11-01  smart  \n",
       "2  2018-06-17  smart  \n",
       "3  2018-08-17  ultra  \n",
       "4  2018-05-14  ultra  \n",
       "5  2018-01-25  smart  \n",
       "6  2018-02-26  smart  \n",
       "7  2018-04-19  smart  \n",
       "8  2018-12-19  smart  \n",
       "9  2018-03-22  smart  "
      ]
     },
     "metadata": {},
     "output_type": "display_data"
    },
    {
     "name": "stdout",
     "output_type": "stream",
     "text": [
      "<class 'pandas.core.frame.DataFrame'>\n",
      "RangeIndex: 500 entries, 0 to 499\n",
      "Data columns (total 8 columns):\n",
      " #   Column      Non-Null Count  Dtype \n",
      "---  ------      --------------  ----- \n",
      " 0   user_id     500 non-null    int64 \n",
      " 1   age         500 non-null    int64 \n",
      " 2   churn_date  38 non-null     object\n",
      " 3   city        500 non-null    object\n",
      " 4   first_name  500 non-null    object\n",
      " 5   last_name   500 non-null    object\n",
      " 6   reg_date    500 non-null    object\n",
      " 7   tariff      500 non-null    object\n",
      "dtypes: int64(2), object(6)\n",
      "memory usage: 31.4+ KB\n"
     ]
    },
    {
     "data": {
      "text/plain": [
       "'----------------------------------------'"
      ]
     },
     "metadata": {},
     "output_type": "display_data"
    },
    {
     "data": {
      "text/plain": [
       "'CALLS'"
      ]
     },
     "metadata": {},
     "output_type": "display_data"
    },
    {
     "data": {
      "text/html": [
       "<div>\n",
       "<style scoped>\n",
       "    .dataframe tbody tr th:only-of-type {\n",
       "        vertical-align: middle;\n",
       "    }\n",
       "\n",
       "    .dataframe tbody tr th {\n",
       "        vertical-align: top;\n",
       "    }\n",
       "\n",
       "    .dataframe thead th {\n",
       "        text-align: right;\n",
       "    }\n",
       "</style>\n",
       "<table border=\"1\" class=\"dataframe\">\n",
       "  <thead>\n",
       "    <tr style=\"text-align: right;\">\n",
       "      <th></th>\n",
       "      <th>id</th>\n",
       "      <th>call_date</th>\n",
       "      <th>duration</th>\n",
       "      <th>user_id</th>\n",
       "    </tr>\n",
       "  </thead>\n",
       "  <tbody>\n",
       "    <tr>\n",
       "      <th>0</th>\n",
       "      <td>1000_0</td>\n",
       "      <td>2018-07-25</td>\n",
       "      <td>0.00</td>\n",
       "      <td>1000</td>\n",
       "    </tr>\n",
       "    <tr>\n",
       "      <th>1</th>\n",
       "      <td>1000_1</td>\n",
       "      <td>2018-08-17</td>\n",
       "      <td>0.00</td>\n",
       "      <td>1000</td>\n",
       "    </tr>\n",
       "    <tr>\n",
       "      <th>2</th>\n",
       "      <td>1000_2</td>\n",
       "      <td>2018-06-11</td>\n",
       "      <td>2.85</td>\n",
       "      <td>1000</td>\n",
       "    </tr>\n",
       "    <tr>\n",
       "      <th>3</th>\n",
       "      <td>1000_3</td>\n",
       "      <td>2018-09-21</td>\n",
       "      <td>13.80</td>\n",
       "      <td>1000</td>\n",
       "    </tr>\n",
       "    <tr>\n",
       "      <th>4</th>\n",
       "      <td>1000_4</td>\n",
       "      <td>2018-12-15</td>\n",
       "      <td>5.18</td>\n",
       "      <td>1000</td>\n",
       "    </tr>\n",
       "    <tr>\n",
       "      <th>...</th>\n",
       "      <td>...</td>\n",
       "      <td>...</td>\n",
       "      <td>...</td>\n",
       "      <td>...</td>\n",
       "    </tr>\n",
       "    <tr>\n",
       "      <th>202602</th>\n",
       "      <td>1499_215</td>\n",
       "      <td>2018-12-26</td>\n",
       "      <td>0.76</td>\n",
       "      <td>1499</td>\n",
       "    </tr>\n",
       "    <tr>\n",
       "      <th>202603</th>\n",
       "      <td>1499_216</td>\n",
       "      <td>2018-10-18</td>\n",
       "      <td>18.83</td>\n",
       "      <td>1499</td>\n",
       "    </tr>\n",
       "    <tr>\n",
       "      <th>202604</th>\n",
       "      <td>1499_217</td>\n",
       "      <td>2018-11-10</td>\n",
       "      <td>10.81</td>\n",
       "      <td>1499</td>\n",
       "    </tr>\n",
       "    <tr>\n",
       "      <th>202605</th>\n",
       "      <td>1499_218</td>\n",
       "      <td>2018-10-06</td>\n",
       "      <td>4.27</td>\n",
       "      <td>1499</td>\n",
       "    </tr>\n",
       "    <tr>\n",
       "      <th>202606</th>\n",
       "      <td>1499_219</td>\n",
       "      <td>2018-12-14</td>\n",
       "      <td>19.62</td>\n",
       "      <td>1499</td>\n",
       "    </tr>\n",
       "  </tbody>\n",
       "</table>\n",
       "<p>202607 rows × 4 columns</p>\n",
       "</div>"
      ],
      "text/plain": [
       "              id   call_date  duration  user_id\n",
       "0         1000_0  2018-07-25      0.00     1000\n",
       "1         1000_1  2018-08-17      0.00     1000\n",
       "2         1000_2  2018-06-11      2.85     1000\n",
       "3         1000_3  2018-09-21     13.80     1000\n",
       "4         1000_4  2018-12-15      5.18     1000\n",
       "...          ...         ...       ...      ...\n",
       "202602  1499_215  2018-12-26      0.76     1499\n",
       "202603  1499_216  2018-10-18     18.83     1499\n",
       "202604  1499_217  2018-11-10     10.81     1499\n",
       "202605  1499_218  2018-10-06      4.27     1499\n",
       "202606  1499_219  2018-12-14     19.62     1499\n",
       "\n",
       "[202607 rows x 4 columns]"
      ]
     },
     "metadata": {},
     "output_type": "display_data"
    },
    {
     "name": "stdout",
     "output_type": "stream",
     "text": [
      "<class 'pandas.core.frame.DataFrame'>\n",
      "RangeIndex: 202607 entries, 0 to 202606\n",
      "Data columns (total 4 columns):\n",
      " #   Column     Non-Null Count   Dtype  \n",
      "---  ------     --------------   -----  \n",
      " 0   id         202607 non-null  object \n",
      " 1   call_date  202607 non-null  object \n",
      " 2   duration   202607 non-null  float64\n",
      " 3   user_id    202607 non-null  int64  \n",
      "dtypes: float64(1), int64(1), object(2)\n",
      "memory usage: 6.2+ MB\n"
     ]
    },
    {
     "data": {
      "text/plain": [
       "'----------------------------------------'"
      ]
     },
     "metadata": {},
     "output_type": "display_data"
    },
    {
     "data": {
      "text/plain": [
       "'MESSAGES'"
      ]
     },
     "metadata": {},
     "output_type": "display_data"
    },
    {
     "data": {
      "text/html": [
       "<div>\n",
       "<style scoped>\n",
       "    .dataframe tbody tr th:only-of-type {\n",
       "        vertical-align: middle;\n",
       "    }\n",
       "\n",
       "    .dataframe tbody tr th {\n",
       "        vertical-align: top;\n",
       "    }\n",
       "\n",
       "    .dataframe thead th {\n",
       "        text-align: right;\n",
       "    }\n",
       "</style>\n",
       "<table border=\"1\" class=\"dataframe\">\n",
       "  <thead>\n",
       "    <tr style=\"text-align: right;\">\n",
       "      <th></th>\n",
       "      <th>id</th>\n",
       "      <th>message_date</th>\n",
       "      <th>user_id</th>\n",
       "    </tr>\n",
       "  </thead>\n",
       "  <tbody>\n",
       "    <tr>\n",
       "      <th>0</th>\n",
       "      <td>1000_0</td>\n",
       "      <td>2018-06-27</td>\n",
       "      <td>1000</td>\n",
       "    </tr>\n",
       "    <tr>\n",
       "      <th>1</th>\n",
       "      <td>1000_1</td>\n",
       "      <td>2018-10-08</td>\n",
       "      <td>1000</td>\n",
       "    </tr>\n",
       "    <tr>\n",
       "      <th>2</th>\n",
       "      <td>1000_2</td>\n",
       "      <td>2018-08-04</td>\n",
       "      <td>1000</td>\n",
       "    </tr>\n",
       "    <tr>\n",
       "      <th>3</th>\n",
       "      <td>1000_3</td>\n",
       "      <td>2018-06-16</td>\n",
       "      <td>1000</td>\n",
       "    </tr>\n",
       "    <tr>\n",
       "      <th>4</th>\n",
       "      <td>1000_4</td>\n",
       "      <td>2018-12-05</td>\n",
       "      <td>1000</td>\n",
       "    </tr>\n",
       "    <tr>\n",
       "      <th>5</th>\n",
       "      <td>1000_5</td>\n",
       "      <td>2018-06-20</td>\n",
       "      <td>1000</td>\n",
       "    </tr>\n",
       "    <tr>\n",
       "      <th>6</th>\n",
       "      <td>1000_6</td>\n",
       "      <td>2018-11-19</td>\n",
       "      <td>1000</td>\n",
       "    </tr>\n",
       "    <tr>\n",
       "      <th>7</th>\n",
       "      <td>1000_7</td>\n",
       "      <td>2018-10-29</td>\n",
       "      <td>1000</td>\n",
       "    </tr>\n",
       "    <tr>\n",
       "      <th>8</th>\n",
       "      <td>1000_8</td>\n",
       "      <td>2018-06-25</td>\n",
       "      <td>1000</td>\n",
       "    </tr>\n",
       "    <tr>\n",
       "      <th>9</th>\n",
       "      <td>1000_9</td>\n",
       "      <td>2018-12-18</td>\n",
       "      <td>1000</td>\n",
       "    </tr>\n",
       "  </tbody>\n",
       "</table>\n",
       "</div>"
      ],
      "text/plain": [
       "       id message_date  user_id\n",
       "0  1000_0   2018-06-27     1000\n",
       "1  1000_1   2018-10-08     1000\n",
       "2  1000_2   2018-08-04     1000\n",
       "3  1000_3   2018-06-16     1000\n",
       "4  1000_4   2018-12-05     1000\n",
       "5  1000_5   2018-06-20     1000\n",
       "6  1000_6   2018-11-19     1000\n",
       "7  1000_7   2018-10-29     1000\n",
       "8  1000_8   2018-06-25     1000\n",
       "9  1000_9   2018-12-18     1000"
      ]
     },
     "metadata": {},
     "output_type": "display_data"
    },
    {
     "name": "stdout",
     "output_type": "stream",
     "text": [
      "<class 'pandas.core.frame.DataFrame'>\n",
      "RangeIndex: 123036 entries, 0 to 123035\n",
      "Data columns (total 3 columns):\n",
      " #   Column        Non-Null Count   Dtype \n",
      "---  ------        --------------   ----- \n",
      " 0   id            123036 non-null  object\n",
      " 1   message_date  123036 non-null  object\n",
      " 2   user_id       123036 non-null  int64 \n",
      "dtypes: int64(1), object(2)\n",
      "memory usage: 2.8+ MB\n"
     ]
    },
    {
     "data": {
      "text/plain": [
       "'----------------------------------------'"
      ]
     },
     "metadata": {},
     "output_type": "display_data"
    },
    {
     "data": {
      "text/plain": [
       "'INTERNET'"
      ]
     },
     "metadata": {},
     "output_type": "display_data"
    },
    {
     "data": {
      "text/html": [
       "<div>\n",
       "<style scoped>\n",
       "    .dataframe tbody tr th:only-of-type {\n",
       "        vertical-align: middle;\n",
       "    }\n",
       "\n",
       "    .dataframe tbody tr th {\n",
       "        vertical-align: top;\n",
       "    }\n",
       "\n",
       "    .dataframe thead th {\n",
       "        text-align: right;\n",
       "    }\n",
       "</style>\n",
       "<table border=\"1\" class=\"dataframe\">\n",
       "  <thead>\n",
       "    <tr style=\"text-align: right;\">\n",
       "      <th></th>\n",
       "      <th>Unnamed: 0</th>\n",
       "      <th>id</th>\n",
       "      <th>mb_used</th>\n",
       "      <th>session_date</th>\n",
       "      <th>user_id</th>\n",
       "    </tr>\n",
       "  </thead>\n",
       "  <tbody>\n",
       "    <tr>\n",
       "      <th>0</th>\n",
       "      <td>0</td>\n",
       "      <td>1000_0</td>\n",
       "      <td>112.95</td>\n",
       "      <td>2018-11-25</td>\n",
       "      <td>1000</td>\n",
       "    </tr>\n",
       "    <tr>\n",
       "      <th>1</th>\n",
       "      <td>1</td>\n",
       "      <td>1000_1</td>\n",
       "      <td>1052.81</td>\n",
       "      <td>2018-09-07</td>\n",
       "      <td>1000</td>\n",
       "    </tr>\n",
       "    <tr>\n",
       "      <th>2</th>\n",
       "      <td>2</td>\n",
       "      <td>1000_2</td>\n",
       "      <td>1197.26</td>\n",
       "      <td>2018-06-25</td>\n",
       "      <td>1000</td>\n",
       "    </tr>\n",
       "    <tr>\n",
       "      <th>3</th>\n",
       "      <td>3</td>\n",
       "      <td>1000_3</td>\n",
       "      <td>550.27</td>\n",
       "      <td>2018-08-22</td>\n",
       "      <td>1000</td>\n",
       "    </tr>\n",
       "    <tr>\n",
       "      <th>4</th>\n",
       "      <td>4</td>\n",
       "      <td>1000_4</td>\n",
       "      <td>302.56</td>\n",
       "      <td>2018-09-24</td>\n",
       "      <td>1000</td>\n",
       "    </tr>\n",
       "    <tr>\n",
       "      <th>5</th>\n",
       "      <td>5</td>\n",
       "      <td>1000_5</td>\n",
       "      <td>399.97</td>\n",
       "      <td>2018-10-02</td>\n",
       "      <td>1000</td>\n",
       "    </tr>\n",
       "    <tr>\n",
       "      <th>6</th>\n",
       "      <td>6</td>\n",
       "      <td>1000_6</td>\n",
       "      <td>540.08</td>\n",
       "      <td>2018-09-07</td>\n",
       "      <td>1000</td>\n",
       "    </tr>\n",
       "    <tr>\n",
       "      <th>7</th>\n",
       "      <td>7</td>\n",
       "      <td>1000_7</td>\n",
       "      <td>415.70</td>\n",
       "      <td>2018-07-11</td>\n",
       "      <td>1000</td>\n",
       "    </tr>\n",
       "    <tr>\n",
       "      <th>8</th>\n",
       "      <td>8</td>\n",
       "      <td>1000_8</td>\n",
       "      <td>505.40</td>\n",
       "      <td>2018-10-08</td>\n",
       "      <td>1000</td>\n",
       "    </tr>\n",
       "    <tr>\n",
       "      <th>9</th>\n",
       "      <td>9</td>\n",
       "      <td>1000_9</td>\n",
       "      <td>345.54</td>\n",
       "      <td>2018-09-03</td>\n",
       "      <td>1000</td>\n",
       "    </tr>\n",
       "  </tbody>\n",
       "</table>\n",
       "</div>"
      ],
      "text/plain": [
       "   Unnamed: 0      id  mb_used session_date  user_id\n",
       "0           0  1000_0   112.95   2018-11-25     1000\n",
       "1           1  1000_1  1052.81   2018-09-07     1000\n",
       "2           2  1000_2  1197.26   2018-06-25     1000\n",
       "3           3  1000_3   550.27   2018-08-22     1000\n",
       "4           4  1000_4   302.56   2018-09-24     1000\n",
       "5           5  1000_5   399.97   2018-10-02     1000\n",
       "6           6  1000_6   540.08   2018-09-07     1000\n",
       "7           7  1000_7   415.70   2018-07-11     1000\n",
       "8           8  1000_8   505.40   2018-10-08     1000\n",
       "9           9  1000_9   345.54   2018-09-03     1000"
      ]
     },
     "metadata": {},
     "output_type": "display_data"
    },
    {
     "name": "stdout",
     "output_type": "stream",
     "text": [
      "<class 'pandas.core.frame.DataFrame'>\n",
      "RangeIndex: 149396 entries, 0 to 149395\n",
      "Data columns (total 5 columns):\n",
      " #   Column        Non-Null Count   Dtype  \n",
      "---  ------        --------------   -----  \n",
      " 0   Unnamed: 0    149396 non-null  int64  \n",
      " 1   id            149396 non-null  object \n",
      " 2   mb_used       149396 non-null  float64\n",
      " 3   session_date  149396 non-null  object \n",
      " 4   user_id       149396 non-null  int64  \n",
      "dtypes: float64(1), int64(2), object(2)\n",
      "memory usage: 5.7+ MB\n"
     ]
    }
   ],
   "source": [
    "try:\n",
    "    calls = pd.read_csv(\"D:\\\\практикум\\\\датасеты для проектов\\\\calls.csv\")\n",
    "except:\n",
    "    calls = pd.read_csv(\"/datasets/calls.csv\")\n",
    "try:\n",
    "    internet = pd.read_csv(\"D:\\\\практикум\\\\датасеты для проектов\\\\internet.csv\")\n",
    "except:\n",
    "    internet = pd.read_csv(\"/datasets/internet.csv\")\n",
    "try:\n",
    "    messages = pd.read_csv(\"D:\\\\практикум\\\\датасеты для проектов\\\\messages.csv\")\n",
    "except:\n",
    "    messages = pd.read_csv(\"/datasets/messages.csv\")\n",
    "try:\n",
    "    tariffs = pd.read_csv(\"D:\\\\практикум\\\\датасеты для проектов\\\\tariffs.csv\")\n",
    "except:\n",
    "    tariffs = pd.read_csv(\"/datasets/tariffs.csv\")\n",
    "try:\n",
    "    users = pd.read_csv(\"D:\\\\практикум\\\\датасеты для проектов\\\\users.csv\")\n",
    "except:\n",
    "    users = pd.read_csv(\"/datasets/users.csv\")\n",
    "    \n",
    "# try:\n",
    "#     calls = pd.read_csv(\"C:/Users/Pasha/Downloads/calls.csv\")\n",
    "#     internet = pd.read_csv(\"C:/Users/Pasha/Downloads/internet.csv\")\n",
    "#     messages = pd.read_csv(\"C:/Users/Pasha/Downloads/messages.csv\")\n",
    "#     tariffs = pd.read_csv(\"C:/Users/Pasha/Downloads/tariffs.csv\")\n",
    "#     users = pd.read_csv(\"C:/Users/Pasha/Downloads/users.csv\")\n",
    "# except:\n",
    "#     calls = pd.read_csv(\"/datasets/calls.csv\")\n",
    "#     internet = pd.read_csv(\"/datasets/internet.csv\")\n",
    "#     messages = pd.read_csv(\"/datasets/messages.csv\")\n",
    "#     tariffs = pd.read_csv(\"/datasets/tariffs.csv\")\n",
    "#     users = pd.read_csv(\"/datasets/users.csv\")\n",
    "    \n",
    "\n",
    "display(\"----------------------------------------\", \"tariffs\".upper(), tariffs.head(10))\n",
    "tariffs.info()\n",
    "display(\"----------------------------------------\", \"users\".upper(), users.head(10))\n",
    "users.info()\n",
    "display(\"----------------------------------------\", \"calls\".upper(), calls)   \n",
    "calls.info()\n",
    "display(\"----------------------------------------\", \"messages\".upper(), messages.head(10))\n",
    "messages.info()\n",
    "display(\"----------------------------------------\", \"internet\".upper(), internet.head(10))\n",
    "internet.info()\n"
   ]
  },
  {
   "cell_type": "markdown",
   "metadata": {},
   "source": [
    "<div style=\"border:solid Orange 2px; padding: 40px\">\n",
    "<div class=\"alert alert-warning\">\n",
    "    <h3> Комментарий ревьюера <a class=\"tocSkip\"> </h3>\n",
    "    \n",
    "<font color='Orange'><b>Некоторые рекомендации 💡:</b> </font>\n",
    "        \n",
    "Блок загрузки библиотек лучше размещать в отдельной от остального кода ячейке. Такой подход позволит улучшить читаемость кода, снизит время поиска ошибок (если они есть) и исключит повторное выполнение кода.\n",
    "      \n",
    "Также для подгрузки данных рекомендую использовать конструкцию `try-except`, она поможет избежать потенциальных ошибок при загрузке данных, связанных, например, с некорректным указанием путей: try - пути на локальном компьютере, except - пути на сервере. Она полезна, когда несколько коллег открваеют проект. Или применить библиотеку os:\n",
    "        \n",
    "    import os\n",
    "\n",
    "    pth1 = '/folder_1/data.csv'\n",
    "    pth2 = '/folder_2/data.csv'\n",
    "\n",
    "    if os.path.exists(pth1):\n",
    "        query_1 = pd.read_csv(pth1)\n",
    "    elif os.path.exists(pth2):\n",
    "        query_1 = pd.read_csv(pth2)\n",
    "    else:\n",
    "         print('Something is wrong)\n",
    "        \n",
    "Можно почитать про эту библиотеку здесь: https://pythonworld.ru/moduli/modul-os.html\n",
    "        \n",
    "        \n",
    "        \n",
    "</div>"
   ]
  },
  {
   "cell_type": "markdown",
   "metadata": {},
   "source": [
    "<div class = \"alert alert-info\" style=\"border-left: 7px solid blue\">\n",
    "<b>так с try-except? или достаточно закомментированного варианта?</b>\n",
    "    \n",
    "</div>"
   ]
  },
  {
   "cell_type": "markdown",
   "metadata": {},
   "source": [
    "<div style=\"border:solid Green 2px; padding: 40px\">\n",
    "<div class=\"alert alert-success\">\n",
    "<h3> Комментарий ревьюера_V2 <a class=\"tocSkip\"> </h3>\n",
    "\n",
    "<font color='green'><b>Все отлично! 👍:</b>  </font>\n",
    "\n",
    "Закомментированного варианта достаточно.\n",
    "    \n",
    "</div>"
   ]
  },
  {
   "cell_type": "markdown",
   "metadata": {},
   "source": [
    "Итак:\n",
    "мы имеем 5 таблиц с разным количеством строк. \n",
    "1. таблица с описанием 2 тарифных планов\n",
    "2. таблица с данными об уникальных пользователях\n",
    "3. и три таблицы с подробным описанием каждого звонка, смс и интернет сессии.\n",
    "\n",
    "Пытаться объединить данные таблиц в одну на данном этапе нет ни смысла ни возможности, соответственно проводить предобработку данных будем последовательно в каждой отдельной таблице.\n",
    "\n",
    "Пропуски присутствуют только в одном столбце таблицы  с пользователями, так же в таблице с данными по интернету присутствует лишний столбец с индексами.\n",
    "Названия столбцов корректны.\n",
    "По типам данных претензии только к датам и идентификаторам звонков, смс и сессий. эти идентификаторы представляют собой строку, в которой до символа нижнего подчеркивания идет идентификатор пользователя, а после просто порядковый номер. возможно эти колонки вообще не нужны. Пока возмем на заметку"
   ]
  },
  {
   "cell_type": "markdown",
   "metadata": {},
   "source": [
    "<div style=\"border:solid Green 2px; padding: 40px\">\n",
    "<div class=\"alert alert-success\">\n",
    "<h2> Комментарий ревьюера <a class=\"tocSkip\"> </h2>\n",
    "\n",
    "<font color='green'><b>Все отлично! 👍:</b>  </font>\n",
    "\n",
    "😎 Хороший вывод. Когда есть краткий обзор, понятнее становятся шаги на следуюющем этапе.\n",
    "    \n",
    "  \n",
    "</div>"
   ]
  },
  {
   "cell_type": "markdown",
   "metadata": {},
   "source": [
    "## Предобработка"
   ]
  },
  {
   "cell_type": "markdown",
   "metadata": {},
   "source": [
    "### Тарифы"
   ]
  },
  {
   "cell_type": "markdown",
   "metadata": {},
   "source": [
    "переведем мегабайты в гигабайты и и переименуем колонку"
   ]
  },
  {
   "cell_type": "code",
   "execution_count": 22,
   "metadata": {
    "scrolled": true
   },
   "outputs": [
    {
     "data": {
      "text/html": [
       "<div>\n",
       "<style scoped>\n",
       "    .dataframe tbody tr th:only-of-type {\n",
       "        vertical-align: middle;\n",
       "    }\n",
       "\n",
       "    .dataframe tbody tr th {\n",
       "        vertical-align: top;\n",
       "    }\n",
       "\n",
       "    .dataframe thead th {\n",
       "        text-align: right;\n",
       "    }\n",
       "</style>\n",
       "<table border=\"1\" class=\"dataframe\">\n",
       "  <thead>\n",
       "    <tr style=\"text-align: right;\">\n",
       "      <th></th>\n",
       "      <th>messages_included</th>\n",
       "      <th>gb_included</th>\n",
       "      <th>minutes_included</th>\n",
       "      <th>rub_monthly_fee</th>\n",
       "      <th>rub_per_gb</th>\n",
       "      <th>rub_per_message</th>\n",
       "      <th>rub_per_minute</th>\n",
       "      <th>tariff_name</th>\n",
       "    </tr>\n",
       "  </thead>\n",
       "  <tbody>\n",
       "    <tr>\n",
       "      <th>0</th>\n",
       "      <td>50</td>\n",
       "      <td>15.0</td>\n",
       "      <td>500</td>\n",
       "      <td>550</td>\n",
       "      <td>200</td>\n",
       "      <td>3</td>\n",
       "      <td>3</td>\n",
       "      <td>smart</td>\n",
       "    </tr>\n",
       "    <tr>\n",
       "      <th>1</th>\n",
       "      <td>1000</td>\n",
       "      <td>30.0</td>\n",
       "      <td>3000</td>\n",
       "      <td>1950</td>\n",
       "      <td>150</td>\n",
       "      <td>1</td>\n",
       "      <td>1</td>\n",
       "      <td>ultra</td>\n",
       "    </tr>\n",
       "  </tbody>\n",
       "</table>\n",
       "</div>"
      ],
      "text/plain": [
       "   messages_included  gb_included  minutes_included  rub_monthly_fee  \\\n",
       "0                 50         15.0               500              550   \n",
       "1               1000         30.0              3000             1950   \n",
       "\n",
       "   rub_per_gb  rub_per_message  rub_per_minute tariff_name  \n",
       "0         200                3               3       smart  \n",
       "1         150                1               1       ultra  "
      ]
     },
     "execution_count": 22,
     "metadata": {},
     "output_type": "execute_result"
    }
   ],
   "source": [
    "tariffs = tariffs.rename(columns={\"mb_per_month_included\":\"gb_included\"})\n",
    "tariffs[\"gb_included\"] = tariffs[\"gb_included\"] / 1024\n",
    "tariffs"
   ]
  },
  {
   "cell_type": "markdown",
   "metadata": {},
   "source": [
    "<div style=\"border:solid Green 2px; padding: 40px\">\n",
    "<div class=\"alert alert-success\">\n",
    "<h2> Комментарий ревьюера <a class=\"tocSkip\"> </h2>\n",
    "\n",
    "<font color='green'><b>Все отлично! 👍:</b>  </font>\n",
    "\n",
    "Перевод верный. Молодец. \n",
    "    \n",
    "</div>"
   ]
  },
  {
   "cell_type": "markdown",
   "metadata": {},
   "source": [
    "### Абоненты"
   ]
  },
  {
   "cell_type": "code",
   "execution_count": 23,
   "metadata": {
    "scrolled": false
   },
   "outputs": [
    {
     "name": "stdout",
     "output_type": "stream",
     "text": [
      "<class 'pandas.core.frame.DataFrame'>\n",
      "RangeIndex: 500 entries, 0 to 499\n",
      "Data columns (total 8 columns):\n",
      " #   Column      Non-Null Count  Dtype \n",
      "---  ------      --------------  ----- \n",
      " 0   user_id     500 non-null    int64 \n",
      " 1   age         500 non-null    int64 \n",
      " 2   churn_date  38 non-null     object\n",
      " 3   city        500 non-null    object\n",
      " 4   first_name  500 non-null    object\n",
      " 5   last_name   500 non-null    object\n",
      " 6   reg_date    500 non-null    object\n",
      " 7   tariff      500 non-null    object\n",
      "dtypes: int64(2), object(6)\n",
      "memory usage: 31.4+ KB\n"
     ]
    },
    {
     "data": {
      "text/html": [
       "<div>\n",
       "<style scoped>\n",
       "    .dataframe tbody tr th:only-of-type {\n",
       "        vertical-align: middle;\n",
       "    }\n",
       "\n",
       "    .dataframe tbody tr th {\n",
       "        vertical-align: top;\n",
       "    }\n",
       "\n",
       "    .dataframe thead th {\n",
       "        text-align: right;\n",
       "    }\n",
       "</style>\n",
       "<table border=\"1\" class=\"dataframe\">\n",
       "  <thead>\n",
       "    <tr style=\"text-align: right;\">\n",
       "      <th></th>\n",
       "      <th>user_id</th>\n",
       "      <th>age</th>\n",
       "      <th>churn_date</th>\n",
       "      <th>city</th>\n",
       "      <th>first_name</th>\n",
       "      <th>last_name</th>\n",
       "      <th>reg_date</th>\n",
       "      <th>tariff</th>\n",
       "    </tr>\n",
       "  </thead>\n",
       "  <tbody>\n",
       "    <tr>\n",
       "      <th>0</th>\n",
       "      <td>1000</td>\n",
       "      <td>52</td>\n",
       "      <td>NaN</td>\n",
       "      <td>Краснодар</td>\n",
       "      <td>Рафаил</td>\n",
       "      <td>Верещагин</td>\n",
       "      <td>2018-05-25</td>\n",
       "      <td>ultra</td>\n",
       "    </tr>\n",
       "    <tr>\n",
       "      <th>1</th>\n",
       "      <td>1001</td>\n",
       "      <td>41</td>\n",
       "      <td>NaN</td>\n",
       "      <td>Москва</td>\n",
       "      <td>Иван</td>\n",
       "      <td>Ежов</td>\n",
       "      <td>2018-11-01</td>\n",
       "      <td>smart</td>\n",
       "    </tr>\n",
       "    <tr>\n",
       "      <th>2</th>\n",
       "      <td>1002</td>\n",
       "      <td>59</td>\n",
       "      <td>NaN</td>\n",
       "      <td>Стерлитамак</td>\n",
       "      <td>Евгений</td>\n",
       "      <td>Абрамович</td>\n",
       "      <td>2018-06-17</td>\n",
       "      <td>smart</td>\n",
       "    </tr>\n",
       "    <tr>\n",
       "      <th>3</th>\n",
       "      <td>1003</td>\n",
       "      <td>23</td>\n",
       "      <td>NaN</td>\n",
       "      <td>Москва</td>\n",
       "      <td>Белла</td>\n",
       "      <td>Белякова</td>\n",
       "      <td>2018-08-17</td>\n",
       "      <td>ultra</td>\n",
       "    </tr>\n",
       "    <tr>\n",
       "      <th>4</th>\n",
       "      <td>1004</td>\n",
       "      <td>68</td>\n",
       "      <td>NaN</td>\n",
       "      <td>Новокузнецк</td>\n",
       "      <td>Татьяна</td>\n",
       "      <td>Авдеенко</td>\n",
       "      <td>2018-05-14</td>\n",
       "      <td>ultra</td>\n",
       "    </tr>\n",
       "    <tr>\n",
       "      <th>5</th>\n",
       "      <td>1005</td>\n",
       "      <td>67</td>\n",
       "      <td>NaN</td>\n",
       "      <td>Набережные Челны</td>\n",
       "      <td>Афанасий</td>\n",
       "      <td>Горлов</td>\n",
       "      <td>2018-01-25</td>\n",
       "      <td>smart</td>\n",
       "    </tr>\n",
       "    <tr>\n",
       "      <th>6</th>\n",
       "      <td>1006</td>\n",
       "      <td>21</td>\n",
       "      <td>NaN</td>\n",
       "      <td>Ульяновск</td>\n",
       "      <td>Леонид</td>\n",
       "      <td>Ермолаев</td>\n",
       "      <td>2018-02-26</td>\n",
       "      <td>smart</td>\n",
       "    </tr>\n",
       "    <tr>\n",
       "      <th>7</th>\n",
       "      <td>1007</td>\n",
       "      <td>65</td>\n",
       "      <td>NaN</td>\n",
       "      <td>Москва</td>\n",
       "      <td>Юна</td>\n",
       "      <td>Березина</td>\n",
       "      <td>2018-04-19</td>\n",
       "      <td>smart</td>\n",
       "    </tr>\n",
       "    <tr>\n",
       "      <th>8</th>\n",
       "      <td>1008</td>\n",
       "      <td>63</td>\n",
       "      <td>NaN</td>\n",
       "      <td>Челябинск</td>\n",
       "      <td>Рустэм</td>\n",
       "      <td>Пономарёв</td>\n",
       "      <td>2018-12-19</td>\n",
       "      <td>smart</td>\n",
       "    </tr>\n",
       "    <tr>\n",
       "      <th>9</th>\n",
       "      <td>1009</td>\n",
       "      <td>24</td>\n",
       "      <td>NaN</td>\n",
       "      <td>Пермь</td>\n",
       "      <td>Василиса</td>\n",
       "      <td>Блинова</td>\n",
       "      <td>2018-03-22</td>\n",
       "      <td>smart</td>\n",
       "    </tr>\n",
       "    <tr>\n",
       "      <th>10</th>\n",
       "      <td>1010</td>\n",
       "      <td>26</td>\n",
       "      <td>NaN</td>\n",
       "      <td>Тюмень</td>\n",
       "      <td>Эдуард</td>\n",
       "      <td>Кононов</td>\n",
       "      <td>2018-08-05</td>\n",
       "      <td>smart</td>\n",
       "    </tr>\n",
       "    <tr>\n",
       "      <th>11</th>\n",
       "      <td>1011</td>\n",
       "      <td>44</td>\n",
       "      <td>NaN</td>\n",
       "      <td>Самара</td>\n",
       "      <td>Веселина</td>\n",
       "      <td>Алёшко</td>\n",
       "      <td>2018-03-19</td>\n",
       "      <td>smart</td>\n",
       "    </tr>\n",
       "    <tr>\n",
       "      <th>12</th>\n",
       "      <td>1012</td>\n",
       "      <td>38</td>\n",
       "      <td>NaN</td>\n",
       "      <td>Санкт-Петербург</td>\n",
       "      <td>Варлам</td>\n",
       "      <td>Соловьев</td>\n",
       "      <td>2018-03-28</td>\n",
       "      <td>smart</td>\n",
       "    </tr>\n",
       "    <tr>\n",
       "      <th>13</th>\n",
       "      <td>1013</td>\n",
       "      <td>36</td>\n",
       "      <td>NaN</td>\n",
       "      <td>Иваново</td>\n",
       "      <td>Борис</td>\n",
       "      <td>Андреенко</td>\n",
       "      <td>2018-11-14</td>\n",
       "      <td>ultra</td>\n",
       "    </tr>\n",
       "    <tr>\n",
       "      <th>14</th>\n",
       "      <td>1014</td>\n",
       "      <td>64</td>\n",
       "      <td>NaN</td>\n",
       "      <td>Чебоксары</td>\n",
       "      <td>Яков</td>\n",
       "      <td>Акинфьев</td>\n",
       "      <td>2018-05-15</td>\n",
       "      <td>smart</td>\n",
       "    </tr>\n",
       "    <tr>\n",
       "      <th>15</th>\n",
       "      <td>1015</td>\n",
       "      <td>26</td>\n",
       "      <td>NaN</td>\n",
       "      <td>Челябинск</td>\n",
       "      <td>Рузана</td>\n",
       "      <td>Алюшина</td>\n",
       "      <td>2018-04-30</td>\n",
       "      <td>smart</td>\n",
       "    </tr>\n",
       "    <tr>\n",
       "      <th>16</th>\n",
       "      <td>1016</td>\n",
       "      <td>58</td>\n",
       "      <td>NaN</td>\n",
       "      <td>Омск</td>\n",
       "      <td>Марица</td>\n",
       "      <td>Сазонова</td>\n",
       "      <td>2018-11-21</td>\n",
       "      <td>ultra</td>\n",
       "    </tr>\n",
       "    <tr>\n",
       "      <th>17</th>\n",
       "      <td>1017</td>\n",
       "      <td>73</td>\n",
       "      <td>NaN</td>\n",
       "      <td>Краснодар</td>\n",
       "      <td>Мария</td>\n",
       "      <td>Аленникова</td>\n",
       "      <td>2018-05-22</td>\n",
       "      <td>smart</td>\n",
       "    </tr>\n",
       "    <tr>\n",
       "      <th>18</th>\n",
       "      <td>1018</td>\n",
       "      <td>71</td>\n",
       "      <td>NaN</td>\n",
       "      <td>Уфа</td>\n",
       "      <td>Матвей</td>\n",
       "      <td>Золотов</td>\n",
       "      <td>2018-04-01</td>\n",
       "      <td>ultra</td>\n",
       "    </tr>\n",
       "    <tr>\n",
       "      <th>19</th>\n",
       "      <td>1019</td>\n",
       "      <td>63</td>\n",
       "      <td>2018-10-05</td>\n",
       "      <td>Томск</td>\n",
       "      <td>Игнатий</td>\n",
       "      <td>Круглов</td>\n",
       "      <td>2018-05-16</td>\n",
       "      <td>ultra</td>\n",
       "    </tr>\n",
       "  </tbody>\n",
       "</table>\n",
       "</div>"
      ],
      "text/plain": [
       "    user_id  age  churn_date              city first_name   last_name  \\\n",
       "0      1000   52         NaN         Краснодар     Рафаил   Верещагин   \n",
       "1      1001   41         NaN            Москва       Иван        Ежов   \n",
       "2      1002   59         NaN       Стерлитамак    Евгений   Абрамович   \n",
       "3      1003   23         NaN            Москва      Белла    Белякова   \n",
       "4      1004   68         NaN       Новокузнецк    Татьяна    Авдеенко   \n",
       "5      1005   67         NaN  Набережные Челны   Афанасий      Горлов   \n",
       "6      1006   21         NaN         Ульяновск     Леонид    Ермолаев   \n",
       "7      1007   65         NaN            Москва        Юна    Березина   \n",
       "8      1008   63         NaN         Челябинск     Рустэм   Пономарёв   \n",
       "9      1009   24         NaN             Пермь   Василиса     Блинова   \n",
       "10     1010   26         NaN            Тюмень     Эдуард     Кононов   \n",
       "11     1011   44         NaN            Самара   Веселина      Алёшко   \n",
       "12     1012   38         NaN   Санкт-Петербург     Варлам    Соловьев   \n",
       "13     1013   36         NaN           Иваново      Борис   Андреенко   \n",
       "14     1014   64         NaN         Чебоксары       Яков    Акинфьев   \n",
       "15     1015   26         NaN         Челябинск     Рузана     Алюшина   \n",
       "16     1016   58         NaN              Омск     Марица    Сазонова   \n",
       "17     1017   73         NaN         Краснодар      Мария  Аленникова   \n",
       "18     1018   71         NaN               Уфа     Матвей     Золотов   \n",
       "19     1019   63  2018-10-05             Томск    Игнатий     Круглов   \n",
       "\n",
       "      reg_date tariff  \n",
       "0   2018-05-25  ultra  \n",
       "1   2018-11-01  smart  \n",
       "2   2018-06-17  smart  \n",
       "3   2018-08-17  ultra  \n",
       "4   2018-05-14  ultra  \n",
       "5   2018-01-25  smart  \n",
       "6   2018-02-26  smart  \n",
       "7   2018-04-19  smart  \n",
       "8   2018-12-19  smart  \n",
       "9   2018-03-22  smart  \n",
       "10  2018-08-05  smart  \n",
       "11  2018-03-19  smart  \n",
       "12  2018-03-28  smart  \n",
       "13  2018-11-14  ultra  \n",
       "14  2018-05-15  smart  \n",
       "15  2018-04-30  smart  \n",
       "16  2018-11-21  ultra  \n",
       "17  2018-05-22  smart  \n",
       "18  2018-04-01  ultra  \n",
       "19  2018-05-16  ultra  "
      ]
     },
     "execution_count": 23,
     "metadata": {},
     "output_type": "execute_result"
    }
   ],
   "source": [
    "\n",
    "users.info()\n",
    "users.head(20)"
   ]
  },
  {
   "cell_type": "code",
   "execution_count": 24,
   "metadata": {},
   "outputs": [
    {
     "data": {
      "text/plain": [
       "500"
      ]
     },
     "execution_count": 24,
     "metadata": {},
     "output_type": "execute_result"
    }
   ],
   "source": [
    "# проверяем количество уникальных элементов\n",
    "len(users[\"user_id\"].unique())"
   ]
  },
  {
   "cell_type": "markdown",
   "metadata": {},
   "source": [
    "500 строк - 500 пользователей. Всё сходится. Повторений нет"
   ]
  },
  {
   "cell_type": "markdown",
   "metadata": {},
   "source": [
    "в столбце с датой прекращения пользования тарифом много пропусков. это связано с тем, что на конец изучаемого периода абоненты продолжали пользоваться услугами. корректной заменой пропусков будет служить дата окончания рассматреваемого периода"
   ]
  },
  {
   "cell_type": "code",
   "execution_count": 25,
   "metadata": {
    "scrolled": true
   },
   "outputs": [],
   "source": [
    "# заполняем пропуски\n",
    "# users[\"churn_date\"] = users[\"churn_date\"].fillna(\"2018-12-31\")\n",
    "# display(users.head())\n",
    "# users[\"churn_date\"].isna().sum()"
   ]
  },
  {
   "cell_type": "markdown",
   "metadata": {},
   "source": [
    "<div style=\"border:solid Red 2px; padding: 40px\">\n",
    "    <div class=\"alert alert-block alert-danger\">\n",
    "<h3> Комментарий ревьюера <a class=\"tocSkip\"></h3>\n",
    "\n",
    "<font color='red'><b>На доработку ❌:</b>  </font>\n",
    "    \n",
    "Признак churn_date говорит об уходе клиента, т.е. пропуски означают, что клиент еще пользуется услугами Мегалайна. Само наличие пропуска в данных - ценная информация, поэтому удалять или заполнять пропуски в этом столбце не очень хорошая идея. \n",
    "\n",
    "</div>"
   ]
  },
  {
   "cell_type": "markdown",
   "metadata": {},
   "source": [
    "<div class = \"alert alert-info\" style=\"border-left: 7px solid blue\">\n",
    "<b>ценность этой информации заключается только в том, что она может дать понимание доли ушедших с разных тарифов абонентов. это я упустил. заполню эти пропуски ниже </b>\n",
    "    \n",
    "</div>"
   ]
  },
  {
   "cell_type": "markdown",
   "metadata": {},
   "source": [
    "<div style=\"border:solid Green 2px; padding: 40px\">\n",
    "<div class=\"alert alert-success\">\n",
    "<h2> Комментарий ревьюера_V2 <a class=\"tocSkip\"> </h2>\n",
    "\n",
    "<font color='green'><b>Все отлично! 👍:</b>  </font>\n",
    "\n",
    "👍\n",
    "    \n",
    "</div>"
   ]
  },
  {
   "cell_type": "markdown",
   "metadata": {},
   "source": [
    "искать явные дубликаты бессмысленно, ибо есть столбец с количеством уникальных значений равным кол-ву строк таблицы, а соответственно, даже при совпадении имени, фамилии, города и возраста нет гарантии, что человек один и тот же. будем считать, что дубликатов нет"
   ]
  },
  {
   "cell_type": "code",
   "execution_count": 26,
   "metadata": {},
   "outputs": [
    {
     "data": {
      "text/plain": [
       "user_id                int64\n",
       "age                    int64\n",
       "churn_date    datetime64[ns]\n",
       "city                  object\n",
       "first_name            object\n",
       "last_name             object\n",
       "reg_date      datetime64[ns]\n",
       "tariff                object\n",
       "dtype: object"
      ]
     },
     "execution_count": 26,
     "metadata": {},
     "output_type": "execute_result"
    }
   ],
   "source": [
    "# приводим  столбцы с датами к date_time\n",
    "users[\"churn_date\"] = pd.to_datetime(users[\"churn_date\"], format=\"%Y-%m-%d\")\n",
    "users[\"reg_date\"] = pd.to_datetime(users[\"reg_date\"], format=\"%Y-%m-%d\")\n",
    "users.dtypes"
   ]
  },
  {
   "cell_type": "markdown",
   "metadata": {},
   "source": [
    "проверим нет ли некорректных значений среди тарифов"
   ]
  },
  {
   "cell_type": "code",
   "execution_count": 27,
   "metadata": {},
   "outputs": [
    {
     "data": {
      "text/plain": [
       "array(['ultra', 'smart'], dtype=object)"
      ]
     },
     "execution_count": 27,
     "metadata": {},
     "output_type": "execute_result"
    }
   ],
   "source": [
    "users[\"tariff\"].unique()"
   ]
  },
  {
   "cell_type": "markdown",
   "metadata": {},
   "source": [
    "посмотрим на разброс значений возраста"
   ]
  },
  {
   "cell_type": "code",
   "execution_count": 28,
   "metadata": {},
   "outputs": [
    {
     "data": {
      "text/plain": [
       "count    500.00000\n",
       "mean      46.58800\n",
       "std       16.66763\n",
       "min       18.00000\n",
       "25%       32.00000\n",
       "50%       46.00000\n",
       "75%       62.00000\n",
       "max       75.00000\n",
       "Name: age, dtype: float64"
      ]
     },
     "execution_count": 28,
     "metadata": {},
     "output_type": "execute_result"
    }
   ],
   "source": [
    "users[\"age\"].describe()"
   ]
  },
  {
   "cell_type": "markdown",
   "metadata": {},
   "source": [
    "проверим как обстоят дела с датой регистрации"
   ]
  },
  {
   "cell_type": "code",
   "execution_count": 29,
   "metadata": {
    "scrolled": true
   },
   "outputs": [
    {
     "data": {
      "text/plain": [
       "count                     500\n",
       "unique                    270\n",
       "top       2018-05-28 00:00:00\n",
       "freq                        8\n",
       "first     2018-01-01 00:00:00\n",
       "last      2018-12-31 00:00:00\n",
       "Name: reg_date, dtype: object"
      ]
     },
     "execution_count": 29,
     "metadata": {},
     "output_type": "execute_result"
    }
   ],
   "source": [
    "users[\"reg_date\"].describe()"
   ]
  },
  {
   "cell_type": "markdown",
   "metadata": {},
   "source": [
    "Присутствуют абоненты зарегистрировавшиеся в последний день рассматриваемого периода. посмотрим данные по ним"
   ]
  },
  {
   "cell_type": "code",
   "execution_count": 30,
   "metadata": {
    "scrolled": false
   },
   "outputs": [
    {
     "data": {
      "text/html": [
       "<div>\n",
       "<style scoped>\n",
       "    .dataframe tbody tr th:only-of-type {\n",
       "        vertical-align: middle;\n",
       "    }\n",
       "\n",
       "    .dataframe tbody tr th {\n",
       "        vertical-align: top;\n",
       "    }\n",
       "\n",
       "    .dataframe thead th {\n",
       "        text-align: right;\n",
       "    }\n",
       "</style>\n",
       "<table border=\"1\" class=\"dataframe\">\n",
       "  <thead>\n",
       "    <tr style=\"text-align: right;\">\n",
       "      <th></th>\n",
       "      <th>user_id</th>\n",
       "      <th>age</th>\n",
       "      <th>churn_date</th>\n",
       "      <th>city</th>\n",
       "      <th>first_name</th>\n",
       "      <th>last_name</th>\n",
       "      <th>reg_date</th>\n",
       "      <th>tariff</th>\n",
       "    </tr>\n",
       "  </thead>\n",
       "  <tbody>\n",
       "    <tr>\n",
       "      <th>140</th>\n",
       "      <td>1140</td>\n",
       "      <td>22</td>\n",
       "      <td>NaT</td>\n",
       "      <td>Киров</td>\n",
       "      <td>Леонид</td>\n",
       "      <td>Ахматулин</td>\n",
       "      <td>2018-12-31</td>\n",
       "      <td>smart</td>\n",
       "    </tr>\n",
       "    <tr>\n",
       "      <th>258</th>\n",
       "      <td>1258</td>\n",
       "      <td>52</td>\n",
       "      <td>NaT</td>\n",
       "      <td>Санкт-Петербург</td>\n",
       "      <td>Валерий</td>\n",
       "      <td>Беляев</td>\n",
       "      <td>2018-12-31</td>\n",
       "      <td>smart</td>\n",
       "    </tr>\n",
       "    <tr>\n",
       "      <th>336</th>\n",
       "      <td>1336</td>\n",
       "      <td>27</td>\n",
       "      <td>NaT</td>\n",
       "      <td>Уфа</td>\n",
       "      <td>Авксентий</td>\n",
       "      <td>Алексеичев</td>\n",
       "      <td>2018-12-31</td>\n",
       "      <td>ultra</td>\n",
       "    </tr>\n",
       "  </tbody>\n",
       "</table>\n",
       "</div>"
      ],
      "text/plain": [
       "     user_id  age churn_date             city first_name   last_name  \\\n",
       "140     1140   22        NaT            Киров     Леонид   Ахматулин   \n",
       "258     1258   52        NaT  Санкт-Петербург    Валерий      Беляев   \n",
       "336     1336   27        NaT              Уфа  Авксентий  Алексеичев   \n",
       "\n",
       "      reg_date tariff  \n",
       "140 2018-12-31  smart  \n",
       "258 2018-12-31  smart  \n",
       "336 2018-12-31  ultra  "
      ]
     },
     "execution_count": 30,
     "metadata": {},
     "output_type": "execute_result"
    }
   ],
   "source": [
    "users[users[\"reg_date\"] == \"2018-12-31\"]"
   ]
  },
  {
   "cell_type": "markdown",
   "metadata": {},
   "source": [
    "Раз зарегистрировались, значит абонентскую плату внесли, соответственно избавляться от них ни к чему"
   ]
  },
  {
   "cell_type": "code",
   "execution_count": 31,
   "metadata": {},
   "outputs": [
    {
     "data": {
      "text/plain": [
       "count                      38\n",
       "unique                     33\n",
       "top       2018-12-03 00:00:00\n",
       "freq                        2\n",
       "first     2018-08-17 00:00:00\n",
       "last      2018-12-30 00:00:00\n",
       "Name: churn_date, dtype: object"
      ]
     },
     "execution_count": 31,
     "metadata": {},
     "output_type": "execute_result"
    }
   ],
   "source": [
    "users[\"churn_date\"].describe()"
   ]
  },
  {
   "cell_type": "markdown",
   "metadata": {},
   "source": [
    "данные таблицы можно считать корректными."
   ]
  },
  {
   "cell_type": "markdown",
   "metadata": {},
   "source": [
    "### Звонки"
   ]
  },
  {
   "cell_type": "code",
   "execution_count": 32,
   "metadata": {},
   "outputs": [
    {
     "name": "stdout",
     "output_type": "stream",
     "text": [
      "<class 'pandas.core.frame.DataFrame'>\n",
      "RangeIndex: 202607 entries, 0 to 202606\n",
      "Data columns (total 4 columns):\n",
      " #   Column     Non-Null Count   Dtype  \n",
      "---  ------     --------------   -----  \n",
      " 0   id         202607 non-null  object \n",
      " 1   call_date  202607 non-null  object \n",
      " 2   duration   202607 non-null  float64\n",
      " 3   user_id    202607 non-null  int64  \n",
      "dtypes: float64(1), int64(1), object(2)\n",
      "memory usage: 6.2+ MB\n"
     ]
    },
    {
     "data": {
      "text/html": [
       "<div>\n",
       "<style scoped>\n",
       "    .dataframe tbody tr th:only-of-type {\n",
       "        vertical-align: middle;\n",
       "    }\n",
       "\n",
       "    .dataframe tbody tr th {\n",
       "        vertical-align: top;\n",
       "    }\n",
       "\n",
       "    .dataframe thead th {\n",
       "        text-align: right;\n",
       "    }\n",
       "</style>\n",
       "<table border=\"1\" class=\"dataframe\">\n",
       "  <thead>\n",
       "    <tr style=\"text-align: right;\">\n",
       "      <th></th>\n",
       "      <th>id</th>\n",
       "      <th>call_date</th>\n",
       "      <th>duration</th>\n",
       "      <th>user_id</th>\n",
       "    </tr>\n",
       "  </thead>\n",
       "  <tbody>\n",
       "    <tr>\n",
       "      <th>0</th>\n",
       "      <td>1000_0</td>\n",
       "      <td>2018-07-25</td>\n",
       "      <td>0.00</td>\n",
       "      <td>1000</td>\n",
       "    </tr>\n",
       "    <tr>\n",
       "      <th>1</th>\n",
       "      <td>1000_1</td>\n",
       "      <td>2018-08-17</td>\n",
       "      <td>0.00</td>\n",
       "      <td>1000</td>\n",
       "    </tr>\n",
       "    <tr>\n",
       "      <th>2</th>\n",
       "      <td>1000_2</td>\n",
       "      <td>2018-06-11</td>\n",
       "      <td>2.85</td>\n",
       "      <td>1000</td>\n",
       "    </tr>\n",
       "    <tr>\n",
       "      <th>3</th>\n",
       "      <td>1000_3</td>\n",
       "      <td>2018-09-21</td>\n",
       "      <td>13.80</td>\n",
       "      <td>1000</td>\n",
       "    </tr>\n",
       "    <tr>\n",
       "      <th>4</th>\n",
       "      <td>1000_4</td>\n",
       "      <td>2018-12-15</td>\n",
       "      <td>5.18</td>\n",
       "      <td>1000</td>\n",
       "    </tr>\n",
       "    <tr>\n",
       "      <th>5</th>\n",
       "      <td>1000_5</td>\n",
       "      <td>2018-11-02</td>\n",
       "      <td>0.00</td>\n",
       "      <td>1000</td>\n",
       "    </tr>\n",
       "    <tr>\n",
       "      <th>6</th>\n",
       "      <td>1000_6</td>\n",
       "      <td>2018-10-18</td>\n",
       "      <td>0.00</td>\n",
       "      <td>1000</td>\n",
       "    </tr>\n",
       "    <tr>\n",
       "      <th>7</th>\n",
       "      <td>1000_7</td>\n",
       "      <td>2018-08-22</td>\n",
       "      <td>18.31</td>\n",
       "      <td>1000</td>\n",
       "    </tr>\n",
       "    <tr>\n",
       "      <th>8</th>\n",
       "      <td>1000_8</td>\n",
       "      <td>2018-09-15</td>\n",
       "      <td>18.44</td>\n",
       "      <td>1000</td>\n",
       "    </tr>\n",
       "    <tr>\n",
       "      <th>9</th>\n",
       "      <td>1000_9</td>\n",
       "      <td>2018-08-15</td>\n",
       "      <td>0.00</td>\n",
       "      <td>1000</td>\n",
       "    </tr>\n",
       "    <tr>\n",
       "      <th>10</th>\n",
       "      <td>1000_10</td>\n",
       "      <td>2018-08-22</td>\n",
       "      <td>5.03</td>\n",
       "      <td>1000</td>\n",
       "    </tr>\n",
       "    <tr>\n",
       "      <th>11</th>\n",
       "      <td>1000_11</td>\n",
       "      <td>2018-05-28</td>\n",
       "      <td>18.82</td>\n",
       "      <td>1000</td>\n",
       "    </tr>\n",
       "    <tr>\n",
       "      <th>12</th>\n",
       "      <td>1000_12</td>\n",
       "      <td>2018-07-05</td>\n",
       "      <td>2.02</td>\n",
       "      <td>1000</td>\n",
       "    </tr>\n",
       "    <tr>\n",
       "      <th>13</th>\n",
       "      <td>1000_13</td>\n",
       "      <td>2018-09-29</td>\n",
       "      <td>7.15</td>\n",
       "      <td>1000</td>\n",
       "    </tr>\n",
       "    <tr>\n",
       "      <th>14</th>\n",
       "      <td>1000_14</td>\n",
       "      <td>2018-12-11</td>\n",
       "      <td>9.13</td>\n",
       "      <td>1000</td>\n",
       "    </tr>\n",
       "    <tr>\n",
       "      <th>15</th>\n",
       "      <td>1000_15</td>\n",
       "      <td>2018-07-27</td>\n",
       "      <td>9.36</td>\n",
       "      <td>1000</td>\n",
       "    </tr>\n",
       "    <tr>\n",
       "      <th>16</th>\n",
       "      <td>1000_16</td>\n",
       "      <td>2018-08-11</td>\n",
       "      <td>4.08</td>\n",
       "      <td>1000</td>\n",
       "    </tr>\n",
       "    <tr>\n",
       "      <th>17</th>\n",
       "      <td>1000_17</td>\n",
       "      <td>2018-08-02</td>\n",
       "      <td>12.63</td>\n",
       "      <td>1000</td>\n",
       "    </tr>\n",
       "    <tr>\n",
       "      <th>18</th>\n",
       "      <td>1000_18</td>\n",
       "      <td>2018-06-15</td>\n",
       "      <td>4.46</td>\n",
       "      <td>1000</td>\n",
       "    </tr>\n",
       "    <tr>\n",
       "      <th>19</th>\n",
       "      <td>1000_19</td>\n",
       "      <td>2018-11-02</td>\n",
       "      <td>15.08</td>\n",
       "      <td>1000</td>\n",
       "    </tr>\n",
       "  </tbody>\n",
       "</table>\n",
       "</div>"
      ],
      "text/plain": [
       "         id   call_date  duration  user_id\n",
       "0    1000_0  2018-07-25      0.00     1000\n",
       "1    1000_1  2018-08-17      0.00     1000\n",
       "2    1000_2  2018-06-11      2.85     1000\n",
       "3    1000_3  2018-09-21     13.80     1000\n",
       "4    1000_4  2018-12-15      5.18     1000\n",
       "5    1000_5  2018-11-02      0.00     1000\n",
       "6    1000_6  2018-10-18      0.00     1000\n",
       "7    1000_7  2018-08-22     18.31     1000\n",
       "8    1000_8  2018-09-15     18.44     1000\n",
       "9    1000_9  2018-08-15      0.00     1000\n",
       "10  1000_10  2018-08-22      5.03     1000\n",
       "11  1000_11  2018-05-28     18.82     1000\n",
       "12  1000_12  2018-07-05      2.02     1000\n",
       "13  1000_13  2018-09-29      7.15     1000\n",
       "14  1000_14  2018-12-11      9.13     1000\n",
       "15  1000_15  2018-07-27      9.36     1000\n",
       "16  1000_16  2018-08-11      4.08     1000\n",
       "17  1000_17  2018-08-02     12.63     1000\n",
       "18  1000_18  2018-06-15      4.46     1000\n",
       "19  1000_19  2018-11-02     15.08     1000"
      ]
     },
     "execution_count": 32,
     "metadata": {},
     "output_type": "execute_result"
    }
   ],
   "source": [
    "calls.info()\n",
    "calls.head(20)"
   ]
  },
  {
   "cell_type": "markdown",
   "metadata": {},
   "source": [
    "проверим количество пользователей совершавших звонки"
   ]
  },
  {
   "cell_type": "code",
   "execution_count": 33,
   "metadata": {},
   "outputs": [
    {
     "data": {
      "text/plain": [
       "492"
      ]
     },
     "metadata": {},
     "output_type": "display_data"
    },
    {
     "data": {
      "text/html": [
       "<div>\n",
       "<style scoped>\n",
       "    .dataframe tbody tr th:only-of-type {\n",
       "        vertical-align: middle;\n",
       "    }\n",
       "\n",
       "    .dataframe tbody tr th {\n",
       "        vertical-align: top;\n",
       "    }\n",
       "\n",
       "    .dataframe thead th {\n",
       "        text-align: right;\n",
       "    }\n",
       "</style>\n",
       "<table border=\"1\" class=\"dataframe\">\n",
       "  <thead>\n",
       "    <tr style=\"text-align: right;\">\n",
       "      <th></th>\n",
       "      <th>user_id</th>\n",
       "      <th>age</th>\n",
       "      <th>churn_date</th>\n",
       "      <th>city</th>\n",
       "      <th>first_name</th>\n",
       "      <th>last_name</th>\n",
       "      <th>reg_date</th>\n",
       "      <th>tariff</th>\n",
       "    </tr>\n",
       "  </thead>\n",
       "  <tbody>\n",
       "    <tr>\n",
       "      <th>91</th>\n",
       "      <td>1091</td>\n",
       "      <td>36</td>\n",
       "      <td>NaT</td>\n",
       "      <td>Набережные Челны</td>\n",
       "      <td>Вера</td>\n",
       "      <td>Суслова</td>\n",
       "      <td>2018-05-08</td>\n",
       "      <td>ultra</td>\n",
       "    </tr>\n",
       "    <tr>\n",
       "      <th>106</th>\n",
       "      <td>1106</td>\n",
       "      <td>67</td>\n",
       "      <td>NaT</td>\n",
       "      <td>Калуга</td>\n",
       "      <td>Исаак</td>\n",
       "      <td>Костин</td>\n",
       "      <td>2018-04-26</td>\n",
       "      <td>ultra</td>\n",
       "    </tr>\n",
       "    <tr>\n",
       "      <th>128</th>\n",
       "      <td>1128</td>\n",
       "      <td>51</td>\n",
       "      <td>2018-12-23</td>\n",
       "      <td>Волжский</td>\n",
       "      <td>Ксения</td>\n",
       "      <td>Агаева</td>\n",
       "      <td>2018-12-15</td>\n",
       "      <td>ultra</td>\n",
       "    </tr>\n",
       "    <tr>\n",
       "      <th>231</th>\n",
       "      <td>1231</td>\n",
       "      <td>63</td>\n",
       "      <td>NaT</td>\n",
       "      <td>Чебоксары</td>\n",
       "      <td>Касьян</td>\n",
       "      <td>Авдюков</td>\n",
       "      <td>2018-05-23</td>\n",
       "      <td>ultra</td>\n",
       "    </tr>\n",
       "    <tr>\n",
       "      <th>328</th>\n",
       "      <td>1328</td>\n",
       "      <td>44</td>\n",
       "      <td>NaT</td>\n",
       "      <td>Мурманск</td>\n",
       "      <td>Рауль</td>\n",
       "      <td>Аркадьев</td>\n",
       "      <td>2018-10-16</td>\n",
       "      <td>ultra</td>\n",
       "    </tr>\n",
       "    <tr>\n",
       "      <th>371</th>\n",
       "      <td>1371</td>\n",
       "      <td>50</td>\n",
       "      <td>2018-12-30</td>\n",
       "      <td>Омск</td>\n",
       "      <td>Ириней</td>\n",
       "      <td>Трофимов</td>\n",
       "      <td>2018-12-25</td>\n",
       "      <td>smart</td>\n",
       "    </tr>\n",
       "    <tr>\n",
       "      <th>473</th>\n",
       "      <td>1473</td>\n",
       "      <td>18</td>\n",
       "      <td>NaT</td>\n",
       "      <td>Красноярск</td>\n",
       "      <td>Николай</td>\n",
       "      <td>Лебедев</td>\n",
       "      <td>2018-08-05</td>\n",
       "      <td>ultra</td>\n",
       "    </tr>\n",
       "    <tr>\n",
       "      <th>489</th>\n",
       "      <td>1489</td>\n",
       "      <td>35</td>\n",
       "      <td>NaT</td>\n",
       "      <td>Санкт-Петербург</td>\n",
       "      <td>Павел</td>\n",
       "      <td>Гончаров</td>\n",
       "      <td>2018-08-15</td>\n",
       "      <td>smart</td>\n",
       "    </tr>\n",
       "  </tbody>\n",
       "</table>\n",
       "</div>"
      ],
      "text/plain": [
       "     user_id  age churn_date              city first_name last_name  \\\n",
       "91      1091   36        NaT  Набережные Челны       Вера   Суслова   \n",
       "106     1106   67        NaT            Калуга      Исаак    Костин   \n",
       "128     1128   51 2018-12-23          Волжский     Ксения    Агаева   \n",
       "231     1231   63        NaT         Чебоксары     Касьян   Авдюков   \n",
       "328     1328   44        NaT          Мурманск      Рауль  Аркадьев   \n",
       "371     1371   50 2018-12-30              Омск     Ириней  Трофимов   \n",
       "473     1473   18        NaT        Красноярск    Николай   Лебедев   \n",
       "489     1489   35        NaT   Санкт-Петербург      Павел  Гончаров   \n",
       "\n",
       "      reg_date tariff  \n",
       "91  2018-05-08  ultra  \n",
       "106 2018-04-26  ultra  \n",
       "128 2018-12-15  ultra  \n",
       "231 2018-05-23  ultra  \n",
       "328 2018-10-16  ultra  \n",
       "371 2018-12-25  smart  \n",
       "473 2018-08-05  ultra  \n",
       "489 2018-08-15  smart  "
      ]
     },
     "metadata": {},
     "output_type": "display_data"
    },
    {
     "data": {
      "text/plain": [
       "array([1091, 1106, 1128, 1231, 1328, 1371, 1473, 1489], dtype=int64)"
      ]
     },
     "execution_count": 33,
     "metadata": {},
     "output_type": "execute_result"
    }
   ],
   "source": [
    "display(len(calls[\"user_id\"].unique()))\n",
    "display(users.query('user_id not in @calls.user_id'))\n",
    "no_call_users = users.query('user_id not in @calls.user_id')[\"user_id\"].unique()\n",
    "no_call_users"
   ]
  },
  {
   "cell_type": "markdown",
   "metadata": {},
   "source": [
    "8 человек, которые не совершали звонков - это интересное явление. стоит сразу проверить, писали ли они смс и пользовались ли интернетом"
   ]
  },
  {
   "cell_type": "code",
   "execution_count": 34,
   "metadata": {},
   "outputs": [
    {
     "data": {
      "text/plain": [
       "array([1091, 1106, 1231, 1328, 1473, 1489], dtype=int64)"
      ]
     },
     "execution_count": 34,
     "metadata": {},
     "output_type": "execute_result"
    }
   ],
   "source": [
    "messages.query('user_id in @no_call_users')[\"user_id\"].unique()"
   ]
  },
  {
   "cell_type": "markdown",
   "metadata": {},
   "source": [
    "шестеро эсэмэсочников"
   ]
  },
  {
   "cell_type": "code",
   "execution_count": 35,
   "metadata": {},
   "outputs": [
    {
     "data": {
      "text/plain": [
       "array([1091, 1106, 1231, 1328, 1473, 1489], dtype=int64)"
      ]
     },
     "execution_count": 35,
     "metadata": {},
     "output_type": "execute_result"
    }
   ],
   "source": [
    "internet.query('user_id in @no_call_users')[\"user_id\"].unique()"
   ]
  },
  {
   "cell_type": "markdown",
   "metadata": {},
   "source": [
    "<a id='lost'></a>\n",
    "те же шестеро. соответственно у нас есть 2 абонента, которые просто не использовали симкарту 1128 и 1371. взглянем на них и продолжим изучать таблицу со звонками"
   ]
  },
  {
   "cell_type": "code",
   "execution_count": 36,
   "metadata": {},
   "outputs": [
    {
     "data": {
      "text/html": [
       "<div>\n",
       "<style scoped>\n",
       "    .dataframe tbody tr th:only-of-type {\n",
       "        vertical-align: middle;\n",
       "    }\n",
       "\n",
       "    .dataframe tbody tr th {\n",
       "        vertical-align: top;\n",
       "    }\n",
       "\n",
       "    .dataframe thead th {\n",
       "        text-align: right;\n",
       "    }\n",
       "</style>\n",
       "<table border=\"1\" class=\"dataframe\">\n",
       "  <thead>\n",
       "    <tr style=\"text-align: right;\">\n",
       "      <th></th>\n",
       "      <th>user_id</th>\n",
       "      <th>age</th>\n",
       "      <th>churn_date</th>\n",
       "      <th>city</th>\n",
       "      <th>first_name</th>\n",
       "      <th>last_name</th>\n",
       "      <th>reg_date</th>\n",
       "      <th>tariff</th>\n",
       "    </tr>\n",
       "  </thead>\n",
       "  <tbody>\n",
       "    <tr>\n",
       "      <th>128</th>\n",
       "      <td>1128</td>\n",
       "      <td>51</td>\n",
       "      <td>2018-12-23</td>\n",
       "      <td>Волжский</td>\n",
       "      <td>Ксения</td>\n",
       "      <td>Агаева</td>\n",
       "      <td>2018-12-15</td>\n",
       "      <td>ultra</td>\n",
       "    </tr>\n",
       "    <tr>\n",
       "      <th>371</th>\n",
       "      <td>1371</td>\n",
       "      <td>50</td>\n",
       "      <td>2018-12-30</td>\n",
       "      <td>Омск</td>\n",
       "      <td>Ириней</td>\n",
       "      <td>Трофимов</td>\n",
       "      <td>2018-12-25</td>\n",
       "      <td>smart</td>\n",
       "    </tr>\n",
       "  </tbody>\n",
       "</table>\n",
       "</div>"
      ],
      "text/plain": [
       "     user_id  age churn_date      city first_name last_name   reg_date tariff\n",
       "128     1128   51 2018-12-23  Волжский     Ксения    Агаева 2018-12-15  ultra\n",
       "371     1371   50 2018-12-30      Омск     Ириней  Трофимов 2018-12-25  smart"
      ]
     },
     "execution_count": 36,
     "metadata": {},
     "output_type": "execute_result"
    }
   ],
   "source": [
    "users.query('user_id == 1128 or user_id == 1371')"
   ]
  },
  {
   "cell_type": "markdown",
   "metadata": {},
   "source": [
    "конец рассматриваемого периода. похоже, что не успели. хотя полмесяца - это не мало"
   ]
  },
  {
   "cell_type": "code",
   "execution_count": 37,
   "metadata": {},
   "outputs": [
    {
     "data": {
      "text/plain": [
       "id                   object\n",
       "call_date    datetime64[ns]\n",
       "duration            float64\n",
       "user_id               int64\n",
       "dtype: object"
      ]
     },
     "execution_count": 37,
     "metadata": {},
     "output_type": "execute_result"
    }
   ],
   "source": [
    "# приводим даты к date_time\n",
    "calls[\"call_date\"] = pd.to_datetime(calls[\"call_date\"], format=\"%Y-%m-%d\")\n",
    "calls.dtypes"
   ]
  },
  {
   "cell_type": "code",
   "execution_count": 38,
   "metadata": {},
   "outputs": [
    {
     "data": {
      "text/plain": [
       "count    202607.000000\n",
       "mean          6.755887\n",
       "std           5.843365\n",
       "min           0.000000\n",
       "25%           1.300000\n",
       "50%           6.000000\n",
       "75%          10.700000\n",
       "max          38.000000\n",
       "Name: duration, dtype: float64"
      ]
     },
     "metadata": {},
     "output_type": "display_data"
    },
    {
     "data": {
      "text/html": [
       "<div>\n",
       "<style scoped>\n",
       "    .dataframe tbody tr th:only-of-type {\n",
       "        vertical-align: middle;\n",
       "    }\n",
       "\n",
       "    .dataframe tbody tr th {\n",
       "        vertical-align: top;\n",
       "    }\n",
       "\n",
       "    .dataframe thead th {\n",
       "        text-align: right;\n",
       "    }\n",
       "</style>\n",
       "<table border=\"1\" class=\"dataframe\">\n",
       "  <thead>\n",
       "    <tr style=\"text-align: right;\">\n",
       "      <th></th>\n",
       "      <th>id</th>\n",
       "      <th>call_date</th>\n",
       "      <th>duration</th>\n",
       "      <th>user_id</th>\n",
       "    </tr>\n",
       "  </thead>\n",
       "  <tbody>\n",
       "    <tr>\n",
       "      <th>0</th>\n",
       "      <td>1000_0</td>\n",
       "      <td>2018-07-25</td>\n",
       "      <td>0.00</td>\n",
       "      <td>1000</td>\n",
       "    </tr>\n",
       "    <tr>\n",
       "      <th>1</th>\n",
       "      <td>1000_1</td>\n",
       "      <td>2018-08-17</td>\n",
       "      <td>0.00</td>\n",
       "      <td>1000</td>\n",
       "    </tr>\n",
       "    <tr>\n",
       "      <th>2</th>\n",
       "      <td>1000_2</td>\n",
       "      <td>2018-06-11</td>\n",
       "      <td>2.85</td>\n",
       "      <td>1000</td>\n",
       "    </tr>\n",
       "    <tr>\n",
       "      <th>3</th>\n",
       "      <td>1000_3</td>\n",
       "      <td>2018-09-21</td>\n",
       "      <td>13.80</td>\n",
       "      <td>1000</td>\n",
       "    </tr>\n",
       "    <tr>\n",
       "      <th>4</th>\n",
       "      <td>1000_4</td>\n",
       "      <td>2018-12-15</td>\n",
       "      <td>5.18</td>\n",
       "      <td>1000</td>\n",
       "    </tr>\n",
       "  </tbody>\n",
       "</table>\n",
       "</div>"
      ],
      "text/plain": [
       "       id  call_date  duration  user_id\n",
       "0  1000_0 2018-07-25      0.00     1000\n",
       "1  1000_1 2018-08-17      0.00     1000\n",
       "2  1000_2 2018-06-11      2.85     1000\n",
       "3  1000_3 2018-09-21     13.80     1000\n",
       "4  1000_4 2018-12-15      5.18     1000"
      ]
     },
     "execution_count": 38,
     "metadata": {},
     "output_type": "execute_result"
    }
   ],
   "source": [
    "# разброс длительности звонков\n",
    "display(calls[\"duration\"].describe())\n",
    "calls.head()"
   ]
  },
  {
   "cell_type": "markdown",
   "metadata": {},
   "source": [
    "Присутствуют нулевые длительности. это звонки без ответа. Пересчитаем значения длительности звонков согласно условиям тарификации "
   ]
  },
  {
   "cell_type": "code",
   "execution_count": 39,
   "metadata": {},
   "outputs": [
    {
     "data": {
      "text/html": [
       "<div>\n",
       "<style scoped>\n",
       "    .dataframe tbody tr th:only-of-type {\n",
       "        vertical-align: middle;\n",
       "    }\n",
       "\n",
       "    .dataframe tbody tr th {\n",
       "        vertical-align: top;\n",
       "    }\n",
       "\n",
       "    .dataframe thead th {\n",
       "        text-align: right;\n",
       "    }\n",
       "</style>\n",
       "<table border=\"1\" class=\"dataframe\">\n",
       "  <thead>\n",
       "    <tr style=\"text-align: right;\">\n",
       "      <th></th>\n",
       "      <th>id</th>\n",
       "      <th>call_date</th>\n",
       "      <th>duration</th>\n",
       "      <th>user_id</th>\n",
       "    </tr>\n",
       "  </thead>\n",
       "  <tbody>\n",
       "    <tr>\n",
       "      <th>0</th>\n",
       "      <td>1000_0</td>\n",
       "      <td>2018-07-25</td>\n",
       "      <td>0.0</td>\n",
       "      <td>1000</td>\n",
       "    </tr>\n",
       "    <tr>\n",
       "      <th>1</th>\n",
       "      <td>1000_1</td>\n",
       "      <td>2018-08-17</td>\n",
       "      <td>0.0</td>\n",
       "      <td>1000</td>\n",
       "    </tr>\n",
       "    <tr>\n",
       "      <th>2</th>\n",
       "      <td>1000_2</td>\n",
       "      <td>2018-06-11</td>\n",
       "      <td>3.0</td>\n",
       "      <td>1000</td>\n",
       "    </tr>\n",
       "    <tr>\n",
       "      <th>3</th>\n",
       "      <td>1000_3</td>\n",
       "      <td>2018-09-21</td>\n",
       "      <td>14.0</td>\n",
       "      <td>1000</td>\n",
       "    </tr>\n",
       "    <tr>\n",
       "      <th>4</th>\n",
       "      <td>1000_4</td>\n",
       "      <td>2018-12-15</td>\n",
       "      <td>6.0</td>\n",
       "      <td>1000</td>\n",
       "    </tr>\n",
       "  </tbody>\n",
       "</table>\n",
       "</div>"
      ],
      "text/plain": [
       "       id  call_date  duration  user_id\n",
       "0  1000_0 2018-07-25       0.0     1000\n",
       "1  1000_1 2018-08-17       0.0     1000\n",
       "2  1000_2 2018-06-11       3.0     1000\n",
       "3  1000_3 2018-09-21      14.0     1000\n",
       "4  1000_4 2018-12-15       6.0     1000"
      ]
     },
     "execution_count": 39,
     "metadata": {},
     "output_type": "execute_result"
    }
   ],
   "source": [
    "# calls.loc[calls[\"duration\"] > 0, \"duration\"] = calls[\"duration\"] + 1\n",
    "# calls[\"duration\"] = calls[\"duration\"].astype(\"int\")\n",
    "# calls.head()\n",
    "calls[\"duration\"] = np.ceil(calls[\"duration\"])\n",
    "calls.head()"
   ]
  },
  {
   "cell_type": "markdown",
   "metadata": {},
   "source": [
    "<div style=\"border:solid Red 2px; padding: 40px\">\n",
    "    <div class=\"alert alert-block alert-danger\">\n",
    "<h2> Комментарий ревьюера <a class=\"tocSkip\"></h2>\n",
    "\n",
    "<font color='red'><b>На доработку ❌:</b>  </font>\n",
    "    \n",
    "С посощью int округление пройдет не корректно. В таком случае просто отбросит дробную часть. По заданию нужно сделать «округление вверх», т.е. использовать метод ceil. Он есть в библиотеке math, но тогда скорее всего придется применять apply или цикл, т.к. работает с единичным значением. Лучше использовать библиотеку numpy - метод np.ceil, т.к. он может работать сразу со всем столбцом.\n",
    "</div>"
   ]
  },
  {
   "cell_type": "markdown",
   "metadata": {},
   "source": [
    "<div class = \"alert alert-info\" style=\"border-left: 7px solid blue\">\n",
    "<b>я отбросил дробную часть и прибавил единицу ко всему, кроме нулей. цель достигнута) Но, возможно, это не лучший способ достижения цели</b>\n",
    "    \n",
    "</div>"
   ]
  },
  {
   "cell_type": "markdown",
   "metadata": {},
   "source": [
    "<div style=\"border:solid Green 2px; padding: 40px\">\n",
    "<div class=\"alert alert-success\">\n",
    "<h2> Комментарий ревьюера_V2 <a class=\"tocSkip\"> </h2>\n",
    "\n",
    "<font color='green'><b>Все отлично! 👍:</b>  </font>\n",
    "\n",
    "Через int сработает с погрешностями, поэтому и в итоговой выручке по некоторым пользователям были расхождения. Ниже я напишу код, который наглядно покажет разницу округлений на примере, когда звонок сосавил 2 минуты.\n",
    "    \n",
    "</div>"
   ]
  },
  {
   "cell_type": "code",
   "execution_count": 40,
   "metadata": {},
   "outputs": [
    {
     "data": {
      "text/plain": [
       "2.0"
      ]
     },
     "execution_count": 40,
     "metadata": {},
     "output_type": "execute_result"
    }
   ],
   "source": [
    "np.ceil(2)"
   ]
  },
  {
   "cell_type": "code",
   "execution_count": 41,
   "metadata": {},
   "outputs": [
    {
     "data": {
      "text/plain": [
       "3"
      ]
     },
     "execution_count": 41,
     "metadata": {},
     "output_type": "execute_result"
    }
   ],
   "source": [
    "int(2+1)"
   ]
  },
  {
   "cell_type": "markdown",
   "metadata": {},
   "source": [
    "всё же столбец с идентификатором каждого звонка не имеет никикого смысла"
   ]
  },
  {
   "cell_type": "code",
   "execution_count": 42,
   "metadata": {
    "scrolled": true
   },
   "outputs": [
    {
     "data": {
      "text/html": [
       "<div>\n",
       "<style scoped>\n",
       "    .dataframe tbody tr th:only-of-type {\n",
       "        vertical-align: middle;\n",
       "    }\n",
       "\n",
       "    .dataframe tbody tr th {\n",
       "        vertical-align: top;\n",
       "    }\n",
       "\n",
       "    .dataframe thead th {\n",
       "        text-align: right;\n",
       "    }\n",
       "</style>\n",
       "<table border=\"1\" class=\"dataframe\">\n",
       "  <thead>\n",
       "    <tr style=\"text-align: right;\">\n",
       "      <th></th>\n",
       "      <th>call_date</th>\n",
       "      <th>duration</th>\n",
       "      <th>user_id</th>\n",
       "    </tr>\n",
       "  </thead>\n",
       "  <tbody>\n",
       "    <tr>\n",
       "      <th>0</th>\n",
       "      <td>2018-07-25</td>\n",
       "      <td>0.0</td>\n",
       "      <td>1000</td>\n",
       "    </tr>\n",
       "    <tr>\n",
       "      <th>1</th>\n",
       "      <td>2018-08-17</td>\n",
       "      <td>0.0</td>\n",
       "      <td>1000</td>\n",
       "    </tr>\n",
       "    <tr>\n",
       "      <th>2</th>\n",
       "      <td>2018-06-11</td>\n",
       "      <td>3.0</td>\n",
       "      <td>1000</td>\n",
       "    </tr>\n",
       "    <tr>\n",
       "      <th>3</th>\n",
       "      <td>2018-09-21</td>\n",
       "      <td>14.0</td>\n",
       "      <td>1000</td>\n",
       "    </tr>\n",
       "    <tr>\n",
       "      <th>4</th>\n",
       "      <td>2018-12-15</td>\n",
       "      <td>6.0</td>\n",
       "      <td>1000</td>\n",
       "    </tr>\n",
       "  </tbody>\n",
       "</table>\n",
       "</div>"
      ],
      "text/plain": [
       "   call_date  duration  user_id\n",
       "0 2018-07-25       0.0     1000\n",
       "1 2018-08-17       0.0     1000\n",
       "2 2018-06-11       3.0     1000\n",
       "3 2018-09-21      14.0     1000\n",
       "4 2018-12-15       6.0     1000"
      ]
     },
     "execution_count": 42,
     "metadata": {},
     "output_type": "execute_result"
    }
   ],
   "source": [
    "# удаляем идентификаторы\n",
    "calls = calls.drop([\"id\"], axis=1)\n",
    "calls.head()"
   ]
  },
  {
   "cell_type": "markdown",
   "metadata": {},
   "source": [
    "### СМС"
   ]
  },
  {
   "cell_type": "code",
   "execution_count": 43,
   "metadata": {},
   "outputs": [
    {
     "name": "stdout",
     "output_type": "stream",
     "text": [
      "<class 'pandas.core.frame.DataFrame'>\n",
      "RangeIndex: 123036 entries, 0 to 123035\n",
      "Data columns (total 3 columns):\n",
      " #   Column        Non-Null Count   Dtype \n",
      "---  ------        --------------   ----- \n",
      " 0   id            123036 non-null  object\n",
      " 1   message_date  123036 non-null  object\n",
      " 2   user_id       123036 non-null  int64 \n",
      "dtypes: int64(1), object(2)\n",
      "memory usage: 2.8+ MB\n"
     ]
    },
    {
     "data": {
      "text/html": [
       "<div>\n",
       "<style scoped>\n",
       "    .dataframe tbody tr th:only-of-type {\n",
       "        vertical-align: middle;\n",
       "    }\n",
       "\n",
       "    .dataframe tbody tr th {\n",
       "        vertical-align: top;\n",
       "    }\n",
       "\n",
       "    .dataframe thead th {\n",
       "        text-align: right;\n",
       "    }\n",
       "</style>\n",
       "<table border=\"1\" class=\"dataframe\">\n",
       "  <thead>\n",
       "    <tr style=\"text-align: right;\">\n",
       "      <th></th>\n",
       "      <th>id</th>\n",
       "      <th>message_date</th>\n",
       "      <th>user_id</th>\n",
       "    </tr>\n",
       "  </thead>\n",
       "  <tbody>\n",
       "    <tr>\n",
       "      <th>0</th>\n",
       "      <td>1000_0</td>\n",
       "      <td>2018-06-27</td>\n",
       "      <td>1000</td>\n",
       "    </tr>\n",
       "    <tr>\n",
       "      <th>1</th>\n",
       "      <td>1000_1</td>\n",
       "      <td>2018-10-08</td>\n",
       "      <td>1000</td>\n",
       "    </tr>\n",
       "    <tr>\n",
       "      <th>2</th>\n",
       "      <td>1000_2</td>\n",
       "      <td>2018-08-04</td>\n",
       "      <td>1000</td>\n",
       "    </tr>\n",
       "    <tr>\n",
       "      <th>3</th>\n",
       "      <td>1000_3</td>\n",
       "      <td>2018-06-16</td>\n",
       "      <td>1000</td>\n",
       "    </tr>\n",
       "    <tr>\n",
       "      <th>4</th>\n",
       "      <td>1000_4</td>\n",
       "      <td>2018-12-05</td>\n",
       "      <td>1000</td>\n",
       "    </tr>\n",
       "    <tr>\n",
       "      <th>5</th>\n",
       "      <td>1000_5</td>\n",
       "      <td>2018-06-20</td>\n",
       "      <td>1000</td>\n",
       "    </tr>\n",
       "    <tr>\n",
       "      <th>6</th>\n",
       "      <td>1000_6</td>\n",
       "      <td>2018-11-19</td>\n",
       "      <td>1000</td>\n",
       "    </tr>\n",
       "    <tr>\n",
       "      <th>7</th>\n",
       "      <td>1000_7</td>\n",
       "      <td>2018-10-29</td>\n",
       "      <td>1000</td>\n",
       "    </tr>\n",
       "    <tr>\n",
       "      <th>8</th>\n",
       "      <td>1000_8</td>\n",
       "      <td>2018-06-25</td>\n",
       "      <td>1000</td>\n",
       "    </tr>\n",
       "    <tr>\n",
       "      <th>9</th>\n",
       "      <td>1000_9</td>\n",
       "      <td>2018-12-18</td>\n",
       "      <td>1000</td>\n",
       "    </tr>\n",
       "    <tr>\n",
       "      <th>10</th>\n",
       "      <td>1000_10</td>\n",
       "      <td>2018-05-30</td>\n",
       "      <td>1000</td>\n",
       "    </tr>\n",
       "    <tr>\n",
       "      <th>11</th>\n",
       "      <td>1000_11</td>\n",
       "      <td>2018-07-06</td>\n",
       "      <td>1000</td>\n",
       "    </tr>\n",
       "    <tr>\n",
       "      <th>12</th>\n",
       "      <td>1000_12</td>\n",
       "      <td>2018-08-20</td>\n",
       "      <td>1000</td>\n",
       "    </tr>\n",
       "    <tr>\n",
       "      <th>13</th>\n",
       "      <td>1000_13</td>\n",
       "      <td>2018-10-30</td>\n",
       "      <td>1000</td>\n",
       "    </tr>\n",
       "    <tr>\n",
       "      <th>14</th>\n",
       "      <td>1000_14</td>\n",
       "      <td>2018-09-14</td>\n",
       "      <td>1000</td>\n",
       "    </tr>\n",
       "    <tr>\n",
       "      <th>15</th>\n",
       "      <td>1000_15</td>\n",
       "      <td>2018-08-28</td>\n",
       "      <td>1000</td>\n",
       "    </tr>\n",
       "    <tr>\n",
       "      <th>16</th>\n",
       "      <td>1000_16</td>\n",
       "      <td>2018-06-25</td>\n",
       "      <td>1000</td>\n",
       "    </tr>\n",
       "    <tr>\n",
       "      <th>17</th>\n",
       "      <td>1000_17</td>\n",
       "      <td>2018-06-29</td>\n",
       "      <td>1000</td>\n",
       "    </tr>\n",
       "    <tr>\n",
       "      <th>18</th>\n",
       "      <td>1000_18</td>\n",
       "      <td>2018-07-07</td>\n",
       "      <td>1000</td>\n",
       "    </tr>\n",
       "    <tr>\n",
       "      <th>19</th>\n",
       "      <td>1000_19</td>\n",
       "      <td>2018-05-29</td>\n",
       "      <td>1000</td>\n",
       "    </tr>\n",
       "  </tbody>\n",
       "</table>\n",
       "</div>"
      ],
      "text/plain": [
       "         id message_date  user_id\n",
       "0    1000_0   2018-06-27     1000\n",
       "1    1000_1   2018-10-08     1000\n",
       "2    1000_2   2018-08-04     1000\n",
       "3    1000_3   2018-06-16     1000\n",
       "4    1000_4   2018-12-05     1000\n",
       "5    1000_5   2018-06-20     1000\n",
       "6    1000_6   2018-11-19     1000\n",
       "7    1000_7   2018-10-29     1000\n",
       "8    1000_8   2018-06-25     1000\n",
       "9    1000_9   2018-12-18     1000\n",
       "10  1000_10   2018-05-30     1000\n",
       "11  1000_11   2018-07-06     1000\n",
       "12  1000_12   2018-08-20     1000\n",
       "13  1000_13   2018-10-30     1000\n",
       "14  1000_14   2018-09-14     1000\n",
       "15  1000_15   2018-08-28     1000\n",
       "16  1000_16   2018-06-25     1000\n",
       "17  1000_17   2018-06-29     1000\n",
       "18  1000_18   2018-07-07     1000\n",
       "19  1000_19   2018-05-29     1000"
      ]
     },
     "execution_count": 43,
     "metadata": {},
     "output_type": "execute_result"
    }
   ],
   "source": [
    "messages.info()\n",
    "messages.head(20)"
   ]
  },
  {
   "cell_type": "code",
   "execution_count": 44,
   "metadata": {},
   "outputs": [
    {
     "data": {
      "text/plain": [
       "id                      object\n",
       "message_date    datetime64[ns]\n",
       "user_id                  int64\n",
       "dtype: object"
      ]
     },
     "execution_count": 44,
     "metadata": {},
     "output_type": "execute_result"
    }
   ],
   "source": [
    "# приводим дату к date_time\n",
    "messages[\"message_date\"] = pd.to_datetime(messages[\"message_date\"], format=\"%Y-%m-%d\")\n",
    "messages.dtypes"
   ]
  },
  {
   "cell_type": "code",
   "execution_count": 45,
   "metadata": {},
   "outputs": [
    {
     "data": {
      "text/html": [
       "<div>\n",
       "<style scoped>\n",
       "    .dataframe tbody tr th:only-of-type {\n",
       "        vertical-align: middle;\n",
       "    }\n",
       "\n",
       "    .dataframe tbody tr th {\n",
       "        vertical-align: top;\n",
       "    }\n",
       "\n",
       "    .dataframe thead th {\n",
       "        text-align: right;\n",
       "    }\n",
       "</style>\n",
       "<table border=\"1\" class=\"dataframe\">\n",
       "  <thead>\n",
       "    <tr style=\"text-align: right;\">\n",
       "      <th></th>\n",
       "      <th>message_date</th>\n",
       "      <th>user_id</th>\n",
       "    </tr>\n",
       "  </thead>\n",
       "  <tbody>\n",
       "    <tr>\n",
       "      <th>0</th>\n",
       "      <td>2018-06-27</td>\n",
       "      <td>1000</td>\n",
       "    </tr>\n",
       "    <tr>\n",
       "      <th>1</th>\n",
       "      <td>2018-10-08</td>\n",
       "      <td>1000</td>\n",
       "    </tr>\n",
       "    <tr>\n",
       "      <th>2</th>\n",
       "      <td>2018-08-04</td>\n",
       "      <td>1000</td>\n",
       "    </tr>\n",
       "    <tr>\n",
       "      <th>3</th>\n",
       "      <td>2018-06-16</td>\n",
       "      <td>1000</td>\n",
       "    </tr>\n",
       "    <tr>\n",
       "      <th>4</th>\n",
       "      <td>2018-12-05</td>\n",
       "      <td>1000</td>\n",
       "    </tr>\n",
       "  </tbody>\n",
       "</table>\n",
       "</div>"
      ],
      "text/plain": [
       "  message_date  user_id\n",
       "0   2018-06-27     1000\n",
       "1   2018-10-08     1000\n",
       "2   2018-08-04     1000\n",
       "3   2018-06-16     1000\n",
       "4   2018-12-05     1000"
      ]
     },
     "execution_count": 45,
     "metadata": {},
     "output_type": "execute_result"
    }
   ],
   "source": [
    "# удаляем идентификаторы\n",
    "messages = messages.drop([\"id\"], axis=1)\n",
    "messages.head()"
   ]
  },
  {
   "cell_type": "markdown",
   "metadata": {},
   "source": [
    "### Интернет"
   ]
  },
  {
   "cell_type": "code",
   "execution_count": 46,
   "metadata": {},
   "outputs": [
    {
     "name": "stdout",
     "output_type": "stream",
     "text": [
      "<class 'pandas.core.frame.DataFrame'>\n",
      "RangeIndex: 149396 entries, 0 to 149395\n",
      "Data columns (total 5 columns):\n",
      " #   Column        Non-Null Count   Dtype  \n",
      "---  ------        --------------   -----  \n",
      " 0   Unnamed: 0    149396 non-null  int64  \n",
      " 1   id            149396 non-null  object \n",
      " 2   mb_used       149396 non-null  float64\n",
      " 3   session_date  149396 non-null  object \n",
      " 4   user_id       149396 non-null  int64  \n",
      "dtypes: float64(1), int64(2), object(2)\n",
      "memory usage: 5.7+ MB\n"
     ]
    },
    {
     "data": {
      "text/html": [
       "<div>\n",
       "<style scoped>\n",
       "    .dataframe tbody tr th:only-of-type {\n",
       "        vertical-align: middle;\n",
       "    }\n",
       "\n",
       "    .dataframe tbody tr th {\n",
       "        vertical-align: top;\n",
       "    }\n",
       "\n",
       "    .dataframe thead th {\n",
       "        text-align: right;\n",
       "    }\n",
       "</style>\n",
       "<table border=\"1\" class=\"dataframe\">\n",
       "  <thead>\n",
       "    <tr style=\"text-align: right;\">\n",
       "      <th></th>\n",
       "      <th>Unnamed: 0</th>\n",
       "      <th>id</th>\n",
       "      <th>mb_used</th>\n",
       "      <th>session_date</th>\n",
       "      <th>user_id</th>\n",
       "    </tr>\n",
       "  </thead>\n",
       "  <tbody>\n",
       "    <tr>\n",
       "      <th>0</th>\n",
       "      <td>0</td>\n",
       "      <td>1000_0</td>\n",
       "      <td>112.95</td>\n",
       "      <td>2018-11-25</td>\n",
       "      <td>1000</td>\n",
       "    </tr>\n",
       "    <tr>\n",
       "      <th>1</th>\n",
       "      <td>1</td>\n",
       "      <td>1000_1</td>\n",
       "      <td>1052.81</td>\n",
       "      <td>2018-09-07</td>\n",
       "      <td>1000</td>\n",
       "    </tr>\n",
       "    <tr>\n",
       "      <th>2</th>\n",
       "      <td>2</td>\n",
       "      <td>1000_2</td>\n",
       "      <td>1197.26</td>\n",
       "      <td>2018-06-25</td>\n",
       "      <td>1000</td>\n",
       "    </tr>\n",
       "    <tr>\n",
       "      <th>3</th>\n",
       "      <td>3</td>\n",
       "      <td>1000_3</td>\n",
       "      <td>550.27</td>\n",
       "      <td>2018-08-22</td>\n",
       "      <td>1000</td>\n",
       "    </tr>\n",
       "    <tr>\n",
       "      <th>4</th>\n",
       "      <td>4</td>\n",
       "      <td>1000_4</td>\n",
       "      <td>302.56</td>\n",
       "      <td>2018-09-24</td>\n",
       "      <td>1000</td>\n",
       "    </tr>\n",
       "    <tr>\n",
       "      <th>5</th>\n",
       "      <td>5</td>\n",
       "      <td>1000_5</td>\n",
       "      <td>399.97</td>\n",
       "      <td>2018-10-02</td>\n",
       "      <td>1000</td>\n",
       "    </tr>\n",
       "    <tr>\n",
       "      <th>6</th>\n",
       "      <td>6</td>\n",
       "      <td>1000_6</td>\n",
       "      <td>540.08</td>\n",
       "      <td>2018-09-07</td>\n",
       "      <td>1000</td>\n",
       "    </tr>\n",
       "    <tr>\n",
       "      <th>7</th>\n",
       "      <td>7</td>\n",
       "      <td>1000_7</td>\n",
       "      <td>415.70</td>\n",
       "      <td>2018-07-11</td>\n",
       "      <td>1000</td>\n",
       "    </tr>\n",
       "    <tr>\n",
       "      <th>8</th>\n",
       "      <td>8</td>\n",
       "      <td>1000_8</td>\n",
       "      <td>505.40</td>\n",
       "      <td>2018-10-08</td>\n",
       "      <td>1000</td>\n",
       "    </tr>\n",
       "    <tr>\n",
       "      <th>9</th>\n",
       "      <td>9</td>\n",
       "      <td>1000_9</td>\n",
       "      <td>345.54</td>\n",
       "      <td>2018-09-03</td>\n",
       "      <td>1000</td>\n",
       "    </tr>\n",
       "    <tr>\n",
       "      <th>10</th>\n",
       "      <td>10</td>\n",
       "      <td>1000_10</td>\n",
       "      <td>385.14</td>\n",
       "      <td>2018-09-27</td>\n",
       "      <td>1000</td>\n",
       "    </tr>\n",
       "    <tr>\n",
       "      <th>11</th>\n",
       "      <td>11</td>\n",
       "      <td>1000_11</td>\n",
       "      <td>0.00</td>\n",
       "      <td>2018-08-28</td>\n",
       "      <td>1000</td>\n",
       "    </tr>\n",
       "    <tr>\n",
       "      <th>12</th>\n",
       "      <td>12</td>\n",
       "      <td>1000_12</td>\n",
       "      <td>375.87</td>\n",
       "      <td>2018-06-20</td>\n",
       "      <td>1000</td>\n",
       "    </tr>\n",
       "    <tr>\n",
       "      <th>13</th>\n",
       "      <td>13</td>\n",
       "      <td>1000_13</td>\n",
       "      <td>393.83</td>\n",
       "      <td>2018-08-09</td>\n",
       "      <td>1000</td>\n",
       "    </tr>\n",
       "    <tr>\n",
       "      <th>14</th>\n",
       "      <td>14</td>\n",
       "      <td>1000_14</td>\n",
       "      <td>180.64</td>\n",
       "      <td>2018-08-11</td>\n",
       "      <td>1000</td>\n",
       "    </tr>\n",
       "    <tr>\n",
       "      <th>15</th>\n",
       "      <td>15</td>\n",
       "      <td>1000_15</td>\n",
       "      <td>337.71</td>\n",
       "      <td>2018-07-21</td>\n",
       "      <td>1000</td>\n",
       "    </tr>\n",
       "    <tr>\n",
       "      <th>16</th>\n",
       "      <td>16</td>\n",
       "      <td>1000_16</td>\n",
       "      <td>459.28</td>\n",
       "      <td>2018-06-09</td>\n",
       "      <td>1000</td>\n",
       "    </tr>\n",
       "    <tr>\n",
       "      <th>17</th>\n",
       "      <td>17</td>\n",
       "      <td>1000_17</td>\n",
       "      <td>204.14</td>\n",
       "      <td>2018-06-03</td>\n",
       "      <td>1000</td>\n",
       "    </tr>\n",
       "    <tr>\n",
       "      <th>18</th>\n",
       "      <td>18</td>\n",
       "      <td>1000_18</td>\n",
       "      <td>658.10</td>\n",
       "      <td>2018-11-01</td>\n",
       "      <td>1000</td>\n",
       "    </tr>\n",
       "    <tr>\n",
       "      <th>19</th>\n",
       "      <td>19</td>\n",
       "      <td>1000_19</td>\n",
       "      <td>452.73</td>\n",
       "      <td>2018-11-28</td>\n",
       "      <td>1000</td>\n",
       "    </tr>\n",
       "  </tbody>\n",
       "</table>\n",
       "</div>"
      ],
      "text/plain": [
       "    Unnamed: 0       id  mb_used session_date  user_id\n",
       "0            0   1000_0   112.95   2018-11-25     1000\n",
       "1            1   1000_1  1052.81   2018-09-07     1000\n",
       "2            2   1000_2  1197.26   2018-06-25     1000\n",
       "3            3   1000_3   550.27   2018-08-22     1000\n",
       "4            4   1000_4   302.56   2018-09-24     1000\n",
       "5            5   1000_5   399.97   2018-10-02     1000\n",
       "6            6   1000_6   540.08   2018-09-07     1000\n",
       "7            7   1000_7   415.70   2018-07-11     1000\n",
       "8            8   1000_8   505.40   2018-10-08     1000\n",
       "9            9   1000_9   345.54   2018-09-03     1000\n",
       "10          10  1000_10   385.14   2018-09-27     1000\n",
       "11          11  1000_11     0.00   2018-08-28     1000\n",
       "12          12  1000_12   375.87   2018-06-20     1000\n",
       "13          13  1000_13   393.83   2018-08-09     1000\n",
       "14          14  1000_14   180.64   2018-08-11     1000\n",
       "15          15  1000_15   337.71   2018-07-21     1000\n",
       "16          16  1000_16   459.28   2018-06-09     1000\n",
       "17          17  1000_17   204.14   2018-06-03     1000\n",
       "18          18  1000_18   658.10   2018-11-01     1000\n",
       "19          19  1000_19   452.73   2018-11-28     1000"
      ]
     },
     "execution_count": 46,
     "metadata": {},
     "output_type": "execute_result"
    }
   ],
   "source": [
    "internet.info()\n",
    "internet.head(20)"
   ]
  },
  {
   "cell_type": "code",
   "execution_count": 47,
   "metadata": {},
   "outputs": [
    {
     "data": {
      "text/html": [
       "<div>\n",
       "<style scoped>\n",
       "    .dataframe tbody tr th:only-of-type {\n",
       "        vertical-align: middle;\n",
       "    }\n",
       "\n",
       "    .dataframe tbody tr th {\n",
       "        vertical-align: top;\n",
       "    }\n",
       "\n",
       "    .dataframe thead th {\n",
       "        text-align: right;\n",
       "    }\n",
       "</style>\n",
       "<table border=\"1\" class=\"dataframe\">\n",
       "  <thead>\n",
       "    <tr style=\"text-align: right;\">\n",
       "      <th></th>\n",
       "      <th>mb_used</th>\n",
       "      <th>session_date</th>\n",
       "      <th>user_id</th>\n",
       "    </tr>\n",
       "  </thead>\n",
       "  <tbody>\n",
       "    <tr>\n",
       "      <th>0</th>\n",
       "      <td>112.95</td>\n",
       "      <td>2018-11-25</td>\n",
       "      <td>1000</td>\n",
       "    </tr>\n",
       "    <tr>\n",
       "      <th>1</th>\n",
       "      <td>1052.81</td>\n",
       "      <td>2018-09-07</td>\n",
       "      <td>1000</td>\n",
       "    </tr>\n",
       "    <tr>\n",
       "      <th>2</th>\n",
       "      <td>1197.26</td>\n",
       "      <td>2018-06-25</td>\n",
       "      <td>1000</td>\n",
       "    </tr>\n",
       "    <tr>\n",
       "      <th>3</th>\n",
       "      <td>550.27</td>\n",
       "      <td>2018-08-22</td>\n",
       "      <td>1000</td>\n",
       "    </tr>\n",
       "    <tr>\n",
       "      <th>4</th>\n",
       "      <td>302.56</td>\n",
       "      <td>2018-09-24</td>\n",
       "      <td>1000</td>\n",
       "    </tr>\n",
       "  </tbody>\n",
       "</table>\n",
       "</div>"
      ],
      "text/plain": [
       "   mb_used session_date  user_id\n",
       "0   112.95   2018-11-25     1000\n",
       "1  1052.81   2018-09-07     1000\n",
       "2  1197.26   2018-06-25     1000\n",
       "3   550.27   2018-08-22     1000\n",
       "4   302.56   2018-09-24     1000"
      ]
     },
     "execution_count": 47,
     "metadata": {},
     "output_type": "execute_result"
    }
   ],
   "source": [
    "# удаляем лишние столбцы\n",
    "internet = internet.drop([\"Unnamed: 0\", \"id\"], axis=1)\n",
    "internet.head()"
   ]
  },
  {
   "cell_type": "markdown",
   "metadata": {},
   "source": [
    "<div style=\"border:solid Green 2px; padding: 40px\">\n",
    "<div class=\"alert alert-success\">\n",
    "<h2> Комментарий ревьюера <a class=\"tocSkip\"> </h2>\n",
    "\n",
    "<font color='green'><b>Все отлично! 👍:</b>  </font>\n",
    "\n",
    "Столбец `Unnamed: 0` в таблице трафика интернета дублирует индекс. Дело в том, что таблица уже содержала в себе столбец с индексами, а пандас при чтении добавил еще один. В результате имеем два. Если при чтении указать аргумент index_col=0, то данные сразу прочитаются корректно.\n",
    "    \n",
    "</div>"
   ]
  },
  {
   "cell_type": "code",
   "execution_count": 48,
   "metadata": {
    "scrolled": true
   },
   "outputs": [
    {
     "data": {
      "text/plain": [
       "count    149396.000000\n",
       "mean        370.192426\n",
       "std         278.300951\n",
       "min           0.000000\n",
       "25%         138.187500\n",
       "50%         348.015000\n",
       "75%         559.552500\n",
       "max        1724.830000\n",
       "Name: mb_used, dtype: float64"
      ]
     },
     "execution_count": 48,
     "metadata": {},
     "output_type": "execute_result"
    }
   ],
   "source": [
    "# смотрим разброс трафика за сессию\n",
    "internet[\"mb_used\"].describe()\n"
   ]
  },
  {
   "cell_type": "markdown",
   "metadata": {},
   "source": [
    "кто-то скачал фильмец)"
   ]
  },
  {
   "cell_type": "markdown",
   "metadata": {},
   "source": [
    "Присутствуют нулевые сессии. посмотрим на них"
   ]
  },
  {
   "cell_type": "code",
   "execution_count": 49,
   "metadata": {},
   "outputs": [
    {
     "name": "stdout",
     "output_type": "stream",
     "text": [
      "Количество нулевых сессий:  19598\n"
     ]
    },
    {
     "data": {
      "text/html": [
       "<div>\n",
       "<style scoped>\n",
       "    .dataframe tbody tr th:only-of-type {\n",
       "        vertical-align: middle;\n",
       "    }\n",
       "\n",
       "    .dataframe tbody tr th {\n",
       "        vertical-align: top;\n",
       "    }\n",
       "\n",
       "    .dataframe thead th {\n",
       "        text-align: right;\n",
       "    }\n",
       "</style>\n",
       "<table border=\"1\" class=\"dataframe\">\n",
       "  <thead>\n",
       "    <tr style=\"text-align: right;\">\n",
       "      <th></th>\n",
       "      <th>mb_used</th>\n",
       "      <th>session_date</th>\n",
       "      <th>user_id</th>\n",
       "    </tr>\n",
       "  </thead>\n",
       "  <tbody>\n",
       "    <tr>\n",
       "      <th>11</th>\n",
       "      <td>0.0</td>\n",
       "      <td>2018-08-28</td>\n",
       "      <td>1000</td>\n",
       "    </tr>\n",
       "    <tr>\n",
       "      <th>38</th>\n",
       "      <td>0.0</td>\n",
       "      <td>2018-11-27</td>\n",
       "      <td>1000</td>\n",
       "    </tr>\n",
       "    <tr>\n",
       "      <th>46</th>\n",
       "      <td>0.0</td>\n",
       "      <td>2018-06-30</td>\n",
       "      <td>1000</td>\n",
       "    </tr>\n",
       "    <tr>\n",
       "      <th>67</th>\n",
       "      <td>0.0</td>\n",
       "      <td>2018-06-16</td>\n",
       "      <td>1000</td>\n",
       "    </tr>\n",
       "    <tr>\n",
       "      <th>72</th>\n",
       "      <td>0.0</td>\n",
       "      <td>2018-06-15</td>\n",
       "      <td>1000</td>\n",
       "    </tr>\n",
       "    <tr>\n",
       "      <th>...</th>\n",
       "      <td>...</td>\n",
       "      <td>...</td>\n",
       "      <td>...</td>\n",
       "    </tr>\n",
       "    <tr>\n",
       "      <th>149380</th>\n",
       "      <td>0.0</td>\n",
       "      <td>2018-12-11</td>\n",
       "      <td>1499</td>\n",
       "    </tr>\n",
       "    <tr>\n",
       "      <th>149381</th>\n",
       "      <td>0.0</td>\n",
       "      <td>2018-11-01</td>\n",
       "      <td>1499</td>\n",
       "    </tr>\n",
       "    <tr>\n",
       "      <th>149383</th>\n",
       "      <td>0.0</td>\n",
       "      <td>2018-11-27</td>\n",
       "      <td>1499</td>\n",
       "    </tr>\n",
       "    <tr>\n",
       "      <th>149386</th>\n",
       "      <td>0.0</td>\n",
       "      <td>2018-10-21</td>\n",
       "      <td>1499</td>\n",
       "    </tr>\n",
       "    <tr>\n",
       "      <th>149393</th>\n",
       "      <td>0.0</td>\n",
       "      <td>2018-10-27</td>\n",
       "      <td>1499</td>\n",
       "    </tr>\n",
       "  </tbody>\n",
       "</table>\n",
       "<p>19598 rows × 3 columns</p>\n",
       "</div>"
      ],
      "text/plain": [
       "        mb_used session_date  user_id\n",
       "11          0.0   2018-08-28     1000\n",
       "38          0.0   2018-11-27     1000\n",
       "46          0.0   2018-06-30     1000\n",
       "67          0.0   2018-06-16     1000\n",
       "72          0.0   2018-06-15     1000\n",
       "...         ...          ...      ...\n",
       "149380      0.0   2018-12-11     1499\n",
       "149381      0.0   2018-11-01     1499\n",
       "149383      0.0   2018-11-27     1499\n",
       "149386      0.0   2018-10-21     1499\n",
       "149393      0.0   2018-10-27     1499\n",
       "\n",
       "[19598 rows x 3 columns]"
      ]
     },
     "execution_count": 49,
     "metadata": {},
     "output_type": "execute_result"
    }
   ],
   "source": [
    "print(\"Количество нулевых сессий: \", len(internet[internet[\"mb_used\"] == 0]))\n",
    "internet[internet[\"mb_used\"] == 0]\n"
   ]
  },
  {
   "cell_type": "code",
   "execution_count": 50,
   "metadata": {},
   "outputs": [
    {
     "data": {
      "text/plain": [
       "494"
      ]
     },
     "execution_count": 50,
     "metadata": {},
     "output_type": "execute_result"
    }
   ],
   "source": [
    "# количество абонентов с нулевыми сессиями\n",
    "len(internet[internet[\"mb_used\"] == 0][\"user_id\"].unique())"
   ]
  },
  {
   "cell_type": "markdown",
   "metadata": {},
   "source": [
    "Судя по всему нулевой трафик можно считать нормальным явлением. Наверное, это что-то вроде открыл браузер - закрыл браузер."
   ]
  },
  {
   "cell_type": "code",
   "execution_count": 51,
   "metadata": {},
   "outputs": [
    {
     "data": {
      "text/plain": [
       "mb_used                float64\n",
       "session_date    datetime64[ns]\n",
       "user_id                  int64\n",
       "dtype: object"
      ]
     },
     "execution_count": 51,
     "metadata": {},
     "output_type": "execute_result"
    }
   ],
   "source": [
    "# приводим даты к date_time\n",
    "internet[\"session_date\"] = pd.to_datetime(internet[\"session_date\"], format=\"%Y-%m-%d\")\n",
    "internet.dtypes"
   ]
  },
  {
   "cell_type": "markdown",
   "metadata": {},
   "source": [
    "переведем мегабайты в гигабайты и переименуем столбец"
   ]
  },
  {
   "cell_type": "code",
   "execution_count": 52,
   "metadata": {
    "scrolled": false
   },
   "outputs": [
    {
     "data": {
      "text/html": [
       "<div>\n",
       "<style scoped>\n",
       "    .dataframe tbody tr th:only-of-type {\n",
       "        vertical-align: middle;\n",
       "    }\n",
       "\n",
       "    .dataframe tbody tr th {\n",
       "        vertical-align: top;\n",
       "    }\n",
       "\n",
       "    .dataframe thead th {\n",
       "        text-align: right;\n",
       "    }\n",
       "</style>\n",
       "<table border=\"1\" class=\"dataframe\">\n",
       "  <thead>\n",
       "    <tr style=\"text-align: right;\">\n",
       "      <th></th>\n",
       "      <th>gb_used</th>\n",
       "      <th>session_date</th>\n",
       "      <th>user_id</th>\n",
       "    </tr>\n",
       "  </thead>\n",
       "  <tbody>\n",
       "    <tr>\n",
       "      <th>0</th>\n",
       "      <td>0.110303</td>\n",
       "      <td>2018-11-25</td>\n",
       "      <td>1000</td>\n",
       "    </tr>\n",
       "    <tr>\n",
       "      <th>1</th>\n",
       "      <td>1.028135</td>\n",
       "      <td>2018-09-07</td>\n",
       "      <td>1000</td>\n",
       "    </tr>\n",
       "    <tr>\n",
       "      <th>2</th>\n",
       "      <td>1.169199</td>\n",
       "      <td>2018-06-25</td>\n",
       "      <td>1000</td>\n",
       "    </tr>\n",
       "    <tr>\n",
       "      <th>3</th>\n",
       "      <td>0.537373</td>\n",
       "      <td>2018-08-22</td>\n",
       "      <td>1000</td>\n",
       "    </tr>\n",
       "    <tr>\n",
       "      <th>4</th>\n",
       "      <td>0.295469</td>\n",
       "      <td>2018-09-24</td>\n",
       "      <td>1000</td>\n",
       "    </tr>\n",
       "  </tbody>\n",
       "</table>\n",
       "</div>"
      ],
      "text/plain": [
       "    gb_used session_date  user_id\n",
       "0  0.110303   2018-11-25     1000\n",
       "1  1.028135   2018-09-07     1000\n",
       "2  1.169199   2018-06-25     1000\n",
       "3  0.537373   2018-08-22     1000\n",
       "4  0.295469   2018-09-24     1000"
      ]
     },
     "execution_count": 52,
     "metadata": {},
     "output_type": "execute_result"
    }
   ],
   "source": [
    "internet = internet.rename(columns={\"mb_used\":\"gb_used\"})\n",
    "internet[\"gb_used\"] = internet[\"gb_used\"] / 1024\n",
    "internet.head()"
   ]
  },
  {
   "cell_type": "markdown",
   "metadata": {},
   "source": [
    "### Вывод"
   ]
  },
  {
   "cell_type": "markdown",
   "metadata": {},
   "source": [
    "В результате предобработки данных\n",
    "1. Обнаружены абоненты не пользовавшиеся услугами. \n",
    "2. Удалены лишние колонки. \n",
    "3. Мегабайты трафика переведены в гигабайты\n",
    "4. Все даты преведены к типу date_time\n",
    "5. Заполнены пропуски в столбцу churn_date\n",
    "6. Обнаружены пользователи зарегестрировавшиеся в последний день исследуемого периода"
   ]
  },
  {
   "cell_type": "markdown",
   "metadata": {},
   "source": [
    "<div style=\"border:solid Green 2px; padding: 40px\">\n",
    "<div class=\"alert alert-success\">\n",
    "<h2> Комментарий ревьюера <a class=\"tocSkip\"> </h2>\n",
    "\n",
    "<font color='green'><b>Все отлично! 👍:</b>  </font>\n",
    "     \n",
    "Молодец!👍 Хорошая работа! Так держать!\n",
    "    \n",
    "    \n",
    "</div>"
   ]
  },
  {
   "cell_type": "markdown",
   "metadata": {},
   "source": [
    "## Группировка и подсчеты"
   ]
  },
  {
   "cell_type": "markdown",
   "metadata": {},
   "source": [
    "Сгруппируем данные по звонкам, сообщениям и трафику для каждого абонента за каждый месяц"
   ]
  },
  {
   "cell_type": "markdown",
   "metadata": {},
   "source": [
    "### Звонки"
   ]
  },
  {
   "cell_type": "code",
   "execution_count": 53,
   "metadata": {
    "scrolled": true
   },
   "outputs": [
    {
     "data": {
      "text/html": [
       "<div>\n",
       "<style scoped>\n",
       "    .dataframe tbody tr th:only-of-type {\n",
       "        vertical-align: middle;\n",
       "    }\n",
       "\n",
       "    .dataframe tbody tr th {\n",
       "        vertical-align: top;\n",
       "    }\n",
       "\n",
       "    .dataframe thead th {\n",
       "        text-align: right;\n",
       "    }\n",
       "</style>\n",
       "<table border=\"1\" class=\"dataframe\">\n",
       "  <thead>\n",
       "    <tr style=\"text-align: right;\">\n",
       "      <th></th>\n",
       "      <th>call_date</th>\n",
       "      <th>duration</th>\n",
       "      <th>user_id</th>\n",
       "      <th>month</th>\n",
       "    </tr>\n",
       "  </thead>\n",
       "  <tbody>\n",
       "    <tr>\n",
       "      <th>0</th>\n",
       "      <td>2018-07-25</td>\n",
       "      <td>0.0</td>\n",
       "      <td>1000</td>\n",
       "      <td>7</td>\n",
       "    </tr>\n",
       "    <tr>\n",
       "      <th>1</th>\n",
       "      <td>2018-08-17</td>\n",
       "      <td>0.0</td>\n",
       "      <td>1000</td>\n",
       "      <td>8</td>\n",
       "    </tr>\n",
       "    <tr>\n",
       "      <th>2</th>\n",
       "      <td>2018-06-11</td>\n",
       "      <td>3.0</td>\n",
       "      <td>1000</td>\n",
       "      <td>6</td>\n",
       "    </tr>\n",
       "    <tr>\n",
       "      <th>3</th>\n",
       "      <td>2018-09-21</td>\n",
       "      <td>14.0</td>\n",
       "      <td>1000</td>\n",
       "      <td>9</td>\n",
       "    </tr>\n",
       "    <tr>\n",
       "      <th>4</th>\n",
       "      <td>2018-12-15</td>\n",
       "      <td>6.0</td>\n",
       "      <td>1000</td>\n",
       "      <td>12</td>\n",
       "    </tr>\n",
       "  </tbody>\n",
       "</table>\n",
       "</div>"
      ],
      "text/plain": [
       "   call_date  duration  user_id  month\n",
       "0 2018-07-25       0.0     1000      7\n",
       "1 2018-08-17       0.0     1000      8\n",
       "2 2018-06-11       3.0     1000      6\n",
       "3 2018-09-21      14.0     1000      9\n",
       "4 2018-12-15       6.0     1000     12"
      ]
     },
     "metadata": {},
     "output_type": "display_data"
    },
    {
     "data": {
      "text/html": [
       "<div>\n",
       "<style scoped>\n",
       "    .dataframe tbody tr th:only-of-type {\n",
       "        vertical-align: middle;\n",
       "    }\n",
       "\n",
       "    .dataframe tbody tr th {\n",
       "        vertical-align: top;\n",
       "    }\n",
       "\n",
       "    .dataframe thead th {\n",
       "        text-align: right;\n",
       "    }\n",
       "</style>\n",
       "<table border=\"1\" class=\"dataframe\">\n",
       "  <thead>\n",
       "    <tr style=\"text-align: right;\">\n",
       "      <th></th>\n",
       "      <th></th>\n",
       "      <th>calls_num</th>\n",
       "      <th>calls_dur</th>\n",
       "    </tr>\n",
       "    <tr>\n",
       "      <th>month</th>\n",
       "      <th>user_id</th>\n",
       "      <th></th>\n",
       "      <th></th>\n",
       "    </tr>\n",
       "  </thead>\n",
       "  <tbody>\n",
       "    <tr>\n",
       "      <th rowspan=\"20\" valign=\"top\">1</th>\n",
       "      <th>1005</th>\n",
       "      <td>15</td>\n",
       "      <td>95.0</td>\n",
       "    </tr>\n",
       "    <tr>\n",
       "      <th>1032</th>\n",
       "      <td>61</td>\n",
       "      <td>380.0</td>\n",
       "    </tr>\n",
       "    <tr>\n",
       "      <th>1045</th>\n",
       "      <td>1</td>\n",
       "      <td>9.0</td>\n",
       "    </tr>\n",
       "    <tr>\n",
       "      <th>1055</th>\n",
       "      <td>64</td>\n",
       "      <td>551.0</td>\n",
       "    </tr>\n",
       "    <tr>\n",
       "      <th>1071</th>\n",
       "      <td>24</td>\n",
       "      <td>194.0</td>\n",
       "    </tr>\n",
       "    <tr>\n",
       "      <th>1113</th>\n",
       "      <td>18</td>\n",
       "      <td>110.0</td>\n",
       "    </tr>\n",
       "    <tr>\n",
       "      <th>1120</th>\n",
       "      <td>5</td>\n",
       "      <td>55.0</td>\n",
       "    </tr>\n",
       "    <tr>\n",
       "      <th>1126</th>\n",
       "      <td>35</td>\n",
       "      <td>272.0</td>\n",
       "    </tr>\n",
       "    <tr>\n",
       "      <th>1134</th>\n",
       "      <td>42</td>\n",
       "      <td>332.0</td>\n",
       "    </tr>\n",
       "    <tr>\n",
       "      <th>1135</th>\n",
       "      <td>9</td>\n",
       "      <td>90.0</td>\n",
       "    </tr>\n",
       "    <tr>\n",
       "      <th>1155</th>\n",
       "      <td>44</td>\n",
       "      <td>337.0</td>\n",
       "    </tr>\n",
       "    <tr>\n",
       "      <th>1168</th>\n",
       "      <td>38</td>\n",
       "      <td>277.0</td>\n",
       "    </tr>\n",
       "    <tr>\n",
       "      <th>1176</th>\n",
       "      <td>25</td>\n",
       "      <td>187.0</td>\n",
       "    </tr>\n",
       "    <tr>\n",
       "      <th>1189</th>\n",
       "      <td>7</td>\n",
       "      <td>51.0</td>\n",
       "    </tr>\n",
       "    <tr>\n",
       "      <th>1193</th>\n",
       "      <td>53</td>\n",
       "      <td>388.0</td>\n",
       "    </tr>\n",
       "    <tr>\n",
       "      <th>1204</th>\n",
       "      <td>50</td>\n",
       "      <td>305.0</td>\n",
       "    </tr>\n",
       "    <tr>\n",
       "      <th>1219</th>\n",
       "      <td>18</td>\n",
       "      <td>146.0</td>\n",
       "    </tr>\n",
       "    <tr>\n",
       "      <th>1227</th>\n",
       "      <td>67</td>\n",
       "      <td>471.0</td>\n",
       "    </tr>\n",
       "    <tr>\n",
       "      <th>1238</th>\n",
       "      <td>8</td>\n",
       "      <td>55.0</td>\n",
       "    </tr>\n",
       "    <tr>\n",
       "      <th>1254</th>\n",
       "      <td>59</td>\n",
       "      <td>466.0</td>\n",
       "    </tr>\n",
       "  </tbody>\n",
       "</table>\n",
       "</div>"
      ],
      "text/plain": [
       "               calls_num  calls_dur\n",
       "month user_id                      \n",
       "1     1005            15       95.0\n",
       "      1032            61      380.0\n",
       "      1045             1        9.0\n",
       "      1055            64      551.0\n",
       "      1071            24      194.0\n",
       "      1113            18      110.0\n",
       "      1120             5       55.0\n",
       "      1126            35      272.0\n",
       "      1134            42      332.0\n",
       "      1135             9       90.0\n",
       "      1155            44      337.0\n",
       "      1168            38      277.0\n",
       "      1176            25      187.0\n",
       "      1189             7       51.0\n",
       "      1193            53      388.0\n",
       "      1204            50      305.0\n",
       "      1219            18      146.0\n",
       "      1227            67      471.0\n",
       "      1238             8       55.0\n",
       "      1254            59      466.0"
      ]
     },
     "execution_count": 53,
     "metadata": {},
     "output_type": "execute_result"
    }
   ],
   "source": [
    "# создаём столбец с месяцем, когда был произведен звонок\n",
    "calls[\"month\"] = calls[\"call_date\"].dt.month\n",
    "display(calls.head())\n",
    "# сводная таблица по звонкам\n",
    "calls_pivot = calls.pivot_table(index=[\"month\",\"user_id\"], values=\"duration\", aggfunc=[\"count\", \"sum\"])\n",
    "calls_pivot.columns = [\"calls_num\",\"calls_dur\"]\n",
    "calls_pivot.head(20)"
   ]
  },
  {
   "cell_type": "markdown",
   "metadata": {},
   "source": [
    "<div style=\"border:solid Green 2px; padding: 40px\">\n",
    "<div class=\"alert alert-success\">\n",
    "<h2> Комментарий ревьюера <a class=\"tocSkip\"> </h2>\n",
    "\n",
    "<font color='green'><b>Все отлично! 👍:</b>  </font>\n",
    "\n",
    "Обычно в датафрейме содержатся данные нескольких лет - и тогда метод month может привести к ошибке: например, июнь 2019 и июнь 2020 могут стать одним месяцем. Стоит использовать метод astype('datetime64[M]'). У нас в данных только 2018 год, это практический совет на будущее."
   ]
  },
  {
   "cell_type": "markdown",
   "metadata": {},
   "source": [
    "### СМС"
   ]
  },
  {
   "cell_type": "code",
   "execution_count": 54,
   "metadata": {
    "scrolled": true
   },
   "outputs": [
    {
     "data": {
      "text/html": [
       "<div>\n",
       "<style scoped>\n",
       "    .dataframe tbody tr th:only-of-type {\n",
       "        vertical-align: middle;\n",
       "    }\n",
       "\n",
       "    .dataframe tbody tr th {\n",
       "        vertical-align: top;\n",
       "    }\n",
       "\n",
       "    .dataframe thead th {\n",
       "        text-align: right;\n",
       "    }\n",
       "</style>\n",
       "<table border=\"1\" class=\"dataframe\">\n",
       "  <thead>\n",
       "    <tr style=\"text-align: right;\">\n",
       "      <th></th>\n",
       "      <th>message_date</th>\n",
       "      <th>user_id</th>\n",
       "      <th>month</th>\n",
       "    </tr>\n",
       "  </thead>\n",
       "  <tbody>\n",
       "    <tr>\n",
       "      <th>0</th>\n",
       "      <td>2018-06-27</td>\n",
       "      <td>1000</td>\n",
       "      <td>6</td>\n",
       "    </tr>\n",
       "    <tr>\n",
       "      <th>1</th>\n",
       "      <td>2018-10-08</td>\n",
       "      <td>1000</td>\n",
       "      <td>10</td>\n",
       "    </tr>\n",
       "    <tr>\n",
       "      <th>2</th>\n",
       "      <td>2018-08-04</td>\n",
       "      <td>1000</td>\n",
       "      <td>8</td>\n",
       "    </tr>\n",
       "    <tr>\n",
       "      <th>3</th>\n",
       "      <td>2018-06-16</td>\n",
       "      <td>1000</td>\n",
       "      <td>6</td>\n",
       "    </tr>\n",
       "    <tr>\n",
       "      <th>4</th>\n",
       "      <td>2018-12-05</td>\n",
       "      <td>1000</td>\n",
       "      <td>12</td>\n",
       "    </tr>\n",
       "  </tbody>\n",
       "</table>\n",
       "</div>"
      ],
      "text/plain": [
       "  message_date  user_id  month\n",
       "0   2018-06-27     1000      6\n",
       "1   2018-10-08     1000     10\n",
       "2   2018-08-04     1000      8\n",
       "3   2018-06-16     1000      6\n",
       "4   2018-12-05     1000     12"
      ]
     },
     "metadata": {},
     "output_type": "display_data"
    },
    {
     "data": {
      "text/html": [
       "<div>\n",
       "<style scoped>\n",
       "    .dataframe tbody tr th:only-of-type {\n",
       "        vertical-align: middle;\n",
       "    }\n",
       "\n",
       "    .dataframe tbody tr th {\n",
       "        vertical-align: top;\n",
       "    }\n",
       "\n",
       "    .dataframe thead th {\n",
       "        text-align: right;\n",
       "    }\n",
       "</style>\n",
       "<table border=\"1\" class=\"dataframe\">\n",
       "  <thead>\n",
       "    <tr style=\"text-align: right;\">\n",
       "      <th></th>\n",
       "      <th></th>\n",
       "      <th>messages</th>\n",
       "    </tr>\n",
       "    <tr>\n",
       "      <th>month</th>\n",
       "      <th>user_id</th>\n",
       "      <th></th>\n",
       "    </tr>\n",
       "  </thead>\n",
       "  <tbody>\n",
       "    <tr>\n",
       "      <th rowspan=\"5\" valign=\"top\">1</th>\n",
       "      <th>1005</th>\n",
       "      <td>7</td>\n",
       "    </tr>\n",
       "    <tr>\n",
       "      <th>1032</th>\n",
       "      <td>38</td>\n",
       "    </tr>\n",
       "    <tr>\n",
       "      <th>1045</th>\n",
       "      <td>5</td>\n",
       "    </tr>\n",
       "    <tr>\n",
       "      <th>1055</th>\n",
       "      <td>30</td>\n",
       "    </tr>\n",
       "    <tr>\n",
       "      <th>1071</th>\n",
       "      <td>16</td>\n",
       "    </tr>\n",
       "    <tr>\n",
       "      <th>...</th>\n",
       "      <th>...</th>\n",
       "      <td>...</td>\n",
       "    </tr>\n",
       "    <tr>\n",
       "      <th rowspan=\"5\" valign=\"top\">12</th>\n",
       "      <th>1493</th>\n",
       "      <td>78</td>\n",
       "    </tr>\n",
       "    <tr>\n",
       "      <th>1495</th>\n",
       "      <td>84</td>\n",
       "    </tr>\n",
       "    <tr>\n",
       "      <th>1496</th>\n",
       "      <td>51</td>\n",
       "    </tr>\n",
       "    <tr>\n",
       "      <th>1497</th>\n",
       "      <td>17</td>\n",
       "    </tr>\n",
       "    <tr>\n",
       "      <th>1499</th>\n",
       "      <td>66</td>\n",
       "    </tr>\n",
       "  </tbody>\n",
       "</table>\n",
       "<p>2717 rows × 1 columns</p>\n",
       "</div>"
      ],
      "text/plain": [
       "               messages\n",
       "month user_id          \n",
       "1     1005            7\n",
       "      1032           38\n",
       "      1045            5\n",
       "      1055           30\n",
       "      1071           16\n",
       "...                 ...\n",
       "12    1493           78\n",
       "      1495           84\n",
       "      1496           51\n",
       "      1497           17\n",
       "      1499           66\n",
       "\n",
       "[2717 rows x 1 columns]"
      ]
     },
     "execution_count": 54,
     "metadata": {},
     "output_type": "execute_result"
    }
   ],
   "source": [
    "# добавляем столбец с месяцами\n",
    "messages[\"month\"] = messages[\"message_date\"].dt.month\n",
    "display(messages.head())\n",
    "# сводная таблица по сообщениям\n",
    "messages_pivot = messages.pivot_table(index=[\"month\",\"user_id\"], values=\"message_date\", aggfunc=\"count\" )\n",
    "messages_pivot.columns = [\"messages\"]\n",
    "messages_pivot"
   ]
  },
  {
   "cell_type": "markdown",
   "metadata": {},
   "source": [
    "### Интернет"
   ]
  },
  {
   "cell_type": "code",
   "execution_count": 55,
   "metadata": {
    "scrolled": true
   },
   "outputs": [
    {
     "data": {
      "text/html": [
       "<div>\n",
       "<style scoped>\n",
       "    .dataframe tbody tr th:only-of-type {\n",
       "        vertical-align: middle;\n",
       "    }\n",
       "\n",
       "    .dataframe tbody tr th {\n",
       "        vertical-align: top;\n",
       "    }\n",
       "\n",
       "    .dataframe thead th {\n",
       "        text-align: right;\n",
       "    }\n",
       "</style>\n",
       "<table border=\"1\" class=\"dataframe\">\n",
       "  <thead>\n",
       "    <tr style=\"text-align: right;\">\n",
       "      <th></th>\n",
       "      <th>gb_used</th>\n",
       "      <th>session_date</th>\n",
       "      <th>user_id</th>\n",
       "      <th>month</th>\n",
       "    </tr>\n",
       "  </thead>\n",
       "  <tbody>\n",
       "    <tr>\n",
       "      <th>0</th>\n",
       "      <td>0.110303</td>\n",
       "      <td>2018-11-25</td>\n",
       "      <td>1000</td>\n",
       "      <td>11</td>\n",
       "    </tr>\n",
       "    <tr>\n",
       "      <th>1</th>\n",
       "      <td>1.028135</td>\n",
       "      <td>2018-09-07</td>\n",
       "      <td>1000</td>\n",
       "      <td>9</td>\n",
       "    </tr>\n",
       "    <tr>\n",
       "      <th>2</th>\n",
       "      <td>1.169199</td>\n",
       "      <td>2018-06-25</td>\n",
       "      <td>1000</td>\n",
       "      <td>6</td>\n",
       "    </tr>\n",
       "    <tr>\n",
       "      <th>3</th>\n",
       "      <td>0.537373</td>\n",
       "      <td>2018-08-22</td>\n",
       "      <td>1000</td>\n",
       "      <td>8</td>\n",
       "    </tr>\n",
       "    <tr>\n",
       "      <th>4</th>\n",
       "      <td>0.295469</td>\n",
       "      <td>2018-09-24</td>\n",
       "      <td>1000</td>\n",
       "      <td>9</td>\n",
       "    </tr>\n",
       "  </tbody>\n",
       "</table>\n",
       "</div>"
      ],
      "text/plain": [
       "    gb_used session_date  user_id  month\n",
       "0  0.110303   2018-11-25     1000     11\n",
       "1  1.028135   2018-09-07     1000      9\n",
       "2  1.169199   2018-06-25     1000      6\n",
       "3  0.537373   2018-08-22     1000      8\n",
       "4  0.295469   2018-09-24     1000      9"
      ]
     },
     "metadata": {},
     "output_type": "display_data"
    },
    {
     "data": {
      "text/html": [
       "<div>\n",
       "<style scoped>\n",
       "    .dataframe tbody tr th:only-of-type {\n",
       "        vertical-align: middle;\n",
       "    }\n",
       "\n",
       "    .dataframe tbody tr th {\n",
       "        vertical-align: top;\n",
       "    }\n",
       "\n",
       "    .dataframe thead th {\n",
       "        text-align: right;\n",
       "    }\n",
       "</style>\n",
       "<table border=\"1\" class=\"dataframe\">\n",
       "  <thead>\n",
       "    <tr style=\"text-align: right;\">\n",
       "      <th></th>\n",
       "      <th></th>\n",
       "      <th>gb_used</th>\n",
       "    </tr>\n",
       "    <tr>\n",
       "      <th>month</th>\n",
       "      <th>user_id</th>\n",
       "      <th></th>\n",
       "    </tr>\n",
       "  </thead>\n",
       "  <tbody>\n",
       "    <tr>\n",
       "      <th rowspan=\"5\" valign=\"top\">1</th>\n",
       "      <th>1005</th>\n",
       "      <td>2.664033</td>\n",
       "    </tr>\n",
       "    <tr>\n",
       "      <th>1032</th>\n",
       "      <td>23.562197</td>\n",
       "    </tr>\n",
       "    <tr>\n",
       "      <th>1045</th>\n",
       "      <td>2.291709</td>\n",
       "    </tr>\n",
       "    <tr>\n",
       "      <th>1055</th>\n",
       "      <td>16.690313</td>\n",
       "    </tr>\n",
       "    <tr>\n",
       "      <th>1071</th>\n",
       "      <td>15.238613</td>\n",
       "    </tr>\n",
       "    <tr>\n",
       "      <th>...</th>\n",
       "      <th>...</th>\n",
       "      <td>...</td>\n",
       "    </tr>\n",
       "    <tr>\n",
       "      <th rowspan=\"5\" valign=\"top\">12</th>\n",
       "      <th>1494</th>\n",
       "      <td>17.208213</td>\n",
       "    </tr>\n",
       "    <tr>\n",
       "      <th>1495</th>\n",
       "      <td>22.877695</td>\n",
       "    </tr>\n",
       "    <tr>\n",
       "      <th>1496</th>\n",
       "      <td>20.250146</td>\n",
       "    </tr>\n",
       "    <tr>\n",
       "      <th>1497</th>\n",
       "      <td>19.451758</td>\n",
       "    </tr>\n",
       "    <tr>\n",
       "      <th>1499</th>\n",
       "      <td>12.749590</td>\n",
       "    </tr>\n",
       "  </tbody>\n",
       "</table>\n",
       "<p>3203 rows × 1 columns</p>\n",
       "</div>"
      ],
      "text/plain": [
       "                 gb_used\n",
       "month user_id           \n",
       "1     1005      2.664033\n",
       "      1032     23.562197\n",
       "      1045      2.291709\n",
       "      1055     16.690313\n",
       "      1071     15.238613\n",
       "...                  ...\n",
       "12    1494     17.208213\n",
       "      1495     22.877695\n",
       "      1496     20.250146\n",
       "      1497     19.451758\n",
       "      1499     12.749590\n",
       "\n",
       "[3203 rows x 1 columns]"
      ]
     },
     "execution_count": 55,
     "metadata": {},
     "output_type": "execute_result"
    }
   ],
   "source": [
    "# добавляем столбец с месяцем\n",
    "internet[\"month\"] = internet[\"session_date\"].dt.month\n",
    "display(internet.head())\n",
    "# сводная таблица по трафику\n",
    "internet_pivot = internet.pivot_table(index=[\"month\",\"user_id\"], values=\"gb_used\", aggfunc=\"sum\")\n",
    "internet_pivot"
   ]
  },
  {
   "cell_type": "markdown",
   "metadata": {},
   "source": [
    "округлим гиги согласно тарификации"
   ]
  },
  {
   "cell_type": "code",
   "execution_count": 56,
   "metadata": {
    "scrolled": true
   },
   "outputs": [
    {
     "data": {
      "text/html": [
       "<div>\n",
       "<style scoped>\n",
       "    .dataframe tbody tr th:only-of-type {\n",
       "        vertical-align: middle;\n",
       "    }\n",
       "\n",
       "    .dataframe tbody tr th {\n",
       "        vertical-align: top;\n",
       "    }\n",
       "\n",
       "    .dataframe thead th {\n",
       "        text-align: right;\n",
       "    }\n",
       "</style>\n",
       "<table border=\"1\" class=\"dataframe\">\n",
       "  <thead>\n",
       "    <tr style=\"text-align: right;\">\n",
       "      <th></th>\n",
       "      <th></th>\n",
       "      <th>gb_used</th>\n",
       "    </tr>\n",
       "    <tr>\n",
       "      <th>month</th>\n",
       "      <th>user_id</th>\n",
       "      <th></th>\n",
       "    </tr>\n",
       "  </thead>\n",
       "  <tbody>\n",
       "    <tr>\n",
       "      <th rowspan=\"5\" valign=\"top\">1</th>\n",
       "      <th>1005</th>\n",
       "      <td>3.0</td>\n",
       "    </tr>\n",
       "    <tr>\n",
       "      <th>1032</th>\n",
       "      <td>24.0</td>\n",
       "    </tr>\n",
       "    <tr>\n",
       "      <th>1045</th>\n",
       "      <td>3.0</td>\n",
       "    </tr>\n",
       "    <tr>\n",
       "      <th>1055</th>\n",
       "      <td>17.0</td>\n",
       "    </tr>\n",
       "    <tr>\n",
       "      <th>1071</th>\n",
       "      <td>16.0</td>\n",
       "    </tr>\n",
       "    <tr>\n",
       "      <th>...</th>\n",
       "      <th>...</th>\n",
       "      <td>...</td>\n",
       "    </tr>\n",
       "    <tr>\n",
       "      <th rowspan=\"5\" valign=\"top\">12</th>\n",
       "      <th>1494</th>\n",
       "      <td>18.0</td>\n",
       "    </tr>\n",
       "    <tr>\n",
       "      <th>1495</th>\n",
       "      <td>23.0</td>\n",
       "    </tr>\n",
       "    <tr>\n",
       "      <th>1496</th>\n",
       "      <td>21.0</td>\n",
       "    </tr>\n",
       "    <tr>\n",
       "      <th>1497</th>\n",
       "      <td>20.0</td>\n",
       "    </tr>\n",
       "    <tr>\n",
       "      <th>1499</th>\n",
       "      <td>13.0</td>\n",
       "    </tr>\n",
       "  </tbody>\n",
       "</table>\n",
       "<p>3203 rows × 1 columns</p>\n",
       "</div>"
      ],
      "text/plain": [
       "               gb_used\n",
       "month user_id         \n",
       "1     1005         3.0\n",
       "      1032        24.0\n",
       "      1045         3.0\n",
       "      1055        17.0\n",
       "      1071        16.0\n",
       "...                ...\n",
       "12    1494        18.0\n",
       "      1495        23.0\n",
       "      1496        21.0\n",
       "      1497        20.0\n",
       "      1499        13.0\n",
       "\n",
       "[3203 rows x 1 columns]"
      ]
     },
     "execution_count": 56,
     "metadata": {},
     "output_type": "execute_result"
    }
   ],
   "source": [
    "# internet_pivot.loc[internet_pivot[\"gb_used\"] > 0, \"gb_used\"] = internet_pivot[\"gb_used\"] + 1\n",
    "# internet_pivot[\"gb_used\"] = internet_pivot[\"gb_used\"].astype(\"int\")\n",
    "# internet_pivot\n",
    "internet_pivot[\"gb_used\"] = np.ceil(internet_pivot[\"gb_used\"])\n",
    "internet_pivot"
   ]
  },
  {
   "cell_type": "markdown",
   "metadata": {},
   "source": [
    "<div style=\"border:solid Red 2px; padding: 40px\">\n",
    "    <div class=\"alert alert-block alert-danger\">\n",
    "<h2> Комментарий ревьюера <a class=\"tocSkip\"></h2>\n",
    "\n",
    "<font color='red'><b>На доработку ❌:</b>  </font>\n",
    "    \n",
    "Здесь также лучше использовать библиотеку numpy - метод np.ceil.\n",
    "    \n",
    "</div>"
   ]
  },
  {
   "cell_type": "markdown",
   "metadata": {},
   "source": [
    "<div class = \"alert alert-info\" style=\"border-left: 7px solid blue\">\n",
    "<b>ок</b>\n",
    "    \n",
    "</div>"
   ]
  },
  {
   "cell_type": "markdown",
   "metadata": {},
   "source": [
    "<div style=\"border:solid Green 2px; padding: 40px\">\n",
    "<div class=\"alert alert-success\">\n",
    "<h2> Комментарий ревьюера_V2 <a class=\"tocSkip\"> </h2>\n",
    "\n",
    "<font color='green'><b>Все отлично! 👍:</b>  </font>\n",
    "\n",
    "👍   \n",
    "</div>"
   ]
  },
  {
   "cell_type": "markdown",
   "metadata": {},
   "source": [
    "### Финальная таблица"
   ]
  },
  {
   "cell_type": "markdown",
   "metadata": {},
   "source": [
    "Соединим все данные вместе для подсчета прибыли"
   ]
  },
  {
   "cell_type": "code",
   "execution_count": 57,
   "metadata": {
    "scrolled": true
   },
   "outputs": [
    {
     "data": {
      "text/plain": [
       "498"
      ]
     },
     "metadata": {},
     "output_type": "display_data"
    },
    {
     "data": {
      "text/html": [
       "<div>\n",
       "<style scoped>\n",
       "    .dataframe tbody tr th:only-of-type {\n",
       "        vertical-align: middle;\n",
       "    }\n",
       "\n",
       "    .dataframe tbody tr th {\n",
       "        vertical-align: top;\n",
       "    }\n",
       "\n",
       "    .dataframe thead th {\n",
       "        text-align: right;\n",
       "    }\n",
       "</style>\n",
       "<table border=\"1\" class=\"dataframe\">\n",
       "  <thead>\n",
       "    <tr style=\"text-align: right;\">\n",
       "      <th></th>\n",
       "      <th>month</th>\n",
       "      <th>user_id</th>\n",
       "      <th>calls_num</th>\n",
       "      <th>calls_dur</th>\n",
       "      <th>messages</th>\n",
       "      <th>gb_used</th>\n",
       "      <th>tariff</th>\n",
       "      <th>city</th>\n",
       "    </tr>\n",
       "  </thead>\n",
       "  <tbody>\n",
       "    <tr>\n",
       "      <th>0</th>\n",
       "      <td>1</td>\n",
       "      <td>1005</td>\n",
       "      <td>15.0</td>\n",
       "      <td>95.0</td>\n",
       "      <td>7.0</td>\n",
       "      <td>3.0</td>\n",
       "      <td>smart</td>\n",
       "      <td>Набережные Челны</td>\n",
       "    </tr>\n",
       "    <tr>\n",
       "      <th>1</th>\n",
       "      <td>1</td>\n",
       "      <td>1032</td>\n",
       "      <td>61.0</td>\n",
       "      <td>380.0</td>\n",
       "      <td>38.0</td>\n",
       "      <td>24.0</td>\n",
       "      <td>smart</td>\n",
       "      <td>Ульяновск</td>\n",
       "    </tr>\n",
       "    <tr>\n",
       "      <th>2</th>\n",
       "      <td>1</td>\n",
       "      <td>1045</td>\n",
       "      <td>1.0</td>\n",
       "      <td>9.0</td>\n",
       "      <td>5.0</td>\n",
       "      <td>3.0</td>\n",
       "      <td>smart</td>\n",
       "      <td>Улан-Удэ</td>\n",
       "    </tr>\n",
       "    <tr>\n",
       "      <th>3</th>\n",
       "      <td>1</td>\n",
       "      <td>1055</td>\n",
       "      <td>64.0</td>\n",
       "      <td>551.0</td>\n",
       "      <td>30.0</td>\n",
       "      <td>17.0</td>\n",
       "      <td>smart</td>\n",
       "      <td>Казань</td>\n",
       "    </tr>\n",
       "    <tr>\n",
       "      <th>4</th>\n",
       "      <td>1</td>\n",
       "      <td>1071</td>\n",
       "      <td>24.0</td>\n",
       "      <td>194.0</td>\n",
       "      <td>16.0</td>\n",
       "      <td>16.0</td>\n",
       "      <td>smart</td>\n",
       "      <td>Омск</td>\n",
       "    </tr>\n",
       "    <tr>\n",
       "      <th>5</th>\n",
       "      <td>1</td>\n",
       "      <td>1113</td>\n",
       "      <td>18.0</td>\n",
       "      <td>110.0</td>\n",
       "      <td>14.0</td>\n",
       "      <td>1.0</td>\n",
       "      <td>smart</td>\n",
       "      <td>Чита</td>\n",
       "    </tr>\n",
       "    <tr>\n",
       "      <th>6</th>\n",
       "      <td>1</td>\n",
       "      <td>1120</td>\n",
       "      <td>5.0</td>\n",
       "      <td>55.0</td>\n",
       "      <td>NaN</td>\n",
       "      <td>1.0</td>\n",
       "      <td>ultra</td>\n",
       "      <td>Краснодар</td>\n",
       "    </tr>\n",
       "    <tr>\n",
       "      <th>7</th>\n",
       "      <td>1</td>\n",
       "      <td>1126</td>\n",
       "      <td>35.0</td>\n",
       "      <td>272.0</td>\n",
       "      <td>4.0</td>\n",
       "      <td>16.0</td>\n",
       "      <td>ultra</td>\n",
       "      <td>Санкт-Петербург</td>\n",
       "    </tr>\n",
       "    <tr>\n",
       "      <th>8</th>\n",
       "      <td>1</td>\n",
       "      <td>1134</td>\n",
       "      <td>42.0</td>\n",
       "      <td>332.0</td>\n",
       "      <td>32.0</td>\n",
       "      <td>10.0</td>\n",
       "      <td>smart</td>\n",
       "      <td>Красноярск</td>\n",
       "    </tr>\n",
       "    <tr>\n",
       "      <th>9</th>\n",
       "      <td>1</td>\n",
       "      <td>1135</td>\n",
       "      <td>9.0</td>\n",
       "      <td>90.0</td>\n",
       "      <td>1.0</td>\n",
       "      <td>2.0</td>\n",
       "      <td>smart</td>\n",
       "      <td>Архангельск</td>\n",
       "    </tr>\n",
       "  </tbody>\n",
       "</table>\n",
       "</div>"
      ],
      "text/plain": [
       "   month  user_id  calls_num  calls_dur  messages  gb_used tariff  \\\n",
       "0      1     1005       15.0       95.0       7.0      3.0  smart   \n",
       "1      1     1032       61.0      380.0      38.0     24.0  smart   \n",
       "2      1     1045        1.0        9.0       5.0      3.0  smart   \n",
       "3      1     1055       64.0      551.0      30.0     17.0  smart   \n",
       "4      1     1071       24.0      194.0      16.0     16.0  smart   \n",
       "5      1     1113       18.0      110.0      14.0      1.0  smart   \n",
       "6      1     1120        5.0       55.0       NaN      1.0  ultra   \n",
       "7      1     1126       35.0      272.0       4.0     16.0  ultra   \n",
       "8      1     1134       42.0      332.0      32.0     10.0  smart   \n",
       "9      1     1135        9.0       90.0       1.0      2.0  smart   \n",
       "\n",
       "               city  \n",
       "0  Набережные Челны  \n",
       "1         Ульяновск  \n",
       "2          Улан-Удэ  \n",
       "3            Казань  \n",
       "4              Омск  \n",
       "5              Чита  \n",
       "6         Краснодар  \n",
       "7   Санкт-Петербург  \n",
       "8        Красноярск  \n",
       "9       Архангельск  "
      ]
     },
     "execution_count": 57,
     "metadata": {},
     "output_type": "execute_result"
    }
   ],
   "source": [
    "df = calls_pivot.join(messages_pivot, how=\"outer\")\n",
    "df = df.join(internet_pivot, how=\"outer\")\n",
    "# заменяем индексы таблицы с пользователями на уникальный идентификатор пользователя\n",
    "users.index = users[\"user_id\"]\n",
    "# дабавляем к объединенным данным по использованию ресурсов тариф и город\n",
    "df = df.join(users[[\"tariff\", \"city\"]]).reset_index()\n",
    "# проверяем количество абонентов\n",
    "display(len(df[\"user_id\"].unique()))\n",
    "df.head(10)"
   ]
  },
  {
   "cell_type": "markdown",
   "metadata": {},
   "source": [
    "[Потеряли двоих](#lost)  \n",
    "Это те, кто не пользовался симкартой. Статистически они не важны"
   ]
  },
  {
   "cell_type": "markdown",
   "metadata": {},
   "source": [
    "Добавим в общую таблицу данные по тарифам"
   ]
  },
  {
   "cell_type": "code",
   "execution_count": 58,
   "metadata": {
    "scrolled": true
   },
   "outputs": [
    {
     "data": {
      "text/html": [
       "<div>\n",
       "<style scoped>\n",
       "    .dataframe tbody tr th:only-of-type {\n",
       "        vertical-align: middle;\n",
       "    }\n",
       "\n",
       "    .dataframe tbody tr th {\n",
       "        vertical-align: top;\n",
       "    }\n",
       "\n",
       "    .dataframe thead th {\n",
       "        text-align: right;\n",
       "    }\n",
       "</style>\n",
       "<table border=\"1\" class=\"dataframe\">\n",
       "  <thead>\n",
       "    <tr style=\"text-align: right;\">\n",
       "      <th></th>\n",
       "      <th>month</th>\n",
       "      <th>user_id</th>\n",
       "      <th>calls_num</th>\n",
       "      <th>calls_dur</th>\n",
       "      <th>messages</th>\n",
       "      <th>gb_used</th>\n",
       "      <th>tariff</th>\n",
       "      <th>city</th>\n",
       "      <th>messages_included</th>\n",
       "      <th>gb_included</th>\n",
       "      <th>minutes_included</th>\n",
       "      <th>rub_monthly_fee</th>\n",
       "      <th>rub_per_gb</th>\n",
       "      <th>rub_per_message</th>\n",
       "      <th>rub_per_minute</th>\n",
       "    </tr>\n",
       "  </thead>\n",
       "  <tbody>\n",
       "    <tr>\n",
       "      <th>0</th>\n",
       "      <td>1</td>\n",
       "      <td>1005</td>\n",
       "      <td>15.0</td>\n",
       "      <td>95.0</td>\n",
       "      <td>7.0</td>\n",
       "      <td>3.0</td>\n",
       "      <td>smart</td>\n",
       "      <td>Набережные Челны</td>\n",
       "      <td>50</td>\n",
       "      <td>15.0</td>\n",
       "      <td>500</td>\n",
       "      <td>550</td>\n",
       "      <td>200</td>\n",
       "      <td>3</td>\n",
       "      <td>3</td>\n",
       "    </tr>\n",
       "    <tr>\n",
       "      <th>1</th>\n",
       "      <td>1</td>\n",
       "      <td>1032</td>\n",
       "      <td>61.0</td>\n",
       "      <td>380.0</td>\n",
       "      <td>38.0</td>\n",
       "      <td>24.0</td>\n",
       "      <td>smart</td>\n",
       "      <td>Ульяновск</td>\n",
       "      <td>50</td>\n",
       "      <td>15.0</td>\n",
       "      <td>500</td>\n",
       "      <td>550</td>\n",
       "      <td>200</td>\n",
       "      <td>3</td>\n",
       "      <td>3</td>\n",
       "    </tr>\n",
       "    <tr>\n",
       "      <th>2</th>\n",
       "      <td>1</td>\n",
       "      <td>1045</td>\n",
       "      <td>1.0</td>\n",
       "      <td>9.0</td>\n",
       "      <td>5.0</td>\n",
       "      <td>3.0</td>\n",
       "      <td>smart</td>\n",
       "      <td>Улан-Удэ</td>\n",
       "      <td>50</td>\n",
       "      <td>15.0</td>\n",
       "      <td>500</td>\n",
       "      <td>550</td>\n",
       "      <td>200</td>\n",
       "      <td>3</td>\n",
       "      <td>3</td>\n",
       "    </tr>\n",
       "    <tr>\n",
       "      <th>3</th>\n",
       "      <td>1</td>\n",
       "      <td>1055</td>\n",
       "      <td>64.0</td>\n",
       "      <td>551.0</td>\n",
       "      <td>30.0</td>\n",
       "      <td>17.0</td>\n",
       "      <td>smart</td>\n",
       "      <td>Казань</td>\n",
       "      <td>50</td>\n",
       "      <td>15.0</td>\n",
       "      <td>500</td>\n",
       "      <td>550</td>\n",
       "      <td>200</td>\n",
       "      <td>3</td>\n",
       "      <td>3</td>\n",
       "    </tr>\n",
       "    <tr>\n",
       "      <th>4</th>\n",
       "      <td>1</td>\n",
       "      <td>1071</td>\n",
       "      <td>24.0</td>\n",
       "      <td>194.0</td>\n",
       "      <td>16.0</td>\n",
       "      <td>16.0</td>\n",
       "      <td>smart</td>\n",
       "      <td>Омск</td>\n",
       "      <td>50</td>\n",
       "      <td>15.0</td>\n",
       "      <td>500</td>\n",
       "      <td>550</td>\n",
       "      <td>200</td>\n",
       "      <td>3</td>\n",
       "      <td>3</td>\n",
       "    </tr>\n",
       "    <tr>\n",
       "      <th>5</th>\n",
       "      <td>1</td>\n",
       "      <td>1113</td>\n",
       "      <td>18.0</td>\n",
       "      <td>110.0</td>\n",
       "      <td>14.0</td>\n",
       "      <td>1.0</td>\n",
       "      <td>smart</td>\n",
       "      <td>Чита</td>\n",
       "      <td>50</td>\n",
       "      <td>15.0</td>\n",
       "      <td>500</td>\n",
       "      <td>550</td>\n",
       "      <td>200</td>\n",
       "      <td>3</td>\n",
       "      <td>3</td>\n",
       "    </tr>\n",
       "    <tr>\n",
       "      <th>6</th>\n",
       "      <td>1</td>\n",
       "      <td>1120</td>\n",
       "      <td>5.0</td>\n",
       "      <td>55.0</td>\n",
       "      <td>NaN</td>\n",
       "      <td>1.0</td>\n",
       "      <td>ultra</td>\n",
       "      <td>Краснодар</td>\n",
       "      <td>1000</td>\n",
       "      <td>30.0</td>\n",
       "      <td>3000</td>\n",
       "      <td>1950</td>\n",
       "      <td>150</td>\n",
       "      <td>1</td>\n",
       "      <td>1</td>\n",
       "    </tr>\n",
       "    <tr>\n",
       "      <th>7</th>\n",
       "      <td>1</td>\n",
       "      <td>1126</td>\n",
       "      <td>35.0</td>\n",
       "      <td>272.0</td>\n",
       "      <td>4.0</td>\n",
       "      <td>16.0</td>\n",
       "      <td>ultra</td>\n",
       "      <td>Санкт-Петербург</td>\n",
       "      <td>1000</td>\n",
       "      <td>30.0</td>\n",
       "      <td>3000</td>\n",
       "      <td>1950</td>\n",
       "      <td>150</td>\n",
       "      <td>1</td>\n",
       "      <td>1</td>\n",
       "    </tr>\n",
       "    <tr>\n",
       "      <th>8</th>\n",
       "      <td>1</td>\n",
       "      <td>1134</td>\n",
       "      <td>42.0</td>\n",
       "      <td>332.0</td>\n",
       "      <td>32.0</td>\n",
       "      <td>10.0</td>\n",
       "      <td>smart</td>\n",
       "      <td>Красноярск</td>\n",
       "      <td>50</td>\n",
       "      <td>15.0</td>\n",
       "      <td>500</td>\n",
       "      <td>550</td>\n",
       "      <td>200</td>\n",
       "      <td>3</td>\n",
       "      <td>3</td>\n",
       "    </tr>\n",
       "    <tr>\n",
       "      <th>9</th>\n",
       "      <td>1</td>\n",
       "      <td>1135</td>\n",
       "      <td>9.0</td>\n",
       "      <td>90.0</td>\n",
       "      <td>1.0</td>\n",
       "      <td>2.0</td>\n",
       "      <td>smart</td>\n",
       "      <td>Архангельск</td>\n",
       "      <td>50</td>\n",
       "      <td>15.0</td>\n",
       "      <td>500</td>\n",
       "      <td>550</td>\n",
       "      <td>200</td>\n",
       "      <td>3</td>\n",
       "      <td>3</td>\n",
       "    </tr>\n",
       "  </tbody>\n",
       "</table>\n",
       "</div>"
      ],
      "text/plain": [
       "   month  user_id  calls_num  calls_dur  messages  gb_used tariff  \\\n",
       "0      1     1005       15.0       95.0       7.0      3.0  smart   \n",
       "1      1     1032       61.0      380.0      38.0     24.0  smart   \n",
       "2      1     1045        1.0        9.0       5.0      3.0  smart   \n",
       "3      1     1055       64.0      551.0      30.0     17.0  smart   \n",
       "4      1     1071       24.0      194.0      16.0     16.0  smart   \n",
       "5      1     1113       18.0      110.0      14.0      1.0  smart   \n",
       "6      1     1120        5.0       55.0       NaN      1.0  ultra   \n",
       "7      1     1126       35.0      272.0       4.0     16.0  ultra   \n",
       "8      1     1134       42.0      332.0      32.0     10.0  smart   \n",
       "9      1     1135        9.0       90.0       1.0      2.0  smart   \n",
       "\n",
       "               city  messages_included  gb_included  minutes_included  \\\n",
       "0  Набережные Челны                 50         15.0               500   \n",
       "1         Ульяновск                 50         15.0               500   \n",
       "2          Улан-Удэ                 50         15.0               500   \n",
       "3            Казань                 50         15.0               500   \n",
       "4              Омск                 50         15.0               500   \n",
       "5              Чита                 50         15.0               500   \n",
       "6         Краснодар               1000         30.0              3000   \n",
       "7   Санкт-Петербург               1000         30.0              3000   \n",
       "8        Красноярск                 50         15.0               500   \n",
       "9       Архангельск                 50         15.0               500   \n",
       "\n",
       "   rub_monthly_fee  rub_per_gb  rub_per_message  rub_per_minute  \n",
       "0              550         200                3               3  \n",
       "1              550         200                3               3  \n",
       "2              550         200                3               3  \n",
       "3              550         200                3               3  \n",
       "4              550         200                3               3  \n",
       "5              550         200                3               3  \n",
       "6             1950         150                1               1  \n",
       "7             1950         150                1               1  \n",
       "8              550         200                3               3  \n",
       "9              550         200                3               3  "
      ]
     },
     "execution_count": 58,
     "metadata": {},
     "output_type": "execute_result"
    }
   ],
   "source": [
    "# переименовываем столбец\n",
    "tariffs = tariffs.rename(columns ={\"tariff_name\":\"tariff\"})\n",
    "# добавляем\n",
    "df = df.merge(tariffs, on=\"tariff\", how=\"left\")\n",
    "df.head(10)"
   ]
  },
  {
   "cell_type": "markdown",
   "metadata": {},
   "source": [
    "<div style=\"border:solid Green 2px; padding: 40px\">\n",
    "<div class=\"alert alert-success\">\n",
    "<h2> Комментарий ревьюера <a class=\"tocSkip\"> </h2>\n",
    "\n",
    "<font color='green'><b>Все отлично! 👍:</b>  </font>\n",
    "\n",
    "Объединение верное. Можно было не дублировать информацию и не добавлять в рабочую таблицу описание тарифов, ведь все это есть в таблице с тарифами. Не все данные этих таблиц нужны нам в рабочей таблице. Но и такой вариант как у тебя - вполне рабочий.\n",
    "    \n",
    "</div>"
   ]
  },
  {
   "cell_type": "markdown",
   "metadata": {},
   "source": [
    "<div class = \"alert alert-info\" style=\"border-left: 7px solid blue\">\n",
    "<b>хотел, чтобы вся информация была перед глазами, для удобства подсчетов</b>\n",
    "    \n",
    "</div>"
   ]
  },
  {
   "cell_type": "markdown",
   "metadata": {},
   "source": [
    "<div style=\"border:solid Green 2px; padding: 40px\">\n",
    "<div class=\"alert alert-success\">\n",
    "<h2> Комментарий ревьюера_V2 <a class=\"tocSkip\"> </h2>\n",
    "\n",
    "<font color='green'><b>Все отлично! 👍:</b>  </font>\n",
    "\n",
    "Поняла.   \n",
    "</div>"
   ]
  },
  {
   "cell_type": "markdown",
   "metadata": {},
   "source": [
    "### Подсчеты прибыли"
   ]
  },
  {
   "cell_type": "markdown",
   "metadata": {},
   "source": [
    "добавим столбцы с прибылью по категориям расходов и общей прибылью"
   ]
  },
  {
   "cell_type": "code",
   "execution_count": 59,
   "metadata": {
    "scrolled": false
   },
   "outputs": [
    {
     "data": {
      "text/html": [
       "<div>\n",
       "<style scoped>\n",
       "    .dataframe tbody tr th:only-of-type {\n",
       "        vertical-align: middle;\n",
       "    }\n",
       "\n",
       "    .dataframe tbody tr th {\n",
       "        vertical-align: top;\n",
       "    }\n",
       "\n",
       "    .dataframe thead th {\n",
       "        text-align: right;\n",
       "    }\n",
       "</style>\n",
       "<table border=\"1\" class=\"dataframe\">\n",
       "  <thead>\n",
       "    <tr style=\"text-align: right;\">\n",
       "      <th></th>\n",
       "      <th>month</th>\n",
       "      <th>user_id</th>\n",
       "      <th>tariff</th>\n",
       "      <th>total_income</th>\n",
       "    </tr>\n",
       "  </thead>\n",
       "  <tbody>\n",
       "    <tr>\n",
       "      <th>0</th>\n",
       "      <td>1</td>\n",
       "      <td>1005</td>\n",
       "      <td>smart</td>\n",
       "      <td>550.0</td>\n",
       "    </tr>\n",
       "    <tr>\n",
       "      <th>1</th>\n",
       "      <td>1</td>\n",
       "      <td>1032</td>\n",
       "      <td>smart</td>\n",
       "      <td>2350.0</td>\n",
       "    </tr>\n",
       "    <tr>\n",
       "      <th>2</th>\n",
       "      <td>1</td>\n",
       "      <td>1045</td>\n",
       "      <td>smart</td>\n",
       "      <td>550.0</td>\n",
       "    </tr>\n",
       "    <tr>\n",
       "      <th>3</th>\n",
       "      <td>1</td>\n",
       "      <td>1055</td>\n",
       "      <td>smart</td>\n",
       "      <td>1103.0</td>\n",
       "    </tr>\n",
       "    <tr>\n",
       "      <th>4</th>\n",
       "      <td>1</td>\n",
       "      <td>1071</td>\n",
       "      <td>smart</td>\n",
       "      <td>750.0</td>\n",
       "    </tr>\n",
       "    <tr>\n",
       "      <th>...</th>\n",
       "      <td>...</td>\n",
       "      <td>...</td>\n",
       "      <td>...</td>\n",
       "      <td>...</td>\n",
       "    </tr>\n",
       "    <tr>\n",
       "      <th>3209</th>\n",
       "      <td>12</td>\n",
       "      <td>1494</td>\n",
       "      <td>smart</td>\n",
       "      <td>1150.0</td>\n",
       "    </tr>\n",
       "    <tr>\n",
       "      <th>3210</th>\n",
       "      <td>12</td>\n",
       "      <td>1495</td>\n",
       "      <td>ultra</td>\n",
       "      <td>1950.0</td>\n",
       "    </tr>\n",
       "    <tr>\n",
       "      <th>3211</th>\n",
       "      <td>12</td>\n",
       "      <td>1496</td>\n",
       "      <td>smart</td>\n",
       "      <td>1807.0</td>\n",
       "    </tr>\n",
       "    <tr>\n",
       "      <th>3212</th>\n",
       "      <td>12</td>\n",
       "      <td>1497</td>\n",
       "      <td>smart</td>\n",
       "      <td>1685.0</td>\n",
       "    </tr>\n",
       "    <tr>\n",
       "      <th>3213</th>\n",
       "      <td>12</td>\n",
       "      <td>1499</td>\n",
       "      <td>smart</td>\n",
       "      <td>598.0</td>\n",
       "    </tr>\n",
       "  </tbody>\n",
       "</table>\n",
       "<p>3214 rows × 4 columns</p>\n",
       "</div>"
      ],
      "text/plain": [
       "      month  user_id tariff  total_income\n",
       "0         1     1005  smart         550.0\n",
       "1         1     1032  smart        2350.0\n",
       "2         1     1045  smart         550.0\n",
       "3         1     1055  smart        1103.0\n",
       "4         1     1071  smart         750.0\n",
       "...     ...      ...    ...           ...\n",
       "3209     12     1494  smart        1150.0\n",
       "3210     12     1495  ultra        1950.0\n",
       "3211     12     1496  smart        1807.0\n",
       "3212     12     1497  smart        1685.0\n",
       "3213     12     1499  smart         598.0\n",
       "\n",
       "[3214 rows x 4 columns]"
      ]
     },
     "execution_count": 59,
     "metadata": {},
     "output_type": "execute_result"
    }
   ],
   "source": [
    "# подсчет стоимости звонков сверх пакета        \n",
    "df.loc[df[\"calls_dur\"] > df[\"minutes_included\"], \"calls_income\"] = (\n",
    "    (df[\"calls_dur\"] - df[\"minutes_included\"]) * df[\"rub_per_minute\"]\n",
    ")\n",
    "df[\"calls_income\"] = df[\"calls_income\"].fillna(0)\n",
    "# подсчет стоимости сообщений сверх пакета \n",
    "df.loc[df[\"messages\"] > df[\"messages_included\"], \"messages_income\"] = (\n",
    "    (df[\"messages\"] - df[\"messages_included\"]) * df[\"rub_per_message\"]\n",
    ")\n",
    "df[\"messages_income\"] = df[\"messages_income\"].fillna(0)\n",
    "# подсчет стоимости трафика сверх пакета \n",
    "df.loc[df[\"gb_used\"] > df[\"gb_included\"], \"internet_income\"] = (\n",
    "    (df[\"gb_used\"] - df[\"gb_included\"]) * df[\"rub_per_gb\"]\n",
    ")\n",
    "df[\"internet_income\"] = df[\"internet_income\"].fillna(0)\n",
    "# подсчет общей прибыли \n",
    "df[\"total_income\"] = (\n",
    "    df[\"calls_income\"] + df[\"messages_income\"] \n",
    "    + df[\"internet_income\"] + df[\"rub_monthly_fee\"]\n",
    ")\n",
    "money = df[[\"month\", \"user_id\", \"tariff\", \"total_income\"]].copy()\n",
    "money"
   ]
  },
  {
   "cell_type": "code",
   "execution_count": 60,
   "metadata": {
    "scrolled": true
   },
   "outputs": [
    {
     "data": {
      "text/plain": [
       "tariff\n",
       "smart    2875351.0\n",
       "ultra    2039100.0\n",
       "Name: total_income, dtype: float64"
      ]
     },
     "metadata": {},
     "output_type": "display_data"
    },
    {
     "data": {
      "text/plain": [
       "tariff\n",
       "smart    0.585081\n",
       "ultra    0.414919\n",
       "Name: total_income, dtype: float64"
      ]
     },
     "execution_count": 60,
     "metadata": {},
     "output_type": "execute_result"
    }
   ],
   "source": [
    "# общая выручка по тарифам\n",
    "display(money.groupby(\"tariff\")[\"total_income\"].sum())\n",
    "# доля\n",
    "money.groupby(\"tariff\")[\"total_income\"].sum() / df.groupby(\"tariff\")[\"total_income\"].sum().sum() "
   ]
  },
  {
   "cell_type": "markdown",
   "metadata": {},
   "source": [
    "В целом выручка за год по тарифу смарт немного выше."
   ]
  },
  {
   "cell_type": "markdown",
   "metadata": {},
   "source": [
    "<div style=\"border:solid Green 2px; padding: 40px\">\n",
    "<div class=\"alert alert-success\">\n",
    "<h2> Комментарий ревьюера <a class=\"tocSkip\"> </h2>\n",
    "\n",
    "<font color='green'><b>Все отлично! 👍:</b>  </font>\n",
    "\n",
    "Сам расчет выручки верный. Могло сказаться неверное округление звонков и интерент-сессий.\n",
    "    \n",
    "</div>"
   ]
  },
  {
   "cell_type": "markdown",
   "metadata": {},
   "source": [
    "<div class = \"alert alert-info\" style=\"border-left: 7px solid blue\">\n",
    "<b>я их верно округлил. хоть и не самым рациональным способом</b>\n",
    "    \n",
    "</div>"
   ]
  },
  {
   "cell_type": "markdown",
   "metadata": {},
   "source": [
    "<div style=\"border:solid Green 2px; padding: 40px\">\n",
    "<div class=\"alert alert-success\">\n",
    "<h2> Комментарий ревьюера_V2 <a class=\"tocSkip\"> </h2>\n",
    "\n",
    "<font color='green'><b>Все отлично! 👍:</b>  </font>\n",
    "\n",
    "Выше, я показала, почему прибавление единицы и метод int будет работать с погрешностью. И если обратишь внимание, то общая выручка по тарифу смарт в прошлый раз у тебя отличалась. Спасибо, что поправил.  \n",
    "</div>"
   ]
  },
  {
   "cell_type": "code",
   "execution_count": 61,
   "metadata": {},
   "outputs": [
    {
     "data": {
      "text/plain": [
       "month                  0\n",
       "user_id                0\n",
       "calls_num             40\n",
       "calls_dur             40\n",
       "messages             497\n",
       "gb_used               11\n",
       "tariff                 0\n",
       "city                   0\n",
       "messages_included      0\n",
       "gb_included            0\n",
       "minutes_included       0\n",
       "rub_monthly_fee        0\n",
       "rub_per_gb             0\n",
       "rub_per_message        0\n",
       "rub_per_minute         0\n",
       "calls_income           0\n",
       "messages_income        0\n",
       "internet_income        0\n",
       "total_income           0\n",
       "dtype: int64"
      ]
     },
     "metadata": {},
     "output_type": "display_data"
    },
    {
     "data": {
      "text/plain": [
       "month                 0\n",
       "user_id               0\n",
       "calls_num            40\n",
       "calls_dur             0\n",
       "messages              0\n",
       "gb_used               0\n",
       "tariff                0\n",
       "city                  0\n",
       "messages_included     0\n",
       "gb_included           0\n",
       "minutes_included      0\n",
       "rub_monthly_fee       0\n",
       "rub_per_gb            0\n",
       "rub_per_message       0\n",
       "rub_per_minute        0\n",
       "calls_income          0\n",
       "messages_income       0\n",
       "internet_income       0\n",
       "total_income          0\n",
       "dtype: int64"
      ]
     },
     "metadata": {},
     "output_type": "display_data"
    },
    {
     "data": {
      "text/plain": [
       "3214"
      ]
     },
     "metadata": {},
     "output_type": "display_data"
    },
    {
     "data": {
      "text/plain": [
       "498"
      ]
     },
     "execution_count": 61,
     "metadata": {},
     "output_type": "execute_result"
    }
   ],
   "source": [
    "# пропуски\n",
    "display(df.isna().sum())\n",
    "# заполняем\n",
    "df[[\"calls_dur\", \"messages\", \"gb_used\"]] = df[[\"calls_dur\", \"messages\", \"gb_used\"]].fillna(0)\n",
    "# проверяем\n",
    "display(df.isna().sum())\n",
    "# количество строк\n",
    "display(len(df))\n",
    "# количество абонентов\n",
    "len(df[\"user_id\"].unique())"
   ]
  },
  {
   "cell_type": "markdown",
   "metadata": {},
   "source": [
    "### Вывод"
   ]
  },
  {
   "cell_type": "markdown",
   "metadata": {},
   "source": [
    "По итогам блока группировки и подсчета прибылей мы имеем общую таблицу распределения по месяцам на каждого клиента использованных минут разговора, сообщений и трафика, так же стоимость услуг сверх пакета и общую прибыль."
   ]
  },
  {
   "cell_type": "markdown",
   "metadata": {},
   "source": [
    "<div style=\"border:solid Red 2px; padding: 40px\">\n",
    "    <div class=\"alert alert-block alert-danger\">\n",
    "<h2> Комментарий ревьюера <a class=\"tocSkip\"></h2>\n",
    "\n",
    "<font color='red'><b>На доработку ❌:</b>  </font>\n",
    "    \n",
    "Проверь количество пропущенных значений в объединенной таблице. Вероятнее всего они появятся, тк есть пользователи, которые не пользуются каким-то видом услуги в определенный месяц, поэтому оптимальнее всего эти пропуски заполнить нулями.\n",
    "    \n",
    "Также стоит добавлять проверку корректности объединения. Для каждой комбинации месяц-пользователь у нас должна получиться 1 строка. Т.е., если у нас получится более 500*12 = 6000 строк - мы точно где-то ошиблись. Можно еще проверить количество уникальных пользователей в объединенной таблице, их должно быть не более 500.\n",
    "    \n",
    "</div>"
   ]
  },
  {
   "cell_type": "markdown",
   "metadata": {},
   "source": [
    "<div class = \"alert alert-info\" style=\"border-left: 7px solid blue\">\n",
    "<b>сделал</b>\n",
    "    \n",
    "</div>"
   ]
  },
  {
   "cell_type": "markdown",
   "metadata": {},
   "source": [
    "<div style=\"border:solid Green 2px; padding: 40px\">\n",
    "<div class=\"alert alert-success\">\n",
    "<h2> Комментарий ревьюера_V2 <a class=\"tocSkip\"> </h2>\n",
    "\n",
    "<font color='green'><b>Все отлично! 👍:</b>  </font>\n",
    "\n",
    "Молодец.\n",
    "    \n",
    "</div>"
   ]
  },
  {
   "cell_type": "markdown",
   "metadata": {},
   "source": [
    "## Проверка гипотез"
   ]
  },
  {
   "cell_type": "markdown",
   "metadata": {},
   "source": [
    "### Гипотеза №1"
   ]
  },
  {
   "cell_type": "markdown",
   "metadata": {},
   "source": [
    "Средняя выручка пользователей тарифов «Ультра» и «Смарт» различаются;\n"
   ]
  },
  {
   "cell_type": "markdown",
   "metadata": {},
   "source": [
    "сгруппируем выручку по тарифам и посмотрим на дисперсию, среднее и количество вхождений в срезы"
   ]
  },
  {
   "cell_type": "code",
   "execution_count": 62,
   "metadata": {},
   "outputs": [
    {
     "name": "stdout",
     "output_type": "stream",
     "text": [
      "Дисперсия:\n"
     ]
    },
    {
     "data": {
      "text/plain": [
       "total_income    669785.708006\n",
       "dtype: float64"
      ]
     },
     "metadata": {},
     "output_type": "display_data"
    },
    {
     "data": {
      "text/plain": [
       "total_income    141516.745079\n",
       "dtype: float64"
      ]
     },
     "metadata": {},
     "output_type": "display_data"
    },
    {
     "name": "stdout",
     "output_type": "stream",
     "text": [
      "Длина срезов:\n"
     ]
    },
    {
     "data": {
      "text/plain": [
       "2229"
      ]
     },
     "metadata": {},
     "output_type": "display_data"
    },
    {
     "data": {
      "text/plain": [
       "985"
      ]
     },
     "metadata": {},
     "output_type": "display_data"
    },
    {
     "name": "stdout",
     "output_type": "stream",
     "text": [
      "Средние:\n"
     ]
    },
    {
     "data": {
      "text/plain": [
       "total_income    1289.973531\n",
       "dtype: float64"
      ]
     },
     "metadata": {},
     "output_type": "display_data"
    },
    {
     "data": {
      "text/plain": [
       "total_income    2070.152284\n",
       "dtype: float64"
      ]
     },
     "metadata": {},
     "output_type": "display_data"
    }
   ],
   "source": [
    "# группируем\n",
    "smart_income = df[df[\"tariff\"] == \"smart\"][[\"total_income\"]]\n",
    "ultra_income = df[df[\"tariff\"] != \"smart\"][[\"total_income\"]]\n",
    "# характеристики\n",
    "print(\"Дисперсия:\")\n",
    "display(smart_income.var())\n",
    "display(ultra_income.var())\n",
    "\n",
    "print(\"Длина срезов:\")\n",
    "display(len(smart_income))\n",
    "display(len(ultra_income))\n",
    "\n",
    "print(\"Средние:\")\n",
    "display(smart_income.mean())\n",
    "display(ultra_income.mean())\n",
    "\n",
    "\n"
   ]
  },
  {
   "cell_type": "markdown",
   "metadata": {},
   "source": [
    "Для вычисления дисперсии был применен метод для выборок (с делителем n-1)\n",
    "Применим метод для проверки гипотезы о равенстве среднего двух генеральных совокупностей по взятым из них выборкам. учитывая, что размеры выборок и дисперсия сильно отличаются, укажем параметр equal_var\n",
    "\n",
    "Примем за нулевую гипотезу:\n",
    "\n",
    "Средняя выручка пользователей тарифов «Ультра» и «Смарт» равны.\n",
    "\n",
    "Альтернативная гипотеза:\n",
    "\n",
    "Средняя выручка пользователей тарифов «Ультра» и «Смарт» различаются.\n",
    "\n",
    "\n"
   ]
  },
  {
   "cell_type": "code",
   "execution_count": 63,
   "metadata": {},
   "outputs": [
    {
     "name": "stdout",
     "output_type": "stream",
     "text": [
      "[4.26063139e-250]  Отвергаем\n"
     ]
    }
   ],
   "source": [
    "\n",
    "alpha = .05\n",
    "result = st.ttest_ind(smart_income, ultra_income, equal_var=False)\n",
    "result.pvalue\n",
    "\n",
    "if result.pvalue < alpha:\n",
    "    print(result.pvalue, \" Отвергаем\")\n",
    "else:\n",
    "    print(result.pvalue, \" Не отвергаем\")"
   ]
  },
  {
   "cell_type": "markdown",
   "metadata": {},
   "source": [
    "P-величина крайне мала. Отвергаем нулевую гипотезу"
   ]
  },
  {
   "cell_type": "markdown",
   "metadata": {},
   "source": [
    "На основе статистического теста мы отвергли нулевую гипотезу в пользу альтернативной. в общем-то еще по среднему было видно, что выручка с в среднем на клиента в месяц на тарифе ультра почти в 2 раза больше"
   ]
  },
  {
   "cell_type": "markdown",
   "metadata": {},
   "source": [
    "### Гипотеза №2"
   ]
  },
  {
   "cell_type": "markdown",
   "metadata": {},
   "source": [
    "Средняя выручка пользователей из Москвы отличается от выручки пользователей из других регионов."
   ]
  },
  {
   "cell_type": "markdown",
   "metadata": {},
   "source": [
    "сгруппируем выручку по городам и посмотрим на дисперсию, среднее и количество вхождений в срезы"
   ]
  },
  {
   "cell_type": "code",
   "execution_count": 64,
   "metadata": {
    "scrolled": true
   },
   "outputs": [
    {
     "name": "stdout",
     "output_type": "stream",
     "text": [
      "Дисперсия:\n"
     ]
    },
    {
     "data": {
      "text/plain": [
       "total_income    565636.467012\n",
       "dtype: float64"
      ]
     },
     "metadata": {},
     "output_type": "display_data"
    },
    {
     "data": {
      "text/plain": [
       "total_income    654137.628522\n",
       "dtype: float64"
      ]
     },
     "metadata": {},
     "output_type": "display_data"
    },
    {
     "name": "stdout",
     "output_type": "stream",
     "text": [
      "Длина срезов:\n"
     ]
    },
    {
     "data": {
      "text/plain": [
       "611"
      ]
     },
     "metadata": {},
     "output_type": "display_data"
    },
    {
     "data": {
      "text/plain": [
       "2603"
      ]
     },
     "metadata": {},
     "output_type": "display_data"
    },
    {
     "name": "stdout",
     "output_type": "stream",
     "text": [
      "Средние:\n"
     ]
    },
    {
     "data": {
      "text/plain": [
       "total_income    1546.713584\n",
       "dtype: float64"
      ]
     },
     "metadata": {},
     "output_type": "display_data"
    },
    {
     "data": {
      "text/plain": [
       "total_income    1524.936227\n",
       "dtype: float64"
      ]
     },
     "metadata": {},
     "output_type": "display_data"
    }
   ],
   "source": [
    "# группируем\n",
    "moscow_income = df[df[\"city\"] == \"Москва\"][[\"total_income\"]]\n",
    "province_income = df[df[\"city\"] != \"Москва\"][[\"total_income\"]]\n",
    "# характеристики\n",
    "print(\"Дисперсия:\")\n",
    "display(moscow_income.var())\n",
    "display(province_income.var())\n",
    "\n",
    "print(\"Длина срезов:\")\n",
    "display(len(moscow_income))\n",
    "display(len(province_income))\n",
    "\n",
    "print(\"Средние:\")\n",
    "display(moscow_income.mean())\n",
    "display(province_income.mean())\n"
   ]
  },
  {
   "cell_type": "markdown",
   "metadata": {},
   "source": [
    "Здесь мы так же видим большое различие в размере списков, значит дисперсию в тесте нужно считать отдельно"
   ]
  },
  {
   "cell_type": "markdown",
   "metadata": {},
   "source": [
    "Нулевая гипотеза:\n",
    "\n",
    "Средняя выручка пользователей из Москвы равна средней выручке пользователей из других регионов.\n",
    "\n",
    "Альтернативная гипотеза:\n",
    "\n",
    "Средняя выручка пользователей из Москвы отличается от выручки пользователей из других регионов."
   ]
  },
  {
   "cell_type": "code",
   "execution_count": 65,
   "metadata": {},
   "outputs": [
    {
     "name": "stdout",
     "output_type": "stream",
     "text": [
      "[0.52573767]  Не отвергаем\n"
     ]
    }
   ],
   "source": [
    "alpha = .05\n",
    "result = st.ttest_ind(moscow_income, province_income, equal_var=False)\n",
    "if result.pvalue < alpha:\n",
    "    print(result.pvalue, \" Отвергаем\")\n",
    "else:\n",
    "    print(result.pvalue, \" Не отвергаем\")"
   ]
  },
  {
   "cell_type": "markdown",
   "metadata": {},
   "source": [
    "P-величина в 10 раз больше достаточно высокого значения уровня критической значимости. Не отвергаем нулевую гипотезу."
   ]
  },
  {
   "cell_type": "markdown",
   "metadata": {},
   "source": [
    "На основе статистического теста гипотиза о сходстве средней выручки между пользователями из москвы и регионов не может быть отвергнута\n"
   ]
  },
  {
   "cell_type": "markdown",
   "metadata": {},
   "source": [
    "### Вывод"
   ]
  },
  {
   "cell_type": "markdown",
   "metadata": {},
   "source": [
    "По результатам проверки гипотез мы видим, что выручка по тарифам с клиента сильно отличается. Отличие в выручке по городам подтверждено не было"
   ]
  },
  {
   "cell_type": "markdown",
   "metadata": {},
   "source": [
    "<div style=\"border:solid Green 2px; padding: 40px\">\n",
    "<div class=\"alert alert-success\">\n",
    "<h2> Комментарий ревьюера <a class=\"tocSkip\"> </h2>\n",
    "\n",
    "<font color='green'><b>Все отлично! 👍:</b>  </font>\n",
    "\n",
    "Верно выбран двусторонний тест. Отлично, что выводишь значение `results.pvalue`, в случае, если оно расчиталось не верно (например, равно NaN) - это можно сразу увидеть. Результат проверки верный. У нас действительно есть основания отвергнуть гипотезу о том, что выручки по тарифам одинаковы, но нет оснований считать что выручка с Москвы и регионов существенно отличается.\n",
    "    \n",
    "    \n",
    "</div>"
   ]
  },
  {
   "cell_type": "markdown",
   "metadata": {},
   "source": [
    "## Анализ поведения клиентов"
   ]
  },
  {
   "cell_type": "markdown",
   "metadata": {},
   "source": [
    "Цель анализа:\n",
    "\n",
    "Определить, сколько минут разговора, смс и интернет-трафика необходимо абонентам разных тарифов в месяц"
   ]
  },
  {
   "cell_type": "code",
   "execution_count": 66,
   "metadata": {},
   "outputs": [
    {
     "data": {
      "text/html": [
       "<div>\n",
       "<style scoped>\n",
       "    .dataframe tbody tr th:only-of-type {\n",
       "        vertical-align: middle;\n",
       "    }\n",
       "\n",
       "    .dataframe tbody tr th {\n",
       "        vertical-align: top;\n",
       "    }\n",
       "\n",
       "    .dataframe thead th {\n",
       "        text-align: right;\n",
       "    }\n",
       "</style>\n",
       "<table border=\"1\" class=\"dataframe\">\n",
       "  <thead>\n",
       "    <tr style=\"text-align: right;\">\n",
       "      <th></th>\n",
       "      <th>churn_date</th>\n",
       "      <th>reg_date</th>\n",
       "      <th>churn_percent</th>\n",
       "    </tr>\n",
       "    <tr>\n",
       "      <th>tariff</th>\n",
       "      <th></th>\n",
       "      <th></th>\n",
       "      <th></th>\n",
       "    </tr>\n",
       "  </thead>\n",
       "  <tbody>\n",
       "    <tr>\n",
       "      <th>smart</th>\n",
       "      <td>23</td>\n",
       "      <td>351</td>\n",
       "      <td>6.552707</td>\n",
       "    </tr>\n",
       "    <tr>\n",
       "      <th>ultra</th>\n",
       "      <td>15</td>\n",
       "      <td>149</td>\n",
       "      <td>10.067114</td>\n",
       "    </tr>\n",
       "  </tbody>\n",
       "</table>\n",
       "</div>"
      ],
      "text/plain": [
       "        churn_date  reg_date  churn_percent\n",
       "tariff                                     \n",
       "smart           23       351       6.552707\n",
       "ultra           15       149      10.067114"
      ]
     },
     "execution_count": 66,
     "metadata": {},
     "output_type": "execute_result"
    }
   ],
   "source": [
    "# проверяем с какого тарифа чаще уходят\n",
    "z = users.groupby(\"tariff\")[[\"churn_date\", \"reg_date\"]].count() \n",
    "z[\"churn_percent\"] = z[\"churn_date\"] / z[\"reg_date\"] * 100\n",
    "z"
   ]
  },
  {
   "cell_type": "markdown",
   "metadata": {},
   "source": [
    "за год со смарта сбежало 6,5 процентов абонентов, а с ультры 10"
   ]
  },
  {
   "cell_type": "markdown",
   "metadata": {},
   "source": [
    "Неполные месяцы использования тарифа будут давать искаженную картину по использованию ресурсов пакета. добавим столбцы с первым и последним относительно полными месяцами, и кол-вом полных месяцев и избавимя от абонентов, которые не пользовались тарифом больше 25 дней хотя бы в одном месяце"
   ]
  },
  {
   "cell_type": "code",
   "execution_count": 67,
   "metadata": {},
   "outputs": [
    {
     "data": {
      "text/html": [
       "<div>\n",
       "<style scoped>\n",
       "    .dataframe tbody tr th:only-of-type {\n",
       "        vertical-align: middle;\n",
       "    }\n",
       "\n",
       "    .dataframe tbody tr th {\n",
       "        vertical-align: top;\n",
       "    }\n",
       "\n",
       "    .dataframe thead th {\n",
       "        text-align: right;\n",
       "    }\n",
       "</style>\n",
       "<table border=\"1\" class=\"dataframe\">\n",
       "  <thead>\n",
       "    <tr style=\"text-align: right;\">\n",
       "      <th></th>\n",
       "      <th>user_id</th>\n",
       "      <th>age</th>\n",
       "      <th>churn_date</th>\n",
       "      <th>city</th>\n",
       "      <th>first_name</th>\n",
       "      <th>last_name</th>\n",
       "      <th>reg_date</th>\n",
       "      <th>tariff</th>\n",
       "    </tr>\n",
       "    <tr>\n",
       "      <th>user_id</th>\n",
       "      <th></th>\n",
       "      <th></th>\n",
       "      <th></th>\n",
       "      <th></th>\n",
       "      <th></th>\n",
       "      <th></th>\n",
       "      <th></th>\n",
       "      <th></th>\n",
       "    </tr>\n",
       "  </thead>\n",
       "  <tbody>\n",
       "    <tr>\n",
       "      <th>1000</th>\n",
       "      <td>1000</td>\n",
       "      <td>52</td>\n",
       "      <td>2018-12-31</td>\n",
       "      <td>Краснодар</td>\n",
       "      <td>Рафаил</td>\n",
       "      <td>Верещагин</td>\n",
       "      <td>2018-05-25</td>\n",
       "      <td>ultra</td>\n",
       "    </tr>\n",
       "    <tr>\n",
       "      <th>1001</th>\n",
       "      <td>1001</td>\n",
       "      <td>41</td>\n",
       "      <td>2018-12-31</td>\n",
       "      <td>Москва</td>\n",
       "      <td>Иван</td>\n",
       "      <td>Ежов</td>\n",
       "      <td>2018-11-01</td>\n",
       "      <td>smart</td>\n",
       "    </tr>\n",
       "    <tr>\n",
       "      <th>1002</th>\n",
       "      <td>1002</td>\n",
       "      <td>59</td>\n",
       "      <td>2018-12-31</td>\n",
       "      <td>Стерлитамак</td>\n",
       "      <td>Евгений</td>\n",
       "      <td>Абрамович</td>\n",
       "      <td>2018-06-17</td>\n",
       "      <td>smart</td>\n",
       "    </tr>\n",
       "    <tr>\n",
       "      <th>1003</th>\n",
       "      <td>1003</td>\n",
       "      <td>23</td>\n",
       "      <td>2018-12-31</td>\n",
       "      <td>Москва</td>\n",
       "      <td>Белла</td>\n",
       "      <td>Белякова</td>\n",
       "      <td>2018-08-17</td>\n",
       "      <td>ultra</td>\n",
       "    </tr>\n",
       "    <tr>\n",
       "      <th>1004</th>\n",
       "      <td>1004</td>\n",
       "      <td>68</td>\n",
       "      <td>2018-12-31</td>\n",
       "      <td>Новокузнецк</td>\n",
       "      <td>Татьяна</td>\n",
       "      <td>Авдеенко</td>\n",
       "      <td>2018-05-14</td>\n",
       "      <td>ultra</td>\n",
       "    </tr>\n",
       "  </tbody>\n",
       "</table>\n",
       "</div>"
      ],
      "text/plain": [
       "         user_id  age churn_date         city first_name  last_name  \\\n",
       "user_id                                                               \n",
       "1000        1000   52 2018-12-31    Краснодар     Рафаил  Верещагин   \n",
       "1001        1001   41 2018-12-31       Москва       Иван       Ежов   \n",
       "1002        1002   59 2018-12-31  Стерлитамак    Евгений  Абрамович   \n",
       "1003        1003   23 2018-12-31       Москва      Белла   Белякова   \n",
       "1004        1004   68 2018-12-31  Новокузнецк    Татьяна   Авдеенко   \n",
       "\n",
       "          reg_date tariff  \n",
       "user_id                    \n",
       "1000    2018-05-25  ultra  \n",
       "1001    2018-11-01  smart  \n",
       "1002    2018-06-17  smart  \n",
       "1003    2018-08-17  ultra  \n",
       "1004    2018-05-14  ultra  "
      ]
     },
     "metadata": {},
     "output_type": "display_data"
    },
    {
     "data": {
      "text/plain": [
       "0"
      ]
     },
     "metadata": {},
     "output_type": "display_data"
    },
    {
     "data": {
      "text/html": [
       "<div>\n",
       "<style scoped>\n",
       "    .dataframe tbody tr th:only-of-type {\n",
       "        vertical-align: middle;\n",
       "    }\n",
       "\n",
       "    .dataframe tbody tr th {\n",
       "        vertical-align: top;\n",
       "    }\n",
       "\n",
       "    .dataframe thead th {\n",
       "        text-align: right;\n",
       "    }\n",
       "</style>\n",
       "<table border=\"1\" class=\"dataframe\">\n",
       "  <thead>\n",
       "    <tr style=\"text-align: right;\">\n",
       "      <th></th>\n",
       "      <th>user_id</th>\n",
       "      <th>age</th>\n",
       "      <th>churn_date</th>\n",
       "      <th>city</th>\n",
       "      <th>first_name</th>\n",
       "      <th>last_name</th>\n",
       "      <th>reg_date</th>\n",
       "      <th>tariff</th>\n",
       "      <th>first_full_month</th>\n",
       "      <th>last_full_month</th>\n",
       "    </tr>\n",
       "    <tr>\n",
       "      <th>user_id</th>\n",
       "      <th></th>\n",
       "      <th></th>\n",
       "      <th></th>\n",
       "      <th></th>\n",
       "      <th></th>\n",
       "      <th></th>\n",
       "      <th></th>\n",
       "      <th></th>\n",
       "      <th></th>\n",
       "      <th></th>\n",
       "    </tr>\n",
       "  </thead>\n",
       "  <tbody>\n",
       "    <tr>\n",
       "      <th>1008</th>\n",
       "      <td>1008</td>\n",
       "      <td>63</td>\n",
       "      <td>2018-12-31</td>\n",
       "      <td>Челябинск</td>\n",
       "      <td>Рустэм</td>\n",
       "      <td>Пономарёв</td>\n",
       "      <td>2018-12-19</td>\n",
       "      <td>smart</td>\n",
       "      <td>0.0</td>\n",
       "      <td>12.0</td>\n",
       "    </tr>\n",
       "    <tr>\n",
       "      <th>1062</th>\n",
       "      <td>1062</td>\n",
       "      <td>24</td>\n",
       "      <td>2018-12-09</td>\n",
       "      <td>Москва</td>\n",
       "      <td>Александр</td>\n",
       "      <td>Коршунов</td>\n",
       "      <td>2018-11-16</td>\n",
       "      <td>smart</td>\n",
       "      <td>12.0</td>\n",
       "      <td>11.0</td>\n",
       "    </tr>\n",
       "    <tr>\n",
       "      <th>1069</th>\n",
       "      <td>1069</td>\n",
       "      <td>36</td>\n",
       "      <td>2018-12-31</td>\n",
       "      <td>Екатеринбург</td>\n",
       "      <td>Гордей</td>\n",
       "      <td>Кочетов</td>\n",
       "      <td>2018-12-10</td>\n",
       "      <td>smart</td>\n",
       "      <td>0.0</td>\n",
       "      <td>12.0</td>\n",
       "    </tr>\n",
       "    <tr>\n",
       "      <th>1074</th>\n",
       "      <td>1074</td>\n",
       "      <td>68</td>\n",
       "      <td>2018-12-31</td>\n",
       "      <td>Якутск</td>\n",
       "      <td>Андрей</td>\n",
       "      <td>Кравцов</td>\n",
       "      <td>2018-12-30</td>\n",
       "      <td>smart</td>\n",
       "      <td>0.0</td>\n",
       "      <td>12.0</td>\n",
       "    </tr>\n",
       "    <tr>\n",
       "      <th>1084</th>\n",
       "      <td>1084</td>\n",
       "      <td>47</td>\n",
       "      <td>2018-12-31</td>\n",
       "      <td>Саранск</td>\n",
       "      <td>Виолетта</td>\n",
       "      <td>Спиридонова</td>\n",
       "      <td>2018-12-13</td>\n",
       "      <td>ultra</td>\n",
       "      <td>0.0</td>\n",
       "      <td>12.0</td>\n",
       "    </tr>\n",
       "    <tr>\n",
       "      <th>1095</th>\n",
       "      <td>1095</td>\n",
       "      <td>70</td>\n",
       "      <td>2018-12-31</td>\n",
       "      <td>Новосибирск</td>\n",
       "      <td>Марианна</td>\n",
       "      <td>Кабанова</td>\n",
       "      <td>2018-12-23</td>\n",
       "      <td>smart</td>\n",
       "      <td>0.0</td>\n",
       "      <td>12.0</td>\n",
       "    </tr>\n",
       "    <tr>\n",
       "      <th>1117</th>\n",
       "      <td>1117</td>\n",
       "      <td>42</td>\n",
       "      <td>2018-12-31</td>\n",
       "      <td>Тюмень</td>\n",
       "      <td>Дана</td>\n",
       "      <td>Меркулова</td>\n",
       "      <td>2018-12-10</td>\n",
       "      <td>smart</td>\n",
       "      <td>0.0</td>\n",
       "      <td>12.0</td>\n",
       "    </tr>\n",
       "    <tr>\n",
       "      <th>1128</th>\n",
       "      <td>1128</td>\n",
       "      <td>51</td>\n",
       "      <td>2018-12-23</td>\n",
       "      <td>Волжский</td>\n",
       "      <td>Ксения</td>\n",
       "      <td>Агаева</td>\n",
       "      <td>2018-12-15</td>\n",
       "      <td>ultra</td>\n",
       "      <td>0.0</td>\n",
       "      <td>11.0</td>\n",
       "    </tr>\n",
       "    <tr>\n",
       "      <th>1129</th>\n",
       "      <td>1129</td>\n",
       "      <td>48</td>\n",
       "      <td>2018-12-31</td>\n",
       "      <td>Курган</td>\n",
       "      <td>Анвар</td>\n",
       "      <td>Морозов</td>\n",
       "      <td>2018-12-17</td>\n",
       "      <td>smart</td>\n",
       "      <td>0.0</td>\n",
       "      <td>12.0</td>\n",
       "    </tr>\n",
       "    <tr>\n",
       "      <th>1131</th>\n",
       "      <td>1131</td>\n",
       "      <td>36</td>\n",
       "      <td>2018-12-31</td>\n",
       "      <td>Чита</td>\n",
       "      <td>Нина</td>\n",
       "      <td>Афонасьева</td>\n",
       "      <td>2018-12-08</td>\n",
       "      <td>smart</td>\n",
       "      <td>0.0</td>\n",
       "      <td>12.0</td>\n",
       "    </tr>\n",
       "    <tr>\n",
       "      <th>1140</th>\n",
       "      <td>1140</td>\n",
       "      <td>22</td>\n",
       "      <td>2018-12-31</td>\n",
       "      <td>Киров</td>\n",
       "      <td>Леонид</td>\n",
       "      <td>Ахматулин</td>\n",
       "      <td>2018-12-31</td>\n",
       "      <td>smart</td>\n",
       "      <td>0.0</td>\n",
       "      <td>12.0</td>\n",
       "    </tr>\n",
       "    <tr>\n",
       "      <th>1170</th>\n",
       "      <td>1170</td>\n",
       "      <td>69</td>\n",
       "      <td>2018-12-31</td>\n",
       "      <td>Новосибирск</td>\n",
       "      <td>Вадим</td>\n",
       "      <td>Козлов</td>\n",
       "      <td>2018-12-20</td>\n",
       "      <td>smart</td>\n",
       "      <td>0.0</td>\n",
       "      <td>12.0</td>\n",
       "    </tr>\n",
       "    <tr>\n",
       "      <th>1190</th>\n",
       "      <td>1190</td>\n",
       "      <td>65</td>\n",
       "      <td>2018-12-31</td>\n",
       "      <td>Москва</td>\n",
       "      <td>Рауль</td>\n",
       "      <td>Абоимов</td>\n",
       "      <td>2018-12-07</td>\n",
       "      <td>smart</td>\n",
       "      <td>0.0</td>\n",
       "      <td>12.0</td>\n",
       "    </tr>\n",
       "    <tr>\n",
       "      <th>1223</th>\n",
       "      <td>1223</td>\n",
       "      <td>20</td>\n",
       "      <td>2018-12-31</td>\n",
       "      <td>Стерлитамак</td>\n",
       "      <td>Алан</td>\n",
       "      <td>Панфилов</td>\n",
       "      <td>2018-12-12</td>\n",
       "      <td>smart</td>\n",
       "      <td>0.0</td>\n",
       "      <td>12.0</td>\n",
       "    </tr>\n",
       "    <tr>\n",
       "      <th>1234</th>\n",
       "      <td>1234</td>\n",
       "      <td>54</td>\n",
       "      <td>2018-12-31</td>\n",
       "      <td>Магнитогорск</td>\n",
       "      <td>Роксана</td>\n",
       "      <td>Алексеева</td>\n",
       "      <td>2018-12-19</td>\n",
       "      <td>ultra</td>\n",
       "      <td>0.0</td>\n",
       "      <td>12.0</td>\n",
       "    </tr>\n",
       "    <tr>\n",
       "      <th>1236</th>\n",
       "      <td>1236</td>\n",
       "      <td>30</td>\n",
       "      <td>2018-12-31</td>\n",
       "      <td>Москва</td>\n",
       "      <td>Леон</td>\n",
       "      <td>Демидов</td>\n",
       "      <td>2018-12-22</td>\n",
       "      <td>smart</td>\n",
       "      <td>0.0</td>\n",
       "      <td>12.0</td>\n",
       "    </tr>\n",
       "    <tr>\n",
       "      <th>1242</th>\n",
       "      <td>1242</td>\n",
       "      <td>39</td>\n",
       "      <td>2018-12-21</td>\n",
       "      <td>Хабаровск</td>\n",
       "      <td>Радим</td>\n",
       "      <td>Федосеев</td>\n",
       "      <td>2018-11-18</td>\n",
       "      <td>smart</td>\n",
       "      <td>12.0</td>\n",
       "      <td>11.0</td>\n",
       "    </tr>\n",
       "    <tr>\n",
       "      <th>1258</th>\n",
       "      <td>1258</td>\n",
       "      <td>52</td>\n",
       "      <td>2018-12-31</td>\n",
       "      <td>Санкт-Петербург</td>\n",
       "      <td>Валерий</td>\n",
       "      <td>Беляев</td>\n",
       "      <td>2018-12-31</td>\n",
       "      <td>smart</td>\n",
       "      <td>0.0</td>\n",
       "      <td>12.0</td>\n",
       "    </tr>\n",
       "    <tr>\n",
       "      <th>1278</th>\n",
       "      <td>1278</td>\n",
       "      <td>46</td>\n",
       "      <td>2018-12-31</td>\n",
       "      <td>Новокузнецк</td>\n",
       "      <td>Леонид</td>\n",
       "      <td>Троицкий</td>\n",
       "      <td>2018-12-23</td>\n",
       "      <td>smart</td>\n",
       "      <td>0.0</td>\n",
       "      <td>12.0</td>\n",
       "    </tr>\n",
       "    <tr>\n",
       "      <th>1336</th>\n",
       "      <td>1336</td>\n",
       "      <td>27</td>\n",
       "      <td>2018-12-31</td>\n",
       "      <td>Уфа</td>\n",
       "      <td>Авксентий</td>\n",
       "      <td>Алексеичев</td>\n",
       "      <td>2018-12-31</td>\n",
       "      <td>ultra</td>\n",
       "      <td>0.0</td>\n",
       "      <td>12.0</td>\n",
       "    </tr>\n",
       "    <tr>\n",
       "      <th>1349</th>\n",
       "      <td>1349</td>\n",
       "      <td>67</td>\n",
       "      <td>2018-12-31</td>\n",
       "      <td>Севастополь</td>\n",
       "      <td>Гайдар</td>\n",
       "      <td>Курочкин</td>\n",
       "      <td>2018-12-18</td>\n",
       "      <td>ultra</td>\n",
       "      <td>0.0</td>\n",
       "      <td>12.0</td>\n",
       "    </tr>\n",
       "    <tr>\n",
       "      <th>1368</th>\n",
       "      <td>1368</td>\n",
       "      <td>50</td>\n",
       "      <td>2018-12-31</td>\n",
       "      <td>Омск</td>\n",
       "      <td>Розалия</td>\n",
       "      <td>Гришина</td>\n",
       "      <td>2018-12-14</td>\n",
       "      <td>smart</td>\n",
       "      <td>0.0</td>\n",
       "      <td>12.0</td>\n",
       "    </tr>\n",
       "    <tr>\n",
       "      <th>1371</th>\n",
       "      <td>1371</td>\n",
       "      <td>50</td>\n",
       "      <td>2018-12-30</td>\n",
       "      <td>Омск</td>\n",
       "      <td>Ириней</td>\n",
       "      <td>Трофимов</td>\n",
       "      <td>2018-12-25</td>\n",
       "      <td>smart</td>\n",
       "      <td>0.0</td>\n",
       "      <td>12.0</td>\n",
       "    </tr>\n",
       "    <tr>\n",
       "      <th>1387</th>\n",
       "      <td>1387</td>\n",
       "      <td>74</td>\n",
       "      <td>2018-12-31</td>\n",
       "      <td>Краснодар</td>\n",
       "      <td>Габриель</td>\n",
       "      <td>Зуев</td>\n",
       "      <td>2018-12-21</td>\n",
       "      <td>smart</td>\n",
       "      <td>0.0</td>\n",
       "      <td>12.0</td>\n",
       "    </tr>\n",
       "    <tr>\n",
       "      <th>1397</th>\n",
       "      <td>1397</td>\n",
       "      <td>47</td>\n",
       "      <td>2018-12-31</td>\n",
       "      <td>Воронеж</td>\n",
       "      <td>Инна</td>\n",
       "      <td>Чистякова</td>\n",
       "      <td>2018-12-22</td>\n",
       "      <td>ultra</td>\n",
       "      <td>0.0</td>\n",
       "      <td>12.0</td>\n",
       "    </tr>\n",
       "    <tr>\n",
       "      <th>1398</th>\n",
       "      <td>1398</td>\n",
       "      <td>58</td>\n",
       "      <td>2018-12-31</td>\n",
       "      <td>Махачкала</td>\n",
       "      <td>Рауль</td>\n",
       "      <td>Ахмедов</td>\n",
       "      <td>2018-12-06</td>\n",
       "      <td>smart</td>\n",
       "      <td>0.0</td>\n",
       "      <td>12.0</td>\n",
       "    </tr>\n",
       "    <tr>\n",
       "      <th>1406</th>\n",
       "      <td>1406</td>\n",
       "      <td>68</td>\n",
       "      <td>2018-12-31</td>\n",
       "      <td>Казань</td>\n",
       "      <td>Станислав</td>\n",
       "      <td>Семёнов</td>\n",
       "      <td>2018-12-15</td>\n",
       "      <td>smart</td>\n",
       "      <td>0.0</td>\n",
       "      <td>12.0</td>\n",
       "    </tr>\n",
       "    <tr>\n",
       "      <th>1434</th>\n",
       "      <td>1434</td>\n",
       "      <td>73</td>\n",
       "      <td>2018-12-31</td>\n",
       "      <td>Москва</td>\n",
       "      <td>Карина</td>\n",
       "      <td>Субботина</td>\n",
       "      <td>2018-12-14</td>\n",
       "      <td>smart</td>\n",
       "      <td>0.0</td>\n",
       "      <td>12.0</td>\n",
       "    </tr>\n",
       "    <tr>\n",
       "      <th>1445</th>\n",
       "      <td>1445</td>\n",
       "      <td>40</td>\n",
       "      <td>2018-12-31</td>\n",
       "      <td>Москва</td>\n",
       "      <td>Рауль</td>\n",
       "      <td>Иванов</td>\n",
       "      <td>2018-12-29</td>\n",
       "      <td>smart</td>\n",
       "      <td>0.0</td>\n",
       "      <td>12.0</td>\n",
       "    </tr>\n",
       "    <tr>\n",
       "      <th>1485</th>\n",
       "      <td>1485</td>\n",
       "      <td>34</td>\n",
       "      <td>2018-12-31</td>\n",
       "      <td>Киров</td>\n",
       "      <td>Таисия</td>\n",
       "      <td>Сухова</td>\n",
       "      <td>2018-12-29</td>\n",
       "      <td>ultra</td>\n",
       "      <td>0.0</td>\n",
       "      <td>12.0</td>\n",
       "    </tr>\n",
       "  </tbody>\n",
       "</table>\n",
       "</div>"
      ],
      "text/plain": [
       "         user_id  age churn_date             city first_name    last_name  \\\n",
       "user_id                                                                     \n",
       "1008        1008   63 2018-12-31        Челябинск     Рустэм    Пономарёв   \n",
       "1062        1062   24 2018-12-09           Москва  Александр     Коршунов   \n",
       "1069        1069   36 2018-12-31     Екатеринбург     Гордей      Кочетов   \n",
       "1074        1074   68 2018-12-31           Якутск     Андрей      Кравцов   \n",
       "1084        1084   47 2018-12-31          Саранск   Виолетта  Спиридонова   \n",
       "1095        1095   70 2018-12-31      Новосибирск   Марианна     Кабанова   \n",
       "1117        1117   42 2018-12-31           Тюмень       Дана    Меркулова   \n",
       "1128        1128   51 2018-12-23         Волжский     Ксения       Агаева   \n",
       "1129        1129   48 2018-12-31           Курган      Анвар      Морозов   \n",
       "1131        1131   36 2018-12-31             Чита       Нина   Афонасьева   \n",
       "1140        1140   22 2018-12-31            Киров     Леонид    Ахматулин   \n",
       "1170        1170   69 2018-12-31      Новосибирск      Вадим       Козлов   \n",
       "1190        1190   65 2018-12-31           Москва      Рауль      Абоимов   \n",
       "1223        1223   20 2018-12-31      Стерлитамак       Алан     Панфилов   \n",
       "1234        1234   54 2018-12-31     Магнитогорск    Роксана    Алексеева   \n",
       "1236        1236   30 2018-12-31           Москва       Леон      Демидов   \n",
       "1242        1242   39 2018-12-21        Хабаровск      Радим     Федосеев   \n",
       "1258        1258   52 2018-12-31  Санкт-Петербург    Валерий       Беляев   \n",
       "1278        1278   46 2018-12-31      Новокузнецк     Леонид     Троицкий   \n",
       "1336        1336   27 2018-12-31              Уфа  Авксентий   Алексеичев   \n",
       "1349        1349   67 2018-12-31      Севастополь     Гайдар     Курочкин   \n",
       "1368        1368   50 2018-12-31             Омск    Розалия      Гришина   \n",
       "1371        1371   50 2018-12-30             Омск     Ириней     Трофимов   \n",
       "1387        1387   74 2018-12-31        Краснодар   Габриель         Зуев   \n",
       "1397        1397   47 2018-12-31          Воронеж       Инна    Чистякова   \n",
       "1398        1398   58 2018-12-31        Махачкала      Рауль      Ахмедов   \n",
       "1406        1406   68 2018-12-31           Казань  Станислав      Семёнов   \n",
       "1434        1434   73 2018-12-31           Москва     Карина    Субботина   \n",
       "1445        1445   40 2018-12-31           Москва      Рауль       Иванов   \n",
       "1485        1485   34 2018-12-31            Киров     Таисия       Сухова   \n",
       "\n",
       "          reg_date tariff  first_full_month  last_full_month  \n",
       "user_id                                                       \n",
       "1008    2018-12-19  smart               0.0             12.0  \n",
       "1062    2018-11-16  smart              12.0             11.0  \n",
       "1069    2018-12-10  smart               0.0             12.0  \n",
       "1074    2018-12-30  smart               0.0             12.0  \n",
       "1084    2018-12-13  ultra               0.0             12.0  \n",
       "1095    2018-12-23  smart               0.0             12.0  \n",
       "1117    2018-12-10  smart               0.0             12.0  \n",
       "1128    2018-12-15  ultra               0.0             11.0  \n",
       "1129    2018-12-17  smart               0.0             12.0  \n",
       "1131    2018-12-08  smart               0.0             12.0  \n",
       "1140    2018-12-31  smart               0.0             12.0  \n",
       "1170    2018-12-20  smart               0.0             12.0  \n",
       "1190    2018-12-07  smart               0.0             12.0  \n",
       "1223    2018-12-12  smart               0.0             12.0  \n",
       "1234    2018-12-19  ultra               0.0             12.0  \n",
       "1236    2018-12-22  smart               0.0             12.0  \n",
       "1242    2018-11-18  smart              12.0             11.0  \n",
       "1258    2018-12-31  smart               0.0             12.0  \n",
       "1278    2018-12-23  smart               0.0             12.0  \n",
       "1336    2018-12-31  ultra               0.0             12.0  \n",
       "1349    2018-12-18  ultra               0.0             12.0  \n",
       "1368    2018-12-14  smart               0.0             12.0  \n",
       "1371    2018-12-25  smart               0.0             12.0  \n",
       "1387    2018-12-21  smart               0.0             12.0  \n",
       "1397    2018-12-22  ultra               0.0             12.0  \n",
       "1398    2018-12-06  smart               0.0             12.0  \n",
       "1406    2018-12-15  smart               0.0             12.0  \n",
       "1434    2018-12-14  smart               0.0             12.0  \n",
       "1445    2018-12-29  smart               0.0             12.0  \n",
       "1485    2018-12-29  ultra               0.0             12.0  "
      ]
     },
     "metadata": {},
     "output_type": "display_data"
    },
    {
     "data": {
      "text/plain": [
       "30"
      ]
     },
     "execution_count": 67,
     "metadata": {},
     "output_type": "execute_result"
    }
   ],
   "source": [
    "# заполняем пропуски\n",
    "date = pd.datetime(2018, 12, 31)\n",
    "users[\"churn_date\"] = users[\"churn_date\"].fillna(date)\n",
    "display(users.head())\n",
    "display(users[\"churn_date\"].isna().sum())\n",
    "# добавляем столбец с первым полным месяцем\n",
    "users.loc[users[\"reg_date\"].dt.day <= 5, \"first_full_month\"] = users[\"reg_date\"].dt.month\n",
    "# для зарегистрировавшихся после 5го первым полным месяцем будет следующий после регистрации\n",
    "users[\"first_full_month\"] = users[\"first_full_month\"].fillna(users[\"reg_date\"].dt.month + 1)\n",
    "# для зарегистрировавшихся после 5го декабря устанавливаем 0\n",
    "users[\"first_full_month\"] = users[\"first_full_month\"].replace(13, 0)\n",
    "# добавляем столбец с последним месяцем\n",
    "users.loc[users[\"churn_date\"].dt.day >= 25, \"last_full_month\"] = users[\"churn_date\"].dt.month\n",
    "# для прекративших пользоваться тарифом раньше 25го числа последний полный месяц - предыдущий\n",
    "users[\"last_full_month\"] = users[\"last_full_month\"].fillna(users[\"churn_date\"].dt.month - 1)\n",
    "# смотрим на тех, кто пользовался тарифом слишком мало\n",
    "# users[users[\"last_full_month\"] < users[\"first_full_month\"]]\n",
    "x = users.query('last_full_month < first_full_month or first_full_month == 0')\n",
    "display(x)\n",
    "len(x)\n"
   ]
  },
  {
   "cell_type": "code",
   "execution_count": 68,
   "metadata": {
    "scrolled": false
   },
   "outputs": [
    {
     "data": {
      "text/plain": [
       "470"
      ]
     },
     "metadata": {},
     "output_type": "display_data"
    },
    {
     "data": {
      "text/html": [
       "<div>\n",
       "<style scoped>\n",
       "    .dataframe tbody tr th:only-of-type {\n",
       "        vertical-align: middle;\n",
       "    }\n",
       "\n",
       "    .dataframe tbody tr th {\n",
       "        vertical-align: top;\n",
       "    }\n",
       "\n",
       "    .dataframe thead th {\n",
       "        text-align: right;\n",
       "    }\n",
       "</style>\n",
       "<table border=\"1\" class=\"dataframe\">\n",
       "  <thead>\n",
       "    <tr style=\"text-align: right;\">\n",
       "      <th></th>\n",
       "      <th>user_id</th>\n",
       "      <th>age</th>\n",
       "      <th>churn_date</th>\n",
       "      <th>city</th>\n",
       "      <th>first_name</th>\n",
       "      <th>last_name</th>\n",
       "      <th>reg_date</th>\n",
       "      <th>tariff</th>\n",
       "      <th>first_full_month</th>\n",
       "      <th>last_full_month</th>\n",
       "    </tr>\n",
       "    <tr>\n",
       "      <th>user_id</th>\n",
       "      <th></th>\n",
       "      <th></th>\n",
       "      <th></th>\n",
       "      <th></th>\n",
       "      <th></th>\n",
       "      <th></th>\n",
       "      <th></th>\n",
       "      <th></th>\n",
       "      <th></th>\n",
       "      <th></th>\n",
       "    </tr>\n",
       "  </thead>\n",
       "  <tbody>\n",
       "    <tr>\n",
       "      <th>1000</th>\n",
       "      <td>1000</td>\n",
       "      <td>52</td>\n",
       "      <td>2018-12-31</td>\n",
       "      <td>Краснодар</td>\n",
       "      <td>Рафаил</td>\n",
       "      <td>Верещагин</td>\n",
       "      <td>2018-05-25</td>\n",
       "      <td>ultra</td>\n",
       "      <td>6.0</td>\n",
       "      <td>12.0</td>\n",
       "    </tr>\n",
       "    <tr>\n",
       "      <th>1001</th>\n",
       "      <td>1001</td>\n",
       "      <td>41</td>\n",
       "      <td>2018-12-31</td>\n",
       "      <td>Москва</td>\n",
       "      <td>Иван</td>\n",
       "      <td>Ежов</td>\n",
       "      <td>2018-11-01</td>\n",
       "      <td>smart</td>\n",
       "      <td>11.0</td>\n",
       "      <td>12.0</td>\n",
       "    </tr>\n",
       "    <tr>\n",
       "      <th>1002</th>\n",
       "      <td>1002</td>\n",
       "      <td>59</td>\n",
       "      <td>2018-12-31</td>\n",
       "      <td>Стерлитамак</td>\n",
       "      <td>Евгений</td>\n",
       "      <td>Абрамович</td>\n",
       "      <td>2018-06-17</td>\n",
       "      <td>smart</td>\n",
       "      <td>7.0</td>\n",
       "      <td>12.0</td>\n",
       "    </tr>\n",
       "    <tr>\n",
       "      <th>1003</th>\n",
       "      <td>1003</td>\n",
       "      <td>23</td>\n",
       "      <td>2018-12-31</td>\n",
       "      <td>Москва</td>\n",
       "      <td>Белла</td>\n",
       "      <td>Белякова</td>\n",
       "      <td>2018-08-17</td>\n",
       "      <td>ultra</td>\n",
       "      <td>9.0</td>\n",
       "      <td>12.0</td>\n",
       "    </tr>\n",
       "    <tr>\n",
       "      <th>1004</th>\n",
       "      <td>1004</td>\n",
       "      <td>68</td>\n",
       "      <td>2018-12-31</td>\n",
       "      <td>Новокузнецк</td>\n",
       "      <td>Татьяна</td>\n",
       "      <td>Авдеенко</td>\n",
       "      <td>2018-05-14</td>\n",
       "      <td>ultra</td>\n",
       "      <td>6.0</td>\n",
       "      <td>12.0</td>\n",
       "    </tr>\n",
       "  </tbody>\n",
       "</table>\n",
       "</div>"
      ],
      "text/plain": [
       "         user_id  age churn_date         city first_name  last_name  \\\n",
       "user_id                                                               \n",
       "1000        1000   52 2018-12-31    Краснодар     Рафаил  Верещагин   \n",
       "1001        1001   41 2018-12-31       Москва       Иван       Ежов   \n",
       "1002        1002   59 2018-12-31  Стерлитамак    Евгений  Абрамович   \n",
       "1003        1003   23 2018-12-31       Москва      Белла   Белякова   \n",
       "1004        1004   68 2018-12-31  Новокузнецк    Татьяна   Авдеенко   \n",
       "\n",
       "          reg_date tariff  first_full_month  last_full_month  \n",
       "user_id                                                       \n",
       "1000    2018-05-25  ultra               6.0             12.0  \n",
       "1001    2018-11-01  smart              11.0             12.0  \n",
       "1002    2018-06-17  smart               7.0             12.0  \n",
       "1003    2018-08-17  ultra               9.0             12.0  \n",
       "1004    2018-05-14  ultra               6.0             12.0  "
      ]
     },
     "execution_count": 68,
     "metadata": {},
     "output_type": "execute_result"
    }
   ],
   "source": [
    "# избавляемся от пользователей\n",
    "users = users[(users[\"last_full_month\"] >= users[\"first_full_month\"]) & (users[\"first_full_month\"] != 0)]\n",
    "display(len(users))\n",
    "users.head()"
   ]
  },
  {
   "cell_type": "code",
   "execution_count": 69,
   "metadata": {},
   "outputs": [
    {
     "data": {
      "text/html": [
       "<div>\n",
       "<style scoped>\n",
       "    .dataframe tbody tr th:only-of-type {\n",
       "        vertical-align: middle;\n",
       "    }\n",
       "\n",
       "    .dataframe tbody tr th {\n",
       "        vertical-align: top;\n",
       "    }\n",
       "\n",
       "    .dataframe thead th {\n",
       "        text-align: right;\n",
       "    }\n",
       "</style>\n",
       "<table border=\"1\" class=\"dataframe\">\n",
       "  <thead>\n",
       "    <tr style=\"text-align: right;\">\n",
       "      <th></th>\n",
       "      <th>user_id</th>\n",
       "      <th>age</th>\n",
       "      <th>churn_date</th>\n",
       "      <th>city</th>\n",
       "      <th>first_name</th>\n",
       "      <th>last_name</th>\n",
       "      <th>reg_date</th>\n",
       "      <th>tariff</th>\n",
       "      <th>first_full_month</th>\n",
       "      <th>last_full_month</th>\n",
       "      <th>full_months</th>\n",
       "    </tr>\n",
       "  </thead>\n",
       "  <tbody>\n",
       "    <tr>\n",
       "      <th>0</th>\n",
       "      <td>1000</td>\n",
       "      <td>52</td>\n",
       "      <td>2018-12-31</td>\n",
       "      <td>Краснодар</td>\n",
       "      <td>Рафаил</td>\n",
       "      <td>Верещагин</td>\n",
       "      <td>2018-05-25</td>\n",
       "      <td>ultra</td>\n",
       "      <td>6.0</td>\n",
       "      <td>12.0</td>\n",
       "      <td>7.0</td>\n",
       "    </tr>\n",
       "    <tr>\n",
       "      <th>1</th>\n",
       "      <td>1001</td>\n",
       "      <td>41</td>\n",
       "      <td>2018-12-31</td>\n",
       "      <td>Москва</td>\n",
       "      <td>Иван</td>\n",
       "      <td>Ежов</td>\n",
       "      <td>2018-11-01</td>\n",
       "      <td>smart</td>\n",
       "      <td>11.0</td>\n",
       "      <td>12.0</td>\n",
       "      <td>2.0</td>\n",
       "    </tr>\n",
       "    <tr>\n",
       "      <th>2</th>\n",
       "      <td>1002</td>\n",
       "      <td>59</td>\n",
       "      <td>2018-12-31</td>\n",
       "      <td>Стерлитамак</td>\n",
       "      <td>Евгений</td>\n",
       "      <td>Абрамович</td>\n",
       "      <td>2018-06-17</td>\n",
       "      <td>smart</td>\n",
       "      <td>7.0</td>\n",
       "      <td>12.0</td>\n",
       "      <td>6.0</td>\n",
       "    </tr>\n",
       "    <tr>\n",
       "      <th>3</th>\n",
       "      <td>1003</td>\n",
       "      <td>23</td>\n",
       "      <td>2018-12-31</td>\n",
       "      <td>Москва</td>\n",
       "      <td>Белла</td>\n",
       "      <td>Белякова</td>\n",
       "      <td>2018-08-17</td>\n",
       "      <td>ultra</td>\n",
       "      <td>9.0</td>\n",
       "      <td>12.0</td>\n",
       "      <td>4.0</td>\n",
       "    </tr>\n",
       "    <tr>\n",
       "      <th>4</th>\n",
       "      <td>1004</td>\n",
       "      <td>68</td>\n",
       "      <td>2018-12-31</td>\n",
       "      <td>Новокузнецк</td>\n",
       "      <td>Татьяна</td>\n",
       "      <td>Авдеенко</td>\n",
       "      <td>2018-05-14</td>\n",
       "      <td>ultra</td>\n",
       "      <td>6.0</td>\n",
       "      <td>12.0</td>\n",
       "      <td>7.0</td>\n",
       "    </tr>\n",
       "  </tbody>\n",
       "</table>\n",
       "</div>"
      ],
      "text/plain": [
       "   user_id  age churn_date         city first_name  last_name   reg_date  \\\n",
       "0     1000   52 2018-12-31    Краснодар     Рафаил  Верещагин 2018-05-25   \n",
       "1     1001   41 2018-12-31       Москва       Иван       Ежов 2018-11-01   \n",
       "2     1002   59 2018-12-31  Стерлитамак    Евгений  Абрамович 2018-06-17   \n",
       "3     1003   23 2018-12-31       Москва      Белла   Белякова 2018-08-17   \n",
       "4     1004   68 2018-12-31  Новокузнецк    Татьяна   Авдеенко 2018-05-14   \n",
       "\n",
       "  tariff  first_full_month  last_full_month  full_months  \n",
       "0  ultra               6.0             12.0          7.0  \n",
       "1  smart              11.0             12.0          2.0  \n",
       "2  smart               7.0             12.0          6.0  \n",
       "3  ultra               9.0             12.0          4.0  \n",
       "4  ultra               6.0             12.0          7.0  "
      ]
     },
     "execution_count": 69,
     "metadata": {},
     "output_type": "execute_result"
    }
   ],
   "source": [
    "# добавляем столбец с количеством относительно полных месяцев\n",
    "users[\"full_months\"] = users[\"last_full_month\"] - users[\"first_full_month\"] + 1\n",
    "users = users.reset_index(drop=True)\n",
    "users.head()"
   ]
  },
  {
   "cell_type": "code",
   "execution_count": 70,
   "metadata": {},
   "outputs": [
    {
     "data": {
      "text/plain": [
       "28"
      ]
     },
     "execution_count": 70,
     "metadata": {},
     "output_type": "execute_result"
    }
   ],
   "source": [
    "# подготавливаем данные для присоединения к общей таблице\n",
    "users_for_merge = users[[\"user_id\", \"first_full_month\", \"last_full_month\", \"full_months\"]]\n",
    "# присоединяем\n",
    "df = pd.merge(df, users_for_merge, on=\"user_id\", how=\"left\")\n",
    "# проверяем количество пользователей с пропусками в полных месяцах\n",
    "len(df[df[\"full_months\"].isna()][\"user_id\"].unique())\n"
   ]
  },
  {
   "cell_type": "markdown",
   "metadata": {},
   "source": [
    "28 плюс двое давно утерянных все совпадает"
   ]
  },
  {
   "cell_type": "markdown",
   "metadata": {},
   "source": [
    "избавимся от лишних абонентов, лишних столбцов и данных по неполным месяцам"
   ]
  },
  {
   "cell_type": "code",
   "execution_count": 71,
   "metadata": {},
   "outputs": [
    {
     "data": {
      "text/plain": [
       "470"
      ]
     },
     "metadata": {},
     "output_type": "display_data"
    },
    {
     "data": {
      "text/html": [
       "<div>\n",
       "<style scoped>\n",
       "    .dataframe tbody tr th:only-of-type {\n",
       "        vertical-align: middle;\n",
       "    }\n",
       "\n",
       "    .dataframe tbody tr th {\n",
       "        vertical-align: top;\n",
       "    }\n",
       "\n",
       "    .dataframe thead th {\n",
       "        text-align: right;\n",
       "    }\n",
       "</style>\n",
       "<table border=\"1\" class=\"dataframe\">\n",
       "  <thead>\n",
       "    <tr style=\"text-align: right;\">\n",
       "      <th></th>\n",
       "      <th>month</th>\n",
       "      <th>user_id</th>\n",
       "      <th>calls_num</th>\n",
       "      <th>calls_dur</th>\n",
       "      <th>messages</th>\n",
       "      <th>gb_used</th>\n",
       "      <th>tariff</th>\n",
       "      <th>city</th>\n",
       "      <th>total_income</th>\n",
       "      <th>first_full_month</th>\n",
       "      <th>last_full_month</th>\n",
       "      <th>full_months</th>\n",
       "    </tr>\n",
       "  </thead>\n",
       "  <tbody>\n",
       "    <tr>\n",
       "      <th>0</th>\n",
       "      <td>1</td>\n",
       "      <td>1005</td>\n",
       "      <td>15.0</td>\n",
       "      <td>95.0</td>\n",
       "      <td>7.0</td>\n",
       "      <td>3.0</td>\n",
       "      <td>smart</td>\n",
       "      <td>Набережные Челны</td>\n",
       "      <td>550.0</td>\n",
       "      <td>2.0</td>\n",
       "      <td>12.0</td>\n",
       "      <td>11.0</td>\n",
       "    </tr>\n",
       "    <tr>\n",
       "      <th>1</th>\n",
       "      <td>1</td>\n",
       "      <td>1032</td>\n",
       "      <td>61.0</td>\n",
       "      <td>380.0</td>\n",
       "      <td>38.0</td>\n",
       "      <td>24.0</td>\n",
       "      <td>smart</td>\n",
       "      <td>Ульяновск</td>\n",
       "      <td>2350.0</td>\n",
       "      <td>1.0</td>\n",
       "      <td>12.0</td>\n",
       "      <td>12.0</td>\n",
       "    </tr>\n",
       "    <tr>\n",
       "      <th>2</th>\n",
       "      <td>1</td>\n",
       "      <td>1045</td>\n",
       "      <td>1.0</td>\n",
       "      <td>9.0</td>\n",
       "      <td>5.0</td>\n",
       "      <td>3.0</td>\n",
       "      <td>smart</td>\n",
       "      <td>Улан-Удэ</td>\n",
       "      <td>550.0</td>\n",
       "      <td>2.0</td>\n",
       "      <td>12.0</td>\n",
       "      <td>11.0</td>\n",
       "    </tr>\n",
       "    <tr>\n",
       "      <th>3</th>\n",
       "      <td>1</td>\n",
       "      <td>1055</td>\n",
       "      <td>64.0</td>\n",
       "      <td>551.0</td>\n",
       "      <td>30.0</td>\n",
       "      <td>17.0</td>\n",
       "      <td>smart</td>\n",
       "      <td>Казань</td>\n",
       "      <td>1103.0</td>\n",
       "      <td>1.0</td>\n",
       "      <td>12.0</td>\n",
       "      <td>12.0</td>\n",
       "    </tr>\n",
       "    <tr>\n",
       "      <th>4</th>\n",
       "      <td>1</td>\n",
       "      <td>1071</td>\n",
       "      <td>24.0</td>\n",
       "      <td>194.0</td>\n",
       "      <td>16.0</td>\n",
       "      <td>16.0</td>\n",
       "      <td>smart</td>\n",
       "      <td>Омск</td>\n",
       "      <td>750.0</td>\n",
       "      <td>2.0</td>\n",
       "      <td>8.0</td>\n",
       "      <td>7.0</td>\n",
       "    </tr>\n",
       "  </tbody>\n",
       "</table>\n",
       "</div>"
      ],
      "text/plain": [
       "   month  user_id  calls_num  calls_dur  messages  gb_used tariff  \\\n",
       "0      1     1005       15.0       95.0       7.0      3.0  smart   \n",
       "1      1     1032       61.0      380.0      38.0     24.0  smart   \n",
       "2      1     1045        1.0        9.0       5.0      3.0  smart   \n",
       "3      1     1055       64.0      551.0      30.0     17.0  smart   \n",
       "4      1     1071       24.0      194.0      16.0     16.0  smart   \n",
       "\n",
       "               city  total_income  first_full_month  last_full_month  \\\n",
       "0  Набережные Челны         550.0               2.0             12.0   \n",
       "1         Ульяновск        2350.0               1.0             12.0   \n",
       "2          Улан-Удэ         550.0               2.0             12.0   \n",
       "3            Казань        1103.0               1.0             12.0   \n",
       "4              Омск         750.0               2.0              8.0   \n",
       "\n",
       "   full_months  \n",
       "0         11.0  \n",
       "1         12.0  \n",
       "2         11.0  \n",
       "3         12.0  \n",
       "4          7.0  "
      ]
     },
     "execution_count": 71,
     "metadata": {},
     "output_type": "execute_result"
    }
   ],
   "source": [
    "# лишние столбцы\n",
    "df = (df.drop([\"gb_included\", \"minutes_included\",\n",
    "              \"rub_monthly_fee\", \"messages_included\", \"rub_per_gb\", \n",
    "              \"rub_per_message\", \"rub_per_minute\", \"calls_income\", \n",
    "              \"messages_income\",\"internet_income\"], axis=1)\n",
    "     )\n",
    "# лишние абоненты\n",
    "df = df.dropna(subset=[\"full_months\"])\n",
    "display(len(df[\"user_id\"].unique()))\n",
    "df.head()"
   ]
  },
  {
   "cell_type": "code",
   "execution_count": 72,
   "metadata": {
    "scrolled": true
   },
   "outputs": [
    {
     "data": {
      "text/html": [
       "<div>\n",
       "<style scoped>\n",
       "    .dataframe tbody tr th:only-of-type {\n",
       "        vertical-align: middle;\n",
       "    }\n",
       "\n",
       "    .dataframe tbody tr th {\n",
       "        vertical-align: top;\n",
       "    }\n",
       "\n",
       "    .dataframe thead th {\n",
       "        text-align: right;\n",
       "    }\n",
       "</style>\n",
       "<table border=\"1\" class=\"dataframe\">\n",
       "  <thead>\n",
       "    <tr style=\"text-align: right;\">\n",
       "      <th></th>\n",
       "      <th>month</th>\n",
       "      <th>user_id</th>\n",
       "      <th>calls_num</th>\n",
       "      <th>calls_dur</th>\n",
       "      <th>messages</th>\n",
       "      <th>gb_used</th>\n",
       "      <th>tariff</th>\n",
       "      <th>city</th>\n",
       "      <th>total_income</th>\n",
       "      <th>first_full_month</th>\n",
       "      <th>last_full_month</th>\n",
       "      <th>full_months</th>\n",
       "    </tr>\n",
       "  </thead>\n",
       "  <tbody>\n",
       "    <tr>\n",
       "      <th>0</th>\n",
       "      <td>1</td>\n",
       "      <td>1005</td>\n",
       "      <td>15.0</td>\n",
       "      <td>0.0</td>\n",
       "      <td>0.0</td>\n",
       "      <td>0.0</td>\n",
       "      <td>smart</td>\n",
       "      <td>Набережные Челны</td>\n",
       "      <td>550.0</td>\n",
       "      <td>2.0</td>\n",
       "      <td>12.0</td>\n",
       "      <td>11.0</td>\n",
       "    </tr>\n",
       "    <tr>\n",
       "      <th>1</th>\n",
       "      <td>1</td>\n",
       "      <td>1032</td>\n",
       "      <td>61.0</td>\n",
       "      <td>380.0</td>\n",
       "      <td>38.0</td>\n",
       "      <td>24.0</td>\n",
       "      <td>smart</td>\n",
       "      <td>Ульяновск</td>\n",
       "      <td>2350.0</td>\n",
       "      <td>1.0</td>\n",
       "      <td>12.0</td>\n",
       "      <td>12.0</td>\n",
       "    </tr>\n",
       "    <tr>\n",
       "      <th>2</th>\n",
       "      <td>1</td>\n",
       "      <td>1045</td>\n",
       "      <td>1.0</td>\n",
       "      <td>0.0</td>\n",
       "      <td>0.0</td>\n",
       "      <td>0.0</td>\n",
       "      <td>smart</td>\n",
       "      <td>Улан-Удэ</td>\n",
       "      <td>550.0</td>\n",
       "      <td>2.0</td>\n",
       "      <td>12.0</td>\n",
       "      <td>11.0</td>\n",
       "    </tr>\n",
       "    <tr>\n",
       "      <th>3</th>\n",
       "      <td>1</td>\n",
       "      <td>1055</td>\n",
       "      <td>64.0</td>\n",
       "      <td>551.0</td>\n",
       "      <td>30.0</td>\n",
       "      <td>17.0</td>\n",
       "      <td>smart</td>\n",
       "      <td>Казань</td>\n",
       "      <td>1103.0</td>\n",
       "      <td>1.0</td>\n",
       "      <td>12.0</td>\n",
       "      <td>12.0</td>\n",
       "    </tr>\n",
       "    <tr>\n",
       "      <th>4</th>\n",
       "      <td>1</td>\n",
       "      <td>1071</td>\n",
       "      <td>24.0</td>\n",
       "      <td>0.0</td>\n",
       "      <td>0.0</td>\n",
       "      <td>0.0</td>\n",
       "      <td>smart</td>\n",
       "      <td>Омск</td>\n",
       "      <td>750.0</td>\n",
       "      <td>2.0</td>\n",
       "      <td>8.0</td>\n",
       "      <td>7.0</td>\n",
       "    </tr>\n",
       "    <tr>\n",
       "      <th>5</th>\n",
       "      <td>1</td>\n",
       "      <td>1113</td>\n",
       "      <td>18.0</td>\n",
       "      <td>0.0</td>\n",
       "      <td>0.0</td>\n",
       "      <td>0.0</td>\n",
       "      <td>smart</td>\n",
       "      <td>Чита</td>\n",
       "      <td>550.0</td>\n",
       "      <td>2.0</td>\n",
       "      <td>12.0</td>\n",
       "      <td>11.0</td>\n",
       "    </tr>\n",
       "    <tr>\n",
       "      <th>6</th>\n",
       "      <td>1</td>\n",
       "      <td>1120</td>\n",
       "      <td>5.0</td>\n",
       "      <td>0.0</td>\n",
       "      <td>0.0</td>\n",
       "      <td>0.0</td>\n",
       "      <td>ultra</td>\n",
       "      <td>Краснодар</td>\n",
       "      <td>1950.0</td>\n",
       "      <td>2.0</td>\n",
       "      <td>12.0</td>\n",
       "      <td>11.0</td>\n",
       "    </tr>\n",
       "    <tr>\n",
       "      <th>7</th>\n",
       "      <td>1</td>\n",
       "      <td>1126</td>\n",
       "      <td>35.0</td>\n",
       "      <td>0.0</td>\n",
       "      <td>0.0</td>\n",
       "      <td>0.0</td>\n",
       "      <td>ultra</td>\n",
       "      <td>Санкт-Петербург</td>\n",
       "      <td>1950.0</td>\n",
       "      <td>2.0</td>\n",
       "      <td>12.0</td>\n",
       "      <td>11.0</td>\n",
       "    </tr>\n",
       "    <tr>\n",
       "      <th>8</th>\n",
       "      <td>1</td>\n",
       "      <td>1134</td>\n",
       "      <td>42.0</td>\n",
       "      <td>0.0</td>\n",
       "      <td>0.0</td>\n",
       "      <td>0.0</td>\n",
       "      <td>smart</td>\n",
       "      <td>Красноярск</td>\n",
       "      <td>550.0</td>\n",
       "      <td>2.0</td>\n",
       "      <td>12.0</td>\n",
       "      <td>11.0</td>\n",
       "    </tr>\n",
       "    <tr>\n",
       "      <th>9</th>\n",
       "      <td>1</td>\n",
       "      <td>1135</td>\n",
       "      <td>9.0</td>\n",
       "      <td>0.0</td>\n",
       "      <td>0.0</td>\n",
       "      <td>0.0</td>\n",
       "      <td>smart</td>\n",
       "      <td>Архангельск</td>\n",
       "      <td>550.0</td>\n",
       "      <td>2.0</td>\n",
       "      <td>12.0</td>\n",
       "      <td>11.0</td>\n",
       "    </tr>\n",
       "  </tbody>\n",
       "</table>\n",
       "</div>"
      ],
      "text/plain": [
       "   month  user_id  calls_num  calls_dur  messages  gb_used tariff  \\\n",
       "0      1     1005       15.0        0.0       0.0      0.0  smart   \n",
       "1      1     1032       61.0      380.0      38.0     24.0  smart   \n",
       "2      1     1045        1.0        0.0       0.0      0.0  smart   \n",
       "3      1     1055       64.0      551.0      30.0     17.0  smart   \n",
       "4      1     1071       24.0        0.0       0.0      0.0  smart   \n",
       "5      1     1113       18.0        0.0       0.0      0.0  smart   \n",
       "6      1     1120        5.0        0.0       0.0      0.0  ultra   \n",
       "7      1     1126       35.0        0.0       0.0      0.0  ultra   \n",
       "8      1     1134       42.0        0.0       0.0      0.0  smart   \n",
       "9      1     1135        9.0        0.0       0.0      0.0  smart   \n",
       "\n",
       "               city  total_income  first_full_month  last_full_month  \\\n",
       "0  Набережные Челны         550.0               2.0             12.0   \n",
       "1         Ульяновск        2350.0               1.0             12.0   \n",
       "2          Улан-Удэ         550.0               2.0             12.0   \n",
       "3            Казань        1103.0               1.0             12.0   \n",
       "4              Омск         750.0               2.0              8.0   \n",
       "5              Чита         550.0               2.0             12.0   \n",
       "6         Краснодар        1950.0               2.0             12.0   \n",
       "7   Санкт-Петербург        1950.0               2.0             12.0   \n",
       "8        Красноярск         550.0               2.0             12.0   \n",
       "9       Архангельск         550.0               2.0             12.0   \n",
       "\n",
       "   full_months  \n",
       "0         11.0  \n",
       "1         12.0  \n",
       "2         11.0  \n",
       "3         12.0  \n",
       "4          7.0  \n",
       "5         11.0  \n",
       "6         11.0  \n",
       "7         11.0  \n",
       "8         11.0  \n",
       "9         11.0  "
      ]
     },
     "execution_count": 72,
     "metadata": {},
     "output_type": "execute_result"
    }
   ],
   "source": [
    "# заполняем нулями данные по неполным месяцам\n",
    "df.loc[(df[\"month\"] < df[\"first_full_month\"]) | (df[\"month\"] > df[\"last_full_month\"]), [\"calls_dur\", \"messages\", \"gb_used\"]] = 0\n",
    "df.head(10)"
   ]
  },
  {
   "cell_type": "markdown",
   "metadata": {},
   "source": [
    "каждый абонент пользуется тарифом по-разному и разное кол-во месяцев, значит нужно сначала найти среднюю потребность в минутах, смс и гигабайтах для каждого абонента, а потом считать среднее для всех по тарифу"
   ]
  },
  {
   "cell_type": "code",
   "execution_count": 73,
   "metadata": {},
   "outputs": [
    {
     "data": {
      "text/html": [
       "<div>\n",
       "<style scoped>\n",
       "    .dataframe tbody tr th:only-of-type {\n",
       "        vertical-align: middle;\n",
       "    }\n",
       "\n",
       "    .dataframe tbody tr th {\n",
       "        vertical-align: top;\n",
       "    }\n",
       "\n",
       "    .dataframe thead th {\n",
       "        text-align: right;\n",
       "    }\n",
       "</style>\n",
       "<table border=\"1\" class=\"dataframe\">\n",
       "  <thead>\n",
       "    <tr style=\"text-align: right;\">\n",
       "      <th></th>\n",
       "      <th>calls_dur</th>\n",
       "      <th>gb_used</th>\n",
       "      <th>messages</th>\n",
       "      <th>full_months</th>\n",
       "      <th>tariff</th>\n",
       "    </tr>\n",
       "    <tr>\n",
       "      <th>user_id</th>\n",
       "      <th></th>\n",
       "      <th></th>\n",
       "      <th></th>\n",
       "      <th></th>\n",
       "      <th></th>\n",
       "    </tr>\n",
       "  </thead>\n",
       "  <tbody>\n",
       "    <tr>\n",
       "      <th>1000</th>\n",
       "      <td>2407.0</td>\n",
       "      <td>106.0</td>\n",
       "      <td>474.0</td>\n",
       "      <td>7.0</td>\n",
       "      <td>ultra</td>\n",
       "    </tr>\n",
       "    <tr>\n",
       "      <th>1001</th>\n",
       "      <td>844.0</td>\n",
       "      <td>32.0</td>\n",
       "      <td>0.0</td>\n",
       "      <td>2.0</td>\n",
       "      <td>smart</td>\n",
       "    </tr>\n",
       "    <tr>\n",
       "      <th>1002</th>\n",
       "      <td>1400.0</td>\n",
       "      <td>106.0</td>\n",
       "      <td>66.0</td>\n",
       "      <td>6.0</td>\n",
       "      <td>smart</td>\n",
       "    </tr>\n",
       "    <tr>\n",
       "      <th>1003</th>\n",
       "      <td>3442.0</td>\n",
       "      <td>50.0</td>\n",
       "      <td>343.0</td>\n",
       "      <td>4.0</td>\n",
       "      <td>ultra</td>\n",
       "    </tr>\n",
       "    <tr>\n",
       "      <th>1004</th>\n",
       "      <td>952.0</td>\n",
       "      <td>136.0</td>\n",
       "      <td>1097.0</td>\n",
       "      <td>7.0</td>\n",
       "      <td>ultra</td>\n",
       "    </tr>\n",
       "    <tr>\n",
       "      <th>...</th>\n",
       "      <td>...</td>\n",
       "      <td>...</td>\n",
       "      <td>...</td>\n",
       "      <td>...</td>\n",
       "      <td>...</td>\n",
       "    </tr>\n",
       "    <tr>\n",
       "      <th>1495</th>\n",
       "      <td>3828.0</td>\n",
       "      <td>124.0</td>\n",
       "      <td>327.0</td>\n",
       "      <td>4.0</td>\n",
       "      <td>ultra</td>\n",
       "    </tr>\n",
       "    <tr>\n",
       "      <th>1496</th>\n",
       "      <td>5936.0</td>\n",
       "      <td>266.0</td>\n",
       "      <td>459.0</td>\n",
       "      <td>11.0</td>\n",
       "      <td>smart</td>\n",
       "    </tr>\n",
       "    <tr>\n",
       "      <th>1497</th>\n",
       "      <td>916.0</td>\n",
       "      <td>34.0</td>\n",
       "      <td>31.0</td>\n",
       "      <td>2.0</td>\n",
       "      <td>smart</td>\n",
       "    </tr>\n",
       "    <tr>\n",
       "      <th>1498</th>\n",
       "      <td>1118.0</td>\n",
       "      <td>67.0</td>\n",
       "      <td>148.0</td>\n",
       "      <td>3.0</td>\n",
       "      <td>smart</td>\n",
       "    </tr>\n",
       "    <tr>\n",
       "      <th>1499</th>\n",
       "      <td>1553.0</td>\n",
       "      <td>49.0</td>\n",
       "      <td>173.0</td>\n",
       "      <td>3.0</td>\n",
       "      <td>smart</td>\n",
       "    </tr>\n",
       "  </tbody>\n",
       "</table>\n",
       "<p>470 rows × 5 columns</p>\n",
       "</div>"
      ],
      "text/plain": [
       "         calls_dur  gb_used  messages  full_months tariff\n",
       "user_id                                                  \n",
       "1000        2407.0    106.0     474.0          7.0  ultra\n",
       "1001         844.0     32.0       0.0          2.0  smart\n",
       "1002        1400.0    106.0      66.0          6.0  smart\n",
       "1003        3442.0     50.0     343.0          4.0  ultra\n",
       "1004         952.0    136.0    1097.0          7.0  ultra\n",
       "...            ...      ...       ...          ...    ...\n",
       "1495        3828.0    124.0     327.0          4.0  ultra\n",
       "1496        5936.0    266.0     459.0         11.0  smart\n",
       "1497         916.0     34.0      31.0          2.0  smart\n",
       "1498        1118.0     67.0     148.0          3.0  smart\n",
       "1499        1553.0     49.0     173.0          3.0  smart\n",
       "\n",
       "[470 rows x 5 columns]"
      ]
     },
     "execution_count": 73,
     "metadata": {},
     "output_type": "execute_result"
    }
   ],
   "source": [
    "# таблица с суммами использованных ресурсов и количеством месяцев их использования\n",
    "objective_data = df.groupby(\"user_id\").agg(\n",
    "    {\n",
    "        \"calls_dur\" : \"sum\",\n",
    "        \"gb_used\" : \"sum\",\n",
    "        \"messages\" : \"sum\",\n",
    "        \"full_months\" : \"first\",\n",
    "        \"tariff\" : \"first\"\n",
    "    }\n",
    ")\n",
    "objective_data"
   ]
  },
  {
   "cell_type": "code",
   "execution_count": 74,
   "metadata": {
    "scrolled": true
   },
   "outputs": [
    {
     "data": {
      "text/html": [
       "<div>\n",
       "<style scoped>\n",
       "    .dataframe tbody tr th:only-of-type {\n",
       "        vertical-align: middle;\n",
       "    }\n",
       "\n",
       "    .dataframe tbody tr th {\n",
       "        vertical-align: top;\n",
       "    }\n",
       "\n",
       "    .dataframe thead th {\n",
       "        text-align: right;\n",
       "    }\n",
       "</style>\n",
       "<table border=\"1\" class=\"dataframe\">\n",
       "  <thead>\n",
       "    <tr style=\"text-align: right;\">\n",
       "      <th></th>\n",
       "      <th>calls_dur</th>\n",
       "      <th>gb_used</th>\n",
       "      <th>messages</th>\n",
       "      <th>full_months</th>\n",
       "      <th>tariff</th>\n",
       "      <th>calls_mean</th>\n",
       "      <th>gb_mean</th>\n",
       "      <th>messages_mean</th>\n",
       "    </tr>\n",
       "    <tr>\n",
       "      <th>user_id</th>\n",
       "      <th></th>\n",
       "      <th></th>\n",
       "      <th></th>\n",
       "      <th></th>\n",
       "      <th></th>\n",
       "      <th></th>\n",
       "      <th></th>\n",
       "      <th></th>\n",
       "    </tr>\n",
       "  </thead>\n",
       "  <tbody>\n",
       "    <tr>\n",
       "      <th>1000</th>\n",
       "      <td>2407.0</td>\n",
       "      <td>106.0</td>\n",
       "      <td>474.0</td>\n",
       "      <td>7.0</td>\n",
       "      <td>ultra</td>\n",
       "      <td>343.857143</td>\n",
       "      <td>15.142857</td>\n",
       "      <td>67.714286</td>\n",
       "    </tr>\n",
       "    <tr>\n",
       "      <th>1001</th>\n",
       "      <td>844.0</td>\n",
       "      <td>32.0</td>\n",
       "      <td>0.0</td>\n",
       "      <td>2.0</td>\n",
       "      <td>smart</td>\n",
       "      <td>422.000000</td>\n",
       "      <td>16.000000</td>\n",
       "      <td>0.000000</td>\n",
       "    </tr>\n",
       "    <tr>\n",
       "      <th>1002</th>\n",
       "      <td>1400.0</td>\n",
       "      <td>106.0</td>\n",
       "      <td>66.0</td>\n",
       "      <td>6.0</td>\n",
       "      <td>smart</td>\n",
       "      <td>233.333333</td>\n",
       "      <td>17.666667</td>\n",
       "      <td>11.000000</td>\n",
       "    </tr>\n",
       "    <tr>\n",
       "      <th>1003</th>\n",
       "      <td>3442.0</td>\n",
       "      <td>50.0</td>\n",
       "      <td>343.0</td>\n",
       "      <td>4.0</td>\n",
       "      <td>ultra</td>\n",
       "      <td>860.500000</td>\n",
       "      <td>12.500000</td>\n",
       "      <td>85.750000</td>\n",
       "    </tr>\n",
       "    <tr>\n",
       "      <th>1004</th>\n",
       "      <td>952.0</td>\n",
       "      <td>136.0</td>\n",
       "      <td>1097.0</td>\n",
       "      <td>7.0</td>\n",
       "      <td>ultra</td>\n",
       "      <td>136.000000</td>\n",
       "      <td>19.428571</td>\n",
       "      <td>156.714286</td>\n",
       "    </tr>\n",
       "    <tr>\n",
       "      <th>...</th>\n",
       "      <td>...</td>\n",
       "      <td>...</td>\n",
       "      <td>...</td>\n",
       "      <td>...</td>\n",
       "      <td>...</td>\n",
       "      <td>...</td>\n",
       "      <td>...</td>\n",
       "      <td>...</td>\n",
       "    </tr>\n",
       "    <tr>\n",
       "      <th>1495</th>\n",
       "      <td>3828.0</td>\n",
       "      <td>124.0</td>\n",
       "      <td>327.0</td>\n",
       "      <td>4.0</td>\n",
       "      <td>ultra</td>\n",
       "      <td>957.000000</td>\n",
       "      <td>31.000000</td>\n",
       "      <td>81.750000</td>\n",
       "    </tr>\n",
       "    <tr>\n",
       "      <th>1496</th>\n",
       "      <td>5936.0</td>\n",
       "      <td>266.0</td>\n",
       "      <td>459.0</td>\n",
       "      <td>11.0</td>\n",
       "      <td>smart</td>\n",
       "      <td>539.636364</td>\n",
       "      <td>24.181818</td>\n",
       "      <td>41.727273</td>\n",
       "    </tr>\n",
       "    <tr>\n",
       "      <th>1497</th>\n",
       "      <td>916.0</td>\n",
       "      <td>34.0</td>\n",
       "      <td>31.0</td>\n",
       "      <td>2.0</td>\n",
       "      <td>smart</td>\n",
       "      <td>458.000000</td>\n",
       "      <td>17.000000</td>\n",
       "      <td>15.500000</td>\n",
       "    </tr>\n",
       "    <tr>\n",
       "      <th>1498</th>\n",
       "      <td>1118.0</td>\n",
       "      <td>67.0</td>\n",
       "      <td>148.0</td>\n",
       "      <td>3.0</td>\n",
       "      <td>smart</td>\n",
       "      <td>372.666667</td>\n",
       "      <td>22.333333</td>\n",
       "      <td>49.333333</td>\n",
       "    </tr>\n",
       "    <tr>\n",
       "      <th>1499</th>\n",
       "      <td>1553.0</td>\n",
       "      <td>49.0</td>\n",
       "      <td>173.0</td>\n",
       "      <td>3.0</td>\n",
       "      <td>smart</td>\n",
       "      <td>517.666667</td>\n",
       "      <td>16.333333</td>\n",
       "      <td>57.666667</td>\n",
       "    </tr>\n",
       "  </tbody>\n",
       "</table>\n",
       "<p>470 rows × 8 columns</p>\n",
       "</div>"
      ],
      "text/plain": [
       "         calls_dur  gb_used  messages  full_months tariff  calls_mean  \\\n",
       "user_id                                                                 \n",
       "1000        2407.0    106.0     474.0          7.0  ultra  343.857143   \n",
       "1001         844.0     32.0       0.0          2.0  smart  422.000000   \n",
       "1002        1400.0    106.0      66.0          6.0  smart  233.333333   \n",
       "1003        3442.0     50.0     343.0          4.0  ultra  860.500000   \n",
       "1004         952.0    136.0    1097.0          7.0  ultra  136.000000   \n",
       "...            ...      ...       ...          ...    ...         ...   \n",
       "1495        3828.0    124.0     327.0          4.0  ultra  957.000000   \n",
       "1496        5936.0    266.0     459.0         11.0  smart  539.636364   \n",
       "1497         916.0     34.0      31.0          2.0  smart  458.000000   \n",
       "1498        1118.0     67.0     148.0          3.0  smart  372.666667   \n",
       "1499        1553.0     49.0     173.0          3.0  smart  517.666667   \n",
       "\n",
       "           gb_mean  messages_mean  \n",
       "user_id                            \n",
       "1000     15.142857      67.714286  \n",
       "1001     16.000000       0.000000  \n",
       "1002     17.666667      11.000000  \n",
       "1003     12.500000      85.750000  \n",
       "1004     19.428571     156.714286  \n",
       "...            ...            ...  \n",
       "1495     31.000000      81.750000  \n",
       "1496     24.181818      41.727273  \n",
       "1497     17.000000      15.500000  \n",
       "1498     22.333333      49.333333  \n",
       "1499     16.333333      57.666667  \n",
       "\n",
       "[470 rows x 8 columns]"
      ]
     },
     "execution_count": 74,
     "metadata": {},
     "output_type": "execute_result"
    }
   ],
   "source": [
    "# добавляем средние для каждого абонента\n",
    "objective_data[\"calls_mean\"] = objective_data[\"calls_dur\"] / objective_data[\"full_months\"]\n",
    "objective_data[\"gb_mean\"] = objective_data[\"gb_used\"] / objective_data[\"full_months\"]\n",
    "objective_data[\"messages_mean\"] = objective_data[\"messages\"] / objective_data[\"full_months\"]\n",
    "objective_data"
   ]
  },
  {
   "cell_type": "code",
   "execution_count": 75,
   "metadata": {},
   "outputs": [
    {
     "data": {
      "text/html": [
       "<div>\n",
       "<style scoped>\n",
       "    .dataframe tbody tr th:only-of-type {\n",
       "        vertical-align: middle;\n",
       "    }\n",
       "\n",
       "    .dataframe tbody tr th {\n",
       "        vertical-align: top;\n",
       "    }\n",
       "\n",
       "    .dataframe thead th {\n",
       "        text-align: right;\n",
       "    }\n",
       "</style>\n",
       "<table border=\"1\" class=\"dataframe\">\n",
       "  <thead>\n",
       "    <tr style=\"text-align: right;\">\n",
       "      <th></th>\n",
       "      <th>calls_dur</th>\n",
       "      <th>gb_used</th>\n",
       "      <th>messages</th>\n",
       "      <th>full_months</th>\n",
       "      <th>tariff</th>\n",
       "      <th>calls_mean</th>\n",
       "      <th>gb_mean</th>\n",
       "      <th>messages_mean</th>\n",
       "    </tr>\n",
       "    <tr>\n",
       "      <th>user_id</th>\n",
       "      <th></th>\n",
       "      <th></th>\n",
       "      <th></th>\n",
       "      <th></th>\n",
       "      <th></th>\n",
       "      <th></th>\n",
       "      <th></th>\n",
       "      <th></th>\n",
       "    </tr>\n",
       "  </thead>\n",
       "  <tbody>\n",
       "    <tr>\n",
       "      <th>1002</th>\n",
       "      <td>1400.0</td>\n",
       "      <td>106.0</td>\n",
       "      <td>66.0</td>\n",
       "      <td>6.0</td>\n",
       "      <td>smart</td>\n",
       "      <td>233.333333</td>\n",
       "      <td>17.666667</td>\n",
       "      <td>11.0</td>\n",
       "    </tr>\n",
       "    <tr>\n",
       "      <th>1044</th>\n",
       "      <td>2408.0</td>\n",
       "      <td>137.0</td>\n",
       "      <td>77.0</td>\n",
       "      <td>7.0</td>\n",
       "      <td>smart</td>\n",
       "      <td>344.000000</td>\n",
       "      <td>19.571429</td>\n",
       "      <td>11.0</td>\n",
       "    </tr>\n",
       "    <tr>\n",
       "      <th>1362</th>\n",
       "      <td>2381.0</td>\n",
       "      <td>56.0</td>\n",
       "      <td>55.0</td>\n",
       "      <td>5.0</td>\n",
       "      <td>smart</td>\n",
       "      <td>476.200000</td>\n",
       "      <td>11.200000</td>\n",
       "      <td>11.0</td>\n",
       "    </tr>\n",
       "    <tr>\n",
       "      <th>1427</th>\n",
       "      <td>4940.0</td>\n",
       "      <td>126.0</td>\n",
       "      <td>99.0</td>\n",
       "      <td>9.0</td>\n",
       "      <td>smart</td>\n",
       "      <td>548.888889</td>\n",
       "      <td>14.000000</td>\n",
       "      <td>11.0</td>\n",
       "    </tr>\n",
       "  </tbody>\n",
       "</table>\n",
       "</div>"
      ],
      "text/plain": [
       "         calls_dur  gb_used  messages  full_months tariff  calls_mean  \\\n",
       "user_id                                                                 \n",
       "1002        1400.0    106.0      66.0          6.0  smart  233.333333   \n",
       "1044        2408.0    137.0      77.0          7.0  smart  344.000000   \n",
       "1362        2381.0     56.0      55.0          5.0  smart  476.200000   \n",
       "1427        4940.0    126.0      99.0          9.0  smart  548.888889   \n",
       "\n",
       "           gb_mean  messages_mean  \n",
       "user_id                            \n",
       "1002     17.666667           11.0  \n",
       "1044     19.571429           11.0  \n",
       "1362     11.200000           11.0  \n",
       "1427     14.000000           11.0  "
      ]
     },
     "execution_count": 75,
     "metadata": {},
     "output_type": "execute_result"
    }
   ],
   "source": [
    "objective_data[(objective_data['messages_mean'] == 11) & (objective_data['messages_mean'] < 67.71429)]"
   ]
  },
  {
   "cell_type": "code",
   "execution_count": 76,
   "metadata": {
    "scrolled": true
   },
   "outputs": [
    {
     "data": {
      "text/html": [
       "<div>\n",
       "<style scoped>\n",
       "    .dataframe tbody tr th:only-of-type {\n",
       "        vertical-align: middle;\n",
       "    }\n",
       "\n",
       "    .dataframe tbody tr th {\n",
       "        vertical-align: top;\n",
       "    }\n",
       "\n",
       "    .dataframe thead th {\n",
       "        text-align: right;\n",
       "    }\n",
       "</style>\n",
       "<table border=\"1\" class=\"dataframe\">\n",
       "  <thead>\n",
       "    <tr style=\"text-align: right;\">\n",
       "      <th></th>\n",
       "      <th>calls_mean</th>\n",
       "      <th>gb_mean</th>\n",
       "      <th>messages_mean</th>\n",
       "    </tr>\n",
       "    <tr>\n",
       "      <th>tariff</th>\n",
       "      <th></th>\n",
       "      <th></th>\n",
       "      <th></th>\n",
       "    </tr>\n",
       "  </thead>\n",
       "  <tbody>\n",
       "    <tr>\n",
       "      <th>smart</th>\n",
       "      <td>468.022890</td>\n",
       "      <td>18.121106</td>\n",
       "      <td>35.783880</td>\n",
       "    </tr>\n",
       "    <tr>\n",
       "      <th>ultra</th>\n",
       "      <td>586.005817</td>\n",
       "      <td>21.648727</td>\n",
       "      <td>58.967159</td>\n",
       "    </tr>\n",
       "  </tbody>\n",
       "</table>\n",
       "</div>"
      ],
      "text/plain": [
       "        calls_mean    gb_mean  messages_mean\n",
       "tariff                                      \n",
       "smart   468.022890  18.121106      35.783880\n",
       "ultra   586.005817  21.648727      58.967159"
      ]
     },
     "execution_count": 76,
     "metadata": {},
     "output_type": "execute_result"
    }
   ],
   "source": [
    "# средние по тарифам средних по пользователям\n",
    "x = objective_data.pivot_table(index=\"tariff\", values=[\"calls_mean\", \"messages_mean\", \"gb_mean\"])\n",
    "x"
   ]
  },
  {
   "cell_type": "markdown",
   "metadata": {},
   "source": [
    "Посмотрим на распределение"
   ]
  },
  {
   "cell_type": "code",
   "execution_count": 77,
   "metadata": {
    "scrolled": true
   },
   "outputs": [
    {
     "data": {
      "image/png": "[encoded data removed]",
      "text/plain": [
       "<Figure size 432x288 with 1 Axes>"
      ]
     },
     "metadata": {
      "needs_background": "light"
     },
     "output_type": "display_data"
    },
    {
     "name": "stdout",
     "output_type": "stream",
     "text": [
      "\n",
      "для тарифа Smart\n",
      "\n",
      "среднее:  468.0228897203744\n",
      "стандартное отклонение:  1690.1196427038058\n",
      "дисперсия:  31749.03945549684\n",
      "\n",
      "для тарифа Ultra\n",
      "\n",
      "среднее:  586.0058169725421\n",
      "стандартное отклонение:  326.55858835917184\n",
      "дисперсия:  106640.51163113504\n"
     ]
    },
    {
     "data": {
      "image/png": "[encoded data removed]",
      "text/plain": [
       "<Figure size 432x288 with 1 Axes>"
      ]
     },
     "metadata": {
      "needs_background": "light"
     },
     "output_type": "display_data"
    },
    {
     "name": "stdout",
     "output_type": "stream",
     "text": [
      "\n",
      "для тарифа Smart\n",
      "\n",
      "среднее:  18.12110598581635\n",
      "стандартное отклонение:  4.606740999278242\n",
      "дисперсия:  21.222062634431094\n",
      "\n",
      "для тарифа Ultra\n",
      "\n",
      "среднее:  21.64872746580493\n",
      "стандартное отклонение:  9.42459233416051\n",
      "дисперсия:  88.82294066511703\n"
     ]
    },
    {
     "data": {
      "image/png": "[encoded data removed]",
      "text/plain": [
       "<Figure size 432x288 with 1 Axes>"
      ]
     },
     "metadata": {
      "needs_background": "light"
     },
     "output_type": "display_data"
    },
    {
     "name": "stdout",
     "output_type": "stream",
     "text": [
      "\n",
      "для тарифа Smart\n",
      "\n",
      "среднее:  35.783880178087486\n",
      "стандартное отклонение:  35.783880178087486\n",
      "дисперсия:  35.783880178087486\n",
      "\n",
      "для тарифа Ultra\n",
      "\n",
      "среднее:  58.967159014694246\n",
      "стандартное отклонение:  50.50355601307557\n",
      "дисперсия:  2550.609169965861\n"
     ]
    }
   ],
   "source": [
    "# группируем по тарифам\n",
    "smart = objective_data[objective_data[\"tariff\"] == \"smart\"]\n",
    "ultra = objective_data[objective_data[\"tariff\"] != \"smart\"]\n",
    "# строим гистограммы и рассчитываем показатели\n",
    "plt.title(\"Распределение использованных минут разговора\")\n",
    "plt.hist(ultra[\"calls_mean\"], bins=10, alpha=0.7, label=\"ultra\")\n",
    "plt.hist(smart[\"calls_mean\"], bins=10, alpha=0.7, label=\"smart\")\n",
    "plt.legend()\n",
    "plt.grid()\n",
    "plt.show()\n",
    "\n",
    "print(\"\\nдля тарифа Smart\\n\")\n",
    "print(\"среднее: \", smart[\"calls_mean\"].mean())\n",
    "print(\"стандартное отклонение: \", smart[\"calls_dur\"].std())\n",
    "print(\"дисперсия: \", smart[\"calls_mean\"].var())\n",
    "\n",
    "print(\"\\nдля тарифа Ultra\\n\")\n",
    "print(\"среднее: \", ultra[\"calls_mean\"].mean())\n",
    "print(\"стандартное отклонение: \", ultra[\"calls_mean\"].std())\n",
    "print(\"дисперсия: \", ultra[\"calls_mean\"].var())\n",
    "\n",
    "\n",
    "plt.figure()\n",
    "plt.title(\"Распределение использованных гигобайт трафика\")\n",
    "plt.hist(ultra[\"gb_mean\"], bins=9, alpha=0.7, label=\"ultra\")\n",
    "plt.hist(smart[\"gb_mean\"], bins=9, alpha=0.7, label=\"smart\")\n",
    "plt.legend()\n",
    "plt.grid()\n",
    "plt.show()\n",
    "\n",
    "print(\"\\nдля тарифа Smart\\n\")\n",
    "print(\"среднее: \", smart[\"gb_mean\"].mean())\n",
    "print(\"стандартное отклонение: \", smart[\"gb_mean\"].std())\n",
    "print(\"дисперсия: \", smart[\"gb_mean\"].var())\n",
    "\n",
    "print(\"\\nдля тарифа Ultra\\n\")\n",
    "print(\"среднее: \", ultra[\"gb_mean\"].mean())\n",
    "print(\"стандартное отклонение: \", ultra[\"gb_mean\"].std())\n",
    "print(\"дисперсия: \", ultra[\"gb_mean\"].var())\n",
    "\n",
    "plt.figure()\n",
    "plt.title(\"Распределение использованных сообщений\")\n",
    "plt.hist(ultra[\"messages_mean\"], bins=9, alpha=0.7, label=\"ultra\")\n",
    "plt.hist(smart[\"messages_mean\"], bins=9, alpha=0.7, label=\"smart\")\n",
    "plt.legend()\n",
    "plt.grid()\n",
    "plt.show()\n",
    "\n",
    "print(\"\\nдля тарифа Smart\\n\")\n",
    "print(\"среднее: \", smart[\"messages_mean\"].mean())\n",
    "print(\"стандартное отклонение: \", smart[\"messages_mean\"].mean())\n",
    "print(\"дисперсия: \", smart[\"messages_mean\"].mean())\n",
    "\n",
    "print(\"\\nдля тарифа Ultra\\n\")\n",
    "print(\"среднее: \", ultra[\"messages_mean\"].mean())\n",
    "print(\"стандартное отклонение: \", ultra[\"messages_mean\"].std())\n",
    "print(\"дисперсия: \", ultra[\"messages_mean\"].var())\n",
    "\n"
   ]
  },
  {
   "cell_type": "markdown",
   "metadata": {},
   "source": [
    "<div style=\"border:solid Orange 2px; padding: 40px\">\n",
    "<div class=\"alert alert-warning\">\n",
    "    <h2> Комментарий ревьюера <a class=\"tocSkip\"> </h2>\n",
    "    \n",
    "<font color='Orange'><b>Некоторые рекомендации 💡:</b> </font>        \n",
    "\n",
    "Можно было не высчитывать среднее по каждому клиенту изначально, а отправить в гистограмму все данные, ведь нам не важно сколько тратит каждый пользователь в отдельности, нам по заданию важно сколько тратят в среднем пользователи в месяц.\n",
    "        \n",
    "Что неполных месяцев, для сотового оператора, это нормальная практика, когда абоненты уходят и приходят. Мы же рассматриваем с точки зрения оператора, а не пользователя. Удалив первый и последний месяц у некоторых пользователей, сумма выручки помесячно получится заниженной для оператора, а средняя по месяцу, получится завышенной.\n",
    "        \n",
    "</div>"
   ]
  },
  {
   "cell_type": "markdown",
   "metadata": {},
   "source": [
    "<div class = \"alert alert-info\" style=\"border-left: 7px solid blue\">\n",
    "<b>выручки посчитаны выше и учтены все месяцы. здесь я удаляю неполные месяцы для того, чтобы понять, сколько клиентам нужно ресурсов в среднем по месяцу. неполные месяцы занизят данные. а среднее по клиенту я считаю исходя из того, что разные клиенты пользовались тарифом по-разному разное количество месяцев, соответственно, если я 9 дней ел по одному яблоку, а ты за 1 день съела 11, то получится, что в среднем нам в день надо 2 яблока, а если считать среднее наших средних, то 6. мне кажется, что второй вариант лучше отражает действительность поведения нас как группы. в общем задание \"описать поведение\" я трактовал так. Я что-то недопонимаю?</b>\n",
    "    \n",
    "</div>"
   ]
  },
  {
   "cell_type": "markdown",
   "metadata": {},
   "source": [
    "<div style=\"border:solid Green 2px; padding: 40px\">\n",
    "<div class=\"alert alert-success\">\n",
    "<h2> Комментарий ревьюера_V2 <a class=\"tocSkip\"> </h2>\n",
    "\n",
    "<font color='green'><b>Все отлично! 👍:</b>  </font>\n",
    "\n",
    "В целом я понимаю твою логику. В задании было\n",
    "    \n",
    "    > Сколько минут разговора, сколько сообщений и какой объём интернет-трафика требуется пользователям каждого тарифа в месяц?\n",
    "\n",
    "Исходя из слов \"требуется пользователям\" ты и трактовал с точки зрения потребности пользователя. Но изначально задача стояла с точки зрения сотового оператора. Давай на яблоках, раз уж взяли их за пример. Предположим в магазие фруктов прикидывают, сколько надо закупить овощей, чтобы покрыть потребность своих покупателей в следующем месяце. В прошлом месяце, ты каждый день покупал по 2 яблока (итого 60 яблоков в месяц), а я в начале месяца купила 4 яблока и больше не захотела, это не значит, что в следующем месяце я не захочу опять их купить. При твоем расчете с откидыванием неполных месяцев, получается, что продавец не учитывает данные по мне и считает, что на каждого покупателя надо привезти 60 яблок (60 делим на одного тебя, т.к. по мне и числитель (яблоки) ушел и знаменатель (я)), зафиксировал себе эту среднюю. Продавец видит, что в следующем месяце, я планирую опять покупать яблоки (или не я, а кто-то новенький, мы помним что покупатели постоянно приходят и уходят и часто не с первого числа месяца). Считает, ага их двое, значит надо привезти 120 яблок (60*2), а по факту мы опять съедаем вместе 64 яблока. Остальные 56 штук стухли. Продавец в убытке. А вот если бы он сразу считал на всех данных (мы же помним про постоянную текучку покупателей), получил бы среднюю 32 яблока - (60+4 поделить на 2 человека), закупил 32 яблока, в следующем месяце их все продал. \n",
    "    \n",
    "А что касается усредненных данных по каждому пользователю в гистограмме, получается, т.к. я уже усреднена то я и попаду со значением 2 яблока на график, всегда ровненько и без скачков. А в случае без предварительного усреднения было бы видно, что в какой-то день я вылезла за предел своей нормы аж в 5 с лишним раз. \n",
    "    \n",
    "Надеюсь смогла донести свою мысль. И твоя версия и моя версия может существовать, на практике отталкиваются от ТЗ заказчика.\n",
    "    \n",
    "</div>"
   ]
  },
  {
   "cell_type": "markdown",
   "metadata": {},
   "source": [
    "### Вывод"
   ]
  },
  {
   "cell_type": "markdown",
   "metadata": {},
   "source": [
    "Мы видим, что пользователей тарифа смарт значительно больше и для них в противопоставление пользователям тарифа ультра характерна скученность в районе среднего значения по использованию минут разговора и интернет трафика, которое в свю очередь находится в районе максимального значения ресурсов пакета. Интернета им в среднем немного не хватает. Распределение стремится к нормальному.\n",
    "у абонентов ультры в среднем остается много лишнего трафика, но на графике присутствует всплеск в районе максимального значения пакета, то есть определенной категории нужен весь пакет, но в целом в средней они пользуются трафиком не намного больше абонентов смарта\n",
    "По сообщениям всё предсказуемо. пики по обоим тарифам находятся на 0 по понятным причинам. Абонентам смарта в среднем хватает пакета из 50 сообщений, но есть и те, кто использует в 2 раза больше.\n",
    "дисперсия ультры значительно привышает дисперсию смарта по всем трем показателям. разброс значений значительно больше\n",
    "1000 сообщений не нужна никому, как и 3000 минут разговора"
   ]
  },
  {
   "cell_type": "markdown",
   "metadata": {},
   "source": [
    "<div style=\"border:solid Red 2px; padding: 40px\">\n",
    "    <div class=\"alert alert-block alert-danger\">\n",
    "<h2> Комментарий ревьюера <a class=\"tocSkip\"></h2>\n",
    "\n",
    "<font color='red'><b>На доработку ❌:</b>  </font>\n",
    "    \n",
    "Чтобы получилась полная картина анализа, стоит добавить анализ выручки на данном этапе. Не зря же мы ее считали. Суммарную выручку, гистограммы, статистику, можно посмотреть среднюю выручку на одного пользователя. Дополни выводы.\n",
    "    \n",
    "</div>"
   ]
  },
  {
   "cell_type": "code",
   "execution_count": 78,
   "metadata": {},
   "outputs": [
    {
     "data": {
      "text/plain": [
       "tariff\n",
       "smart    2875351.0\n",
       "ultra    2039100.0\n",
       "Name: total_income, dtype: float64"
      ]
     },
     "metadata": {},
     "output_type": "display_data"
    },
    {
     "data": {
      "text/plain": [
       "tariff\n",
       "smart    0.590048\n",
       "ultra    0.418442\n",
       "Name: total_income, dtype: float64"
      ]
     },
     "execution_count": 78,
     "metadata": {},
     "output_type": "execute_result"
    }
   ],
   "source": [
    "# общая выручка по тарифам\n",
    "display(money.groupby(\"tariff\")[\"total_income\"].sum())\n",
    "# доля\n",
    "money.groupby(\"tariff\")[\"total_income\"].sum() / df.groupby(\"tariff\")[\"total_income\"].sum().sum() "
   ]
  },
  {
   "cell_type": "code",
   "execution_count": 79,
   "metadata": {},
   "outputs": [
    {
     "data": {
      "text/plain": [
       "Text(0.5, 1.0, 'Выручка за год')"
      ]
     },
     "execution_count": 79,
     "metadata": {},
     "output_type": "execute_result"
    },
    {
     "data": {
      "image/png": "[encoded data removed]",
      "text/plain": [
       "<Figure size 216x432 with 1 Axes>"
      ]
     },
     "metadata": {
      "needs_background": "light"
     },
     "output_type": "display_data"
    },
    {
     "data": {
      "image/png": "[encoded data removed]",
      "text/plain": [
       "<Figure size 216x432 with 1 Axes>"
      ]
     },
     "metadata": {
      "needs_background": "light"
     },
     "output_type": "display_data"
    }
   ],
   "source": [
    "x = money.groupby(\"tariff\")[\"total_income\"].mean()\n",
    "plt.figure(figsize=(3, 6))\n",
    "plt.bar(x.index, x)\n",
    "plt.grid()\n",
    "plt.title(\"Средняя выручка с клиента в месяц\")\n",
    "\n",
    "y = money.groupby(\"tariff\")[\"total_income\"].sum()\n",
    "plt.figure(figsize=(3, 6))\n",
    "plt.bar(y.index, y)\n",
    "plt.grid()\n",
    "plt.title(\"Выручка за год\")\n"
   ]
  },
  {
   "cell_type": "markdown",
   "metadata": {},
   "source": [
    "<div style=\"border:solid Green 2px; padding: 40px\">\n",
    "<div class=\"alert alert-success\">\n",
    "<h2> Комментарий ревьюера_V2 <a class=\"tocSkip\"> </h2>\n",
    "\n",
    "<font color='green'><b>Все отлично! 👍:</b>  </font>\n",
    "\n",
    "Хочу показать еще на примере расчета выручки. Если взять общую сводну таблицу, и не усреднять сначала данные по пользователю, то на графике можно увидеть данные всех пользователей за все месяца и оценить редкие превышения на хвостах графика. \n",
    "    \n",
    "</div>"
   ]
  },
  {
   "cell_type": "code",
   "execution_count": 80,
   "metadata": {
    "scrolled": false
   },
   "outputs": [
    {
     "data": {
      "text/plain": [
       "<matplotlib.legend.Legend at 0x17a31e362b0>"
      ]
     },
     "execution_count": 80,
     "metadata": {},
     "output_type": "execute_result"
    },
    {
     "data": {
      "image/png": "[encoded data removed]",
      "text/plain": [
       "<Figure size 432x288 with 1 Axes>"
      ]
     },
     "metadata": {
      "needs_background": "light"
     },
     "output_type": "display_data"
    }
   ],
   "source": [
    "smart2 = df[df[\"tariff\"] == \"smart\"]\n",
    "ultra2 = df[df[\"tariff\"] != \"smart\"]\n",
    "plt.hist(ultra2[\"total_income\"], bins=10, alpha=0.7, label=\"ultra\")\n",
    "plt.hist(smart2[\"total_income\"], bins=10, alpha=0.7, label=\"smart\")\n",
    "plt.legend()\n"
   ]
  },
  {
   "cell_type": "markdown",
   "metadata": {},
   "source": [
    "## ВЫВОД"
   ]
  },
  {
   "cell_type": "markdown",
   "metadata": {},
   "source": [
    "Было проведено исследование двух тарифов, чтобы определить перспективность каждого из них.\n",
    "В результате исследования можно сделать вывод:\n",
    "\n",
    "Выручка с каждого клиента в месяц по тарифу \"Ultra\" значительно выше, чем по тарифу \"Smart\", однако общая выручка тарифа Смарт за год превышает выручку тарифа Ультра . Это более доступный и более популярный тариф.\n",
    "Не смотря на более низкие выручки с каждого клиента, основную массу клиентов тариф Ультра, вероятнее всего, не привлечет.\n",
    "\n",
    "Считаю переспективным добавить несколько гигабайт трафика в тариф Смарт и немного увеличить цену, ибо на лицо некоторый дефицит трафика. Никто не любит, когда интернет заканчивается. Бабушка захочет посмотреть твой инстаграм, а у тебя ни одной новой фотки, потому что ты не можешь выйти в интернет. Не стоит расстраивать бабушку.\n",
    "\n",
    "Но в целом с тарифом Смарт и так всё в порядке. он явно перспективнее Ультры, которая в свою очередь тоже нужна для определенной публики. Туда можно закинуть еще эсэмэсок и добавить тыщу к цене, думаю, любители этого тарифа ничего не заметят )\n",
    "\n",
    "КОНЕЦ.\n"
   ]
  },
  {
   "cell_type": "markdown",
   "metadata": {},
   "source": [
    "<div style=\"border:solid Green 2px; padding: 40px\">\n",
    "<div class=\"alert alert-success\">\n",
    "<h2> Комментарий ревьюера <a class=\"tocSkip\"> </h2>\n",
    "\n",
    "<font color='green'><b>Все отлично! 👍:</b>  </font>\n",
    "    \n",
    "В целом, основные моменты в выводах учтены, общий вывод отвечает на поставленный в задаче вопрос. \n",
    "На сколько рады увеличению стоимости тарифа будут те пользователи тарифа Смарт, кто вписывается в текущие лимиты? Ведь бабушка вписывается в тариф, а ей ценник поднимут. Не стоит расстраивать бабушку :) Это может грозить потерей лояльности клиентов, а судя по анализу, клиентов на тарифе Смарт - большинство.\n",
    "    \n",
    "</div>"
   ]
  },
  {
   "cell_type": "markdown",
   "metadata": {},
   "source": [
    "<div style=\"border:solid Chocolate 2px; padding: 40px\">\n",
    "\n",
    "**Общий вывод по проекту**\n",
    "\n",
    "Паша, спасибо за твой проект! Проделана большая работа, и видно твое внимательное отношение к содержанию анализа и к оформлению. Ты молодец! Все ключевые этапы работы над проектом выполнены, код логичен и понятен, комментарии и выводы написаны, так что в целом справиться с задачей тебе удалось. Возле моментов, на которые стоит обратить внимание, я оставила комментарии.\n",
    "    \n",
    "**Отдельно хочу отметить положительные моменты в твоей работе:**\n",
    "    \n",
    "* Очень хорошо расписаны комментарии и план решения на каждом этапе проекта, становится понятен твой ход мысли. В будущем при необходимости вернуться к проекту, тебе тоже будет легко вспомнить логику анализа.\n",
    "* На всех этапах тобой предложены интересные решения и методы для их реализации.\n",
    "* Ты логично делаешь выводы, на основе полученной информации.\n",
    "\n",
    "**Моменты, требующие внимания:**\n",
    "    \n",
    "* Обрати внимание на обработку пропусков.\n",
    "* Пересмотри подход к округлению минут и интернет-трафика.\n",
    "* Добавь в 5 раздел анализ выручки.  \n",
    "* Остальные рекомендации ты найдешь в моих комментариях!  \n",
    "    \n",
    "\n",
    "    \n",
    "**Желаю удачи и жду твой проект на повторное ревью!** "
   ]
  },
  {
   "cell_type": "markdown",
   "metadata": {},
   "source": [
    "<div style=\"border:solid Green 2px; padding: 40px\">\n",
    "\n",
    "<h3> Комментарий ревьюера_V2 <a class=\"tocSkip\"> </h3>\n",
    "\n",
    "\n",
    "Спасибо за доработку. Проект принят. Желаю удачи в дальнейшем обучении.\n",
    "    \n",
    "</div>"
   ]
  }
 ],
 "metadata": {
  "ExecuteTimeLog": [
   {
    "duration": 1496,
    "start_time": "2022-05-13T09:00:02.207Z"
   },
   {
    "duration": 22,
    "start_time": "2022-05-13T09:00:03.724Z"
   },
   {
    "duration": 18,
    "start_time": "2022-05-13T09:00:03.747Z"
   },
   {
    "duration": 13,
    "start_time": "2022-05-13T09:00:03.768Z"
   },
   {
    "duration": 33,
    "start_time": "2022-05-13T09:00:03.783Z"
   },
   {
    "duration": 17,
    "start_time": "2022-05-13T09:00:03.818Z"
   },
   {
    "duration": 30,
    "start_time": "2022-05-13T09:00:03.837Z"
   },
   {
    "duration": 19,
    "start_time": "2022-05-13T09:00:03.869Z"
   },
   {
    "duration": 42,
    "start_time": "2022-05-13T09:00:03.890Z"
   },
   {
    "duration": 47,
    "start_time": "2022-05-13T09:00:03.935Z"
   },
   {
    "duration": 19,
    "start_time": "2022-05-13T09:00:03.984Z"
   },
   {
    "duration": 27,
    "start_time": "2022-05-13T09:00:04.005Z"
   },
   {
    "duration": 39,
    "start_time": "2022-05-13T09:00:04.034Z"
   },
   {
    "duration": 5,
    "start_time": "2022-05-13T09:00:04.075Z"
   },
   {
    "duration": 111,
    "start_time": "2022-05-13T09:00:04.082Z"
   },
   {
    "duration": 10,
    "start_time": "2022-05-13T09:00:04.195Z"
   },
   {
    "duration": 22,
    "start_time": "2022-05-13T09:00:04.206Z"
   },
   {
    "duration": 13,
    "start_time": "2022-05-13T09:00:04.230Z"
   },
   {
    "duration": 42,
    "start_time": "2022-05-13T09:00:04.245Z"
   },
   {
    "duration": 38,
    "start_time": "2022-05-13T09:00:04.288Z"
   },
   {
    "duration": 25,
    "start_time": "2022-05-13T09:00:04.328Z"
   },
   {
    "duration": 17,
    "start_time": "2022-05-13T09:00:04.355Z"
   },
   {
    "duration": 49,
    "start_time": "2022-05-13T09:00:04.374Z"
   },
   {
    "duration": 25,
    "start_time": "2022-05-13T09:00:04.425Z"
   },
   {
    "duration": 11,
    "start_time": "2022-05-13T09:00:04.452Z"
   },
   {
    "duration": 44,
    "start_time": "2022-05-13T09:00:04.464Z"
   },
   {
    "duration": 12,
    "start_time": "2022-05-13T09:00:04.522Z"
   },
   {
    "duration": 18,
    "start_time": "2022-05-13T09:00:04.538Z"
   },
   {
    "duration": 15,
    "start_time": "2022-05-13T09:00:04.558Z"
   },
   {
    "duration": 7,
    "start_time": "2022-05-13T09:00:04.575Z"
   },
   {
    "duration": 15,
    "start_time": "2022-05-13T09:00:04.583Z"
   },
   {
    "duration": 11,
    "start_time": "2022-05-13T09:00:04.623Z"
   },
   {
    "duration": 42,
    "start_time": "2022-05-13T09:00:04.636Z"
   },
   {
    "duration": 144,
    "start_time": "2022-05-13T09:00:04.679Z"
   },
   {
    "duration": 49,
    "start_time": "2022-05-13T09:00:04.825Z"
   },
   {
    "duration": 79,
    "start_time": "2022-05-13T09:00:04.876Z"
   },
   {
    "duration": 31,
    "start_time": "2022-05-13T09:00:04.957Z"
   },
   {
    "duration": 82,
    "start_time": "2022-05-13T09:00:04.989Z"
   },
   {
    "duration": 14,
    "start_time": "2022-05-13T09:00:05.073Z"
   },
   {
    "duration": 585,
    "start_time": "2022-05-13T09:01:31.739Z"
   },
   {
    "duration": 19,
    "start_time": "2022-05-13T09:01:32.326Z"
   },
   {
    "duration": 5,
    "start_time": "2022-05-13T09:01:32.347Z"
   },
   {
    "duration": 4,
    "start_time": "2022-05-13T09:01:32.354Z"
   },
   {
    "duration": 14,
    "start_time": "2022-05-13T09:01:32.360Z"
   },
   {
    "duration": 10,
    "start_time": "2022-05-13T09:01:32.376Z"
   },
   {
    "duration": 41,
    "start_time": "2022-05-13T09:01:32.387Z"
   },
   {
    "duration": 4,
    "start_time": "2022-05-13T09:01:32.429Z"
   },
   {
    "duration": 8,
    "start_time": "2022-05-13T09:01:32.435Z"
   },
   {
    "duration": 7,
    "start_time": "2022-05-13T09:01:32.446Z"
   },
   {
    "duration": 14,
    "start_time": "2022-05-13T09:01:32.454Z"
   },
   {
    "duration": 13,
    "start_time": "2022-05-13T09:01:32.470Z"
   },
   {
    "duration": 66,
    "start_time": "2022-05-13T09:01:32.484Z"
   },
   {
    "duration": 6,
    "start_time": "2022-05-13T09:01:32.551Z"
   },
   {
    "duration": 16,
    "start_time": "2022-05-13T09:01:32.558Z"
   },
   {
    "duration": 8,
    "start_time": "2022-05-13T09:01:32.576Z"
   },
   {
    "duration": 41,
    "start_time": "2022-05-13T09:01:32.585Z"
   },
   {
    "duration": 12,
    "start_time": "2022-05-13T09:01:32.628Z"
   },
   {
    "duration": 40,
    "start_time": "2022-05-13T09:01:32.642Z"
   },
   {
    "duration": 15,
    "start_time": "2022-05-13T09:01:32.684Z"
   },
   {
    "duration": 41,
    "start_time": "2022-05-13T09:01:32.701Z"
   },
   {
    "duration": 12,
    "start_time": "2022-05-13T09:01:32.743Z"
   },
   {
    "duration": 24,
    "start_time": "2022-05-13T09:01:32.757Z"
   },
   {
    "duration": 51,
    "start_time": "2022-05-13T09:01:32.783Z"
   },
   {
    "duration": 10,
    "start_time": "2022-05-13T09:01:32.836Z"
   },
   {
    "duration": 31,
    "start_time": "2022-05-13T09:01:32.848Z"
   },
   {
    "duration": 12,
    "start_time": "2022-05-13T09:01:32.880Z"
   },
   {
    "duration": 16,
    "start_time": "2022-05-13T09:01:32.922Z"
   },
   {
    "duration": 16,
    "start_time": "2022-05-13T09:01:32.940Z"
   },
   {
    "duration": 6,
    "start_time": "2022-05-13T09:01:32.958Z"
   },
   {
    "duration": 3,
    "start_time": "2022-05-13T09:01:32.966Z"
   },
   {
    "duration": 16,
    "start_time": "2022-05-13T09:01:32.971Z"
   },
   {
    "duration": 58,
    "start_time": "2022-05-13T09:01:32.989Z"
   },
   {
    "duration": 137,
    "start_time": "2022-05-13T09:01:33.049Z"
   },
   {
    "duration": 54,
    "start_time": "2022-05-13T09:01:33.188Z"
   },
   {
    "duration": 57,
    "start_time": "2022-05-13T09:01:33.243Z"
   },
   {
    "duration": 48,
    "start_time": "2022-05-13T09:01:33.301Z"
   },
   {
    "duration": 72,
    "start_time": "2022-05-13T09:01:33.351Z"
   },
   {
    "duration": 13,
    "start_time": "2022-05-13T09:01:33.425Z"
   },
   {
    "duration": 67,
    "start_time": "2022-05-13T09:04:04.542Z"
   },
   {
    "duration": 9,
    "start_time": "2022-05-13T09:05:51.075Z"
   },
   {
    "duration": 9,
    "start_time": "2022-05-13T09:12:07.529Z"
   },
   {
    "duration": 3803,
    "start_time": "2022-05-13T09:16:02.253Z"
   },
   {
    "duration": 561,
    "start_time": "2022-05-13T09:16:16.803Z"
   },
   {
    "duration": 19,
    "start_time": "2022-05-13T09:16:17.367Z"
   },
   {
    "duration": 4,
    "start_time": "2022-05-13T09:16:17.388Z"
   },
   {
    "duration": 5,
    "start_time": "2022-05-13T09:16:17.422Z"
   },
   {
    "duration": 13,
    "start_time": "2022-05-13T09:16:17.429Z"
   },
   {
    "duration": 7,
    "start_time": "2022-05-13T09:16:17.444Z"
   },
   {
    "duration": 10,
    "start_time": "2022-05-13T09:16:17.453Z"
   },
   {
    "duration": 6,
    "start_time": "2022-05-13T09:16:17.464Z"
   },
   {
    "duration": 15,
    "start_time": "2022-05-13T09:16:17.472Z"
   },
   {
    "duration": 36,
    "start_time": "2022-05-13T09:16:17.490Z"
   },
   {
    "duration": 12,
    "start_time": "2022-05-13T09:16:17.528Z"
   },
   {
    "duration": 9,
    "start_time": "2022-05-13T09:16:17.542Z"
   },
   {
    "duration": 41,
    "start_time": "2022-05-13T09:16:17.553Z"
   },
   {
    "duration": 4,
    "start_time": "2022-05-13T09:16:17.596Z"
   },
   {
    "duration": 16,
    "start_time": "2022-05-13T09:16:17.623Z"
   },
   {
    "duration": 8,
    "start_time": "2022-05-13T09:16:17.640Z"
   },
   {
    "duration": 8,
    "start_time": "2022-05-13T09:16:17.650Z"
   },
   {
    "duration": 13,
    "start_time": "2022-05-13T09:16:17.659Z"
   },
   {
    "duration": 71,
    "start_time": "2022-05-13T09:16:17.673Z"
   },
   {
    "duration": 15,
    "start_time": "2022-05-13T09:16:17.746Z"
   },
   {
    "duration": 18,
    "start_time": "2022-05-13T09:16:17.762Z"
   },
   {
    "duration": 11,
    "start_time": "2022-05-13T09:16:17.782Z"
   },
   {
    "duration": 50,
    "start_time": "2022-05-13T09:16:17.795Z"
   },
   {
    "duration": 22,
    "start_time": "2022-05-13T09:16:17.847Z"
   },
   {
    "duration": 10,
    "start_time": "2022-05-13T09:16:17.870Z"
   },
   {
    "duration": 56,
    "start_time": "2022-05-13T09:16:17.882Z"
   },
   {
    "duration": 11,
    "start_time": "2022-05-13T09:16:17.939Z"
   },
   {
    "duration": 34,
    "start_time": "2022-05-13T09:16:17.954Z"
   },
   {
    "duration": 21,
    "start_time": "2022-05-13T09:16:17.990Z"
   },
   {
    "duration": 11,
    "start_time": "2022-05-13T09:16:18.012Z"
   },
   {
    "duration": 12,
    "start_time": "2022-05-13T09:16:18.025Z"
   },
   {
    "duration": 33,
    "start_time": "2022-05-13T09:16:18.039Z"
   },
   {
    "duration": 27,
    "start_time": "2022-05-13T09:16:18.073Z"
   },
   {
    "duration": 125,
    "start_time": "2022-05-13T09:16:18.101Z"
   },
   {
    "duration": 47,
    "start_time": "2022-05-13T09:16:18.228Z"
   },
   {
    "duration": 84,
    "start_time": "2022-05-13T09:16:18.276Z"
   },
   {
    "duration": 30,
    "start_time": "2022-05-13T09:16:18.361Z"
   },
   {
    "duration": 75,
    "start_time": "2022-05-13T09:16:18.393Z"
   },
   {
    "duration": 10,
    "start_time": "2022-05-13T09:16:18.470Z"
   },
   {
    "duration": 9,
    "start_time": "2022-05-13T09:16:18.482Z"
   },
   {
    "duration": 0,
    "start_time": "2022-05-13T09:16:18.492Z"
   },
   {
    "duration": 13,
    "start_time": "2022-05-13T09:17:00.368Z"
   },
   {
    "duration": 581,
    "start_time": "2022-05-13T09:17:10.211Z"
   },
   {
    "duration": 31,
    "start_time": "2022-05-13T09:17:10.794Z"
   },
   {
    "duration": 5,
    "start_time": "2022-05-13T09:17:10.827Z"
   },
   {
    "duration": 5,
    "start_time": "2022-05-13T09:17:10.834Z"
   },
   {
    "duration": 13,
    "start_time": "2022-05-13T09:17:10.841Z"
   },
   {
    "duration": 8,
    "start_time": "2022-05-13T09:17:10.856Z"
   },
   {
    "duration": 9,
    "start_time": "2022-05-13T09:17:10.866Z"
   },
   {
    "duration": 45,
    "start_time": "2022-05-13T09:17:10.877Z"
   },
   {
    "duration": 8,
    "start_time": "2022-05-13T09:17:10.924Z"
   },
   {
    "duration": 12,
    "start_time": "2022-05-13T09:17:10.935Z"
   },
   {
    "duration": 13,
    "start_time": "2022-05-13T09:17:10.949Z"
   },
   {
    "duration": 10,
    "start_time": "2022-05-13T09:17:10.964Z"
   },
   {
    "duration": 65,
    "start_time": "2022-05-13T09:17:10.976Z"
   },
   {
    "duration": 5,
    "start_time": "2022-05-13T09:17:11.043Z"
   },
   {
    "duration": 15,
    "start_time": "2022-05-13T09:17:11.050Z"
   },
   {
    "duration": 8,
    "start_time": "2022-05-13T09:17:11.066Z"
   },
   {
    "duration": 7,
    "start_time": "2022-05-13T09:17:11.076Z"
   },
   {
    "duration": 43,
    "start_time": "2022-05-13T09:17:11.085Z"
   },
   {
    "duration": 37,
    "start_time": "2022-05-13T09:17:11.130Z"
   },
   {
    "duration": 16,
    "start_time": "2022-05-13T09:17:11.168Z"
   },
   {
    "duration": 45,
    "start_time": "2022-05-13T09:17:11.186Z"
   },
   {
    "duration": 14,
    "start_time": "2022-05-13T09:17:11.232Z"
   },
   {
    "duration": 27,
    "start_time": "2022-05-13T09:17:11.248Z"
   },
   {
    "duration": 53,
    "start_time": "2022-05-13T09:17:11.277Z"
   },
   {
    "duration": 10,
    "start_time": "2022-05-13T09:17:11.332Z"
   },
   {
    "duration": 31,
    "start_time": "2022-05-13T09:17:11.344Z"
   },
   {
    "duration": 11,
    "start_time": "2022-05-13T09:17:11.377Z"
   },
   {
    "duration": 40,
    "start_time": "2022-05-13T09:17:11.391Z"
   },
   {
    "duration": 15,
    "start_time": "2022-05-13T09:17:11.433Z"
   },
   {
    "duration": 7,
    "start_time": "2022-05-13T09:17:11.450Z"
   },
   {
    "duration": 3,
    "start_time": "2022-05-13T09:17:11.458Z"
   },
   {
    "duration": 16,
    "start_time": "2022-05-13T09:17:11.462Z"
   },
   {
    "duration": 56,
    "start_time": "2022-05-13T09:17:11.480Z"
   },
   {
    "duration": 137,
    "start_time": "2022-05-13T09:17:11.538Z"
   },
   {
    "duration": 55,
    "start_time": "2022-05-13T09:17:11.676Z"
   },
   {
    "duration": 69,
    "start_time": "2022-05-13T09:17:11.732Z"
   },
   {
    "duration": 44,
    "start_time": "2022-05-13T09:17:11.802Z"
   },
   {
    "duration": 80,
    "start_time": "2022-05-13T09:17:11.848Z"
   },
   {
    "duration": 12,
    "start_time": "2022-05-13T09:17:11.930Z"
   },
   {
    "duration": 13,
    "start_time": "2022-05-13T09:17:11.944Z"
   },
   {
    "duration": 0,
    "start_time": "2022-05-13T09:17:11.959Z"
   },
   {
    "duration": 13,
    "start_time": "2022-05-13T09:17:48.982Z"
   },
   {
    "duration": 513,
    "start_time": "2022-05-13T09:17:56.742Z"
   },
   {
    "duration": 19,
    "start_time": "2022-05-13T09:17:57.257Z"
   },
   {
    "duration": 4,
    "start_time": "2022-05-13T09:17:57.277Z"
   },
   {
    "duration": 5,
    "start_time": "2022-05-13T09:17:57.284Z"
   },
   {
    "duration": 42,
    "start_time": "2022-05-13T09:17:57.290Z"
   },
   {
    "duration": 10,
    "start_time": "2022-05-13T09:17:57.333Z"
   },
   {
    "duration": 9,
    "start_time": "2022-05-13T09:17:57.345Z"
   },
   {
    "duration": 5,
    "start_time": "2022-05-13T09:17:57.356Z"
   },
   {
    "duration": 9,
    "start_time": "2022-05-13T09:17:57.363Z"
   },
   {
    "duration": 7,
    "start_time": "2022-05-13T09:17:57.375Z"
   },
   {
    "duration": 45,
    "start_time": "2022-05-13T09:17:57.383Z"
   },
   {
    "duration": 7,
    "start_time": "2022-05-13T09:17:57.430Z"
   },
   {
    "duration": 33,
    "start_time": "2022-05-13T09:17:57.439Z"
   },
   {
    "duration": 5,
    "start_time": "2022-05-13T09:17:57.473Z"
   },
   {
    "duration": 19,
    "start_time": "2022-05-13T09:17:57.479Z"
   },
   {
    "duration": 8,
    "start_time": "2022-05-13T09:17:57.523Z"
   },
   {
    "duration": 8,
    "start_time": "2022-05-13T09:17:57.532Z"
   },
   {
    "duration": 13,
    "start_time": "2022-05-13T09:17:57.541Z"
   },
   {
    "duration": 38,
    "start_time": "2022-05-13T09:17:57.556Z"
   },
   {
    "duration": 40,
    "start_time": "2022-05-13T09:17:57.596Z"
   },
   {
    "duration": 20,
    "start_time": "2022-05-13T09:17:57.638Z"
   },
   {
    "duration": 13,
    "start_time": "2022-05-13T09:17:57.660Z"
   },
   {
    "duration": 53,
    "start_time": "2022-05-13T09:17:57.675Z"
   },
   {
    "duration": 22,
    "start_time": "2022-05-13T09:17:57.729Z"
   },
   {
    "duration": 9,
    "start_time": "2022-05-13T09:17:57.752Z"
   },
   {
    "duration": 27,
    "start_time": "2022-05-13T09:17:57.762Z"
   },
   {
    "duration": 35,
    "start_time": "2022-05-13T09:17:57.791Z"
   },
   {
    "duration": 13,
    "start_time": "2022-05-13T09:17:57.829Z"
   },
   {
    "duration": 14,
    "start_time": "2022-05-13T09:17:57.844Z"
   },
   {
    "duration": 5,
    "start_time": "2022-05-13T09:17:57.860Z"
   },
   {
    "duration": 2,
    "start_time": "2022-05-13T09:17:57.867Z"
   },
   {
    "duration": 14,
    "start_time": "2022-05-13T09:17:57.871Z"
   },
   {
    "duration": 58,
    "start_time": "2022-05-13T09:17:57.887Z"
   },
   {
    "duration": 131,
    "start_time": "2022-05-13T09:17:57.946Z"
   },
   {
    "duration": 54,
    "start_time": "2022-05-13T09:17:58.079Z"
   },
   {
    "duration": 60,
    "start_time": "2022-05-13T09:17:58.134Z"
   },
   {
    "duration": 45,
    "start_time": "2022-05-13T09:17:58.195Z"
   },
   {
    "duration": 53,
    "start_time": "2022-05-13T09:17:58.242Z"
   },
   {
    "duration": 30,
    "start_time": "2022-05-13T09:17:58.297Z"
   },
   {
    "duration": 36,
    "start_time": "2022-05-13T09:17:58.328Z"
   },
   {
    "duration": 0,
    "start_time": "2022-05-13T09:17:58.365Z"
   },
   {
    "duration": 5,
    "start_time": "2022-05-13T09:18:43.548Z"
   },
   {
    "duration": 563,
    "start_time": "2022-05-13T09:18:49.786Z"
   },
   {
    "duration": 21,
    "start_time": "2022-05-13T09:18:50.351Z"
   },
   {
    "duration": 6,
    "start_time": "2022-05-13T09:18:50.374Z"
   },
   {
    "duration": 6,
    "start_time": "2022-05-13T09:18:50.383Z"
   },
   {
    "duration": 12,
    "start_time": "2022-05-13T09:18:50.422Z"
   },
   {
    "duration": 8,
    "start_time": "2022-05-13T09:18:50.436Z"
   },
   {
    "duration": 10,
    "start_time": "2022-05-13T09:18:50.445Z"
   },
   {
    "duration": 7,
    "start_time": "2022-05-13T09:18:50.457Z"
   },
   {
    "duration": 8,
    "start_time": "2022-05-13T09:18:50.466Z"
   },
   {
    "duration": 8,
    "start_time": "2022-05-13T09:18:50.477Z"
   },
   {
    "duration": 12,
    "start_time": "2022-05-13T09:18:50.522Z"
   },
   {
    "duration": 7,
    "start_time": "2022-05-13T09:18:50.536Z"
   },
   {
    "duration": 38,
    "start_time": "2022-05-13T09:18:50.545Z"
   },
   {
    "duration": 5,
    "start_time": "2022-05-13T09:18:50.585Z"
   },
   {
    "duration": 42,
    "start_time": "2022-05-13T09:18:50.591Z"
   },
   {
    "duration": 8,
    "start_time": "2022-05-13T09:18:50.635Z"
   },
   {
    "duration": 13,
    "start_time": "2022-05-13T09:18:50.645Z"
   },
   {
    "duration": 13,
    "start_time": "2022-05-13T09:18:50.660Z"
   },
   {
    "duration": 58,
    "start_time": "2022-05-13T09:18:50.674Z"
   },
   {
    "duration": 14,
    "start_time": "2022-05-13T09:18:50.734Z"
   },
   {
    "duration": 19,
    "start_time": "2022-05-13T09:18:50.750Z"
   },
   {
    "duration": 12,
    "start_time": "2022-05-13T09:18:50.771Z"
   },
   {
    "duration": 50,
    "start_time": "2022-05-13T09:18:50.785Z"
   },
   {
    "duration": 22,
    "start_time": "2022-05-13T09:18:50.837Z"
   },
   {
    "duration": 10,
    "start_time": "2022-05-13T09:18:50.860Z"
   },
   {
    "duration": 53,
    "start_time": "2022-05-13T09:18:50.871Z"
   },
   {
    "duration": 11,
    "start_time": "2022-05-13T09:18:50.925Z"
   },
   {
    "duration": 12,
    "start_time": "2022-05-13T09:18:50.939Z"
   },
   {
    "duration": 14,
    "start_time": "2022-05-13T09:18:50.953Z"
   },
   {
    "duration": 6,
    "start_time": "2022-05-13T09:18:50.969Z"
   },
   {
    "duration": 3,
    "start_time": "2022-05-13T09:18:50.976Z"
   },
   {
    "duration": 49,
    "start_time": "2022-05-13T09:18:50.980Z"
   },
   {
    "duration": 28,
    "start_time": "2022-05-13T09:18:51.031Z"
   },
   {
    "duration": 134,
    "start_time": "2022-05-13T09:18:51.060Z"
   },
   {
    "duration": 49,
    "start_time": "2022-05-13T09:18:51.195Z"
   },
   {
    "duration": 77,
    "start_time": "2022-05-13T09:18:51.246Z"
   },
   {
    "duration": 29,
    "start_time": "2022-05-13T09:18:51.325Z"
   },
   {
    "duration": 72,
    "start_time": "2022-05-13T09:18:51.355Z"
   },
   {
    "duration": 10,
    "start_time": "2022-05-13T09:18:51.429Z"
   },
   {
    "duration": 6,
    "start_time": "2022-05-13T09:18:51.441Z"
   },
   {
    "duration": 14,
    "start_time": "2022-05-13T09:18:51.449Z"
   },
   {
    "duration": 17,
    "start_time": "2022-05-13T09:19:56.620Z"
   },
   {
    "duration": 19,
    "start_time": "2022-05-13T09:21:49.622Z"
   },
   {
    "duration": 61,
    "start_time": "2022-05-13T09:26:52.721Z"
   },
   {
    "duration": 217,
    "start_time": "2022-05-13T09:27:37.640Z"
   },
   {
    "duration": 63,
    "start_time": "2022-05-13T09:27:48.604Z"
   },
   {
    "duration": 64,
    "start_time": "2022-05-13T09:28:17.186Z"
   },
   {
    "duration": 68,
    "start_time": "2022-05-13T09:29:29.279Z"
   },
   {
    "duration": 552,
    "start_time": "2022-05-13T09:32:07.271Z"
   },
   {
    "duration": 20,
    "start_time": "2022-05-13T09:32:07.825Z"
   },
   {
    "duration": 10,
    "start_time": "2022-05-13T09:32:07.847Z"
   },
   {
    "duration": 5,
    "start_time": "2022-05-13T09:32:07.859Z"
   },
   {
    "duration": 12,
    "start_time": "2022-05-13T09:32:07.866Z"
   },
   {
    "duration": 8,
    "start_time": "2022-05-13T09:32:07.880Z"
   },
   {
    "duration": 40,
    "start_time": "2022-05-13T09:32:07.889Z"
   },
   {
    "duration": 5,
    "start_time": "2022-05-13T09:32:07.931Z"
   },
   {
    "duration": 9,
    "start_time": "2022-05-13T09:32:07.938Z"
   },
   {
    "duration": 8,
    "start_time": "2022-05-13T09:32:07.949Z"
   },
   {
    "duration": 14,
    "start_time": "2022-05-13T09:32:07.958Z"
   },
   {
    "duration": 7,
    "start_time": "2022-05-13T09:32:07.974Z"
   },
   {
    "duration": 68,
    "start_time": "2022-05-13T09:32:07.983Z"
   },
   {
    "duration": 5,
    "start_time": "2022-05-13T09:32:08.053Z"
   },
   {
    "duration": 16,
    "start_time": "2022-05-13T09:32:08.060Z"
   },
   {
    "duration": 7,
    "start_time": "2022-05-13T09:32:08.078Z"
   },
   {
    "duration": 37,
    "start_time": "2022-05-13T09:32:08.087Z"
   },
   {
    "duration": 13,
    "start_time": "2022-05-13T09:32:08.126Z"
   },
   {
    "duration": 37,
    "start_time": "2022-05-13T09:32:08.140Z"
   },
   {
    "duration": 16,
    "start_time": "2022-05-13T09:32:08.178Z"
   },
   {
    "duration": 19,
    "start_time": "2022-05-13T09:32:08.222Z"
   },
   {
    "duration": 13,
    "start_time": "2022-05-13T09:32:08.242Z"
   },
   {
    "duration": 26,
    "start_time": "2022-05-13T09:32:08.256Z"
   },
   {
    "duration": 51,
    "start_time": "2022-05-13T09:32:08.283Z"
   },
   {
    "duration": 10,
    "start_time": "2022-05-13T09:32:08.336Z"
   },
   {
    "duration": 31,
    "start_time": "2022-05-13T09:32:08.348Z"
   },
   {
    "duration": 10,
    "start_time": "2022-05-13T09:32:08.381Z"
   },
   {
    "duration": 15,
    "start_time": "2022-05-13T09:32:08.423Z"
   },
   {
    "duration": 19,
    "start_time": "2022-05-13T09:32:08.439Z"
   },
   {
    "duration": 8,
    "start_time": "2022-05-13T09:32:08.460Z"
   },
   {
    "duration": 2,
    "start_time": "2022-05-13T09:32:08.470Z"
   },
   {
    "duration": 12,
    "start_time": "2022-05-13T09:32:08.474Z"
   },
   {
    "duration": 27,
    "start_time": "2022-05-13T09:32:08.522Z"
   },
   {
    "duration": 141,
    "start_time": "2022-05-13T09:32:08.550Z"
   },
   {
    "duration": 57,
    "start_time": "2022-05-13T09:32:08.692Z"
   },
   {
    "duration": 75,
    "start_time": "2022-05-13T09:32:08.750Z"
   },
   {
    "duration": 32,
    "start_time": "2022-05-13T09:32:08.827Z"
   },
   {
    "duration": 85,
    "start_time": "2022-05-13T09:32:08.860Z"
   },
   {
    "duration": 13,
    "start_time": "2022-05-13T09:32:08.947Z"
   },
   {
    "duration": 22,
    "start_time": "2022-05-13T09:32:08.962Z"
   },
   {
    "duration": 101,
    "start_time": "2022-05-13T09:32:08.986Z"
   },
   {
    "duration": 78,
    "start_time": "2022-05-13T09:54:04.104Z"
   },
   {
    "duration": 3427,
    "start_time": "2022-05-13T09:56:11.183Z"
   },
   {
    "duration": 4,
    "start_time": "2022-05-13T09:57:43.359Z"
   },
   {
    "duration": 12,
    "start_time": "2022-05-13T09:58:33.552Z"
   },
   {
    "duration": 613,
    "start_time": "2022-05-13T09:58:48.166Z"
   },
   {
    "duration": 44,
    "start_time": "2022-05-13T09:58:48.781Z"
   },
   {
    "duration": 6,
    "start_time": "2022-05-13T09:58:48.827Z"
   },
   {
    "duration": 5,
    "start_time": "2022-05-13T09:58:48.837Z"
   },
   {
    "duration": 17,
    "start_time": "2022-05-13T09:58:48.844Z"
   },
   {
    "duration": 10,
    "start_time": "2022-05-13T09:58:48.871Z"
   },
   {
    "duration": 53,
    "start_time": "2022-05-13T09:58:48.883Z"
   },
   {
    "duration": 8,
    "start_time": "2022-05-13T09:58:48.938Z"
   },
   {
    "duration": 8,
    "start_time": "2022-05-13T09:58:48.948Z"
   },
   {
    "duration": 7,
    "start_time": "2022-05-13T09:58:48.959Z"
   },
   {
    "duration": 17,
    "start_time": "2022-05-13T09:58:48.968Z"
   },
   {
    "duration": 11,
    "start_time": "2022-05-13T09:58:48.987Z"
   },
   {
    "duration": 38,
    "start_time": "2022-05-13T09:58:49.024Z"
   },
   {
    "duration": 5,
    "start_time": "2022-05-13T09:58:49.065Z"
   },
   {
    "duration": 16,
    "start_time": "2022-05-13T09:58:49.072Z"
   },
   {
    "duration": 37,
    "start_time": "2022-05-13T09:58:49.090Z"
   },
   {
    "duration": 8,
    "start_time": "2022-05-13T09:58:49.128Z"
   },
   {
    "duration": 14,
    "start_time": "2022-05-13T09:58:49.138Z"
   },
   {
    "duration": 76,
    "start_time": "2022-05-13T09:58:49.155Z"
   },
   {
    "duration": 18,
    "start_time": "2022-05-13T09:58:49.234Z"
   },
   {
    "duration": 20,
    "start_time": "2022-05-13T09:58:49.253Z"
   },
   {
    "duration": 13,
    "start_time": "2022-05-13T09:58:49.274Z"
   },
   {
    "duration": 65,
    "start_time": "2022-05-13T09:58:49.289Z"
   },
   {
    "duration": 21,
    "start_time": "2022-05-13T09:58:49.356Z"
   },
   {
    "duration": 9,
    "start_time": "2022-05-13T09:58:49.378Z"
   },
   {
    "duration": 66,
    "start_time": "2022-05-13T09:58:49.389Z"
   },
   {
    "duration": 10,
    "start_time": "2022-05-13T09:58:49.456Z"
   },
   {
    "duration": 13,
    "start_time": "2022-05-13T09:58:49.469Z"
   },
   {
    "duration": 44,
    "start_time": "2022-05-13T09:58:49.484Z"
   },
   {
    "duration": 11,
    "start_time": "2022-05-13T09:58:49.530Z"
   },
   {
    "duration": 3,
    "start_time": "2022-05-13T09:58:49.543Z"
   },
   {
    "duration": 14,
    "start_time": "2022-05-13T09:58:49.548Z"
   },
   {
    "duration": 26,
    "start_time": "2022-05-13T09:58:49.564Z"
   },
   {
    "duration": 162,
    "start_time": "2022-05-13T09:58:49.592Z"
   },
   {
    "duration": 47,
    "start_time": "2022-05-13T09:58:49.756Z"
   },
   {
    "duration": 68,
    "start_time": "2022-05-13T09:58:49.829Z"
   },
   {
    "duration": 44,
    "start_time": "2022-05-13T09:58:49.898Z"
   },
   {
    "duration": 54,
    "start_time": "2022-05-13T09:58:49.943Z"
   },
   {
    "duration": 39,
    "start_time": "2022-05-13T09:58:49.999Z"
   },
   {
    "duration": 22,
    "start_time": "2022-05-13T09:58:50.040Z"
   },
   {
    "duration": 105,
    "start_time": "2022-05-13T09:58:50.064Z"
   },
   {
    "duration": 5,
    "start_time": "2022-05-13T09:58:50.170Z"
   },
   {
    "duration": 22,
    "start_time": "2022-05-13T09:58:50.177Z"
   },
   {
    "duration": 599,
    "start_time": "2022-05-13T09:59:14.587Z"
   },
   {
    "duration": 20,
    "start_time": "2022-05-13T09:59:15.188Z"
   },
   {
    "duration": 21,
    "start_time": "2022-05-13T09:59:15.210Z"
   },
   {
    "duration": 16,
    "start_time": "2022-05-13T09:59:15.233Z"
   },
   {
    "duration": 27,
    "start_time": "2022-05-13T09:59:15.251Z"
   },
   {
    "duration": 20,
    "start_time": "2022-05-13T09:59:15.280Z"
   },
   {
    "duration": 35,
    "start_time": "2022-05-13T09:59:15.302Z"
   },
   {
    "duration": 17,
    "start_time": "2022-05-13T09:59:15.339Z"
   },
   {
    "duration": 18,
    "start_time": "2022-05-13T09:59:15.358Z"
   },
   {
    "duration": 24,
    "start_time": "2022-05-13T09:59:15.379Z"
   },
   {
    "duration": 33,
    "start_time": "2022-05-13T09:59:15.404Z"
   },
   {
    "duration": 34,
    "start_time": "2022-05-13T09:59:15.439Z"
   },
   {
    "duration": 77,
    "start_time": "2022-05-13T09:59:15.474Z"
   },
   {
    "duration": 6,
    "start_time": "2022-05-13T09:59:15.553Z"
   },
   {
    "duration": 37,
    "start_time": "2022-05-13T09:59:15.561Z"
   },
   {
    "duration": 12,
    "start_time": "2022-05-13T09:59:15.600Z"
   },
   {
    "duration": 39,
    "start_time": "2022-05-13T09:59:15.613Z"
   },
   {
    "duration": 13,
    "start_time": "2022-05-13T09:59:15.655Z"
   },
   {
    "duration": 48,
    "start_time": "2022-05-13T09:59:15.670Z"
   },
   {
    "duration": 19,
    "start_time": "2022-05-13T09:59:15.720Z"
   },
   {
    "duration": 21,
    "start_time": "2022-05-13T09:59:15.741Z"
   },
   {
    "duration": 14,
    "start_time": "2022-05-13T09:59:15.764Z"
   },
   {
    "duration": 49,
    "start_time": "2022-05-13T09:59:15.779Z"
   },
   {
    "duration": 27,
    "start_time": "2022-05-13T09:59:15.830Z"
   },
   {
    "duration": 19,
    "start_time": "2022-05-13T09:59:15.859Z"
   },
   {
    "duration": 56,
    "start_time": "2022-05-13T09:59:15.880Z"
   },
   {
    "duration": 12,
    "start_time": "2022-05-13T09:59:15.941Z"
   },
   {
    "duration": 33,
    "start_time": "2022-05-13T09:59:15.957Z"
   },
   {
    "duration": 24,
    "start_time": "2022-05-13T09:59:15.992Z"
   },
   {
    "duration": 13,
    "start_time": "2022-05-13T09:59:16.018Z"
   },
   {
    "duration": 11,
    "start_time": "2022-05-13T09:59:16.035Z"
   },
   {
    "duration": 28,
    "start_time": "2022-05-13T09:59:16.047Z"
   },
   {
    "duration": 34,
    "start_time": "2022-05-13T09:59:16.076Z"
   },
   {
    "duration": 178,
    "start_time": "2022-05-13T09:59:16.112Z"
   },
   {
    "duration": 80,
    "start_time": "2022-05-13T09:59:16.292Z"
   },
   {
    "duration": 76,
    "start_time": "2022-05-13T09:59:16.374Z"
   },
   {
    "duration": 30,
    "start_time": "2022-05-13T09:59:16.452Z"
   },
   {
    "duration": 86,
    "start_time": "2022-05-13T09:59:16.485Z"
   },
   {
    "duration": 11,
    "start_time": "2022-05-13T09:59:16.573Z"
   },
   {
    "duration": 50,
    "start_time": "2022-05-13T09:59:16.585Z"
   },
   {
    "duration": 91,
    "start_time": "2022-05-13T09:59:16.637Z"
   },
   {
    "duration": 5,
    "start_time": "2022-05-13T09:59:16.730Z"
   },
   {
    "duration": 3546,
    "start_time": "2022-05-13T09:59:16.737Z"
   },
   {
    "duration": 4047,
    "start_time": "2022-05-13T10:01:28.722Z"
   },
   {
    "duration": 6,
    "start_time": "2022-05-13T10:01:39.650Z"
   },
   {
    "duration": 13,
    "start_time": "2022-05-13T10:02:31.464Z"
   },
   {
    "duration": 11,
    "start_time": "2022-05-13T10:06:52.208Z"
   },
   {
    "duration": 3289,
    "start_time": "2022-05-13T10:07:47.086Z"
   },
   {
    "duration": 554,
    "start_time": "2022-05-13T10:07:55.511Z"
   },
   {
    "duration": 19,
    "start_time": "2022-05-13T10:07:56.067Z"
   },
   {
    "duration": 5,
    "start_time": "2022-05-13T10:07:56.088Z"
   },
   {
    "duration": 31,
    "start_time": "2022-05-13T10:07:56.094Z"
   },
   {
    "duration": 12,
    "start_time": "2022-05-13T10:07:56.127Z"
   },
   {
    "duration": 7,
    "start_time": "2022-05-13T10:07:56.141Z"
   },
   {
    "duration": 10,
    "start_time": "2022-05-13T10:07:56.150Z"
   },
   {
    "duration": 6,
    "start_time": "2022-05-13T10:07:56.162Z"
   },
   {
    "duration": 11,
    "start_time": "2022-05-13T10:07:56.170Z"
   },
   {
    "duration": 42,
    "start_time": "2022-05-13T10:07:56.183Z"
   },
   {
    "duration": 14,
    "start_time": "2022-05-13T10:07:56.226Z"
   },
   {
    "duration": 9,
    "start_time": "2022-05-13T10:07:56.242Z"
   },
   {
    "duration": 41,
    "start_time": "2022-05-13T10:07:56.252Z"
   },
   {
    "duration": 6,
    "start_time": "2022-05-13T10:07:56.297Z"
   },
   {
    "duration": 38,
    "start_time": "2022-05-13T10:07:56.305Z"
   },
   {
    "duration": 9,
    "start_time": "2022-05-13T10:07:56.345Z"
   },
   {
    "duration": 9,
    "start_time": "2022-05-13T10:07:56.355Z"
   },
   {
    "duration": 13,
    "start_time": "2022-05-13T10:07:56.366Z"
   },
   {
    "duration": 65,
    "start_time": "2022-05-13T10:07:56.381Z"
   },
   {
    "duration": 15,
    "start_time": "2022-05-13T10:07:56.448Z"
   },
   {
    "duration": 19,
    "start_time": "2022-05-13T10:07:56.464Z"
   },
   {
    "duration": 41,
    "start_time": "2022-05-13T10:07:56.486Z"
   },
   {
    "duration": 25,
    "start_time": "2022-05-13T10:07:56.529Z"
   },
   {
    "duration": 20,
    "start_time": "2022-05-13T10:07:56.556Z"
   },
   {
    "duration": 8,
    "start_time": "2022-05-13T10:07:56.578Z"
   },
   {
    "duration": 59,
    "start_time": "2022-05-13T10:07:56.587Z"
   },
   {
    "duration": 10,
    "start_time": "2022-05-13T10:07:56.647Z"
   },
   {
    "duration": 13,
    "start_time": "2022-05-13T10:07:56.659Z"
   },
   {
    "duration": 14,
    "start_time": "2022-05-13T10:07:56.674Z"
   },
   {
    "duration": 35,
    "start_time": "2022-05-13T10:07:56.690Z"
   },
   {
    "duration": 2,
    "start_time": "2022-05-13T10:07:56.727Z"
   },
   {
    "duration": 13,
    "start_time": "2022-05-13T10:07:56.731Z"
   },
   {
    "duration": 27,
    "start_time": "2022-05-13T10:07:56.746Z"
   },
   {
    "duration": 142,
    "start_time": "2022-05-13T10:07:56.774Z"
   },
   {
    "duration": 46,
    "start_time": "2022-05-13T10:07:56.922Z"
   },
   {
    "duration": 76,
    "start_time": "2022-05-13T10:07:56.970Z"
   },
   {
    "duration": 29,
    "start_time": "2022-05-13T10:07:57.048Z"
   },
   {
    "duration": 75,
    "start_time": "2022-05-13T10:07:57.078Z"
   },
   {
    "duration": 10,
    "start_time": "2022-05-13T10:07:57.155Z"
   },
   {
    "duration": 18,
    "start_time": "2022-05-13T10:07:57.167Z"
   },
   {
    "duration": 93,
    "start_time": "2022-05-13T10:07:57.189Z"
   },
   {
    "duration": 6,
    "start_time": "2022-05-13T10:07:57.283Z"
   },
   {
    "duration": 3175,
    "start_time": "2022-05-13T10:07:57.291Z"
   },
   {
    "duration": 3482,
    "start_time": "2022-05-13T10:09:03.802Z"
   },
   {
    "duration": 539,
    "start_time": "2022-05-13T10:09:40.725Z"
   },
   {
    "duration": 21,
    "start_time": "2022-05-13T10:09:41.266Z"
   },
   {
    "duration": 36,
    "start_time": "2022-05-13T10:09:41.288Z"
   },
   {
    "duration": 4,
    "start_time": "2022-05-13T10:09:41.327Z"
   },
   {
    "duration": 15,
    "start_time": "2022-05-13T10:09:41.333Z"
   },
   {
    "duration": 8,
    "start_time": "2022-05-13T10:09:41.350Z"
   },
   {
    "duration": 9,
    "start_time": "2022-05-13T10:09:41.360Z"
   },
   {
    "duration": 5,
    "start_time": "2022-05-13T10:09:41.370Z"
   },
   {
    "duration": 8,
    "start_time": "2022-05-13T10:09:41.377Z"
   },
   {
    "duration": 36,
    "start_time": "2022-05-13T10:09:41.388Z"
   },
   {
    "duration": 13,
    "start_time": "2022-05-13T10:09:41.426Z"
   },
   {
    "duration": 9,
    "start_time": "2022-05-13T10:09:41.441Z"
   },
   {
    "duration": 38,
    "start_time": "2022-05-13T10:09:41.452Z"
   },
   {
    "duration": 33,
    "start_time": "2022-05-13T10:09:41.491Z"
   },
   {
    "duration": 18,
    "start_time": "2022-05-13T10:09:41.525Z"
   },
   {
    "duration": 8,
    "start_time": "2022-05-13T10:09:41.545Z"
   },
   {
    "duration": 9,
    "start_time": "2022-05-13T10:09:41.555Z"
   },
   {
    "duration": 12,
    "start_time": "2022-05-13T10:09:41.566Z"
   },
   {
    "duration": 70,
    "start_time": "2022-05-13T10:09:41.580Z"
   },
   {
    "duration": 17,
    "start_time": "2022-05-13T10:09:41.652Z"
   },
   {
    "duration": 20,
    "start_time": "2022-05-13T10:09:41.670Z"
   },
   {
    "duration": 37,
    "start_time": "2022-05-13T10:09:41.692Z"
   },
   {
    "duration": 24,
    "start_time": "2022-05-13T10:09:41.731Z"
   },
   {
    "duration": 23,
    "start_time": "2022-05-13T10:09:41.757Z"
   },
   {
    "duration": 10,
    "start_time": "2022-05-13T10:09:41.782Z"
   },
   {
    "duration": 56,
    "start_time": "2022-05-13T10:09:41.793Z"
   },
   {
    "duration": 9,
    "start_time": "2022-05-13T10:09:41.851Z"
   },
   {
    "duration": 17,
    "start_time": "2022-05-13T10:09:41.863Z"
   },
   {
    "duration": 13,
    "start_time": "2022-05-13T10:09:41.882Z"
   },
   {
    "duration": 30,
    "start_time": "2022-05-13T10:09:41.897Z"
   },
   {
    "duration": 2,
    "start_time": "2022-05-13T10:09:41.929Z"
   },
   {
    "duration": 16,
    "start_time": "2022-05-13T10:09:41.933Z"
   },
   {
    "duration": 30,
    "start_time": "2022-05-13T10:09:41.951Z"
   },
   {
    "duration": 143,
    "start_time": "2022-05-13T10:09:41.982Z"
   },
   {
    "duration": 46,
    "start_time": "2022-05-13T10:09:42.126Z"
   },
   {
    "duration": 81,
    "start_time": "2022-05-13T10:09:42.174Z"
   },
   {
    "duration": 29,
    "start_time": "2022-05-13T10:09:42.257Z"
   },
   {
    "duration": 80,
    "start_time": "2022-05-13T10:09:42.288Z"
   },
   {
    "duration": 10,
    "start_time": "2022-05-13T10:09:42.371Z"
   },
   {
    "duration": 45,
    "start_time": "2022-05-13T10:09:42.384Z"
   },
   {
    "duration": 65,
    "start_time": "2022-05-13T10:09:42.431Z"
   },
   {
    "duration": 6,
    "start_time": "2022-05-13T10:09:42.522Z"
   },
   {
    "duration": 3354,
    "start_time": "2022-05-13T10:09:42.530Z"
   },
   {
    "duration": 11,
    "start_time": "2022-05-13T10:10:06.046Z"
   },
   {
    "duration": 15,
    "start_time": "2022-05-13T10:10:11.683Z"
   },
   {
    "duration": 272,
    "start_time": "2022-05-13T10:12:19.947Z"
   },
   {
    "duration": 5,
    "start_time": "2022-05-13T10:13:07.025Z"
   },
   {
    "duration": 235,
    "start_time": "2022-05-13T10:13:55.340Z"
   },
   {
    "duration": 254,
    "start_time": "2022-05-13T10:14:12.659Z"
   },
   {
    "duration": 4742,
    "start_time": "2022-05-13T10:15:02.156Z"
   },
   {
    "duration": 3422,
    "start_time": "2022-05-13T10:15:25.079Z"
   },
   {
    "duration": 245,
    "start_time": "2022-05-13T10:15:52.528Z"
   },
   {
    "duration": 269,
    "start_time": "2022-05-13T10:16:06.539Z"
   },
   {
    "duration": 227,
    "start_time": "2022-05-13T10:16:39.793Z"
   },
   {
    "duration": 562,
    "start_time": "2022-05-13T10:16:53.612Z"
   },
   {
    "duration": 19,
    "start_time": "2022-05-13T10:16:54.176Z"
   },
   {
    "duration": 27,
    "start_time": "2022-05-13T10:16:54.197Z"
   },
   {
    "duration": 6,
    "start_time": "2022-05-13T10:16:54.226Z"
   },
   {
    "duration": 12,
    "start_time": "2022-05-13T10:16:54.234Z"
   },
   {
    "duration": 8,
    "start_time": "2022-05-13T10:16:54.248Z"
   },
   {
    "duration": 9,
    "start_time": "2022-05-13T10:16:54.258Z"
   },
   {
    "duration": 6,
    "start_time": "2022-05-13T10:16:54.269Z"
   },
   {
    "duration": 47,
    "start_time": "2022-05-13T10:16:54.277Z"
   },
   {
    "duration": 7,
    "start_time": "2022-05-13T10:16:54.327Z"
   },
   {
    "duration": 11,
    "start_time": "2022-05-13T10:16:54.336Z"
   },
   {
    "duration": 9,
    "start_time": "2022-05-13T10:16:54.348Z"
   },
   {
    "duration": 36,
    "start_time": "2022-05-13T10:16:54.359Z"
   },
   {
    "duration": 27,
    "start_time": "2022-05-13T10:16:54.397Z"
   },
   {
    "duration": 16,
    "start_time": "2022-05-13T10:16:54.425Z"
   },
   {
    "duration": 8,
    "start_time": "2022-05-13T10:16:54.443Z"
   },
   {
    "duration": 9,
    "start_time": "2022-05-13T10:16:54.452Z"
   },
   {
    "duration": 12,
    "start_time": "2022-05-13T10:16:54.463Z"
   },
   {
    "duration": 74,
    "start_time": "2022-05-13T10:16:54.477Z"
   },
   {
    "duration": 14,
    "start_time": "2022-05-13T10:16:54.553Z"
   },
   {
    "duration": 21,
    "start_time": "2022-05-13T10:16:54.569Z"
   },
   {
    "duration": 32,
    "start_time": "2022-05-13T10:16:54.591Z"
   },
   {
    "duration": 24,
    "start_time": "2022-05-13T10:16:54.625Z"
   },
   {
    "duration": 22,
    "start_time": "2022-05-13T10:16:54.651Z"
   },
   {
    "duration": 9,
    "start_time": "2022-05-13T10:16:54.675Z"
   },
   {
    "duration": 58,
    "start_time": "2022-05-13T10:16:54.685Z"
   },
   {
    "duration": 10,
    "start_time": "2022-05-13T10:16:54.745Z"
   },
   {
    "duration": 13,
    "start_time": "2022-05-13T10:16:54.759Z"
   },
   {
    "duration": 15,
    "start_time": "2022-05-13T10:16:54.774Z"
   },
   {
    "duration": 33,
    "start_time": "2022-05-13T10:16:54.791Z"
   },
   {
    "duration": 2,
    "start_time": "2022-05-13T10:16:54.826Z"
   },
   {
    "duration": 13,
    "start_time": "2022-05-13T10:16:54.830Z"
   },
   {
    "duration": 27,
    "start_time": "2022-05-13T10:16:54.844Z"
   },
   {
    "duration": 388,
    "start_time": "2022-05-13T10:16:54.873Z"
   },
   {
    "duration": 62,
    "start_time": "2022-05-13T10:16:55.262Z"
   },
   {
    "duration": 65,
    "start_time": "2022-05-13T10:16:55.326Z"
   },
   {
    "duration": 46,
    "start_time": "2022-05-13T10:16:55.392Z"
   },
   {
    "duration": 53,
    "start_time": "2022-05-13T10:16:55.441Z"
   },
   {
    "duration": 35,
    "start_time": "2022-05-13T10:16:55.496Z"
   },
   {
    "duration": 20,
    "start_time": "2022-05-13T10:16:55.532Z"
   },
   {
    "duration": 84,
    "start_time": "2022-05-13T10:16:55.554Z"
   },
   {
    "duration": 4,
    "start_time": "2022-05-13T10:16:55.639Z"
   },
   {
    "duration": 3606,
    "start_time": "2022-05-13T10:16:55.645Z"
   },
   {
    "duration": 10,
    "start_time": "2022-05-13T10:17:41.756Z"
   },
   {
    "duration": 558,
    "start_time": "2022-05-13T10:17:51.023Z"
   },
   {
    "duration": 41,
    "start_time": "2022-05-13T10:17:51.584Z"
   },
   {
    "duration": 6,
    "start_time": "2022-05-13T10:17:51.627Z"
   },
   {
    "duration": 21,
    "start_time": "2022-05-13T10:17:51.635Z"
   },
   {
    "duration": 19,
    "start_time": "2022-05-13T10:17:51.657Z"
   },
   {
    "duration": 9,
    "start_time": "2022-05-13T10:17:51.677Z"
   },
   {
    "duration": 8,
    "start_time": "2022-05-13T10:17:51.688Z"
   },
   {
    "duration": 4,
    "start_time": "2022-05-13T10:17:51.698Z"
   },
   {
    "duration": 22,
    "start_time": "2022-05-13T10:17:51.704Z"
   },
   {
    "duration": 7,
    "start_time": "2022-05-13T10:17:51.729Z"
   },
   {
    "duration": 12,
    "start_time": "2022-05-13T10:17:51.738Z"
   },
   {
    "duration": 11,
    "start_time": "2022-05-13T10:17:51.751Z"
   },
   {
    "duration": 38,
    "start_time": "2022-05-13T10:17:51.763Z"
   },
   {
    "duration": 22,
    "start_time": "2022-05-13T10:17:51.802Z"
   },
   {
    "duration": 19,
    "start_time": "2022-05-13T10:17:51.826Z"
   },
   {
    "duration": 8,
    "start_time": "2022-05-13T10:17:51.847Z"
   },
   {
    "duration": 23,
    "start_time": "2022-05-13T10:17:51.856Z"
   },
   {
    "duration": 22,
    "start_time": "2022-05-13T10:17:51.880Z"
   },
   {
    "duration": 47,
    "start_time": "2022-05-13T10:17:51.903Z"
   },
   {
    "duration": 16,
    "start_time": "2022-05-13T10:17:51.951Z"
   },
   {
    "duration": 21,
    "start_time": "2022-05-13T10:17:51.968Z"
   },
   {
    "duration": 38,
    "start_time": "2022-05-13T10:17:51.991Z"
   },
   {
    "duration": 25,
    "start_time": "2022-05-13T10:17:52.031Z"
   },
   {
    "duration": 23,
    "start_time": "2022-05-13T10:17:52.058Z"
   },
   {
    "duration": 13,
    "start_time": "2022-05-13T10:17:52.084Z"
   },
   {
    "duration": 31,
    "start_time": "2022-05-13T10:17:52.124Z"
   },
   {
    "duration": 11,
    "start_time": "2022-05-13T10:17:52.158Z"
   },
   {
    "duration": 27,
    "start_time": "2022-05-13T10:17:52.174Z"
   },
   {
    "duration": 37,
    "start_time": "2022-05-13T10:17:52.203Z"
   },
   {
    "duration": 20,
    "start_time": "2022-05-13T10:17:52.242Z"
   },
   {
    "duration": 20,
    "start_time": "2022-05-13T10:17:52.264Z"
   },
   {
    "duration": 25,
    "start_time": "2022-05-13T10:17:52.286Z"
   },
   {
    "duration": 36,
    "start_time": "2022-05-13T10:17:52.313Z"
   },
   {
    "duration": 277,
    "start_time": "2022-05-13T10:17:52.350Z"
   },
   {
    "duration": 48,
    "start_time": "2022-05-13T10:17:52.629Z"
   },
   {
    "duration": 81,
    "start_time": "2022-05-13T10:17:52.678Z"
   },
   {
    "duration": 29,
    "start_time": "2022-05-13T10:17:52.760Z"
   },
   {
    "duration": 71,
    "start_time": "2022-05-13T10:17:52.790Z"
   },
   {
    "duration": 9,
    "start_time": "2022-05-13T10:17:52.863Z"
   },
   {
    "duration": 40,
    "start_time": "2022-05-13T10:17:52.874Z"
   },
   {
    "duration": 108,
    "start_time": "2022-05-13T10:17:52.916Z"
   },
   {
    "duration": 5,
    "start_time": "2022-05-13T10:17:53.026Z"
   },
   {
    "duration": 36,
    "start_time": "2022-05-13T10:17:53.033Z"
   },
   {
    "duration": 634,
    "start_time": "2022-05-13T10:20:02.458Z"
   },
   {
    "duration": 62,
    "start_time": "2022-05-13T10:20:03.095Z"
   },
   {
    "duration": 7,
    "start_time": "2022-05-13T10:20:03.160Z"
   },
   {
    "duration": 8,
    "start_time": "2022-05-13T10:20:03.172Z"
   },
   {
    "duration": 48,
    "start_time": "2022-05-13T10:20:03.183Z"
   },
   {
    "duration": 11,
    "start_time": "2022-05-13T10:20:03.234Z"
   },
   {
    "duration": 19,
    "start_time": "2022-05-13T10:20:03.248Z"
   },
   {
    "duration": 8,
    "start_time": "2022-05-13T10:20:03.270Z"
   },
   {
    "duration": 43,
    "start_time": "2022-05-13T10:20:03.281Z"
   },
   {
    "duration": 9,
    "start_time": "2022-05-13T10:20:03.327Z"
   },
   {
    "duration": 14,
    "start_time": "2022-05-13T10:20:03.338Z"
   },
   {
    "duration": 9,
    "start_time": "2022-05-13T10:20:03.354Z"
   },
   {
    "duration": 181,
    "start_time": "2022-05-13T10:20:03.366Z"
   },
   {
    "duration": 7,
    "start_time": "2022-05-13T10:20:03.549Z"
   },
   {
    "duration": 18,
    "start_time": "2022-05-13T10:20:03.557Z"
   },
   {
    "duration": 8,
    "start_time": "2022-05-13T10:20:03.577Z"
   },
   {
    "duration": 43,
    "start_time": "2022-05-13T10:20:03.587Z"
   },
   {
    "duration": 15,
    "start_time": "2022-05-13T10:20:03.632Z"
   },
   {
    "duration": 36,
    "start_time": "2022-05-13T10:20:03.649Z"
   },
   {
    "duration": 43,
    "start_time": "2022-05-13T10:20:03.687Z"
   },
   {
    "duration": 19,
    "start_time": "2022-05-13T10:20:03.732Z"
   },
   {
    "duration": 13,
    "start_time": "2022-05-13T10:20:03.753Z"
   },
   {
    "duration": 81,
    "start_time": "2022-05-13T10:20:03.768Z"
   },
   {
    "duration": 22,
    "start_time": "2022-05-13T10:20:03.851Z"
   },
   {
    "duration": 10,
    "start_time": "2022-05-13T10:20:03.875Z"
   },
   {
    "duration": 58,
    "start_time": "2022-05-13T10:20:03.887Z"
   },
   {
    "duration": 10,
    "start_time": "2022-05-13T10:20:03.947Z"
   },
   {
    "duration": 24,
    "start_time": "2022-05-13T10:20:03.960Z"
   },
   {
    "duration": 50,
    "start_time": "2022-05-13T10:20:03.986Z"
   },
   {
    "duration": 10,
    "start_time": "2022-05-13T10:20:04.037Z"
   },
   {
    "duration": 18,
    "start_time": "2022-05-13T10:20:04.049Z"
   },
   {
    "duration": 23,
    "start_time": "2022-05-13T10:20:04.069Z"
   },
   {
    "duration": 44,
    "start_time": "2022-05-13T10:20:04.094Z"
   },
   {
    "duration": 288,
    "start_time": "2022-05-13T10:20:04.139Z"
   },
   {
    "duration": 48,
    "start_time": "2022-05-13T10:20:04.429Z"
   },
   {
    "duration": 95,
    "start_time": "2022-05-13T10:20:04.479Z"
   },
   {
    "duration": 54,
    "start_time": "2022-05-13T10:20:04.575Z"
   },
   {
    "duration": 58,
    "start_time": "2022-05-13T10:20:04.631Z"
   },
   {
    "duration": 10,
    "start_time": "2022-05-13T10:20:04.722Z"
   },
   {
    "duration": 29,
    "start_time": "2022-05-13T10:20:04.734Z"
   },
   {
    "duration": 84,
    "start_time": "2022-05-13T10:20:04.765Z"
   },
   {
    "duration": 4,
    "start_time": "2022-05-13T10:20:04.851Z"
   },
   {
    "duration": 29,
    "start_time": "2022-05-13T10:20:04.856Z"
   },
   {
    "duration": 602,
    "start_time": "2022-05-13T10:20:25.071Z"
   },
   {
    "duration": 20,
    "start_time": "2022-05-13T10:20:25.675Z"
   },
   {
    "duration": 41,
    "start_time": "2022-05-13T10:20:25.696Z"
   },
   {
    "duration": 30,
    "start_time": "2022-05-13T10:20:25.739Z"
   },
   {
    "duration": 25,
    "start_time": "2022-05-13T10:20:25.771Z"
   },
   {
    "duration": 22,
    "start_time": "2022-05-13T10:20:25.798Z"
   },
   {
    "duration": 30,
    "start_time": "2022-05-13T10:20:25.822Z"
   },
   {
    "duration": 17,
    "start_time": "2022-05-13T10:20:25.855Z"
   },
   {
    "duration": 26,
    "start_time": "2022-05-13T10:20:25.874Z"
   },
   {
    "duration": 22,
    "start_time": "2022-05-13T10:20:25.904Z"
   },
   {
    "duration": 17,
    "start_time": "2022-05-13T10:20:25.930Z"
   },
   {
    "duration": 27,
    "start_time": "2022-05-13T10:20:25.948Z"
   },
   {
    "duration": 56,
    "start_time": "2022-05-13T10:20:25.977Z"
   },
   {
    "duration": 5,
    "start_time": "2022-05-13T10:20:26.035Z"
   },
   {
    "duration": 39,
    "start_time": "2022-05-13T10:20:26.042Z"
   },
   {
    "duration": 20,
    "start_time": "2022-05-13T10:20:26.082Z"
   },
   {
    "duration": 30,
    "start_time": "2022-05-13T10:20:26.104Z"
   },
   {
    "duration": 28,
    "start_time": "2022-05-13T10:20:26.135Z"
   },
   {
    "duration": 72,
    "start_time": "2022-05-13T10:20:26.166Z"
   },
   {
    "duration": 16,
    "start_time": "2022-05-13T10:20:26.239Z"
   },
   {
    "duration": 22,
    "start_time": "2022-05-13T10:20:26.257Z"
   },
   {
    "duration": 19,
    "start_time": "2022-05-13T10:20:26.280Z"
   },
   {
    "duration": 48,
    "start_time": "2022-05-13T10:20:26.301Z"
   },
   {
    "duration": 33,
    "start_time": "2022-05-13T10:20:26.351Z"
   },
   {
    "duration": 10,
    "start_time": "2022-05-13T10:20:26.386Z"
   },
   {
    "duration": 54,
    "start_time": "2022-05-13T10:20:26.399Z"
   },
   {
    "duration": 12,
    "start_time": "2022-05-13T10:20:26.456Z"
   },
   {
    "duration": 28,
    "start_time": "2022-05-13T10:20:26.472Z"
   },
   {
    "duration": 26,
    "start_time": "2022-05-13T10:20:26.503Z"
   },
   {
    "duration": 8,
    "start_time": "2022-05-13T10:20:26.531Z"
   },
   {
    "duration": 18,
    "start_time": "2022-05-13T10:20:26.541Z"
   },
   {
    "duration": 25,
    "start_time": "2022-05-13T10:20:26.561Z"
   },
   {
    "duration": 45,
    "start_time": "2022-05-13T10:20:26.588Z"
   },
   {
    "duration": 129,
    "start_time": "2022-05-13T10:20:26.636Z"
   },
   {
    "duration": 44,
    "start_time": "2022-05-13T10:20:26.767Z"
   },
   {
    "duration": 73,
    "start_time": "2022-05-13T10:20:26.813Z"
   },
   {
    "duration": 47,
    "start_time": "2022-05-13T10:20:26.887Z"
   },
   {
    "duration": 55,
    "start_time": "2022-05-13T10:20:26.936Z"
   },
   {
    "duration": 31,
    "start_time": "2022-05-13T10:20:26.993Z"
   },
   {
    "duration": 21,
    "start_time": "2022-05-13T10:20:27.025Z"
   },
   {
    "duration": 89,
    "start_time": "2022-05-13T10:20:27.048Z"
   },
   {
    "duration": 5,
    "start_time": "2022-05-13T10:20:27.138Z"
   },
   {
    "duration": 3609,
    "start_time": "2022-05-13T10:20:27.145Z"
   },
   {
    "duration": 587,
    "start_time": "2022-05-13T10:20:40.904Z"
   },
   {
    "duration": 44,
    "start_time": "2022-05-13T10:20:41.494Z"
   },
   {
    "duration": 6,
    "start_time": "2022-05-13T10:20:41.539Z"
   },
   {
    "duration": 8,
    "start_time": "2022-05-13T10:20:41.548Z"
   },
   {
    "duration": 15,
    "start_time": "2022-05-13T10:20:41.558Z"
   },
   {
    "duration": 8,
    "start_time": "2022-05-13T10:20:41.575Z"
   },
   {
    "duration": 39,
    "start_time": "2022-05-13T10:20:41.585Z"
   },
   {
    "duration": 6,
    "start_time": "2022-05-13T10:20:41.625Z"
   },
   {
    "duration": 10,
    "start_time": "2022-05-13T10:20:41.633Z"
   },
   {
    "duration": 9,
    "start_time": "2022-05-13T10:20:41.646Z"
   },
   {
    "duration": 18,
    "start_time": "2022-05-13T10:20:41.657Z"
   },
   {
    "duration": 14,
    "start_time": "2022-05-13T10:20:41.677Z"
   },
   {
    "duration": 37,
    "start_time": "2022-05-13T10:20:41.722Z"
   },
   {
    "duration": 5,
    "start_time": "2022-05-13T10:20:41.761Z"
   },
   {
    "duration": 22,
    "start_time": "2022-05-13T10:20:41.768Z"
   },
   {
    "duration": 32,
    "start_time": "2022-05-13T10:20:41.791Z"
   },
   {
    "duration": 8,
    "start_time": "2022-05-13T10:20:41.825Z"
   },
   {
    "duration": 13,
    "start_time": "2022-05-13T10:20:41.835Z"
   },
   {
    "duration": 38,
    "start_time": "2022-05-13T10:20:41.850Z"
   },
   {
    "duration": 40,
    "start_time": "2022-05-13T10:20:41.890Z"
   },
   {
    "duration": 27,
    "start_time": "2022-05-13T10:20:41.932Z"
   },
   {
    "duration": 17,
    "start_time": "2022-05-13T10:20:41.961Z"
   },
   {
    "duration": 61,
    "start_time": "2022-05-13T10:20:41.980Z"
   },
   {
    "duration": 23,
    "start_time": "2022-05-13T10:20:42.043Z"
   },
   {
    "duration": 10,
    "start_time": "2022-05-13T10:20:42.068Z"
   },
   {
    "duration": 59,
    "start_time": "2022-05-13T10:20:42.080Z"
   },
   {
    "duration": 12,
    "start_time": "2022-05-13T10:20:42.141Z"
   },
   {
    "duration": 16,
    "start_time": "2022-05-13T10:20:42.157Z"
   },
   {
    "duration": 17,
    "start_time": "2022-05-13T10:20:42.175Z"
   },
   {
    "duration": 8,
    "start_time": "2022-05-13T10:20:42.222Z"
   },
   {
    "duration": 3,
    "start_time": "2022-05-13T10:20:42.232Z"
   },
   {
    "duration": 24,
    "start_time": "2022-05-13T10:20:42.236Z"
   },
   {
    "duration": 29,
    "start_time": "2022-05-13T10:20:42.262Z"
   },
   {
    "duration": 318,
    "start_time": "2022-05-13T10:20:42.293Z"
   },
   {
    "duration": 50,
    "start_time": "2022-05-13T10:20:42.622Z"
   },
   {
    "duration": 86,
    "start_time": "2022-05-13T10:20:42.673Z"
   },
   {
    "duration": 32,
    "start_time": "2022-05-13T10:20:42.761Z"
   },
   {
    "duration": 76,
    "start_time": "2022-05-13T10:20:42.795Z"
   },
   {
    "duration": 10,
    "start_time": "2022-05-13T10:20:42.873Z"
   },
   {
    "duration": 43,
    "start_time": "2022-05-13T10:20:42.885Z"
   },
   {
    "duration": 66,
    "start_time": "2022-05-13T10:20:42.929Z"
   },
   {
    "duration": 27,
    "start_time": "2022-05-13T10:20:42.997Z"
   },
   {
    "duration": 11,
    "start_time": "2022-05-13T10:20:43.026Z"
   },
   {
    "duration": 823,
    "start_time": "2022-05-13T10:21:20.473Z"
   },
   {
    "duration": 46,
    "start_time": "2022-05-13T10:21:21.300Z"
   },
   {
    "duration": 6,
    "start_time": "2022-05-13T10:21:21.348Z"
   },
   {
    "duration": 11,
    "start_time": "2022-05-13T10:21:21.356Z"
   },
   {
    "duration": 14,
    "start_time": "2022-05-13T10:21:21.369Z"
   },
   {
    "duration": 8,
    "start_time": "2022-05-13T10:21:21.384Z"
   },
   {
    "duration": 11,
    "start_time": "2022-05-13T10:21:21.423Z"
   },
   {
    "duration": 5,
    "start_time": "2022-05-13T10:21:21.437Z"
   },
   {
    "duration": 10,
    "start_time": "2022-05-13T10:21:21.444Z"
   },
   {
    "duration": 9,
    "start_time": "2022-05-13T10:21:21.456Z"
   },
   {
    "duration": 15,
    "start_time": "2022-05-13T10:21:21.467Z"
   },
   {
    "duration": 46,
    "start_time": "2022-05-13T10:21:21.483Z"
   },
   {
    "duration": 37,
    "start_time": "2022-05-13T10:21:21.531Z"
   },
   {
    "duration": 6,
    "start_time": "2022-05-13T10:21:21.569Z"
   },
   {
    "duration": 48,
    "start_time": "2022-05-13T10:21:21.576Z"
   },
   {
    "duration": 8,
    "start_time": "2022-05-13T10:21:21.625Z"
   },
   {
    "duration": 14,
    "start_time": "2022-05-13T10:21:21.635Z"
   },
   {
    "duration": 13,
    "start_time": "2022-05-13T10:21:21.650Z"
   },
   {
    "duration": 59,
    "start_time": "2022-05-13T10:21:21.665Z"
   },
   {
    "duration": 16,
    "start_time": "2022-05-13T10:21:21.726Z"
   },
   {
    "duration": 21,
    "start_time": "2022-05-13T10:21:21.744Z"
   },
   {
    "duration": 13,
    "start_time": "2022-05-13T10:21:21.767Z"
   },
   {
    "duration": 54,
    "start_time": "2022-05-13T10:21:21.782Z"
   },
   {
    "duration": 23,
    "start_time": "2022-05-13T10:21:21.838Z"
   },
   {
    "duration": 11,
    "start_time": "2022-05-13T10:21:21.863Z"
   },
   {
    "duration": 61,
    "start_time": "2022-05-13T10:21:21.875Z"
   },
   {
    "duration": 12,
    "start_time": "2022-05-13T10:21:21.937Z"
   },
   {
    "duration": 16,
    "start_time": "2022-05-13T10:21:21.953Z"
   },
   {
    "duration": 17,
    "start_time": "2022-05-13T10:21:21.971Z"
   },
   {
    "duration": 38,
    "start_time": "2022-05-13T10:21:21.989Z"
   },
   {
    "duration": 3,
    "start_time": "2022-05-13T10:21:22.029Z"
   },
   {
    "duration": 12,
    "start_time": "2022-05-13T10:21:22.034Z"
   },
   {
    "duration": 38,
    "start_time": "2022-05-13T10:21:22.048Z"
   },
   {
    "duration": 220,
    "start_time": "2022-05-13T10:21:22.089Z"
   },
   {
    "duration": 76,
    "start_time": "2022-05-13T10:21:22.311Z"
   },
   {
    "duration": 85,
    "start_time": "2022-05-13T10:21:22.389Z"
   },
   {
    "duration": 55,
    "start_time": "2022-05-13T10:21:22.476Z"
   },
   {
    "duration": 59,
    "start_time": "2022-05-13T10:21:22.533Z"
   },
   {
    "duration": 35,
    "start_time": "2022-05-13T10:21:22.594Z"
   },
   {
    "duration": 25,
    "start_time": "2022-05-13T10:21:22.631Z"
   },
   {
    "duration": 90,
    "start_time": "2022-05-13T10:21:22.658Z"
   },
   {
    "duration": 4,
    "start_time": "2022-05-13T10:21:22.750Z"
   },
   {
    "duration": 3410,
    "start_time": "2022-05-13T10:21:22.756Z"
   },
   {
    "duration": 6,
    "start_time": "2022-05-13T10:21:46.419Z"
   },
   {
    "duration": 3958,
    "start_time": "2022-05-13T10:21:52.629Z"
   },
   {
    "duration": 534,
    "start_time": "2022-05-13T10:23:55.348Z"
   },
   {
    "duration": 40,
    "start_time": "2022-05-13T10:23:55.884Z"
   },
   {
    "duration": 5,
    "start_time": "2022-05-13T10:23:55.925Z"
   },
   {
    "duration": 13,
    "start_time": "2022-05-13T10:23:55.932Z"
   },
   {
    "duration": 12,
    "start_time": "2022-05-13T10:23:55.948Z"
   },
   {
    "duration": 11,
    "start_time": "2022-05-13T10:23:55.962Z"
   },
   {
    "duration": 11,
    "start_time": "2022-05-13T10:23:55.975Z"
   },
   {
    "duration": 18,
    "start_time": "2022-05-13T10:23:55.987Z"
   },
   {
    "duration": 21,
    "start_time": "2022-05-13T10:23:56.007Z"
   },
   {
    "duration": 8,
    "start_time": "2022-05-13T10:23:56.029Z"
   },
   {
    "duration": 10,
    "start_time": "2022-05-13T10:23:56.039Z"
   },
   {
    "duration": 11,
    "start_time": "2022-05-13T10:23:56.051Z"
   },
   {
    "duration": 37,
    "start_time": "2022-05-13T10:23:56.063Z"
   },
   {
    "duration": 5,
    "start_time": "2022-05-13T10:23:56.122Z"
   },
   {
    "duration": 29,
    "start_time": "2022-05-13T10:23:56.129Z"
   },
   {
    "duration": 7,
    "start_time": "2022-05-13T10:23:56.160Z"
   },
   {
    "duration": 11,
    "start_time": "2022-05-13T10:23:56.168Z"
   },
   {
    "duration": 13,
    "start_time": "2022-05-13T10:23:56.181Z"
   },
   {
    "duration": 54,
    "start_time": "2022-05-13T10:23:56.196Z"
   },
   {
    "duration": 14,
    "start_time": "2022-05-13T10:23:56.252Z"
   },
   {
    "duration": 21,
    "start_time": "2022-05-13T10:23:56.268Z"
   },
   {
    "duration": 41,
    "start_time": "2022-05-13T10:23:56.291Z"
   },
   {
    "duration": 36,
    "start_time": "2022-05-13T10:23:56.334Z"
   },
   {
    "duration": 22,
    "start_time": "2022-05-13T10:23:56.372Z"
   },
   {
    "duration": 31,
    "start_time": "2022-05-13T10:23:56.396Z"
   },
   {
    "duration": 31,
    "start_time": "2022-05-13T10:23:56.429Z"
   },
   {
    "duration": 11,
    "start_time": "2022-05-13T10:23:56.462Z"
   },
   {
    "duration": 14,
    "start_time": "2022-05-13T10:23:56.475Z"
   },
   {
    "duration": 16,
    "start_time": "2022-05-13T10:23:56.524Z"
   },
   {
    "duration": 7,
    "start_time": "2022-05-13T10:23:56.542Z"
   },
   {
    "duration": 12,
    "start_time": "2022-05-13T10:23:56.551Z"
   },
   {
    "duration": 37,
    "start_time": "2022-05-13T10:23:56.565Z"
   },
   {
    "duration": 46,
    "start_time": "2022-05-13T10:23:56.604Z"
   },
   {
    "duration": 129,
    "start_time": "2022-05-13T10:23:56.652Z"
   },
   {
    "duration": 54,
    "start_time": "2022-05-13T10:23:56.783Z"
   },
   {
    "duration": 64,
    "start_time": "2022-05-13T10:23:56.839Z"
   },
   {
    "duration": 48,
    "start_time": "2022-05-13T10:23:56.904Z"
   },
   {
    "duration": 73,
    "start_time": "2022-05-13T10:23:56.954Z"
   },
   {
    "duration": 11,
    "start_time": "2022-05-13T10:23:57.029Z"
   },
   {
    "duration": 26,
    "start_time": "2022-05-13T10:23:57.041Z"
   },
   {
    "duration": 83,
    "start_time": "2022-05-13T10:23:57.072Z"
   },
   {
    "duration": 4,
    "start_time": "2022-05-13T10:23:57.157Z"
   },
   {
    "duration": 3165,
    "start_time": "2022-05-13T10:23:57.162Z"
   },
   {
    "duration": 9,
    "start_time": "2022-05-13T10:26:13.574Z"
   },
   {
    "duration": 65,
    "start_time": "2022-05-13T10:27:52.001Z"
   },
   {
    "duration": 3,
    "start_time": "2022-05-13T10:31:03.494Z"
   },
   {
    "duration": 3255,
    "start_time": "2022-05-13T10:31:07.740Z"
   },
   {
    "duration": 562,
    "start_time": "2022-05-13T10:31:50.583Z"
   },
   {
    "duration": 20,
    "start_time": "2022-05-13T10:31:51.148Z"
   },
   {
    "duration": 5,
    "start_time": "2022-05-13T10:31:51.169Z"
   },
   {
    "duration": 6,
    "start_time": "2022-05-13T10:31:51.176Z"
   },
   {
    "duration": 42,
    "start_time": "2022-05-13T10:31:51.184Z"
   },
   {
    "duration": 9,
    "start_time": "2022-05-13T10:31:51.227Z"
   },
   {
    "duration": 12,
    "start_time": "2022-05-13T10:31:51.238Z"
   },
   {
    "duration": 5,
    "start_time": "2022-05-13T10:31:51.252Z"
   },
   {
    "duration": 8,
    "start_time": "2022-05-13T10:31:51.259Z"
   },
   {
    "duration": 11,
    "start_time": "2022-05-13T10:31:51.269Z"
   },
   {
    "duration": 14,
    "start_time": "2022-05-13T10:31:51.282Z"
   },
   {
    "duration": 8,
    "start_time": "2022-05-13T10:31:51.323Z"
   },
   {
    "duration": 35,
    "start_time": "2022-05-13T10:31:51.333Z"
   },
   {
    "duration": 5,
    "start_time": "2022-05-13T10:31:51.370Z"
   },
   {
    "duration": 46,
    "start_time": "2022-05-13T10:31:51.377Z"
   },
   {
    "duration": 8,
    "start_time": "2022-05-13T10:31:51.425Z"
   },
   {
    "duration": 8,
    "start_time": "2022-05-13T10:31:51.434Z"
   },
   {
    "duration": 13,
    "start_time": "2022-05-13T10:31:51.443Z"
   },
   {
    "duration": 35,
    "start_time": "2022-05-13T10:31:51.458Z"
   },
   {
    "duration": 40,
    "start_time": "2022-05-13T10:31:51.495Z"
   },
   {
    "duration": 20,
    "start_time": "2022-05-13T10:31:51.537Z"
   },
   {
    "duration": 12,
    "start_time": "2022-05-13T10:31:51.559Z"
   },
   {
    "duration": 53,
    "start_time": "2022-05-13T10:31:51.572Z"
   },
   {
    "duration": 23,
    "start_time": "2022-05-13T10:31:51.627Z"
   },
   {
    "duration": 10,
    "start_time": "2022-05-13T10:31:51.651Z"
   },
   {
    "duration": 31,
    "start_time": "2022-05-13T10:31:51.663Z"
   },
   {
    "duration": 37,
    "start_time": "2022-05-13T10:31:51.696Z"
   },
   {
    "duration": 16,
    "start_time": "2022-05-13T10:31:51.738Z"
   },
   {
    "duration": 20,
    "start_time": "2022-05-13T10:31:51.756Z"
   },
   {
    "duration": 8,
    "start_time": "2022-05-13T10:31:51.777Z"
   },
   {
    "duration": 6,
    "start_time": "2022-05-13T10:31:51.786Z"
   },
   {
    "duration": 15,
    "start_time": "2022-05-13T10:31:51.823Z"
   },
   {
    "duration": 29,
    "start_time": "2022-05-13T10:31:51.841Z"
   },
   {
    "duration": 140,
    "start_time": "2022-05-13T10:31:51.872Z"
   },
   {
    "duration": 49,
    "start_time": "2022-05-13T10:31:52.014Z"
   },
   {
    "duration": 82,
    "start_time": "2022-05-13T10:31:52.065Z"
   },
   {
    "duration": 31,
    "start_time": "2022-05-13T10:31:52.149Z"
   },
   {
    "duration": 77,
    "start_time": "2022-05-13T10:31:52.182Z"
   },
   {
    "duration": 11,
    "start_time": "2022-05-13T10:31:52.260Z"
   },
   {
    "duration": 26,
    "start_time": "2022-05-13T10:31:52.272Z"
   },
   {
    "duration": 96,
    "start_time": "2022-05-13T10:31:52.300Z"
   },
   {
    "duration": 5,
    "start_time": "2022-05-13T10:31:52.398Z"
   },
   {
    "duration": 15,
    "start_time": "2022-05-13T10:31:52.424Z"
   },
   {
    "duration": 99,
    "start_time": "2022-05-13T10:33:52.685Z"
   },
   {
    "duration": 84,
    "start_time": "2022-05-13T10:34:33.653Z"
   },
   {
    "duration": 3,
    "start_time": "2022-05-13T10:34:46.447Z"
   },
   {
    "duration": 11,
    "start_time": "2022-05-13T10:34:47.961Z"
   },
   {
    "duration": 582,
    "start_time": "2022-05-13T10:38:42.158Z"
   },
   {
    "duration": 20,
    "start_time": "2022-05-13T10:38:42.743Z"
   },
   {
    "duration": 5,
    "start_time": "2022-05-13T10:38:42.766Z"
   },
   {
    "duration": 10,
    "start_time": "2022-05-13T10:38:42.773Z"
   },
   {
    "duration": 37,
    "start_time": "2022-05-13T10:38:42.785Z"
   },
   {
    "duration": 7,
    "start_time": "2022-05-13T10:38:42.824Z"
   },
   {
    "duration": 16,
    "start_time": "2022-05-13T10:38:42.833Z"
   },
   {
    "duration": 5,
    "start_time": "2022-05-13T10:38:42.852Z"
   },
   {
    "duration": 8,
    "start_time": "2022-05-13T10:38:42.859Z"
   },
   {
    "duration": 8,
    "start_time": "2022-05-13T10:38:42.871Z"
   },
   {
    "duration": 52,
    "start_time": "2022-05-13T10:38:42.881Z"
   },
   {
    "duration": 9,
    "start_time": "2022-05-13T10:38:42.935Z"
   },
   {
    "duration": 38,
    "start_time": "2022-05-13T10:38:42.946Z"
   },
   {
    "duration": 6,
    "start_time": "2022-05-13T10:38:42.987Z"
   },
   {
    "duration": 43,
    "start_time": "2022-05-13T10:38:42.994Z"
   },
   {
    "duration": 8,
    "start_time": "2022-05-13T10:38:43.039Z"
   },
   {
    "duration": 9,
    "start_time": "2022-05-13T10:38:43.049Z"
   },
   {
    "duration": 12,
    "start_time": "2022-05-13T10:38:43.060Z"
   },
   {
    "duration": 65,
    "start_time": "2022-05-13T10:38:43.074Z"
   },
   {
    "duration": 15,
    "start_time": "2022-05-13T10:38:43.141Z"
   },
   {
    "duration": 18,
    "start_time": "2022-05-13T10:38:43.157Z"
   },
   {
    "duration": 12,
    "start_time": "2022-05-13T10:38:43.177Z"
   },
   {
    "duration": 55,
    "start_time": "2022-05-13T10:38:43.191Z"
   },
   {
    "duration": 22,
    "start_time": "2022-05-13T10:38:43.248Z"
   },
   {
    "duration": 9,
    "start_time": "2022-05-13T10:38:43.272Z"
   },
   {
    "duration": 64,
    "start_time": "2022-05-13T10:38:43.283Z"
   },
   {
    "duration": 13,
    "start_time": "2022-05-13T10:38:43.349Z"
   },
   {
    "duration": 15,
    "start_time": "2022-05-13T10:38:43.366Z"
   },
   {
    "duration": 46,
    "start_time": "2022-05-13T10:38:43.384Z"
   },
   {
    "duration": 8,
    "start_time": "2022-05-13T10:38:43.431Z"
   },
   {
    "duration": 9,
    "start_time": "2022-05-13T10:38:43.440Z"
   },
   {
    "duration": 20,
    "start_time": "2022-05-13T10:38:43.451Z"
   },
   {
    "duration": 37,
    "start_time": "2022-05-13T10:38:43.472Z"
   },
   {
    "duration": 142,
    "start_time": "2022-05-13T10:38:43.511Z"
   },
   {
    "duration": 49,
    "start_time": "2022-05-13T10:38:43.655Z"
   },
   {
    "duration": 82,
    "start_time": "2022-05-13T10:38:43.706Z"
   },
   {
    "duration": 56,
    "start_time": "2022-05-13T10:38:43.790Z"
   },
   {
    "duration": 108,
    "start_time": "2022-05-13T10:38:43.848Z"
   },
   {
    "duration": 14,
    "start_time": "2022-05-13T10:38:43.958Z"
   },
   {
    "duration": 33,
    "start_time": "2022-05-13T10:38:43.974Z"
   },
   {
    "duration": 72,
    "start_time": "2022-05-13T10:38:44.023Z"
   },
   {
    "duration": 3,
    "start_time": "2022-05-13T10:38:44.097Z"
   },
   {
    "duration": 13,
    "start_time": "2022-05-13T10:38:44.122Z"
   },
   {
    "duration": 584,
    "start_time": "2022-05-13T10:47:43.885Z"
   },
   {
    "duration": 20,
    "start_time": "2022-05-13T10:47:44.472Z"
   },
   {
    "duration": 5,
    "start_time": "2022-05-13T10:47:44.522Z"
   },
   {
    "duration": 5,
    "start_time": "2022-05-13T10:47:44.531Z"
   },
   {
    "duration": 12,
    "start_time": "2022-05-13T10:47:44.538Z"
   },
   {
    "duration": 6,
    "start_time": "2022-05-13T10:47:44.553Z"
   },
   {
    "duration": 9,
    "start_time": "2022-05-13T10:47:44.561Z"
   },
   {
    "duration": 7,
    "start_time": "2022-05-13T10:47:44.572Z"
   },
   {
    "duration": 46,
    "start_time": "2022-05-13T10:47:44.581Z"
   },
   {
    "duration": 7,
    "start_time": "2022-05-13T10:47:44.629Z"
   },
   {
    "duration": 19,
    "start_time": "2022-05-13T10:47:44.638Z"
   },
   {
    "duration": 44,
    "start_time": "2022-05-13T10:47:44.659Z"
   },
   {
    "duration": 54,
    "start_time": "2022-05-13T10:47:44.704Z"
   },
   {
    "duration": 5,
    "start_time": "2022-05-13T10:47:44.759Z"
   },
   {
    "duration": 32,
    "start_time": "2022-05-13T10:47:44.766Z"
   },
   {
    "duration": 8,
    "start_time": "2022-05-13T10:47:44.799Z"
   },
   {
    "duration": 21,
    "start_time": "2022-05-13T10:47:44.809Z"
   },
   {
    "duration": 16,
    "start_time": "2022-05-13T10:47:44.832Z"
   },
   {
    "duration": 43,
    "start_time": "2022-05-13T10:47:44.849Z"
   },
   {
    "duration": 29,
    "start_time": "2022-05-13T10:47:44.893Z"
   },
   {
    "duration": 19,
    "start_time": "2022-05-13T10:47:44.924Z"
   },
   {
    "duration": 14,
    "start_time": "2022-05-13T10:47:44.945Z"
   },
   {
    "duration": 26,
    "start_time": "2022-05-13T10:47:44.960Z"
   },
   {
    "duration": 51,
    "start_time": "2022-05-13T10:47:44.988Z"
   },
   {
    "duration": 12,
    "start_time": "2022-05-13T10:47:45.041Z"
   },
   {
    "duration": 33,
    "start_time": "2022-05-13T10:47:45.055Z"
   },
   {
    "duration": 40,
    "start_time": "2022-05-13T10:47:45.090Z"
   },
   {
    "duration": 16,
    "start_time": "2022-05-13T10:47:45.135Z"
   },
   {
    "duration": 15,
    "start_time": "2022-05-13T10:47:45.153Z"
   },
   {
    "duration": 8,
    "start_time": "2022-05-13T10:47:45.170Z"
   },
   {
    "duration": 3,
    "start_time": "2022-05-13T10:47:45.180Z"
   },
   {
    "duration": 48,
    "start_time": "2022-05-13T10:47:45.185Z"
   },
   {
    "duration": 26,
    "start_time": "2022-05-13T10:47:45.235Z"
   },
   {
    "duration": 160,
    "start_time": "2022-05-13T10:47:45.263Z"
   },
   {
    "duration": 49,
    "start_time": "2022-05-13T10:47:45.425Z"
   },
   {
    "duration": 85,
    "start_time": "2022-05-13T10:47:45.476Z"
   },
   {
    "duration": 30,
    "start_time": "2022-05-13T10:47:45.562Z"
   },
   {
    "duration": 73,
    "start_time": "2022-05-13T10:47:45.594Z"
   },
   {
    "duration": 10,
    "start_time": "2022-05-13T10:47:45.668Z"
   },
   {
    "duration": 18,
    "start_time": "2022-05-13T10:47:45.680Z"
   },
   {
    "duration": 65,
    "start_time": "2022-05-13T10:47:45.723Z"
   },
   {
    "duration": 3,
    "start_time": "2022-05-13T10:47:45.789Z"
   },
   {
    "duration": 32,
    "start_time": "2022-05-13T10:47:45.794Z"
   },
   {
    "duration": 3888,
    "start_time": "2022-05-13T10:55:04.195Z"
   },
   {
    "duration": 617,
    "start_time": "2022-05-13T10:55:28.945Z"
   },
   {
    "duration": 29,
    "start_time": "2022-05-13T10:55:29.564Z"
   },
   {
    "duration": 29,
    "start_time": "2022-05-13T10:55:29.596Z"
   },
   {
    "duration": 20,
    "start_time": "2022-05-13T10:55:29.628Z"
   },
   {
    "duration": 21,
    "start_time": "2022-05-13T10:55:29.650Z"
   },
   {
    "duration": 19,
    "start_time": "2022-05-13T10:55:29.673Z"
   },
   {
    "duration": 21,
    "start_time": "2022-05-13T10:55:29.693Z"
   },
   {
    "duration": 31,
    "start_time": "2022-05-13T10:55:29.716Z"
   },
   {
    "duration": 14,
    "start_time": "2022-05-13T10:55:29.749Z"
   },
   {
    "duration": 20,
    "start_time": "2022-05-13T10:55:29.766Z"
   },
   {
    "duration": 28,
    "start_time": "2022-05-13T10:55:29.788Z"
   },
   {
    "duration": 17,
    "start_time": "2022-05-13T10:55:29.818Z"
   },
   {
    "duration": 51,
    "start_time": "2022-05-13T10:55:29.837Z"
   },
   {
    "duration": 5,
    "start_time": "2022-05-13T10:55:29.890Z"
   },
   {
    "duration": 30,
    "start_time": "2022-05-13T10:55:29.897Z"
   },
   {
    "duration": 16,
    "start_time": "2022-05-13T10:55:29.929Z"
   },
   {
    "duration": 9,
    "start_time": "2022-05-13T10:55:29.946Z"
   },
   {
    "duration": 19,
    "start_time": "2022-05-13T10:55:29.957Z"
   },
   {
    "duration": 48,
    "start_time": "2022-05-13T10:55:29.977Z"
   },
   {
    "duration": 15,
    "start_time": "2022-05-13T10:55:30.027Z"
   },
   {
    "duration": 25,
    "start_time": "2022-05-13T10:55:30.043Z"
   },
   {
    "duration": 20,
    "start_time": "2022-05-13T10:55:30.070Z"
   },
   {
    "duration": 40,
    "start_time": "2022-05-13T10:55:30.091Z"
   },
   {
    "duration": 38,
    "start_time": "2022-05-13T10:55:30.132Z"
   },
   {
    "duration": 18,
    "start_time": "2022-05-13T10:55:30.171Z"
   },
   {
    "duration": 64,
    "start_time": "2022-05-13T10:55:30.191Z"
   },
   {
    "duration": 14,
    "start_time": "2022-05-13T10:55:30.256Z"
   },
   {
    "duration": 31,
    "start_time": "2022-05-13T10:55:30.274Z"
   },
   {
    "duration": 24,
    "start_time": "2022-05-13T10:55:30.307Z"
   },
   {
    "duration": 21,
    "start_time": "2022-05-13T10:55:30.333Z"
   },
   {
    "duration": 16,
    "start_time": "2022-05-13T10:55:30.356Z"
   },
   {
    "duration": 36,
    "start_time": "2022-05-13T10:55:30.374Z"
   },
   {
    "duration": 55,
    "start_time": "2022-05-13T10:55:30.412Z"
   },
   {
    "duration": 139,
    "start_time": "2022-05-13T10:55:30.469Z"
   },
   {
    "duration": 48,
    "start_time": "2022-05-13T10:55:30.610Z"
   },
   {
    "duration": 79,
    "start_time": "2022-05-13T10:55:30.660Z"
   },
   {
    "duration": 32,
    "start_time": "2022-05-13T10:55:30.741Z"
   },
   {
    "duration": 83,
    "start_time": "2022-05-13T10:55:30.775Z"
   },
   {
    "duration": 13,
    "start_time": "2022-05-13T10:55:30.860Z"
   },
   {
    "duration": 49,
    "start_time": "2022-05-13T10:55:30.875Z"
   },
   {
    "duration": 105,
    "start_time": "2022-05-13T10:55:30.926Z"
   },
   {
    "duration": 3216,
    "start_time": "2022-05-13T10:55:31.033Z"
   },
   {
    "duration": 0,
    "start_time": "2022-05-13T10:55:34.252Z"
   },
   {
    "duration": 0,
    "start_time": "2022-05-13T10:55:34.253Z"
   },
   {
    "duration": 15,
    "start_time": "2022-05-13T11:05:27.795Z"
   },
   {
    "duration": 543,
    "start_time": "2022-05-13T11:05:33.239Z"
   },
   {
    "duration": 43,
    "start_time": "2022-05-13T11:05:33.785Z"
   },
   {
    "duration": 10,
    "start_time": "2022-05-13T11:05:33.829Z"
   },
   {
    "duration": 5,
    "start_time": "2022-05-13T11:05:33.842Z"
   },
   {
    "duration": 18,
    "start_time": "2022-05-13T11:05:33.849Z"
   },
   {
    "duration": 8,
    "start_time": "2022-05-13T11:05:33.869Z"
   },
   {
    "duration": 12,
    "start_time": "2022-05-13T11:05:33.879Z"
   },
   {
    "duration": 43,
    "start_time": "2022-05-13T11:05:33.893Z"
   },
   {
    "duration": 18,
    "start_time": "2022-05-13T11:05:33.937Z"
   },
   {
    "duration": 7,
    "start_time": "2022-05-13T11:05:33.958Z"
   },
   {
    "duration": 18,
    "start_time": "2022-05-13T11:05:33.967Z"
   },
   {
    "duration": 10,
    "start_time": "2022-05-13T11:05:33.987Z"
   },
   {
    "duration": 51,
    "start_time": "2022-05-13T11:05:33.999Z"
   },
   {
    "duration": 5,
    "start_time": "2022-05-13T11:05:34.052Z"
   },
   {
    "duration": 27,
    "start_time": "2022-05-13T11:05:34.059Z"
   },
   {
    "duration": 12,
    "start_time": "2022-05-13T11:05:34.088Z"
   },
   {
    "duration": 28,
    "start_time": "2022-05-13T11:05:34.102Z"
   },
   {
    "duration": 15,
    "start_time": "2022-05-13T11:05:34.132Z"
   },
   {
    "duration": 39,
    "start_time": "2022-05-13T11:05:34.149Z"
   },
   {
    "duration": 45,
    "start_time": "2022-05-13T11:05:34.189Z"
   },
   {
    "duration": 21,
    "start_time": "2022-05-13T11:05:34.236Z"
   },
   {
    "duration": 14,
    "start_time": "2022-05-13T11:05:34.259Z"
   },
   {
    "duration": 52,
    "start_time": "2022-05-13T11:05:34.275Z"
   },
   {
    "duration": 22,
    "start_time": "2022-05-13T11:05:34.329Z"
   },
   {
    "duration": 14,
    "start_time": "2022-05-13T11:05:34.353Z"
   },
   {
    "duration": 52,
    "start_time": "2022-05-13T11:05:34.369Z"
   },
   {
    "duration": 11,
    "start_time": "2022-05-13T11:05:34.424Z"
   },
   {
    "duration": 15,
    "start_time": "2022-05-13T11:05:34.439Z"
   },
   {
    "duration": 16,
    "start_time": "2022-05-13T11:05:34.456Z"
   },
   {
    "duration": 7,
    "start_time": "2022-05-13T11:05:34.473Z"
   },
   {
    "duration": 3,
    "start_time": "2022-05-13T11:05:34.482Z"
   },
   {
    "duration": 11,
    "start_time": "2022-05-13T11:05:34.523Z"
   },
   {
    "duration": 26,
    "start_time": "2022-05-13T11:05:34.536Z"
   },
   {
    "duration": 149,
    "start_time": "2022-05-13T11:05:34.564Z"
   },
   {
    "duration": 51,
    "start_time": "2022-05-13T11:05:34.715Z"
   },
   {
    "duration": 81,
    "start_time": "2022-05-13T11:05:34.768Z"
   },
   {
    "duration": 37,
    "start_time": "2022-05-13T11:05:34.850Z"
   },
   {
    "duration": 102,
    "start_time": "2022-05-13T11:05:34.889Z"
   },
   {
    "duration": 30,
    "start_time": "2022-05-13T11:05:34.993Z"
   },
   {
    "duration": 23,
    "start_time": "2022-05-13T11:05:35.026Z"
   },
   {
    "duration": 114,
    "start_time": "2022-05-13T11:05:35.051Z"
   },
   {
    "duration": 22,
    "start_time": "2022-05-13T11:05:35.167Z"
   },
   {
    "duration": 0,
    "start_time": "2022-05-13T11:05:35.190Z"
   },
   {
    "duration": 0,
    "start_time": "2022-05-13T11:05:35.192Z"
   },
   {
    "duration": 17,
    "start_time": "2022-05-13T11:06:05.076Z"
   },
   {
    "duration": 592,
    "start_time": "2022-05-13T11:06:15.161Z"
   },
   {
    "duration": 20,
    "start_time": "2022-05-13T11:06:15.756Z"
   },
   {
    "duration": 6,
    "start_time": "2022-05-13T11:06:15.778Z"
   },
   {
    "duration": 6,
    "start_time": "2022-05-13T11:06:15.786Z"
   },
   {
    "duration": 42,
    "start_time": "2022-05-13T11:06:15.793Z"
   },
   {
    "duration": 8,
    "start_time": "2022-05-13T11:06:15.837Z"
   },
   {
    "duration": 11,
    "start_time": "2022-05-13T11:06:15.846Z"
   },
   {
    "duration": 7,
    "start_time": "2022-05-13T11:06:15.858Z"
   },
   {
    "duration": 9,
    "start_time": "2022-05-13T11:06:15.867Z"
   },
   {
    "duration": 45,
    "start_time": "2022-05-13T11:06:15.879Z"
   },
   {
    "duration": 13,
    "start_time": "2022-05-13T11:06:15.926Z"
   },
   {
    "duration": 8,
    "start_time": "2022-05-13T11:06:15.940Z"
   },
   {
    "duration": 35,
    "start_time": "2022-05-13T11:06:15.950Z"
   },
   {
    "duration": 5,
    "start_time": "2022-05-13T11:06:15.987Z"
   },
   {
    "duration": 19,
    "start_time": "2022-05-13T11:06:16.023Z"
   },
   {
    "duration": 8,
    "start_time": "2022-05-13T11:06:16.043Z"
   },
   {
    "duration": 9,
    "start_time": "2022-05-13T11:06:16.052Z"
   },
   {
    "duration": 15,
    "start_time": "2022-05-13T11:06:16.063Z"
   },
   {
    "duration": 66,
    "start_time": "2022-05-13T11:06:16.080Z"
   },
   {
    "duration": 18,
    "start_time": "2022-05-13T11:06:16.148Z"
   },
   {
    "duration": 21,
    "start_time": "2022-05-13T11:06:16.167Z"
   },
   {
    "duration": 39,
    "start_time": "2022-05-13T11:06:16.190Z"
   },
   {
    "duration": 29,
    "start_time": "2022-05-13T11:06:16.231Z"
   },
   {
    "duration": 35,
    "start_time": "2022-05-13T11:06:16.262Z"
   },
   {
    "duration": 14,
    "start_time": "2022-05-13T11:06:16.323Z"
   },
   {
    "duration": 32,
    "start_time": "2022-05-13T11:06:16.339Z"
   },
   {
    "duration": 11,
    "start_time": "2022-05-13T11:06:16.373Z"
   },
   {
    "duration": 45,
    "start_time": "2022-05-13T11:06:16.388Z"
   },
   {
    "duration": 15,
    "start_time": "2022-05-13T11:06:16.435Z"
   },
   {
    "duration": 7,
    "start_time": "2022-05-13T11:06:16.452Z"
   },
   {
    "duration": 7,
    "start_time": "2022-05-13T11:06:16.461Z"
   },
   {
    "duration": 14,
    "start_time": "2022-05-13T11:06:16.470Z"
   },
   {
    "duration": 60,
    "start_time": "2022-05-13T11:06:16.486Z"
   },
   {
    "duration": 145,
    "start_time": "2022-05-13T11:06:16.548Z"
   },
   {
    "duration": 57,
    "start_time": "2022-05-13T11:06:16.695Z"
   },
   {
    "duration": 78,
    "start_time": "2022-05-13T11:06:16.754Z"
   },
   {
    "duration": 32,
    "start_time": "2022-05-13T11:06:16.834Z"
   },
   {
    "duration": 87,
    "start_time": "2022-05-13T11:06:16.869Z"
   },
   {
    "duration": 11,
    "start_time": "2022-05-13T11:06:16.958Z"
   },
   {
    "duration": 21,
    "start_time": "2022-05-13T11:06:16.971Z"
   },
   {
    "duration": 69,
    "start_time": "2022-05-13T11:06:17.022Z"
   },
   {
    "duration": 38,
    "start_time": "2022-05-13T11:06:17.093Z"
   },
   {
    "duration": 0,
    "start_time": "2022-05-13T11:06:17.133Z"
   },
   {
    "duration": 0,
    "start_time": "2022-05-13T11:06:17.134Z"
   },
   {
    "duration": 20,
    "start_time": "2022-05-13T11:08:05.491Z"
   },
   {
    "duration": 2413,
    "start_time": "2022-05-13T11:10:10.136Z"
   },
   {
    "duration": 697,
    "start_time": "2022-05-13T11:10:59.465Z"
   },
   {
    "duration": 21,
    "start_time": "2022-05-13T11:11:00.163Z"
   },
   {
    "duration": 12,
    "start_time": "2022-05-13T11:11:00.186Z"
   },
   {
    "duration": 11,
    "start_time": "2022-05-13T11:11:00.222Z"
   },
   {
    "duration": 13,
    "start_time": "2022-05-13T11:11:00.236Z"
   },
   {
    "duration": 19,
    "start_time": "2022-05-13T11:11:00.251Z"
   },
   {
    "duration": 15,
    "start_time": "2022-05-13T11:11:00.273Z"
   },
   {
    "duration": 8,
    "start_time": "2022-05-13T11:11:00.290Z"
   },
   {
    "duration": 26,
    "start_time": "2022-05-13T11:11:00.301Z"
   },
   {
    "duration": 8,
    "start_time": "2022-05-13T11:11:00.328Z"
   },
   {
    "duration": 20,
    "start_time": "2022-05-13T11:11:00.338Z"
   },
   {
    "duration": 37,
    "start_time": "2022-05-13T11:11:00.360Z"
   },
   {
    "duration": 53,
    "start_time": "2022-05-13T11:11:00.400Z"
   },
   {
    "duration": 6,
    "start_time": "2022-05-13T11:11:00.459Z"
   },
   {
    "duration": 23,
    "start_time": "2022-05-13T11:11:00.467Z"
   },
   {
    "duration": 31,
    "start_time": "2022-05-13T11:11:00.492Z"
   },
   {
    "duration": 8,
    "start_time": "2022-05-13T11:11:00.525Z"
   },
   {
    "duration": 12,
    "start_time": "2022-05-13T11:11:00.536Z"
   },
   {
    "duration": 49,
    "start_time": "2022-05-13T11:11:00.550Z"
   },
   {
    "duration": 33,
    "start_time": "2022-05-13T11:11:00.601Z"
   },
   {
    "duration": 23,
    "start_time": "2022-05-13T11:11:00.636Z"
   },
   {
    "duration": 14,
    "start_time": "2022-05-13T11:11:00.660Z"
   },
   {
    "duration": 48,
    "start_time": "2022-05-13T11:11:00.676Z"
   },
   {
    "duration": 23,
    "start_time": "2022-05-13T11:11:00.726Z"
   },
   {
    "duration": 11,
    "start_time": "2022-05-13T11:11:00.751Z"
   },
   {
    "duration": 60,
    "start_time": "2022-05-13T11:11:00.764Z"
   },
   {
    "duration": 11,
    "start_time": "2022-05-13T11:11:00.826Z"
   },
   {
    "duration": 30,
    "start_time": "2022-05-13T11:11:00.838Z"
   },
   {
    "duration": 16,
    "start_time": "2022-05-13T11:11:00.869Z"
   },
   {
    "duration": 17,
    "start_time": "2022-05-13T11:11:00.887Z"
   },
   {
    "duration": 23,
    "start_time": "2022-05-13T11:11:00.906Z"
   },
   {
    "duration": 30,
    "start_time": "2022-05-13T11:11:00.932Z"
   },
   {
    "duration": 41,
    "start_time": "2022-05-13T11:11:00.964Z"
   },
   {
    "duration": 134,
    "start_time": "2022-05-13T11:11:01.008Z"
   },
   {
    "duration": 50,
    "start_time": "2022-05-13T11:11:01.144Z"
   },
   {
    "duration": 84,
    "start_time": "2022-05-13T11:11:01.196Z"
   },
   {
    "duration": 52,
    "start_time": "2022-05-13T11:11:01.281Z"
   },
   {
    "duration": 96,
    "start_time": "2022-05-13T11:11:01.335Z"
   },
   {
    "duration": 11,
    "start_time": "2022-05-13T11:11:01.433Z"
   },
   {
    "duration": 34,
    "start_time": "2022-05-13T11:11:01.446Z"
   },
   {
    "duration": 89,
    "start_time": "2022-05-13T11:11:01.484Z"
   },
   {
    "duration": 2465,
    "start_time": "2022-05-13T11:11:01.575Z"
   },
   {
    "duration": 0,
    "start_time": "2022-05-13T11:11:04.042Z"
   },
   {
    "duration": 0,
    "start_time": "2022-05-13T11:11:04.043Z"
   },
   {
    "duration": 30,
    "start_time": "2022-05-13T11:18:20.442Z"
   },
   {
    "duration": 68,
    "start_time": "2022-05-13T11:20:10.855Z"
   },
   {
    "duration": 64,
    "start_time": "2022-05-13T11:23:03.519Z"
   },
   {
    "duration": 57,
    "start_time": "2022-05-13T11:23:37.025Z"
   },
   {
    "duration": 52,
    "start_time": "2022-05-13T11:23:51.764Z"
   },
   {
    "duration": 1536,
    "start_time": "2022-05-13T11:24:39.147Z"
   },
   {
    "duration": 1651,
    "start_time": "2022-05-13T11:26:28.502Z"
   },
   {
    "duration": 49,
    "start_time": "2022-05-13T11:27:27.072Z"
   },
   {
    "duration": 688,
    "start_time": "2022-05-13T11:29:29.413Z"
   },
   {
    "duration": 40,
    "start_time": "2022-05-13T11:29:30.104Z"
   },
   {
    "duration": 4,
    "start_time": "2022-05-13T11:29:30.146Z"
   },
   {
    "duration": 7,
    "start_time": "2022-05-13T11:29:30.151Z"
   },
   {
    "duration": 12,
    "start_time": "2022-05-13T11:29:30.160Z"
   },
   {
    "duration": 8,
    "start_time": "2022-05-13T11:29:30.174Z"
   },
   {
    "duration": 39,
    "start_time": "2022-05-13T11:29:30.184Z"
   },
   {
    "duration": 6,
    "start_time": "2022-05-13T11:29:30.225Z"
   },
   {
    "duration": 11,
    "start_time": "2022-05-13T11:29:30.233Z"
   },
   {
    "duration": 13,
    "start_time": "2022-05-13T11:29:30.246Z"
   },
   {
    "duration": 18,
    "start_time": "2022-05-13T11:29:30.260Z"
   },
   {
    "duration": 23,
    "start_time": "2022-05-13T11:29:30.280Z"
   },
   {
    "duration": 66,
    "start_time": "2022-05-13T11:29:30.305Z"
   },
   {
    "duration": 7,
    "start_time": "2022-05-13T11:29:30.376Z"
   },
   {
    "duration": 38,
    "start_time": "2022-05-13T11:29:30.385Z"
   },
   {
    "duration": 9,
    "start_time": "2022-05-13T11:29:30.425Z"
   },
   {
    "duration": 13,
    "start_time": "2022-05-13T11:29:30.436Z"
   },
   {
    "duration": 15,
    "start_time": "2022-05-13T11:29:30.452Z"
   },
   {
    "duration": 59,
    "start_time": "2022-05-13T11:29:30.469Z"
   },
   {
    "duration": 14,
    "start_time": "2022-05-13T11:29:30.530Z"
   },
   {
    "duration": 22,
    "start_time": "2022-05-13T11:29:30.546Z"
   },
   {
    "duration": 18,
    "start_time": "2022-05-13T11:29:30.570Z"
   },
   {
    "duration": 65,
    "start_time": "2022-05-13T11:29:30.590Z"
   },
   {
    "duration": 36,
    "start_time": "2022-05-13T11:29:30.657Z"
   },
   {
    "duration": 30,
    "start_time": "2022-05-13T11:29:30.696Z"
   },
   {
    "duration": 51,
    "start_time": "2022-05-13T11:29:30.728Z"
   },
   {
    "duration": 14,
    "start_time": "2022-05-13T11:29:30.782Z"
   },
   {
    "duration": 38,
    "start_time": "2022-05-13T11:29:30.798Z"
   },
   {
    "duration": 20,
    "start_time": "2022-05-13T11:29:30.838Z"
   },
   {
    "duration": 32,
    "start_time": "2022-05-13T11:29:30.861Z"
   },
   {
    "duration": 18,
    "start_time": "2022-05-13T11:29:30.895Z"
   },
   {
    "duration": 28,
    "start_time": "2022-05-13T11:29:30.916Z"
   },
   {
    "duration": 33,
    "start_time": "2022-05-13T11:29:30.946Z"
   },
   {
    "duration": 126,
    "start_time": "2022-05-13T11:29:30.980Z"
   },
   {
    "duration": 51,
    "start_time": "2022-05-13T11:29:31.108Z"
   },
   {
    "duration": 80,
    "start_time": "2022-05-13T11:29:31.161Z"
   },
   {
    "duration": 30,
    "start_time": "2022-05-13T11:29:31.243Z"
   },
   {
    "duration": 84,
    "start_time": "2022-05-13T11:29:31.275Z"
   },
   {
    "duration": 11,
    "start_time": "2022-05-13T11:29:31.361Z"
   },
   {
    "duration": 26,
    "start_time": "2022-05-13T11:29:31.373Z"
   },
   {
    "duration": 64,
    "start_time": "2022-05-13T11:29:31.422Z"
   },
   {
    "duration": 64,
    "start_time": "2022-05-13T11:29:31.487Z"
   },
   {
    "duration": 3,
    "start_time": "2022-05-13T11:29:31.552Z"
   },
   {
    "duration": 12,
    "start_time": "2022-05-13T11:29:31.556Z"
   },
   {
    "duration": 67,
    "start_time": "2022-05-13T11:34:31.782Z"
   },
   {
    "duration": 546,
    "start_time": "2022-05-13T11:34:41.933Z"
   },
   {
    "duration": 20,
    "start_time": "2022-05-13T11:34:42.481Z"
   },
   {
    "duration": 5,
    "start_time": "2022-05-13T11:34:42.523Z"
   },
   {
    "duration": 5,
    "start_time": "2022-05-13T11:34:42.530Z"
   },
   {
    "duration": 12,
    "start_time": "2022-05-13T11:34:42.537Z"
   },
   {
    "duration": 7,
    "start_time": "2022-05-13T11:34:42.551Z"
   },
   {
    "duration": 11,
    "start_time": "2022-05-13T11:34:42.560Z"
   },
   {
    "duration": 5,
    "start_time": "2022-05-13T11:34:42.572Z"
   },
   {
    "duration": 48,
    "start_time": "2022-05-13T11:34:42.579Z"
   },
   {
    "duration": 7,
    "start_time": "2022-05-13T11:34:42.630Z"
   },
   {
    "duration": 13,
    "start_time": "2022-05-13T11:34:42.639Z"
   },
   {
    "duration": 10,
    "start_time": "2022-05-13T11:34:42.654Z"
   },
   {
    "duration": 68,
    "start_time": "2022-05-13T11:34:42.665Z"
   },
   {
    "duration": 5,
    "start_time": "2022-05-13T11:34:42.737Z"
   },
   {
    "duration": 19,
    "start_time": "2022-05-13T11:34:42.744Z"
   },
   {
    "duration": 8,
    "start_time": "2022-05-13T11:34:42.765Z"
   },
   {
    "duration": 9,
    "start_time": "2022-05-13T11:34:42.775Z"
   },
   {
    "duration": 46,
    "start_time": "2022-05-13T11:34:42.786Z"
   },
   {
    "duration": 36,
    "start_time": "2022-05-13T11:34:42.834Z"
   },
   {
    "duration": 16,
    "start_time": "2022-05-13T11:34:42.872Z"
   },
   {
    "duration": 50,
    "start_time": "2022-05-13T11:34:42.890Z"
   },
   {
    "duration": 14,
    "start_time": "2022-05-13T11:34:42.942Z"
   },
   {
    "duration": 26,
    "start_time": "2022-05-13T11:34:42.957Z"
   },
   {
    "duration": 44,
    "start_time": "2022-05-13T11:34:42.984Z"
   },
   {
    "duration": 10,
    "start_time": "2022-05-13T11:34:43.029Z"
   },
   {
    "duration": 31,
    "start_time": "2022-05-13T11:34:43.041Z"
   },
   {
    "duration": 11,
    "start_time": "2022-05-13T11:34:43.073Z"
   },
   {
    "duration": 46,
    "start_time": "2022-05-13T11:34:43.085Z"
   },
   {
    "duration": 17,
    "start_time": "2022-05-13T11:34:43.133Z"
   },
   {
    "duration": 8,
    "start_time": "2022-05-13T11:34:43.152Z"
   },
   {
    "duration": 2,
    "start_time": "2022-05-13T11:34:43.162Z"
   },
   {
    "duration": 14,
    "start_time": "2022-05-13T11:34:43.166Z"
   },
   {
    "duration": 60,
    "start_time": "2022-05-13T11:34:43.183Z"
   },
   {
    "duration": 131,
    "start_time": "2022-05-13T11:34:43.245Z"
   },
   {
    "duration": 60,
    "start_time": "2022-05-13T11:34:43.378Z"
   },
   {
    "duration": 64,
    "start_time": "2022-05-13T11:34:43.440Z"
   },
   {
    "duration": 45,
    "start_time": "2022-05-13T11:34:43.505Z"
   },
   {
    "duration": 77,
    "start_time": "2022-05-13T11:34:43.552Z"
   },
   {
    "duration": 10,
    "start_time": "2022-05-13T11:34:43.631Z"
   },
   {
    "duration": 21,
    "start_time": "2022-05-13T11:34:43.643Z"
   },
   {
    "duration": 101,
    "start_time": "2022-05-13T11:34:43.669Z"
   },
   {
    "duration": 3369,
    "start_time": "2022-05-13T11:34:43.772Z"
   },
   {
    "duration": 1,
    "start_time": "2022-05-13T11:34:47.143Z"
   },
   {
    "duration": 0,
    "start_time": "2022-05-13T11:34:47.144Z"
   },
   {
    "duration": 67,
    "start_time": "2022-05-13T11:35:37.101Z"
   },
   {
    "duration": 14,
    "start_time": "2022-05-13T11:37:51.552Z"
   },
   {
    "duration": 557,
    "start_time": "2022-05-13T11:38:16.842Z"
   },
   {
    "duration": 37,
    "start_time": "2022-05-13T11:38:17.402Z"
   },
   {
    "duration": 6,
    "start_time": "2022-05-13T11:38:17.441Z"
   },
   {
    "duration": 5,
    "start_time": "2022-05-13T11:38:17.449Z"
   },
   {
    "duration": 12,
    "start_time": "2022-05-13T11:38:17.456Z"
   },
   {
    "duration": 10,
    "start_time": "2022-05-13T11:38:17.469Z"
   },
   {
    "duration": 43,
    "start_time": "2022-05-13T11:38:17.480Z"
   },
   {
    "duration": 5,
    "start_time": "2022-05-13T11:38:17.525Z"
   },
   {
    "duration": 13,
    "start_time": "2022-05-13T11:38:17.531Z"
   },
   {
    "duration": 10,
    "start_time": "2022-05-13T11:38:17.545Z"
   },
   {
    "duration": 14,
    "start_time": "2022-05-13T11:38:17.556Z"
   },
   {
    "duration": 12,
    "start_time": "2022-05-13T11:38:17.572Z"
   },
   {
    "duration": 62,
    "start_time": "2022-05-13T11:38:17.585Z"
   },
   {
    "duration": 5,
    "start_time": "2022-05-13T11:38:17.650Z"
   },
   {
    "duration": 22,
    "start_time": "2022-05-13T11:38:17.657Z"
   },
   {
    "duration": 7,
    "start_time": "2022-05-13T11:38:17.681Z"
   },
   {
    "duration": 7,
    "start_time": "2022-05-13T11:38:17.690Z"
   },
   {
    "duration": 35,
    "start_time": "2022-05-13T11:38:17.699Z"
   },
   {
    "duration": 38,
    "start_time": "2022-05-13T11:38:17.736Z"
   },
   {
    "duration": 16,
    "start_time": "2022-05-13T11:38:17.775Z"
   },
   {
    "duration": 46,
    "start_time": "2022-05-13T11:38:17.793Z"
   },
   {
    "duration": 14,
    "start_time": "2022-05-13T11:38:17.840Z"
   },
   {
    "duration": 26,
    "start_time": "2022-05-13T11:38:17.856Z"
   },
   {
    "duration": 52,
    "start_time": "2022-05-13T11:38:17.884Z"
   },
   {
    "duration": 10,
    "start_time": "2022-05-13T11:38:17.938Z"
   },
   {
    "duration": 30,
    "start_time": "2022-05-13T11:38:17.950Z"
   },
   {
    "duration": 13,
    "start_time": "2022-05-13T11:38:17.982Z"
   },
   {
    "duration": 14,
    "start_time": "2022-05-13T11:38:18.023Z"
   },
   {
    "duration": 15,
    "start_time": "2022-05-13T11:38:18.039Z"
   },
   {
    "duration": 6,
    "start_time": "2022-05-13T11:38:18.055Z"
   },
   {
    "duration": 10,
    "start_time": "2022-05-13T11:38:18.063Z"
   },
   {
    "duration": 21,
    "start_time": "2022-05-13T11:38:18.075Z"
   },
   {
    "duration": 57,
    "start_time": "2022-05-13T11:38:18.098Z"
   },
   {
    "duration": 129,
    "start_time": "2022-05-13T11:38:18.157Z"
   },
   {
    "duration": 55,
    "start_time": "2022-05-13T11:38:18.288Z"
   },
   {
    "duration": 79,
    "start_time": "2022-05-13T11:38:18.345Z"
   },
   {
    "duration": 32,
    "start_time": "2022-05-13T11:38:18.425Z"
   },
   {
    "duration": 80,
    "start_time": "2022-05-13T11:38:18.459Z"
   },
   {
    "duration": 11,
    "start_time": "2022-05-13T11:38:18.541Z"
   },
   {
    "duration": 37,
    "start_time": "2022-05-13T11:38:18.554Z"
   },
   {
    "duration": 92,
    "start_time": "2022-05-13T11:38:18.596Z"
   },
   {
    "duration": 66,
    "start_time": "2022-05-13T11:38:18.690Z"
   },
   {
    "duration": 2,
    "start_time": "2022-05-13T11:38:18.758Z"
   },
   {
    "duration": 31,
    "start_time": "2022-05-13T11:38:18.762Z"
   },
   {
    "duration": 13,
    "start_time": "2022-05-13T11:39:08.272Z"
   },
   {
    "duration": 578,
    "start_time": "2022-05-13T11:39:13.472Z"
   },
   {
    "duration": 20,
    "start_time": "2022-05-13T11:39:14.053Z"
   },
   {
    "duration": 12,
    "start_time": "2022-05-13T11:39:14.075Z"
   },
   {
    "duration": 8,
    "start_time": "2022-05-13T11:39:14.089Z"
   },
   {
    "duration": 11,
    "start_time": "2022-05-13T11:39:14.123Z"
   },
   {
    "duration": 10,
    "start_time": "2022-05-13T11:39:14.136Z"
   },
   {
    "duration": 12,
    "start_time": "2022-05-13T11:39:14.147Z"
   },
   {
    "duration": 11,
    "start_time": "2022-05-13T11:39:14.161Z"
   },
   {
    "duration": 10,
    "start_time": "2022-05-13T11:39:14.173Z"
   },
   {
    "duration": 43,
    "start_time": "2022-05-13T11:39:14.184Z"
   },
   {
    "duration": 12,
    "start_time": "2022-05-13T11:39:14.229Z"
   },
   {
    "duration": 14,
    "start_time": "2022-05-13T11:39:14.243Z"
   },
   {
    "duration": 38,
    "start_time": "2022-05-13T11:39:14.259Z"
   },
   {
    "duration": 5,
    "start_time": "2022-05-13T11:39:14.322Z"
   },
   {
    "duration": 26,
    "start_time": "2022-05-13T11:39:14.329Z"
   },
   {
    "duration": 9,
    "start_time": "2022-05-13T11:39:14.357Z"
   },
   {
    "duration": 10,
    "start_time": "2022-05-13T11:39:14.367Z"
   },
   {
    "duration": 45,
    "start_time": "2022-05-13T11:39:14.379Z"
   },
   {
    "duration": 35,
    "start_time": "2022-05-13T11:39:14.425Z"
   },
   {
    "duration": 15,
    "start_time": "2022-05-13T11:39:14.462Z"
   },
   {
    "duration": 50,
    "start_time": "2022-05-13T11:39:14.479Z"
   },
   {
    "duration": 13,
    "start_time": "2022-05-13T11:39:14.531Z"
   },
   {
    "duration": 27,
    "start_time": "2022-05-13T11:39:14.546Z"
   },
   {
    "duration": 55,
    "start_time": "2022-05-13T11:39:14.575Z"
   },
   {
    "duration": 10,
    "start_time": "2022-05-13T11:39:14.632Z"
   },
   {
    "duration": 32,
    "start_time": "2022-05-13T11:39:14.644Z"
   },
   {
    "duration": 11,
    "start_time": "2022-05-13T11:39:14.678Z"
   },
   {
    "duration": 43,
    "start_time": "2022-05-13T11:39:14.690Z"
   },
   {
    "duration": 16,
    "start_time": "2022-05-13T11:39:14.734Z"
   },
   {
    "duration": 7,
    "start_time": "2022-05-13T11:39:14.752Z"
   },
   {
    "duration": 5,
    "start_time": "2022-05-13T11:39:14.761Z"
   },
   {
    "duration": 18,
    "start_time": "2022-05-13T11:39:14.768Z"
   },
   {
    "duration": 58,
    "start_time": "2022-05-13T11:39:14.787Z"
   },
   {
    "duration": 141,
    "start_time": "2022-05-13T11:39:14.846Z"
   },
   {
    "duration": 54,
    "start_time": "2022-05-13T11:39:14.989Z"
   },
   {
    "duration": 81,
    "start_time": "2022-05-13T11:39:15.045Z"
   },
   {
    "duration": 31,
    "start_time": "2022-05-13T11:39:15.128Z"
   },
   {
    "duration": 77,
    "start_time": "2022-05-13T11:39:15.161Z"
   },
   {
    "duration": 10,
    "start_time": "2022-05-13T11:39:15.240Z"
   },
   {
    "duration": 20,
    "start_time": "2022-05-13T11:39:15.252Z"
   },
   {
    "duration": 103,
    "start_time": "2022-05-13T11:39:15.276Z"
   },
   {
    "duration": 64,
    "start_time": "2022-05-13T11:39:15.381Z"
   },
   {
    "duration": 3,
    "start_time": "2022-05-13T11:39:15.446Z"
   },
   {
    "duration": 15,
    "start_time": "2022-05-13T11:39:15.451Z"
   },
   {
    "duration": 590,
    "start_time": "2022-05-13T11:40:24.273Z"
   },
   {
    "duration": 20,
    "start_time": "2022-05-13T11:40:24.865Z"
   },
   {
    "duration": 5,
    "start_time": "2022-05-13T11:40:24.886Z"
   },
   {
    "duration": 33,
    "start_time": "2022-05-13T11:40:24.893Z"
   },
   {
    "duration": 13,
    "start_time": "2022-05-13T11:40:24.928Z"
   },
   {
    "duration": 14,
    "start_time": "2022-05-13T11:40:24.942Z"
   },
   {
    "duration": 16,
    "start_time": "2022-05-13T11:40:24.958Z"
   },
   {
    "duration": 9,
    "start_time": "2022-05-13T11:40:24.976Z"
   },
   {
    "duration": 16,
    "start_time": "2022-05-13T11:40:24.987Z"
   },
   {
    "duration": 22,
    "start_time": "2022-05-13T11:40:25.005Z"
   },
   {
    "duration": 12,
    "start_time": "2022-05-13T11:40:25.029Z"
   },
   {
    "duration": 9,
    "start_time": "2022-05-13T11:40:25.042Z"
   },
   {
    "duration": 36,
    "start_time": "2022-05-13T11:40:25.053Z"
   },
   {
    "duration": 30,
    "start_time": "2022-05-13T11:40:25.094Z"
   },
   {
    "duration": 20,
    "start_time": "2022-05-13T11:40:25.126Z"
   },
   {
    "duration": 9,
    "start_time": "2022-05-13T11:40:25.148Z"
   },
   {
    "duration": 9,
    "start_time": "2022-05-13T11:40:25.159Z"
   },
   {
    "duration": 14,
    "start_time": "2022-05-13T11:40:25.170Z"
   },
   {
    "duration": 71,
    "start_time": "2022-05-13T11:40:25.186Z"
   },
   {
    "duration": 16,
    "start_time": "2022-05-13T11:40:25.259Z"
   },
   {
    "duration": 45,
    "start_time": "2022-05-13T11:40:25.277Z"
   },
   {
    "duration": 15,
    "start_time": "2022-05-13T11:40:25.324Z"
   },
   {
    "duration": 26,
    "start_time": "2022-05-13T11:40:25.341Z"
   },
   {
    "duration": 24,
    "start_time": "2022-05-13T11:40:25.369Z"
   },
   {
    "duration": 11,
    "start_time": "2022-05-13T11:40:25.422Z"
   },
   {
    "duration": 31,
    "start_time": "2022-05-13T11:40:25.435Z"
   },
   {
    "duration": 12,
    "start_time": "2022-05-13T11:40:25.467Z"
   },
   {
    "duration": 44,
    "start_time": "2022-05-13T11:40:25.481Z"
   },
   {
    "duration": 15,
    "start_time": "2022-05-13T11:40:25.527Z"
   },
   {
    "duration": 7,
    "start_time": "2022-05-13T11:40:25.544Z"
   },
   {
    "duration": 2,
    "start_time": "2022-05-13T11:40:25.553Z"
   },
   {
    "duration": 14,
    "start_time": "2022-05-13T11:40:25.557Z"
   },
   {
    "duration": 60,
    "start_time": "2022-05-13T11:40:25.572Z"
   },
   {
    "duration": 147,
    "start_time": "2022-05-13T11:40:25.633Z"
   },
   {
    "duration": 57,
    "start_time": "2022-05-13T11:40:25.782Z"
   },
   {
    "duration": 85,
    "start_time": "2022-05-13T11:40:25.841Z"
   },
   {
    "duration": 31,
    "start_time": "2022-05-13T11:40:25.927Z"
   },
   {
    "duration": 81,
    "start_time": "2022-05-13T11:40:25.960Z"
   },
   {
    "duration": 11,
    "start_time": "2022-05-13T11:40:26.042Z"
   },
   {
    "duration": 24,
    "start_time": "2022-05-13T11:40:26.055Z"
   },
   {
    "duration": 99,
    "start_time": "2022-05-13T11:40:26.083Z"
   },
   {
    "duration": 68,
    "start_time": "2022-05-13T11:40:26.184Z"
   },
   {
    "duration": 9,
    "start_time": "2022-05-13T11:40:26.254Z"
   },
   {
    "duration": 15,
    "start_time": "2022-05-13T11:40:26.265Z"
   },
   {
    "duration": 3242,
    "start_time": "2022-05-13T11:44:36.172Z"
   },
   {
    "duration": 573,
    "start_time": "2022-05-13T11:44:44.597Z"
   },
   {
    "duration": 19,
    "start_time": "2022-05-13T11:44:45.173Z"
   },
   {
    "duration": 31,
    "start_time": "2022-05-13T11:44:45.195Z"
   },
   {
    "duration": 5,
    "start_time": "2022-05-13T11:44:45.228Z"
   },
   {
    "duration": 13,
    "start_time": "2022-05-13T11:44:45.236Z"
   },
   {
    "duration": 9,
    "start_time": "2022-05-13T11:44:45.251Z"
   },
   {
    "duration": 12,
    "start_time": "2022-05-13T11:44:45.261Z"
   },
   {
    "duration": 9,
    "start_time": "2022-05-13T11:44:45.274Z"
   },
   {
    "duration": 42,
    "start_time": "2022-05-13T11:44:45.285Z"
   },
   {
    "duration": 12,
    "start_time": "2022-05-13T11:44:45.329Z"
   },
   {
    "duration": 12,
    "start_time": "2022-05-13T11:44:45.343Z"
   },
   {
    "duration": 15,
    "start_time": "2022-05-13T11:44:45.357Z"
   },
   {
    "duration": 55,
    "start_time": "2022-05-13T11:44:45.374Z"
   },
   {
    "duration": 7,
    "start_time": "2022-05-13T11:44:45.433Z"
   },
   {
    "duration": 29,
    "start_time": "2022-05-13T11:44:45.442Z"
   },
   {
    "duration": 9,
    "start_time": "2022-05-13T11:44:45.473Z"
   },
   {
    "duration": 10,
    "start_time": "2022-05-13T11:44:45.483Z"
   },
   {
    "duration": 13,
    "start_time": "2022-05-13T11:44:45.523Z"
   },
   {
    "duration": 37,
    "start_time": "2022-05-13T11:44:45.538Z"
   },
   {
    "duration": 16,
    "start_time": "2022-05-13T11:44:45.577Z"
   },
   {
    "duration": 43,
    "start_time": "2022-05-13T11:44:45.594Z"
   },
   {
    "duration": 13,
    "start_time": "2022-05-13T11:44:45.638Z"
   },
   {
    "duration": 25,
    "start_time": "2022-05-13T11:44:45.653Z"
   },
   {
    "duration": 52,
    "start_time": "2022-05-13T11:44:45.679Z"
   },
   {
    "duration": 9,
    "start_time": "2022-05-13T11:44:45.733Z"
   },
   {
    "duration": 32,
    "start_time": "2022-05-13T11:44:45.744Z"
   },
   {
    "duration": 10,
    "start_time": "2022-05-13T11:44:45.778Z"
   },
   {
    "duration": 41,
    "start_time": "2022-05-13T11:44:45.790Z"
   },
   {
    "duration": 16,
    "start_time": "2022-05-13T11:44:45.832Z"
   },
   {
    "duration": 7,
    "start_time": "2022-05-13T11:44:45.849Z"
   },
   {
    "duration": 3,
    "start_time": "2022-05-13T11:44:45.858Z"
   },
   {
    "duration": 12,
    "start_time": "2022-05-13T11:44:45.862Z"
   },
   {
    "duration": 59,
    "start_time": "2022-05-13T11:44:45.876Z"
   },
   {
    "duration": 136,
    "start_time": "2022-05-13T11:44:45.937Z"
   },
   {
    "duration": 56,
    "start_time": "2022-05-13T11:44:46.074Z"
   },
   {
    "duration": 68,
    "start_time": "2022-05-13T11:44:46.132Z"
   },
   {
    "duration": 47,
    "start_time": "2022-05-13T11:44:46.201Z"
   },
   {
    "duration": 81,
    "start_time": "2022-05-13T11:44:46.250Z"
   },
   {
    "duration": 11,
    "start_time": "2022-05-13T11:44:46.333Z"
   },
   {
    "duration": 19,
    "start_time": "2022-05-13T11:44:46.345Z"
   },
   {
    "duration": 96,
    "start_time": "2022-05-13T11:44:46.368Z"
   },
   {
    "duration": 61,
    "start_time": "2022-05-13T11:44:46.466Z"
   },
   {
    "duration": 4,
    "start_time": "2022-05-13T11:44:46.529Z"
   },
   {
    "duration": 13,
    "start_time": "2022-05-13T11:44:46.535Z"
   },
   {
    "duration": 3111,
    "start_time": "2022-05-13T11:46:24.101Z"
   },
   {
    "duration": 553,
    "start_time": "2022-05-13T11:46:32.333Z"
   },
   {
    "duration": 48,
    "start_time": "2022-05-13T11:46:32.888Z"
   },
   {
    "duration": 4,
    "start_time": "2022-05-13T11:46:32.938Z"
   },
   {
    "duration": 7,
    "start_time": "2022-05-13T11:46:32.944Z"
   },
   {
    "duration": 15,
    "start_time": "2022-05-13T11:46:32.953Z"
   },
   {
    "duration": 7,
    "start_time": "2022-05-13T11:46:32.970Z"
   },
   {
    "duration": 13,
    "start_time": "2022-05-13T11:46:32.979Z"
   },
   {
    "duration": 6,
    "start_time": "2022-05-13T11:46:33.023Z"
   },
   {
    "duration": 8,
    "start_time": "2022-05-13T11:46:33.031Z"
   },
   {
    "duration": 9,
    "start_time": "2022-05-13T11:46:33.041Z"
   },
   {
    "duration": 15,
    "start_time": "2022-05-13T11:46:33.052Z"
   },
   {
    "duration": 11,
    "start_time": "2022-05-13T11:46:33.069Z"
   },
   {
    "duration": 70,
    "start_time": "2022-05-13T11:46:33.082Z"
   },
   {
    "duration": 5,
    "start_time": "2022-05-13T11:46:33.157Z"
   },
   {
    "duration": 19,
    "start_time": "2022-05-13T11:46:33.164Z"
   },
   {
    "duration": 8,
    "start_time": "2022-05-13T11:46:33.185Z"
   },
   {
    "duration": 35,
    "start_time": "2022-05-13T11:46:33.195Z"
   },
   {
    "duration": 13,
    "start_time": "2022-05-13T11:46:33.232Z"
   },
   {
    "duration": 36,
    "start_time": "2022-05-13T11:46:33.247Z"
   },
   {
    "duration": 44,
    "start_time": "2022-05-13T11:46:33.284Z"
   },
   {
    "duration": 20,
    "start_time": "2022-05-13T11:46:33.329Z"
   },
   {
    "duration": 17,
    "start_time": "2022-05-13T11:46:33.351Z"
   },
   {
    "duration": 61,
    "start_time": "2022-05-13T11:46:33.370Z"
   },
   {
    "duration": 22,
    "start_time": "2022-05-13T11:46:33.432Z"
   },
   {
    "duration": 9,
    "start_time": "2022-05-13T11:46:33.455Z"
   },
   {
    "duration": 36,
    "start_time": "2022-05-13T11:46:33.466Z"
   },
   {
    "duration": 11,
    "start_time": "2022-05-13T11:46:33.522Z"
   },
   {
    "duration": 16,
    "start_time": "2022-05-13T11:46:33.535Z"
   },
   {
    "duration": 16,
    "start_time": "2022-05-13T11:46:33.552Z"
   },
   {
    "duration": 7,
    "start_time": "2022-05-13T11:46:33.570Z"
   },
   {
    "duration": 3,
    "start_time": "2022-05-13T11:46:33.578Z"
   },
   {
    "duration": 11,
    "start_time": "2022-05-13T11:46:33.622Z"
   },
   {
    "duration": 27,
    "start_time": "2022-05-13T11:46:33.635Z"
   },
   {
    "duration": 140,
    "start_time": "2022-05-13T11:46:33.664Z"
   },
   {
    "duration": 55,
    "start_time": "2022-05-13T11:46:33.807Z"
   },
   {
    "duration": 80,
    "start_time": "2022-05-13T11:46:33.865Z"
   },
   {
    "duration": 30,
    "start_time": "2022-05-13T11:46:33.947Z"
   },
   {
    "duration": 87,
    "start_time": "2022-05-13T11:46:33.979Z"
   },
   {
    "duration": 10,
    "start_time": "2022-05-13T11:46:34.068Z"
   },
   {
    "duration": 21,
    "start_time": "2022-05-13T11:46:34.079Z"
   },
   {
    "duration": 71,
    "start_time": "2022-05-13T11:46:34.125Z"
   },
   {
    "duration": 67,
    "start_time": "2022-05-13T11:46:34.197Z"
   },
   {
    "duration": 3,
    "start_time": "2022-05-13T11:46:34.266Z"
   },
   {
    "duration": 12,
    "start_time": "2022-05-13T11:46:34.271Z"
   },
   {
    "duration": 69,
    "start_time": "2022-05-13T14:05:15.906Z"
   },
   {
    "duration": 534,
    "start_time": "2022-05-13T14:05:46.129Z"
   },
   {
    "duration": 19,
    "start_time": "2022-05-13T14:05:46.665Z"
   },
   {
    "duration": 6,
    "start_time": "2022-05-13T14:05:46.686Z"
   },
   {
    "duration": 27,
    "start_time": "2022-05-13T14:05:46.695Z"
   },
   {
    "duration": 12,
    "start_time": "2022-05-13T14:05:46.724Z"
   },
   {
    "duration": 8,
    "start_time": "2022-05-13T14:05:46.737Z"
   },
   {
    "duration": 8,
    "start_time": "2022-05-13T14:05:46.747Z"
   },
   {
    "duration": 12,
    "start_time": "2022-05-13T14:05:46.757Z"
   },
   {
    "duration": 8,
    "start_time": "2022-05-13T14:05:46.771Z"
   },
   {
    "duration": 7,
    "start_time": "2022-05-13T14:05:46.782Z"
   },
   {
    "duration": 12,
    "start_time": "2022-05-13T14:05:46.822Z"
   },
   {
    "duration": 8,
    "start_time": "2022-05-13T14:05:46.836Z"
   },
   {
    "duration": 34,
    "start_time": "2022-05-13T14:05:46.846Z"
   },
   {
    "duration": 4,
    "start_time": "2022-05-13T14:05:46.882Z"
   },
   {
    "duration": 49,
    "start_time": "2022-05-13T14:05:46.888Z"
   },
   {
    "duration": 8,
    "start_time": "2022-05-13T14:05:46.938Z"
   },
   {
    "duration": 7,
    "start_time": "2022-05-13T14:05:46.948Z"
   },
   {
    "duration": 12,
    "start_time": "2022-05-13T14:05:46.957Z"
   },
   {
    "duration": 66,
    "start_time": "2022-05-13T14:05:46.971Z"
   },
   {
    "duration": 14,
    "start_time": "2022-05-13T14:05:47.038Z"
   },
   {
    "duration": 18,
    "start_time": "2022-05-13T14:05:47.054Z"
   },
   {
    "duration": 12,
    "start_time": "2022-05-13T14:05:47.074Z"
   },
   {
    "duration": 47,
    "start_time": "2022-05-13T14:05:47.087Z"
   },
   {
    "duration": 21,
    "start_time": "2022-05-13T14:05:47.136Z"
   },
   {
    "duration": 9,
    "start_time": "2022-05-13T14:05:47.159Z"
   },
   {
    "duration": 53,
    "start_time": "2022-05-13T14:05:47.170Z"
   },
   {
    "duration": 10,
    "start_time": "2022-05-13T14:05:47.225Z"
   },
   {
    "duration": 13,
    "start_time": "2022-05-13T14:05:47.239Z"
   },
   {
    "duration": 13,
    "start_time": "2022-05-13T14:05:47.254Z"
   },
   {
    "duration": 6,
    "start_time": "2022-05-13T14:05:47.269Z"
   },
   {
    "duration": 2,
    "start_time": "2022-05-13T14:05:47.276Z"
   },
   {
    "duration": 53,
    "start_time": "2022-05-13T14:05:47.280Z"
   },
   {
    "duration": 25,
    "start_time": "2022-05-13T14:05:47.335Z"
   },
   {
    "duration": 133,
    "start_time": "2022-05-13T14:05:47.362Z"
   },
   {
    "duration": 54,
    "start_time": "2022-05-13T14:05:47.496Z"
   },
   {
    "duration": 75,
    "start_time": "2022-05-13T14:05:47.552Z"
   },
   {
    "duration": 30,
    "start_time": "2022-05-13T14:05:47.628Z"
   },
   {
    "duration": 85,
    "start_time": "2022-05-13T14:05:47.660Z"
   },
   {
    "duration": 10,
    "start_time": "2022-05-13T14:05:47.747Z"
   },
   {
    "duration": 21,
    "start_time": "2022-05-13T14:05:47.759Z"
   },
   {
    "duration": 98,
    "start_time": "2022-05-13T14:05:47.782Z"
   },
   {
    "duration": 3298,
    "start_time": "2022-05-13T14:05:47.882Z"
   },
   {
    "duration": 0,
    "start_time": "2022-05-13T14:05:51.182Z"
   },
   {
    "duration": 0,
    "start_time": "2022-05-13T14:05:51.183Z"
   },
   {
    "duration": 9,
    "start_time": "2022-05-13T14:09:07.742Z"
   },
   {
    "duration": 523,
    "start_time": "2022-05-13T14:09:34.133Z"
   },
   {
    "duration": 7,
    "start_time": "2022-05-13T14:09:34.658Z"
   },
   {
    "duration": 22,
    "start_time": "2022-05-13T14:09:34.667Z"
   },
   {
    "duration": 5,
    "start_time": "2022-05-13T14:09:34.692Z"
   },
   {
    "duration": 4,
    "start_time": "2022-05-13T14:09:34.723Z"
   },
   {
    "duration": 12,
    "start_time": "2022-05-13T14:09:34.729Z"
   },
   {
    "duration": 9,
    "start_time": "2022-05-13T14:09:34.742Z"
   },
   {
    "duration": 10,
    "start_time": "2022-05-13T14:09:34.752Z"
   },
   {
    "duration": 7,
    "start_time": "2022-05-13T14:09:34.764Z"
   },
   {
    "duration": 11,
    "start_time": "2022-05-13T14:09:34.774Z"
   },
   {
    "duration": 36,
    "start_time": "2022-05-13T14:09:34.787Z"
   },
   {
    "duration": 11,
    "start_time": "2022-05-13T14:09:34.826Z"
   },
   {
    "duration": 8,
    "start_time": "2022-05-13T14:09:34.839Z"
   },
   {
    "duration": 43,
    "start_time": "2022-05-13T14:09:34.849Z"
   },
   {
    "duration": 6,
    "start_time": "2022-05-13T14:09:34.894Z"
   },
   {
    "duration": 20,
    "start_time": "2022-05-13T14:09:34.923Z"
   },
   {
    "duration": 9,
    "start_time": "2022-05-13T14:09:34.945Z"
   },
   {
    "duration": 9,
    "start_time": "2022-05-13T14:09:34.956Z"
   },
   {
    "duration": 13,
    "start_time": "2022-05-13T14:09:34.967Z"
   },
   {
    "duration": 72,
    "start_time": "2022-05-13T14:09:34.982Z"
   },
   {
    "duration": 16,
    "start_time": "2022-05-13T14:09:35.056Z"
   },
   {
    "duration": 20,
    "start_time": "2022-05-13T14:09:35.074Z"
   },
   {
    "duration": 38,
    "start_time": "2022-05-13T14:09:35.096Z"
   },
   {
    "duration": 25,
    "start_time": "2022-05-13T14:09:35.137Z"
   },
   {
    "duration": 24,
    "start_time": "2022-05-13T14:09:35.164Z"
   },
   {
    "duration": 40,
    "start_time": "2022-05-13T14:09:35.190Z"
   },
   {
    "duration": 31,
    "start_time": "2022-05-13T14:09:35.232Z"
   },
   {
    "duration": 11,
    "start_time": "2022-05-13T14:09:35.267Z"
   },
   {
    "duration": 45,
    "start_time": "2022-05-13T14:09:35.280Z"
   },
   {
    "duration": 17,
    "start_time": "2022-05-13T14:09:35.327Z"
   },
   {
    "duration": 7,
    "start_time": "2022-05-13T14:09:35.346Z"
   },
   {
    "duration": 2,
    "start_time": "2022-05-13T14:09:35.356Z"
   },
   {
    "duration": 15,
    "start_time": "2022-05-13T14:09:35.360Z"
   },
   {
    "duration": 59,
    "start_time": "2022-05-13T14:09:35.377Z"
   },
   {
    "duration": 136,
    "start_time": "2022-05-13T14:09:35.438Z"
   },
   {
    "duration": 59,
    "start_time": "2022-05-13T14:09:35.576Z"
   },
   {
    "duration": 66,
    "start_time": "2022-05-13T14:09:35.637Z"
   },
   {
    "duration": 43,
    "start_time": "2022-05-13T14:09:35.705Z"
   },
   {
    "duration": 84,
    "start_time": "2022-05-13T14:09:35.750Z"
   },
   {
    "duration": 11,
    "start_time": "2022-05-13T14:09:35.836Z"
   },
   {
    "duration": 17,
    "start_time": "2022-05-13T14:09:35.849Z"
   },
   {
    "duration": 102,
    "start_time": "2022-05-13T14:09:35.868Z"
   },
   {
    "duration": 3336,
    "start_time": "2022-05-13T14:09:35.971Z"
   },
   {
    "duration": 0,
    "start_time": "2022-05-13T14:09:39.310Z"
   },
   {
    "duration": 0,
    "start_time": "2022-05-13T14:09:39.312Z"
   },
   {
    "duration": 11,
    "start_time": "2022-05-13T14:12:06.896Z"
   },
   {
    "duration": 593,
    "start_time": "2022-05-13T14:12:29.166Z"
   },
   {
    "duration": 3416,
    "start_time": "2022-05-13T14:12:29.761Z"
   },
   {
    "duration": 0,
    "start_time": "2022-05-13T14:12:33.180Z"
   },
   {
    "duration": 0,
    "start_time": "2022-05-13T14:12:33.181Z"
   },
   {
    "duration": 0,
    "start_time": "2022-05-13T14:12:33.182Z"
   },
   {
    "duration": 1,
    "start_time": "2022-05-13T14:12:33.183Z"
   },
   {
    "duration": 0,
    "start_time": "2022-05-13T14:12:33.184Z"
   },
   {
    "duration": 0,
    "start_time": "2022-05-13T14:12:33.186Z"
   },
   {
    "duration": 0,
    "start_time": "2022-05-13T14:12:33.187Z"
   },
   {
    "duration": 0,
    "start_time": "2022-05-13T14:12:33.188Z"
   },
   {
    "duration": 0,
    "start_time": "2022-05-13T14:12:33.189Z"
   },
   {
    "duration": 0,
    "start_time": "2022-05-13T14:12:33.190Z"
   },
   {
    "duration": 0,
    "start_time": "2022-05-13T14:12:33.191Z"
   },
   {
    "duration": 1,
    "start_time": "2022-05-13T14:12:33.192Z"
   },
   {
    "duration": 0,
    "start_time": "2022-05-13T14:12:33.193Z"
   },
   {
    "duration": 0,
    "start_time": "2022-05-13T14:12:33.194Z"
   },
   {
    "duration": 0,
    "start_time": "2022-05-13T14:12:33.196Z"
   },
   {
    "duration": 0,
    "start_time": "2022-05-13T14:12:33.197Z"
   },
   {
    "duration": 0,
    "start_time": "2022-05-13T14:12:33.198Z"
   },
   {
    "duration": 0,
    "start_time": "2022-05-13T14:12:33.199Z"
   },
   {
    "duration": 0,
    "start_time": "2022-05-13T14:12:33.200Z"
   },
   {
    "duration": 0,
    "start_time": "2022-05-13T14:12:33.201Z"
   },
   {
    "duration": 0,
    "start_time": "2022-05-13T14:12:33.203Z"
   },
   {
    "duration": 0,
    "start_time": "2022-05-13T14:12:33.204Z"
   },
   {
    "duration": 0,
    "start_time": "2022-05-13T14:12:33.205Z"
   },
   {
    "duration": 0,
    "start_time": "2022-05-13T14:12:33.206Z"
   },
   {
    "duration": 1,
    "start_time": "2022-05-13T14:12:33.207Z"
   },
   {
    "duration": 0,
    "start_time": "2022-05-13T14:12:33.209Z"
   },
   {
    "duration": 0,
    "start_time": "2022-05-13T14:12:33.210Z"
   },
   {
    "duration": 0,
    "start_time": "2022-05-13T14:12:33.211Z"
   },
   {
    "duration": 0,
    "start_time": "2022-05-13T14:12:33.212Z"
   },
   {
    "duration": 0,
    "start_time": "2022-05-13T14:12:33.213Z"
   },
   {
    "duration": 0,
    "start_time": "2022-05-13T14:12:33.214Z"
   },
   {
    "duration": 0,
    "start_time": "2022-05-13T14:12:33.215Z"
   },
   {
    "duration": 0,
    "start_time": "2022-05-13T14:12:33.216Z"
   },
   {
    "duration": 1,
    "start_time": "2022-05-13T14:12:33.218Z"
   },
   {
    "duration": 0,
    "start_time": "2022-05-13T14:12:33.220Z"
   },
   {
    "duration": 0,
    "start_time": "2022-05-13T14:12:33.222Z"
   },
   {
    "duration": 0,
    "start_time": "2022-05-13T14:12:33.223Z"
   },
   {
    "duration": 0,
    "start_time": "2022-05-13T14:12:33.224Z"
   },
   {
    "duration": 0,
    "start_time": "2022-05-13T14:12:33.225Z"
   },
   {
    "duration": 0,
    "start_time": "2022-05-13T14:12:33.226Z"
   },
   {
    "duration": 0,
    "start_time": "2022-05-13T14:12:33.227Z"
   },
   {
    "duration": 0,
    "start_time": "2022-05-13T14:12:33.228Z"
   },
   {
    "duration": 0,
    "start_time": "2022-05-13T14:12:33.230Z"
   },
   {
    "duration": 3292,
    "start_time": "2022-05-13T14:13:13.492Z"
   },
   {
    "duration": 4377,
    "start_time": "2022-05-13T14:13:30.765Z"
   },
   {
    "duration": 518,
    "start_time": "2022-05-13T14:13:55.753Z"
   },
   {
    "duration": 3231,
    "start_time": "2022-05-13T14:13:56.274Z"
   },
   {
    "duration": 0,
    "start_time": "2022-05-13T14:13:59.508Z"
   },
   {
    "duration": 0,
    "start_time": "2022-05-13T14:13:59.510Z"
   },
   {
    "duration": 0,
    "start_time": "2022-05-13T14:13:59.511Z"
   },
   {
    "duration": 0,
    "start_time": "2022-05-13T14:13:59.512Z"
   },
   {
    "duration": 0,
    "start_time": "2022-05-13T14:13:59.514Z"
   },
   {
    "duration": 0,
    "start_time": "2022-05-13T14:13:59.515Z"
   },
   {
    "duration": 0,
    "start_time": "2022-05-13T14:13:59.517Z"
   },
   {
    "duration": 0,
    "start_time": "2022-05-13T14:13:59.518Z"
   },
   {
    "duration": 0,
    "start_time": "2022-05-13T14:13:59.519Z"
   },
   {
    "duration": 0,
    "start_time": "2022-05-13T14:13:59.520Z"
   },
   {
    "duration": 0,
    "start_time": "2022-05-13T14:13:59.521Z"
   },
   {
    "duration": 0,
    "start_time": "2022-05-13T14:13:59.522Z"
   },
   {
    "duration": 0,
    "start_time": "2022-05-13T14:13:59.523Z"
   },
   {
    "duration": 0,
    "start_time": "2022-05-13T14:13:59.524Z"
   },
   {
    "duration": 0,
    "start_time": "2022-05-13T14:13:59.524Z"
   },
   {
    "duration": 0,
    "start_time": "2022-05-13T14:13:59.526Z"
   },
   {
    "duration": 0,
    "start_time": "2022-05-13T14:13:59.527Z"
   },
   {
    "duration": 0,
    "start_time": "2022-05-13T14:13:59.528Z"
   },
   {
    "duration": 0,
    "start_time": "2022-05-13T14:13:59.529Z"
   },
   {
    "duration": 0,
    "start_time": "2022-05-13T14:13:59.530Z"
   },
   {
    "duration": 0,
    "start_time": "2022-05-13T14:13:59.531Z"
   },
   {
    "duration": 0,
    "start_time": "2022-05-13T14:13:59.532Z"
   },
   {
    "duration": 0,
    "start_time": "2022-05-13T14:13:59.533Z"
   },
   {
    "duration": 0,
    "start_time": "2022-05-13T14:13:59.534Z"
   },
   {
    "duration": 0,
    "start_time": "2022-05-13T14:13:59.535Z"
   },
   {
    "duration": 0,
    "start_time": "2022-05-13T14:13:59.536Z"
   },
   {
    "duration": 0,
    "start_time": "2022-05-13T14:13:59.537Z"
   },
   {
    "duration": 0,
    "start_time": "2022-05-13T14:13:59.538Z"
   },
   {
    "duration": 0,
    "start_time": "2022-05-13T14:13:59.539Z"
   },
   {
    "duration": 0,
    "start_time": "2022-05-13T14:13:59.540Z"
   },
   {
    "duration": 0,
    "start_time": "2022-05-13T14:13:59.541Z"
   },
   {
    "duration": 0,
    "start_time": "2022-05-13T14:13:59.542Z"
   },
   {
    "duration": 0,
    "start_time": "2022-05-13T14:13:59.543Z"
   },
   {
    "duration": 0,
    "start_time": "2022-05-13T14:13:59.544Z"
   },
   {
    "duration": 0,
    "start_time": "2022-05-13T14:13:59.545Z"
   },
   {
    "duration": 0,
    "start_time": "2022-05-13T14:13:59.546Z"
   },
   {
    "duration": 0,
    "start_time": "2022-05-13T14:13:59.547Z"
   },
   {
    "duration": 0,
    "start_time": "2022-05-13T14:13:59.548Z"
   },
   {
    "duration": 0,
    "start_time": "2022-05-13T14:13:59.549Z"
   },
   {
    "duration": 0,
    "start_time": "2022-05-13T14:13:59.550Z"
   },
   {
    "duration": 0,
    "start_time": "2022-05-13T14:13:59.552Z"
   },
   {
    "duration": 0,
    "start_time": "2022-05-13T14:13:59.553Z"
   },
   {
    "duration": 0,
    "start_time": "2022-05-13T14:13:59.553Z"
   },
   {
    "duration": 9,
    "start_time": "2022-05-13T14:14:27.383Z"
   },
   {
    "duration": 559,
    "start_time": "2022-05-13T14:14:52.669Z"
   },
   {
    "duration": 9,
    "start_time": "2022-05-13T14:14:53.230Z"
   },
   {
    "duration": 27,
    "start_time": "2022-05-13T14:14:53.240Z"
   },
   {
    "duration": 5,
    "start_time": "2022-05-13T14:14:53.269Z"
   },
   {
    "duration": 10,
    "start_time": "2022-05-13T14:14:53.275Z"
   },
   {
    "duration": 14,
    "start_time": "2022-05-13T14:14:53.287Z"
   },
   {
    "duration": 7,
    "start_time": "2022-05-13T14:14:53.323Z"
   },
   {
    "duration": 11,
    "start_time": "2022-05-13T14:14:53.332Z"
   },
   {
    "duration": 6,
    "start_time": "2022-05-13T14:14:53.345Z"
   },
   {
    "duration": 7,
    "start_time": "2022-05-13T14:14:53.354Z"
   },
   {
    "duration": 16,
    "start_time": "2022-05-13T14:14:53.363Z"
   },
   {
    "duration": 47,
    "start_time": "2022-05-13T14:14:53.381Z"
   },
   {
    "duration": 13,
    "start_time": "2022-05-13T14:14:53.430Z"
   },
   {
    "duration": 33,
    "start_time": "2022-05-13T14:14:53.445Z"
   },
   {
    "duration": 6,
    "start_time": "2022-05-13T14:14:53.480Z"
   },
   {
    "duration": 46,
    "start_time": "2022-05-13T14:14:53.488Z"
   },
   {
    "duration": 9,
    "start_time": "2022-05-13T14:14:53.536Z"
   },
   {
    "duration": 9,
    "start_time": "2022-05-13T14:14:53.547Z"
   },
   {
    "duration": 12,
    "start_time": "2022-05-13T14:14:53.558Z"
   },
   {
    "duration": 67,
    "start_time": "2022-05-13T14:14:53.573Z"
   },
   {
    "duration": 16,
    "start_time": "2022-05-13T14:14:53.642Z"
   },
   {
    "duration": 19,
    "start_time": "2022-05-13T14:14:53.660Z"
   },
   {
    "duration": 11,
    "start_time": "2022-05-13T14:14:53.681Z"
   },
   {
    "duration": 49,
    "start_time": "2022-05-13T14:14:53.694Z"
   },
   {
    "duration": 20,
    "start_time": "2022-05-13T14:14:53.745Z"
   },
   {
    "duration": 9,
    "start_time": "2022-05-13T14:14:53.766Z"
   },
   {
    "duration": 47,
    "start_time": "2022-05-13T14:14:53.777Z"
   },
   {
    "duration": 11,
    "start_time": "2022-05-13T14:14:53.827Z"
   },
   {
    "duration": 16,
    "start_time": "2022-05-13T14:14:53.839Z"
   },
   {
    "duration": 14,
    "start_time": "2022-05-13T14:14:53.857Z"
   },
   {
    "duration": 7,
    "start_time": "2022-05-13T14:14:53.873Z"
   },
   {
    "duration": 2,
    "start_time": "2022-05-13T14:14:53.882Z"
   },
   {
    "duration": 11,
    "start_time": "2022-05-13T14:14:53.923Z"
   },
   {
    "duration": 24,
    "start_time": "2022-05-13T14:14:53.936Z"
   },
   {
    "duration": 148,
    "start_time": "2022-05-13T14:14:53.962Z"
   },
   {
    "duration": 48,
    "start_time": "2022-05-13T14:14:54.112Z"
   },
   {
    "duration": 81,
    "start_time": "2022-05-13T14:14:54.161Z"
   },
   {
    "duration": 33,
    "start_time": "2022-05-13T14:14:54.244Z"
   },
   {
    "duration": 88,
    "start_time": "2022-05-13T14:14:54.279Z"
   },
   {
    "duration": 11,
    "start_time": "2022-05-13T14:14:54.369Z"
   },
   {
    "duration": 42,
    "start_time": "2022-05-13T14:14:54.382Z"
   },
   {
    "duration": 98,
    "start_time": "2022-05-13T14:14:54.426Z"
   },
   {
    "duration": 3320,
    "start_time": "2022-05-13T14:14:54.526Z"
   },
   {
    "duration": 0,
    "start_time": "2022-05-13T14:14:57.849Z"
   },
   {
    "duration": 0,
    "start_time": "2022-05-13T14:14:57.850Z"
   },
   {
    "duration": 11,
    "start_time": "2022-05-13T14:15:21.274Z"
   },
   {
    "duration": 8,
    "start_time": "2022-05-13T14:16:18.099Z"
   },
   {
    "duration": 561,
    "start_time": "2022-05-13T14:16:23.220Z"
   },
   {
    "duration": 8,
    "start_time": "2022-05-13T14:16:23.784Z"
   },
   {
    "duration": 41,
    "start_time": "2022-05-13T14:16:23.794Z"
   },
   {
    "duration": 4,
    "start_time": "2022-05-13T14:16:23.837Z"
   },
   {
    "duration": 5,
    "start_time": "2022-05-13T14:16:23.843Z"
   },
   {
    "duration": 12,
    "start_time": "2022-05-13T14:16:23.850Z"
   },
   {
    "duration": 8,
    "start_time": "2022-05-13T14:16:23.863Z"
   },
   {
    "duration": 9,
    "start_time": "2022-05-13T14:16:23.873Z"
   },
   {
    "duration": 40,
    "start_time": "2022-05-13T14:16:23.884Z"
   },
   {
    "duration": 8,
    "start_time": "2022-05-13T14:16:23.927Z"
   },
   {
    "duration": 17,
    "start_time": "2022-05-13T14:16:23.936Z"
   },
   {
    "duration": 15,
    "start_time": "2022-05-13T14:16:23.955Z"
   },
   {
    "duration": 11,
    "start_time": "2022-05-13T14:16:23.971Z"
   },
   {
    "duration": 58,
    "start_time": "2022-05-13T14:16:23.984Z"
   },
   {
    "duration": 5,
    "start_time": "2022-05-13T14:16:24.044Z"
   },
   {
    "duration": 20,
    "start_time": "2022-05-13T14:16:24.051Z"
   },
   {
    "duration": 8,
    "start_time": "2022-05-13T14:16:24.073Z"
   },
   {
    "duration": 39,
    "start_time": "2022-05-13T14:16:24.083Z"
   },
   {
    "duration": 13,
    "start_time": "2022-05-13T14:16:24.124Z"
   },
   {
    "duration": 40,
    "start_time": "2022-05-13T14:16:24.139Z"
   },
   {
    "duration": 15,
    "start_time": "2022-05-13T14:16:24.181Z"
   },
   {
    "duration": 42,
    "start_time": "2022-05-13T14:16:24.198Z"
   },
   {
    "duration": 13,
    "start_time": "2022-05-13T14:16:24.241Z"
   },
   {
    "duration": 27,
    "start_time": "2022-05-13T14:16:24.255Z"
   },
   {
    "duration": 52,
    "start_time": "2022-05-13T14:16:24.284Z"
   },
   {
    "duration": 13,
    "start_time": "2022-05-13T14:16:24.338Z"
   },
   {
    "duration": 32,
    "start_time": "2022-05-13T14:16:24.353Z"
   },
   {
    "duration": 10,
    "start_time": "2022-05-13T14:16:24.389Z"
   },
   {
    "duration": 13,
    "start_time": "2022-05-13T14:16:24.424Z"
   },
   {
    "duration": 14,
    "start_time": "2022-05-13T14:16:24.439Z"
   },
   {
    "duration": 7,
    "start_time": "2022-05-13T14:16:24.454Z"
   },
   {
    "duration": 3,
    "start_time": "2022-05-13T14:16:24.462Z"
   },
   {
    "duration": 14,
    "start_time": "2022-05-13T14:16:24.466Z"
   },
   {
    "duration": 60,
    "start_time": "2022-05-13T14:16:24.481Z"
   },
   {
    "duration": 137,
    "start_time": "2022-05-13T14:16:24.544Z"
   },
   {
    "duration": 55,
    "start_time": "2022-05-13T14:16:24.683Z"
   },
   {
    "duration": 71,
    "start_time": "2022-05-13T14:16:24.740Z"
   },
   {
    "duration": 32,
    "start_time": "2022-05-13T14:16:24.823Z"
   },
   {
    "duration": 83,
    "start_time": "2022-05-13T14:16:24.856Z"
   },
   {
    "duration": 11,
    "start_time": "2022-05-13T14:16:24.941Z"
   },
   {
    "duration": 21,
    "start_time": "2022-05-13T14:16:24.954Z"
   },
   {
    "duration": 115,
    "start_time": "2022-05-13T14:16:24.977Z"
   },
   {
    "duration": 3225,
    "start_time": "2022-05-13T14:16:25.094Z"
   },
   {
    "duration": 0,
    "start_time": "2022-05-13T14:16:28.321Z"
   },
   {
    "duration": 0,
    "start_time": "2022-05-13T14:16:28.322Z"
   },
   {
    "duration": 11,
    "start_time": "2022-05-13T14:16:47.297Z"
   },
   {
    "duration": 546,
    "start_time": "2022-05-13T14:17:04.195Z"
   },
   {
    "duration": 11,
    "start_time": "2022-05-13T14:17:04.743Z"
   },
   {
    "duration": 682,
    "start_time": "2022-05-13T14:22:41.497Z"
   },
   {
    "duration": 10,
    "start_time": "2022-05-13T14:22:42.182Z"
   },
   {
    "duration": 42,
    "start_time": "2022-05-13T14:22:42.194Z"
   },
   {
    "duration": 4,
    "start_time": "2022-05-13T14:22:42.239Z"
   },
   {
    "duration": 11,
    "start_time": "2022-05-13T14:22:42.245Z"
   },
   {
    "duration": 13,
    "start_time": "2022-05-13T14:22:42.257Z"
   },
   {
    "duration": 8,
    "start_time": "2022-05-13T14:22:42.272Z"
   },
   {
    "duration": 42,
    "start_time": "2022-05-13T14:22:42.282Z"
   },
   {
    "duration": 4,
    "start_time": "2022-05-13T14:22:42.326Z"
   },
   {
    "duration": 9,
    "start_time": "2022-05-13T14:22:42.334Z"
   },
   {
    "duration": 9,
    "start_time": "2022-05-13T14:22:42.345Z"
   },
   {
    "duration": 16,
    "start_time": "2022-05-13T14:22:42.356Z"
   },
   {
    "duration": 11,
    "start_time": "2022-05-13T14:22:42.374Z"
   },
   {
    "duration": 56,
    "start_time": "2022-05-13T14:22:42.423Z"
   },
   {
    "duration": 6,
    "start_time": "2022-05-13T14:22:42.482Z"
   },
   {
    "duration": 51,
    "start_time": "2022-05-13T14:22:42.490Z"
   },
   {
    "duration": 9,
    "start_time": "2022-05-13T14:22:42.544Z"
   },
   {
    "duration": 9,
    "start_time": "2022-05-13T14:22:42.555Z"
   },
   {
    "duration": 19,
    "start_time": "2022-05-13T14:22:42.567Z"
   },
   {
    "duration": 68,
    "start_time": "2022-05-13T14:22:42.589Z"
   },
   {
    "duration": 20,
    "start_time": "2022-05-13T14:22:42.659Z"
   },
   {
    "duration": 47,
    "start_time": "2022-05-13T14:22:42.682Z"
   },
   {
    "duration": 16,
    "start_time": "2022-05-13T14:22:42.731Z"
   },
   {
    "duration": 26,
    "start_time": "2022-05-13T14:22:42.748Z"
   },
   {
    "duration": 60,
    "start_time": "2022-05-13T14:22:42.775Z"
   },
   {
    "duration": 12,
    "start_time": "2022-05-13T14:22:42.838Z"
   },
   {
    "duration": 33,
    "start_time": "2022-05-13T14:22:42.852Z"
   },
   {
    "duration": 11,
    "start_time": "2022-05-13T14:22:42.888Z"
   },
   {
    "duration": 15,
    "start_time": "2022-05-13T14:26:35.190Z"
   },
   {
    "duration": 553,
    "start_time": "2022-05-13T14:26:44.292Z"
   },
   {
    "duration": 10,
    "start_time": "2022-05-13T14:26:44.847Z"
   },
   {
    "duration": 21,
    "start_time": "2022-05-13T14:26:44.858Z"
   },
   {
    "duration": 8,
    "start_time": "2022-05-13T14:26:44.881Z"
   },
   {
    "duration": 32,
    "start_time": "2022-05-13T14:26:44.891Z"
   },
   {
    "duration": 12,
    "start_time": "2022-05-13T14:26:44.924Z"
   },
   {
    "duration": 7,
    "start_time": "2022-05-13T14:26:44.938Z"
   },
   {
    "duration": 15,
    "start_time": "2022-05-13T14:26:44.947Z"
   },
   {
    "duration": 5,
    "start_time": "2022-05-13T14:26:44.964Z"
   },
   {
    "duration": 11,
    "start_time": "2022-05-13T14:26:44.972Z"
   },
   {
    "duration": 10,
    "start_time": "2022-05-13T14:26:44.985Z"
   },
   {
    "duration": 12,
    "start_time": "2022-05-13T14:26:45.023Z"
   },
   {
    "duration": 10,
    "start_time": "2022-05-13T14:26:45.038Z"
   },
   {
    "duration": 70,
    "start_time": "2022-05-13T14:26:45.049Z"
   },
   {
    "duration": 11,
    "start_time": "2022-05-13T14:26:45.121Z"
   },
   {
    "duration": 35,
    "start_time": "2022-05-13T14:26:45.134Z"
   },
   {
    "duration": 12,
    "start_time": "2022-05-13T14:26:45.171Z"
   },
   {
    "duration": 8,
    "start_time": "2022-05-13T14:26:45.185Z"
   },
   {
    "duration": 12,
    "start_time": "2022-05-13T14:26:45.195Z"
   },
   {
    "duration": 40,
    "start_time": "2022-05-13T14:26:45.209Z"
   },
   {
    "duration": 14,
    "start_time": "2022-05-13T14:26:45.251Z"
   },
   {
    "duration": 21,
    "start_time": "2022-05-13T14:26:45.267Z"
   },
   {
    "duration": 41,
    "start_time": "2022-05-13T14:26:45.291Z"
   },
   {
    "duration": 26,
    "start_time": "2022-05-13T14:26:45.335Z"
   },
   {
    "duration": 23,
    "start_time": "2022-05-13T14:26:45.363Z"
   },
   {
    "duration": 37,
    "start_time": "2022-05-13T14:26:45.387Z"
   },
   {
    "duration": 31,
    "start_time": "2022-05-13T14:26:45.426Z"
   },
   {
    "duration": 11,
    "start_time": "2022-05-13T14:26:45.461Z"
   },
   {
    "duration": 14,
    "start_time": "2022-05-13T14:26:45.475Z"
   },
   {
    "duration": 13,
    "start_time": "2022-05-13T14:27:11.766Z"
   },
   {
    "duration": 14,
    "start_time": "2022-05-13T14:28:54.912Z"
   },
   {
    "duration": 3367,
    "start_time": "2022-05-13T14:32:30.845Z"
   },
   {
    "duration": 579,
    "start_time": "2022-05-13T14:32:48.857Z"
   },
   {
    "duration": 14,
    "start_time": "2022-05-13T14:32:49.439Z"
   },
   {
    "duration": 26,
    "start_time": "2022-05-13T14:32:49.455Z"
   },
   {
    "duration": 5,
    "start_time": "2022-05-13T14:32:49.484Z"
   },
   {
    "duration": 33,
    "start_time": "2022-05-13T14:32:49.490Z"
   },
   {
    "duration": 11,
    "start_time": "2022-05-13T14:32:49.525Z"
   },
   {
    "duration": 14,
    "start_time": "2022-05-13T14:32:49.538Z"
   },
   {
    "duration": 14,
    "start_time": "2022-05-13T14:32:49.554Z"
   },
   {
    "duration": 15,
    "start_time": "2022-05-13T14:32:49.570Z"
   },
   {
    "duration": 22,
    "start_time": "2022-05-13T14:32:49.588Z"
   },
   {
    "duration": 35,
    "start_time": "2022-05-13T14:32:49.612Z"
   },
   {
    "duration": 31,
    "start_time": "2022-05-13T14:32:49.648Z"
   },
   {
    "duration": 54,
    "start_time": "2022-05-13T14:32:49.680Z"
   },
   {
    "duration": 53,
    "start_time": "2022-05-13T14:32:49.736Z"
   },
   {
    "duration": 23,
    "start_time": "2022-05-13T14:32:49.791Z"
   },
   {
    "duration": 56,
    "start_time": "2022-05-13T14:32:49.816Z"
   },
   {
    "duration": 24,
    "start_time": "2022-05-13T14:32:49.874Z"
   },
   {
    "duration": 13,
    "start_time": "2022-05-13T14:32:49.900Z"
   },
   {
    "duration": 15,
    "start_time": "2022-05-13T14:32:49.915Z"
   },
   {
    "duration": 44,
    "start_time": "2022-05-13T14:32:49.932Z"
   },
   {
    "duration": 16,
    "start_time": "2022-05-13T14:32:49.977Z"
   },
   {
    "duration": 30,
    "start_time": "2022-05-13T14:32:49.995Z"
   },
   {
    "duration": 13,
    "start_time": "2022-05-13T14:32:50.027Z"
   },
   {
    "duration": 27,
    "start_time": "2022-05-13T14:32:50.042Z"
   },
   {
    "duration": 23,
    "start_time": "2022-05-13T14:32:50.070Z"
   },
   {
    "duration": 35,
    "start_time": "2022-05-13T14:32:50.094Z"
   },
   {
    "duration": 38,
    "start_time": "2022-05-13T14:32:50.131Z"
   },
   {
    "duration": 9,
    "start_time": "2022-05-13T14:32:50.173Z"
   },
   {
    "duration": 25,
    "start_time": "2022-05-13T14:32:50.184Z"
   },
   {
    "duration": 15,
    "start_time": "2022-05-13T14:32:50.223Z"
   },
   {
    "duration": 7,
    "start_time": "2022-05-13T14:32:50.239Z"
   },
   {
    "duration": 15,
    "start_time": "2022-05-13T14:32:50.247Z"
   },
   {
    "duration": 20,
    "start_time": "2022-05-13T14:32:50.264Z"
   },
   {
    "duration": 37,
    "start_time": "2022-05-13T14:32:50.286Z"
   },
   {
    "duration": 3180,
    "start_time": "2022-05-13T14:32:54.016Z"
   },
   {
    "duration": 8,
    "start_time": "2022-05-13T14:33:15.073Z"
   },
   {
    "duration": 11,
    "start_time": "2022-05-13T14:33:26.258Z"
   },
   {
    "duration": 13,
    "start_time": "2022-05-13T14:33:35.401Z"
   },
   {
    "duration": 79,
    "start_time": "2022-05-13T14:44:34.083Z"
   },
   {
    "duration": 79,
    "start_time": "2022-05-13T14:49:21.776Z"
   },
   {
    "duration": 36,
    "start_time": "2022-05-13T14:51:34.320Z"
   },
   {
    "duration": 35,
    "start_time": "2022-05-13T14:54:07.080Z"
   },
   {
    "duration": 67,
    "start_time": "2022-05-13T14:54:18.499Z"
   },
   {
    "duration": 9,
    "start_time": "2022-05-13T14:58:30.589Z"
   },
   {
    "duration": 14,
    "start_time": "2022-05-13T14:59:01.041Z"
   },
   {
    "duration": 24,
    "start_time": "2022-05-13T14:59:07.656Z"
   },
   {
    "duration": 25,
    "start_time": "2022-05-13T15:00:44.853Z"
   },
   {
    "duration": 95,
    "start_time": "2022-05-13T15:01:20.328Z"
   },
   {
    "duration": 82,
    "start_time": "2022-05-13T15:02:05.339Z"
   },
   {
    "duration": 34,
    "start_time": "2022-05-13T15:02:14.394Z"
   },
   {
    "duration": 80,
    "start_time": "2022-05-13T15:12:04.686Z"
   },
   {
    "duration": 611,
    "start_time": "2022-05-13T15:22:21.353Z"
   },
   {
    "duration": 11,
    "start_time": "2022-05-13T15:22:21.966Z"
   },
   {
    "duration": 45,
    "start_time": "2022-05-13T15:22:21.979Z"
   },
   {
    "duration": 31,
    "start_time": "2022-05-13T15:22:22.026Z"
   },
   {
    "duration": 30,
    "start_time": "2022-05-13T15:22:22.059Z"
   },
   {
    "duration": 32,
    "start_time": "2022-05-13T15:22:22.091Z"
   },
   {
    "duration": 32,
    "start_time": "2022-05-13T15:22:22.124Z"
   },
   {
    "duration": 32,
    "start_time": "2022-05-13T15:22:22.158Z"
   },
   {
    "duration": 34,
    "start_time": "2022-05-13T15:22:22.192Z"
   },
   {
    "duration": 20,
    "start_time": "2022-05-13T15:22:22.229Z"
   },
   {
    "duration": 34,
    "start_time": "2022-05-13T15:22:22.251Z"
   },
   {
    "duration": 33,
    "start_time": "2022-05-13T15:22:22.287Z"
   },
   {
    "duration": 27,
    "start_time": "2022-05-13T15:22:22.321Z"
   },
   {
    "duration": 49,
    "start_time": "2022-05-13T15:22:22.350Z"
   },
   {
    "duration": 6,
    "start_time": "2022-05-13T15:22:22.400Z"
   },
   {
    "duration": 44,
    "start_time": "2022-05-13T15:22:22.408Z"
   },
   {
    "duration": 8,
    "start_time": "2022-05-13T15:22:22.454Z"
   },
   {
    "duration": 23,
    "start_time": "2022-05-13T15:22:22.464Z"
   },
   {
    "duration": 34,
    "start_time": "2022-05-13T15:22:22.489Z"
   },
   {
    "duration": 45,
    "start_time": "2022-05-13T15:22:22.525Z"
   },
   {
    "duration": 16,
    "start_time": "2022-05-13T15:22:22.572Z"
   },
   {
    "duration": 34,
    "start_time": "2022-05-13T15:22:22.590Z"
   },
   {
    "duration": 13,
    "start_time": "2022-05-13T15:22:22.625Z"
   },
   {
    "duration": 41,
    "start_time": "2022-05-13T15:22:22.640Z"
   },
   {
    "duration": 28,
    "start_time": "2022-05-13T15:22:22.683Z"
   },
   {
    "duration": 20,
    "start_time": "2022-05-13T15:22:22.712Z"
   },
   {
    "duration": 57,
    "start_time": "2022-05-13T15:22:22.734Z"
   },
   {
    "duration": 12,
    "start_time": "2022-05-13T15:22:22.794Z"
   },
   {
    "duration": 30,
    "start_time": "2022-05-13T15:22:22.808Z"
   },
   {
    "duration": 31,
    "start_time": "2022-05-13T15:22:22.840Z"
   },
   {
    "duration": 7,
    "start_time": "2022-05-13T15:22:22.872Z"
   },
   {
    "duration": 17,
    "start_time": "2022-05-13T15:22:22.881Z"
   },
   {
    "duration": 24,
    "start_time": "2022-05-13T15:22:22.900Z"
   },
   {
    "duration": 48,
    "start_time": "2022-05-13T15:22:22.926Z"
   },
   {
    "duration": 25,
    "start_time": "2022-05-13T15:22:22.976Z"
   },
   {
    "duration": 95,
    "start_time": "2022-05-13T15:22:23.003Z"
   },
   {
    "duration": 42,
    "start_time": "2022-05-13T15:22:23.100Z"
   },
   {
    "duration": 50,
    "start_time": "2022-05-13T15:22:23.143Z"
   },
   {
    "duration": 48,
    "start_time": "2022-05-13T15:22:23.195Z"
   },
   {
    "duration": 24,
    "start_time": "2022-05-13T15:22:23.244Z"
   },
   {
    "duration": 62,
    "start_time": "2022-05-13T15:22:23.269Z"
   },
   {
    "duration": 3071,
    "start_time": "2022-05-13T15:22:23.332Z"
   },
   {
    "duration": 0,
    "start_time": "2022-05-13T15:22:26.406Z"
   },
   {
    "duration": 0,
    "start_time": "2022-05-13T15:22:26.408Z"
   },
   {
    "duration": 0,
    "start_time": "2022-05-13T15:22:26.409Z"
   },
   {
    "duration": 0,
    "start_time": "2022-05-13T15:22:26.411Z"
   },
   {
    "duration": 1,
    "start_time": "2022-05-13T15:22:26.412Z"
   },
   {
    "duration": 839,
    "start_time": "2022-05-13T15:25:55.911Z"
   },
   {
    "duration": 45,
    "start_time": "2022-05-13T15:26:19.913Z"
   },
   {
    "duration": 59,
    "start_time": "2022-05-13T15:26:28.293Z"
   },
   {
    "duration": 19,
    "start_time": "2022-05-13T15:26:34.934Z"
   },
   {
    "duration": 16,
    "start_time": "2022-05-13T15:26:56.679Z"
   },
   {
    "duration": 15,
    "start_time": "2022-05-13T15:27:02.188Z"
   },
   {
    "duration": 635,
    "start_time": "2022-05-13T15:27:06.306Z"
   },
   {
    "duration": 11,
    "start_time": "2022-05-13T15:27:06.944Z"
   },
   {
    "duration": 20,
    "start_time": "2022-05-13T15:27:06.957Z"
   },
   {
    "duration": 6,
    "start_time": "2022-05-13T15:27:06.980Z"
   },
   {
    "duration": 37,
    "start_time": "2022-05-13T15:27:06.987Z"
   },
   {
    "duration": 12,
    "start_time": "2022-05-13T15:27:07.026Z"
   },
   {
    "duration": 7,
    "start_time": "2022-05-13T15:27:07.040Z"
   },
   {
    "duration": 9,
    "start_time": "2022-05-13T15:27:07.049Z"
   },
   {
    "duration": 8,
    "start_time": "2022-05-13T15:27:07.059Z"
   },
   {
    "duration": 8,
    "start_time": "2022-05-13T15:27:07.070Z"
   },
   {
    "duration": 48,
    "start_time": "2022-05-13T15:27:07.080Z"
   },
   {
    "duration": 12,
    "start_time": "2022-05-13T15:27:07.130Z"
   },
   {
    "duration": 12,
    "start_time": "2022-05-13T15:27:07.144Z"
   },
   {
    "duration": 37,
    "start_time": "2022-05-13T15:27:07.158Z"
   },
   {
    "duration": 27,
    "start_time": "2022-05-13T15:27:07.197Z"
   },
   {
    "duration": 21,
    "start_time": "2022-05-13T15:27:07.226Z"
   },
   {
    "duration": 8,
    "start_time": "2022-05-13T15:27:07.249Z"
   },
   {
    "duration": 11,
    "start_time": "2022-05-13T15:27:07.259Z"
   },
   {
    "duration": 52,
    "start_time": "2022-05-13T15:27:07.272Z"
   },
   {
    "duration": 35,
    "start_time": "2022-05-13T15:27:07.326Z"
   },
   {
    "duration": 16,
    "start_time": "2022-05-13T15:27:07.362Z"
   },
   {
    "duration": 45,
    "start_time": "2022-05-13T15:27:07.380Z"
   },
   {
    "duration": 13,
    "start_time": "2022-05-13T15:27:07.427Z"
   },
   {
    "duration": 27,
    "start_time": "2022-05-13T15:27:07.441Z"
   },
   {
    "duration": 53,
    "start_time": "2022-05-13T15:27:07.470Z"
   },
   {
    "duration": 10,
    "start_time": "2022-05-13T15:27:07.526Z"
   },
   {
    "duration": 34,
    "start_time": "2022-05-13T15:27:07.538Z"
   },
   {
    "duration": 11,
    "start_time": "2022-05-13T15:27:07.576Z"
   },
   {
    "duration": 38,
    "start_time": "2022-05-13T15:27:07.589Z"
   },
   {
    "duration": 17,
    "start_time": "2022-05-13T15:27:07.629Z"
   },
   {
    "duration": 7,
    "start_time": "2022-05-13T15:27:07.648Z"
   },
   {
    "duration": 3,
    "start_time": "2022-05-13T15:27:07.657Z"
   },
   {
    "duration": 13,
    "start_time": "2022-05-13T15:27:07.662Z"
   },
   {
    "duration": 64,
    "start_time": "2022-05-13T15:27:07.677Z"
   },
   {
    "duration": 15,
    "start_time": "2022-05-13T15:27:07.743Z"
   },
   {
    "duration": 109,
    "start_time": "2022-05-13T15:27:07.760Z"
   },
   {
    "duration": 36,
    "start_time": "2022-05-13T15:27:07.871Z"
   },
   {
    "duration": 62,
    "start_time": "2022-05-13T15:27:07.909Z"
   },
   {
    "duration": 27,
    "start_time": "2022-05-13T15:27:07.972Z"
   },
   {
    "duration": 41,
    "start_time": "2022-05-13T15:27:08.001Z"
   },
   {
    "duration": 35,
    "start_time": "2022-05-13T15:27:08.044Z"
   },
   {
    "duration": 3132,
    "start_time": "2022-05-13T15:27:08.081Z"
   },
   {
    "duration": 0,
    "start_time": "2022-05-13T15:27:11.215Z"
   },
   {
    "duration": 0,
    "start_time": "2022-05-13T15:27:11.217Z"
   },
   {
    "duration": 0,
    "start_time": "2022-05-13T15:27:11.219Z"
   },
   {
    "duration": 0,
    "start_time": "2022-05-13T15:27:11.220Z"
   },
   {
    "duration": 0,
    "start_time": "2022-05-13T15:27:11.221Z"
   },
   {
    "duration": 14,
    "start_time": "2022-05-13T15:27:20.289Z"
   },
   {
    "duration": 14,
    "start_time": "2022-05-13T15:27:24.958Z"
   },
   {
    "duration": 670,
    "start_time": "2022-05-13T15:27:28.686Z"
   },
   {
    "duration": 10,
    "start_time": "2022-05-13T15:27:29.358Z"
   },
   {
    "duration": 24,
    "start_time": "2022-05-13T15:27:29.371Z"
   },
   {
    "duration": 4,
    "start_time": "2022-05-13T15:27:29.423Z"
   },
   {
    "duration": 11,
    "start_time": "2022-05-13T15:27:29.429Z"
   },
   {
    "duration": 15,
    "start_time": "2022-05-13T15:27:29.441Z"
   },
   {
    "duration": 7,
    "start_time": "2022-05-13T15:27:29.458Z"
   },
   {
    "duration": 10,
    "start_time": "2022-05-13T15:27:29.468Z"
   },
   {
    "duration": 6,
    "start_time": "2022-05-13T15:27:29.480Z"
   },
   {
    "duration": 39,
    "start_time": "2022-05-13T15:27:29.490Z"
   },
   {
    "duration": 8,
    "start_time": "2022-05-13T15:27:29.531Z"
   },
   {
    "duration": 12,
    "start_time": "2022-05-13T15:27:29.541Z"
   },
   {
    "duration": 9,
    "start_time": "2022-05-13T15:27:29.555Z"
   },
   {
    "duration": 68,
    "start_time": "2022-05-13T15:27:29.565Z"
   },
   {
    "duration": 5,
    "start_time": "2022-05-13T15:27:29.635Z"
   },
   {
    "duration": 22,
    "start_time": "2022-05-13T15:27:29.641Z"
   },
   {
    "duration": 7,
    "start_time": "2022-05-13T15:27:29.665Z"
   },
   {
    "duration": 8,
    "start_time": "2022-05-13T15:27:29.674Z"
   },
   {
    "duration": 49,
    "start_time": "2022-05-13T15:27:29.684Z"
   },
   {
    "duration": 36,
    "start_time": "2022-05-13T15:27:29.734Z"
   },
   {
    "duration": 15,
    "start_time": "2022-05-13T15:27:29.772Z"
   },
   {
    "duration": 45,
    "start_time": "2022-05-13T15:27:29.789Z"
   },
   {
    "duration": 13,
    "start_time": "2022-05-13T15:27:29.836Z"
   },
   {
    "duration": 27,
    "start_time": "2022-05-13T15:27:29.850Z"
   },
   {
    "duration": 56,
    "start_time": "2022-05-13T15:27:29.879Z"
   },
   {
    "duration": 10,
    "start_time": "2022-05-13T15:27:29.937Z"
   },
   {
    "duration": 31,
    "start_time": "2022-05-13T15:27:29.949Z"
   },
   {
    "duration": 11,
    "start_time": "2022-05-13T15:27:29.983Z"
   },
   {
    "duration": 41,
    "start_time": "2022-05-13T15:27:29.995Z"
   },
   {
    "duration": 16,
    "start_time": "2022-05-13T15:27:30.037Z"
   },
   {
    "duration": 6,
    "start_time": "2022-05-13T15:27:30.055Z"
   },
   {
    "duration": 4,
    "start_time": "2022-05-13T15:27:30.063Z"
   },
   {
    "duration": 19,
    "start_time": "2022-05-13T15:27:30.068Z"
   },
   {
    "duration": 53,
    "start_time": "2022-05-13T15:27:30.089Z"
   },
   {
    "duration": 13,
    "start_time": "2022-05-13T15:27:30.143Z"
   },
   {
    "duration": 109,
    "start_time": "2022-05-13T15:27:30.158Z"
   },
   {
    "duration": 37,
    "start_time": "2022-05-13T15:27:30.268Z"
   },
   {
    "duration": 61,
    "start_time": "2022-05-13T15:27:30.307Z"
   },
   {
    "duration": 27,
    "start_time": "2022-05-13T15:27:30.370Z"
   },
   {
    "duration": 27,
    "start_time": "2022-05-13T15:29:11.887Z"
   },
   {
    "duration": 3275,
    "start_time": "2022-05-13T15:33:09.412Z"
   },
   {
    "duration": 32,
    "start_time": "2022-05-13T15:33:48.647Z"
   },
   {
    "duration": 25,
    "start_time": "2022-05-13T15:40:03.914Z"
   },
   {
    "duration": 28,
    "start_time": "2022-05-13T15:40:50.571Z"
   },
   {
    "duration": 31,
    "start_time": "2022-05-13T15:41:11.000Z"
   },
   {
    "duration": 30,
    "start_time": "2022-05-13T15:43:22.751Z"
   },
   {
    "duration": 28,
    "start_time": "2022-05-13T15:43:54.204Z"
   },
   {
    "duration": 31,
    "start_time": "2022-05-13T15:57:30.264Z"
   },
   {
    "duration": 27,
    "start_time": "2022-05-13T15:57:49.410Z"
   },
   {
    "duration": 9,
    "start_time": "2022-05-13T16:03:38.302Z"
   },
   {
    "duration": 10,
    "start_time": "2022-05-13T16:06:06.258Z"
   },
   {
    "duration": 598,
    "start_time": "2022-05-13T16:06:16.197Z"
   },
   {
    "duration": 34,
    "start_time": "2022-05-13T16:06:16.797Z"
   },
   {
    "duration": 29,
    "start_time": "2022-05-13T16:06:16.834Z"
   },
   {
    "duration": 5,
    "start_time": "2022-05-13T16:06:16.866Z"
   },
   {
    "duration": 6,
    "start_time": "2022-05-13T16:06:16.873Z"
   },
   {
    "duration": 49,
    "start_time": "2022-05-13T16:06:16.881Z"
   },
   {
    "duration": 8,
    "start_time": "2022-05-13T16:06:16.932Z"
   },
   {
    "duration": 13,
    "start_time": "2022-05-13T16:06:16.942Z"
   },
   {
    "duration": 5,
    "start_time": "2022-05-13T16:06:16.958Z"
   },
   {
    "duration": 11,
    "start_time": "2022-05-13T16:06:16.968Z"
   },
   {
    "duration": 43,
    "start_time": "2022-05-13T16:06:16.981Z"
   },
   {
    "duration": 17,
    "start_time": "2022-05-13T16:06:17.026Z"
   },
   {
    "duration": 10,
    "start_time": "2022-05-13T16:06:17.045Z"
   },
   {
    "duration": 82,
    "start_time": "2022-05-13T16:06:17.057Z"
   },
   {
    "duration": 8,
    "start_time": "2022-05-13T16:06:17.141Z"
   },
   {
    "duration": 31,
    "start_time": "2022-05-13T16:06:17.151Z"
   },
   {
    "duration": 41,
    "start_time": "2022-05-13T16:06:17.183Z"
   },
   {
    "duration": 12,
    "start_time": "2022-05-13T16:06:17.226Z"
   },
   {
    "duration": 18,
    "start_time": "2022-05-13T16:06:17.240Z"
   },
   {
    "duration": 62,
    "start_time": "2022-05-13T16:06:17.261Z"
   },
   {
    "duration": 24,
    "start_time": "2022-05-13T16:06:17.325Z"
   },
   {
    "duration": 22,
    "start_time": "2022-05-13T16:06:17.351Z"
   },
   {
    "duration": 15,
    "start_time": "2022-05-13T16:06:17.375Z"
   },
   {
    "duration": 55,
    "start_time": "2022-05-13T16:06:17.393Z"
   },
   {
    "duration": 25,
    "start_time": "2022-05-13T16:06:17.450Z"
   },
   {
    "duration": 11,
    "start_time": "2022-05-13T16:06:17.477Z"
   },
   {
    "duration": 63,
    "start_time": "2022-05-13T16:06:17.489Z"
   },
   {
    "duration": 11,
    "start_time": "2022-05-13T16:06:17.556Z"
   },
   {
    "duration": 16,
    "start_time": "2022-05-13T16:06:17.569Z"
   },
   {
    "duration": 49,
    "start_time": "2022-05-13T16:06:17.587Z"
   },
   {
    "duration": 8,
    "start_time": "2022-05-13T16:06:17.638Z"
   },
   {
    "duration": 2,
    "start_time": "2022-05-13T16:06:17.648Z"
   },
   {
    "duration": 13,
    "start_time": "2022-05-13T16:06:17.652Z"
   },
   {
    "duration": 66,
    "start_time": "2022-05-13T16:06:17.667Z"
   },
   {
    "duration": 15,
    "start_time": "2022-05-13T16:06:17.735Z"
   },
   {
    "duration": 114,
    "start_time": "2022-05-13T16:06:17.751Z"
   },
   {
    "duration": 38,
    "start_time": "2022-05-13T16:06:17.867Z"
   },
   {
    "duration": 52,
    "start_time": "2022-05-13T16:06:17.922Z"
   },
   {
    "duration": 60,
    "start_time": "2022-05-13T16:06:17.977Z"
   },
   {
    "duration": 39,
    "start_time": "2022-05-13T16:06:18.040Z"
   },
   {
    "duration": 13,
    "start_time": "2022-05-13T16:06:18.081Z"
   },
   {
    "duration": 0,
    "start_time": "2022-05-13T16:06:18.096Z"
   },
   {
    "duration": 0,
    "start_time": "2022-05-13T16:06:18.123Z"
   },
   {
    "duration": 0,
    "start_time": "2022-05-13T16:06:18.125Z"
   },
   {
    "duration": 5,
    "start_time": "2022-05-13T16:15:34.078Z"
   },
   {
    "duration": 551,
    "start_time": "2022-05-13T16:15:42.728Z"
   },
   {
    "duration": 11,
    "start_time": "2022-05-13T16:15:43.282Z"
   },
   {
    "duration": 28,
    "start_time": "2022-05-13T16:15:43.323Z"
   },
   {
    "duration": 12,
    "start_time": "2022-05-13T16:15:43.354Z"
   },
   {
    "duration": 13,
    "start_time": "2022-05-13T16:15:43.368Z"
   },
   {
    "duration": 38,
    "start_time": "2022-05-13T16:15:43.384Z"
   },
   {
    "duration": 13,
    "start_time": "2022-05-13T16:15:43.425Z"
   },
   {
    "duration": 14,
    "start_time": "2022-05-13T16:15:43.440Z"
   },
   {
    "duration": 16,
    "start_time": "2022-05-13T16:15:43.455Z"
   },
   {
    "duration": 29,
    "start_time": "2022-05-13T16:15:43.474Z"
   },
   {
    "duration": 19,
    "start_time": "2022-05-13T16:15:43.505Z"
   },
   {
    "duration": 26,
    "start_time": "2022-05-13T16:15:43.526Z"
   },
   {
    "duration": 18,
    "start_time": "2022-05-13T16:15:43.554Z"
   },
   {
    "duration": 70,
    "start_time": "2022-05-13T16:15:43.575Z"
   },
   {
    "duration": 8,
    "start_time": "2022-05-13T16:15:43.647Z"
   },
   {
    "duration": 34,
    "start_time": "2022-05-13T16:15:43.658Z"
   },
   {
    "duration": 10,
    "start_time": "2022-05-13T16:15:43.694Z"
   },
   {
    "duration": 11,
    "start_time": "2022-05-13T16:15:43.722Z"
   },
   {
    "duration": 19,
    "start_time": "2022-05-13T16:15:43.735Z"
   },
   {
    "duration": 52,
    "start_time": "2022-05-13T16:15:43.756Z"
   },
   {
    "duration": 16,
    "start_time": "2022-05-13T16:15:43.824Z"
   },
   {
    "duration": 20,
    "start_time": "2022-05-13T16:15:43.842Z"
   },
   {
    "duration": 14,
    "start_time": "2022-05-13T16:15:43.864Z"
   },
   {
    "duration": 55,
    "start_time": "2022-05-13T16:15:43.880Z"
   },
   {
    "duration": 22,
    "start_time": "2022-05-13T16:15:43.937Z"
   },
   {
    "duration": 9,
    "start_time": "2022-05-13T16:15:43.961Z"
   },
   {
    "duration": 61,
    "start_time": "2022-05-13T16:15:43.972Z"
   },
   {
    "duration": 11,
    "start_time": "2022-05-13T16:15:44.036Z"
   },
   {
    "duration": 13,
    "start_time": "2022-05-13T16:15:44.050Z"
   },
   {
    "duration": 15,
    "start_time": "2022-05-13T16:15:44.065Z"
   },
   {
    "duration": 43,
    "start_time": "2022-05-13T16:15:44.082Z"
   },
   {
    "duration": 2,
    "start_time": "2022-05-13T16:15:44.127Z"
   },
   {
    "duration": 14,
    "start_time": "2022-05-13T16:15:44.131Z"
   },
   {
    "duration": 26,
    "start_time": "2022-05-13T16:15:44.147Z"
   },
   {
    "duration": 13,
    "start_time": "2022-05-13T16:15:44.175Z"
   },
   {
    "duration": 113,
    "start_time": "2022-05-13T16:15:44.190Z"
   },
   {
    "duration": 47,
    "start_time": "2022-05-13T16:15:44.304Z"
   },
   {
    "duration": 44,
    "start_time": "2022-05-13T16:15:44.353Z"
   },
   {
    "duration": 72,
    "start_time": "2022-05-13T16:15:44.399Z"
   },
   {
    "duration": 57,
    "start_time": "2022-05-13T16:15:44.474Z"
   },
   {
    "duration": 6,
    "start_time": "2022-05-13T16:15:44.533Z"
   },
   {
    "duration": 817,
    "start_time": "2022-05-13T16:16:00.819Z"
   },
   {
    "duration": 608,
    "start_time": "2022-05-13T16:19:45.066Z"
   },
   {
    "duration": 11,
    "start_time": "2022-05-13T16:19:45.676Z"
   },
   {
    "duration": 50,
    "start_time": "2022-05-13T16:19:45.689Z"
   },
   {
    "duration": 5,
    "start_time": "2022-05-13T16:19:45.741Z"
   },
   {
    "duration": 5,
    "start_time": "2022-05-13T16:19:45.748Z"
   },
   {
    "duration": 14,
    "start_time": "2022-05-13T16:19:45.755Z"
   },
   {
    "duration": 7,
    "start_time": "2022-05-13T16:19:45.771Z"
   },
   {
    "duration": 48,
    "start_time": "2022-05-13T16:19:45.780Z"
   },
   {
    "duration": 5,
    "start_time": "2022-05-13T16:19:45.830Z"
   },
   {
    "duration": 9,
    "start_time": "2022-05-13T16:19:45.840Z"
   },
   {
    "duration": 11,
    "start_time": "2022-05-13T16:19:45.851Z"
   },
   {
    "duration": 20,
    "start_time": "2022-05-13T16:19:45.864Z"
   },
   {
    "duration": 45,
    "start_time": "2022-05-13T16:19:45.886Z"
   },
   {
    "duration": 50,
    "start_time": "2022-05-13T16:19:45.933Z"
   },
   {
    "duration": 39,
    "start_time": "2022-05-13T16:19:45.984Z"
   },
   {
    "duration": 24,
    "start_time": "2022-05-13T16:19:46.026Z"
   },
   {
    "duration": 8,
    "start_time": "2022-05-13T16:19:46.052Z"
   },
   {
    "duration": 11,
    "start_time": "2022-05-13T16:19:46.062Z"
   },
   {
    "duration": 50,
    "start_time": "2022-05-13T16:19:46.075Z"
   },
   {
    "duration": 58,
    "start_time": "2022-05-13T16:19:46.127Z"
   },
   {
    "duration": 37,
    "start_time": "2022-05-13T16:19:46.187Z"
   },
   {
    "duration": 20,
    "start_time": "2022-05-13T16:19:46.226Z"
   },
   {
    "duration": 18,
    "start_time": "2022-05-13T16:19:46.248Z"
   },
   {
    "duration": 66,
    "start_time": "2022-05-13T16:19:46.268Z"
   },
   {
    "duration": 27,
    "start_time": "2022-05-13T16:19:46.336Z"
   },
   {
    "duration": 9,
    "start_time": "2022-05-13T16:19:46.365Z"
   },
   {
    "duration": 52,
    "start_time": "2022-05-13T16:19:46.376Z"
   },
   {
    "duration": 10,
    "start_time": "2022-05-13T16:19:46.433Z"
   },
   {
    "duration": 14,
    "start_time": "2022-05-13T16:19:46.445Z"
   },
   {
    "duration": 14,
    "start_time": "2022-05-13T16:19:46.461Z"
   },
   {
    "duration": 6,
    "start_time": "2022-05-13T16:19:46.477Z"
   },
   {
    "duration": 4,
    "start_time": "2022-05-13T16:19:46.485Z"
   },
   {
    "duration": 16,
    "start_time": "2022-05-13T16:19:46.523Z"
   },
   {
    "duration": 30,
    "start_time": "2022-05-13T16:19:46.541Z"
   },
   {
    "duration": 12,
    "start_time": "2022-05-13T16:19:46.573Z"
   },
   {
    "duration": 124,
    "start_time": "2022-05-13T16:19:46.586Z"
   },
   {
    "duration": 51,
    "start_time": "2022-05-13T16:19:46.712Z"
   },
   {
    "duration": 80,
    "start_time": "2022-05-13T16:19:46.765Z"
   },
   {
    "duration": 103,
    "start_time": "2022-05-13T16:19:46.846Z"
   },
   {
    "duration": 42,
    "start_time": "2022-05-13T16:19:46.967Z"
   },
   {
    "duration": 776,
    "start_time": "2022-05-13T16:19:47.011Z"
   },
   {
    "duration": 0,
    "start_time": "2022-05-13T16:19:47.790Z"
   },
   {
    "duration": 0,
    "start_time": "2022-05-13T16:19:47.792Z"
   },
   {
    "duration": 0,
    "start_time": "2022-05-13T16:19:47.794Z"
   },
   {
    "duration": 763,
    "start_time": "2022-05-13T16:23:56.201Z"
   },
   {
    "duration": 785,
    "start_time": "2022-05-13T16:31:13.240Z"
   },
   {
    "duration": 614,
    "start_time": "2022-05-13T16:31:18.234Z"
   },
   {
    "duration": 11,
    "start_time": "2022-05-13T16:31:18.850Z"
   },
   {
    "duration": 41,
    "start_time": "2022-05-13T16:31:18.863Z"
   },
   {
    "duration": 5,
    "start_time": "2022-05-13T16:31:18.906Z"
   },
   {
    "duration": 14,
    "start_time": "2022-05-13T16:31:18.912Z"
   },
   {
    "duration": 17,
    "start_time": "2022-05-13T16:31:18.927Z"
   },
   {
    "duration": 9,
    "start_time": "2022-05-13T16:31:18.945Z"
   },
   {
    "duration": 9,
    "start_time": "2022-05-13T16:31:18.956Z"
   },
   {
    "duration": 5,
    "start_time": "2022-05-13T16:31:18.967Z"
   },
   {
    "duration": 10,
    "start_time": "2022-05-13T16:31:18.975Z"
   },
   {
    "duration": 9,
    "start_time": "2022-05-13T16:31:19.022Z"
   },
   {
    "duration": 15,
    "start_time": "2022-05-13T16:31:19.033Z"
   },
   {
    "duration": 9,
    "start_time": "2022-05-13T16:31:19.050Z"
   },
   {
    "duration": 62,
    "start_time": "2022-05-13T16:31:19.061Z"
   },
   {
    "duration": 6,
    "start_time": "2022-05-13T16:31:19.125Z"
   },
   {
    "duration": 21,
    "start_time": "2022-05-13T16:31:19.133Z"
   },
   {
    "duration": 9,
    "start_time": "2022-05-13T16:31:19.156Z"
   },
   {
    "duration": 9,
    "start_time": "2022-05-13T16:31:19.167Z"
   },
   {
    "duration": 46,
    "start_time": "2022-05-13T16:31:19.178Z"
   },
   {
    "duration": 37,
    "start_time": "2022-05-13T16:31:19.225Z"
   },
   {
    "duration": 17,
    "start_time": "2022-05-13T16:31:19.264Z"
   },
   {
    "duration": 50,
    "start_time": "2022-05-13T16:31:19.283Z"
   },
   {
    "duration": 16,
    "start_time": "2022-05-13T16:31:19.335Z"
   },
   {
    "duration": 35,
    "start_time": "2022-05-13T16:31:19.353Z"
   },
   {
    "duration": 59,
    "start_time": "2022-05-13T16:31:19.390Z"
   },
   {
    "duration": 12,
    "start_time": "2022-05-13T16:31:19.451Z"
   },
   {
    "duration": 64,
    "start_time": "2022-05-13T16:31:19.465Z"
   },
   {
    "duration": 16,
    "start_time": "2022-05-13T16:31:19.534Z"
   },
   {
    "duration": 18,
    "start_time": "2022-05-13T16:31:19.552Z"
   },
   {
    "duration": 16,
    "start_time": "2022-05-13T16:31:19.571Z"
   },
   {
    "duration": 36,
    "start_time": "2022-05-13T16:31:19.588Z"
   },
   {
    "duration": 3,
    "start_time": "2022-05-13T16:31:19.625Z"
   },
   {
    "duration": 17,
    "start_time": "2022-05-13T16:31:19.630Z"
   },
   {
    "duration": 30,
    "start_time": "2022-05-13T16:31:19.648Z"
   },
   {
    "duration": 14,
    "start_time": "2022-05-13T16:31:19.681Z"
   },
   {
    "duration": 102,
    "start_time": "2022-05-13T16:31:19.722Z"
   },
   {
    "duration": 37,
    "start_time": "2022-05-13T16:31:19.826Z"
   },
   {
    "duration": 70,
    "start_time": "2022-05-13T16:31:19.865Z"
   },
   {
    "duration": 32,
    "start_time": "2022-05-13T16:31:19.936Z"
   },
   {
    "duration": 25,
    "start_time": "2022-05-13T16:31:19.970Z"
   },
   {
    "duration": 807,
    "start_time": "2022-05-13T16:31:19.997Z"
   },
   {
    "duration": 0,
    "start_time": "2022-05-13T16:31:20.806Z"
   },
   {
    "duration": 0,
    "start_time": "2022-05-13T16:31:20.808Z"
   },
   {
    "duration": 0,
    "start_time": "2022-05-13T16:31:20.809Z"
   },
   {
    "duration": 25,
    "start_time": "2022-05-13T16:32:49.155Z"
   },
   {
    "duration": 6,
    "start_time": "2022-05-13T16:35:37.990Z"
   },
   {
    "duration": 25,
    "start_time": "2022-05-13T16:35:51.570Z"
   },
   {
    "duration": 516,
    "start_time": "2022-05-13T16:35:57.047Z"
   },
   {
    "duration": 15,
    "start_time": "2022-05-13T16:35:57.565Z"
   },
   {
    "duration": 51,
    "start_time": "2022-05-13T16:35:57.582Z"
   },
   {
    "duration": 8,
    "start_time": "2022-05-13T16:35:57.636Z"
   },
   {
    "duration": 6,
    "start_time": "2022-05-13T16:35:57.645Z"
   },
   {
    "duration": 13,
    "start_time": "2022-05-13T16:35:57.653Z"
   },
   {
    "duration": 8,
    "start_time": "2022-05-13T16:35:57.668Z"
   },
   {
    "duration": 10,
    "start_time": "2022-05-13T16:35:57.678Z"
   },
   {
    "duration": 34,
    "start_time": "2022-05-13T16:35:57.690Z"
   },
   {
    "duration": 9,
    "start_time": "2022-05-13T16:35:57.727Z"
   },
   {
    "duration": 8,
    "start_time": "2022-05-13T16:35:57.737Z"
   },
   {
    "duration": 15,
    "start_time": "2022-05-13T16:35:57.747Z"
   },
   {
    "duration": 11,
    "start_time": "2022-05-13T16:35:57.764Z"
   },
   {
    "duration": 62,
    "start_time": "2022-05-13T16:35:57.777Z"
   },
   {
    "duration": 7,
    "start_time": "2022-05-13T16:35:57.841Z"
   },
   {
    "duration": 20,
    "start_time": "2022-05-13T16:35:57.850Z"
   },
   {
    "duration": 9,
    "start_time": "2022-05-13T16:35:57.872Z"
   },
   {
    "duration": 43,
    "start_time": "2022-05-13T16:35:57.883Z"
   },
   {
    "duration": 14,
    "start_time": "2022-05-13T16:35:57.927Z"
   },
   {
    "duration": 41,
    "start_time": "2022-05-13T16:35:57.943Z"
   },
   {
    "duration": 41,
    "start_time": "2022-05-13T16:35:57.986Z"
   },
   {
    "duration": 20,
    "start_time": "2022-05-13T16:35:58.029Z"
   },
   {
    "duration": 15,
    "start_time": "2022-05-13T16:35:58.051Z"
   },
   {
    "duration": 56,
    "start_time": "2022-05-13T16:35:58.068Z"
   },
   {
    "duration": 22,
    "start_time": "2022-05-13T16:35:58.126Z"
   },
   {
    "duration": 9,
    "start_time": "2022-05-13T16:35:58.150Z"
   },
   {
    "duration": 30,
    "start_time": "2022-05-13T16:35:58.161Z"
   },
   {
    "duration": 33,
    "start_time": "2022-05-13T16:35:58.195Z"
   },
   {
    "duration": 15,
    "start_time": "2022-05-13T16:35:58.229Z"
   },
   {
    "duration": 21,
    "start_time": "2022-05-13T16:35:58.246Z"
   },
   {
    "duration": 8,
    "start_time": "2022-05-13T16:35:58.269Z"
   },
   {
    "duration": 3,
    "start_time": "2022-05-13T16:35:58.279Z"
   },
   {
    "duration": 46,
    "start_time": "2022-05-13T16:35:58.283Z"
   },
   {
    "duration": 28,
    "start_time": "2022-05-13T16:35:58.330Z"
   },
   {
    "duration": 12,
    "start_time": "2022-05-13T16:35:58.360Z"
   },
   {
    "duration": 105,
    "start_time": "2022-05-13T16:35:58.374Z"
   },
   {
    "duration": 47,
    "start_time": "2022-05-13T16:35:58.480Z"
   },
   {
    "duration": 44,
    "start_time": "2022-05-13T16:35:58.528Z"
   },
   {
    "duration": 32,
    "start_time": "2022-05-13T16:35:58.573Z"
   },
   {
    "duration": 27,
    "start_time": "2022-05-13T16:35:58.621Z"
   },
   {
    "duration": 27,
    "start_time": "2022-05-13T16:35:58.650Z"
   },
   {
    "duration": 4576,
    "start_time": "2022-05-13T16:35:58.679Z"
   },
   {
    "duration": 0,
    "start_time": "2022-05-13T16:36:03.257Z"
   },
   {
    "duration": 0,
    "start_time": "2022-05-13T16:36:03.258Z"
   },
   {
    "duration": 25,
    "start_time": "2022-05-13T16:39:03.538Z"
   },
   {
    "duration": 569,
    "start_time": "2022-05-13T16:39:33.597Z"
   },
   {
    "duration": 13,
    "start_time": "2022-05-13T16:39:34.168Z"
   },
   {
    "duration": 41,
    "start_time": "2022-05-13T16:39:34.183Z"
   },
   {
    "duration": 4,
    "start_time": "2022-05-13T16:39:34.226Z"
   },
   {
    "duration": 18,
    "start_time": "2022-05-13T16:39:34.232Z"
   },
   {
    "duration": 13,
    "start_time": "2022-05-13T16:39:34.252Z"
   },
   {
    "duration": 22,
    "start_time": "2022-05-13T16:39:34.267Z"
   },
   {
    "duration": 11,
    "start_time": "2022-05-13T16:39:34.290Z"
   },
   {
    "duration": 34,
    "start_time": "2022-05-13T16:39:34.303Z"
   },
   {
    "duration": 29,
    "start_time": "2022-05-13T16:39:34.340Z"
   },
   {
    "duration": 15,
    "start_time": "2022-05-13T16:39:34.370Z"
   },
   {
    "duration": 28,
    "start_time": "2022-05-13T16:39:34.387Z"
   },
   {
    "duration": 16,
    "start_time": "2022-05-13T16:39:34.417Z"
   },
   {
    "duration": 48,
    "start_time": "2022-05-13T16:39:34.434Z"
   },
   {
    "duration": 6,
    "start_time": "2022-05-13T16:39:34.484Z"
   },
   {
    "duration": 33,
    "start_time": "2022-05-13T16:39:34.492Z"
   },
   {
    "duration": 11,
    "start_time": "2022-05-13T16:39:34.526Z"
   },
   {
    "duration": 23,
    "start_time": "2022-05-13T16:39:34.539Z"
   },
   {
    "duration": 20,
    "start_time": "2022-05-13T16:39:34.564Z"
   },
   {
    "duration": 56,
    "start_time": "2022-05-13T16:39:34.585Z"
   },
   {
    "duration": 15,
    "start_time": "2022-05-13T16:39:34.643Z"
   },
   {
    "duration": 35,
    "start_time": "2022-05-13T16:39:34.660Z"
   },
   {
    "duration": 26,
    "start_time": "2022-05-13T16:39:34.697Z"
   },
   {
    "duration": 26,
    "start_time": "2022-05-13T16:39:34.725Z"
   },
   {
    "duration": 28,
    "start_time": "2022-05-13T16:39:34.753Z"
   },
   {
    "duration": 11,
    "start_time": "2022-05-13T16:39:34.783Z"
   },
   {
    "duration": 53,
    "start_time": "2022-05-13T16:39:34.796Z"
   },
   {
    "duration": 11,
    "start_time": "2022-05-13T16:39:34.853Z"
   },
   {
    "duration": 25,
    "start_time": "2022-05-13T16:39:34.865Z"
   },
   {
    "duration": 21,
    "start_time": "2022-05-13T16:39:34.892Z"
   },
   {
    "duration": 7,
    "start_time": "2022-05-13T16:39:34.923Z"
   },
   {
    "duration": 13,
    "start_time": "2022-05-13T16:39:34.931Z"
   },
   {
    "duration": 28,
    "start_time": "2022-05-13T16:39:34.945Z"
   },
   {
    "duration": 39,
    "start_time": "2022-05-13T16:39:34.975Z"
   },
   {
    "duration": 12,
    "start_time": "2022-05-13T16:39:35.016Z"
   },
   {
    "duration": 85,
    "start_time": "2022-05-13T16:39:35.029Z"
   },
   {
    "duration": 39,
    "start_time": "2022-05-13T16:39:35.116Z"
   },
   {
    "duration": 47,
    "start_time": "2022-05-13T16:39:35.157Z"
   },
   {
    "duration": 122,
    "start_time": "2022-05-13T16:39:35.206Z"
   },
   {
    "duration": 27,
    "start_time": "2022-05-13T16:39:35.330Z"
   },
   {
    "duration": 26,
    "start_time": "2022-05-13T16:39:35.359Z"
   },
   {
    "duration": 28,
    "start_time": "2022-05-13T16:39:58.169Z"
   },
   {
    "duration": 30,
    "start_time": "2022-05-13T16:44:03.792Z"
   },
   {
    "duration": 12,
    "start_time": "2022-05-13T16:57:22.239Z"
   },
   {
    "duration": 589,
    "start_time": "2022-05-13T16:57:26.264Z"
   },
   {
    "duration": 10,
    "start_time": "2022-05-13T16:57:26.855Z"
   },
   {
    "duration": 21,
    "start_time": "2022-05-13T16:57:26.867Z"
   },
   {
    "duration": 33,
    "start_time": "2022-05-13T16:57:26.890Z"
   },
   {
    "duration": 4,
    "start_time": "2022-05-13T16:57:26.925Z"
   },
   {
    "duration": 12,
    "start_time": "2022-05-13T16:57:26.931Z"
   },
   {
    "duration": 9,
    "start_time": "2022-05-13T16:57:26.945Z"
   },
   {
    "duration": 9,
    "start_time": "2022-05-13T16:57:26.956Z"
   },
   {
    "duration": 4,
    "start_time": "2022-05-13T16:57:26.967Z"
   },
   {
    "duration": 7,
    "start_time": "2022-05-13T16:57:26.974Z"
   },
   {
    "duration": 44,
    "start_time": "2022-05-13T16:57:26.983Z"
   },
   {
    "duration": 13,
    "start_time": "2022-05-13T16:57:27.029Z"
   },
   {
    "duration": 16,
    "start_time": "2022-05-13T16:57:27.043Z"
   },
   {
    "duration": 40,
    "start_time": "2022-05-13T16:57:27.061Z"
   },
   {
    "duration": 5,
    "start_time": "2022-05-13T16:57:27.124Z"
   },
   {
    "duration": 21,
    "start_time": "2022-05-13T16:57:27.131Z"
   },
   {
    "duration": 8,
    "start_time": "2022-05-13T16:57:27.154Z"
   },
   {
    "duration": 9,
    "start_time": "2022-05-13T16:57:27.164Z"
   },
   {
    "duration": 59,
    "start_time": "2022-05-13T16:57:27.175Z"
   },
   {
    "duration": 61,
    "start_time": "2022-05-13T16:57:27.236Z"
   },
   {
    "duration": 32,
    "start_time": "2022-05-13T16:57:27.300Z"
   },
   {
    "duration": 28,
    "start_time": "2022-05-13T16:57:27.334Z"
   },
   {
    "duration": 18,
    "start_time": "2022-05-13T16:57:27.364Z"
   },
   {
    "duration": 59,
    "start_time": "2022-05-13T16:57:27.384Z"
   },
   {
    "duration": 36,
    "start_time": "2022-05-13T16:57:27.446Z"
   },
   {
    "duration": 13,
    "start_time": "2022-05-13T16:57:27.484Z"
   },
   {
    "duration": 50,
    "start_time": "2022-05-13T16:57:27.522Z"
   },
   {
    "duration": 14,
    "start_time": "2022-05-13T16:57:27.577Z"
   },
   {
    "duration": 43,
    "start_time": "2022-05-13T16:57:27.593Z"
   },
   {
    "duration": 20,
    "start_time": "2022-05-13T16:57:27.638Z"
   },
   {
    "duration": 9,
    "start_time": "2022-05-13T16:57:27.660Z"
   },
   {
    "duration": 2,
    "start_time": "2022-05-13T16:57:27.671Z"
   },
   {
    "duration": 17,
    "start_time": "2022-05-13T16:57:27.676Z"
   },
   {
    "duration": 42,
    "start_time": "2022-05-13T16:57:27.723Z"
   },
   {
    "duration": 13,
    "start_time": "2022-05-13T16:57:27.767Z"
   },
   {
    "duration": 107,
    "start_time": "2022-05-13T16:57:27.782Z"
   },
   {
    "duration": 47,
    "start_time": "2022-05-13T16:57:27.891Z"
   },
   {
    "duration": 47,
    "start_time": "2022-05-13T16:57:27.939Z"
   },
   {
    "duration": 12,
    "start_time": "2022-05-13T16:57:27.987Z"
   },
   {
    "duration": 49,
    "start_time": "2022-05-13T16:57:28.001Z"
   },
   {
    "duration": 26,
    "start_time": "2022-05-13T16:57:28.052Z"
   },
   {
    "duration": 60,
    "start_time": "2022-05-13T16:57:28.080Z"
   },
   {
    "duration": 21,
    "start_time": "2022-05-13T16:57:56.634Z"
   },
   {
    "duration": 666,
    "start_time": "2022-05-13T16:58:15.715Z"
   },
   {
    "duration": 40,
    "start_time": "2022-05-13T16:58:16.383Z"
   },
   {
    "duration": 22,
    "start_time": "2022-05-13T16:58:16.425Z"
   },
   {
    "duration": 5,
    "start_time": "2022-05-13T16:58:16.450Z"
   },
   {
    "duration": 5,
    "start_time": "2022-05-13T16:58:16.458Z"
   },
   {
    "duration": 13,
    "start_time": "2022-05-13T16:58:16.465Z"
   },
   {
    "duration": 46,
    "start_time": "2022-05-13T16:58:16.481Z"
   },
   {
    "duration": 10,
    "start_time": "2022-05-13T16:58:16.530Z"
   },
   {
    "duration": 6,
    "start_time": "2022-05-13T16:58:16.542Z"
   },
   {
    "duration": 8,
    "start_time": "2022-05-13T16:58:16.552Z"
   },
   {
    "duration": 10,
    "start_time": "2022-05-13T16:58:16.562Z"
   },
   {
    "duration": 50,
    "start_time": "2022-05-13T16:58:16.574Z"
   },
   {
    "duration": 9,
    "start_time": "2022-05-13T16:58:16.626Z"
   },
   {
    "duration": 36,
    "start_time": "2022-05-13T16:58:16.637Z"
   },
   {
    "duration": 7,
    "start_time": "2022-05-13T16:58:16.675Z"
   },
   {
    "duration": 55,
    "start_time": "2022-05-13T16:58:16.684Z"
   },
   {
    "duration": 9,
    "start_time": "2022-05-13T16:58:16.742Z"
   },
   {
    "duration": 10,
    "start_time": "2022-05-13T16:58:16.754Z"
   },
   {
    "duration": 13,
    "start_time": "2022-05-13T16:58:16.766Z"
   },
   {
    "duration": 74,
    "start_time": "2022-05-13T16:58:16.782Z"
   },
   {
    "duration": 17,
    "start_time": "2022-05-13T16:58:16.858Z"
   },
   {
    "duration": 22,
    "start_time": "2022-05-13T16:58:16.878Z"
   },
   {
    "duration": 15,
    "start_time": "2022-05-13T16:58:16.923Z"
   },
   {
    "duration": 27,
    "start_time": "2022-05-13T16:58:16.939Z"
   },
   {
    "duration": 23,
    "start_time": "2022-05-13T16:58:16.968Z"
   },
   {
    "duration": 39,
    "start_time": "2022-05-13T16:58:16.993Z"
   },
   {
    "duration": 32,
    "start_time": "2022-05-13T16:58:17.034Z"
   },
   {
    "duration": 11,
    "start_time": "2022-05-13T16:58:17.070Z"
   },
   {
    "duration": 43,
    "start_time": "2022-05-13T16:58:17.083Z"
   },
   {
    "duration": 17,
    "start_time": "2022-05-13T16:58:17.127Z"
   },
   {
    "duration": 6,
    "start_time": "2022-05-13T16:58:17.146Z"
   },
   {
    "duration": 3,
    "start_time": "2022-05-13T16:58:17.154Z"
   },
   {
    "duration": 14,
    "start_time": "2022-05-13T16:58:17.159Z"
   },
   {
    "duration": 60,
    "start_time": "2022-05-13T16:58:17.175Z"
   },
   {
    "duration": 13,
    "start_time": "2022-05-13T16:58:17.237Z"
   },
   {
    "duration": 103,
    "start_time": "2022-05-13T16:58:17.252Z"
   },
   {
    "duration": 37,
    "start_time": "2022-05-13T16:58:17.356Z"
   },
   {
    "duration": 63,
    "start_time": "2022-05-13T16:58:17.395Z"
   },
   {
    "duration": 21,
    "start_time": "2022-05-13T16:58:17.460Z"
   },
   {
    "duration": 50,
    "start_time": "2022-05-13T16:58:17.483Z"
   },
   {
    "duration": 28,
    "start_time": "2022-05-13T16:58:17.535Z"
   },
   {
    "duration": 58,
    "start_time": "2022-05-13T16:58:17.566Z"
   },
   {
    "duration": 35,
    "start_time": "2022-05-13T16:59:30.981Z"
   },
   {
    "duration": 34,
    "start_time": "2022-05-13T16:59:58.939Z"
   },
   {
    "duration": 23,
    "start_time": "2022-05-13T17:00:09.919Z"
   },
   {
    "duration": 8,
    "start_time": "2022-05-13T17:00:23.088Z"
   },
   {
    "duration": 7,
    "start_time": "2022-05-13T17:01:35.061Z"
   },
   {
    "duration": 5,
    "start_time": "2022-05-13T17:01:45.343Z"
   },
   {
    "duration": 213,
    "start_time": "2022-05-13T17:01:57.438Z"
   },
   {
    "duration": 5,
    "start_time": "2022-05-13T17:02:01.739Z"
   },
   {
    "duration": 189,
    "start_time": "2022-05-13T17:03:17.561Z"
   },
   {
    "duration": 34,
    "start_time": "2022-05-13T17:04:45.310Z"
   },
   {
    "duration": 35,
    "start_time": "2022-05-13T17:07:38.074Z"
   },
   {
    "duration": 1318,
    "start_time": "2022-05-14T09:13:35.812Z"
   },
   {
    "duration": 12,
    "start_time": "2022-05-14T09:13:37.133Z"
   },
   {
    "duration": 44,
    "start_time": "2022-05-14T09:13:37.147Z"
   },
   {
    "duration": 5,
    "start_time": "2022-05-14T09:13:37.193Z"
   },
   {
    "duration": 6,
    "start_time": "2022-05-14T09:13:37.199Z"
   },
   {
    "duration": 11,
    "start_time": "2022-05-14T09:13:37.206Z"
   },
   {
    "duration": 6,
    "start_time": "2022-05-14T09:13:37.219Z"
   },
   {
    "duration": 9,
    "start_time": "2022-05-14T09:13:37.227Z"
   },
   {
    "duration": 7,
    "start_time": "2022-05-14T09:13:37.237Z"
   },
   {
    "duration": 43,
    "start_time": "2022-05-14T09:13:37.246Z"
   },
   {
    "duration": 8,
    "start_time": "2022-05-14T09:13:37.291Z"
   },
   {
    "duration": 15,
    "start_time": "2022-05-14T09:13:37.301Z"
   },
   {
    "duration": 8,
    "start_time": "2022-05-14T09:13:37.318Z"
   },
   {
    "duration": 31,
    "start_time": "2022-05-14T09:13:37.328Z"
   },
   {
    "duration": 9,
    "start_time": "2022-05-14T09:13:37.388Z"
   },
   {
    "duration": 98,
    "start_time": "2022-05-14T09:13:37.399Z"
   },
   {
    "duration": 11,
    "start_time": "2022-05-14T09:13:37.499Z"
   },
   {
    "duration": 8,
    "start_time": "2022-05-14T09:13:37.511Z"
   },
   {
    "duration": 11,
    "start_time": "2022-05-14T09:13:37.521Z"
   },
   {
    "duration": 65,
    "start_time": "2022-05-14T09:13:37.534Z"
   },
   {
    "duration": 20,
    "start_time": "2022-05-14T09:13:37.602Z"
   },
   {
    "duration": 24,
    "start_time": "2022-05-14T09:13:37.623Z"
   },
   {
    "duration": 42,
    "start_time": "2022-05-14T09:13:37.649Z"
   },
   {
    "duration": 24,
    "start_time": "2022-05-14T09:13:37.692Z"
   },
   {
    "duration": 21,
    "start_time": "2022-05-14T09:13:37.718Z"
   },
   {
    "duration": 9,
    "start_time": "2022-05-14T09:13:37.741Z"
   },
   {
    "duration": 53,
    "start_time": "2022-05-14T09:13:37.752Z"
   },
   {
    "duration": 11,
    "start_time": "2022-05-14T09:13:37.808Z"
   },
   {
    "duration": 16,
    "start_time": "2022-05-14T09:13:37.821Z"
   },
   {
    "duration": 14,
    "start_time": "2022-05-14T09:13:37.838Z"
   },
   {
    "duration": 34,
    "start_time": "2022-05-14T09:13:37.854Z"
   },
   {
    "duration": 2,
    "start_time": "2022-05-14T09:13:37.890Z"
   },
   {
    "duration": 16,
    "start_time": "2022-05-14T09:13:37.894Z"
   },
   {
    "duration": 34,
    "start_time": "2022-05-14T09:13:37.911Z"
   },
   {
    "duration": 13,
    "start_time": "2022-05-14T09:13:37.947Z"
   },
   {
    "duration": 102,
    "start_time": "2022-05-14T09:13:37.961Z"
   },
   {
    "duration": 43,
    "start_time": "2022-05-14T09:13:38.065Z"
   },
   {
    "duration": 41,
    "start_time": "2022-05-14T09:13:38.109Z"
   },
   {
    "duration": 19,
    "start_time": "2022-05-14T09:13:38.152Z"
   },
   {
    "duration": 28,
    "start_time": "2022-05-14T09:13:38.189Z"
   },
   {
    "duration": 25,
    "start_time": "2022-05-14T09:13:38.219Z"
   },
   {
    "duration": 63,
    "start_time": "2022-05-14T09:13:38.246Z"
   },
   {
    "duration": 9,
    "start_time": "2022-05-14T09:13:38.311Z"
   },
   {
    "duration": 5,
    "start_time": "2022-05-14T09:13:38.322Z"
   },
   {
    "duration": 38,
    "start_time": "2022-05-14T09:14:18.099Z"
   },
   {
    "duration": 37,
    "start_time": "2022-05-14T09:14:27.293Z"
   },
   {
    "duration": 530,
    "start_time": "2022-05-14T09:14:32.576Z"
   },
   {
    "duration": 9,
    "start_time": "2022-05-14T09:14:33.108Z"
   },
   {
    "duration": 24,
    "start_time": "2022-05-14T09:14:33.119Z"
   },
   {
    "duration": 7,
    "start_time": "2022-05-14T09:14:33.146Z"
   },
   {
    "duration": 8,
    "start_time": "2022-05-14T09:14:33.154Z"
   },
   {
    "duration": 30,
    "start_time": "2022-05-14T09:14:33.164Z"
   },
   {
    "duration": 9,
    "start_time": "2022-05-14T09:14:33.196Z"
   },
   {
    "duration": 14,
    "start_time": "2022-05-14T09:14:33.206Z"
   },
   {
    "duration": 16,
    "start_time": "2022-05-14T09:14:33.222Z"
   },
   {
    "duration": 11,
    "start_time": "2022-05-14T09:14:33.241Z"
   },
   {
    "duration": 11,
    "start_time": "2022-05-14T09:14:33.254Z"
   },
   {
    "duration": 35,
    "start_time": "2022-05-14T09:14:33.267Z"
   },
   {
    "duration": 10,
    "start_time": "2022-05-14T09:14:33.304Z"
   },
   {
    "duration": 35,
    "start_time": "2022-05-14T09:14:33.316Z"
   },
   {
    "duration": 5,
    "start_time": "2022-05-14T09:14:33.352Z"
   },
   {
    "duration": 44,
    "start_time": "2022-05-14T09:14:33.359Z"
   },
   {
    "duration": 10,
    "start_time": "2022-05-14T09:14:33.405Z"
   },
   {
    "duration": 9,
    "start_time": "2022-05-14T09:14:33.417Z"
   },
   {
    "duration": 11,
    "start_time": "2022-05-14T09:14:33.428Z"
   },
   {
    "duration": 57,
    "start_time": "2022-05-14T09:14:33.441Z"
   },
   {
    "duration": 15,
    "start_time": "2022-05-14T09:14:33.500Z"
   },
   {
    "duration": 23,
    "start_time": "2022-05-14T09:14:33.517Z"
   },
   {
    "duration": 12,
    "start_time": "2022-05-14T09:14:33.542Z"
   },
   {
    "duration": 24,
    "start_time": "2022-05-14T09:14:33.587Z"
   },
   {
    "duration": 21,
    "start_time": "2022-05-14T09:14:33.613Z"
   },
   {
    "duration": 9,
    "start_time": "2022-05-14T09:14:33.636Z"
   },
   {
    "duration": 58,
    "start_time": "2022-05-14T09:14:33.646Z"
   },
   {
    "duration": 10,
    "start_time": "2022-05-14T09:14:33.708Z"
   },
   {
    "duration": 27,
    "start_time": "2022-05-14T09:14:33.719Z"
   },
   {
    "duration": 18,
    "start_time": "2022-05-14T09:14:33.748Z"
   },
   {
    "duration": 27,
    "start_time": "2022-05-14T09:14:33.768Z"
   },
   {
    "duration": 10,
    "start_time": "2022-05-14T09:14:33.797Z"
   },
   {
    "duration": 19,
    "start_time": "2022-05-14T09:14:33.808Z"
   },
   {
    "duration": 43,
    "start_time": "2022-05-14T09:14:33.829Z"
   },
   {
    "duration": 12,
    "start_time": "2022-05-14T09:14:33.873Z"
   },
   {
    "duration": 82,
    "start_time": "2022-05-14T09:14:33.887Z"
   },
   {
    "duration": 46,
    "start_time": "2022-05-14T09:14:33.971Z"
   },
   {
    "duration": 43,
    "start_time": "2022-05-14T09:14:34.019Z"
   },
   {
    "duration": 37,
    "start_time": "2022-05-14T09:14:34.064Z"
   },
   {
    "duration": 107,
    "start_time": "2022-05-14T09:14:34.103Z"
   },
   {
    "duration": 28,
    "start_time": "2022-05-14T09:14:34.212Z"
   },
   {
    "duration": 49,
    "start_time": "2022-05-14T09:14:34.242Z"
   },
   {
    "duration": 10,
    "start_time": "2022-05-14T09:14:34.293Z"
   },
   {
    "duration": 5,
    "start_time": "2022-05-14T09:14:34.305Z"
   },
   {
    "duration": 30,
    "start_time": "2022-05-14T09:27:05.012Z"
   },
   {
    "duration": 474,
    "start_time": "2022-05-14T09:27:09.628Z"
   },
   {
    "duration": 9,
    "start_time": "2022-05-14T09:27:10.104Z"
   },
   {
    "duration": 20,
    "start_time": "2022-05-14T09:27:10.115Z"
   },
   {
    "duration": 3,
    "start_time": "2022-05-14T09:27:10.137Z"
   },
   {
    "duration": 7,
    "start_time": "2022-05-14T09:27:10.142Z"
   },
   {
    "duration": 39,
    "start_time": "2022-05-14T09:27:10.150Z"
   },
   {
    "duration": 9,
    "start_time": "2022-05-14T09:27:10.191Z"
   },
   {
    "duration": 11,
    "start_time": "2022-05-14T09:27:10.202Z"
   },
   {
    "duration": 6,
    "start_time": "2022-05-14T09:27:10.214Z"
   },
   {
    "duration": 7,
    "start_time": "2022-05-14T09:27:10.222Z"
   },
   {
    "duration": 9,
    "start_time": "2022-05-14T09:27:10.230Z"
   },
   {
    "duration": 13,
    "start_time": "2022-05-14T09:27:10.241Z"
   },
   {
    "duration": 33,
    "start_time": "2022-05-14T09:27:10.256Z"
   },
   {
    "duration": 32,
    "start_time": "2022-05-14T09:27:10.293Z"
   },
   {
    "duration": 5,
    "start_time": "2022-05-14T09:27:10.327Z"
   },
   {
    "duration": 17,
    "start_time": "2022-05-14T09:27:10.333Z"
   },
   {
    "duration": 7,
    "start_time": "2022-05-14T09:27:10.351Z"
   },
   {
    "duration": 7,
    "start_time": "2022-05-14T09:27:10.389Z"
   },
   {
    "duration": 11,
    "start_time": "2022-05-14T09:27:10.398Z"
   },
   {
    "duration": 33,
    "start_time": "2022-05-14T09:27:10.411Z"
   },
   {
    "duration": 14,
    "start_time": "2022-05-14T09:27:10.446Z"
   },
   {
    "duration": 43,
    "start_time": "2022-05-14T09:27:10.461Z"
   },
   {
    "duration": 12,
    "start_time": "2022-05-14T09:27:10.505Z"
   },
   {
    "duration": 24,
    "start_time": "2022-05-14T09:27:10.518Z"
   },
   {
    "duration": 50,
    "start_time": "2022-05-14T09:27:10.543Z"
   },
   {
    "duration": 10,
    "start_time": "2022-05-14T09:27:10.594Z"
   },
   {
    "duration": 31,
    "start_time": "2022-05-14T09:27:10.605Z"
   },
   {
    "duration": 11,
    "start_time": "2022-05-14T09:27:10.637Z"
   },
   {
    "duration": 40,
    "start_time": "2022-05-14T09:27:10.649Z"
   },
   {
    "duration": 15,
    "start_time": "2022-05-14T09:27:10.691Z"
   },
   {
    "duration": 6,
    "start_time": "2022-05-14T09:27:10.708Z"
   },
   {
    "duration": 3,
    "start_time": "2022-05-14T09:27:10.715Z"
   },
   {
    "duration": 14,
    "start_time": "2022-05-14T09:27:10.720Z"
   },
   {
    "duration": 25,
    "start_time": "2022-05-14T09:27:10.736Z"
   },
   {
    "duration": 13,
    "start_time": "2022-05-14T09:27:10.789Z"
   },
   {
    "duration": 94,
    "start_time": "2022-05-14T09:27:10.804Z"
   },
   {
    "duration": 33,
    "start_time": "2022-05-14T09:27:10.900Z"
   },
   {
    "duration": 60,
    "start_time": "2022-05-14T09:27:10.934Z"
   },
   {
    "duration": 20,
    "start_time": "2022-05-14T09:27:10.995Z"
   },
   {
    "duration": 30,
    "start_time": "2022-05-14T09:27:11.016Z"
   },
   {
    "duration": 493,
    "start_time": "2022-05-14T09:27:35.023Z"
   },
   {
    "duration": 10,
    "start_time": "2022-05-14T09:27:35.517Z"
   },
   {
    "duration": 23,
    "start_time": "2022-05-14T09:27:35.528Z"
   },
   {
    "duration": 4,
    "start_time": "2022-05-14T09:27:35.553Z"
   },
   {
    "duration": 33,
    "start_time": "2022-05-14T09:27:35.559Z"
   },
   {
    "duration": 13,
    "start_time": "2022-05-14T09:27:35.593Z"
   },
   {
    "duration": 9,
    "start_time": "2022-05-14T09:27:35.607Z"
   },
   {
    "duration": 11,
    "start_time": "2022-05-14T09:27:35.617Z"
   },
   {
    "duration": 7,
    "start_time": "2022-05-14T09:27:35.629Z"
   },
   {
    "duration": 9,
    "start_time": "2022-05-14T09:27:35.639Z"
   },
   {
    "duration": 38,
    "start_time": "2022-05-14T09:27:35.650Z"
   },
   {
    "duration": 12,
    "start_time": "2022-05-14T09:27:35.690Z"
   },
   {
    "duration": 9,
    "start_time": "2022-05-14T09:27:35.704Z"
   },
   {
    "duration": 34,
    "start_time": "2022-05-14T09:27:35.715Z"
   },
   {
    "duration": 5,
    "start_time": "2022-05-14T09:27:35.750Z"
   },
   {
    "duration": 43,
    "start_time": "2022-05-14T09:27:35.757Z"
   },
   {
    "duration": 7,
    "start_time": "2022-05-14T09:27:35.802Z"
   },
   {
    "duration": 9,
    "start_time": "2022-05-14T09:27:35.811Z"
   },
   {
    "duration": 13,
    "start_time": "2022-05-14T09:27:35.822Z"
   },
   {
    "duration": 57,
    "start_time": "2022-05-14T09:27:35.837Z"
   },
   {
    "duration": 16,
    "start_time": "2022-05-14T09:27:35.896Z"
   },
   {
    "duration": 20,
    "start_time": "2022-05-14T09:27:35.913Z"
   },
   {
    "duration": 13,
    "start_time": "2022-05-14T09:27:35.935Z"
   },
   {
    "duration": 54,
    "start_time": "2022-05-14T09:27:35.949Z"
   },
   {
    "duration": 33,
    "start_time": "2022-05-14T09:27:36.005Z"
   },
   {
    "duration": 10,
    "start_time": "2022-05-14T09:27:36.040Z"
   },
   {
    "duration": 55,
    "start_time": "2022-05-14T09:27:36.052Z"
   },
   {
    "duration": 11,
    "start_time": "2022-05-14T09:27:36.111Z"
   },
   {
    "duration": 19,
    "start_time": "2022-05-14T09:27:36.123Z"
   },
   {
    "duration": 16,
    "start_time": "2022-05-14T09:27:36.143Z"
   },
   {
    "duration": 32,
    "start_time": "2022-05-14T09:27:36.160Z"
   },
   {
    "duration": 2,
    "start_time": "2022-05-14T09:27:36.194Z"
   },
   {
    "duration": 14,
    "start_time": "2022-05-14T09:27:36.197Z"
   },
   {
    "duration": 26,
    "start_time": "2022-05-14T09:27:36.212Z"
   },
   {
    "duration": 12,
    "start_time": "2022-05-14T09:27:36.240Z"
   },
   {
    "duration": 100,
    "start_time": "2022-05-14T09:27:36.253Z"
   },
   {
    "duration": 45,
    "start_time": "2022-05-14T09:27:36.355Z"
   },
   {
    "duration": 42,
    "start_time": "2022-05-14T09:27:36.402Z"
   },
   {
    "duration": 16,
    "start_time": "2022-05-14T09:27:36.446Z"
   },
   {
    "duration": 15,
    "start_time": "2022-05-14T09:27:39.554Z"
   },
   {
    "duration": 10,
    "start_time": "2022-05-14T09:30:21.729Z"
   },
   {
    "duration": 17,
    "start_time": "2022-05-14T09:31:00.161Z"
   },
   {
    "duration": 16,
    "start_time": "2022-05-14T09:32:42.243Z"
   },
   {
    "duration": 16,
    "start_time": "2022-05-14T09:32:54.048Z"
   },
   {
    "duration": 6,
    "start_time": "2022-05-14T09:34:53.362Z"
   },
   {
    "duration": 19,
    "start_time": "2022-05-14T09:35:05.707Z"
   },
   {
    "duration": 20,
    "start_time": "2022-05-14T11:41:50.203Z"
   },
   {
    "duration": 15,
    "start_time": "2022-05-14T11:43:30.501Z"
   },
   {
    "duration": 23,
    "start_time": "2022-05-14T11:43:40.059Z"
   },
   {
    "duration": 24,
    "start_time": "2022-05-14T11:45:25.922Z"
   },
   {
    "duration": 26,
    "start_time": "2022-05-14T11:45:50.238Z"
   },
   {
    "duration": 28,
    "start_time": "2022-05-14T11:46:24.316Z"
   },
   {
    "duration": 26,
    "start_time": "2022-05-14T11:47:29.123Z"
   },
   {
    "duration": 26,
    "start_time": "2022-05-14T11:48:23.003Z"
   },
   {
    "duration": 504,
    "start_time": "2022-05-14T11:48:57.511Z"
   },
   {
    "duration": 9,
    "start_time": "2022-05-14T11:48:58.017Z"
   },
   {
    "duration": 25,
    "start_time": "2022-05-14T11:48:58.027Z"
   },
   {
    "duration": 18,
    "start_time": "2022-05-14T11:48:58.054Z"
   },
   {
    "duration": 15,
    "start_time": "2022-05-14T11:48:58.074Z"
   },
   {
    "duration": 14,
    "start_time": "2022-05-14T11:48:58.090Z"
   },
   {
    "duration": 11,
    "start_time": "2022-05-14T11:48:58.106Z"
   },
   {
    "duration": 24,
    "start_time": "2022-05-14T11:48:58.119Z"
   },
   {
    "duration": 13,
    "start_time": "2022-05-14T11:48:58.145Z"
   },
   {
    "duration": 13,
    "start_time": "2022-05-14T11:48:58.160Z"
   },
   {
    "duration": 10,
    "start_time": "2022-05-14T11:48:58.175Z"
   },
   {
    "duration": 18,
    "start_time": "2022-05-14T11:48:58.186Z"
   },
   {
    "duration": 12,
    "start_time": "2022-05-14T11:48:58.205Z"
   },
   {
    "duration": 34,
    "start_time": "2022-05-14T11:48:58.219Z"
   },
   {
    "duration": 4,
    "start_time": "2022-05-14T11:48:58.255Z"
   },
   {
    "duration": 18,
    "start_time": "2022-05-14T11:48:58.261Z"
   },
   {
    "duration": 12,
    "start_time": "2022-05-14T11:48:58.281Z"
   },
   {
    "duration": 7,
    "start_time": "2022-05-14T11:48:58.294Z"
   },
   {
    "duration": 11,
    "start_time": "2022-05-14T11:48:58.303Z"
   },
   {
    "duration": 33,
    "start_time": "2022-05-14T11:48:58.315Z"
   },
   {
    "duration": 39,
    "start_time": "2022-05-14T11:48:58.350Z"
   },
   {
    "duration": 21,
    "start_time": "2022-05-14T11:48:58.391Z"
   },
   {
    "duration": 13,
    "start_time": "2022-05-14T11:48:58.413Z"
   },
   {
    "duration": 23,
    "start_time": "2022-05-14T11:48:58.427Z"
   },
   {
    "duration": 45,
    "start_time": "2022-05-14T11:48:58.452Z"
   },
   {
    "duration": 8,
    "start_time": "2022-05-14T11:48:58.499Z"
   },
   {
    "duration": 28,
    "start_time": "2022-05-14T11:48:58.509Z"
   },
   {
    "duration": 12,
    "start_time": "2022-05-14T11:48:58.540Z"
   },
   {
    "duration": 40,
    "start_time": "2022-05-14T11:48:58.554Z"
   },
   {
    "duration": 14,
    "start_time": "2022-05-14T11:48:58.596Z"
   },
   {
    "duration": 6,
    "start_time": "2022-05-14T11:48:58.612Z"
   },
   {
    "duration": 6,
    "start_time": "2022-05-14T11:48:58.619Z"
   },
   {
    "duration": 21,
    "start_time": "2022-05-14T11:48:58.627Z"
   },
   {
    "duration": 44,
    "start_time": "2022-05-14T11:48:58.649Z"
   },
   {
    "duration": 13,
    "start_time": "2022-05-14T11:48:58.695Z"
   },
   {
    "duration": 91,
    "start_time": "2022-05-14T11:48:58.709Z"
   },
   {
    "duration": 33,
    "start_time": "2022-05-14T11:48:58.802Z"
   },
   {
    "duration": 55,
    "start_time": "2022-05-14T11:48:58.836Z"
   },
   {
    "duration": 19,
    "start_time": "2022-05-14T11:48:58.893Z"
   },
   {
    "duration": 26,
    "start_time": "2022-05-14T11:48:58.913Z"
   },
   {
    "duration": 26,
    "start_time": "2022-05-14T11:49:04.572Z"
   },
   {
    "duration": 20,
    "start_time": "2022-05-14T11:49:29.819Z"
   },
   {
    "duration": 30,
    "start_time": "2022-05-14T11:55:21.634Z"
   },
   {
    "duration": 20,
    "start_time": "2022-05-14T11:56:47.978Z"
   },
   {
    "duration": 14,
    "start_time": "2022-05-14T12:08:38.671Z"
   },
   {
    "duration": 22,
    "start_time": "2022-05-14T12:30:54.994Z"
   },
   {
    "duration": 489,
    "start_time": "2022-05-14T12:32:36.261Z"
   },
   {
    "duration": 9,
    "start_time": "2022-05-14T12:32:36.752Z"
   },
   {
    "duration": 39,
    "start_time": "2022-05-14T12:32:36.763Z"
   },
   {
    "duration": 6,
    "start_time": "2022-05-14T12:32:36.804Z"
   },
   {
    "duration": 7,
    "start_time": "2022-05-14T12:32:36.811Z"
   },
   {
    "duration": 14,
    "start_time": "2022-05-14T12:32:36.820Z"
   },
   {
    "duration": 16,
    "start_time": "2022-05-14T12:32:36.836Z"
   },
   {
    "duration": 36,
    "start_time": "2022-05-14T12:32:36.853Z"
   },
   {
    "duration": 12,
    "start_time": "2022-05-14T12:32:36.891Z"
   },
   {
    "duration": 16,
    "start_time": "2022-05-14T12:32:36.906Z"
   },
   {
    "duration": 14,
    "start_time": "2022-05-14T12:32:36.923Z"
   },
   {
    "duration": 23,
    "start_time": "2022-05-14T12:32:36.939Z"
   },
   {
    "duration": 12,
    "start_time": "2022-05-14T12:32:36.964Z"
   },
   {
    "duration": 40,
    "start_time": "2022-05-14T12:32:36.977Z"
   },
   {
    "duration": 4,
    "start_time": "2022-05-14T12:32:37.019Z"
   },
   {
    "duration": 16,
    "start_time": "2022-05-14T12:32:37.025Z"
   },
   {
    "duration": 7,
    "start_time": "2022-05-14T12:32:37.042Z"
   },
   {
    "duration": 8,
    "start_time": "2022-05-14T12:32:37.051Z"
   },
   {
    "duration": 36,
    "start_time": "2022-05-14T12:32:37.061Z"
   },
   {
    "duration": 33,
    "start_time": "2022-05-14T12:32:37.099Z"
   },
   {
    "duration": 14,
    "start_time": "2022-05-14T12:32:37.134Z"
   },
   {
    "duration": 39,
    "start_time": "2022-05-14T12:32:37.150Z"
   },
   {
    "duration": 12,
    "start_time": "2022-05-14T12:32:37.191Z"
   },
   {
    "duration": 23,
    "start_time": "2022-05-14T12:32:37.205Z"
   },
   {
    "duration": 19,
    "start_time": "2022-05-14T12:32:37.230Z"
   },
   {
    "duration": 42,
    "start_time": "2022-05-14T12:32:37.251Z"
   },
   {
    "duration": 30,
    "start_time": "2022-05-14T12:32:37.295Z"
   },
   {
    "duration": 10,
    "start_time": "2022-05-14T12:32:37.329Z"
   },
   {
    "duration": 25,
    "start_time": "2022-05-14T12:32:37.341Z"
   },
   {
    "duration": 27,
    "start_time": "2022-05-14T12:32:37.368Z"
   },
   {
    "duration": 6,
    "start_time": "2022-05-14T12:32:37.396Z"
   },
   {
    "duration": 4,
    "start_time": "2022-05-14T12:32:37.404Z"
   },
   {
    "duration": 13,
    "start_time": "2022-05-14T12:32:37.410Z"
   },
   {
    "duration": 25,
    "start_time": "2022-05-14T12:32:37.425Z"
   },
   {
    "duration": 38,
    "start_time": "2022-05-14T12:32:37.451Z"
   },
   {
    "duration": 79,
    "start_time": "2022-05-14T12:32:37.491Z"
   },
   {
    "duration": 45,
    "start_time": "2022-05-14T12:32:37.571Z"
   },
   {
    "duration": 44,
    "start_time": "2022-05-14T12:32:37.617Z"
   },
   {
    "duration": 35,
    "start_time": "2022-05-14T12:32:37.663Z"
   },
   {
    "duration": 129,
    "start_time": "2022-05-14T12:32:37.699Z"
   },
   {
    "duration": 0,
    "start_time": "2022-05-14T12:32:37.829Z"
   },
   {
    "duration": 0,
    "start_time": "2022-05-14T12:32:37.831Z"
   },
   {
    "duration": 0,
    "start_time": "2022-05-14T12:32:37.832Z"
   },
   {
    "duration": 0,
    "start_time": "2022-05-14T12:32:37.833Z"
   },
   {
    "duration": 0,
    "start_time": "2022-05-14T12:32:37.834Z"
   },
   {
    "duration": 0,
    "start_time": "2022-05-14T12:32:37.835Z"
   },
   {
    "duration": 0,
    "start_time": "2022-05-14T12:32:37.835Z"
   },
   {
    "duration": 16,
    "start_time": "2022-05-14T12:33:31.744Z"
   },
   {
    "duration": 495,
    "start_time": "2022-05-14T12:34:56.937Z"
   },
   {
    "duration": 10,
    "start_time": "2022-05-14T12:34:57.433Z"
   },
   {
    "duration": 21,
    "start_time": "2022-05-14T12:34:57.445Z"
   },
   {
    "duration": 5,
    "start_time": "2022-05-14T12:34:57.490Z"
   },
   {
    "duration": 8,
    "start_time": "2022-05-14T12:34:57.496Z"
   },
   {
    "duration": 12,
    "start_time": "2022-05-14T12:34:57.506Z"
   },
   {
    "duration": 11,
    "start_time": "2022-05-14T12:34:57.519Z"
   },
   {
    "duration": 10,
    "start_time": "2022-05-14T12:34:57.532Z"
   },
   {
    "duration": 8,
    "start_time": "2022-05-14T12:34:57.543Z"
   },
   {
    "duration": 37,
    "start_time": "2022-05-14T12:34:57.554Z"
   },
   {
    "duration": 32,
    "start_time": "2022-05-14T12:34:57.592Z"
   },
   {
    "duration": 15,
    "start_time": "2022-05-14T12:34:57.625Z"
   },
   {
    "duration": 10,
    "start_time": "2022-05-14T12:34:57.642Z"
   },
   {
    "duration": 40,
    "start_time": "2022-05-14T12:34:57.653Z"
   },
   {
    "duration": 4,
    "start_time": "2022-05-14T12:34:57.694Z"
   },
   {
    "duration": 23,
    "start_time": "2022-05-14T12:34:57.700Z"
   },
   {
    "duration": 8,
    "start_time": "2022-05-14T12:34:57.724Z"
   },
   {
    "duration": 9,
    "start_time": "2022-05-14T12:34:57.734Z"
   },
   {
    "duration": 12,
    "start_time": "2022-05-14T12:34:57.745Z"
   },
   {
    "duration": 56,
    "start_time": "2022-05-14T12:34:57.758Z"
   },
   {
    "duration": 15,
    "start_time": "2022-05-14T12:34:57.816Z"
   },
   {
    "duration": 20,
    "start_time": "2022-05-14T12:34:57.832Z"
   },
   {
    "duration": 43,
    "start_time": "2022-05-14T12:34:57.854Z"
   },
   {
    "duration": 24,
    "start_time": "2022-05-14T12:34:57.899Z"
   },
   {
    "duration": 21,
    "start_time": "2022-05-14T12:34:57.924Z"
   },
   {
    "duration": 9,
    "start_time": "2022-05-14T12:34:57.947Z"
   },
   {
    "duration": 61,
    "start_time": "2022-05-14T12:34:57.958Z"
   },
   {
    "duration": 11,
    "start_time": "2022-05-14T12:34:58.022Z"
   },
   {
    "duration": 20,
    "start_time": "2022-05-14T12:34:58.034Z"
   },
   {
    "duration": 34,
    "start_time": "2022-05-14T12:34:58.055Z"
   },
   {
    "duration": 6,
    "start_time": "2022-05-14T12:34:58.091Z"
   },
   {
    "duration": 2,
    "start_time": "2022-05-14T12:34:58.099Z"
   },
   {
    "duration": 18,
    "start_time": "2022-05-14T12:34:58.103Z"
   },
   {
    "duration": 27,
    "start_time": "2022-05-14T12:34:58.122Z"
   },
   {
    "duration": 13,
    "start_time": "2022-05-14T12:34:58.151Z"
   },
   {
    "duration": 98,
    "start_time": "2022-05-14T12:34:58.166Z"
   },
   {
    "duration": 45,
    "start_time": "2022-05-14T12:34:58.266Z"
   },
   {
    "duration": 43,
    "start_time": "2022-05-14T12:34:58.312Z"
   },
   {
    "duration": 39,
    "start_time": "2022-05-14T12:34:58.356Z"
   },
   {
    "duration": 15,
    "start_time": "2022-05-14T12:34:58.396Z"
   },
   {
    "duration": 21,
    "start_time": "2022-05-14T12:34:58.412Z"
   },
   {
    "duration": 19,
    "start_time": "2022-05-14T12:34:58.435Z"
   },
   {
    "duration": 54,
    "start_time": "2022-05-14T12:34:58.456Z"
   },
   {
    "duration": 28,
    "start_time": "2022-05-14T12:34:58.512Z"
   },
   {
    "duration": 56,
    "start_time": "2022-05-14T12:34:58.541Z"
   },
   {
    "duration": 7,
    "start_time": "2022-05-14T12:34:58.598Z"
   },
   {
    "duration": 6,
    "start_time": "2022-05-14T12:34:58.606Z"
   },
   {
    "duration": 542,
    "start_time": "2022-05-14T12:42:23.874Z"
   },
   {
    "duration": 11,
    "start_time": "2022-05-14T12:42:24.418Z"
   },
   {
    "duration": 46,
    "start_time": "2022-05-14T12:42:24.431Z"
   },
   {
    "duration": 11,
    "start_time": "2022-05-14T12:42:24.479Z"
   },
   {
    "duration": 7,
    "start_time": "2022-05-14T12:42:24.491Z"
   },
   {
    "duration": 18,
    "start_time": "2022-05-14T12:42:24.500Z"
   },
   {
    "duration": 9,
    "start_time": "2022-05-14T12:42:24.520Z"
   },
   {
    "duration": 9,
    "start_time": "2022-05-14T12:42:24.530Z"
   },
   {
    "duration": 8,
    "start_time": "2022-05-14T12:42:24.540Z"
   },
   {
    "duration": 7,
    "start_time": "2022-05-14T12:42:24.551Z"
   },
   {
    "duration": 29,
    "start_time": "2022-05-14T12:42:24.559Z"
   },
   {
    "duration": 11,
    "start_time": "2022-05-14T12:42:24.589Z"
   },
   {
    "duration": 15,
    "start_time": "2022-05-14T12:42:24.601Z"
   },
   {
    "duration": 35,
    "start_time": "2022-05-14T12:42:24.618Z"
   },
   {
    "duration": 5,
    "start_time": "2022-05-14T12:42:24.655Z"
   },
   {
    "duration": 32,
    "start_time": "2022-05-14T12:42:24.661Z"
   },
   {
    "duration": 7,
    "start_time": "2022-05-14T12:42:24.694Z"
   },
   {
    "duration": 9,
    "start_time": "2022-05-14T12:42:24.703Z"
   },
   {
    "duration": 11,
    "start_time": "2022-05-14T12:42:24.713Z"
   },
   {
    "duration": 40,
    "start_time": "2022-05-14T12:42:24.726Z"
   },
   {
    "duration": 33,
    "start_time": "2022-05-14T12:42:24.768Z"
   },
   {
    "duration": 21,
    "start_time": "2022-05-14T12:42:24.803Z"
   },
   {
    "duration": 13,
    "start_time": "2022-05-14T12:42:24.826Z"
   },
   {
    "duration": 53,
    "start_time": "2022-05-14T12:42:24.841Z"
   },
   {
    "duration": 22,
    "start_time": "2022-05-14T12:42:24.896Z"
   },
   {
    "duration": 11,
    "start_time": "2022-05-14T12:42:24.919Z"
   },
   {
    "duration": 37,
    "start_time": "2022-05-14T12:42:24.932Z"
   },
   {
    "duration": 13,
    "start_time": "2022-05-14T12:42:24.989Z"
   },
   {
    "duration": 19,
    "start_time": "2022-05-14T12:42:25.004Z"
   },
   {
    "duration": 15,
    "start_time": "2022-05-14T12:42:25.025Z"
   },
   {
    "duration": 6,
    "start_time": "2022-05-14T12:42:25.042Z"
   },
   {
    "duration": 7,
    "start_time": "2022-05-14T12:42:25.050Z"
   },
   {
    "duration": 36,
    "start_time": "2022-05-14T12:42:25.059Z"
   },
   {
    "duration": 30,
    "start_time": "2022-05-14T12:42:25.097Z"
   },
   {
    "duration": 11,
    "start_time": "2022-05-14T12:42:25.129Z"
   },
   {
    "duration": 103,
    "start_time": "2022-05-14T12:42:25.142Z"
   },
   {
    "duration": 46,
    "start_time": "2022-05-14T12:42:25.247Z"
   },
   {
    "duration": 44,
    "start_time": "2022-05-14T12:42:25.295Z"
   },
   {
    "duration": 18,
    "start_time": "2022-05-14T12:42:25.341Z"
   },
   {
    "duration": 52,
    "start_time": "2022-05-14T12:42:25.361Z"
   },
   {
    "duration": 24,
    "start_time": "2022-05-14T12:42:25.414Z"
   },
   {
    "duration": 57,
    "start_time": "2022-05-14T12:42:25.440Z"
   },
   {
    "duration": 8,
    "start_time": "2022-05-14T12:42:25.498Z"
   },
   {
    "duration": 9,
    "start_time": "2022-05-14T12:42:25.507Z"
   },
   {
    "duration": 23,
    "start_time": "2022-05-14T12:42:25.518Z"
   },
   {
    "duration": 40,
    "start_time": "2022-05-14T12:42:25.542Z"
   },
   {
    "duration": 25,
    "start_time": "2022-05-14T12:42:25.583Z"
   },
   {
    "duration": 480,
    "start_time": "2022-05-14T12:52:48.548Z"
   },
   {
    "duration": 10,
    "start_time": "2022-05-14T12:52:49.030Z"
   },
   {
    "duration": 19,
    "start_time": "2022-05-14T12:52:49.041Z"
   },
   {
    "duration": 26,
    "start_time": "2022-05-14T12:52:49.062Z"
   },
   {
    "duration": 4,
    "start_time": "2022-05-14T12:52:49.090Z"
   },
   {
    "duration": 12,
    "start_time": "2022-05-14T12:52:49.095Z"
   },
   {
    "duration": 8,
    "start_time": "2022-05-14T12:52:49.108Z"
   },
   {
    "duration": 8,
    "start_time": "2022-05-14T12:52:49.118Z"
   },
   {
    "duration": 6,
    "start_time": "2022-05-14T12:52:49.128Z"
   },
   {
    "duration": 14,
    "start_time": "2022-05-14T12:52:49.136Z"
   },
   {
    "duration": 7,
    "start_time": "2022-05-14T12:52:49.152Z"
   },
   {
    "duration": 33,
    "start_time": "2022-05-14T12:52:49.161Z"
   },
   {
    "duration": 10,
    "start_time": "2022-05-14T12:52:49.196Z"
   },
   {
    "duration": 33,
    "start_time": "2022-05-14T12:52:49.207Z"
   },
   {
    "duration": 4,
    "start_time": "2022-05-14T12:52:49.242Z"
   },
   {
    "duration": 15,
    "start_time": "2022-05-14T12:52:49.248Z"
   },
   {
    "duration": 7,
    "start_time": "2022-05-14T12:52:49.289Z"
   },
   {
    "duration": 8,
    "start_time": "2022-05-14T12:52:49.297Z"
   },
   {
    "duration": 11,
    "start_time": "2022-05-14T12:52:49.306Z"
   },
   {
    "duration": 33,
    "start_time": "2022-05-14T12:52:49.319Z"
   },
   {
    "duration": 39,
    "start_time": "2022-05-14T12:52:49.354Z"
   },
   {
    "duration": 20,
    "start_time": "2022-05-14T12:52:49.395Z"
   },
   {
    "duration": 12,
    "start_time": "2022-05-14T12:52:49.416Z"
   },
   {
    "duration": 25,
    "start_time": "2022-05-14T12:52:49.430Z"
   },
   {
    "duration": 22,
    "start_time": "2022-05-14T12:52:49.489Z"
   },
   {
    "duration": 11,
    "start_time": "2022-05-14T12:52:49.513Z"
   },
   {
    "duration": 30,
    "start_time": "2022-05-14T12:52:49.525Z"
   },
   {
    "duration": 38,
    "start_time": "2022-05-14T12:52:49.558Z"
   },
   {
    "duration": 16,
    "start_time": "2022-05-14T12:52:49.598Z"
   },
   {
    "duration": 13,
    "start_time": "2022-05-14T12:52:49.616Z"
   },
   {
    "duration": 6,
    "start_time": "2022-05-14T12:52:49.631Z"
   },
   {
    "duration": 2,
    "start_time": "2022-05-14T12:52:49.638Z"
   },
   {
    "duration": 13,
    "start_time": "2022-05-14T12:52:49.642Z"
   },
   {
    "duration": 24,
    "start_time": "2022-05-14T12:52:49.688Z"
   },
   {
    "duration": 12,
    "start_time": "2022-05-14T12:52:49.713Z"
   },
   {
    "duration": 99,
    "start_time": "2022-05-14T12:52:49.726Z"
   },
   {
    "duration": 34,
    "start_time": "2022-05-14T12:52:49.826Z"
   },
   {
    "duration": 60,
    "start_time": "2022-05-14T12:52:49.862Z"
   },
   {
    "duration": 89,
    "start_time": "2022-05-14T12:52:49.923Z"
   },
   {
    "duration": 32,
    "start_time": "2022-05-14T12:52:50.013Z"
   },
   {
    "duration": 48,
    "start_time": "2022-05-14T12:52:50.047Z"
   },
   {
    "duration": 47,
    "start_time": "2022-05-14T12:52:50.097Z"
   },
   {
    "duration": 9,
    "start_time": "2022-05-14T12:52:50.146Z"
   },
   {
    "duration": 32,
    "start_time": "2022-05-14T12:52:50.157Z"
   },
   {
    "duration": 17,
    "start_time": "2022-05-14T12:52:50.191Z"
   },
   {
    "duration": 21,
    "start_time": "2022-05-14T12:52:50.210Z"
   },
   {
    "duration": 21,
    "start_time": "2022-05-14T12:52:50.233Z"
   },
   {
    "duration": 22,
    "start_time": "2022-05-14T12:57:53.697Z"
   },
   {
    "duration": 112,
    "start_time": "2022-05-14T13:02:13.718Z"
   },
   {
    "duration": 114,
    "start_time": "2022-05-14T13:02:26.108Z"
   },
   {
    "duration": 13,
    "start_time": "2022-05-14T13:02:43.832Z"
   },
   {
    "duration": 13,
    "start_time": "2022-05-14T13:03:17.551Z"
   },
   {
    "duration": 490,
    "start_time": "2022-05-14T13:03:35.832Z"
   },
   {
    "duration": 10,
    "start_time": "2022-05-14T13:03:36.324Z"
   },
   {
    "duration": 29,
    "start_time": "2022-05-14T13:03:36.335Z"
   },
   {
    "duration": 12,
    "start_time": "2022-05-14T13:03:36.366Z"
   },
   {
    "duration": 8,
    "start_time": "2022-05-14T13:03:36.380Z"
   },
   {
    "duration": 16,
    "start_time": "2022-05-14T13:03:36.390Z"
   },
   {
    "duration": 11,
    "start_time": "2022-05-14T13:03:36.407Z"
   },
   {
    "duration": 10,
    "start_time": "2022-05-14T13:03:36.419Z"
   },
   {
    "duration": 7,
    "start_time": "2022-05-14T13:03:36.431Z"
   },
   {
    "duration": 8,
    "start_time": "2022-05-14T13:03:36.440Z"
   },
   {
    "duration": 10,
    "start_time": "2022-05-14T13:03:36.449Z"
   },
   {
    "duration": 14,
    "start_time": "2022-05-14T13:03:36.461Z"
   },
   {
    "duration": 17,
    "start_time": "2022-05-14T13:03:36.488Z"
   },
   {
    "duration": 41,
    "start_time": "2022-05-14T13:03:36.507Z"
   },
   {
    "duration": 4,
    "start_time": "2022-05-14T13:03:36.550Z"
   },
   {
    "duration": 20,
    "start_time": "2022-05-14T13:03:36.556Z"
   },
   {
    "duration": 12,
    "start_time": "2022-05-14T13:03:36.577Z"
   },
   {
    "duration": 7,
    "start_time": "2022-05-14T13:03:36.590Z"
   },
   {
    "duration": 18,
    "start_time": "2022-05-14T13:03:36.598Z"
   },
   {
    "duration": 36,
    "start_time": "2022-05-14T13:03:36.617Z"
   },
   {
    "duration": 14,
    "start_time": "2022-05-14T13:03:36.655Z"
   },
   {
    "duration": 37,
    "start_time": "2022-05-14T13:03:36.671Z"
   },
   {
    "duration": 11,
    "start_time": "2022-05-14T13:03:36.710Z"
   },
   {
    "duration": 23,
    "start_time": "2022-05-14T13:03:36.723Z"
   },
   {
    "duration": 50,
    "start_time": "2022-05-14T13:03:36.748Z"
   },
   {
    "duration": 10,
    "start_time": "2022-05-14T13:03:36.800Z"
   },
   {
    "duration": 31,
    "start_time": "2022-05-14T13:03:36.812Z"
   },
   {
    "duration": 10,
    "start_time": "2022-05-14T13:03:36.846Z"
   },
   {
    "duration": 40,
    "start_time": "2022-05-14T13:03:36.858Z"
   },
   {
    "duration": 14,
    "start_time": "2022-05-14T13:03:36.899Z"
   },
   {
    "duration": 7,
    "start_time": "2022-05-14T13:03:36.915Z"
   },
   {
    "duration": 2,
    "start_time": "2022-05-14T13:03:36.924Z"
   },
   {
    "duration": 12,
    "start_time": "2022-05-14T13:03:36.928Z"
   },
   {
    "duration": 54,
    "start_time": "2022-05-14T13:03:36.942Z"
   },
   {
    "duration": 13,
    "start_time": "2022-05-14T13:03:36.998Z"
   },
   {
    "duration": 97,
    "start_time": "2022-05-14T13:03:37.013Z"
   },
   {
    "duration": 32,
    "start_time": "2022-05-14T13:03:37.112Z"
   },
   {
    "duration": 61,
    "start_time": "2022-05-14T13:03:37.146Z"
   },
   {
    "duration": 18,
    "start_time": "2022-05-14T13:03:37.209Z"
   },
   {
    "duration": 30,
    "start_time": "2022-05-14T13:03:37.228Z"
   },
   {
    "duration": 57,
    "start_time": "2022-05-14T13:03:37.260Z"
   },
   {
    "duration": 35,
    "start_time": "2022-05-14T13:03:37.319Z"
   },
   {
    "duration": 8,
    "start_time": "2022-05-14T13:03:37.356Z"
   },
   {
    "duration": 24,
    "start_time": "2022-05-14T13:03:37.365Z"
   },
   {
    "duration": 17,
    "start_time": "2022-05-14T13:03:37.390Z"
   },
   {
    "duration": 27,
    "start_time": "2022-05-14T13:03:37.409Z"
   },
   {
    "duration": 19,
    "start_time": "2022-05-14T13:03:37.438Z"
   },
   {
    "duration": 43,
    "start_time": "2022-05-14T13:03:37.458Z"
   },
   {
    "duration": 13,
    "start_time": "2022-05-14T13:03:37.503Z"
   },
   {
    "duration": 21,
    "start_time": "2022-05-14T13:04:31.886Z"
   },
   {
    "duration": 20,
    "start_time": "2022-05-14T13:05:11.989Z"
   },
   {
    "duration": 528,
    "start_time": "2022-05-14T13:05:19.964Z"
   },
   {
    "duration": 9,
    "start_time": "2022-05-14T13:05:20.494Z"
   },
   {
    "duration": 21,
    "start_time": "2022-05-14T13:05:20.505Z"
   },
   {
    "duration": 8,
    "start_time": "2022-05-14T13:05:20.528Z"
   },
   {
    "duration": 8,
    "start_time": "2022-05-14T13:05:20.537Z"
   },
   {
    "duration": 15,
    "start_time": "2022-05-14T13:05:20.547Z"
   },
   {
    "duration": 26,
    "start_time": "2022-05-14T13:05:20.564Z"
   },
   {
    "duration": 11,
    "start_time": "2022-05-14T13:05:20.592Z"
   },
   {
    "duration": 7,
    "start_time": "2022-05-14T13:05:20.605Z"
   },
   {
    "duration": 10,
    "start_time": "2022-05-14T13:05:20.614Z"
   },
   {
    "duration": 14,
    "start_time": "2022-05-14T13:05:20.626Z"
   },
   {
    "duration": 12,
    "start_time": "2022-05-14T13:05:20.642Z"
   },
   {
    "duration": 21,
    "start_time": "2022-05-14T13:05:20.655Z"
   },
   {
    "duration": 40,
    "start_time": "2022-05-14T13:05:20.677Z"
   },
   {
    "duration": 4,
    "start_time": "2022-05-14T13:05:20.719Z"
   },
   {
    "duration": 19,
    "start_time": "2022-05-14T13:05:20.724Z"
   },
   {
    "duration": 6,
    "start_time": "2022-05-14T13:05:20.744Z"
   },
   {
    "duration": 18,
    "start_time": "2022-05-14T13:05:20.752Z"
   },
   {
    "duration": 25,
    "start_time": "2022-05-14T13:05:20.772Z"
   },
   {
    "duration": 35,
    "start_time": "2022-05-14T13:05:20.798Z"
   },
   {
    "duration": 15,
    "start_time": "2022-05-14T13:05:20.835Z"
   },
   {
    "duration": 43,
    "start_time": "2022-05-14T13:05:20.852Z"
   },
   {
    "duration": 11,
    "start_time": "2022-05-14T13:05:20.897Z"
   },
   {
    "duration": 23,
    "start_time": "2022-05-14T13:05:20.910Z"
   },
   {
    "duration": 19,
    "start_time": "2022-05-14T13:05:20.934Z"
   },
   {
    "duration": 35,
    "start_time": "2022-05-14T13:05:20.954Z"
   },
   {
    "duration": 35,
    "start_time": "2022-05-14T13:05:20.990Z"
   },
   {
    "duration": 10,
    "start_time": "2022-05-14T13:05:21.028Z"
   },
   {
    "duration": 18,
    "start_time": "2022-05-14T13:05:21.040Z"
   },
   {
    "duration": 30,
    "start_time": "2022-05-14T13:05:21.059Z"
   },
   {
    "duration": 6,
    "start_time": "2022-05-14T13:05:21.091Z"
   },
   {
    "duration": 5,
    "start_time": "2022-05-14T13:05:21.098Z"
   },
   {
    "duration": 14,
    "start_time": "2022-05-14T13:05:21.104Z"
   },
   {
    "duration": 26,
    "start_time": "2022-05-14T13:05:21.120Z"
   },
   {
    "duration": 12,
    "start_time": "2022-05-14T13:05:21.147Z"
   },
   {
    "duration": 77,
    "start_time": "2022-05-14T13:05:21.189Z"
   },
   {
    "duration": 45,
    "start_time": "2022-05-14T13:05:21.268Z"
   },
   {
    "duration": 44,
    "start_time": "2022-05-14T13:05:21.314Z"
   },
   {
    "duration": 35,
    "start_time": "2022-05-14T13:05:21.360Z"
   },
   {
    "duration": 28,
    "start_time": "2022-05-14T13:05:21.397Z"
   },
   {
    "duration": 25,
    "start_time": "2022-05-14T13:05:21.427Z"
   },
   {
    "duration": 61,
    "start_time": "2022-05-14T13:05:21.454Z"
   },
   {
    "duration": 7,
    "start_time": "2022-05-14T13:05:21.517Z"
   },
   {
    "duration": 7,
    "start_time": "2022-05-14T13:05:21.526Z"
   },
   {
    "duration": 19,
    "start_time": "2022-05-14T13:05:21.534Z"
   },
   {
    "duration": 44,
    "start_time": "2022-05-14T13:05:21.554Z"
   },
   {
    "duration": 20,
    "start_time": "2022-05-14T13:05:21.600Z"
   },
   {
    "duration": 20,
    "start_time": "2022-05-14T13:05:21.621Z"
   },
   {
    "duration": 20,
    "start_time": "2022-05-14T13:05:21.643Z"
   },
   {
    "duration": 497,
    "start_time": "2022-05-14T13:06:34.607Z"
   },
   {
    "duration": 9,
    "start_time": "2022-05-14T13:06:35.106Z"
   },
   {
    "duration": 22,
    "start_time": "2022-05-14T13:06:35.117Z"
   },
   {
    "duration": 5,
    "start_time": "2022-05-14T13:06:35.140Z"
   },
   {
    "duration": 5,
    "start_time": "2022-05-14T13:06:35.148Z"
   },
   {
    "duration": 37,
    "start_time": "2022-05-14T13:06:35.155Z"
   },
   {
    "duration": 12,
    "start_time": "2022-05-14T13:06:35.194Z"
   },
   {
    "duration": 11,
    "start_time": "2022-05-14T13:06:35.208Z"
   },
   {
    "duration": 5,
    "start_time": "2022-05-14T13:06:35.221Z"
   },
   {
    "duration": 11,
    "start_time": "2022-05-14T13:06:35.227Z"
   },
   {
    "duration": 9,
    "start_time": "2022-05-14T13:06:35.239Z"
   },
   {
    "duration": 15,
    "start_time": "2022-05-14T13:06:35.249Z"
   },
   {
    "duration": 23,
    "start_time": "2022-05-14T13:06:35.266Z"
   },
   {
    "duration": 42,
    "start_time": "2022-05-14T13:06:35.292Z"
   },
   {
    "duration": 5,
    "start_time": "2022-05-14T13:06:35.335Z"
   },
   {
    "duration": 20,
    "start_time": "2022-05-14T13:06:35.341Z"
   },
   {
    "duration": 25,
    "start_time": "2022-05-14T13:06:35.363Z"
   },
   {
    "duration": 8,
    "start_time": "2022-05-14T13:06:35.390Z"
   },
   {
    "duration": 13,
    "start_time": "2022-05-14T13:06:35.399Z"
   },
   {
    "duration": 39,
    "start_time": "2022-05-14T13:06:35.413Z"
   },
   {
    "duration": 37,
    "start_time": "2022-05-14T13:06:35.454Z"
   },
   {
    "duration": 17,
    "start_time": "2022-05-14T13:06:35.493Z"
   },
   {
    "duration": 11,
    "start_time": "2022-05-14T13:06:35.512Z"
   },
   {
    "duration": 23,
    "start_time": "2022-05-14T13:06:35.525Z"
   },
   {
    "duration": 50,
    "start_time": "2022-05-14T13:06:35.549Z"
   },
   {
    "duration": 10,
    "start_time": "2022-05-14T13:06:35.600Z"
   },
   {
    "duration": 30,
    "start_time": "2022-05-14T13:06:35.612Z"
   },
   {
    "duration": 10,
    "start_time": "2022-05-14T13:06:35.644Z"
   },
   {
    "duration": 45,
    "start_time": "2022-05-14T13:06:35.656Z"
   },
   {
    "duration": 14,
    "start_time": "2022-05-14T13:06:35.703Z"
   },
   {
    "duration": 6,
    "start_time": "2022-05-14T13:06:35.719Z"
   },
   {
    "duration": 3,
    "start_time": "2022-05-14T13:06:35.726Z"
   },
   {
    "duration": 12,
    "start_time": "2022-05-14T13:06:35.731Z"
   },
   {
    "duration": 54,
    "start_time": "2022-05-14T13:06:35.744Z"
   },
   {
    "duration": 12,
    "start_time": "2022-05-14T13:06:35.800Z"
   },
   {
    "duration": 94,
    "start_time": "2022-05-14T13:06:35.813Z"
   },
   {
    "duration": 32,
    "start_time": "2022-05-14T13:06:35.908Z"
   },
   {
    "duration": 56,
    "start_time": "2022-05-14T13:06:35.942Z"
   },
   {
    "duration": 18,
    "start_time": "2022-05-14T13:06:36.000Z"
   },
   {
    "duration": 29,
    "start_time": "2022-05-14T13:06:36.019Z"
   },
   {
    "duration": 46,
    "start_time": "2022-05-14T13:06:36.051Z"
   },
   {
    "duration": 33,
    "start_time": "2022-05-14T13:06:36.099Z"
   },
   {
    "duration": 7,
    "start_time": "2022-05-14T13:06:36.134Z"
   },
   {
    "duration": 4,
    "start_time": "2022-05-14T13:06:36.143Z"
   },
   {
    "duration": 46,
    "start_time": "2022-05-14T13:06:36.148Z"
   },
   {
    "duration": 14,
    "start_time": "2022-05-14T13:06:36.196Z"
   },
   {
    "duration": 21,
    "start_time": "2022-05-14T13:06:36.212Z"
   },
   {
    "duration": 19,
    "start_time": "2022-05-14T13:06:36.234Z"
   },
   {
    "duration": 43,
    "start_time": "2022-05-14T13:06:36.254Z"
   },
   {
    "duration": 15,
    "start_time": "2022-05-14T13:06:36.299Z"
   },
   {
    "duration": 486,
    "start_time": "2022-05-14T13:07:08.202Z"
   },
   {
    "duration": 10,
    "start_time": "2022-05-14T13:07:08.690Z"
   },
   {
    "duration": 21,
    "start_time": "2022-05-14T13:07:08.702Z"
   },
   {
    "duration": 6,
    "start_time": "2022-05-14T13:07:08.725Z"
   },
   {
    "duration": 5,
    "start_time": "2022-05-14T13:07:08.733Z"
   },
   {
    "duration": 11,
    "start_time": "2022-05-14T13:07:08.740Z"
   },
   {
    "duration": 7,
    "start_time": "2022-05-14T13:07:08.753Z"
   },
   {
    "duration": 8,
    "start_time": "2022-05-14T13:07:08.789Z"
   },
   {
    "duration": 6,
    "start_time": "2022-05-14T13:07:08.799Z"
   },
   {
    "duration": 11,
    "start_time": "2022-05-14T13:07:08.807Z"
   },
   {
    "duration": 7,
    "start_time": "2022-05-14T13:07:08.819Z"
   },
   {
    "duration": 10,
    "start_time": "2022-05-14T13:07:08.828Z"
   },
   {
    "duration": 9,
    "start_time": "2022-05-14T13:07:08.840Z"
   },
   {
    "duration": 62,
    "start_time": "2022-05-14T13:07:08.852Z"
   },
   {
    "duration": 4,
    "start_time": "2022-05-14T13:07:08.916Z"
   },
   {
    "duration": 18,
    "start_time": "2022-05-14T13:07:08.921Z"
   },
   {
    "duration": 7,
    "start_time": "2022-05-14T13:07:08.940Z"
   },
   {
    "duration": 6,
    "start_time": "2022-05-14T13:07:08.949Z"
   },
   {
    "duration": 40,
    "start_time": "2022-05-14T13:07:08.957Z"
   },
   {
    "duration": 33,
    "start_time": "2022-05-14T13:07:08.999Z"
   },
   {
    "duration": 14,
    "start_time": "2022-05-14T13:07:09.033Z"
   },
   {
    "duration": 42,
    "start_time": "2022-05-14T13:07:09.048Z"
   },
   {
    "duration": 11,
    "start_time": "2022-05-14T13:07:09.091Z"
   },
   {
    "duration": 22,
    "start_time": "2022-05-14T13:07:09.104Z"
   },
   {
    "duration": 19,
    "start_time": "2022-05-14T13:07:09.128Z"
   },
   {
    "duration": 10,
    "start_time": "2022-05-14T13:07:09.148Z"
   },
   {
    "duration": 32,
    "start_time": "2022-05-14T13:07:09.189Z"
   },
   {
    "duration": 11,
    "start_time": "2022-05-14T13:07:09.223Z"
   },
   {
    "duration": 15,
    "start_time": "2022-05-14T13:07:09.236Z"
   },
   {
    "duration": 45,
    "start_time": "2022-05-14T13:07:09.253Z"
   },
   {
    "duration": 6,
    "start_time": "2022-05-14T13:07:09.300Z"
   },
   {
    "duration": 2,
    "start_time": "2022-05-14T13:07:09.308Z"
   },
   {
    "duration": 13,
    "start_time": "2022-05-14T13:07:09.311Z"
   },
   {
    "duration": 24,
    "start_time": "2022-05-14T13:07:09.326Z"
   },
   {
    "duration": 42,
    "start_time": "2022-05-14T13:07:09.352Z"
   },
   {
    "duration": 78,
    "start_time": "2022-05-14T13:07:09.396Z"
   },
   {
    "duration": 32,
    "start_time": "2022-05-14T13:07:09.489Z"
   },
   {
    "duration": 43,
    "start_time": "2022-05-14T13:07:09.523Z"
   },
   {
    "duration": 36,
    "start_time": "2022-05-14T13:07:09.568Z"
   },
   {
    "duration": 97,
    "start_time": "2022-05-14T13:07:09.606Z"
   },
   {
    "duration": 25,
    "start_time": "2022-05-14T13:07:09.708Z"
   },
   {
    "duration": 55,
    "start_time": "2022-05-14T13:07:09.734Z"
   },
   {
    "duration": 8,
    "start_time": "2022-05-14T13:07:09.791Z"
   },
   {
    "duration": 5,
    "start_time": "2022-05-14T13:07:09.801Z"
   },
   {
    "duration": 5,
    "start_time": "2022-05-14T13:07:09.807Z"
   },
   {
    "duration": 16,
    "start_time": "2022-05-14T13:07:09.814Z"
   },
   {
    "duration": 18,
    "start_time": "2022-05-14T13:07:09.832Z"
   },
   {
    "duration": 52,
    "start_time": "2022-05-14T13:07:09.852Z"
   },
   {
    "duration": 17,
    "start_time": "2022-05-14T13:07:09.905Z"
   },
   {
    "duration": 17,
    "start_time": "2022-05-14T13:07:09.924Z"
   },
   {
    "duration": 11,
    "start_time": "2022-05-14T13:08:50.025Z"
   },
   {
    "duration": 10,
    "start_time": "2022-05-14T13:10:03.766Z"
   },
   {
    "duration": 507,
    "start_time": "2022-05-14T13:10:08.239Z"
   },
   {
    "duration": 10,
    "start_time": "2022-05-14T13:10:08.748Z"
   },
   {
    "duration": 39,
    "start_time": "2022-05-14T13:10:08.760Z"
   },
   {
    "duration": 4,
    "start_time": "2022-05-14T13:10:08.801Z"
   },
   {
    "duration": 13,
    "start_time": "2022-05-14T13:10:08.806Z"
   },
   {
    "duration": 12,
    "start_time": "2022-05-14T13:10:08.821Z"
   },
   {
    "duration": 7,
    "start_time": "2022-05-14T13:10:08.834Z"
   },
   {
    "duration": 12,
    "start_time": "2022-05-14T13:10:08.842Z"
   },
   {
    "duration": 9,
    "start_time": "2022-05-14T13:10:08.855Z"
   },
   {
    "duration": 7,
    "start_time": "2022-05-14T13:10:08.888Z"
   },
   {
    "duration": 10,
    "start_time": "2022-05-14T13:10:08.897Z"
   },
   {
    "duration": 13,
    "start_time": "2022-05-14T13:10:08.909Z"
   },
   {
    "duration": 8,
    "start_time": "2022-05-14T13:10:08.924Z"
   },
   {
    "duration": 32,
    "start_time": "2022-05-14T13:10:08.934Z"
   },
   {
    "duration": 6,
    "start_time": "2022-05-14T13:10:08.988Z"
   },
   {
    "duration": 21,
    "start_time": "2022-05-14T13:10:08.995Z"
   },
   {
    "duration": 7,
    "start_time": "2022-05-14T13:10:09.017Z"
   },
   {
    "duration": 7,
    "start_time": "2022-05-14T13:10:09.026Z"
   },
   {
    "duration": 12,
    "start_time": "2022-05-14T13:10:09.035Z"
   },
   {
    "duration": 63,
    "start_time": "2022-05-14T13:10:09.048Z"
   },
   {
    "duration": 15,
    "start_time": "2022-05-14T13:10:09.112Z"
   },
   {
    "duration": 19,
    "start_time": "2022-05-14T13:10:09.128Z"
   },
   {
    "duration": 39,
    "start_time": "2022-05-14T13:10:09.149Z"
   },
   {
    "duration": 25,
    "start_time": "2022-05-14T13:10:09.190Z"
   },
   {
    "duration": 21,
    "start_time": "2022-05-14T13:10:09.216Z"
   },
   {
    "duration": 10,
    "start_time": "2022-05-14T13:10:09.238Z"
   },
   {
    "duration": 55,
    "start_time": "2022-05-14T13:10:09.249Z"
   },
   {
    "duration": 10,
    "start_time": "2022-05-14T13:10:09.307Z"
   },
   {
    "duration": 19,
    "start_time": "2022-05-14T13:10:09.319Z"
   },
   {
    "duration": 14,
    "start_time": "2022-05-14T13:10:09.340Z"
   },
   {
    "duration": 36,
    "start_time": "2022-05-14T13:10:09.355Z"
   },
   {
    "duration": 2,
    "start_time": "2022-05-14T13:10:09.393Z"
   },
   {
    "duration": 13,
    "start_time": "2022-05-14T13:10:09.396Z"
   },
   {
    "duration": 28,
    "start_time": "2022-05-14T13:10:09.411Z"
   },
   {
    "duration": 13,
    "start_time": "2022-05-14T13:10:09.441Z"
   },
   {
    "duration": 105,
    "start_time": "2022-05-14T13:10:09.456Z"
   },
   {
    "duration": 46,
    "start_time": "2022-05-14T13:10:09.563Z"
   },
   {
    "duration": 46,
    "start_time": "2022-05-14T13:10:09.610Z"
   },
   {
    "duration": 31,
    "start_time": "2022-05-14T13:10:09.658Z"
   },
   {
    "duration": 29,
    "start_time": "2022-05-14T13:10:09.690Z"
   },
   {
    "duration": 24,
    "start_time": "2022-05-14T13:10:09.720Z"
   },
   {
    "duration": 55,
    "start_time": "2022-05-14T13:10:09.746Z"
   },
   {
    "duration": 7,
    "start_time": "2022-05-14T13:10:09.803Z"
   },
   {
    "duration": 4,
    "start_time": "2022-05-14T13:10:09.812Z"
   },
   {
    "duration": 5,
    "start_time": "2022-05-14T13:10:09.818Z"
   },
   {
    "duration": 17,
    "start_time": "2022-05-14T13:10:09.824Z"
   },
   {
    "duration": 45,
    "start_time": "2022-05-14T13:10:09.843Z"
   },
   {
    "duration": 21,
    "start_time": "2022-05-14T13:10:09.890Z"
   },
   {
    "duration": 18,
    "start_time": "2022-05-14T13:10:09.912Z"
   },
   {
    "duration": 12,
    "start_time": "2022-05-14T13:10:09.931Z"
   },
   {
    "duration": 29,
    "start_time": "2022-05-14T13:11:58.965Z"
   },
   {
    "duration": 1909,
    "start_time": "2022-05-14T13:13:23.227Z"
   },
   {
    "duration": 5,
    "start_time": "2022-05-14T13:13:53.903Z"
   },
   {
    "duration": 6,
    "start_time": "2022-05-14T13:14:52.951Z"
   },
   {
    "duration": 25,
    "start_time": "2022-05-14T13:30:46.330Z"
   },
   {
    "duration": 13,
    "start_time": "2022-05-14T13:32:19.146Z"
   },
   {
    "duration": 12,
    "start_time": "2022-05-14T13:32:43.837Z"
   },
   {
    "duration": 483,
    "start_time": "2022-05-14T13:32:57.449Z"
   },
   {
    "duration": 10,
    "start_time": "2022-05-14T13:32:57.933Z"
   },
   {
    "duration": 21,
    "start_time": "2022-05-14T13:32:57.944Z"
   },
   {
    "duration": 5,
    "start_time": "2022-05-14T13:32:57.988Z"
   },
   {
    "duration": 9,
    "start_time": "2022-05-14T13:32:57.994Z"
   },
   {
    "duration": 15,
    "start_time": "2022-05-14T13:32:58.004Z"
   },
   {
    "duration": 11,
    "start_time": "2022-05-14T13:32:58.021Z"
   },
   {
    "duration": 10,
    "start_time": "2022-05-14T13:32:58.033Z"
   },
   {
    "duration": 6,
    "start_time": "2022-05-14T13:32:58.045Z"
   },
   {
    "duration": 35,
    "start_time": "2022-05-14T13:32:58.053Z"
   },
   {
    "duration": 7,
    "start_time": "2022-05-14T13:32:58.090Z"
   },
   {
    "duration": 12,
    "start_time": "2022-05-14T13:32:58.099Z"
   },
   {
    "duration": 9,
    "start_time": "2022-05-14T13:32:58.112Z"
   },
   {
    "duration": 33,
    "start_time": "2022-05-14T13:32:58.122Z"
   },
   {
    "duration": 34,
    "start_time": "2022-05-14T13:32:58.156Z"
   },
   {
    "duration": 17,
    "start_time": "2022-05-14T13:32:58.191Z"
   },
   {
    "duration": 7,
    "start_time": "2022-05-14T13:32:58.209Z"
   },
   {
    "duration": 6,
    "start_time": "2022-05-14T13:32:58.218Z"
   },
   {
    "duration": 11,
    "start_time": "2022-05-14T13:32:58.226Z"
   },
   {
    "duration": 57,
    "start_time": "2022-05-14T13:32:58.238Z"
   },
   {
    "duration": 14,
    "start_time": "2022-05-14T13:32:58.297Z"
   },
   {
    "duration": 18,
    "start_time": "2022-05-14T13:32:58.313Z"
   },
   {
    "duration": 10,
    "start_time": "2022-05-14T13:32:58.333Z"
   },
   {
    "duration": 52,
    "start_time": "2022-05-14T13:32:58.344Z"
   },
   {
    "duration": 19,
    "start_time": "2022-05-14T13:32:58.398Z"
   },
   {
    "duration": 9,
    "start_time": "2022-05-14T13:32:58.419Z"
   },
   {
    "duration": 30,
    "start_time": "2022-05-14T13:32:58.429Z"
   },
   {
    "duration": 11,
    "start_time": "2022-05-14T13:32:58.487Z"
   },
   {
    "duration": 13,
    "start_time": "2022-05-14T13:32:58.500Z"
   },
   {
    "duration": 14,
    "start_time": "2022-05-14T13:32:58.515Z"
   },
   {
    "duration": 6,
    "start_time": "2022-05-14T13:32:58.530Z"
   },
   {
    "duration": 2,
    "start_time": "2022-05-14T13:32:58.537Z"
   },
   {
    "duration": 12,
    "start_time": "2022-05-14T13:32:58.541Z"
   },
   {
    "duration": 58,
    "start_time": "2022-05-14T13:32:58.554Z"
   },
   {
    "duration": 13,
    "start_time": "2022-05-14T13:32:58.614Z"
   },
   {
    "duration": 102,
    "start_time": "2022-05-14T13:32:58.628Z"
   },
   {
    "duration": 33,
    "start_time": "2022-05-14T13:32:58.732Z"
   },
   {
    "duration": 64,
    "start_time": "2022-05-14T13:32:58.767Z"
   },
   {
    "duration": 19,
    "start_time": "2022-05-14T13:32:58.833Z"
   },
   {
    "duration": 47,
    "start_time": "2022-05-14T13:32:58.854Z"
   },
   {
    "duration": 26,
    "start_time": "2022-05-14T13:32:58.902Z"
   },
   {
    "duration": 35,
    "start_time": "2022-05-14T13:32:58.930Z"
   },
   {
    "duration": 24,
    "start_time": "2022-05-14T13:32:58.966Z"
   },
   {
    "duration": 4,
    "start_time": "2022-05-14T13:32:58.992Z"
   },
   {
    "duration": 7,
    "start_time": "2022-05-14T13:32:58.997Z"
   },
   {
    "duration": 19,
    "start_time": "2022-05-14T13:32:59.006Z"
   },
   {
    "duration": 23,
    "start_time": "2022-05-14T13:32:59.027Z"
   },
   {
    "duration": 44,
    "start_time": "2022-05-14T13:32:59.051Z"
   },
   {
    "duration": 17,
    "start_time": "2022-05-14T13:32:59.097Z"
   },
   {
    "duration": 12,
    "start_time": "2022-05-14T13:32:59.116Z"
   },
   {
    "duration": 30,
    "start_time": "2022-05-14T13:32:59.129Z"
   },
   {
    "duration": 31,
    "start_time": "2022-05-14T13:32:59.161Z"
   },
   {
    "duration": 23,
    "start_time": "2022-05-14T13:32:59.194Z"
   },
   {
    "duration": 111,
    "start_time": "2022-05-14T13:32:59.218Z"
   },
   {
    "duration": 15,
    "start_time": "2022-05-14T13:36:46.021Z"
   },
   {
    "duration": 18,
    "start_time": "2022-05-14T13:46:27.334Z"
   },
   {
    "duration": 384,
    "start_time": "2022-05-14T13:55:13.105Z"
   },
   {
    "duration": 382,
    "start_time": "2022-05-14T13:55:30.065Z"
   },
   {
    "duration": 435,
    "start_time": "2022-05-14T14:22:59.803Z"
   },
   {
    "duration": 12,
    "start_time": "2022-05-14T14:33:27.300Z"
   },
   {
    "duration": 1776,
    "start_time": "2022-05-14T14:35:37.584Z"
   },
   {
    "duration": 132,
    "start_time": "2022-05-14T14:35:51.667Z"
   },
   {
    "duration": 140,
    "start_time": "2022-05-14T14:37:54.267Z"
   },
   {
    "duration": 98,
    "start_time": "2022-05-14T14:38:22.260Z"
   },
   {
    "duration": 97,
    "start_time": "2022-05-14T14:38:38.968Z"
   },
   {
    "duration": 97,
    "start_time": "2022-05-14T14:38:55.760Z"
   },
   {
    "duration": 100,
    "start_time": "2022-05-14T14:39:13.071Z"
   },
   {
    "duration": 130,
    "start_time": "2022-05-14T14:39:38.116Z"
   },
   {
    "duration": 130,
    "start_time": "2022-05-14T14:45:03.388Z"
   },
   {
    "duration": 128,
    "start_time": "2022-05-14T14:45:49.452Z"
   },
   {
    "duration": 224,
    "start_time": "2022-05-14T14:46:08.701Z"
   },
   {
    "duration": 130,
    "start_time": "2022-05-14T14:47:30.625Z"
   },
   {
    "duration": 156,
    "start_time": "2022-05-14T14:47:38.009Z"
   },
   {
    "duration": 157,
    "start_time": "2022-05-14T14:48:14.779Z"
   },
   {
    "duration": 132,
    "start_time": "2022-05-14T14:48:59.725Z"
   },
   {
    "duration": 190,
    "start_time": "2022-05-14T14:50:18.235Z"
   },
   {
    "duration": 373,
    "start_time": "2022-05-14T14:51:03.983Z"
   },
   {
    "duration": 414,
    "start_time": "2022-05-14T14:51:26.753Z"
   },
   {
    "duration": 488,
    "start_time": "2022-05-14T14:53:52.832Z"
   },
   {
    "duration": 413,
    "start_time": "2022-05-14T14:55:31.872Z"
   },
   {
    "duration": 396,
    "start_time": "2022-05-14T14:56:17.361Z"
   },
   {
    "duration": 459,
    "start_time": "2022-05-14T14:56:42.939Z"
   },
   {
    "duration": 569,
    "start_time": "2022-05-14T14:59:33.923Z"
   },
   {
    "duration": 7,
    "start_time": "2022-05-14T15:24:28.833Z"
   },
   {
    "duration": 4,
    "start_time": "2022-05-14T15:24:46.145Z"
   },
   {
    "duration": 10,
    "start_time": "2022-05-14T15:25:24.581Z"
   },
   {
    "duration": 10,
    "start_time": "2022-05-14T15:25:39.922Z"
   },
   {
    "duration": 11,
    "start_time": "2022-05-14T15:26:07.021Z"
   },
   {
    "duration": 10,
    "start_time": "2022-05-14T15:26:20.593Z"
   },
   {
    "duration": 115,
    "start_time": "2022-05-14T15:26:31.524Z"
   },
   {
    "duration": 11,
    "start_time": "2022-05-14T15:26:36.931Z"
   },
   {
    "duration": 10,
    "start_time": "2022-05-14T15:26:58.922Z"
   },
   {
    "duration": 12,
    "start_time": "2022-05-14T15:27:23.432Z"
   },
   {
    "duration": 8,
    "start_time": "2022-05-14T15:27:30.154Z"
   },
   {
    "duration": 12,
    "start_time": "2022-05-14T15:27:48.556Z"
   },
   {
    "duration": 15,
    "start_time": "2022-05-14T15:28:57.583Z"
   },
   {
    "duration": 14,
    "start_time": "2022-05-14T15:29:23.964Z"
   },
   {
    "duration": 16,
    "start_time": "2022-05-14T15:29:43.284Z"
   },
   {
    "duration": 16,
    "start_time": "2022-05-14T15:30:07.262Z"
   },
   {
    "duration": 16,
    "start_time": "2022-05-14T15:31:14.529Z"
   },
   {
    "duration": 11,
    "start_time": "2022-05-14T15:32:44.663Z"
   },
   {
    "duration": 15,
    "start_time": "2022-05-14T15:33:00.412Z"
   },
   {
    "duration": 12,
    "start_time": "2022-05-14T15:34:15.162Z"
   },
   {
    "duration": 13,
    "start_time": "2022-05-14T15:35:10.936Z"
   },
   {
    "duration": 2524,
    "start_time": "2022-05-14T15:41:58.305Z"
   },
   {
    "duration": 2245,
    "start_time": "2022-05-14T15:43:10.016Z"
   },
   {
    "duration": 2214,
    "start_time": "2022-05-14T15:43:34.167Z"
   },
   {
    "duration": 2313,
    "start_time": "2022-05-14T15:43:56.342Z"
   },
   {
    "duration": 486,
    "start_time": "2022-05-14T15:44:19.519Z"
   },
   {
    "duration": 482,
    "start_time": "2022-05-14T15:47:30.671Z"
   },
   {
    "duration": 495,
    "start_time": "2022-05-14T15:53:33.367Z"
   },
   {
    "duration": 594,
    "start_time": "2022-05-14T16:06:58.382Z"
   },
   {
    "duration": 510,
    "start_time": "2022-05-14T16:07:29.188Z"
   },
   {
    "duration": 517,
    "start_time": "2022-05-14T16:08:36.655Z"
   },
   {
    "duration": 503,
    "start_time": "2022-05-14T16:09:38.325Z"
   },
   {
    "duration": 11,
    "start_time": "2022-05-14T16:28:16.412Z"
   },
   {
    "duration": 21,
    "start_time": "2022-05-14T16:35:39.825Z"
   },
   {
    "duration": 14,
    "start_time": "2022-05-14T16:36:32.788Z"
   },
   {
    "duration": 21,
    "start_time": "2022-05-14T16:44:52.591Z"
   },
   {
    "duration": 16,
    "start_time": "2022-05-14T16:45:09.397Z"
   },
   {
    "duration": 8,
    "start_time": "2022-05-14T16:46:12.956Z"
   },
   {
    "duration": 948,
    "start_time": "2022-05-14T16:46:26.509Z"
   },
   {
    "duration": 9,
    "start_time": "2022-05-14T16:46:27.459Z"
   },
   {
    "duration": 30,
    "start_time": "2022-05-14T16:46:27.469Z"
   },
   {
    "duration": 7,
    "start_time": "2022-05-14T16:46:27.501Z"
   },
   {
    "duration": 9,
    "start_time": "2022-05-14T16:46:27.510Z"
   },
   {
    "duration": 11,
    "start_time": "2022-05-14T16:46:27.521Z"
   },
   {
    "duration": 7,
    "start_time": "2022-05-14T16:46:27.534Z"
   },
   {
    "duration": 11,
    "start_time": "2022-05-14T16:46:27.542Z"
   },
   {
    "duration": 36,
    "start_time": "2022-05-14T16:46:27.555Z"
   },
   {
    "duration": 9,
    "start_time": "2022-05-14T16:46:27.595Z"
   },
   {
    "duration": 8,
    "start_time": "2022-05-14T16:46:27.605Z"
   },
   {
    "duration": 11,
    "start_time": "2022-05-14T16:46:27.615Z"
   },
   {
    "duration": 8,
    "start_time": "2022-05-14T16:46:27.627Z"
   },
   {
    "duration": 72,
    "start_time": "2022-05-14T16:46:27.637Z"
   },
   {
    "duration": 7,
    "start_time": "2022-05-14T16:46:27.711Z"
   },
   {
    "duration": 41,
    "start_time": "2022-05-14T16:46:27.720Z"
   },
   {
    "duration": 29,
    "start_time": "2022-05-14T16:46:27.763Z"
   },
   {
    "duration": 8,
    "start_time": "2022-05-14T16:46:27.794Z"
   },
   {
    "duration": 12,
    "start_time": "2022-05-14T16:46:27.804Z"
   },
   {
    "duration": 40,
    "start_time": "2022-05-14T16:46:27.817Z"
   },
   {
    "duration": 41,
    "start_time": "2022-05-14T16:46:27.859Z"
   },
   {
    "duration": 22,
    "start_time": "2022-05-14T16:46:27.902Z"
   },
   {
    "duration": 14,
    "start_time": "2022-05-14T16:46:27.926Z"
   },
   {
    "duration": 50,
    "start_time": "2022-05-14T16:46:27.942Z"
   },
   {
    "duration": 23,
    "start_time": "2022-05-14T16:46:27.994Z"
   },
   {
    "duration": 11,
    "start_time": "2022-05-14T16:46:28.019Z"
   },
   {
    "duration": 56,
    "start_time": "2022-05-14T16:46:28.032Z"
   },
   {
    "duration": 12,
    "start_time": "2022-05-14T16:46:28.092Z"
   },
   {
    "duration": 20,
    "start_time": "2022-05-14T16:46:28.105Z"
   },
   {
    "duration": 16,
    "start_time": "2022-05-14T16:46:28.127Z"
   },
   {
    "duration": 7,
    "start_time": "2022-05-14T16:46:28.144Z"
   },
   {
    "duration": 13,
    "start_time": "2022-05-14T16:46:28.153Z"
   },
   {
    "duration": 21,
    "start_time": "2022-05-14T16:46:28.189Z"
   },
   {
    "duration": 30,
    "start_time": "2022-05-14T16:46:28.211Z"
   },
   {
    "duration": 12,
    "start_time": "2022-05-14T16:46:28.243Z"
   },
   {
    "duration": 99,
    "start_time": "2022-05-14T16:46:28.257Z"
   },
   {
    "duration": 47,
    "start_time": "2022-05-14T16:46:28.359Z"
   },
   {
    "duration": 47,
    "start_time": "2022-05-14T16:46:28.408Z"
   },
   {
    "duration": 37,
    "start_time": "2022-05-14T16:46:28.457Z"
   },
   {
    "duration": 31,
    "start_time": "2022-05-14T16:46:28.497Z"
   },
   {
    "duration": 24,
    "start_time": "2022-05-14T16:46:28.530Z"
   },
   {
    "duration": 61,
    "start_time": "2022-05-14T16:46:28.556Z"
   },
   {
    "duration": 15,
    "start_time": "2022-05-14T16:46:28.619Z"
   },
   {
    "duration": 9,
    "start_time": "2022-05-14T16:46:28.635Z"
   },
   {
    "duration": 9,
    "start_time": "2022-05-14T16:46:32.835Z"
   },
   {
    "duration": 6,
    "start_time": "2022-05-14T16:47:14.656Z"
   },
   {
    "duration": 3,
    "start_time": "2022-05-14T16:48:10.090Z"
   },
   {
    "duration": 4,
    "start_time": "2022-05-14T16:48:38.808Z"
   },
   {
    "duration": 19,
    "start_time": "2022-05-14T16:53:38.205Z"
   },
   {
    "duration": 14,
    "start_time": "2022-05-14T16:57:26.203Z"
   },
   {
    "duration": 6,
    "start_time": "2022-05-14T16:58:05.300Z"
   },
   {
    "duration": 21,
    "start_time": "2022-05-14T16:59:08.068Z"
   },
   {
    "duration": 72,
    "start_time": "2022-05-14T21:28:04.971Z"
   },
   {
    "duration": 2394,
    "start_time": "2022-05-14T21:28:11.816Z"
   },
   {
    "duration": 44,
    "start_time": "2022-05-14T21:28:14.214Z"
   },
   {
    "duration": 29,
    "start_time": "2022-05-14T21:28:14.263Z"
   },
   {
    "duration": 6,
    "start_time": "2022-05-14T21:28:14.294Z"
   },
   {
    "duration": 8,
    "start_time": "2022-05-14T21:28:14.302Z"
   },
   {
    "duration": 56,
    "start_time": "2022-05-14T21:28:14.312Z"
   },
   {
    "duration": 10,
    "start_time": "2022-05-14T21:28:14.370Z"
   },
   {
    "duration": 12,
    "start_time": "2022-05-14T21:28:14.382Z"
   },
   {
    "duration": 7,
    "start_time": "2022-05-14T21:28:14.397Z"
   },
   {
    "duration": 49,
    "start_time": "2022-05-14T21:28:14.408Z"
   },
   {
    "duration": 13,
    "start_time": "2022-05-14T21:28:14.460Z"
   },
   {
    "duration": 24,
    "start_time": "2022-05-14T21:28:14.475Z"
   },
   {
    "duration": 10,
    "start_time": "2022-05-14T21:28:14.502Z"
   },
   {
    "duration": 77,
    "start_time": "2022-05-14T21:28:14.515Z"
   },
   {
    "duration": 7,
    "start_time": "2022-05-14T21:28:14.595Z"
   },
   {
    "duration": 134,
    "start_time": "2022-05-14T21:28:14.604Z"
   },
   {
    "duration": 14,
    "start_time": "2022-05-14T21:28:14.741Z"
   },
   {
    "duration": 12,
    "start_time": "2022-05-14T21:28:14.757Z"
   },
   {
    "duration": 18,
    "start_time": "2022-05-14T21:28:14.772Z"
   },
   {
    "duration": 93,
    "start_time": "2022-05-14T21:28:14.793Z"
   },
   {
    "duration": 19,
    "start_time": "2022-05-14T21:28:14.888Z"
   },
   {
    "duration": 50,
    "start_time": "2022-05-14T21:28:14.910Z"
   },
   {
    "duration": 20,
    "start_time": "2022-05-14T21:28:14.962Z"
   },
   {
    "duration": 41,
    "start_time": "2022-05-14T21:28:14.984Z"
   },
   {
    "duration": 36,
    "start_time": "2022-05-14T21:28:15.052Z"
   },
   {
    "duration": 14,
    "start_time": "2022-05-14T21:28:15.090Z"
   },
   {
    "duration": 73,
    "start_time": "2022-05-14T21:28:15.106Z"
   },
   {
    "duration": 17,
    "start_time": "2022-05-14T21:28:15.185Z"
   },
   {
    "duration": 19,
    "start_time": "2022-05-14T21:28:15.204Z"
   },
   {
    "duration": 22,
    "start_time": "2022-05-14T21:28:15.252Z"
   },
   {
    "duration": 8,
    "start_time": "2022-05-14T21:28:15.277Z"
   },
   {
    "duration": 3,
    "start_time": "2022-05-14T21:28:15.287Z"
   },
   {
    "duration": 14,
    "start_time": "2022-05-14T21:28:15.293Z"
   },
   {
    "duration": 75,
    "start_time": "2022-05-14T21:28:15.309Z"
   },
   {
    "duration": 15,
    "start_time": "2022-05-14T21:28:15.387Z"
   },
   {
    "duration": 138,
    "start_time": "2022-05-14T21:28:15.405Z"
   },
   {
    "duration": 50,
    "start_time": "2022-05-14T21:28:15.552Z"
   },
   {
    "duration": 76,
    "start_time": "2022-05-14T21:28:15.604Z"
   },
   {
    "duration": 28,
    "start_time": "2022-05-14T21:28:15.683Z"
   },
   {
    "duration": 75,
    "start_time": "2022-05-14T21:28:15.713Z"
   },
   {
    "duration": 38,
    "start_time": "2022-05-14T21:28:15.791Z"
   },
   {
    "duration": 70,
    "start_time": "2022-05-14T21:28:15.831Z"
   },
   {
    "duration": 53,
    "start_time": "2022-05-14T21:28:15.904Z"
   },
   {
    "duration": 7,
    "start_time": "2022-05-14T21:28:15.960Z"
   },
   {
    "duration": 28,
    "start_time": "2022-05-14T21:28:15.969Z"
   },
   {
    "duration": 55,
    "start_time": "2022-05-14T21:28:15.999Z"
   },
   {
    "duration": 10,
    "start_time": "2022-05-14T21:28:16.057Z"
   },
   {
    "duration": 6,
    "start_time": "2022-05-14T21:28:16.070Z"
   },
   {
    "duration": 20,
    "start_time": "2022-05-14T21:28:16.078Z"
   },
   {
    "duration": 25,
    "start_time": "2022-05-14T21:28:16.100Z"
   },
   {
    "duration": 31,
    "start_time": "2022-05-14T21:28:16.152Z"
   },
   {
    "duration": 34,
    "start_time": "2022-05-14T21:28:16.185Z"
   },
   {
    "duration": 32,
    "start_time": "2022-05-14T21:28:16.253Z"
   },
   {
    "duration": 15,
    "start_time": "2022-05-14T21:28:16.288Z"
   },
   {
    "duration": 83,
    "start_time": "2022-05-14T21:28:16.305Z"
   },
   {
    "duration": 10,
    "start_time": "2022-05-14T21:28:16.391Z"
   },
   {
    "duration": 59,
    "start_time": "2022-05-14T21:28:16.403Z"
   },
   {
    "duration": 20,
    "start_time": "2022-05-14T21:28:16.465Z"
   },
   {
    "duration": 24,
    "start_time": "2022-05-14T21:28:16.487Z"
   },
   {
    "duration": 849,
    "start_time": "2022-05-14T21:28:16.514Z"
   },
   {
    "duration": 17,
    "start_time": "2022-05-14T21:28:17.365Z"
   },
   {
    "duration": 2560,
    "start_time": "2022-05-15T09:16:06.800Z"
   },
   {
    "duration": 22,
    "start_time": "2022-05-15T09:16:09.365Z"
   },
   {
    "duration": 37,
    "start_time": "2022-05-15T09:16:09.391Z"
   },
   {
    "duration": 23,
    "start_time": "2022-05-15T09:16:09.432Z"
   },
   {
    "duration": 16,
    "start_time": "2022-05-15T09:16:09.457Z"
   },
   {
    "duration": 42,
    "start_time": "2022-05-15T09:16:09.475Z"
   },
   {
    "duration": 11,
    "start_time": "2022-05-15T09:16:09.520Z"
   },
   {
    "duration": 35,
    "start_time": "2022-05-15T09:16:09.533Z"
   },
   {
    "duration": 27,
    "start_time": "2022-05-15T09:16:09.571Z"
   },
   {
    "duration": 12,
    "start_time": "2022-05-15T09:16:09.604Z"
   },
   {
    "duration": 25,
    "start_time": "2022-05-15T09:16:09.618Z"
   },
   {
    "duration": 60,
    "start_time": "2022-05-15T09:16:09.645Z"
   },
   {
    "duration": 13,
    "start_time": "2022-05-15T09:16:09.708Z"
   },
   {
    "duration": 46,
    "start_time": "2022-05-15T09:16:09.723Z"
   },
   {
    "duration": 11,
    "start_time": "2022-05-15T09:16:09.771Z"
   },
   {
    "duration": 219,
    "start_time": "2022-05-15T09:16:09.784Z"
   },
   {
    "duration": 10,
    "start_time": "2022-05-15T09:16:10.005Z"
   },
   {
    "duration": 13,
    "start_time": "2022-05-15T09:16:10.017Z"
   },
   {
    "duration": 20,
    "start_time": "2022-05-15T09:16:10.055Z"
   },
   {
    "duration": 72,
    "start_time": "2022-05-15T09:16:10.077Z"
   },
   {
    "duration": 24,
    "start_time": "2022-05-15T09:16:10.151Z"
   },
   {
    "duration": 51,
    "start_time": "2022-05-15T09:16:10.178Z"
   },
   {
    "duration": 33,
    "start_time": "2022-05-15T09:16:10.231Z"
   },
   {
    "duration": 48,
    "start_time": "2022-05-15T09:16:10.266Z"
   },
   {
    "duration": 74,
    "start_time": "2022-05-15T09:16:10.316Z"
   },
   {
    "duration": 12,
    "start_time": "2022-05-15T09:16:10.392Z"
   },
   {
    "duration": 43,
    "start_time": "2022-05-15T09:16:10.406Z"
   },
   {
    "duration": 29,
    "start_time": "2022-05-15T09:16:10.462Z"
   },
   {
    "duration": 21,
    "start_time": "2022-05-15T09:16:10.494Z"
   },
   {
    "duration": 44,
    "start_time": "2022-05-15T09:16:10.517Z"
   },
   {
    "duration": 17,
    "start_time": "2022-05-15T09:16:10.563Z"
   },
   {
    "duration": 17,
    "start_time": "2022-05-15T09:16:10.583Z"
   },
   {
    "duration": 16,
    "start_time": "2022-05-15T09:16:10.603Z"
   },
   {
    "duration": 58,
    "start_time": "2022-05-15T09:16:10.620Z"
   },
   {
    "duration": 21,
    "start_time": "2022-05-15T09:16:10.681Z"
   },
   {
    "duration": 158,
    "start_time": "2022-05-15T09:16:10.704Z"
   },
   {
    "duration": 57,
    "start_time": "2022-05-15T09:16:10.870Z"
   },
   {
    "duration": 78,
    "start_time": "2022-05-15T09:16:10.930Z"
   },
   {
    "duration": 29,
    "start_time": "2022-05-15T09:16:11.010Z"
   },
   {
    "duration": 78,
    "start_time": "2022-05-15T09:16:11.041Z"
   },
   {
    "duration": 47,
    "start_time": "2022-05-15T09:16:11.121Z"
   },
   {
    "duration": 64,
    "start_time": "2022-05-15T09:16:11.170Z"
   },
   {
    "duration": 43,
    "start_time": "2022-05-15T09:16:11.236Z"
   },
   {
    "duration": 23,
    "start_time": "2022-05-15T09:16:11.282Z"
   },
   {
    "duration": 55,
    "start_time": "2022-05-15T09:16:11.307Z"
   },
   {
    "duration": 8,
    "start_time": "2022-05-15T09:16:11.363Z"
   },
   {
    "duration": 35,
    "start_time": "2022-05-15T09:16:11.376Z"
   },
   {
    "duration": 11,
    "start_time": "2022-05-15T09:16:11.413Z"
   },
   {
    "duration": 8,
    "start_time": "2022-05-15T09:16:11.427Z"
   },
   {
    "duration": 52,
    "start_time": "2022-05-15T09:16:11.437Z"
   },
   {
    "duration": 31,
    "start_time": "2022-05-15T09:16:11.492Z"
   },
   {
    "duration": 66,
    "start_time": "2022-05-15T09:16:11.525Z"
   },
   {
    "duration": 41,
    "start_time": "2022-05-15T09:16:11.594Z"
   },
   {
    "duration": 31,
    "start_time": "2022-05-15T09:16:11.638Z"
   },
   {
    "duration": 63,
    "start_time": "2022-05-15T09:16:11.672Z"
   },
   {
    "duration": 8,
    "start_time": "2022-05-15T09:16:11.737Z"
   },
   {
    "duration": 49,
    "start_time": "2022-05-15T09:16:11.756Z"
   },
   {
    "duration": 20,
    "start_time": "2022-05-15T09:16:11.807Z"
   },
   {
    "duration": 46,
    "start_time": "2022-05-15T09:16:11.830Z"
   },
   {
    "duration": 967,
    "start_time": "2022-05-15T09:16:11.879Z"
   },
   {
    "duration": 27,
    "start_time": "2022-05-15T09:16:12.848Z"
   },
   {
    "duration": 728,
    "start_time": "2022-05-15T09:26:22.473Z"
   },
   {
    "duration": 14,
    "start_time": "2022-05-15T09:26:23.204Z"
   },
   {
    "duration": 59,
    "start_time": "2022-05-15T09:26:23.220Z"
   },
   {
    "duration": 6,
    "start_time": "2022-05-15T09:26:23.282Z"
   },
   {
    "duration": 8,
    "start_time": "2022-05-15T09:26:23.290Z"
   },
   {
    "duration": 17,
    "start_time": "2022-05-15T09:26:23.300Z"
   },
   {
    "duration": 9,
    "start_time": "2022-05-15T09:26:23.319Z"
   },
   {
    "duration": 22,
    "start_time": "2022-05-15T09:26:23.358Z"
   },
   {
    "duration": 10,
    "start_time": "2022-05-15T09:26:23.383Z"
   },
   {
    "duration": 12,
    "start_time": "2022-05-15T09:26:23.398Z"
   },
   {
    "duration": 14,
    "start_time": "2022-05-15T09:26:23.412Z"
   },
   {
    "duration": 51,
    "start_time": "2022-05-15T09:26:23.428Z"
   },
   {
    "duration": 10,
    "start_time": "2022-05-15T09:26:23.481Z"
   },
   {
    "duration": 44,
    "start_time": "2022-05-15T09:26:23.494Z"
   },
   {
    "duration": 8,
    "start_time": "2022-05-15T09:26:23.552Z"
   },
   {
    "duration": 38,
    "start_time": "2022-05-15T09:26:23.562Z"
   },
   {
    "duration": 10,
    "start_time": "2022-05-15T09:26:23.602Z"
   },
   {
    "duration": 10,
    "start_time": "2022-05-15T09:26:23.614Z"
   },
   {
    "duration": 24,
    "start_time": "2022-05-15T09:26:23.653Z"
   },
   {
    "duration": 53,
    "start_time": "2022-05-15T09:26:23.679Z"
   },
   {
    "duration": 35,
    "start_time": "2022-05-15T09:26:23.734Z"
   },
   {
    "duration": 30,
    "start_time": "2022-05-15T09:26:23.771Z"
   },
   {
    "duration": 18,
    "start_time": "2022-05-15T09:26:23.803Z"
   },
   {
    "duration": 64,
    "start_time": "2022-05-15T09:26:23.823Z"
   },
   {
    "duration": 33,
    "start_time": "2022-05-15T09:26:23.890Z"
   },
   {
    "duration": 35,
    "start_time": "2022-05-15T09:26:23.925Z"
   },
   {
    "duration": 55,
    "start_time": "2022-05-15T09:26:23.964Z"
   },
   {
    "duration": 14,
    "start_time": "2022-05-15T09:26:24.025Z"
   },
   {
    "duration": 22,
    "start_time": "2022-05-15T09:26:24.052Z"
   },
   {
    "duration": 22,
    "start_time": "2022-05-15T09:26:24.077Z"
   },
   {
    "duration": 8,
    "start_time": "2022-05-15T09:26:24.101Z"
   },
   {
    "duration": 3,
    "start_time": "2022-05-15T09:26:24.112Z"
   },
   {
    "duration": 26,
    "start_time": "2022-05-15T09:26:24.152Z"
   },
   {
    "duration": 38,
    "start_time": "2022-05-15T09:26:24.181Z"
   },
   {
    "duration": 41,
    "start_time": "2022-05-15T09:26:24.221Z"
   },
   {
    "duration": 126,
    "start_time": "2022-05-15T09:26:24.264Z"
   },
   {
    "duration": 65,
    "start_time": "2022-05-15T09:26:24.392Z"
   },
   {
    "duration": 66,
    "start_time": "2022-05-15T09:26:24.458Z"
   },
   {
    "duration": 53,
    "start_time": "2022-05-15T09:26:24.526Z"
   },
   {
    "duration": 44,
    "start_time": "2022-05-15T09:26:24.582Z"
   },
   {
    "duration": 69,
    "start_time": "2022-05-15T09:26:24.629Z"
   },
   {
    "duration": 71,
    "start_time": "2022-05-15T09:26:24.700Z"
   },
   {
    "duration": 34,
    "start_time": "2022-05-15T09:26:24.773Z"
   },
   {
    "duration": 6,
    "start_time": "2022-05-15T09:26:24.809Z"
   },
   {
    "duration": 71,
    "start_time": "2022-05-15T09:26:24.817Z"
   },
   {
    "duration": 7,
    "start_time": "2022-05-15T09:26:24.889Z"
   },
   {
    "duration": 10,
    "start_time": "2022-05-15T09:26:24.898Z"
   },
   {
    "duration": 6,
    "start_time": "2022-05-15T09:26:24.910Z"
   },
   {
    "duration": 39,
    "start_time": "2022-05-15T09:26:24.918Z"
   },
   {
    "duration": 45,
    "start_time": "2022-05-15T09:26:24.959Z"
   },
   {
    "duration": 31,
    "start_time": "2022-05-15T09:26:25.006Z"
   },
   {
    "duration": 50,
    "start_time": "2022-05-15T09:26:25.039Z"
   },
   {
    "duration": 28,
    "start_time": "2022-05-15T09:26:25.091Z"
   },
   {
    "duration": 17,
    "start_time": "2022-05-15T09:26:25.121Z"
   },
   {
    "duration": 52,
    "start_time": "2022-05-15T09:26:25.156Z"
   },
   {
    "duration": 7,
    "start_time": "2022-05-15T09:26:25.210Z"
   },
   {
    "duration": 62,
    "start_time": "2022-05-15T09:26:25.219Z"
   },
   {
    "duration": 20,
    "start_time": "2022-05-15T09:26:25.283Z"
   },
   {
    "duration": 23,
    "start_time": "2022-05-15T09:26:25.305Z"
   },
   {
    "duration": 954,
    "start_time": "2022-05-15T09:26:25.329Z"
   },
   {
    "duration": 16,
    "start_time": "2022-05-15T09:26:26.286Z"
   },
   {
    "duration": 23,
    "start_time": "2022-05-15T09:48:51.927Z"
   },
   {
    "duration": 686,
    "start_time": "2022-05-15T09:51:29.312Z"
   },
   {
    "duration": 15,
    "start_time": "2022-05-15T09:53:44.456Z"
   },
   {
    "duration": 6,
    "start_time": "2022-05-15T09:54:58.556Z"
   },
   {
    "duration": 7,
    "start_time": "2022-05-15T09:56:04.749Z"
   },
   {
    "duration": 2117,
    "start_time": "2022-05-15T10:03:27.270Z"
   },
   {
    "duration": 154,
    "start_time": "2022-05-15T10:03:39.102Z"
   },
   {
    "duration": 669,
    "start_time": "2022-05-15T10:03:45.353Z"
   },
   {
    "duration": 39,
    "start_time": "2022-05-15T10:03:46.025Z"
   },
   {
    "duration": 37,
    "start_time": "2022-05-15T10:03:46.066Z"
   },
   {
    "duration": 11,
    "start_time": "2022-05-15T10:03:46.106Z"
   },
   {
    "duration": 45,
    "start_time": "2022-05-15T10:03:46.119Z"
   },
   {
    "duration": 15,
    "start_time": "2022-05-15T10:03:46.166Z"
   },
   {
    "duration": 13,
    "start_time": "2022-05-15T10:03:46.184Z"
   },
   {
    "duration": 18,
    "start_time": "2022-05-15T10:03:46.200Z"
   },
   {
    "duration": 33,
    "start_time": "2022-05-15T10:03:46.221Z"
   },
   {
    "duration": 124,
    "start_time": "2022-05-15T10:03:46.257Z"
   },
   {
    "duration": 124,
    "start_time": "2022-05-15T10:03:50.148Z"
   },
   {
    "duration": 22,
    "start_time": "2022-05-15T10:04:04.442Z"
   },
   {
    "duration": 128,
    "start_time": "2022-05-15T10:05:38.056Z"
   },
   {
    "duration": 44,
    "start_time": "2022-05-15T10:10:58.608Z"
   },
   {
    "duration": 41,
    "start_time": "2022-05-15T10:12:18.245Z"
   },
   {
    "duration": 49,
    "start_time": "2022-05-15T10:15:44.888Z"
   },
   {
    "duration": 25,
    "start_time": "2022-05-15T10:16:39.414Z"
   },
   {
    "duration": 36,
    "start_time": "2022-05-15T10:17:31.985Z"
   },
   {
    "duration": 38,
    "start_time": "2022-05-15T10:17:42.932Z"
   },
   {
    "duration": 17,
    "start_time": "2022-05-15T10:18:23.160Z"
   },
   {
    "duration": 20,
    "start_time": "2022-05-15T10:18:29.441Z"
   },
   {
    "duration": 741,
    "start_time": "2022-05-15T10:18:39.520Z"
   },
   {
    "duration": 16,
    "start_time": "2022-05-15T10:18:40.264Z"
   },
   {
    "duration": 33,
    "start_time": "2022-05-15T10:18:40.283Z"
   },
   {
    "duration": 7,
    "start_time": "2022-05-15T10:18:40.354Z"
   },
   {
    "duration": 21,
    "start_time": "2022-05-15T10:18:40.363Z"
   },
   {
    "duration": 12,
    "start_time": "2022-05-15T10:18:40.386Z"
   },
   {
    "duration": 11,
    "start_time": "2022-05-15T10:18:40.400Z"
   },
   {
    "duration": 47,
    "start_time": "2022-05-15T10:18:40.413Z"
   },
   {
    "duration": 27,
    "start_time": "2022-05-15T10:18:40.463Z"
   },
   {
    "duration": 18,
    "start_time": "2022-05-15T10:18:40.493Z"
   },
   {
    "duration": 11,
    "start_time": "2022-05-15T10:18:40.513Z"
   },
   {
    "duration": 45,
    "start_time": "2022-05-15T10:18:40.551Z"
   },
   {
    "duration": 60,
    "start_time": "2022-05-15T10:18:40.598Z"
   },
   {
    "duration": 9,
    "start_time": "2022-05-15T10:18:40.661Z"
   },
   {
    "duration": 11,
    "start_time": "2022-05-15T10:18:40.673Z"
   },
   {
    "duration": 18,
    "start_time": "2022-05-15T10:18:40.686Z"
   },
   {
    "duration": 94,
    "start_time": "2022-05-15T10:18:40.707Z"
   },
   {
    "duration": 50,
    "start_time": "2022-05-15T10:18:40.803Z"
   },
   {
    "duration": 24,
    "start_time": "2022-05-15T10:18:40.855Z"
   },
   {
    "duration": 16,
    "start_time": "2022-05-15T10:18:40.882Z"
   },
   {
    "duration": 32,
    "start_time": "2022-05-15T10:20:15.660Z"
   },
   {
    "duration": 12,
    "start_time": "2022-05-15T10:20:42.115Z"
   },
   {
    "duration": 28,
    "start_time": "2022-05-15T10:25:59.980Z"
   },
   {
    "duration": 10,
    "start_time": "2022-05-15T10:26:49.395Z"
   },
   {
    "duration": 39,
    "start_time": "2022-05-15T10:29:54.339Z"
   },
   {
    "duration": 113,
    "start_time": "2022-05-15T10:39:05.540Z"
   },
   {
    "duration": 55,
    "start_time": "2022-05-15T10:43:22.505Z"
   },
   {
    "duration": 84,
    "start_time": "2022-05-15T10:48:21.484Z"
   },
   {
    "duration": 47,
    "start_time": "2022-05-15T10:48:37.632Z"
   },
   {
    "duration": 33,
    "start_time": "2022-05-15T10:52:54.890Z"
   },
   {
    "duration": 37,
    "start_time": "2022-05-15T10:53:00.461Z"
   },
   {
    "duration": 39,
    "start_time": "2022-05-15T10:56:44.384Z"
   },
   {
    "duration": 45,
    "start_time": "2022-05-15T10:56:49.664Z"
   },
   {
    "duration": 122,
    "start_time": "2022-05-15T10:58:44.799Z"
   },
   {
    "duration": 86,
    "start_time": "2022-05-15T10:58:54.473Z"
   },
   {
    "duration": 84,
    "start_time": "2022-05-15T10:59:13.552Z"
   },
   {
    "duration": 110,
    "start_time": "2022-05-15T10:59:25.635Z"
   },
   {
    "duration": 725,
    "start_time": "2022-05-15T10:59:29.551Z"
   },
   {
    "duration": 15,
    "start_time": "2022-05-15T10:59:30.279Z"
   },
   {
    "duration": 49,
    "start_time": "2022-05-15T10:59:30.297Z"
   },
   {
    "duration": 7,
    "start_time": "2022-05-15T10:59:30.353Z"
   },
   {
    "duration": 40,
    "start_time": "2022-05-15T10:59:30.362Z"
   },
   {
    "duration": 17,
    "start_time": "2022-05-15T10:59:30.405Z"
   },
   {
    "duration": 30,
    "start_time": "2022-05-15T10:59:30.424Z"
   },
   {
    "duration": 14,
    "start_time": "2022-05-15T10:59:30.456Z"
   },
   {
    "duration": 13,
    "start_time": "2022-05-15T10:59:30.473Z"
   },
   {
    "duration": 17,
    "start_time": "2022-05-15T10:59:30.490Z"
   },
   {
    "duration": 48,
    "start_time": "2022-05-15T10:59:30.510Z"
   },
   {
    "duration": 47,
    "start_time": "2022-05-15T10:59:30.560Z"
   },
   {
    "duration": 66,
    "start_time": "2022-05-15T10:59:30.610Z"
   },
   {
    "duration": 10,
    "start_time": "2022-05-15T10:59:30.678Z"
   },
   {
    "duration": 16,
    "start_time": "2022-05-15T10:59:30.690Z"
   },
   {
    "duration": 18,
    "start_time": "2022-05-15T10:59:30.708Z"
   },
   {
    "duration": 50,
    "start_time": "2022-05-15T10:59:30.752Z"
   },
   {
    "duration": 59,
    "start_time": "2022-05-15T10:59:30.805Z"
   },
   {
    "duration": 33,
    "start_time": "2022-05-15T10:59:30.866Z"
   },
   {
    "duration": 51,
    "start_time": "2022-05-15T10:59:30.901Z"
   },
   {
    "duration": 33,
    "start_time": "2022-05-15T10:59:30.955Z"
   },
   {
    "duration": 33,
    "start_time": "2022-05-15T10:59:30.991Z"
   },
   {
    "duration": 13,
    "start_time": "2022-05-15T10:59:31.051Z"
   },
   {
    "duration": 58,
    "start_time": "2022-05-15T10:59:31.067Z"
   },
   {
    "duration": 25,
    "start_time": "2022-05-15T10:59:31.128Z"
   },
   {
    "duration": 23,
    "start_time": "2022-05-15T10:59:31.156Z"
   },
   {
    "duration": 36,
    "start_time": "2022-05-15T10:59:31.183Z"
   },
   {
    "duration": 12,
    "start_time": "2022-05-15T10:59:31.259Z"
   },
   {
    "duration": 87,
    "start_time": "2022-05-15T10:59:31.275Z"
   },
   {
    "duration": 21,
    "start_time": "2022-05-15T10:59:31.365Z"
   },
   {
    "duration": 181,
    "start_time": "2022-05-15T10:59:31.389Z"
   },
   {
    "duration": 90,
    "start_time": "2022-05-15T10:59:31.572Z"
   },
   {
    "duration": 110,
    "start_time": "2022-05-15T10:59:31.665Z"
   },
   {
    "duration": 40,
    "start_time": "2022-05-15T10:59:31.777Z"
   },
   {
    "duration": 62,
    "start_time": "2022-05-15T10:59:31.820Z"
   },
   {
    "duration": 34,
    "start_time": "2022-05-15T10:59:31.885Z"
   },
   {
    "duration": 107,
    "start_time": "2022-05-15T10:59:31.922Z"
   },
   {
    "duration": 0,
    "start_time": "2022-05-15T10:59:32.032Z"
   },
   {
    "duration": 0,
    "start_time": "2022-05-15T10:59:32.034Z"
   },
   {
    "duration": 0,
    "start_time": "2022-05-15T10:59:32.036Z"
   },
   {
    "duration": 0,
    "start_time": "2022-05-15T10:59:32.038Z"
   },
   {
    "duration": 0,
    "start_time": "2022-05-15T10:59:32.040Z"
   },
   {
    "duration": 0,
    "start_time": "2022-05-15T10:59:32.042Z"
   },
   {
    "duration": 0,
    "start_time": "2022-05-15T10:59:32.043Z"
   },
   {
    "duration": 0,
    "start_time": "2022-05-15T10:59:32.045Z"
   },
   {
    "duration": 0,
    "start_time": "2022-05-15T10:59:32.047Z"
   },
   {
    "duration": 0,
    "start_time": "2022-05-15T10:59:32.049Z"
   },
   {
    "duration": 0,
    "start_time": "2022-05-15T10:59:32.052Z"
   },
   {
    "duration": 0,
    "start_time": "2022-05-15T10:59:32.054Z"
   },
   {
    "duration": 0,
    "start_time": "2022-05-15T10:59:32.056Z"
   },
   {
    "duration": 0,
    "start_time": "2022-05-15T10:59:32.058Z"
   },
   {
    "duration": 0,
    "start_time": "2022-05-15T10:59:32.060Z"
   },
   {
    "duration": 0,
    "start_time": "2022-05-15T10:59:32.063Z"
   },
   {
    "duration": 0,
    "start_time": "2022-05-15T10:59:32.065Z"
   },
   {
    "duration": 0,
    "start_time": "2022-05-15T10:59:32.067Z"
   },
   {
    "duration": 0,
    "start_time": "2022-05-15T10:59:32.069Z"
   },
   {
    "duration": 92,
    "start_time": "2022-05-15T10:59:38.728Z"
   },
   {
    "duration": 59,
    "start_time": "2022-05-15T10:59:55.159Z"
   },
   {
    "duration": 54,
    "start_time": "2022-05-15T11:00:15.460Z"
   },
   {
    "duration": 55,
    "start_time": "2022-05-15T11:01:44.870Z"
   },
   {
    "duration": 55,
    "start_time": "2022-05-15T11:01:51.928Z"
   },
   {
    "duration": 84,
    "start_time": "2022-05-15T11:02:17.393Z"
   },
   {
    "duration": 92,
    "start_time": "2022-05-15T11:36:17.365Z"
   },
   {
    "duration": 30,
    "start_time": "2022-05-15T11:39:21.287Z"
   },
   {
    "duration": 21,
    "start_time": "2022-05-15T11:39:57.799Z"
   },
   {
    "duration": 686,
    "start_time": "2022-05-15T11:40:03.669Z"
   },
   {
    "duration": 15,
    "start_time": "2022-05-15T11:40:04.358Z"
   },
   {
    "duration": 30,
    "start_time": "2022-05-15T11:40:04.375Z"
   },
   {
    "duration": 44,
    "start_time": "2022-05-15T11:40:04.408Z"
   },
   {
    "duration": 19,
    "start_time": "2022-05-15T11:40:04.454Z"
   },
   {
    "duration": 12,
    "start_time": "2022-05-15T11:40:04.475Z"
   },
   {
    "duration": 10,
    "start_time": "2022-05-15T11:40:04.490Z"
   },
   {
    "duration": 10,
    "start_time": "2022-05-15T11:40:04.503Z"
   },
   {
    "duration": 12,
    "start_time": "2022-05-15T11:40:04.552Z"
   },
   {
    "duration": 17,
    "start_time": "2022-05-15T11:40:04.570Z"
   },
   {
    "duration": 12,
    "start_time": "2022-05-15T11:40:04.589Z"
   },
   {
    "duration": 88,
    "start_time": "2022-05-15T11:40:04.603Z"
   },
   {
    "duration": 62,
    "start_time": "2022-05-15T11:40:04.693Z"
   },
   {
    "duration": 11,
    "start_time": "2022-05-15T11:40:04.758Z"
   },
   {
    "duration": 12,
    "start_time": "2022-05-15T11:40:04.772Z"
   },
   {
    "duration": 17,
    "start_time": "2022-05-15T11:40:04.787Z"
   },
   {
    "duration": 93,
    "start_time": "2022-05-15T11:40:04.807Z"
   },
   {
    "duration": 25,
    "start_time": "2022-05-15T11:40:04.902Z"
   },
   {
    "duration": 25,
    "start_time": "2022-05-15T11:40:04.952Z"
   },
   {
    "duration": 15,
    "start_time": "2022-05-15T11:40:04.979Z"
   },
   {
    "duration": 63,
    "start_time": "2022-05-15T11:40:04.997Z"
   },
   {
    "duration": 33,
    "start_time": "2022-05-15T11:40:05.063Z"
   },
   {
    "duration": 13,
    "start_time": "2022-05-15T11:40:05.099Z"
   },
   {
    "duration": 41,
    "start_time": "2022-05-15T11:40:05.151Z"
   },
   {
    "duration": 19,
    "start_time": "2022-05-15T11:40:05.194Z"
   },
   {
    "duration": 49,
    "start_time": "2022-05-15T11:40:05.216Z"
   },
   {
    "duration": 21,
    "start_time": "2022-05-15T11:40:05.268Z"
   },
   {
    "duration": 7,
    "start_time": "2022-05-15T11:40:05.294Z"
   },
   {
    "duration": 72,
    "start_time": "2022-05-15T11:40:05.303Z"
   },
   {
    "duration": 15,
    "start_time": "2022-05-15T11:40:05.377Z"
   },
   {
    "duration": 136,
    "start_time": "2022-05-15T11:40:05.394Z"
   },
   {
    "duration": 75,
    "start_time": "2022-05-15T11:40:05.532Z"
   },
   {
    "duration": 90,
    "start_time": "2022-05-15T11:40:05.609Z"
   },
   {
    "duration": 27,
    "start_time": "2022-05-15T11:40:05.701Z"
   },
   {
    "duration": 64,
    "start_time": "2022-05-15T11:40:05.730Z"
   },
   {
    "duration": 62,
    "start_time": "2022-05-15T11:40:05.797Z"
   },
   {
    "duration": 1665,
    "start_time": "2022-05-15T11:40:05.861Z"
   },
   {
    "duration": 0,
    "start_time": "2022-05-15T11:40:07.528Z"
   },
   {
    "duration": 23,
    "start_time": "2022-05-15T11:40:10.234Z"
   },
   {
    "duration": 1455,
    "start_time": "2022-05-15T11:40:31.966Z"
   },
   {
    "duration": 57,
    "start_time": "2022-05-15T11:41:28.609Z"
   },
   {
    "duration": 29,
    "start_time": "2022-05-15T11:41:37.519Z"
   },
   {
    "duration": 40,
    "start_time": "2022-05-15T11:48:59.711Z"
   },
   {
    "duration": 29,
    "start_time": "2022-05-15T11:49:25.249Z"
   },
   {
    "duration": 40,
    "start_time": "2022-05-15T11:49:34.685Z"
   },
   {
    "duration": 45,
    "start_time": "2022-05-15T11:50:02.305Z"
   },
   {
    "duration": 20,
    "start_time": "2022-05-15T12:09:06.222Z"
   },
   {
    "duration": 683,
    "start_time": "2022-05-15T12:09:26.509Z"
   },
   {
    "duration": 16,
    "start_time": "2022-05-15T12:09:27.196Z"
   },
   {
    "duration": 61,
    "start_time": "2022-05-15T12:09:27.214Z"
   },
   {
    "duration": 6,
    "start_time": "2022-05-15T12:09:27.278Z"
   },
   {
    "duration": 21,
    "start_time": "2022-05-15T12:09:27.286Z"
   },
   {
    "duration": 45,
    "start_time": "2022-05-15T12:09:27.309Z"
   },
   {
    "duration": 12,
    "start_time": "2022-05-15T12:09:27.356Z"
   },
   {
    "duration": 15,
    "start_time": "2022-05-15T12:09:27.370Z"
   },
   {
    "duration": 15,
    "start_time": "2022-05-15T12:09:27.388Z"
   },
   {
    "duration": 22,
    "start_time": "2022-05-15T12:09:27.407Z"
   },
   {
    "duration": 26,
    "start_time": "2022-05-15T12:09:27.431Z"
   },
   {
    "duration": 43,
    "start_time": "2022-05-15T12:09:27.460Z"
   },
   {
    "duration": 63,
    "start_time": "2022-05-15T12:09:27.505Z"
   },
   {
    "duration": 10,
    "start_time": "2022-05-15T12:09:27.570Z"
   },
   {
    "duration": 11,
    "start_time": "2022-05-15T12:09:27.582Z"
   },
   {
    "duration": 17,
    "start_time": "2022-05-15T12:09:27.595Z"
   },
   {
    "duration": 81,
    "start_time": "2022-05-15T12:09:27.614Z"
   },
   {
    "duration": 26,
    "start_time": "2022-05-15T12:09:27.697Z"
   },
   {
    "duration": 48,
    "start_time": "2022-05-15T12:09:27.725Z"
   },
   {
    "duration": 15,
    "start_time": "2022-05-15T12:09:27.775Z"
   },
   {
    "duration": 63,
    "start_time": "2022-05-15T12:09:27.792Z"
   },
   {
    "duration": 31,
    "start_time": "2022-05-15T12:09:27.857Z"
   },
   {
    "duration": 12,
    "start_time": "2022-05-15T12:09:27.891Z"
   },
   {
    "duration": 69,
    "start_time": "2022-05-15T12:09:27.905Z"
   },
   {
    "duration": 14,
    "start_time": "2022-05-15T12:09:27.976Z"
   },
   {
    "duration": 26,
    "start_time": "2022-05-15T12:09:27.992Z"
   },
   {
    "duration": 45,
    "start_time": "2022-05-15T12:09:28.020Z"
   },
   {
    "duration": 8,
    "start_time": "2022-05-15T12:09:28.070Z"
   },
   {
    "duration": 36,
    "start_time": "2022-05-15T12:09:28.080Z"
   },
   {
    "duration": 41,
    "start_time": "2022-05-15T12:09:28.118Z"
   },
   {
    "duration": 130,
    "start_time": "2022-05-15T12:09:28.161Z"
   },
   {
    "duration": 65,
    "start_time": "2022-05-15T12:09:28.293Z"
   },
   {
    "duration": 67,
    "start_time": "2022-05-15T12:09:28.360Z"
   },
   {
    "duration": 44,
    "start_time": "2022-05-15T12:09:28.429Z"
   },
   {
    "duration": 39,
    "start_time": "2022-05-15T12:09:28.475Z"
   },
   {
    "duration": 60,
    "start_time": "2022-05-15T12:09:28.516Z"
   },
   {
    "duration": 54,
    "start_time": "2022-05-15T12:09:28.578Z"
   },
   {
    "duration": 38,
    "start_time": "2022-05-15T12:09:28.652Z"
   },
   {
    "duration": 8,
    "start_time": "2022-05-15T12:17:31.621Z"
   },
   {
    "duration": 749,
    "start_time": "2022-05-15T12:17:45.648Z"
   },
   {
    "duration": 16,
    "start_time": "2022-05-15T12:17:46.400Z"
   },
   {
    "duration": 61,
    "start_time": "2022-05-15T12:17:46.419Z"
   },
   {
    "duration": 8,
    "start_time": "2022-05-15T12:17:46.483Z"
   },
   {
    "duration": 22,
    "start_time": "2022-05-15T12:17:46.493Z"
   },
   {
    "duration": 52,
    "start_time": "2022-05-15T12:17:46.518Z"
   },
   {
    "duration": 13,
    "start_time": "2022-05-15T12:17:46.573Z"
   },
   {
    "duration": 13,
    "start_time": "2022-05-15T12:17:46.589Z"
   },
   {
    "duration": 14,
    "start_time": "2022-05-15T12:17:46.605Z"
   },
   {
    "duration": 46,
    "start_time": "2022-05-15T12:17:46.623Z"
   },
   {
    "duration": 10,
    "start_time": "2022-05-15T12:17:46.671Z"
   },
   {
    "duration": 69,
    "start_time": "2022-05-15T12:17:46.683Z"
   },
   {
    "duration": 47,
    "start_time": "2022-05-15T12:17:46.755Z"
   },
   {
    "duration": 11,
    "start_time": "2022-05-15T12:17:46.804Z"
   },
   {
    "duration": 43,
    "start_time": "2022-05-15T12:17:46.818Z"
   },
   {
    "duration": 29,
    "start_time": "2022-05-15T12:17:46.863Z"
   },
   {
    "duration": 71,
    "start_time": "2022-05-15T12:17:46.895Z"
   },
   {
    "duration": 29,
    "start_time": "2022-05-15T12:17:46.968Z"
   },
   {
    "duration": 64,
    "start_time": "2022-05-15T12:17:46.999Z"
   },
   {
    "duration": 18,
    "start_time": "2022-05-15T12:17:47.066Z"
   },
   {
    "duration": 33,
    "start_time": "2022-05-15T12:17:47.086Z"
   },
   {
    "duration": 60,
    "start_time": "2022-05-15T12:17:47.121Z"
   },
   {
    "duration": 12,
    "start_time": "2022-05-15T12:17:47.184Z"
   },
   {
    "duration": 72,
    "start_time": "2022-05-15T12:17:47.198Z"
   },
   {
    "duration": 18,
    "start_time": "2022-05-15T12:17:47.273Z"
   },
   {
    "duration": 22,
    "start_time": "2022-05-15T12:17:47.293Z"
   },
   {
    "duration": 48,
    "start_time": "2022-05-15T12:17:47.317Z"
   },
   {
    "duration": 10,
    "start_time": "2022-05-15T12:17:47.371Z"
   },
   {
    "duration": 37,
    "start_time": "2022-05-15T12:17:47.383Z"
   },
   {
    "duration": 48,
    "start_time": "2022-05-15T12:17:47.423Z"
   },
   {
    "duration": 132,
    "start_time": "2022-05-15T12:17:47.474Z"
   },
   {
    "duration": 67,
    "start_time": "2022-05-15T12:17:47.608Z"
   },
   {
    "duration": 91,
    "start_time": "2022-05-15T12:17:47.677Z"
   },
   {
    "duration": 111,
    "start_time": "2022-05-15T12:17:47.770Z"
   },
   {
    "duration": 42,
    "start_time": "2022-05-15T12:17:47.884Z"
   },
   {
    "duration": 55,
    "start_time": "2022-05-15T12:17:47.929Z"
   },
   {
    "duration": 80,
    "start_time": "2022-05-15T12:17:47.986Z"
   },
   {
    "duration": 32,
    "start_time": "2022-05-15T12:17:48.069Z"
   },
   {
    "duration": 7,
    "start_time": "2022-05-15T12:17:48.103Z"
   },
   {
    "duration": 66,
    "start_time": "2022-05-15T12:17:48.111Z"
   },
   {
    "duration": 0,
    "start_time": "2022-05-15T12:17:48.180Z"
   },
   {
    "duration": 0,
    "start_time": "2022-05-15T12:17:48.182Z"
   },
   {
    "duration": 0,
    "start_time": "2022-05-15T12:17:48.183Z"
   },
   {
    "duration": 0,
    "start_time": "2022-05-15T12:17:48.185Z"
   },
   {
    "duration": 0,
    "start_time": "2022-05-15T12:17:48.187Z"
   },
   {
    "duration": 0,
    "start_time": "2022-05-15T12:17:48.188Z"
   },
   {
    "duration": 0,
    "start_time": "2022-05-15T12:17:48.190Z"
   },
   {
    "duration": 0,
    "start_time": "2022-05-15T12:17:48.192Z"
   },
   {
    "duration": 0,
    "start_time": "2022-05-15T12:17:48.193Z"
   },
   {
    "duration": 0,
    "start_time": "2022-05-15T12:17:48.195Z"
   },
   {
    "duration": 0,
    "start_time": "2022-05-15T12:17:48.196Z"
   },
   {
    "duration": 0,
    "start_time": "2022-05-15T12:17:48.198Z"
   },
   {
    "duration": 0,
    "start_time": "2022-05-15T12:17:48.200Z"
   },
   {
    "duration": 0,
    "start_time": "2022-05-15T12:17:48.202Z"
   },
   {
    "duration": 0,
    "start_time": "2022-05-15T12:17:48.203Z"
   },
   {
    "duration": 0,
    "start_time": "2022-05-15T12:17:48.252Z"
   },
   {
    "duration": 36,
    "start_time": "2022-05-15T12:21:43.022Z"
   },
   {
    "duration": 7,
    "start_time": "2022-05-15T12:24:31.342Z"
   },
   {
    "duration": 7,
    "start_time": "2022-05-15T12:29:27.706Z"
   },
   {
    "duration": 7,
    "start_time": "2022-05-15T12:29:54.662Z"
   },
   {
    "duration": 714,
    "start_time": "2022-05-15T12:31:58.893Z"
   },
   {
    "duration": 42,
    "start_time": "2022-05-15T12:31:59.609Z"
   },
   {
    "duration": 31,
    "start_time": "2022-05-15T12:31:59.654Z"
   },
   {
    "duration": 6,
    "start_time": "2022-05-15T12:31:59.689Z"
   },
   {
    "duration": 60,
    "start_time": "2022-05-15T12:31:59.697Z"
   },
   {
    "duration": 12,
    "start_time": "2022-05-15T12:31:59.759Z"
   },
   {
    "duration": 8,
    "start_time": "2022-05-15T12:31:59.774Z"
   },
   {
    "duration": 10,
    "start_time": "2022-05-15T12:31:59.785Z"
   },
   {
    "duration": 55,
    "start_time": "2022-05-15T12:31:59.798Z"
   },
   {
    "duration": 18,
    "start_time": "2022-05-15T12:31:59.859Z"
   },
   {
    "duration": 17,
    "start_time": "2022-05-15T12:31:59.880Z"
   },
   {
    "duration": 74,
    "start_time": "2022-05-15T12:31:59.899Z"
   },
   {
    "duration": 39,
    "start_time": "2022-05-15T12:31:59.975Z"
   },
   {
    "duration": 37,
    "start_time": "2022-05-15T12:32:00.016Z"
   },
   {
    "duration": 11,
    "start_time": "2022-05-15T12:32:00.055Z"
   },
   {
    "duration": 20,
    "start_time": "2022-05-15T12:32:00.068Z"
   },
   {
    "duration": 80,
    "start_time": "2022-05-15T12:32:00.090Z"
   },
   {
    "duration": 29,
    "start_time": "2022-05-15T12:32:00.173Z"
   },
   {
    "duration": 54,
    "start_time": "2022-05-15T12:32:00.205Z"
   },
   {
    "duration": 16,
    "start_time": "2022-05-15T12:32:00.261Z"
   },
   {
    "duration": 43,
    "start_time": "2022-05-15T12:32:00.280Z"
   },
   {
    "duration": 56,
    "start_time": "2022-05-15T12:32:00.325Z"
   },
   {
    "duration": 14,
    "start_time": "2022-05-15T12:32:00.384Z"
   },
   {
    "duration": 70,
    "start_time": "2022-05-15T12:32:00.401Z"
   },
   {
    "duration": 22,
    "start_time": "2022-05-15T12:32:00.474Z"
   },
   {
    "duration": 21,
    "start_time": "2022-05-15T12:32:00.498Z"
   },
   {
    "duration": 50,
    "start_time": "2022-05-15T12:32:00.521Z"
   },
   {
    "duration": 9,
    "start_time": "2022-05-15T12:32:00.577Z"
   },
   {
    "duration": 71,
    "start_time": "2022-05-15T12:32:00.588Z"
   },
   {
    "duration": 17,
    "start_time": "2022-05-15T12:32:00.661Z"
   },
   {
    "duration": 141,
    "start_time": "2022-05-15T12:32:00.680Z"
   },
   {
    "duration": 70,
    "start_time": "2022-05-15T12:32:00.824Z"
   },
   {
    "duration": 85,
    "start_time": "2022-05-15T12:32:00.897Z"
   },
   {
    "duration": 27,
    "start_time": "2022-05-15T12:32:00.985Z"
   },
   {
    "duration": 73,
    "start_time": "2022-05-15T12:32:01.015Z"
   },
   {
    "duration": 62,
    "start_time": "2022-05-15T12:32:01.091Z"
   },
   {
    "duration": 57,
    "start_time": "2022-05-15T12:32:01.156Z"
   },
   {
    "duration": 83,
    "start_time": "2022-05-15T12:32:01.216Z"
   },
   {
    "duration": 9,
    "start_time": "2022-05-15T12:32:01.301Z"
   },
   {
    "duration": 65,
    "start_time": "2022-05-15T12:32:01.312Z"
   },
   {
    "duration": 7,
    "start_time": "2022-05-15T12:32:01.381Z"
   },
   {
    "duration": 26,
    "start_time": "2022-05-15T12:32:01.391Z"
   },
   {
    "duration": 6,
    "start_time": "2022-05-15T12:32:01.452Z"
   },
   {
    "duration": 12,
    "start_time": "2022-05-15T12:32:01.461Z"
   },
   {
    "duration": 35,
    "start_time": "2022-05-15T12:32:01.475Z"
   },
   {
    "duration": 56,
    "start_time": "2022-05-15T12:32:01.513Z"
   },
   {
    "duration": 36,
    "start_time": "2022-05-15T12:32:01.572Z"
   },
   {
    "duration": 57,
    "start_time": "2022-05-15T12:32:01.611Z"
   },
   {
    "duration": 23,
    "start_time": "2022-05-15T12:32:01.671Z"
   },
   {
    "duration": 79,
    "start_time": "2022-05-15T12:32:01.696Z"
   },
   {
    "duration": 9,
    "start_time": "2022-05-15T12:32:01.778Z"
   },
   {
    "duration": 33,
    "start_time": "2022-05-15T12:32:01.790Z"
   },
   {
    "duration": 0,
    "start_time": "2022-05-15T12:32:01.826Z"
   },
   {
    "duration": 0,
    "start_time": "2022-05-15T12:32:01.828Z"
   },
   {
    "duration": 1,
    "start_time": "2022-05-15T12:32:01.829Z"
   },
   {
    "duration": 0,
    "start_time": "2022-05-15T12:32:01.852Z"
   },
   {
    "duration": 761,
    "start_time": "2022-05-15T12:36:22.339Z"
   },
   {
    "duration": 15,
    "start_time": "2022-05-15T12:36:23.102Z"
   },
   {
    "duration": 59,
    "start_time": "2022-05-15T12:36:23.119Z"
   },
   {
    "duration": 9,
    "start_time": "2022-05-15T12:36:23.184Z"
   },
   {
    "duration": 58,
    "start_time": "2022-05-15T12:36:23.196Z"
   },
   {
    "duration": 17,
    "start_time": "2022-05-15T12:36:23.257Z"
   },
   {
    "duration": 7,
    "start_time": "2022-05-15T12:36:23.277Z"
   },
   {
    "duration": 15,
    "start_time": "2022-05-15T12:36:23.287Z"
   },
   {
    "duration": 49,
    "start_time": "2022-05-15T12:36:23.305Z"
   },
   {
    "duration": 18,
    "start_time": "2022-05-15T12:36:23.358Z"
   },
   {
    "duration": 13,
    "start_time": "2022-05-15T12:36:23.379Z"
   },
   {
    "duration": 80,
    "start_time": "2022-05-15T12:36:23.395Z"
   },
   {
    "duration": 77,
    "start_time": "2022-05-15T12:36:23.479Z"
   },
   {
    "duration": 14,
    "start_time": "2022-05-15T12:36:23.559Z"
   },
   {
    "duration": 13,
    "start_time": "2022-05-15T12:36:23.576Z"
   },
   {
    "duration": 17,
    "start_time": "2022-05-15T12:36:23.591Z"
   },
   {
    "duration": 86,
    "start_time": "2022-05-15T12:36:23.611Z"
   },
   {
    "duration": 28,
    "start_time": "2022-05-15T12:36:23.699Z"
   },
   {
    "duration": 24,
    "start_time": "2022-05-15T12:36:23.752Z"
   },
   {
    "duration": 14,
    "start_time": "2022-05-15T12:36:23.778Z"
   },
   {
    "duration": 66,
    "start_time": "2022-05-15T12:36:23.795Z"
   },
   {
    "duration": 32,
    "start_time": "2022-05-15T12:36:23.863Z"
   },
   {
    "duration": 13,
    "start_time": "2022-05-15T12:36:23.898Z"
   },
   {
    "duration": 74,
    "start_time": "2022-05-15T12:36:23.913Z"
   },
   {
    "duration": 18,
    "start_time": "2022-05-15T12:36:23.989Z"
   },
   {
    "duration": 45,
    "start_time": "2022-05-15T12:36:24.009Z"
   },
   {
    "duration": 35,
    "start_time": "2022-05-15T12:36:24.057Z"
   },
   {
    "duration": 13,
    "start_time": "2022-05-15T12:36:24.102Z"
   },
   {
    "duration": 94,
    "start_time": "2022-05-15T12:36:24.118Z"
   },
   {
    "duration": 42,
    "start_time": "2022-05-15T12:36:24.215Z"
   },
   {
    "duration": 178,
    "start_time": "2022-05-15T12:36:24.259Z"
   },
   {
    "duration": 97,
    "start_time": "2022-05-15T12:36:24.439Z"
   },
   {
    "duration": 121,
    "start_time": "2022-05-15T12:36:24.552Z"
   },
   {
    "duration": 30,
    "start_time": "2022-05-15T12:36:24.676Z"
   },
   {
    "duration": 72,
    "start_time": "2022-05-15T12:36:24.709Z"
   },
   {
    "duration": 34,
    "start_time": "2022-05-15T12:36:24.783Z"
   },
   {
    "duration": 81,
    "start_time": "2022-05-15T12:36:24.819Z"
   },
   {
    "duration": 65,
    "start_time": "2022-05-15T12:36:24.903Z"
   },
   {
    "duration": 7,
    "start_time": "2022-05-15T12:36:24.972Z"
   },
   {
    "duration": 91,
    "start_time": "2022-05-15T12:36:24.982Z"
   },
   {
    "duration": 9,
    "start_time": "2022-05-15T12:36:25.076Z"
   },
   {
    "duration": 6,
    "start_time": "2022-05-15T12:36:25.088Z"
   },
   {
    "duration": 77,
    "start_time": "2022-05-15T12:36:25.097Z"
   },
   {
    "duration": 33,
    "start_time": "2022-05-15T12:36:25.177Z"
   },
   {
    "duration": 63,
    "start_time": "2022-05-15T12:36:25.213Z"
   },
   {
    "duration": 30,
    "start_time": "2022-05-15T12:36:25.279Z"
   },
   {
    "duration": 44,
    "start_time": "2022-05-15T12:36:25.311Z"
   },
   {
    "duration": 59,
    "start_time": "2022-05-15T12:36:25.357Z"
   },
   {
    "duration": 36,
    "start_time": "2022-05-15T12:36:25.419Z"
   },
   {
    "duration": 55,
    "start_time": "2022-05-15T12:36:25.458Z"
   },
   {
    "duration": 53,
    "start_time": "2022-05-15T12:36:25.517Z"
   },
   {
    "duration": 35,
    "start_time": "2022-05-15T12:36:25.573Z"
   },
   {
    "duration": 944,
    "start_time": "2022-05-15T12:36:25.611Z"
   },
   {
    "duration": 16,
    "start_time": "2022-05-15T12:36:26.557Z"
   },
   {
    "duration": 20,
    "start_time": "2022-05-15T12:49:29.390Z"
   },
   {
    "duration": 756,
    "start_time": "2022-05-15T12:49:42.118Z"
   },
   {
    "duration": 16,
    "start_time": "2022-05-15T12:49:42.877Z"
   },
   {
    "duration": 59,
    "start_time": "2022-05-15T12:49:42.895Z"
   },
   {
    "duration": 8,
    "start_time": "2022-05-15T12:49:42.957Z"
   },
   {
    "duration": 32,
    "start_time": "2022-05-15T12:49:42.967Z"
   },
   {
    "duration": 20,
    "start_time": "2022-05-15T12:49:43.001Z"
   },
   {
    "duration": 30,
    "start_time": "2022-05-15T12:49:43.023Z"
   },
   {
    "duration": 15,
    "start_time": "2022-05-15T12:49:43.057Z"
   },
   {
    "duration": 15,
    "start_time": "2022-05-15T12:49:43.074Z"
   },
   {
    "duration": 22,
    "start_time": "2022-05-15T12:49:43.094Z"
   },
   {
    "duration": 37,
    "start_time": "2022-05-15T12:49:43.119Z"
   },
   {
    "duration": 54,
    "start_time": "2022-05-15T12:49:43.159Z"
   },
   {
    "duration": 60,
    "start_time": "2022-05-15T12:49:43.215Z"
   },
   {
    "duration": 13,
    "start_time": "2022-05-15T12:49:43.278Z"
   },
   {
    "duration": 15,
    "start_time": "2022-05-15T12:49:43.293Z"
   },
   {
    "duration": 49,
    "start_time": "2022-05-15T12:49:43.310Z"
   },
   {
    "duration": 51,
    "start_time": "2022-05-15T12:49:43.361Z"
   },
   {
    "duration": 52,
    "start_time": "2022-05-15T12:49:43.414Z"
   },
   {
    "duration": 25,
    "start_time": "2022-05-15T12:49:43.468Z"
   },
   {
    "duration": 17,
    "start_time": "2022-05-15T12:49:43.495Z"
   },
   {
    "duration": 66,
    "start_time": "2022-05-15T12:49:43.514Z"
   },
   {
    "duration": 32,
    "start_time": "2022-05-15T12:49:43.582Z"
   },
   {
    "duration": 43,
    "start_time": "2022-05-15T12:49:43.616Z"
   },
   {
    "duration": 40,
    "start_time": "2022-05-15T12:49:43.663Z"
   },
   {
    "duration": 47,
    "start_time": "2022-05-15T12:49:43.705Z"
   },
   {
    "duration": 24,
    "start_time": "2022-05-15T12:49:43.754Z"
   },
   {
    "duration": 23,
    "start_time": "2022-05-15T12:49:43.781Z"
   },
   {
    "duration": 46,
    "start_time": "2022-05-15T12:49:43.811Z"
   },
   {
    "duration": 40,
    "start_time": "2022-05-15T12:49:43.859Z"
   },
   {
    "duration": 15,
    "start_time": "2022-05-15T12:49:43.901Z"
   },
   {
    "duration": 155,
    "start_time": "2022-05-15T12:49:43.919Z"
   },
   {
    "duration": 55,
    "start_time": "2022-05-15T12:49:44.077Z"
   },
   {
    "duration": 86,
    "start_time": "2022-05-15T12:49:44.134Z"
   },
   {
    "duration": 53,
    "start_time": "2022-05-15T12:49:44.222Z"
   },
   {
    "duration": 127,
    "start_time": "2022-05-15T12:49:44.278Z"
   },
   {
    "duration": 45,
    "start_time": "2022-05-15T12:49:44.407Z"
   },
   {
    "duration": 56,
    "start_time": "2022-05-15T12:49:44.454Z"
   },
   {
    "duration": 69,
    "start_time": "2022-05-15T12:49:44.513Z"
   },
   {
    "duration": 7,
    "start_time": "2022-05-15T12:49:44.584Z"
   },
   {
    "duration": 74,
    "start_time": "2022-05-15T12:49:44.593Z"
   },
   {
    "duration": 6,
    "start_time": "2022-05-15T12:49:44.669Z"
   },
   {
    "duration": 19,
    "start_time": "2022-05-15T12:49:44.677Z"
   },
   {
    "duration": 1965,
    "start_time": "2022-05-15T12:51:49.157Z"
   },
   {
    "duration": 813,
    "start_time": "2022-05-15T12:52:02.848Z"
   },
   {
    "duration": 20,
    "start_time": "2022-05-15T12:52:03.664Z"
   },
   {
    "duration": 32,
    "start_time": "2022-05-15T12:52:03.687Z"
   },
   {
    "duration": 34,
    "start_time": "2022-05-15T12:52:03.722Z"
   },
   {
    "duration": 23,
    "start_time": "2022-05-15T12:52:03.758Z"
   },
   {
    "duration": 14,
    "start_time": "2022-05-15T12:52:03.783Z"
   },
   {
    "duration": 7,
    "start_time": "2022-05-15T12:52:03.800Z"
   },
   {
    "duration": 51,
    "start_time": "2022-05-15T12:52:03.810Z"
   },
   {
    "duration": 12,
    "start_time": "2022-05-15T12:52:03.864Z"
   },
   {
    "duration": 17,
    "start_time": "2022-05-15T12:52:03.882Z"
   },
   {
    "duration": 53,
    "start_time": "2022-05-15T12:52:03.902Z"
   },
   {
    "duration": 45,
    "start_time": "2022-05-15T12:52:03.958Z"
   },
   {
    "duration": 72,
    "start_time": "2022-05-15T12:52:04.006Z"
   },
   {
    "duration": 13,
    "start_time": "2022-05-15T12:52:04.080Z"
   },
   {
    "duration": 11,
    "start_time": "2022-05-15T12:52:04.096Z"
   },
   {
    "duration": 49,
    "start_time": "2022-05-15T12:52:04.109Z"
   },
   {
    "duration": 57,
    "start_time": "2022-05-15T12:52:04.161Z"
   },
   {
    "duration": 44,
    "start_time": "2022-05-15T12:52:04.220Z"
   },
   {
    "duration": 24,
    "start_time": "2022-05-15T12:52:04.266Z"
   },
   {
    "duration": 16,
    "start_time": "2022-05-15T12:52:04.293Z"
   },
   {
    "duration": 73,
    "start_time": "2022-05-15T12:52:04.312Z"
   },
   {
    "duration": 33,
    "start_time": "2022-05-15T12:52:04.388Z"
   },
   {
    "duration": 13,
    "start_time": "2022-05-15T12:52:04.452Z"
   },
   {
    "duration": 44,
    "start_time": "2022-05-15T12:52:04.468Z"
   },
   {
    "duration": 47,
    "start_time": "2022-05-15T12:52:04.516Z"
   },
   {
    "duration": 18,
    "start_time": "2022-05-15T12:52:04.566Z"
   },
   {
    "duration": 23,
    "start_time": "2022-05-15T12:52:04.587Z"
   },
   {
    "duration": 9,
    "start_time": "2022-05-15T12:52:04.657Z"
   },
   {
    "duration": 37,
    "start_time": "2022-05-15T12:52:04.668Z"
   },
   {
    "duration": 45,
    "start_time": "2022-05-15T12:52:04.708Z"
   },
   {
    "duration": 127,
    "start_time": "2022-05-15T12:52:04.755Z"
   },
   {
    "duration": 69,
    "start_time": "2022-05-15T12:52:04.884Z"
   },
   {
    "duration": 71,
    "start_time": "2022-05-15T12:52:04.955Z"
   },
   {
    "duration": 49,
    "start_time": "2022-05-15T12:52:05.028Z"
   },
   {
    "duration": 43,
    "start_time": "2022-05-15T12:52:05.079Z"
   },
   {
    "duration": 58,
    "start_time": "2022-05-15T12:52:05.124Z"
   },
   {
    "duration": 76,
    "start_time": "2022-05-15T12:52:05.185Z"
   },
   {
    "duration": 31,
    "start_time": "2022-05-15T12:52:05.264Z"
   },
   {
    "duration": 7,
    "start_time": "2022-05-15T12:52:05.298Z"
   },
   {
    "duration": 75,
    "start_time": "2022-05-15T12:52:05.307Z"
   },
   {
    "duration": 7,
    "start_time": "2022-05-15T12:52:05.384Z"
   },
   {
    "duration": 63,
    "start_time": "2022-05-15T12:52:05.394Z"
   },
   {
    "duration": 27,
    "start_time": "2022-05-15T12:52:05.460Z"
   },
   {
    "duration": 64,
    "start_time": "2022-05-15T12:52:05.491Z"
   },
   {
    "duration": 44,
    "start_time": "2022-05-15T12:52:05.558Z"
   },
   {
    "duration": 728,
    "start_time": "2022-05-15T12:53:38.053Z"
   },
   {
    "duration": 16,
    "start_time": "2022-05-15T12:53:38.784Z"
   },
   {
    "duration": 66,
    "start_time": "2022-05-15T12:53:38.802Z"
   },
   {
    "duration": 8,
    "start_time": "2022-05-15T12:53:38.872Z"
   },
   {
    "duration": 27,
    "start_time": "2022-05-15T12:53:38.883Z"
   },
   {
    "duration": 46,
    "start_time": "2022-05-15T12:53:38.915Z"
   },
   {
    "duration": 15,
    "start_time": "2022-05-15T12:53:38.964Z"
   },
   {
    "duration": 15,
    "start_time": "2022-05-15T12:53:38.982Z"
   },
   {
    "duration": 17,
    "start_time": "2022-05-15T12:53:38.999Z"
   },
   {
    "duration": 46,
    "start_time": "2022-05-15T12:53:39.022Z"
   },
   {
    "duration": 12,
    "start_time": "2022-05-15T12:53:39.071Z"
   },
   {
    "duration": 77,
    "start_time": "2022-05-15T12:53:39.086Z"
   },
   {
    "duration": 39,
    "start_time": "2022-05-15T12:53:39.165Z"
   },
   {
    "duration": 10,
    "start_time": "2022-05-15T12:53:39.207Z"
   },
   {
    "duration": 44,
    "start_time": "2022-05-15T12:53:39.219Z"
   },
   {
    "duration": 30,
    "start_time": "2022-05-15T12:53:39.265Z"
   },
   {
    "duration": 69,
    "start_time": "2022-05-15T12:53:39.297Z"
   },
   {
    "duration": 29,
    "start_time": "2022-05-15T12:53:39.368Z"
   },
   {
    "duration": 53,
    "start_time": "2022-05-15T12:53:39.399Z"
   },
   {
    "duration": 15,
    "start_time": "2022-05-15T12:53:39.455Z"
   },
   {
    "duration": 34,
    "start_time": "2022-05-15T12:53:39.472Z"
   },
   {
    "duration": 60,
    "start_time": "2022-05-15T12:53:39.509Z"
   },
   {
    "duration": 13,
    "start_time": "2022-05-15T12:53:39.571Z"
   },
   {
    "duration": 68,
    "start_time": "2022-05-15T12:53:39.586Z"
   },
   {
    "duration": 18,
    "start_time": "2022-05-15T12:53:39.657Z"
   },
   {
    "duration": 19,
    "start_time": "2022-05-15T12:53:39.678Z"
   },
   {
    "duration": 57,
    "start_time": "2022-05-15T12:53:39.699Z"
   },
   {
    "duration": 10,
    "start_time": "2022-05-15T12:53:39.762Z"
   },
   {
    "duration": 78,
    "start_time": "2022-05-15T12:53:39.775Z"
   },
   {
    "duration": 20,
    "start_time": "2022-05-15T12:53:39.856Z"
   },
   {
    "duration": 174,
    "start_time": "2022-05-15T12:53:39.879Z"
   },
   {
    "duration": 76,
    "start_time": "2022-05-15T12:53:40.056Z"
   },
   {
    "duration": 105,
    "start_time": "2022-05-15T12:53:40.153Z"
   },
   {
    "duration": 30,
    "start_time": "2022-05-15T12:53:40.261Z"
   },
   {
    "duration": 71,
    "start_time": "2022-05-15T12:53:40.292Z"
   },
   {
    "duration": 33,
    "start_time": "2022-05-15T12:53:40.365Z"
   },
   {
    "duration": 83,
    "start_time": "2022-05-15T12:53:40.400Z"
   },
   {
    "duration": 31,
    "start_time": "2022-05-15T12:53:40.485Z"
   },
   {
    "duration": 39,
    "start_time": "2022-05-15T12:53:40.518Z"
   },
   {
    "duration": 41,
    "start_time": "2022-05-15T12:53:40.559Z"
   },
   {
    "duration": 8,
    "start_time": "2022-05-15T12:53:40.603Z"
   },
   {
    "duration": 22,
    "start_time": "2022-05-15T12:53:40.653Z"
   },
   {
    "duration": 45,
    "start_time": "2022-05-15T12:53:40.677Z"
   },
   {
    "duration": 52,
    "start_time": "2022-05-15T12:53:40.724Z"
   },
   {
    "duration": 31,
    "start_time": "2022-05-15T12:53:40.778Z"
   },
   {
    "duration": 54,
    "start_time": "2022-05-15T12:53:40.811Z"
   },
   {
    "duration": 17,
    "start_time": "2022-05-15T12:53:40.867Z"
   },
   {
    "duration": 68,
    "start_time": "2022-05-15T12:53:40.886Z"
   },
   {
    "duration": 8,
    "start_time": "2022-05-15T12:53:40.957Z"
   },
   {
    "duration": 35,
    "start_time": "2022-05-15T12:53:40.966Z"
   },
   {
    "duration": 53,
    "start_time": "2022-05-15T12:53:41.003Z"
   },
   {
    "duration": 23,
    "start_time": "2022-05-15T12:53:41.058Z"
   },
   {
    "duration": 853,
    "start_time": "2022-05-15T12:53:41.083Z"
   },
   {
    "duration": 29,
    "start_time": "2022-05-15T12:53:41.938Z"
   },
   {
    "duration": 786,
    "start_time": "2022-05-15T12:58:29.937Z"
   },
   {
    "duration": 34,
    "start_time": "2022-05-15T12:58:30.726Z"
   },
   {
    "duration": 45,
    "start_time": "2022-05-15T12:58:30.763Z"
   },
   {
    "duration": 5,
    "start_time": "2022-05-15T12:58:30.812Z"
   },
   {
    "duration": 45,
    "start_time": "2022-05-15T12:58:30.819Z"
   },
   {
    "duration": 32,
    "start_time": "2022-05-15T12:58:30.866Z"
   },
   {
    "duration": 12,
    "start_time": "2022-05-15T12:58:30.900Z"
   },
   {
    "duration": 19,
    "start_time": "2022-05-15T12:58:30.914Z"
   },
   {
    "duration": 21,
    "start_time": "2022-05-15T12:58:30.935Z"
   },
   {
    "duration": 42,
    "start_time": "2022-05-15T12:58:30.961Z"
   },
   {
    "duration": 14,
    "start_time": "2022-05-15T12:58:31.005Z"
   },
   {
    "duration": 60,
    "start_time": "2022-05-15T12:58:31.021Z"
   },
   {
    "duration": 37,
    "start_time": "2022-05-15T12:58:31.083Z"
   },
   {
    "duration": 44,
    "start_time": "2022-05-15T12:58:31.123Z"
   },
   {
    "duration": 34,
    "start_time": "2022-05-15T12:58:31.169Z"
   },
   {
    "duration": 18,
    "start_time": "2022-05-15T12:58:31.205Z"
   },
   {
    "duration": 78,
    "start_time": "2022-05-15T12:58:31.226Z"
   },
   {
    "duration": 27,
    "start_time": "2022-05-15T12:58:31.307Z"
   },
   {
    "duration": 45,
    "start_time": "2022-05-15T12:58:31.336Z"
   },
   {
    "duration": 21,
    "start_time": "2022-05-15T12:58:31.383Z"
   },
   {
    "duration": 76,
    "start_time": "2022-05-15T12:58:31.407Z"
   },
   {
    "duration": 35,
    "start_time": "2022-05-15T12:58:31.485Z"
   },
   {
    "duration": 41,
    "start_time": "2022-05-15T12:58:31.522Z"
   },
   {
    "duration": 62,
    "start_time": "2022-05-15T12:58:31.568Z"
   },
   {
    "duration": 14,
    "start_time": "2022-05-15T12:58:31.633Z"
   },
   {
    "duration": 48,
    "start_time": "2022-05-15T12:58:31.649Z"
   },
   {
    "duration": 21,
    "start_time": "2022-05-15T12:58:31.699Z"
   },
   {
    "duration": 9,
    "start_time": "2022-05-15T12:58:31.725Z"
   },
   {
    "duration": 58,
    "start_time": "2022-05-15T12:58:31.737Z"
   },
   {
    "duration": 16,
    "start_time": "2022-05-15T12:58:31.797Z"
   },
   {
    "duration": 143,
    "start_time": "2022-05-15T12:58:31.815Z"
   },
   {
    "duration": 60,
    "start_time": "2022-05-15T12:58:31.961Z"
   },
   {
    "duration": 95,
    "start_time": "2022-05-15T12:58:32.023Z"
   },
   {
    "duration": 54,
    "start_time": "2022-05-15T12:58:32.121Z"
   },
   {
    "duration": 133,
    "start_time": "2022-05-15T12:58:32.178Z"
   },
   {
    "duration": 49,
    "start_time": "2022-05-15T12:58:32.314Z"
   },
   {
    "duration": 61,
    "start_time": "2022-05-15T12:58:32.366Z"
   },
   {
    "duration": 63,
    "start_time": "2022-05-15T12:58:32.430Z"
   },
   {
    "duration": 7,
    "start_time": "2022-05-15T12:58:32.495Z"
   },
   {
    "duration": 87,
    "start_time": "2022-05-15T12:58:32.505Z"
   },
   {
    "duration": 6,
    "start_time": "2022-05-15T12:58:32.594Z"
   },
   {
    "duration": 60,
    "start_time": "2022-05-15T12:58:32.602Z"
   },
   {
    "duration": 38,
    "start_time": "2022-05-15T12:58:32.665Z"
   },
   {
    "duration": 30,
    "start_time": "2022-05-15T12:58:32.706Z"
   },
   {
    "duration": 42,
    "start_time": "2022-05-15T12:58:32.753Z"
   },
   {
    "duration": 15,
    "start_time": "2022-05-15T12:58:32.797Z"
   },
   {
    "duration": 90,
    "start_time": "2022-05-15T12:58:32.814Z"
   },
   {
    "duration": 8,
    "start_time": "2022-05-15T12:58:32.906Z"
   },
   {
    "duration": 66,
    "start_time": "2022-05-15T12:58:32.916Z"
   },
   {
    "duration": 23,
    "start_time": "2022-05-15T12:58:32.985Z"
   },
   {
    "duration": 53,
    "start_time": "2022-05-15T12:58:33.011Z"
   },
   {
    "duration": 917,
    "start_time": "2022-05-15T12:58:33.067Z"
   },
   {
    "duration": 16,
    "start_time": "2022-05-15T12:58:33.986Z"
   },
   {
    "duration": 871,
    "start_time": "2022-05-15T13:00:57.416Z"
   },
   {
    "duration": 17,
    "start_time": "2022-05-15T13:00:58.293Z"
   },
   {
    "duration": 52,
    "start_time": "2022-05-15T13:00:58.312Z"
   },
   {
    "duration": 8,
    "start_time": "2022-05-15T13:00:58.369Z"
   },
   {
    "duration": 41,
    "start_time": "2022-05-15T13:00:58.380Z"
   },
   {
    "duration": 30,
    "start_time": "2022-05-15T13:00:58.424Z"
   },
   {
    "duration": 8,
    "start_time": "2022-05-15T13:00:58.457Z"
   },
   {
    "duration": 41,
    "start_time": "2022-05-15T13:00:58.467Z"
   },
   {
    "duration": 11,
    "start_time": "2022-05-15T13:00:58.511Z"
   },
   {
    "duration": 32,
    "start_time": "2022-05-15T13:00:58.526Z"
   },
   {
    "duration": 40,
    "start_time": "2022-05-15T13:00:58.560Z"
   },
   {
    "duration": 48,
    "start_time": "2022-05-15T13:00:58.602Z"
   },
   {
    "duration": 57,
    "start_time": "2022-05-15T13:00:58.653Z"
   },
   {
    "duration": 11,
    "start_time": "2022-05-15T13:00:58.712Z"
   },
   {
    "duration": 42,
    "start_time": "2022-05-15T13:00:58.726Z"
   },
   {
    "duration": 47,
    "start_time": "2022-05-15T13:00:58.770Z"
   },
   {
    "duration": 85,
    "start_time": "2022-05-15T13:00:58.819Z"
   },
   {
    "duration": 29,
    "start_time": "2022-05-15T13:00:58.906Z"
   },
   {
    "duration": 49,
    "start_time": "2022-05-15T13:00:58.937Z"
   },
   {
    "duration": 20,
    "start_time": "2022-05-15T13:00:58.989Z"
   },
   {
    "duration": 64,
    "start_time": "2022-05-15T13:00:59.011Z"
   },
   {
    "duration": 39,
    "start_time": "2022-05-15T13:00:59.077Z"
   },
   {
    "duration": 14,
    "start_time": "2022-05-15T13:00:59.118Z"
   },
   {
    "duration": 58,
    "start_time": "2022-05-15T13:00:59.165Z"
   },
   {
    "duration": 46,
    "start_time": "2022-05-15T13:00:59.226Z"
   },
   {
    "duration": 39,
    "start_time": "2022-05-15T13:00:59.275Z"
   },
   {
    "duration": 21,
    "start_time": "2022-05-15T13:00:59.316Z"
   },
   {
    "duration": 20,
    "start_time": "2022-05-15T13:00:59.343Z"
   },
   {
    "duration": 71,
    "start_time": "2022-05-15T13:00:59.366Z"
   },
   {
    "duration": 22,
    "start_time": "2022-05-15T13:00:59.439Z"
   },
   {
    "duration": 148,
    "start_time": "2022-05-15T13:00:59.465Z"
   },
   {
    "duration": 101,
    "start_time": "2022-05-15T13:00:59.616Z"
   },
   {
    "duration": 89,
    "start_time": "2022-05-15T13:00:59.719Z"
   },
   {
    "duration": 44,
    "start_time": "2022-05-15T13:00:59.811Z"
   },
   {
    "duration": 58,
    "start_time": "2022-05-15T13:00:59.860Z"
   },
   {
    "duration": 71,
    "start_time": "2022-05-15T13:00:59.920Z"
   },
   {
    "duration": 95,
    "start_time": "2022-05-15T13:00:59.994Z"
   },
   {
    "duration": 34,
    "start_time": "2022-05-15T13:01:00.096Z"
   },
   {
    "duration": 27,
    "start_time": "2022-05-15T13:01:00.133Z"
   },
   {
    "duration": 76,
    "start_time": "2022-05-15T13:01:00.162Z"
   },
   {
    "duration": 7,
    "start_time": "2022-05-15T13:01:00.240Z"
   },
   {
    "duration": 70,
    "start_time": "2022-05-15T13:01:00.249Z"
   },
   {
    "duration": 34,
    "start_time": "2022-05-15T13:01:00.322Z"
   },
   {
    "duration": 50,
    "start_time": "2022-05-15T13:01:00.360Z"
   },
   {
    "duration": 42,
    "start_time": "2022-05-15T13:01:00.412Z"
   },
   {
    "duration": 0,
    "start_time": "2022-05-15T13:01:00.457Z"
   },
   {
    "duration": 0,
    "start_time": "2022-05-15T13:01:00.460Z"
   },
   {
    "duration": 0,
    "start_time": "2022-05-15T13:01:00.462Z"
   },
   {
    "duration": 0,
    "start_time": "2022-05-15T13:01:00.465Z"
   },
   {
    "duration": 0,
    "start_time": "2022-05-15T13:01:00.467Z"
   },
   {
    "duration": 0,
    "start_time": "2022-05-15T13:01:00.470Z"
   },
   {
    "duration": 0,
    "start_time": "2022-05-15T13:01:00.472Z"
   },
   {
    "duration": 0,
    "start_time": "2022-05-15T13:01:00.474Z"
   },
   {
    "duration": 39,
    "start_time": "2022-05-15T13:01:43.739Z"
   },
   {
    "duration": 736,
    "start_time": "2022-05-15T13:01:48.976Z"
   },
   {
    "duration": 41,
    "start_time": "2022-05-15T13:01:49.716Z"
   },
   {
    "duration": 48,
    "start_time": "2022-05-15T13:01:49.760Z"
   },
   {
    "duration": 7,
    "start_time": "2022-05-15T13:01:49.812Z"
   },
   {
    "duration": 57,
    "start_time": "2022-05-15T13:01:49.824Z"
   },
   {
    "duration": 12,
    "start_time": "2022-05-15T13:01:49.883Z"
   },
   {
    "duration": 13,
    "start_time": "2022-05-15T13:01:49.897Z"
   },
   {
    "duration": 12,
    "start_time": "2022-05-15T13:01:49.912Z"
   },
   {
    "duration": 27,
    "start_time": "2022-05-15T13:01:49.926Z"
   },
   {
    "duration": 38,
    "start_time": "2022-05-15T13:01:49.955Z"
   },
   {
    "duration": 14,
    "start_time": "2022-05-15T13:01:49.996Z"
   },
   {
    "duration": 62,
    "start_time": "2022-05-15T13:01:50.012Z"
   },
   {
    "duration": 38,
    "start_time": "2022-05-15T13:01:50.081Z"
   },
   {
    "duration": 37,
    "start_time": "2022-05-15T13:01:50.123Z"
   },
   {
    "duration": 16,
    "start_time": "2022-05-15T13:01:50.163Z"
   },
   {
    "duration": 20,
    "start_time": "2022-05-15T13:01:50.181Z"
   },
   {
    "duration": 86,
    "start_time": "2022-05-15T13:01:50.203Z"
   },
   {
    "duration": 25,
    "start_time": "2022-05-15T13:01:50.291Z"
   },
   {
    "duration": 53,
    "start_time": "2022-05-15T13:01:50.318Z"
   },
   {
    "duration": 17,
    "start_time": "2022-05-15T13:01:50.373Z"
   },
   {
    "duration": 64,
    "start_time": "2022-05-15T13:01:50.393Z"
   },
   {
    "duration": 42,
    "start_time": "2022-05-15T13:01:50.460Z"
   },
   {
    "duration": 13,
    "start_time": "2022-05-15T13:01:50.504Z"
   },
   {
    "duration": 74,
    "start_time": "2022-05-15T13:01:50.519Z"
   },
   {
    "duration": 15,
    "start_time": "2022-05-15T13:01:50.595Z"
   },
   {
    "duration": 41,
    "start_time": "2022-05-15T13:01:50.613Z"
   },
   {
    "duration": 31,
    "start_time": "2022-05-15T13:01:50.656Z"
   },
   {
    "duration": 9,
    "start_time": "2022-05-15T13:01:50.689Z"
   },
   {
    "duration": 77,
    "start_time": "2022-05-15T13:01:50.700Z"
   },
   {
    "duration": 19,
    "start_time": "2022-05-15T13:01:50.779Z"
   },
   {
    "duration": 146,
    "start_time": "2022-05-15T13:01:50.801Z"
   },
   {
    "duration": 62,
    "start_time": "2022-05-15T13:01:50.949Z"
   },
   {
    "duration": 100,
    "start_time": "2022-05-15T13:01:51.013Z"
   },
   {
    "duration": 46,
    "start_time": "2022-05-15T13:01:51.115Z"
   },
   {
    "duration": 48,
    "start_time": "2022-05-15T13:01:51.164Z"
   },
   {
    "duration": 66,
    "start_time": "2022-05-15T13:01:51.215Z"
   },
   {
    "duration": 56,
    "start_time": "2022-05-15T13:01:51.283Z"
   },
   {
    "duration": 51,
    "start_time": "2022-05-15T13:01:51.341Z"
   },
   {
    "duration": 7,
    "start_time": "2022-05-15T13:01:51.395Z"
   },
   {
    "duration": 80,
    "start_time": "2022-05-15T13:01:51.404Z"
   },
   {
    "duration": 7,
    "start_time": "2022-05-15T13:01:51.490Z"
   },
   {
    "duration": 75,
    "start_time": "2022-05-15T13:01:51.499Z"
   },
   {
    "duration": 35,
    "start_time": "2022-05-15T13:01:51.577Z"
   },
   {
    "duration": 68,
    "start_time": "2022-05-15T13:01:51.614Z"
   },
   {
    "duration": 16,
    "start_time": "2022-05-15T13:01:51.685Z"
   },
   {
    "duration": 81,
    "start_time": "2022-05-15T13:01:51.703Z"
   },
   {
    "duration": 8,
    "start_time": "2022-05-15T13:01:51.787Z"
   },
   {
    "duration": 33,
    "start_time": "2022-05-15T13:01:51.797Z"
   },
   {
    "duration": 47,
    "start_time": "2022-05-15T13:01:51.832Z"
   },
   {
    "duration": 37,
    "start_time": "2022-05-15T13:01:51.881Z"
   },
   {
    "duration": 963,
    "start_time": "2022-05-15T13:01:51.920Z"
   },
   {
    "duration": 16,
    "start_time": "2022-05-15T13:01:52.886Z"
   },
   {
    "duration": 50,
    "start_time": "2022-05-15T13:01:52.904Z"
   },
   {
    "duration": 30,
    "start_time": "2022-05-15T13:18:22.092Z"
   },
   {
    "duration": 32,
    "start_time": "2022-05-15T13:18:36.933Z"
   },
   {
    "duration": 699,
    "start_time": "2022-05-15T13:18:40.766Z"
   },
   {
    "duration": 14,
    "start_time": "2022-05-15T13:18:41.468Z"
   },
   {
    "duration": 32,
    "start_time": "2022-05-15T13:18:41.484Z"
   },
   {
    "duration": 34,
    "start_time": "2022-05-15T13:18:41.518Z"
   },
   {
    "duration": 29,
    "start_time": "2022-05-15T13:18:41.556Z"
   },
   {
    "duration": 13,
    "start_time": "2022-05-15T13:18:41.587Z"
   },
   {
    "duration": 8,
    "start_time": "2022-05-15T13:18:41.602Z"
   },
   {
    "duration": 11,
    "start_time": "2022-05-15T13:18:41.612Z"
   },
   {
    "duration": 42,
    "start_time": "2022-05-15T13:18:41.625Z"
   },
   {
    "duration": 17,
    "start_time": "2022-05-15T13:18:41.669Z"
   },
   {
    "duration": 12,
    "start_time": "2022-05-15T13:18:41.688Z"
   },
   {
    "duration": 73,
    "start_time": "2022-05-15T13:18:41.702Z"
   },
   {
    "duration": 38,
    "start_time": "2022-05-15T13:18:41.777Z"
   },
   {
    "duration": 46,
    "start_time": "2022-05-15T13:18:41.819Z"
   },
   {
    "duration": 13,
    "start_time": "2022-05-15T13:18:41.867Z"
   },
   {
    "duration": 17,
    "start_time": "2022-05-15T13:18:41.882Z"
   },
   {
    "duration": 80,
    "start_time": "2022-05-15T13:18:41.902Z"
   },
   {
    "duration": 31,
    "start_time": "2022-05-15T13:18:41.984Z"
   },
   {
    "duration": 54,
    "start_time": "2022-05-15T13:18:42.018Z"
   },
   {
    "duration": 17,
    "start_time": "2022-05-15T13:18:42.074Z"
   },
   {
    "duration": 65,
    "start_time": "2022-05-15T13:18:42.094Z"
   },
   {
    "duration": 32,
    "start_time": "2022-05-15T13:18:42.161Z"
   },
   {
    "duration": 15,
    "start_time": "2022-05-15T13:18:42.195Z"
   },
   {
    "duration": 79,
    "start_time": "2022-05-15T13:18:42.212Z"
   },
   {
    "duration": 15,
    "start_time": "2022-05-15T13:18:42.293Z"
   },
   {
    "duration": 43,
    "start_time": "2022-05-15T13:18:42.310Z"
   },
   {
    "duration": 31,
    "start_time": "2022-05-15T13:18:42.358Z"
   },
   {
    "duration": 9,
    "start_time": "2022-05-15T13:18:42.392Z"
   },
   {
    "duration": 68,
    "start_time": "2022-05-15T13:18:42.403Z"
   },
   {
    "duration": 14,
    "start_time": "2022-05-15T13:18:42.473Z"
   },
   {
    "duration": 139,
    "start_time": "2022-05-15T13:18:42.490Z"
   },
   {
    "duration": 67,
    "start_time": "2022-05-15T13:18:42.632Z"
   },
   {
    "duration": 92,
    "start_time": "2022-05-15T13:18:42.701Z"
   },
   {
    "duration": 27,
    "start_time": "2022-05-15T13:18:42.796Z"
   },
   {
    "duration": 66,
    "start_time": "2022-05-15T13:18:42.825Z"
   },
   {
    "duration": 34,
    "start_time": "2022-05-15T13:18:42.894Z"
   },
   {
    "duration": 82,
    "start_time": "2022-05-15T13:18:42.930Z"
   },
   {
    "duration": 59,
    "start_time": "2022-05-15T13:18:43.014Z"
   },
   {
    "duration": 6,
    "start_time": "2022-05-15T13:18:43.075Z"
   },
   {
    "duration": 75,
    "start_time": "2022-05-15T13:18:43.083Z"
   },
   {
    "duration": 6,
    "start_time": "2022-05-15T13:18:43.164Z"
   },
   {
    "duration": 44,
    "start_time": "2022-05-15T13:18:43.172Z"
   },
   {
    "duration": 50,
    "start_time": "2022-05-15T13:19:45.117Z"
   },
   {
    "duration": 33,
    "start_time": "2022-05-15T13:19:56.706Z"
   },
   {
    "duration": 46,
    "start_time": "2022-05-15T13:20:05.573Z"
   },
   {
    "duration": 50,
    "start_time": "2022-05-15T13:22:14.150Z"
   },
   {
    "duration": 17,
    "start_time": "2022-05-15T13:23:20.978Z"
   },
   {
    "duration": 786,
    "start_time": "2022-05-15T13:23:29.713Z"
   },
   {
    "duration": 22,
    "start_time": "2022-05-15T13:23:30.503Z"
   },
   {
    "duration": 60,
    "start_time": "2022-05-15T13:23:30.528Z"
   },
   {
    "duration": 6,
    "start_time": "2022-05-15T13:23:30.591Z"
   },
   {
    "duration": 29,
    "start_time": "2022-05-15T13:23:30.600Z"
   },
   {
    "duration": 17,
    "start_time": "2022-05-15T13:23:30.657Z"
   },
   {
    "duration": 9,
    "start_time": "2022-05-15T13:23:30.677Z"
   },
   {
    "duration": 16,
    "start_time": "2022-05-15T13:23:30.688Z"
   },
   {
    "duration": 54,
    "start_time": "2022-05-15T13:23:30.707Z"
   },
   {
    "duration": 22,
    "start_time": "2022-05-15T13:23:30.769Z"
   },
   {
    "duration": 23,
    "start_time": "2022-05-15T13:23:30.794Z"
   },
   {
    "duration": 77,
    "start_time": "2022-05-15T13:23:30.820Z"
   },
   {
    "duration": 76,
    "start_time": "2022-05-15T13:23:30.900Z"
   },
   {
    "duration": 12,
    "start_time": "2022-05-15T13:23:30.979Z"
   },
   {
    "duration": 27,
    "start_time": "2022-05-15T13:23:30.994Z"
   },
   {
    "duration": 47,
    "start_time": "2022-05-15T13:23:31.024Z"
   },
   {
    "duration": 59,
    "start_time": "2022-05-15T13:23:31.073Z"
   },
   {
    "duration": 47,
    "start_time": "2022-05-15T13:23:31.134Z"
   },
   {
    "duration": 26,
    "start_time": "2022-05-15T13:23:31.183Z"
   },
   {
    "duration": 58,
    "start_time": "2022-05-15T13:23:31.212Z"
   },
   {
    "duration": 40,
    "start_time": "2022-05-15T13:23:31.273Z"
   },
   {
    "duration": 64,
    "start_time": "2022-05-15T13:23:31.316Z"
   },
   {
    "duration": 19,
    "start_time": "2022-05-15T13:23:31.383Z"
   },
   {
    "duration": 82,
    "start_time": "2022-05-15T13:23:31.405Z"
   },
   {
    "duration": 25,
    "start_time": "2022-05-15T13:23:31.490Z"
   },
   {
    "duration": 50,
    "start_time": "2022-05-15T13:23:31.517Z"
   },
   {
    "duration": 25,
    "start_time": "2022-05-15T13:23:31.572Z"
   },
   {
    "duration": 11,
    "start_time": "2022-05-15T13:23:31.602Z"
   },
   {
    "duration": 75,
    "start_time": "2022-05-15T13:23:31.616Z"
   },
   {
    "duration": 19,
    "start_time": "2022-05-15T13:23:31.694Z"
   },
   {
    "duration": 146,
    "start_time": "2022-05-15T13:23:31.716Z"
   },
   {
    "duration": 60,
    "start_time": "2022-05-15T13:23:31.864Z"
   },
   {
    "duration": 95,
    "start_time": "2022-05-15T13:23:31.926Z"
   },
   {
    "duration": 56,
    "start_time": "2022-05-15T13:23:32.023Z"
   },
   {
    "duration": 44,
    "start_time": "2022-05-15T13:23:32.081Z"
   },
   {
    "duration": 67,
    "start_time": "2022-05-15T13:23:32.127Z"
   },
   {
    "duration": 76,
    "start_time": "2022-05-15T13:23:32.196Z"
   },
   {
    "duration": 38,
    "start_time": "2022-05-15T13:23:32.275Z"
   },
   {
    "duration": 49,
    "start_time": "2022-05-15T13:23:32.315Z"
   },
   {
    "duration": 46,
    "start_time": "2022-05-15T13:23:32.366Z"
   },
   {
    "duration": 7,
    "start_time": "2022-05-15T13:23:32.414Z"
   },
   {
    "duration": 69,
    "start_time": "2022-05-15T13:23:32.455Z"
   },
   {
    "duration": 38,
    "start_time": "2022-05-15T13:23:32.526Z"
   },
   {
    "duration": 32,
    "start_time": "2022-05-15T13:23:32.567Z"
   },
   {
    "duration": 19,
    "start_time": "2022-05-15T13:23:32.602Z"
   },
   {
    "duration": 53,
    "start_time": "2022-05-15T13:23:32.654Z"
   },
   {
    "duration": 61,
    "start_time": "2022-05-15T13:23:32.710Z"
   },
   {
    "duration": 24,
    "start_time": "2022-05-15T13:23:32.774Z"
   },
   {
    "duration": 61,
    "start_time": "2022-05-15T13:23:32.801Z"
   },
   {
    "duration": 1044,
    "start_time": "2022-05-15T13:23:32.867Z"
   },
   {
    "duration": 49,
    "start_time": "2022-05-15T13:23:33.915Z"
   },
   {
    "duration": 26,
    "start_time": "2022-05-15T13:23:33.966Z"
   },
   {
    "duration": 24,
    "start_time": "2022-05-15T13:24:23.845Z"
   },
   {
    "duration": 26,
    "start_time": "2022-05-15T13:33:46.667Z"
   },
   {
    "duration": 939,
    "start_time": "2022-05-15T13:33:56.943Z"
   },
   {
    "duration": 20,
    "start_time": "2022-05-15T13:33:57.885Z"
   },
   {
    "duration": 61,
    "start_time": "2022-05-15T13:33:57.907Z"
   },
   {
    "duration": 20,
    "start_time": "2022-05-15T13:33:57.972Z"
   },
   {
    "duration": 26,
    "start_time": "2022-05-15T13:33:57.995Z"
   },
   {
    "duration": 42,
    "start_time": "2022-05-15T13:33:58.024Z"
   },
   {
    "duration": 16,
    "start_time": "2022-05-15T13:33:58.069Z"
   },
   {
    "duration": 12,
    "start_time": "2022-05-15T13:33:58.088Z"
   },
   {
    "duration": 13,
    "start_time": "2022-05-15T13:33:58.102Z"
   },
   {
    "duration": 52,
    "start_time": "2022-05-15T13:33:58.119Z"
   },
   {
    "duration": 22,
    "start_time": "2022-05-15T13:33:58.174Z"
   },
   {
    "duration": 43,
    "start_time": "2022-05-15T13:33:58.198Z"
   },
   {
    "duration": 51,
    "start_time": "2022-05-15T13:33:58.254Z"
   },
   {
    "duration": 11,
    "start_time": "2022-05-15T13:33:58.307Z"
   },
   {
    "duration": 46,
    "start_time": "2022-05-15T13:33:58.320Z"
   },
   {
    "duration": 31,
    "start_time": "2022-05-15T13:33:58.368Z"
   },
   {
    "duration": 57,
    "start_time": "2022-05-15T13:33:58.401Z"
   },
   {
    "duration": 31,
    "start_time": "2022-05-15T13:33:58.462Z"
   },
   {
    "duration": 24,
    "start_time": "2022-05-15T13:33:58.495Z"
   },
   {
    "duration": 54,
    "start_time": "2022-05-15T13:33:58.522Z"
   },
   {
    "duration": 45,
    "start_time": "2022-05-15T13:33:58.579Z"
   },
   {
    "duration": 57,
    "start_time": "2022-05-15T13:33:58.627Z"
   },
   {
    "duration": 15,
    "start_time": "2022-05-15T13:33:58.687Z"
   },
   {
    "duration": 73,
    "start_time": "2022-05-15T13:33:58.704Z"
   },
   {
    "duration": 16,
    "start_time": "2022-05-15T13:33:58.779Z"
   },
   {
    "duration": 18,
    "start_time": "2022-05-15T13:33:58.798Z"
   },
   {
    "duration": 51,
    "start_time": "2022-05-15T13:33:58.819Z"
   },
   {
    "duration": 12,
    "start_time": "2022-05-15T13:33:58.879Z"
   },
   {
    "duration": 77,
    "start_time": "2022-05-15T13:33:58.894Z"
   },
   {
    "duration": 21,
    "start_time": "2022-05-15T13:33:58.973Z"
   },
   {
    "duration": 176,
    "start_time": "2022-05-15T13:33:58.997Z"
   },
   {
    "duration": 89,
    "start_time": "2022-05-15T13:33:59.176Z"
   },
   {
    "duration": 97,
    "start_time": "2022-05-15T13:33:59.268Z"
   },
   {
    "duration": 34,
    "start_time": "2022-05-15T13:33:59.368Z"
   },
   {
    "duration": 167,
    "start_time": "2022-05-15T13:33:59.404Z"
   },
   {
    "duration": 40,
    "start_time": "2022-05-15T13:33:59.575Z"
   },
   {
    "duration": 88,
    "start_time": "2022-05-15T13:33:59.618Z"
   },
   {
    "duration": 54,
    "start_time": "2022-05-15T13:33:59.708Z"
   },
   {
    "duration": 9,
    "start_time": "2022-05-15T13:33:59.767Z"
   },
   {
    "duration": 78,
    "start_time": "2022-05-15T13:33:59.779Z"
   },
   {
    "duration": 9,
    "start_time": "2022-05-15T13:33:59.865Z"
   },
   {
    "duration": 69,
    "start_time": "2022-05-15T13:33:59.876Z"
   },
   {
    "duration": 43,
    "start_time": "2022-05-15T13:33:59.947Z"
   },
   {
    "duration": 22,
    "start_time": "2022-05-15T13:33:59.992Z"
   },
   {
    "duration": 60,
    "start_time": "2022-05-15T13:34:00.016Z"
   },
   {
    "duration": 26,
    "start_time": "2022-05-15T13:34:00.080Z"
   },
   {
    "duration": 19,
    "start_time": "2022-05-15T13:34:02.317Z"
   },
   {
    "duration": 18,
    "start_time": "2022-05-15T13:35:02.897Z"
   },
   {
    "duration": 769,
    "start_time": "2022-05-15T13:35:07.126Z"
   },
   {
    "duration": 14,
    "start_time": "2022-05-15T13:35:07.899Z"
   },
   {
    "duration": 64,
    "start_time": "2022-05-15T13:35:07.915Z"
   },
   {
    "duration": 7,
    "start_time": "2022-05-15T13:35:07.983Z"
   },
   {
    "duration": 20,
    "start_time": "2022-05-15T13:35:07.993Z"
   },
   {
    "duration": 55,
    "start_time": "2022-05-15T13:35:08.015Z"
   },
   {
    "duration": 17,
    "start_time": "2022-05-15T13:35:08.077Z"
   },
   {
    "duration": 12,
    "start_time": "2022-05-15T13:35:08.097Z"
   },
   {
    "duration": 12,
    "start_time": "2022-05-15T13:35:08.112Z"
   },
   {
    "duration": 29,
    "start_time": "2022-05-15T13:35:08.156Z"
   },
   {
    "duration": 12,
    "start_time": "2022-05-15T13:35:08.188Z"
   },
   {
    "duration": 82,
    "start_time": "2022-05-15T13:35:08.203Z"
   },
   {
    "duration": 41,
    "start_time": "2022-05-15T13:35:08.288Z"
   },
   {
    "duration": 39,
    "start_time": "2022-05-15T13:35:08.332Z"
   },
   {
    "duration": 16,
    "start_time": "2022-05-15T13:35:08.373Z"
   },
   {
    "duration": 17,
    "start_time": "2022-05-15T13:35:08.391Z"
   },
   {
    "duration": 97,
    "start_time": "2022-05-15T13:35:08.410Z"
   },
   {
    "duration": 27,
    "start_time": "2022-05-15T13:35:08.509Z"
   },
   {
    "duration": 32,
    "start_time": "2022-05-15T13:35:08.553Z"
   },
   {
    "duration": 15,
    "start_time": "2022-05-15T13:35:08.587Z"
   },
   {
    "duration": 73,
    "start_time": "2022-05-15T13:35:08.605Z"
   },
   {
    "duration": 33,
    "start_time": "2022-05-15T13:35:08.681Z"
   },
   {
    "duration": 12,
    "start_time": "2022-05-15T13:35:08.716Z"
   },
   {
    "duration": 87,
    "start_time": "2022-05-15T13:35:08.731Z"
   },
   {
    "duration": 19,
    "start_time": "2022-05-15T13:35:08.820Z"
   },
   {
    "duration": 31,
    "start_time": "2022-05-15T13:35:08.841Z"
   },
   {
    "duration": 31,
    "start_time": "2022-05-15T13:35:08.877Z"
   },
   {
    "duration": 8,
    "start_time": "2022-05-15T13:35:08.914Z"
   },
   {
    "duration": 69,
    "start_time": "2022-05-15T13:35:08.924Z"
   },
   {
    "duration": 18,
    "start_time": "2022-05-15T13:35:08.996Z"
   },
   {
    "duration": 171,
    "start_time": "2022-05-15T13:35:09.017Z"
   },
   {
    "duration": 77,
    "start_time": "2022-05-15T13:35:09.191Z"
   },
   {
    "duration": 89,
    "start_time": "2022-05-15T13:35:09.271Z"
   },
   {
    "duration": 35,
    "start_time": "2022-05-15T13:35:09.366Z"
   },
   {
    "duration": 74,
    "start_time": "2022-05-15T13:35:09.403Z"
   },
   {
    "duration": 34,
    "start_time": "2022-05-15T13:35:09.479Z"
   },
   {
    "duration": 94,
    "start_time": "2022-05-15T13:35:09.515Z"
   },
   {
    "duration": 56,
    "start_time": "2022-05-15T13:35:09.611Z"
   },
   {
    "duration": 14,
    "start_time": "2022-05-15T13:35:09.673Z"
   },
   {
    "duration": 81,
    "start_time": "2022-05-15T13:35:09.689Z"
   },
   {
    "duration": 8,
    "start_time": "2022-05-15T13:35:09.775Z"
   },
   {
    "duration": 66,
    "start_time": "2022-05-15T13:35:09.786Z"
   },
   {
    "duration": 44,
    "start_time": "2022-05-15T13:35:09.855Z"
   },
   {
    "duration": 53,
    "start_time": "2022-05-15T13:35:09.902Z"
   },
   {
    "duration": 37,
    "start_time": "2022-05-15T13:35:09.957Z"
   },
   {
    "duration": 33,
    "start_time": "2022-05-15T13:35:09.997Z"
   },
   {
    "duration": 19,
    "start_time": "2022-05-15T13:35:27.919Z"
   },
   {
    "duration": 34,
    "start_time": "2022-05-15T13:36:09.644Z"
   },
   {
    "duration": 770,
    "start_time": "2022-05-15T13:36:16.654Z"
   },
   {
    "duration": 15,
    "start_time": "2022-05-15T13:36:17.427Z"
   },
   {
    "duration": 40,
    "start_time": "2022-05-15T13:36:17.456Z"
   },
   {
    "duration": 5,
    "start_time": "2022-05-15T13:36:17.500Z"
   },
   {
    "duration": 59,
    "start_time": "2022-05-15T13:36:17.507Z"
   },
   {
    "duration": 28,
    "start_time": "2022-05-15T13:36:17.569Z"
   },
   {
    "duration": 10,
    "start_time": "2022-05-15T13:36:17.600Z"
   },
   {
    "duration": 10,
    "start_time": "2022-05-15T13:36:17.613Z"
   },
   {
    "duration": 11,
    "start_time": "2022-05-15T13:36:17.625Z"
   },
   {
    "duration": 33,
    "start_time": "2022-05-15T13:36:17.640Z"
   },
   {
    "duration": 32,
    "start_time": "2022-05-15T13:36:17.675Z"
   },
   {
    "duration": 51,
    "start_time": "2022-05-15T13:36:17.709Z"
   },
   {
    "duration": 49,
    "start_time": "2022-05-15T13:36:17.764Z"
   },
   {
    "duration": 10,
    "start_time": "2022-05-15T13:36:17.816Z"
   },
   {
    "duration": 40,
    "start_time": "2022-05-15T13:36:17.828Z"
   },
   {
    "duration": 52,
    "start_time": "2022-05-15T13:36:17.870Z"
   },
   {
    "duration": 107,
    "start_time": "2022-05-15T13:36:17.924Z"
   },
   {
    "duration": 27,
    "start_time": "2022-05-15T13:36:18.033Z"
   },
   {
    "duration": 27,
    "start_time": "2022-05-15T13:36:18.062Z"
   },
   {
    "duration": 29,
    "start_time": "2022-05-15T13:36:18.092Z"
   },
   {
    "duration": 49,
    "start_time": "2022-05-15T13:36:18.124Z"
   },
   {
    "duration": 49,
    "start_time": "2022-05-15T13:36:18.176Z"
   },
   {
    "duration": 18,
    "start_time": "2022-05-15T13:36:18.227Z"
   },
   {
    "duration": 67,
    "start_time": "2022-05-15T13:36:18.247Z"
   },
   {
    "duration": 19,
    "start_time": "2022-05-15T13:36:18.317Z"
   },
   {
    "duration": 31,
    "start_time": "2022-05-15T13:36:18.338Z"
   },
   {
    "duration": 49,
    "start_time": "2022-05-15T13:36:18.371Z"
   },
   {
    "duration": 9,
    "start_time": "2022-05-15T13:36:18.425Z"
   },
   {
    "duration": 64,
    "start_time": "2022-05-15T13:36:18.437Z"
   },
   {
    "duration": 15,
    "start_time": "2022-05-15T13:36:18.504Z"
   },
   {
    "duration": 128,
    "start_time": "2022-05-15T13:36:18.521Z"
   },
   {
    "duration": 67,
    "start_time": "2022-05-15T13:36:18.656Z"
   },
   {
    "duration": 98,
    "start_time": "2022-05-15T13:36:18.726Z"
   },
   {
    "duration": 43,
    "start_time": "2022-05-15T13:36:18.827Z"
   },
   {
    "duration": 46,
    "start_time": "2022-05-15T13:36:18.873Z"
   },
   {
    "duration": 65,
    "start_time": "2022-05-15T13:36:18.921Z"
   },
   {
    "duration": 68,
    "start_time": "2022-05-15T13:36:18.988Z"
   },
   {
    "duration": 46,
    "start_time": "2022-05-15T13:36:19.058Z"
   },
   {
    "duration": 7,
    "start_time": "2022-05-15T13:36:19.106Z"
   },
   {
    "duration": 85,
    "start_time": "2022-05-15T13:36:19.115Z"
   },
   {
    "duration": 7,
    "start_time": "2022-05-15T13:36:19.202Z"
   },
   {
    "duration": 90,
    "start_time": "2022-05-15T13:36:19.211Z"
   },
   {
    "duration": 55,
    "start_time": "2022-05-15T13:36:19.304Z"
   },
   {
    "duration": 28,
    "start_time": "2022-05-15T13:36:19.361Z"
   },
   {
    "duration": 23,
    "start_time": "2022-05-15T13:36:19.393Z"
   },
   {
    "duration": 56,
    "start_time": "2022-05-15T13:36:19.418Z"
   },
   {
    "duration": 22,
    "start_time": "2022-05-15T13:37:07.239Z"
   },
   {
    "duration": 785,
    "start_time": "2022-05-15T13:37:13.507Z"
   },
   {
    "duration": 15,
    "start_time": "2022-05-15T13:37:14.297Z"
   },
   {
    "duration": 64,
    "start_time": "2022-05-15T13:37:14.314Z"
   },
   {
    "duration": 9,
    "start_time": "2022-05-15T13:37:14.382Z"
   },
   {
    "duration": 22,
    "start_time": "2022-05-15T13:37:14.395Z"
   },
   {
    "duration": 40,
    "start_time": "2022-05-15T13:37:14.420Z"
   },
   {
    "duration": 36,
    "start_time": "2022-05-15T13:37:14.463Z"
   },
   {
    "duration": 13,
    "start_time": "2022-05-15T13:37:14.502Z"
   },
   {
    "duration": 12,
    "start_time": "2022-05-15T13:37:14.517Z"
   },
   {
    "duration": 36,
    "start_time": "2022-05-15T13:37:14.534Z"
   },
   {
    "duration": 42,
    "start_time": "2022-05-15T13:37:14.573Z"
   },
   {
    "duration": 56,
    "start_time": "2022-05-15T13:37:14.617Z"
   },
   {
    "duration": 50,
    "start_time": "2022-05-15T13:37:14.676Z"
   },
   {
    "duration": 28,
    "start_time": "2022-05-15T13:37:14.729Z"
   },
   {
    "duration": 17,
    "start_time": "2022-05-15T13:37:14.759Z"
   },
   {
    "duration": 38,
    "start_time": "2022-05-15T13:37:14.779Z"
   },
   {
    "duration": 85,
    "start_time": "2022-05-15T13:37:14.819Z"
   },
   {
    "duration": 27,
    "start_time": "2022-05-15T13:37:14.907Z"
   },
   {
    "duration": 39,
    "start_time": "2022-05-15T13:37:14.937Z"
   },
   {
    "duration": 21,
    "start_time": "2022-05-15T13:37:14.979Z"
   },
   {
    "duration": 65,
    "start_time": "2022-05-15T13:37:15.003Z"
   },
   {
    "duration": 58,
    "start_time": "2022-05-15T13:37:15.071Z"
   },
   {
    "duration": 24,
    "start_time": "2022-05-15T13:37:15.132Z"
   },
   {
    "duration": 67,
    "start_time": "2022-05-15T13:37:15.160Z"
   },
   {
    "duration": 19,
    "start_time": "2022-05-15T13:37:15.229Z"
   },
   {
    "duration": 56,
    "start_time": "2022-05-15T13:37:15.250Z"
   },
   {
    "duration": 22,
    "start_time": "2022-05-15T13:37:15.309Z"
   },
   {
    "duration": 8,
    "start_time": "2022-05-15T13:37:15.337Z"
   },
   {
    "duration": 60,
    "start_time": "2022-05-15T13:37:15.347Z"
   },
   {
    "duration": 15,
    "start_time": "2022-05-15T13:37:15.409Z"
   },
   {
    "duration": 158,
    "start_time": "2022-05-15T13:37:15.426Z"
   },
   {
    "duration": 76,
    "start_time": "2022-05-15T13:37:15.587Z"
   },
   {
    "duration": 76,
    "start_time": "2022-05-15T13:37:15.665Z"
   },
   {
    "duration": 40,
    "start_time": "2022-05-15T13:37:15.758Z"
   },
   {
    "duration": 64,
    "start_time": "2022-05-15T13:37:15.801Z"
   },
   {
    "duration": 40,
    "start_time": "2022-05-15T13:37:15.868Z"
   },
   {
    "duration": 83,
    "start_time": "2022-05-15T13:37:15.910Z"
   },
   {
    "duration": 68,
    "start_time": "2022-05-15T13:37:15.996Z"
   },
   {
    "duration": 8,
    "start_time": "2022-05-15T13:37:16.068Z"
   },
   {
    "duration": 51,
    "start_time": "2022-05-15T13:37:16.080Z"
   },
   {
    "duration": 33,
    "start_time": "2022-05-15T13:37:16.133Z"
   },
   {
    "duration": 71,
    "start_time": "2022-05-15T13:37:16.169Z"
   },
   {
    "duration": 42,
    "start_time": "2022-05-15T13:37:16.242Z"
   },
   {
    "duration": 32,
    "start_time": "2022-05-15T13:37:16.287Z"
   },
   {
    "duration": 17,
    "start_time": "2022-05-15T13:37:16.321Z"
   },
   {
    "duration": 35,
    "start_time": "2022-05-15T13:37:16.352Z"
   },
   {
    "duration": 25,
    "start_time": "2022-05-15T13:37:42.336Z"
   },
   {
    "duration": 801,
    "start_time": "2022-05-15T13:37:54.889Z"
   },
   {
    "duration": 19,
    "start_time": "2022-05-15T13:37:55.694Z"
   },
   {
    "duration": 55,
    "start_time": "2022-05-15T13:37:55.716Z"
   },
   {
    "duration": 6,
    "start_time": "2022-05-15T13:37:55.774Z"
   },
   {
    "duration": 38,
    "start_time": "2022-05-15T13:37:55.783Z"
   },
   {
    "duration": 12,
    "start_time": "2022-05-15T13:37:55.823Z"
   },
   {
    "duration": 17,
    "start_time": "2022-05-15T13:37:55.837Z"
   },
   {
    "duration": 46,
    "start_time": "2022-05-15T13:37:55.857Z"
   },
   {
    "duration": 12,
    "start_time": "2022-05-15T13:37:55.905Z"
   },
   {
    "duration": 16,
    "start_time": "2022-05-15T13:37:55.922Z"
   },
   {
    "duration": 19,
    "start_time": "2022-05-15T13:37:55.940Z"
   },
   {
    "duration": 76,
    "start_time": "2022-05-15T13:37:55.961Z"
   },
   {
    "duration": 55,
    "start_time": "2022-05-15T13:37:56.040Z"
   },
   {
    "duration": 11,
    "start_time": "2022-05-15T13:37:56.097Z"
   },
   {
    "duration": 13,
    "start_time": "2022-05-15T13:37:56.110Z"
   },
   {
    "duration": 49,
    "start_time": "2022-05-15T13:37:56.125Z"
   },
   {
    "duration": 73,
    "start_time": "2022-05-15T13:37:56.177Z"
   },
   {
    "duration": 34,
    "start_time": "2022-05-15T13:37:56.255Z"
   },
   {
    "duration": 34,
    "start_time": "2022-05-15T13:37:56.291Z"
   },
   {
    "duration": 42,
    "start_time": "2022-05-15T13:37:56.327Z"
   },
   {
    "duration": 45,
    "start_time": "2022-05-15T13:37:56.371Z"
   },
   {
    "duration": 59,
    "start_time": "2022-05-15T13:37:56.419Z"
   },
   {
    "duration": 15,
    "start_time": "2022-05-15T13:37:56.484Z"
   },
   {
    "duration": 69,
    "start_time": "2022-05-15T13:37:56.502Z"
   },
   {
    "duration": 23,
    "start_time": "2022-05-15T13:37:56.576Z"
   },
   {
    "duration": 22,
    "start_time": "2022-05-15T13:37:56.602Z"
   },
   {
    "duration": 67,
    "start_time": "2022-05-15T13:37:56.626Z"
   },
   {
    "duration": 9,
    "start_time": "2022-05-15T13:37:56.699Z"
   },
   {
    "duration": 67,
    "start_time": "2022-05-15T13:37:56.711Z"
   },
   {
    "duration": 21,
    "start_time": "2022-05-15T13:37:56.781Z"
   },
   {
    "duration": 150,
    "start_time": "2022-05-15T13:37:56.805Z"
   },
   {
    "duration": 64,
    "start_time": "2022-05-15T13:37:56.957Z"
   },
   {
    "duration": 97,
    "start_time": "2022-05-15T13:37:57.023Z"
   },
   {
    "duration": 47,
    "start_time": "2022-05-15T13:37:57.123Z"
   },
   {
    "duration": 47,
    "start_time": "2022-05-15T13:37:57.180Z"
   },
   {
    "duration": 62,
    "start_time": "2022-05-15T13:37:57.230Z"
   },
   {
    "duration": 69,
    "start_time": "2022-05-15T13:37:57.295Z"
   },
   {
    "duration": 47,
    "start_time": "2022-05-15T13:37:57.368Z"
   },
   {
    "duration": 6,
    "start_time": "2022-05-15T13:37:57.417Z"
   },
   {
    "duration": 44,
    "start_time": "2022-05-15T13:37:57.453Z"
   },
   {
    "duration": 19,
    "start_time": "2022-05-15T13:37:57.500Z"
   },
   {
    "duration": 83,
    "start_time": "2022-05-15T13:37:57.521Z"
   },
   {
    "duration": 52,
    "start_time": "2022-05-15T13:37:57.606Z"
   },
   {
    "duration": 35,
    "start_time": "2022-05-15T13:37:57.660Z"
   },
   {
    "duration": 18,
    "start_time": "2022-05-15T13:37:57.698Z"
   },
   {
    "duration": 10,
    "start_time": "2022-05-15T13:37:57.718Z"
   },
   {
    "duration": 19,
    "start_time": "2022-05-15T13:38:05.311Z"
   },
   {
    "duration": 834,
    "start_time": "2022-05-15T13:38:14.646Z"
   },
   {
    "duration": 17,
    "start_time": "2022-05-15T13:38:15.484Z"
   },
   {
    "duration": 39,
    "start_time": "2022-05-15T13:38:15.504Z"
   },
   {
    "duration": 12,
    "start_time": "2022-05-15T13:38:15.556Z"
   },
   {
    "duration": 45,
    "start_time": "2022-05-15T13:38:15.571Z"
   },
   {
    "duration": 17,
    "start_time": "2022-05-15T13:38:15.618Z"
   },
   {
    "duration": 22,
    "start_time": "2022-05-15T13:38:15.638Z"
   },
   {
    "duration": 47,
    "start_time": "2022-05-15T13:38:15.661Z"
   },
   {
    "duration": 13,
    "start_time": "2022-05-15T13:38:15.711Z"
   },
   {
    "duration": 25,
    "start_time": "2022-05-15T13:38:15.728Z"
   },
   {
    "duration": 52,
    "start_time": "2022-05-15T13:38:15.756Z"
   },
   {
    "duration": 54,
    "start_time": "2022-05-15T13:38:15.811Z"
   },
   {
    "duration": 50,
    "start_time": "2022-05-15T13:38:15.868Z"
   },
   {
    "duration": 11,
    "start_time": "2022-05-15T13:38:15.920Z"
   },
   {
    "duration": 20,
    "start_time": "2022-05-15T13:38:15.952Z"
   },
   {
    "duration": 35,
    "start_time": "2022-05-15T13:38:15.975Z"
   },
   {
    "duration": 86,
    "start_time": "2022-05-15T13:38:16.012Z"
   },
   {
    "duration": 25,
    "start_time": "2022-05-15T13:38:16.102Z"
   },
   {
    "duration": 37,
    "start_time": "2022-05-15T13:38:16.129Z"
   },
   {
    "duration": 26,
    "start_time": "2022-05-15T13:38:16.172Z"
   },
   {
    "duration": 77,
    "start_time": "2022-05-15T13:38:16.201Z"
   },
   {
    "duration": 51,
    "start_time": "2022-05-15T13:38:16.292Z"
   },
   {
    "duration": 28,
    "start_time": "2022-05-15T13:38:16.346Z"
   },
   {
    "duration": 61,
    "start_time": "2022-05-15T13:38:16.379Z"
   },
   {
    "duration": 24,
    "start_time": "2022-05-15T13:38:16.443Z"
   },
   {
    "duration": 51,
    "start_time": "2022-05-15T13:38:16.469Z"
   },
   {
    "duration": 21,
    "start_time": "2022-05-15T13:38:16.522Z"
   },
   {
    "duration": 20,
    "start_time": "2022-05-15T13:38:16.549Z"
   },
   {
    "duration": 70,
    "start_time": "2022-05-15T13:38:16.572Z"
   },
   {
    "duration": 29,
    "start_time": "2022-05-15T13:38:16.644Z"
   },
   {
    "duration": 143,
    "start_time": "2022-05-15T13:38:16.675Z"
   },
   {
    "duration": 78,
    "start_time": "2022-05-15T13:38:16.821Z"
   },
   {
    "duration": 97,
    "start_time": "2022-05-15T13:38:16.901Z"
   },
   {
    "duration": 28,
    "start_time": "2022-05-15T13:38:17.000Z"
   },
   {
    "duration": 78,
    "start_time": "2022-05-15T13:38:17.031Z"
   },
   {
    "duration": 56,
    "start_time": "2022-05-15T13:38:17.111Z"
   },
   {
    "duration": 62,
    "start_time": "2022-05-15T13:38:17.170Z"
   },
   {
    "duration": 67,
    "start_time": "2022-05-15T13:38:17.234Z"
   },
   {
    "duration": 6,
    "start_time": "2022-05-15T13:38:17.303Z"
   },
   {
    "duration": 61,
    "start_time": "2022-05-15T13:38:17.311Z"
   },
   {
    "duration": 7,
    "start_time": "2022-05-15T13:38:17.374Z"
   },
   {
    "duration": 82,
    "start_time": "2022-05-15T13:38:17.384Z"
   },
   {
    "duration": 38,
    "start_time": "2022-05-15T13:38:17.469Z"
   },
   {
    "duration": 61,
    "start_time": "2022-05-15T13:38:17.510Z"
   },
   {
    "duration": 36,
    "start_time": "2022-05-15T13:38:17.575Z"
   },
   {
    "duration": 14,
    "start_time": "2022-05-15T13:38:17.613Z"
   },
   {
    "duration": 25,
    "start_time": "2022-05-15T13:38:17.629Z"
   },
   {
    "duration": 34,
    "start_time": "2022-05-15T13:38:17.656Z"
   },
   {
    "duration": 1049,
    "start_time": "2022-05-15T13:38:17.696Z"
   },
   {
    "duration": 16,
    "start_time": "2022-05-15T13:38:18.751Z"
   },
   {
    "duration": 47,
    "start_time": "2022-05-15T13:38:18.771Z"
   },
   {
    "duration": 29,
    "start_time": "2022-05-15T13:38:46.138Z"
   },
   {
    "duration": 757,
    "start_time": "2022-05-15T13:38:53.174Z"
   },
   {
    "duration": 36,
    "start_time": "2022-05-15T13:38:53.934Z"
   },
   {
    "duration": 48,
    "start_time": "2022-05-15T13:38:53.973Z"
   },
   {
    "duration": 9,
    "start_time": "2022-05-15T13:38:54.023Z"
   },
   {
    "duration": 27,
    "start_time": "2022-05-15T13:38:54.035Z"
   },
   {
    "duration": 44,
    "start_time": "2022-05-15T13:38:54.067Z"
   },
   {
    "duration": 10,
    "start_time": "2022-05-15T13:38:54.113Z"
   },
   {
    "duration": 12,
    "start_time": "2022-05-15T13:38:54.126Z"
   },
   {
    "duration": 23,
    "start_time": "2022-05-15T13:38:54.140Z"
   },
   {
    "duration": 48,
    "start_time": "2022-05-15T13:38:54.166Z"
   },
   {
    "duration": 11,
    "start_time": "2022-05-15T13:38:54.216Z"
   },
   {
    "duration": 47,
    "start_time": "2022-05-15T13:38:54.230Z"
   },
   {
    "duration": 49,
    "start_time": "2022-05-15T13:38:54.280Z"
   },
   {
    "duration": 31,
    "start_time": "2022-05-15T13:38:54.334Z"
   },
   {
    "duration": 13,
    "start_time": "2022-05-15T13:38:54.367Z"
   },
   {
    "duration": 32,
    "start_time": "2022-05-15T13:38:54.383Z"
   },
   {
    "duration": 78,
    "start_time": "2022-05-15T13:38:54.417Z"
   },
   {
    "duration": 28,
    "start_time": "2022-05-15T13:38:54.497Z"
   },
   {
    "duration": 56,
    "start_time": "2022-05-15T13:38:54.528Z"
   },
   {
    "duration": 18,
    "start_time": "2022-05-15T13:38:54.593Z"
   },
   {
    "duration": 49,
    "start_time": "2022-05-15T13:38:54.613Z"
   },
   {
    "duration": 41,
    "start_time": "2022-05-15T13:38:54.669Z"
   },
   {
    "duration": 14,
    "start_time": "2022-05-15T13:38:54.712Z"
   },
   {
    "duration": 82,
    "start_time": "2022-05-15T13:38:54.728Z"
   },
   {
    "duration": 14,
    "start_time": "2022-05-15T13:38:54.812Z"
   },
   {
    "duration": 46,
    "start_time": "2022-05-15T13:38:54.828Z"
   },
   {
    "duration": 28,
    "start_time": "2022-05-15T13:38:54.877Z"
   },
   {
    "duration": 8,
    "start_time": "2022-05-15T13:38:54.907Z"
   },
   {
    "duration": 59,
    "start_time": "2022-05-15T13:38:54.917Z"
   },
   {
    "duration": 19,
    "start_time": "2022-05-15T13:38:54.979Z"
   },
   {
    "duration": 135,
    "start_time": "2022-05-15T13:38:55.000Z"
   },
   {
    "duration": 77,
    "start_time": "2022-05-15T13:38:55.137Z"
   },
   {
    "duration": 84,
    "start_time": "2022-05-15T13:38:55.216Z"
   },
   {
    "duration": 52,
    "start_time": "2022-05-15T13:38:55.303Z"
   },
   {
    "duration": 52,
    "start_time": "2022-05-15T13:38:55.358Z"
   },
   {
    "duration": 63,
    "start_time": "2022-05-15T13:38:55.412Z"
   },
   {
    "duration": 57,
    "start_time": "2022-05-15T13:38:55.478Z"
   },
   {
    "duration": 66,
    "start_time": "2022-05-15T13:38:55.537Z"
   },
   {
    "duration": 8,
    "start_time": "2022-05-15T13:38:55.606Z"
   },
   {
    "duration": 72,
    "start_time": "2022-05-15T13:38:55.616Z"
   },
   {
    "duration": 13,
    "start_time": "2022-05-15T13:38:55.695Z"
   },
   {
    "duration": 85,
    "start_time": "2022-05-15T13:38:55.710Z"
   },
   {
    "duration": 34,
    "start_time": "2022-05-15T13:38:55.797Z"
   },
   {
    "duration": 30,
    "start_time": "2022-05-15T13:38:55.862Z"
   },
   {
    "duration": 17,
    "start_time": "2022-05-15T13:38:55.896Z"
   },
   {
    "duration": 12,
    "start_time": "2022-05-15T13:38:55.915Z"
   },
   {
    "duration": 19,
    "start_time": "2022-05-15T13:43:13.585Z"
   },
   {
    "duration": 822,
    "start_time": "2022-05-15T13:43:18.069Z"
   },
   {
    "duration": 15,
    "start_time": "2022-05-15T13:43:18.894Z"
   },
   {
    "duration": 62,
    "start_time": "2022-05-15T13:43:18.912Z"
   },
   {
    "duration": 6,
    "start_time": "2022-05-15T13:43:18.977Z"
   },
   {
    "duration": 28,
    "start_time": "2022-05-15T13:43:18.985Z"
   },
   {
    "duration": 53,
    "start_time": "2022-05-15T13:43:19.016Z"
   },
   {
    "duration": 7,
    "start_time": "2022-05-15T13:43:19.072Z"
   },
   {
    "duration": 12,
    "start_time": "2022-05-15T13:43:19.082Z"
   },
   {
    "duration": 17,
    "start_time": "2022-05-15T13:43:19.097Z"
   },
   {
    "duration": 51,
    "start_time": "2022-05-15T13:43:19.118Z"
   },
   {
    "duration": 10,
    "start_time": "2022-05-15T13:43:19.172Z"
   },
   {
    "duration": 45,
    "start_time": "2022-05-15T13:43:19.184Z"
   },
   {
    "duration": 66,
    "start_time": "2022-05-15T13:43:19.231Z"
   },
   {
    "duration": 10,
    "start_time": "2022-05-15T13:43:19.299Z"
   },
   {
    "duration": 44,
    "start_time": "2022-05-15T13:43:19.311Z"
   },
   {
    "duration": 26,
    "start_time": "2022-05-15T13:43:19.359Z"
   },
   {
    "duration": 70,
    "start_time": "2022-05-15T13:43:19.387Z"
   },
   {
    "duration": 28,
    "start_time": "2022-05-15T13:43:19.460Z"
   },
   {
    "duration": 24,
    "start_time": "2022-05-15T13:43:19.490Z"
   },
   {
    "duration": 51,
    "start_time": "2022-05-15T13:43:19.517Z"
   },
   {
    "duration": 34,
    "start_time": "2022-05-15T13:43:19.571Z"
   },
   {
    "duration": 67,
    "start_time": "2022-05-15T13:43:19.607Z"
   },
   {
    "duration": 12,
    "start_time": "2022-05-15T13:43:19.677Z"
   },
   {
    "duration": 63,
    "start_time": "2022-05-15T13:43:19.691Z"
   },
   {
    "duration": 20,
    "start_time": "2022-05-15T13:43:19.758Z"
   },
   {
    "duration": 18,
    "start_time": "2022-05-15T13:43:19.780Z"
   },
   {
    "duration": 24,
    "start_time": "2022-05-15T13:43:19.800Z"
   },
   {
    "duration": 10,
    "start_time": "2022-05-15T13:43:19.856Z"
   },
   {
    "duration": 38,
    "start_time": "2022-05-15T13:43:19.869Z"
   },
   {
    "duration": 59,
    "start_time": "2022-05-15T13:43:19.910Z"
   },
   {
    "duration": 164,
    "start_time": "2022-05-15T13:43:19.972Z"
   },
   {
    "duration": 76,
    "start_time": "2022-05-15T13:43:20.138Z"
   },
   {
    "duration": 112,
    "start_time": "2022-05-15T13:43:20.217Z"
   },
   {
    "duration": 44,
    "start_time": "2022-05-15T13:43:20.332Z"
   },
   {
    "duration": 44,
    "start_time": "2022-05-15T13:43:20.379Z"
   },
   {
    "duration": 64,
    "start_time": "2022-05-15T13:43:20.426Z"
   },
   {
    "duration": 75,
    "start_time": "2022-05-15T13:43:20.492Z"
   },
   {
    "duration": 30,
    "start_time": "2022-05-15T13:43:20.570Z"
   },
   {
    "duration": 7,
    "start_time": "2022-05-15T13:43:20.602Z"
   },
   {
    "duration": 36,
    "start_time": "2022-05-15T13:43:20.657Z"
   },
   {
    "duration": 7,
    "start_time": "2022-05-15T13:43:20.695Z"
   },
   {
    "duration": 97,
    "start_time": "2022-05-15T13:43:20.704Z"
   },
   {
    "duration": 31,
    "start_time": "2022-05-15T13:43:20.803Z"
   },
   {
    "duration": 36,
    "start_time": "2022-05-15T13:43:20.836Z"
   },
   {
    "duration": 21,
    "start_time": "2022-05-15T13:43:20.874Z"
   },
   {
    "duration": 70,
    "start_time": "2022-05-15T13:43:20.898Z"
   },
   {
    "duration": 13,
    "start_time": "2022-05-15T13:46:35.092Z"
   },
   {
    "duration": 39,
    "start_time": "2022-05-15T13:47:46.807Z"
   },
   {
    "duration": 46,
    "start_time": "2022-05-15T13:48:02.435Z"
   },
   {
    "duration": 39,
    "start_time": "2022-05-15T13:48:46.971Z"
   },
   {
    "duration": 12,
    "start_time": "2022-05-15T14:01:27.226Z"
   },
   {
    "duration": 12,
    "start_time": "2022-05-15T14:01:40.000Z"
   },
   {
    "duration": 767,
    "start_time": "2022-05-15T14:01:50.437Z"
   },
   {
    "duration": 15,
    "start_time": "2022-05-15T14:01:51.207Z"
   },
   {
    "duration": 64,
    "start_time": "2022-05-15T14:01:51.225Z"
   },
   {
    "duration": 11,
    "start_time": "2022-05-15T14:01:51.292Z"
   },
   {
    "duration": 22,
    "start_time": "2022-05-15T14:01:51.305Z"
   },
   {
    "duration": 18,
    "start_time": "2022-05-15T14:01:51.353Z"
   },
   {
    "duration": 7,
    "start_time": "2022-05-15T14:01:51.374Z"
   },
   {
    "duration": 13,
    "start_time": "2022-05-15T14:01:51.383Z"
   },
   {
    "duration": 52,
    "start_time": "2022-05-15T14:01:51.399Z"
   },
   {
    "duration": 21,
    "start_time": "2022-05-15T14:01:51.458Z"
   },
   {
    "duration": 10,
    "start_time": "2022-05-15T14:01:51.481Z"
   },
   {
    "duration": 79,
    "start_time": "2022-05-15T14:01:51.493Z"
   },
   {
    "duration": 41,
    "start_time": "2022-05-15T14:01:51.574Z"
   },
   {
    "duration": 37,
    "start_time": "2022-05-15T14:01:51.618Z"
   },
   {
    "duration": 13,
    "start_time": "2022-05-15T14:01:51.658Z"
   },
   {
    "duration": 19,
    "start_time": "2022-05-15T14:01:51.673Z"
   },
   {
    "duration": 87,
    "start_time": "2022-05-15T14:01:51.694Z"
   },
   {
    "duration": 26,
    "start_time": "2022-05-15T14:01:51.784Z"
   },
   {
    "duration": 52,
    "start_time": "2022-05-15T14:01:51.813Z"
   },
   {
    "duration": 16,
    "start_time": "2022-05-15T14:01:51.868Z"
   },
   {
    "duration": 35,
    "start_time": "2022-05-15T14:01:51.887Z"
   },
   {
    "duration": 39,
    "start_time": "2022-05-15T14:01:51.953Z"
   },
   {
    "duration": 12,
    "start_time": "2022-05-15T14:01:51.994Z"
   },
   {
    "duration": 77,
    "start_time": "2022-05-15T14:01:52.008Z"
   },
   {
    "duration": 15,
    "start_time": "2022-05-15T14:01:52.087Z"
   },
   {
    "duration": 22,
    "start_time": "2022-05-15T14:01:52.104Z"
   },
   {
    "duration": 47,
    "start_time": "2022-05-15T14:01:52.128Z"
   },
   {
    "duration": 17,
    "start_time": "2022-05-15T14:01:52.182Z"
   },
   {
    "duration": 74,
    "start_time": "2022-05-15T14:01:52.202Z"
   },
   {
    "duration": 15,
    "start_time": "2022-05-15T14:01:52.278Z"
   },
   {
    "duration": 138,
    "start_time": "2022-05-15T14:01:52.295Z"
   },
   {
    "duration": 65,
    "start_time": "2022-05-15T14:01:52.435Z"
   },
   {
    "duration": 99,
    "start_time": "2022-05-15T14:01:52.503Z"
   },
   {
    "duration": 28,
    "start_time": "2022-05-15T14:01:52.605Z"
   },
   {
    "duration": 45,
    "start_time": "2022-05-15T14:01:52.657Z"
   },
   {
    "duration": 64,
    "start_time": "2022-05-15T14:01:52.705Z"
   },
   {
    "duration": 58,
    "start_time": "2022-05-15T14:01:52.772Z"
   },
   {
    "duration": 34,
    "start_time": "2022-05-15T14:01:52.858Z"
   },
   {
    "duration": 6,
    "start_time": "2022-05-15T14:01:52.895Z"
   },
   {
    "duration": 75,
    "start_time": "2022-05-15T14:01:52.903Z"
   },
   {
    "duration": 6,
    "start_time": "2022-05-15T14:01:52.980Z"
   },
   {
    "duration": 93,
    "start_time": "2022-05-15T14:01:52.989Z"
   },
   {
    "duration": 31,
    "start_time": "2022-05-15T14:01:53.084Z"
   },
   {
    "duration": 56,
    "start_time": "2022-05-15T14:01:53.117Z"
   },
   {
    "duration": 17,
    "start_time": "2022-05-15T14:01:53.176Z"
   },
   {
    "duration": 68,
    "start_time": "2022-05-15T14:01:53.195Z"
   },
   {
    "duration": 37,
    "start_time": "2022-05-15T14:01:53.266Z"
   },
   {
    "duration": 11,
    "start_time": "2022-05-15T14:01:53.305Z"
   },
   {
    "duration": 12,
    "start_time": "2022-05-15T14:03:23.713Z"
   },
   {
    "duration": 791,
    "start_time": "2022-05-15T14:03:42.423Z"
   },
   {
    "duration": 37,
    "start_time": "2022-05-15T14:03:43.217Z"
   },
   {
    "duration": 45,
    "start_time": "2022-05-15T14:03:43.257Z"
   },
   {
    "duration": 6,
    "start_time": "2022-05-15T14:03:43.305Z"
   },
   {
    "duration": 52,
    "start_time": "2022-05-15T14:03:43.313Z"
   },
   {
    "duration": 22,
    "start_time": "2022-05-15T14:03:43.368Z"
   },
   {
    "duration": 8,
    "start_time": "2022-05-15T14:03:43.393Z"
   },
   {
    "duration": 14,
    "start_time": "2022-05-15T14:03:43.403Z"
   },
   {
    "duration": 40,
    "start_time": "2022-05-15T14:03:43.419Z"
   },
   {
    "duration": 18,
    "start_time": "2022-05-15T14:03:43.465Z"
   },
   {
    "duration": 11,
    "start_time": "2022-05-15T14:03:43.486Z"
   },
   {
    "duration": 82,
    "start_time": "2022-05-15T14:03:43.500Z"
   },
   {
    "duration": 43,
    "start_time": "2022-05-15T14:03:43.585Z"
   },
   {
    "duration": 11,
    "start_time": "2022-05-15T14:03:43.651Z"
   },
   {
    "duration": 11,
    "start_time": "2022-05-15T14:03:43.665Z"
   },
   {
    "duration": 18,
    "start_time": "2022-05-15T14:03:43.678Z"
   },
   {
    "duration": 96,
    "start_time": "2022-05-15T14:03:43.698Z"
   },
   {
    "duration": 26,
    "start_time": "2022-05-15T14:03:43.797Z"
   },
   {
    "duration": 48,
    "start_time": "2022-05-15T14:03:43.826Z"
   },
   {
    "duration": 15,
    "start_time": "2022-05-15T14:03:43.876Z"
   },
   {
    "duration": 60,
    "start_time": "2022-05-15T14:03:43.893Z"
   },
   {
    "duration": 31,
    "start_time": "2022-05-15T14:03:43.956Z"
   },
   {
    "duration": 12,
    "start_time": "2022-05-15T14:03:43.990Z"
   },
   {
    "duration": 70,
    "start_time": "2022-05-15T14:03:44.004Z"
   },
   {
    "duration": 19,
    "start_time": "2022-05-15T14:03:44.077Z"
   },
   {
    "duration": 22,
    "start_time": "2022-05-15T14:03:44.099Z"
   },
   {
    "duration": 47,
    "start_time": "2022-05-15T14:03:44.124Z"
   },
   {
    "duration": 10,
    "start_time": "2022-05-15T14:03:44.176Z"
   },
   {
    "duration": 65,
    "start_time": "2022-05-15T14:03:44.188Z"
   },
   {
    "duration": 16,
    "start_time": "2022-05-15T14:03:44.255Z"
   },
   {
    "duration": 140,
    "start_time": "2022-05-15T14:03:44.273Z"
   },
   {
    "duration": 65,
    "start_time": "2022-05-15T14:03:44.415Z"
   },
   {
    "duration": 85,
    "start_time": "2022-05-15T14:03:44.483Z"
   },
   {
    "duration": 27,
    "start_time": "2022-05-15T14:03:44.571Z"
   },
   {
    "duration": 62,
    "start_time": "2022-05-15T14:03:44.600Z"
   },
   {
    "duration": 32,
    "start_time": "2022-05-15T14:03:44.664Z"
   },
   {
    "duration": 79,
    "start_time": "2022-05-15T14:03:44.698Z"
   },
   {
    "duration": 31,
    "start_time": "2022-05-15T14:03:44.779Z"
   },
   {
    "duration": 43,
    "start_time": "2022-05-15T14:03:44.812Z"
   },
   {
    "duration": 38,
    "start_time": "2022-05-15T14:03:44.857Z"
   },
   {
    "duration": 7,
    "start_time": "2022-05-15T14:03:44.898Z"
   },
   {
    "duration": 113,
    "start_time": "2022-05-15T14:03:44.908Z"
   },
   {
    "duration": 55,
    "start_time": "2022-05-15T14:03:45.024Z"
   },
   {
    "duration": 22,
    "start_time": "2022-05-15T14:03:45.081Z"
   },
   {
    "duration": 47,
    "start_time": "2022-05-15T14:03:45.106Z"
   },
   {
    "duration": 32,
    "start_time": "2022-05-15T14:03:45.155Z"
   },
   {
    "duration": 38,
    "start_time": "2022-05-15T14:03:45.189Z"
   },
   {
    "duration": 33,
    "start_time": "2022-05-15T14:03:45.229Z"
   },
   {
    "duration": 31,
    "start_time": "2022-05-15T14:06:27.775Z"
   },
   {
    "duration": 31,
    "start_time": "2022-05-15T14:07:29.141Z"
   },
   {
    "duration": 748,
    "start_time": "2022-05-15T14:07:38.635Z"
   },
   {
    "duration": 15,
    "start_time": "2022-05-15T14:07:39.386Z"
   },
   {
    "duration": 55,
    "start_time": "2022-05-15T14:07:39.404Z"
   },
   {
    "duration": 6,
    "start_time": "2022-05-15T14:07:39.465Z"
   },
   {
    "duration": 21,
    "start_time": "2022-05-15T14:07:39.473Z"
   },
   {
    "duration": 11,
    "start_time": "2022-05-15T14:07:39.496Z"
   },
   {
    "duration": 50,
    "start_time": "2022-05-15T14:07:39.509Z"
   },
   {
    "duration": 17,
    "start_time": "2022-05-15T14:07:39.563Z"
   },
   {
    "duration": 12,
    "start_time": "2022-05-15T14:07:39.583Z"
   },
   {
    "duration": 18,
    "start_time": "2022-05-15T14:07:39.600Z"
   },
   {
    "duration": 19,
    "start_time": "2022-05-15T14:07:39.656Z"
   },
   {
    "duration": 51,
    "start_time": "2022-05-15T14:07:39.677Z"
   },
   {
    "duration": 69,
    "start_time": "2022-05-15T14:07:39.731Z"
   },
   {
    "duration": 10,
    "start_time": "2022-05-15T14:07:39.802Z"
   },
   {
    "duration": 11,
    "start_time": "2022-05-15T14:07:39.814Z"
   },
   {
    "duration": 23,
    "start_time": "2022-05-15T14:07:39.855Z"
   },
   {
    "duration": 77,
    "start_time": "2022-05-15T14:07:39.881Z"
   },
   {
    "duration": 29,
    "start_time": "2022-05-15T14:07:39.962Z"
   },
   {
    "duration": 22,
    "start_time": "2022-05-15T14:07:39.993Z"
   },
   {
    "duration": 51,
    "start_time": "2022-05-15T14:07:40.017Z"
   },
   {
    "duration": 35,
    "start_time": "2022-05-15T14:07:40.070Z"
   },
   {
    "duration": 68,
    "start_time": "2022-05-15T14:07:40.109Z"
   },
   {
    "duration": 12,
    "start_time": "2022-05-15T14:07:40.179Z"
   },
   {
    "duration": 67,
    "start_time": "2022-05-15T14:07:40.193Z"
   },
   {
    "duration": 19,
    "start_time": "2022-05-15T14:07:40.263Z"
   },
   {
    "duration": 20,
    "start_time": "2022-05-15T14:07:40.284Z"
   },
   {
    "duration": 59,
    "start_time": "2022-05-15T14:07:40.306Z"
   },
   {
    "duration": 10,
    "start_time": "2022-05-15T14:07:40.372Z"
   },
   {
    "duration": 38,
    "start_time": "2022-05-15T14:07:40.384Z"
   },
   {
    "duration": 48,
    "start_time": "2022-05-15T14:07:40.424Z"
   },
   {
    "duration": 145,
    "start_time": "2022-05-15T14:07:40.475Z"
   },
   {
    "duration": 73,
    "start_time": "2022-05-15T14:07:40.622Z"
   },
   {
    "duration": 91,
    "start_time": "2022-05-15T14:07:40.698Z"
   },
   {
    "duration": 28,
    "start_time": "2022-05-15T14:07:40.791Z"
   },
   {
    "duration": 254,
    "start_time": "2022-05-15T14:07:40.821Z"
   },
   {
    "duration": 34,
    "start_time": "2022-05-15T14:07:41.077Z"
   },
   {
    "duration": 95,
    "start_time": "2022-05-15T14:07:41.113Z"
   },
   {
    "duration": 57,
    "start_time": "2022-05-15T14:07:41.210Z"
   },
   {
    "duration": 7,
    "start_time": "2022-05-15T14:07:41.269Z"
   },
   {
    "duration": 84,
    "start_time": "2022-05-15T14:07:41.278Z"
   },
   {
    "duration": 7,
    "start_time": "2022-05-15T14:07:41.365Z"
   },
   {
    "duration": 82,
    "start_time": "2022-05-15T14:07:41.374Z"
   },
   {
    "duration": 38,
    "start_time": "2022-05-15T14:07:41.460Z"
   },
   {
    "duration": 58,
    "start_time": "2022-05-15T14:07:41.501Z"
   },
   {
    "duration": 26,
    "start_time": "2022-05-15T14:07:41.563Z"
   },
   {
    "duration": 31,
    "start_time": "2022-05-15T14:07:41.591Z"
   },
   {
    "duration": 71,
    "start_time": "2022-05-15T14:07:41.624Z"
   },
   {
    "duration": 34,
    "start_time": "2022-05-15T14:07:46.345Z"
   },
   {
    "duration": 707,
    "start_time": "2022-05-15T14:08:15.576Z"
   },
   {
    "duration": 14,
    "start_time": "2022-05-15T14:08:16.287Z"
   },
   {
    "duration": 49,
    "start_time": "2022-05-15T14:08:16.303Z"
   },
   {
    "duration": 8,
    "start_time": "2022-05-15T14:08:16.356Z"
   },
   {
    "duration": 23,
    "start_time": "2022-05-15T14:08:16.367Z"
   },
   {
    "duration": 12,
    "start_time": "2022-05-15T14:08:16.392Z"
   },
   {
    "duration": 50,
    "start_time": "2022-05-15T14:08:16.406Z"
   },
   {
    "duration": 23,
    "start_time": "2022-05-15T14:08:16.460Z"
   },
   {
    "duration": 13,
    "start_time": "2022-05-15T14:08:16.485Z"
   },
   {
    "duration": 17,
    "start_time": "2022-05-15T14:08:16.501Z"
   },
   {
    "duration": 38,
    "start_time": "2022-05-15T14:08:16.520Z"
   },
   {
    "duration": 54,
    "start_time": "2022-05-15T14:08:16.561Z"
   },
   {
    "duration": 62,
    "start_time": "2022-05-15T14:08:16.617Z"
   },
   {
    "duration": 11,
    "start_time": "2022-05-15T14:08:16.681Z"
   },
   {
    "duration": 13,
    "start_time": "2022-05-15T14:08:16.695Z"
   },
   {
    "duration": 43,
    "start_time": "2022-05-15T14:08:16.710Z"
   },
   {
    "duration": 54,
    "start_time": "2022-05-15T14:08:16.757Z"
   },
   {
    "duration": 66,
    "start_time": "2022-05-15T14:08:16.813Z"
   },
   {
    "duration": 24,
    "start_time": "2022-05-15T14:08:16.881Z"
   },
   {
    "duration": 13,
    "start_time": "2022-05-15T14:08:16.908Z"
   },
   {
    "duration": 41,
    "start_time": "2022-05-15T14:08:16.953Z"
   },
   {
    "duration": 60,
    "start_time": "2022-05-15T14:08:16.997Z"
   },
   {
    "duration": 18,
    "start_time": "2022-05-15T14:08:17.060Z"
   },
   {
    "duration": 39,
    "start_time": "2022-05-15T14:08:17.080Z"
   },
   {
    "duration": 50,
    "start_time": "2022-05-15T14:08:17.121Z"
   },
   {
    "duration": 20,
    "start_time": "2022-05-15T14:08:17.174Z"
   },
   {
    "duration": 62,
    "start_time": "2022-05-15T14:08:17.197Z"
   },
   {
    "duration": 9,
    "start_time": "2022-05-15T14:08:17.269Z"
   },
   {
    "duration": 35,
    "start_time": "2022-05-15T14:08:17.280Z"
   },
   {
    "duration": 45,
    "start_time": "2022-05-15T14:08:17.318Z"
   },
   {
    "duration": 136,
    "start_time": "2022-05-15T14:08:17.365Z"
   },
   {
    "duration": 75,
    "start_time": "2022-05-15T14:08:17.503Z"
   },
   {
    "duration": 91,
    "start_time": "2022-05-15T14:08:17.581Z"
   },
   {
    "duration": 30,
    "start_time": "2022-05-15T14:08:17.674Z"
   },
   {
    "duration": 67,
    "start_time": "2022-05-15T14:08:17.706Z"
   },
   {
    "duration": 33,
    "start_time": "2022-05-15T14:08:17.775Z"
   },
   {
    "duration": 84,
    "start_time": "2022-05-15T14:08:17.810Z"
   },
   {
    "duration": 62,
    "start_time": "2022-05-15T14:08:17.897Z"
   },
   {
    "duration": 8,
    "start_time": "2022-05-15T14:08:17.963Z"
   },
   {
    "duration": 32,
    "start_time": "2022-05-15T14:08:17.974Z"
   },
   {
    "duration": 9,
    "start_time": "2022-05-15T14:08:18.053Z"
   },
   {
    "duration": 52,
    "start_time": "2022-05-15T14:08:18.065Z"
   },
   {
    "duration": 68,
    "start_time": "2022-05-15T14:08:18.120Z"
   },
   {
    "duration": 22,
    "start_time": "2022-05-15T14:08:18.191Z"
   },
   {
    "duration": 53,
    "start_time": "2022-05-15T14:08:18.215Z"
   },
   {
    "duration": 33,
    "start_time": "2022-05-15T14:08:18.271Z"
   },
   {
    "duration": 75,
    "start_time": "2022-05-15T14:08:18.307Z"
   },
   {
    "duration": 29,
    "start_time": "2022-05-15T14:08:18.385Z"
   },
   {
    "duration": 55,
    "start_time": "2022-05-15T14:08:18.417Z"
   },
   {
    "duration": 25,
    "start_time": "2022-05-15T14:08:18.475Z"
   },
   {
    "duration": 870,
    "start_time": "2022-05-15T14:08:18.503Z"
   },
   {
    "duration": 16,
    "start_time": "2022-05-15T14:08:19.375Z"
   },
   {
    "duration": 20,
    "start_time": "2022-05-15T14:08:19.393Z"
   },
   {
    "duration": 15,
    "start_time": "2022-05-15T14:08:59.928Z"
   },
   {
    "duration": 35,
    "start_time": "2022-05-15T14:09:15.049Z"
   },
   {
    "duration": 22,
    "start_time": "2022-05-15T14:09:59.635Z"
   },
   {
    "duration": 22,
    "start_time": "2022-05-15T14:10:19.205Z"
   },
   {
    "duration": 779,
    "start_time": "2022-05-15T14:12:05.110Z"
   },
   {
    "duration": 15,
    "start_time": "2022-05-15T14:12:05.892Z"
   },
   {
    "duration": 54,
    "start_time": "2022-05-15T14:12:05.909Z"
   },
   {
    "duration": 14,
    "start_time": "2022-05-15T14:12:05.968Z"
   },
   {
    "duration": 23,
    "start_time": "2022-05-15T14:12:05.985Z"
   },
   {
    "duration": 17,
    "start_time": "2022-05-15T14:12:06.010Z"
   },
   {
    "duration": 34,
    "start_time": "2022-05-15T14:12:06.029Z"
   },
   {
    "duration": 13,
    "start_time": "2022-05-15T14:12:06.066Z"
   },
   {
    "duration": 16,
    "start_time": "2022-05-15T14:12:06.082Z"
   },
   {
    "duration": 20,
    "start_time": "2022-05-15T14:12:06.102Z"
   },
   {
    "duration": 40,
    "start_time": "2022-05-15T14:12:06.124Z"
   },
   {
    "duration": 47,
    "start_time": "2022-05-15T14:12:06.167Z"
   },
   {
    "duration": 75,
    "start_time": "2022-05-15T14:12:06.216Z"
   },
   {
    "duration": 43,
    "start_time": "2022-05-15T14:12:06.292Z"
   },
   {
    "duration": 132,
    "start_time": "2022-05-15T14:12:06.345Z"
   },
   {
    "duration": 18,
    "start_time": "2022-05-15T14:12:06.479Z"
   },
   {
    "duration": 54,
    "start_time": "2022-05-15T14:12:06.499Z"
   },
   {
    "duration": 32,
    "start_time": "2022-05-15T14:12:06.556Z"
   },
   {
    "duration": 22,
    "start_time": "2022-05-15T14:12:06.590Z"
   },
   {
    "duration": 52,
    "start_time": "2022-05-15T14:12:06.615Z"
   },
   {
    "duration": 33,
    "start_time": "2022-05-15T14:12:06.669Z"
   },
   {
    "duration": 67,
    "start_time": "2022-05-15T14:12:06.704Z"
   },
   {
    "duration": 15,
    "start_time": "2022-05-15T14:12:06.773Z"
   },
   {
    "duration": 40,
    "start_time": "2022-05-15T14:12:06.791Z"
   },
   {
    "duration": 20,
    "start_time": "2022-05-15T14:12:06.853Z"
   },
   {
    "duration": 21,
    "start_time": "2022-05-15T14:12:06.875Z"
   },
   {
    "duration": 19,
    "start_time": "2022-05-15T14:12:06.899Z"
   },
   {
    "duration": 13,
    "start_time": "2022-05-15T14:12:06.953Z"
   },
   {
    "duration": 45,
    "start_time": "2022-05-15T14:12:06.969Z"
   },
   {
    "duration": 44,
    "start_time": "2022-05-15T14:12:07.016Z"
   },
   {
    "duration": 138,
    "start_time": "2022-05-15T14:12:07.063Z"
   },
   {
    "duration": 76,
    "start_time": "2022-05-15T14:12:07.204Z"
   },
   {
    "duration": 92,
    "start_time": "2022-05-15T14:12:07.282Z"
   },
   {
    "duration": 28,
    "start_time": "2022-05-15T14:12:07.376Z"
   },
   {
    "duration": 70,
    "start_time": "2022-05-15T14:12:07.406Z"
   },
   {
    "duration": 32,
    "start_time": "2022-05-15T14:12:07.478Z"
   },
   {
    "duration": 87,
    "start_time": "2022-05-15T14:12:07.513Z"
   },
   {
    "duration": 63,
    "start_time": "2022-05-15T14:12:07.602Z"
   },
   {
    "duration": 7,
    "start_time": "2022-05-15T14:12:07.668Z"
   },
   {
    "duration": 75,
    "start_time": "2022-05-15T14:12:07.677Z"
   },
   {
    "duration": 11,
    "start_time": "2022-05-15T14:12:07.756Z"
   },
   {
    "duration": 85,
    "start_time": "2022-05-15T14:12:07.769Z"
   },
   {
    "duration": 43,
    "start_time": "2022-05-15T14:12:07.856Z"
   },
   {
    "duration": 54,
    "start_time": "2022-05-15T14:12:07.902Z"
   },
   {
    "duration": 33,
    "start_time": "2022-05-15T14:12:07.959Z"
   },
   {
    "duration": 29,
    "start_time": "2022-05-15T14:12:07.995Z"
   },
   {
    "duration": 58,
    "start_time": "2022-05-15T14:12:08.026Z"
   },
   {
    "duration": 42,
    "start_time": "2022-05-15T14:12:08.087Z"
   },
   {
    "duration": 44,
    "start_time": "2022-05-15T14:12:08.131Z"
   },
   {
    "duration": 21,
    "start_time": "2022-05-15T14:12:08.178Z"
   },
   {
    "duration": 68,
    "start_time": "2022-05-15T14:12:08.202Z"
   },
   {
    "duration": 867,
    "start_time": "2022-05-15T14:12:08.273Z"
   },
   {
    "duration": 22,
    "start_time": "2022-05-15T14:12:09.152Z"
   },
   {
    "duration": 23,
    "start_time": "2022-05-15T14:12:09.177Z"
   },
   {
    "duration": 20,
    "start_time": "2022-05-15T14:12:39.166Z"
   },
   {
    "duration": 870,
    "start_time": "2022-05-15T14:12:54.906Z"
   },
   {
    "duration": 16,
    "start_time": "2022-05-15T14:12:55.779Z"
   },
   {
    "duration": 30,
    "start_time": "2022-05-15T14:12:55.797Z"
   },
   {
    "duration": 9,
    "start_time": "2022-05-15T14:12:55.853Z"
   },
   {
    "duration": 27,
    "start_time": "2022-05-15T14:12:55.866Z"
   },
   {
    "duration": 33,
    "start_time": "2022-05-15T14:12:55.896Z"
   },
   {
    "duration": 37,
    "start_time": "2022-05-15T14:12:55.932Z"
   },
   {
    "duration": 23,
    "start_time": "2022-05-15T14:12:55.972Z"
   },
   {
    "duration": 19,
    "start_time": "2022-05-15T14:12:55.997Z"
   },
   {
    "duration": 26,
    "start_time": "2022-05-15T14:12:56.020Z"
   },
   {
    "duration": 43,
    "start_time": "2022-05-15T14:12:56.048Z"
   },
   {
    "duration": 55,
    "start_time": "2022-05-15T14:12:56.093Z"
   },
   {
    "duration": 50,
    "start_time": "2022-05-15T14:12:56.150Z"
   },
   {
    "duration": 10,
    "start_time": "2022-05-15T14:12:56.202Z"
   },
   {
    "duration": 14,
    "start_time": "2022-05-15T14:12:56.214Z"
   },
   {
    "duration": 24,
    "start_time": "2022-05-15T14:12:56.253Z"
   },
   {
    "duration": 79,
    "start_time": "2022-05-15T14:12:56.279Z"
   },
   {
    "duration": 31,
    "start_time": "2022-05-15T14:12:56.362Z"
   },
   {
    "duration": 23,
    "start_time": "2022-05-15T14:12:56.397Z"
   },
   {
    "duration": 27,
    "start_time": "2022-05-15T14:12:56.451Z"
   },
   {
    "duration": 43,
    "start_time": "2022-05-15T14:12:56.481Z"
   },
   {
    "duration": 55,
    "start_time": "2022-05-15T14:12:56.527Z"
   },
   {
    "duration": 14,
    "start_time": "2022-05-15T14:12:56.584Z"
   },
   {
    "duration": 74,
    "start_time": "2022-05-15T14:12:56.600Z"
   },
   {
    "duration": 16,
    "start_time": "2022-05-15T14:12:56.676Z"
   },
   {
    "duration": 29,
    "start_time": "2022-05-15T14:12:56.695Z"
   },
   {
    "duration": 49,
    "start_time": "2022-05-15T14:12:56.727Z"
   },
   {
    "duration": 9,
    "start_time": "2022-05-15T14:12:56.782Z"
   },
   {
    "duration": 40,
    "start_time": "2022-05-15T14:12:56.793Z"
   },
   {
    "duration": 20,
    "start_time": "2022-05-15T14:12:56.859Z"
   },
   {
    "duration": 145,
    "start_time": "2022-05-15T14:12:56.881Z"
   },
   {
    "duration": 70,
    "start_time": "2022-05-15T14:12:57.029Z"
   },
   {
    "duration": 89,
    "start_time": "2022-05-15T14:12:57.101Z"
   },
   {
    "duration": 28,
    "start_time": "2022-05-15T14:12:57.193Z"
   },
   {
    "duration": 70,
    "start_time": "2022-05-15T14:12:57.224Z"
   },
   {
    "duration": 31,
    "start_time": "2022-05-15T14:12:57.297Z"
   },
   {
    "duration": 78,
    "start_time": "2022-05-15T14:12:57.330Z"
   },
   {
    "duration": 69,
    "start_time": "2022-05-15T14:12:57.411Z"
   },
   {
    "duration": 6,
    "start_time": "2022-05-15T14:12:57.483Z"
   },
   {
    "duration": 80,
    "start_time": "2022-05-15T14:12:57.492Z"
   },
   {
    "duration": 7,
    "start_time": "2022-05-15T14:12:57.574Z"
   },
   {
    "duration": 79,
    "start_time": "2022-05-15T14:12:57.583Z"
   },
   {
    "duration": 34,
    "start_time": "2022-05-15T14:12:57.665Z"
   },
   {
    "duration": 51,
    "start_time": "2022-05-15T14:12:57.701Z"
   },
   {
    "duration": 23,
    "start_time": "2022-05-15T14:12:57.755Z"
   },
   {
    "duration": 35,
    "start_time": "2022-05-15T14:12:57.780Z"
   },
   {
    "duration": 67,
    "start_time": "2022-05-15T14:12:57.818Z"
   },
   {
    "duration": 35,
    "start_time": "2022-05-15T14:12:57.889Z"
   },
   {
    "duration": 43,
    "start_time": "2022-05-15T14:12:57.928Z"
   },
   {
    "duration": 103,
    "start_time": "2022-05-15T14:15:16.169Z"
   },
   {
    "duration": 45,
    "start_time": "2022-05-15T14:17:19.370Z"
   },
   {
    "duration": 20,
    "start_time": "2022-05-15T14:18:33.934Z"
   },
   {
    "duration": 1910,
    "start_time": "2022-05-15T14:29:06.289Z"
   },
   {
    "duration": 838,
    "start_time": "2022-05-15T14:29:29.653Z"
   },
   {
    "duration": 14,
    "start_time": "2022-05-15T14:29:30.494Z"
   },
   {
    "duration": 53,
    "start_time": "2022-05-15T14:29:30.511Z"
   },
   {
    "duration": 8,
    "start_time": "2022-05-15T14:29:30.567Z"
   },
   {
    "duration": 25,
    "start_time": "2022-05-15T14:29:30.578Z"
   },
   {
    "duration": 20,
    "start_time": "2022-05-15T14:29:30.606Z"
   },
   {
    "duration": 9,
    "start_time": "2022-05-15T14:29:30.657Z"
   },
   {
    "duration": 27,
    "start_time": "2022-05-15T14:29:30.669Z"
   },
   {
    "duration": 21,
    "start_time": "2022-05-15T14:29:30.698Z"
   },
   {
    "duration": 36,
    "start_time": "2022-05-15T14:29:30.723Z"
   },
   {
    "duration": 42,
    "start_time": "2022-05-15T14:29:30.761Z"
   },
   {
    "duration": 52,
    "start_time": "2022-05-15T14:29:30.805Z"
   },
   {
    "duration": 52,
    "start_time": "2022-05-15T14:29:30.860Z"
   },
   {
    "duration": 10,
    "start_time": "2022-05-15T14:29:30.915Z"
   },
   {
    "duration": 55,
    "start_time": "2022-05-15T14:29:30.927Z"
   },
   {
    "duration": 21,
    "start_time": "2022-05-15T14:29:30.985Z"
   },
   {
    "duration": 95,
    "start_time": "2022-05-15T14:29:31.008Z"
   },
   {
    "duration": 28,
    "start_time": "2022-05-15T14:29:31.106Z"
   },
   {
    "duration": 51,
    "start_time": "2022-05-15T14:29:31.136Z"
   },
   {
    "duration": 15,
    "start_time": "2022-05-15T14:29:31.189Z"
   },
   {
    "duration": 55,
    "start_time": "2022-05-15T14:29:31.206Z"
   },
   {
    "duration": 37,
    "start_time": "2022-05-15T14:29:31.264Z"
   },
   {
    "duration": 15,
    "start_time": "2022-05-15T14:29:31.303Z"
   },
   {
    "duration": 52,
    "start_time": "2022-05-15T14:29:31.352Z"
   },
   {
    "duration": 15,
    "start_time": "2022-05-15T14:29:31.406Z"
   },
   {
    "duration": 53,
    "start_time": "2022-05-15T14:29:31.423Z"
   },
   {
    "duration": 30,
    "start_time": "2022-05-15T14:29:31.481Z"
   },
   {
    "duration": 9,
    "start_time": "2022-05-15T14:29:31.517Z"
   },
   {
    "duration": 68,
    "start_time": "2022-05-15T14:29:31.528Z"
   },
   {
    "duration": 16,
    "start_time": "2022-05-15T14:29:31.598Z"
   },
   {
    "duration": 144,
    "start_time": "2022-05-15T14:29:31.617Z"
   },
   {
    "duration": 59,
    "start_time": "2022-05-15T14:29:31.764Z"
   },
   {
    "duration": 96,
    "start_time": "2022-05-15T14:29:31.826Z"
   },
   {
    "duration": 61,
    "start_time": "2022-05-15T14:29:31.924Z"
   },
   {
    "duration": 39,
    "start_time": "2022-05-15T14:29:31.988Z"
   },
   {
    "duration": 55,
    "start_time": "2022-05-15T14:29:32.029Z"
   },
   {
    "duration": 75,
    "start_time": "2022-05-15T14:29:32.086Z"
   },
   {
    "duration": 37,
    "start_time": "2022-05-15T14:29:32.165Z"
   },
   {
    "duration": 7,
    "start_time": "2022-05-15T14:29:32.204Z"
   },
   {
    "duration": 47,
    "start_time": "2022-05-15T14:29:32.253Z"
   },
   {
    "duration": 7,
    "start_time": "2022-05-15T14:29:32.302Z"
   },
   {
    "duration": 101,
    "start_time": "2022-05-15T14:29:32.312Z"
   },
   {
    "duration": 57,
    "start_time": "2022-05-15T14:29:32.415Z"
   },
   {
    "duration": 25,
    "start_time": "2022-05-15T14:29:32.474Z"
   },
   {
    "duration": 19,
    "start_time": "2022-05-15T14:29:32.501Z"
   },
   {
    "duration": 63,
    "start_time": "2022-05-15T14:29:32.523Z"
   },
   {
    "duration": 36,
    "start_time": "2022-05-15T14:29:32.588Z"
   },
   {
    "duration": 58,
    "start_time": "2022-05-15T14:29:32.626Z"
   },
   {
    "duration": 32,
    "start_time": "2022-05-15T14:29:32.686Z"
   },
   {
    "duration": 67,
    "start_time": "2022-05-15T14:29:32.720Z"
   },
   {
    "duration": 853,
    "start_time": "2022-05-15T14:29:32.789Z"
   },
   {
    "duration": 1227,
    "start_time": "2022-05-15T14:31:33.240Z"
   },
   {
    "duration": 1168,
    "start_time": "2022-05-15T14:32:04.174Z"
   },
   {
    "duration": 2135,
    "start_time": "2022-05-15T14:32:19.528Z"
   },
   {
    "duration": 1903,
    "start_time": "2022-05-15T14:32:38.535Z"
   },
   {
    "duration": 1884,
    "start_time": "2022-05-15T14:38:33.229Z"
   },
   {
    "duration": 9,
    "start_time": "2022-05-15T14:38:35.115Z"
   },
   {
    "duration": 34,
    "start_time": "2022-05-15T14:38:35.147Z"
   },
   {
    "duration": 11,
    "start_time": "2022-05-15T14:38:35.184Z"
   },
   {
    "duration": 28,
    "start_time": "2022-05-15T14:38:35.197Z"
   },
   {
    "duration": 38,
    "start_time": "2022-05-15T14:38:35.226Z"
   },
   {
    "duration": 23,
    "start_time": "2022-05-15T14:38:35.267Z"
   },
   {
    "duration": 26,
    "start_time": "2022-05-15T14:38:35.292Z"
   },
   {
    "duration": 42,
    "start_time": "2022-05-15T14:38:35.319Z"
   },
   {
    "duration": 34,
    "start_time": "2022-05-15T14:38:35.365Z"
   },
   {
    "duration": 27,
    "start_time": "2022-05-15T14:38:35.400Z"
   },
   {
    "duration": 59,
    "start_time": "2022-05-15T14:38:35.429Z"
   },
   {
    "duration": 128,
    "start_time": "2022-05-15T14:38:35.490Z"
   },
   {
    "duration": 33,
    "start_time": "2022-05-15T14:38:35.620Z"
   },
   {
    "duration": 0,
    "start_time": "2022-05-15T14:38:35.658Z"
   },
   {
    "duration": 0,
    "start_time": "2022-05-15T14:38:35.660Z"
   },
   {
    "duration": 0,
    "start_time": "2022-05-15T14:38:35.661Z"
   },
   {
    "duration": 0,
    "start_time": "2022-05-15T14:38:35.662Z"
   },
   {
    "duration": 0,
    "start_time": "2022-05-15T14:38:35.663Z"
   },
   {
    "duration": 0,
    "start_time": "2022-05-15T14:38:35.664Z"
   },
   {
    "duration": 0,
    "start_time": "2022-05-15T14:38:35.665Z"
   },
   {
    "duration": 0,
    "start_time": "2022-05-15T14:38:35.666Z"
   },
   {
    "duration": 0,
    "start_time": "2022-05-15T14:38:35.667Z"
   },
   {
    "duration": 0,
    "start_time": "2022-05-15T14:38:35.668Z"
   },
   {
    "duration": 0,
    "start_time": "2022-05-15T14:38:35.669Z"
   },
   {
    "duration": 0,
    "start_time": "2022-05-15T14:38:35.670Z"
   },
   {
    "duration": 0,
    "start_time": "2022-05-15T14:38:35.671Z"
   },
   {
    "duration": 0,
    "start_time": "2022-05-15T14:38:35.672Z"
   },
   {
    "duration": 0,
    "start_time": "2022-05-15T14:38:35.673Z"
   },
   {
    "duration": 0,
    "start_time": "2022-05-15T14:38:35.674Z"
   },
   {
    "duration": 0,
    "start_time": "2022-05-15T14:38:35.675Z"
   },
   {
    "duration": 0,
    "start_time": "2022-05-15T14:38:35.676Z"
   },
   {
    "duration": 0,
    "start_time": "2022-05-15T14:38:35.676Z"
   },
   {
    "duration": 0,
    "start_time": "2022-05-15T14:38:35.677Z"
   },
   {
    "duration": 0,
    "start_time": "2022-05-15T14:38:35.678Z"
   },
   {
    "duration": 0,
    "start_time": "2022-05-15T14:38:35.679Z"
   },
   {
    "duration": 0,
    "start_time": "2022-05-15T14:38:35.679Z"
   },
   {
    "duration": 0,
    "start_time": "2022-05-15T14:38:35.681Z"
   },
   {
    "duration": 0,
    "start_time": "2022-05-15T14:38:35.682Z"
   },
   {
    "duration": 0,
    "start_time": "2022-05-15T14:38:35.683Z"
   },
   {
    "duration": 0,
    "start_time": "2022-05-15T14:38:35.684Z"
   },
   {
    "duration": 0,
    "start_time": "2022-05-15T14:38:35.684Z"
   },
   {
    "duration": 0,
    "start_time": "2022-05-15T14:38:35.685Z"
   },
   {
    "duration": 0,
    "start_time": "2022-05-15T14:38:35.686Z"
   },
   {
    "duration": 0,
    "start_time": "2022-05-15T14:38:35.687Z"
   },
   {
    "duration": 0,
    "start_time": "2022-05-15T14:38:35.687Z"
   },
   {
    "duration": 0,
    "start_time": "2022-05-15T14:38:35.688Z"
   },
   {
    "duration": 0,
    "start_time": "2022-05-15T14:38:35.689Z"
   },
   {
    "duration": 0,
    "start_time": "2022-05-15T14:38:35.690Z"
   },
   {
    "duration": 0,
    "start_time": "2022-05-15T14:38:35.691Z"
   },
   {
    "duration": 0,
    "start_time": "2022-05-15T14:38:35.692Z"
   },
   {
    "duration": 29,
    "start_time": "2022-05-15T14:42:47.094Z"
   },
   {
    "duration": 18,
    "start_time": "2022-05-15T14:43:09.817Z"
   },
   {
    "duration": 483,
    "start_time": "2022-05-15T14:43:15.826Z"
   },
   {
    "duration": 10,
    "start_time": "2022-05-15T14:43:16.310Z"
   },
   {
    "duration": 37,
    "start_time": "2022-05-15T14:43:16.321Z"
   },
   {
    "duration": 4,
    "start_time": "2022-05-15T14:43:16.360Z"
   },
   {
    "duration": 13,
    "start_time": "2022-05-15T14:43:16.366Z"
   },
   {
    "duration": 8,
    "start_time": "2022-05-15T14:43:16.380Z"
   },
   {
    "duration": 11,
    "start_time": "2022-05-15T14:43:16.390Z"
   },
   {
    "duration": 26,
    "start_time": "2022-05-15T14:43:16.403Z"
   },
   {
    "duration": 19,
    "start_time": "2022-05-15T14:43:16.430Z"
   },
   {
    "duration": 10,
    "start_time": "2022-05-15T14:43:16.452Z"
   },
   {
    "duration": 7,
    "start_time": "2022-05-15T14:43:16.464Z"
   },
   {
    "duration": 34,
    "start_time": "2022-05-15T14:43:16.473Z"
   },
   {
    "duration": 51,
    "start_time": "2022-05-15T14:43:16.509Z"
   },
   {
    "duration": 22,
    "start_time": "2022-05-15T14:43:16.562Z"
   },
   {
    "duration": 18,
    "start_time": "2022-05-15T14:43:48.556Z"
   },
   {
    "duration": 28,
    "start_time": "2022-05-15T14:46:15.955Z"
   },
   {
    "duration": 43,
    "start_time": "2022-05-15T14:46:35.976Z"
   },
   {
    "duration": 545,
    "start_time": "2022-05-15T14:46:41.647Z"
   },
   {
    "duration": 10,
    "start_time": "2022-05-15T14:46:42.194Z"
   },
   {
    "duration": 44,
    "start_time": "2022-05-15T14:46:42.205Z"
   },
   {
    "duration": 24,
    "start_time": "2022-05-15T14:46:42.252Z"
   },
   {
    "duration": 29,
    "start_time": "2022-05-15T14:46:42.278Z"
   },
   {
    "duration": 23,
    "start_time": "2022-05-15T14:46:42.309Z"
   },
   {
    "duration": 29,
    "start_time": "2022-05-15T14:46:42.334Z"
   },
   {
    "duration": 17,
    "start_time": "2022-05-15T14:46:42.364Z"
   },
   {
    "duration": 13,
    "start_time": "2022-05-15T14:46:42.383Z"
   },
   {
    "duration": 23,
    "start_time": "2022-05-15T14:46:42.398Z"
   },
   {
    "duration": 30,
    "start_time": "2022-05-15T14:46:42.423Z"
   },
   {
    "duration": 39,
    "start_time": "2022-05-15T14:46:42.454Z"
   },
   {
    "duration": 48,
    "start_time": "2022-05-15T14:46:42.495Z"
   },
   {
    "duration": 42,
    "start_time": "2022-05-15T14:47:16.316Z"
   },
   {
    "duration": 9,
    "start_time": "2022-05-15T14:47:27.886Z"
   },
   {
    "duration": 10,
    "start_time": "2022-05-15T14:47:33.180Z"
   },
   {
    "duration": 58,
    "start_time": "2022-05-15T14:48:10.509Z"
   },
   {
    "duration": 35,
    "start_time": "2022-05-15T14:48:44.683Z"
   },
   {
    "duration": 534,
    "start_time": "2022-05-15T14:49:04.144Z"
   },
   {
    "duration": 9,
    "start_time": "2022-05-15T14:49:04.679Z"
   },
   {
    "duration": 19,
    "start_time": "2022-05-15T14:49:04.689Z"
   },
   {
    "duration": 3,
    "start_time": "2022-05-15T14:49:04.710Z"
   },
   {
    "duration": 40,
    "start_time": "2022-05-15T14:49:04.715Z"
   },
   {
    "duration": 10,
    "start_time": "2022-05-15T14:49:04.756Z"
   },
   {
    "duration": 5,
    "start_time": "2022-05-15T14:49:04.768Z"
   },
   {
    "duration": 11,
    "start_time": "2022-05-15T14:49:04.775Z"
   },
   {
    "duration": 10,
    "start_time": "2022-05-15T14:49:04.787Z"
   },
   {
    "duration": 11,
    "start_time": "2022-05-15T14:49:04.801Z"
   },
   {
    "duration": 39,
    "start_time": "2022-05-15T14:49:04.814Z"
   },
   {
    "duration": 36,
    "start_time": "2022-05-15T14:49:04.855Z"
   },
   {
    "duration": 56,
    "start_time": "2022-05-15T14:49:04.892Z"
   },
   {
    "duration": 9,
    "start_time": "2022-05-15T14:49:04.950Z"
   },
   {
    "duration": 12,
    "start_time": "2022-05-15T14:49:04.961Z"
   },
   {
    "duration": 12,
    "start_time": "2022-05-15T14:49:04.975Z"
   },
   {
    "duration": 61,
    "start_time": "2022-05-15T14:49:04.988Z"
   },
   {
    "duration": 23,
    "start_time": "2022-05-15T14:49:05.051Z"
   },
   {
    "duration": 21,
    "start_time": "2022-05-15T14:49:05.076Z"
   },
   {
    "duration": 14,
    "start_time": "2022-05-15T14:49:05.099Z"
   },
   {
    "duration": 56,
    "start_time": "2022-05-15T14:49:05.114Z"
   },
   {
    "duration": 21,
    "start_time": "2022-05-15T14:49:05.171Z"
   },
   {
    "duration": 9,
    "start_time": "2022-05-15T14:49:05.194Z"
   },
   {
    "duration": 54,
    "start_time": "2022-05-15T14:49:05.204Z"
   },
   {
    "duration": 12,
    "start_time": "2022-05-15T14:49:05.260Z"
   },
   {
    "duration": 15,
    "start_time": "2022-05-15T14:49:05.274Z"
   },
   {
    "duration": 16,
    "start_time": "2022-05-15T14:49:05.291Z"
   },
   {
    "duration": 8,
    "start_time": "2022-05-15T14:49:05.348Z"
   },
   {
    "duration": 28,
    "start_time": "2022-05-15T14:49:05.358Z"
   },
   {
    "duration": 11,
    "start_time": "2022-05-15T14:49:05.387Z"
   },
   {
    "duration": 105,
    "start_time": "2022-05-15T14:49:05.400Z"
   },
   {
    "duration": 49,
    "start_time": "2022-05-15T14:49:05.507Z"
   },
   {
    "duration": 42,
    "start_time": "2022-05-15T14:49:05.558Z"
   },
   {
    "duration": 18,
    "start_time": "2022-05-15T14:49:05.602Z"
   },
   {
    "duration": 53,
    "start_time": "2022-05-15T14:49:05.621Z"
   },
   {
    "duration": 18,
    "start_time": "2022-05-15T14:49:05.676Z"
   },
   {
    "duration": 53,
    "start_time": "2022-05-15T14:49:05.695Z"
   },
   {
    "duration": 22,
    "start_time": "2022-05-15T14:49:05.750Z"
   },
   {
    "duration": 5,
    "start_time": "2022-05-15T14:49:05.773Z"
   },
   {
    "duration": 29,
    "start_time": "2022-05-15T14:49:05.779Z"
   },
   {
    "duration": 4,
    "start_time": "2022-05-15T14:49:05.809Z"
   },
   {
    "duration": 33,
    "start_time": "2022-05-15T14:49:05.846Z"
   },
   {
    "duration": 18,
    "start_time": "2022-05-15T14:49:05.880Z"
   },
   {
    "duration": 13,
    "start_time": "2022-05-15T14:49:05.900Z"
   },
   {
    "duration": 38,
    "start_time": "2022-05-15T14:49:05.914Z"
   },
   {
    "duration": 20,
    "start_time": "2022-05-15T14:49:05.953Z"
   },
   {
    "duration": 21,
    "start_time": "2022-05-15T14:49:05.975Z"
   },
   {
    "duration": 49,
    "start_time": "2022-05-15T14:49:05.998Z"
   },
   {
    "duration": 23,
    "start_time": "2022-05-15T14:49:06.049Z"
   },
   {
    "duration": 12,
    "start_time": "2022-05-15T14:49:06.074Z"
   },
   {
    "duration": 547,
    "start_time": "2022-05-15T14:49:06.088Z"
   },
   {
    "duration": 483,
    "start_time": "2022-05-15T14:49:44.283Z"
   },
   {
    "duration": 595,
    "start_time": "2022-05-15T14:50:31.079Z"
   },
   {
    "duration": 463,
    "start_time": "2022-05-15T14:51:19.207Z"
   },
   {
    "duration": 2427,
    "start_time": "2022-05-15T16:45:30.678Z"
   },
   {
    "duration": 44,
    "start_time": "2022-05-15T16:45:33.107Z"
   },
   {
    "duration": 37,
    "start_time": "2022-05-15T16:45:33.154Z"
   },
   {
    "duration": 6,
    "start_time": "2022-05-15T16:45:33.194Z"
   },
   {
    "duration": 51,
    "start_time": "2022-05-15T16:45:33.202Z"
   },
   {
    "duration": 28,
    "start_time": "2022-05-15T16:45:33.256Z"
   },
   {
    "duration": 9,
    "start_time": "2022-05-15T16:45:33.287Z"
   },
   {
    "duration": 12,
    "start_time": "2022-05-15T16:45:33.299Z"
   },
   {
    "duration": 30,
    "start_time": "2022-05-15T16:45:33.313Z"
   },
   {
    "duration": 25,
    "start_time": "2022-05-15T16:45:33.348Z"
   },
   {
    "duration": 14,
    "start_time": "2022-05-15T16:45:33.375Z"
   },
   {
    "duration": 82,
    "start_time": "2022-05-15T16:45:33.392Z"
   },
   {
    "duration": 179,
    "start_time": "2022-05-15T16:45:33.477Z"
   },
   {
    "duration": 11,
    "start_time": "2022-05-15T16:45:33.660Z"
   },
   {
    "duration": 15,
    "start_time": "2022-05-15T16:45:33.673Z"
   },
   {
    "duration": 46,
    "start_time": "2022-05-15T16:45:33.690Z"
   },
   {
    "duration": 67,
    "start_time": "2022-05-15T16:45:33.738Z"
   },
   {
    "duration": 28,
    "start_time": "2022-05-15T16:45:33.807Z"
   },
   {
    "duration": 35,
    "start_time": "2022-05-15T16:45:33.838Z"
   },
   {
    "duration": 20,
    "start_time": "2022-05-15T16:45:33.875Z"
   },
   {
    "duration": 60,
    "start_time": "2022-05-15T16:45:33.897Z"
   },
   {
    "duration": 43,
    "start_time": "2022-05-15T16:45:33.960Z"
   },
   {
    "duration": 59,
    "start_time": "2022-05-15T16:45:34.006Z"
   },
   {
    "duration": 53,
    "start_time": "2022-05-15T16:45:34.068Z"
   },
   {
    "duration": 25,
    "start_time": "2022-05-15T16:45:34.123Z"
   },
   {
    "duration": 37,
    "start_time": "2022-05-15T16:45:34.151Z"
   },
   {
    "duration": 18,
    "start_time": "2022-05-15T16:45:34.190Z"
   },
   {
    "duration": 21,
    "start_time": "2022-05-15T16:45:34.214Z"
   },
   {
    "duration": 40,
    "start_time": "2022-05-15T16:45:34.237Z"
   },
   {
    "duration": 15,
    "start_time": "2022-05-15T16:45:34.279Z"
   },
   {
    "duration": 151,
    "start_time": "2022-05-15T16:45:34.296Z"
   },
   {
    "duration": 53,
    "start_time": "2022-05-15T16:45:34.449Z"
   },
   {
    "duration": 86,
    "start_time": "2022-05-15T16:45:34.504Z"
   },
   {
    "duration": 52,
    "start_time": "2022-05-15T16:45:34.592Z"
   },
   {
    "duration": 50,
    "start_time": "2022-05-15T16:45:34.646Z"
   },
   {
    "duration": 65,
    "start_time": "2022-05-15T16:45:34.699Z"
   },
   {
    "duration": 76,
    "start_time": "2022-05-15T16:45:34.767Z"
   },
   {
    "duration": 57,
    "start_time": "2022-05-15T16:45:34.846Z"
   },
   {
    "duration": 6,
    "start_time": "2022-05-15T16:45:34.906Z"
   },
   {
    "duration": 47,
    "start_time": "2022-05-15T16:45:34.946Z"
   },
   {
    "duration": 7,
    "start_time": "2022-05-15T16:45:34.995Z"
   },
   {
    "duration": 77,
    "start_time": "2022-05-15T16:45:35.004Z"
   },
   {
    "duration": 54,
    "start_time": "2022-05-15T16:45:35.083Z"
   },
   {
    "duration": 35,
    "start_time": "2022-05-15T16:45:35.139Z"
   },
   {
    "duration": 23,
    "start_time": "2022-05-15T16:45:35.177Z"
   },
   {
    "duration": 56,
    "start_time": "2022-05-15T16:45:35.203Z"
   },
   {
    "duration": 52,
    "start_time": "2022-05-15T16:45:35.262Z"
   },
   {
    "duration": 40,
    "start_time": "2022-05-15T16:45:35.332Z"
   },
   {
    "duration": 43,
    "start_time": "2022-05-15T16:45:35.376Z"
   },
   {
    "duration": 36,
    "start_time": "2022-05-15T16:45:35.422Z"
   },
   {
    "duration": 757,
    "start_time": "2022-05-15T16:45:35.461Z"
   },
   {
    "duration": 166,
    "start_time": "2022-05-15T17:11:29.262Z"
   },
   {
    "duration": 189,
    "start_time": "2022-05-15T17:25:23.521Z"
   },
   {
    "duration": 21,
    "start_time": "2022-05-15T17:27:24.957Z"
   },
   {
    "duration": 623,
    "start_time": "2022-05-15T17:27:29.973Z"
   },
   {
    "duration": 12,
    "start_time": "2022-05-15T17:27:30.598Z"
   },
   {
    "duration": 32,
    "start_time": "2022-05-15T17:27:30.633Z"
   },
   {
    "duration": 4,
    "start_time": "2022-05-15T17:27:30.668Z"
   },
   {
    "duration": 20,
    "start_time": "2022-05-15T17:27:30.674Z"
   },
   {
    "duration": 17,
    "start_time": "2022-05-15T17:27:30.696Z"
   },
   {
    "duration": 23,
    "start_time": "2022-05-15T17:27:30.715Z"
   },
   {
    "duration": 20,
    "start_time": "2022-05-15T17:27:30.740Z"
   },
   {
    "duration": 17,
    "start_time": "2022-05-15T17:27:30.763Z"
   },
   {
    "duration": 15,
    "start_time": "2022-05-15T17:27:30.784Z"
   },
   {
    "duration": 15,
    "start_time": "2022-05-15T17:27:30.802Z"
   },
   {
    "duration": 57,
    "start_time": "2022-05-15T17:27:30.819Z"
   },
   {
    "duration": 68,
    "start_time": "2022-05-15T17:27:30.878Z"
   },
   {
    "duration": 10,
    "start_time": "2022-05-15T17:27:30.948Z"
   },
   {
    "duration": 12,
    "start_time": "2022-05-15T17:27:30.960Z"
   },
   {
    "duration": 14,
    "start_time": "2022-05-15T17:27:30.975Z"
   },
   {
    "duration": 72,
    "start_time": "2022-05-15T17:27:30.991Z"
   },
   {
    "duration": 24,
    "start_time": "2022-05-15T17:27:31.066Z"
   },
   {
    "duration": 52,
    "start_time": "2022-05-15T17:27:31.092Z"
   },
   {
    "duration": 14,
    "start_time": "2022-05-15T17:27:31.146Z"
   },
   {
    "duration": 28,
    "start_time": "2022-05-15T17:27:31.162Z"
   },
   {
    "duration": 50,
    "start_time": "2022-05-15T17:27:31.191Z"
   },
   {
    "duration": 15,
    "start_time": "2022-05-15T17:27:31.243Z"
   },
   {
    "duration": 38,
    "start_time": "2022-05-15T17:27:31.259Z"
   },
   {
    "duration": 12,
    "start_time": "2022-05-15T17:27:31.299Z"
   },
   {
    "duration": 52,
    "start_time": "2022-05-15T17:27:31.312Z"
   },
   {
    "duration": 16,
    "start_time": "2022-05-15T17:27:31.366Z"
   },
   {
    "duration": 12,
    "start_time": "2022-05-15T17:27:31.385Z"
   },
   {
    "duration": 33,
    "start_time": "2022-05-15T17:27:31.398Z"
   },
   {
    "duration": 19,
    "start_time": "2022-05-15T17:27:31.437Z"
   },
   {
    "duration": 100,
    "start_time": "2022-05-15T17:27:31.458Z"
   },
   {
    "duration": 42,
    "start_time": "2022-05-15T17:27:31.559Z"
   },
   {
    "duration": 70,
    "start_time": "2022-05-15T17:27:31.603Z"
   },
   {
    "duration": 21,
    "start_time": "2022-05-15T17:27:31.675Z"
   },
   {
    "duration": 59,
    "start_time": "2022-05-15T17:27:31.698Z"
   },
   {
    "duration": 25,
    "start_time": "2022-05-15T17:27:31.759Z"
   },
   {
    "duration": 66,
    "start_time": "2022-05-15T17:27:31.786Z"
   },
   {
    "duration": 25,
    "start_time": "2022-05-15T17:27:31.854Z"
   },
   {
    "duration": 11,
    "start_time": "2022-05-15T17:27:31.881Z"
   },
   {
    "duration": 66,
    "start_time": "2022-05-15T17:27:31.894Z"
   },
   {
    "duration": 5,
    "start_time": "2022-05-15T17:27:31.962Z"
   },
   {
    "duration": 71,
    "start_time": "2022-05-15T17:27:31.968Z"
   },
   {
    "duration": 23,
    "start_time": "2022-05-15T17:28:13.160Z"
   },
   {
    "duration": 17,
    "start_time": "2022-05-15T17:28:33.309Z"
   },
   {
    "duration": 17,
    "start_time": "2022-05-15T17:29:25.959Z"
   },
   {
    "duration": 13,
    "start_time": "2022-05-15T17:31:07.545Z"
   },
   {
    "duration": 34,
    "start_time": "2022-05-15T17:33:07.150Z"
   },
   {
    "duration": 644,
    "start_time": "2022-05-15T17:39:43.311Z"
   },
   {
    "duration": 548,
    "start_time": "2022-05-15T17:47:30.954Z"
   },
   {
    "duration": 531,
    "start_time": "2022-05-15T17:47:55.449Z"
   },
   {
    "duration": 541,
    "start_time": "2022-05-15T17:48:11.944Z"
   },
   {
    "duration": 626,
    "start_time": "2022-05-15T17:48:54.878Z"
   },
   {
    "duration": 537,
    "start_time": "2022-05-15T17:50:36.739Z"
   },
   {
    "duration": 533,
    "start_time": "2022-05-15T17:50:52.238Z"
   },
   {
    "duration": 7,
    "start_time": "2022-05-15T18:23:53.288Z"
   },
   {
    "duration": 675,
    "start_time": "2022-05-15T18:24:02.871Z"
   },
   {
    "duration": 17,
    "start_time": "2022-05-15T18:24:03.548Z"
   },
   {
    "duration": 23,
    "start_time": "2022-05-15T18:24:03.567Z"
   },
   {
    "duration": 4,
    "start_time": "2022-05-15T18:24:03.592Z"
   },
   {
    "duration": 44,
    "start_time": "2022-05-15T18:24:03.597Z"
   },
   {
    "duration": 31,
    "start_time": "2022-05-15T18:24:03.643Z"
   },
   {
    "duration": 9,
    "start_time": "2022-05-15T18:24:03.675Z"
   },
   {
    "duration": 13,
    "start_time": "2022-05-15T18:24:03.686Z"
   },
   {
    "duration": 11,
    "start_time": "2022-05-15T18:24:03.701Z"
   },
   {
    "duration": 14,
    "start_time": "2022-05-15T18:24:03.715Z"
   },
   {
    "duration": 35,
    "start_time": "2022-05-15T18:24:03.732Z"
   },
   {
    "duration": 38,
    "start_time": "2022-05-15T18:24:03.768Z"
   },
   {
    "duration": 52,
    "start_time": "2022-05-15T18:24:03.808Z"
   },
   {
    "duration": 8,
    "start_time": "2022-05-15T18:24:03.862Z"
   },
   {
    "duration": 11,
    "start_time": "2022-05-15T18:24:03.872Z"
   },
   {
    "duration": 15,
    "start_time": "2022-05-15T18:24:03.885Z"
   },
   {
    "duration": 73,
    "start_time": "2022-05-15T18:24:03.902Z"
   },
   {
    "duration": 24,
    "start_time": "2022-05-15T18:24:03.977Z"
   },
   {
    "duration": 18,
    "start_time": "2022-05-15T18:24:04.003Z"
   },
   {
    "duration": 16,
    "start_time": "2022-05-15T18:24:04.041Z"
   },
   {
    "duration": 32,
    "start_time": "2022-05-15T18:24:04.063Z"
   },
   {
    "duration": 25,
    "start_time": "2022-05-15T18:24:04.097Z"
   },
   {
    "duration": 22,
    "start_time": "2022-05-15T18:24:04.124Z"
   },
   {
    "duration": 48,
    "start_time": "2022-05-15T18:24:04.148Z"
   },
   {
    "duration": 10,
    "start_time": "2022-05-15T18:24:04.198Z"
   },
   {
    "duration": 36,
    "start_time": "2022-05-15T18:24:04.210Z"
   },
   {
    "duration": 20,
    "start_time": "2022-05-15T18:24:04.249Z"
   },
   {
    "duration": 8,
    "start_time": "2022-05-15T18:24:04.273Z"
   },
   {
    "duration": 37,
    "start_time": "2022-05-15T18:24:04.283Z"
   },
   {
    "duration": 22,
    "start_time": "2022-05-15T18:24:04.339Z"
   },
   {
    "duration": 115,
    "start_time": "2022-05-15T18:24:04.363Z"
   },
   {
    "duration": 43,
    "start_time": "2022-05-15T18:24:04.480Z"
   },
   {
    "duration": 63,
    "start_time": "2022-05-15T18:24:04.535Z"
   },
   {
    "duration": 56,
    "start_time": "2022-05-15T18:24:04.601Z"
   },
   {
    "duration": 147,
    "start_time": "2022-05-15T18:24:04.659Z"
   },
   {
    "duration": 40,
    "start_time": "2022-05-15T18:24:04.808Z"
   },
   {
    "duration": 43,
    "start_time": "2022-05-15T18:24:04.856Z"
   },
   {
    "duration": 7,
    "start_time": "2022-05-15T18:24:04.901Z"
   },
   {
    "duration": 7,
    "start_time": "2022-05-15T18:24:09.088Z"
   },
   {
    "duration": 8,
    "start_time": "2022-05-15T18:25:42.158Z"
   },
   {
    "duration": 7,
    "start_time": "2022-05-15T18:26:16.610Z"
   },
   {
    "duration": 12,
    "start_time": "2022-05-15T18:27:23.997Z"
   },
   {
    "duration": 7,
    "start_time": "2022-05-15T18:28:13.160Z"
   },
   {
    "duration": 12,
    "start_time": "2022-05-15T18:29:36.758Z"
   },
   {
    "duration": 13,
    "start_time": "2022-05-15T18:30:01.475Z"
   },
   {
    "duration": 17,
    "start_time": "2022-05-15T18:30:43.748Z"
   },
   {
    "duration": 2743,
    "start_time": "2022-05-16T16:14:02.549Z"
   },
   {
    "duration": 22,
    "start_time": "2022-05-16T16:14:05.295Z"
   },
   {
    "duration": 60,
    "start_time": "2022-05-16T16:14:05.319Z"
   },
   {
    "duration": 19,
    "start_time": "2022-05-16T16:14:05.383Z"
   },
   {
    "duration": 21,
    "start_time": "2022-05-16T16:14:05.405Z"
   },
   {
    "duration": 51,
    "start_time": "2022-05-16T16:14:05.429Z"
   },
   {
    "duration": 26,
    "start_time": "2022-05-16T16:14:05.484Z"
   },
   {
    "duration": 24,
    "start_time": "2022-05-16T16:14:05.512Z"
   },
   {
    "duration": 64,
    "start_time": "2022-05-16T16:14:05.538Z"
   },
   {
    "duration": 22,
    "start_time": "2022-05-16T16:14:05.606Z"
   },
   {
    "duration": 23,
    "start_time": "2022-05-16T16:14:05.631Z"
   },
   {
    "duration": 79,
    "start_time": "2022-05-16T16:14:05.659Z"
   },
   {
    "duration": 252,
    "start_time": "2022-05-16T16:14:05.741Z"
   },
   {
    "duration": 11,
    "start_time": "2022-05-16T16:14:05.995Z"
   },
   {
    "duration": 17,
    "start_time": "2022-05-16T16:14:06.009Z"
   },
   {
    "duration": 39,
    "start_time": "2022-05-16T16:14:06.029Z"
   },
   {
    "duration": 83,
    "start_time": "2022-05-16T16:14:06.070Z"
   },
   {
    "duration": 33,
    "start_time": "2022-05-16T16:14:06.156Z"
   },
   {
    "duration": 23,
    "start_time": "2022-05-16T16:14:17.664Z"
   },
   {
    "duration": 927,
    "start_time": "2022-05-16T16:42:54.475Z"
   },
   {
    "duration": 42,
    "start_time": "2022-05-16T16:42:55.405Z"
   },
   {
    "duration": 43,
    "start_time": "2022-05-16T16:42:55.450Z"
   },
   {
    "duration": 11,
    "start_time": "2022-05-16T16:42:55.497Z"
   },
   {
    "duration": 53,
    "start_time": "2022-05-16T16:42:55.510Z"
   },
   {
    "duration": 26,
    "start_time": "2022-05-16T16:42:55.566Z"
   },
   {
    "duration": 17,
    "start_time": "2022-05-16T16:42:55.595Z"
   },
   {
    "duration": 32,
    "start_time": "2022-05-16T16:42:55.616Z"
   },
   {
    "duration": 20,
    "start_time": "2022-05-16T16:42:55.651Z"
   },
   {
    "duration": 27,
    "start_time": "2022-05-16T16:42:55.677Z"
   },
   {
    "duration": 18,
    "start_time": "2022-05-16T16:42:55.707Z"
   },
   {
    "duration": 61,
    "start_time": "2022-05-16T16:42:55.746Z"
   },
   {
    "duration": 85,
    "start_time": "2022-05-16T16:42:55.811Z"
   },
   {
    "duration": 13,
    "start_time": "2022-05-16T16:42:55.899Z"
   },
   {
    "duration": 36,
    "start_time": "2022-05-16T16:42:55.915Z"
   },
   {
    "duration": 26,
    "start_time": "2022-05-16T16:42:55.953Z"
   },
   {
    "duration": 77,
    "start_time": "2022-05-16T16:42:55.982Z"
   },
   {
    "duration": 29,
    "start_time": "2022-05-16T16:42:56.062Z"
   },
   {
    "duration": 55,
    "start_time": "2022-05-16T16:42:56.094Z"
   },
   {
    "duration": 21,
    "start_time": "2022-05-16T16:42:56.152Z"
   },
   {
    "duration": 35,
    "start_time": "2022-05-16T16:42:56.176Z"
   },
   {
    "duration": 65,
    "start_time": "2022-05-16T16:42:56.213Z"
   },
   {
    "duration": 14,
    "start_time": "2022-05-16T16:42:56.280Z"
   },
   {
    "duration": 96,
    "start_time": "2022-05-16T16:42:56.297Z"
   },
   {
    "duration": 20,
    "start_time": "2022-05-16T16:42:56.396Z"
   },
   {
    "duration": 47,
    "start_time": "2022-05-16T16:42:56.419Z"
   },
   {
    "duration": 23,
    "start_time": "2022-05-16T16:42:56.469Z"
   },
   {
    "duration": 11,
    "start_time": "2022-05-16T16:42:56.499Z"
   },
   {
    "duration": 72,
    "start_time": "2022-05-16T16:42:56.512Z"
   },
   {
    "duration": 19,
    "start_time": "2022-05-16T16:42:56.587Z"
   },
   {
    "duration": 165,
    "start_time": "2022-05-16T16:42:56.609Z"
   },
   {
    "duration": 80,
    "start_time": "2022-05-16T16:42:56.777Z"
   },
   {
    "duration": 88,
    "start_time": "2022-05-16T16:42:56.859Z"
   },
   {
    "duration": 37,
    "start_time": "2022-05-16T16:42:56.950Z"
   },
   {
    "duration": 73,
    "start_time": "2022-05-16T16:42:56.989Z"
   },
   {
    "duration": 35,
    "start_time": "2022-05-16T16:42:57.065Z"
   },
   {
    "duration": 91,
    "start_time": "2022-05-16T16:42:57.103Z"
   },
   {
    "duration": 21,
    "start_time": "2022-05-16T16:42:57.196Z"
   },
   {
    "duration": 57,
    "start_time": "2022-05-16T16:42:57.220Z"
   },
   {
    "duration": 8,
    "start_time": "2022-05-16T16:42:57.280Z"
   },
   {
    "duration": 82,
    "start_time": "2022-05-16T16:42:57.291Z"
   },
   {
    "duration": 9,
    "start_time": "2022-05-16T16:42:57.376Z"
   },
   {
    "duration": 112,
    "start_time": "2022-05-16T16:42:57.387Z"
   },
   {
    "duration": 48,
    "start_time": "2022-05-16T16:42:57.502Z"
   },
   {
    "duration": 33,
    "start_time": "2022-05-16T16:42:57.553Z"
   },
   {
    "duration": 40,
    "start_time": "2022-05-16T16:42:57.589Z"
   },
   {
    "duration": 40,
    "start_time": "2022-05-16T16:42:57.632Z"
   },
   {
    "duration": 37,
    "start_time": "2022-05-16T16:42:57.675Z"
   },
   {
    "duration": 32,
    "start_time": "2022-05-16T16:42:57.746Z"
   },
   {
    "duration": 33,
    "start_time": "2022-05-16T16:42:57.780Z"
   },
   {
    "duration": 3759,
    "start_time": "2022-05-16T16:43:43.081Z"
   },
   {
    "duration": 3760,
    "start_time": "2022-05-16T16:44:09.133Z"
   },
   {
    "duration": 4119,
    "start_time": "2022-05-16T16:44:26.431Z"
   },
   {
    "duration": 16,
    "start_time": "2022-05-16T16:44:56.045Z"
   },
   {
    "duration": 24,
    "start_time": "2022-05-16T16:45:36.196Z"
   },
   {
    "duration": 21,
    "start_time": "2022-05-16T16:46:04.210Z"
   },
   {
    "duration": 1119,
    "start_time": "2022-05-16T18:01:38.044Z"
   },
   {
    "duration": 23,
    "start_time": "2022-05-16T18:01:39.167Z"
   },
   {
    "duration": 47,
    "start_time": "2022-05-16T18:01:39.194Z"
   },
   {
    "duration": 7,
    "start_time": "2022-05-16T18:01:39.251Z"
   },
   {
    "duration": 76,
    "start_time": "2022-05-16T18:01:39.261Z"
   },
   {
    "duration": 76,
    "start_time": "2022-05-16T18:01:39.340Z"
   },
   {
    "duration": 6,
    "start_time": "2022-05-16T18:01:39.419Z"
   },
   {
    "duration": 19,
    "start_time": "2022-05-16T18:01:39.428Z"
   },
   {
    "duration": 75,
    "start_time": "2022-05-16T18:01:39.449Z"
   },
   {
    "duration": 25,
    "start_time": "2022-05-16T18:01:39.528Z"
   },
   {
    "duration": 76,
    "start_time": "2022-05-16T18:01:39.556Z"
   },
   {
    "duration": 82,
    "start_time": "2022-05-16T18:01:39.634Z"
   },
   {
    "duration": 98,
    "start_time": "2022-05-16T18:01:39.720Z"
   },
   {
    "duration": 13,
    "start_time": "2022-05-16T18:01:39.820Z"
   },
   {
    "duration": 27,
    "start_time": "2022-05-16T18:01:39.836Z"
   },
   {
    "duration": 55,
    "start_time": "2022-05-16T18:01:39.866Z"
   },
   {
    "duration": 97,
    "start_time": "2022-05-16T18:01:39.924Z"
   },
   {
    "duration": 44,
    "start_time": "2022-05-16T18:01:40.024Z"
   },
   {
    "duration": 36,
    "start_time": "2022-05-16T18:01:40.071Z"
   },
   {
    "duration": 36,
    "start_time": "2022-05-16T18:01:40.114Z"
   },
   {
    "duration": 60,
    "start_time": "2022-05-16T18:01:40.152Z"
   },
   {
    "duration": 77,
    "start_time": "2022-05-16T18:01:40.215Z"
   },
   {
    "duration": 31,
    "start_time": "2022-05-16T18:01:40.294Z"
   },
   {
    "duration": 168,
    "start_time": "2022-05-16T18:01:40.328Z"
   },
   {
    "duration": 23,
    "start_time": "2022-05-16T18:01:40.504Z"
   },
   {
    "duration": 36,
    "start_time": "2022-05-16T18:01:40.532Z"
   },
   {
    "duration": 105,
    "start_time": "2022-05-16T18:01:40.571Z"
   },
   {
    "duration": 25,
    "start_time": "2022-05-16T18:01:40.689Z"
   },
   {
    "duration": 94,
    "start_time": "2022-05-16T18:01:40.717Z"
   },
   {
    "duration": 21,
    "start_time": "2022-05-16T18:01:40.813Z"
   },
   {
    "duration": 166,
    "start_time": "2022-05-16T18:01:40.837Z"
   },
   {
    "duration": 94,
    "start_time": "2022-05-16T18:01:41.006Z"
   },
   {
    "duration": 126,
    "start_time": "2022-05-16T18:01:41.103Z"
   },
   {
    "duration": 36,
    "start_time": "2022-05-16T18:01:41.232Z"
   },
   {
    "duration": 76,
    "start_time": "2022-05-16T18:01:41.271Z"
   },
   {
    "duration": 50,
    "start_time": "2022-05-16T18:01:41.350Z"
   },
   {
    "duration": 121,
    "start_time": "2022-05-16T18:01:41.403Z"
   },
   {
    "duration": 23,
    "start_time": "2022-05-16T18:01:41.527Z"
   },
   {
    "duration": 85,
    "start_time": "2022-05-16T18:01:41.555Z"
   },
   {
    "duration": 20,
    "start_time": "2022-05-16T18:01:41.642Z"
   },
   {
    "duration": 71,
    "start_time": "2022-05-16T18:01:41.665Z"
   },
   {
    "duration": 14,
    "start_time": "2022-05-16T18:01:41.738Z"
   },
   {
    "duration": 103,
    "start_time": "2022-05-16T18:01:41.754Z"
   },
   {
    "duration": 35,
    "start_time": "2022-05-16T18:01:41.860Z"
   },
   {
    "duration": 75,
    "start_time": "2022-05-16T18:01:41.898Z"
   },
   {
    "duration": 55,
    "start_time": "2022-05-16T18:01:41.980Z"
   },
   {
    "duration": 56,
    "start_time": "2022-05-16T18:01:42.038Z"
   },
   {
    "duration": 43,
    "start_time": "2022-05-16T18:01:42.099Z"
   },
   {
    "duration": 73,
    "start_time": "2022-05-16T18:01:42.145Z"
   },
   {
    "duration": 47,
    "start_time": "2022-05-16T18:01:42.220Z"
   },
   {
    "duration": 50,
    "start_time": "2022-05-16T18:01:42.278Z"
   },
   {
    "duration": 24,
    "start_time": "2022-05-16T18:01:42.331Z"
   },
   {
    "duration": 1047,
    "start_time": "2022-05-16T18:01:51.007Z"
   },
   {
    "duration": 38,
    "start_time": "2022-05-16T18:02:07.583Z"
   },
   {
    "duration": 112,
    "start_time": "2022-05-17T08:03:25.405Z"
   },
   {
    "duration": 1803,
    "start_time": "2022-05-17T08:04:37.624Z"
   },
   {
    "duration": 5,
    "start_time": "2022-05-17T08:15:10.556Z"
   },
   {
    "duration": 858,
    "start_time": "2022-05-17T08:15:10.565Z"
   },
   {
    "duration": 23,
    "start_time": "2022-05-17T08:15:11.426Z"
   },
   {
    "duration": 62,
    "start_time": "2022-05-17T08:15:11.451Z"
   },
   {
    "duration": 7,
    "start_time": "2022-05-17T08:15:11.517Z"
   },
   {
    "duration": 39,
    "start_time": "2022-05-17T08:15:11.526Z"
   },
   {
    "duration": 51,
    "start_time": "2022-05-17T08:15:11.568Z"
   },
   {
    "duration": 8,
    "start_time": "2022-05-17T08:15:11.622Z"
   },
   {
    "duration": 31,
    "start_time": "2022-05-17T08:15:11.633Z"
   },
   {
    "duration": 27,
    "start_time": "2022-05-17T08:15:11.667Z"
   },
   {
    "duration": 22,
    "start_time": "2022-05-17T08:15:11.712Z"
   },
   {
    "duration": 18,
    "start_time": "2022-05-17T08:15:11.736Z"
   },
   {
    "duration": 94,
    "start_time": "2022-05-17T08:15:11.757Z"
   },
   {
    "duration": 331,
    "start_time": "2022-05-17T08:15:11.854Z"
   },
   {
    "duration": 25,
    "start_time": "2022-05-17T08:15:12.188Z"
   },
   {
    "duration": 17,
    "start_time": "2022-05-17T08:15:12.215Z"
   },
   {
    "duration": 24,
    "start_time": "2022-05-17T08:15:12.234Z"
   },
   {
    "duration": 122,
    "start_time": "2022-05-17T08:15:12.261Z"
   },
   {
    "duration": 58,
    "start_time": "2022-05-17T08:15:12.386Z"
   },
   {
    "duration": 31,
    "start_time": "2022-05-17T08:15:12.447Z"
   },
   {
    "duration": 56,
    "start_time": "2022-05-17T08:15:12.481Z"
   },
   {
    "duration": 51,
    "start_time": "2022-05-17T08:15:12.540Z"
   },
   {
    "duration": 58,
    "start_time": "2022-05-17T08:15:12.594Z"
   },
   {
    "duration": 20,
    "start_time": "2022-05-17T08:15:12.655Z"
   },
   {
    "duration": 41,
    "start_time": "2022-05-17T08:15:12.710Z"
   },
   {
    "duration": 16,
    "start_time": "2022-05-17T08:15:12.754Z"
   },
   {
    "duration": 76,
    "start_time": "2022-05-17T08:15:12.772Z"
   },
   {
    "duration": 29,
    "start_time": "2022-05-17T08:15:12.850Z"
   },
   {
    "duration": 28,
    "start_time": "2022-05-17T08:15:12.887Z"
   },
   {
    "duration": 56,
    "start_time": "2022-05-17T08:15:12.919Z"
   },
   {
    "duration": 52,
    "start_time": "2022-05-17T08:15:12.977Z"
   },
   {
    "duration": 191,
    "start_time": "2022-05-17T08:15:13.032Z"
   },
   {
    "duration": 94,
    "start_time": "2022-05-17T08:15:13.226Z"
   },
   {
    "duration": 107,
    "start_time": "2022-05-17T08:15:13.322Z"
   },
   {
    "duration": 40,
    "start_time": "2022-05-17T08:15:13.432Z"
   },
   {
    "duration": 82,
    "start_time": "2022-05-17T08:15:13.475Z"
   },
   {
    "duration": 69,
    "start_time": "2022-05-17T08:15:13.560Z"
   },
   {
    "duration": 93,
    "start_time": "2022-05-17T08:15:13.632Z"
   },
   {
    "duration": 24,
    "start_time": "2022-05-17T08:15:13.727Z"
   },
   {
    "duration": 71,
    "start_time": "2022-05-17T08:15:13.755Z"
   },
   {
    "duration": 9,
    "start_time": "2022-05-17T08:15:13.829Z"
   },
   {
    "duration": 87,
    "start_time": "2022-05-17T08:15:13.841Z"
   },
   {
    "duration": 8,
    "start_time": "2022-05-17T08:15:13.931Z"
   },
   {
    "duration": 107,
    "start_time": "2022-05-17T08:15:13.942Z"
   },
   {
    "duration": 31,
    "start_time": "2022-05-17T08:15:14.052Z"
   },
   {
    "duration": 29,
    "start_time": "2022-05-17T08:15:14.110Z"
   },
   {
    "duration": 25,
    "start_time": "2022-05-17T08:15:14.142Z"
   },
   {
    "duration": 72,
    "start_time": "2022-05-17T08:15:14.169Z"
   },
   {
    "duration": 65,
    "start_time": "2022-05-17T08:15:14.244Z"
   },
   {
    "duration": 40,
    "start_time": "2022-05-17T08:15:14.312Z"
   },
   {
    "duration": 65,
    "start_time": "2022-05-17T08:15:14.354Z"
   },
   {
    "duration": 26,
    "start_time": "2022-05-17T08:15:14.422Z"
   },
   {
    "duration": 58,
    "start_time": "2022-05-17T08:15:14.451Z"
   },
   {
    "duration": 1120,
    "start_time": "2022-05-17T08:15:14.512Z"
   },
   {
    "duration": 5,
    "start_time": "2022-05-17T08:31:57.726Z"
   },
   {
    "duration": 1181,
    "start_time": "2022-05-17T08:31:57.734Z"
   },
   {
    "duration": 19,
    "start_time": "2022-05-17T08:31:58.918Z"
   },
   {
    "duration": 78,
    "start_time": "2022-05-17T08:31:58.941Z"
   },
   {
    "duration": 11,
    "start_time": "2022-05-17T08:31:59.023Z"
   },
   {
    "duration": 49,
    "start_time": "2022-05-17T08:31:59.037Z"
   },
   {
    "duration": 14,
    "start_time": "2022-05-17T08:31:59.089Z"
   },
   {
    "duration": 14,
    "start_time": "2022-05-17T08:31:59.108Z"
   },
   {
    "duration": 37,
    "start_time": "2022-05-17T08:31:59.126Z"
   },
   {
    "duration": 17,
    "start_time": "2022-05-17T08:31:59.165Z"
   },
   {
    "duration": 28,
    "start_time": "2022-05-17T08:31:59.185Z"
   },
   {
    "duration": 13,
    "start_time": "2022-05-17T08:31:59.216Z"
   },
   {
    "duration": 87,
    "start_time": "2022-05-17T08:31:59.231Z"
   },
   {
    "duration": 58,
    "start_time": "2022-05-17T08:31:59.321Z"
   },
   {
    "duration": 31,
    "start_time": "2022-05-17T08:31:59.382Z"
   },
   {
    "duration": 15,
    "start_time": "2022-05-17T08:31:59.415Z"
   },
   {
    "duration": 24,
    "start_time": "2022-05-17T08:31:59.433Z"
   },
   {
    "duration": 116,
    "start_time": "2022-05-17T08:31:59.459Z"
   },
   {
    "duration": 46,
    "start_time": "2022-05-17T08:31:59.578Z"
   },
   {
    "duration": 36,
    "start_time": "2022-05-17T08:31:59.626Z"
   },
   {
    "duration": 46,
    "start_time": "2022-05-17T08:31:59.665Z"
   },
   {
    "duration": 42,
    "start_time": "2022-05-17T08:31:59.713Z"
   },
   {
    "duration": 83,
    "start_time": "2022-05-17T08:31:59.757Z"
   },
   {
    "duration": 17,
    "start_time": "2022-05-17T08:31:59.846Z"
   },
   {
    "duration": 85,
    "start_time": "2022-05-17T08:31:59.867Z"
   },
   {
    "duration": 20,
    "start_time": "2022-05-17T08:31:59.954Z"
   },
   {
    "duration": 51,
    "start_time": "2022-05-17T08:31:59.977Z"
   },
   {
    "duration": 61,
    "start_time": "2022-05-17T08:32:00.030Z"
   },
   {
    "duration": 12,
    "start_time": "2022-05-17T08:32:00.093Z"
   },
   {
    "duration": 59,
    "start_time": "2022-05-17T08:32:00.108Z"
   },
   {
    "duration": 41,
    "start_time": "2022-05-17T08:32:00.170Z"
   },
   {
    "duration": 173,
    "start_time": "2022-05-17T08:32:00.213Z"
   },
   {
    "duration": 83,
    "start_time": "2022-05-17T08:32:00.389Z"
   },
   {
    "duration": 112,
    "start_time": "2022-05-17T08:32:00.475Z"
   },
   {
    "duration": 16,
    "start_time": "2022-05-17T08:33:48.744Z"
   },
   {
    "duration": 15,
    "start_time": "2022-05-17T08:35:17.621Z"
   },
   {
    "duration": 24,
    "start_time": "2022-05-17T08:35:34.911Z"
   },
   {
    "duration": 21,
    "start_time": "2022-05-17T08:41:05.358Z"
   },
   {
    "duration": 187,
    "start_time": "2022-05-17T08:49:13.651Z"
   },
   {
    "duration": 104,
    "start_time": "2022-05-17T08:55:13.076Z"
   },
   {
    "duration": 2345,
    "start_time": "2022-05-17T09:00:32.490Z"
   },
   {
    "duration": 8,
    "start_time": "2022-05-17T09:00:46.260Z"
   },
   {
    "duration": 4,
    "start_time": "2022-05-17T09:01:24.393Z"
   },
   {
    "duration": 1255,
    "start_time": "2022-05-17T09:01:24.403Z"
   },
   {
    "duration": 48,
    "start_time": "2022-05-17T09:01:25.661Z"
   },
   {
    "duration": 45,
    "start_time": "2022-05-17T09:01:25.712Z"
   },
   {
    "duration": 7,
    "start_time": "2022-05-17T09:01:25.762Z"
   },
   {
    "duration": 36,
    "start_time": "2022-05-17T09:01:25.773Z"
   },
   {
    "duration": 17,
    "start_time": "2022-05-17T09:01:25.813Z"
   },
   {
    "duration": 13,
    "start_time": "2022-05-17T09:01:25.833Z"
   },
   {
    "duration": 20,
    "start_time": "2022-05-17T09:01:25.848Z"
   },
   {
    "duration": 47,
    "start_time": "2022-05-17T09:01:25.871Z"
   },
   {
    "duration": 25,
    "start_time": "2022-05-17T09:01:25.924Z"
   },
   {
    "duration": 15,
    "start_time": "2022-05-17T09:01:25.951Z"
   },
   {
    "duration": 76,
    "start_time": "2022-05-17T09:01:25.969Z"
   },
   {
    "duration": 78,
    "start_time": "2022-05-17T09:01:26.048Z"
   },
   {
    "duration": 13,
    "start_time": "2022-05-17T09:01:26.129Z"
   },
   {
    "duration": 14,
    "start_time": "2022-05-17T09:01:26.145Z"
   },
   {
    "duration": 64,
    "start_time": "2022-05-17T09:01:26.162Z"
   },
   {
    "duration": 83,
    "start_time": "2022-05-17T09:01:26.229Z"
   },
   {
    "duration": 39,
    "start_time": "2022-05-17T09:01:26.315Z"
   },
   {
    "duration": 17,
    "start_time": "2022-05-17T09:01:26.357Z"
   },
   {
    "duration": 18,
    "start_time": "2022-05-17T09:01:26.408Z"
   },
   {
    "duration": 38,
    "start_time": "2022-05-17T09:01:26.429Z"
   },
   {
    "duration": 63,
    "start_time": "2022-05-17T09:01:26.470Z"
   },
   {
    "duration": 13,
    "start_time": "2022-05-17T09:01:26.536Z"
   },
   {
    "duration": 71,
    "start_time": "2022-05-17T09:01:26.551Z"
   },
   {
    "duration": 16,
    "start_time": "2022-05-17T09:01:26.628Z"
   },
   {
    "duration": 41,
    "start_time": "2022-05-17T09:01:26.647Z"
   },
   {
    "duration": 33,
    "start_time": "2022-05-17T09:01:26.709Z"
   },
   {
    "duration": 11,
    "start_time": "2022-05-17T09:01:26.748Z"
   },
   {
    "duration": 62,
    "start_time": "2022-05-17T09:01:26.762Z"
   },
   {
    "duration": 16,
    "start_time": "2022-05-17T09:01:26.827Z"
   },
   {
    "duration": 148,
    "start_time": "2022-05-17T09:01:26.846Z"
   },
   {
    "duration": 92,
    "start_time": "2022-05-17T09:01:26.997Z"
   },
   {
    "duration": 112,
    "start_time": "2022-05-17T09:01:27.110Z"
   },
   {
    "duration": 19,
    "start_time": "2022-05-17T09:01:27.224Z"
   },
   {
    "duration": 72,
    "start_time": "2022-05-17T09:01:27.245Z"
   },
   {
    "duration": 39,
    "start_time": "2022-05-17T09:01:27.320Z"
   },
   {
    "duration": 86,
    "start_time": "2022-05-17T09:01:27.362Z"
   },
   {
    "duration": 22,
    "start_time": "2022-05-17T09:01:27.452Z"
   },
   {
    "duration": 33,
    "start_time": "2022-05-17T09:01:27.477Z"
   },
   {
    "duration": 23,
    "start_time": "2022-05-17T09:06:15.493Z"
   },
   {
    "duration": 8,
    "start_time": "2022-05-17T09:14:59.364Z"
   },
   {
    "duration": 8,
    "start_time": "2022-05-17T09:16:08.309Z"
   },
   {
    "duration": 13,
    "start_time": "2022-05-17T09:22:32.166Z"
   },
   {
    "duration": 15,
    "start_time": "2022-05-17T09:31:48.684Z"
   },
   {
    "duration": 4,
    "start_time": "2022-05-17T09:36:39.535Z"
   },
   {
    "duration": 51,
    "start_time": "2022-05-17T09:37:47.305Z"
   },
   {
    "duration": 15,
    "start_time": "2022-05-17T09:43:13.877Z"
   },
   {
    "duration": 22,
    "start_time": "2022-05-17T09:44:14.254Z"
   },
   {
    "duration": 39,
    "start_time": "2022-05-17T09:45:24.726Z"
   },
   {
    "duration": 4,
    "start_time": "2022-05-17T09:47:58.801Z"
   },
   {
    "duration": 1131,
    "start_time": "2022-05-17T09:47:58.811Z"
   },
   {
    "duration": 15,
    "start_time": "2022-05-17T09:47:59.946Z"
   },
   {
    "duration": 57,
    "start_time": "2022-05-17T09:47:59.964Z"
   },
   {
    "duration": 6,
    "start_time": "2022-05-17T09:48:00.025Z"
   },
   {
    "duration": 22,
    "start_time": "2022-05-17T09:48:00.033Z"
   },
   {
    "duration": 22,
    "start_time": "2022-05-17T09:48:00.057Z"
   },
   {
    "duration": 15,
    "start_time": "2022-05-17T09:48:00.082Z"
   },
   {
    "duration": 14,
    "start_time": "2022-05-17T09:48:00.115Z"
   },
   {
    "duration": 20,
    "start_time": "2022-05-17T09:48:00.131Z"
   },
   {
    "duration": 18,
    "start_time": "2022-05-17T09:48:00.156Z"
   },
   {
    "duration": 42,
    "start_time": "2022-05-17T09:48:00.176Z"
   },
   {
    "duration": 54,
    "start_time": "2022-05-17T09:48:00.221Z"
   },
   {
    "duration": 63,
    "start_time": "2022-05-17T09:48:00.278Z"
   },
   {
    "duration": 11,
    "start_time": "2022-05-17T09:48:00.343Z"
   },
   {
    "duration": 12,
    "start_time": "2022-05-17T09:48:00.356Z"
   },
   {
    "duration": 56,
    "start_time": "2022-05-17T09:48:00.370Z"
   },
   {
    "duration": 55,
    "start_time": "2022-05-17T09:48:00.428Z"
   },
   {
    "duration": 36,
    "start_time": "2022-05-17T09:48:00.485Z"
   },
   {
    "duration": 17,
    "start_time": "2022-05-17T09:48:00.523Z"
   },
   {
    "duration": 20,
    "start_time": "2022-05-17T09:48:00.543Z"
   },
   {
    "duration": 79,
    "start_time": "2022-05-17T09:48:00.565Z"
   },
   {
    "duration": 73,
    "start_time": "2022-05-17T09:48:00.647Z"
   },
   {
    "duration": 15,
    "start_time": "2022-05-17T09:48:00.723Z"
   },
   {
    "duration": 50,
    "start_time": "2022-05-17T09:48:00.741Z"
   },
   {
    "duration": 33,
    "start_time": "2022-05-17T09:48:00.793Z"
   },
   {
    "duration": 33,
    "start_time": "2022-05-17T09:48:00.828Z"
   },
   {
    "duration": 28,
    "start_time": "2022-05-17T09:48:00.864Z"
   },
   {
    "duration": 17,
    "start_time": "2022-05-17T09:48:00.910Z"
   },
   {
    "duration": 57,
    "start_time": "2022-05-17T09:48:00.929Z"
   },
   {
    "duration": 15,
    "start_time": "2022-05-17T09:48:00.988Z"
   },
   {
    "duration": 135,
    "start_time": "2022-05-17T09:48:01.005Z"
   },
   {
    "duration": 76,
    "start_time": "2022-05-17T09:48:01.142Z"
   },
   {
    "duration": 71,
    "start_time": "2022-05-17T09:48:01.221Z"
   },
   {
    "duration": 22,
    "start_time": "2022-05-17T09:48:01.310Z"
   },
   {
    "duration": 157,
    "start_time": "2022-05-17T09:48:01.335Z"
   },
   {
    "duration": 40,
    "start_time": "2022-05-17T09:48:01.494Z"
   },
   {
    "duration": 77,
    "start_time": "2022-05-17T09:48:01.537Z"
   },
   {
    "duration": 18,
    "start_time": "2022-05-17T09:48:01.619Z"
   },
   {
    "duration": 66,
    "start_time": "2022-05-17T09:48:01.639Z"
   },
   {
    "duration": 54,
    "start_time": "2022-05-17T09:48:01.706Z"
   },
   {
    "duration": 13,
    "start_time": "2022-05-17T09:48:01.762Z"
   },
   {
    "duration": 58,
    "start_time": "2022-05-17T09:48:01.777Z"
   },
   {
    "duration": 21,
    "start_time": "2022-05-17T09:48:01.837Z"
   },
   {
    "duration": 58,
    "start_time": "2022-05-17T09:48:01.861Z"
   },
   {
    "duration": 69,
    "start_time": "2022-05-17T09:48:07.466Z"
   },
   {
    "duration": 77,
    "start_time": "2022-05-17T09:49:26.393Z"
   },
   {
    "duration": 4,
    "start_time": "2022-05-17T10:06:14.074Z"
   },
   {
    "duration": 1044,
    "start_time": "2022-05-17T10:06:14.201Z"
   },
   {
    "duration": 15,
    "start_time": "2022-05-17T10:06:15.247Z"
   },
   {
    "duration": 32,
    "start_time": "2022-05-17T10:06:15.264Z"
   },
   {
    "duration": 28,
    "start_time": "2022-05-17T10:06:15.298Z"
   },
   {
    "duration": 19,
    "start_time": "2022-05-17T10:06:15.330Z"
   },
   {
    "duration": 15,
    "start_time": "2022-05-17T10:06:15.351Z"
   },
   {
    "duration": 7,
    "start_time": "2022-05-17T10:06:15.369Z"
   },
   {
    "duration": 13,
    "start_time": "2022-05-17T10:06:15.379Z"
   },
   {
    "duration": 15,
    "start_time": "2022-05-17T10:06:15.414Z"
   },
   {
    "duration": 17,
    "start_time": "2022-05-17T10:06:15.437Z"
   },
   {
    "duration": 12,
    "start_time": "2022-05-17T10:06:15.456Z"
   },
   {
    "duration": 76,
    "start_time": "2022-05-17T10:06:15.470Z"
   },
   {
    "duration": 68,
    "start_time": "2022-05-17T10:06:15.549Z"
   },
   {
    "duration": 18,
    "start_time": "2022-05-17T10:06:15.623Z"
   },
   {
    "duration": 12,
    "start_time": "2022-05-17T10:06:15.644Z"
   },
   {
    "duration": 18,
    "start_time": "2022-05-17T10:06:15.658Z"
   },
   {
    "duration": 86,
    "start_time": "2022-05-17T10:06:15.678Z"
   },
   {
    "duration": 43,
    "start_time": "2022-05-17T10:06:15.767Z"
   },
   {
    "duration": 17,
    "start_time": "2022-05-17T10:06:15.812Z"
   },
   {
    "duration": 37,
    "start_time": "2022-05-17T10:06:15.832Z"
   },
   {
    "duration": 59,
    "start_time": "2022-05-17T10:06:15.871Z"
   },
   {
    "duration": 34,
    "start_time": "2022-05-17T10:06:15.933Z"
   },
   {
    "duration": 11,
    "start_time": "2022-05-17T10:06:15.969Z"
   },
   {
    "duration": 63,
    "start_time": "2022-05-17T10:06:15.982Z"
   },
   {
    "duration": 15,
    "start_time": "2022-05-17T10:06:16.047Z"
   },
   {
    "duration": 57,
    "start_time": "2022-05-17T10:06:16.064Z"
   },
   {
    "duration": 26,
    "start_time": "2022-05-17T10:06:16.124Z"
   },
   {
    "duration": 11,
    "start_time": "2022-05-17T10:06:16.152Z"
   },
   {
    "duration": 58,
    "start_time": "2022-05-17T10:06:16.165Z"
   },
   {
    "duration": 17,
    "start_time": "2022-05-17T10:06:16.231Z"
   },
   {
    "duration": 148,
    "start_time": "2022-05-17T10:06:16.251Z"
   },
   {
    "duration": 65,
    "start_time": "2022-05-17T10:06:16.402Z"
   },
   {
    "duration": 101,
    "start_time": "2022-05-17T10:06:16.471Z"
   },
   {
    "duration": 18,
    "start_time": "2022-05-17T10:06:16.574Z"
   },
   {
    "duration": 68,
    "start_time": "2022-05-17T10:06:16.595Z"
   },
   {
    "duration": 49,
    "start_time": "2022-05-17T10:06:16.665Z"
   },
   {
    "duration": 60,
    "start_time": "2022-05-17T10:06:16.717Z"
   },
   {
    "duration": 37,
    "start_time": "2022-05-17T10:06:16.779Z"
   },
   {
    "duration": 33,
    "start_time": "2022-05-17T10:06:16.821Z"
   },
   {
    "duration": 83,
    "start_time": "2022-05-17T10:06:16.860Z"
   },
   {
    "duration": 6,
    "start_time": "2022-05-17T10:06:16.949Z"
   },
   {
    "duration": 74,
    "start_time": "2022-05-17T10:06:16.957Z"
   },
   {
    "duration": 8,
    "start_time": "2022-05-17T10:06:17.039Z"
   },
   {
    "duration": 18,
    "start_time": "2022-05-17T10:06:17.050Z"
   },
   {
    "duration": 100,
    "start_time": "2022-05-17T10:06:17.070Z"
   },
   {
    "duration": 52,
    "start_time": "2022-05-17T10:06:17.172Z"
   },
   {
    "duration": 27,
    "start_time": "2022-05-17T10:06:17.227Z"
   },
   {
    "duration": 32,
    "start_time": "2022-05-17T10:06:17.256Z"
   },
   {
    "duration": 51,
    "start_time": "2022-05-17T10:06:17.290Z"
   },
   {
    "duration": 39,
    "start_time": "2022-05-17T10:06:17.344Z"
   },
   {
    "duration": 53,
    "start_time": "2022-05-17T10:06:17.386Z"
   },
   {
    "duration": 36,
    "start_time": "2022-05-17T10:06:17.442Z"
   },
   {
    "duration": 52,
    "start_time": "2022-05-17T10:06:17.480Z"
   },
   {
    "duration": 27,
    "start_time": "2022-05-17T10:06:17.535Z"
   },
   {
    "duration": 1096,
    "start_time": "2022-05-17T10:06:17.565Z"
   },
   {
    "duration": 113,
    "start_time": "2022-05-17T10:08:25.346Z"
   },
   {
    "duration": 2265,
    "start_time": "2022-05-17T10:35:30.712Z"
   },
   {
    "duration": 5,
    "start_time": "2022-05-17T10:35:55.097Z"
   },
   {
    "duration": 1320,
    "start_time": "2022-05-17T10:35:55.105Z"
   },
   {
    "duration": 19,
    "start_time": "2022-05-17T10:35:56.429Z"
   },
   {
    "duration": 66,
    "start_time": "2022-05-17T10:35:56.451Z"
   },
   {
    "duration": 8,
    "start_time": "2022-05-17T10:35:56.521Z"
   },
   {
    "duration": 14,
    "start_time": "2022-05-17T10:35:56.532Z"
   },
   {
    "duration": 19,
    "start_time": "2022-05-17T10:35:56.549Z"
   },
   {
    "duration": 7,
    "start_time": "2022-05-17T10:35:56.571Z"
   },
   {
    "duration": 11,
    "start_time": "2022-05-17T10:35:56.609Z"
   },
   {
    "duration": 11,
    "start_time": "2022-05-17T10:35:56.623Z"
   },
   {
    "duration": 16,
    "start_time": "2022-05-17T10:35:56.638Z"
   },
   {
    "duration": 53,
    "start_time": "2022-05-17T10:35:56.657Z"
   },
   {
    "duration": 69,
    "start_time": "2022-05-17T10:35:56.713Z"
   },
   {
    "duration": 93,
    "start_time": "2022-05-17T10:35:56.785Z"
   },
   {
    "duration": 34,
    "start_time": "2022-05-17T10:35:56.880Z"
   },
   {
    "duration": 13,
    "start_time": "2022-05-17T10:35:56.917Z"
   },
   {
    "duration": 24,
    "start_time": "2022-05-17T10:35:56.933Z"
   },
   {
    "duration": 90,
    "start_time": "2022-05-17T10:35:56.960Z"
   },
   {
    "duration": 56,
    "start_time": "2022-05-17T10:35:57.053Z"
   },
   {
    "duration": 17,
    "start_time": "2022-05-17T10:35:57.112Z"
   },
   {
    "duration": 21,
    "start_time": "2022-05-17T10:35:57.132Z"
   },
   {
    "duration": 64,
    "start_time": "2022-05-17T10:35:57.157Z"
   },
   {
    "duration": 47,
    "start_time": "2022-05-17T10:35:57.224Z"
   },
   {
    "duration": 40,
    "start_time": "2022-05-17T10:35:57.274Z"
   },
   {
    "duration": 65,
    "start_time": "2022-05-17T10:35:57.317Z"
   },
   {
    "duration": 37,
    "start_time": "2022-05-17T10:35:57.385Z"
   },
   {
    "duration": 23,
    "start_time": "2022-05-17T10:35:57.424Z"
   },
   {
    "duration": 62,
    "start_time": "2022-05-17T10:35:57.449Z"
   },
   {
    "duration": 14,
    "start_time": "2022-05-17T10:35:57.518Z"
   },
   {
    "duration": 37,
    "start_time": "2022-05-17T10:35:57.535Z"
   },
   {
    "duration": 48,
    "start_time": "2022-05-17T10:35:57.575Z"
   },
   {
    "duration": 186,
    "start_time": "2022-05-17T10:35:57.626Z"
   },
   {
    "duration": 97,
    "start_time": "2022-05-17T10:35:57.815Z"
   },
   {
    "duration": 112,
    "start_time": "2022-05-17T10:35:57.914Z"
   },
   {
    "duration": 25,
    "start_time": "2022-05-17T10:35:58.029Z"
   },
   {
    "duration": 84,
    "start_time": "2022-05-17T10:35:58.057Z"
   },
   {
    "duration": 45,
    "start_time": "2022-05-17T10:35:58.143Z"
   },
   {
    "duration": 47,
    "start_time": "2022-05-17T10:35:58.210Z"
   },
   {
    "duration": 18,
    "start_time": "2022-05-17T10:36:26.598Z"
   },
   {
    "duration": 15,
    "start_time": "2022-05-17T10:37:18.487Z"
   },
   {
    "duration": 940,
    "start_time": "2022-05-17T10:39:32.698Z"
   },
   {
    "duration": 1333,
    "start_time": "2022-05-17T10:40:12.727Z"
   },
   {
    "duration": 246,
    "start_time": "2022-05-17T10:44:46.651Z"
   },
   {
    "duration": 21,
    "start_time": "2022-05-17T10:47:10.423Z"
   },
   {
    "duration": 231,
    "start_time": "2022-05-17T10:50:18.009Z"
   },
   {
    "duration": 20,
    "start_time": "2022-05-17T10:56:38.920Z"
   },
   {
    "duration": 14,
    "start_time": "2022-05-17T10:56:42.249Z"
   },
   {
    "duration": 229,
    "start_time": "2022-05-17T10:56:56.899Z"
   },
   {
    "duration": 25,
    "start_time": "2022-05-17T10:57:35.429Z"
   },
   {
    "duration": 17,
    "start_time": "2022-05-17T10:58:31.368Z"
   },
   {
    "duration": 188,
    "start_time": "2022-05-17T10:58:45.536Z"
   },
   {
    "duration": 240,
    "start_time": "2022-05-17T11:00:24.092Z"
   },
   {
    "duration": 410,
    "start_time": "2022-05-17T11:03:21.552Z"
   },
   {
    "duration": 344,
    "start_time": "2022-05-17T11:05:38.897Z"
   },
   {
    "duration": 42,
    "start_time": "2022-05-17T20:17:57.850Z"
   },
   {
    "duration": 1283,
    "start_time": "2022-05-17T20:18:32.116Z"
   },
   {
    "duration": 888,
    "start_time": "2022-05-17T20:18:33.402Z"
   },
   {
    "duration": 11,
    "start_time": "2022-05-17T20:18:34.292Z"
   },
   {
    "duration": 18,
    "start_time": "2022-05-17T20:18:34.305Z"
   },
   {
    "duration": 7,
    "start_time": "2022-05-17T20:18:34.324Z"
   },
   {
    "duration": 3,
    "start_time": "2022-05-17T20:18:34.333Z"
   },
   {
    "duration": 10,
    "start_time": "2022-05-17T20:18:34.338Z"
   },
   {
    "duration": 8,
    "start_time": "2022-05-17T20:18:34.349Z"
   },
   {
    "duration": 9,
    "start_time": "2022-05-17T20:18:34.358Z"
   },
   {
    "duration": 10,
    "start_time": "2022-05-17T20:18:34.370Z"
   },
   {
    "duration": 15,
    "start_time": "2022-05-17T20:18:34.381Z"
   },
   {
    "duration": 8,
    "start_time": "2022-05-17T20:18:34.397Z"
   },
   {
    "duration": 31,
    "start_time": "2022-05-17T20:18:34.406Z"
   },
   {
    "duration": 234,
    "start_time": "2022-05-17T20:18:34.439Z"
   },
   {
    "duration": 7,
    "start_time": "2022-05-17T20:18:34.674Z"
   },
   {
    "duration": 8,
    "start_time": "2022-05-17T20:18:34.682Z"
   },
   {
    "duration": 12,
    "start_time": "2022-05-17T20:18:34.692Z"
   },
   {
    "duration": 113,
    "start_time": "2022-05-17T20:18:34.706Z"
   },
   {
    "duration": 27,
    "start_time": "2022-05-17T20:18:34.821Z"
   },
   {
    "duration": 13,
    "start_time": "2022-05-17T20:18:34.862Z"
   },
   {
    "duration": 3,
    "start_time": "2022-05-17T20:18:34.877Z"
   },
   {
    "duration": 4,
    "start_time": "2022-05-17T20:18:34.881Z"
   },
   {
    "duration": 16,
    "start_time": "2022-05-17T20:18:34.887Z"
   },
   {
    "duration": 78,
    "start_time": "2022-05-17T20:18:34.905Z"
   },
   {
    "duration": 79,
    "start_time": "2022-05-17T20:18:34.985Z"
   },
   {
    "duration": 11,
    "start_time": "2022-05-17T20:18:35.066Z"
   },
   {
    "duration": 46,
    "start_time": "2022-05-17T20:18:35.079Z"
   },
   {
    "duration": 12,
    "start_time": "2022-05-17T20:18:35.130Z"
   },
   {
    "duration": 24,
    "start_time": "2022-05-17T20:18:35.143Z"
   },
   {
    "duration": 14,
    "start_time": "2022-05-17T20:18:35.168Z"
   },
   {
    "duration": 5,
    "start_time": "2022-05-17T20:18:35.183Z"
   },
   {
    "duration": 30,
    "start_time": "2022-05-17T20:18:35.190Z"
   },
   {
    "duration": 11,
    "start_time": "2022-05-17T20:18:35.222Z"
   },
   {
    "duration": 89,
    "start_time": "2022-05-17T20:18:35.235Z"
   },
   {
    "duration": 46,
    "start_time": "2022-05-17T20:18:35.326Z"
   },
   {
    "duration": 50,
    "start_time": "2022-05-17T20:18:35.373Z"
   },
   {
    "duration": 15,
    "start_time": "2022-05-17T20:18:35.424Z"
   },
   {
    "duration": 37,
    "start_time": "2022-05-17T20:18:35.441Z"
   },
   {
    "duration": 18,
    "start_time": "2022-05-17T20:18:35.479Z"
   },
   {
    "duration": 21,
    "start_time": "2022-05-17T20:18:35.499Z"
   },
   {
    "duration": 10,
    "start_time": "2022-05-17T20:18:35.522Z"
   },
   {
    "duration": 32,
    "start_time": "2022-05-17T20:18:35.534Z"
   },
   {
    "duration": 20,
    "start_time": "2022-05-17T20:18:35.568Z"
   },
   {
    "duration": 5,
    "start_time": "2022-05-17T20:18:35.590Z"
   },
   {
    "duration": 79,
    "start_time": "2022-05-17T20:18:35.596Z"
   },
   {
    "duration": 7,
    "start_time": "2022-05-17T20:18:35.676Z"
   },
   {
    "duration": 11,
    "start_time": "2022-05-17T20:18:35.685Z"
   },
   {
    "duration": 94,
    "start_time": "2022-05-17T20:18:35.697Z"
   },
   {
    "duration": 72,
    "start_time": "2022-05-17T20:18:35.793Z"
   },
   {
    "duration": 21,
    "start_time": "2022-05-17T20:18:35.867Z"
   },
   {
    "duration": 15,
    "start_time": "2022-05-17T20:18:35.890Z"
   },
   {
    "duration": 72,
    "start_time": "2022-05-17T20:18:35.907Z"
   },
   {
    "duration": 20,
    "start_time": "2022-05-17T20:18:35.981Z"
   },
   {
    "duration": 17,
    "start_time": "2022-05-17T20:18:36.003Z"
   },
   {
    "duration": 55,
    "start_time": "2022-05-17T20:18:36.021Z"
   },
   {
    "duration": 14,
    "start_time": "2022-05-17T20:18:36.078Z"
   },
   {
    "duration": 14,
    "start_time": "2022-05-17T20:18:36.094Z"
   },
   {
    "duration": 462,
    "start_time": "2022-05-17T20:18:36.110Z"
   },
   {
    "duration": 10,
    "start_time": "2022-05-17T20:18:36.574Z"
   },
   {
    "duration": 198,
    "start_time": "2022-05-17T20:18:36.586Z"
   },
   {
    "duration": 4,
    "start_time": "2022-05-17T20:19:20.221Z"
   },
   {
    "duration": 4,
    "start_time": "2022-05-17T20:19:21.036Z"
   },
   {
    "duration": 16,
    "start_time": "2022-05-17T20:59:08.587Z"
   },
   {
    "duration": 2239,
    "start_time": "2022-05-17T21:00:32.028Z"
   },
   {
    "duration": 143,
    "start_time": "2022-05-17T21:02:40.991Z"
   },
   {
    "duration": 142,
    "start_time": "2022-05-17T21:06:03.115Z"
   },
   {
    "duration": 486,
    "start_time": "2022-05-17T21:10:43.651Z"
   },
   {
    "duration": 2312,
    "start_time": "2022-05-17T21:10:52.587Z"
   },
   {
    "duration": 230,
    "start_time": "2022-05-17T21:11:20.736Z"
   },
   {
    "duration": 24,
    "start_time": "2022-05-17T21:11:44.261Z"
   },
   {
    "duration": 2170,
    "start_time": "2022-05-17T21:12:12.345Z"
   },
   {
    "duration": 141,
    "start_time": "2022-05-17T21:13:15.112Z"
   },
   {
    "duration": 2344,
    "start_time": "2022-05-17T21:15:13.609Z"
   },
   {
    "duration": 2205,
    "start_time": "2022-05-17T21:16:12.404Z"
   },
   {
    "duration": 165,
    "start_time": "2022-05-17T21:17:46.409Z"
   },
   {
    "duration": 149,
    "start_time": "2022-05-17T21:25:44.204Z"
   },
   {
    "duration": 50,
    "start_time": "2022-05-18T06:08:31.528Z"
   },
   {
    "duration": 1294,
    "start_time": "2022-05-18T06:08:43.188Z"
   },
   {
    "duration": 750,
    "start_time": "2022-05-18T06:08:44.483Z"
   },
   {
    "duration": 10,
    "start_time": "2022-05-18T06:08:45.235Z"
   },
   {
    "duration": 19,
    "start_time": "2022-05-18T06:08:45.247Z"
   },
   {
    "duration": 4,
    "start_time": "2022-05-18T06:08:45.293Z"
   },
   {
    "duration": 5,
    "start_time": "2022-05-18T06:08:45.298Z"
   },
   {
    "duration": 9,
    "start_time": "2022-05-18T06:08:45.305Z"
   },
   {
    "duration": 6,
    "start_time": "2022-05-18T06:08:45.316Z"
   },
   {
    "duration": 9,
    "start_time": "2022-05-18T06:08:45.324Z"
   },
   {
    "duration": 6,
    "start_time": "2022-05-18T06:08:45.335Z"
   },
   {
    "duration": 10,
    "start_time": "2022-05-18T06:08:45.343Z"
   },
   {
    "duration": 39,
    "start_time": "2022-05-18T06:08:45.355Z"
   },
   {
    "duration": 28,
    "start_time": "2022-05-18T06:08:45.396Z"
   },
   {
    "duration": 124,
    "start_time": "2022-05-18T06:08:45.426Z"
   },
   {
    "duration": 6,
    "start_time": "2022-05-18T06:08:45.552Z"
   },
   {
    "duration": 7,
    "start_time": "2022-05-18T06:08:45.560Z"
   },
   {
    "duration": 10,
    "start_time": "2022-05-18T06:08:45.568Z"
   },
   {
    "duration": 33,
    "start_time": "2022-05-18T06:08:45.579Z"
   },
   {
    "duration": 22,
    "start_time": "2022-05-18T06:08:45.614Z"
   },
   {
    "duration": 8,
    "start_time": "2022-05-18T06:08:45.637Z"
   },
   {
    "duration": 3,
    "start_time": "2022-05-18T06:08:45.647Z"
   },
   {
    "duration": 5,
    "start_time": "2022-05-18T06:08:45.651Z"
   },
   {
    "duration": 42,
    "start_time": "2022-05-18T06:08:45.657Z"
   },
   {
    "duration": 23,
    "start_time": "2022-05-18T06:08:45.701Z"
   },
   {
    "duration": 18,
    "start_time": "2022-05-18T06:08:45.726Z"
   },
   {
    "duration": 8,
    "start_time": "2022-05-18T06:08:45.745Z"
   },
   {
    "duration": 41,
    "start_time": "2022-05-18T06:08:45.754Z"
   },
   {
    "duration": 15,
    "start_time": "2022-05-18T06:08:45.798Z"
   },
   {
    "duration": 23,
    "start_time": "2022-05-18T06:08:45.814Z"
   },
   {
    "duration": 18,
    "start_time": "2022-05-18T06:08:45.838Z"
   },
   {
    "duration": 7,
    "start_time": "2022-05-18T06:08:45.857Z"
   },
   {
    "duration": 44,
    "start_time": "2022-05-18T06:08:45.865Z"
   },
   {
    "duration": 11,
    "start_time": "2022-05-18T06:08:45.910Z"
   },
   {
    "duration": 126,
    "start_time": "2022-05-18T06:08:45.922Z"
   },
   {
    "duration": 77,
    "start_time": "2022-05-18T06:10:02.911Z"
   },
   {
    "duration": 83,
    "start_time": "2022-05-18T06:10:35.081Z"
   },
   {
    "duration": 55,
    "start_time": "2022-05-31T17:51:04.536Z"
   },
   {
    "duration": 1470,
    "start_time": "2022-05-31T17:51:12.969Z"
   },
   {
    "duration": 1486,
    "start_time": "2022-05-31T17:51:14.441Z"
   },
   {
    "duration": 12,
    "start_time": "2022-05-31T17:51:15.929Z"
   },
   {
    "duration": 21,
    "start_time": "2022-05-31T17:51:15.944Z"
   },
   {
    "duration": 21,
    "start_time": "2022-05-31T17:51:15.966Z"
   },
   {
    "duration": 8,
    "start_time": "2022-05-31T17:51:15.989Z"
   },
   {
    "duration": 28,
    "start_time": "2022-05-31T17:51:15.999Z"
   },
   {
    "duration": 10,
    "start_time": "2022-05-31T17:51:16.029Z"
   },
   {
    "duration": 15,
    "start_time": "2022-05-31T17:51:16.040Z"
   },
   {
    "duration": 22,
    "start_time": "2022-05-31T17:51:16.057Z"
   },
   {
    "duration": 16,
    "start_time": "2022-05-31T17:51:16.080Z"
   },
   {
    "duration": 10,
    "start_time": "2022-05-31T17:51:16.097Z"
   },
   {
    "duration": 33,
    "start_time": "2022-05-31T17:51:16.109Z"
   },
   {
    "duration": 104,
    "start_time": "2022-05-31T17:51:16.144Z"
   },
   {
    "duration": 10,
    "start_time": "2022-05-31T17:51:16.251Z"
   },
   {
    "duration": 19,
    "start_time": "2022-05-31T17:51:16.262Z"
   },
   {
    "duration": 29,
    "start_time": "2022-05-31T17:51:16.283Z"
   },
   {
    "duration": 40,
    "start_time": "2022-05-31T17:51:16.314Z"
   },
   {
    "duration": 24,
    "start_time": "2022-05-31T17:51:16.356Z"
   },
   {
    "duration": 11,
    "start_time": "2022-05-31T17:51:16.382Z"
   },
   {
    "duration": 32,
    "start_time": "2022-05-31T17:51:16.395Z"
   },
   {
    "duration": 3,
    "start_time": "2022-05-31T17:51:16.428Z"
   },
   {
    "duration": 14,
    "start_time": "2022-05-31T17:51:16.433Z"
   },
   {
    "duration": 26,
    "start_time": "2022-05-31T17:51:16.448Z"
   },
   {
    "duration": 21,
    "start_time": "2022-05-31T17:51:16.476Z"
   },
   {
    "duration": 29,
    "start_time": "2022-05-31T17:51:16.498Z"
   },
   {
    "duration": 28,
    "start_time": "2022-05-31T17:51:16.529Z"
   },
   {
    "duration": 11,
    "start_time": "2022-05-31T17:51:16.560Z"
   },
   {
    "duration": 17,
    "start_time": "2022-05-31T17:51:16.573Z"
   },
   {
    "duration": 43,
    "start_time": "2022-05-31T17:51:16.592Z"
   },
   {
    "duration": 6,
    "start_time": "2022-05-31T17:51:16.637Z"
   },
   {
    "duration": 28,
    "start_time": "2022-05-31T17:51:16.645Z"
   },
   {
    "duration": 12,
    "start_time": "2022-05-31T17:51:16.675Z"
   },
   {
    "duration": 2,
    "start_time": "2022-05-31T17:51:16.689Z"
   },
   {
    "duration": 13,
    "start_time": "2022-05-31T17:51:23.242Z"
   },
   {
    "duration": 15,
    "start_time": "2022-05-31T17:52:07.507Z"
   },
   {
    "duration": 11,
    "start_time": "2022-05-31T17:53:53.790Z"
   },
   {
    "duration": 10,
    "start_time": "2022-05-31T17:54:47.191Z"
   },
   {
    "duration": 8,
    "start_time": "2022-05-31T17:55:05.462Z"
   },
   {
    "duration": 10,
    "start_time": "2022-05-31T17:55:27.784Z"
   },
   {
    "duration": 4,
    "start_time": "2022-05-31T17:55:44.301Z"
   },
   {
    "duration": 4,
    "start_time": "2022-05-31T17:55:59.567Z"
   },
   {
    "duration": 27,
    "start_time": "2022-05-31T17:56:31.057Z"
   },
   {
    "duration": 14,
    "start_time": "2022-05-31T17:56:42.115Z"
   },
   {
    "duration": 3,
    "start_time": "2022-05-31T17:57:11.850Z"
   },
   {
    "duration": 8,
    "start_time": "2022-05-31T17:57:17.933Z"
   },
   {
    "duration": 3,
    "start_time": "2022-05-31T17:59:15.853Z"
   },
   {
    "duration": 43,
    "start_time": "2022-05-31T17:59:29.620Z"
   },
   {
    "duration": 4,
    "start_time": "2022-05-31T17:59:34.537Z"
   },
   {
    "duration": 43,
    "start_time": "2022-05-31T18:01:01.003Z"
   },
   {
    "duration": 23,
    "start_time": "2022-05-31T18:01:10.100Z"
   },
   {
    "duration": 4,
    "start_time": "2022-05-31T18:02:02.156Z"
   },
   {
    "duration": 27,
    "start_time": "2022-05-31T18:03:22.098Z"
   },
   {
    "duration": 68,
    "start_time": "2022-05-31T18:03:29.703Z"
   },
   {
    "duration": 14,
    "start_time": "2022-05-31T18:04:37.803Z"
   },
   {
    "duration": 72,
    "start_time": "2022-05-31T18:05:22.970Z"
   },
   {
    "duration": 15,
    "start_time": "2022-05-31T18:07:30.298Z"
   },
   {
    "duration": 7,
    "start_time": "2022-05-31T18:07:52.749Z"
   },
   {
    "duration": 14,
    "start_time": "2022-05-31T18:08:31.985Z"
   },
   {
    "duration": 12,
    "start_time": "2022-05-31T18:10:11.174Z"
   },
   {
    "duration": 4,
    "start_time": "2022-05-31T18:11:01.829Z"
   },
   {
    "duration": 5,
    "start_time": "2022-05-31T18:11:41.606Z"
   },
   {
    "duration": 12,
    "start_time": "2022-05-31T18:11:50.496Z"
   },
   {
    "duration": 15,
    "start_time": "2022-05-31T18:14:26.595Z"
   },
   {
    "duration": 583,
    "start_time": "2022-05-31T18:14:41.644Z"
   },
   {
    "duration": 13,
    "start_time": "2022-05-31T18:15:16.829Z"
   },
   {
    "duration": 307,
    "start_time": "2022-05-31T18:15:55.924Z"
   },
   {
    "duration": 316,
    "start_time": "2022-05-31T18:16:01.217Z"
   },
   {
    "duration": 397,
    "start_time": "2022-05-31T18:16:48.511Z"
   },
   {
    "duration": 299,
    "start_time": "2022-05-31T18:17:10.375Z"
   },
   {
    "duration": 342,
    "start_time": "2022-05-31T18:18:15.140Z"
   },
   {
    "duration": 13,
    "start_time": "2022-05-31T18:18:35.025Z"
   },
   {
    "duration": 14,
    "start_time": "2022-05-31T18:18:40.080Z"
   },
   {
    "duration": 12,
    "start_time": "2022-05-31T18:19:54.081Z"
   },
   {
    "duration": 6,
    "start_time": "2022-05-31T18:20:43.750Z"
   },
   {
    "duration": 26,
    "start_time": "2022-05-31T18:20:49.822Z"
   },
   {
    "duration": 112,
    "start_time": "2022-05-31T18:22:49.201Z"
   },
   {
    "duration": 209,
    "start_time": "2022-05-31T18:23:31.821Z"
   },
   {
    "duration": 700,
    "start_time": "2022-05-31T18:24:27.499Z"
   },
   {
    "duration": 16,
    "start_time": "2022-05-31T18:24:49.283Z"
   },
   {
    "duration": 743,
    "start_time": "2022-05-31T18:25:03.418Z"
   },
   {
    "duration": 356,
    "start_time": "2022-05-31T18:26:07.522Z"
   },
   {
    "duration": 696,
    "start_time": "2022-05-31T18:26:52.974Z"
   },
   {
    "duration": 405,
    "start_time": "2022-05-31T18:26:58.575Z"
   },
   {
    "duration": 13,
    "start_time": "2022-05-31T18:27:22.179Z"
   },
   {
    "duration": 9,
    "start_time": "2022-05-31T18:28:27.037Z"
   },
   {
    "duration": 10,
    "start_time": "2022-05-31T18:29:46.751Z"
   },
   {
    "duration": 13,
    "start_time": "2022-05-31T18:43:20.183Z"
   },
   {
    "duration": 33,
    "start_time": "2022-05-31T18:44:39.461Z"
   },
   {
    "duration": 13,
    "start_time": "2022-05-31T18:45:15.797Z"
   },
   {
    "duration": 11,
    "start_time": "2022-05-31T18:46:27.030Z"
   },
   {
    "duration": 13,
    "start_time": "2022-05-31T18:46:44.154Z"
   },
   {
    "duration": 12,
    "start_time": "2022-05-31T18:46:59.848Z"
   },
   {
    "duration": 14,
    "start_time": "2022-05-31T18:51:36.283Z"
   },
   {
    "duration": 786,
    "start_time": "2022-05-31T18:52:02.360Z"
   },
   {
    "duration": 13,
    "start_time": "2022-05-31T18:54:04.015Z"
   },
   {
    "duration": 12,
    "start_time": "2022-05-31T18:54:31.493Z"
   },
   {
    "duration": 9,
    "start_time": "2022-05-31T18:57:46.212Z"
   },
   {
    "duration": 8,
    "start_time": "2022-05-31T18:58:06.757Z"
   },
   {
    "duration": 8,
    "start_time": "2022-05-31T18:58:40.833Z"
   },
   {
    "duration": 8,
    "start_time": "2022-05-31T18:58:48.218Z"
   },
   {
    "duration": 62,
    "start_time": "2022-05-31T19:00:23.123Z"
   },
   {
    "duration": 54,
    "start_time": "2022-05-31T19:00:27.201Z"
   },
   {
    "duration": 69,
    "start_time": "2022-05-31T19:00:51.141Z"
   },
   {
    "duration": 14,
    "start_time": "2022-05-31T19:01:03.542Z"
   },
   {
    "duration": 18,
    "start_time": "2022-05-31T19:01:22.110Z"
   },
   {
    "duration": 17,
    "start_time": "2022-05-31T19:04:09.180Z"
   },
   {
    "duration": 4,
    "start_time": "2022-05-31T19:07:23.800Z"
   },
   {
    "duration": 6,
    "start_time": "2022-05-31T19:09:09.642Z"
   },
   {
    "duration": 5,
    "start_time": "2022-05-31T19:09:46.177Z"
   },
   {
    "duration": 6,
    "start_time": "2022-05-31T19:11:01.466Z"
   },
   {
    "duration": 12,
    "start_time": "2022-05-31T19:11:16.248Z"
   },
   {
    "duration": 4,
    "start_time": "2022-05-31T19:11:27.745Z"
   },
   {
    "duration": 4,
    "start_time": "2022-05-31T19:11:35.251Z"
   },
   {
    "duration": 6,
    "start_time": "2022-05-31T19:11:43.710Z"
   },
   {
    "duration": 3,
    "start_time": "2022-05-31T19:13:09.036Z"
   },
   {
    "duration": 634,
    "start_time": "2022-05-31T19:13:09.045Z"
   },
   {
    "duration": 10,
    "start_time": "2022-05-31T19:13:09.680Z"
   },
   {
    "duration": 41,
    "start_time": "2022-05-31T19:13:09.691Z"
   },
   {
    "duration": 6,
    "start_time": "2022-05-31T19:13:09.734Z"
   },
   {
    "duration": 6,
    "start_time": "2022-05-31T19:13:09.742Z"
   },
   {
    "duration": 12,
    "start_time": "2022-05-31T19:13:09.750Z"
   },
   {
    "duration": 6,
    "start_time": "2022-05-31T19:13:09.763Z"
   },
   {
    "duration": 9,
    "start_time": "2022-05-31T19:13:09.770Z"
   },
   {
    "duration": 7,
    "start_time": "2022-05-31T19:13:09.780Z"
   },
   {
    "duration": 37,
    "start_time": "2022-05-31T19:13:09.790Z"
   },
   {
    "duration": 10,
    "start_time": "2022-05-31T19:13:09.828Z"
   },
   {
    "duration": 30,
    "start_time": "2022-05-31T19:13:09.840Z"
   },
   {
    "duration": 55,
    "start_time": "2022-05-31T19:13:09.871Z"
   },
   {
    "duration": 8,
    "start_time": "2022-05-31T19:13:09.928Z"
   },
   {
    "duration": 8,
    "start_time": "2022-05-31T19:13:09.937Z"
   },
   {
    "duration": 12,
    "start_time": "2022-05-31T19:13:09.946Z"
   },
   {
    "duration": 33,
    "start_time": "2022-05-31T19:13:09.959Z"
   },
   {
    "duration": 50,
    "start_time": "2022-05-31T19:13:09.993Z"
   },
   {
    "duration": 9,
    "start_time": "2022-05-31T19:13:10.044Z"
   },
   {
    "duration": 4,
    "start_time": "2022-05-31T19:13:10.054Z"
   },
   {
    "duration": 7,
    "start_time": "2022-05-31T19:13:10.059Z"
   },
   {
    "duration": 13,
    "start_time": "2022-05-31T19:13:10.068Z"
   },
   {
    "duration": 44,
    "start_time": "2022-05-31T19:13:10.083Z"
   },
   {
    "duration": 20,
    "start_time": "2022-05-31T19:13:10.129Z"
   },
   {
    "duration": 10,
    "start_time": "2022-05-31T19:13:10.150Z"
   },
   {
    "duration": 29,
    "start_time": "2022-05-31T19:13:10.161Z"
   },
   {
    "duration": 38,
    "start_time": "2022-05-31T19:13:10.192Z"
   },
   {
    "duration": 15,
    "start_time": "2022-05-31T19:13:10.233Z"
   },
   {
    "duration": 16,
    "start_time": "2022-05-31T19:13:10.249Z"
   },
   {
    "duration": 7,
    "start_time": "2022-05-31T19:13:10.266Z"
   },
   {
    "duration": 56,
    "start_time": "2022-05-31T19:13:10.274Z"
   },
   {
    "duration": 11,
    "start_time": "2022-05-31T19:13:10.332Z"
   },
   {
    "duration": 1,
    "start_time": "2022-05-31T19:13:10.345Z"
   },
   {
    "duration": 18,
    "start_time": "2022-05-31T19:13:10.348Z"
   },
   {
    "duration": 2,
    "start_time": "2022-05-31T19:13:10.368Z"
   },
   {
    "duration": 7,
    "start_time": "2022-05-31T19:13:10.372Z"
   },
   {
    "duration": 10,
    "start_time": "2022-05-31T19:13:14.885Z"
   },
   {
    "duration": 651,
    "start_time": "2022-05-31T19:20:03.750Z"
   },
   {
    "duration": 13,
    "start_time": "2022-05-31T19:20:25.799Z"
   },
   {
    "duration": 4,
    "start_time": "2022-05-31T19:20:51.349Z"
   },
   {
    "duration": 639,
    "start_time": "2022-05-31T19:20:51.358Z"
   },
   {
    "duration": 34,
    "start_time": "2022-05-31T19:20:51.999Z"
   },
   {
    "duration": 41,
    "start_time": "2022-05-31T19:20:52.034Z"
   },
   {
    "duration": 6,
    "start_time": "2022-05-31T19:20:52.077Z"
   },
   {
    "duration": 7,
    "start_time": "2022-05-31T19:20:52.084Z"
   },
   {
    "duration": 11,
    "start_time": "2022-05-31T19:20:52.093Z"
   },
   {
    "duration": 7,
    "start_time": "2022-05-31T19:20:52.106Z"
   },
   {
    "duration": 23,
    "start_time": "2022-05-31T19:20:52.125Z"
   },
   {
    "duration": 11,
    "start_time": "2022-05-31T19:20:52.150Z"
   },
   {
    "duration": 15,
    "start_time": "2022-05-31T19:20:52.163Z"
   },
   {
    "duration": 10,
    "start_time": "2022-05-31T19:20:52.179Z"
   },
   {
    "duration": 55,
    "start_time": "2022-05-31T19:20:52.190Z"
   },
   {
    "duration": 40,
    "start_time": "2022-05-31T19:20:52.247Z"
   },
   {
    "duration": 7,
    "start_time": "2022-05-31T19:20:52.288Z"
   },
   {
    "duration": 37,
    "start_time": "2022-05-31T19:20:52.297Z"
   },
   {
    "duration": 14,
    "start_time": "2022-05-31T19:20:52.336Z"
   },
   {
    "duration": 39,
    "start_time": "2022-05-31T19:20:52.352Z"
   },
   {
    "duration": 47,
    "start_time": "2022-05-31T19:20:52.393Z"
   },
   {
    "duration": 13,
    "start_time": "2022-05-31T19:20:52.442Z"
   },
   {
    "duration": 5,
    "start_time": "2022-05-31T19:20:52.456Z"
   },
   {
    "duration": 10,
    "start_time": "2022-05-31T19:20:52.463Z"
   },
   {
    "duration": 19,
    "start_time": "2022-05-31T19:20:52.474Z"
   },
   {
    "duration": 60,
    "start_time": "2022-05-31T19:20:52.495Z"
   },
   {
    "duration": 28,
    "start_time": "2022-05-31T19:20:52.556Z"
   },
   {
    "duration": 12,
    "start_time": "2022-05-31T19:20:52.586Z"
   },
   {
    "duration": 53,
    "start_time": "2022-05-31T19:20:52.600Z"
   },
   {
    "duration": 10,
    "start_time": "2022-05-31T19:20:52.655Z"
   },
   {
    "duration": 15,
    "start_time": "2022-05-31T19:20:52.668Z"
   },
   {
    "duration": 16,
    "start_time": "2022-05-31T19:20:52.684Z"
   },
   {
    "duration": 8,
    "start_time": "2022-05-31T19:20:52.726Z"
   },
   {
    "duration": 49,
    "start_time": "2022-05-31T19:20:52.736Z"
   },
   {
    "duration": 14,
    "start_time": "2022-05-31T19:20:52.787Z"
   },
   {
    "duration": 25,
    "start_time": "2022-05-31T19:20:52.803Z"
   },
   {
    "duration": 15,
    "start_time": "2022-05-31T19:20:57.924Z"
   },
   {
    "duration": 11,
    "start_time": "2022-05-31T19:21:31.241Z"
   },
   {
    "duration": 12,
    "start_time": "2022-05-31T19:21:45.588Z"
   }
  ],
  "kernelspec": {
   "display_name": "Python 3 (ipykernel)",
   "language": "python",
   "name": "python3"
  },
  "language_info": {
   "codemirror_mode": {
    "name": "ipython",
    "version": 3
   },
   "file_extension": ".py",
   "mimetype": "text/x-python",
   "name": "python",
   "nbconvert_exporter": "python",
   "pygments_lexer": "ipython3",
   "version": "3.9.7"
  },
  "toc": {
   "base_numbering": 1,
   "nav_menu": {},
   "number_sections": true,
   "sideBar": true,
   "skip_h1_title": true,
   "title_cell": "Table of Contents",
   "title_sidebar": "Contents",
   "toc_cell": false,
   "toc_position": {
    "height": "calc(100% - 180px)",
    "left": "10px",
    "top": "150px",
    "width": "284px"
   },
   "toc_section_display": true,
   "toc_window_display": true
  }
 },
 "nbformat": 4,
 "nbformat_minor": 2
}
