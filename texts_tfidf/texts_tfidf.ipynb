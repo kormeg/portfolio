{
 "cells": [
  {
   "cell_type": "markdown",
   "metadata": {
    "toc": true
   },
   "source": [
    "<h1>Содержание<span class=\"tocSkip\"></span></h1>\n",
    "<div class=\"toc\"><ul class=\"toc-item\"><li><ul class=\"toc-item\"><li><span><a href=\"#Общее-впечатление\" data-toc-modified-id=\"Общее-впечатление-0.1\"><span class=\"toc-item-num\">0.1&nbsp;&nbsp;</span><font color=\"orange\">Общее впечатление</font></a></span></li><li><span><a href=\"#Общее-впечатление-(ревью-2)\" data-toc-modified-id=\"Общее-впечатление-(ревью-2)-0.2\"><span class=\"toc-item-num\">0.2&nbsp;&nbsp;</span><font color=\"orange\">Общее впечатление (ревью 2)</font></a></span></li><li><span><a href=\"#Общее-впечатление-(ревью-3)\" data-toc-modified-id=\"Общее-впечатление-(ревью-3)-0.3\"><span class=\"toc-item-num\">0.3&nbsp;&nbsp;</span><font color=\"orange\">Общее впечатление (ревью 3)</font></a></span></li></ul></li><li><span><a href=\"#Загрузка-и-изучение-данных\" data-toc-modified-id=\"Загрузка-и-изучение-данных-1\"><span class=\"toc-item-num\">1&nbsp;&nbsp;</span>Загрузка и изучение данных</a></span><ul class=\"toc-item\"><li><span><a href=\"#Вывод\" data-toc-modified-id=\"Вывод-1.1\"><span class=\"toc-item-num\">1.1&nbsp;&nbsp;</span>Вывод</a></span></li></ul></li><li><span><a href=\"#Предобработка\" data-toc-modified-id=\"Предобработка-2\"><span class=\"toc-item-num\">2&nbsp;&nbsp;</span>Предобработка</a></span><ul class=\"toc-item\"><li><span><a href=\"#Вывод\" data-toc-modified-id=\"Вывод-2.1\"><span class=\"toc-item-num\">2.1&nbsp;&nbsp;</span>Вывод</a></span></li></ul></li><li><span><a href=\"#Обучение-моделей\" data-toc-modified-id=\"Обучение-моделей-3\"><span class=\"toc-item-num\">3&nbsp;&nbsp;</span>Обучение моделей</a></span><ul class=\"toc-item\"><li><span><a href=\"#Дерево-Решений\" data-toc-modified-id=\"Дерево-Решений-3.1\"><span class=\"toc-item-num\">3.1&nbsp;&nbsp;</span>Дерево Решений</a></span></li><li><span><a href=\"#Логистическая-Регрессия\" data-toc-modified-id=\"Логистическая-Регрессия-3.2\"><span class=\"toc-item-num\">3.2&nbsp;&nbsp;</span>Логистическая Регрессия</a></span></li><li><span><a href=\"#Cat-Boost\" data-toc-modified-id=\"Cat-Boost-3.3\"><span class=\"toc-item-num\">3.3&nbsp;&nbsp;</span>Cat Boost</a></span></li><li><span><a href=\"#Light-GBM\" data-toc-modified-id=\"Light-GBM-3.4\"><span class=\"toc-item-num\">3.4&nbsp;&nbsp;</span>Light GBM</a></span></li><li><span><a href=\"#Вывод\" data-toc-modified-id=\"Вывод-3.5\"><span class=\"toc-item-num\">3.5&nbsp;&nbsp;</span>Вывод</a></span></li></ul></li><li><span><a href=\"#Тестирование-Лучших-моделей\" data-toc-modified-id=\"Тестирование-Лучших-моделей-4\"><span class=\"toc-item-num\">4&nbsp;&nbsp;</span>Тестирование Лучших моделей</a></span></li><li><span><a href=\"#Вывод\" data-toc-modified-id=\"Вывод-5\"><span class=\"toc-item-num\">5&nbsp;&nbsp;</span>Вывод</a></span></li><li><span><a href=\"#Чек-лист-проверки\" data-toc-modified-id=\"Чек-лист-проверки-6\"><span class=\"toc-item-num\">6&nbsp;&nbsp;</span>Чек-лист проверки</a></span></li></ul></div>"
   ]
  },
  {
   "cell_type": "markdown",
   "metadata": {},
   "source": [
    "Привет, меня зовут Артем Хуршудов. Сегодня я проверю твой проект.\n",
    "<br> Дальнейшее общение будет происходить на \"ты\" если это не вызывает никаких проблем.\n",
    "<br> Желательно реагировать на каждый мой комментарий ('исправил', 'не понятно как исправить ошибку', ...)\n",
    "<br> Пожалуйста, не удаляй комментарии ревьюера, так как они повышают качество повторного ревью.\n",
    "\n",
    "Комментарии будут в <font color='green'>зеленой</font>, <font color='blue'>синей</font> или <font color='red'>красной</font> рамках:\n",
    "\n",
    "<div class=\"alert alert-block alert-success\">\n",
    "<b>Успех:</b> Если все сделано отлично\n",
    "</div>\n",
    "\n",
    "<div class=\"alert alert-block alert-info\">\n",
    "<b>Совет: </b> Если можно немного улучшить\n",
    "</div>\n",
    "\n",
    "<div class=\"alert alert-block alert-danger\">\n",
    "<b>Ошибка:</b> Если требуются исправления. Работа не может быть принята с красными комментариями.\n",
    "</div>\n",
    "\n",
    "-------------------\n",
    "\n",
    "Будет очень хорошо, если ты будешь помечать свои действия следующим образом:\n",
    "<div class=\"alert alert-block alert-warning\">\n",
    "<b>Комментарий студента:</b> ...\n",
    "</div>\n",
    "\n",
    "<div class=\"alert alert-block alert-warning\">\n",
    "<b>Изменения:</b> Были внесены следующие изменения ...\n",
    "</div>\n",
    "\n",
    "<font color='green'><b>Полезные (и просто интересные) материалы:</b></font> \\\n",
    "Для работы с текстами используют и другие подходы. Например, сейчас активно используются RNN (LSTM) и трансформеры (BERT и другие с улицы Сезам, например, ELMO). НО! Они не являются панацеей, не всегда они нужны, так как и TF-IDF или Word2Vec + модели из классического ML тоже могут справляться. \\\n",
    "BERT тяжелый, существует много его вариаций для разных задач, есть готовые модели, есть надстройки над библиотекой transformers. Если, обучать BERT на GPU (можно в Google Colab или Kaggle), то должно быть побыстрее.\\\n",
    "https://huggingface.co/transformers/model_doc/bert.html \\\n",
    "https://t.me/renat_alimbekov \\\n",
    "https://colah.github.io/posts/2015-08-Understanding-LSTMs/ - Про LSTM \\\n",
    "https://web.stanford.edu/~jurafsky/slp3/10.pdf - про энкодер-декодер модели, этеншены\\\n",
    "https://pytorch.org/tutorials/beginner/transformer_tutorial.html - официальный гайд\n",
    "по трансформеру от создателей pytorch\\\n",
    "https://transformer.huggingface.co/ - поболтать с трансформером \\\n",
    "Библиотеки: allennlp, fairseq, transformers, tensorflow-text — множествореализованных\n",
    "методов для трансформеров методов NLP \\\n",
    "Word2Vec https://radimrehurek.com/gensim/models/word2vec.html \n",
    "\n",
    "<font color='green'>Пример BERT с GPU:\n",
    "```python\n",
    "%%time\n",
    "from tqdm import notebook\n",
    "batch_size = 2 # для примера возьмем такой батч, где будет всего две строки датасета\n",
    "embeddings = [] \n",
    "for i in notebook.tqdm(range(input_ids.shape[0] // batch_size)):\n",
    "        batch = torch.LongTensor(input_ids[batch_size*i:batch_size*(i+1)]).cuda() # закидываем тензор на GPU\n",
    "        attention_mask_batch = torch.LongTensor(attention_mask[batch_size*i:batch_size*(i+1)]).cuda()\n",
    "        \n",
    "        with torch.no_grad():\n",
    "            model.cuda()\n",
    "            batch_embeddings = model(batch, attention_mask=attention_mask_batch)\n",
    "        \n",
    "        embeddings.append(batch_embeddings[0][:,0,:].cpu().numpy()) # перевод обратно на проц, чтобы в нумпай кинуть\n",
    "        del batch\n",
    "        del attention_mask_batch\n",
    "        del batch_embeddings\n",
    "        \n",
    "features = np.concatenate(embeddings) \n",
    "```\n",
    "Можно сделать предварительную проверку на наличие GPU.\\\n",
    "Например, так: ```device = torch.device(\"cuda:0\") if torch.cuda.is_available() else torch.device(\"cpu\")```\\\n",
    "Тогда вместо .cuda() нужно писать .to(device)\n",
    "\n",
    "Если понравилась работа с текстами, то можешь посмотреть очень интересный (но очень-очень сложный) курс лекций: https://github.com/yandexdataschool/nlp_course .\n",
    "</font>\n",
    "\n",
    "### <font color='orange'>Общее впечатление</font>\n",
    "* Большое спасибо за проделанную работу. Видно, что приложено много усилий.\n",
    "* Радует, что ноутбук хорошо структурирован. Приятно проверять такие работы.\n",
    "* Отлично, что стоп-слова были исключены при векторизации!\n",
    "* Над этим проектом нужно будет еще немного поработать. Однако, изменения не должны занять много времени.\n",
    "* Пожалуйста, запусти все ячейки перед отправкой проекта.\n",
    "* С радостью отвечу на твои вопросы, если они есть. Лучше всего их собрать в следующей ячейке. Жду новую версию проекта."
   ]
  },
  {
   "cell_type": "markdown",
   "metadata": {},
   "source": [
    "### <font color='orange'>Общее впечатление (ревью 2)</font>\n",
    "* Новый комментарий обозначен фразой \"ревью 2\"."
   ]
  },
  {
   "cell_type": "markdown",
   "metadata": {},
   "source": [
    "### <font color='orange'>Общее впечатление (ревью 3)</font>\n",
    "* После исправлений проект улучшился и теперь он может быть зачтен.\n",
    "* Удачи в дальнейшем обучении и следующих работах!"
   ]
  },
  {
   "cell_type": "markdown",
   "metadata": {},
   "source": [
    "# Проект для «Викишоп» "
   ]
  },
  {
   "cell_type": "markdown",
   "metadata": {},
   "source": [
    "Интернет-магазин «Викишоп» запускает новый сервис. Теперь пользователи могут редактировать и дополнять описания товаров, как в вики-сообществах. То есть клиенты предлагают свои правки и комментируют изменения других. Магазину нужен инструмент, который будет искать токсичные комментарии и отправлять их на модерацию.  \n",
    "  \n",
    "***Цель исследования:***  \n",
    "Обучить модель классифицировать комментарии на позитивные и негативные.  \n",
    "Построить модель со значением метрики качества F1 не меньше 0.75. \n",
    "\n",
    "***План работы***  \n",
    "Загрузить и подготовить данные.  \n",
    "Обучить разные модели.  \n",
    "Сделать выводы.  \n",
    "  \n",
    "В нашем распоряжении набор данных с разметкой о токсичности правок. "
   ]
  },
  {
   "cell_type": "markdown",
   "metadata": {},
   "source": [
    "## Загрузка и изучение данных"
   ]
  },
  {
   "cell_type": "code",
   "execution_count": 1,
   "metadata": {},
   "outputs": [],
   "source": [
    "import pandas as pd\n",
    "import numpy as np\n",
    "import matplotlib.pyplot as plt\n",
    "import seaborn as sns\n",
    "\n",
    "from sklearn.model_selection import train_test_split, GridSearchCV\n",
    "from sklearn.feature_extraction.text import TfidfVectorizer\n",
    "from sklearn.linear_model import LogisticRegression\n",
    "from sklearn.tree import DecisionTreeClassifier\n",
    "from sklearn.metrics import f1_score, make_scorer\n",
    "from sklearn.pipeline import Pipeline\n",
    "\n",
    "from catboost import CatBoostClassifier\n",
    "import lightgbm as lgb\n",
    "\n",
    "import spacy\n",
    "import nltk\n",
    "from nltk.corpus import stopwords\n",
    "import re\n",
    "\n",
    "from tqdm import notebook\n",
    "import time\n",
    "import warnings\n",
    "\n",
    "warnings.filterwarnings(\"ignore\")\n",
    "pd.set_option(\"display.max_colwidth\", None)"
   ]
  },
  {
   "cell_type": "markdown",
   "metadata": {},
   "source": [
    "<div class=\"alert alert-block alert-success\">\n",
    "<b>Успех:</b> Отлично, что все импорты собраны в первой ячейке ноутбука! Если у того, кто будет запускать твой ноутбук будут отсутствовать некоторые библиотеки, то он это увидит сразу, а не в процессе!\n",
    "</div>"
   ]
  },
  {
   "cell_type": "code",
   "execution_count": 2,
   "metadata": {},
   "outputs": [
    {
     "name": "stdout",
     "output_type": "stream",
     "text": [
      "<class 'pandas.core.frame.DataFrame'>\n",
      "RangeIndex: 159292 entries, 0 to 159291\n",
      "Data columns (total 3 columns):\n",
      " #   Column      Non-Null Count   Dtype \n",
      "---  ------      --------------   ----- \n",
      " 0   Unnamed: 0  159292 non-null  int64 \n",
      " 1   text        159292 non-null  object\n",
      " 2   toxic       159292 non-null  int64 \n",
      "dtypes: int64(2), object(1)\n",
      "memory usage: 3.6+ MB\n"
     ]
    },
    {
     "data": {
      "text/html": [
       "<div>\n",
       "<style scoped>\n",
       "    .dataframe tbody tr th:only-of-type {\n",
       "        vertical-align: middle;\n",
       "    }\n",
       "\n",
       "    .dataframe tbody tr th {\n",
       "        vertical-align: top;\n",
       "    }\n",
       "\n",
       "    .dataframe thead th {\n",
       "        text-align: right;\n",
       "    }\n",
       "</style>\n",
       "<table border=\"1\" class=\"dataframe\">\n",
       "  <thead>\n",
       "    <tr style=\"text-align: right;\">\n",
       "      <th></th>\n",
       "      <th>Unnamed: 0</th>\n",
       "      <th>text</th>\n",
       "      <th>toxic</th>\n",
       "    </tr>\n",
       "  </thead>\n",
       "  <tbody>\n",
       "    <tr>\n",
       "      <th>0</th>\n",
       "      <td>0</td>\n",
       "      <td>Explanation\\nWhy the edits made under my username Hardcore Metallica Fan were reverted? They weren't vandalisms, just closure on some GAs after I voted at New York Dolls FAC. And please don't remove the template from the talk page since I'm retired now.89.205.38.27</td>\n",
       "      <td>0</td>\n",
       "    </tr>\n",
       "    <tr>\n",
       "      <th>1</th>\n",
       "      <td>1</td>\n",
       "      <td>D'aww! He matches this background colour I'm seemingly stuck with. Thanks.  (talk) 21:51, January 11, 2016 (UTC)</td>\n",
       "      <td>0</td>\n",
       "    </tr>\n",
       "    <tr>\n",
       "      <th>2</th>\n",
       "      <td>2</td>\n",
       "      <td>Hey man, I'm really not trying to edit war. It's just that this guy is constantly removing relevant information and talking to me through edits instead of my talk page. He seems to care more about the formatting than the actual info.</td>\n",
       "      <td>0</td>\n",
       "    </tr>\n",
       "    <tr>\n",
       "      <th>3</th>\n",
       "      <td>3</td>\n",
       "      <td>\"\\nMore\\nI can't make any real suggestions on improvement - I wondered if the section statistics should be later on, or a subsection of \"\"types of accidents\"\"  -I think the references may need tidying so that they are all in the exact same format ie date format etc. I can do that later on, if no-one else does first - if you have any preferences for formatting style on references or want to do it yourself please let me know.\\n\\nThere appears to be a backlog on articles for review so I guess there may be a delay until a reviewer turns up. It's listed in the relevant form eg Wikipedia:Good_article_nominations#Transport  \"</td>\n",
       "      <td>0</td>\n",
       "    </tr>\n",
       "    <tr>\n",
       "      <th>4</th>\n",
       "      <td>4</td>\n",
       "      <td>You, sir, are my hero. Any chance you remember what page that's on?</td>\n",
       "      <td>0</td>\n",
       "    </tr>\n",
       "  </tbody>\n",
       "</table>\n",
       "</div>"
      ],
      "text/plain": [
       "   Unnamed: 0  \\\n",
       "0           0   \n",
       "1           1   \n",
       "2           2   \n",
       "3           3   \n",
       "4           4   \n",
       "\n",
       "                                                                                                                                                                                                                                                                                                                                                                                                                                                                                                                                                                                                                                                 text  \\\n",
       "0                                                                                                                                                                                                                                                                                                                                                                           Explanation\\nWhy the edits made under my username Hardcore Metallica Fan were reverted? They weren't vandalisms, just closure on some GAs after I voted at New York Dolls FAC. And please don't remove the template from the talk page since I'm retired now.89.205.38.27   \n",
       "1                                                                                                                                                                                                                                                                                                                                                                                                                                                                                                                                    D'aww! He matches this background colour I'm seemingly stuck with. Thanks.  (talk) 21:51, January 11, 2016 (UTC)   \n",
       "2                                                                                                                                                                                                                                                                                                                                                                                                           Hey man, I'm really not trying to edit war. It's just that this guy is constantly removing relevant information and talking to me through edits instead of my talk page. He seems to care more about the formatting than the actual info.   \n",
       "3  \"\\nMore\\nI can't make any real suggestions on improvement - I wondered if the section statistics should be later on, or a subsection of \"\"types of accidents\"\"  -I think the references may need tidying so that they are all in the exact same format ie date format etc. I can do that later on, if no-one else does first - if you have any preferences for formatting style on references or want to do it yourself please let me know.\\n\\nThere appears to be a backlog on articles for review so I guess there may be a delay until a reviewer turns up. It's listed in the relevant form eg Wikipedia:Good_article_nominations#Transport  \"   \n",
       "4                                                                                                                                                                                                                                                                                                                                                                                                                                                                                                                                                                                 You, sir, are my hero. Any chance you remember what page that's on?   \n",
       "\n",
       "   toxic  \n",
       "0      0  \n",
       "1      0  \n",
       "2      0  \n",
       "3      0  \n",
       "4      0  "
      ]
     },
     "execution_count": 2,
     "metadata": {},
     "output_type": "execute_result"
    }
   ],
   "source": [
    "try:\n",
    "    df = pd.read_csv(\"D:/практикум/датасеты для проектов/toxic_comments.csv\")\n",
    "except:\n",
    "    df = pd.read_csv(\"/datasets/toxic_comments.csv\")\n",
    "\n",
    "df.info()\n",
    "df.head()"
   ]
  },
  {
   "cell_type": "code",
   "execution_count": 3,
   "metadata": {},
   "outputs": [
    {
     "data": {
      "text/plain": [
       "array([0, 1], dtype=int64)"
      ]
     },
     "execution_count": 3,
     "metadata": {},
     "output_type": "execute_result"
    }
   ],
   "source": [
    "df[\"toxic\"].unique()"
   ]
  },
  {
   "cell_type": "code",
   "execution_count": 4,
   "metadata": {},
   "outputs": [
    {
     "data": {
      "text/plain": [
       "0"
      ]
     },
     "execution_count": 4,
     "metadata": {},
     "output_type": "execute_result"
    }
   ],
   "source": [
    "df.duplicated().sum()"
   ]
  },
  {
   "cell_type": "markdown",
   "metadata": {},
   "source": [
    "### Вывод"
   ]
  },
  {
   "cell_type": "markdown",
   "metadata": {},
   "source": [
    "Мы имеем датасет с уникальными текстами и пометкой о токсичности(целевой признак).  \n",
    "* В столбце с целевым признаком аномальных значений нет\n",
    "* Пропуски и дубликаты не обнаружены\n",
    "* Присутствует лишний столбец с индексом"
   ]
  },
  {
   "cell_type": "markdown",
   "metadata": {},
   "source": [
    "<div class=\"alert alert-block alert-success\">\n",
    "<b>Успех:</b> Данные загружены корреткно. \n",
    "</div>"
   ]
  },
  {
   "cell_type": "markdown",
   "metadata": {},
   "source": [
    "## Предобработка "
   ]
  },
  {
   "cell_type": "code",
   "execution_count": 5,
   "metadata": {},
   "outputs": [],
   "source": [
    "# удаляем лишний столбец\n",
    "df = df.drop(\"Unnamed: 0\", axis=1)"
   ]
  },
  {
   "cell_type": "code",
   "execution_count": 6,
   "metadata": {},
   "outputs": [
    {
     "data": {
      "text/html": [
       "<div>\n",
       "<style scoped>\n",
       "    .dataframe tbody tr th:only-of-type {\n",
       "        vertical-align: middle;\n",
       "    }\n",
       "\n",
       "    .dataframe tbody tr th {\n",
       "        vertical-align: top;\n",
       "    }\n",
       "\n",
       "    .dataframe thead th {\n",
       "        text-align: right;\n",
       "    }\n",
       "</style>\n",
       "<table border=\"1\" class=\"dataframe\">\n",
       "  <thead>\n",
       "    <tr style=\"text-align: right;\">\n",
       "      <th></th>\n",
       "      <th>text</th>\n",
       "      <th>toxic</th>\n",
       "    </tr>\n",
       "  </thead>\n",
       "  <tbody>\n",
       "    <tr>\n",
       "      <th>0</th>\n",
       "      <td>Explanation\\nWhy the edits made under my username Hardcore Metallica Fan were reverted? They weren't vandalisms, just closure on some GAs after I voted at New York Dolls FAC. And please don't remove the template from the talk page since I'm retired now.89.205.38.27</td>\n",
       "      <td>0</td>\n",
       "    </tr>\n",
       "    <tr>\n",
       "      <th>1</th>\n",
       "      <td>D'aww! He matches this background colour I'm seemingly stuck with. Thanks.  (talk) 21:51, January 11, 2016 (UTC)</td>\n",
       "      <td>0</td>\n",
       "    </tr>\n",
       "    <tr>\n",
       "      <th>2</th>\n",
       "      <td>Hey man, I'm really not trying to edit war. It's just that this guy is constantly removing relevant information and talking to me through edits instead of my talk page. He seems to care more about the formatting than the actual info.</td>\n",
       "      <td>0</td>\n",
       "    </tr>\n",
       "    <tr>\n",
       "      <th>3</th>\n",
       "      <td>\"\\nMore\\nI can't make any real suggestions on improvement - I wondered if the section statistics should be later on, or a subsection of \"\"types of accidents\"\"  -I think the references may need tidying so that they are all in the exact same format ie date format etc. I can do that later on, if no-one else does first - if you have any preferences for formatting style on references or want to do it yourself please let me know.\\n\\nThere appears to be a backlog on articles for review so I guess there may be a delay until a reviewer turns up. It's listed in the relevant form eg Wikipedia:Good_article_nominations#Transport  \"</td>\n",
       "      <td>0</td>\n",
       "    </tr>\n",
       "    <tr>\n",
       "      <th>4</th>\n",
       "      <td>You, sir, are my hero. Any chance you remember what page that's on?</td>\n",
       "      <td>0</td>\n",
       "    </tr>\n",
       "  </tbody>\n",
       "</table>\n",
       "</div>"
      ],
      "text/plain": [
       "                                                                                                                                                                                                                                                                                                                                                                                                                                                                                                                                                                                                                                                 text  \\\n",
       "0                                                                                                                                                                                                                                                                                                                                                                           Explanation\\nWhy the edits made under my username Hardcore Metallica Fan were reverted? They weren't vandalisms, just closure on some GAs after I voted at New York Dolls FAC. And please don't remove the template from the talk page since I'm retired now.89.205.38.27   \n",
       "1                                                                                                                                                                                                                                                                                                                                                                                                                                                                                                                                    D'aww! He matches this background colour I'm seemingly stuck with. Thanks.  (talk) 21:51, January 11, 2016 (UTC)   \n",
       "2                                                                                                                                                                                                                                                                                                                                                                                                           Hey man, I'm really not trying to edit war. It's just that this guy is constantly removing relevant information and talking to me through edits instead of my talk page. He seems to care more about the formatting than the actual info.   \n",
       "3  \"\\nMore\\nI can't make any real suggestions on improvement - I wondered if the section statistics should be later on, or a subsection of \"\"types of accidents\"\"  -I think the references may need tidying so that they are all in the exact same format ie date format etc. I can do that later on, if no-one else does first - if you have any preferences for formatting style on references or want to do it yourself please let me know.\\n\\nThere appears to be a backlog on articles for review so I guess there may be a delay until a reviewer turns up. It's listed in the relevant form eg Wikipedia:Good_article_nominations#Transport  \"   \n",
       "4                                                                                                                                                                                                                                                                                                                                                                                                                                                                                                                                                                                 You, sir, are my hero. Any chance you remember what page that's on?   \n",
       "\n",
       "   toxic  \n",
       "0      0  \n",
       "1      0  \n",
       "2      0  \n",
       "3      0  \n",
       "4      0  "
      ]
     },
     "execution_count": 6,
     "metadata": {},
     "output_type": "execute_result"
    }
   ],
   "source": [
    "# df = df.sample(10000).reset_index(drop=True)\n",
    "df.head()"
   ]
  },
  {
   "cell_type": "code",
   "execution_count": 7,
   "metadata": {},
   "outputs": [
    {
     "data": {
      "text/html": [
       "<div>\n",
       "<style scoped>\n",
       "    .dataframe tbody tr th:only-of-type {\n",
       "        vertical-align: middle;\n",
       "    }\n",
       "\n",
       "    .dataframe tbody tr th {\n",
       "        vertical-align: top;\n",
       "    }\n",
       "\n",
       "    .dataframe thead th {\n",
       "        text-align: right;\n",
       "    }\n",
       "</style>\n",
       "<table border=\"1\" class=\"dataframe\">\n",
       "  <thead>\n",
       "    <tr style=\"text-align: right;\">\n",
       "      <th></th>\n",
       "      <th>text</th>\n",
       "      <th>toxic</th>\n",
       "      <th>clear_text</th>\n",
       "    </tr>\n",
       "  </thead>\n",
       "  <tbody>\n",
       "    <tr>\n",
       "      <th>0</th>\n",
       "      <td>Explanation\\nWhy the edits made under my username Hardcore Metallica Fan were reverted? They weren't vandalisms, just closure on some GAs after I voted at New York Dolls FAC. And please don't remove the template from the talk page since I'm retired now.89.205.38.27</td>\n",
       "      <td>0</td>\n",
       "      <td>Explanation Why the edits made under my username Hardcore Metallica Fan were reverted  They weren't vandalisms  just closure on some GAs after I voted at New York Dolls FAC  And please don't remove the template from the talk page since I'm retired now</td>\n",
       "    </tr>\n",
       "    <tr>\n",
       "      <th>1</th>\n",
       "      <td>D'aww! He matches this background colour I'm seemingly stuck with. Thanks.  (talk) 21:51, January 11, 2016 (UTC)</td>\n",
       "      <td>0</td>\n",
       "      <td>D'aww  He matches this background colour I'm seemingly stuck with  Thanks    talk         January           UTC</td>\n",
       "    </tr>\n",
       "    <tr>\n",
       "      <th>2</th>\n",
       "      <td>Hey man, I'm really not trying to edit war. It's just that this guy is constantly removing relevant information and talking to me through edits instead of my talk page. He seems to care more about the formatting than the actual info.</td>\n",
       "      <td>0</td>\n",
       "      <td>Hey man  I'm really not trying to edit war  It's just that this guy is constantly removing relevant information and talking to me through edits instead of my talk page  He seems to care more about the formatting than the actual info</td>\n",
       "    </tr>\n",
       "    <tr>\n",
       "      <th>3</th>\n",
       "      <td>\"\\nMore\\nI can't make any real suggestions on improvement - I wondered if the section statistics should be later on, or a subsection of \"\"types of accidents\"\"  -I think the references may need tidying so that they are all in the exact same format ie date format etc. I can do that later on, if no-one else does first - if you have any preferences for formatting style on references or want to do it yourself please let me know.\\n\\nThere appears to be a backlog on articles for review so I guess there may be a delay until a reviewer turns up. It's listed in the relevant form eg Wikipedia:Good_article_nominations#Transport  \"</td>\n",
       "      <td>0</td>\n",
       "      <td>More I can't make any real suggestions on improvement   I wondered if the section statistics should be later on  or a subsection of   types of accidents     I think the references may need tidying so that they are all in the exact same format ie date format etc  I can do that later on  if no one else does first   if you have any preferences for formatting style on references or want to do it yourself please let me know   There appears to be a backlog on articles for review so I guess there may be a delay until a reviewer turns up  It's listed in the relevant form eg Wikipedia Good article nominations Transport</td>\n",
       "    </tr>\n",
       "    <tr>\n",
       "      <th>4</th>\n",
       "      <td>You, sir, are my hero. Any chance you remember what page that's on?</td>\n",
       "      <td>0</td>\n",
       "      <td>You  sir  are my hero  Any chance you remember what page that's on</td>\n",
       "    </tr>\n",
       "  </tbody>\n",
       "</table>\n",
       "</div>"
      ],
      "text/plain": [
       "                                                                                                                                                                                                                                                                                                                                                                                                                                                                                                                                                                                                                                                 text  \\\n",
       "0                                                                                                                                                                                                                                                                                                                                                                           Explanation\\nWhy the edits made under my username Hardcore Metallica Fan were reverted? They weren't vandalisms, just closure on some GAs after I voted at New York Dolls FAC. And please don't remove the template from the talk page since I'm retired now.89.205.38.27   \n",
       "1                                                                                                                                                                                                                                                                                                                                                                                                                                                                                                                                    D'aww! He matches this background colour I'm seemingly stuck with. Thanks.  (talk) 21:51, January 11, 2016 (UTC)   \n",
       "2                                                                                                                                                                                                                                                                                                                                                                                                           Hey man, I'm really not trying to edit war. It's just that this guy is constantly removing relevant information and talking to me through edits instead of my talk page. He seems to care more about the formatting than the actual info.   \n",
       "3  \"\\nMore\\nI can't make any real suggestions on improvement - I wondered if the section statistics should be later on, or a subsection of \"\"types of accidents\"\"  -I think the references may need tidying so that they are all in the exact same format ie date format etc. I can do that later on, if no-one else does first - if you have any preferences for formatting style on references or want to do it yourself please let me know.\\n\\nThere appears to be a backlog on articles for review so I guess there may be a delay until a reviewer turns up. It's listed in the relevant form eg Wikipedia:Good_article_nominations#Transport  \"   \n",
       "4                                                                                                                                                                                                                                                                                                                                                                                                                                                                                                                                                                                 You, sir, are my hero. Any chance you remember what page that's on?   \n",
       "\n",
       "   toxic  \\\n",
       "0      0   \n",
       "1      0   \n",
       "2      0   \n",
       "3      0   \n",
       "4      0   \n",
       "\n",
       "                                                                                                                                                                                                                                                                                                                                                                                                                                                                                                                                                                                                                                       clear_text  \n",
       "0                                                                                                                                                                                                                                                                                                                                                                        Explanation Why the edits made under my username Hardcore Metallica Fan were reverted  They weren't vandalisms  just closure on some GAs after I voted at New York Dolls FAC  And please don't remove the template from the talk page since I'm retired now               \n",
       "1                                                                                                                                                                                                                                                                                                                                                                                                                                                                                                                                D'aww  He matches this background colour I'm seemingly stuck with  Thanks    talk         January           UTC   \n",
       "2                                                                                                                                                                                                                                                                                                                                                                                                       Hey man  I'm really not trying to edit war  It's just that this guy is constantly removing relevant information and talking to me through edits instead of my talk page  He seems to care more about the formatting than the actual info   \n",
       "3    More I can't make any real suggestions on improvement   I wondered if the section statistics should be later on  or a subsection of   types of accidents     I think the references may need tidying so that they are all in the exact same format ie date format etc  I can do that later on  if no one else does first   if you have any preferences for formatting style on references or want to do it yourself please let me know   There appears to be a backlog on articles for review so I guess there may be a delay until a reviewer turns up  It's listed in the relevant form eg Wikipedia Good article nominations Transport     \n",
       "4                                                                                                                                                                                                                                                                                                                                                                                                                                                                                                                                                                             You  sir  are my hero  Any chance you remember what page that's on   "
      ]
     },
     "execution_count": 7,
     "metadata": {},
     "output_type": "execute_result"
    }
   ],
   "source": [
    "# очищаем тексы от лишних символов\n",
    "df[\"clear_text\"] = df[\"text\"].apply(lambda x: re.sub(r\"[^A-Za-z']\", ' ', x))\n",
    "df.head()"
   ]
  },
  {
   "cell_type": "markdown",
   "metadata": {},
   "source": [
    "<div class=\"alert alert-block alert-success\">\n",
    "<b>Успех:</b> Очистка была сделана верно.\n",
    "</div>"
   ]
  },
  {
   "cell_type": "code",
   "execution_count": 8,
   "metadata": {},
   "outputs": [
    {
     "data": {
      "text/plain": [
       "(159292,)"
      ]
     },
     "execution_count": 8,
     "metadata": {},
     "output_type": "execute_result"
    }
   ],
   "source": [
    "# создаем корпус текстов с нужной кодировкой\n",
    "corpus = df[\"clear_text\"].values #.astype(\"U\")\n",
    "corpus.shape"
   ]
  },
  {
   "cell_type": "markdown",
   "metadata": {},
   "source": [
    "<div class=\"alert alert-block alert-danger\">\n",
    "<b>Ошибка:</b> Этот лемматизатор работает только с русским языком, так что его нет смысла применять. Я бы использовал WordNetLemmatizer. Отмечу, что его нужно применять к словам, а не ко всему тексту сразу.\n",
    "</div>"
   ]
  },
  {
   "cell_type": "markdown",
   "metadata": {},
   "source": [
    "<div class=\"alert alert-block alert-warning\">\n",
    "<b>Комментарий студента:</b> Да вроде работает.)\n",
    "</div>"
   ]
  },
  {
   "cell_type": "markdown",
   "metadata": {},
   "source": [
    "<div class=\"alert alert-block alert-danger\">\n",
    "<b>Ошибка (ревью 2):</b> Прошу прощения, я вставил не тот комментарий. Вот корректный: приводить тексты к юникоду не имеет смысла, так как они все на английском. Это может привести к падению ядра из-за увеличения объема занимаемой памяти.\n",
    "</div>"
   ]
  },
  {
   "cell_type": "markdown",
   "metadata": {},
   "source": [
    "<div class=\"alert alert-block alert-warning\">\n",
    "<b>Комментарий студента:</b> понял. убрал.\n",
    "</div>"
   ]
  },
  {
   "cell_type": "code",
   "execution_count": 9,
   "metadata": {
    "scrolled": true
   },
   "outputs": [
    {
     "name": "stderr",
     "output_type": "stream",
     "text": [
      "[nltk_data] Downloading package stopwords to\n",
      "[nltk_data]     C:\\Users\\Pasha\\AppData\\Roaming\\nltk_data...\n",
      "[nltk_data]   Package stopwords is already up-to-date!\n"
     ]
    }
   ],
   "source": [
    "# скачиваем английский словарь стоп-слов \n",
    "nltk.download(\"stopwords\")\n",
    "stop_words = set(stopwords.words(\"english\"))"
   ]
  },
  {
   "cell_type": "code",
   "execution_count": 10,
   "metadata": {},
   "outputs": [
    {
     "data": {
      "application/vnd.jupyter.widget-view+json": {
       "model_id": "aba64be164f541f8a87afcdf50f6a0dc",
       "version_major": 2,
       "version_minor": 0
      },
      "text/plain": [
       "  0%|          | 0/159292 [00:00<?, ?it/s]"
      ]
     },
     "metadata": {},
     "output_type": "display_data"
    },
    {
     "name": "stdout",
     "output_type": "stream",
     "text": [
      "Wall time: 30min 10s\n"
     ]
    }
   ],
   "source": [
    "%%time\n",
    "# токенизируем и лемматизируем корпус\n",
    "nlp = spacy.load(\"en_core_web_sm\")\n",
    "lemm_text = []\n",
    "tokenized_text = []\n",
    "for item in notebook.tqdm(corpus):\n",
    "    doc = nlp(str(item))\n",
    "    text = \"\"\n",
    "    for token in doc:\n",
    "        if token not in stop_words:\n",
    "            text = text + \" \" + token.lemma_\n",
    "    text = \" \".join(text.split())\n",
    "    tokens = text.split()\n",
    "    tokenized_text.append(tokens)\n",
    "    lemm_text.append(text)"
   ]
  },
  {
   "cell_type": "code",
   "execution_count": 11,
   "metadata": {},
   "outputs": [],
   "source": [
    "df[\"lemm_text\"] = lemm_text\n",
    "df[\"tokenized_text\"] = tokenized_text"
   ]
  },
  {
   "cell_type": "code",
   "execution_count": 12,
   "metadata": {},
   "outputs": [
    {
     "data": {
      "text/html": [
       "<div>\n",
       "<style scoped>\n",
       "    .dataframe tbody tr th:only-of-type {\n",
       "        vertical-align: middle;\n",
       "    }\n",
       "\n",
       "    .dataframe tbody tr th {\n",
       "        vertical-align: top;\n",
       "    }\n",
       "\n",
       "    .dataframe thead th {\n",
       "        text-align: right;\n",
       "    }\n",
       "</style>\n",
       "<table border=\"1\" class=\"dataframe\">\n",
       "  <thead>\n",
       "    <tr style=\"text-align: right;\">\n",
       "      <th></th>\n",
       "      <th>text</th>\n",
       "      <th>toxic</th>\n",
       "      <th>clear_text</th>\n",
       "      <th>lemm_text</th>\n",
       "      <th>tokenized_text</th>\n",
       "    </tr>\n",
       "  </thead>\n",
       "  <tbody>\n",
       "    <tr>\n",
       "      <th>0</th>\n",
       "      <td>Explanation\\nWhy the edits made under my username Hardcore Metallica Fan were reverted? They weren't vandalisms, just closure on some GAs after I voted at New York Dolls FAC. And please don't remove the template from the talk page since I'm retired now.89.205.38.27</td>\n",
       "      <td>0</td>\n",
       "      <td>Explanation Why the edits made under my username Hardcore Metallica Fan were reverted  They weren't vandalisms  just closure on some GAs after I voted at New York Dolls FAC  And please don't remove the template from the talk page since I'm retired now</td>\n",
       "      <td>Explanation why the edit make under my username Hardcore Metallica Fan be revert they be not vandalism just closure on some gas after I vote at New York Dolls FAC and please do not remove the template from the talk page since I be retire now</td>\n",
       "      <td>[Explanation, why, the, edit, make, under, my, username, Hardcore, Metallica, Fan, be, revert, they, be, not, vandalism, just, closure, on, some, gas, after, I, vote, at, New, York, Dolls, FAC, and, please, do, not, remove, the, template, from, the, talk, page, since, I, be, retire, now]</td>\n",
       "    </tr>\n",
       "    <tr>\n",
       "      <th>1</th>\n",
       "      <td>D'aww! He matches this background colour I'm seemingly stuck with. Thanks.  (talk) 21:51, January 11, 2016 (UTC)</td>\n",
       "      <td>0</td>\n",
       "      <td>D'aww  He matches this background colour I'm seemingly stuck with  Thanks    talk         January           UTC</td>\n",
       "      <td>D'aww he match this background colour I be seemingly stuck with thank talk January UTC</td>\n",
       "      <td>[D'aww, he, match, this, background, colour, I, be, seemingly, stuck, with, thank, talk, January, UTC]</td>\n",
       "    </tr>\n",
       "    <tr>\n",
       "      <th>2</th>\n",
       "      <td>Hey man, I'm really not trying to edit war. It's just that this guy is constantly removing relevant information and talking to me through edits instead of my talk page. He seems to care more about the formatting than the actual info.</td>\n",
       "      <td>0</td>\n",
       "      <td>Hey man  I'm really not trying to edit war  It's just that this guy is constantly removing relevant information and talking to me through edits instead of my talk page  He seems to care more about the formatting than the actual info</td>\n",
       "      <td>hey man I be really not try to edit war it be just that this guy be constantly remove relevant information and talk to I through edit instead of my talk page he seem to care more about the formatting than the actual info</td>\n",
       "      <td>[hey, man, I, be, really, not, try, to, edit, war, it, be, just, that, this, guy, be, constantly, remove, relevant, information, and, talk, to, I, through, edit, instead, of, my, talk, page, he, seem, to, care, more, about, the, formatting, than, the, actual, info]</td>\n",
       "    </tr>\n",
       "    <tr>\n",
       "      <th>3</th>\n",
       "      <td>\"\\nMore\\nI can't make any real suggestions on improvement - I wondered if the section statistics should be later on, or a subsection of \"\"types of accidents\"\"  -I think the references may need tidying so that they are all in the exact same format ie date format etc. I can do that later on, if no-one else does first - if you have any preferences for formatting style on references or want to do it yourself please let me know.\\n\\nThere appears to be a backlog on articles for review so I guess there may be a delay until a reviewer turns up. It's listed in the relevant form eg Wikipedia:Good_article_nominations#Transport  \"</td>\n",
       "      <td>0</td>\n",
       "      <td>More I can't make any real suggestions on improvement   I wondered if the section statistics should be later on  or a subsection of   types of accidents     I think the references may need tidying so that they are all in the exact same format ie date format etc  I can do that later on  if no one else does first   if you have any preferences for formatting style on references or want to do it yourself please let me know   There appears to be a backlog on articles for review so I guess there may be a delay until a reviewer turns up  It's listed in the relevant form eg Wikipedia Good article nominations Transport</td>\n",
       "      <td>More I can not make any real suggestion on improvement I wonder if the section statistic should be later on or a subsection of type of accident I think the reference may need tidy so that they be all in the exact same format ie date format etc I can do that later on if no one else do first if you have any preference for format style on reference or want to do it yourself please let I know there appear to be a backlog on article for review so I guess there may be a delay until a reviewer turn up it be list in the relevant form eg Wikipedia good article nomination Transport</td>\n",
       "      <td>[More, I, can, not, make, any, real, suggestion, on, improvement, I, wonder, if, the, section, statistic, should, be, later, on, or, a, subsection, of, type, of, accident, I, think, the, reference, may, need, tidy, so, that, they, be, all, in, the, exact, same, format, ie, date, format, etc, I, can, do, that, later, on, if, no, one, else, do, first, if, you, have, any, preference, for, format, style, on, reference, or, want, to, do, it, yourself, please, let, I, know, there, appear, to, be, a, backlog, on, article, for, review, so, I, guess, there, may, be, a, delay, until, a, ...]</td>\n",
       "    </tr>\n",
       "    <tr>\n",
       "      <th>4</th>\n",
       "      <td>You, sir, are my hero. Any chance you remember what page that's on?</td>\n",
       "      <td>0</td>\n",
       "      <td>You  sir  are my hero  Any chance you remember what page that's on</td>\n",
       "      <td>you sir be my hero any chance you remember what page that be on</td>\n",
       "      <td>[you, sir, be, my, hero, any, chance, you, remember, what, page, that, be, on]</td>\n",
       "    </tr>\n",
       "  </tbody>\n",
       "</table>\n",
       "</div>"
      ],
      "text/plain": [
       "                                                                                                                                                                                                                                                                                                                                                                                                                                                                                                                                                                                                                                                 text  \\\n",
       "0                                                                                                                                                                                                                                                                                                                                                                           Explanation\\nWhy the edits made under my username Hardcore Metallica Fan were reverted? They weren't vandalisms, just closure on some GAs after I voted at New York Dolls FAC. And please don't remove the template from the talk page since I'm retired now.89.205.38.27   \n",
       "1                                                                                                                                                                                                                                                                                                                                                                                                                                                                                                                                    D'aww! He matches this background colour I'm seemingly stuck with. Thanks.  (talk) 21:51, January 11, 2016 (UTC)   \n",
       "2                                                                                                                                                                                                                                                                                                                                                                                                           Hey man, I'm really not trying to edit war. It's just that this guy is constantly removing relevant information and talking to me through edits instead of my talk page. He seems to care more about the formatting than the actual info.   \n",
       "3  \"\\nMore\\nI can't make any real suggestions on improvement - I wondered if the section statistics should be later on, or a subsection of \"\"types of accidents\"\"  -I think the references may need tidying so that they are all in the exact same format ie date format etc. I can do that later on, if no-one else does first - if you have any preferences for formatting style on references or want to do it yourself please let me know.\\n\\nThere appears to be a backlog on articles for review so I guess there may be a delay until a reviewer turns up. It's listed in the relevant form eg Wikipedia:Good_article_nominations#Transport  \"   \n",
       "4                                                                                                                                                                                                                                                                                                                                                                                                                                                                                                                                                                                 You, sir, are my hero. Any chance you remember what page that's on?   \n",
       "\n",
       "   toxic  \\\n",
       "0      0   \n",
       "1      0   \n",
       "2      0   \n",
       "3      0   \n",
       "4      0   \n",
       "\n",
       "                                                                                                                                                                                                                                                                                                                                                                                                                                                                                                                                                                                                                                       clear_text  \\\n",
       "0                                                                                                                                                                                                                                                                                                                                                                        Explanation Why the edits made under my username Hardcore Metallica Fan were reverted  They weren't vandalisms  just closure on some GAs after I voted at New York Dolls FAC  And please don't remove the template from the talk page since I'm retired now                \n",
       "1                                                                                                                                                                                                                                                                                                                                                                                                                                                                                                                                D'aww  He matches this background colour I'm seemingly stuck with  Thanks    talk         January           UTC    \n",
       "2                                                                                                                                                                                                                                                                                                                                                                                                       Hey man  I'm really not trying to edit war  It's just that this guy is constantly removing relevant information and talking to me through edits instead of my talk page  He seems to care more about the formatting than the actual info    \n",
       "3    More I can't make any real suggestions on improvement   I wondered if the section statistics should be later on  or a subsection of   types of accidents     I think the references may need tidying so that they are all in the exact same format ie date format etc  I can do that later on  if no one else does first   if you have any preferences for formatting style on references or want to do it yourself please let me know   There appears to be a backlog on articles for review so I guess there may be a delay until a reviewer turns up  It's listed in the relevant form eg Wikipedia Good article nominations Transport      \n",
       "4                                                                                                                                                                                                                                                                                                                                                                                                                                                                                                                                                                             You  sir  are my hero  Any chance you remember what page that's on    \n",
       "\n",
       "                                                                                                                                                                                                                                                                                                                                                                                                                                                                                                                                                                                            lemm_text  \\\n",
       "0                                                                                                                                                                                                                                                                                                                                                   Explanation why the edit make under my username Hardcore Metallica Fan be revert they be not vandalism just closure on some gas after I vote at New York Dolls FAC and please do not remove the template from the talk page since I be retire now   \n",
       "1                                                                                                                                                                                                                                                                                                                                                                                                                                                                                                              D'aww he match this background colour I be seemingly stuck with thank talk January UTC   \n",
       "2                                                                                                                                                                                                                                                                                                                                                                        hey man I be really not try to edit war it be just that this guy be constantly remove relevant information and talk to I through edit instead of my talk page he seem to care more about the formatting than the actual info   \n",
       "3  More I can not make any real suggestion on improvement I wonder if the section statistic should be later on or a subsection of type of accident I think the reference may need tidy so that they be all in the exact same format ie date format etc I can do that later on if no one else do first if you have any preference for format style on reference or want to do it yourself please let I know there appear to be a backlog on article for review so I guess there may be a delay until a reviewer turn up it be list in the relevant form eg Wikipedia good article nomination Transport   \n",
       "4                                                                                                                                                                                                                                                                                                                                                                                                                                                                                                                                     you sir be my hero any chance you remember what page that be on   \n",
       "\n",
       "                                                                                                                                                                                                                                                                                                                                                                                                                                                                                                                                                                                                 tokenized_text  \n",
       "0                                                                                                                                                                                                                                                                                                              [Explanation, why, the, edit, make, under, my, username, Hardcore, Metallica, Fan, be, revert, they, be, not, vandalism, just, closure, on, some, gas, after, I, vote, at, New, York, Dolls, FAC, and, please, do, not, remove, the, template, from, the, talk, page, since, I, be, retire, now]  \n",
       "1                                                                                                                                                                                                                                                                                                                                                                                                                                                                                                        [D'aww, he, match, this, background, colour, I, be, seemingly, stuck, with, thank, talk, January, UTC]  \n",
       "2                                                                                                                                                                                                                                                                                                                                     [hey, man, I, be, really, not, try, to, edit, war, it, be, just, that, this, guy, be, constantly, remove, relevant, information, and, talk, to, I, through, edit, instead, of, my, talk, page, he, seem, to, care, more, about, the, formatting, than, the, actual, info]  \n",
       "3  [More, I, can, not, make, any, real, suggestion, on, improvement, I, wonder, if, the, section, statistic, should, be, later, on, or, a, subsection, of, type, of, accident, I, think, the, reference, may, need, tidy, so, that, they, be, all, in, the, exact, same, format, ie, date, format, etc, I, can, do, that, later, on, if, no, one, else, do, first, if, you, have, any, preference, for, format, style, on, reference, or, want, to, do, it, yourself, please, let, I, know, there, appear, to, be, a, backlog, on, article, for, review, so, I, guess, there, may, be, a, delay, until, a, ...]  \n",
       "4                                                                                                                                                                                                                                                                                                                                                                                                                                                                                                                                [you, sir, be, my, hero, any, chance, you, remember, what, page, that, be, on]  "
      ]
     },
     "execution_count": 12,
     "metadata": {},
     "output_type": "execute_result"
    }
   ],
   "source": [
    "df.head()"
   ]
  },
  {
   "cell_type": "markdown",
   "metadata": {},
   "source": [
    "Проверим результат"
   ]
  },
  {
   "cell_type": "code",
   "execution_count": 13,
   "metadata": {},
   "outputs": [
    {
     "data": {
      "text/plain": [
       "0                                                                                                                                                                                                                                                                                                                [Explanation, why, the, edit, make, under, my, username, Hardcore, Metallica, Fan, be, revert, they, be, not, vandalism, just, closure, on, some, gas, after, I, vote, at, New, York, Dolls, FAC, and, please, do, not, remove, the, template, from, the, talk, page, since, I, be, retire, now]\n",
       "1                                                                                                                                                                                                                                                                                                                                                                                                                                                                                                          [D'aww, he, match, this, background, colour, I, be, seemingly, stuck, with, thank, talk, January, UTC]\n",
       "2                                                                                                                                                                                                                                                                                                                                       [hey, man, I, be, really, not, try, to, edit, war, it, be, just, that, this, guy, be, constantly, remove, relevant, information, and, talk, to, I, through, edit, instead, of, my, talk, page, he, seem, to, care, more, about, the, formatting, than, the, actual, info]\n",
       "3    [More, I, can, not, make, any, real, suggestion, on, improvement, I, wonder, if, the, section, statistic, should, be, later, on, or, a, subsection, of, type, of, accident, I, think, the, reference, may, need, tidy, so, that, they, be, all, in, the, exact, same, format, ie, date, format, etc, I, can, do, that, later, on, if, no, one, else, do, first, if, you, have, any, preference, for, format, style, on, reference, or, want, to, do, it, yourself, please, let, I, know, there, appear, to, be, a, backlog, on, article, for, review, so, I, guess, there, may, be, a, delay, until, a, ...]\n",
       "4                                                                                                                                                                                                                                                                                                                                                                                                                                                                                                                                  [you, sir, be, my, hero, any, chance, you, remember, what, page, that, be, on]\n",
       "Name: tokenized_text, dtype: object"
      ]
     },
     "execution_count": 13,
     "metadata": {},
     "output_type": "execute_result"
    }
   ],
   "source": [
    "df[\"tokenized_text\"].head()"
   ]
  },
  {
   "cell_type": "code",
   "execution_count": 14,
   "metadata": {},
   "outputs": [
    {
     "data": {
      "text/plain": [
       "0                                                                                                                                                                                                                                                                                                                                                     Explanation why the edit make under my username Hardcore Metallica Fan be revert they be not vandalism just closure on some gas after I vote at New York Dolls FAC and please do not remove the template from the talk page since I be retire now\n",
       "1                                                                                                                                                                                                                                                                                                                                                                                                                                                                                                                D'aww he match this background colour I be seemingly stuck with thank talk January UTC\n",
       "2                                                                                                                                                                                                                                                                                                                                                                          hey man I be really not try to edit war it be just that this guy be constantly remove relevant information and talk to I through edit instead of my talk page he seem to care more about the formatting than the actual info\n",
       "3    More I can not make any real suggestion on improvement I wonder if the section statistic should be later on or a subsection of type of accident I think the reference may need tidy so that they be all in the exact same format ie date format etc I can do that later on if no one else do first if you have any preference for format style on reference or want to do it yourself please let I know there appear to be a backlog on article for review so I guess there may be a delay until a reviewer turn up it be list in the relevant form eg Wikipedia good article nomination Transport\n",
       "4                                                                                                                                                                                                                                                                                                                                                                                                                                                                                                                                       you sir be my hero any chance you remember what page that be on\n",
       "Name: lemm_text, dtype: object"
      ]
     },
     "execution_count": 14,
     "metadata": {},
     "output_type": "execute_result"
    }
   ],
   "source": [
    "df[\"lemm_text\"].head()"
   ]
  },
  {
   "cell_type": "markdown",
   "metadata": {},
   "source": [
    "### Вывод"
   ]
  },
  {
   "cell_type": "markdown",
   "metadata": {},
   "source": [
    "В результате предобработки   \n",
    "* удален лишний столбец\n",
    "* Тексты очищены от лишних символов и стоп-слов (оставлен знак апострофа, так как обнаружено, что без него лемматизация ряда слов возвращает некорректные значения. Пример: при наличии апострофа \"don't\" лемматизируется до \"do\" \"not\", без него до \"don\" \"t\"\n",
    "* Тексты Лемматизированы и токенизированы"
   ]
  },
  {
   "cell_type": "markdown",
   "metadata": {},
   "source": [
    "## Обучение моделей"
   ]
  },
  {
   "cell_type": "code",
   "execution_count": 15,
   "metadata": {},
   "outputs": [],
   "source": [
    "# отделяем целевой признак\n",
    "target = df[\"toxic\"]"
   ]
  },
  {
   "cell_type": "code",
   "execution_count": 16,
   "metadata": {},
   "outputs": [
    {
     "data": {
      "text/plain": [
       "<AxesSubplot:title={'center':'Баланс классов целевого признака'}>"
      ]
     },
     "execution_count": 16,
     "metadata": {},
     "output_type": "execute_result"
    },
    {
     "data": {
      "image/png": "[encoded data removed]",
      "text/plain": [
       "<Figure size 216x432 with 1 Axes>"
      ]
     },
     "metadata": {
      "needs_background": "light"
     },
     "output_type": "display_data"
    }
   ],
   "source": [
    "# смотрим на баланс классов\n",
    "plt.figure(figsize=(3,6))\n",
    "plt.title(\"Баланс классов целевого признака\")\n",
    "target.value_counts().plot(kind=\"bar\", width=.8)"
   ]
  },
  {
   "cell_type": "markdown",
   "metadata": {},
   "source": [
    "Присутствует сильный дисбаланс классов"
   ]
  },
  {
   "cell_type": "code",
   "execution_count": 17,
   "metadata": {},
   "outputs": [],
   "source": [
    "# делим данные на стратифицированные выборки\n",
    "X_train, X_test, y_train, y_test = train_test_split(lemm_text, target, test_size=0.25, random_state=42, stratify=target)"
   ]
  },
  {
   "cell_type": "code",
   "execution_count": 18,
   "metadata": {},
   "outputs": [],
   "source": [
    "# создаем скорер, так как скорер F1 не был найден в пакете скореров GridSearch\n",
    "f1_scorer = make_scorer(f1_score) "
   ]
  },
  {
   "cell_type": "code",
   "execution_count": 19,
   "metadata": {},
   "outputs": [],
   "source": [
    "# создаем список для результатов\n",
    "final_list = []"
   ]
  },
  {
   "cell_type": "code",
   "execution_count": 20,
   "metadata": {},
   "outputs": [],
   "source": [
    "def choose_and_optimize(model_name, model, params, features, target, ngram_range, catboost=False):\n",
    "    \n",
    "    \"\"\"Функция принимает на вход имя модели, модель, гиперпараметры и обучающие \n",
    "    данные производит векторизацию текстов, кроссвалидацию с подбором параметров и возвращает \n",
    "    параметры моделей с наибольшим значением метрики F1\"\"\"\n",
    "#     балансируем классы и задаем воспроизводимую случайность\n",
    "    params[\"model__class_weight\"] = [\"balanced\"]\n",
    "    params[\"model__random_state\"] = [42]\n",
    "    if catboost:\n",
    "        del params[\"model__class_weight\"] #     катбуст не такой как все. его классы сбалансируем дальше\n",
    "    result_list = []\n",
    "    my_pl = Pipeline(\n",
    "        [\n",
    "            (\"vectorizer\", TfidfVectorizer(ngram_range=ngram_range)), \n",
    "            (\"model\", model)\n",
    "        ])\n",
    "    grid_search = GridSearchCV(my_pl, params, cv=3, scoring=f1_scorer, n_jobs=-1)\n",
    "    model = grid_search.fit(features, target)\n",
    "    best_params = str(model.best_params_)\n",
    "    best_score = abs(model.best_score_)\n",
    "    best_model = model.best_estimator_\n",
    "    result_list.append(model_name)\n",
    "    result_list.append(best_params)\n",
    "    result_list.append(best_score)\n",
    "    final_list.append(result_list)\n",
    "    print(result_list) \n",
    "    return best_model[1]"
   ]
  },
  {
   "cell_type": "markdown",
   "metadata": {},
   "source": [
    "<div class=\"alert alert-block alert-success\">\n",
    "<b>Успех:</b> Отлично, что для подбора параметров использовался метод основанный на кросс-валидации!\n",
    "</div>"
   ]
  },
  {
   "cell_type": "markdown",
   "metadata": {},
   "source": [
    "<div class=\"alert alert-block alert-success\">\n",
    "<b>Успех:</b> Молодец, что освоил пайплайн!\n",
    "</div>"
   ]
  },
  {
   "cell_type": "markdown",
   "metadata": {},
   "source": [
    "### Дерево Решений"
   ]
  },
  {
   "cell_type": "code",
   "execution_count": 21,
   "metadata": {},
   "outputs": [],
   "source": [
    "tree = DecisionTreeClassifier()\n",
    "tree_hyper = {\"model__max_depth\" : range(60, 63), \"model__min_samples_leaf\" : range(29, 33)}"
   ]
  },
  {
   "cell_type": "code",
   "execution_count": 22,
   "metadata": {},
   "outputs": [
    {
     "name": "stdout",
     "output_type": "stream",
     "text": [
      "['Decision Tree', \"{'model__class_weight': 'balanced', 'model__max_depth': 62, 'model__min_samples_leaf': 30, 'model__random_state': 42}\", 0.4379935769940823]\n",
      "Wall time: 25min 47s\n"
     ]
    }
   ],
   "source": [
    "%%time\n",
    "best_tree = choose_and_optimize(\"Decision Tree\", tree, tree_hyper, X_train, y_train, (1, 2))"
   ]
  },
  {
   "cell_type": "markdown",
   "metadata": {},
   "source": [
    "### Логистическая Регрессия"
   ]
  },
  {
   "cell_type": "code",
   "execution_count": 23,
   "metadata": {},
   "outputs": [],
   "source": [
    "log_reg = LogisticRegression()\n",
    "log_reg_hyper = {\"model__penalty\": ['l1', 'l2', 'elasticnet'],\n",
    "                \"model__tol\": [0.0001, 0.001, 0.00001],\n",
    "                \"model__max_iter\": [100, 200],\n",
    "                \"model__solver\": [\"liblinear\"]}"
   ]
  },
  {
   "cell_type": "code",
   "execution_count": 24,
   "metadata": {},
   "outputs": [
    {
     "name": "stdout",
     "output_type": "stream",
     "text": [
      "['Logistic Regression', \"{'model__class_weight': 'balanced', 'model__max_iter': 100, 'model__penalty': 'l1', 'model__random_state': 42, 'model__solver': 'liblinear', 'model__tol': 0.001}\", 0.7584058286392746]\n",
      "Wall time: 1min 41s\n"
     ]
    }
   ],
   "source": [
    "%%time\n",
    "best_log_reg = choose_and_optimize(\"Logistic Regression\", log_reg, log_reg_hyper, X_train, y_train, (1, 1))"
   ]
  },
  {
   "cell_type": "markdown",
   "metadata": {},
   "source": [
    "### Cat Boost"
   ]
  },
  {
   "cell_type": "code",
   "execution_count": 25,
   "metadata": {},
   "outputs": [],
   "source": [
    "cat = CatBoostClassifier(silent=True) \n",
    "cat_hyper = {\"model__auto_class_weights\" : [\"Balanced\"]}"
   ]
  },
  {
   "cell_type": "code",
   "execution_count": 26,
   "metadata": {},
   "outputs": [
    {
     "name": "stdout",
     "output_type": "stream",
     "text": [
      "['Cat Boost', \"{'model__auto_class_weights': 'Balanced', 'model__random_state': 42}\", 0.7491440906481329]\n",
      "Wall time: 45min 35s\n"
     ]
    }
   ],
   "source": [
    "%%time\n",
    "best_cat = choose_and_optimize(\"Cat Boost\", cat, cat_hyper, X_train, y_train, (1, 1), catboost=True)"
   ]
  },
  {
   "cell_type": "markdown",
   "metadata": {},
   "source": [
    "### Light GBM"
   ]
  },
  {
   "cell_type": "code",
   "execution_count": 27,
   "metadata": {},
   "outputs": [],
   "source": [
    "lgbm = lgb.LGBMClassifier(silent=True)\n",
    "lgbm_hyper = {\"model__max_depth\": range(14, 17), \n",
    "              \"model__n_estimators\": range(950, 1051, 50), \n",
    "              \"model__learning_rate\": [0.1, 0.15]}"
   ]
  },
  {
   "cell_type": "code",
   "execution_count": 28,
   "metadata": {},
   "outputs": [
    {
     "name": "stdout",
     "output_type": "stream",
     "text": [
      "['LightGBM', \"{'model__class_weight': 'balanced', 'model__learning_rate': 0.15, 'model__max_depth': 15, 'model__n_estimators': 1000, 'model__random_state': 42}\", 0.7893675858229718]\n",
      "Wall time: 57min 46s\n"
     ]
    }
   ],
   "source": [
    "%%time\n",
    "best_lgbm = choose_and_optimize(\"LightGBM\", lgbm, lgbm_hyper, X_train, y_train, (1, 1))"
   ]
  },
  {
   "cell_type": "code",
   "execution_count": 29,
   "metadata": {},
   "outputs": [
    {
     "data": {
      "text/html": [
       "<div>\n",
       "<style scoped>\n",
       "    .dataframe tbody tr th:only-of-type {\n",
       "        vertical-align: middle;\n",
       "    }\n",
       "\n",
       "    .dataframe tbody tr th {\n",
       "        vertical-align: top;\n",
       "    }\n",
       "\n",
       "    .dataframe thead th {\n",
       "        text-align: right;\n",
       "    }\n",
       "</style>\n",
       "<table border=\"1\" class=\"dataframe\">\n",
       "  <thead>\n",
       "    <tr style=\"text-align: right;\">\n",
       "      <th></th>\n",
       "      <th>model</th>\n",
       "      <th>hyperparameters</th>\n",
       "      <th>F1</th>\n",
       "    </tr>\n",
       "  </thead>\n",
       "  <tbody>\n",
       "    <tr>\n",
       "      <th>0</th>\n",
       "      <td>Decision Tree</td>\n",
       "      <td>{'model__class_weight': 'balanced', 'model__max_depth': 62, 'model__min_samples_leaf': 30, 'model__random_state': 42}</td>\n",
       "      <td>0.437994</td>\n",
       "    </tr>\n",
       "    <tr>\n",
       "      <th>1</th>\n",
       "      <td>Logistic Regression</td>\n",
       "      <td>{'model__class_weight': 'balanced', 'model__max_iter': 100, 'model__penalty': 'l1', 'model__random_state': 42, 'model__solver': 'liblinear', 'model__tol': 0.001}</td>\n",
       "      <td>0.758406</td>\n",
       "    </tr>\n",
       "    <tr>\n",
       "      <th>2</th>\n",
       "      <td>Cat Boost</td>\n",
       "      <td>{'model__auto_class_weights': 'Balanced', 'model__random_state': 42}</td>\n",
       "      <td>0.749144</td>\n",
       "    </tr>\n",
       "    <tr>\n",
       "      <th>3</th>\n",
       "      <td>LightGBM</td>\n",
       "      <td>{'model__class_weight': 'balanced', 'model__learning_rate': 0.15, 'model__max_depth': 15, 'model__n_estimators': 1000, 'model__random_state': 42}</td>\n",
       "      <td>0.789368</td>\n",
       "    </tr>\n",
       "  </tbody>\n",
       "</table>\n",
       "</div>"
      ],
      "text/plain": [
       "                 model  \\\n",
       "0        Decision Tree   \n",
       "1  Logistic Regression   \n",
       "2            Cat Boost   \n",
       "3             LightGBM   \n",
       "\n",
       "                                                                                                                                                     hyperparameters  \\\n",
       "0                                              {'model__class_weight': 'balanced', 'model__max_depth': 62, 'model__min_samples_leaf': 30, 'model__random_state': 42}   \n",
       "1  {'model__class_weight': 'balanced', 'model__max_iter': 100, 'model__penalty': 'l1', 'model__random_state': 42, 'model__solver': 'liblinear', 'model__tol': 0.001}   \n",
       "2                                                                                               {'model__auto_class_weights': 'Balanced', 'model__random_state': 42}   \n",
       "3                  {'model__class_weight': 'balanced', 'model__learning_rate': 0.15, 'model__max_depth': 15, 'model__n_estimators': 1000, 'model__random_state': 42}   \n",
       "\n",
       "         F1  \n",
       "0  0.437994  \n",
       "1  0.758406  \n",
       "2  0.749144  \n",
       "3  0.789368  "
      ]
     },
     "execution_count": 29,
     "metadata": {},
     "output_type": "execute_result"
    }
   ],
   "source": [
    "pd.DataFrame(final_list, columns=[\"model\", \"hyperparameters\", \"F1\"])"
   ]
  },
  {
   "cell_type": "markdown",
   "metadata": {},
   "source": [
    "<div class=\"alert alert-block alert-success\">\n",
    "<b>Успех:</b> Молодец, что попробовал разные модели в этом шаге!\n",
    "</div>"
   ]
  },
  {
   "cell_type": "markdown",
   "metadata": {},
   "source": [
    "### Вывод"
   ]
  },
  {
   "cell_type": "markdown",
   "metadata": {},
   "source": [
    "* Данные разбиты на выборки с учетом дисбаланса классов\n",
    "* Произведена кроссвалидация и оптимизация гиперпараметров различных моделей.\n",
    "* Лучшее значение метрики показал LightGBM\n",
    "* CatBoost обучался слишком долго в связи с чем проведена кроссвалидация только с балансировкой весов классов\n",
    "* Добавление векторов биграмм в признаки не дало сильных улучшений, но сильно увеличило время обучения. Качество Логистической Регрессии даже упало\n",
    "* Логистическая регрессия работает в разы быстрее, чем LGBM, но дает немного меньший результат. В зависимости от приоритетов можно использовать одну из этих моделей"
   ]
  },
  {
   "cell_type": "markdown",
   "metadata": {},
   "source": [
    "## Тестирование Лучших моделей "
   ]
  },
  {
   "cell_type": "code",
   "execution_count": 30,
   "metadata": {},
   "outputs": [],
   "source": [
    "best_test = []"
   ]
  },
  {
   "cell_type": "code",
   "execution_count": 31,
   "metadata": {},
   "outputs": [
    {
     "name": "stdout",
     "output_type": "stream",
     "text": [
      "Wall time: 7.74 s\n"
     ]
    }
   ],
   "source": [
    "%%time\n",
    "vectorizer = TfidfVectorizer(ngram_range=(1, 1))\n",
    "X_train_vect = vectorizer.fit_transform(X_train)\n",
    "X_test_vect = vectorizer.transform(X_test)"
   ]
  },
  {
   "cell_type": "code",
   "execution_count": 32,
   "metadata": {},
   "outputs": [
    {
     "name": "stdout",
     "output_type": "stream",
     "text": [
      "Wall time: 2min 25s\n"
     ]
    },
    {
     "data": {
      "text/plain": [
       "0.7882615156017831"
      ]
     },
     "execution_count": 32,
     "metadata": {},
     "output_type": "execute_result"
    }
   ],
   "source": [
    "%%time\n",
    "result = [\"LightGBM\"]\n",
    "start = time.time()\n",
    "best_lgbm.fit(X_train_vect, y_train)\n",
    "predictions = best_lgbm.predict(X_test_vect)\n",
    "stop = time.time()\n",
    "f1 = f1_score(y_test, predictions)\n",
    "result.append(stop - start)\n",
    "result.append(f1)\n",
    "best_test.append(result)\n",
    "f1"
   ]
  },
  {
   "cell_type": "code",
   "execution_count": 33,
   "metadata": {
    "scrolled": true
   },
   "outputs": [
    {
     "name": "stdout",
     "output_type": "stream",
     "text": [
      "Wall time: 1.64 s\n"
     ]
    },
    {
     "data": {
      "text/plain": [
       "0.7575627547736538"
      ]
     },
     "execution_count": 33,
     "metadata": {},
     "output_type": "execute_result"
    }
   ],
   "source": [
    "%%time\n",
    "result = [\"Logistic Regression\"]\n",
    "start = time.time()\n",
    "best_log_reg.fit(X_train_vect, y_train)\n",
    "predictions = best_log_reg.predict(X_test_vect)\n",
    "stop = time.time()\n",
    "f1 = f1_score(y_test, predictions)\n",
    "result.append(stop - start)\n",
    "result.append(f1)\n",
    "best_test.append(result)\n",
    "f1"
   ]
  },
  {
   "cell_type": "code",
   "execution_count": 34,
   "metadata": {},
   "outputs": [
    {
     "data": {
      "text/html": [
       "<div>\n",
       "<style scoped>\n",
       "    .dataframe tbody tr th:only-of-type {\n",
       "        vertical-align: middle;\n",
       "    }\n",
       "\n",
       "    .dataframe tbody tr th {\n",
       "        vertical-align: top;\n",
       "    }\n",
       "\n",
       "    .dataframe thead th {\n",
       "        text-align: right;\n",
       "    }\n",
       "</style>\n",
       "<table border=\"1\" class=\"dataframe\">\n",
       "  <thead>\n",
       "    <tr style=\"text-align: right;\">\n",
       "      <th></th>\n",
       "      <th>model</th>\n",
       "      <th>time</th>\n",
       "      <th>F1</th>\n",
       "    </tr>\n",
       "  </thead>\n",
       "  <tbody>\n",
       "    <tr>\n",
       "      <th>0</th>\n",
       "      <td>LightGBM</td>\n",
       "      <td>145.007257</td>\n",
       "      <td>0.788262</td>\n",
       "    </tr>\n",
       "    <tr>\n",
       "      <th>1</th>\n",
       "      <td>Logistic Regression</td>\n",
       "      <td>1.626650</td>\n",
       "      <td>0.757563</td>\n",
       "    </tr>\n",
       "  </tbody>\n",
       "</table>\n",
       "</div>"
      ],
      "text/plain": [
       "                 model        time        F1\n",
       "0             LightGBM  145.007257  0.788262\n",
       "1  Logistic Regression    1.626650  0.757563"
      ]
     },
     "execution_count": 34,
     "metadata": {},
     "output_type": "execute_result"
    }
   ],
   "source": [
    "pd.DataFrame(best_test, columns=[\"model\", \"time\", \"F1\"])"
   ]
  },
  {
   "cell_type": "code",
   "execution_count": null,
   "metadata": {},
   "outputs": [],
   "source": []
  },
  {
   "cell_type": "markdown",
   "metadata": {},
   "source": [
    "## Вывод "
   ]
  },
  {
   "cell_type": "markdown",
   "metadata": {},
   "source": [
    "Было проведено исследование:  \n",
    "* Данные загружены и проанализированы. Удален лишний столбец, целевой признак проверен на отсутствие аномалий.\n",
    "* Тексты очищены от лишних символов и стоп-слов лемматизированы и токенизированы.\n",
    "* Данные разбиты на стратифицированные выборки обучающих и тестовых данных.\n",
    "* Произведена кросс-валидация с подбором оптимальных параметров для различных моделей.\n",
    "* Достигнуто значение целевой метрики выше порогового.\n",
    "* Лучшую метрику качества показала модель LightGBM, модель Логистической Регрессии при чуть меньшем качестве предсказаний затратила значительно меньшее время на обучение и предсказания. В зависимости от приоритетов заказчика можно использовать одну из этих моделей"
   ]
  },
  {
   "cell_type": "markdown",
   "metadata": {},
   "source": [
    "<div class=\"alert alert-block alert-success\">\n",
    "<b>Успех:</b> Приятно видеть вывод в коцне проекта!\n",
    "</div>"
   ]
  },
  {
   "cell_type": "markdown",
   "metadata": {},
   "source": [
    "## Чек-лист проверки"
   ]
  },
  {
   "cell_type": "markdown",
   "metadata": {},
   "source": [
    "- [x]  Jupyter Notebook открыт\n",
    "- [ ]  Весь код выполняется без ошибок\n",
    "- [ ]  Ячейки с кодом расположены в порядке исполнения\n",
    "- [ ]  Данные загружены и подготовлены\n",
    "- [ ]  Модели обучены\n",
    "- [ ]  Значение метрики *F1* не меньше 0.75\n",
    "- [ ]  Выводы написаны"
   ]
  },
  {
   "cell_type": "code",
   "execution_count": null,
   "metadata": {},
   "outputs": [],
   "source": []
  }
 ],
 "metadata": {
  "ExecuteTimeLog": [
   {
    "duration": 4352,
    "start_time": "2022-10-13T13:02:43.880Z"
   },
   {
    "duration": 3296,
    "start_time": "2022-10-13T13:02:48.235Z"
   },
   {
    "duration": 5,
    "start_time": "2022-10-13T13:02:51.533Z"
   },
   {
    "duration": 220,
    "start_time": "2022-10-13T13:02:51.540Z"
   },
   {
    "duration": 10,
    "start_time": "2022-10-13T13:02:55.252Z"
   },
   {
    "duration": 6,
    "start_time": "2022-10-13T13:02:56.277Z"
   },
   {
    "duration": 3144,
    "start_time": "2022-10-13T13:02:57.516Z"
   },
   {
    "duration": 2952,
    "start_time": "2022-10-13T13:03:11.146Z"
   },
   {
    "duration": 254,
    "start_time": "2022-10-13T13:03:14.099Z"
   },
   {
    "duration": 278919,
    "start_time": "2022-10-13T13:03:14.355Z"
   },
   {
    "duration": 27,
    "start_time": "2022-10-13T13:07:53.308Z"
   },
   {
    "duration": 0,
    "start_time": "2022-10-13T13:07:53.337Z"
   },
   {
    "duration": 0,
    "start_time": "2022-10-13T13:07:53.338Z"
   },
   {
    "duration": 0,
    "start_time": "2022-10-13T13:07:53.339Z"
   },
   {
    "duration": 0,
    "start_time": "2022-10-13T13:07:53.340Z"
   },
   {
    "duration": 0,
    "start_time": "2022-10-13T13:07:53.341Z"
   },
   {
    "duration": 0,
    "start_time": "2022-10-13T13:07:53.342Z"
   },
   {
    "duration": 0,
    "start_time": "2022-10-13T13:07:53.343Z"
   },
   {
    "duration": 0,
    "start_time": "2022-10-13T13:07:53.344Z"
   },
   {
    "duration": 0,
    "start_time": "2022-10-13T13:07:53.344Z"
   },
   {
    "duration": 0,
    "start_time": "2022-10-13T13:07:53.345Z"
   },
   {
    "duration": 4646,
    "start_time": "2022-10-14T08:36:51.201Z"
   },
   {
    "duration": 2547,
    "start_time": "2022-10-14T08:36:55.849Z"
   },
   {
    "duration": 7,
    "start_time": "2022-10-14T08:36:58.398Z"
   },
   {
    "duration": 264,
    "start_time": "2022-10-14T08:36:58.408Z"
   },
   {
    "duration": 12,
    "start_time": "2022-10-14T08:36:58.674Z"
   },
   {
    "duration": 25,
    "start_time": "2022-10-14T08:36:58.687Z"
   },
   {
    "duration": 239,
    "start_time": "2022-10-14T08:36:58.714Z"
   },
   {
    "duration": 135,
    "start_time": "2022-10-14T08:36:58.955Z"
   },
   {
    "duration": 143,
    "start_time": "2022-10-14T08:36:59.092Z"
   },
   {
    "duration": 191685,
    "start_time": "2022-10-14T08:36:59.237Z"
   },
   {
    "duration": 17,
    "start_time": "2022-10-14T08:40:10.924Z"
   },
   {
    "duration": 38,
    "start_time": "2022-10-14T08:40:10.943Z"
   },
   {
    "duration": 21,
    "start_time": "2022-10-14T08:40:10.983Z"
   },
   {
    "duration": 16,
    "start_time": "2022-10-14T08:40:11.006Z"
   },
   {
    "duration": 5,
    "start_time": "2022-10-14T08:40:11.024Z"
   },
   {
    "duration": 159,
    "start_time": "2022-10-14T08:40:11.031Z"
   },
   {
    "duration": 13,
    "start_time": "2022-10-14T08:40:11.193Z"
   },
   {
    "duration": 4,
    "start_time": "2022-10-14T08:40:11.209Z"
   },
   {
    "duration": 19,
    "start_time": "2022-10-14T08:40:11.215Z"
   },
   {
    "duration": 13,
    "start_time": "2022-10-14T08:40:11.236Z"
   },
   {
    "duration": 33,
    "start_time": "2022-10-14T08:40:11.256Z"
   },
   {
    "duration": 87207,
    "start_time": "2022-10-14T08:40:11.291Z"
   },
   {
    "duration": 3,
    "start_time": "2022-10-14T08:41:38.500Z"
   },
   {
    "duration": 58391,
    "start_time": "2022-10-14T08:41:38.505Z"
   },
   {
    "duration": 3,
    "start_time": "2022-10-14T08:42:36.898Z"
   },
   {
    "duration": 1016505,
    "start_time": "2022-10-14T08:42:36.904Z"
   },
   {
    "duration": 3,
    "start_time": "2022-10-14T08:59:33.412Z"
   },
   {
    "duration": 2709489,
    "start_time": "2022-10-14T08:59:33.419Z"
   },
   {
    "duration": 10,
    "start_time": "2022-10-14T09:44:42.911Z"
   },
   {
    "duration": 23,
    "start_time": "2022-10-14T09:44:42.923Z"
   },
   {
    "duration": 510,
    "start_time": "2022-10-14T09:44:42.948Z"
   },
   {
    "duration": 85,
    "start_time": "2022-10-14T09:44:43.460Z"
   },
   {
    "duration": 80,
    "start_time": "2022-10-14T09:44:43.547Z"
   },
   {
    "duration": 9,
    "start_time": "2022-10-14T09:44:43.634Z"
   },
   {
    "duration": 4,
    "start_time": "2022-10-14T09:45:08.626Z"
   },
   {
    "duration": 6,
    "start_time": "2022-10-14T09:53:55.940Z"
   },
   {
    "duration": 28425,
    "start_time": "2022-10-14T09:53:55.948Z"
   },
   {
    "duration": 4,
    "start_time": "2022-10-14T09:54:26.883Z"
   },
   {
    "duration": 382888,
    "start_time": "2022-10-14T09:54:27.331Z"
   }
  ],
  "kernelspec": {
   "display_name": "Python 3 (ipykernel)",
   "language": "python",
   "name": "python3"
  },
  "language_info": {
   "codemirror_mode": {
    "name": "ipython",
    "version": 3
   },
   "file_extension": ".py",
   "mimetype": "text/x-python",
   "name": "python",
   "nbconvert_exporter": "python",
   "pygments_lexer": "ipython3",
   "version": "3.9.7"
  },
  "toc": {
   "base_numbering": 1,
   "nav_menu": {},
   "number_sections": true,
   "sideBar": true,
   "skip_h1_title": true,
   "title_cell": "Содержание",
   "title_sidebar": "Contents",
   "toc_cell": true,
   "toc_position": {
    "height": "calc(100% - 180px)",
    "left": "10px",
    "top": "150px",
    "width": "302.391px"
   },
   "toc_section_display": true,
   "toc_window_display": false
  }
 },
 "nbformat": 4,
 "nbformat_minor": 2
}
