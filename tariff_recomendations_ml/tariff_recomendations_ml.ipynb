{
 "cells": [
  {
   "cell_type": "markdown",
   "metadata": {},
   "source": [
    "<div style=\"border:solid purple 2px; padding: 20px\"> \n",
    "\n",
    "Привет Паша! 👋\n",
    "\n",
    "Меня зовут Рустам Муртазин, и я буду делать ревью твоей работы. Давай будем общаться на **«ты»**. Если это неприемлемо, обязательно напиши мне в комментариях — мы перейдем на **«вы»**.\n",
    "\n",
    "Я не хочу указавать тебе на совершенные тобою ошибки, а хочу поделиться своим опытом и помочь тебе стать настоящим профессионалом и сделать проект еще лучше.\n",
    "\n",
    "Обрати внимание в первую очередь на те, что помечаны <span style=\"color:red\">красным цветом</span>. После их доработки проект будет принят. <span style=\"color:green\">Зеленым цветом</span> отмечены удачные и элегантные решения, на которые можно опираться в будущих проектах. <span style=\"color:orange\">Оранжевым цветом</span> выделено то, что в следующий раз можно сделать по-другому. Ты можешь учесть эти комментарии при выполнении будущих заданий или доработать проект сейчас (однако это не обязательно). Также в проекте могут быть небольшие «лайфхаки» по Python, не относящиеся к проекту, их я выделил фиолетовым цветом)\n",
    "\n",
    "Давай работать над проектом в диалоге: если ты **что-то меняешь** в проекте по моим рекомендациям — **пиши об этом**. Выбери для своих комментариев какой-то заметный цвет, так мне будет легче отследить изменения. Пожалуйста, **не перемещай, не изменяй и не удаляй мои комментарии**. Всё это поможет выполнить повторную проверку твоего проекта оперативнее».\n",
    "\n",
    "--- \n",
    "\n",
    "В целом мне все понравилось: твоя работа выполнена на хорошем уровне с минимальными помарками. Также работа выглядит аккуратной и хорошо оформленной. Вижу, что тебе дается python, и инструментарий ML.\n",
    "\n",
    "В твоей работе нет серьезных ошибок, поэтому проект может быть принят. Возвращаю его тебе чтобы дать возможность ознакомиться с моими комментариями, возможно ты решишь улучшить проект или у тебя появятся вопросы.\n",
    "\n",
    "Жду твою работу на повторное ревью :)"
   ]
  },
  {
   "cell_type": "markdown",
   "metadata": {},
   "source": [
    "# Рекомендация тарифов"
   ]
  },
  {
   "cell_type": "markdown",
   "metadata": {},
   "source": [
    "Цель исследования:  \n",
    "Построить систему, способную проанализировать поведение клиентов пользующихся архивными тарифами, чтобы предложить пользователям новый тариф: «Смарт» или «Ультра».  \n",
    "В нашем распоряжении данные о поведении клиентов, которые уже перешли на эти тарифы"
   ]
  },
  {
   "cell_type": "markdown",
   "metadata": {},
   "source": [
    "## Откройте и изучите файл"
   ]
  },
  {
   "cell_type": "code",
   "execution_count": 1,
   "metadata": {},
   "outputs": [],
   "source": [
    "import pandas as pd \n",
    "from sklearn.tree import DecisionTreeClassifier \n",
    "from sklearn.metrics import accuracy_score\n",
    "from sklearn.model_selection import train_test_split\n",
    "from sklearn.ensemble import RandomForestClassifier\n",
    "from sklearn.linear_model import LogisticRegression\n",
    "from sklearn.dummy import DummyClassifier"
   ]
  },
  {
   "cell_type": "code",
   "execution_count": 2,
   "metadata": {
    "scrolled": false
   },
   "outputs": [
    {
     "data": {
      "text/html": [
       "<div>\n",
       "<style scoped>\n",
       "    .dataframe tbody tr th:only-of-type {\n",
       "        vertical-align: middle;\n",
       "    }\n",
       "\n",
       "    .dataframe tbody tr th {\n",
       "        vertical-align: top;\n",
       "    }\n",
       "\n",
       "    .dataframe thead th {\n",
       "        text-align: right;\n",
       "    }\n",
       "</style>\n",
       "<table border=\"1\" class=\"dataframe\">\n",
       "  <thead>\n",
       "    <tr style=\"text-align: right;\">\n",
       "      <th></th>\n",
       "      <th>calls</th>\n",
       "      <th>minutes</th>\n",
       "      <th>messages</th>\n",
       "      <th>mb_used</th>\n",
       "      <th>is_ultra</th>\n",
       "    </tr>\n",
       "  </thead>\n",
       "  <tbody>\n",
       "    <tr>\n",
       "      <th>0</th>\n",
       "      <td>40.0</td>\n",
       "      <td>311.90</td>\n",
       "      <td>83.0</td>\n",
       "      <td>19915.42</td>\n",
       "      <td>0</td>\n",
       "    </tr>\n",
       "    <tr>\n",
       "      <th>1</th>\n",
       "      <td>85.0</td>\n",
       "      <td>516.75</td>\n",
       "      <td>56.0</td>\n",
       "      <td>22696.96</td>\n",
       "      <td>0</td>\n",
       "    </tr>\n",
       "    <tr>\n",
       "      <th>2</th>\n",
       "      <td>77.0</td>\n",
       "      <td>467.66</td>\n",
       "      <td>86.0</td>\n",
       "      <td>21060.45</td>\n",
       "      <td>0</td>\n",
       "    </tr>\n",
       "    <tr>\n",
       "      <th>3</th>\n",
       "      <td>106.0</td>\n",
       "      <td>745.53</td>\n",
       "      <td>81.0</td>\n",
       "      <td>8437.39</td>\n",
       "      <td>1</td>\n",
       "    </tr>\n",
       "    <tr>\n",
       "      <th>4</th>\n",
       "      <td>66.0</td>\n",
       "      <td>418.74</td>\n",
       "      <td>1.0</td>\n",
       "      <td>14502.75</td>\n",
       "      <td>0</td>\n",
       "    </tr>\n",
       "  </tbody>\n",
       "</table>\n",
       "</div>"
      ],
      "text/plain": [
       "   calls  minutes  messages   mb_used  is_ultra\n",
       "0   40.0   311.90      83.0  19915.42         0\n",
       "1   85.0   516.75      56.0  22696.96         0\n",
       "2   77.0   467.66      86.0  21060.45         0\n",
       "3  106.0   745.53      81.0   8437.39         1\n",
       "4   66.0   418.74       1.0  14502.75         0"
      ]
     },
     "execution_count": 2,
     "metadata": {},
     "output_type": "execute_result"
    }
   ],
   "source": [
    "try:\n",
    "    df = pd.read_csv(\"C:\\\\Users\\\\Pasha\\\\Downloads\\\\users_behavior.csv\")\n",
    "except:\n",
    "    df = pd.read_csv(\"/datasets/users_behavior.csv\")\n",
    "df.head()"
   ]
  },
  {
   "cell_type": "markdown",
   "metadata": {},
   "source": [
    "<div class=\"alert alert-success\">\n",
    "<h2> Комментарий ревьюера ✔️ <a class=\"tocSkip\"> </h2>\n",
    "\n",
    "Здорово, что ты используешь конструкцию `try-except`, это повышает отказоустойчивость кода\n",
    "\n",
    "</div>"
   ]
  },
  {
   "cell_type": "markdown",
   "metadata": {},
   "source": [
    "<div class=\"alert alert-warning\">\n",
    "<h2> Комментарий ревьюера ⚠️ <a class=\"tocSkip\"> </h2>\n",
    "\n",
    "Хоть с данными и все ок, пайплайн первичной обработки можно усилить добавив [describe](https://pandas.pydata.org/pandas-docs/stable/reference/api/pandas.DataFrame.describe.html) и проверку на дубликаты. Вообще, хорошо бы иметь у себя в арсенале функцию, которая выдавала бы всю информацию о датафрейме, знакомила бы нас с ним. В нее можно включить все основные методы типа `head`, `info` и т.д.  Можно графики строить какие-нибудь... Из готового, я бы рекомендовал почить про [pandas_profiling](https://habr.com/ru/company/ruvds/blog/451478/?)"
   ]
  },
  {
   "cell_type": "markdown",
   "metadata": {},
   "source": [
    "## Разбейте данные на выборки"
   ]
  },
  {
   "cell_type": "code",
   "execution_count": 3,
   "metadata": {
    "scrolled": true
   },
   "outputs": [
    {
     "data": {
      "text/plain": [
       "(1928, 4)"
      ]
     },
     "metadata": {},
     "output_type": "display_data"
    },
    {
     "data": {
      "text/plain": [
       "(1928,)"
      ]
     },
     "metadata": {},
     "output_type": "display_data"
    },
    {
     "data": {
      "text/plain": [
       "(643, 4)"
      ]
     },
     "metadata": {},
     "output_type": "display_data"
    },
    {
     "data": {
      "text/plain": [
       "(643,)"
      ]
     },
     "metadata": {},
     "output_type": "display_data"
    },
    {
     "data": {
      "text/plain": [
       "(643, 4)"
      ]
     },
     "metadata": {},
     "output_type": "display_data"
    },
    {
     "data": {
      "text/plain": [
       "(643,)"
      ]
     },
     "metadata": {},
     "output_type": "display_data"
    }
   ],
   "source": [
    "# отделяем целевой параметр от остальных\n",
    "df_features = df.drop(\"is_ultra\", axis=1)\n",
    "df_target = df[\"is_ultra\"]\n",
    "# отделяем 60% для обучающего набора\n",
    "X_train, X_test, y_train, y_test = train_test_split(df_features, df_target, test_size=0.4, random_state=12345)\n",
    "# делим оставшееся 40% на валидационную и тестовую выборки\n",
    "X_test, X_valid, y_test, y_valid = train_test_split(X_test, y_test, test_size=0.5, random_state=12345)\n",
    "display(X_train.shape, y_train.shape)\n",
    "display(X_test.shape, y_test.shape)\n",
    "display(X_valid.shape, y_valid.shape)\n"
   ]
  },
  {
   "cell_type": "markdown",
   "metadata": {},
   "source": [
    "<div class=\"alert alert-success\">\n",
    "<h2> Комментарий ревьюера ✔️ <a class=\"tocSkip\"> </h2>\n",
    "\n",
    "Круто, что ты фиксируешь `random_state`. Кстати, его можно задать один раз в начале проекта, например, используя любимый нами [numpy](https://pyprog.pro/random_sampling_functions/seed.html?)"
   ]
  },
  {
   "cell_type": "markdown",
   "metadata": {},
   "source": [
    "<div class=\"alert alert-success\">\n",
    "<h2> Комментарий ревьюера ✔️ <a class=\"tocSkip\"> </h2>\n",
    "\n",
    "На будущее, обрати внимание на аргумент `stratify` функции `train_test_split`. Стратификация особенно важна, когда у нас мало данных и возможен дисбаланс классов в обучении / валидации / тесте."
   ]
  },
  {
   "cell_type": "markdown",
   "metadata": {},
   "source": [
    "разбиение прошло корректно"
   ]
  },
  {
   "cell_type": "markdown",
   "metadata": {},
   "source": [
    "<div class=\"alert alert-success\">\n",
    "<h2> Комментарий ревьюера ✔️ <a class=\"tocSkip\"> </h2>\n",
    "\n",
    "Все верно, никогда не будет лишним проверить корректность разбиения на выборки"
   ]
  },
  {
   "cell_type": "markdown",
   "metadata": {},
   "source": [
    "## Исследуйте модели"
   ]
  },
  {
   "cell_type": "markdown",
   "metadata": {},
   "source": [
    "Мы имеем дело с задачей бинарной классификации. Найдем наиболее подходящую модель"
   ]
  },
  {
   "cell_type": "code",
   "execution_count": 4,
   "metadata": {},
   "outputs": [
    {
     "data": {
      "text/plain": [
       "[0.7356143079315708,\n",
       " 0.7744945567651633,\n",
       " 0.7791601866251944,\n",
       " 0.7744945567651633,\n",
       " 0.7838258164852255,\n",
       " 0.776049766718507,\n",
       " 0.7993779160186625,\n",
       " 0.7931570762052877,\n",
       " 0.7807153965785381,\n",
       " 0.7884914463452566]"
      ]
     },
     "metadata": {},
     "output_type": "display_data"
    },
    {
     "name": "stdout",
     "output_type": "stream",
     "text": [
      "лучший результат: 0.7993779160186625 получен при глубине дерева 7\n"
     ]
    }
   ],
   "source": [
    "# Дерево решений\n",
    "accuracy_list = []\n",
    "best_tree_accuracy = 0\n",
    "best_tree_model = None\n",
    "best_tree_depth = 0\n",
    "for i in range(1, 11):\n",
    "    model = DecisionTreeClassifier(random_state=12345, max_depth=i)\n",
    "    model.fit(X_train, y_train)\n",
    "    predictions = model.predict(X_valid)\n",
    "    accuracy = accuracy_score(y_valid, predictions)\n",
    "    accuracy_list.append(accuracy)\n",
    "    if accuracy > best_tree_accuracy:\n",
    "        best_tree_accuracy = accuracy\n",
    "        best_tree_model = model\n",
    "        best_tree_depth = i\n",
    "        \n",
    "display(accuracy_list)\n",
    "print(f\"лучший результат: {best_tree_accuracy} получен при глубине дерева {best_tree_depth}\")"
   ]
  },
  {
   "cell_type": "markdown",
   "metadata": {},
   "source": [
    "<div class=\"alert alert-success\">\n",
    "<h2> Комментарий ревьюера ✔️ <a class=\"tocSkip\"> </h2>\n",
    "\n",
    "Можно посмотреть на логику решения нашего дерева. Вот как это сделать\n",
    "    \n",
    "![](https://i.ibb.co/cDxjDWk/image.png)"
   ]
  },
  {
   "cell_type": "code",
   "execution_count": 5,
   "metadata": {},
   "outputs": [],
   "source": [
    "# закомментированы параметры дерева решений \n",
    "# model.fit(X_train, y_train).get_params()"
   ]
  },
  {
   "cell_type": "code",
   "execution_count": 6,
   "metadata": {},
   "outputs": [
    {
     "name": "stdout",
     "output_type": "stream",
     "text": [
      "лучший результат: 0.8149300155520995 получен при количестве деревьев:14 и глубине дерева 9\n"
     ]
    }
   ],
   "source": [
    "# случайный лес с различными параметрами количества и глубины деревьев\n",
    "best_forest_accuracy = 0\n",
    "best_forest_model = None\n",
    "best_estimators = 0\n",
    "best_forest_depth = 0\n",
    "for est in range(1, 20):\n",
    "    for i in range(1, 11):\n",
    "        model = RandomForestClassifier(random_state=12345, max_depth=i, n_estimators=est)\n",
    "        model.fit(X_train, y_train)\n",
    "        predictions = model.predict(X_valid)\n",
    "        accuracy = accuracy_score(y_valid, predictions)\n",
    "        if accuracy > best_forest_accuracy:\n",
    "            best_forest_accuracy = accuracy\n",
    "            best_forest_model = model\n",
    "            best_forest_depth = i\n",
    "            best_estimators = est\n",
    "        \n",
    "\n",
    "best_forest_accuracy, best_forest_depth, best_estimators\n",
    "print(f\"лучший результат: {best_forest_accuracy} получен при количестве деревьев:\\\n",
    "{best_estimators} и глубине дерева {best_forest_depth}\")"
   ]
  },
  {
   "cell_type": "markdown",
   "metadata": {},
   "source": [
    "предварительно лес был протестирован со значениями n_estimators от 10 до 100 и шагом 10, наилучший результат был при pyfxtybb 10, в результате чего было принято решение протестировать диапазон от 1 до 19 с шагом 1."
   ]
  },
  {
   "cell_type": "markdown",
   "metadata": {},
   "source": [
    "<div class=\"alert alert-success\">\n",
    "<h2> Комментарий ревьюера ✔️ <a class=\"tocSkip\"> </h2>\n",
    "\n",
    "Подобрать несколько параметров - очень правильное решение. Обычно, на практике, используют не циклы, а, например `GridSearch` или `RandomSearch`. Про них почитать можно, например, вот [тут](https://medium.com/@jackstalfort/hyperparameter-tuning-using-grid-search-and-random-search-f8750a464b35). Из более продвинутых вариантов можно выделить библиотеку [hyperopt](https://hyperopt.github.io/hyperopt/) или библиотеку [optuna](https://optuna.org/#code_examples)"
   ]
  },
  {
   "cell_type": "code",
   "execution_count": 7,
   "metadata": {},
   "outputs": [],
   "source": [
    "# закомментированы параметры случайного леса\n",
    "# model.fit(X_train, y_train).get_params()"
   ]
  },
  {
   "cell_type": "markdown",
   "metadata": {},
   "source": [
    "<div style=\"border:solid purple 5px; padding: 20px\"> \n",
    "<h2 align=\"center\"> Рубрика «Питонячий лайфхакер» <a class=\"tocSkip\"> </h2>\n",
    "\n",
    "<h3> Широкоформатный Jupyter <a class=\"tocSkip\"> </h3>\n",
    "\n",
    "Расширяем границы, или как сделать работу более комфортной (не всем нравится 😄)\n",
    "\n",
    "    from IPython.core.display import display, HTML\n",
    "    display(HTML(\"<style>.container { width:90% !important; }</style>\"))"
   ]
  },
  {
   "cell_type": "code",
   "execution_count": 8,
   "metadata": {},
   "outputs": [
    {
     "data": {
      "text/plain": [
       "0.6842923794712286"
      ]
     },
     "execution_count": 8,
     "metadata": {},
     "output_type": "execute_result"
    }
   ],
   "source": [
    "# логистическая регрессия\n",
    "model = LogisticRegression(random_state=12345)\n",
    "model.fit(X_train, y_train)\n",
    "predictions = model.predict(X_valid)\n",
    "accuracy = accuracy_score(y_valid, predictions)\n",
    "accuracy"
   ]
  },
  {
   "cell_type": "markdown",
   "metadata": {},
   "source": [
    "<div class=\"alert alert-success\">\n",
    "<h2> Комментарий ревьюера ✔️ <a class=\"tocSkip\"> </h2>\n",
    "\n",
    "Здесь тоже можно было использовать цикл, например, по параметру `solver` или по `penalty`"
   ]
  },
  {
   "cell_type": "markdown",
   "metadata": {},
   "source": [
    "логистическая регрессия дала самый низкий результат"
   ]
  },
  {
   "cell_type": "code",
   "execution_count": 9,
   "metadata": {},
   "outputs": [],
   "source": [
    "# закомментированы параметры логистической регрессии\n",
    "# model.fit(X_train, y_train).get_params()"
   ]
  },
  {
   "cell_type": "markdown",
   "metadata": {},
   "source": [
    "### вывод"
   ]
  },
  {
   "cell_type": "markdown",
   "metadata": {},
   "source": [
    "Лучший результат был получен на модели случайного леса"
   ]
  },
  {
   "cell_type": "markdown",
   "metadata": {},
   "source": [
    "<div class=\"alert alert-success\">\n",
    "<h2> Комментарий ревьюера ✔️ <a class=\"tocSkip\"> </h2>\n",
    "\n",
    "По модельной части замечаний нет 👌 Все сделано четко!)\n"
   ]
  },
  {
   "cell_type": "markdown",
   "metadata": {},
   "source": [
    "## Проверьте модель на тестовой выборке"
   ]
  },
  {
   "cell_type": "code",
   "execution_count": 10,
   "metadata": {},
   "outputs": [
    {
     "name": "stdout",
     "output_type": "stream",
     "text": [
      "результат на валидационной выборке 0.8149300155520995\n",
      "результат на тестовой выборке 0.7900466562986003\n"
     ]
    }
   ],
   "source": [
    "test_predictions = best_forest_model.predict(X_test)\n",
    "test_accuracy = accuracy_score(y_test, test_predictions)\n",
    "print(f\"результат на валидационной выборке {best_forest_accuracy}\")\n",
    "print(f\"результат на тестовой выборке {test_accuracy}\")"
   ]
  },
  {
   "cell_type": "markdown",
   "metadata": {},
   "source": [
    "## Вывод"
   ]
  },
  {
   "cell_type": "markdown",
   "metadata": {},
   "source": [
    "Наилучший результат дала модель случайного леса с небольшим количеством деревьев, а значит она не слишком проигрывает в скорости остальным.\n",
    "На тестовой выборке результат ниже, чем на валидационной, но не значительно, значит модел не переобучена. "
   ]
  },
  {
   "cell_type": "markdown",
   "metadata": {},
   "source": [
    "<div class=\"alert alert-success\">\n",
    "<h2> Комментарий ревьюера ✔️ <a class=\"tocSkip\"> </h2>\n",
    "\n",
    "Когда гиперпараметры подобраны и валидационная выборка нам уже не нужна, мы можем обучить модель на бОльшей выборке (обучающая + валидационная), это позволит улучшить результаты на тестовой выборке"
   ]
  },
  {
   "cell_type": "markdown",
   "metadata": {},
   "source": [
    "## (бонус) Проверьте модели на адекватность"
   ]
  },
  {
   "cell_type": "code",
   "execution_count": 11,
   "metadata": {},
   "outputs": [
    {
     "data": {
      "text/plain": [
       "0.7107309486780715"
      ]
     },
     "execution_count": 11,
     "metadata": {},
     "output_type": "execute_result"
    }
   ],
   "source": [
    "dummy_model = DummyClassifier(strategy=\"uniform\")\n",
    "dummy_model.fit(X_train, y_train)\n",
    "dummy_predictions = model.predict(X_test)\n",
    "dummy_accuracy = accuracy_score(y_test, dummy_predictions)\n",
    "dummy_accuracy\n"
   ]
  },
  {
   "cell_type": "markdown",
   "metadata": {},
   "source": [
    "Думаю, этажом выше я сделал какую-то дичь! Спасибо за внимание! Очень надеюсь понять, что я тут сделал в следующих спринтах)"
   ]
  },
  {
   "cell_type": "markdown",
   "metadata": {},
   "source": [
    "<div class=\"alert alert-success\">\n",
    "<h2> Комментарий ревьюера ✔️ <a class=\"tocSkip\"> </h2>\n",
    "\n",
    "Отдельный плюс за выполнение бонусной части проекта! А что тебе здесь не понравилось, вроде все ок) Единственное, я бы поставил `strategy=\"most_frequent\"`"
   ]
  },
  {
   "cell_type": "markdown",
   "metadata": {},
   "source": [
    "<div class=\"alert alert-warning\">\n",
    "<h2> Комментарий ревьюера ⚠️ <a class=\"tocSkip\"> </h2>\n",
    "\n",
    "Хоть проект и небольшой, общий вывод я бы написал"
   ]
  },
  {
   "cell_type": "markdown",
   "metadata": {},
   "source": [
    "## Чек-лист готовности проекта"
   ]
  },
  {
   "cell_type": "markdown",
   "metadata": {},
   "source": [
    "Поставьте 'x' в выполненных пунктах. Далее нажмите Shift+Enter."
   ]
  },
  {
   "cell_type": "markdown",
   "metadata": {},
   "source": [
    "- [x] Jupyter Notebook открыт\n",
    "- [ ] Весь код исполняется без ошибок\n",
    "- [ ] Ячейки с кодом расположены в порядке исполнения\n",
    "- [ ] Выполнено задание 1: данные загружены и изучены\n",
    "- [ ] Выполнено задание 2: данные разбиты на три выборки\n",
    "- [ ] Выполнено задание 3: проведено исследование моделей\n",
    "    - [ ] Рассмотрено больше одной модели\n",
    "    - [ ] Рассмотрено хотя бы 3 значения гипепараметров для какой-нибудь модели\n",
    "    - [ ] Написаны выводы по результатам исследования\n",
    "- [ ] Выполнено задание 3: Проведено тестирование\n",
    "- [ ] Удалось достичь accuracy не меньше 0.75\n"
   ]
  },
  {
   "cell_type": "code",
   "execution_count": null,
   "metadata": {},
   "outputs": [],
   "source": []
  }
 ],
 "metadata": {
  "ExecuteTimeLog": [
   {
    "duration": 915,
    "start_time": "2022-06-06T11:46:23.798Z"
   },
   {
    "duration": 122,
    "start_time": "2022-06-06T11:46:31.023Z"
   },
   {
    "duration": 44,
    "start_time": "2022-06-06T11:46:40.760Z"
   },
   {
    "duration": 13,
    "start_time": "2022-06-06T11:50:58.911Z"
   },
   {
    "duration": 121,
    "start_time": "2022-06-06T12:39:41.676Z"
   },
   {
    "duration": 13,
    "start_time": "2022-06-06T12:40:06.983Z"
   },
   {
    "duration": 17,
    "start_time": "2022-06-06T12:41:04.062Z"
   },
   {
    "duration": 875,
    "start_time": "2022-06-07T14:20:29.991Z"
   },
   {
    "duration": 80,
    "start_time": "2022-06-07T14:20:30.867Z"
   },
   {
    "duration": 13,
    "start_time": "2022-06-07T14:20:30.948Z"
   },
   {
    "duration": 64,
    "start_time": "2022-06-07T14:20:30.963Z"
   },
   {
    "duration": 2,
    "start_time": "2022-06-07T14:20:31.028Z"
   },
   {
    "duration": 21,
    "start_time": "2022-06-07T14:20:31.031Z"
   },
   {
    "duration": 4572,
    "start_time": "2022-06-07T14:20:31.053Z"
   },
   {
    "duration": 2,
    "start_time": "2022-06-07T14:20:35.627Z"
   },
   {
    "duration": 26,
    "start_time": "2022-06-07T14:20:35.630Z"
   },
   {
    "duration": 4,
    "start_time": "2022-06-07T14:20:35.657Z"
   },
   {
    "duration": 28,
    "start_time": "2022-06-07T14:20:35.662Z"
   },
   {
    "duration": 3,
    "start_time": "2022-06-07T14:24:13.861Z"
   },
   {
    "duration": 52,
    "start_time": "2022-06-07T14:24:13.870Z"
   },
   {
    "duration": 12,
    "start_time": "2022-06-07T14:24:13.924Z"
   },
   {
    "duration": 75,
    "start_time": "2022-06-07T14:24:13.937Z"
   },
   {
    "duration": 11,
    "start_time": "2022-06-07T14:24:14.015Z"
   },
   {
    "duration": 5047,
    "start_time": "2022-06-07T14:24:14.028Z"
   },
   {
    "duration": 78,
    "start_time": "2022-06-07T14:24:19.077Z"
   },
   {
    "duration": 50,
    "start_time": "2022-06-07T14:24:19.157Z"
   },
   {
    "duration": 24,
    "start_time": "2022-06-07T14:24:19.213Z"
   },
   {
    "duration": 9,
    "start_time": "2022-06-07T14:24:19.239Z"
   },
   {
    "duration": 113,
    "start_time": "2022-06-07T14:44:36.061Z"
   },
   {
    "duration": 3,
    "start_time": "2022-06-07T14:44:42.086Z"
   },
   {
    "duration": 89,
    "start_time": "2022-06-07T14:44:42.091Z"
   },
   {
    "duration": 12,
    "start_time": "2022-06-07T14:44:42.181Z"
   },
   {
    "duration": 67,
    "start_time": "2022-06-07T14:44:42.199Z"
   },
   {
    "duration": 11,
    "start_time": "2022-06-07T14:44:42.267Z"
   },
   {
    "duration": 5177,
    "start_time": "2022-06-07T14:44:42.279Z"
   },
   {
    "duration": 71,
    "start_time": "2022-06-07T14:44:47.458Z"
   },
   {
    "duration": 32,
    "start_time": "2022-06-07T14:44:47.531Z"
   },
   {
    "duration": 46,
    "start_time": "2022-06-07T14:44:47.565Z"
   },
   {
    "duration": 11,
    "start_time": "2022-06-07T14:44:47.620Z"
   },
   {
    "duration": 22,
    "start_time": "2022-06-07T14:44:47.632Z"
   },
   {
    "duration": 4,
    "start_time": "2022-06-07T14:45:49.658Z"
   },
   {
    "duration": 62,
    "start_time": "2022-06-07T14:45:49.663Z"
   },
   {
    "duration": 15,
    "start_time": "2022-06-07T14:45:49.726Z"
   },
   {
    "duration": 74,
    "start_time": "2022-06-07T14:45:49.743Z"
   },
   {
    "duration": 13,
    "start_time": "2022-06-07T14:45:49.819Z"
   },
   {
    "duration": 5356,
    "start_time": "2022-06-07T14:45:49.833Z"
   },
   {
    "duration": 73,
    "start_time": "2022-06-07T14:45:55.191Z"
   },
   {
    "duration": 51,
    "start_time": "2022-06-07T14:45:55.266Z"
   },
   {
    "duration": 24,
    "start_time": "2022-06-07T14:45:55.318Z"
   },
   {
    "duration": 9,
    "start_time": "2022-06-07T14:45:55.343Z"
   },
   {
    "duration": 8,
    "start_time": "2022-06-07T14:45:55.353Z"
   },
   {
    "duration": 3,
    "start_time": "2022-06-07T14:46:06.465Z"
   },
   {
    "duration": 61,
    "start_time": "2022-06-07T14:46:06.474Z"
   },
   {
    "duration": 17,
    "start_time": "2022-06-07T14:46:06.538Z"
   },
   {
    "duration": 70,
    "start_time": "2022-06-07T14:46:06.556Z"
   },
   {
    "duration": 11,
    "start_time": "2022-06-07T14:46:06.627Z"
   },
   {
    "duration": 5219,
    "start_time": "2022-06-07T14:46:06.640Z"
   },
   {
    "duration": 73,
    "start_time": "2022-06-07T14:46:11.860Z"
   },
   {
    "duration": 33,
    "start_time": "2022-06-07T14:46:11.934Z"
   },
   {
    "duration": 56,
    "start_time": "2022-06-07T14:46:11.969Z"
   },
   {
    "duration": 13,
    "start_time": "2022-06-07T14:46:12.026Z"
   },
   {
    "duration": 10,
    "start_time": "2022-06-07T14:46:12.041Z"
   },
   {
    "duration": 998,
    "start_time": "2022-06-07T14:46:24.529Z"
   },
   {
    "duration": 53,
    "start_time": "2022-06-07T14:46:25.529Z"
   },
   {
    "duration": 31,
    "start_time": "2022-06-07T14:46:25.584Z"
   },
   {
    "duration": 109,
    "start_time": "2022-06-07T14:46:25.617Z"
   },
   {
    "duration": 17,
    "start_time": "2022-06-07T14:46:25.728Z"
   },
   {
    "duration": 5826,
    "start_time": "2022-06-07T14:46:25.747Z"
   },
   {
    "duration": 71,
    "start_time": "2022-06-07T14:46:31.574Z"
   },
   {
    "duration": 24,
    "start_time": "2022-06-07T14:46:31.647Z"
   },
   {
    "duration": 45,
    "start_time": "2022-06-07T14:46:31.673Z"
   },
   {
    "duration": 10,
    "start_time": "2022-06-07T14:46:31.721Z"
   },
   {
    "duration": 10,
    "start_time": "2022-06-07T14:46:31.732Z"
   },
   {
    "duration": 4,
    "start_time": "2022-06-07T14:48:03.893Z"
   },
   {
    "duration": 60,
    "start_time": "2022-06-07T14:48:03.899Z"
   },
   {
    "duration": 15,
    "start_time": "2022-06-07T14:48:03.961Z"
   },
   {
    "duration": 81,
    "start_time": "2022-06-07T14:48:03.978Z"
   },
   {
    "duration": 16,
    "start_time": "2022-06-07T14:48:04.061Z"
   },
   {
    "duration": 5657,
    "start_time": "2022-06-07T14:48:04.080Z"
   },
   {
    "duration": 72,
    "start_time": "2022-06-07T14:48:09.739Z"
   },
   {
    "duration": 28,
    "start_time": "2022-06-07T14:48:09.813Z"
   },
   {
    "duration": 25,
    "start_time": "2022-06-07T14:48:09.843Z"
   },
   {
    "duration": 30,
    "start_time": "2022-06-07T14:48:09.869Z"
   },
   {
    "duration": 8,
    "start_time": "2022-06-07T14:48:09.900Z"
   },
   {
    "duration": 4,
    "start_time": "2022-06-07T14:51:12.671Z"
   },
   {
    "duration": 63,
    "start_time": "2022-06-07T14:51:12.676Z"
   },
   {
    "duration": 18,
    "start_time": "2022-06-07T14:51:12.740Z"
   },
   {
    "duration": 70,
    "start_time": "2022-06-07T14:51:12.759Z"
   },
   {
    "duration": 16,
    "start_time": "2022-06-07T14:51:12.832Z"
   },
   {
    "duration": 5326,
    "start_time": "2022-06-07T14:51:12.850Z"
   },
   {
    "duration": 69,
    "start_time": "2022-06-07T14:51:18.178Z"
   },
   {
    "duration": 27,
    "start_time": "2022-06-07T14:51:18.249Z"
   },
   {
    "duration": 39,
    "start_time": "2022-06-07T14:51:18.278Z"
   },
   {
    "duration": 11,
    "start_time": "2022-06-07T14:51:18.319Z"
   },
   {
    "duration": 8,
    "start_time": "2022-06-07T14:51:18.333Z"
   },
   {
    "duration": 8,
    "start_time": "2022-06-07T14:52:11.559Z"
   },
   {
    "duration": 8,
    "start_time": "2022-06-07T14:52:27.971Z"
   },
   {
    "duration": 75,
    "start_time": "2022-06-07T15:00:13.264Z"
   },
   {
    "duration": 4690,
    "start_time": "2022-06-07T15:04:45.669Z"
   },
   {
    "duration": 3,
    "start_time": "2022-06-07T15:17:51.315Z"
   },
   {
    "duration": 100,
    "start_time": "2022-06-07T15:17:51.321Z"
   },
   {
    "duration": 17,
    "start_time": "2022-06-07T15:17:51.424Z"
   },
   {
    "duration": 84,
    "start_time": "2022-06-07T15:17:51.443Z"
   },
   {
    "duration": 3,
    "start_time": "2022-06-07T15:17:51.528Z"
   },
   {
    "duration": 4763,
    "start_time": "2022-06-07T15:17:51.532Z"
   },
   {
    "duration": 3,
    "start_time": "2022-06-07T15:17:56.296Z"
   },
   {
    "duration": 42,
    "start_time": "2022-06-07T15:17:56.300Z"
   },
   {
    "duration": 2,
    "start_time": "2022-06-07T15:17:56.344Z"
   },
   {
    "duration": 23,
    "start_time": "2022-06-07T15:17:56.348Z"
   },
   {
    "duration": 20,
    "start_time": "2022-06-07T15:17:56.374Z"
   },
   {
    "duration": 8,
    "start_time": "2022-06-07T15:24:47.709Z"
   },
   {
    "duration": 877,
    "start_time": "2022-06-07T15:37:09.193Z"
   },
   {
    "duration": 102,
    "start_time": "2022-06-07T15:37:10.073Z"
   },
   {
    "duration": 18,
    "start_time": "2022-06-07T15:37:10.177Z"
   },
   {
    "duration": 65,
    "start_time": "2022-06-07T15:37:10.197Z"
   },
   {
    "duration": 2,
    "start_time": "2022-06-07T15:37:10.264Z"
   },
   {
    "duration": 4454,
    "start_time": "2022-06-07T15:37:10.268Z"
   },
   {
    "duration": 2,
    "start_time": "2022-06-07T15:37:14.723Z"
   },
   {
    "duration": 25,
    "start_time": "2022-06-07T15:37:14.726Z"
   },
   {
    "duration": 2,
    "start_time": "2022-06-07T15:37:14.753Z"
   },
   {
    "duration": 17,
    "start_time": "2022-06-07T15:37:14.757Z"
   },
   {
    "duration": 25,
    "start_time": "2022-06-07T15:37:14.776Z"
   },
   {
    "duration": 936,
    "start_time": "2022-06-08T10:53:25.112Z"
   },
   {
    "duration": 129,
    "start_time": "2022-06-08T10:53:26.049Z"
   },
   {
    "duration": 16,
    "start_time": "2022-06-08T10:53:26.179Z"
   },
   {
    "duration": 79,
    "start_time": "2022-06-08T10:53:26.197Z"
   },
   {
    "duration": 3,
    "start_time": "2022-06-08T10:53:26.277Z"
   },
   {
    "duration": 5059,
    "start_time": "2022-06-08T10:53:26.282Z"
   },
   {
    "duration": 9,
    "start_time": "2022-06-08T10:53:31.343Z"
   },
   {
    "duration": 48,
    "start_time": "2022-06-08T10:53:31.354Z"
   },
   {
    "duration": 3,
    "start_time": "2022-06-08T10:53:31.404Z"
   },
   {
    "duration": 26,
    "start_time": "2022-06-08T10:53:31.410Z"
   },
   {
    "duration": 12,
    "start_time": "2022-06-08T10:53:31.437Z"
   }
  ],
  "kernelspec": {
   "display_name": "Python 3 (ipykernel)",
   "language": "python",
   "name": "python3"
  },
  "language_info": {
   "codemirror_mode": {
    "name": "ipython",
    "version": 3
   },
   "file_extension": ".py",
   "mimetype": "text/x-python",
   "name": "python",
   "nbconvert_exporter": "python",
   "pygments_lexer": "ipython3",
   "version": "3.9.7"
  },
  "toc": {
   "base_numbering": 1,
   "nav_menu": {},
   "number_sections": true,
   "sideBar": true,
   "skip_h1_title": true,
   "title_cell": "Table of Contents",
   "title_sidebar": "Contents",
   "toc_cell": false,
   "toc_position": {},
   "toc_section_display": true,
   "toc_window_display": false
  }
 },
 "nbformat": 4,
 "nbformat_minor": 2
}
