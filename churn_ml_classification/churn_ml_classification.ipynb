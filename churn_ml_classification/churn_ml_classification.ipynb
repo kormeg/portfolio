{
 "cells": [
  {
   "cell_type": "markdown",
   "metadata": {},
   "source": [
    "# Отток клиентов"
   ]
  },
  {
   "cell_type": "markdown",
   "metadata": {},
   "source": [
    "Из «Бета-Банка» стали уходить клиенты. Каждый месяц. Немного, но заметно. Банковские маркетологи посчитали: сохранять текущих клиентов дешевле, чем привлекать новых.\n",
    "\n",
    "***Цель исследования:***   \n",
    "Спрогнозировать, уйдёт клиент из банка в ближайшее время или нет на основе исторических данных о поведении клиентов и расторжении договоров с банком, построить модель с предельно большим значением *F1*-меры. Преодолеть порог 0.59 на тестовой выборке\n"
   ]
  },
  {
   "cell_type": "markdown",
   "metadata": {},
   "source": [
    "\n",
    "***План работы:***  \n",
    "* Загрузить и подготовить данные.  \n",
    "* Исследовать баланс классов, обучить модель без учёта дисбаланса.  \n",
    "* Улучшить качество модели, учитывая дисбаланс классов. Обучить разные модели и найти лучшую.  \n",
    "* Провести финальное тестирование.  \n",
    "  \n",
    "\n",
    "***Описание данных***  \n",
    "  \n",
    "RowNumber — индекс строки в данных  \n",
    "CustomerId — уникальный идентификатор клиента  \n",
    "Surname — фамилия  \n",
    "CreditScore — кредитный рейтинг  \n",
    "Geography — страна проживания  \n",
    "Gender — пол  \n",
    "Age — возраст  \n",
    "Tenure — сколько лет человек является клиентом банка  \n",
    "Balance — баланс на счёте  \n",
    "NumOfProducts — количество продуктов банка, используемых клиентом  \n",
    "HasCrCard — наличие кредитной карты  \n",
    "IsActiveMember — активность клиента  \n",
    "EstimatedSalary — предполагаемая зарплата  \n",
    "\n",
    "**Целевой признак**  \n",
    "  \n",
    "\n",
    "Exited — факт ухода клиента  "
   ]
  },
  {
   "cell_type": "markdown",
   "metadata": {},
   "source": [
    "## Подготовка данных"
   ]
  },
  {
   "cell_type": "markdown",
   "metadata": {},
   "source": [
    "### Просмотр"
   ]
  },
  {
   "cell_type": "code",
   "execution_count": 1,
   "metadata": {},
   "outputs": [],
   "source": [
    "import pandas as pd\n",
    "import numpy as np\n",
    "import matplotlib.pyplot as plt\n",
    "from sklearn.model_selection import train_test_split\n",
    "from sklearn.preprocessing import MinMaxScaler\n",
    "from sklearn.metrics import f1_score, precision_score, recall_score, roc_auc_score\n",
    "from sklearn.tree import DecisionTreeClassifier\n",
    "from sklearn.linear_model import LogisticRegression\n",
    "from sklearn.ensemble import RandomForestClassifier\n",
    "\n",
    "# from IPython.core.display import display, HTML\n",
    "# display(HTML(\"<style>.container { width:90% !important; }</style>\"))\n"
   ]
  },
  {
   "cell_type": "code",
   "execution_count": 2,
   "metadata": {
    "scrolled": false
   },
   "outputs": [
    {
     "name": "stdout",
     "output_type": "stream",
     "text": [
      "<class 'pandas.core.frame.DataFrame'>\n",
      "RangeIndex: 10000 entries, 0 to 9999\n",
      "Data columns (total 14 columns):\n",
      " #   Column           Non-Null Count  Dtype  \n",
      "---  ------           --------------  -----  \n",
      " 0   RowNumber        10000 non-null  int64  \n",
      " 1   CustomerId       10000 non-null  int64  \n",
      " 2   Surname          10000 non-null  object \n",
      " 3   CreditScore      10000 non-null  int64  \n",
      " 4   Geography        10000 non-null  object \n",
      " 5   Gender           10000 non-null  object \n",
      " 6   Age              10000 non-null  int64  \n",
      " 7   Tenure           9091 non-null   float64\n",
      " 8   Balance          10000 non-null  float64\n",
      " 9   NumOfProducts    10000 non-null  int64  \n",
      " 10  HasCrCard        10000 non-null  int64  \n",
      " 11  IsActiveMember   10000 non-null  int64  \n",
      " 12  EstimatedSalary  10000 non-null  float64\n",
      " 13  Exited           10000 non-null  int64  \n",
      "dtypes: float64(3), int64(8), object(3)\n",
      "memory usage: 1.1+ MB\n"
     ]
    },
    {
     "data": {
      "text/html": [
       "<div>\n",
       "<style scoped>\n",
       "    .dataframe tbody tr th:only-of-type {\n",
       "        vertical-align: middle;\n",
       "    }\n",
       "\n",
       "    .dataframe tbody tr th {\n",
       "        vertical-align: top;\n",
       "    }\n",
       "\n",
       "    .dataframe thead th {\n",
       "        text-align: right;\n",
       "    }\n",
       "</style>\n",
       "<table border=\"1\" class=\"dataframe\">\n",
       "  <thead>\n",
       "    <tr style=\"text-align: right;\">\n",
       "      <th></th>\n",
       "      <th>RowNumber</th>\n",
       "      <th>CustomerId</th>\n",
       "      <th>Surname</th>\n",
       "      <th>CreditScore</th>\n",
       "      <th>Geography</th>\n",
       "      <th>Gender</th>\n",
       "      <th>Age</th>\n",
       "      <th>Tenure</th>\n",
       "      <th>Balance</th>\n",
       "      <th>NumOfProducts</th>\n",
       "      <th>HasCrCard</th>\n",
       "      <th>IsActiveMember</th>\n",
       "      <th>EstimatedSalary</th>\n",
       "      <th>Exited</th>\n",
       "    </tr>\n",
       "  </thead>\n",
       "  <tbody>\n",
       "    <tr>\n",
       "      <th>0</th>\n",
       "      <td>1</td>\n",
       "      <td>15634602</td>\n",
       "      <td>Hargrave</td>\n",
       "      <td>619</td>\n",
       "      <td>France</td>\n",
       "      <td>Female</td>\n",
       "      <td>42</td>\n",
       "      <td>2.0</td>\n",
       "      <td>0.00</td>\n",
       "      <td>1</td>\n",
       "      <td>1</td>\n",
       "      <td>1</td>\n",
       "      <td>101348.88</td>\n",
       "      <td>1</td>\n",
       "    </tr>\n",
       "    <tr>\n",
       "      <th>1</th>\n",
       "      <td>2</td>\n",
       "      <td>15647311</td>\n",
       "      <td>Hill</td>\n",
       "      <td>608</td>\n",
       "      <td>Spain</td>\n",
       "      <td>Female</td>\n",
       "      <td>41</td>\n",
       "      <td>1.0</td>\n",
       "      <td>83807.86</td>\n",
       "      <td>1</td>\n",
       "      <td>0</td>\n",
       "      <td>1</td>\n",
       "      <td>112542.58</td>\n",
       "      <td>0</td>\n",
       "    </tr>\n",
       "    <tr>\n",
       "      <th>2</th>\n",
       "      <td>3</td>\n",
       "      <td>15619304</td>\n",
       "      <td>Onio</td>\n",
       "      <td>502</td>\n",
       "      <td>France</td>\n",
       "      <td>Female</td>\n",
       "      <td>42</td>\n",
       "      <td>8.0</td>\n",
       "      <td>159660.80</td>\n",
       "      <td>3</td>\n",
       "      <td>1</td>\n",
       "      <td>0</td>\n",
       "      <td>113931.57</td>\n",
       "      <td>1</td>\n",
       "    </tr>\n",
       "    <tr>\n",
       "      <th>3</th>\n",
       "      <td>4</td>\n",
       "      <td>15701354</td>\n",
       "      <td>Boni</td>\n",
       "      <td>699</td>\n",
       "      <td>France</td>\n",
       "      <td>Female</td>\n",
       "      <td>39</td>\n",
       "      <td>1.0</td>\n",
       "      <td>0.00</td>\n",
       "      <td>2</td>\n",
       "      <td>0</td>\n",
       "      <td>0</td>\n",
       "      <td>93826.63</td>\n",
       "      <td>0</td>\n",
       "    </tr>\n",
       "    <tr>\n",
       "      <th>4</th>\n",
       "      <td>5</td>\n",
       "      <td>15737888</td>\n",
       "      <td>Mitchell</td>\n",
       "      <td>850</td>\n",
       "      <td>Spain</td>\n",
       "      <td>Female</td>\n",
       "      <td>43</td>\n",
       "      <td>2.0</td>\n",
       "      <td>125510.82</td>\n",
       "      <td>1</td>\n",
       "      <td>1</td>\n",
       "      <td>1</td>\n",
       "      <td>79084.10</td>\n",
       "      <td>0</td>\n",
       "    </tr>\n",
       "  </tbody>\n",
       "</table>\n",
       "</div>"
      ],
      "text/plain": [
       "   RowNumber  CustomerId   Surname  CreditScore Geography  Gender  Age  \\\n",
       "0          1    15634602  Hargrave          619    France  Female   42   \n",
       "1          2    15647311      Hill          608     Spain  Female   41   \n",
       "2          3    15619304      Onio          502    France  Female   42   \n",
       "3          4    15701354      Boni          699    France  Female   39   \n",
       "4          5    15737888  Mitchell          850     Spain  Female   43   \n",
       "\n",
       "   Tenure    Balance  NumOfProducts  HasCrCard  IsActiveMember  \\\n",
       "0     2.0       0.00              1          1               1   \n",
       "1     1.0   83807.86              1          0               1   \n",
       "2     8.0  159660.80              3          1               0   \n",
       "3     1.0       0.00              2          0               0   \n",
       "4     2.0  125510.82              1          1               1   \n",
       "\n",
       "   EstimatedSalary  Exited  \n",
       "0        101348.88       1  \n",
       "1        112542.58       0  \n",
       "2        113931.57       1  \n",
       "3         93826.63       0  \n",
       "4         79084.10       0  "
      ]
     },
     "metadata": {},
     "output_type": "display_data"
    },
    {
     "data": {
      "text/plain": [
       "0"
      ]
     },
     "execution_count": 2,
     "metadata": {},
     "output_type": "execute_result"
    }
   ],
   "source": [
    "try:\n",
    "    df = pd.read_csv(\"D:/practicum/datasets_for_projects/Churn.csv\")\n",
    "except:\n",
    "    print(\"датасет отсутствует\")\n",
    "\n",
    "df.info()\n",
    "display(df.head())\n",
    "df.duplicated().sum()"
   ]
  },
  {
   "cell_type": "markdown",
   "metadata": {},
   "source": [
    "### Вывод"
   ]
  },
  {
   "cell_type": "markdown",
   "metadata": {},
   "source": [
    "* Мы имеем таблицу из 13 столбцов и 10000 строк. названия в верблюжем регистре. Приведем к змеиному.  \n",
    "* 3 первых признака не имеют предсказательного смысла. удалим столбцы.  \n",
    "* Так же имеются 2 строковые переменные. Закодируем их при помощи метода One Hot Encoding.  \n",
    "* Явных дубликатов нет.  \n",
    "* В одном из столбцов присутствуют пропуски. попробуем их обработать на следующем этапе.  \n"
   ]
  },
  {
   "cell_type": "markdown",
   "metadata": {},
   "source": [
    "## Предобработка"
   ]
  },
  {
   "cell_type": "code",
   "execution_count": 3,
   "metadata": {
    "scrolled": true
   },
   "outputs": [
    {
     "data": {
      "text/html": [
       "<div>\n",
       "<style scoped>\n",
       "    .dataframe tbody tr th:only-of-type {\n",
       "        vertical-align: middle;\n",
       "    }\n",
       "\n",
       "    .dataframe tbody tr th {\n",
       "        vertical-align: top;\n",
       "    }\n",
       "\n",
       "    .dataframe thead th {\n",
       "        text-align: right;\n",
       "    }\n",
       "</style>\n",
       "<table border=\"1\" class=\"dataframe\">\n",
       "  <thead>\n",
       "    <tr style=\"text-align: right;\">\n",
       "      <th></th>\n",
       "      <th>row_number</th>\n",
       "      <th>customer_id</th>\n",
       "      <th>surname</th>\n",
       "      <th>credit_score</th>\n",
       "      <th>geography</th>\n",
       "      <th>gender</th>\n",
       "      <th>age</th>\n",
       "      <th>tenure</th>\n",
       "      <th>balance</th>\n",
       "      <th>num_of_products</th>\n",
       "      <th>has_cr_card</th>\n",
       "      <th>is_active_member</th>\n",
       "      <th>estimated_salary</th>\n",
       "      <th>exited</th>\n",
       "    </tr>\n",
       "  </thead>\n",
       "  <tbody>\n",
       "    <tr>\n",
       "      <th>0</th>\n",
       "      <td>1</td>\n",
       "      <td>15634602</td>\n",
       "      <td>Hargrave</td>\n",
       "      <td>619</td>\n",
       "      <td>France</td>\n",
       "      <td>Female</td>\n",
       "      <td>42</td>\n",
       "      <td>2.0</td>\n",
       "      <td>0.00</td>\n",
       "      <td>1</td>\n",
       "      <td>1</td>\n",
       "      <td>1</td>\n",
       "      <td>101348.88</td>\n",
       "      <td>1</td>\n",
       "    </tr>\n",
       "    <tr>\n",
       "      <th>1</th>\n",
       "      <td>2</td>\n",
       "      <td>15647311</td>\n",
       "      <td>Hill</td>\n",
       "      <td>608</td>\n",
       "      <td>Spain</td>\n",
       "      <td>Female</td>\n",
       "      <td>41</td>\n",
       "      <td>1.0</td>\n",
       "      <td>83807.86</td>\n",
       "      <td>1</td>\n",
       "      <td>0</td>\n",
       "      <td>1</td>\n",
       "      <td>112542.58</td>\n",
       "      <td>0</td>\n",
       "    </tr>\n",
       "    <tr>\n",
       "      <th>2</th>\n",
       "      <td>3</td>\n",
       "      <td>15619304</td>\n",
       "      <td>Onio</td>\n",
       "      <td>502</td>\n",
       "      <td>France</td>\n",
       "      <td>Female</td>\n",
       "      <td>42</td>\n",
       "      <td>8.0</td>\n",
       "      <td>159660.80</td>\n",
       "      <td>3</td>\n",
       "      <td>1</td>\n",
       "      <td>0</td>\n",
       "      <td>113931.57</td>\n",
       "      <td>1</td>\n",
       "    </tr>\n",
       "    <tr>\n",
       "      <th>3</th>\n",
       "      <td>4</td>\n",
       "      <td>15701354</td>\n",
       "      <td>Boni</td>\n",
       "      <td>699</td>\n",
       "      <td>France</td>\n",
       "      <td>Female</td>\n",
       "      <td>39</td>\n",
       "      <td>1.0</td>\n",
       "      <td>0.00</td>\n",
       "      <td>2</td>\n",
       "      <td>0</td>\n",
       "      <td>0</td>\n",
       "      <td>93826.63</td>\n",
       "      <td>0</td>\n",
       "    </tr>\n",
       "    <tr>\n",
       "      <th>4</th>\n",
       "      <td>5</td>\n",
       "      <td>15737888</td>\n",
       "      <td>Mitchell</td>\n",
       "      <td>850</td>\n",
       "      <td>Spain</td>\n",
       "      <td>Female</td>\n",
       "      <td>43</td>\n",
       "      <td>2.0</td>\n",
       "      <td>125510.82</td>\n",
       "      <td>1</td>\n",
       "      <td>1</td>\n",
       "      <td>1</td>\n",
       "      <td>79084.10</td>\n",
       "      <td>0</td>\n",
       "    </tr>\n",
       "  </tbody>\n",
       "</table>\n",
       "</div>"
      ],
      "text/plain": [
       "   row_number  customer_id   surname  credit_score geography  gender  age  \\\n",
       "0           1     15634602  Hargrave           619    France  Female   42   \n",
       "1           2     15647311      Hill           608     Spain  Female   41   \n",
       "2           3     15619304      Onio           502    France  Female   42   \n",
       "3           4     15701354      Boni           699    France  Female   39   \n",
       "4           5     15737888  Mitchell           850     Spain  Female   43   \n",
       "\n",
       "   tenure    balance  num_of_products  has_cr_card  is_active_member  \\\n",
       "0     2.0       0.00                1            1                 1   \n",
       "1     1.0   83807.86                1            0                 1   \n",
       "2     8.0  159660.80                3            1                 0   \n",
       "3     1.0       0.00                2            0                 0   \n",
       "4     2.0  125510.82                1            1                 1   \n",
       "\n",
       "   estimated_salary  exited  \n",
       "0         101348.88       1  \n",
       "1         112542.58       0  \n",
       "2         113931.57       1  \n",
       "3          93826.63       0  \n",
       "4          79084.10       0  "
      ]
     },
     "execution_count": 3,
     "metadata": {},
     "output_type": "execute_result"
    }
   ],
   "source": [
    "# Приводим названия столбцов к змеиному регистру\n",
    "columns = []\n",
    "for name in df.columns:\n",
    "    new_name = \"\"\n",
    "    for i in name:\n",
    "        if i.isupper():\n",
    "            new_name += \"_\" + i.lower()\n",
    "        else:\n",
    "            new_name += i\n",
    "    new_name = new_name[1:]    \n",
    "    columns.append(new_name)    \n",
    "\n",
    "df.columns = columns\n",
    "df.head()"
   ]
  },
  {
   "cell_type": "code",
   "execution_count": 4,
   "metadata": {},
   "outputs": [
    {
     "data": {
      "text/plain": [
       "0"
      ]
     },
     "metadata": {},
     "output_type": "display_data"
    }
   ],
   "source": [
    "# проверяем дубликаты среди идентификаторов\n",
    "display(df[\"customer_id\"].duplicated().sum())"
   ]
  },
  {
   "cell_type": "markdown",
   "metadata": {},
   "source": [
    "все значения в столбце с идентификатором клиента уникальны, значит дубликатов нет"
   ]
  },
  {
   "cell_type": "markdown",
   "metadata": {
    "scrolled": false
   },
   "source": [
    "Удалим бесполезные признаки"
   ]
  },
  {
   "cell_type": "code",
   "execution_count": 5,
   "metadata": {},
   "outputs": [],
   "source": [
    "df = df.drop([\"row_number\", \"customer_id\", \"surname\"], axis=1)"
   ]
  },
  {
   "cell_type": "markdown",
   "metadata": {
    "scrolled": false
   },
   "source": [
    "Посмотрим на распределение значений численых признаков"
   ]
  },
  {
   "cell_type": "code",
   "execution_count": 6,
   "metadata": {
    "scrolled": false
   },
   "outputs": [
    {
     "data": {
      "text/html": [
       "<div>\n",
       "<style scoped>\n",
       "    .dataframe tbody tr th:only-of-type {\n",
       "        vertical-align: middle;\n",
       "    }\n",
       "\n",
       "    .dataframe tbody tr th {\n",
       "        vertical-align: top;\n",
       "    }\n",
       "\n",
       "    .dataframe thead th {\n",
       "        text-align: right;\n",
       "    }\n",
       "</style>\n",
       "<table border=\"1\" class=\"dataframe\">\n",
       "  <thead>\n",
       "    <tr style=\"text-align: right;\">\n",
       "      <th></th>\n",
       "      <th>credit_score</th>\n",
       "      <th>age</th>\n",
       "      <th>tenure</th>\n",
       "      <th>balance</th>\n",
       "      <th>num_of_products</th>\n",
       "      <th>has_cr_card</th>\n",
       "      <th>is_active_member</th>\n",
       "      <th>estimated_salary</th>\n",
       "      <th>exited</th>\n",
       "    </tr>\n",
       "  </thead>\n",
       "  <tbody>\n",
       "    <tr>\n",
       "      <th>count</th>\n",
       "      <td>10000.000000</td>\n",
       "      <td>10000.000000</td>\n",
       "      <td>9091.000000</td>\n",
       "      <td>10000.000000</td>\n",
       "      <td>10000.000000</td>\n",
       "      <td>10000.00000</td>\n",
       "      <td>10000.000000</td>\n",
       "      <td>10000.000000</td>\n",
       "      <td>10000.000000</td>\n",
       "    </tr>\n",
       "    <tr>\n",
       "      <th>mean</th>\n",
       "      <td>650.528800</td>\n",
       "      <td>38.921800</td>\n",
       "      <td>4.997690</td>\n",
       "      <td>76485.889288</td>\n",
       "      <td>1.530200</td>\n",
       "      <td>0.70550</td>\n",
       "      <td>0.515100</td>\n",
       "      <td>100090.239881</td>\n",
       "      <td>0.203700</td>\n",
       "    </tr>\n",
       "    <tr>\n",
       "      <th>std</th>\n",
       "      <td>96.653299</td>\n",
       "      <td>10.487806</td>\n",
       "      <td>2.894723</td>\n",
       "      <td>62397.405202</td>\n",
       "      <td>0.581654</td>\n",
       "      <td>0.45584</td>\n",
       "      <td>0.499797</td>\n",
       "      <td>57510.492818</td>\n",
       "      <td>0.402769</td>\n",
       "    </tr>\n",
       "    <tr>\n",
       "      <th>min</th>\n",
       "      <td>350.000000</td>\n",
       "      <td>18.000000</td>\n",
       "      <td>0.000000</td>\n",
       "      <td>0.000000</td>\n",
       "      <td>1.000000</td>\n",
       "      <td>0.00000</td>\n",
       "      <td>0.000000</td>\n",
       "      <td>11.580000</td>\n",
       "      <td>0.000000</td>\n",
       "    </tr>\n",
       "    <tr>\n",
       "      <th>25%</th>\n",
       "      <td>584.000000</td>\n",
       "      <td>32.000000</td>\n",
       "      <td>2.000000</td>\n",
       "      <td>0.000000</td>\n",
       "      <td>1.000000</td>\n",
       "      <td>0.00000</td>\n",
       "      <td>0.000000</td>\n",
       "      <td>51002.110000</td>\n",
       "      <td>0.000000</td>\n",
       "    </tr>\n",
       "    <tr>\n",
       "      <th>50%</th>\n",
       "      <td>652.000000</td>\n",
       "      <td>37.000000</td>\n",
       "      <td>5.000000</td>\n",
       "      <td>97198.540000</td>\n",
       "      <td>1.000000</td>\n",
       "      <td>1.00000</td>\n",
       "      <td>1.000000</td>\n",
       "      <td>100193.915000</td>\n",
       "      <td>0.000000</td>\n",
       "    </tr>\n",
       "    <tr>\n",
       "      <th>75%</th>\n",
       "      <td>718.000000</td>\n",
       "      <td>44.000000</td>\n",
       "      <td>7.000000</td>\n",
       "      <td>127644.240000</td>\n",
       "      <td>2.000000</td>\n",
       "      <td>1.00000</td>\n",
       "      <td>1.000000</td>\n",
       "      <td>149388.247500</td>\n",
       "      <td>0.000000</td>\n",
       "    </tr>\n",
       "    <tr>\n",
       "      <th>max</th>\n",
       "      <td>850.000000</td>\n",
       "      <td>92.000000</td>\n",
       "      <td>10.000000</td>\n",
       "      <td>250898.090000</td>\n",
       "      <td>4.000000</td>\n",
       "      <td>1.00000</td>\n",
       "      <td>1.000000</td>\n",
       "      <td>199992.480000</td>\n",
       "      <td>1.000000</td>\n",
       "    </tr>\n",
       "  </tbody>\n",
       "</table>\n",
       "</div>"
      ],
      "text/plain": [
       "       credit_score           age       tenure        balance  \\\n",
       "count  10000.000000  10000.000000  9091.000000   10000.000000   \n",
       "mean     650.528800     38.921800     4.997690   76485.889288   \n",
       "std       96.653299     10.487806     2.894723   62397.405202   \n",
       "min      350.000000     18.000000     0.000000       0.000000   \n",
       "25%      584.000000     32.000000     2.000000       0.000000   \n",
       "50%      652.000000     37.000000     5.000000   97198.540000   \n",
       "75%      718.000000     44.000000     7.000000  127644.240000   \n",
       "max      850.000000     92.000000    10.000000  250898.090000   \n",
       "\n",
       "       num_of_products  has_cr_card  is_active_member  estimated_salary  \\\n",
       "count     10000.000000  10000.00000      10000.000000      10000.000000   \n",
       "mean          1.530200      0.70550          0.515100     100090.239881   \n",
       "std           0.581654      0.45584          0.499797      57510.492818   \n",
       "min           1.000000      0.00000          0.000000         11.580000   \n",
       "25%           1.000000      0.00000          0.000000      51002.110000   \n",
       "50%           1.000000      1.00000          1.000000     100193.915000   \n",
       "75%           2.000000      1.00000          1.000000     149388.247500   \n",
       "max           4.000000      1.00000          1.000000     199992.480000   \n",
       "\n",
       "             exited  \n",
       "count  10000.000000  \n",
       "mean       0.203700  \n",
       "std        0.402769  \n",
       "min        0.000000  \n",
       "25%        0.000000  \n",
       "50%        0.000000  \n",
       "75%        0.000000  \n",
       "max        1.000000  "
      ]
     },
     "metadata": {},
     "output_type": "display_data"
    },
    {
     "data": {
      "image/png": "[encoded data removed]",
      "text/plain": [
       "<Figure size 640x480 with 1 Axes>"
      ]
     },
     "metadata": {},
     "output_type": "display_data"
    },
    {
     "data": {
      "image/png": "[encoded data removed]",
      "text/plain": [
       "<Figure size 640x480 with 1 Axes>"
      ]
     },
     "metadata": {},
     "output_type": "display_data"
    },
    {
     "data": {
      "image/png": "[encoded data removed]",
      "text/plain": [
       "<Figure size 550x400 with 1 Axes>"
      ]
     },
     "metadata": {},
     "output_type": "display_data"
    },
    {
     "data": {
      "image/png": "[encoded data removed]",
      "text/plain": [
       "<Figure size 640x480 with 1 Axes>"
      ]
     },
     "metadata": {},
     "output_type": "display_data"
    },
    {
     "data": {
      "image/png": "[encoded data removed]",
      "text/plain": [
       "<Figure size 200x400 with 1 Axes>"
      ]
     },
     "metadata": {},
     "output_type": "display_data"
    },
    {
     "data": {
      "image/png": "[encoded data removed]",
      "text/plain": [
       "<Figure size 100x400 with 1 Axes>"
      ]
     },
     "metadata": {},
     "output_type": "display_data"
    },
    {
     "data": {
      "image/png": "[encoded data removed]",
      "text/plain": [
       "<Figure size 100x400 with 1 Axes>"
      ]
     },
     "metadata": {},
     "output_type": "display_data"
    },
    {
     "data": {
      "image/png": "[encoded data removed]",
      "text/plain": [
       "<Figure size 640x480 with 1 Axes>"
      ]
     },
     "metadata": {},
     "output_type": "display_data"
    },
    {
     "data": {
      "image/png": "[encoded data removed]",
      "text/plain": [
       "<Figure size 100x400 with 1 Axes>"
      ]
     },
     "metadata": {},
     "output_type": "display_data"
    }
   ],
   "source": [
    "numeric = [\"credit_score\", \n",
    "           \"age\", \n",
    "           \"tenure\", \n",
    "           \"balance\", \n",
    "           \"num_of_products\", \n",
    "           \"has_cr_card\", \n",
    "           \"is_active_member\", \n",
    "           \"estimated_salary\", \n",
    "           \"exited\"]\n",
    "display(df.describe())\n",
    "for column in numeric:\n",
    "    x = len(df[column].value_counts()) \n",
    "    if x <= 20:\n",
    "        plt.figure(figsize=(x/2, 4))\n",
    "        df[column].hist(bins=x)\n",
    "    else:\n",
    "        plt.figure()\n",
    "        df[column].hist(bins=18)\n",
    "    plt.title(f\"Распределение признака \\\"{column}\\\"\")\n",
    "    plt.show()"
   ]
  },
  {
   "cell_type": "markdown",
   "metadata": {},
   "source": [
    "* распределение кредитного рейтинга стремится к нормальному. Присутствует небольшой всплеск на максимальных значениях.  \n",
    "* Распределение по возрасту так же стремится к нормальному есть скошенность вправо. в районе максимальных значений 80-90 лет присутствуют редкие значения по понятным причинам. Данные выглядят достоверно. \n",
    "* В распределении баланса счета есть пик на нуле. Вероятно многие клиенты имеют карту, но не пользуются ею. Нули всречаются как у ушедших клиентов так и у действующих, та же картина с положительным балансом. Не считая нулевого всплеска, распределение нормальное.\n",
    "* Количество лет пользования услугами распределено равномерно, не считая провалов на минимальном и максимальном значениях 0, 10лет. \n",
    "* Предполагаемая зарплата распределена равномерно\n",
    "* В целом данные выглядят правдоподобно, без серьезных аномалий.\n",
    "* В целевом признаке присутствует ощутимый дисбаланс классов."
   ]
  },
  {
   "cell_type": "code",
   "execution_count": 7,
   "metadata": {
    "scrolled": true
   },
   "outputs": [
    {
     "data": {
      "text/plain": [
       "Male      5457\n",
       "Female    4543\n",
       "Name: gender, dtype: int64"
      ]
     },
     "metadata": {},
     "output_type": "display_data"
    },
    {
     "data": {
      "text/plain": [
       "France     5014\n",
       "Germany    2509\n",
       "Spain      2477\n",
       "Name: geography, dtype: int64"
      ]
     },
     "execution_count": 7,
     "metadata": {},
     "output_type": "execute_result"
    }
   ],
   "source": [
    "# смотрим как распределились строковые значения\n",
    "display(df[\"gender\"].value_counts())\n",
    "df[\"geography\"].value_counts()"
   ]
  },
  {
   "cell_type": "code",
   "execution_count": 8,
   "metadata": {},
   "outputs": [
    {
     "data": {
      "image/png": "[encoded data removed]",
      "text/plain": [
       "<Figure size 640x480 with 1 Axes>"
      ]
     },
     "metadata": {},
     "output_type": "display_data"
    },
    {
     "data": {
      "image/png": "[encoded data removed]",
      "text/plain": [
       "<Figure size 640x480 with 1 Axes>"
      ]
     },
     "metadata": {},
     "output_type": "display_data"
    }
   ],
   "source": [
    "plt.figure()\n",
    "plt.title(\"Распределение клиентов по признаку 'gender'\")\n",
    "df[\"gender\"].value_counts().plot.bar()\n",
    "plt.grid()\n",
    "plt.figure()\n",
    "plt.title(\"Распределение клиентов по признаку 'geography'\")\n",
    "df[\"geography\"].value_counts().plot.bar()\n",
    "plt.grid()\n",
    "plt.show()"
   ]
  },
  {
   "cell_type": "markdown",
   "metadata": {},
   "source": [
    "* Женщин немного меньше, чем мужчин\n",
    "* Во Франции клиентов в 2 раза больше, чем в других странах "
   ]
  },
  {
   "cell_type": "code",
   "execution_count": 9,
   "metadata": {},
   "outputs": [
    {
     "data": {
      "text/plain": [
       "0.0909"
      ]
     },
     "metadata": {},
     "output_type": "display_data"
    },
    {
     "data": {
      "text/html": [
       "<div>\n",
       "<style scoped>\n",
       "    .dataframe tbody tr th:only-of-type {\n",
       "        vertical-align: middle;\n",
       "    }\n",
       "\n",
       "    .dataframe tbody tr th {\n",
       "        vertical-align: top;\n",
       "    }\n",
       "\n",
       "    .dataframe thead th {\n",
       "        text-align: right;\n",
       "    }\n",
       "</style>\n",
       "<table border=\"1\" class=\"dataframe\">\n",
       "  <thead>\n",
       "    <tr style=\"text-align: right;\">\n",
       "      <th></th>\n",
       "      <th>credit_score</th>\n",
       "      <th>geography</th>\n",
       "      <th>gender</th>\n",
       "      <th>age</th>\n",
       "      <th>tenure</th>\n",
       "      <th>balance</th>\n",
       "      <th>num_of_products</th>\n",
       "      <th>has_cr_card</th>\n",
       "      <th>is_active_member</th>\n",
       "      <th>estimated_salary</th>\n",
       "      <th>exited</th>\n",
       "    </tr>\n",
       "  </thead>\n",
       "  <tbody>\n",
       "    <tr>\n",
       "      <th>30</th>\n",
       "      <td>591</td>\n",
       "      <td>Spain</td>\n",
       "      <td>Female</td>\n",
       "      <td>39</td>\n",
       "      <td>NaN</td>\n",
       "      <td>0.00</td>\n",
       "      <td>3</td>\n",
       "      <td>1</td>\n",
       "      <td>0</td>\n",
       "      <td>140469.38</td>\n",
       "      <td>1</td>\n",
       "    </tr>\n",
       "    <tr>\n",
       "      <th>48</th>\n",
       "      <td>550</td>\n",
       "      <td>Germany</td>\n",
       "      <td>Male</td>\n",
       "      <td>38</td>\n",
       "      <td>NaN</td>\n",
       "      <td>103391.38</td>\n",
       "      <td>1</td>\n",
       "      <td>0</td>\n",
       "      <td>1</td>\n",
       "      <td>90878.13</td>\n",
       "      <td>0</td>\n",
       "    </tr>\n",
       "    <tr>\n",
       "      <th>51</th>\n",
       "      <td>585</td>\n",
       "      <td>Germany</td>\n",
       "      <td>Male</td>\n",
       "      <td>36</td>\n",
       "      <td>NaN</td>\n",
       "      <td>146050.97</td>\n",
       "      <td>2</td>\n",
       "      <td>0</td>\n",
       "      <td>0</td>\n",
       "      <td>86424.57</td>\n",
       "      <td>0</td>\n",
       "    </tr>\n",
       "    <tr>\n",
       "      <th>53</th>\n",
       "      <td>655</td>\n",
       "      <td>Germany</td>\n",
       "      <td>Male</td>\n",
       "      <td>41</td>\n",
       "      <td>NaN</td>\n",
       "      <td>125561.97</td>\n",
       "      <td>1</td>\n",
       "      <td>0</td>\n",
       "      <td>0</td>\n",
       "      <td>164040.94</td>\n",
       "      <td>1</td>\n",
       "    </tr>\n",
       "    <tr>\n",
       "      <th>60</th>\n",
       "      <td>742</td>\n",
       "      <td>Germany</td>\n",
       "      <td>Male</td>\n",
       "      <td>35</td>\n",
       "      <td>NaN</td>\n",
       "      <td>136857.00</td>\n",
       "      <td>1</td>\n",
       "      <td>0</td>\n",
       "      <td>0</td>\n",
       "      <td>84509.57</td>\n",
       "      <td>0</td>\n",
       "    </tr>\n",
       "    <tr>\n",
       "      <th>82</th>\n",
       "      <td>543</td>\n",
       "      <td>France</td>\n",
       "      <td>Female</td>\n",
       "      <td>36</td>\n",
       "      <td>NaN</td>\n",
       "      <td>0.00</td>\n",
       "      <td>2</td>\n",
       "      <td>0</td>\n",
       "      <td>0</td>\n",
       "      <td>26019.59</td>\n",
       "      <td>0</td>\n",
       "    </tr>\n",
       "    <tr>\n",
       "      <th>85</th>\n",
       "      <td>652</td>\n",
       "      <td>Spain</td>\n",
       "      <td>Female</td>\n",
       "      <td>75</td>\n",
       "      <td>NaN</td>\n",
       "      <td>0.00</td>\n",
       "      <td>2</td>\n",
       "      <td>1</td>\n",
       "      <td>1</td>\n",
       "      <td>114675.75</td>\n",
       "      <td>0</td>\n",
       "    </tr>\n",
       "    <tr>\n",
       "      <th>94</th>\n",
       "      <td>730</td>\n",
       "      <td>Spain</td>\n",
       "      <td>Male</td>\n",
       "      <td>42</td>\n",
       "      <td>NaN</td>\n",
       "      <td>0.00</td>\n",
       "      <td>2</td>\n",
       "      <td>0</td>\n",
       "      <td>1</td>\n",
       "      <td>85982.47</td>\n",
       "      <td>0</td>\n",
       "    </tr>\n",
       "    <tr>\n",
       "      <th>99</th>\n",
       "      <td>413</td>\n",
       "      <td>France</td>\n",
       "      <td>Male</td>\n",
       "      <td>34</td>\n",
       "      <td>NaN</td>\n",
       "      <td>0.00</td>\n",
       "      <td>2</td>\n",
       "      <td>0</td>\n",
       "      <td>0</td>\n",
       "      <td>6534.18</td>\n",
       "      <td>0</td>\n",
       "    </tr>\n",
       "    <tr>\n",
       "      <th>111</th>\n",
       "      <td>538</td>\n",
       "      <td>Germany</td>\n",
       "      <td>Male</td>\n",
       "      <td>39</td>\n",
       "      <td>NaN</td>\n",
       "      <td>108055.10</td>\n",
       "      <td>2</td>\n",
       "      <td>1</td>\n",
       "      <td>0</td>\n",
       "      <td>27231.26</td>\n",
       "      <td>0</td>\n",
       "    </tr>\n",
       "    <tr>\n",
       "      <th>123</th>\n",
       "      <td>684</td>\n",
       "      <td>Germany</td>\n",
       "      <td>Female</td>\n",
       "      <td>48</td>\n",
       "      <td>NaN</td>\n",
       "      <td>126384.42</td>\n",
       "      <td>1</td>\n",
       "      <td>1</td>\n",
       "      <td>1</td>\n",
       "      <td>198129.36</td>\n",
       "      <td>0</td>\n",
       "    </tr>\n",
       "    <tr>\n",
       "      <th>125</th>\n",
       "      <td>432</td>\n",
       "      <td>France</td>\n",
       "      <td>Male</td>\n",
       "      <td>42</td>\n",
       "      <td>NaN</td>\n",
       "      <td>152603.45</td>\n",
       "      <td>1</td>\n",
       "      <td>1</td>\n",
       "      <td>0</td>\n",
       "      <td>110265.24</td>\n",
       "      <td>1</td>\n",
       "    </tr>\n",
       "    <tr>\n",
       "      <th>146</th>\n",
       "      <td>635</td>\n",
       "      <td>Spain</td>\n",
       "      <td>Female</td>\n",
       "      <td>29</td>\n",
       "      <td>NaN</td>\n",
       "      <td>138296.94</td>\n",
       "      <td>2</td>\n",
       "      <td>1</td>\n",
       "      <td>0</td>\n",
       "      <td>141075.51</td>\n",
       "      <td>0</td>\n",
       "    </tr>\n",
       "    <tr>\n",
       "      <th>162</th>\n",
       "      <td>800</td>\n",
       "      <td>France</td>\n",
       "      <td>Female</td>\n",
       "      <td>49</td>\n",
       "      <td>NaN</td>\n",
       "      <td>108007.36</td>\n",
       "      <td>1</td>\n",
       "      <td>0</td>\n",
       "      <td>0</td>\n",
       "      <td>47125.11</td>\n",
       "      <td>0</td>\n",
       "    </tr>\n",
       "    <tr>\n",
       "      <th>173</th>\n",
       "      <td>578</td>\n",
       "      <td>France</td>\n",
       "      <td>Male</td>\n",
       "      <td>30</td>\n",
       "      <td>NaN</td>\n",
       "      <td>169462.09</td>\n",
       "      <td>1</td>\n",
       "      <td>1</td>\n",
       "      <td>0</td>\n",
       "      <td>112187.11</td>\n",
       "      <td>0</td>\n",
       "    </tr>\n",
       "    <tr>\n",
       "      <th>180</th>\n",
       "      <td>850</td>\n",
       "      <td>Spain</td>\n",
       "      <td>Female</td>\n",
       "      <td>45</td>\n",
       "      <td>NaN</td>\n",
       "      <td>122311.21</td>\n",
       "      <td>1</td>\n",
       "      <td>1</td>\n",
       "      <td>1</td>\n",
       "      <td>19482.50</td>\n",
       "      <td>0</td>\n",
       "    </tr>\n",
       "    <tr>\n",
       "      <th>217</th>\n",
       "      <td>730</td>\n",
       "      <td>Spain</td>\n",
       "      <td>Female</td>\n",
       "      <td>33</td>\n",
       "      <td>NaN</td>\n",
       "      <td>0.00</td>\n",
       "      <td>2</td>\n",
       "      <td>0</td>\n",
       "      <td>0</td>\n",
       "      <td>176576.62</td>\n",
       "      <td>0</td>\n",
       "    </tr>\n",
       "    <tr>\n",
       "      <th>222</th>\n",
       "      <td>567</td>\n",
       "      <td>France</td>\n",
       "      <td>Male</td>\n",
       "      <td>42</td>\n",
       "      <td>NaN</td>\n",
       "      <td>0.00</td>\n",
       "      <td>2</td>\n",
       "      <td>1</td>\n",
       "      <td>1</td>\n",
       "      <td>167984.61</td>\n",
       "      <td>0</td>\n",
       "    </tr>\n",
       "    <tr>\n",
       "      <th>225</th>\n",
       "      <td>670</td>\n",
       "      <td>France</td>\n",
       "      <td>Male</td>\n",
       "      <td>37</td>\n",
       "      <td>NaN</td>\n",
       "      <td>170557.91</td>\n",
       "      <td>2</td>\n",
       "      <td>1</td>\n",
       "      <td>0</td>\n",
       "      <td>198252.88</td>\n",
       "      <td>0</td>\n",
       "    </tr>\n",
       "    <tr>\n",
       "      <th>237</th>\n",
       "      <td>539</td>\n",
       "      <td>Germany</td>\n",
       "      <td>Female</td>\n",
       "      <td>43</td>\n",
       "      <td>NaN</td>\n",
       "      <td>116220.50</td>\n",
       "      <td>3</td>\n",
       "      <td>1</td>\n",
       "      <td>0</td>\n",
       "      <td>55803.96</td>\n",
       "      <td>1</td>\n",
       "    </tr>\n",
       "  </tbody>\n",
       "</table>\n",
       "</div>"
      ],
      "text/plain": [
       "     credit_score geography  gender  age  tenure    balance  num_of_products  \\\n",
       "30            591     Spain  Female   39     NaN       0.00                3   \n",
       "48            550   Germany    Male   38     NaN  103391.38                1   \n",
       "51            585   Germany    Male   36     NaN  146050.97                2   \n",
       "53            655   Germany    Male   41     NaN  125561.97                1   \n",
       "60            742   Germany    Male   35     NaN  136857.00                1   \n",
       "82            543    France  Female   36     NaN       0.00                2   \n",
       "85            652     Spain  Female   75     NaN       0.00                2   \n",
       "94            730     Spain    Male   42     NaN       0.00                2   \n",
       "99            413    France    Male   34     NaN       0.00                2   \n",
       "111           538   Germany    Male   39     NaN  108055.10                2   \n",
       "123           684   Germany  Female   48     NaN  126384.42                1   \n",
       "125           432    France    Male   42     NaN  152603.45                1   \n",
       "146           635     Spain  Female   29     NaN  138296.94                2   \n",
       "162           800    France  Female   49     NaN  108007.36                1   \n",
       "173           578    France    Male   30     NaN  169462.09                1   \n",
       "180           850     Spain  Female   45     NaN  122311.21                1   \n",
       "217           730     Spain  Female   33     NaN       0.00                2   \n",
       "222           567    France    Male   42     NaN       0.00                2   \n",
       "225           670    France    Male   37     NaN  170557.91                2   \n",
       "237           539   Germany  Female   43     NaN  116220.50                3   \n",
       "\n",
       "     has_cr_card  is_active_member  estimated_salary  exited  \n",
       "30             1                 0         140469.38       1  \n",
       "48             0                 1          90878.13       0  \n",
       "51             0                 0          86424.57       0  \n",
       "53             0                 0         164040.94       1  \n",
       "60             0                 0          84509.57       0  \n",
       "82             0                 0          26019.59       0  \n",
       "85             1                 1         114675.75       0  \n",
       "94             0                 1          85982.47       0  \n",
       "99             0                 0           6534.18       0  \n",
       "111            1                 0          27231.26       0  \n",
       "123            1                 1         198129.36       0  \n",
       "125            1                 0         110265.24       1  \n",
       "146            1                 0         141075.51       0  \n",
       "162            0                 0          47125.11       0  \n",
       "173            1                 0         112187.11       0  \n",
       "180            1                 1          19482.50       0  \n",
       "217            0                 0         176576.62       0  \n",
       "222            1                 1         167984.61       0  \n",
       "225            1                 0         198252.88       0  \n",
       "237            1                 0          55803.96       1  "
      ]
     },
     "execution_count": 9,
     "metadata": {},
     "output_type": "execute_result"
    }
   ],
   "source": [
    "# доля пропусков в столбце с длительностнью пользования услугами банка\n",
    "display(df[\"tenure\"].isna().mean())\n",
    "df[df[\"tenure\"].isna()].head(20)"
   ]
  },
  {
   "cell_type": "markdown",
   "metadata": {},
   "source": [
    "9 процентов. "
   ]
  },
  {
   "cell_type": "markdown",
   "metadata": {},
   "source": [
    "### Вывод"
   ]
  },
  {
   "cell_type": "markdown",
   "metadata": {},
   "source": [
    "По итогам предобработки закономерностей в данных с пропусками не выявлено. Рассматриваемый признак имеет достаточно случайную природу, и связать его с другими признаками для корректного заполнения данных  не представляется возможным. Других серьезных проблем в данных не обнаружено"
   ]
  },
  {
   "cell_type": "markdown",
   "metadata": {},
   "source": [
    "## Исследование задачи"
   ]
  },
  {
   "cell_type": "markdown",
   "metadata": {},
   "source": [
    "Мы имеем задачу бинарной классификации.  \n",
    "Целевой признак - Exited.  \n",
    "Рассмотрим столбец с пропусками более пристально (количество лет пользования услугами банка).  \n",
    "Посмотрим присутствует ли корреляция между этим признаком и целевым.  \n",
    "Для полноты картины взглянем и на корреляцию с прочими численными признаками "
   ]
  },
  {
   "cell_type": "code",
   "execution_count": 10,
   "metadata": {
    "scrolled": false
   },
   "outputs": [
    {
     "name": "stderr",
     "output_type": "stream",
     "text": [
      "C:\\Users\\Pasha\\AppData\\Local\\Temp\\ipykernel_4700\\3832204202.py:1: FutureWarning: The default value of numeric_only in DataFrame.corr is deprecated. In a future version, it will default to False. Select only valid columns or specify the value of numeric_only to silence this warning.\n",
      "  df.corr()[\"exited\"]\n"
     ]
    },
    {
     "data": {
      "text/plain": [
       "credit_score       -0.027094\n",
       "age                 0.285323\n",
       "tenure             -0.016761\n",
       "balance             0.118533\n",
       "num_of_products    -0.047820\n",
       "has_cr_card        -0.007138\n",
       "is_active_member   -0.156128\n",
       "estimated_salary    0.012097\n",
       "exited              1.000000\n",
       "Name: exited, dtype: float64"
      ]
     },
     "execution_count": 10,
     "metadata": {},
     "output_type": "execute_result"
    }
   ],
   "source": [
    "df.corr()[\"exited\"]"
   ]
  },
  {
   "cell_type": "markdown",
   "metadata": {},
   "source": [
    "все признаки очень слабо коррелируют с целевым. Одно из наиболее низких значений корреляции у признака, по которому отсутствует часть данных."
   ]
  },
  {
   "cell_type": "code",
   "execution_count": 11,
   "metadata": {
    "scrolled": false
   },
   "outputs": [
    {
     "data": {
      "image/png": "[encoded data removed]",
      "text/plain": [
       "<Figure size 640x480 with 1 Axes>"
      ]
     },
     "metadata": {},
     "output_type": "display_data"
    }
   ],
   "source": [
    "df.groupby(\"exited\")[\"tenure\"].hist(bins=11)\n",
    "plt.title(\"Соотношение распределения классов целевого признака\\n по годам пользования услугами\\n\")\n",
    "plt.xlabel(\"years of using\")\n",
    "plt.ylabel(\"number of clients\")\n",
    "plt.legend(\"01\")\n",
    "plt.show()"
   ]
  },
  {
   "cell_type": "code",
   "execution_count": 12,
   "metadata": {
    "scrolled": false
   },
   "outputs": [
    {
     "data": {
      "text/html": [
       "<div>\n",
       "<style scoped>\n",
       "    .dataframe tbody tr th:only-of-type {\n",
       "        vertical-align: middle;\n",
       "    }\n",
       "\n",
       "    .dataframe tbody tr th {\n",
       "        vertical-align: top;\n",
       "    }\n",
       "\n",
       "    .dataframe thead th {\n",
       "        text-align: right;\n",
       "    }\n",
       "</style>\n",
       "<table border=\"1\" class=\"dataframe\">\n",
       "  <thead>\n",
       "    <tr style=\"text-align: right;\">\n",
       "      <th></th>\n",
       "      <th>кол-во ушедших</th>\n",
       "      <th>доля ушедших</th>\n",
       "    </tr>\n",
       "    <tr>\n",
       "      <th>tenure</th>\n",
       "      <th></th>\n",
       "      <th></th>\n",
       "    </tr>\n",
       "  </thead>\n",
       "  <tbody>\n",
       "    <tr>\n",
       "      <th>0.0</th>\n",
       "      <td>90</td>\n",
       "      <td>0.235602</td>\n",
       "    </tr>\n",
       "    <tr>\n",
       "      <th>1.0</th>\n",
       "      <td>213</td>\n",
       "      <td>0.223739</td>\n",
       "    </tr>\n",
       "    <tr>\n",
       "      <th>2.0</th>\n",
       "      <td>185</td>\n",
       "      <td>0.194737</td>\n",
       "    </tr>\n",
       "    <tr>\n",
       "      <th>3.0</th>\n",
       "      <td>198</td>\n",
       "      <td>0.213362</td>\n",
       "    </tr>\n",
       "    <tr>\n",
       "      <th>4.0</th>\n",
       "      <td>184</td>\n",
       "      <td>0.207910</td>\n",
       "    </tr>\n",
       "    <tr>\n",
       "      <th>5.0</th>\n",
       "      <td>187</td>\n",
       "      <td>0.201726</td>\n",
       "    </tr>\n",
       "    <tr>\n",
       "      <th>6.0</th>\n",
       "      <td>177</td>\n",
       "      <td>0.200908</td>\n",
       "    </tr>\n",
       "    <tr>\n",
       "      <th>7.0</th>\n",
       "      <td>160</td>\n",
       "      <td>0.172973</td>\n",
       "    </tr>\n",
       "    <tr>\n",
       "      <th>8.0</th>\n",
       "      <td>174</td>\n",
       "      <td>0.186495</td>\n",
       "    </tr>\n",
       "    <tr>\n",
       "      <th>9.0</th>\n",
       "      <td>194</td>\n",
       "      <td>0.219955</td>\n",
       "    </tr>\n",
       "    <tr>\n",
       "      <th>10.0</th>\n",
       "      <td>92</td>\n",
       "      <td>0.206278</td>\n",
       "    </tr>\n",
       "  </tbody>\n",
       "</table>\n",
       "</div>"
      ],
      "text/plain": [
       "        кол-во ушедших  доля ушедших\n",
       "tenure                              \n",
       "0.0                 90      0.235602\n",
       "1.0                213      0.223739\n",
       "2.0                185      0.194737\n",
       "3.0                198      0.213362\n",
       "4.0                184      0.207910\n",
       "5.0                187      0.201726\n",
       "6.0                177      0.200908\n",
       "7.0                160      0.172973\n",
       "8.0                174      0.186495\n",
       "9.0                194      0.219955\n",
       "10.0                92      0.206278"
      ]
     },
     "execution_count": 12,
     "metadata": {},
     "output_type": "execute_result"
    }
   ],
   "source": [
    "# посмотрим на цифры\n",
    "\n",
    "p = df.pivot_table(index=\"tenure\", values=\"exited\", aggfunc= [\"sum\", \"mean\"])\n",
    "p.columns = [\"кол-во ушедших\", \"доля ушедших\"]\n",
    "p"
   ]
  },
  {
   "cell_type": "markdown",
   "metadata": {},
   "source": [
    "соотношение распределилось достаточно равномерно доля ушедших среди групп находится в диапазоне от 17 до 23%. Закономерно сделать предположение, что данный признак может не иметь большого значения для модели. соответственно исходя из данной гипотизы, найдем лучшие модели для 2 выборок:\n",
    "1. без строк с пропусками\n",
    "2. без столбца с пропусками"
   ]
  },
  {
   "cell_type": "markdown",
   "metadata": {},
   "source": [
    "Посмотрим на баланс классов"
   ]
  },
  {
   "cell_type": "code",
   "execution_count": 13,
   "metadata": {},
   "outputs": [
    {
     "data": {
      "image/png": "[encoded data removed]",
      "text/plain": [
       "<Figure size 200x500 with 1 Axes>"
      ]
     },
     "metadata": {},
     "output_type": "display_data"
    },
    {
     "data": {
      "text/plain": [
       "0    7963\n",
       "1    2037\n",
       "Name: exited, dtype: int64"
      ]
     },
     "metadata": {},
     "output_type": "display_data"
    },
    {
     "name": "stdout",
     "output_type": "stream",
     "text": [
      "доля ушедших:\n"
     ]
    },
    {
     "data": {
      "text/plain": [
       "0.2037"
      ]
     },
     "execution_count": 13,
     "metadata": {},
     "output_type": "execute_result"
    }
   ],
   "source": [
    "plt.figure(figsize=(2, 5))\n",
    "plt.title(\"Распределение классов целевого признака\")\n",
    "df[\"exited\"].value_counts().plot.bar()\n",
    "plt.grid()\n",
    "plt.show()\n",
    "display(df[\"exited\"].value_counts())\n",
    "print(\"доля ушедших:\")\n",
    "df[\"exited\"].mean()"
   ]
  },
  {
   "cell_type": "markdown",
   "metadata": {},
   "source": [
    "Дисбаланс классов на лицо."
   ]
  },
  {
   "cell_type": "markdown",
   "metadata": {},
   "source": [
    "Закодируем строковые категориальные признаки"
   ]
  },
  {
   "cell_type": "code",
   "execution_count": 14,
   "metadata": {
    "scrolled": true
   },
   "outputs": [
    {
     "data": {
      "text/html": [
       "<div>\n",
       "<style scoped>\n",
       "    .dataframe tbody tr th:only-of-type {\n",
       "        vertical-align: middle;\n",
       "    }\n",
       "\n",
       "    .dataframe tbody tr th {\n",
       "        vertical-align: top;\n",
       "    }\n",
       "\n",
       "    .dataframe thead th {\n",
       "        text-align: right;\n",
       "    }\n",
       "</style>\n",
       "<table border=\"1\" class=\"dataframe\">\n",
       "  <thead>\n",
       "    <tr style=\"text-align: right;\">\n",
       "      <th></th>\n",
       "      <th>credit_score</th>\n",
       "      <th>age</th>\n",
       "      <th>tenure</th>\n",
       "      <th>balance</th>\n",
       "      <th>num_of_products</th>\n",
       "      <th>has_cr_card</th>\n",
       "      <th>is_active_member</th>\n",
       "      <th>estimated_salary</th>\n",
       "      <th>exited</th>\n",
       "      <th>geography_germany</th>\n",
       "      <th>geography_spain</th>\n",
       "      <th>gender_male</th>\n",
       "    </tr>\n",
       "  </thead>\n",
       "  <tbody>\n",
       "    <tr>\n",
       "      <th>0</th>\n",
       "      <td>619</td>\n",
       "      <td>42</td>\n",
       "      <td>2.0</td>\n",
       "      <td>0.00</td>\n",
       "      <td>1</td>\n",
       "      <td>1</td>\n",
       "      <td>1</td>\n",
       "      <td>101348.88</td>\n",
       "      <td>1</td>\n",
       "      <td>0</td>\n",
       "      <td>0</td>\n",
       "      <td>0</td>\n",
       "    </tr>\n",
       "    <tr>\n",
       "      <th>1</th>\n",
       "      <td>608</td>\n",
       "      <td>41</td>\n",
       "      <td>1.0</td>\n",
       "      <td>83807.86</td>\n",
       "      <td>1</td>\n",
       "      <td>0</td>\n",
       "      <td>1</td>\n",
       "      <td>112542.58</td>\n",
       "      <td>0</td>\n",
       "      <td>0</td>\n",
       "      <td>1</td>\n",
       "      <td>0</td>\n",
       "    </tr>\n",
       "    <tr>\n",
       "      <th>2</th>\n",
       "      <td>502</td>\n",
       "      <td>42</td>\n",
       "      <td>8.0</td>\n",
       "      <td>159660.80</td>\n",
       "      <td>3</td>\n",
       "      <td>1</td>\n",
       "      <td>0</td>\n",
       "      <td>113931.57</td>\n",
       "      <td>1</td>\n",
       "      <td>0</td>\n",
       "      <td>0</td>\n",
       "      <td>0</td>\n",
       "    </tr>\n",
       "    <tr>\n",
       "      <th>3</th>\n",
       "      <td>699</td>\n",
       "      <td>39</td>\n",
       "      <td>1.0</td>\n",
       "      <td>0.00</td>\n",
       "      <td>2</td>\n",
       "      <td>0</td>\n",
       "      <td>0</td>\n",
       "      <td>93826.63</td>\n",
       "      <td>0</td>\n",
       "      <td>0</td>\n",
       "      <td>0</td>\n",
       "      <td>0</td>\n",
       "    </tr>\n",
       "    <tr>\n",
       "      <th>4</th>\n",
       "      <td>850</td>\n",
       "      <td>43</td>\n",
       "      <td>2.0</td>\n",
       "      <td>125510.82</td>\n",
       "      <td>1</td>\n",
       "      <td>1</td>\n",
       "      <td>1</td>\n",
       "      <td>79084.10</td>\n",
       "      <td>0</td>\n",
       "      <td>0</td>\n",
       "      <td>1</td>\n",
       "      <td>0</td>\n",
       "    </tr>\n",
       "  </tbody>\n",
       "</table>\n",
       "</div>"
      ],
      "text/plain": [
       "   credit_score  age  tenure    balance  num_of_products  has_cr_card  \\\n",
       "0           619   42     2.0       0.00                1            1   \n",
       "1           608   41     1.0   83807.86                1            0   \n",
       "2           502   42     8.0  159660.80                3            1   \n",
       "3           699   39     1.0       0.00                2            0   \n",
       "4           850   43     2.0  125510.82                1            1   \n",
       "\n",
       "   is_active_member  estimated_salary  exited  geography_germany  \\\n",
       "0                 1         101348.88       1                  0   \n",
       "1                 1         112542.58       0                  0   \n",
       "2                 0         113931.57       1                  0   \n",
       "3                 0          93826.63       0                  0   \n",
       "4                 1          79084.10       0                  0   \n",
       "\n",
       "   geography_spain  gender_male  \n",
       "0                0            0  \n",
       "1                1            0  \n",
       "2                0            0  \n",
       "3                0            0  \n",
       "4                1            0  "
      ]
     },
     "execution_count": 14,
     "metadata": {},
     "output_type": "execute_result"
    }
   ],
   "source": [
    "# прямое кодирование\n",
    "df = pd.get_dummies(df, drop_first=True)\n",
    "df.columns = df.columns.str.lower()\n",
    "df.head()"
   ]
  },
  {
   "cell_type": "markdown",
   "metadata": {},
   "source": [
    "Масштабируем все признаки, кроме бинарных, чтобы они воспринимались моделью как равнозначные"
   ]
  },
  {
   "cell_type": "code",
   "execution_count": 15,
   "metadata": {
    "scrolled": true
   },
   "outputs": [
    {
     "data": {
      "text/html": [
       "<div>\n",
       "<style scoped>\n",
       "    .dataframe tbody tr th:only-of-type {\n",
       "        vertical-align: middle;\n",
       "    }\n",
       "\n",
       "    .dataframe tbody tr th {\n",
       "        vertical-align: top;\n",
       "    }\n",
       "\n",
       "    .dataframe thead th {\n",
       "        text-align: right;\n",
       "    }\n",
       "</style>\n",
       "<table border=\"1\" class=\"dataframe\">\n",
       "  <thead>\n",
       "    <tr style=\"text-align: right;\">\n",
       "      <th></th>\n",
       "      <th>credit_score</th>\n",
       "      <th>age</th>\n",
       "      <th>tenure</th>\n",
       "      <th>balance</th>\n",
       "      <th>num_of_products</th>\n",
       "      <th>estimated_salary</th>\n",
       "    </tr>\n",
       "  </thead>\n",
       "  <tbody>\n",
       "    <tr>\n",
       "      <th>0</th>\n",
       "      <td>0.538</td>\n",
       "      <td>0.324324</td>\n",
       "      <td>0.2</td>\n",
       "      <td>0.000000</td>\n",
       "      <td>0.000000</td>\n",
       "      <td>0.506735</td>\n",
       "    </tr>\n",
       "    <tr>\n",
       "      <th>1</th>\n",
       "      <td>0.516</td>\n",
       "      <td>0.310811</td>\n",
       "      <td>0.1</td>\n",
       "      <td>0.334031</td>\n",
       "      <td>0.000000</td>\n",
       "      <td>0.562709</td>\n",
       "    </tr>\n",
       "    <tr>\n",
       "      <th>2</th>\n",
       "      <td>0.304</td>\n",
       "      <td>0.324324</td>\n",
       "      <td>0.8</td>\n",
       "      <td>0.636357</td>\n",
       "      <td>0.666667</td>\n",
       "      <td>0.569654</td>\n",
       "    </tr>\n",
       "    <tr>\n",
       "      <th>3</th>\n",
       "      <td>0.698</td>\n",
       "      <td>0.283784</td>\n",
       "      <td>0.1</td>\n",
       "      <td>0.000000</td>\n",
       "      <td>0.333333</td>\n",
       "      <td>0.469120</td>\n",
       "    </tr>\n",
       "    <tr>\n",
       "      <th>4</th>\n",
       "      <td>1.000</td>\n",
       "      <td>0.337838</td>\n",
       "      <td>0.2</td>\n",
       "      <td>0.500246</td>\n",
       "      <td>0.000000</td>\n",
       "      <td>0.395400</td>\n",
       "    </tr>\n",
       "  </tbody>\n",
       "</table>\n",
       "</div>"
      ],
      "text/plain": [
       "   credit_score       age  tenure   balance  num_of_products  estimated_salary\n",
       "0         0.538  0.324324     0.2  0.000000         0.000000          0.506735\n",
       "1         0.516  0.310811     0.1  0.334031         0.000000          0.562709\n",
       "2         0.304  0.324324     0.8  0.636357         0.666667          0.569654\n",
       "3         0.698  0.283784     0.1  0.000000         0.333333          0.469120\n",
       "4         1.000  0.337838     0.2  0.500246         0.000000          0.395400"
      ]
     },
     "execution_count": 15,
     "metadata": {},
     "output_type": "execute_result"
    }
   ],
   "source": [
    "scaler = MinMaxScaler()\n",
    "not_binary = [\"credit_score\", \"age\", \"tenure\", \"balance\", \"num_of_products\", \"estimated_salary\"]\n",
    "df[not_binary] = scaler.fit_transform(df[not_binary])\n",
    "df[not_binary].head()\n"
   ]
  },
  {
   "cell_type": "code",
   "execution_count": 16,
   "metadata": {},
   "outputs": [
    {
     "data": {
      "text/html": [
       "<div>\n",
       "<style scoped>\n",
       "    .dataframe tbody tr th:only-of-type {\n",
       "        vertical-align: middle;\n",
       "    }\n",
       "\n",
       "    .dataframe tbody tr th {\n",
       "        vertical-align: top;\n",
       "    }\n",
       "\n",
       "    .dataframe thead th {\n",
       "        text-align: right;\n",
       "    }\n",
       "</style>\n",
       "<table border=\"1\" class=\"dataframe\">\n",
       "  <thead>\n",
       "    <tr style=\"text-align: right;\">\n",
       "      <th></th>\n",
       "      <th>credit_score</th>\n",
       "      <th>age</th>\n",
       "      <th>tenure</th>\n",
       "      <th>balance</th>\n",
       "      <th>num_of_products</th>\n",
       "      <th>has_cr_card</th>\n",
       "      <th>is_active_member</th>\n",
       "      <th>estimated_salary</th>\n",
       "      <th>exited</th>\n",
       "      <th>geography_germany</th>\n",
       "      <th>geography_spain</th>\n",
       "      <th>gender_male</th>\n",
       "    </tr>\n",
       "  </thead>\n",
       "  <tbody>\n",
       "    <tr>\n",
       "      <th>0</th>\n",
       "      <td>0.538</td>\n",
       "      <td>0.324324</td>\n",
       "      <td>0.2</td>\n",
       "      <td>0.000000</td>\n",
       "      <td>0.000000</td>\n",
       "      <td>1</td>\n",
       "      <td>1</td>\n",
       "      <td>0.506735</td>\n",
       "      <td>1</td>\n",
       "      <td>0</td>\n",
       "      <td>0</td>\n",
       "      <td>0</td>\n",
       "    </tr>\n",
       "    <tr>\n",
       "      <th>1</th>\n",
       "      <td>0.516</td>\n",
       "      <td>0.310811</td>\n",
       "      <td>0.1</td>\n",
       "      <td>0.334031</td>\n",
       "      <td>0.000000</td>\n",
       "      <td>0</td>\n",
       "      <td>1</td>\n",
       "      <td>0.562709</td>\n",
       "      <td>0</td>\n",
       "      <td>0</td>\n",
       "      <td>1</td>\n",
       "      <td>0</td>\n",
       "    </tr>\n",
       "    <tr>\n",
       "      <th>2</th>\n",
       "      <td>0.304</td>\n",
       "      <td>0.324324</td>\n",
       "      <td>0.8</td>\n",
       "      <td>0.636357</td>\n",
       "      <td>0.666667</td>\n",
       "      <td>1</td>\n",
       "      <td>0</td>\n",
       "      <td>0.569654</td>\n",
       "      <td>1</td>\n",
       "      <td>0</td>\n",
       "      <td>0</td>\n",
       "      <td>0</td>\n",
       "    </tr>\n",
       "    <tr>\n",
       "      <th>3</th>\n",
       "      <td>0.698</td>\n",
       "      <td>0.283784</td>\n",
       "      <td>0.1</td>\n",
       "      <td>0.000000</td>\n",
       "      <td>0.333333</td>\n",
       "      <td>0</td>\n",
       "      <td>0</td>\n",
       "      <td>0.469120</td>\n",
       "      <td>0</td>\n",
       "      <td>0</td>\n",
       "      <td>0</td>\n",
       "      <td>0</td>\n",
       "    </tr>\n",
       "    <tr>\n",
       "      <th>4</th>\n",
       "      <td>1.000</td>\n",
       "      <td>0.337838</td>\n",
       "      <td>0.2</td>\n",
       "      <td>0.500246</td>\n",
       "      <td>0.000000</td>\n",
       "      <td>1</td>\n",
       "      <td>1</td>\n",
       "      <td>0.395400</td>\n",
       "      <td>0</td>\n",
       "      <td>0</td>\n",
       "      <td>1</td>\n",
       "      <td>0</td>\n",
       "    </tr>\n",
       "  </tbody>\n",
       "</table>\n",
       "</div>"
      ],
      "text/plain": [
       "   credit_score       age  tenure   balance  num_of_products  has_cr_card  \\\n",
       "0         0.538  0.324324     0.2  0.000000         0.000000            1   \n",
       "1         0.516  0.310811     0.1  0.334031         0.000000            0   \n",
       "2         0.304  0.324324     0.8  0.636357         0.666667            1   \n",
       "3         0.698  0.283784     0.1  0.000000         0.333333            0   \n",
       "4         1.000  0.337838     0.2  0.500246         0.000000            1   \n",
       "\n",
       "   is_active_member  estimated_salary  exited  geography_germany  \\\n",
       "0                 1          0.506735       1                  0   \n",
       "1                 1          0.562709       0                  0   \n",
       "2                 0          0.569654       1                  0   \n",
       "3                 0          0.469120       0                  0   \n",
       "4                 1          0.395400       0                  0   \n",
       "\n",
       "   geography_spain  gender_male  \n",
       "0                0            0  \n",
       "1                1            0  \n",
       "2                0            0  \n",
       "3                0            0  \n",
       "4                1            0  "
      ]
     },
     "execution_count": 16,
     "metadata": {},
     "output_type": "execute_result"
    }
   ],
   "source": [
    "df.head()"
   ]
  },
  {
   "cell_type": "markdown",
   "metadata": {},
   "source": [
    "## Подбор модели без столбца Tenure"
   ]
  },
  {
   "cell_type": "code",
   "execution_count": 17,
   "metadata": {},
   "outputs": [
    {
     "name": "stdout",
     "output_type": "stream",
     "text": [
      "ok\n"
     ]
    }
   ],
   "source": [
    "# выделяем целевой признак\n",
    "features = df.drop([\"exited\", \"tenure\"], axis=1)\n",
    "target = df[\"exited\"]\n",
    "# разбиваем выборку на 3 части, применяя стратификацию\n",
    "X_train, X_valid, y_train, y_valid = train_test_split(features, target, test_size=0.4, random_state=12345, stratify=target)\n",
    "X_valid, X_test, y_valid, y_test = train_test_split(X_valid, y_valid, test_size=0.5, random_state=12345, stratify=y_valid)\n",
    "print(\"ok\")\n"
   ]
  },
  {
   "cell_type": "markdown",
   "metadata": {},
   "source": [
    "### Логистическая регрессия"
   ]
  },
  {
   "cell_type": "code",
   "execution_count": 18,
   "metadata": {},
   "outputs": [
    {
     "name": "stdout",
     "output_type": "stream",
     "text": [
      "0.3054003724394786\n"
     ]
    }
   ],
   "source": [
    "model = LogisticRegression(random_state=12345, solver=\"liblinear\")\n",
    "# обучение\n",
    "model.fit(X_train, y_train)\n",
    "predictions = model.predict(X_valid)\n",
    "print(f1_score(y_valid, predictions))"
   ]
  },
  {
   "cell_type": "markdown",
   "metadata": {},
   "source": [
    "Слишком низкий показатель F1-меры. Очевидно, алгоритм логистической регрессии не подходит для нашей задачи. оптимизировать модель не вижу смысла."
   ]
  },
  {
   "cell_type": "code",
   "execution_count": 19,
   "metadata": {},
   "outputs": [],
   "source": [
    "# создаем список для результатов\n",
    "final_list = []"
   ]
  },
  {
   "cell_type": "markdown",
   "metadata": {},
   "source": [
    "### Дерево решений"
   ]
  },
  {
   "cell_type": "code",
   "execution_count": 20,
   "metadata": {},
   "outputs": [],
   "source": [
    "def tree_opt(depth_min, depth_max, weight=None, with_tenure=False):\n",
    "    \"\"\"функция перебирает значения глубины дерева решений и \n",
    "    возвращает модель с наибольшим значением f1,   \n",
    "    вывдя на дисплей данные по ней\"\"\"\n",
    "    result_list = [\"Decision Tree\"]\n",
    "    best_model = None\n",
    "    best_depth = 0\n",
    "    best_f1 = 0\n",
    "    for depth in range (depth_min, depth_max):\n",
    "        model = DecisionTreeClassifier(random_state=12345, max_depth=depth, class_weight=weight)\n",
    "        model.fit(X_train, y_train)\n",
    "        predictions = model.predict(X_valid)\n",
    "        f1 = f1_score(y_valid, predictions)\n",
    "        if f1 > best_f1:\n",
    "            best_f1 = f1\n",
    "            best_model = model\n",
    "            best_depth = depth\n",
    "    print(f\"f1 = {best_f1}, глубина = {best_depth}\")\n",
    "    probabilities = best_model.predict_proba(X_valid)\n",
    "    probabilities_one = probabilities[:, 1]\n",
    "    best_roc_auc = roc_auc_score(y_valid, probabilities_one)\n",
    "    print(f\"auc roc = {best_roc_auc}\")\n",
    "    result_list.append(with_tenure)\n",
    "    result_list.append(best_depth)\n",
    "    result_list.append(\"---------\")\n",
    "    result_list.append(best_f1)\n",
    "    result_list.append(best_roc_auc)\n",
    "    if weight:\n",
    "        result_list.append(weight)\n",
    "    else:\n",
    "        result_list.append(\"---------\")\n",
    "    result_list.append(\"---------\")\n",
    "    final_list.append(result_list)\n",
    "    return best_model"
   ]
  },
  {
   "cell_type": "code",
   "execution_count": 21,
   "metadata": {
    "scrolled": false
   },
   "outputs": [
    {
     "name": "stdout",
     "output_type": "stream",
     "text": [
      "f1 = 0.5939741750358679, глубина = 7\n",
      "auc roc = 0.8268186828751601\n",
      "CPU times: total: 2.09 s\n",
      "Wall time: 2.09 s\n"
     ]
    }
   ],
   "source": [
    "%%time\n",
    "best_tree = tree_opt(1, 100)"
   ]
  },
  {
   "cell_type": "markdown",
   "metadata": {},
   "source": [
    "Лучший результат получен при глубине равной 7/ Значение f1 немного выше заданного порога. посмотрим, как модель отреагирует на балансировку классов."
   ]
  },
  {
   "cell_type": "code",
   "execution_count": 22,
   "metadata": {
    "scrolled": false
   },
   "outputs": [
    {
     "name": "stdout",
     "output_type": "stream",
     "text": [
      "f1 = 0.5753931544865865, глубина = 6\n",
      "auc roc = 0.8235925337471672\n",
      "CPU times: total: 2.91 s\n",
      "Wall time: 2.9 s\n"
     ]
    }
   ],
   "source": [
    "%%time\n",
    "best_tree_balanced = tree_opt(1, 100, \"balanced\")"
   ]
  },
  {
   "cell_type": "markdown",
   "metadata": {},
   "source": [
    "значение f1 уменьшилось"
   ]
  },
  {
   "cell_type": "markdown",
   "metadata": {},
   "source": [
    "### Случайный лес"
   ]
  },
  {
   "cell_type": "code",
   "execution_count": 23,
   "metadata": {},
   "outputs": [],
   "source": [
    "# лес\n",
    "def forest_opt(est_min, est_max, step, depth_min, depth_max, weight=None, with_tenure=False):\n",
    "    \"\"\"функция  получает на вход минимальные и максимальные значения количества \n",
    "    и глубины деревьев случайного леса, и возвращает модель с наибольшим значением f1,\n",
    "    и выводит на дисплей данные по ней\"\"\"\n",
    "    result_list = [\"Random Forest\"]\n",
    "    best_f1 = 0\n",
    "    best_model = None\n",
    "    best_est = 0\n",
    "    best_depth = 0\n",
    "    for est in range(est_min, est_max, step):\n",
    "        for depth in range(depth_min, depth_max):\n",
    "            model = RandomForestClassifier(random_state=12345,max_depth=depth, n_estimators=est, class_weight=weight)\n",
    "            model.fit(X_train, y_train)\n",
    "            predictions = model.predict(X_valid)\n",
    "            f1 = f1_score(y_valid, predictions)\n",
    "            if f1 > best_f1:\n",
    "                best_f1 = f1\n",
    "                best_model = model\n",
    "                best_est = est\n",
    "                best_depth = depth\n",
    "            \n",
    "    print(f\"f1 {best_f1}, кол-во деревьев {best_est}, глубина {best_depth}\")\n",
    "    probabilities = best_model.predict_proba(X_valid)\n",
    "    probabilities_one = probabilities[:, 1]\n",
    "    best_roc_auc = roc_auc_score(y_valid, probabilities_one)\n",
    "    print(f\"auc roc = {best_roc_auc}\")\n",
    "    result_list.append(with_tenure)\n",
    "    result_list.append(best_depth)\n",
    "    result_list.append(best_est)\n",
    "    result_list.append(best_f1)\n",
    "    result_list.append(best_roc_auc)\n",
    "    if weight:\n",
    "        result_list.append(weight)\n",
    "    else:\n",
    "        result_list.append(\"---------\")\n",
    "    result_list.append(\"---------\")\n",
    "    final_list.append(result_list)\n",
    "    return best_model"
   ]
  },
  {
   "cell_type": "code",
   "execution_count": 24,
   "metadata": {},
   "outputs": [
    {
     "name": "stdout",
     "output_type": "stream",
     "text": [
      "f1 0.6244477172312224, кол-во деревьев 61, глубина 13\n",
      "auc roc = 0.8611447248497389\n",
      "CPU times: total: 48.7 s\n",
      "Wall time: 48.9 s\n"
     ]
    }
   ],
   "source": [
    "%%time\n",
    "best_forest = forest_opt(1, 101, 10, 1, 20)"
   ]
  },
  {
   "cell_type": "markdown",
   "metadata": {},
   "source": [
    "Мы получили достаточно высокое значение f1. Попытаемся улучшить модель. сузим диапазон и уменьшим шаг для количества деревьев"
   ]
  },
  {
   "cell_type": "code",
   "execution_count": 25,
   "metadata": {},
   "outputs": [
    {
     "name": "stdout",
     "output_type": "stream",
     "text": [
      "f1 0.629575402635432, кол-во деревьев 65, глубина 13\n",
      "auc roc = 0.861322544093014\n",
      "CPU times: total: 29.9 s\n",
      "Wall time: 30 s\n"
     ]
    }
   ],
   "source": [
    "%%time\n",
    "best_forest = forest_opt(52, 70, 1, 11, 15)\n"
   ]
  },
  {
   "cell_type": "markdown",
   "metadata": {},
   "source": [
    "Метрика еще немного увеличилась"
   ]
  },
  {
   "cell_type": "markdown",
   "metadata": {},
   "source": [
    "### Борьба с дисбалансом "
   ]
  },
  {
   "cell_type": "markdown",
   "metadata": {},
   "source": [
    "сбалансируем классы"
   ]
  },
  {
   "cell_type": "code",
   "execution_count": 27,
   "metadata": {
    "scrolled": true
   },
   "outputs": [
    {
     "name": "stdout",
     "output_type": "stream",
     "text": [
      "f1 0.6510067114093959, кол-во деревьев 63, глубина 8\n",
      "auc roc = 0.8712627167701251\n",
      "CPU times: total: 20.8 s\n",
      "Wall time: 20.9 s\n"
     ]
    }
   ],
   "source": [
    "%%time\n",
    "best_forest_balanced = forest_opt(52, 70, 1, 6, 10, \"balanced\")"
   ]
  },
  {
   "cell_type": "markdown",
   "metadata": {},
   "source": [
    "Снова наблюдается рост целевой метрики качества. значение roc-auc так же возрасло.\n",
    "Подберем порог для несбалансированной модели"
   ]
  },
  {
   "cell_type": "code",
   "execution_count": 28,
   "metadata": {},
   "outputs": [],
   "source": [
    "def best_forest_threshold(forest, with_tenure=False):\n",
    "    \"\"\"функция принимает на вход обученную модель и возвращает значения \n",
    "    метрик качества при разных порогах, а так же лучшие показатели f1\"\"\"\n",
    "    result_list = [\"Random Forest\"]\n",
    "    probabilities = forest.predict_proba(X_valid)\n",
    "    probabilities_one = probabilities[:, 1]\n",
    "    best_roc_auc = roc_auc_score(y_valid, probabilities_one)\n",
    "    best_f1 = 0\n",
    "    best_threshold = 0\n",
    "    for threshold in np.arange(0, 1, 0.1):\n",
    "        predictions = probabilities_one > threshold\n",
    "        precision = precision_score(y_valid, predictions)\n",
    "        recall = recall_score(y_valid, predictions)\n",
    "        f1 = f1_score(y_valid, predictions)\n",
    "        if f1 > best_f1:\n",
    "            best_f1 = f1\n",
    "            best_threshold = threshold\n",
    "        print(\"Порог = {:.2f} | Точность = {:.3f}, Полнота = {:.3f}, f1 = {:.5f}\".format(threshold, precision, recall, f1))\n",
    "    print(\"лучший порог:\", best_threshold, \"лучшее значение f1:\", best_f1)\n",
    "    print(f\"auc roc = {best_roc_auc}\")\n",
    "    result_list.append(with_tenure)\n",
    "    result_list.append(forest.max_depth)\n",
    "    result_list.append(forest.n_estimators)\n",
    "    result_list.append(best_f1)\n",
    "    result_list.append(best_roc_auc)\n",
    "    result_list.append(\"---------\")\n",
    "    result_list.append(best_threshold)\n",
    "    final_list.append(result_list)\n",
    "    print(result_list)\n",
    "    \n",
    "    "
   ]
  },
  {
   "cell_type": "code",
   "execution_count": 29,
   "metadata": {
    "scrolled": false
   },
   "outputs": [
    {
     "name": "stdout",
     "output_type": "stream",
     "text": [
      "Порог = 0.00 | Точность = 0.204, Полнота = 1.000, f1 = 0.33887\n",
      "Порог = 0.20 | Точность = 0.483, Полнота = 0.767, f1 = 0.59280\n",
      "Порог = 0.40 | Точность = 0.699, Полнота = 0.591, f1 = 0.64011\n",
      "Порог = 0.60 | Точность = 0.833, Полнота = 0.429, f1 = 0.56634\n",
      "Порог = 0.80 | Точность = 0.880, Полнота = 0.270, f1 = 0.41276\n",
      "лучший порог: 0.4 лучшее значение f1: 0.6401062416998673\n",
      "auc roc = 0.861322544093014\n",
      "['Random Forest', False, 13, 65, 0.6401062416998673, 0.861322544093014, '---------', 0.4]\n",
      "CPU times: total: 31.2 ms\n",
      "Wall time: 29.4 ms\n"
     ]
    }
   ],
   "source": [
    "%%time\n",
    "best_forest_threshold(best_forest)"
   ]
  },
  {
   "cell_type": "markdown",
   "metadata": {},
   "source": [
    "### Вывод"
   ]
  },
  {
   "cell_type": "markdown",
   "metadata": {},
   "source": [
    "Для лучшей модели случайного леса с несбалансированными классами найден порог при котором значение метрики качества достигает достаточно высокого значения, но более сильного эффекта мы добились при балансировке классов. "
   ]
  },
  {
   "cell_type": "markdown",
   "metadata": {},
   "source": [
    "## Подбор модели без строк с пропусками"
   ]
  },
  {
   "cell_type": "markdown",
   "metadata": {},
   "source": [
    "Проделаем все те же манипуляции для выборки без строк с пропусками"
   ]
  },
  {
   "cell_type": "code",
   "execution_count": 30,
   "metadata": {},
   "outputs": [
    {
     "data": {
      "text/plain": [
       "(9091, 12)"
      ]
     },
     "execution_count": 30,
     "metadata": {},
     "output_type": "execute_result"
    }
   ],
   "source": [
    "# удаляем строки с пропусками\n",
    "df_drop_rows = df.dropna()\n",
    "df_drop_rows.shape"
   ]
  },
  {
   "cell_type": "code",
   "execution_count": 31,
   "metadata": {},
   "outputs": [
    {
     "name": "stdout",
     "output_type": "stream",
     "text": [
      "ok\n"
     ]
    }
   ],
   "source": [
    "# деление на выборки\n",
    "features = df_drop_rows.drop(\"exited\", axis=1)\n",
    "target = df_drop_rows[\"exited\"]\n",
    "X_train, X_valid, y_train, y_valid = train_test_split(features, target, test_size=0.4, random_state=12345, stratify=target)\n",
    "X_valid, X_test_t, y_valid, y_test_t = train_test_split(X_valid, y_valid, test_size=0.5, random_state=12345, stratify=y_valid)\n",
    "\n",
    "print(\"ok\")"
   ]
  },
  {
   "cell_type": "markdown",
   "metadata": {},
   "source": [
    "### Логистическая регрессия"
   ]
  },
  {
   "cell_type": "code",
   "execution_count": 32,
   "metadata": {},
   "outputs": [
    {
     "name": "stdout",
     "output_type": "stream",
     "text": [
      "f1 0.3073770491803279\n"
     ]
    }
   ],
   "source": [
    "model = LogisticRegression(random_state=12345, solver=\"liblinear\")\n",
    "model.fit(X_train, y_train).get_params()\n",
    "predictions = model.predict(X_valid)\n",
    "print(\"f1\", f1_score(y_valid, predictions))"
   ]
  },
  {
   "cell_type": "markdown",
   "metadata": {},
   "source": [
    "слишком низкое значение, дальнейшая оптимизация бессмысленна"
   ]
  },
  {
   "cell_type": "markdown",
   "metadata": {},
   "source": [
    "### Дерево решений"
   ]
  },
  {
   "cell_type": "code",
   "execution_count": 33,
   "metadata": {},
   "outputs": [
    {
     "name": "stdout",
     "output_type": "stream",
     "text": [
      "f1 = 0.5815126050420169, глубина = 7\n",
      "auc roc = 0.8245379882534177\n"
     ]
    }
   ],
   "source": [
    "best_tree_drop_rows = tree_opt(1, 20, None, True)"
   ]
  },
  {
   "cell_type": "code",
   "execution_count": 34,
   "metadata": {
    "scrolled": true
   },
   "outputs": [
    {
     "name": "stdout",
     "output_type": "stream",
     "text": [
      "f1 = 0.583084577114428, глубина = 6\n",
      "auc roc = 0.8353643657199484\n"
     ]
    }
   ],
   "source": [
    "# дерево со сбалансированными классами\n",
    "best_tree_drop_rows_balanced = tree_opt(1, 20, \"balanced\", True)"
   ]
  },
  {
   "cell_type": "markdown",
   "metadata": {},
   "source": [
    "балансировка классов немного увеличивает значения основных метрик качества"
   ]
  },
  {
   "cell_type": "markdown",
   "metadata": {},
   "source": [
    "### Случайный лес"
   ]
  },
  {
   "cell_type": "code",
   "execution_count": 35,
   "metadata": {},
   "outputs": [
    {
     "name": "stdout",
     "output_type": "stream",
     "text": [
      "f1 0.6256077795786061, кол-во деревьев 51, глубина 19\n",
      "auc roc = 0.8659816666883988\n"
     ]
    }
   ],
   "source": [
    "best_forest_drop_rows = forest_opt(1, 101, 10, 1, 20, None, True)"
   ]
  },
  {
   "cell_type": "code",
   "execution_count": 36,
   "metadata": {
    "scrolled": true
   },
   "outputs": [
    {
     "name": "stdout",
     "output_type": "stream",
     "text": [
      "f1 0.6258064516129033, кол-во деревьев 55, глубина 19\n",
      "auc roc = 0.8670713829337398\n"
     ]
    }
   ],
   "source": [
    "# уменьшаем диапазон и шаг кол-ва деревьев\n",
    "best_forestdrop_rows = forest_opt(42, 60, 1, 17, 22, None, True)"
   ]
  },
  {
   "cell_type": "markdown",
   "metadata": {},
   "source": [
    "для второй выборки все значения метрик качества ниже, чем для первой"
   ]
  },
  {
   "cell_type": "markdown",
   "metadata": {},
   "source": [
    "### Борьба с дисбалансом 2"
   ]
  },
  {
   "cell_type": "code",
   "execution_count": 38,
   "metadata": {},
   "outputs": [
    {
     "name": "stdout",
     "output_type": "stream",
     "text": [
      "f1 0.6420382165605096, кол-во деревьев 63, глубина 9\n",
      "auc roc = 0.8744926299789322\n"
     ]
    }
   ],
   "source": [
    "# балансируем классы\n",
    "best_forest_drop_rows_balanced = forest_opt(30, 60, 1, 7, 11, \"balanced\", True)"
   ]
  },
  {
   "cell_type": "code",
   "execution_count": 39,
   "metadata": {
    "scrolled": false
   },
   "outputs": [
    {
     "name": "stdout",
     "output_type": "stream",
     "text": [
      "Порог = 0.00 | Точность = 0.220, Полнота = 0.997, f1 = 0.36010\n",
      "Порог = 0.20 | Точность = 0.464, Полнота = 0.792, f1 = 0.58507\n",
      "Порог = 0.40 | Точность = 0.686, Полнота = 0.606, f1 = 0.64378\n",
      "Порог = 0.60 | Точность = 0.850, Полнота = 0.412, f1 = 0.55535\n",
      "Порог = 0.80 | Точность = 0.926, Полнота = 0.202, f1 = 0.33186\n",
      "лучший порог: 0.4 лучшее значение f1: 0.6437768240343348\n",
      "auc roc = 0.8659816666883988\n",
      "['Random Forest', True, 19, 51, 0.6437768240343348, 0.8659816666883988, '---------', 0.4]\n"
     ]
    }
   ],
   "source": [
    "# оптимизация подбором порога\n",
    "best_forest_threshold(best_forest_drop_rows, True)"
   ]
  },
  {
   "cell_type": "markdown",
   "metadata": {},
   "source": [
    "значение f1 для случайного леса при сбалансированных классах совсем немного выше, чем значение при оптимальном пороге"
   ]
  },
  {
   "cell_type": "code",
   "execution_count": 40,
   "metadata": {},
   "outputs": [
    {
     "data": {
      "text/html": [
       "<div>\n",
       "<style scoped>\n",
       "    .dataframe tbody tr th:only-of-type {\n",
       "        vertical-align: middle;\n",
       "    }\n",
       "\n",
       "    .dataframe tbody tr th {\n",
       "        vertical-align: top;\n",
       "    }\n",
       "\n",
       "    .dataframe thead th {\n",
       "        text-align: right;\n",
       "    }\n",
       "</style>\n",
       "<table border=\"1\" class=\"dataframe\">\n",
       "  <thead>\n",
       "    <tr style=\"text-align: right;\">\n",
       "      <th></th>\n",
       "      <th>model_name</th>\n",
       "      <th>with_tenure</th>\n",
       "      <th>depth</th>\n",
       "      <th>n_estimators</th>\n",
       "      <th>f1</th>\n",
       "      <th>roc_auc</th>\n",
       "      <th>weight</th>\n",
       "      <th>threshold</th>\n",
       "    </tr>\n",
       "  </thead>\n",
       "  <tbody>\n",
       "    <tr>\n",
       "      <th>5</th>\n",
       "      <td>Random Forest</td>\n",
       "      <td>False</td>\n",
       "      <td>8</td>\n",
       "      <td>63</td>\n",
       "      <td>0.651007</td>\n",
       "      <td>0.871263</td>\n",
       "      <td>balanced</td>\n",
       "      <td>---------</td>\n",
       "    </tr>\n",
       "    <tr>\n",
       "      <th>4</th>\n",
       "      <td>Random Forest</td>\n",
       "      <td>False</td>\n",
       "      <td>8</td>\n",
       "      <td>81</td>\n",
       "      <td>0.650954</td>\n",
       "      <td>0.872085</td>\n",
       "      <td>balanced</td>\n",
       "      <td>---------</td>\n",
       "    </tr>\n",
       "    <tr>\n",
       "      <th>11</th>\n",
       "      <td>Random Forest</td>\n",
       "      <td>True</td>\n",
       "      <td>9</td>\n",
       "      <td>41</td>\n",
       "      <td>0.648030</td>\n",
       "      <td>0.872162</td>\n",
       "      <td>balanced</td>\n",
       "      <td>---------</td>\n",
       "    </tr>\n",
       "    <tr>\n",
       "      <th>13</th>\n",
       "      <td>Random Forest</td>\n",
       "      <td>True</td>\n",
       "      <td>19</td>\n",
       "      <td>51</td>\n",
       "      <td>0.643777</td>\n",
       "      <td>0.865982</td>\n",
       "      <td>---------</td>\n",
       "      <td>0.4</td>\n",
       "    </tr>\n",
       "    <tr>\n",
       "      <th>12</th>\n",
       "      <td>Random Forest</td>\n",
       "      <td>True</td>\n",
       "      <td>9</td>\n",
       "      <td>63</td>\n",
       "      <td>0.642038</td>\n",
       "      <td>0.874493</td>\n",
       "      <td>balanced</td>\n",
       "      <td>---------</td>\n",
       "    </tr>\n",
       "    <tr>\n",
       "      <th>6</th>\n",
       "      <td>Random Forest</td>\n",
       "      <td>False</td>\n",
       "      <td>13</td>\n",
       "      <td>65</td>\n",
       "      <td>0.640106</td>\n",
       "      <td>0.861323</td>\n",
       "      <td>---------</td>\n",
       "      <td>0.4</td>\n",
       "    </tr>\n",
       "    <tr>\n",
       "      <th>3</th>\n",
       "      <td>Random Forest</td>\n",
       "      <td>False</td>\n",
       "      <td>13</td>\n",
       "      <td>65</td>\n",
       "      <td>0.629575</td>\n",
       "      <td>0.861323</td>\n",
       "      <td>---------</td>\n",
       "      <td>---------</td>\n",
       "    </tr>\n",
       "    <tr>\n",
       "      <th>10</th>\n",
       "      <td>Random Forest</td>\n",
       "      <td>True</td>\n",
       "      <td>19</td>\n",
       "      <td>55</td>\n",
       "      <td>0.625806</td>\n",
       "      <td>0.867071</td>\n",
       "      <td>---------</td>\n",
       "      <td>---------</td>\n",
       "    </tr>\n",
       "    <tr>\n",
       "      <th>9</th>\n",
       "      <td>Random Forest</td>\n",
       "      <td>True</td>\n",
       "      <td>19</td>\n",
       "      <td>51</td>\n",
       "      <td>0.625608</td>\n",
       "      <td>0.865982</td>\n",
       "      <td>---------</td>\n",
       "      <td>---------</td>\n",
       "    </tr>\n",
       "    <tr>\n",
       "      <th>2</th>\n",
       "      <td>Random Forest</td>\n",
       "      <td>False</td>\n",
       "      <td>13</td>\n",
       "      <td>61</td>\n",
       "      <td>0.624448</td>\n",
       "      <td>0.861145</td>\n",
       "      <td>---------</td>\n",
       "      <td>---------</td>\n",
       "    </tr>\n",
       "    <tr>\n",
       "      <th>0</th>\n",
       "      <td>Decision Tree</td>\n",
       "      <td>False</td>\n",
       "      <td>7</td>\n",
       "      <td>---------</td>\n",
       "      <td>0.593974</td>\n",
       "      <td>0.826819</td>\n",
       "      <td>---------</td>\n",
       "      <td>---------</td>\n",
       "    </tr>\n",
       "    <tr>\n",
       "      <th>8</th>\n",
       "      <td>Decision Tree</td>\n",
       "      <td>True</td>\n",
       "      <td>6</td>\n",
       "      <td>---------</td>\n",
       "      <td>0.583085</td>\n",
       "      <td>0.835364</td>\n",
       "      <td>balanced</td>\n",
       "      <td>---------</td>\n",
       "    </tr>\n",
       "    <tr>\n",
       "      <th>7</th>\n",
       "      <td>Decision Tree</td>\n",
       "      <td>True</td>\n",
       "      <td>7</td>\n",
       "      <td>---------</td>\n",
       "      <td>0.581513</td>\n",
       "      <td>0.824538</td>\n",
       "      <td>---------</td>\n",
       "      <td>---------</td>\n",
       "    </tr>\n",
       "    <tr>\n",
       "      <th>1</th>\n",
       "      <td>Decision Tree</td>\n",
       "      <td>False</td>\n",
       "      <td>6</td>\n",
       "      <td>---------</td>\n",
       "      <td>0.575393</td>\n",
       "      <td>0.823593</td>\n",
       "      <td>balanced</td>\n",
       "      <td>---------</td>\n",
       "    </tr>\n",
       "  </tbody>\n",
       "</table>\n",
       "</div>"
      ],
      "text/plain": [
       "       model_name  with_tenure  depth n_estimators        f1   roc_auc  \\\n",
       "5   Random Forest        False      8           63  0.651007  0.871263   \n",
       "4   Random Forest        False      8           81  0.650954  0.872085   \n",
       "11  Random Forest         True      9           41  0.648030  0.872162   \n",
       "13  Random Forest         True     19           51  0.643777  0.865982   \n",
       "12  Random Forest         True      9           63  0.642038  0.874493   \n",
       "6   Random Forest        False     13           65  0.640106  0.861323   \n",
       "3   Random Forest        False     13           65  0.629575  0.861323   \n",
       "10  Random Forest         True     19           55  0.625806  0.867071   \n",
       "9   Random Forest         True     19           51  0.625608  0.865982   \n",
       "2   Random Forest        False     13           61  0.624448  0.861145   \n",
       "0   Decision Tree        False      7    ---------  0.593974  0.826819   \n",
       "8   Decision Tree         True      6    ---------  0.583085  0.835364   \n",
       "7   Decision Tree         True      7    ---------  0.581513  0.824538   \n",
       "1   Decision Tree        False      6    ---------  0.575393  0.823593   \n",
       "\n",
       "       weight  threshold  \n",
       "5    balanced  ---------  \n",
       "4    balanced  ---------  \n",
       "11   balanced  ---------  \n",
       "13  ---------        0.4  \n",
       "12   balanced  ---------  \n",
       "6   ---------        0.4  \n",
       "3   ---------  ---------  \n",
       "10  ---------  ---------  \n",
       "9   ---------  ---------  \n",
       "2   ---------  ---------  \n",
       "0   ---------  ---------  \n",
       "8    balanced  ---------  \n",
       "7   ---------  ---------  \n",
       "1    balanced  ---------  "
      ]
     },
     "execution_count": 40,
     "metadata": {},
     "output_type": "execute_result"
    }
   ],
   "source": [
    "# результаты\n",
    "fl = pd.DataFrame(final_list, columns=[\"model_name\", \n",
    "                                       \"with_tenure\", \n",
    "                                       \"depth\", \n",
    "                                       \"n_estimators\", \n",
    "                                       \"f1\", \n",
    "                                       \"roc_auc\", \n",
    "                                       \"weight\", \n",
    "                                       \"threshold\"])\n",
    "fl.sort_values(\"f1\", ascending=False)"
   ]
  },
  {
   "cell_type": "markdown",
   "metadata": {},
   "source": [
    "### Тестирование лучшей модели"
   ]
  },
  {
   "cell_type": "code",
   "execution_count": 42,
   "metadata": {},
   "outputs": [
    {
     "name": "stdout",
     "output_type": "stream",
     "text": [
      "0.6112359550561798\n"
     ]
    }
   ],
   "source": [
    "# проверяем лучшую модель на тестовой выборке\n",
    "predictions = best_forest_balanced.predict(X_test)\n",
    "print(f1_score(y_test, predictions))"
   ]
  },
  {
   "cell_type": "code",
   "execution_count": 41,
   "metadata": {
    "scrolled": false
   },
   "outputs": [
    {
     "name": "stdout",
     "output_type": "stream",
     "text": [
      "0.5978835978835979\n"
     ]
    }
   ],
   "source": [
    "# проверяем лучшую модель для выборки со столбцом tenure\n",
    "predictions = best_forest_drop_rows_balanced.predict(X_test_t)\n",
    "print(f1_score(y_test_t, predictions))"
   ]
  },
  {
   "cell_type": "markdown",
   "metadata": {},
   "source": [
    "## ВЫВОД"
   ]
  },
  {
   "cell_type": "markdown",
   "metadata": {},
   "source": [
    "Было проведено исследование на предмет поиска наиболее подходящей модели машинного обучения. В ходе исследования было протестировано 3 различных типа моделей на двух выборках. Наибольшее значение метрики F1, было получено на выборке без признака $tenure$ при помощи модели $RandomForestClassifier$ оптимизированной путем подбора гиперпараметров: глубины и количества деревьев, а так же балансировки классов. Подбор порога так же дал неплохие, но меньшие результаты. Метрика $AUC-ROC$ возрастала по мере возрастания $F1$.  \n",
    "\n",
    "Необходимое значение $F1$ основной метрики качества было достигнуто."
   ]
  },
  {
   "cell_type": "code",
   "execution_count": null,
   "metadata": {},
   "outputs": [],
   "source": []
  }
 ],
 "metadata": {
  "ExecuteTimeLog": [
   {
    "duration": 1596,
    "start_time": "2022-06-24T11:14:02.043Z"
   },
   {
    "duration": 112,
    "start_time": "2022-06-24T11:17:37.787Z"
   },
   {
    "duration": 81,
    "start_time": "2022-06-24T11:17:54.326Z"
   },
   {
    "duration": 101,
    "start_time": "2022-06-24T11:19:54.287Z"
   },
   {
    "duration": 9,
    "start_time": "2022-06-24T11:20:05.638Z"
   },
   {
    "duration": 13,
    "start_time": "2022-06-24T11:20:43.335Z"
   },
   {
    "duration": 12,
    "start_time": "2022-06-24T11:21:03.852Z"
   },
   {
    "duration": 49,
    "start_time": "2022-06-24T11:53:41.125Z"
   },
   {
    "duration": 101,
    "start_time": "2022-06-24T11:53:46.494Z"
   },
   {
    "duration": 5,
    "start_time": "2022-06-24T11:54:32.823Z"
   },
   {
    "duration": 5,
    "start_time": "2022-06-24T11:55:28.075Z"
   },
   {
    "duration": 4,
    "start_time": "2022-06-24T11:55:38.908Z"
   },
   {
    "duration": 91,
    "start_time": "2022-06-24T11:55:38.915Z"
   },
   {
    "duration": 7,
    "start_time": "2022-06-24T11:55:39.009Z"
   },
   {
    "duration": 4,
    "start_time": "2022-06-24T11:56:42.375Z"
   },
   {
    "duration": 7,
    "start_time": "2022-06-24T11:57:46.878Z"
   },
   {
    "duration": 6,
    "start_time": "2022-06-24T11:57:53.294Z"
   },
   {
    "duration": 6,
    "start_time": "2022-06-24T11:57:58.939Z"
   },
   {
    "duration": 6,
    "start_time": "2022-06-24T11:59:05.410Z"
   },
   {
    "duration": 6,
    "start_time": "2022-06-24T12:00:16.444Z"
   },
   {
    "duration": 8,
    "start_time": "2022-06-24T12:00:57.516Z"
   },
   {
    "duration": 4,
    "start_time": "2022-06-24T12:01:37.286Z"
   },
   {
    "duration": 89,
    "start_time": "2022-06-24T12:01:37.310Z"
   },
   {
    "duration": 7,
    "start_time": "2022-06-24T12:01:37.401Z"
   },
   {
    "duration": 7,
    "start_time": "2022-06-24T12:03:55.083Z"
   },
   {
    "duration": 7,
    "start_time": "2022-06-24T12:04:01.333Z"
   },
   {
    "duration": 5,
    "start_time": "2022-06-24T12:04:35.107Z"
   },
   {
    "duration": 14,
    "start_time": "2022-06-24T12:05:06.203Z"
   },
   {
    "duration": 21,
    "start_time": "2022-06-24T12:10:26.995Z"
   },
   {
    "duration": 42,
    "start_time": "2022-06-24T12:10:43.281Z"
   },
   {
    "duration": 22,
    "start_time": "2022-06-24T12:11:38.981Z"
   },
   {
    "duration": 35,
    "start_time": "2022-06-24T12:12:15.148Z"
   },
   {
    "duration": 19,
    "start_time": "2022-06-24T12:15:12.165Z"
   },
   {
    "duration": 19,
    "start_time": "2022-06-24T12:22:52.457Z"
   },
   {
    "duration": 4,
    "start_time": "2022-06-24T12:23:10.391Z"
   },
   {
    "duration": 147,
    "start_time": "2022-06-24T12:23:10.397Z"
   },
   {
    "duration": 13,
    "start_time": "2022-06-24T12:23:10.546Z"
   },
   {
    "duration": 25,
    "start_time": "2022-06-24T12:23:10.561Z"
   },
   {
    "duration": 5,
    "start_time": "2022-06-24T12:23:56.726Z"
   },
   {
    "duration": 15,
    "start_time": "2022-06-24T12:24:05.640Z"
   },
   {
    "duration": 4,
    "start_time": "2022-06-24T12:24:10.130Z"
   },
   {
    "duration": 125,
    "start_time": "2022-06-24T12:24:10.136Z"
   },
   {
    "duration": 22,
    "start_time": "2022-06-24T12:24:10.264Z"
   },
   {
    "duration": 39,
    "start_time": "2022-06-24T12:24:10.288Z"
   },
   {
    "duration": 16,
    "start_time": "2022-06-24T12:27:28.387Z"
   },
   {
    "duration": 23,
    "start_time": "2022-06-24T12:27:39.884Z"
   },
   {
    "duration": 9,
    "start_time": "2022-06-24T12:27:53.470Z"
   },
   {
    "duration": 4,
    "start_time": "2022-06-24T12:28:39.844Z"
   },
   {
    "duration": 6,
    "start_time": "2022-06-24T12:29:00.279Z"
   },
   {
    "duration": 12,
    "start_time": "2022-06-24T12:38:01.893Z"
   },
   {
    "duration": 33,
    "start_time": "2022-06-24T12:38:25.355Z"
   },
   {
    "duration": 7,
    "start_time": "2022-06-24T12:53:08.834Z"
   },
   {
    "duration": 5,
    "start_time": "2022-06-24T12:53:47.903Z"
   },
   {
    "duration": 5,
    "start_time": "2022-06-24T12:53:56.405Z"
   },
   {
    "duration": 7,
    "start_time": "2022-06-24T12:55:58.082Z"
   },
   {
    "duration": 10,
    "start_time": "2022-06-24T12:56:51.453Z"
   },
   {
    "duration": 12,
    "start_time": "2022-06-24T12:57:01.200Z"
   },
   {
    "duration": 14,
    "start_time": "2022-06-24T14:39:20.494Z"
   },
   {
    "duration": 5,
    "start_time": "2022-06-24T14:39:25.019Z"
   },
   {
    "duration": 111,
    "start_time": "2022-06-24T14:39:25.048Z"
   },
   {
    "duration": 16,
    "start_time": "2022-06-24T14:39:25.161Z"
   },
   {
    "duration": 24,
    "start_time": "2022-06-24T14:39:25.179Z"
   },
   {
    "duration": 32,
    "start_time": "2022-06-24T14:39:25.205Z"
   },
   {
    "duration": 12,
    "start_time": "2022-06-24T14:39:25.240Z"
   },
   {
    "duration": 14,
    "start_time": "2022-06-24T14:39:25.254Z"
   },
   {
    "duration": 56,
    "start_time": "2022-06-24T14:39:25.270Z"
   },
   {
    "duration": 12,
    "start_time": "2022-06-24T14:39:25.328Z"
   },
   {
    "duration": 6,
    "start_time": "2022-06-24T14:39:25.342Z"
   },
   {
    "duration": 8,
    "start_time": "2022-06-24T14:39:25.349Z"
   },
   {
    "duration": 14,
    "start_time": "2022-06-24T14:39:25.358Z"
   },
   {
    "duration": 20,
    "start_time": "2022-06-24T14:39:44.390Z"
   },
   {
    "duration": 29,
    "start_time": "2022-06-24T14:40:00.163Z"
   },
   {
    "duration": 33,
    "start_time": "2022-06-24T14:40:07.716Z"
   },
   {
    "duration": 9,
    "start_time": "2022-06-24T14:41:16.325Z"
   },
   {
    "duration": 12,
    "start_time": "2022-06-24T14:41:34.766Z"
   },
   {
    "duration": 18,
    "start_time": "2022-06-24T14:44:38.501Z"
   },
   {
    "duration": 10,
    "start_time": "2022-06-24T14:49:49.159Z"
   },
   {
    "duration": 8,
    "start_time": "2022-06-24T14:49:58.343Z"
   },
   {
    "duration": 8,
    "start_time": "2022-06-24T14:50:36.196Z"
   },
   {
    "duration": 3,
    "start_time": "2022-06-24T14:50:40.197Z"
   },
   {
    "duration": 106,
    "start_time": "2022-06-24T14:50:40.202Z"
   },
   {
    "duration": 17,
    "start_time": "2022-06-24T14:50:40.309Z"
   },
   {
    "duration": 25,
    "start_time": "2022-06-24T14:50:40.330Z"
   },
   {
    "duration": 8,
    "start_time": "2022-06-24T14:50:40.356Z"
   },
   {
    "duration": 7,
    "start_time": "2022-06-24T14:50:40.366Z"
   },
   {
    "duration": 11,
    "start_time": "2022-06-24T14:50:40.374Z"
   },
   {
    "duration": 10,
    "start_time": "2022-06-24T14:50:40.386Z"
   },
   {
    "duration": 53,
    "start_time": "2022-06-24T14:50:40.398Z"
   },
   {
    "duration": 5,
    "start_time": "2022-06-24T14:50:40.453Z"
   },
   {
    "duration": 7,
    "start_time": "2022-06-24T14:50:40.459Z"
   },
   {
    "duration": 12,
    "start_time": "2022-06-24T14:50:40.468Z"
   },
   {
    "duration": 19,
    "start_time": "2022-06-24T14:50:40.482Z"
   },
   {
    "duration": 25,
    "start_time": "2022-06-24T14:50:40.503Z"
   },
   {
    "duration": 14,
    "start_time": "2022-06-24T14:52:25.340Z"
   },
   {
    "duration": 0,
    "start_time": "2022-06-24T14:54:37.514Z"
   },
   {
    "duration": 0,
    "start_time": "2022-06-24T14:54:37.515Z"
   },
   {
    "duration": 291,
    "start_time": "2022-06-24T14:57:19.416Z"
   },
   {
    "duration": 428,
    "start_time": "2022-06-24T15:01:13.527Z"
   },
   {
    "duration": 129,
    "start_time": "2022-06-24T15:01:34.942Z"
   },
   {
    "duration": 356,
    "start_time": "2022-06-24T15:02:28.686Z"
   },
   {
    "duration": 153,
    "start_time": "2022-06-24T15:02:53.136Z"
   },
   {
    "duration": 194,
    "start_time": "2022-06-24T15:04:00.423Z"
   },
   {
    "duration": 22,
    "start_time": "2022-06-24T15:04:18.419Z"
   },
   {
    "duration": 142,
    "start_time": "2022-06-24T15:09:30.045Z"
   },
   {
    "duration": 126,
    "start_time": "2022-06-24T15:25:38.940Z"
   },
   {
    "duration": 17,
    "start_time": "2022-06-24T15:25:47.775Z"
   },
   {
    "duration": 18,
    "start_time": "2022-06-24T15:26:12.143Z"
   },
   {
    "duration": 38,
    "start_time": "2022-06-24T15:26:22.704Z"
   },
   {
    "duration": 49,
    "start_time": "2022-06-24T15:27:09.515Z"
   },
   {
    "duration": 70,
    "start_time": "2022-06-24T15:27:19.956Z"
   },
   {
    "duration": 728,
    "start_time": "2022-06-24T15:30:36.594Z"
   },
   {
    "duration": 33,
    "start_time": "2022-06-24T15:31:17.059Z"
   },
   {
    "duration": 37,
    "start_time": "2022-06-24T15:32:02.346Z"
   },
   {
    "duration": 51,
    "start_time": "2022-06-24T15:32:32.730Z"
   },
   {
    "duration": 12,
    "start_time": "2022-06-24T15:32:45.598Z"
   },
   {
    "duration": 16,
    "start_time": "2022-06-24T15:32:59.873Z"
   },
   {
    "duration": 773,
    "start_time": "2022-06-24T15:33:12.122Z"
   },
   {
    "duration": 698,
    "start_time": "2022-06-24T15:33:26.718Z"
   },
   {
    "duration": 73,
    "start_time": "2022-06-24T15:33:42.669Z"
   },
   {
    "duration": 30,
    "start_time": "2022-06-24T15:34:20.866Z"
   },
   {
    "duration": 15,
    "start_time": "2022-06-24T15:34:23.022Z"
   },
   {
    "duration": 16,
    "start_time": "2022-06-24T15:44:02.086Z"
   },
   {
    "duration": 49102,
    "start_time": "2022-06-24T15:44:17.279Z"
   },
   {
    "duration": 3,
    "start_time": "2022-06-24T15:47:33.856Z"
   },
   {
    "duration": 102,
    "start_time": "2022-06-24T15:47:33.861Z"
   },
   {
    "duration": 14,
    "start_time": "2022-06-24T15:47:33.966Z"
   },
   {
    "duration": 29,
    "start_time": "2022-06-24T15:47:33.982Z"
   },
   {
    "duration": 18,
    "start_time": "2022-06-24T15:47:34.013Z"
   },
   {
    "duration": 23,
    "start_time": "2022-06-24T15:47:34.033Z"
   },
   {
    "duration": 15,
    "start_time": "2022-06-24T15:47:34.057Z"
   },
   {
    "duration": 15,
    "start_time": "2022-06-24T15:47:34.074Z"
   },
   {
    "duration": 159,
    "start_time": "2022-06-24T15:47:34.090Z"
   },
   {
    "duration": 3,
    "start_time": "2022-06-24T15:47:34.251Z"
   },
   {
    "duration": 39,
    "start_time": "2022-06-24T15:47:34.257Z"
   },
   {
    "duration": 7,
    "start_time": "2022-06-24T15:47:34.298Z"
   },
   {
    "duration": 22,
    "start_time": "2022-06-24T15:47:34.327Z"
   },
   {
    "duration": 11,
    "start_time": "2022-06-24T15:47:34.352Z"
   },
   {
    "duration": 20,
    "start_time": "2022-06-24T15:47:34.364Z"
   },
   {
    "duration": 11,
    "start_time": "2022-06-24T15:47:34.386Z"
   },
   {
    "duration": 55,
    "start_time": "2022-06-24T15:47:34.399Z"
   },
   {
    "duration": 10,
    "start_time": "2022-06-24T15:47:34.455Z"
   },
   {
    "duration": 130,
    "start_time": "2022-06-24T15:47:34.522Z"
   },
   {
    "duration": 9,
    "start_time": "2022-06-24T15:47:34.655Z"
   },
   {
    "duration": 49252,
    "start_time": "2022-06-24T15:47:34.666Z"
   },
   {
    "duration": 54,
    "start_time": "2022-06-24T15:50:16.572Z"
   },
   {
    "duration": 46936,
    "start_time": "2022-06-24T15:50:24.857Z"
   },
   {
    "duration": 118971,
    "start_time": "2022-06-24T15:51:47.535Z"
   },
   {
    "duration": 43,
    "start_time": "2022-06-24T16:08:55.715Z"
   },
   {
    "duration": 9,
    "start_time": "2022-06-24T16:11:51.726Z"
   },
   {
    "duration": 121,
    "start_time": "2022-06-24T16:11:51.738Z"
   },
   {
    "duration": 13,
    "start_time": "2022-06-24T16:11:51.861Z"
   },
   {
    "duration": 24,
    "start_time": "2022-06-24T16:11:51.875Z"
   },
   {
    "duration": 7,
    "start_time": "2022-06-24T16:11:51.901Z"
   },
   {
    "duration": 7,
    "start_time": "2022-06-24T16:11:51.925Z"
   },
   {
    "duration": 35,
    "start_time": "2022-06-24T16:11:51.933Z"
   },
   {
    "duration": 14,
    "start_time": "2022-06-24T16:11:51.970Z"
   },
   {
    "duration": 142,
    "start_time": "2022-06-24T16:11:51.985Z"
   },
   {
    "duration": 3,
    "start_time": "2022-06-24T16:11:52.128Z"
   },
   {
    "duration": 54,
    "start_time": "2022-06-24T16:11:52.132Z"
   },
   {
    "duration": 5,
    "start_time": "2022-06-24T16:11:52.187Z"
   },
   {
    "duration": 8,
    "start_time": "2022-06-24T16:11:52.195Z"
   },
   {
    "duration": 7,
    "start_time": "2022-06-24T16:11:52.204Z"
   },
   {
    "duration": 30,
    "start_time": "2022-06-24T16:11:52.213Z"
   },
   {
    "duration": 26,
    "start_time": "2022-06-24T16:11:52.244Z"
   },
   {
    "duration": 40,
    "start_time": "2022-06-24T16:11:52.271Z"
   },
   {
    "duration": 29,
    "start_time": "2022-06-24T16:11:52.312Z"
   },
   {
    "duration": 212,
    "start_time": "2022-06-24T16:11:52.343Z"
   },
   {
    "duration": 9,
    "start_time": "2022-06-24T16:11:52.557Z"
   },
   {
    "duration": 73,
    "start_time": "2022-06-24T16:11:52.567Z"
   },
   {
    "duration": 0,
    "start_time": "2022-06-24T16:11:52.645Z"
   },
   {
    "duration": 3,
    "start_time": "2022-06-24T16:12:59.262Z"
   },
   {
    "duration": 100,
    "start_time": "2022-06-24T16:12:59.266Z"
   },
   {
    "duration": 13,
    "start_time": "2022-06-24T16:12:59.368Z"
   },
   {
    "duration": 21,
    "start_time": "2022-06-24T16:12:59.382Z"
   },
   {
    "duration": 26,
    "start_time": "2022-06-24T16:12:59.405Z"
   },
   {
    "duration": 7,
    "start_time": "2022-06-24T16:12:59.432Z"
   },
   {
    "duration": 24,
    "start_time": "2022-06-24T16:12:59.440Z"
   },
   {
    "duration": 12,
    "start_time": "2022-06-24T16:12:59.466Z"
   },
   {
    "duration": 145,
    "start_time": "2022-06-24T16:12:59.480Z"
   },
   {
    "duration": 7,
    "start_time": "2022-06-24T16:12:59.627Z"
   },
   {
    "duration": 51,
    "start_time": "2022-06-24T16:12:59.636Z"
   },
   {
    "duration": 7,
    "start_time": "2022-06-24T16:12:59.689Z"
   },
   {
    "duration": 7,
    "start_time": "2022-06-24T16:12:59.698Z"
   },
   {
    "duration": 9,
    "start_time": "2022-06-24T16:12:59.707Z"
   },
   {
    "duration": 28,
    "start_time": "2022-06-24T16:12:59.726Z"
   },
   {
    "duration": 14,
    "start_time": "2022-06-24T16:12:59.756Z"
   },
   {
    "duration": 58,
    "start_time": "2022-06-24T16:12:59.771Z"
   },
   {
    "duration": 22,
    "start_time": "2022-06-24T16:12:59.833Z"
   },
   {
    "duration": 200,
    "start_time": "2022-06-24T16:12:59.858Z"
   },
   {
    "duration": 8,
    "start_time": "2022-06-24T16:13:00.059Z"
   },
   {
    "duration": 29428,
    "start_time": "2022-06-24T16:13:00.068Z"
   },
   {
    "duration": 51,
    "start_time": "2022-06-24T16:13:29.497Z"
   },
   {
    "duration": 11,
    "start_time": "2022-06-24T16:16:36.569Z"
   },
   {
    "duration": 8,
    "start_time": "2022-06-24T16:16:45.309Z"
   },
   {
    "duration": 147,
    "start_time": "2022-06-24T17:58:41.501Z"
   },
   {
    "duration": 11,
    "start_time": "2022-06-24T18:17:35.708Z"
   },
   {
    "duration": 4,
    "start_time": "2022-06-24T18:17:49.384Z"
   },
   {
    "duration": 92,
    "start_time": "2022-06-24T18:17:49.390Z"
   },
   {
    "duration": 13,
    "start_time": "2022-06-24T18:17:49.484Z"
   },
   {
    "duration": 24,
    "start_time": "2022-06-24T18:17:49.498Z"
   },
   {
    "duration": 7,
    "start_time": "2022-06-24T18:17:49.523Z"
   },
   {
    "duration": 5,
    "start_time": "2022-06-24T18:17:49.532Z"
   },
   {
    "duration": 11,
    "start_time": "2022-06-24T18:17:49.538Z"
   },
   {
    "duration": 13,
    "start_time": "2022-06-24T18:17:49.550Z"
   },
   {
    "duration": 11,
    "start_time": "2022-06-24T18:17:49.564Z"
   },
   {
    "duration": 0,
    "start_time": "2022-06-24T18:17:49.576Z"
   },
   {
    "duration": 0,
    "start_time": "2022-06-24T18:17:49.577Z"
   },
   {
    "duration": 0,
    "start_time": "2022-06-24T18:17:49.578Z"
   },
   {
    "duration": 0,
    "start_time": "2022-06-24T18:17:49.579Z"
   },
   {
    "duration": 0,
    "start_time": "2022-06-24T18:17:49.581Z"
   },
   {
    "duration": 0,
    "start_time": "2022-06-24T18:17:49.582Z"
   },
   {
    "duration": 0,
    "start_time": "2022-06-24T18:17:49.582Z"
   },
   {
    "duration": 0,
    "start_time": "2022-06-24T18:17:49.584Z"
   },
   {
    "duration": 0,
    "start_time": "2022-06-24T18:17:49.584Z"
   },
   {
    "duration": 0,
    "start_time": "2022-06-24T18:17:49.585Z"
   },
   {
    "duration": 0,
    "start_time": "2022-06-24T18:17:49.703Z"
   },
   {
    "duration": 0,
    "start_time": "2022-06-24T18:17:49.704Z"
   },
   {
    "duration": 0,
    "start_time": "2022-06-24T18:17:49.705Z"
   },
   {
    "duration": 0,
    "start_time": "2022-06-24T18:17:49.723Z"
   },
   {
    "duration": 5,
    "start_time": "2022-06-24T18:18:20.118Z"
   },
   {
    "duration": 5,
    "start_time": "2022-06-24T18:18:52.853Z"
   },
   {
    "duration": 3,
    "start_time": "2022-06-24T18:19:00.947Z"
   },
   {
    "duration": 5,
    "start_time": "2022-06-24T18:19:05.361Z"
   },
   {
    "duration": 4,
    "start_time": "2022-06-24T18:19:44.066Z"
   },
   {
    "duration": 3,
    "start_time": "2022-06-24T18:19:53.992Z"
   },
   {
    "duration": 3,
    "start_time": "2022-06-24T18:20:06.715Z"
   },
   {
    "duration": 4,
    "start_time": "2022-06-24T18:20:11.406Z"
   },
   {
    "duration": 4,
    "start_time": "2022-06-24T18:23:44.382Z"
   },
   {
    "duration": 18,
    "start_time": "2022-06-24T18:29:50.803Z"
   },
   {
    "duration": 16,
    "start_time": "2022-06-24T18:31:02.868Z"
   },
   {
    "duration": 31,
    "start_time": "2022-06-24T18:31:34.451Z"
   },
   {
    "duration": 447,
    "start_time": "2022-06-24T18:32:24.675Z"
   },
   {
    "duration": 11,
    "start_time": "2022-06-24T18:32:33.851Z"
   },
   {
    "duration": 6,
    "start_time": "2022-06-24T18:33:58.013Z"
   },
   {
    "duration": 7,
    "start_time": "2022-06-24T18:35:44.860Z"
   },
   {
    "duration": 5,
    "start_time": "2022-06-24T18:36:38.333Z"
   },
   {
    "duration": 4,
    "start_time": "2022-06-24T18:37:59.147Z"
   },
   {
    "duration": 92,
    "start_time": "2022-06-24T18:37:59.156Z"
   },
   {
    "duration": 18,
    "start_time": "2022-06-24T18:37:59.250Z"
   },
   {
    "duration": 31,
    "start_time": "2022-06-24T18:37:59.269Z"
   },
   {
    "duration": 27,
    "start_time": "2022-06-24T18:37:59.302Z"
   },
   {
    "duration": 10,
    "start_time": "2022-06-24T18:37:59.332Z"
   },
   {
    "duration": 15,
    "start_time": "2022-06-24T18:37:59.344Z"
   },
   {
    "duration": 14,
    "start_time": "2022-06-24T18:37:59.361Z"
   },
   {
    "duration": 6,
    "start_time": "2022-06-24T18:37:59.376Z"
   },
   {
    "duration": 3,
    "start_time": "2022-06-24T18:37:59.383Z"
   },
   {
    "duration": 58,
    "start_time": "2022-06-24T18:37:59.387Z"
   },
   {
    "duration": 7,
    "start_time": "2022-06-24T18:37:59.447Z"
   },
   {
    "duration": 12,
    "start_time": "2022-06-24T18:37:59.455Z"
   },
   {
    "duration": 8,
    "start_time": "2022-06-24T18:37:59.469Z"
   },
   {
    "duration": 18,
    "start_time": "2022-06-24T18:37:59.480Z"
   },
   {
    "duration": 11,
    "start_time": "2022-06-24T18:37:59.524Z"
   },
   {
    "duration": 41,
    "start_time": "2022-06-24T18:37:59.536Z"
   },
   {
    "duration": 52,
    "start_time": "2022-06-24T18:37:59.579Z"
   },
   {
    "duration": 130,
    "start_time": "2022-06-24T18:37:59.633Z"
   },
   {
    "duration": 8,
    "start_time": "2022-06-24T18:37:59.764Z"
   },
   {
    "duration": 26609,
    "start_time": "2022-06-24T18:37:59.823Z"
   },
   {
    "duration": 7,
    "start_time": "2022-06-24T18:38:26.433Z"
   },
   {
    "duration": 36,
    "start_time": "2022-06-24T18:38:26.442Z"
   },
   {
    "duration": 9,
    "start_time": "2022-06-24T18:39:13.048Z"
   },
   {
    "duration": 7,
    "start_time": "2022-06-24T18:39:57.754Z"
   },
   {
    "duration": 13,
    "start_time": "2022-06-24T19:19:12.566Z"
   },
   {
    "duration": 112,
    "start_time": "2022-06-24T19:20:57.365Z"
   },
   {
    "duration": 144,
    "start_time": "2022-06-24T19:21:08.414Z"
   },
   {
    "duration": 6,
    "start_time": "2022-06-24T19:22:30.920Z"
   },
   {
    "duration": 6,
    "start_time": "2022-06-24T19:22:50.543Z"
   },
   {
    "duration": 7,
    "start_time": "2022-06-24T19:23:46.271Z"
   },
   {
    "duration": 7,
    "start_time": "2022-06-24T19:24:08.342Z"
   },
   {
    "duration": 6,
    "start_time": "2022-06-24T19:24:27.202Z"
   },
   {
    "duration": 5,
    "start_time": "2022-06-24T19:24:34.716Z"
   },
   {
    "duration": 4,
    "start_time": "2022-06-24T19:25:28.438Z"
   },
   {
    "duration": 5,
    "start_time": "2022-06-24T19:25:33.131Z"
   },
   {
    "duration": 14,
    "start_time": "2022-06-24T19:26:43.644Z"
   },
   {
    "duration": 208,
    "start_time": "2022-06-24T19:33:59.606Z"
   },
   {
    "duration": 799,
    "start_time": "2022-06-24T19:36:14.727Z"
   },
   {
    "duration": 28,
    "start_time": "2022-06-24T19:40:13.922Z"
   },
   {
    "duration": 44,
    "start_time": "2022-06-24T19:48:56.311Z"
   },
   {
    "duration": 29,
    "start_time": "2022-06-24T19:49:06.278Z"
   },
   {
    "duration": 24122,
    "start_time": "2022-06-24T19:49:23.999Z"
   },
   {
    "duration": 34,
    "start_time": "2022-06-24T19:52:10.304Z"
   },
   {
    "duration": 15,
    "start_time": "2022-06-24T19:52:18.215Z"
   },
   {
    "duration": 32,
    "start_time": "2022-06-24T19:52:28.903Z"
   },
   {
    "duration": 6,
    "start_time": "2022-06-24T19:52:31.599Z"
   },
   {
    "duration": 25425,
    "start_time": "2022-06-24T19:52:41.786Z"
   },
   {
    "duration": 42294,
    "start_time": "2022-06-24T19:54:02.348Z"
   },
   {
    "duration": 8,
    "start_time": "2022-06-24T19:55:42.332Z"
   },
   {
    "duration": 12,
    "start_time": "2022-06-24T19:55:48.338Z"
   },
   {
    "duration": 4794,
    "start_time": "2022-06-24T19:57:08.592Z"
   },
   {
    "duration": 4745,
    "start_time": "2022-06-24T19:57:26.209Z"
   },
   {
    "duration": 4,
    "start_time": "2022-06-24T20:24:15.641Z"
   },
   {
    "duration": 143,
    "start_time": "2022-06-24T20:24:15.647Z"
   },
   {
    "duration": 13,
    "start_time": "2022-06-24T20:24:15.792Z"
   },
   {
    "duration": 39,
    "start_time": "2022-06-24T20:24:15.807Z"
   },
   {
    "duration": 8,
    "start_time": "2022-06-24T20:24:15.847Z"
   },
   {
    "duration": 10,
    "start_time": "2022-06-24T20:24:15.856Z"
   },
   {
    "duration": 33,
    "start_time": "2022-06-24T20:24:15.868Z"
   },
   {
    "duration": 169,
    "start_time": "2022-06-24T20:24:15.902Z"
   },
   {
    "duration": 14,
    "start_time": "2022-06-24T20:24:16.072Z"
   },
   {
    "duration": 2,
    "start_time": "2022-06-24T20:24:16.088Z"
   },
   {
    "duration": 46,
    "start_time": "2022-06-24T20:24:16.092Z"
   },
   {
    "duration": 6,
    "start_time": "2022-06-24T20:24:16.139Z"
   },
   {
    "duration": 10,
    "start_time": "2022-06-24T20:24:16.146Z"
   },
   {
    "duration": 8,
    "start_time": "2022-06-24T20:24:16.157Z"
   },
   {
    "duration": 19,
    "start_time": "2022-06-24T20:24:16.167Z"
   },
   {
    "duration": 10,
    "start_time": "2022-06-24T20:24:16.188Z"
   },
   {
    "duration": 34,
    "start_time": "2022-06-24T20:24:16.223Z"
   },
   {
    "duration": 71,
    "start_time": "2022-06-24T20:24:16.259Z"
   },
   {
    "duration": 121,
    "start_time": "2022-06-24T20:24:16.335Z"
   },
   {
    "duration": 8,
    "start_time": "2022-06-24T20:24:16.458Z"
   },
   {
    "duration": 38,
    "start_time": "2022-06-24T20:24:16.467Z"
   },
   {
    "duration": 0,
    "start_time": "2022-06-24T20:24:16.523Z"
   },
   {
    "duration": 0,
    "start_time": "2022-06-24T20:24:16.524Z"
   },
   {
    "duration": 0,
    "start_time": "2022-06-24T20:24:16.525Z"
   },
   {
    "duration": 0,
    "start_time": "2022-06-24T20:24:16.526Z"
   },
   {
    "duration": 0,
    "start_time": "2022-06-24T20:24:16.527Z"
   },
   {
    "duration": 3,
    "start_time": "2022-06-24T20:28:06.677Z"
   },
   {
    "duration": 84,
    "start_time": "2022-06-24T20:28:06.681Z"
   },
   {
    "duration": 13,
    "start_time": "2022-06-24T20:28:06.767Z"
   },
   {
    "duration": 23,
    "start_time": "2022-06-24T20:28:06.781Z"
   },
   {
    "duration": 7,
    "start_time": "2022-06-24T20:28:06.805Z"
   },
   {
    "duration": 9,
    "start_time": "2022-06-24T20:28:06.822Z"
   },
   {
    "duration": 26,
    "start_time": "2022-06-24T20:28:06.832Z"
   },
   {
    "duration": 172,
    "start_time": "2022-06-24T20:28:06.859Z"
   },
   {
    "duration": 16,
    "start_time": "2022-06-24T20:28:07.034Z"
   },
   {
    "duration": 2,
    "start_time": "2022-06-24T20:28:07.051Z"
   },
   {
    "duration": 39,
    "start_time": "2022-06-24T20:28:07.054Z"
   },
   {
    "duration": 5,
    "start_time": "2022-06-24T20:28:07.094Z"
   },
   {
    "duration": 25,
    "start_time": "2022-06-24T20:28:07.101Z"
   },
   {
    "duration": 5,
    "start_time": "2022-06-24T20:28:07.127Z"
   },
   {
    "duration": 32,
    "start_time": "2022-06-24T20:28:07.134Z"
   },
   {
    "duration": 11,
    "start_time": "2022-06-24T20:28:07.168Z"
   },
   {
    "duration": 47,
    "start_time": "2022-06-24T20:28:07.180Z"
   },
   {
    "duration": 94,
    "start_time": "2022-06-24T20:28:07.229Z"
   },
   {
    "duration": 127,
    "start_time": "2022-06-24T20:28:07.327Z"
   },
   {
    "duration": 8,
    "start_time": "2022-06-24T20:28:07.456Z"
   },
   {
    "duration": 25989,
    "start_time": "2022-06-24T20:28:07.465Z"
   },
   {
    "duration": 6,
    "start_time": "2022-06-24T20:28:33.456Z"
   },
   {
    "duration": 35,
    "start_time": "2022-06-24T20:28:33.464Z"
   },
   {
    "duration": 124,
    "start_time": "2022-06-24T20:28:33.500Z"
   },
   {
    "duration": 118,
    "start_time": "2022-06-24T20:28:33.626Z"
   },
   {
    "duration": 24005,
    "start_time": "2022-06-24T20:28:33.746Z"
   },
   {
    "duration": 4588,
    "start_time": "2022-06-24T20:29:27.124Z"
   },
   {
    "duration": 54,
    "start_time": "2022-06-24T20:42:47.265Z"
   },
   {
    "duration": 80,
    "start_time": "2022-06-24T20:43:16.868Z"
   },
   {
    "duration": 111,
    "start_time": "2022-06-24T20:45:55.199Z"
   },
   {
    "duration": 198,
    "start_time": "2022-06-24T20:51:58.512Z"
   },
   {
    "duration": 199,
    "start_time": "2022-06-24T20:55:47.517Z"
   },
   {
    "duration": 4,
    "start_time": "2022-06-24T20:56:28.156Z"
   },
   {
    "duration": 94,
    "start_time": "2022-06-24T20:56:28.164Z"
   },
   {
    "duration": 14,
    "start_time": "2022-06-24T20:56:28.260Z"
   },
   {
    "duration": 20,
    "start_time": "2022-06-24T20:56:28.275Z"
   },
   {
    "duration": 32,
    "start_time": "2022-06-24T20:56:28.297Z"
   },
   {
    "duration": 9,
    "start_time": "2022-06-24T20:56:28.331Z"
   },
   {
    "duration": 26,
    "start_time": "2022-06-24T20:56:28.341Z"
   },
   {
    "duration": 182,
    "start_time": "2022-06-24T20:56:28.369Z"
   },
   {
    "duration": 15,
    "start_time": "2022-06-24T20:56:28.552Z"
   },
   {
    "duration": 2,
    "start_time": "2022-06-24T20:56:28.569Z"
   },
   {
    "duration": 33,
    "start_time": "2022-06-24T20:56:28.573Z"
   },
   {
    "duration": 6,
    "start_time": "2022-06-24T20:56:28.623Z"
   },
   {
    "duration": 6,
    "start_time": "2022-06-24T20:56:28.631Z"
   },
   {
    "duration": 8,
    "start_time": "2022-06-24T20:56:28.638Z"
   },
   {
    "duration": 19,
    "start_time": "2022-06-24T20:56:28.647Z"
   },
   {
    "duration": 10,
    "start_time": "2022-06-24T20:56:28.667Z"
   },
   {
    "duration": 57,
    "start_time": "2022-06-24T20:56:28.679Z"
   },
   {
    "duration": 12,
    "start_time": "2022-06-24T20:56:28.738Z"
   },
   {
    "duration": 193,
    "start_time": "2022-06-24T20:56:28.752Z"
   },
   {
    "duration": 7,
    "start_time": "2022-06-24T20:56:28.947Z"
   },
   {
    "duration": 25874,
    "start_time": "2022-06-24T20:56:28.955Z"
   },
   {
    "duration": 8,
    "start_time": "2022-06-24T20:56:54.831Z"
   },
   {
    "duration": 242,
    "start_time": "2022-06-24T20:56:54.841Z"
   },
   {
    "duration": 51,
    "start_time": "2022-06-24T20:56:55.085Z"
   },
   {
    "duration": 88,
    "start_time": "2022-06-24T20:56:55.138Z"
   },
   {
    "duration": 120,
    "start_time": "2022-06-24T20:56:55.228Z"
   },
   {
    "duration": 4593,
    "start_time": "2022-06-24T20:56:55.350Z"
   },
   {
    "duration": 22,
    "start_time": "2022-06-24T21:02:34.239Z"
   },
   {
    "duration": 199,
    "start_time": "2022-06-24T21:02:42.264Z"
   },
   {
    "duration": 3,
    "start_time": "2022-06-24T21:04:27.289Z"
   },
   {
    "duration": 98,
    "start_time": "2022-06-24T21:04:27.294Z"
   },
   {
    "duration": 13,
    "start_time": "2022-06-24T21:04:27.395Z"
   },
   {
    "duration": 22,
    "start_time": "2022-06-24T21:04:27.409Z"
   },
   {
    "duration": 9,
    "start_time": "2022-06-24T21:04:27.433Z"
   },
   {
    "duration": 9,
    "start_time": "2022-06-24T21:04:27.443Z"
   },
   {
    "duration": 28,
    "start_time": "2022-06-24T21:04:27.454Z"
   },
   {
    "duration": 189,
    "start_time": "2022-06-24T21:04:27.484Z"
   },
   {
    "duration": 15,
    "start_time": "2022-06-24T21:04:27.675Z"
   },
   {
    "duration": 2,
    "start_time": "2022-06-24T21:04:27.692Z"
   },
   {
    "duration": 52,
    "start_time": "2022-06-24T21:04:27.698Z"
   },
   {
    "duration": 6,
    "start_time": "2022-06-24T21:04:27.751Z"
   },
   {
    "duration": 7,
    "start_time": "2022-06-24T21:04:27.759Z"
   },
   {
    "duration": 7,
    "start_time": "2022-06-24T21:04:27.768Z"
   },
   {
    "duration": 20,
    "start_time": "2022-06-24T21:04:27.777Z"
   },
   {
    "duration": 28,
    "start_time": "2022-06-24T21:04:27.798Z"
   },
   {
    "duration": 37,
    "start_time": "2022-06-24T21:04:27.827Z"
   },
   {
    "duration": 8,
    "start_time": "2022-06-24T21:04:27.866Z"
   },
   {
    "duration": 123,
    "start_time": "2022-06-24T21:04:27.927Z"
   },
   {
    "duration": 7,
    "start_time": "2022-06-24T21:04:28.052Z"
   },
   {
    "duration": 25976,
    "start_time": "2022-06-24T21:04:28.060Z"
   },
   {
    "duration": 8,
    "start_time": "2022-06-24T21:04:54.038Z"
   },
   {
    "duration": 257,
    "start_time": "2022-06-24T21:04:54.047Z"
   },
   {
    "duration": 50,
    "start_time": "2022-06-24T21:04:54.305Z"
   },
   {
    "duration": 67,
    "start_time": "2022-06-24T21:04:54.357Z"
   },
   {
    "duration": 118,
    "start_time": "2022-06-24T21:04:54.426Z"
   },
   {
    "duration": 4524,
    "start_time": "2022-06-24T21:04:54.545Z"
   },
   {
    "duration": 9,
    "start_time": "2022-06-24T21:06:31.401Z"
   },
   {
    "duration": 15,
    "start_time": "2022-06-24T21:09:43.458Z"
   },
   {
    "duration": 11,
    "start_time": "2022-06-24T21:15:06.591Z"
   },
   {
    "duration": 458,
    "start_time": "2022-06-24T21:20:08.520Z"
   },
   {
    "duration": 3,
    "start_time": "2022-06-24T21:20:19.153Z"
   },
   {
    "duration": 112,
    "start_time": "2022-06-24T21:20:19.158Z"
   },
   {
    "duration": 16,
    "start_time": "2022-06-24T21:20:19.272Z"
   },
   {
    "duration": 34,
    "start_time": "2022-06-24T21:20:19.290Z"
   },
   {
    "duration": 7,
    "start_time": "2022-06-24T21:20:19.326Z"
   },
   {
    "duration": 13,
    "start_time": "2022-06-24T21:20:19.334Z"
   },
   {
    "duration": 28,
    "start_time": "2022-06-24T21:20:19.348Z"
   },
   {
    "duration": 171,
    "start_time": "2022-06-24T21:20:19.378Z"
   },
   {
    "duration": 16,
    "start_time": "2022-06-24T21:20:19.551Z"
   },
   {
    "duration": 2,
    "start_time": "2022-06-24T21:20:19.569Z"
   },
   {
    "duration": 53,
    "start_time": "2022-06-24T21:20:19.573Z"
   },
   {
    "duration": 6,
    "start_time": "2022-06-24T21:20:19.628Z"
   },
   {
    "duration": 9,
    "start_time": "2022-06-24T21:20:19.635Z"
   },
   {
    "duration": 8,
    "start_time": "2022-06-24T21:20:19.645Z"
   },
   {
    "duration": 24,
    "start_time": "2022-06-24T21:20:19.654Z"
   },
   {
    "duration": 11,
    "start_time": "2022-06-24T21:20:19.679Z"
   },
   {
    "duration": 49,
    "start_time": "2022-06-24T21:20:19.692Z"
   },
   {
    "duration": 10,
    "start_time": "2022-06-24T21:20:19.742Z"
   },
   {
    "duration": 123,
    "start_time": "2022-06-24T21:20:19.824Z"
   },
   {
    "duration": 7,
    "start_time": "2022-06-24T21:20:19.949Z"
   },
   {
    "duration": 26075,
    "start_time": "2022-06-24T21:20:19.958Z"
   },
   {
    "duration": 7,
    "start_time": "2022-06-24T21:20:46.035Z"
   },
   {
    "duration": 243,
    "start_time": "2022-06-24T21:20:46.043Z"
   },
   {
    "duration": 510,
    "start_time": "2022-06-24T21:20:46.288Z"
   },
   {
    "duration": 124,
    "start_time": "2022-06-24T21:20:46.800Z"
   },
   {
    "duration": 119,
    "start_time": "2022-06-24T21:20:46.926Z"
   },
   {
    "duration": 4650,
    "start_time": "2022-06-24T21:20:47.047Z"
   },
   {
    "duration": 3,
    "start_time": "2022-06-24T21:25:05.826Z"
   },
   {
    "duration": 141,
    "start_time": "2022-06-24T21:25:05.831Z"
   },
   {
    "duration": 13,
    "start_time": "2022-06-24T21:25:05.974Z"
   },
   {
    "duration": 25,
    "start_time": "2022-06-24T21:25:05.988Z"
   },
   {
    "duration": 8,
    "start_time": "2022-06-24T21:25:06.016Z"
   },
   {
    "duration": 11,
    "start_time": "2022-06-24T21:25:06.026Z"
   },
   {
    "duration": 30,
    "start_time": "2022-06-24T21:25:06.039Z"
   },
   {
    "duration": 180,
    "start_time": "2022-06-24T21:25:06.070Z"
   },
   {
    "duration": 14,
    "start_time": "2022-06-24T21:25:06.252Z"
   },
   {
    "duration": 2,
    "start_time": "2022-06-24T21:25:06.269Z"
   },
   {
    "duration": 52,
    "start_time": "2022-06-24T21:25:06.274Z"
   },
   {
    "duration": 5,
    "start_time": "2022-06-24T21:25:06.328Z"
   },
   {
    "duration": 7,
    "start_time": "2022-06-24T21:25:06.335Z"
   },
   {
    "duration": 8,
    "start_time": "2022-06-24T21:25:06.343Z"
   },
   {
    "duration": 21,
    "start_time": "2022-06-24T21:25:06.353Z"
   },
   {
    "duration": 11,
    "start_time": "2022-06-24T21:25:06.376Z"
   },
   {
    "duration": 65,
    "start_time": "2022-06-24T21:25:06.389Z"
   },
   {
    "duration": 70,
    "start_time": "2022-06-24T21:25:06.456Z"
   },
   {
    "duration": 124,
    "start_time": "2022-06-24T21:25:06.528Z"
   },
   {
    "duration": 7,
    "start_time": "2022-06-24T21:25:06.653Z"
   },
   {
    "duration": 25942,
    "start_time": "2022-06-24T21:25:06.662Z"
   },
   {
    "duration": 17,
    "start_time": "2022-06-24T21:25:32.606Z"
   },
   {
    "duration": 244,
    "start_time": "2022-06-24T21:25:32.624Z"
   },
   {
    "duration": 496,
    "start_time": "2022-06-24T21:25:49.318Z"
   },
   {
    "duration": 46,
    "start_time": "2022-06-24T21:27:09.004Z"
   },
   {
    "duration": 29,
    "start_time": "2022-06-24T21:27:11.587Z"
   },
   {
    "duration": 4520,
    "start_time": "2022-06-24T21:27:13.844Z"
   },
   {
    "duration": 198,
    "start_time": "2022-06-24T21:27:20.213Z"
   },
   {
    "duration": 144,
    "start_time": "2022-06-24T21:28:44.132Z"
   },
   {
    "duration": 164,
    "start_time": "2022-06-24T21:31:30.300Z"
   },
   {
    "duration": 3,
    "start_time": "2022-06-24T21:32:38.015Z"
   },
   {
    "duration": 91,
    "start_time": "2022-06-24T21:32:38.022Z"
   },
   {
    "duration": 12,
    "start_time": "2022-06-24T21:32:38.115Z"
   },
   {
    "duration": 23,
    "start_time": "2022-06-24T21:32:38.129Z"
   },
   {
    "duration": 7,
    "start_time": "2022-06-24T21:32:38.153Z"
   },
   {
    "duration": 8,
    "start_time": "2022-06-24T21:32:38.161Z"
   },
   {
    "duration": 58,
    "start_time": "2022-06-24T21:32:38.170Z"
   },
   {
    "duration": 154,
    "start_time": "2022-06-24T21:32:38.229Z"
   },
   {
    "duration": 15,
    "start_time": "2022-06-24T21:32:38.385Z"
   },
   {
    "duration": 2,
    "start_time": "2022-06-24T21:32:38.401Z"
   },
   {
    "duration": 30,
    "start_time": "2022-06-24T21:32:38.422Z"
   },
   {
    "duration": 6,
    "start_time": "2022-06-24T21:32:38.453Z"
   },
   {
    "duration": 8,
    "start_time": "2022-06-24T21:32:38.460Z"
   },
   {
    "duration": 8,
    "start_time": "2022-06-24T21:32:38.469Z"
   },
   {
    "duration": 19,
    "start_time": "2022-06-24T21:32:38.478Z"
   },
   {
    "duration": 27,
    "start_time": "2022-06-24T21:32:38.498Z"
   },
   {
    "duration": 35,
    "start_time": "2022-06-24T21:32:38.526Z"
   },
   {
    "duration": 60,
    "start_time": "2022-06-24T21:32:38.563Z"
   },
   {
    "duration": 122,
    "start_time": "2022-06-24T21:32:38.626Z"
   },
   {
    "duration": 7,
    "start_time": "2022-06-24T21:32:38.749Z"
   },
   {
    "duration": 26043,
    "start_time": "2022-06-24T21:32:38.757Z"
   },
   {
    "duration": 7,
    "start_time": "2022-06-24T21:33:04.801Z"
   },
   {
    "duration": 245,
    "start_time": "2022-06-24T21:33:04.809Z"
   },
   {
    "duration": 532,
    "start_time": "2022-06-24T21:33:05.056Z"
   },
   {
    "duration": 50,
    "start_time": "2022-06-24T21:33:05.590Z"
   },
   {
    "duration": 201,
    "start_time": "2022-06-24T21:33:05.642Z"
   },
   {
    "duration": 4639,
    "start_time": "2022-06-24T21:33:05.844Z"
   },
   {
    "duration": 210,
    "start_time": "2022-06-24T21:33:10.485Z"
   },
   {
    "duration": 155,
    "start_time": "2022-06-24T21:33:10.697Z"
   },
   {
    "duration": 222,
    "start_time": "2022-06-24T21:45:49.517Z"
   },
   {
    "duration": 210,
    "start_time": "2022-06-24T21:45:59.784Z"
   },
   {
    "duration": 162,
    "start_time": "2022-06-24T21:46:58.383Z"
   },
   {
    "duration": 3,
    "start_time": "2022-06-24T21:47:10.356Z"
   },
   {
    "duration": 104,
    "start_time": "2022-06-24T21:47:10.362Z"
   },
   {
    "duration": 13,
    "start_time": "2022-06-24T21:47:10.468Z"
   },
   {
    "duration": 23,
    "start_time": "2022-06-24T21:47:10.482Z"
   },
   {
    "duration": 17,
    "start_time": "2022-06-24T21:47:10.507Z"
   },
   {
    "duration": 9,
    "start_time": "2022-06-24T21:47:10.525Z"
   },
   {
    "duration": 24,
    "start_time": "2022-06-24T21:47:10.535Z"
   },
   {
    "duration": 176,
    "start_time": "2022-06-24T21:47:10.561Z"
   },
   {
    "duration": 15,
    "start_time": "2022-06-24T21:47:10.738Z"
   },
   {
    "duration": 2,
    "start_time": "2022-06-24T21:47:10.755Z"
   },
   {
    "duration": 37,
    "start_time": "2022-06-24T21:47:10.760Z"
   },
   {
    "duration": 5,
    "start_time": "2022-06-24T21:47:10.799Z"
   },
   {
    "duration": 21,
    "start_time": "2022-06-24T21:47:10.806Z"
   },
   {
    "duration": 7,
    "start_time": "2022-06-24T21:47:10.829Z"
   },
   {
    "duration": 17,
    "start_time": "2022-06-24T21:47:10.838Z"
   },
   {
    "duration": 11,
    "start_time": "2022-06-24T21:47:10.856Z"
   },
   {
    "duration": 63,
    "start_time": "2022-06-24T21:47:10.869Z"
   },
   {
    "duration": 10,
    "start_time": "2022-06-24T21:47:10.934Z"
   },
   {
    "duration": 197,
    "start_time": "2022-06-24T21:47:10.947Z"
   },
   {
    "duration": 8,
    "start_time": "2022-06-24T21:47:11.146Z"
   },
   {
    "duration": 25908,
    "start_time": "2022-06-24T21:47:11.156Z"
   },
   {
    "duration": 7,
    "start_time": "2022-06-24T21:47:37.066Z"
   },
   {
    "duration": 248,
    "start_time": "2022-06-24T21:47:37.075Z"
   },
   {
    "duration": 514,
    "start_time": "2022-06-24T21:47:37.325Z"
   },
   {
    "duration": 82,
    "start_time": "2022-06-24T21:47:37.841Z"
   },
   {
    "duration": 121,
    "start_time": "2022-06-24T21:47:37.926Z"
   },
   {
    "duration": 4600,
    "start_time": "2022-06-24T21:47:38.049Z"
   },
   {
    "duration": 210,
    "start_time": "2022-06-24T21:47:42.650Z"
   },
   {
    "duration": 149,
    "start_time": "2022-06-24T21:47:42.863Z"
   },
   {
    "duration": 170,
    "start_time": "2022-06-24T21:48:01.689Z"
   },
   {
    "duration": 182,
    "start_time": "2022-06-24T21:48:22.105Z"
   },
   {
    "duration": 202,
    "start_time": "2022-06-24T21:48:33.862Z"
   },
   {
    "duration": 222,
    "start_time": "2022-06-24T21:49:08.036Z"
   },
   {
    "duration": 228,
    "start_time": "2022-06-24T21:49:17.010Z"
   },
   {
    "duration": 244,
    "start_time": "2022-06-24T21:49:21.997Z"
   },
   {
    "duration": 262,
    "start_time": "2022-06-24T21:49:27.929Z"
   },
   {
    "duration": 3,
    "start_time": "2022-06-24T21:49:33.629Z"
   },
   {
    "duration": 91,
    "start_time": "2022-06-24T21:49:33.634Z"
   },
   {
    "duration": 13,
    "start_time": "2022-06-24T21:49:33.727Z"
   },
   {
    "duration": 20,
    "start_time": "2022-06-24T21:49:33.741Z"
   },
   {
    "duration": 7,
    "start_time": "2022-06-24T21:49:33.763Z"
   },
   {
    "duration": 8,
    "start_time": "2022-06-24T21:49:33.771Z"
   },
   {
    "duration": 58,
    "start_time": "2022-06-24T21:49:33.780Z"
   },
   {
    "duration": 176,
    "start_time": "2022-06-24T21:49:33.839Z"
   },
   {
    "duration": 19,
    "start_time": "2022-06-24T21:49:34.016Z"
   },
   {
    "duration": 2,
    "start_time": "2022-06-24T21:49:34.036Z"
   },
   {
    "duration": 34,
    "start_time": "2022-06-24T21:49:34.040Z"
   },
   {
    "duration": 6,
    "start_time": "2022-06-24T21:49:34.076Z"
   },
   {
    "duration": 9,
    "start_time": "2022-06-24T21:49:34.084Z"
   },
   {
    "duration": 30,
    "start_time": "2022-06-24T21:49:34.094Z"
   },
   {
    "duration": 17,
    "start_time": "2022-06-24T21:49:34.126Z"
   },
   {
    "duration": 11,
    "start_time": "2022-06-24T21:49:34.144Z"
   },
   {
    "duration": 36,
    "start_time": "2022-06-24T21:49:34.157Z"
   },
   {
    "duration": 43,
    "start_time": "2022-06-24T21:49:34.194Z"
   },
   {
    "duration": 128,
    "start_time": "2022-06-24T21:49:34.326Z"
   },
   {
    "duration": 7,
    "start_time": "2022-06-24T21:49:34.455Z"
   },
   {
    "duration": 25857,
    "start_time": "2022-06-24T21:49:34.463Z"
   },
   {
    "duration": 8,
    "start_time": "2022-06-24T21:50:00.322Z"
   },
   {
    "duration": 246,
    "start_time": "2022-06-24T21:50:00.332Z"
   },
   {
    "duration": 512,
    "start_time": "2022-06-24T21:50:00.580Z"
   },
   {
    "duration": 59,
    "start_time": "2022-06-24T21:50:01.094Z"
   },
   {
    "duration": 117,
    "start_time": "2022-06-24T21:50:01.225Z"
   },
   {
    "duration": 4554,
    "start_time": "2022-06-24T21:50:01.344Z"
   },
   {
    "duration": 211,
    "start_time": "2022-06-24T21:50:05.899Z"
   },
   {
    "duration": 145,
    "start_time": "2022-06-24T21:50:06.122Z"
   },
   {
    "duration": 4,
    "start_time": "2022-06-24T21:50:47.095Z"
   },
   {
    "duration": 87,
    "start_time": "2022-06-24T21:50:47.100Z"
   },
   {
    "duration": 14,
    "start_time": "2022-06-24T21:50:47.189Z"
   },
   {
    "duration": 36,
    "start_time": "2022-06-24T21:50:47.204Z"
   },
   {
    "duration": 7,
    "start_time": "2022-06-24T21:50:47.242Z"
   },
   {
    "duration": 8,
    "start_time": "2022-06-24T21:50:47.251Z"
   },
   {
    "duration": 23,
    "start_time": "2022-06-24T21:50:47.261Z"
   },
   {
    "duration": 184,
    "start_time": "2022-06-24T21:50:47.286Z"
   },
   {
    "duration": 15,
    "start_time": "2022-06-24T21:50:47.472Z"
   },
   {
    "duration": 3,
    "start_time": "2022-06-24T21:50:47.489Z"
   },
   {
    "duration": 51,
    "start_time": "2022-06-24T21:50:47.495Z"
   },
   {
    "duration": 5,
    "start_time": "2022-06-24T21:50:47.548Z"
   },
   {
    "duration": 6,
    "start_time": "2022-06-24T21:50:47.555Z"
   },
   {
    "duration": 6,
    "start_time": "2022-06-24T21:50:47.563Z"
   },
   {
    "duration": 18,
    "start_time": "2022-06-24T21:50:47.570Z"
   },
   {
    "duration": 10,
    "start_time": "2022-06-24T21:50:47.590Z"
   },
   {
    "duration": 35,
    "start_time": "2022-06-24T21:50:47.623Z"
   },
   {
    "duration": 65,
    "start_time": "2022-06-24T21:50:47.660Z"
   },
   {
    "duration": 130,
    "start_time": "2022-06-24T21:50:47.726Z"
   },
   {
    "duration": 7,
    "start_time": "2022-06-24T21:50:47.857Z"
   },
   {
    "duration": 26293,
    "start_time": "2022-06-24T21:50:47.866Z"
   },
   {
    "duration": 6,
    "start_time": "2022-06-24T21:51:14.161Z"
   },
   {
    "duration": 234,
    "start_time": "2022-06-24T21:51:14.169Z"
   },
   {
    "duration": 495,
    "start_time": "2022-06-24T21:51:14.405Z"
   },
   {
    "duration": 49,
    "start_time": "2022-06-24T21:51:14.902Z"
   },
   {
    "duration": 192,
    "start_time": "2022-06-24T21:51:14.953Z"
   },
   {
    "duration": 4555,
    "start_time": "2022-06-24T21:51:15.146Z"
   },
   {
    "duration": 228,
    "start_time": "2022-06-24T21:51:19.703Z"
   },
   {
    "duration": 159,
    "start_time": "2022-06-24T21:51:19.934Z"
   },
   {
    "duration": 4,
    "start_time": "2022-06-24T21:51:20.095Z"
   },
   {
    "duration": 4,
    "start_time": "2022-06-24T21:53:38.977Z"
   },
   {
    "duration": 80,
    "start_time": "2022-06-24T21:53:38.985Z"
   },
   {
    "duration": 13,
    "start_time": "2022-06-24T21:53:39.067Z"
   },
   {
    "duration": 22,
    "start_time": "2022-06-24T21:53:39.081Z"
   },
   {
    "duration": 21,
    "start_time": "2022-06-24T21:53:39.106Z"
   },
   {
    "duration": 9,
    "start_time": "2022-06-24T21:53:39.128Z"
   },
   {
    "duration": 25,
    "start_time": "2022-06-24T21:53:39.138Z"
   },
   {
    "duration": 185,
    "start_time": "2022-06-24T21:53:39.165Z"
   },
   {
    "duration": 14,
    "start_time": "2022-06-24T21:53:39.352Z"
   },
   {
    "duration": 3,
    "start_time": "2022-06-24T21:53:39.367Z"
   },
   {
    "duration": 51,
    "start_time": "2022-06-24T21:53:39.373Z"
   },
   {
    "duration": 5,
    "start_time": "2022-06-24T21:53:39.426Z"
   },
   {
    "duration": 7,
    "start_time": "2022-06-24T21:53:39.433Z"
   },
   {
    "duration": 7,
    "start_time": "2022-06-24T21:53:39.442Z"
   },
   {
    "duration": 19,
    "start_time": "2022-06-24T21:53:39.451Z"
   },
   {
    "duration": 11,
    "start_time": "2022-06-24T21:53:39.472Z"
   },
   {
    "duration": 66,
    "start_time": "2022-06-24T21:53:39.484Z"
   },
   {
    "duration": 74,
    "start_time": "2022-06-24T21:53:39.551Z"
   },
   {
    "duration": 122,
    "start_time": "2022-06-24T21:53:39.627Z"
   },
   {
    "duration": 7,
    "start_time": "2022-06-24T21:53:39.751Z"
   },
   {
    "duration": 26012,
    "start_time": "2022-06-24T21:53:39.760Z"
   },
   {
    "duration": 6,
    "start_time": "2022-06-24T21:54:05.774Z"
   },
   {
    "duration": 251,
    "start_time": "2022-06-24T21:54:05.781Z"
   },
   {
    "duration": 533,
    "start_time": "2022-06-24T21:54:06.034Z"
   },
   {
    "duration": 61,
    "start_time": "2022-06-24T21:54:06.568Z"
   },
   {
    "duration": 205,
    "start_time": "2022-06-24T21:54:06.631Z"
   },
   {
    "duration": 4703,
    "start_time": "2022-06-24T21:54:06.838Z"
   },
   {
    "duration": 215,
    "start_time": "2022-06-24T21:54:11.543Z"
   },
   {
    "duration": 155,
    "start_time": "2022-06-24T21:54:11.761Z"
   },
   {
    "duration": 7,
    "start_time": "2022-06-24T21:54:11.917Z"
   },
   {
    "duration": 1591,
    "start_time": "2022-06-25T06:38:22.845Z"
   },
   {
    "duration": 153,
    "start_time": "2022-06-25T06:38:24.438Z"
   },
   {
    "duration": 15,
    "start_time": "2022-06-25T06:38:24.592Z"
   },
   {
    "duration": 56,
    "start_time": "2022-06-25T06:38:24.610Z"
   },
   {
    "duration": 23,
    "start_time": "2022-06-25T06:38:24.668Z"
   },
   {
    "duration": 44,
    "start_time": "2022-06-25T06:38:24.692Z"
   },
   {
    "duration": 42,
    "start_time": "2022-06-25T06:38:24.737Z"
   },
   {
    "duration": 197,
    "start_time": "2022-06-25T06:38:24.781Z"
   },
   {
    "duration": 17,
    "start_time": "2022-06-25T06:38:24.980Z"
   },
   {
    "duration": 3,
    "start_time": "2022-06-25T06:38:25.001Z"
   },
   {
    "duration": 58,
    "start_time": "2022-06-25T06:38:25.005Z"
   },
   {
    "duration": 7,
    "start_time": "2022-06-25T06:38:25.065Z"
   },
   {
    "duration": 10,
    "start_time": "2022-06-25T06:38:25.074Z"
   },
   {
    "duration": 9,
    "start_time": "2022-06-25T06:38:25.086Z"
   },
   {
    "duration": 49,
    "start_time": "2022-06-25T06:38:25.097Z"
   },
   {
    "duration": 12,
    "start_time": "2022-06-25T06:38:25.148Z"
   },
   {
    "duration": 41,
    "start_time": "2022-06-25T06:38:25.161Z"
   },
   {
    "duration": 44,
    "start_time": "2022-06-25T06:38:25.204Z"
   },
   {
    "duration": 129,
    "start_time": "2022-06-25T06:38:25.328Z"
   },
   {
    "duration": 10,
    "start_time": "2022-06-25T06:38:25.459Z"
   },
   {
    "duration": 28931,
    "start_time": "2022-06-25T06:38:25.470Z"
   },
   {
    "duration": 9,
    "start_time": "2022-06-25T06:38:54.403Z"
   },
   {
    "duration": 297,
    "start_time": "2022-06-25T06:38:54.414Z"
   },
   {
    "duration": 545,
    "start_time": "2022-06-25T06:38:54.726Z"
   },
   {
    "duration": 74,
    "start_time": "2022-06-25T06:38:55.273Z"
   },
   {
    "duration": 181,
    "start_time": "2022-06-25T06:38:55.351Z"
   },
   {
    "duration": 4942,
    "start_time": "2022-06-25T06:38:55.533Z"
   },
   {
    "duration": 262,
    "start_time": "2022-06-25T06:39:00.479Z"
   },
   {
    "duration": 150,
    "start_time": "2022-06-25T06:39:00.743Z"
   },
   {
    "duration": 4,
    "start_time": "2022-06-25T06:39:00.895Z"
   },
   {
    "duration": 5,
    "start_time": "2022-06-25T07:12:10.664Z"
   },
   {
    "duration": 100,
    "start_time": "2022-06-25T07:12:10.672Z"
   },
   {
    "duration": 15,
    "start_time": "2022-06-25T07:12:10.775Z"
   },
   {
    "duration": 39,
    "start_time": "2022-06-25T07:12:10.793Z"
   },
   {
    "duration": 10,
    "start_time": "2022-06-25T07:12:10.835Z"
   },
   {
    "duration": 11,
    "start_time": "2022-06-25T07:12:10.847Z"
   },
   {
    "duration": 71,
    "start_time": "2022-06-25T07:12:10.860Z"
   },
   {
    "duration": 179,
    "start_time": "2022-06-25T07:12:10.933Z"
   },
   {
    "duration": 21,
    "start_time": "2022-06-25T07:12:11.126Z"
   },
   {
    "duration": 3,
    "start_time": "2022-06-25T07:12:11.149Z"
   },
   {
    "duration": 41,
    "start_time": "2022-06-25T07:12:11.153Z"
   },
   {
    "duration": 7,
    "start_time": "2022-06-25T07:12:11.196Z"
   },
   {
    "duration": 13,
    "start_time": "2022-06-25T07:12:11.225Z"
   },
   {
    "duration": 10,
    "start_time": "2022-06-25T07:12:11.240Z"
   },
   {
    "duration": 34,
    "start_time": "2022-06-25T07:12:11.252Z"
   },
   {
    "duration": 24,
    "start_time": "2022-06-25T07:12:11.289Z"
   },
   {
    "duration": 47,
    "start_time": "2022-06-25T07:12:11.315Z"
   },
   {
    "duration": 162,
    "start_time": "2022-06-25T07:12:11.364Z"
   },
   {
    "duration": 37,
    "start_time": "2022-06-25T07:12:11.529Z"
   },
   {
    "duration": 8,
    "start_time": "2022-06-25T07:12:11.568Z"
   },
   {
    "duration": 27808,
    "start_time": "2022-06-25T07:12:11.578Z"
   },
   {
    "duration": 7,
    "start_time": "2022-06-25T07:12:39.388Z"
   },
   {
    "duration": 257,
    "start_time": "2022-06-25T07:12:39.396Z"
   },
   {
    "duration": 540,
    "start_time": "2022-06-25T07:12:39.656Z"
   },
   {
    "duration": 56,
    "start_time": "2022-06-25T07:12:40.198Z"
   },
   {
    "duration": 184,
    "start_time": "2022-06-25T07:12:40.256Z"
   },
   {
    "duration": 5054,
    "start_time": "2022-06-25T07:12:40.442Z"
   },
   {
    "duration": 238,
    "start_time": "2022-06-25T07:12:45.499Z"
   },
   {
    "duration": 136,
    "start_time": "2022-06-25T07:12:45.739Z"
   },
   {
    "duration": 4,
    "start_time": "2022-06-25T07:12:45.878Z"
   },
   {
    "duration": 4,
    "start_time": "2022-06-25T07:14:27.716Z"
   },
   {
    "duration": 84,
    "start_time": "2022-06-25T07:14:27.722Z"
   },
   {
    "duration": 14,
    "start_time": "2022-06-25T07:14:27.807Z"
   },
   {
    "duration": 22,
    "start_time": "2022-06-25T07:14:27.822Z"
   },
   {
    "duration": 7,
    "start_time": "2022-06-25T07:14:27.846Z"
   },
   {
    "duration": 9,
    "start_time": "2022-06-25T07:14:27.855Z"
   },
   {
    "duration": 25,
    "start_time": "2022-06-25T07:14:27.866Z"
   },
   {
    "duration": 169,
    "start_time": "2022-06-25T07:14:27.927Z"
   },
   {
    "duration": 17,
    "start_time": "2022-06-25T07:14:28.098Z"
   },
   {
    "duration": 10,
    "start_time": "2022-06-25T07:14:28.117Z"
   },
   {
    "duration": 44,
    "start_time": "2022-06-25T07:14:28.130Z"
   },
   {
    "duration": 6,
    "start_time": "2022-06-25T07:14:28.176Z"
   },
   {
    "duration": 8,
    "start_time": "2022-06-25T07:14:28.184Z"
   },
   {
    "duration": 34,
    "start_time": "2022-06-25T07:14:28.193Z"
   },
   {
    "duration": 25,
    "start_time": "2022-06-25T07:14:28.229Z"
   },
   {
    "duration": 11,
    "start_time": "2022-06-25T07:14:28.257Z"
   },
   {
    "duration": 57,
    "start_time": "2022-06-25T07:14:28.270Z"
   },
   {
    "duration": 102,
    "start_time": "2022-06-25T07:14:28.329Z"
   },
   {
    "duration": 130,
    "start_time": "2022-06-25T07:14:28.433Z"
   },
   {
    "duration": 7,
    "start_time": "2022-06-25T07:14:28.565Z"
   },
   {
    "duration": 28529,
    "start_time": "2022-06-25T07:14:28.573Z"
   },
   {
    "duration": 8,
    "start_time": "2022-06-25T07:14:57.104Z"
   },
   {
    "duration": 314,
    "start_time": "2022-06-25T07:14:57.114Z"
   },
   {
    "duration": 592,
    "start_time": "2022-06-25T07:14:57.429Z"
   },
   {
    "duration": 105,
    "start_time": "2022-06-25T07:14:58.022Z"
   },
   {
    "duration": 117,
    "start_time": "2022-06-25T07:14:58.130Z"
   },
   {
    "duration": 1372,
    "start_time": "2022-06-25T07:22:17.945Z"
   },
   {
    "duration": 156,
    "start_time": "2022-06-25T07:22:19.319Z"
   },
   {
    "duration": 14,
    "start_time": "2022-06-25T07:22:19.477Z"
   },
   {
    "duration": 28,
    "start_time": "2022-06-25T07:22:19.493Z"
   },
   {
    "duration": 9,
    "start_time": "2022-06-25T07:22:19.524Z"
   },
   {
    "duration": 11,
    "start_time": "2022-06-25T07:22:19.535Z"
   },
   {
    "duration": 27,
    "start_time": "2022-06-25T07:22:19.548Z"
   },
   {
    "duration": 192,
    "start_time": "2022-06-25T07:22:19.577Z"
   },
   {
    "duration": 16,
    "start_time": "2022-06-25T07:22:19.770Z"
   },
   {
    "duration": 3,
    "start_time": "2022-06-25T07:22:19.787Z"
   },
   {
    "duration": 52,
    "start_time": "2022-06-25T07:22:19.791Z"
   },
   {
    "duration": 6,
    "start_time": "2022-06-25T07:22:19.844Z"
   },
   {
    "duration": 13,
    "start_time": "2022-06-25T07:22:19.851Z"
   },
   {
    "duration": 10,
    "start_time": "2022-06-25T07:22:19.866Z"
   },
   {
    "duration": 25,
    "start_time": "2022-06-25T07:22:19.877Z"
   },
   {
    "duration": 11,
    "start_time": "2022-06-25T07:22:19.904Z"
   },
   {
    "duration": 38,
    "start_time": "2022-06-25T07:22:19.926Z"
   },
   {
    "duration": 69,
    "start_time": "2022-06-25T07:22:19.966Z"
   },
   {
    "duration": 116,
    "start_time": "2022-06-25T07:22:20.037Z"
   },
   {
    "duration": 9,
    "start_time": "2022-06-25T07:22:20.155Z"
   },
   {
    "duration": 28184,
    "start_time": "2022-06-25T07:22:20.166Z"
   },
   {
    "duration": 7,
    "start_time": "2022-06-25T07:22:48.351Z"
   },
   {
    "duration": 256,
    "start_time": "2022-06-25T07:22:48.359Z"
   },
   {
    "duration": 555,
    "start_time": "2022-06-25T07:22:48.617Z"
   },
   {
    "duration": 158,
    "start_time": "2022-06-25T07:22:49.174Z"
   },
   {
    "duration": 118,
    "start_time": "2022-06-25T07:22:49.335Z"
   },
   {
    "duration": 43300,
    "start_time": "2022-06-25T07:22:49.454Z"
   },
   {
    "duration": 271,
    "start_time": "2022-06-25T07:23:32.756Z"
   },
   {
    "duration": 140,
    "start_time": "2022-06-25T07:23:33.029Z"
   },
   {
    "duration": 4,
    "start_time": "2022-06-25T07:23:33.172Z"
   },
   {
    "duration": 3,
    "start_time": "2022-06-25T07:26:37.517Z"
   },
   {
    "duration": 86,
    "start_time": "2022-06-25T07:26:37.522Z"
   },
   {
    "duration": 13,
    "start_time": "2022-06-25T07:26:37.610Z"
   },
   {
    "duration": 23,
    "start_time": "2022-06-25T07:26:37.625Z"
   },
   {
    "duration": 8,
    "start_time": "2022-06-25T07:26:37.650Z"
   },
   {
    "duration": 13,
    "start_time": "2022-06-25T07:26:37.660Z"
   },
   {
    "duration": 63,
    "start_time": "2022-06-25T07:26:37.675Z"
   },
   {
    "duration": 169,
    "start_time": "2022-06-25T07:26:37.740Z"
   },
   {
    "duration": 25,
    "start_time": "2022-06-25T07:26:37.910Z"
   },
   {
    "duration": 2,
    "start_time": "2022-06-25T07:26:37.937Z"
   },
   {
    "duration": 132,
    "start_time": "2022-06-25T07:26:37.942Z"
   },
   {
    "duration": 8,
    "start_time": "2022-06-25T07:26:38.076Z"
   },
   {
    "duration": 8,
    "start_time": "2022-06-25T07:26:38.086Z"
   },
   {
    "duration": 10,
    "start_time": "2022-06-25T07:26:38.096Z"
   },
   {
    "duration": 26,
    "start_time": "2022-06-25T07:26:38.125Z"
   },
   {
    "duration": 12,
    "start_time": "2022-06-25T07:26:38.154Z"
   },
   {
    "duration": 43,
    "start_time": "2022-06-25T07:26:38.167Z"
   },
   {
    "duration": 21,
    "start_time": "2022-06-25T07:26:38.212Z"
   },
   {
    "duration": 208,
    "start_time": "2022-06-25T07:26:38.235Z"
   },
   {
    "duration": 9,
    "start_time": "2022-06-25T07:26:38.445Z"
   },
   {
    "duration": 27751,
    "start_time": "2022-06-25T07:26:38.456Z"
   },
   {
    "duration": 8,
    "start_time": "2022-06-25T07:27:06.209Z"
   },
   {
    "duration": 278,
    "start_time": "2022-06-25T07:27:06.226Z"
   },
   {
    "duration": 532,
    "start_time": "2022-06-25T07:27:06.506Z"
   },
   {
    "duration": 90,
    "start_time": "2022-06-25T07:27:07.040Z"
   },
   {
    "duration": 119,
    "start_time": "2022-06-25T07:27:07.133Z"
   },
   {
    "duration": 29310,
    "start_time": "2022-06-25T07:27:07.254Z"
   },
   {
    "duration": 235,
    "start_time": "2022-06-25T07:27:36.566Z"
   },
   {
    "duration": 425,
    "start_time": "2022-06-25T07:27:36.803Z"
   },
   {
    "duration": 4,
    "start_time": "2022-06-25T07:27:37.230Z"
   },
   {
    "duration": 517,
    "start_time": "2022-06-25T07:29:13.793Z"
   },
   {
    "duration": 3,
    "start_time": "2022-06-25T07:29:31.910Z"
   },
   {
    "duration": 102,
    "start_time": "2022-06-25T07:29:31.915Z"
   },
   {
    "duration": 15,
    "start_time": "2022-06-25T07:29:32.019Z"
   },
   {
    "duration": 26,
    "start_time": "2022-06-25T07:29:32.036Z"
   },
   {
    "duration": 9,
    "start_time": "2022-06-25T07:29:32.064Z"
   },
   {
    "duration": 13,
    "start_time": "2022-06-25T07:29:32.074Z"
   },
   {
    "duration": 56,
    "start_time": "2022-06-25T07:29:32.088Z"
   },
   {
    "duration": 190,
    "start_time": "2022-06-25T07:29:32.146Z"
   },
   {
    "duration": 17,
    "start_time": "2022-06-25T07:29:32.340Z"
   },
   {
    "duration": 3,
    "start_time": "2022-06-25T07:29:32.359Z"
   },
   {
    "duration": 47,
    "start_time": "2022-06-25T07:29:32.363Z"
   },
   {
    "duration": 19,
    "start_time": "2022-06-25T07:29:32.411Z"
   },
   {
    "duration": 21,
    "start_time": "2022-06-25T07:29:32.432Z"
   },
   {
    "duration": 15,
    "start_time": "2022-06-25T07:29:32.455Z"
   },
   {
    "duration": 25,
    "start_time": "2022-06-25T07:29:32.472Z"
   },
   {
    "duration": 13,
    "start_time": "2022-06-25T07:29:32.499Z"
   },
   {
    "duration": 39,
    "start_time": "2022-06-25T07:29:32.527Z"
   },
   {
    "duration": 59,
    "start_time": "2022-06-25T07:29:32.568Z"
   },
   {
    "duration": 116,
    "start_time": "2022-06-25T07:29:32.629Z"
   },
   {
    "duration": 8,
    "start_time": "2022-06-25T07:29:32.747Z"
   },
   {
    "duration": 28383,
    "start_time": "2022-06-25T07:29:32.757Z"
   },
   {
    "duration": 9,
    "start_time": "2022-06-25T07:30:01.142Z"
   },
   {
    "duration": 324,
    "start_time": "2022-06-25T07:30:01.153Z"
   },
   {
    "duration": 574,
    "start_time": "2022-06-25T07:30:01.480Z"
   },
   {
    "duration": 71,
    "start_time": "2022-06-25T07:30:02.056Z"
   },
   {
    "duration": 124,
    "start_time": "2022-06-25T07:30:02.129Z"
   },
   {
    "duration": 30616,
    "start_time": "2022-06-25T07:30:02.255Z"
   },
   {
    "duration": 265,
    "start_time": "2022-06-25T07:30:32.874Z"
   },
   {
    "duration": 478,
    "start_time": "2022-06-25T07:30:33.141Z"
   },
   {
    "duration": 6,
    "start_time": "2022-06-25T07:30:33.621Z"
   },
   {
    "duration": 3,
    "start_time": "2022-06-25T07:34:01.221Z"
   },
   {
    "duration": 113,
    "start_time": "2022-06-25T07:34:01.227Z"
   },
   {
    "duration": 16,
    "start_time": "2022-06-25T07:34:01.342Z"
   },
   {
    "duration": 58,
    "start_time": "2022-06-25T07:34:01.359Z"
   },
   {
    "duration": 22,
    "start_time": "2022-06-25T07:34:01.420Z"
   },
   {
    "duration": 41,
    "start_time": "2022-06-25T07:34:01.443Z"
   },
   {
    "duration": 39,
    "start_time": "2022-06-25T07:34:01.486Z"
   },
   {
    "duration": 186,
    "start_time": "2022-06-25T07:34:01.528Z"
   },
   {
    "duration": 21,
    "start_time": "2022-06-25T07:34:01.716Z"
   },
   {
    "duration": 21,
    "start_time": "2022-06-25T07:34:01.739Z"
   },
   {
    "duration": 92,
    "start_time": "2022-06-25T07:34:01.763Z"
   },
   {
    "duration": 6,
    "start_time": "2022-06-25T07:34:01.857Z"
   },
   {
    "duration": 22,
    "start_time": "2022-06-25T07:34:01.865Z"
   },
   {
    "duration": 15,
    "start_time": "2022-06-25T07:34:01.889Z"
   },
   {
    "duration": 37,
    "start_time": "2022-06-25T07:34:01.906Z"
   },
   {
    "duration": 29,
    "start_time": "2022-06-25T07:34:01.945Z"
   },
   {
    "duration": 45,
    "start_time": "2022-06-25T07:34:01.977Z"
   },
   {
    "duration": 12,
    "start_time": "2022-06-25T07:34:02.024Z"
   },
   {
    "duration": 200,
    "start_time": "2022-06-25T07:34:02.038Z"
   },
   {
    "duration": 8,
    "start_time": "2022-06-25T07:34:02.240Z"
   },
   {
    "duration": 27926,
    "start_time": "2022-06-25T07:34:02.249Z"
   },
   {
    "duration": 8,
    "start_time": "2022-06-25T07:34:30.177Z"
   },
   {
    "duration": 269,
    "start_time": "2022-06-25T07:34:30.186Z"
   },
   {
    "duration": 546,
    "start_time": "2022-06-25T07:34:30.457Z"
   },
   {
    "duration": 125,
    "start_time": "2022-06-25T07:34:31.006Z"
   },
   {
    "duration": 123,
    "start_time": "2022-06-25T07:34:31.133Z"
   },
   {
    "duration": 30993,
    "start_time": "2022-06-25T07:34:31.258Z"
   },
   {
    "duration": 250,
    "start_time": "2022-06-25T07:35:02.253Z"
   },
   {
    "duration": 434,
    "start_time": "2022-06-25T07:35:02.506Z"
   },
   {
    "duration": 4,
    "start_time": "2022-06-25T07:35:02.942Z"
   },
   {
    "duration": 4,
    "start_time": "2022-06-25T07:35:23.210Z"
   },
   {
    "duration": 493,
    "start_time": "2022-06-25T07:35:23.216Z"
   },
   {
    "duration": 16,
    "start_time": "2022-06-25T07:35:23.711Z"
   },
   {
    "duration": 23,
    "start_time": "2022-06-25T07:35:23.729Z"
   },
   {
    "duration": 9,
    "start_time": "2022-06-25T07:35:23.755Z"
   },
   {
    "duration": 10,
    "start_time": "2022-06-25T07:35:23.766Z"
   },
   {
    "duration": 58,
    "start_time": "2022-06-25T07:35:23.778Z"
   },
   {
    "duration": 172,
    "start_time": "2022-06-25T07:35:23.838Z"
   },
   {
    "duration": 26,
    "start_time": "2022-06-25T07:35:24.012Z"
   },
   {
    "duration": 2,
    "start_time": "2022-06-25T07:35:24.040Z"
   },
   {
    "duration": 36,
    "start_time": "2022-06-25T07:35:24.044Z"
   },
   {
    "duration": 6,
    "start_time": "2022-06-25T07:35:24.081Z"
   },
   {
    "duration": 6,
    "start_time": "2022-06-25T07:35:24.089Z"
   },
   {
    "duration": 35,
    "start_time": "2022-06-25T07:35:24.097Z"
   },
   {
    "duration": 21,
    "start_time": "2022-06-25T07:35:24.133Z"
   },
   {
    "duration": 11,
    "start_time": "2022-06-25T07:35:24.156Z"
   },
   {
    "duration": 58,
    "start_time": "2022-06-25T07:35:24.169Z"
   },
   {
    "duration": 10,
    "start_time": "2022-06-25T07:35:24.228Z"
   },
   {
    "duration": 209,
    "start_time": "2022-06-25T07:35:24.242Z"
   },
   {
    "duration": 10,
    "start_time": "2022-06-25T07:35:24.453Z"
   },
   {
    "duration": 28566,
    "start_time": "2022-06-25T07:35:24.466Z"
   },
   {
    "duration": 7,
    "start_time": "2022-06-25T07:35:53.034Z"
   },
   {
    "duration": 283,
    "start_time": "2022-06-25T07:35:53.043Z"
   },
   {
    "duration": 583,
    "start_time": "2022-06-25T07:35:53.328Z"
   },
   {
    "duration": 118,
    "start_time": "2022-06-25T07:35:53.913Z"
   },
   {
    "duration": 124,
    "start_time": "2022-06-25T07:35:54.034Z"
   },
   {
    "duration": 30100,
    "start_time": "2022-06-25T07:35:54.160Z"
   },
   {
    "duration": 301,
    "start_time": "2022-06-25T07:36:24.263Z"
   },
   {
    "duration": 478,
    "start_time": "2022-06-25T07:36:24.566Z"
   },
   {
    "duration": 4,
    "start_time": "2022-06-25T07:36:25.046Z"
   },
   {
    "duration": 5,
    "start_time": "2022-06-25T07:38:38.316Z"
   },
   {
    "duration": 100,
    "start_time": "2022-06-25T07:38:38.324Z"
   },
   {
    "duration": 14,
    "start_time": "2022-06-25T07:38:38.426Z"
   },
   {
    "duration": 31,
    "start_time": "2022-06-25T07:38:38.442Z"
   },
   {
    "duration": 10,
    "start_time": "2022-06-25T07:38:38.476Z"
   },
   {
    "duration": 39,
    "start_time": "2022-06-25T07:38:38.488Z"
   },
   {
    "duration": 33,
    "start_time": "2022-06-25T07:38:38.529Z"
   },
   {
    "duration": 192,
    "start_time": "2022-06-25T07:38:38.564Z"
   },
   {
    "duration": 17,
    "start_time": "2022-06-25T07:38:38.758Z"
   },
   {
    "duration": 2,
    "start_time": "2022-06-25T07:38:38.777Z"
   },
   {
    "duration": 57,
    "start_time": "2022-06-25T07:38:38.782Z"
   },
   {
    "duration": 6,
    "start_time": "2022-06-25T07:38:38.841Z"
   },
   {
    "duration": 8,
    "start_time": "2022-06-25T07:38:38.849Z"
   },
   {
    "duration": 8,
    "start_time": "2022-06-25T07:38:38.859Z"
   },
   {
    "duration": 26,
    "start_time": "2022-06-25T07:38:38.869Z"
   },
   {
    "duration": 34,
    "start_time": "2022-06-25T07:38:38.898Z"
   },
   {
    "duration": 42,
    "start_time": "2022-06-25T07:38:38.934Z"
   },
   {
    "duration": 58,
    "start_time": "2022-06-25T07:38:38.978Z"
   },
   {
    "duration": 124,
    "start_time": "2022-06-25T07:38:39.039Z"
   },
   {
    "duration": 9,
    "start_time": "2022-06-25T07:38:39.165Z"
   },
   {
    "duration": 28641,
    "start_time": "2022-06-25T07:38:39.176Z"
   },
   {
    "duration": 13,
    "start_time": "2022-06-25T07:39:07.819Z"
   },
   {
    "duration": 303,
    "start_time": "2022-06-25T07:39:07.834Z"
   },
   {
    "duration": 577,
    "start_time": "2022-06-25T07:39:08.139Z"
   },
   {
    "duration": 208,
    "start_time": "2022-06-25T07:39:08.718Z"
   },
   {
    "duration": 35,
    "start_time": "2022-06-25T07:39:08.928Z"
   },
   {
    "duration": 30571,
    "start_time": "2022-06-25T07:39:08.965Z"
   },
   {
    "duration": 245,
    "start_time": "2022-06-25T07:39:39.537Z"
   },
   {
    "duration": 468,
    "start_time": "2022-06-25T07:39:39.786Z"
   },
   {
    "duration": 4,
    "start_time": "2022-06-25T07:39:40.256Z"
   },
   {
    "duration": 5,
    "start_time": "2022-06-25T07:40:20.337Z"
   },
   {
    "duration": 198,
    "start_time": "2022-06-25T07:40:20.345Z"
   },
   {
    "duration": 16,
    "start_time": "2022-06-25T07:40:20.545Z"
   },
   {
    "duration": 23,
    "start_time": "2022-06-25T07:40:20.563Z"
   },
   {
    "duration": 8,
    "start_time": "2022-06-25T07:40:20.588Z"
   },
   {
    "duration": 38,
    "start_time": "2022-06-25T07:40:20.597Z"
   },
   {
    "duration": 35,
    "start_time": "2022-06-25T07:40:20.637Z"
   },
   {
    "duration": 197,
    "start_time": "2022-06-25T07:40:20.674Z"
   },
   {
    "duration": 16,
    "start_time": "2022-06-25T07:40:20.873Z"
   },
   {
    "duration": 3,
    "start_time": "2022-06-25T07:40:20.890Z"
   },
   {
    "duration": 73,
    "start_time": "2022-06-25T07:40:20.894Z"
   },
   {
    "duration": 9,
    "start_time": "2022-06-25T07:40:20.969Z"
   },
   {
    "duration": 19,
    "start_time": "2022-06-25T07:40:20.979Z"
   },
   {
    "duration": 14,
    "start_time": "2022-06-25T07:40:21.000Z"
   },
   {
    "duration": 34,
    "start_time": "2022-06-25T07:40:21.025Z"
   },
   {
    "duration": 15,
    "start_time": "2022-06-25T07:40:21.069Z"
   },
   {
    "duration": 45,
    "start_time": "2022-06-25T07:40:21.086Z"
   },
   {
    "duration": 103,
    "start_time": "2022-06-25T07:40:21.133Z"
   },
   {
    "duration": 133,
    "start_time": "2022-06-25T07:40:21.240Z"
   },
   {
    "duration": 8,
    "start_time": "2022-06-25T07:40:21.376Z"
   },
   {
    "duration": 28769,
    "start_time": "2022-06-25T07:40:21.386Z"
   },
   {
    "duration": 7,
    "start_time": "2022-06-25T07:40:50.157Z"
   },
   {
    "duration": 324,
    "start_time": "2022-06-25T07:40:50.166Z"
   },
   {
    "duration": 554,
    "start_time": "2022-06-25T07:40:50.493Z"
   },
   {
    "duration": 76,
    "start_time": "2022-06-25T07:40:51.062Z"
   },
   {
    "duration": 206,
    "start_time": "2022-06-25T07:40:51.139Z"
   },
   {
    "duration": 32028,
    "start_time": "2022-06-25T07:40:51.347Z"
   },
   {
    "duration": 285,
    "start_time": "2022-06-25T07:41:23.376Z"
   },
   {
    "duration": 449,
    "start_time": "2022-06-25T07:41:23.664Z"
   },
   {
    "duration": 4,
    "start_time": "2022-06-25T07:41:24.115Z"
   },
   {
    "duration": 28,
    "start_time": "2022-06-25T07:56:53.880Z"
   },
   {
    "duration": 84,
    "start_time": "2022-06-25T07:56:53.910Z"
   },
   {
    "duration": 17,
    "start_time": "2022-06-25T07:56:53.996Z"
   },
   {
    "duration": 36,
    "start_time": "2022-06-25T07:56:54.015Z"
   },
   {
    "duration": 11,
    "start_time": "2022-06-25T07:56:54.054Z"
   },
   {
    "duration": 14,
    "start_time": "2022-06-25T07:56:54.067Z"
   },
   {
    "duration": 57,
    "start_time": "2022-06-25T07:56:54.083Z"
   },
   {
    "duration": 209,
    "start_time": "2022-06-25T07:56:54.143Z"
   },
   {
    "duration": 19,
    "start_time": "2022-06-25T07:56:54.354Z"
   },
   {
    "duration": 12,
    "start_time": "2022-06-25T07:56:54.381Z"
   },
   {
    "duration": 72,
    "start_time": "2022-06-25T07:56:54.395Z"
   },
   {
    "duration": 8,
    "start_time": "2022-06-25T07:56:54.470Z"
   },
   {
    "duration": 24,
    "start_time": "2022-06-25T07:56:54.480Z"
   },
   {
    "duration": 27,
    "start_time": "2022-06-25T07:56:54.507Z"
   },
   {
    "duration": 38,
    "start_time": "2022-06-25T07:56:54.537Z"
   },
   {
    "duration": 19,
    "start_time": "2022-06-25T07:56:54.577Z"
   },
   {
    "duration": 69,
    "start_time": "2022-06-25T07:56:54.598Z"
   },
   {
    "duration": 56,
    "start_time": "2022-06-25T07:56:54.670Z"
   },
   {
    "duration": 131,
    "start_time": "2022-06-25T07:56:54.729Z"
   },
   {
    "duration": 9,
    "start_time": "2022-06-25T07:56:54.861Z"
   },
   {
    "duration": 29364,
    "start_time": "2022-06-25T07:56:54.871Z"
   },
   {
    "duration": 8,
    "start_time": "2022-06-25T07:57:24.237Z"
   },
   {
    "duration": 343,
    "start_time": "2022-06-25T07:57:24.247Z"
   },
   {
    "duration": 617,
    "start_time": "2022-06-25T07:57:24.592Z"
   },
   {
    "duration": 124,
    "start_time": "2022-06-25T07:57:25.211Z"
   },
   {
    "duration": 115,
    "start_time": "2022-06-25T07:57:25.339Z"
   },
   {
    "duration": 32855,
    "start_time": "2022-06-25T07:57:25.456Z"
   },
   {
    "duration": 259,
    "start_time": "2022-06-25T07:57:58.313Z"
   },
   {
    "duration": 480,
    "start_time": "2022-06-25T07:57:58.573Z"
   },
   {
    "duration": 4,
    "start_time": "2022-06-25T07:57:59.055Z"
   },
   {
    "duration": 101,
    "start_time": "2022-06-25T08:20:06.902Z"
   },
   {
    "duration": 90,
    "start_time": "2022-06-25T08:20:26.178Z"
   },
   {
    "duration": 40,
    "start_time": "2022-06-25T08:29:31.017Z"
   },
   {
    "duration": 122,
    "start_time": "2022-06-25T08:29:31.060Z"
   },
   {
    "duration": 16,
    "start_time": "2022-06-25T08:29:31.392Z"
   },
   {
    "duration": 78,
    "start_time": "2022-06-25T08:29:31.410Z"
   },
   {
    "duration": 22,
    "start_time": "2022-06-25T08:29:31.490Z"
   },
   {
    "duration": 81,
    "start_time": "2022-06-25T08:29:31.514Z"
   },
   {
    "duration": 54,
    "start_time": "2022-06-25T08:29:31.597Z"
   },
   {
    "duration": 200,
    "start_time": "2022-06-25T08:29:31.652Z"
   },
   {
    "duration": 18,
    "start_time": "2022-06-25T08:29:31.854Z"
   },
   {
    "duration": 11,
    "start_time": "2022-06-25T08:29:31.874Z"
   },
   {
    "duration": 37,
    "start_time": "2022-06-25T08:29:31.886Z"
   },
   {
    "duration": 40,
    "start_time": "2022-06-25T08:29:31.924Z"
   },
   {
    "duration": 13,
    "start_time": "2022-06-25T08:29:31.966Z"
   },
   {
    "duration": 50,
    "start_time": "2022-06-25T08:29:31.981Z"
   },
   {
    "duration": 112,
    "start_time": "2022-06-25T08:29:32.034Z"
   },
   {
    "duration": 113,
    "start_time": "2022-06-25T08:29:32.158Z"
   },
   {
    "duration": 9,
    "start_time": "2022-06-25T08:29:32.273Z"
   },
   {
    "duration": 31533,
    "start_time": "2022-06-25T08:29:32.288Z"
   },
   {
    "duration": 11,
    "start_time": "2022-06-25T08:30:03.823Z"
   },
   {
    "duration": 288,
    "start_time": "2022-06-25T08:30:03.838Z"
   },
   {
    "duration": 666,
    "start_time": "2022-06-25T08:30:04.129Z"
   },
   {
    "duration": 64,
    "start_time": "2022-06-25T08:30:04.797Z"
   },
   {
    "duration": 193,
    "start_time": "2022-06-25T08:30:04.863Z"
   },
   {
    "duration": 32879,
    "start_time": "2022-06-25T08:30:05.058Z"
   },
   {
    "duration": 270,
    "start_time": "2022-06-25T08:30:37.939Z"
   },
   {
    "duration": 545,
    "start_time": "2022-06-25T08:30:38.210Z"
   },
   {
    "duration": 5,
    "start_time": "2022-06-25T08:30:38.757Z"
   },
   {
    "duration": 142,
    "start_time": "2022-06-25T08:31:01.583Z"
   },
   {
    "duration": 21,
    "start_time": "2022-06-25T08:31:12.799Z"
   },
   {
    "duration": 34,
    "start_time": "2022-06-25T08:39:50.185Z"
   },
   {
    "duration": 106,
    "start_time": "2022-06-25T08:39:50.222Z"
   },
   {
    "duration": 14,
    "start_time": "2022-06-25T08:39:50.330Z"
   },
   {
    "duration": 41,
    "start_time": "2022-06-25T08:39:50.347Z"
   },
   {
    "duration": 9,
    "start_time": "2022-06-25T08:39:50.389Z"
   },
   {
    "duration": 41,
    "start_time": "2022-06-25T08:39:50.400Z"
   },
   {
    "duration": 32,
    "start_time": "2022-06-25T08:39:50.442Z"
   },
   {
    "duration": 208,
    "start_time": "2022-06-25T08:39:50.476Z"
   },
   {
    "duration": 17,
    "start_time": "2022-06-25T08:39:50.686Z"
   },
   {
    "duration": 24,
    "start_time": "2022-06-25T08:39:50.707Z"
   },
   {
    "duration": 8,
    "start_time": "2022-06-25T08:39:50.733Z"
   },
   {
    "duration": 25,
    "start_time": "2022-06-25T08:39:50.742Z"
   },
   {
    "duration": 13,
    "start_time": "2022-06-25T08:39:50.769Z"
   },
   {
    "duration": 71,
    "start_time": "2022-06-25T08:39:50.784Z"
   },
   {
    "duration": 17,
    "start_time": "2022-06-25T08:39:50.857Z"
   },
   {
    "duration": 129,
    "start_time": "2022-06-25T08:39:50.931Z"
   },
   {
    "duration": 8,
    "start_time": "2022-06-25T08:39:51.062Z"
   },
   {
    "duration": 28994,
    "start_time": "2022-06-25T08:39:51.072Z"
   },
   {
    "duration": 7,
    "start_time": "2022-06-25T08:40:20.068Z"
   },
   {
    "duration": 292,
    "start_time": "2022-06-25T08:40:20.076Z"
   },
   {
    "duration": 540,
    "start_time": "2022-06-25T08:40:20.371Z"
   },
   {
    "duration": 213,
    "start_time": "2022-06-25T08:40:20.913Z"
   },
   {
    "duration": 33,
    "start_time": "2022-06-25T08:40:21.128Z"
   },
   {
    "duration": 30095,
    "start_time": "2022-06-25T08:40:21.163Z"
   },
   {
    "duration": 269,
    "start_time": "2022-06-25T08:40:51.261Z"
   },
   {
    "duration": 476,
    "start_time": "2022-06-25T08:40:51.532Z"
   },
   {
    "duration": 4,
    "start_time": "2022-06-25T08:40:52.010Z"
   },
   {
    "duration": 16,
    "start_time": "2022-06-25T08:45:23.094Z"
   },
   {
    "duration": 0,
    "start_time": "2022-06-25T08:45:23.113Z"
   },
   {
    "duration": 0,
    "start_time": "2022-06-25T08:45:23.114Z"
   },
   {
    "duration": 0,
    "start_time": "2022-06-25T08:45:23.116Z"
   },
   {
    "duration": 0,
    "start_time": "2022-06-25T08:45:23.118Z"
   },
   {
    "duration": 0,
    "start_time": "2022-06-25T08:45:23.119Z"
   },
   {
    "duration": 45,
    "start_time": "2022-06-25T08:45:23.122Z"
   },
   {
    "duration": 305,
    "start_time": "2022-06-25T08:45:23.169Z"
   },
   {
    "duration": 21,
    "start_time": "2022-06-25T08:45:23.476Z"
   },
   {
    "duration": 30,
    "start_time": "2022-06-25T08:45:23.501Z"
   },
   {
    "duration": 7,
    "start_time": "2022-06-25T08:45:23.534Z"
   },
   {
    "duration": 36,
    "start_time": "2022-06-25T08:45:23.544Z"
   },
   {
    "duration": 19,
    "start_time": "2022-06-25T08:45:23.583Z"
   },
   {
    "duration": 55,
    "start_time": "2022-06-25T08:45:23.626Z"
   },
   {
    "duration": 148,
    "start_time": "2022-06-25T08:45:23.684Z"
   },
   {
    "duration": 98,
    "start_time": "2022-06-25T08:45:23.834Z"
   },
   {
    "duration": 10,
    "start_time": "2022-06-25T08:45:23.934Z"
   },
   {
    "duration": 34382,
    "start_time": "2022-06-25T08:45:23.947Z"
   },
   {
    "duration": 15,
    "start_time": "2022-06-25T08:45:58.331Z"
   },
   {
    "duration": 331,
    "start_time": "2022-06-25T08:45:58.349Z"
   },
   {
    "duration": 752,
    "start_time": "2022-06-25T08:45:58.682Z"
   },
   {
    "duration": 104,
    "start_time": "2022-06-25T08:45:59.436Z"
   },
   {
    "duration": 123,
    "start_time": "2022-06-25T08:45:59.544Z"
   },
   {
    "duration": 37298,
    "start_time": "2022-06-25T08:45:59.669Z"
   },
   {
    "duration": 380,
    "start_time": "2022-06-25T08:46:36.970Z"
   },
   {
    "duration": 16,
    "start_time": "2022-06-25T08:46:37.353Z"
   },
   {
    "duration": 0,
    "start_time": "2022-06-25T08:46:37.373Z"
   },
   {
    "duration": 0,
    "start_time": "2022-06-25T08:46:37.375Z"
   },
   {
    "duration": 31,
    "start_time": "2022-06-25T08:50:03.731Z"
   },
   {
    "duration": 119,
    "start_time": "2022-06-25T08:50:03.764Z"
   },
   {
    "duration": 42,
    "start_time": "2022-06-25T08:50:03.885Z"
   },
   {
    "duration": 63,
    "start_time": "2022-06-25T08:50:03.931Z"
   },
   {
    "duration": 31,
    "start_time": "2022-06-25T08:50:03.997Z"
   },
   {
    "duration": 25,
    "start_time": "2022-06-25T08:50:04.030Z"
   },
   {
    "duration": 78,
    "start_time": "2022-06-25T08:50:04.057Z"
   },
   {
    "duration": 267,
    "start_time": "2022-06-25T08:50:04.137Z"
   },
   {
    "duration": 29,
    "start_time": "2022-06-25T08:50:04.406Z"
   },
   {
    "duration": 43,
    "start_time": "2022-06-25T08:50:04.439Z"
   },
   {
    "duration": 19,
    "start_time": "2022-06-25T08:50:04.484Z"
   },
   {
    "duration": 40,
    "start_time": "2022-06-25T08:50:04.505Z"
   },
   {
    "duration": 16,
    "start_time": "2022-06-25T08:50:04.547Z"
   },
   {
    "duration": 66,
    "start_time": "2022-06-25T08:50:04.565Z"
   },
   {
    "duration": 31,
    "start_time": "2022-06-25T08:50:04.633Z"
   },
   {
    "duration": 141,
    "start_time": "2022-06-25T08:50:04.727Z"
   },
   {
    "duration": 10,
    "start_time": "2022-06-25T08:50:04.872Z"
   },
   {
    "duration": 32950,
    "start_time": "2022-06-25T08:50:04.884Z"
   },
   {
    "duration": 10,
    "start_time": "2022-06-25T08:50:37.837Z"
   },
   {
    "duration": 428,
    "start_time": "2022-06-25T08:50:37.850Z"
   },
   {
    "duration": 788,
    "start_time": "2022-06-25T08:50:38.281Z"
   },
   {
    "duration": 168,
    "start_time": "2022-06-25T08:50:39.072Z"
   },
   {
    "duration": 107,
    "start_time": "2022-06-25T08:50:39.253Z"
   },
   {
    "duration": 37442,
    "start_time": "2022-06-25T08:50:39.362Z"
   },
   {
    "duration": 368,
    "start_time": "2022-06-25T08:51:16.807Z"
   },
   {
    "duration": 990,
    "start_time": "2022-06-25T08:51:17.177Z"
   },
   {
    "duration": 647,
    "start_time": "2022-06-25T08:51:18.170Z"
   },
   {
    "duration": 7,
    "start_time": "2022-06-25T08:51:18.821Z"
   },
   {
    "duration": 951,
    "start_time": "2022-06-25T08:52:46.703Z"
   },
   {
    "duration": 32,
    "start_time": "2022-06-25T12:50:34.813Z"
   },
   {
    "duration": 95,
    "start_time": "2022-06-25T12:50:34.847Z"
   },
   {
    "duration": 32,
    "start_time": "2022-06-25T12:50:34.944Z"
   },
   {
    "duration": 49,
    "start_time": "2022-06-25T12:50:34.978Z"
   },
   {
    "duration": 15,
    "start_time": "2022-06-25T12:50:35.030Z"
   },
   {
    "duration": 31,
    "start_time": "2022-06-25T12:50:35.048Z"
   },
   {
    "duration": 68,
    "start_time": "2022-06-25T12:50:35.082Z"
   },
   {
    "duration": 204,
    "start_time": "2022-06-25T12:50:35.152Z"
   },
   {
    "duration": 21,
    "start_time": "2022-06-25T12:50:35.358Z"
   },
   {
    "duration": 13,
    "start_time": "2022-06-25T12:50:35.381Z"
   },
   {
    "duration": 35,
    "start_time": "2022-06-25T12:50:35.396Z"
   },
   {
    "duration": 35,
    "start_time": "2022-06-25T12:50:35.434Z"
   },
   {
    "duration": 20,
    "start_time": "2022-06-25T12:50:35.471Z"
   },
   {
    "duration": 74,
    "start_time": "2022-06-25T12:50:35.495Z"
   },
   {
    "duration": 154,
    "start_time": "2022-06-25T12:50:35.571Z"
   },
   {
    "duration": 42,
    "start_time": "2022-06-25T12:50:35.728Z"
   },
   {
    "duration": 11,
    "start_time": "2022-06-25T12:50:35.773Z"
   },
   {
    "duration": 30453,
    "start_time": "2022-06-25T12:50:35.786Z"
   },
   {
    "duration": 8,
    "start_time": "2022-06-25T12:51:06.242Z"
   },
   {
    "duration": 402,
    "start_time": "2022-06-25T12:51:06.252Z"
   },
   {
    "duration": 614,
    "start_time": "2022-06-25T12:51:06.656Z"
   },
   {
    "duration": 254,
    "start_time": "2022-06-25T12:51:07.272Z"
   },
   {
    "duration": 39,
    "start_time": "2022-06-25T12:51:07.529Z"
   },
   {
    "duration": 31265,
    "start_time": "2022-06-25T12:51:07.571Z"
   },
   {
    "duration": 256,
    "start_time": "2022-06-25T12:51:38.838Z"
   },
   {
    "duration": 493,
    "start_time": "2022-06-25T12:51:39.096Z"
   },
   {
    "duration": 5,
    "start_time": "2022-06-25T12:51:39.591Z"
   },
   {
    "duration": 537,
    "start_time": "2022-06-25T13:56:50.972Z"
   },
   {
    "duration": 30,
    "start_time": "2022-06-25T14:00:03.994Z"
   },
   {
    "duration": 95,
    "start_time": "2022-06-25T14:00:04.026Z"
   },
   {
    "duration": 26,
    "start_time": "2022-06-25T14:00:04.123Z"
   },
   {
    "duration": 50,
    "start_time": "2022-06-25T14:00:04.151Z"
   },
   {
    "duration": 9,
    "start_time": "2022-06-25T14:00:04.203Z"
   },
   {
    "duration": 31,
    "start_time": "2022-06-25T14:00:04.213Z"
   },
   {
    "duration": 34,
    "start_time": "2022-06-25T14:00:04.246Z"
   },
   {
    "duration": 220,
    "start_time": "2022-06-25T14:00:04.282Z"
   },
   {
    "duration": 48,
    "start_time": "2022-06-25T14:00:04.504Z"
   },
   {
    "duration": 11,
    "start_time": "2022-06-25T14:00:04.555Z"
   },
   {
    "duration": 20,
    "start_time": "2022-06-25T14:00:04.568Z"
   },
   {
    "duration": 26,
    "start_time": "2022-06-25T14:00:04.590Z"
   },
   {
    "duration": 29,
    "start_time": "2022-06-25T14:00:04.619Z"
   },
   {
    "duration": 68,
    "start_time": "2022-06-25T14:00:04.651Z"
   },
   {
    "duration": 28,
    "start_time": "2022-06-25T14:00:04.722Z"
   },
   {
    "duration": 613,
    "start_time": "2022-06-25T14:00:04.752Z"
   },
   {
    "duration": 30092,
    "start_time": "2022-06-25T14:00:05.367Z"
   },
   {
    "duration": 11,
    "start_time": "2022-06-25T14:00:35.461Z"
   },
   {
    "duration": 344,
    "start_time": "2022-06-25T14:00:35.474Z"
   },
   {
    "duration": 651,
    "start_time": "2022-06-25T14:00:35.820Z"
   },
   {
    "duration": 157,
    "start_time": "2022-06-25T14:00:36.474Z"
   },
   {
    "duration": 127,
    "start_time": "2022-06-25T14:00:36.635Z"
   },
   {
    "duration": 31645,
    "start_time": "2022-06-25T14:00:36.764Z"
   },
   {
    "duration": 264,
    "start_time": "2022-06-25T14:01:08.411Z"
   },
   {
    "duration": 517,
    "start_time": "2022-06-25T14:01:08.676Z"
   },
   {
    "duration": 4,
    "start_time": "2022-06-25T14:01:09.195Z"
   },
   {
    "duration": 427,
    "start_time": "2022-06-25T14:06:29.569Z"
   },
   {
    "duration": 51,
    "start_time": "2022-06-25T14:09:48.919Z"
   },
   {
    "duration": 111,
    "start_time": "2022-06-25T14:09:48.972Z"
   },
   {
    "duration": 17,
    "start_time": "2022-06-25T14:09:49.085Z"
   },
   {
    "duration": 68,
    "start_time": "2022-06-25T14:09:49.105Z"
   },
   {
    "duration": 15,
    "start_time": "2022-06-25T14:09:49.175Z"
   },
   {
    "duration": 22,
    "start_time": "2022-06-25T14:09:49.192Z"
   },
   {
    "duration": 47,
    "start_time": "2022-06-25T14:09:49.216Z"
   },
   {
    "duration": 198,
    "start_time": "2022-06-25T14:09:49.266Z"
   },
   {
    "duration": 17,
    "start_time": "2022-06-25T14:09:49.467Z"
   },
   {
    "duration": 9,
    "start_time": "2022-06-25T14:09:49.487Z"
   },
   {
    "duration": 6,
    "start_time": "2022-06-25T14:09:49.497Z"
   },
   {
    "duration": 27,
    "start_time": "2022-06-25T14:09:49.527Z"
   },
   {
    "duration": 19,
    "start_time": "2022-06-25T14:09:49.556Z"
   },
   {
    "duration": 39,
    "start_time": "2022-06-25T14:09:49.578Z"
   },
   {
    "duration": 105,
    "start_time": "2022-06-25T14:09:49.628Z"
   },
   {
    "duration": 558,
    "start_time": "2022-06-25T14:09:49.739Z"
   },
   {
    "duration": 31946,
    "start_time": "2022-06-25T14:09:50.300Z"
   },
   {
    "duration": 12,
    "start_time": "2022-06-25T14:10:22.248Z"
   },
   {
    "duration": 301,
    "start_time": "2022-06-25T14:10:22.262Z"
   },
   {
    "duration": 455,
    "start_time": "2022-06-25T14:10:22.564Z"
   },
   {
    "duration": 0,
    "start_time": "2022-06-25T14:10:23.021Z"
   },
   {
    "duration": 0,
    "start_time": "2022-06-25T14:10:23.022Z"
   },
   {
    "duration": 0,
    "start_time": "2022-06-25T14:10:23.023Z"
   },
   {
    "duration": 0,
    "start_time": "2022-06-25T14:10:23.026Z"
   },
   {
    "duration": 0,
    "start_time": "2022-06-25T14:10:23.026Z"
   },
   {
    "duration": 0,
    "start_time": "2022-06-25T14:10:23.027Z"
   },
   {
    "duration": 0,
    "start_time": "2022-06-25T14:10:23.027Z"
   },
   {
    "duration": 479,
    "start_time": "2022-06-25T14:13:10.098Z"
   },
   {
    "duration": 646,
    "start_time": "2022-06-25T14:13:41.347Z"
   },
   {
    "duration": 592,
    "start_time": "2022-06-25T14:15:05.464Z"
   },
   {
    "duration": 38,
    "start_time": "2022-06-25T14:15:12.758Z"
   },
   {
    "duration": 117,
    "start_time": "2022-06-25T14:15:12.798Z"
   },
   {
    "duration": 31,
    "start_time": "2022-06-25T14:15:12.917Z"
   },
   {
    "duration": 58,
    "start_time": "2022-06-25T14:15:12.952Z"
   },
   {
    "duration": 10,
    "start_time": "2022-06-25T14:15:13.012Z"
   },
   {
    "duration": 54,
    "start_time": "2022-06-25T14:15:13.024Z"
   },
   {
    "duration": 32,
    "start_time": "2022-06-25T14:15:13.080Z"
   },
   {
    "duration": 190,
    "start_time": "2022-06-25T14:15:13.114Z"
   },
   {
    "duration": 33,
    "start_time": "2022-06-25T14:15:13.306Z"
   },
   {
    "duration": 16,
    "start_time": "2022-06-25T14:15:13.342Z"
   },
   {
    "duration": 13,
    "start_time": "2022-06-25T14:15:13.359Z"
   },
   {
    "duration": 24,
    "start_time": "2022-06-25T14:15:13.374Z"
   },
   {
    "duration": 12,
    "start_time": "2022-06-25T14:15:13.399Z"
   },
   {
    "duration": 53,
    "start_time": "2022-06-25T14:15:13.427Z"
   },
   {
    "duration": 45,
    "start_time": "2022-06-25T14:15:13.481Z"
   },
   {
    "duration": 589,
    "start_time": "2022-06-25T14:15:13.533Z"
   },
   {
    "duration": 32277,
    "start_time": "2022-06-25T14:15:14.124Z"
   },
   {
    "duration": 7,
    "start_time": "2022-06-25T14:15:46.403Z"
   },
   {
    "duration": 305,
    "start_time": "2022-06-25T14:15:46.412Z"
   },
   {
    "duration": 581,
    "start_time": "2022-06-25T14:15:46.719Z"
   },
   {
    "duration": 63,
    "start_time": "2022-06-25T14:15:47.301Z"
   },
   {
    "duration": 540,
    "start_time": "2022-06-25T14:15:47.428Z"
   },
   {
    "duration": 33034,
    "start_time": "2022-06-25T14:15:47.970Z"
   },
   {
    "duration": 281,
    "start_time": "2022-06-25T14:16:21.006Z"
   },
   {
    "duration": 510,
    "start_time": "2022-06-25T14:16:21.289Z"
   },
   {
    "duration": 4,
    "start_time": "2022-06-25T14:16:21.801Z"
   },
   {
    "duration": 88,
    "start_time": "2022-06-25T14:19:48.689Z"
   },
   {
    "duration": 634,
    "start_time": "2022-06-25T14:19:56.567Z"
   },
   {
    "duration": 736,
    "start_time": "2022-06-25T14:20:16.651Z"
   },
   {
    "duration": 31,
    "start_time": "2022-06-25T14:20:22.750Z"
   },
   {
    "duration": 111,
    "start_time": "2022-06-25T14:20:22.783Z"
   },
   {
    "duration": 14,
    "start_time": "2022-06-25T14:20:22.896Z"
   },
   {
    "duration": 50,
    "start_time": "2022-06-25T14:20:22.912Z"
   },
   {
    "duration": 13,
    "start_time": "2022-06-25T14:20:22.964Z"
   },
   {
    "duration": 19,
    "start_time": "2022-06-25T14:20:22.979Z"
   },
   {
    "duration": 64,
    "start_time": "2022-06-25T14:20:23.000Z"
   },
   {
    "duration": 200,
    "start_time": "2022-06-25T14:20:23.065Z"
   },
   {
    "duration": 18,
    "start_time": "2022-06-25T14:20:23.267Z"
   },
   {
    "duration": 8,
    "start_time": "2022-06-25T14:20:23.287Z"
   },
   {
    "duration": 8,
    "start_time": "2022-06-25T14:20:23.297Z"
   },
   {
    "duration": 45,
    "start_time": "2022-06-25T14:20:23.307Z"
   },
   {
    "duration": 16,
    "start_time": "2022-06-25T14:20:23.354Z"
   },
   {
    "duration": 41,
    "start_time": "2022-06-25T14:20:23.372Z"
   },
   {
    "duration": 111,
    "start_time": "2022-06-25T14:20:23.415Z"
   },
   {
    "duration": 551,
    "start_time": "2022-06-25T14:20:23.532Z"
   },
   {
    "duration": 30784,
    "start_time": "2022-06-25T14:20:24.085Z"
   },
   {
    "duration": 10,
    "start_time": "2022-06-25T14:20:54.871Z"
   },
   {
    "duration": 300,
    "start_time": "2022-06-25T14:20:54.884Z"
   },
   {
    "duration": 567,
    "start_time": "2022-06-25T14:20:55.186Z"
   },
   {
    "duration": 88,
    "start_time": "2022-06-25T14:20:55.755Z"
   },
   {
    "duration": 535,
    "start_time": "2022-06-25T14:20:55.844Z"
   },
   {
    "duration": 32221,
    "start_time": "2022-06-25T14:20:56.381Z"
   },
   {
    "duration": 290,
    "start_time": "2022-06-25T14:21:28.604Z"
   },
   {
    "duration": 478,
    "start_time": "2022-06-25T14:21:28.896Z"
   },
   {
    "duration": 4,
    "start_time": "2022-06-25T14:21:29.376Z"
   },
   {
    "duration": 57,
    "start_time": "2022-06-25T14:22:42.124Z"
   },
   {
    "duration": 196,
    "start_time": "2022-06-25T14:22:42.184Z"
   },
   {
    "duration": 15,
    "start_time": "2022-06-25T14:22:42.382Z"
   },
   {
    "duration": 49,
    "start_time": "2022-06-25T14:22:42.399Z"
   },
   {
    "duration": 13,
    "start_time": "2022-06-25T14:22:42.453Z"
   },
   {
    "duration": 54,
    "start_time": "2022-06-25T14:22:42.469Z"
   },
   {
    "duration": 64,
    "start_time": "2022-06-25T14:22:42.525Z"
   },
   {
    "duration": 188,
    "start_time": "2022-06-25T14:22:42.591Z"
   },
   {
    "duration": 16,
    "start_time": "2022-06-25T14:22:42.783Z"
   },
   {
    "duration": 27,
    "start_time": "2022-06-25T14:22:42.803Z"
   },
   {
    "duration": 26,
    "start_time": "2022-06-25T14:22:42.832Z"
   },
   {
    "duration": 45,
    "start_time": "2022-06-25T14:22:42.864Z"
   },
   {
    "duration": 20,
    "start_time": "2022-06-25T14:22:42.911Z"
   },
   {
    "duration": 84,
    "start_time": "2022-06-25T14:22:42.934Z"
   },
   {
    "duration": 56,
    "start_time": "2022-06-25T14:22:43.020Z"
   },
   {
    "duration": 635,
    "start_time": "2022-06-25T14:22:43.079Z"
   },
   {
    "duration": 32265,
    "start_time": "2022-06-25T14:22:43.716Z"
   },
   {
    "duration": 8,
    "start_time": "2022-06-25T14:23:15.983Z"
   },
   {
    "duration": 282,
    "start_time": "2022-06-25T14:23:15.992Z"
   },
   {
    "duration": 599,
    "start_time": "2022-06-25T14:23:16.276Z"
   },
   {
    "duration": 82,
    "start_time": "2022-06-25T14:23:16.877Z"
   },
   {
    "duration": 612,
    "start_time": "2022-06-25T14:23:16.961Z"
   },
   {
    "duration": 34531,
    "start_time": "2022-06-25T14:23:17.575Z"
   },
   {
    "duration": 302,
    "start_time": "2022-06-25T14:23:52.108Z"
   },
   {
    "duration": 489,
    "start_time": "2022-06-25T14:23:52.412Z"
   },
   {
    "duration": 5,
    "start_time": "2022-06-25T14:23:52.903Z"
   },
   {
    "duration": 541,
    "start_time": "2022-06-25T14:25:09.963Z"
   },
   {
    "duration": 37,
    "start_time": "2022-06-25T14:34:38.226Z"
   },
   {
    "duration": 98,
    "start_time": "2022-06-25T14:34:38.266Z"
   },
   {
    "duration": 15,
    "start_time": "2022-06-25T14:34:38.365Z"
   },
   {
    "duration": 61,
    "start_time": "2022-06-25T14:34:38.382Z"
   },
   {
    "duration": 12,
    "start_time": "2022-06-25T14:34:38.445Z"
   },
   {
    "duration": 21,
    "start_time": "2022-06-25T14:34:38.459Z"
   },
   {
    "duration": 70,
    "start_time": "2022-06-25T14:34:38.482Z"
   },
   {
    "duration": 177,
    "start_time": "2022-06-25T14:34:38.555Z"
   },
   {
    "duration": 22,
    "start_time": "2022-06-25T14:34:38.733Z"
   },
   {
    "duration": 11,
    "start_time": "2022-06-25T14:34:38.759Z"
   },
   {
    "duration": 8,
    "start_time": "2022-06-25T14:34:38.771Z"
   },
   {
    "duration": 23,
    "start_time": "2022-06-25T14:34:38.780Z"
   },
   {
    "duration": 18,
    "start_time": "2022-06-25T14:34:38.827Z"
   },
   {
    "duration": 47,
    "start_time": "2022-06-25T14:34:38.847Z"
   },
   {
    "duration": 40,
    "start_time": "2022-06-25T14:34:38.896Z"
   },
   {
    "duration": 577,
    "start_time": "2022-06-25T14:34:38.938Z"
   },
   {
    "duration": 30502,
    "start_time": "2022-06-25T14:34:39.516Z"
   },
   {
    "duration": 23,
    "start_time": "2022-06-25T14:35:10.020Z"
   },
   {
    "duration": 300,
    "start_time": "2022-06-25T14:35:10.045Z"
   },
   {
    "duration": 605,
    "start_time": "2022-06-25T14:35:10.348Z"
   },
   {
    "duration": 82,
    "start_time": "2022-06-25T14:35:10.955Z"
   },
   {
    "duration": 535,
    "start_time": "2022-06-25T14:35:11.038Z"
   },
   {
    "duration": 32577,
    "start_time": "2022-06-25T14:35:11.575Z"
   },
   {
    "duration": 314,
    "start_time": "2022-06-25T14:35:44.154Z"
   },
   {
    "duration": 574,
    "start_time": "2022-06-25T14:35:44.470Z"
   },
   {
    "duration": 31,
    "start_time": "2022-06-25T14:41:05.220Z"
   },
   {
    "duration": 98,
    "start_time": "2022-06-25T14:41:05.253Z"
   },
   {
    "duration": 16,
    "start_time": "2022-06-25T14:41:05.353Z"
   },
   {
    "duration": 68,
    "start_time": "2022-06-25T14:41:05.371Z"
   },
   {
    "duration": 12,
    "start_time": "2022-06-25T14:41:05.441Z"
   },
   {
    "duration": 22,
    "start_time": "2022-06-25T14:41:05.455Z"
   },
   {
    "duration": 70,
    "start_time": "2022-06-25T14:41:05.479Z"
   },
   {
    "duration": 203,
    "start_time": "2022-06-25T14:41:05.551Z"
   },
   {
    "duration": 17,
    "start_time": "2022-06-25T14:41:05.756Z"
   },
   {
    "duration": 9,
    "start_time": "2022-06-25T14:41:05.776Z"
   },
   {
    "duration": 8,
    "start_time": "2022-06-25T14:41:05.787Z"
   },
   {
    "duration": 53,
    "start_time": "2022-06-25T14:41:05.797Z"
   },
   {
    "duration": 19,
    "start_time": "2022-06-25T14:41:05.852Z"
   },
   {
    "duration": 24,
    "start_time": "2022-06-25T14:41:05.874Z"
   },
   {
    "duration": 131,
    "start_time": "2022-06-25T14:41:05.900Z"
   },
   {
    "duration": 584,
    "start_time": "2022-06-25T14:41:06.034Z"
   },
   {
    "duration": 31122,
    "start_time": "2022-06-25T14:42:07.113Z"
   },
   {
    "duration": 35,
    "start_time": "2022-06-25T14:45:06.000Z"
   },
   {
    "duration": 102,
    "start_time": "2022-06-25T14:45:06.038Z"
   },
   {
    "duration": 18,
    "start_time": "2022-06-25T14:45:06.144Z"
   },
   {
    "duration": 72,
    "start_time": "2022-06-25T14:45:06.167Z"
   },
   {
    "duration": 14,
    "start_time": "2022-06-25T14:45:06.247Z"
   },
   {
    "duration": 24,
    "start_time": "2022-06-25T14:45:06.263Z"
   },
   {
    "duration": 69,
    "start_time": "2022-06-25T14:45:06.289Z"
   },
   {
    "duration": 344,
    "start_time": "2022-06-25T14:45:06.360Z"
   },
   {
    "duration": 35,
    "start_time": "2022-06-25T14:45:06.707Z"
   },
   {
    "duration": 10,
    "start_time": "2022-06-25T14:45:06.746Z"
   },
   {
    "duration": 8,
    "start_time": "2022-06-25T14:45:06.758Z"
   },
   {
    "duration": 23,
    "start_time": "2022-06-25T14:45:06.768Z"
   },
   {
    "duration": 40,
    "start_time": "2022-06-25T14:45:06.793Z"
   },
   {
    "duration": 30,
    "start_time": "2022-06-25T14:45:06.837Z"
   },
   {
    "duration": 71,
    "start_time": "2022-06-25T14:45:06.869Z"
   },
   {
    "duration": 557,
    "start_time": "2022-06-25T14:45:06.943Z"
   },
   {
    "duration": 30920,
    "start_time": "2022-06-25T14:45:07.503Z"
   },
   {
    "duration": 13,
    "start_time": "2022-06-25T14:45:38.431Z"
   },
   {
    "duration": 325,
    "start_time": "2022-06-25T14:45:38.446Z"
   },
   {
    "duration": 681,
    "start_time": "2022-06-25T14:45:38.774Z"
   },
   {
    "duration": 185,
    "start_time": "2022-06-25T14:45:39.458Z"
   },
   {
    "duration": 642,
    "start_time": "2022-06-25T14:45:39.645Z"
   },
   {
    "duration": 34929,
    "start_time": "2022-06-25T14:45:40.296Z"
   },
   {
    "duration": 259,
    "start_time": "2022-06-25T14:46:15.229Z"
   },
   {
    "duration": 511,
    "start_time": "2022-06-25T14:46:15.490Z"
   },
   {
    "duration": 556,
    "start_time": "2022-06-25T14:47:42.387Z"
   },
   {
    "duration": 771,
    "start_time": "2022-06-25T14:47:52.623Z"
   },
   {
    "duration": 764,
    "start_time": "2022-06-25T14:48:23.389Z"
   },
   {
    "duration": 49,
    "start_time": "2022-06-25T15:04:33.417Z"
   },
   {
    "duration": 120,
    "start_time": "2022-06-25T15:04:33.468Z"
   },
   {
    "duration": 15,
    "start_time": "2022-06-25T15:04:33.589Z"
   },
   {
    "duration": 55,
    "start_time": "2022-06-25T15:04:33.607Z"
   },
   {
    "duration": 11,
    "start_time": "2022-06-25T15:04:33.664Z"
   },
   {
    "duration": 19,
    "start_time": "2022-06-25T15:04:33.677Z"
   },
   {
    "duration": 59,
    "start_time": "2022-06-25T15:04:33.698Z"
   },
   {
    "duration": 222,
    "start_time": "2022-06-25T15:04:33.760Z"
   },
   {
    "duration": 17,
    "start_time": "2022-06-25T15:04:33.984Z"
   },
   {
    "duration": 32,
    "start_time": "2022-06-25T15:04:34.004Z"
   },
   {
    "duration": 8,
    "start_time": "2022-06-25T15:04:34.041Z"
   },
   {
    "duration": 29,
    "start_time": "2022-06-25T15:04:34.051Z"
   },
   {
    "duration": 13,
    "start_time": "2022-06-25T15:04:34.082Z"
   },
   {
    "duration": 20,
    "start_time": "2022-06-25T15:04:34.097Z"
   },
   {
    "duration": 104,
    "start_time": "2022-06-25T15:04:34.127Z"
   },
   {
    "duration": 584,
    "start_time": "2022-06-25T15:04:34.233Z"
   },
   {
    "duration": 30275,
    "start_time": "2022-06-25T15:04:34.819Z"
   },
   {
    "duration": 8,
    "start_time": "2022-06-25T15:05:05.095Z"
   },
   {
    "duration": 274,
    "start_time": "2022-06-25T15:05:05.105Z"
   },
   {
    "duration": 549,
    "start_time": "2022-06-25T15:05:17.502Z"
   },
   {
    "duration": 37173,
    "start_time": "2022-06-25T15:06:30.011Z"
   },
   {
    "duration": 28,
    "start_time": "2022-06-25T15:07:23.453Z"
   },
   {
    "duration": 93,
    "start_time": "2022-06-25T15:07:23.483Z"
   },
   {
    "duration": 15,
    "start_time": "2022-06-25T15:07:23.577Z"
   },
   {
    "duration": 51,
    "start_time": "2022-06-25T15:07:23.594Z"
   },
   {
    "duration": 9,
    "start_time": "2022-06-25T15:07:23.647Z"
   },
   {
    "duration": 22,
    "start_time": "2022-06-25T15:07:23.658Z"
   },
   {
    "duration": 66,
    "start_time": "2022-06-25T15:07:23.682Z"
   },
   {
    "duration": 159,
    "start_time": "2022-06-25T15:07:23.750Z"
   },
   {
    "duration": 32,
    "start_time": "2022-06-25T15:07:23.911Z"
   },
   {
    "duration": 9,
    "start_time": "2022-06-25T15:07:23.946Z"
   },
   {
    "duration": 6,
    "start_time": "2022-06-25T15:07:23.957Z"
   },
   {
    "duration": 31,
    "start_time": "2022-06-25T15:07:23.965Z"
   },
   {
    "duration": 39,
    "start_time": "2022-06-25T15:07:23.998Z"
   },
   {
    "duration": 15,
    "start_time": "2022-06-25T15:07:24.041Z"
   },
   {
    "duration": 89,
    "start_time": "2022-06-25T15:07:24.058Z"
   },
   {
    "duration": 592,
    "start_time": "2022-06-25T15:07:24.150Z"
   },
   {
    "duration": 29902,
    "start_time": "2022-06-25T15:07:40.907Z"
   },
   {
    "duration": 26,
    "start_time": "2022-06-25T15:09:26.284Z"
   },
   {
    "duration": 97,
    "start_time": "2022-06-25T15:09:26.313Z"
   },
   {
    "duration": 13,
    "start_time": "2022-06-25T15:09:26.412Z"
   },
   {
    "duration": 75,
    "start_time": "2022-06-25T15:09:26.429Z"
   },
   {
    "duration": 12,
    "start_time": "2022-06-25T15:09:26.506Z"
   },
   {
    "duration": 25,
    "start_time": "2022-06-25T15:09:26.520Z"
   },
   {
    "duration": 29,
    "start_time": "2022-06-25T15:09:26.548Z"
   },
   {
    "duration": 197,
    "start_time": "2022-06-25T15:09:26.578Z"
   },
   {
    "duration": 18,
    "start_time": "2022-06-25T15:09:26.776Z"
   },
   {
    "duration": 35,
    "start_time": "2022-06-25T15:09:26.798Z"
   },
   {
    "duration": 6,
    "start_time": "2022-06-25T15:09:26.835Z"
   },
   {
    "duration": 26,
    "start_time": "2022-06-25T15:09:26.843Z"
   },
   {
    "duration": 11,
    "start_time": "2022-06-25T15:09:26.871Z"
   },
   {
    "duration": 15,
    "start_time": "2022-06-25T15:09:26.884Z"
   },
   {
    "duration": 55,
    "start_time": "2022-06-25T15:09:26.900Z"
   },
   {
    "duration": 605,
    "start_time": "2022-06-25T15:09:26.958Z"
   },
   {
    "duration": 29531,
    "start_time": "2022-06-25T15:09:27.565Z"
   },
   {
    "duration": 8,
    "start_time": "2022-06-25T15:09:57.097Z"
   },
   {
    "duration": 246,
    "start_time": "2022-06-25T15:09:57.106Z"
   },
   {
    "duration": 558,
    "start_time": "2022-06-25T15:09:57.353Z"
   },
   {
    "duration": 115,
    "start_time": "2022-06-25T15:09:57.914Z"
   },
   {
    "duration": 512,
    "start_time": "2022-06-25T15:09:58.034Z"
   },
   {
    "duration": 31648,
    "start_time": "2022-06-25T15:09:58.548Z"
   },
   {
    "duration": 270,
    "start_time": "2022-06-25T15:10:30.198Z"
   },
   {
    "duration": 508,
    "start_time": "2022-06-25T15:10:30.477Z"
   },
   {
    "duration": 40369,
    "start_time": "2022-06-25T15:11:15.312Z"
   },
   {
    "duration": 52,
    "start_time": "2022-06-25T15:12:15.011Z"
   },
   {
    "duration": 142,
    "start_time": "2022-06-25T15:12:15.066Z"
   },
   {
    "duration": 28,
    "start_time": "2022-06-25T15:12:15.211Z"
   },
   {
    "duration": 52,
    "start_time": "2022-06-25T15:12:15.244Z"
   },
   {
    "duration": 15,
    "start_time": "2022-06-25T15:12:15.297Z"
   },
   {
    "duration": 32,
    "start_time": "2022-06-25T15:12:15.314Z"
   },
   {
    "duration": 38,
    "start_time": "2022-06-25T15:12:15.348Z"
   },
   {
    "duration": 213,
    "start_time": "2022-06-25T15:12:15.388Z"
   },
   {
    "duration": 31,
    "start_time": "2022-06-25T15:12:15.604Z"
   },
   {
    "duration": 13,
    "start_time": "2022-06-25T15:12:15.638Z"
   },
   {
    "duration": 7,
    "start_time": "2022-06-25T15:12:15.656Z"
   },
   {
    "duration": 30,
    "start_time": "2022-06-25T15:12:15.665Z"
   },
   {
    "duration": 49,
    "start_time": "2022-06-25T15:12:15.698Z"
   },
   {
    "duration": 15,
    "start_time": "2022-06-25T15:12:15.750Z"
   },
   {
    "duration": 160,
    "start_time": "2022-06-25T15:12:15.767Z"
   },
   {
    "duration": 547,
    "start_time": "2022-06-25T15:12:15.930Z"
   },
   {
    "duration": 32716,
    "start_time": "2022-06-25T15:12:16.480Z"
   },
   {
    "duration": 10,
    "start_time": "2022-06-25T15:12:49.198Z"
   },
   {
    "duration": 282,
    "start_time": "2022-06-25T15:12:49.210Z"
   },
   {
    "duration": 621,
    "start_time": "2022-06-25T15:12:49.495Z"
   },
   {
    "duration": 118,
    "start_time": "2022-06-25T15:12:50.118Z"
   },
   {
    "duration": 577,
    "start_time": "2022-06-25T15:12:50.243Z"
   },
   {
    "duration": 34180,
    "start_time": "2022-06-25T15:12:50.822Z"
   },
   {
    "duration": 272,
    "start_time": "2022-06-25T15:13:25.003Z"
   },
   {
    "duration": 503,
    "start_time": "2022-06-25T15:13:25.277Z"
   },
   {
    "duration": 29,
    "start_time": "2022-06-25T15:15:17.180Z"
   },
   {
    "duration": 96,
    "start_time": "2022-06-25T15:15:17.211Z"
   },
   {
    "duration": 14,
    "start_time": "2022-06-25T15:15:17.309Z"
   },
   {
    "duration": 54,
    "start_time": "2022-06-25T15:15:17.325Z"
   },
   {
    "duration": 9,
    "start_time": "2022-06-25T15:15:17.381Z"
   },
   {
    "duration": 18,
    "start_time": "2022-06-25T15:15:17.391Z"
   },
   {
    "duration": 33,
    "start_time": "2022-06-25T15:15:17.411Z"
   },
   {
    "duration": 183,
    "start_time": "2022-06-25T15:15:17.446Z"
   },
   {
    "duration": 21,
    "start_time": "2022-06-25T15:15:17.631Z"
   },
   {
    "duration": 9,
    "start_time": "2022-06-25T15:15:17.656Z"
   },
   {
    "duration": 8,
    "start_time": "2022-06-25T15:15:17.666Z"
   },
   {
    "duration": 21,
    "start_time": "2022-06-25T15:15:17.676Z"
   },
   {
    "duration": 44,
    "start_time": "2022-06-25T15:15:17.698Z"
   },
   {
    "duration": 24,
    "start_time": "2022-06-25T15:15:17.745Z"
   },
   {
    "duration": 63,
    "start_time": "2022-06-25T15:15:17.771Z"
   },
   {
    "duration": 569,
    "start_time": "2022-06-25T15:15:17.837Z"
   },
   {
    "duration": 29356,
    "start_time": "2022-06-25T15:15:18.408Z"
   },
   {
    "duration": 8,
    "start_time": "2022-06-25T15:15:47.766Z"
   },
   {
    "duration": 282,
    "start_time": "2022-06-25T15:15:47.776Z"
   },
   {
    "duration": 563,
    "start_time": "2022-06-25T15:15:48.060Z"
   },
   {
    "duration": 113,
    "start_time": "2022-06-25T15:15:48.625Z"
   },
   {
    "duration": 518,
    "start_time": "2022-06-25T15:15:48.740Z"
   },
   {
    "duration": 31108,
    "start_time": "2022-06-25T15:15:49.260Z"
   },
   {
    "duration": 234,
    "start_time": "2022-06-25T15:16:20.370Z"
   },
   {
    "duration": 464,
    "start_time": "2022-06-25T15:16:20.606Z"
   },
   {
    "duration": 36,
    "start_time": "2022-06-25T15:23:01.602Z"
   },
   {
    "duration": 107,
    "start_time": "2022-06-25T15:23:01.640Z"
   },
   {
    "duration": 14,
    "start_time": "2022-06-25T15:23:01.748Z"
   },
   {
    "duration": 60,
    "start_time": "2022-06-25T15:23:01.765Z"
   },
   {
    "duration": 23,
    "start_time": "2022-06-25T15:23:01.826Z"
   },
   {
    "duration": 31,
    "start_time": "2022-06-25T15:23:01.851Z"
   },
   {
    "duration": 30,
    "start_time": "2022-06-25T15:23:01.883Z"
   },
   {
    "duration": 184,
    "start_time": "2022-06-25T15:23:01.914Z"
   },
   {
    "duration": 26,
    "start_time": "2022-06-25T15:23:02.100Z"
   },
   {
    "duration": 20,
    "start_time": "2022-06-25T15:23:02.129Z"
   },
   {
    "duration": 20,
    "start_time": "2022-06-25T15:23:02.151Z"
   },
   {
    "duration": 32,
    "start_time": "2022-06-25T15:23:02.173Z"
   },
   {
    "duration": 18,
    "start_time": "2022-06-25T15:23:02.206Z"
   },
   {
    "duration": 39,
    "start_time": "2022-06-25T15:23:02.226Z"
   },
   {
    "duration": 161,
    "start_time": "2022-06-25T15:23:02.267Z"
   },
   {
    "duration": 466,
    "start_time": "2022-06-25T15:23:02.429Z"
   },
   {
    "duration": 29304,
    "start_time": "2022-06-25T15:23:02.897Z"
   },
   {
    "duration": 10,
    "start_time": "2022-06-25T15:23:32.203Z"
   },
   {
    "duration": 266,
    "start_time": "2022-06-25T15:23:32.229Z"
   },
   {
    "duration": 666,
    "start_time": "2022-06-25T15:23:32.497Z"
   },
   {
    "duration": 71,
    "start_time": "2022-06-25T15:23:33.164Z"
   },
   {
    "duration": 601,
    "start_time": "2022-06-25T15:23:33.237Z"
   },
   {
    "duration": 31197,
    "start_time": "2022-06-25T15:23:33.841Z"
   },
   {
    "duration": 235,
    "start_time": "2022-06-25T15:24:05.040Z"
   },
   {
    "duration": 449,
    "start_time": "2022-06-25T15:24:05.278Z"
   },
   {
    "duration": 536,
    "start_time": "2022-06-25T15:24:58.473Z"
   },
   {
    "duration": 9,
    "start_time": "2022-06-25T15:27:32.117Z"
   },
   {
    "duration": 34,
    "start_time": "2022-06-25T15:30:06.382Z"
   },
   {
    "duration": 133,
    "start_time": "2022-06-25T15:30:06.418Z"
   },
   {
    "duration": 17,
    "start_time": "2022-06-25T15:30:06.554Z"
   },
   {
    "duration": 60,
    "start_time": "2022-06-25T15:30:06.574Z"
   },
   {
    "duration": 14,
    "start_time": "2022-06-25T15:30:06.645Z"
   },
   {
    "duration": 19,
    "start_time": "2022-06-25T15:30:06.661Z"
   },
   {
    "duration": 62,
    "start_time": "2022-06-25T15:30:06.682Z"
   },
   {
    "duration": 194,
    "start_time": "2022-06-25T15:30:06.746Z"
   },
   {
    "duration": 18,
    "start_time": "2022-06-25T15:30:06.942Z"
   },
   {
    "duration": 5,
    "start_time": "2022-06-25T15:30:06.962Z"
   },
   {
    "duration": 27,
    "start_time": "2022-06-25T15:30:06.969Z"
   },
   {
    "duration": 37,
    "start_time": "2022-06-25T15:30:06.999Z"
   },
   {
    "duration": 27,
    "start_time": "2022-06-25T15:30:07.041Z"
   },
   {
    "duration": 14,
    "start_time": "2022-06-25T15:30:07.071Z"
   },
   {
    "duration": 53,
    "start_time": "2022-06-25T15:30:07.087Z"
   },
   {
    "duration": 697,
    "start_time": "2022-06-25T15:30:07.142Z"
   },
   {
    "duration": 30641,
    "start_time": "2022-06-25T15:30:07.842Z"
   },
   {
    "duration": 8,
    "start_time": "2022-06-25T15:30:38.485Z"
   },
   {
    "duration": 295,
    "start_time": "2022-06-25T15:30:38.495Z"
   },
   {
    "duration": 615,
    "start_time": "2022-06-25T15:30:38.794Z"
   },
   {
    "duration": 55,
    "start_time": "2022-06-25T15:30:39.410Z"
   },
   {
    "duration": 574,
    "start_time": "2022-06-25T15:30:39.467Z"
   },
   {
    "duration": 32575,
    "start_time": "2022-06-25T15:30:40.045Z"
   },
   {
    "duration": 269,
    "start_time": "2022-06-25T15:31:12.622Z"
   },
   {
    "duration": 515,
    "start_time": "2022-06-25T15:31:12.894Z"
   },
   {
    "duration": 1795,
    "start_time": "2022-06-26T17:15:06.407Z"
   },
   {
    "duration": 165,
    "start_time": "2022-06-26T17:15:08.207Z"
   },
   {
    "duration": 934,
    "start_time": "2022-06-26T17:15:17.101Z"
   },
   {
    "duration": 126,
    "start_time": "2022-06-26T17:16:57.812Z"
   },
   {
    "duration": 39629,
    "start_time": "2022-06-26T17:17:07.648Z"
   },
   {
    "duration": 38979,
    "start_time": "2022-06-26T17:18:09.512Z"
   },
   {
    "duration": 39930,
    "start_time": "2022-06-26T17:19:29.238Z"
   },
   {
    "duration": 39706,
    "start_time": "2022-06-26T17:20:18.405Z"
   },
   {
    "duration": 28,
    "start_time": "2022-06-26T17:20:58.113Z"
   },
   {
    "duration": 112,
    "start_time": "2022-06-26T17:20:58.142Z"
   },
   {
    "duration": 15,
    "start_time": "2022-06-26T17:20:58.256Z"
   },
   {
    "duration": 64,
    "start_time": "2022-06-26T17:20:58.273Z"
   },
   {
    "duration": 9,
    "start_time": "2022-06-26T17:20:58.339Z"
   },
   {
    "duration": 36,
    "start_time": "2022-06-26T17:20:58.350Z"
   },
   {
    "duration": 35,
    "start_time": "2022-06-26T17:20:58.388Z"
   },
   {
    "duration": 194,
    "start_time": "2022-06-26T17:20:58.425Z"
   },
   {
    "duration": 17,
    "start_time": "2022-06-26T17:20:58.621Z"
   },
   {
    "duration": 27779,
    "start_time": "2022-06-26T17:22:37.490Z"
   },
   {
    "duration": 3713,
    "start_time": "2022-06-26T17:23:48.465Z"
   },
   {
    "duration": 37,
    "start_time": "2022-06-26T17:29:09.407Z"
   },
   {
    "duration": 89,
    "start_time": "2022-06-26T17:29:09.446Z"
   },
   {
    "duration": 14,
    "start_time": "2022-06-26T17:29:09.536Z"
   },
   {
    "duration": 73,
    "start_time": "2022-06-26T17:29:09.552Z"
   },
   {
    "duration": 10,
    "start_time": "2022-06-26T17:29:09.627Z"
   },
   {
    "duration": 20,
    "start_time": "2022-06-26T17:29:09.639Z"
   },
   {
    "duration": 42,
    "start_time": "2022-06-26T17:29:09.661Z"
   },
   {
    "duration": 180,
    "start_time": "2022-06-26T17:29:09.705Z"
   },
   {
    "duration": 15,
    "start_time": "2022-06-26T17:29:09.887Z"
   },
   {
    "duration": 5,
    "start_time": "2022-06-26T17:29:09.905Z"
   },
   {
    "duration": 19,
    "start_time": "2022-06-26T17:29:09.912Z"
   },
   {
    "duration": 42,
    "start_time": "2022-06-26T17:29:09.933Z"
   },
   {
    "duration": 23,
    "start_time": "2022-06-26T17:29:09.989Z"
   },
   {
    "duration": 16,
    "start_time": "2022-06-26T17:29:10.014Z"
   },
   {
    "duration": 51,
    "start_time": "2022-06-26T17:29:10.033Z"
   },
   {
    "duration": 551,
    "start_time": "2022-06-26T17:29:10.089Z"
   },
   {
    "duration": 28657,
    "start_time": "2022-06-26T17:29:10.642Z"
   },
   {
    "duration": 8,
    "start_time": "2022-06-26T17:29:39.301Z"
   },
   {
    "duration": 276,
    "start_time": "2022-06-26T17:29:39.311Z"
   },
   {
    "duration": 557,
    "start_time": "2022-06-26T17:29:39.589Z"
   },
   {
    "duration": 55,
    "start_time": "2022-06-26T17:29:40.148Z"
   },
   {
    "duration": 537,
    "start_time": "2022-06-26T17:29:40.205Z"
   },
   {
    "duration": 30023,
    "start_time": "2022-06-26T17:29:40.744Z"
   },
   {
    "duration": 239,
    "start_time": "2022-06-26T17:30:10.768Z"
   },
   {
    "duration": 443,
    "start_time": "2022-06-26T17:30:11.009Z"
   },
   {
    "duration": 49,
    "start_time": "2022-06-27T06:18:09.607Z"
   },
   {
    "duration": 1336,
    "start_time": "2022-06-27T06:18:16.708Z"
   },
   {
    "duration": 95,
    "start_time": "2022-06-27T06:18:18.046Z"
   },
   {
    "duration": 11,
    "start_time": "2022-06-27T06:18:18.143Z"
   },
   {
    "duration": 47,
    "start_time": "2022-06-27T06:18:18.155Z"
   },
   {
    "duration": 32,
    "start_time": "2022-06-27T06:18:37.739Z"
   },
   {
    "duration": 855,
    "start_time": "2022-06-27T06:18:49.472Z"
   },
   {
    "duration": 34,
    "start_time": "2022-06-27T06:19:04.327Z"
   },
   {
    "duration": 113,
    "start_time": "2022-06-27T06:19:04.362Z"
   },
   {
    "duration": 17,
    "start_time": "2022-06-27T06:19:04.477Z"
   },
   {
    "duration": 55,
    "start_time": "2022-06-27T06:19:04.496Z"
   },
   {
    "duration": 837,
    "start_time": "2022-06-27T06:20:11.157Z"
   },
   {
    "duration": 14,
    "start_time": "2022-06-27T06:22:33.923Z"
   },
   {
    "duration": 24,
    "start_time": "2022-06-27T06:22:39.410Z"
   },
   {
    "duration": 76,
    "start_time": "2022-06-27T06:22:39.435Z"
   },
   {
    "duration": 13,
    "start_time": "2022-06-27T06:22:39.513Z"
   },
   {
    "duration": 10,
    "start_time": "2022-06-27T06:22:39.529Z"
   },
   {
    "duration": 42,
    "start_time": "2022-06-27T06:22:39.541Z"
   },
   {
    "duration": 68,
    "start_time": "2022-06-27T06:34:18.465Z"
   },
   {
    "duration": 123,
    "start_time": "2022-06-27T06:34:29.559Z"
   },
   {
    "duration": 57,
    "start_time": "2022-06-27T06:34:34.357Z"
   },
   {
    "duration": 49,
    "start_time": "2022-06-27T06:34:41.702Z"
   },
   {
    "duration": 137,
    "start_time": "2022-06-27T06:34:48.038Z"
   },
   {
    "duration": 47,
    "start_time": "2022-06-27T06:35:28.031Z"
   },
   {
    "duration": 48,
    "start_time": "2022-06-27T06:35:39.630Z"
   },
   {
    "duration": 26,
    "start_time": "2022-06-27T06:35:59.043Z"
   },
   {
    "duration": 82,
    "start_time": "2022-06-27T06:35:59.071Z"
   },
   {
    "duration": 12,
    "start_time": "2022-06-27T06:35:59.154Z"
   },
   {
    "duration": 7,
    "start_time": "2022-06-27T06:35:59.167Z"
   },
   {
    "duration": 43,
    "start_time": "2022-06-27T06:35:59.176Z"
   },
   {
    "duration": 57,
    "start_time": "2022-06-27T06:37:03.078Z"
   },
   {
    "duration": 47,
    "start_time": "2022-06-27T06:37:31.046Z"
   },
   {
    "duration": 35,
    "start_time": "2022-06-27T06:37:37.059Z"
   },
   {
    "duration": 65,
    "start_time": "2022-06-27T06:37:37.096Z"
   },
   {
    "duration": 12,
    "start_time": "2022-06-27T06:37:37.162Z"
   },
   {
    "duration": 6,
    "start_time": "2022-06-27T06:37:37.175Z"
   },
   {
    "duration": 32,
    "start_time": "2022-06-27T06:37:37.183Z"
   },
   {
    "duration": 53,
    "start_time": "2022-06-27T06:37:37.217Z"
   },
   {
    "duration": 52,
    "start_time": "2022-06-27T06:37:52.108Z"
   },
   {
    "duration": 57,
    "start_time": "2022-06-27T06:37:59.466Z"
   },
   {
    "duration": 26,
    "start_time": "2022-06-27T06:38:03.979Z"
   },
   {
    "duration": 76,
    "start_time": "2022-06-27T06:38:04.007Z"
   },
   {
    "duration": 11,
    "start_time": "2022-06-27T06:38:04.084Z"
   },
   {
    "duration": 8,
    "start_time": "2022-06-27T06:38:04.097Z"
   },
   {
    "duration": 35,
    "start_time": "2022-06-27T06:38:04.106Z"
   },
   {
    "duration": 60,
    "start_time": "2022-06-27T06:38:04.150Z"
   },
   {
    "duration": 0,
    "start_time": "2022-06-27T06:38:04.212Z"
   },
   {
    "duration": 0,
    "start_time": "2022-06-27T06:38:04.213Z"
   },
   {
    "duration": 0,
    "start_time": "2022-06-27T06:38:04.214Z"
   },
   {
    "duration": 0,
    "start_time": "2022-06-27T06:38:04.215Z"
   },
   {
    "duration": 0,
    "start_time": "2022-06-27T06:38:04.215Z"
   },
   {
    "duration": 0,
    "start_time": "2022-06-27T06:38:04.217Z"
   },
   {
    "duration": 0,
    "start_time": "2022-06-27T06:38:04.217Z"
   },
   {
    "duration": 0,
    "start_time": "2022-06-27T06:38:04.218Z"
   },
   {
    "duration": 0,
    "start_time": "2022-06-27T06:38:04.219Z"
   },
   {
    "duration": 0,
    "start_time": "2022-06-27T06:38:04.220Z"
   },
   {
    "duration": 10,
    "start_time": "2022-06-27T06:38:04.222Z"
   },
   {
    "duration": 0,
    "start_time": "2022-06-27T06:38:04.234Z"
   },
   {
    "duration": 0,
    "start_time": "2022-06-27T06:38:04.234Z"
   },
   {
    "duration": 0,
    "start_time": "2022-06-27T06:38:04.236Z"
   },
   {
    "duration": 0,
    "start_time": "2022-06-27T06:38:04.237Z"
   },
   {
    "duration": 0,
    "start_time": "2022-06-27T06:38:04.239Z"
   },
   {
    "duration": 12,
    "start_time": "2022-06-27T06:38:04.245Z"
   },
   {
    "duration": 0,
    "start_time": "2022-06-27T06:38:04.258Z"
   },
   {
    "duration": 0,
    "start_time": "2022-06-27T06:38:04.260Z"
   },
   {
    "duration": 0,
    "start_time": "2022-06-27T06:38:04.261Z"
   },
   {
    "duration": 0,
    "start_time": "2022-06-27T06:38:04.262Z"
   },
   {
    "duration": 54,
    "start_time": "2022-06-27T06:38:33.481Z"
   },
   {
    "duration": 1190,
    "start_time": "2022-06-27T06:38:38.948Z"
   },
   {
    "duration": 57,
    "start_time": "2022-06-27T06:39:42.406Z"
   },
   {
    "duration": 59,
    "start_time": "2022-06-27T06:39:59.035Z"
   },
   {
    "duration": 66,
    "start_time": "2022-06-27T06:40:11.335Z"
   },
   {
    "duration": 22884,
    "start_time": "2022-06-27T06:41:22.933Z"
   },
   {
    "duration": 63,
    "start_time": "2022-06-27T06:42:48.769Z"
   },
   {
    "duration": 52,
    "start_time": "2022-06-27T06:42:57.197Z"
   },
   {
    "duration": 51,
    "start_time": "2022-06-27T06:43:20.246Z"
   },
   {
    "duration": 49,
    "start_time": "2022-06-27T06:43:26.297Z"
   },
   {
    "duration": 24025,
    "start_time": "2022-06-27T06:43:52.960Z"
   },
   {
    "duration": 95,
    "start_time": "2022-06-27T06:44:47.090Z"
   },
   {
    "duration": 2936,
    "start_time": "2022-06-27T06:44:59.407Z"
   },
   {
    "duration": 50,
    "start_time": "2022-06-27T06:47:51.133Z"
   },
   {
    "duration": 350,
    "start_time": "2022-06-27T06:47:57.491Z"
   },
   {
    "duration": 29,
    "start_time": "2022-06-27T06:48:07.388Z"
   },
   {
    "duration": 152,
    "start_time": "2022-06-27T06:48:07.418Z"
   },
   {
    "duration": 12,
    "start_time": "2022-06-27T06:48:07.571Z"
   },
   {
    "duration": 7,
    "start_time": "2022-06-27T06:48:07.585Z"
   },
   {
    "duration": 32,
    "start_time": "2022-06-27T06:48:07.593Z"
   },
   {
    "duration": 260,
    "start_time": "2022-06-27T06:48:07.626Z"
   },
   {
    "duration": 232,
    "start_time": "2022-06-27T06:48:34.878Z"
   },
   {
    "duration": 24,
    "start_time": "2022-06-27T06:48:42.935Z"
   },
   {
    "duration": 68,
    "start_time": "2022-06-27T06:48:42.961Z"
   },
   {
    "duration": 12,
    "start_time": "2022-06-27T06:48:43.031Z"
   },
   {
    "duration": 7,
    "start_time": "2022-06-27T06:48:43.044Z"
   },
   {
    "duration": 31,
    "start_time": "2022-06-27T06:48:43.053Z"
   },
   {
    "duration": 243,
    "start_time": "2022-06-27T06:48:43.085Z"
   },
   {
    "duration": 227,
    "start_time": "2022-06-27T06:49:43.725Z"
   },
   {
    "duration": 436,
    "start_time": "2022-06-27T06:50:15.815Z"
   },
   {
    "duration": 24,
    "start_time": "2022-06-27T06:50:21.257Z"
   },
   {
    "duration": 67,
    "start_time": "2022-06-27T06:50:21.283Z"
   },
   {
    "duration": 12,
    "start_time": "2022-06-27T06:50:21.351Z"
   },
   {
    "duration": 10,
    "start_time": "2022-06-27T06:50:21.364Z"
   },
   {
    "duration": 32,
    "start_time": "2022-06-27T06:50:21.376Z"
   },
   {
    "duration": 346,
    "start_time": "2022-06-27T06:50:21.409Z"
   },
   {
    "duration": 935,
    "start_time": "2022-06-27T06:51:03.317Z"
   },
   {
    "duration": 326,
    "start_time": "2022-06-27T06:51:37.126Z"
   },
   {
    "duration": 1010,
    "start_time": "2022-06-27T06:54:36.584Z"
   },
   {
    "duration": 913,
    "start_time": "2022-06-27T06:54:53.578Z"
   },
   {
    "duration": 1209,
    "start_time": "2022-06-27T06:55:29.066Z"
   },
   {
    "duration": 972,
    "start_time": "2022-06-27T06:58:05.566Z"
   },
   {
    "duration": 74,
    "start_time": "2022-06-27T06:58:50.227Z"
   },
   {
    "duration": 14,
    "start_time": "2022-06-27T06:58:56.947Z"
   },
   {
    "duration": 16,
    "start_time": "2022-06-27T06:59:37.887Z"
   },
   {
    "duration": 18,
    "start_time": "2022-06-27T07:00:02.287Z"
   },
   {
    "duration": 39,
    "start_time": "2022-06-27T07:02:29.538Z"
   },
   {
    "duration": 64,
    "start_time": "2022-06-27T07:02:29.579Z"
   },
   {
    "duration": 21,
    "start_time": "2022-06-27T07:02:29.644Z"
   },
   {
    "duration": 7,
    "start_time": "2022-06-27T07:02:29.668Z"
   },
   {
    "duration": 34,
    "start_time": "2022-06-27T07:02:29.677Z"
   },
   {
    "duration": 969,
    "start_time": "2022-06-27T07:02:29.713Z"
   },
   {
    "duration": 8,
    "start_time": "2022-06-27T07:02:30.683Z"
   },
   {
    "duration": 21,
    "start_time": "2022-06-27T07:02:30.692Z"
   },
   {
    "duration": 54,
    "start_time": "2022-06-27T07:02:30.714Z"
   },
   {
    "duration": 151,
    "start_time": "2022-06-27T07:02:30.771Z"
   },
   {
    "duration": 15,
    "start_time": "2022-06-27T07:02:30.924Z"
   },
   {
    "duration": 37,
    "start_time": "2022-06-27T07:02:30.940Z"
   },
   {
    "duration": 27,
    "start_time": "2022-06-27T07:02:30.978Z"
   },
   {
    "duration": 107,
    "start_time": "2022-06-27T07:02:31.007Z"
   },
   {
    "duration": 14,
    "start_time": "2022-06-27T07:02:31.116Z"
   },
   {
    "duration": 30,
    "start_time": "2022-06-27T07:02:31.131Z"
   },
   {
    "duration": 105,
    "start_time": "2022-06-27T07:02:31.164Z"
   },
   {
    "duration": 454,
    "start_time": "2022-06-27T07:02:31.271Z"
   },
   {
    "duration": 26246,
    "start_time": "2022-06-27T07:02:31.726Z"
   },
   {
    "duration": 5,
    "start_time": "2022-06-27T07:02:57.974Z"
   },
   {
    "duration": 214,
    "start_time": "2022-06-27T07:02:57.981Z"
   },
   {
    "duration": 498,
    "start_time": "2022-06-27T07:02:58.196Z"
   },
   {
    "duration": 166,
    "start_time": "2022-06-27T07:02:58.696Z"
   },
   {
    "duration": 383,
    "start_time": "2022-06-27T07:02:58.863Z"
   },
   {
    "duration": 27627,
    "start_time": "2022-06-27T07:02:59.247Z"
   },
   {
    "duration": 212,
    "start_time": "2022-06-27T07:03:26.876Z"
   },
   {
    "duration": 421,
    "start_time": "2022-06-27T07:03:27.090Z"
   },
   {
    "duration": 839,
    "start_time": "2022-06-27T07:05:49.799Z"
   },
   {
    "duration": 994,
    "start_time": "2022-06-27T07:06:36.046Z"
   },
   {
    "duration": 1018,
    "start_time": "2022-06-27T07:07:08.848Z"
   },
   {
    "duration": 1032,
    "start_time": "2022-06-27T07:07:30.417Z"
   },
   {
    "duration": 1050,
    "start_time": "2022-06-27T07:08:07.335Z"
   },
   {
    "duration": 1203,
    "start_time": "2022-06-27T07:08:43.863Z"
   },
   {
    "duration": 1406,
    "start_time": "2022-06-27T07:09:11.562Z"
   },
   {
    "duration": 1078,
    "start_time": "2022-06-27T07:10:17.436Z"
   },
   {
    "duration": 188,
    "start_time": "2022-06-27T07:10:43.504Z"
   },
   {
    "duration": 75,
    "start_time": "2022-06-27T07:10:51.947Z"
   },
   {
    "duration": 155,
    "start_time": "2022-06-27T07:11:05.107Z"
   },
   {
    "duration": 51,
    "start_time": "2022-06-27T07:11:13.277Z"
   },
   {
    "duration": 1176,
    "start_time": "2022-06-27T07:11:23.262Z"
   },
   {
    "duration": 1143,
    "start_time": "2022-06-27T07:11:56.427Z"
   },
   {
    "duration": 1136,
    "start_time": "2022-06-27T07:12:31.805Z"
   },
   {
    "duration": 1021,
    "start_time": "2022-06-27T07:13:42.167Z"
   },
   {
    "duration": 993,
    "start_time": "2022-06-27T07:13:55.442Z"
   },
   {
    "duration": 943,
    "start_time": "2022-06-27T07:15:43.927Z"
   },
   {
    "duration": 7,
    "start_time": "2022-06-27T07:16:13.967Z"
   },
   {
    "duration": 1736,
    "start_time": "2022-06-27T07:18:49.836Z"
   },
   {
    "duration": 8718,
    "start_time": "2022-06-27T07:22:55.076Z"
   },
   {
    "duration": 1134,
    "start_time": "2022-06-27T07:23:25.347Z"
   },
   {
    "duration": 4,
    "start_time": "2022-06-27T07:38:02.393Z"
   },
   {
    "duration": 4,
    "start_time": "2022-06-27T07:38:48.739Z"
   },
   {
    "duration": 7,
    "start_time": "2022-06-27T07:39:32.995Z"
   },
   {
    "duration": 15,
    "start_time": "2022-06-27T07:41:12.627Z"
   },
   {
    "duration": 18,
    "start_time": "2022-06-27T07:41:32.564Z"
   },
   {
    "duration": 18,
    "start_time": "2022-06-27T07:53:45.785Z"
   },
   {
    "duration": 29523,
    "start_time": "2022-06-27T08:05:42.457Z"
   },
   {
    "duration": 37,
    "start_time": "2022-06-27T08:06:41.784Z"
   },
   {
    "duration": 86,
    "start_time": "2022-06-27T08:06:41.822Z"
   },
   {
    "duration": 18,
    "start_time": "2022-06-27T08:06:41.910Z"
   },
   {
    "duration": 6,
    "start_time": "2022-06-27T08:06:41.930Z"
   },
   {
    "duration": 49,
    "start_time": "2022-06-27T08:06:41.939Z"
   },
   {
    "duration": 1052,
    "start_time": "2022-06-27T08:06:41.989Z"
   },
   {
    "duration": 15,
    "start_time": "2022-06-27T08:06:43.043Z"
   },
   {
    "duration": 19,
    "start_time": "2022-06-27T08:06:43.059Z"
   },
   {
    "duration": 26,
    "start_time": "2022-06-27T08:06:43.080Z"
   },
   {
    "duration": 182,
    "start_time": "2022-06-27T08:06:43.108Z"
   },
   {
    "duration": 16,
    "start_time": "2022-06-27T08:06:43.292Z"
   },
   {
    "duration": 7,
    "start_time": "2022-06-27T08:06:43.309Z"
   },
   {
    "duration": 41,
    "start_time": "2022-06-27T08:06:43.317Z"
   },
   {
    "duration": 9,
    "start_time": "2022-06-27T08:06:43.361Z"
   },
   {
    "duration": 21,
    "start_time": "2022-06-27T08:06:43.373Z"
   },
   {
    "duration": 158,
    "start_time": "2022-06-27T08:06:43.396Z"
   },
   {
    "duration": 434,
    "start_time": "2022-06-27T08:06:43.556Z"
   },
   {
    "duration": 25139,
    "start_time": "2022-06-27T08:07:05.867Z"
   },
   {
    "duration": 87424,
    "start_time": "2022-06-27T08:21:30.535Z"
   },
   {
    "duration": 105010,
    "start_time": "2022-06-27T08:23:23.225Z"
   },
   {
    "duration": 27,
    "start_time": "2022-06-27T08:26:20.171Z"
   },
   {
    "duration": 83,
    "start_time": "2022-06-27T08:26:20.200Z"
   },
   {
    "duration": 19,
    "start_time": "2022-06-27T08:26:20.284Z"
   },
   {
    "duration": 10,
    "start_time": "2022-06-27T08:26:20.304Z"
   },
   {
    "duration": 47,
    "start_time": "2022-06-27T08:26:20.316Z"
   },
   {
    "duration": 1140,
    "start_time": "2022-06-27T08:26:20.365Z"
   },
   {
    "duration": 10,
    "start_time": "2022-06-27T08:26:21.506Z"
   },
   {
    "duration": 36,
    "start_time": "2022-06-27T08:26:21.517Z"
   },
   {
    "duration": 28,
    "start_time": "2022-06-27T08:26:21.555Z"
   },
   {
    "duration": 157,
    "start_time": "2022-06-27T08:26:21.585Z"
   },
   {
    "duration": 20,
    "start_time": "2022-06-27T08:26:21.744Z"
   },
   {
    "duration": 6,
    "start_time": "2022-06-27T08:26:21.765Z"
   },
   {
    "duration": 29,
    "start_time": "2022-06-27T08:26:21.773Z"
   },
   {
    "duration": 7,
    "start_time": "2022-06-27T08:26:21.805Z"
   },
   {
    "duration": 38,
    "start_time": "2022-06-27T08:26:21.813Z"
   },
   {
    "duration": 111,
    "start_time": "2022-06-27T08:26:21.852Z"
   },
   {
    "duration": 433,
    "start_time": "2022-06-27T08:26:21.966Z"
   },
   {
    "duration": 40098,
    "start_time": "2022-06-27T08:27:03.505Z"
   },
   {
    "duration": 24164,
    "start_time": "2022-06-27T08:28:01.506Z"
   },
   {
    "duration": 39353,
    "start_time": "2022-06-27T08:28:28.576Z"
   },
   {
    "duration": 17932,
    "start_time": "2022-06-27T08:29:35.726Z"
   },
   {
    "duration": 6,
    "start_time": "2022-06-27T08:31:12.024Z"
   },
   {
    "duration": 361,
    "start_time": "2022-06-27T08:40:19.537Z"
   },
   {
    "duration": 369,
    "start_time": "2022-06-27T08:41:03.852Z"
   },
   {
    "duration": 404,
    "start_time": "2022-06-27T08:43:36.959Z"
   },
   {
    "duration": 363,
    "start_time": "2022-06-27T08:43:42.434Z"
   },
   {
    "duration": 1285,
    "start_time": "2022-06-27T08:47:36.384Z"
   },
   {
    "duration": 86,
    "start_time": "2022-06-27T08:47:37.671Z"
   },
   {
    "duration": 12,
    "start_time": "2022-06-27T08:47:37.759Z"
   },
   {
    "duration": 5,
    "start_time": "2022-06-27T08:47:37.774Z"
   },
   {
    "duration": 32,
    "start_time": "2022-06-27T08:47:37.780Z"
   },
   {
    "duration": 1051,
    "start_time": "2022-06-27T08:47:37.814Z"
   },
   {
    "duration": 9,
    "start_time": "2022-06-27T08:47:38.867Z"
   },
   {
    "duration": 18,
    "start_time": "2022-06-27T08:47:38.877Z"
   },
   {
    "duration": 57,
    "start_time": "2022-06-27T08:47:38.897Z"
   },
   {
    "duration": 156,
    "start_time": "2022-06-27T08:47:38.956Z"
   },
   {
    "duration": 15,
    "start_time": "2022-06-27T08:47:39.113Z"
   },
   {
    "duration": 21,
    "start_time": "2022-06-27T08:47:39.130Z"
   },
   {
    "duration": 103,
    "start_time": "2022-06-27T08:47:39.153Z"
   },
   {
    "duration": 0,
    "start_time": "2022-06-27T08:47:39.257Z"
   },
   {
    "duration": 0,
    "start_time": "2022-06-27T08:47:39.259Z"
   },
   {
    "duration": 0,
    "start_time": "2022-06-27T08:47:39.260Z"
   },
   {
    "duration": 0,
    "start_time": "2022-06-27T08:47:39.261Z"
   },
   {
    "duration": 0,
    "start_time": "2022-06-27T08:47:39.262Z"
   },
   {
    "duration": 0,
    "start_time": "2022-06-27T08:47:39.263Z"
   },
   {
    "duration": 0,
    "start_time": "2022-06-27T08:47:39.264Z"
   },
   {
    "duration": 0,
    "start_time": "2022-06-27T08:47:39.265Z"
   },
   {
    "duration": 0,
    "start_time": "2022-06-27T08:47:39.266Z"
   },
   {
    "duration": 0,
    "start_time": "2022-06-27T08:47:39.267Z"
   },
   {
    "duration": 0,
    "start_time": "2022-06-27T08:47:39.269Z"
   },
   {
    "duration": 0,
    "start_time": "2022-06-27T08:47:39.270Z"
   },
   {
    "duration": 0,
    "start_time": "2022-06-27T08:47:39.271Z"
   },
   {
    "duration": 0,
    "start_time": "2022-06-27T08:47:39.272Z"
   },
   {
    "duration": 0,
    "start_time": "2022-06-27T08:47:39.272Z"
   },
   {
    "duration": 0,
    "start_time": "2022-06-27T08:47:39.273Z"
   },
   {
    "duration": 18,
    "start_time": "2022-06-27T08:48:38.859Z"
   },
   {
    "duration": 13,
    "start_time": "2022-06-27T08:50:34.224Z"
   },
   {
    "duration": 12,
    "start_time": "2022-06-27T08:50:52.537Z"
   },
   {
    "duration": 89,
    "start_time": "2022-06-27T08:51:21.377Z"
   },
   {
    "duration": 35,
    "start_time": "2022-06-27T08:51:29.136Z"
   },
   {
    "duration": 380,
    "start_time": "2022-06-27T08:51:41.122Z"
   },
   {
    "duration": 395,
    "start_time": "2022-06-27T08:52:02.839Z"
   },
   {
    "duration": 433,
    "start_time": "2022-06-27T08:52:14.314Z"
   },
   {
    "duration": 381,
    "start_time": "2022-06-27T08:52:17.647Z"
   },
   {
    "duration": 396,
    "start_time": "2022-06-27T08:52:20.666Z"
   },
   {
    "duration": 43654,
    "start_time": "2022-06-27T08:53:31.443Z"
   },
   {
    "duration": 26320,
    "start_time": "2022-06-27T08:54:17.178Z"
   },
   {
    "duration": 43765,
    "start_time": "2022-06-27T08:54:47.876Z"
   },
   {
    "duration": 20064,
    "start_time": "2022-06-27T08:55:34.087Z"
   },
   {
    "duration": 44110,
    "start_time": "2022-06-27T08:58:43.014Z"
   },
   {
    "duration": 393,
    "start_time": "2022-06-27T09:00:31.812Z"
   },
   {
    "duration": 393,
    "start_time": "2022-06-27T09:00:33.286Z"
   },
   {
    "duration": 44709,
    "start_time": "2022-06-27T09:02:51.343Z"
   },
   {
    "duration": 202,
    "start_time": "2022-06-27T09:05:16.296Z"
   },
   {
    "duration": 276,
    "start_time": "2022-06-27T09:06:17.596Z"
   },
   {
    "duration": 209,
    "start_time": "2022-06-27T09:07:05.193Z"
   },
   {
    "duration": 315,
    "start_time": "2022-06-27T09:08:55.274Z"
   },
   {
    "duration": 400,
    "start_time": "2022-06-27T09:09:10.425Z"
   },
   {
    "duration": 7,
    "start_time": "2022-06-27T09:09:38.686Z"
   },
   {
    "duration": 128,
    "start_time": "2022-06-27T09:09:41.026Z"
   },
   {
    "duration": 16,
    "start_time": "2022-06-27T09:10:18.378Z"
   },
   {
    "duration": 44,
    "start_time": "2022-06-27T09:10:34.216Z"
   },
   {
    "duration": 43,
    "start_time": "2022-06-27T09:44:59.179Z"
   },
   {
    "duration": 118,
    "start_time": "2022-06-27T09:44:59.225Z"
   },
   {
    "duration": 43,
    "start_time": "2022-06-27T09:44:59.347Z"
   },
   {
    "duration": 15,
    "start_time": "2022-06-27T09:44:59.395Z"
   },
   {
    "duration": 76,
    "start_time": "2022-06-27T09:44:59.413Z"
   },
   {
    "duration": 1734,
    "start_time": "2022-06-27T09:44:59.492Z"
   },
   {
    "duration": 30,
    "start_time": "2022-06-27T09:45:01.228Z"
   },
   {
    "duration": 50,
    "start_time": "2022-06-27T09:45:01.262Z"
   },
   {
    "duration": 79,
    "start_time": "2022-06-27T09:45:01.314Z"
   },
   {
    "duration": 270,
    "start_time": "2022-06-27T09:45:01.395Z"
   },
   {
    "duration": 23,
    "start_time": "2022-06-27T09:45:01.667Z"
   },
   {
    "duration": 12,
    "start_time": "2022-06-27T09:45:01.692Z"
   },
   {
    "duration": 65,
    "start_time": "2022-06-27T09:45:01.706Z"
   },
   {
    "duration": 25,
    "start_time": "2022-06-27T09:45:01.776Z"
   },
   {
    "duration": 61,
    "start_time": "2022-06-27T09:45:01.803Z"
   },
   {
    "duration": 715,
    "start_time": "2022-06-27T09:45:01.882Z"
   },
   {
    "duration": 610,
    "start_time": "2022-06-27T09:45:02.599Z"
   },
   {
    "duration": 67683,
    "start_time": "2022-06-27T09:45:03.211Z"
   },
   {
    "duration": 37718,
    "start_time": "2022-06-27T09:46:10.897Z"
   },
   {
    "duration": 64014,
    "start_time": "2022-06-27T09:46:48.618Z"
   },
   {
    "duration": 28971,
    "start_time": "2022-06-27T09:47:52.634Z"
   },
   {
    "duration": 381,
    "start_time": "2022-06-27T09:48:21.608Z"
   },
   {
    "duration": 576,
    "start_time": "2022-06-27T09:49:44.664Z"
   },
   {
    "duration": 496,
    "start_time": "2022-06-27T09:51:08.205Z"
   },
   {
    "duration": 31,
    "start_time": "2022-06-27T09:51:15.984Z"
   },
   {
    "duration": 91,
    "start_time": "2022-06-27T09:51:16.018Z"
   },
   {
    "duration": 19,
    "start_time": "2022-06-27T09:51:16.111Z"
   },
   {
    "duration": 44,
    "start_time": "2022-06-27T09:51:16.132Z"
   },
   {
    "duration": 51,
    "start_time": "2022-06-27T09:51:16.181Z"
   },
   {
    "duration": 1457,
    "start_time": "2022-06-27T09:51:16.235Z"
   },
   {
    "duration": 15,
    "start_time": "2022-06-27T09:51:17.694Z"
   },
   {
    "duration": 59,
    "start_time": "2022-06-27T09:51:17.711Z"
   },
   {
    "duration": 39,
    "start_time": "2022-06-27T09:51:17.772Z"
   },
   {
    "duration": 225,
    "start_time": "2022-06-27T09:51:17.813Z"
   },
   {
    "duration": 33,
    "start_time": "2022-06-27T09:51:18.040Z"
   },
   {
    "duration": 10,
    "start_time": "2022-06-27T09:51:18.076Z"
   },
   {
    "duration": 30,
    "start_time": "2022-06-27T09:51:18.088Z"
   },
   {
    "duration": 52,
    "start_time": "2022-06-27T09:51:18.121Z"
   },
   {
    "duration": 96,
    "start_time": "2022-06-27T09:51:18.175Z"
   },
   {
    "duration": 625,
    "start_time": "2022-06-27T09:51:18.274Z"
   },
   {
    "duration": 573,
    "start_time": "2022-06-27T09:51:18.901Z"
   },
   {
    "duration": 61343,
    "start_time": "2022-06-27T09:51:19.476Z"
   },
   {
    "duration": 37101,
    "start_time": "2022-06-27T09:52:20.828Z"
   },
   {
    "duration": 61510,
    "start_time": "2022-06-27T09:52:57.932Z"
   },
   {
    "duration": 29451,
    "start_time": "2022-06-27T09:53:59.444Z"
   },
   {
    "duration": 342,
    "start_time": "2022-06-27T09:54:28.898Z"
   },
   {
    "duration": 555,
    "start_time": "2022-06-27T09:54:29.242Z"
   },
   {
    "duration": 626,
    "start_time": "2022-06-27T09:54:53.247Z"
   },
   {
    "duration": 710,
    "start_time": "2022-06-27T09:54:58.366Z"
   },
   {
    "duration": 766,
    "start_time": "2022-06-27T09:56:22.646Z"
   },
   {
    "duration": 835,
    "start_time": "2022-06-27T09:56:28.126Z"
   },
   {
    "duration": 29,
    "start_time": "2022-06-27T09:56:40.916Z"
   },
   {
    "duration": 101,
    "start_time": "2022-06-27T09:56:40.948Z"
   },
   {
    "duration": 23,
    "start_time": "2022-06-27T09:56:41.057Z"
   },
   {
    "duration": 11,
    "start_time": "2022-06-27T09:56:41.082Z"
   },
   {
    "duration": 71,
    "start_time": "2022-06-27T09:56:41.096Z"
   },
   {
    "duration": 1451,
    "start_time": "2022-06-27T09:56:41.171Z"
   },
   {
    "duration": 12,
    "start_time": "2022-06-27T09:56:42.624Z"
   },
   {
    "duration": 37,
    "start_time": "2022-06-27T09:56:42.652Z"
   },
   {
    "duration": 79,
    "start_time": "2022-06-27T09:56:42.691Z"
   },
   {
    "duration": 201,
    "start_time": "2022-06-27T09:56:42.772Z"
   },
   {
    "duration": 28,
    "start_time": "2022-06-27T09:56:42.976Z"
   },
   {
    "duration": 10,
    "start_time": "2022-06-27T09:56:43.008Z"
   },
   {
    "duration": 54,
    "start_time": "2022-06-27T09:56:43.020Z"
   },
   {
    "duration": 18,
    "start_time": "2022-06-27T09:56:43.078Z"
   },
   {
    "duration": 61,
    "start_time": "2022-06-27T09:56:43.099Z"
   },
   {
    "duration": 648,
    "start_time": "2022-06-27T09:56:43.162Z"
   },
   {
    "duration": 546,
    "start_time": "2022-06-27T09:56:43.812Z"
   },
   {
    "duration": 1769,
    "start_time": "2022-06-27T09:56:58.522Z"
   },
   {
    "duration": 122,
    "start_time": "2022-06-27T09:57:00.295Z"
   },
   {
    "duration": 38,
    "start_time": "2022-06-27T09:57:00.419Z"
   },
   {
    "duration": 10,
    "start_time": "2022-06-27T09:57:00.469Z"
   },
   {
    "duration": 58,
    "start_time": "2022-06-27T09:57:00.484Z"
   },
   {
    "duration": 1528,
    "start_time": "2022-06-27T09:57:00.544Z"
   },
   {
    "duration": 13,
    "start_time": "2022-06-27T09:57:02.074Z"
   },
   {
    "duration": 40,
    "start_time": "2022-06-27T09:57:02.089Z"
   },
   {
    "duration": 69,
    "start_time": "2022-06-27T09:57:02.131Z"
   },
   {
    "duration": 225,
    "start_time": "2022-06-27T09:57:02.203Z"
   },
   {
    "duration": 37,
    "start_time": "2022-06-27T09:57:02.430Z"
   },
   {
    "duration": 9,
    "start_time": "2022-06-27T09:57:02.474Z"
   },
   {
    "duration": 32,
    "start_time": "2022-06-27T09:57:02.485Z"
   },
   {
    "duration": 43,
    "start_time": "2022-06-27T09:57:02.522Z"
   },
   {
    "duration": 80,
    "start_time": "2022-06-27T09:57:02.570Z"
   },
   {
    "duration": 611,
    "start_time": "2022-06-27T09:57:02.653Z"
   },
   {
    "duration": 571,
    "start_time": "2022-06-27T09:57:03.271Z"
   },
   {
    "duration": 60963,
    "start_time": "2022-06-27T09:57:03.843Z"
   },
   {
    "duration": 36913,
    "start_time": "2022-06-27T09:58:04.809Z"
   },
   {
    "duration": 61993,
    "start_time": "2022-06-27T09:58:41.725Z"
   },
   {
    "duration": 27651,
    "start_time": "2022-06-27T09:59:43.721Z"
   },
   {
    "duration": 329,
    "start_time": "2022-06-27T10:00:11.375Z"
   },
   {
    "duration": 506,
    "start_time": "2022-06-27T10:00:11.706Z"
   },
   {
    "duration": 12,
    "start_time": "2022-06-27T10:00:12.215Z"
   },
   {
    "duration": 46,
    "start_time": "2022-06-27T10:00:12.230Z"
   },
   {
    "duration": 187,
    "start_time": "2022-06-27T10:00:12.279Z"
   },
   {
    "duration": 508,
    "start_time": "2022-06-27T10:00:12.475Z"
   },
   {
    "duration": 38370,
    "start_time": "2022-06-27T10:00:12.985Z"
   },
   {
    "duration": 268,
    "start_time": "2022-06-27T10:00:51.362Z"
   },
   {
    "duration": 551,
    "start_time": "2022-06-27T10:00:51.632Z"
   },
   {
    "duration": 213,
    "start_time": "2022-06-27T10:16:56.118Z"
   },
   {
    "duration": 50,
    "start_time": "2022-06-27T10:17:30.532Z"
   },
   {
    "duration": 128,
    "start_time": "2022-06-27T10:17:30.585Z"
   },
   {
    "duration": 27,
    "start_time": "2022-06-27T10:17:30.716Z"
   },
   {
    "duration": 42,
    "start_time": "2022-06-27T10:17:30.755Z"
   },
   {
    "duration": 75,
    "start_time": "2022-06-27T10:17:30.801Z"
   },
   {
    "duration": 1669,
    "start_time": "2022-06-27T10:17:30.879Z"
   },
   {
    "duration": 24,
    "start_time": "2022-06-27T10:17:32.551Z"
   },
   {
    "duration": 37,
    "start_time": "2022-06-27T10:17:32.577Z"
   },
   {
    "duration": 74,
    "start_time": "2022-06-27T10:17:32.618Z"
   },
   {
    "duration": 222,
    "start_time": "2022-06-27T10:17:32.694Z"
   },
   {
    "duration": 20,
    "start_time": "2022-06-27T10:17:32.918Z"
   },
   {
    "duration": 22,
    "start_time": "2022-06-27T10:17:32.951Z"
   },
   {
    "duration": 33,
    "start_time": "2022-06-27T10:17:32.977Z"
   },
   {
    "duration": 45,
    "start_time": "2022-06-27T10:17:33.012Z"
   },
   {
    "duration": 87,
    "start_time": "2022-06-27T10:17:33.066Z"
   },
   {
    "duration": 617,
    "start_time": "2022-06-27T10:17:33.156Z"
   },
   {
    "duration": 550,
    "start_time": "2022-06-27T10:17:33.775Z"
   },
   {
    "duration": 66183,
    "start_time": "2022-06-27T10:17:34.328Z"
   },
   {
    "duration": 39420,
    "start_time": "2022-06-27T10:18:40.514Z"
   },
   {
    "duration": 60703,
    "start_time": "2022-06-27T10:19:19.936Z"
   },
   {
    "duration": 27197,
    "start_time": "2022-06-27T10:20:20.641Z"
   },
   {
    "duration": 303,
    "start_time": "2022-06-27T10:20:47.840Z"
   },
   {
    "duration": 484,
    "start_time": "2022-06-27T10:21:10.478Z"
   },
   {
    "duration": 600,
    "start_time": "2022-06-27T10:21:36.563Z"
   },
   {
    "duration": 598,
    "start_time": "2022-06-27T10:22:05.476Z"
   },
   {
    "duration": 568,
    "start_time": "2022-06-27T10:22:11.849Z"
   },
   {
    "duration": 637,
    "start_time": "2022-06-27T10:22:34.428Z"
   },
   {
    "duration": 30,
    "start_time": "2022-06-27T10:22:40.498Z"
   },
   {
    "duration": 97,
    "start_time": "2022-06-27T10:22:40.531Z"
   },
   {
    "duration": 17,
    "start_time": "2022-06-27T10:22:40.630Z"
   },
   {
    "duration": 20,
    "start_time": "2022-06-27T10:22:40.649Z"
   },
   {
    "duration": 47,
    "start_time": "2022-06-27T10:22:40.671Z"
   },
   {
    "duration": 1459,
    "start_time": "2022-06-27T10:22:40.720Z"
   },
   {
    "duration": 12,
    "start_time": "2022-06-27T10:22:42.181Z"
   },
   {
    "duration": 24,
    "start_time": "2022-06-27T10:22:42.195Z"
   },
   {
    "duration": 44,
    "start_time": "2022-06-27T10:22:42.251Z"
   },
   {
    "duration": 217,
    "start_time": "2022-06-27T10:22:42.298Z"
   },
   {
    "duration": 17,
    "start_time": "2022-06-27T10:22:42.517Z"
   },
   {
    "duration": 33,
    "start_time": "2022-06-27T10:22:42.536Z"
   },
   {
    "duration": 31,
    "start_time": "2022-06-27T10:22:42.571Z"
   },
   {
    "duration": 18,
    "start_time": "2022-06-27T10:22:42.604Z"
   },
   {
    "duration": 58,
    "start_time": "2022-06-27T10:22:42.625Z"
   },
   {
    "duration": 613,
    "start_time": "2022-06-27T10:22:42.755Z"
   },
   {
    "duration": 540,
    "start_time": "2022-06-27T10:22:43.370Z"
   },
   {
    "duration": 59493,
    "start_time": "2022-06-27T10:22:43.912Z"
   },
   {
    "duration": 36088,
    "start_time": "2022-06-27T10:23:43.407Z"
   },
   {
    "duration": 58505,
    "start_time": "2022-06-27T10:24:19.498Z"
   },
   {
    "duration": 26715,
    "start_time": "2022-06-27T10:25:18.005Z"
   },
   {
    "duration": 318,
    "start_time": "2022-06-27T10:25:44.723Z"
   },
   {
    "duration": 420,
    "start_time": "2022-06-27T10:25:45.042Z"
   },
   {
    "duration": 393,
    "start_time": "2022-06-27T10:25:59.498Z"
   },
   {
    "duration": 39,
    "start_time": "2022-06-27T10:27:10.026Z"
   },
   {
    "duration": 42,
    "start_time": "2022-06-27T10:27:17.878Z"
   },
   {
    "duration": 494,
    "start_time": "2022-06-27T11:04:09.031Z"
   },
   {
    "duration": 9,
    "start_time": "2022-06-27T11:05:04.737Z"
   },
   {
    "duration": 16,
    "start_time": "2022-06-27T11:05:05.786Z"
   },
   {
    "duration": 45,
    "start_time": "2022-06-27T11:05:11.110Z"
   },
   {
    "duration": 49,
    "start_time": "2022-06-27T11:06:41.037Z"
   },
   {
    "duration": 485,
    "start_time": "2022-06-27T11:07:24.927Z"
   },
   {
    "duration": 518,
    "start_time": "2022-06-27T11:08:04.448Z"
   },
   {
    "duration": 483,
    "start_time": "2022-06-27T11:09:02.307Z"
   },
   {
    "duration": 52502,
    "start_time": "2022-06-27T11:10:14.315Z"
   },
   {
    "duration": 54,
    "start_time": "2022-06-27T11:12:33.695Z"
   },
   {
    "duration": 12,
    "start_time": "2022-06-27T11:12:38.740Z"
   },
   {
    "duration": 34980,
    "start_time": "2022-06-27T11:12:53.226Z"
   },
   {
    "duration": 53374,
    "start_time": "2022-06-27T11:13:52.758Z"
   },
   {
    "duration": 29387,
    "start_time": "2022-06-27T11:15:27.812Z"
   },
   {
    "duration": 271,
    "start_time": "2022-06-27T11:18:45.009Z"
   },
   {
    "duration": 266,
    "start_time": "2022-06-27T11:19:24.828Z"
   },
   {
    "duration": 248,
    "start_time": "2022-06-27T11:24:32.549Z"
   },
   {
    "duration": 42,
    "start_time": "2022-06-27T11:24:38.331Z"
   },
   {
    "duration": 89,
    "start_time": "2022-06-27T11:24:38.375Z"
   },
   {
    "duration": 18,
    "start_time": "2022-06-27T11:24:38.467Z"
   },
   {
    "duration": 8,
    "start_time": "2022-06-27T11:24:38.487Z"
   },
   {
    "duration": 80,
    "start_time": "2022-06-27T11:24:38.497Z"
   },
   {
    "duration": 1329,
    "start_time": "2022-06-27T11:24:38.579Z"
   },
   {
    "duration": 12,
    "start_time": "2022-06-27T11:24:39.910Z"
   },
   {
    "duration": 52,
    "start_time": "2022-06-27T11:24:39.925Z"
   },
   {
    "duration": 71,
    "start_time": "2022-06-27T11:24:39.980Z"
   },
   {
    "duration": 221,
    "start_time": "2022-06-27T11:24:40.053Z"
   },
   {
    "duration": 27,
    "start_time": "2022-06-27T11:24:40.276Z"
   },
   {
    "duration": 11,
    "start_time": "2022-06-27T11:24:40.305Z"
   },
   {
    "duration": 50,
    "start_time": "2022-06-27T11:24:40.319Z"
   },
   {
    "duration": 16,
    "start_time": "2022-06-27T11:24:40.373Z"
   },
   {
    "duration": 64,
    "start_time": "2022-06-27T11:24:40.391Z"
   },
   {
    "duration": 576,
    "start_time": "2022-06-27T11:24:40.459Z"
   },
   {
    "duration": 510,
    "start_time": "2022-06-27T11:24:41.037Z"
   },
   {
    "duration": 57253,
    "start_time": "2022-06-27T11:26:10.860Z"
   },
   {
    "duration": 25323,
    "start_time": "2022-06-27T11:27:08.115Z"
   },
   {
    "duration": 273,
    "start_time": "2022-06-27T11:27:33.440Z"
   },
   {
    "duration": 38,
    "start_time": "2022-06-27T11:27:33.715Z"
   },
   {
    "duration": 9,
    "start_time": "2022-06-27T11:27:33.755Z"
   },
   {
    "duration": 28,
    "start_time": "2022-06-27T11:27:33.766Z"
   },
   {
    "duration": 64,
    "start_time": "2022-06-27T11:27:33.796Z"
   },
   {
    "duration": 629,
    "start_time": "2022-06-27T11:27:33.862Z"
   },
   {
    "duration": 554,
    "start_time": "2022-06-27T11:27:34.494Z"
   },
   {
    "duration": 52150,
    "start_time": "2022-06-27T11:27:35.050Z"
   },
   {
    "duration": 1663,
    "start_time": "2022-06-27T11:28:53.031Z"
   },
   {
    "duration": 106,
    "start_time": "2022-06-27T11:28:54.697Z"
   },
   {
    "duration": 18,
    "start_time": "2022-06-27T11:28:54.805Z"
   },
   {
    "duration": 26,
    "start_time": "2022-06-27T11:28:54.826Z"
   },
   {
    "duration": 54,
    "start_time": "2022-06-27T11:28:54.855Z"
   },
   {
    "duration": 1328,
    "start_time": "2022-06-27T11:28:54.911Z"
   },
   {
    "duration": 18,
    "start_time": "2022-06-27T11:28:56.241Z"
   },
   {
    "duration": 33,
    "start_time": "2022-06-27T11:28:56.262Z"
   },
   {
    "duration": 69,
    "start_time": "2022-06-27T11:28:56.298Z"
   },
   {
    "duration": 195,
    "start_time": "2022-06-27T11:28:56.370Z"
   },
   {
    "duration": 20,
    "start_time": "2022-06-27T11:28:56.567Z"
   },
   {
    "duration": 9,
    "start_time": "2022-06-27T11:28:56.590Z"
   },
   {
    "duration": 54,
    "start_time": "2022-06-27T11:28:56.601Z"
   },
   {
    "duration": 22,
    "start_time": "2022-06-27T11:28:56.657Z"
   },
   {
    "duration": 76,
    "start_time": "2022-06-27T11:28:56.682Z"
   },
   {
    "duration": 576,
    "start_time": "2022-06-27T11:28:56.760Z"
   },
   {
    "duration": 513,
    "start_time": "2022-06-27T11:28:57.338Z"
   },
   {
    "duration": 55753,
    "start_time": "2022-06-27T11:28:57.853Z"
   },
   {
    "duration": 33698,
    "start_time": "2022-06-27T11:29:53.607Z"
   },
   {
    "duration": 55595,
    "start_time": "2022-06-27T11:30:27.307Z"
   },
   {
    "duration": 25912,
    "start_time": "2022-06-27T11:31:22.904Z"
   },
   {
    "duration": 279,
    "start_time": "2022-06-27T11:31:48.818Z"
   },
   {
    "duration": 33,
    "start_time": "2022-06-27T11:31:49.099Z"
   },
   {
    "duration": 19,
    "start_time": "2022-06-27T11:31:49.134Z"
   },
   {
    "duration": 20,
    "start_time": "2022-06-27T11:31:49.155Z"
   },
   {
    "duration": 176,
    "start_time": "2022-06-27T11:31:49.178Z"
   },
   {
    "duration": 562,
    "start_time": "2022-06-27T11:31:49.356Z"
   },
   {
    "duration": 540,
    "start_time": "2022-06-27T11:31:49.923Z"
   },
   {
    "duration": 52303,
    "start_time": "2022-06-27T11:31:50.465Z"
   },
   {
    "duration": 35339,
    "start_time": "2022-06-27T11:32:42.770Z"
   },
   {
    "duration": 1722,
    "start_time": "2022-06-27T11:33:52.940Z"
   },
   {
    "duration": 109,
    "start_time": "2022-06-27T11:33:54.665Z"
   },
   {
    "duration": 17,
    "start_time": "2022-06-27T11:33:54.776Z"
   },
   {
    "duration": 8,
    "start_time": "2022-06-27T11:33:54.795Z"
   },
   {
    "duration": 68,
    "start_time": "2022-06-27T11:33:54.807Z"
   },
   {
    "duration": 1344,
    "start_time": "2022-06-27T11:33:54.877Z"
   },
   {
    "duration": 11,
    "start_time": "2022-06-27T11:33:56.223Z"
   },
   {
    "duration": 38,
    "start_time": "2022-06-27T11:33:56.236Z"
   },
   {
    "duration": 77,
    "start_time": "2022-06-27T11:33:56.277Z"
   },
   {
    "duration": 189,
    "start_time": "2022-06-27T11:33:56.356Z"
   },
   {
    "duration": 20,
    "start_time": "2022-06-27T11:33:56.550Z"
   },
   {
    "duration": 8,
    "start_time": "2022-06-27T11:33:56.571Z"
   },
   {
    "duration": 24,
    "start_time": "2022-06-27T11:33:56.580Z"
   },
   {
    "duration": 44,
    "start_time": "2022-06-27T11:33:56.608Z"
   },
   {
    "duration": 101,
    "start_time": "2022-06-27T11:33:56.654Z"
   },
   {
    "duration": 580,
    "start_time": "2022-06-27T11:33:56.758Z"
   },
   {
    "duration": 528,
    "start_time": "2022-06-27T11:33:57.341Z"
   },
   {
    "duration": 55937,
    "start_time": "2022-06-27T11:33:57.872Z"
   },
   {
    "duration": 33486,
    "start_time": "2022-06-27T11:34:53.811Z"
   },
   {
    "duration": 55004,
    "start_time": "2022-06-27T11:35:27.300Z"
   },
   {
    "duration": 25418,
    "start_time": "2022-06-27T11:36:22.308Z"
   },
   {
    "duration": 282,
    "start_time": "2022-06-27T11:36:47.728Z"
   },
   {
    "duration": 42,
    "start_time": "2022-06-27T11:36:48.013Z"
   },
   {
    "duration": 11,
    "start_time": "2022-06-27T11:36:48.057Z"
   },
   {
    "duration": 19,
    "start_time": "2022-06-27T11:36:48.070Z"
   },
   {
    "duration": 67,
    "start_time": "2022-06-27T11:36:48.091Z"
   },
   {
    "duration": 579,
    "start_time": "2022-06-27T11:36:48.161Z"
   },
   {
    "duration": 509,
    "start_time": "2022-06-27T11:36:48.743Z"
   },
   {
    "duration": 51862,
    "start_time": "2022-06-27T11:36:49.254Z"
   },
   {
    "duration": 36140,
    "start_time": "2022-06-27T11:37:41.118Z"
   },
   {
    "duration": 51422,
    "start_time": "2022-06-27T11:38:17.260Z"
   },
   {
    "duration": 29228,
    "start_time": "2022-06-27T11:39:08.685Z"
   },
   {
    "duration": 271,
    "start_time": "2022-06-27T11:39:37.915Z"
   },
   {
    "duration": 609,
    "start_time": "2022-06-27T11:39:38.188Z"
   },
   {
    "duration": 254,
    "start_time": "2022-06-27T11:40:40.465Z"
   },
   {
    "duration": 1613,
    "start_time": "2022-06-27T11:42:42.313Z"
   },
   {
    "duration": 101,
    "start_time": "2022-06-27T11:42:43.929Z"
   },
   {
    "duration": 20,
    "start_time": "2022-06-27T11:42:44.032Z"
   },
   {
    "duration": 6,
    "start_time": "2022-06-27T11:42:44.056Z"
   },
   {
    "duration": 46,
    "start_time": "2022-06-27T11:42:44.064Z"
   },
   {
    "duration": 1565,
    "start_time": "2022-06-27T11:42:44.112Z"
   },
   {
    "duration": 13,
    "start_time": "2022-06-27T11:42:45.679Z"
   },
   {
    "duration": 59,
    "start_time": "2022-06-27T11:42:45.694Z"
   },
   {
    "duration": 42,
    "start_time": "2022-06-27T11:42:45.755Z"
   },
   {
    "duration": 244,
    "start_time": "2022-06-27T11:42:45.800Z"
   },
   {
    "duration": 24,
    "start_time": "2022-06-27T11:42:46.046Z"
   },
   {
    "duration": 8,
    "start_time": "2022-06-27T11:42:46.072Z"
   },
   {
    "duration": 28,
    "start_time": "2022-06-27T11:42:46.082Z"
   },
   {
    "duration": 54,
    "start_time": "2022-06-27T11:42:46.112Z"
   },
   {
    "duration": 181,
    "start_time": "2022-06-27T11:42:46.169Z"
   },
   {
    "duration": 510,
    "start_time": "2022-06-27T11:42:46.353Z"
   },
   {
    "duration": 546,
    "start_time": "2022-06-27T11:42:46.865Z"
   },
   {
    "duration": 57047,
    "start_time": "2022-06-27T11:42:47.413Z"
   },
   {
    "duration": 34239,
    "start_time": "2022-06-27T11:43:44.462Z"
   },
   {
    "duration": 57145,
    "start_time": "2022-06-27T11:44:18.703Z"
   },
   {
    "duration": 25117,
    "start_time": "2022-06-27T11:45:15.850Z"
   },
   {
    "duration": 294,
    "start_time": "2022-06-27T11:45:40.969Z"
   },
   {
    "duration": 34,
    "start_time": "2022-06-27T11:45:41.265Z"
   },
   {
    "duration": 9,
    "start_time": "2022-06-27T11:45:41.302Z"
   },
   {
    "duration": 42,
    "start_time": "2022-06-27T11:45:41.312Z"
   },
   {
    "duration": 96,
    "start_time": "2022-06-27T11:45:41.356Z"
   },
   {
    "duration": 558,
    "start_time": "2022-06-27T11:45:41.453Z"
   },
   {
    "duration": 501,
    "start_time": "2022-06-27T11:45:42.016Z"
   },
   {
    "duration": 53823,
    "start_time": "2022-06-27T11:45:42.519Z"
   },
   {
    "duration": 37846,
    "start_time": "2022-06-27T11:46:36.344Z"
   },
   {
    "duration": 51877,
    "start_time": "2022-06-27T11:47:14.192Z"
   },
   {
    "duration": 29727,
    "start_time": "2022-06-27T11:48:06.071Z"
   },
   {
    "duration": 277,
    "start_time": "2022-06-27T11:48:35.801Z"
   },
   {
    "duration": 109,
    "start_time": "2022-06-27T11:48:36.080Z"
   },
   {
    "duration": 93,
    "start_time": "2022-06-27T11:49:45.443Z"
   },
   {
    "duration": 133,
    "start_time": "2022-06-27T11:49:59.063Z"
   },
   {
    "duration": 38,
    "start_time": "2022-06-27T11:50:41.883Z"
   },
   {
    "duration": 1542,
    "start_time": "2022-06-27T11:56:01.607Z"
   },
   {
    "duration": 104,
    "start_time": "2022-06-27T11:56:03.152Z"
   },
   {
    "duration": 18,
    "start_time": "2022-06-27T11:56:03.258Z"
   },
   {
    "duration": 7,
    "start_time": "2022-06-27T11:56:03.278Z"
   },
   {
    "duration": 65,
    "start_time": "2022-06-27T11:56:03.288Z"
   },
   {
    "duration": 1424,
    "start_time": "2022-06-27T11:56:03.354Z"
   },
   {
    "duration": 13,
    "start_time": "2022-06-27T11:56:04.780Z"
   },
   {
    "duration": 26,
    "start_time": "2022-06-27T11:56:04.795Z"
   },
   {
    "duration": 32,
    "start_time": "2022-06-27T11:56:04.850Z"
   },
   {
    "duration": 197,
    "start_time": "2022-06-27T11:56:04.884Z"
   },
   {
    "duration": 20,
    "start_time": "2022-06-27T11:56:05.083Z"
   },
   {
    "duration": 8,
    "start_time": "2022-06-27T11:56:05.104Z"
   },
   {
    "duration": 47,
    "start_time": "2022-06-27T11:56:05.114Z"
   },
   {
    "duration": 22,
    "start_time": "2022-06-27T11:56:05.164Z"
   },
   {
    "duration": 67,
    "start_time": "2022-06-27T11:56:05.188Z"
   },
   {
    "duration": 594,
    "start_time": "2022-06-27T11:56:05.257Z"
   },
   {
    "duration": 508,
    "start_time": "2022-06-27T11:56:05.853Z"
   },
   {
    "duration": 56618,
    "start_time": "2022-06-27T11:56:06.363Z"
   },
   {
    "duration": 33507,
    "start_time": "2022-06-27T11:57:02.984Z"
   },
   {
    "duration": 55713,
    "start_time": "2022-06-27T11:57:36.493Z"
   },
   {
    "duration": 25120,
    "start_time": "2022-06-27T11:58:32.208Z"
   },
   {
    "duration": 312,
    "start_time": "2022-06-27T11:58:57.330Z"
   },
   {
    "duration": 31,
    "start_time": "2022-06-27T11:58:57.650Z"
   },
   {
    "duration": 8,
    "start_time": "2022-06-27T11:58:57.683Z"
   },
   {
    "duration": 16,
    "start_time": "2022-06-27T11:58:57.693Z"
   },
   {
    "duration": 61,
    "start_time": "2022-06-27T11:58:57.711Z"
   },
   {
    "duration": 638,
    "start_time": "2022-06-27T11:58:57.774Z"
   },
   {
    "duration": 483,
    "start_time": "2022-06-27T11:58:58.413Z"
   },
   {
    "duration": 51659,
    "start_time": "2022-06-27T11:58:58.898Z"
   },
   {
    "duration": 35237,
    "start_time": "2022-06-27T11:59:50.560Z"
   },
   {
    "duration": 51911,
    "start_time": "2022-06-27T12:00:25.799Z"
   },
   {
    "duration": 29632,
    "start_time": "2022-06-27T12:01:17.712Z"
   },
   {
    "duration": 291,
    "start_time": "2022-06-27T12:01:47.346Z"
   },
   {
    "duration": 43,
    "start_time": "2022-06-27T12:01:47.639Z"
   },
   {
    "duration": 163,
    "start_time": "2022-06-27T12:07:59.227Z"
   },
   {
    "duration": 47,
    "start_time": "2022-06-27T12:08:13.274Z"
   },
   {
    "duration": 101,
    "start_time": "2022-06-27T12:08:13.323Z"
   },
   {
    "duration": 16,
    "start_time": "2022-06-27T12:08:13.426Z"
   },
   {
    "duration": 7,
    "start_time": "2022-06-27T12:08:13.444Z"
   },
   {
    "duration": 1452,
    "start_time": "2022-06-27T12:08:13.455Z"
   },
   {
    "duration": 25,
    "start_time": "2022-06-27T12:08:31.320Z"
   },
   {
    "duration": 34,
    "start_time": "2022-06-27T12:08:48.417Z"
   },
   {
    "duration": 100,
    "start_time": "2022-06-27T12:08:48.456Z"
   },
   {
    "duration": 19,
    "start_time": "2022-06-27T12:08:48.558Z"
   },
   {
    "duration": 10,
    "start_time": "2022-06-27T12:08:48.580Z"
   },
   {
    "duration": 1476,
    "start_time": "2022-06-27T12:08:48.594Z"
   },
   {
    "duration": 14,
    "start_time": "2022-06-27T12:08:50.073Z"
   },
   {
    "duration": 34,
    "start_time": "2022-06-27T12:08:50.090Z"
   },
   {
    "duration": 45,
    "start_time": "2022-06-27T12:08:50.151Z"
   },
   {
    "duration": 241,
    "start_time": "2022-06-27T12:08:50.198Z"
   },
   {
    "duration": 21,
    "start_time": "2022-06-27T12:08:50.450Z"
   },
   {
    "duration": 10,
    "start_time": "2022-06-27T12:08:50.474Z"
   },
   {
    "duration": 33,
    "start_time": "2022-06-27T12:08:50.486Z"
   },
   {
    "duration": 42,
    "start_time": "2022-06-27T12:08:50.522Z"
   },
   {
    "duration": 89,
    "start_time": "2022-06-27T12:08:50.568Z"
   },
   {
    "duration": 674,
    "start_time": "2022-06-27T12:08:50.660Z"
   },
   {
    "duration": 524,
    "start_time": "2022-06-27T12:08:51.336Z"
   },
   {
    "duration": 56051,
    "start_time": "2022-06-27T12:08:51.863Z"
   },
   {
    "duration": 33377,
    "start_time": "2022-06-27T12:09:47.916Z"
   },
   {
    "duration": 57729,
    "start_time": "2022-06-27T12:10:21.295Z"
   },
   {
    "duration": 26547,
    "start_time": "2022-06-27T12:11:19.026Z"
   },
   {
    "duration": 298,
    "start_time": "2022-06-27T12:11:45.575Z"
   },
   {
    "duration": 32,
    "start_time": "2022-06-27T12:11:45.875Z"
   },
   {
    "duration": 9,
    "start_time": "2022-06-27T12:11:45.909Z"
   },
   {
    "duration": 44,
    "start_time": "2022-06-27T12:11:45.920Z"
   },
   {
    "duration": 89,
    "start_time": "2022-06-27T12:11:45.966Z"
   },
   {
    "duration": 607,
    "start_time": "2022-06-27T12:11:46.058Z"
   },
   {
    "duration": 538,
    "start_time": "2022-06-27T12:11:46.667Z"
   },
   {
    "duration": 51867,
    "start_time": "2022-06-27T12:11:47.207Z"
   },
   {
    "duration": 35316,
    "start_time": "2022-06-27T12:12:39.076Z"
   },
   {
    "duration": 51524,
    "start_time": "2022-06-27T12:13:14.395Z"
   },
   {
    "duration": 29478,
    "start_time": "2022-06-27T12:14:05.922Z"
   },
   {
    "duration": 279,
    "start_time": "2022-06-27T12:14:35.402Z"
   },
   {
    "duration": 32,
    "start_time": "2022-06-27T12:14:35.683Z"
   },
   {
    "duration": 101,
    "start_time": "2022-06-27T12:27:01.785Z"
   },
   {
    "duration": 779,
    "start_time": "2022-06-27T12:46:56.763Z"
   },
   {
    "duration": 32,
    "start_time": "2022-06-27T12:47:19.079Z"
   },
   {
    "duration": 122,
    "start_time": "2022-06-27T12:47:19.114Z"
   },
   {
    "duration": 22,
    "start_time": "2022-06-27T12:47:19.238Z"
   },
   {
    "duration": 8,
    "start_time": "2022-06-27T12:47:19.263Z"
   },
   {
    "duration": 1375,
    "start_time": "2022-06-27T12:47:19.273Z"
   },
   {
    "duration": 11,
    "start_time": "2022-06-27T12:47:20.651Z"
   },
   {
    "duration": 22,
    "start_time": "2022-06-27T12:47:20.663Z"
   },
   {
    "duration": 80,
    "start_time": "2022-06-27T12:47:20.687Z"
   },
   {
    "duration": 229,
    "start_time": "2022-06-27T12:49:54.447Z"
   },
   {
    "duration": 195,
    "start_time": "2022-06-27T12:50:17.508Z"
   },
   {
    "duration": 210,
    "start_time": "2022-06-27T12:51:55.406Z"
   },
   {
    "duration": 219,
    "start_time": "2022-06-27T12:52:29.874Z"
   },
   {
    "duration": 228,
    "start_time": "2022-06-27T12:52:41.415Z"
   },
   {
    "duration": 264,
    "start_time": "2022-06-27T12:53:00.775Z"
   },
   {
    "duration": 204,
    "start_time": "2022-06-27T12:53:33.718Z"
   },
   {
    "duration": 238,
    "start_time": "2022-06-27T12:53:43.646Z"
   },
   {
    "duration": 336,
    "start_time": "2022-06-27T12:54:11.076Z"
   },
   {
    "duration": 250,
    "start_time": "2022-06-27T12:54:24.357Z"
   },
   {
    "duration": 67,
    "start_time": "2022-06-27T12:55:14.797Z"
   },
   {
    "duration": 82,
    "start_time": "2022-06-27T12:55:23.256Z"
   },
   {
    "duration": 208,
    "start_time": "2022-06-27T12:55:36.606Z"
   },
   {
    "duration": 232,
    "start_time": "2022-06-27T12:55:46.957Z"
   },
   {
    "duration": 220,
    "start_time": "2022-06-27T12:56:05.957Z"
   },
   {
    "duration": 222,
    "start_time": "2022-06-27T12:56:23.775Z"
   },
   {
    "duration": 232,
    "start_time": "2022-06-27T12:56:31.134Z"
   },
   {
    "duration": 229,
    "start_time": "2022-06-27T12:57:03.587Z"
   },
   {
    "duration": 17,
    "start_time": "2022-06-27T13:03:08.298Z"
   },
   {
    "duration": 13,
    "start_time": "2022-06-27T13:30:45.977Z"
   },
   {
    "duration": 31,
    "start_time": "2022-06-27T13:30:51.348Z"
   },
   {
    "duration": 29,
    "start_time": "2022-06-27T13:37:08.909Z"
   },
   {
    "duration": 86,
    "start_time": "2022-06-27T13:37:08.941Z"
   },
   {
    "duration": 17,
    "start_time": "2022-06-27T13:37:09.029Z"
   },
   {
    "duration": 6,
    "start_time": "2022-06-27T13:37:09.050Z"
   },
   {
    "duration": 1473,
    "start_time": "2022-06-27T13:37:09.058Z"
   },
   {
    "duration": 19,
    "start_time": "2022-06-27T13:37:10.533Z"
   },
   {
    "duration": 33,
    "start_time": "2022-06-27T13:37:10.555Z"
   },
   {
    "duration": 64,
    "start_time": "2022-06-27T13:37:10.589Z"
   },
   {
    "duration": 269,
    "start_time": "2022-06-27T13:37:10.656Z"
   },
   {
    "duration": 40,
    "start_time": "2022-06-27T13:37:10.929Z"
   },
   {
    "duration": 8,
    "start_time": "2022-06-27T13:37:10.970Z"
   },
   {
    "duration": 23,
    "start_time": "2022-06-27T13:37:10.980Z"
   },
   {
    "duration": 17,
    "start_time": "2022-06-27T13:37:11.004Z"
   },
   {
    "duration": 99,
    "start_time": "2022-06-27T13:37:11.051Z"
   },
   {
    "duration": 593,
    "start_time": "2022-06-27T13:37:11.153Z"
   },
   {
    "duration": 541,
    "start_time": "2022-06-27T13:37:11.751Z"
   },
   {
    "duration": 55968,
    "start_time": "2022-06-27T13:37:12.295Z"
   },
   {
    "duration": 33662,
    "start_time": "2022-06-27T13:38:08.266Z"
   },
   {
    "duration": 55279,
    "start_time": "2022-06-27T13:38:41.930Z"
   },
   {
    "duration": 24844,
    "start_time": "2022-06-27T13:39:37.211Z"
   },
   {
    "duration": 282,
    "start_time": "2022-06-27T13:40:02.057Z"
   },
   {
    "duration": 40,
    "start_time": "2022-06-27T13:40:02.341Z"
   },
   {
    "duration": 9,
    "start_time": "2022-06-27T13:40:02.383Z"
   },
   {
    "duration": 23,
    "start_time": "2022-06-27T13:40:02.394Z"
   },
   {
    "duration": 57,
    "start_time": "2022-06-27T13:40:02.419Z"
   },
   {
    "duration": 643,
    "start_time": "2022-06-27T13:40:02.478Z"
   },
   {
    "duration": 487,
    "start_time": "2022-06-27T13:40:03.123Z"
   },
   {
    "duration": 51165,
    "start_time": "2022-06-27T13:40:03.614Z"
   },
   {
    "duration": 34600,
    "start_time": "2022-06-27T13:40:54.781Z"
   },
   {
    "duration": 51865,
    "start_time": "2022-06-27T13:41:29.383Z"
   },
   {
    "duration": 29817,
    "start_time": "2022-06-27T13:42:21.250Z"
   },
   {
    "duration": 285,
    "start_time": "2022-06-27T13:42:51.070Z"
   },
   {
    "duration": 34,
    "start_time": "2022-06-27T13:42:51.358Z"
   },
   {
    "duration": 28,
    "start_time": "2022-06-27T13:48:38.498Z"
   },
   {
    "duration": 17,
    "start_time": "2022-06-27T13:49:39.937Z"
   },
   {
    "duration": 24,
    "start_time": "2022-06-27T13:49:48.347Z"
   },
   {
    "duration": 10,
    "start_time": "2022-06-27T13:52:17.595Z"
   },
   {
    "duration": 9,
    "start_time": "2022-06-27T13:52:26.095Z"
   },
   {
    "duration": 75,
    "start_time": "2022-06-27T13:53:38.367Z"
   },
   {
    "duration": 72,
    "start_time": "2022-06-27T14:01:33.597Z"
   },
   {
    "duration": 476,
    "start_time": "2022-06-27T14:01:41.636Z"
   },
   {
    "duration": 488,
    "start_time": "2022-06-27T14:01:57.927Z"
   },
   {
    "duration": 51560,
    "start_time": "2022-06-27T14:02:37.325Z"
   },
   {
    "duration": 51,
    "start_time": "2022-06-27T14:07:21.756Z"
   },
   {
    "duration": 465,
    "start_time": "2022-06-27T14:09:31.661Z"
   },
   {
    "duration": 10,
    "start_time": "2022-06-27T14:35:02.413Z"
   },
   {
    "duration": 1699,
    "start_time": "2022-06-27T14:46:05.047Z"
   },
   {
    "duration": 91,
    "start_time": "2022-06-27T14:46:06.749Z"
   },
   {
    "duration": 17,
    "start_time": "2022-06-27T14:46:06.842Z"
   },
   {
    "duration": 9,
    "start_time": "2022-06-27T14:46:06.861Z"
   },
   {
    "duration": 1428,
    "start_time": "2022-06-27T14:46:06.872Z"
   },
   {
    "duration": 14,
    "start_time": "2022-06-27T14:46:08.302Z"
   },
   {
    "duration": 40,
    "start_time": "2022-06-27T14:46:08.318Z"
   },
   {
    "duration": 41,
    "start_time": "2022-06-27T14:46:08.360Z"
   },
   {
    "duration": 308,
    "start_time": "2022-06-27T14:46:08.403Z"
   },
   {
    "duration": 39,
    "start_time": "2022-06-27T14:46:08.713Z"
   },
   {
    "duration": 10,
    "start_time": "2022-06-27T14:46:08.754Z"
   },
   {
    "duration": 24,
    "start_time": "2022-06-27T14:46:08.766Z"
   },
   {
    "duration": 17,
    "start_time": "2022-06-27T14:46:08.794Z"
   },
   {
    "duration": 137,
    "start_time": "2022-06-27T14:46:08.815Z"
   },
   {
    "duration": 645,
    "start_time": "2022-06-27T14:46:08.954Z"
   },
   {
    "duration": 528,
    "start_time": "2022-06-27T14:46:09.601Z"
   },
   {
    "duration": 57060,
    "start_time": "2022-06-27T14:46:10.132Z"
   },
   {
    "duration": 33469,
    "start_time": "2022-06-27T14:47:07.194Z"
   },
   {
    "duration": 57474,
    "start_time": "2022-06-27T14:47:40.665Z"
   },
   {
    "duration": 25759,
    "start_time": "2022-06-27T14:48:38.141Z"
   },
   {
    "duration": 295,
    "start_time": "2022-06-27T14:49:03.903Z"
   },
   {
    "duration": 31,
    "start_time": "2022-06-27T14:49:04.199Z"
   },
   {
    "duration": 25,
    "start_time": "2022-06-27T14:49:04.232Z"
   },
   {
    "duration": 16,
    "start_time": "2022-06-27T14:49:04.259Z"
   },
   {
    "duration": 77,
    "start_time": "2022-06-27T14:49:04.277Z"
   },
   {
    "duration": 601,
    "start_time": "2022-06-27T14:49:04.356Z"
   },
   {
    "duration": 490,
    "start_time": "2022-06-27T14:49:04.959Z"
   },
   {
    "duration": 52804,
    "start_time": "2022-06-27T14:49:05.451Z"
   },
   {
    "duration": 35730,
    "start_time": "2022-06-27T14:49:58.256Z"
   },
   {
    "duration": 52511,
    "start_time": "2022-06-27T14:50:33.988Z"
   },
   {
    "duration": 29951,
    "start_time": "2022-06-27T14:51:26.502Z"
   },
   {
    "duration": 306,
    "start_time": "2022-06-27T14:51:56.455Z"
   },
   {
    "duration": 31,
    "start_time": "2022-06-27T14:51:56.763Z"
   },
   {
    "duration": 46,
    "start_time": "2022-06-27T17:20:20.191Z"
   },
   {
    "duration": 11,
    "start_time": "2022-06-27T17:25:18.805Z"
   },
   {
    "duration": 1443,
    "start_time": "2022-06-27T17:44:14.910Z"
   },
   {
    "duration": 113,
    "start_time": "2022-06-27T17:44:16.355Z"
   },
   {
    "duration": 13,
    "start_time": "2022-06-27T17:44:16.469Z"
   },
   {
    "duration": 6,
    "start_time": "2022-06-27T17:44:16.484Z"
   },
   {
    "duration": 1114,
    "start_time": "2022-06-27T17:44:16.491Z"
   },
   {
    "duration": 9,
    "start_time": "2022-06-27T17:44:17.607Z"
   },
   {
    "duration": 17,
    "start_time": "2022-06-27T17:44:17.617Z"
   },
   {
    "duration": 48,
    "start_time": "2022-06-27T17:44:17.636Z"
   },
   {
    "duration": 229,
    "start_time": "2022-06-27T17:44:17.686Z"
   },
   {
    "duration": 22,
    "start_time": "2022-06-27T17:44:17.917Z"
   },
   {
    "duration": 7,
    "start_time": "2022-06-27T17:44:17.941Z"
   },
   {
    "duration": 19,
    "start_time": "2022-06-27T17:44:17.968Z"
   },
   {
    "duration": 14,
    "start_time": "2022-06-27T17:44:17.989Z"
   },
   {
    "duration": 63,
    "start_time": "2022-06-27T17:44:18.005Z"
   },
   {
    "duration": 469,
    "start_time": "2022-06-27T17:44:18.070Z"
   },
   {
    "duration": 434,
    "start_time": "2022-06-27T17:44:18.540Z"
   },
   {
    "duration": 44347,
    "start_time": "2022-06-27T17:44:18.977Z"
   },
   {
    "duration": 27285,
    "start_time": "2022-06-27T17:45:03.326Z"
   },
   {
    "duration": 46577,
    "start_time": "2022-06-27T17:45:30.613Z"
   },
   {
    "duration": 20505,
    "start_time": "2022-06-27T17:46:17.192Z"
   },
   {
    "duration": 290,
    "start_time": "2022-06-27T17:46:37.699Z"
   },
   {
    "duration": 36,
    "start_time": "2022-06-27T17:46:37.991Z"
   },
   {
    "duration": 9,
    "start_time": "2022-06-27T17:46:38.029Z"
   },
   {
    "duration": 35,
    "start_time": "2022-06-27T17:46:38.039Z"
   },
   {
    "duration": 93,
    "start_time": "2022-06-27T17:46:38.076Z"
   },
   {
    "duration": 471,
    "start_time": "2022-06-27T17:46:38.171Z"
   },
   {
    "duration": 449,
    "start_time": "2022-06-27T17:46:38.644Z"
   },
   {
    "duration": 43022,
    "start_time": "2022-06-27T17:46:39.100Z"
   },
   {
    "duration": 29559,
    "start_time": "2022-06-27T17:47:22.123Z"
   },
   {
    "duration": 43110,
    "start_time": "2022-06-27T17:47:51.683Z"
   },
   {
    "duration": 23683,
    "start_time": "2022-06-27T17:48:34.794Z"
   },
   {
    "duration": 221,
    "start_time": "2022-06-27T17:48:58.479Z"
   },
   {
    "duration": 33,
    "start_time": "2022-06-27T17:48:58.702Z"
   },
   {
    "duration": 1299,
    "start_time": "2022-06-27T20:36:17.385Z"
   },
   {
    "duration": 256,
    "start_time": "2022-06-27T20:36:18.687Z"
   },
   {
    "duration": 14,
    "start_time": "2022-06-27T20:36:18.945Z"
   },
   {
    "duration": 9,
    "start_time": "2022-06-27T20:36:18.961Z"
   },
   {
    "duration": 1162,
    "start_time": "2022-06-27T20:36:18.972Z"
   },
   {
    "duration": 9,
    "start_time": "2022-06-27T20:36:20.135Z"
   },
   {
    "duration": 19,
    "start_time": "2022-06-27T20:36:20.146Z"
   },
   {
    "duration": 22,
    "start_time": "2022-06-27T20:36:20.166Z"
   },
   {
    "duration": 200,
    "start_time": "2022-06-27T20:36:20.230Z"
   },
   {
    "duration": 21,
    "start_time": "2022-06-27T20:36:20.431Z"
   },
   {
    "duration": 8,
    "start_time": "2022-06-27T20:36:20.453Z"
   },
   {
    "duration": 18,
    "start_time": "2022-06-27T20:36:20.463Z"
   },
   {
    "duration": 50,
    "start_time": "2022-06-27T20:36:20.483Z"
   },
   {
    "duration": 94,
    "start_time": "2022-06-27T20:36:20.536Z"
   },
   {
    "duration": 462,
    "start_time": "2022-06-27T20:36:20.632Z"
   },
   {
    "duration": 398,
    "start_time": "2022-06-27T20:36:21.096Z"
   },
   {
    "duration": 43357,
    "start_time": "2022-06-27T20:36:21.496Z"
   },
   {
    "duration": 25791,
    "start_time": "2022-06-27T20:37:04.855Z"
   },
   {
    "duration": 43596,
    "start_time": "2022-06-27T20:37:30.648Z"
   },
   {
    "duration": 19681,
    "start_time": "2022-06-27T20:38:14.245Z"
   },
   {
    "duration": 236,
    "start_time": "2022-06-27T20:38:33.929Z"
   },
   {
    "duration": 29,
    "start_time": "2022-06-27T20:38:34.167Z"
   },
   {
    "duration": 9,
    "start_time": "2022-06-27T20:38:34.198Z"
   },
   {
    "duration": 31,
    "start_time": "2022-06-27T20:38:34.209Z"
   },
   {
    "duration": 93,
    "start_time": "2022-06-27T20:38:34.243Z"
   },
   {
    "duration": 578,
    "start_time": "2022-06-27T20:38:34.339Z"
   },
   {
    "duration": 440,
    "start_time": "2022-06-27T20:38:34.919Z"
   },
   {
    "duration": 41537,
    "start_time": "2022-06-27T20:38:35.361Z"
   },
   {
    "duration": 27328,
    "start_time": "2022-06-27T20:39:16.899Z"
   },
   {
    "duration": 39641,
    "start_time": "2022-06-27T20:39:44.229Z"
   },
   {
    "duration": 22805,
    "start_time": "2022-06-27T20:40:23.872Z"
   },
   {
    "duration": 220,
    "start_time": "2022-06-27T20:40:46.679Z"
   },
   {
    "duration": 48,
    "start_time": "2022-06-27T20:40:46.901Z"
   },
   {
    "duration": 48,
    "start_time": "2022-06-28T07:02:03.549Z"
   },
   {
    "duration": 1690,
    "start_time": "2022-06-28T07:02:17.253Z"
   },
   {
    "duration": 149,
    "start_time": "2022-06-28T07:02:18.945Z"
   },
   {
    "duration": 15,
    "start_time": "2022-06-28T07:02:19.095Z"
   },
   {
    "duration": 10,
    "start_time": "2022-06-28T07:02:19.111Z"
   },
   {
    "duration": 1250,
    "start_time": "2022-06-28T07:02:19.123Z"
   },
   {
    "duration": 10,
    "start_time": "2022-06-28T07:02:20.375Z"
   },
   {
    "duration": 19,
    "start_time": "2022-06-28T07:02:20.387Z"
   },
   {
    "duration": 33,
    "start_time": "2022-06-28T07:02:20.408Z"
   },
   {
    "duration": 143,
    "start_time": "2022-06-28T07:07:21.722Z"
   },
   {
    "duration": 152,
    "start_time": "2022-06-28T07:07:37.192Z"
   },
   {
    "duration": 126,
    "start_time": "2022-06-28T07:07:49.172Z"
   },
   {
    "duration": 145,
    "start_time": "2022-06-28T07:08:08.202Z"
   },
   {
    "duration": 131,
    "start_time": "2022-06-28T07:08:20.912Z"
   },
   {
    "duration": 62,
    "start_time": "2022-06-28T07:10:10.537Z"
   },
   {
    "duration": 126,
    "start_time": "2022-06-28T07:10:23.975Z"
   },
   {
    "duration": 120,
    "start_time": "2022-06-28T07:12:03.561Z"
   },
   {
    "duration": 223,
    "start_time": "2022-06-28T07:12:12.145Z"
   },
   {
    "duration": 128,
    "start_time": "2022-06-28T07:12:26.711Z"
   },
   {
    "duration": 138,
    "start_time": "2022-06-28T07:12:51.502Z"
   },
   {
    "duration": 121,
    "start_time": "2022-06-28T07:13:05.971Z"
   },
   {
    "duration": 115,
    "start_time": "2022-06-28T07:13:11.349Z"
   },
   {
    "duration": 116,
    "start_time": "2022-06-28T07:13:19.841Z"
   },
   {
    "duration": 125,
    "start_time": "2022-06-28T07:13:29.981Z"
   },
   {
    "duration": 119,
    "start_time": "2022-06-28T07:13:36.640Z"
   }
  ],
  "kernelspec": {
   "display_name": "Python 3 (ipykernel)",
   "language": "python",
   "name": "python3"
  },
  "language_info": {
   "codemirror_mode": {
    "name": "ipython",
    "version": 3
   },
   "file_extension": ".py",
   "mimetype": "text/x-python",
   "name": "python",
   "nbconvert_exporter": "python",
   "pygments_lexer": "ipython3",
   "version": "3.10.8"
  },
  "toc": {
   "base_numbering": 1,
   "nav_menu": {},
   "number_sections": true,
   "sideBar": true,
   "skip_h1_title": true,
   "title_cell": "Содержание",
   "title_sidebar": "Contents",
   "toc_cell": true,
   "toc_position": {},
   "toc_section_display": true,
   "toc_window_display": false
  }
 },
 "nbformat": 4,
 "nbformat_minor": 2
}
