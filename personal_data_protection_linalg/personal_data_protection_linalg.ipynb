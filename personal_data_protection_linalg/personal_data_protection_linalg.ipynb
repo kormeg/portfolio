{
 "cells": [
  {
   "cell_type": "markdown",
   "metadata": {},
   "source": [
    "<div style=\"background: #C0C0C0; padding: 5px; border: 1px solid black; border-radius: 5px;\">\n",
    "    <font color='black'><u><b>КОММЕНТАРИЙ РЕВЬЮЕРА</b></u></font><br />\n",
    "    <br />\n",
    "    Привет, Павел! Меня зовут Кирилл Киселев.<br />\n",
    "        На этом проекте я буду ревьюером. Предлагаю общаться на \"ты\". Если так будет неудобно, пожалуйста, дай знать.<br />\n",
    "        <br />\n",
    "        Моя цель - помочь тебе освоиться в новой профессии и научиться применять полученные знания максимально эффективно. Не стесняйся спрашивать, если что-то непонятно. Вместе проще разобраться с любыми вопросами.<br />\n",
    "        <br />\n",
    "В проекте тебе встретятся мои комментарии к коду и выводам. Пожалуйста, не удаляй их, так будет удобнее вести общение.<br />\n",
    "        Ниже приведены примеры оформления моих комментариев:<br />\n",
    "</div>"
   ]
  },
  {
   "cell_type": "markdown",
   "metadata": {},
   "source": [
    "<div class=\"alert alert-success\" style=\"border-color: green; border-radius: 5px\">\n",
    "    <p><u><b>✅ КОММЕНТАРИЙ РЕВЬЮЕРА</b></u></p>\n",
    "    <p>Таким образом оформляется комментарий, означающий что пункт выполнен без ошибок.</p>\n",
    "</div>"
   ]
  },
  {
   "cell_type": "markdown",
   "metadata": {},
   "source": [
    "<div class=\"alert alert-warning\" style=\"border-color: orange; border-radius: 5px\">\n",
    "    <p><u><b>⚠️ КОММЕНТАРИЙ РЕВЬЮЕРА</b></u></p>\n",
    "    <p>Таким образом оформляется комментарий, означающий что в пункте есть некритичные недочеты.</p>\n",
    "</div>"
   ]
  },
  {
   "cell_type": "markdown",
   "metadata": {},
   "source": [
    "<div class=\"alert alert-danger\" style=\"border-color: #8B0000; border-radius: 5px\">\n",
    "    <p><u><b>❌ КОММЕНТАРИЙ РЕВЬЮЕРА</b></u></p>\n",
    "    <p>Таким образом оформляется комментарий, означающий что в пункте есть критичные недочеты, требующие исправления.</p>\n",
    "</div>"
   ]
  },
  {
   "cell_type": "markdown",
   "metadata": {},
   "source": [
    "<div class=\"alert alert-info\" style=\"border-color: #0080FF; border-radius: 5px\">\n",
    "    <p><u><b>КОММЕНТАРИЙ СТУДЕНТА</b></u></p>\n",
    "    <p>Буду очень признателен, если ты тоже оформишь свои комментарии и вопросы ко мне с прменением цветовой разметки. Например, так.</p>     \n",
    "</div>"
   ]
  },
  {
   "cell_type": "markdown",
   "metadata": {
    "toc": true
   },
   "source": [
    "<h1>Содержание<span class=\"tocSkip\"></span></h1>\n",
    "<div class=\"toc\"><ul class=\"toc-item\"><li><span><a href=\"#Цель-исследования\" data-toc-modified-id=\"Цель-исследования-1\"><span class=\"toc-item-num\">1&nbsp;&nbsp;</span>Цель исследования</a></span></li><li><span><a href=\"#Загрузка-данных\" data-toc-modified-id=\"Загрузка-данных-2\"><span class=\"toc-item-num\">2&nbsp;&nbsp;</span>Загрузка данных</a></span><ul class=\"toc-item\"><li><span><a href=\"#Вывод\" data-toc-modified-id=\"Вывод-2.1\"><span class=\"toc-item-num\">2.1&nbsp;&nbsp;</span>Вывод</a></span></li></ul></li><li><span><a href=\"#Умножение-матриц\" data-toc-modified-id=\"Умножение-матриц-3\"><span class=\"toc-item-num\">3&nbsp;&nbsp;</span>Умножение матриц</a></span></li><li><span><a href=\"#Алгоритм-преобразования\" data-toc-modified-id=\"Алгоритм-преобразования-4\"><span class=\"toc-item-num\">4&nbsp;&nbsp;</span>Алгоритм преобразования</a></span></li><li><span><a href=\"#Проверка-алгоритма\" data-toc-modified-id=\"Проверка-алгоритма-5\"><span class=\"toc-item-num\">5&nbsp;&nbsp;</span>Проверка алгоритма</a></span></li><li><span><a href=\"#Вывод\" data-toc-modified-id=\"Вывод-6\"><span class=\"toc-item-num\">6&nbsp;&nbsp;</span>Вывод</a></span></li><li><span><a href=\"#Чек-лист-проверки\" data-toc-modified-id=\"Чек-лист-проверки-7\"><span class=\"toc-item-num\">7&nbsp;&nbsp;</span>Чек-лист проверки</a></span></li><li><span><a href=\"#Финальные-комментарии-ревьюера\" data-toc-modified-id=\"Финальные-комментарии-ревьюера-8\"><span class=\"toc-item-num\">8&nbsp;&nbsp;</span>Финальные комментарии ревьюера</a></span></li></ul></div>"
   ]
  },
  {
   "cell_type": "markdown",
   "metadata": {},
   "source": [
    "# Защита персональных данных клиентов"
   ]
  },
  {
   "cell_type": "markdown",
   "metadata": {},
   "source": [
    "## Цель исследования"
   ]
  },
  {
   "cell_type": "markdown",
   "metadata": {},
   "source": [
    "  Защитить данные клиентов страховой компании «Хоть потоп»:\n",
    "* Разработать такой метод преобразования данных, чтобы по ним было сложно восстановить персональную информацию. \n",
    "* Обосновать корректность его работы.\n",
    "* Защитить данные, чтобы при преобразовании качество моделей машинного обучения не ухудшилось."
   ]
  },
  {
   "cell_type": "markdown",
   "metadata": {},
   "source": [
    "<div class=\"alert alert-success\" style=\"border-color: green; border-radius: 5px\">\n",
    "    <p><u><b>✅ КОММЕНТАРИЙ РЕВЬЮЕРА v.1</b></u></p>\n",
    "    <p>Содержание и формулировка задачи на месте. Это важный структурный компанент проекта. Отлично!</p>\n",
    "</div>"
   ]
  },
  {
   "cell_type": "markdown",
   "metadata": {},
   "source": [
    "## Загрузка данных"
   ]
  },
  {
   "cell_type": "code",
   "execution_count": 103,
   "metadata": {},
   "outputs": [],
   "source": [
    "import pandas as pd\n",
    "import numpy as np\n",
    "import matplotlib.pyplot as plt\n",
    "import seaborn as sns\n",
    "import warnings\n",
    "\n",
    "from sklearn.model_selection import train_test_split\n",
    "from sklearn.linear_model import LinearRegression, Lasso\n",
    "from sklearn.metrics import r2_score\n",
    "from sklearn.ensemble import RandomForestRegressor\n",
    "from sklearn.tree import DecisionTreeRegressor\n",
    "from catboost import CatBoostRegressor\n",
    "import lightgbm as lgb\n",
    "\n",
    "warnings.filterwarnings(\"ignore\")"
   ]
  },
  {
   "cell_type": "markdown",
   "metadata": {},
   "source": [
    "<div class=\"alert alert-success\" style=\"border-color: green; border-radius: 5px\">\n",
    "    <p><u><b>✅ КОММЕНТАРИЙ РЕВЬЮЕРА v.1</b></u></p>\n",
    "    <p>Хорошо, что импортируешь нужные библиотеки на первом этапе. Так те, кто будет запускать твой проект в будущем сразу будут знать, какие библиотеки необходимо установить.</p>"
   ]
  },
  {
   "cell_type": "code",
   "execution_count": 104,
   "metadata": {},
   "outputs": [],
   "source": [
    "try:\n",
    "    df = pd.read_csv(\"D:\\\\практикум\\\\датасеты для проектов\\\\insurance.csv\")\n",
    "except:\n",
    "    df = pd.read_csv(\"/datasets/insurance.csv\")\n",
    "    \n"
   ]
  },
  {
   "cell_type": "code",
   "execution_count": 105,
   "metadata": {},
   "outputs": [
    {
     "name": "stdout",
     "output_type": "stream",
     "text": [
      "<class 'pandas.core.frame.DataFrame'>\n",
      "RangeIndex: 5000 entries, 0 to 4999\n",
      "Data columns (total 5 columns):\n",
      " #   Column             Non-Null Count  Dtype  \n",
      "---  ------             --------------  -----  \n",
      " 0   Пол                5000 non-null   int64  \n",
      " 1   Возраст            5000 non-null   float64\n",
      " 2   Зарплата           5000 non-null   float64\n",
      " 3   Члены семьи        5000 non-null   int64  \n",
      " 4   Страховые выплаты  5000 non-null   int64  \n",
      "dtypes: float64(2), int64(3)\n",
      "memory usage: 195.4 KB\n"
     ]
    },
    {
     "data": {
      "text/html": [
       "<div>\n",
       "<style scoped>\n",
       "    .dataframe tbody tr th:only-of-type {\n",
       "        vertical-align: middle;\n",
       "    }\n",
       "\n",
       "    .dataframe tbody tr th {\n",
       "        vertical-align: top;\n",
       "    }\n",
       "\n",
       "    .dataframe thead th {\n",
       "        text-align: right;\n",
       "    }\n",
       "</style>\n",
       "<table border=\"1\" class=\"dataframe\">\n",
       "  <thead>\n",
       "    <tr style=\"text-align: right;\">\n",
       "      <th></th>\n",
       "      <th>Пол</th>\n",
       "      <th>Возраст</th>\n",
       "      <th>Зарплата</th>\n",
       "      <th>Члены семьи</th>\n",
       "      <th>Страховые выплаты</th>\n",
       "    </tr>\n",
       "  </thead>\n",
       "  <tbody>\n",
       "    <tr>\n",
       "      <th>0</th>\n",
       "      <td>1</td>\n",
       "      <td>41.0</td>\n",
       "      <td>49600.0</td>\n",
       "      <td>1</td>\n",
       "      <td>0</td>\n",
       "    </tr>\n",
       "    <tr>\n",
       "      <th>1</th>\n",
       "      <td>0</td>\n",
       "      <td>46.0</td>\n",
       "      <td>38000.0</td>\n",
       "      <td>1</td>\n",
       "      <td>1</td>\n",
       "    </tr>\n",
       "    <tr>\n",
       "      <th>2</th>\n",
       "      <td>0</td>\n",
       "      <td>29.0</td>\n",
       "      <td>21000.0</td>\n",
       "      <td>0</td>\n",
       "      <td>0</td>\n",
       "    </tr>\n",
       "    <tr>\n",
       "      <th>3</th>\n",
       "      <td>0</td>\n",
       "      <td>21.0</td>\n",
       "      <td>41700.0</td>\n",
       "      <td>2</td>\n",
       "      <td>0</td>\n",
       "    </tr>\n",
       "    <tr>\n",
       "      <th>4</th>\n",
       "      <td>1</td>\n",
       "      <td>28.0</td>\n",
       "      <td>26100.0</td>\n",
       "      <td>0</td>\n",
       "      <td>0</td>\n",
       "    </tr>\n",
       "    <tr>\n",
       "      <th>5</th>\n",
       "      <td>1</td>\n",
       "      <td>43.0</td>\n",
       "      <td>41000.0</td>\n",
       "      <td>2</td>\n",
       "      <td>1</td>\n",
       "    </tr>\n",
       "    <tr>\n",
       "      <th>6</th>\n",
       "      <td>1</td>\n",
       "      <td>39.0</td>\n",
       "      <td>39700.0</td>\n",
       "      <td>2</td>\n",
       "      <td>0</td>\n",
       "    </tr>\n",
       "    <tr>\n",
       "      <th>7</th>\n",
       "      <td>1</td>\n",
       "      <td>25.0</td>\n",
       "      <td>38600.0</td>\n",
       "      <td>4</td>\n",
       "      <td>0</td>\n",
       "    </tr>\n",
       "    <tr>\n",
       "      <th>8</th>\n",
       "      <td>1</td>\n",
       "      <td>36.0</td>\n",
       "      <td>49700.0</td>\n",
       "      <td>1</td>\n",
       "      <td>0</td>\n",
       "    </tr>\n",
       "    <tr>\n",
       "      <th>9</th>\n",
       "      <td>1</td>\n",
       "      <td>32.0</td>\n",
       "      <td>51700.0</td>\n",
       "      <td>1</td>\n",
       "      <td>0</td>\n",
       "    </tr>\n",
       "  </tbody>\n",
       "</table>\n",
       "</div>"
      ],
      "text/plain": [
       "   Пол  Возраст  Зарплата  Члены семьи  Страховые выплаты\n",
       "0    1     41.0   49600.0            1                  0\n",
       "1    0     46.0   38000.0            1                  1\n",
       "2    0     29.0   21000.0            0                  0\n",
       "3    0     21.0   41700.0            2                  0\n",
       "4    1     28.0   26100.0            0                  0\n",
       "5    1     43.0   41000.0            2                  1\n",
       "6    1     39.0   39700.0            2                  0\n",
       "7    1     25.0   38600.0            4                  0\n",
       "8    1     36.0   49700.0            1                  0\n",
       "9    1     32.0   51700.0            1                  0"
      ]
     },
     "execution_count": 105,
     "metadata": {},
     "output_type": "execute_result"
    }
   ],
   "source": [
    "df.info()\n",
    "df.head(10)"
   ]
  },
  {
   "cell_type": "code",
   "execution_count": 106,
   "metadata": {},
   "outputs": [
    {
     "data": {
      "text/html": [
       "<div>\n",
       "<style scoped>\n",
       "    .dataframe tbody tr th:only-of-type {\n",
       "        vertical-align: middle;\n",
       "    }\n",
       "\n",
       "    .dataframe tbody tr th {\n",
       "        vertical-align: top;\n",
       "    }\n",
       "\n",
       "    .dataframe thead th {\n",
       "        text-align: right;\n",
       "    }\n",
       "</style>\n",
       "<table border=\"1\" class=\"dataframe\">\n",
       "  <thead>\n",
       "    <tr style=\"text-align: right;\">\n",
       "      <th></th>\n",
       "      <th>Пол</th>\n",
       "      <th>Возраст</th>\n",
       "      <th>Зарплата</th>\n",
       "      <th>Члены семьи</th>\n",
       "      <th>Страховые выплаты</th>\n",
       "    </tr>\n",
       "  </thead>\n",
       "  <tbody>\n",
       "    <tr>\n",
       "      <th>count</th>\n",
       "      <td>5000.000000</td>\n",
       "      <td>5000.000000</td>\n",
       "      <td>5000.000000</td>\n",
       "      <td>5000.000000</td>\n",
       "      <td>5000.000000</td>\n",
       "    </tr>\n",
       "    <tr>\n",
       "      <th>mean</th>\n",
       "      <td>0.499000</td>\n",
       "      <td>30.952800</td>\n",
       "      <td>39916.360000</td>\n",
       "      <td>1.194200</td>\n",
       "      <td>0.148000</td>\n",
       "    </tr>\n",
       "    <tr>\n",
       "      <th>std</th>\n",
       "      <td>0.500049</td>\n",
       "      <td>8.440807</td>\n",
       "      <td>9900.083569</td>\n",
       "      <td>1.091387</td>\n",
       "      <td>0.463183</td>\n",
       "    </tr>\n",
       "    <tr>\n",
       "      <th>min</th>\n",
       "      <td>0.000000</td>\n",
       "      <td>18.000000</td>\n",
       "      <td>5300.000000</td>\n",
       "      <td>0.000000</td>\n",
       "      <td>0.000000</td>\n",
       "    </tr>\n",
       "    <tr>\n",
       "      <th>25%</th>\n",
       "      <td>0.000000</td>\n",
       "      <td>24.000000</td>\n",
       "      <td>33300.000000</td>\n",
       "      <td>0.000000</td>\n",
       "      <td>0.000000</td>\n",
       "    </tr>\n",
       "    <tr>\n",
       "      <th>50%</th>\n",
       "      <td>0.000000</td>\n",
       "      <td>30.000000</td>\n",
       "      <td>40200.000000</td>\n",
       "      <td>1.000000</td>\n",
       "      <td>0.000000</td>\n",
       "    </tr>\n",
       "    <tr>\n",
       "      <th>75%</th>\n",
       "      <td>1.000000</td>\n",
       "      <td>37.000000</td>\n",
       "      <td>46600.000000</td>\n",
       "      <td>2.000000</td>\n",
       "      <td>0.000000</td>\n",
       "    </tr>\n",
       "    <tr>\n",
       "      <th>max</th>\n",
       "      <td>1.000000</td>\n",
       "      <td>65.000000</td>\n",
       "      <td>79000.000000</td>\n",
       "      <td>6.000000</td>\n",
       "      <td>5.000000</td>\n",
       "    </tr>\n",
       "  </tbody>\n",
       "</table>\n",
       "</div>"
      ],
      "text/plain": [
       "               Пол      Возраст      Зарплата  Члены семьи  Страховые выплаты\n",
       "count  5000.000000  5000.000000   5000.000000  5000.000000        5000.000000\n",
       "mean      0.499000    30.952800  39916.360000     1.194200           0.148000\n",
       "std       0.500049     8.440807   9900.083569     1.091387           0.463183\n",
       "min       0.000000    18.000000   5300.000000     0.000000           0.000000\n",
       "25%       0.000000    24.000000  33300.000000     0.000000           0.000000\n",
       "50%       0.000000    30.000000  40200.000000     1.000000           0.000000\n",
       "75%       1.000000    37.000000  46600.000000     2.000000           0.000000\n",
       "max       1.000000    65.000000  79000.000000     6.000000           5.000000"
      ]
     },
     "execution_count": 106,
     "metadata": {},
     "output_type": "execute_result"
    }
   ],
   "source": [
    "df.describe()"
   ]
  },
  {
   "cell_type": "code",
   "execution_count": 107,
   "metadata": {},
   "outputs": [
    {
     "data": {
      "text/plain": [
       "153"
      ]
     },
     "metadata": {},
     "output_type": "display_data"
    },
    {
     "data": {
      "text/plain": [
       "0.0306"
      ]
     },
     "execution_count": 107,
     "metadata": {},
     "output_type": "execute_result"
    }
   ],
   "source": [
    "display(df.duplicated().sum())\n",
    "df.duplicated().mean()\n"
   ]
  },
  {
   "cell_type": "code",
   "execution_count": 108,
   "metadata": {},
   "outputs": [
    {
     "data": {
      "text/plain": [
       "array([[<AxesSubplot:title={'center':'Пол'}>,\n",
       "        <AxesSubplot:title={'center':'Возраст'}>],\n",
       "       [<AxesSubplot:title={'center':'Зарплата'}>,\n",
       "        <AxesSubplot:title={'center':'Члены семьи'}>],\n",
       "       [<AxesSubplot:title={'center':'Страховые выплаты'}>,\n",
       "        <AxesSubplot:>]], dtype=object)"
      ]
     },
     "execution_count": 108,
     "metadata": {},
     "output_type": "execute_result"
    },
    {
     "data": {
      "image/png": "[encoded data removed]",
      "text/plain": [
       "<Figure size 1080x1080 with 6 Axes>"
      ]
     },
     "metadata": {
      "needs_background": "light"
     },
     "output_type": "display_data"
    }
   ],
   "source": [
    " df.hist(figsize=(15,15))"
   ]
  },
  {
   "cell_type": "markdown",
   "metadata": {},
   "source": [
    "<div class=\"alert alert-success\" style=\"border-color: green; border-radius: 5px\">\n",
    "    <p><u><b>✅ КОММЕНТАРИЙ РЕВЬЮЕРА v.1</b></u></p>\n",
    "    <p>Данные загружены, отлично. Молодец, что используешь инструкцию <code>try-except</code>.</p>\n",
    "    <p>Хорошо, что применяешь метод <code>.sample()</code> таким образом в тетрадку не будет загружен весь датасет, объем которого может быть огромным.</p>\n",
    "    <p>Методы <code>.info()</code> и <code>.describe()</code> также обязательны к применению в таких задачах, с их помощью можно получить первые инсайты. Они тоже на месте!</p>\n",
    "    <p>Молодец, что оценил распределения, и проверил на дубликаты.</p>\n",
    "    <p>Дополнитльено можно было проверить корреляции признаков, поскольку дальше мы используем линейную регрессию.</p>\n",
    "</div>"
   ]
  },
  {
   "cell_type": "markdown",
   "metadata": {},
   "source": [
    "### Вывод"
   ]
  },
  {
   "cell_type": "markdown",
   "metadata": {},
   "source": [
    "Мы имеем датасет на 5000 строк без пропусков. в данных есть 3 процента дубликатов. названия столбцов кириллические. все значения целочисленные.\n",
    "1. удалим дубликаты\n",
    "2. переименуем столбцы\n",
    "3. приведем данные к целочисленному типу"
   ]
  },
  {
   "cell_type": "code",
   "execution_count": 109,
   "metadata": {},
   "outputs": [],
   "source": [
    "# df = df.drop_duplicates().reset_index(drop=True)"
   ]
  },
  {
   "cell_type": "markdown",
   "metadata": {},
   "source": [
    "<div class=\"alert alert-warning\" style=\"border-color: orange; border-radius: 5px\">\n",
    "    <p><u><b>⚠️ КОММЕНТАРИЙ РЕВЬЮЕРА v.1</b></u></p>\n",
    "    <p>В этом проекте повторяющиеся строки можно было не удалять, так как это могли быть просто одинаковые данные у разных клиентов.</p>\n",
    "</div>"
   ]
  },
  {
   "cell_type": "markdown",
   "metadata": {},
   "source": [
    "<div class=\"alert alert-info\" style=\"border-color: #0080FF; border-radius: 5px\">\n",
    "    <p><u><b>КОММЕНТАРИЙ СТУДЕНТА</b></u></p>\n",
    "    <p>если честно, совершенно не уделил внимания этому моменту. Подумал есть-нет никакой разницы. кинул монетку и удалил. Признаю, был не прав</p>     \n",
    "</div>"
   ]
  },
  {
   "cell_type": "markdown",
   "metadata": {},
   "source": [
    "<div class=\"alert alert-success\" style=\"border-color: green; border-radius: 5px\">\n",
    "    <p><u><b>✅ КОММЕНТАРИЙ РЕВЬЮЕРА v.2</b></u></p>\n",
    "    <p>Каждое преобразование данных стоит выполнять осмысленно))</p>\n",
    "</div>"
   ]
  },
  {
   "cell_type": "code",
   "execution_count": 110,
   "metadata": {
    "scrolled": false
   },
   "outputs": [
    {
     "data": {
      "text/html": [
       "<div>\n",
       "<style scoped>\n",
       "    .dataframe tbody tr th:only-of-type {\n",
       "        vertical-align: middle;\n",
       "    }\n",
       "\n",
       "    .dataframe tbody tr th {\n",
       "        vertical-align: top;\n",
       "    }\n",
       "\n",
       "    .dataframe thead th {\n",
       "        text-align: right;\n",
       "    }\n",
       "</style>\n",
       "<table border=\"1\" class=\"dataframe\">\n",
       "  <thead>\n",
       "    <tr style=\"text-align: right;\">\n",
       "      <th></th>\n",
       "      <th>sex</th>\n",
       "      <th>age</th>\n",
       "      <th>salary</th>\n",
       "      <th>family_members</th>\n",
       "      <th>insurance_payments</th>\n",
       "    </tr>\n",
       "  </thead>\n",
       "  <tbody>\n",
       "    <tr>\n",
       "      <th>0</th>\n",
       "      <td>1</td>\n",
       "      <td>41.0</td>\n",
       "      <td>49600.0</td>\n",
       "      <td>1</td>\n",
       "      <td>0</td>\n",
       "    </tr>\n",
       "    <tr>\n",
       "      <th>1</th>\n",
       "      <td>0</td>\n",
       "      <td>46.0</td>\n",
       "      <td>38000.0</td>\n",
       "      <td>1</td>\n",
       "      <td>1</td>\n",
       "    </tr>\n",
       "    <tr>\n",
       "      <th>2</th>\n",
       "      <td>0</td>\n",
       "      <td>29.0</td>\n",
       "      <td>21000.0</td>\n",
       "      <td>0</td>\n",
       "      <td>0</td>\n",
       "    </tr>\n",
       "    <tr>\n",
       "      <th>3</th>\n",
       "      <td>0</td>\n",
       "      <td>21.0</td>\n",
       "      <td>41700.0</td>\n",
       "      <td>2</td>\n",
       "      <td>0</td>\n",
       "    </tr>\n",
       "    <tr>\n",
       "      <th>4</th>\n",
       "      <td>1</td>\n",
       "      <td>28.0</td>\n",
       "      <td>26100.0</td>\n",
       "      <td>0</td>\n",
       "      <td>0</td>\n",
       "    </tr>\n",
       "  </tbody>\n",
       "</table>\n",
       "</div>"
      ],
      "text/plain": [
       "   sex   age   salary  family_members  insurance_payments\n",
       "0    1  41.0  49600.0               1                   0\n",
       "1    0  46.0  38000.0               1                   1\n",
       "2    0  29.0  21000.0               0                   0\n",
       "3    0  21.0  41700.0               2                   0\n",
       "4    1  28.0  26100.0               0                   0"
      ]
     },
     "execution_count": 110,
     "metadata": {},
     "output_type": "execute_result"
    }
   ],
   "source": [
    "df.columns = [\"sex\", \"age\", \"salary\", \"family_members\", \"insurance_payments\"]\n",
    "df.head()"
   ]
  },
  {
   "cell_type": "code",
   "execution_count": 111,
   "metadata": {
    "scrolled": true
   },
   "outputs": [],
   "source": [
    "df[[\"age\", \"salary\"]] = df[[\"age\", \"salary\"]].astype(int)"
   ]
  },
  {
   "cell_type": "code",
   "execution_count": 112,
   "metadata": {},
   "outputs": [
    {
     "data": {
      "text/html": [
       "<div>\n",
       "<style scoped>\n",
       "    .dataframe tbody tr th:only-of-type {\n",
       "        vertical-align: middle;\n",
       "    }\n",
       "\n",
       "    .dataframe tbody tr th {\n",
       "        vertical-align: top;\n",
       "    }\n",
       "\n",
       "    .dataframe thead th {\n",
       "        text-align: right;\n",
       "    }\n",
       "</style>\n",
       "<table border=\"1\" class=\"dataframe\">\n",
       "  <thead>\n",
       "    <tr style=\"text-align: right;\">\n",
       "      <th></th>\n",
       "      <th>sex</th>\n",
       "      <th>age</th>\n",
       "      <th>salary</th>\n",
       "      <th>family_members</th>\n",
       "      <th>insurance_payments</th>\n",
       "    </tr>\n",
       "  </thead>\n",
       "  <tbody>\n",
       "    <tr>\n",
       "      <th>0</th>\n",
       "      <td>1</td>\n",
       "      <td>41</td>\n",
       "      <td>49600</td>\n",
       "      <td>1</td>\n",
       "      <td>0</td>\n",
       "    </tr>\n",
       "    <tr>\n",
       "      <th>1</th>\n",
       "      <td>0</td>\n",
       "      <td>46</td>\n",
       "      <td>38000</td>\n",
       "      <td>1</td>\n",
       "      <td>1</td>\n",
       "    </tr>\n",
       "    <tr>\n",
       "      <th>2</th>\n",
       "      <td>0</td>\n",
       "      <td>29</td>\n",
       "      <td>21000</td>\n",
       "      <td>0</td>\n",
       "      <td>0</td>\n",
       "    </tr>\n",
       "    <tr>\n",
       "      <th>3</th>\n",
       "      <td>0</td>\n",
       "      <td>21</td>\n",
       "      <td>41700</td>\n",
       "      <td>2</td>\n",
       "      <td>0</td>\n",
       "    </tr>\n",
       "    <tr>\n",
       "      <th>4</th>\n",
       "      <td>1</td>\n",
       "      <td>28</td>\n",
       "      <td>26100</td>\n",
       "      <td>0</td>\n",
       "      <td>0</td>\n",
       "    </tr>\n",
       "  </tbody>\n",
       "</table>\n",
       "</div>"
      ],
      "text/plain": [
       "   sex  age  salary  family_members  insurance_payments\n",
       "0    1   41   49600               1                   0\n",
       "1    0   46   38000               1                   1\n",
       "2    0   29   21000               0                   0\n",
       "3    0   21   41700               2                   0\n",
       "4    1   28   26100               0                   0"
      ]
     },
     "execution_count": 112,
     "metadata": {},
     "output_type": "execute_result"
    }
   ],
   "source": [
    "df.head()"
   ]
  },
  {
   "cell_type": "markdown",
   "metadata": {},
   "source": [
    "<div class=\"alert alert-success\" style=\"border-color: green; border-radius: 5px\">\n",
    "    <p><u><b>✅ КОММЕНТАРИЙ РЕВЬЮЕРА v.1</b></u></p>\n",
    "    <p>Данные готовы. Вперед к математике!</p>\n",
    "</div>"
   ]
  },
  {
   "cell_type": "markdown",
   "metadata": {},
   "source": [
    "## Умножение матриц"
   ]
  },
  {
   "cell_type": "markdown",
   "metadata": {},
   "source": [
    "Изменится ли качество линейной регрессии, если умножить матрицу признаков на обратимую матрицу? "
   ]
  },
  {
   "cell_type": "markdown",
   "metadata": {},
   "source": [
    "предположим, что качество линейной регрессии не изменится. чтобы доказать это попытаемся привести формулу предсказаний линейной регрессии по преобразованной матрице признаков к виду формулы предсказаний по исходной матрице признаков\n",
    "\n",
    "$\n",
    "формула\\ Предсказаний:\n",
    "$\n",
    "\n",
    "$\n",
    "a = Xw\n",
    "$\n",
    "\n",
    "$\n",
    "\\\n",
    "$\n",
    "\n",
    "\n",
    "$\n",
    "Формула\\ обучения:\n",
    "$\n",
    "\n",
    "$\n",
    "w = (X^T X)^{-1} X^T y\n",
    "$\n",
    "\n",
    "$\n",
    "\\\n",
    "$\n",
    "\n",
    "$\n",
    "Обозначения:\n",
    "$\n",
    "\n",
    "- $X$ — матрица признаков (нулевой столбец состоит из единиц)\n",
    "\n",
    "- $y$ — вектор целевого признака\n",
    "\n",
    "- $P$ — матрица, на которую умножаются признаки\n",
    "\n",
    "- $w$ — вектор весов линейной регрессии (нулевой элемент равен сдвигу)\n",
    "\n",
    "$\n",
    "\\\n",
    "$\n",
    "\n",
    "$\n",
    "Свойства\\ матриц:\n",
    "$\n",
    "\n",
    "$\n",
    "AA^{-1} = A^{-1}A = E\n",
    "$\n",
    "\n",
    "$\n",
    "(AB)^{-1} = B^{-1} A^{-1}\n",
    "$\n",
    "\n",
    "$\n",
    "(AB)^T = B^T A^T\n",
    "$\n",
    "\n",
    "$\n",
    "(AB)C = A(BC)\n",
    "$\n",
    "\n",
    "$\n",
    "\\\n",
    "$\n",
    "\n",
    "подставим в формулу предсказаний формулу обучения\n",
    "\n",
    "$\n",
    "a = X(X^T X)^{-1} X^T y\n",
    "$\n",
    "\n",
    "Таким образом формулы предсказаний и обучения для матрицы умноженной на обратимую матрицу примут вид:\n",
    "\n",
    "$\n",
    "a'= XBw\n",
    "$\n",
    "\n",
    "$\n",
    "w' = ((XB)^T XB)^{-1} (XB)^T y\n",
    "$\n",
    "\n",
    "где $B$ - обратимая матрица\n",
    "\n",
    "$\n",
    "\\\n",
    "$\n",
    "\n",
    "Пользуясь свойствами матриц приведем выражение $a' = XB((XB)^T XB)^{-1} (XB)^T y$ к виду $a = X(X^T X)^{-1} X^T y$\n",
    "\n",
    "\n",
    "$\n",
    "a' = XB((XB)^T XB)^{-1} (XB)^T y\n",
    "$\n",
    "\n",
    "Раскрываем скобки:\n",
    "\n",
    "$\n",
    "a' = XB(B^T X^T XB)^{-1} (XB)^T y\n",
    "$\n",
    "\n",
    "Выносим квадратную матрицу за скобки:\n",
    "\n",
    "$\n",
    "a' = XB(B^T(X^T XB))^{-1} B^T X^T y\n",
    "$\n",
    "\n",
    "$\n",
    "a' = XB(X^T XB)^{-1} (B^T)^{-1} B^T X^T y\n",
    "$\n",
    "\n",
    "матрицы $(B^T)^{-1}$ и $B^T$ сокращаются\n",
    "\n",
    "$\n",
    "(B^T)^{-1} B^T = E\n",
    "$\n",
    "\n",
    "Выносим вторую квадратную матрицу:\n",
    "\n",
    "$\n",
    "a' = XB((X^T X)B)^{-1} X^T y\n",
    "$\n",
    "\n",
    "$\n",
    "a' = XBB^{-1} (X^T X)^{-1} X^T y\n",
    "$\n",
    "\n",
    "матрицы $B$ и $B^{-1}$ сокращаются\n",
    "\n",
    "$\n",
    "BB^{-1} = E\n",
    "$\n",
    "\n",
    "Та-да!\n",
    "\n",
    "$\n",
    "a' = X(X^T X)^{-1} X^T y = a\n",
    "$\n"
   ]
  },
  {
   "cell_type": "markdown",
   "metadata": {},
   "source": [
    "**Ответ:** Качество линейной регрессии не изменится.\n",
    "\n",
    "**Обоснование:** ибо не изменятся предсказания"
   ]
  },
  {
   "cell_type": "markdown",
   "metadata": {},
   "source": [
    "<div class=\"alert alert-success\" style=\"border-color: green; border-radius: 5px\">\n",
    "    <p><u><b>✅ КОММЕНТАРИЙ РЕВЬЮЕРА v.1</b></u></p>\n",
    "    <p>К обоснованию вопросов нет, все очень подробно. Отлично!</p>\n",
    "</div>"
   ]
  },
  {
   "cell_type": "markdown",
   "metadata": {},
   "source": [
    "## Алгоритм преобразования"
   ]
  },
  {
   "cell_type": "markdown",
   "metadata": {},
   "source": [
    "**Алгоритм**\n",
    "\n",
    "1. Генерируем случайную матрицу $B$ размерности $n$x$n$, где $n$ - количество признаков в исходной таблице\n",
    "2. Проверяем матрицу на обратимость\n",
    "3. Умножаем исходную матрицу на матрицу $B$. в результате получаем матрицу той же размерности, что исходная\n",
    "4. Вычисляем обратную матрицу для $B$ и сохраняем в качестве ключа\n",
    "5. Обучаем линейную регрессию на исходных и зашифрованных данных\n",
    "6. Сравниваем метрики R2"
   ]
  },
  {
   "cell_type": "markdown",
   "metadata": {},
   "source": [
    "<div class=\"alert alert-danger\" style=\"border-color: #8B0000; border-radius: 5px\">\n",
    "    <p><u><b>❌ КОММЕНТАРИЙ РЕВЬЮЕРА v.1</b></u></p>\n",
    "    <p>Алгоритм практически верный, молодец.</p>\n",
    "    <p>Давай дополним его следующими пунктами:</p>\n",
    "    <p>- обучение линейной регрессии на исходных и на зашифрованных данных,</p>\n",
    "    <p>- сравнение получившихся метрик R2.</p>\n",
    "</div>"
   ]
  },
  {
   "cell_type": "markdown",
   "metadata": {},
   "source": [
    "<div class=\"alert alert-info\" style=\"border-color: #0080FF; border-radius: 5px\">\n",
    "    <p><u><b>КОММЕНТАРИЙ СТУДЕНТА</b></u></p>\n",
    "    <p>Добавил пункты, но не согласен. к $алгоритму\\ преобразования$ они не имеют отношения. путем обучения регрессии и сравнения метрик я лишь проверяю, работает ли этот самый алгоритм. Жду комментов по этому поводу, пока склонен вернуть ячейку к исходному состоянию </p>     \n",
    "</div>"
   ]
  },
  {
   "cell_type": "markdown",
   "metadata": {},
   "source": [
    "<div class=\"alert alert-success\" style=\"border-color: green; border-radius: 5px\">\n",
    "    <p><u><b>✅ КОММЕНТАРИЙ РЕВЬЮЕРА v.2</b></u></p>\n",
    "    <p>Хорошо, что исправил! Не стоит возвращать ячейку в исходное состояние)) Два дополнительных пункта не противоречат заданию, а коллегам на работе будет проще понять ход твоих мыслей, если перед глазами они будут иметь четкий алгоритм от А до Я. В брифе сказано: \"Предложите алгоритм преобразования данных для решения задачи\" полагаю, что проверка качества линейной регрессии на исходных и преобразованных данных тоже входит в задачу.</p>\n",
    "</div>"
   ]
  },
  {
   "cell_type": "markdown",
   "metadata": {},
   "source": [
    "## Проверка алгоритма"
   ]
  },
  {
   "cell_type": "markdown",
   "metadata": {},
   "source": [
    "Подтвердим доказательство экспериментально. Для этого напишем несколько вспомогательных функций    "
   ]
  },
  {
   "cell_type": "code",
   "execution_count": 113,
   "metadata": {},
   "outputs": [],
   "source": [
    "def features_encode(features):\n",
    "    \"\"\"функция принимает на вход датафрейм с признаками, генерирует обратимую матрицу необходимого \n",
    "    размера и возвращает датефрейм с закодированными признаками и ключ для раскодирования\"\"\"\n",
    "    main_matrix = features.values\n",
    "    i = 42\n",
    "    while True:\n",
    "        np.random.seed(i)\n",
    "        invertible_matrix = np.random.normal(10, 3, size=(len(features.columns),len(features.columns)))\n",
    "        try:\n",
    "            inverse_matrix = np.linalg.inv(invertible_matrix)\n",
    "            if np.linalg.det(invertible_matrix).round(10) == 0:\n",
    "                i += 1\n",
    "            else:\n",
    "                encode_features = pd.DataFrame(main_matrix.dot(invertible_matrix), columns=features.columns)\n",
    "                clue = inverse_matrix\n",
    "                return encode_features, clue\n",
    "        except:\n",
    "            i += 1\n"
   ]
  },
  {
   "cell_type": "markdown",
   "metadata": {},
   "source": [
    "сгенерируем случайную таблицу признаков и целевой признак и проверим эксперементально, влияет ли "
   ]
  },
  {
   "cell_type": "code",
   "execution_count": 114,
   "metadata": {},
   "outputs": [],
   "source": [
    "exp_features = pd.DataFrame(np.random.normal(10, 2, size=(50, 3)), columns=[\"a\", \"b\", \"c\"])\n",
    "exp_target = pd.Series(np.random.normal(10, 2, 50))"
   ]
  },
  {
   "cell_type": "markdown",
   "metadata": {},
   "source": [
    "создадим вспомогательную функцию, для разделения выборки, обучения модели регрессии и получения предсказаний "
   ]
  },
  {
   "cell_type": "code",
   "execution_count": 115,
   "metadata": {},
   "outputs": [],
   "source": [
    "def split_fit_predict(features, target):\n",
    "    X_train, X_test, y_train, y_test = train_test_split(features, target, test_size=0.25, random_state=12345)\n",
    "    regression = LinearRegression()\n",
    "    regression.fit(X_train, y_train)\n",
    "    predictions = regression.predict(X_test)\n",
    "    return predictions, y_test\n",
    "    "
   ]
  },
  {
   "cell_type": "markdown",
   "metadata": {},
   "source": [
    "Напишем функцию для сравнения предсказаний и метрик качества"
   ]
  },
  {
   "cell_type": "code",
   "execution_count": 116,
   "metadata": {},
   "outputs": [],
   "source": [
    "def compare_regression(features, target):\n",
    "    \"\"\"Функция сравнивает предсказания и метрику r2 модели регрессии на исходных признаках\n",
    "    и на преобразованных\"\"\"\n",
    "    encode_features, clue = features_encode(features)\n",
    "    predictions, y_test = split_fit_predict(features, target)\n",
    "    predictions_encode, y_test_encode = split_fit_predict(encode_features, target)\n",
    "    r2 = r2_score(y_test, predictions)\n",
    "    r2_encode = r2_score(y_test_encode, predictions_encode)\n",
    "    print(f\"Значение R2 регрессии для исходных признаков: {r2},\\\n",
    "        \\nЗначение R2 после кодирования:                {r2_encode},\\\n",
    "        \\nРазница:                                      {abs(r2 -r2_encode)}\\n\")\n",
    "    print(f\"предсказания по исходной матрице: {predictions}\\n\")\n",
    "    print(f\"предсказания по преобразованной матрице: {predictions_encode}\\n\")\n",
    "    if np.array_equal(predictions.round(8), predictions_encode.round(8)):\n",
    "        print(\"Предсказания совпали\")\n",
    "    else:\n",
    "        print(\"Предсказания не совпали\")"
   ]
  },
  {
   "cell_type": "code",
   "execution_count": 117,
   "metadata": {
    "scrolled": true
   },
   "outputs": [
    {
     "name": "stdout",
     "output_type": "stream",
     "text": [
      "Значение R2 регрессии для исходных признаков: -0.019327966349502734,        \n",
      "Значение R2 после кодирования:                -0.00848377185999416,        \n",
      "Разница:                                      0.010844194489508574\n",
      "\n",
      "предсказания по исходной матрице: [10.53350761 10.53350761 10.53350761 10.53350761 10.53350761 10.53350761\n",
      " 10.53350761 10.53350761 10.53350761 10.53350761 10.53350761 10.53350761\n",
      " 10.53350761]\n",
      "\n",
      "предсказания по преобразованной матрице: [10.38881995 10.14718548 10.91136398 10.72475523 10.45376994 10.63271325\n",
      " 10.52120319 10.82904721 10.20257524 10.40766884 10.77385486 10.79338728\n",
      " 10.73596489]\n",
      "\n",
      "Предсказания не совпали\n"
     ]
    }
   ],
   "source": [
    "compare_regression(exp_features, exp_target)"
   ]
  },
  {
   "cell_type": "markdown",
   "metadata": {},
   "source": [
    "Проверим работу алгоритма на нашем датасете"
   ]
  },
  {
   "cell_type": "code",
   "execution_count": 118,
   "metadata": {},
   "outputs": [],
   "source": [
    "features = df.drop(\"insurance_payments\", axis=1)\n",
    "target = df[\"insurance_payments\"]\n"
   ]
  },
  {
   "cell_type": "code",
   "execution_count": 119,
   "metadata": {},
   "outputs": [
    {
     "name": "stdout",
     "output_type": "stream",
     "text": [
      "Значение R2 регрессии для исходных признаков: 0.3684817727334938,        \n",
      "Значение R2 после кодирования:                0.0002462142432479997,        \n",
      "Разница:                                      0.3682355584902458\n",
      "\n",
      "предсказания по исходной матрице: [0.19235903 0.5593085  0.32090383 ... 0.23388156 0.25619277 0.54460076]\n",
      "\n",
      "предсказания по преобразованной матрице: [0.15003233 0.14721866 0.14783541 ... 0.14763318 0.14839169 0.15615573]\n",
      "\n",
      "Предсказания не совпали\n"
     ]
    }
   ],
   "source": [
    "compare_regression(features, target)"
   ]
  },
  {
   "cell_type": "markdown",
   "metadata": {},
   "source": [
    "<div class=\"alert alert-success\" style=\"border-color: green; border-radius: 5px\">\n",
    "    <p><u><b>✅ КОММЕНТАРИЙ РЕВЬЮЕРА v.1</b></u></p>\n",
    "    <p>Совпадение до 11 знака после запятой нас вполне устроит, спасибо))</p>\n",
    "</div>"
   ]
  },
  {
   "cell_type": "markdown",
   "metadata": {},
   "source": [
    "Попробуем закодировать и раскодировать признаки"
   ]
  },
  {
   "cell_type": "code",
   "execution_count": 120,
   "metadata": {},
   "outputs": [],
   "source": [
    "encode_df, clue = features_encode(features)"
   ]
  },
  {
   "cell_type": "code",
   "execution_count": 121,
   "metadata": {},
   "outputs": [
    {
     "data": {
      "text/html": [
       "<div>\n",
       "<style scoped>\n",
       "    .dataframe tbody tr th:only-of-type {\n",
       "        vertical-align: middle;\n",
       "    }\n",
       "\n",
       "    .dataframe tbody tr th {\n",
       "        vertical-align: top;\n",
       "    }\n",
       "\n",
       "    .dataframe thead th {\n",
       "        text-align: right;\n",
       "    }\n",
       "</style>\n",
       "<table border=\"1\" class=\"dataframe\">\n",
       "  <thead>\n",
       "    <tr style=\"text-align: right;\">\n",
       "      <th></th>\n",
       "      <th>sex</th>\n",
       "      <th>age</th>\n",
       "      <th>salary</th>\n",
       "      <th>family_members</th>\n",
       "    </tr>\n",
       "  </thead>\n",
       "  <tbody>\n",
       "    <tr>\n",
       "      <th>0</th>\n",
       "      <td>426545.626537</td>\n",
       "      <td>577127.981006</td>\n",
       "      <td>427664.458798</td>\n",
       "      <td>427226.689367</td>\n",
       "    </tr>\n",
       "    <tr>\n",
       "      <th>1</th>\n",
       "      <td>326918.332725</td>\n",
       "      <td>442283.794228</td>\n",
       "      <td>327853.139634</td>\n",
       "      <td>327481.027223</td>\n",
       "    </tr>\n",
       "    <tr>\n",
       "      <th>2</th>\n",
       "      <td>180692.742342</td>\n",
       "      <td>244450.912831</td>\n",
       "      <td>181232.076868</td>\n",
       "      <td>181015.792347</td>\n",
       "    </tr>\n",
       "    <tr>\n",
       "      <th>3</th>\n",
       "      <td>358485.454431</td>\n",
       "      <td>485078.031143</td>\n",
       "      <td>359345.587530</td>\n",
       "      <td>359012.182491</td>\n",
       "    </tr>\n",
       "    <tr>\n",
       "      <th>4</th>\n",
       "      <td>224511.976840</td>\n",
       "      <td>303752.369115</td>\n",
       "      <td>225138.991595</td>\n",
       "      <td>224892.393902</td>\n",
       "    </tr>\n",
       "    <tr>\n",
       "      <th>...</th>\n",
       "      <td>...</td>\n",
       "      <td>...</td>\n",
       "      <td>...</td>\n",
       "      <td>...</td>\n",
       "    </tr>\n",
       "    <tr>\n",
       "      <th>4995</th>\n",
       "      <td>307001.076157</td>\n",
       "      <td>415377.033482</td>\n",
       "      <td>307790.269469</td>\n",
       "      <td>307481.434185</td>\n",
       "    </tr>\n",
       "    <tr>\n",
       "      <th>4996</th>\n",
       "      <td>450525.468774</td>\n",
       "      <td>609610.817041</td>\n",
       "      <td>451656.643644</td>\n",
       "      <td>451213.874219</td>\n",
       "    </tr>\n",
       "    <tr>\n",
       "      <th>4997</th>\n",
       "      <td>291461.857522</td>\n",
       "      <td>394372.828534</td>\n",
       "      <td>292174.823903</td>\n",
       "      <td>291897.956420</td>\n",
       "    </tr>\n",
       "    <tr>\n",
       "      <th>4998</th>\n",
       "      <td>281192.776420</td>\n",
       "      <td>380452.052922</td>\n",
       "      <td>281889.371186</td>\n",
       "      <td>281622.070369</td>\n",
       "    </tr>\n",
       "    <tr>\n",
       "      <th>4999</th>\n",
       "      <td>349100.566939</td>\n",
       "      <td>472357.991171</td>\n",
       "      <td>349985.147204</td>\n",
       "      <td>349641.462759</td>\n",
       "    </tr>\n",
       "  </tbody>\n",
       "</table>\n",
       "<p>5000 rows × 4 columns</p>\n",
       "</div>"
      ],
      "text/plain": [
       "                sex            age         salary  family_members\n",
       "0     426545.626537  577127.981006  427664.458798   427226.689367\n",
       "1     326918.332725  442283.794228  327853.139634   327481.027223\n",
       "2     180692.742342  244450.912831  181232.076868   181015.792347\n",
       "3     358485.454431  485078.031143  359345.587530   359012.182491\n",
       "4     224511.976840  303752.369115  225138.991595   224892.393902\n",
       "...             ...            ...            ...             ...\n",
       "4995  307001.076157  415377.033482  307790.269469   307481.434185\n",
       "4996  450525.468774  609610.817041  451656.643644   451213.874219\n",
       "4997  291461.857522  394372.828534  292174.823903   291897.956420\n",
       "4998  281192.776420  380452.052922  281889.371186   281622.070369\n",
       "4999  349100.566939  472357.991171  349985.147204   349641.462759\n",
       "\n",
       "[5000 rows x 4 columns]"
      ]
     },
     "execution_count": 121,
     "metadata": {},
     "output_type": "execute_result"
    }
   ],
   "source": [
    "# закодированные признаки\n",
    "encode_df"
   ]
  },
  {
   "cell_type": "code",
   "execution_count": 122,
   "metadata": {
    "scrolled": true
   },
   "outputs": [
    {
     "data": {
      "text/plain": [
       "array([[-0.22885175,  0.09101756,  0.0294408 ,  0.23591121],\n",
       "       [ 0.02456595, -0.09192564,  0.16942448, -0.08234353],\n",
       "       [-0.20775468,  0.24662763, -0.0412704 ,  0.04183136],\n",
       "       [ 0.40327141, -0.2134772 , -0.10085412, -0.16617155]])"
      ]
     },
     "execution_count": 122,
     "metadata": {},
     "output_type": "execute_result"
    }
   ],
   "source": [
    "# матрица для раскодирования\n",
    "clue"
   ]
  },
  {
   "cell_type": "markdown",
   "metadata": {},
   "source": [
    "Напишем функцию для раскодирования"
   ]
  },
  {
   "cell_type": "code",
   "execution_count": 123,
   "metadata": {},
   "outputs": [],
   "source": [
    "def decode(encode_features, clue):\n",
    "    decode_features = (encode_features @ clue).round()\n",
    "    decode_features = decode_features.astype(int)\n",
    "    decode_features.columns = encode_features.columns\n",
    "    return decode_features"
   ]
  },
  {
   "cell_type": "markdown",
   "metadata": {},
   "source": [
    "раскодируем и сравним с исходными данными"
   ]
  },
  {
   "cell_type": "code",
   "execution_count": 124,
   "metadata": {
    "scrolled": false
   },
   "outputs": [
    {
     "data": {
      "text/html": [
       "<div>\n",
       "<style scoped>\n",
       "    .dataframe tbody tr th:only-of-type {\n",
       "        vertical-align: middle;\n",
       "    }\n",
       "\n",
       "    .dataframe tbody tr th {\n",
       "        vertical-align: top;\n",
       "    }\n",
       "\n",
       "    .dataframe thead th {\n",
       "        text-align: right;\n",
       "    }\n",
       "</style>\n",
       "<table border=\"1\" class=\"dataframe\">\n",
       "  <thead>\n",
       "    <tr style=\"text-align: right;\">\n",
       "      <th></th>\n",
       "      <th>sex</th>\n",
       "      <th>age</th>\n",
       "      <th>salary</th>\n",
       "      <th>family_members</th>\n",
       "    </tr>\n",
       "  </thead>\n",
       "  <tbody>\n",
       "    <tr>\n",
       "      <th>0</th>\n",
       "      <td>1</td>\n",
       "      <td>41</td>\n",
       "      <td>49600</td>\n",
       "      <td>1</td>\n",
       "    </tr>\n",
       "    <tr>\n",
       "      <th>1</th>\n",
       "      <td>0</td>\n",
       "      <td>46</td>\n",
       "      <td>38000</td>\n",
       "      <td>1</td>\n",
       "    </tr>\n",
       "    <tr>\n",
       "      <th>2</th>\n",
       "      <td>0</td>\n",
       "      <td>29</td>\n",
       "      <td>21000</td>\n",
       "      <td>0</td>\n",
       "    </tr>\n",
       "    <tr>\n",
       "      <th>3</th>\n",
       "      <td>0</td>\n",
       "      <td>21</td>\n",
       "      <td>41700</td>\n",
       "      <td>2</td>\n",
       "    </tr>\n",
       "    <tr>\n",
       "      <th>4</th>\n",
       "      <td>1</td>\n",
       "      <td>28</td>\n",
       "      <td>26100</td>\n",
       "      <td>0</td>\n",
       "    </tr>\n",
       "  </tbody>\n",
       "</table>\n",
       "</div>"
      ],
      "text/plain": [
       "   sex  age  salary  family_members\n",
       "0    1   41   49600               1\n",
       "1    0   46   38000               1\n",
       "2    0   29   21000               0\n",
       "3    0   21   41700               2\n",
       "4    1   28   26100               0"
      ]
     },
     "execution_count": 124,
     "metadata": {},
     "output_type": "execute_result"
    }
   ],
   "source": [
    "decode_features = decode(encode_df, clue)\n",
    "decode_features.head()"
   ]
  },
  {
   "cell_type": "code",
   "execution_count": 125,
   "metadata": {
    "scrolled": true
   },
   "outputs": [
    {
     "data": {
      "text/html": [
       "<div>\n",
       "<style scoped>\n",
       "    .dataframe tbody tr th:only-of-type {\n",
       "        vertical-align: middle;\n",
       "    }\n",
       "\n",
       "    .dataframe tbody tr th {\n",
       "        vertical-align: top;\n",
       "    }\n",
       "\n",
       "    .dataframe thead th {\n",
       "        text-align: right;\n",
       "    }\n",
       "</style>\n",
       "<table border=\"1\" class=\"dataframe\">\n",
       "  <thead>\n",
       "    <tr style=\"text-align: right;\">\n",
       "      <th></th>\n",
       "      <th>sex</th>\n",
       "      <th>age</th>\n",
       "      <th>salary</th>\n",
       "      <th>family_members</th>\n",
       "    </tr>\n",
       "  </thead>\n",
       "  <tbody>\n",
       "    <tr>\n",
       "      <th>0</th>\n",
       "      <td>1</td>\n",
       "      <td>41</td>\n",
       "      <td>49600</td>\n",
       "      <td>1</td>\n",
       "    </tr>\n",
       "    <tr>\n",
       "      <th>1</th>\n",
       "      <td>0</td>\n",
       "      <td>46</td>\n",
       "      <td>38000</td>\n",
       "      <td>1</td>\n",
       "    </tr>\n",
       "    <tr>\n",
       "      <th>2</th>\n",
       "      <td>0</td>\n",
       "      <td>29</td>\n",
       "      <td>21000</td>\n",
       "      <td>0</td>\n",
       "    </tr>\n",
       "    <tr>\n",
       "      <th>3</th>\n",
       "      <td>0</td>\n",
       "      <td>21</td>\n",
       "      <td>41700</td>\n",
       "      <td>2</td>\n",
       "    </tr>\n",
       "    <tr>\n",
       "      <th>4</th>\n",
       "      <td>1</td>\n",
       "      <td>28</td>\n",
       "      <td>26100</td>\n",
       "      <td>0</td>\n",
       "    </tr>\n",
       "  </tbody>\n",
       "</table>\n",
       "</div>"
      ],
      "text/plain": [
       "   sex  age  salary  family_members\n",
       "0    1   41   49600               1\n",
       "1    0   46   38000               1\n",
       "2    0   29   21000               0\n",
       "3    0   21   41700               2\n",
       "4    1   28   26100               0"
      ]
     },
     "execution_count": 125,
     "metadata": {},
     "output_type": "execute_result"
    }
   ],
   "source": [
    "features.head()"
   ]
  },
  {
   "cell_type": "code",
   "execution_count": 126,
   "metadata": {},
   "outputs": [
    {
     "data": {
      "text/plain": [
       "0.5"
      ]
     },
     "execution_count": 126,
     "metadata": {},
     "output_type": "execute_result"
    }
   ],
   "source": [
    "# проверяем, все ли значения совпали\n",
    "x = pd.concat([features.drop_duplicates()\n",
    "               .reset_index(drop=True), decode_features\n",
    "               .drop_duplicates().reset_index(drop=True)], axis=0)\n",
    "x.duplicated().mean()"
   ]
  },
  {
   "cell_type": "markdown",
   "metadata": {},
   "source": [
    "Все совпало"
   ]
  },
  {
   "cell_type": "markdown",
   "metadata": {},
   "source": [
    "<div class=\"alert alert-success\" style=\"border-color: green; border-radius: 5px\">\n",
    "    <p><u><b>✅ КОММЕНТАРИЙ РЕВЬЮЕРА v.1</b></u></p>\n",
    "    <p>Круто, что раскодировал наши признаки. Проект получился максимально наполненным. Млодец.</p>\n",
    "</div>"
   ]
  },
  {
   "cell_type": "markdown",
   "metadata": {},
   "source": [
    "## Вывод"
   ]
  },
  {
   "cell_type": "markdown",
   "metadata": {},
   "source": [
    "* Произведено чтение данных и запись в датафрейм.\n",
    "* Произведена первичная предобработка данных, поиск дубликатов и нулевых значений. Нулевых значений не наблюдается, дубликаты оставлены без изменений, так как данные могут совпадать для разных людей.\n",
    "* Приведено доказательство, что домножение матрицы признаков на рандомную обратимую матрицу не влияет на результат обучения линейной регрессии.\n",
    "* На основе вышеприведенного доказательства разработан алгоритм кодирования признаков, который впоследствии был реализован.\n",
    "* Проведено обучение модели линейной регрессии на закодированных признаках, показано, что результат обучения линейной регрессии не отличается для закодированных и исходных значений признаков.\n",
    "* Произведено декодирование признаков."
   ]
  },
  {
   "cell_type": "markdown",
   "metadata": {},
   "source": [
    "<!-- * Был разработан метод преобразования данных для защиты персональной информации \n",
    "* Корректность его работы обоснована.\n",
    "* При преобразовании качество моделей машинного обучения не ухудшается. -->"
   ]
  },
  {
   "cell_type": "markdown",
   "metadata": {},
   "source": [
    "<div class=\"alert alert-danger\" style=\"border-color: #8B0000; border-radius: 5px\">\n",
    "    <p><u><b>❌ КОММЕНТАРИЙ РЕВЬЮЕРА v.1</b></u></p>\n",
    "    <p>Давай здесь напишем более подробный вывод о проделанной работе по плану \"исходнные данные - анализ данных - что следали - результат\".</p>\n",
    "    <p>Таким образом проект будет иметь верную структуру, и коллегам буде проще оценить твою работу.</p>\n",
    "</div>"
   ]
  },
  {
   "cell_type": "markdown",
   "metadata": {},
   "source": [
    "<div class=\"alert alert-success\" style=\"border-color: green; border-radius: 5px\">\n",
    "    <p><u><b>✅ КОММЕНТАРИЙ РЕВЬЮЕРА v.2</b></u></p>\n",
    "    <p>Отлично! Вывод на месте. Как думаешь, а если вместо линейной регрессии взять, например, случайный лес, изменится ли качество предсказаний?</p>\n",
    "</div>"
   ]
  },
  {
   "cell_type": "markdown",
   "metadata": {},
   "source": [
    "## Чек-лист проверки"
   ]
  },
  {
   "cell_type": "markdown",
   "metadata": {},
   "source": [
    "Поставьте 'x' в выполненных пунктах. Далее нажмите Shift+Enter."
   ]
  },
  {
   "cell_type": "markdown",
   "metadata": {},
   "source": [
    "- [x]  Jupyter Notebook открыт\n",
    "- [ ]  Весь код выполняется без ошибок\n",
    "- [ ]  Ячейки с кодом расположены в порядке исполнения\n",
    "- [ ]  Выполнен шаг 1: данные загружены\n",
    "- [ ]  Выполнен шаг 2: получен ответ на вопрос об умножении матриц\n",
    "    - [ ]  Указан правильный вариант ответа\n",
    "    - [ ]  Вариант обоснован\n",
    "- [ ]  Выполнен шаг 3: предложен алгоритм преобразования\n",
    "    - [ ]  Алгоритм описан\n",
    "    - [ ]  Алгоритм обоснован\n",
    "- [ ]  Выполнен шаг 4: алгоритм проверен\n",
    "    - [ ]  Алгоритм реализован\n",
    "    - [ ]  Проведено сравнение качества моделей до и после преобразования"
   ]
  },
  {
   "cell_type": "markdown",
   "metadata": {},
   "source": [
    "## Финальные комментарии ревьюера"
   ]
  },
  {
   "cell_type": "markdown",
   "metadata": {},
   "source": [
    "<div class=\"alert alert-danger\" style=\"border-color: #8B0000; border-radius: 5px\">\n",
    "    <p><u><b>❌ КОММЕНТАРИЙ РЕВЬЮЕРА v.1</b></u></p>\n",
    "    <p>Павел, я проверил твой проект, он очень хороший. Молодец, что оперируешь функциями.</p>\n",
    "    <p>Эффективность метода шифрования с помощью умножения признаков на обратимую матрицу доказана.</p>\n",
    "    <p>Осталось дополнить алгоритм преобразования и написать более подробный вывод.</p>\n",
    "    <p>Уверен, что тебе не составит труда устранить замечания. Жду твою тетрадку на повторное ревью!</p>\n",
    "</div>"
   ]
  },
  {
   "cell_type": "markdown",
   "metadata": {},
   "source": [
    "<div class=\"alert alert-success\" style=\"border-color: green; border-radius: 5px\">\n",
    "    <p><u><b>✅ КОММЕНТАРИЙ РЕВЬЮЕРА v.2</b></u></p>\n",
    "    <p>Павел, мы добрались до зачета по всем пунктам, критических замечаний больше нет. Знания по линейной алгебре стоит держать в уме если в будущем тебе предстоит работать с нейросетями.</p>\n",
    "Дополнительно рекомнедую почитать \n",
    "\n",
    "http://mathprofi.ru/deistviya_s_matricami.html здесь несколько разделов по линейной алгебре\n",
    "    \n",
    "https://www.youtube.com/watch?v=jUlO8aErxZM&list=PLcsjsqLLSfNAwTJdwpF6Qp2QHfqN62w33&index=1 а это, если надоели сериалы))\n",
    "    <p>Желаю не останавливаться на пути к поставленной цели. Успехов!</p>\n",
    "</div>"
   ]
  },
  {
   "cell_type": "code",
   "execution_count": null,
   "metadata": {},
   "outputs": [],
   "source": []
  }
 ],
 "metadata": {
  "ExecuteTimeLog": [
   {
    "duration": 871,
    "start_time": "2022-08-27T06:36:41.241Z"
   },
   {
    "duration": 202,
    "start_time": "2022-08-27T06:40:10.856Z"
   },
   {
    "duration": 22,
    "start_time": "2022-08-27T06:40:38.788Z"
   },
   {
    "duration": 27,
    "start_time": "2022-08-27T06:41:17.007Z"
   },
   {
    "duration": 82,
    "start_time": "2022-08-27T06:42:56.980Z"
   },
   {
    "duration": 13,
    "start_time": "2022-08-27T06:43:02.012Z"
   },
   {
    "duration": 6,
    "start_time": "2022-08-27T06:43:09.574Z"
   },
   {
    "duration": 15,
    "start_time": "2022-08-27T06:44:05.606Z"
   },
   {
    "duration": 7,
    "start_time": "2022-08-27T06:45:17.211Z"
   },
   {
    "duration": 6,
    "start_time": "2022-08-27T06:45:43.486Z"
   },
   {
    "duration": 6,
    "start_time": "2022-08-27T06:45:56.855Z"
   },
   {
    "duration": 8,
    "start_time": "2022-08-27T06:47:17.095Z"
   },
   {
    "duration": 13,
    "start_time": "2022-08-27T06:47:23.420Z"
   },
   {
    "duration": 762,
    "start_time": "2022-08-27T06:55:22.662Z"
   },
   {
    "duration": 4,
    "start_time": "2022-08-27T10:42:38.690Z"
   },
   {
    "duration": 46,
    "start_time": "2022-08-28T10:34:41.432Z"
   },
   {
    "duration": 1552,
    "start_time": "2022-08-28T10:34:52.232Z"
   },
   {
    "duration": 122,
    "start_time": "2022-08-28T10:34:53.787Z"
   },
   {
    "duration": 23,
    "start_time": "2022-08-28T10:34:53.910Z"
   },
   {
    "duration": 29,
    "start_time": "2022-08-28T10:34:53.935Z"
   },
   {
    "duration": 8,
    "start_time": "2022-08-28T10:34:53.966Z"
   },
   {
    "duration": 74,
    "start_time": "2022-08-28T10:34:53.976Z"
   },
   {
    "duration": 9,
    "start_time": "2022-08-28T10:46:16.271Z"
   },
   {
    "duration": 65,
    "start_time": "2022-08-28T10:46:44.240Z"
   },
   {
    "duration": 9,
    "start_time": "2022-08-28T10:46:53.461Z"
   },
   {
    "duration": 4,
    "start_time": "2022-08-28T10:48:35.383Z"
   },
   {
    "duration": 13,
    "start_time": "2022-08-28T10:48:53.350Z"
   },
   {
    "duration": 4,
    "start_time": "2022-08-28T10:50:48.126Z"
   },
   {
    "duration": 45,
    "start_time": "2022-08-28T10:50:48.132Z"
   },
   {
    "duration": 18,
    "start_time": "2022-08-28T10:50:48.179Z"
   },
   {
    "duration": 44,
    "start_time": "2022-08-28T10:50:48.199Z"
   },
   {
    "duration": 7,
    "start_time": "2022-08-28T10:50:48.245Z"
   },
   {
    "duration": 14,
    "start_time": "2022-08-28T10:50:48.254Z"
   },
   {
    "duration": 21,
    "start_time": "2022-08-28T10:50:48.270Z"
   },
   {
    "duration": 3,
    "start_time": "2022-08-28T10:50:50.652Z"
   },
   {
    "duration": 13,
    "start_time": "2022-08-28T10:50:51.121Z"
   },
   {
    "duration": 13,
    "start_time": "2022-08-28T10:51:02.136Z"
   },
   {
    "duration": 7,
    "start_time": "2022-08-28T10:51:36.335Z"
   },
   {
    "duration": 5,
    "start_time": "2022-08-28T10:52:33.120Z"
   },
   {
    "duration": 11,
    "start_time": "2022-08-28T10:53:40.589Z"
   },
   {
    "duration": 3,
    "start_time": "2022-08-28T10:54:35.201Z"
   },
   {
    "duration": 7,
    "start_time": "2022-08-28T10:57:18.947Z"
   },
   {
    "duration": 6,
    "start_time": "2022-08-28T10:57:19.421Z"
   },
   {
    "duration": 2,
    "start_time": "2022-08-28T10:57:19.919Z"
   },
   {
    "duration": 13,
    "start_time": "2022-08-28T10:57:20.380Z"
   },
   {
    "duration": 3,
    "start_time": "2022-08-28T10:58:11.560Z"
   },
   {
    "duration": 19,
    "start_time": "2022-08-28T10:58:31.365Z"
   },
   {
    "duration": 3,
    "start_time": "2022-08-28T11:01:48.532Z"
   },
   {
    "duration": 8,
    "start_time": "2022-08-28T11:02:04.335Z"
   },
   {
    "duration": 9,
    "start_time": "2022-08-28T11:02:11.095Z"
   },
   {
    "duration": 3,
    "start_time": "2022-08-28T11:22:34.994Z"
   },
   {
    "duration": 5,
    "start_time": "2022-08-28T11:22:41.867Z"
   },
   {
    "duration": 12,
    "start_time": "2022-08-28T11:37:40.030Z"
   },
   {
    "duration": 4,
    "start_time": "2022-08-28T11:42:34.966Z"
   },
   {
    "duration": 12,
    "start_time": "2022-08-28T11:42:38.785Z"
   },
   {
    "duration": 9,
    "start_time": "2022-08-28T11:45:07.631Z"
   },
   {
    "duration": 383,
    "start_time": "2022-08-28T11:45:59.367Z"
   },
   {
    "duration": 10,
    "start_time": "2022-08-28T11:46:01.647Z"
   },
   {
    "duration": 6,
    "start_time": "2022-08-28T11:46:36.076Z"
   },
   {
    "duration": 9,
    "start_time": "2022-08-28T11:46:46.084Z"
   },
   {
    "duration": 5,
    "start_time": "2022-08-28T11:46:58.839Z"
   },
   {
    "duration": 66,
    "start_time": "2022-08-28T11:46:59.577Z"
   },
   {
    "duration": 12,
    "start_time": "2022-08-28T11:47:30.532Z"
   },
   {
    "duration": 5,
    "start_time": "2022-08-28T11:48:08.741Z"
   },
   {
    "duration": 13,
    "start_time": "2022-08-28T11:48:09.175Z"
   },
   {
    "duration": 5,
    "start_time": "2022-08-28T11:48:10.484Z"
   },
   {
    "duration": 109,
    "start_time": "2022-08-28T11:48:11.434Z"
   },
   {
    "duration": 100203,
    "start_time": "2022-08-28T11:48:28.437Z"
   },
   {
    "duration": 8,
    "start_time": "2022-08-28T11:51:16.805Z"
   },
   {
    "duration": 4,
    "start_time": "2022-08-28T11:54:45.709Z"
   },
   {
    "duration": 64,
    "start_time": "2022-08-28T11:54:45.715Z"
   },
   {
    "duration": 19,
    "start_time": "2022-08-28T11:54:45.781Z"
   },
   {
    "duration": 24,
    "start_time": "2022-08-28T11:54:45.802Z"
   },
   {
    "duration": 9,
    "start_time": "2022-08-28T11:54:45.829Z"
   },
   {
    "duration": 9,
    "start_time": "2022-08-28T11:54:45.840Z"
   },
   {
    "duration": 6,
    "start_time": "2022-08-28T11:54:45.850Z"
   },
   {
    "duration": 15,
    "start_time": "2022-08-28T11:54:45.858Z"
   },
   {
    "duration": 6,
    "start_time": "2022-08-28T11:54:45.874Z"
   },
   {
    "duration": 266,
    "start_time": "2022-08-28T11:54:45.881Z"
   },
   {
    "duration": 107,
    "start_time": "2022-08-28T11:56:09.134Z"
   },
   {
    "duration": 11,
    "start_time": "2022-08-28T11:56:26.014Z"
   },
   {
    "duration": 4,
    "start_time": "2022-08-28T11:56:33.190Z"
   },
   {
    "duration": 80,
    "start_time": "2022-08-28T11:56:33.196Z"
   },
   {
    "duration": 18,
    "start_time": "2022-08-28T11:56:33.278Z"
   },
   {
    "duration": 27,
    "start_time": "2022-08-28T11:56:33.298Z"
   },
   {
    "duration": 9,
    "start_time": "2022-08-28T11:56:33.328Z"
   },
   {
    "duration": 12,
    "start_time": "2022-08-28T11:56:33.338Z"
   },
   {
    "duration": 6,
    "start_time": "2022-08-28T11:56:33.352Z"
   },
   {
    "duration": 14,
    "start_time": "2022-08-28T11:56:33.360Z"
   },
   {
    "duration": 5,
    "start_time": "2022-08-28T11:57:03.010Z"
   },
   {
    "duration": 8,
    "start_time": "2022-08-28T11:57:22.877Z"
   },
   {
    "duration": 168,
    "start_time": "2022-08-28T11:57:59.877Z"
   },
   {
    "duration": 8,
    "start_time": "2022-08-28T11:58:05.817Z"
   },
   {
    "duration": 3,
    "start_time": "2022-08-28T11:58:13.794Z"
   },
   {
    "duration": 101,
    "start_time": "2022-08-28T11:58:13.799Z"
   },
   {
    "duration": 17,
    "start_time": "2022-08-28T11:58:13.902Z"
   },
   {
    "duration": 27,
    "start_time": "2022-08-28T11:58:13.921Z"
   },
   {
    "duration": 8,
    "start_time": "2022-08-28T11:58:13.951Z"
   },
   {
    "duration": 18,
    "start_time": "2022-08-28T11:58:13.960Z"
   },
   {
    "duration": 17,
    "start_time": "2022-08-28T11:58:13.979Z"
   },
   {
    "duration": 44,
    "start_time": "2022-08-28T11:58:13.998Z"
   },
   {
    "duration": 197,
    "start_time": "2022-08-28T11:58:14.043Z"
   },
   {
    "duration": 202,
    "start_time": "2022-08-28T11:58:14.241Z"
   },
   {
    "duration": 188306,
    "start_time": "2022-08-28T11:58:42.349Z"
   },
   {
    "duration": 3,
    "start_time": "2022-08-28T12:25:49.871Z"
   },
   {
    "duration": 75,
    "start_time": "2022-08-28T12:25:49.876Z"
   },
   {
    "duration": 18,
    "start_time": "2022-08-28T12:25:49.952Z"
   },
   {
    "duration": 29,
    "start_time": "2022-08-28T12:25:49.972Z"
   },
   {
    "duration": 14,
    "start_time": "2022-08-28T12:25:50.003Z"
   },
   {
    "duration": 14,
    "start_time": "2022-08-28T12:25:50.018Z"
   },
   {
    "duration": 21,
    "start_time": "2022-08-28T12:25:50.034Z"
   },
   {
    "duration": 29,
    "start_time": "2022-08-28T12:25:50.057Z"
   },
   {
    "duration": 172,
    "start_time": "2022-08-28T12:25:50.087Z"
   },
   {
    "duration": 24,
    "start_time": "2022-08-28T12:25:50.261Z"
   },
   {
    "duration": 161,
    "start_time": "2022-08-28T12:25:50.287Z"
   },
   {
    "duration": 102,
    "start_time": "2022-08-28T12:25:50.540Z"
   },
   {
    "duration": 117,
    "start_time": "2022-08-28T12:25:50.644Z"
   },
   {
    "duration": 81,
    "start_time": "2022-08-28T12:25:50.763Z"
   },
   {
    "duration": 3,
    "start_time": "2022-08-28T12:28:11.283Z"
   },
   {
    "duration": 53,
    "start_time": "2022-08-28T12:28:11.289Z"
   },
   {
    "duration": 18,
    "start_time": "2022-08-28T12:28:11.343Z"
   },
   {
    "duration": 35,
    "start_time": "2022-08-28T12:28:11.363Z"
   },
   {
    "duration": 13,
    "start_time": "2022-08-28T12:28:11.399Z"
   },
   {
    "duration": 12,
    "start_time": "2022-08-28T12:28:11.413Z"
   },
   {
    "duration": 19,
    "start_time": "2022-08-28T12:28:11.426Z"
   },
   {
    "duration": 18,
    "start_time": "2022-08-28T12:28:11.446Z"
   },
   {
    "duration": 4,
    "start_time": "2022-08-28T12:28:11.466Z"
   },
   {
    "duration": 9,
    "start_time": "2022-08-28T12:28:11.471Z"
   },
   {
    "duration": 167,
    "start_time": "2022-08-28T12:28:11.482Z"
   },
   {
    "duration": 99,
    "start_time": "2022-08-28T12:28:11.740Z"
   },
   {
    "duration": 131106,
    "start_time": "2022-08-28T12:28:11.841Z"
   },
   {
    "duration": 92,
    "start_time": "2022-08-28T12:30:22.948Z"
   },
   {
    "duration": 4,
    "start_time": "2022-08-28T12:32:12.966Z"
   },
   {
    "duration": 89,
    "start_time": "2022-08-28T12:32:12.971Z"
   },
   {
    "duration": 18,
    "start_time": "2022-08-28T12:32:13.062Z"
   },
   {
    "duration": 24,
    "start_time": "2022-08-28T12:32:13.082Z"
   },
   {
    "duration": 8,
    "start_time": "2022-08-28T12:32:13.108Z"
   },
   {
    "duration": 10,
    "start_time": "2022-08-28T12:32:13.117Z"
   },
   {
    "duration": 16,
    "start_time": "2022-08-28T12:32:13.128Z"
   },
   {
    "duration": 19,
    "start_time": "2022-08-28T12:32:13.146Z"
   },
   {
    "duration": 4,
    "start_time": "2022-08-28T12:32:13.167Z"
   },
   {
    "duration": 8,
    "start_time": "2022-08-28T12:32:13.173Z"
   },
   {
    "duration": 257,
    "start_time": "2022-08-28T12:32:13.183Z"
   },
   {
    "duration": 104,
    "start_time": "2022-08-28T12:32:13.443Z"
   },
   {
    "duration": 127693,
    "start_time": "2022-08-28T12:32:13.548Z"
   },
   {
    "duration": 96,
    "start_time": "2022-08-28T12:34:21.244Z"
   },
   {
    "duration": 4,
    "start_time": "2022-08-28T12:39:31.900Z"
   },
   {
    "duration": 59,
    "start_time": "2022-08-28T12:39:31.906Z"
   },
   {
    "duration": 18,
    "start_time": "2022-08-28T12:39:31.966Z"
   },
   {
    "duration": 25,
    "start_time": "2022-08-28T12:39:31.986Z"
   },
   {
    "duration": 10,
    "start_time": "2022-08-28T12:39:32.013Z"
   },
   {
    "duration": 10,
    "start_time": "2022-08-28T12:39:32.025Z"
   },
   {
    "duration": 5,
    "start_time": "2022-08-28T12:39:32.036Z"
   },
   {
    "duration": 15,
    "start_time": "2022-08-28T12:39:32.043Z"
   },
   {
    "duration": 5,
    "start_time": "2022-08-28T12:39:32.059Z"
   },
   {
    "duration": 19,
    "start_time": "2022-08-28T12:39:32.066Z"
   },
   {
    "duration": 253,
    "start_time": "2022-08-28T12:39:32.087Z"
   },
   {
    "duration": 2,
    "start_time": "2022-08-28T12:39:32.343Z"
   },
   {
    "duration": 227098,
    "start_time": "2022-08-28T12:39:32.347Z"
   },
   {
    "duration": 93,
    "start_time": "2022-08-28T12:43:19.448Z"
   },
   {
    "duration": 3,
    "start_time": "2022-08-28T12:45:26.031Z"
   },
   {
    "duration": 70,
    "start_time": "2022-08-28T12:45:26.036Z"
   },
   {
    "duration": 18,
    "start_time": "2022-08-28T12:45:26.108Z"
   },
   {
    "duration": 24,
    "start_time": "2022-08-28T12:45:26.128Z"
   },
   {
    "duration": 10,
    "start_time": "2022-08-28T12:45:26.154Z"
   },
   {
    "duration": 9,
    "start_time": "2022-08-28T12:45:26.165Z"
   },
   {
    "duration": 5,
    "start_time": "2022-08-28T12:45:26.176Z"
   },
   {
    "duration": 14,
    "start_time": "2022-08-28T12:45:26.182Z"
   },
   {
    "duration": 5,
    "start_time": "2022-08-28T12:45:26.197Z"
   },
   {
    "duration": 240,
    "start_time": "2022-08-28T12:45:26.203Z"
   },
   {
    "duration": 95,
    "start_time": "2022-08-28T12:45:26.445Z"
   },
   {
    "duration": 172998,
    "start_time": "2022-08-28T12:45:26.541Z"
   },
   {
    "duration": 81,
    "start_time": "2022-08-28T13:26:45.393Z"
   },
   {
    "duration": 3,
    "start_time": "2022-08-28T13:27:07.663Z"
   },
   {
    "duration": 60,
    "start_time": "2022-08-28T13:27:07.668Z"
   },
   {
    "duration": 18,
    "start_time": "2022-08-28T13:27:07.730Z"
   },
   {
    "duration": 23,
    "start_time": "2022-08-28T13:27:07.749Z"
   },
   {
    "duration": 7,
    "start_time": "2022-08-28T13:27:07.774Z"
   },
   {
    "duration": 8,
    "start_time": "2022-08-28T13:27:07.783Z"
   },
   {
    "duration": 6,
    "start_time": "2022-08-28T13:27:07.792Z"
   },
   {
    "duration": 41,
    "start_time": "2022-08-28T13:27:07.800Z"
   },
   {
    "duration": 673,
    "start_time": "2022-08-28T13:27:07.843Z"
   },
   {
    "duration": 14873,
    "start_time": "2022-08-28T13:27:08.518Z"
   },
   {
    "duration": 9,
    "start_time": "2022-08-28T13:27:23.392Z"
   },
   {
    "duration": 0,
    "start_time": "2022-08-28T13:27:23.403Z"
   },
   {
    "duration": 0,
    "start_time": "2022-08-28T13:27:23.404Z"
   },
   {
    "duration": 6,
    "start_time": "2022-08-28T13:33:32.195Z"
   },
   {
    "duration": 6,
    "start_time": "2022-08-28T13:33:32.863Z"
   },
   {
    "duration": 5,
    "start_time": "2022-08-28T13:33:34.077Z"
   },
   {
    "duration": 2,
    "start_time": "2022-08-28T13:33:35.531Z"
   },
   {
    "duration": 3,
    "start_time": "2022-08-28T13:33:47.330Z"
   },
   {
    "duration": 80,
    "start_time": "2022-08-28T13:33:47.336Z"
   },
   {
    "duration": 19,
    "start_time": "2022-08-28T13:33:47.417Z"
   },
   {
    "duration": 22,
    "start_time": "2022-08-28T13:33:47.438Z"
   },
   {
    "duration": 17,
    "start_time": "2022-08-28T13:33:47.462Z"
   },
   {
    "duration": 15,
    "start_time": "2022-08-28T13:33:47.481Z"
   },
   {
    "duration": 29,
    "start_time": "2022-08-28T13:33:47.497Z"
   },
   {
    "duration": 20,
    "start_time": "2022-08-28T13:33:47.527Z"
   },
   {
    "duration": 24,
    "start_time": "2022-08-28T13:33:47.549Z"
   },
   {
    "duration": 26,
    "start_time": "2022-08-28T13:33:47.575Z"
   },
   {
    "duration": 40,
    "start_time": "2022-08-28T13:33:47.603Z"
   },
   {
    "duration": 93,
    "start_time": "2022-08-28T13:33:47.646Z"
   },
   {
    "duration": 29,
    "start_time": "2022-08-28T13:33:47.742Z"
   },
   {
    "duration": 60,
    "start_time": "2022-08-29T07:20:06.946Z"
   },
   {
    "duration": 1937,
    "start_time": "2022-08-29T07:20:17.772Z"
   },
   {
    "duration": 7,
    "start_time": "2022-08-29T07:20:23.557Z"
   },
   {
    "duration": 86,
    "start_time": "2022-08-29T07:20:40.911Z"
   },
   {
    "duration": 212,
    "start_time": "2022-08-29T07:20:48.483Z"
   },
   {
    "duration": 1759,
    "start_time": "2022-08-29T07:57:41.895Z"
   },
   {
    "duration": 155,
    "start_time": "2022-08-29T07:57:43.657Z"
   },
   {
    "duration": 33,
    "start_time": "2022-08-29T07:57:43.816Z"
   },
   {
    "duration": 34,
    "start_time": "2022-08-29T07:57:43.851Z"
   },
   {
    "duration": 13,
    "start_time": "2022-08-29T07:57:43.888Z"
   },
   {
    "duration": 60,
    "start_time": "2022-08-29T07:57:43.903Z"
   },
   {
    "duration": 72,
    "start_time": "2022-08-29T07:57:43.966Z"
   },
   {
    "duration": 36,
    "start_time": "2022-08-29T07:57:44.040Z"
   },
   {
    "duration": 21,
    "start_time": "2022-08-29T07:57:44.079Z"
   },
   {
    "duration": 50,
    "start_time": "2022-08-29T07:57:44.104Z"
   },
   {
    "duration": 51,
    "start_time": "2022-08-29T07:57:44.157Z"
   },
   {
    "duration": 126,
    "start_time": "2022-08-29T07:57:44.216Z"
   },
   {
    "duration": 46,
    "start_time": "2022-08-29T07:57:44.344Z"
   },
   {
    "duration": 4,
    "start_time": "2022-08-29T08:15:41.726Z"
   },
   {
    "duration": 92,
    "start_time": "2022-08-29T08:15:41.732Z"
   },
   {
    "duration": 29,
    "start_time": "2022-08-29T08:15:41.826Z"
   },
   {
    "duration": 29,
    "start_time": "2022-08-29T08:15:41.858Z"
   },
   {
    "duration": 33,
    "start_time": "2022-08-29T08:15:41.890Z"
   },
   {
    "duration": 48,
    "start_time": "2022-08-29T08:15:41.928Z"
   },
   {
    "duration": 71,
    "start_time": "2022-08-29T08:15:41.979Z"
   },
   {
    "duration": 38,
    "start_time": "2022-08-29T08:15:42.053Z"
   },
   {
    "duration": 57,
    "start_time": "2022-08-29T08:15:42.093Z"
   },
   {
    "duration": 9,
    "start_time": "2022-08-29T08:15:42.155Z"
   },
   {
    "duration": 37,
    "start_time": "2022-08-29T08:15:42.167Z"
   },
   {
    "duration": 92,
    "start_time": "2022-08-29T08:15:42.206Z"
   },
   {
    "duration": 13,
    "start_time": "2022-08-29T08:15:42.301Z"
   },
   {
    "duration": 15,
    "start_time": "2022-08-29T08:16:37.922Z"
   },
   {
    "duration": 9,
    "start_time": "2022-08-29T08:16:46.462Z"
   },
   {
    "duration": 131,
    "start_time": "2022-08-29T08:25:00.388Z"
   },
   {
    "duration": 6,
    "start_time": "2022-08-29T08:25:30.332Z"
   },
   {
    "duration": 15,
    "start_time": "2022-08-29T08:25:42.421Z"
   },
   {
    "duration": 522,
    "start_time": "2022-08-29T08:26:45.342Z"
   },
   {
    "duration": 178,
    "start_time": "2022-08-29T08:27:13.549Z"
   },
   {
    "duration": 131,
    "start_time": "2022-08-29T08:27:28.349Z"
   },
   {
    "duration": 20,
    "start_time": "2022-08-29T08:29:37.647Z"
   },
   {
    "duration": 21,
    "start_time": "2022-08-29T08:29:52.641Z"
   },
   {
    "duration": 6,
    "start_time": "2022-08-29T08:30:07.146Z"
   },
   {
    "duration": 13,
    "start_time": "2022-08-29T08:30:34.401Z"
   },
   {
    "duration": 13,
    "start_time": "2022-08-29T08:31:19.361Z"
   },
   {
    "duration": 307,
    "start_time": "2022-08-29T08:31:32.956Z"
   },
   {
    "duration": 262,
    "start_time": "2022-08-29T08:31:59.652Z"
   },
   {
    "duration": 155,
    "start_time": "2022-08-29T08:32:35.533Z"
   },
   {
    "duration": 254,
    "start_time": "2022-08-29T08:32:46.062Z"
   },
   {
    "duration": 146,
    "start_time": "2022-08-29T08:33:04.337Z"
   },
   {
    "duration": 254,
    "start_time": "2022-08-29T08:33:14.982Z"
   },
   {
    "duration": 513,
    "start_time": "2022-08-29T08:33:35.136Z"
   },
   {
    "duration": 605,
    "start_time": "2022-08-29T08:33:52.542Z"
   },
   {
    "duration": 468,
    "start_time": "2022-08-29T08:34:17.571Z"
   },
   {
    "duration": 510,
    "start_time": "2022-08-29T08:35:37.087Z"
   },
   {
    "duration": 638,
    "start_time": "2022-08-29T08:35:43.268Z"
   },
   {
    "duration": 883,
    "start_time": "2022-08-29T08:35:55.032Z"
   },
   {
    "duration": 871,
    "start_time": "2022-08-29T08:36:02.387Z"
   },
   {
    "duration": 818,
    "start_time": "2022-08-29T08:36:08.447Z"
   },
   {
    "duration": 5,
    "start_time": "2022-08-29T09:06:19.238Z"
   },
   {
    "duration": 113,
    "start_time": "2022-08-29T09:13:38.207Z"
   },
   {
    "duration": 118,
    "start_time": "2022-08-29T09:13:53.119Z"
   },
   {
    "duration": 17,
    "start_time": "2022-08-29T09:16:05.631Z"
   },
   {
    "duration": 91,
    "start_time": "2022-08-29T09:19:04.638Z"
   },
   {
    "duration": 4,
    "start_time": "2022-08-29T09:19:47.412Z"
   },
   {
    "duration": 123,
    "start_time": "2022-08-29T09:19:47.421Z"
   },
   {
    "duration": 21,
    "start_time": "2022-08-29T09:19:47.546Z"
   },
   {
    "duration": 28,
    "start_time": "2022-08-29T09:19:47.569Z"
   },
   {
    "duration": 18,
    "start_time": "2022-08-29T09:19:47.599Z"
   },
   {
    "duration": 16,
    "start_time": "2022-08-29T09:19:47.622Z"
   },
   {
    "duration": 756,
    "start_time": "2022-08-29T09:19:47.641Z"
   },
   {
    "duration": 10,
    "start_time": "2022-08-29T09:19:48.399Z"
   },
   {
    "duration": 91,
    "start_time": "2022-08-29T09:19:48.413Z"
   },
   {
    "duration": 0,
    "start_time": "2022-08-29T09:19:48.514Z"
   },
   {
    "duration": 0,
    "start_time": "2022-08-29T09:19:48.522Z"
   },
   {
    "duration": 0,
    "start_time": "2022-08-29T09:19:48.523Z"
   },
   {
    "duration": 0,
    "start_time": "2022-08-29T09:19:48.524Z"
   },
   {
    "duration": 0,
    "start_time": "2022-08-29T09:19:48.525Z"
   },
   {
    "duration": 0,
    "start_time": "2022-08-29T09:19:48.526Z"
   },
   {
    "duration": 0,
    "start_time": "2022-08-29T09:19:48.527Z"
   },
   {
    "duration": 5,
    "start_time": "2022-08-29T09:19:59.264Z"
   },
   {
    "duration": 4,
    "start_time": "2022-08-29T09:20:06.284Z"
   },
   {
    "duration": 45,
    "start_time": "2022-08-29T09:20:06.290Z"
   },
   {
    "duration": 5,
    "start_time": "2022-08-29T09:20:06.337Z"
   },
   {
    "duration": 10,
    "start_time": "2022-08-29T09:20:06.343Z"
   },
   {
    "duration": 46,
    "start_time": "2022-08-29T09:20:06.356Z"
   },
   {
    "duration": 32,
    "start_time": "2022-08-29T09:20:06.404Z"
   },
   {
    "duration": 22,
    "start_time": "2022-08-29T09:20:06.495Z"
   },
   {
    "duration": 3,
    "start_time": "2022-08-29T09:21:01.663Z"
   },
   {
    "duration": 141,
    "start_time": "2022-08-29T09:21:01.668Z"
   },
   {
    "duration": 31,
    "start_time": "2022-08-29T09:21:01.821Z"
   },
   {
    "duration": 32,
    "start_time": "2022-08-29T09:21:01.854Z"
   },
   {
    "duration": 50,
    "start_time": "2022-08-29T09:21:01.889Z"
   },
   {
    "duration": 33,
    "start_time": "2022-08-29T09:21:01.941Z"
   },
   {
    "duration": 1010,
    "start_time": "2022-08-29T09:21:01.976Z"
   },
   {
    "duration": 15,
    "start_time": "2022-08-29T09:21:02.988Z"
   },
   {
    "duration": 177,
    "start_time": "2022-08-29T09:21:03.004Z"
   },
   {
    "duration": 0,
    "start_time": "2022-08-29T09:21:03.183Z"
   },
   {
    "duration": 0,
    "start_time": "2022-08-29T09:21:03.184Z"
   },
   {
    "duration": 0,
    "start_time": "2022-08-29T09:21:03.185Z"
   },
   {
    "duration": 0,
    "start_time": "2022-08-29T09:21:03.186Z"
   },
   {
    "duration": 0,
    "start_time": "2022-08-29T09:21:03.188Z"
   },
   {
    "duration": 0,
    "start_time": "2022-08-29T09:21:03.189Z"
   },
   {
    "duration": 0,
    "start_time": "2022-08-29T09:21:03.190Z"
   },
   {
    "duration": 4,
    "start_time": "2022-08-29T09:21:12.521Z"
   },
   {
    "duration": 24,
    "start_time": "2022-08-29T09:21:12.528Z"
   },
   {
    "duration": 8,
    "start_time": "2022-08-29T09:21:12.554Z"
   },
   {
    "duration": 27,
    "start_time": "2022-08-29T09:21:12.563Z"
   },
   {
    "duration": 46,
    "start_time": "2022-08-29T09:21:12.595Z"
   },
   {
    "duration": 32,
    "start_time": "2022-08-29T09:21:12.698Z"
   },
   {
    "duration": 23,
    "start_time": "2022-08-29T09:21:12.731Z"
   },
   {
    "duration": 20,
    "start_time": "2022-08-29T09:22:00.988Z"
   },
   {
    "duration": 3,
    "start_time": "2022-08-29T09:22:10.783Z"
   },
   {
    "duration": 97,
    "start_time": "2022-08-29T09:22:10.789Z"
   },
   {
    "duration": 38,
    "start_time": "2022-08-29T09:22:10.888Z"
   },
   {
    "duration": 26,
    "start_time": "2022-08-29T09:22:10.928Z"
   },
   {
    "duration": 10,
    "start_time": "2022-08-29T09:22:10.956Z"
   },
   {
    "duration": 5,
    "start_time": "2022-08-29T09:22:10.968Z"
   },
   {
    "duration": 757,
    "start_time": "2022-08-29T09:22:10.993Z"
   },
   {
    "duration": 10,
    "start_time": "2022-08-29T09:22:11.752Z"
   },
   {
    "duration": 114,
    "start_time": "2022-08-29T09:22:11.764Z"
   },
   {
    "duration": 0,
    "start_time": "2022-08-29T09:22:11.880Z"
   },
   {
    "duration": 0,
    "start_time": "2022-08-29T09:22:11.882Z"
   },
   {
    "duration": 0,
    "start_time": "2022-08-29T09:22:11.883Z"
   },
   {
    "duration": 0,
    "start_time": "2022-08-29T09:22:11.884Z"
   },
   {
    "duration": 0,
    "start_time": "2022-08-29T09:22:11.886Z"
   },
   {
    "duration": 0,
    "start_time": "2022-08-29T09:22:11.887Z"
   },
   {
    "duration": 0,
    "start_time": "2022-08-29T09:22:11.889Z"
   },
   {
    "duration": 5,
    "start_time": "2022-08-29T09:22:28.353Z"
   },
   {
    "duration": 18,
    "start_time": "2022-08-29T09:22:28.361Z"
   },
   {
    "duration": 5,
    "start_time": "2022-08-29T09:22:28.381Z"
   },
   {
    "duration": 43,
    "start_time": "2022-08-29T09:22:28.388Z"
   },
   {
    "duration": 73,
    "start_time": "2022-08-29T09:22:28.433Z"
   },
   {
    "duration": 12,
    "start_time": "2022-08-29T09:22:28.512Z"
   },
   {
    "duration": 91,
    "start_time": "2022-08-29T09:22:28.531Z"
   },
   {
    "duration": 3,
    "start_time": "2022-08-29T09:23:11.216Z"
   },
   {
    "duration": 167,
    "start_time": "2022-08-29T09:23:11.222Z"
   },
   {
    "duration": 30,
    "start_time": "2022-08-29T09:23:11.391Z"
   },
   {
    "duration": 36,
    "start_time": "2022-08-29T09:23:11.428Z"
   },
   {
    "duration": 10,
    "start_time": "2022-08-29T09:23:11.466Z"
   },
   {
    "duration": 20,
    "start_time": "2022-08-29T09:23:11.478Z"
   },
   {
    "duration": 847,
    "start_time": "2022-08-29T09:23:11.504Z"
   },
   {
    "duration": 10,
    "start_time": "2022-08-29T09:23:12.353Z"
   },
   {
    "duration": 96,
    "start_time": "2022-08-29T09:23:12.365Z"
   },
   {
    "duration": 0,
    "start_time": "2022-08-29T09:23:12.463Z"
   },
   {
    "duration": 0,
    "start_time": "2022-08-29T09:23:12.464Z"
   },
   {
    "duration": 0,
    "start_time": "2022-08-29T09:23:12.466Z"
   },
   {
    "duration": 0,
    "start_time": "2022-08-29T09:23:12.467Z"
   },
   {
    "duration": 0,
    "start_time": "2022-08-29T09:23:12.468Z"
   },
   {
    "duration": 0,
    "start_time": "2022-08-29T09:23:12.469Z"
   },
   {
    "duration": 0,
    "start_time": "2022-08-29T09:23:12.471Z"
   },
   {
    "duration": 5,
    "start_time": "2022-08-29T09:23:19.552Z"
   },
   {
    "duration": 19,
    "start_time": "2022-08-29T09:23:19.560Z"
   },
   {
    "duration": 5,
    "start_time": "2022-08-29T09:23:19.581Z"
   },
   {
    "duration": 39,
    "start_time": "2022-08-29T09:23:19.587Z"
   },
   {
    "duration": 8,
    "start_time": "2022-08-29T09:23:19.628Z"
   },
   {
    "duration": 155,
    "start_time": "2022-08-29T09:23:19.638Z"
   },
   {
    "duration": 31,
    "start_time": "2022-08-29T09:23:19.803Z"
   },
   {
    "duration": 3,
    "start_time": "2022-08-29T09:23:44.856Z"
   },
   {
    "duration": 96,
    "start_time": "2022-08-29T09:23:44.862Z"
   },
   {
    "duration": 20,
    "start_time": "2022-08-29T09:23:44.960Z"
   },
   {
    "duration": 32,
    "start_time": "2022-08-29T09:23:44.982Z"
   },
   {
    "duration": 17,
    "start_time": "2022-08-29T09:23:45.016Z"
   },
   {
    "duration": 5,
    "start_time": "2022-08-29T09:23:45.035Z"
   },
   {
    "duration": 741,
    "start_time": "2022-08-29T09:23:45.042Z"
   },
   {
    "duration": 13,
    "start_time": "2022-08-29T09:23:45.786Z"
   },
   {
    "duration": 148,
    "start_time": "2022-08-29T09:23:45.805Z"
   },
   {
    "duration": 0,
    "start_time": "2022-08-29T09:23:45.955Z"
   },
   {
    "duration": 0,
    "start_time": "2022-08-29T09:23:45.956Z"
   },
   {
    "duration": 0,
    "start_time": "2022-08-29T09:23:45.958Z"
   },
   {
    "duration": 0,
    "start_time": "2022-08-29T09:23:45.959Z"
   },
   {
    "duration": 0,
    "start_time": "2022-08-29T09:23:45.963Z"
   },
   {
    "duration": 0,
    "start_time": "2022-08-29T09:23:45.964Z"
   },
   {
    "duration": 0,
    "start_time": "2022-08-29T09:23:45.967Z"
   },
   {
    "duration": 8,
    "start_time": "2022-08-29T09:23:51.212Z"
   },
   {
    "duration": 14,
    "start_time": "2022-08-29T09:23:51.223Z"
   },
   {
    "duration": 11,
    "start_time": "2022-08-29T09:23:51.239Z"
   },
   {
    "duration": 10,
    "start_time": "2022-08-29T09:23:51.252Z"
   },
   {
    "duration": 42,
    "start_time": "2022-08-29T09:23:51.293Z"
   },
   {
    "duration": 30,
    "start_time": "2022-08-29T09:23:51.399Z"
   },
   {
    "duration": 12,
    "start_time": "2022-08-29T09:23:51.431Z"
   },
   {
    "duration": 115,
    "start_time": "2022-08-29T10:03:33.804Z"
   },
   {
    "duration": 4,
    "start_time": "2022-08-29T10:03:42.853Z"
   },
   {
    "duration": 12,
    "start_time": "2022-08-29T10:10:25.472Z"
   },
   {
    "duration": 9,
    "start_time": "2022-08-29T10:10:32.453Z"
   },
   {
    "duration": 15,
    "start_time": "2022-08-29T10:10:47.633Z"
   },
   {
    "duration": 1875,
    "start_time": "2022-08-29T12:27:34.677Z"
   },
   {
    "duration": 159,
    "start_time": "2022-08-29T12:27:36.554Z"
   },
   {
    "duration": 33,
    "start_time": "2022-08-29T12:27:36.715Z"
   },
   {
    "duration": 29,
    "start_time": "2022-08-29T12:27:36.750Z"
   },
   {
    "duration": 30,
    "start_time": "2022-08-29T12:27:36.781Z"
   },
   {
    "duration": 11,
    "start_time": "2022-08-29T12:27:36.813Z"
   },
   {
    "duration": 798,
    "start_time": "2022-08-29T12:27:36.826Z"
   },
   {
    "duration": 11,
    "start_time": "2022-08-29T12:27:37.626Z"
   },
   {
    "duration": 7,
    "start_time": "2022-08-29T12:27:37.639Z"
   },
   {
    "duration": 7,
    "start_time": "2022-08-29T12:27:37.648Z"
   },
   {
    "duration": 6,
    "start_time": "2022-08-29T12:27:37.657Z"
   },
   {
    "duration": 5,
    "start_time": "2022-08-29T12:27:48.580Z"
   },
   {
    "duration": 6,
    "start_time": "2022-08-29T12:27:49.293Z"
   },
   {
    "duration": 123,
    "start_time": "2022-08-29T12:28:47.249Z"
   },
   {
    "duration": 63,
    "start_time": "2022-08-29T12:29:27.747Z"
   },
   {
    "duration": 20,
    "start_time": "2022-08-29T12:31:29.051Z"
   },
   {
    "duration": 5,
    "start_time": "2022-08-29T12:33:25.148Z"
   },
   {
    "duration": 24,
    "start_time": "2022-08-29T12:33:31.052Z"
   },
   {
    "duration": 4,
    "start_time": "2022-08-29T12:35:55.140Z"
   },
   {
    "duration": 23,
    "start_time": "2022-08-29T12:36:00.747Z"
   },
   {
    "duration": 5,
    "start_time": "2022-08-29T12:38:13.930Z"
   },
   {
    "duration": 47,
    "start_time": "2022-08-29T12:38:19.896Z"
   },
   {
    "duration": 128,
    "start_time": "2022-08-29T12:40:18.054Z"
   },
   {
    "duration": 8,
    "start_time": "2022-08-29T12:40:32.240Z"
   },
   {
    "duration": 0,
    "start_time": "2022-08-29T12:44:28.810Z"
   },
   {
    "duration": 0,
    "start_time": "2022-08-29T12:44:28.813Z"
   },
   {
    "duration": 0,
    "start_time": "2022-08-29T12:44:28.817Z"
   },
   {
    "duration": 1673,
    "start_time": "2022-08-30T13:26:49.285Z"
   },
   {
    "duration": 101,
    "start_time": "2022-08-30T13:26:50.961Z"
   },
   {
    "duration": 28,
    "start_time": "2022-08-30T13:26:51.063Z"
   },
   {
    "duration": 26,
    "start_time": "2022-08-30T13:26:51.093Z"
   },
   {
    "duration": 9,
    "start_time": "2022-08-30T13:26:51.121Z"
   },
   {
    "duration": 7,
    "start_time": "2022-08-30T13:26:51.132Z"
   },
   {
    "duration": 782,
    "start_time": "2022-08-30T13:26:51.141Z"
   },
   {
    "duration": 10,
    "start_time": "2022-08-30T13:26:51.925Z"
   },
   {
    "duration": 8,
    "start_time": "2022-08-30T13:26:51.937Z"
   },
   {
    "duration": 5,
    "start_time": "2022-08-30T13:26:51.947Z"
   },
   {
    "duration": 5,
    "start_time": "2022-08-30T13:26:51.953Z"
   },
   {
    "duration": 9,
    "start_time": "2022-08-30T13:26:51.960Z"
   },
   {
    "duration": 0,
    "start_time": "2022-08-30T13:27:30.176Z"
   },
   {
    "duration": 0,
    "start_time": "2022-08-30T13:27:30.177Z"
   },
   {
    "duration": 0,
    "start_time": "2022-08-30T13:27:30.178Z"
   },
   {
    "duration": 0,
    "start_time": "2022-08-30T13:27:30.180Z"
   },
   {
    "duration": 0,
    "start_time": "2022-08-30T13:27:30.181Z"
   },
   {
    "duration": 0,
    "start_time": "2022-08-30T13:27:30.183Z"
   },
   {
    "duration": 0,
    "start_time": "2022-08-30T13:27:30.203Z"
   },
   {
    "duration": 0,
    "start_time": "2022-08-30T13:27:30.205Z"
   },
   {
    "duration": 1551,
    "start_time": "2022-08-31T19:54:54.772Z"
   },
   {
    "duration": 134,
    "start_time": "2022-08-31T19:54:56.325Z"
   },
   {
    "duration": 27,
    "start_time": "2022-08-31T19:54:56.460Z"
   },
   {
    "duration": 23,
    "start_time": "2022-08-31T19:54:56.490Z"
   },
   {
    "duration": 7,
    "start_time": "2022-08-31T19:54:56.515Z"
   },
   {
    "duration": 7,
    "start_time": "2022-08-31T19:54:56.524Z"
   },
   {
    "duration": 737,
    "start_time": "2022-08-31T19:54:56.533Z"
   },
   {
    "duration": 10,
    "start_time": "2022-08-31T19:54:57.272Z"
   },
   {
    "duration": 9,
    "start_time": "2022-08-31T19:54:57.284Z"
   },
   {
    "duration": 15,
    "start_time": "2022-08-31T19:54:57.296Z"
   },
   {
    "duration": 7,
    "start_time": "2022-08-31T19:54:57.313Z"
   },
   {
    "duration": 9,
    "start_time": "2022-08-31T19:54:57.322Z"
   },
   {
    "duration": 1377,
    "start_time": "2022-08-31T19:54:57.332Z"
   },
   {
    "duration": 4,
    "start_time": "2022-08-31T19:54:58.710Z"
   },
   {
    "duration": 15,
    "start_time": "2022-08-31T19:54:58.716Z"
   },
   {
    "duration": 4,
    "start_time": "2022-08-31T19:54:58.734Z"
   },
   {
    "duration": 28,
    "start_time": "2022-08-31T19:54:58.740Z"
   },
   {
    "duration": 5,
    "start_time": "2022-08-31T19:54:58.770Z"
   },
   {
    "duration": 7,
    "start_time": "2022-08-31T19:54:58.777Z"
   },
   {
    "duration": 87,
    "start_time": "2022-08-31T19:54:58.786Z"
   },
   {
    "duration": 146,
    "start_time": "2022-08-31T19:54:58.875Z"
   },
   {
    "duration": 1199,
    "start_time": "2022-08-31T19:59:43.108Z"
   },
   {
    "duration": 7,
    "start_time": "2022-08-31T19:59:47.833Z"
   },
   {
    "duration": 1250,
    "start_time": "2022-08-31T19:59:48.391Z"
   },
   {
    "duration": 12,
    "start_time": "2022-08-31T20:00:43.560Z"
   },
   {
    "duration": 4,
    "start_time": "2022-08-31T20:00:56.220Z"
   },
   {
    "duration": 4,
    "start_time": "2022-08-31T20:01:29.021Z"
   },
   {
    "duration": 4,
    "start_time": "2022-08-31T20:01:33.888Z"
   },
   {
    "duration": 72,
    "start_time": "2022-08-31T20:01:33.894Z"
   },
   {
    "duration": 22,
    "start_time": "2022-08-31T20:01:33.968Z"
   },
   {
    "duration": 151,
    "start_time": "2022-08-31T20:01:33.992Z"
   },
   {
    "duration": 21,
    "start_time": "2022-08-31T20:01:34.146Z"
   },
   {
    "duration": 6,
    "start_time": "2022-08-31T20:01:34.169Z"
   },
   {
    "duration": 653,
    "start_time": "2022-08-31T20:01:34.177Z"
   },
   {
    "duration": 9,
    "start_time": "2022-08-31T20:01:34.832Z"
   },
   {
    "duration": 14,
    "start_time": "2022-08-31T20:01:34.843Z"
   },
   {
    "duration": 10,
    "start_time": "2022-08-31T20:01:34.859Z"
   },
   {
    "duration": 8,
    "start_time": "2022-08-31T20:01:34.871Z"
   },
   {
    "duration": 12,
    "start_time": "2022-08-31T20:01:34.880Z"
   },
   {
    "duration": 1213,
    "start_time": "2022-08-31T20:01:34.895Z"
   },
   {
    "duration": 4,
    "start_time": "2022-08-31T20:01:36.109Z"
   },
   {
    "duration": 3,
    "start_time": "2022-08-31T20:02:20.796Z"
   },
   {
    "duration": 3,
    "start_time": "2022-08-31T20:02:29.083Z"
   },
   {
    "duration": 71,
    "start_time": "2022-08-31T20:02:29.088Z"
   },
   {
    "duration": 20,
    "start_time": "2022-08-31T20:02:29.161Z"
   },
   {
    "duration": 24,
    "start_time": "2022-08-31T20:02:29.184Z"
   },
   {
    "duration": 9,
    "start_time": "2022-08-31T20:02:29.210Z"
   },
   {
    "duration": 5,
    "start_time": "2022-08-31T20:02:29.221Z"
   },
   {
    "duration": 650,
    "start_time": "2022-08-31T20:02:29.228Z"
   },
   {
    "duration": 9,
    "start_time": "2022-08-31T20:02:29.881Z"
   },
   {
    "duration": 5,
    "start_time": "2022-08-31T20:02:29.891Z"
   },
   {
    "duration": 7,
    "start_time": "2022-08-31T20:02:29.899Z"
   },
   {
    "duration": 4,
    "start_time": "2022-08-31T20:02:29.908Z"
   },
   {
    "duration": 8,
    "start_time": "2022-08-31T20:02:29.914Z"
   },
   {
    "duration": 1282,
    "start_time": "2022-08-31T20:02:29.923Z"
   },
   {
    "duration": 1223,
    "start_time": "2022-08-31T20:02:34.280Z"
   },
   {
    "duration": 11,
    "start_time": "2022-08-31T20:02:35.505Z"
   },
   {
    "duration": 11,
    "start_time": "2022-08-31T20:02:54.804Z"
   },
   {
    "duration": 4,
    "start_time": "2022-08-31T20:03:07.991Z"
   },
   {
    "duration": 1262,
    "start_time": "2022-08-31T20:04:26.318Z"
   },
   {
    "duration": 12,
    "start_time": "2022-08-31T20:04:31.998Z"
   },
   {
    "duration": 4,
    "start_time": "2022-08-31T20:04:37.485Z"
   },
   {
    "duration": 4,
    "start_time": "2022-08-31T20:09:47.563Z"
   },
   {
    "duration": 140,
    "start_time": "2022-08-31T20:11:21.706Z"
   },
   {
    "duration": 1204,
    "start_time": "2022-08-31T20:11:22.425Z"
   },
   {
    "duration": 7,
    "start_time": "2022-08-31T20:12:18.070Z"
   },
   {
    "duration": 1229,
    "start_time": "2022-08-31T20:12:23.241Z"
   },
   {
    "duration": 4,
    "start_time": "2022-08-31T20:12:40.882Z"
   },
   {
    "duration": 4,
    "start_time": "2022-08-31T20:12:51.475Z"
   },
   {
    "duration": 4,
    "start_time": "2022-08-31T20:12:56.017Z"
   },
   {
    "duration": 3,
    "start_time": "2022-08-31T20:14:13.298Z"
   },
   {
    "duration": 4,
    "start_time": "2022-08-31T20:14:52.308Z"
   },
   {
    "duration": 5,
    "start_time": "2022-08-31T20:15:28.941Z"
   },
   {
    "duration": 7,
    "start_time": "2022-08-31T20:15:36.693Z"
   },
   {
    "duration": 9,
    "start_time": "2022-09-01T07:27:05.029Z"
   },
   {
    "duration": 1675,
    "start_time": "2022-09-01T07:27:08.565Z"
   },
   {
    "duration": 122,
    "start_time": "2022-09-01T07:27:10.242Z"
   },
   {
    "duration": 26,
    "start_time": "2022-09-01T07:27:10.366Z"
   },
   {
    "duration": 42,
    "start_time": "2022-09-01T07:27:10.394Z"
   },
   {
    "duration": 10,
    "start_time": "2022-09-01T07:27:10.438Z"
   },
   {
    "duration": 24,
    "start_time": "2022-09-01T07:27:10.449Z"
   },
   {
    "duration": 655,
    "start_time": "2022-09-01T07:27:10.474Z"
   },
   {
    "duration": 9,
    "start_time": "2022-09-01T07:27:11.131Z"
   },
   {
    "duration": 22,
    "start_time": "2022-09-01T07:27:11.141Z"
   },
   {
    "duration": 31,
    "start_time": "2022-09-01T07:27:11.165Z"
   },
   {
    "duration": 7,
    "start_time": "2022-09-01T07:27:11.197Z"
   },
   {
    "duration": 11,
    "start_time": "2022-09-01T07:27:11.205Z"
   },
   {
    "duration": 302,
    "start_time": "2022-09-01T07:27:11.218Z"
   },
   {
    "duration": 0,
    "start_time": "2022-09-01T07:27:11.522Z"
   },
   {
    "duration": 0,
    "start_time": "2022-09-01T07:27:11.524Z"
   },
   {
    "duration": 1,
    "start_time": "2022-09-01T07:27:11.525Z"
   },
   {
    "duration": 0,
    "start_time": "2022-09-01T07:27:11.527Z"
   },
   {
    "duration": 0,
    "start_time": "2022-09-01T07:27:11.528Z"
   },
   {
    "duration": 0,
    "start_time": "2022-09-01T07:27:11.529Z"
   },
   {
    "duration": 0,
    "start_time": "2022-09-01T07:27:11.531Z"
   },
   {
    "duration": 0,
    "start_time": "2022-09-01T07:27:11.532Z"
   },
   {
    "duration": 0,
    "start_time": "2022-09-01T07:27:11.534Z"
   },
   {
    "duration": 0,
    "start_time": "2022-09-01T07:27:11.535Z"
   },
   {
    "duration": 0,
    "start_time": "2022-09-01T07:27:11.537Z"
   },
   {
    "duration": 5,
    "start_time": "2022-09-01T07:27:45.080Z"
   },
   {
    "duration": 26,
    "start_time": "2022-09-01T07:27:45.453Z"
   },
   {
    "duration": 4,
    "start_time": "2022-09-01T07:30:21.327Z"
   },
   {
    "duration": 10,
    "start_time": "2022-09-01T07:30:28.285Z"
   },
   {
    "duration": 4,
    "start_time": "2022-09-01T07:30:51.678Z"
   },
   {
    "duration": 14,
    "start_time": "2022-09-01T07:30:52.085Z"
   },
   {
    "duration": 3,
    "start_time": "2022-09-01T07:30:53.374Z"
   },
   {
    "duration": 3,
    "start_time": "2022-09-01T07:30:54.264Z"
   },
   {
    "duration": 4,
    "start_time": "2022-09-01T07:30:54.861Z"
   },
   {
    "duration": 4,
    "start_time": "2022-09-01T07:31:36.949Z"
   },
   {
    "duration": 68,
    "start_time": "2022-09-01T07:33:26.665Z"
   },
   {
    "duration": 4,
    "start_time": "2022-09-01T07:33:33.280Z"
   },
   {
    "duration": 5,
    "start_time": "2022-09-01T07:33:54.926Z"
   },
   {
    "duration": 4,
    "start_time": "2022-09-01T07:35:13.946Z"
   },
   {
    "duration": 14,
    "start_time": "2022-09-01T07:35:14.470Z"
   },
   {
    "duration": 5,
    "start_time": "2022-09-01T07:36:04.183Z"
   },
   {
    "duration": 16,
    "start_time": "2022-09-01T07:36:04.619Z"
   },
   {
    "duration": 5,
    "start_time": "2022-09-01T07:36:26.470Z"
   },
   {
    "duration": 15,
    "start_time": "2022-09-01T07:36:27.067Z"
   },
   {
    "duration": 20,
    "start_time": "2022-09-01T07:49:08.245Z"
   },
   {
    "duration": 5,
    "start_time": "2022-09-01T07:49:11.513Z"
   },
   {
    "duration": 20,
    "start_time": "2022-09-01T07:49:11.962Z"
   },
   {
    "duration": 7,
    "start_time": "2022-09-01T08:24:34.139Z"
   },
   {
    "duration": 18,
    "start_time": "2022-09-01T08:24:38.022Z"
   },
   {
    "duration": 8,
    "start_time": "2022-09-01T08:24:38.506Z"
   },
   {
    "duration": 3,
    "start_time": "2022-09-01T08:24:53.818Z"
   },
   {
    "duration": 57,
    "start_time": "2022-09-01T08:24:53.822Z"
   },
   {
    "duration": 17,
    "start_time": "2022-09-01T08:24:53.881Z"
   },
   {
    "duration": 24,
    "start_time": "2022-09-01T08:24:53.899Z"
   },
   {
    "duration": 7,
    "start_time": "2022-09-01T08:24:53.926Z"
   },
   {
    "duration": 9,
    "start_time": "2022-09-01T08:24:53.934Z"
   },
   {
    "duration": 696,
    "start_time": "2022-09-01T08:24:53.945Z"
   },
   {
    "duration": 9,
    "start_time": "2022-09-01T08:24:54.643Z"
   },
   {
    "duration": 9,
    "start_time": "2022-09-01T08:24:54.653Z"
   },
   {
    "duration": 10,
    "start_time": "2022-09-01T08:24:54.663Z"
   },
   {
    "duration": 14,
    "start_time": "2022-09-01T08:24:54.674Z"
   },
   {
    "duration": 7,
    "start_time": "2022-09-01T08:24:54.690Z"
   },
   {
    "duration": 17,
    "start_time": "2022-09-01T08:24:54.699Z"
   },
   {
    "duration": 6,
    "start_time": "2022-09-01T08:24:54.720Z"
   },
   {
    "duration": 75,
    "start_time": "2022-09-01T08:24:54.728Z"
   },
   {
    "duration": 91,
    "start_time": "2022-09-01T08:24:54.805Z"
   },
   {
    "duration": 4,
    "start_time": "2022-09-01T08:25:57.706Z"
   },
   {
    "duration": 21,
    "start_time": "2022-09-01T08:25:58.285Z"
   },
   {
    "duration": 3,
    "start_time": "2022-09-01T08:26:00.679Z"
   },
   {
    "duration": 22,
    "start_time": "2022-09-01T08:26:01.363Z"
   },
   {
    "duration": 5,
    "start_time": "2022-09-01T08:26:39.982Z"
   },
   {
    "duration": 4,
    "start_time": "2022-09-01T08:26:40.697Z"
   },
   {
    "duration": 3,
    "start_time": "2022-09-01T08:26:41.494Z"
   },
   {
    "duration": 4,
    "start_time": "2022-09-01T08:26:42.570Z"
   },
   {
    "duration": 20,
    "start_time": "2022-09-01T08:26:43.455Z"
   },
   {
    "duration": 4,
    "start_time": "2022-09-01T08:26:46.341Z"
   },
   {
    "duration": 23,
    "start_time": "2022-09-01T08:26:47.119Z"
   },
   {
    "duration": 5,
    "start_time": "2022-09-01T08:27:44.599Z"
   },
   {
    "duration": 4,
    "start_time": "2022-09-01T08:27:45.500Z"
   },
   {
    "duration": 4,
    "start_time": "2022-09-01T08:27:46.641Z"
   },
   {
    "duration": 5,
    "start_time": "2022-09-01T08:27:47.868Z"
   },
   {
    "duration": 14,
    "start_time": "2022-09-01T08:27:48.626Z"
   },
   {
    "duration": 3,
    "start_time": "2022-09-01T08:27:51.496Z"
   },
   {
    "duration": 63,
    "start_time": "2022-09-01T08:27:53.123Z"
   },
   {
    "duration": 4,
    "start_time": "2022-09-01T08:28:11.141Z"
   },
   {
    "duration": 16,
    "start_time": "2022-09-01T08:28:11.580Z"
   },
   {
    "duration": 3,
    "start_time": "2022-09-01T08:28:12.668Z"
   },
   {
    "duration": 22,
    "start_time": "2022-09-01T08:28:13.323Z"
   },
   {
    "duration": 4,
    "start_time": "2022-09-01T08:29:45.788Z"
   },
   {
    "duration": 12,
    "start_time": "2022-09-01T08:29:46.329Z"
   },
   {
    "duration": 5,
    "start_time": "2022-09-01T08:29:48.137Z"
   },
   {
    "duration": 13,
    "start_time": "2022-09-01T08:29:52.508Z"
   },
   {
    "duration": 14,
    "start_time": "2022-09-01T08:30:10.721Z"
   },
   {
    "duration": 12,
    "start_time": "2022-09-01T08:30:35.690Z"
   },
   {
    "duration": 7,
    "start_time": "2022-09-01T08:32:05.305Z"
   },
   {
    "duration": 5,
    "start_time": "2022-09-01T08:32:06.075Z"
   },
   {
    "duration": 4,
    "start_time": "2022-09-01T08:32:06.831Z"
   },
   {
    "duration": 6,
    "start_time": "2022-09-01T08:32:07.993Z"
   },
   {
    "duration": 20,
    "start_time": "2022-09-01T08:32:08.941Z"
   },
   {
    "duration": 4,
    "start_time": "2022-09-01T08:32:11.699Z"
   },
   {
    "duration": 23,
    "start_time": "2022-09-01T08:32:12.260Z"
   },
   {
    "duration": 4,
    "start_time": "2022-09-01T08:32:14.853Z"
   },
   {
    "duration": 12,
    "start_time": "2022-09-01T08:32:16.085Z"
   },
   {
    "duration": 4,
    "start_time": "2022-09-01T08:32:17.729Z"
   },
   {
    "duration": 13,
    "start_time": "2022-09-01T08:32:19.010Z"
   },
   {
    "duration": 17,
    "start_time": "2022-09-01T08:32:20.339Z"
   },
   {
    "duration": 4,
    "start_time": "2022-09-01T08:36:02.181Z"
   },
   {
    "duration": 80,
    "start_time": "2022-09-01T08:36:44.203Z"
   },
   {
    "duration": 12,
    "start_time": "2022-09-01T08:37:21.191Z"
   },
   {
    "duration": 13,
    "start_time": "2022-09-01T08:38:02.475Z"
   },
   {
    "duration": 6,
    "start_time": "2022-09-01T08:38:17.645Z"
   },
   {
    "duration": 8,
    "start_time": "2022-09-01T08:38:18.000Z"
   },
   {
    "duration": 13,
    "start_time": "2022-09-01T08:39:51.506Z"
   },
   {
    "duration": 3,
    "start_time": "2022-09-01T08:40:48.363Z"
   },
   {
    "duration": 13,
    "start_time": "2022-09-01T08:40:49.039Z"
   },
   {
    "duration": 3,
    "start_time": "2022-09-01T08:42:28.548Z"
   },
   {
    "duration": 14,
    "start_time": "2022-09-01T08:42:28.822Z"
   },
   {
    "duration": 12,
    "start_time": "2022-09-01T08:42:32.686Z"
   },
   {
    "duration": 16,
    "start_time": "2022-09-01T08:49:46.997Z"
   },
   {
    "duration": 664,
    "start_time": "2022-09-01T08:52:06.572Z"
   },
   {
    "duration": 492,
    "start_time": "2022-09-01T08:57:52.006Z"
   },
   {
    "duration": 12,
    "start_time": "2022-09-01T08:58:22.400Z"
   },
   {
    "duration": 18,
    "start_time": "2022-09-01T08:58:48.185Z"
   },
   {
    "duration": 7,
    "start_time": "2022-09-01T08:58:56.591Z"
   },
   {
    "duration": 14,
    "start_time": "2022-09-01T08:58:56.984Z"
   },
   {
    "duration": 5,
    "start_time": "2022-09-01T08:59:48.027Z"
   },
   {
    "duration": 11,
    "start_time": "2022-09-01T09:00:05.929Z"
   },
   {
    "duration": 11,
    "start_time": "2022-09-01T09:00:17.002Z"
   },
   {
    "duration": 10,
    "start_time": "2022-09-01T09:00:29.703Z"
   },
   {
    "duration": 10,
    "start_time": "2022-09-01T09:00:34.916Z"
   },
   {
    "duration": 5,
    "start_time": "2022-09-01T09:01:09.225Z"
   },
   {
    "duration": 5,
    "start_time": "2022-09-01T09:01:10.741Z"
   },
   {
    "duration": 5,
    "start_time": "2022-09-01T09:01:15.695Z"
   },
   {
    "duration": 56,
    "start_time": "2022-09-01T09:01:15.702Z"
   },
   {
    "duration": 18,
    "start_time": "2022-09-01T09:01:15.759Z"
   },
   {
    "duration": 22,
    "start_time": "2022-09-01T09:01:15.779Z"
   },
   {
    "duration": 9,
    "start_time": "2022-09-01T09:01:15.802Z"
   },
   {
    "duration": 806,
    "start_time": "2022-09-01T09:01:15.814Z"
   },
   {
    "duration": 7,
    "start_time": "2022-09-01T09:01:16.623Z"
   },
   {
    "duration": 21,
    "start_time": "2022-09-01T09:01:16.632Z"
   },
   {
    "duration": 18,
    "start_time": "2022-09-01T09:01:16.655Z"
   },
   {
    "duration": 17,
    "start_time": "2022-09-01T09:01:16.676Z"
   },
   {
    "duration": 5,
    "start_time": "2022-09-01T09:01:16.695Z"
   },
   {
    "duration": 7,
    "start_time": "2022-09-01T09:01:16.701Z"
   },
   {
    "duration": 4,
    "start_time": "2022-09-01T09:01:18.958Z"
   },
   {
    "duration": 4,
    "start_time": "2022-09-01T09:01:19.927Z"
   },
   {
    "duration": 5,
    "start_time": "2022-09-01T09:03:11.973Z"
   },
   {
    "duration": 14,
    "start_time": "2022-09-01T09:03:13.323Z"
   },
   {
    "duration": 5,
    "start_time": "2022-09-01T09:03:28.091Z"
   },
   {
    "duration": 20,
    "start_time": "2022-09-01T09:03:28.640Z"
   },
   {
    "duration": 5,
    "start_time": "2022-09-01T09:03:30.006Z"
   },
   {
    "duration": 80,
    "start_time": "2022-09-01T09:03:31.707Z"
   },
   {
    "duration": 5,
    "start_time": "2022-09-01T09:03:46.226Z"
   },
   {
    "duration": 10,
    "start_time": "2022-09-01T09:03:49.869Z"
   },
   {
    "duration": 4,
    "start_time": "2022-09-01T09:04:53.733Z"
   },
   {
    "duration": 12,
    "start_time": "2022-09-01T09:05:05.469Z"
   },
   {
    "duration": 3,
    "start_time": "2022-09-01T09:06:27.701Z"
   },
   {
    "duration": 14,
    "start_time": "2022-09-01T09:06:28.696Z"
   },
   {
    "duration": 7,
    "start_time": "2022-09-01T09:06:31.114Z"
   },
   {
    "duration": 3,
    "start_time": "2022-09-01T09:06:46.716Z"
   },
   {
    "duration": 11,
    "start_time": "2022-09-01T09:06:47.042Z"
   },
   {
    "duration": 9,
    "start_time": "2022-09-01T09:06:48.766Z"
   },
   {
    "duration": 15,
    "start_time": "2022-09-01T09:07:34.454Z"
   },
   {
    "duration": 9,
    "start_time": "2022-09-01T09:08:56.545Z"
   },
   {
    "duration": 18,
    "start_time": "2022-09-01T09:09:35.440Z"
   },
   {
    "duration": 117,
    "start_time": "2022-09-01T09:10:28.002Z"
   },
   {
    "duration": 10,
    "start_time": "2022-09-01T09:10:49.167Z"
   },
   {
    "duration": 9,
    "start_time": "2022-09-01T09:10:59.542Z"
   },
   {
    "duration": 8,
    "start_time": "2022-09-01T09:11:13.922Z"
   },
   {
    "duration": 10,
    "start_time": "2022-09-01T09:11:28.662Z"
   },
   {
    "duration": 9,
    "start_time": "2022-09-01T09:11:42.179Z"
   },
   {
    "duration": 10,
    "start_time": "2022-09-01T09:17:51.326Z"
   },
   {
    "duration": 10,
    "start_time": "2022-09-01T09:17:59.032Z"
   },
   {
    "duration": 8,
    "start_time": "2022-09-01T09:18:25.453Z"
   },
   {
    "duration": 12,
    "start_time": "2022-09-01T09:25:46.045Z"
   },
   {
    "duration": 9,
    "start_time": "2022-09-01T09:25:58.427Z"
   },
   {
    "duration": 1527,
    "start_time": "2022-09-01T11:51:21.918Z"
   },
   {
    "duration": 125,
    "start_time": "2022-09-01T11:51:23.447Z"
   },
   {
    "duration": 19,
    "start_time": "2022-09-01T11:51:23.574Z"
   },
   {
    "duration": 20,
    "start_time": "2022-09-01T11:51:23.594Z"
   },
   {
    "duration": 7,
    "start_time": "2022-09-01T11:51:23.616Z"
   },
   {
    "duration": 565,
    "start_time": "2022-09-01T11:51:23.624Z"
   },
   {
    "duration": 5,
    "start_time": "2022-09-01T11:51:24.190Z"
   },
   {
    "duration": 11,
    "start_time": "2022-09-01T11:51:24.196Z"
   },
   {
    "duration": 6,
    "start_time": "2022-09-01T11:51:24.208Z"
   },
   {
    "duration": 7,
    "start_time": "2022-09-01T11:51:24.216Z"
   },
   {
    "duration": 5,
    "start_time": "2022-09-01T11:51:24.224Z"
   },
   {
    "duration": 26,
    "start_time": "2022-09-01T11:51:24.230Z"
   },
   {
    "duration": 4,
    "start_time": "2022-09-01T11:51:24.258Z"
   },
   {
    "duration": 12,
    "start_time": "2022-09-01T11:51:24.263Z"
   },
   {
    "duration": 80,
    "start_time": "2022-09-01T11:51:24.277Z"
   },
   {
    "duration": 98,
    "start_time": "2022-09-01T11:51:24.359Z"
   },
   {
    "duration": 17,
    "start_time": "2022-09-01T11:51:24.459Z"
   },
   {
    "duration": 3,
    "start_time": "2022-09-01T11:51:24.478Z"
   },
   {
    "duration": 11,
    "start_time": "2022-09-01T11:51:24.556Z"
   },
   {
    "duration": 6,
    "start_time": "2022-09-01T11:51:24.569Z"
   },
   {
    "duration": 4,
    "start_time": "2022-09-01T11:51:24.656Z"
   },
   {
    "duration": 12,
    "start_time": "2022-09-01T11:51:24.662Z"
   },
   {
    "duration": 5,
    "start_time": "2022-09-01T11:51:24.676Z"
   },
   {
    "duration": 9,
    "start_time": "2022-09-01T11:51:24.683Z"
   },
   {
    "duration": 1716,
    "start_time": "2022-09-02T07:48:10.503Z"
   },
   {
    "duration": 5,
    "start_time": "2022-09-02T07:48:24.903Z"
   },
   {
    "duration": 120,
    "start_time": "2022-09-02T07:48:24.911Z"
   },
   {
    "duration": 28,
    "start_time": "2022-09-02T07:48:25.034Z"
   },
   {
    "duration": 29,
    "start_time": "2022-09-02T07:48:25.064Z"
   },
   {
    "duration": 14,
    "start_time": "2022-09-02T07:48:25.095Z"
   },
   {
    "duration": 770,
    "start_time": "2022-09-02T07:48:25.111Z"
   },
   {
    "duration": 3,
    "start_time": "2022-09-02T07:48:25.883Z"
   },
   {
    "duration": 11,
    "start_time": "2022-09-02T07:48:25.902Z"
   },
   {
    "duration": 7,
    "start_time": "2022-09-02T07:48:25.915Z"
   },
   {
    "duration": 9,
    "start_time": "2022-09-02T07:48:25.926Z"
   },
   {
    "duration": 118,
    "start_time": "2022-09-02T07:48:25.938Z"
   },
   {
    "duration": 16,
    "start_time": "2022-09-02T07:48:26.059Z"
   },
   {
    "duration": 11,
    "start_time": "2022-09-02T07:48:26.077Z"
   },
   {
    "duration": 13,
    "start_time": "2022-09-02T07:48:26.090Z"
   },
   {
    "duration": 419,
    "start_time": "2022-09-02T07:48:26.105Z"
   },
   {
    "duration": 4,
    "start_time": "2022-09-02T07:48:26.526Z"
   },
   {
    "duration": 1823,
    "start_time": "2022-09-02T07:48:26.532Z"
   },
   {
    "duration": 4,
    "start_time": "2022-09-02T07:48:28.357Z"
   },
   {
    "duration": 52,
    "start_time": "2022-09-02T07:48:28.363Z"
   },
   {
    "duration": 93,
    "start_time": "2022-09-02T07:48:28.417Z"
   },
   {
    "duration": 6,
    "start_time": "2022-09-02T07:48:28.512Z"
   },
   {
    "duration": 13,
    "start_time": "2022-09-02T07:48:28.520Z"
   },
   {
    "duration": 15,
    "start_time": "2022-09-02T07:48:28.535Z"
   },
   {
    "duration": 10,
    "start_time": "2022-09-02T07:48:28.552Z"
   },
   {
    "duration": 4,
    "start_time": "2022-09-02T07:50:52.456Z"
   },
   {
    "duration": 69,
    "start_time": "2022-09-02T07:50:52.463Z"
   },
   {
    "duration": 19,
    "start_time": "2022-09-02T07:50:52.534Z"
   },
   {
    "duration": 24,
    "start_time": "2022-09-02T07:50:52.556Z"
   },
   {
    "duration": 8,
    "start_time": "2022-09-02T07:50:52.582Z"
   },
   {
    "duration": 678,
    "start_time": "2022-09-02T07:50:52.592Z"
   },
   {
    "duration": 3,
    "start_time": "2022-09-02T07:50:53.271Z"
   },
   {
    "duration": 20,
    "start_time": "2022-09-02T07:50:53.276Z"
   },
   {
    "duration": 8,
    "start_time": "2022-09-02T07:50:53.298Z"
   },
   {
    "duration": 12,
    "start_time": "2022-09-02T07:50:53.308Z"
   },
   {
    "duration": 6,
    "start_time": "2022-09-02T07:50:53.321Z"
   },
   {
    "duration": 8,
    "start_time": "2022-09-02T07:50:53.329Z"
   },
   {
    "duration": 5,
    "start_time": "2022-09-02T07:50:53.338Z"
   },
   {
    "duration": 7,
    "start_time": "2022-09-02T07:50:53.345Z"
   },
   {
    "duration": 55,
    "start_time": "2022-09-02T07:50:53.353Z"
   },
   {
    "duration": 5,
    "start_time": "2022-09-02T07:50:53.410Z"
   },
   {
    "duration": 197,
    "start_time": "2022-09-02T07:50:53.416Z"
   },
   {
    "duration": 4,
    "start_time": "2022-09-02T07:50:53.614Z"
   },
   {
    "duration": 90,
    "start_time": "2022-09-02T07:50:53.620Z"
   },
   {
    "duration": 93,
    "start_time": "2022-09-02T07:50:53.712Z"
   },
   {
    "duration": 9,
    "start_time": "2022-09-02T07:50:53.807Z"
   },
   {
    "duration": 13,
    "start_time": "2022-09-02T07:50:53.817Z"
   },
   {
    "duration": 7,
    "start_time": "2022-09-02T07:50:53.832Z"
   },
   {
    "duration": 7,
    "start_time": "2022-09-02T07:50:53.842Z"
   },
   {
    "duration": 42,
    "start_time": "2022-09-02T08:00:22.760Z"
   },
   {
    "duration": 4,
    "start_time": "2022-09-02T08:00:47.370Z"
   },
   {
    "duration": 117,
    "start_time": "2022-09-02T08:00:47.376Z"
   },
   {
    "duration": 21,
    "start_time": "2022-09-02T08:00:47.495Z"
   },
   {
    "duration": 53,
    "start_time": "2022-09-02T08:00:47.518Z"
   },
   {
    "duration": 9,
    "start_time": "2022-09-02T08:00:47.572Z"
   },
   {
    "duration": 670,
    "start_time": "2022-09-02T08:00:47.583Z"
   },
   {
    "duration": 2,
    "start_time": "2022-09-02T08:00:48.255Z"
   },
   {
    "duration": 23,
    "start_time": "2022-09-02T08:00:48.259Z"
   },
   {
    "duration": 21,
    "start_time": "2022-09-02T08:00:48.283Z"
   },
   {
    "duration": 15,
    "start_time": "2022-09-02T08:00:48.308Z"
   },
   {
    "duration": 7,
    "start_time": "2022-09-02T08:00:48.324Z"
   },
   {
    "duration": 13,
    "start_time": "2022-09-02T08:00:48.333Z"
   },
   {
    "duration": 6,
    "start_time": "2022-09-02T08:00:48.348Z"
   },
   {
    "duration": 13,
    "start_time": "2022-09-02T08:00:48.355Z"
   },
   {
    "duration": 337,
    "start_time": "2022-09-02T08:00:48.369Z"
   },
   {
    "duration": 5,
    "start_time": "2022-09-02T08:00:48.708Z"
   },
   {
    "duration": 1593,
    "start_time": "2022-09-02T08:00:48.715Z"
   },
   {
    "duration": 4,
    "start_time": "2022-09-02T08:00:50.310Z"
   },
   {
    "duration": 98,
    "start_time": "2022-09-02T08:00:50.316Z"
   },
   {
    "duration": 87,
    "start_time": "2022-09-02T08:00:50.417Z"
   },
   {
    "duration": 10,
    "start_time": "2022-09-02T08:00:50.505Z"
   },
   {
    "duration": 25,
    "start_time": "2022-09-02T08:00:50.517Z"
   },
   {
    "duration": 7,
    "start_time": "2022-09-02T08:00:50.544Z"
   },
   {
    "duration": 14,
    "start_time": "2022-09-02T08:00:50.553Z"
   },
   {
    "duration": 4,
    "start_time": "2022-09-02T08:03:30.247Z"
   },
   {
    "duration": 150,
    "start_time": "2022-09-02T08:03:30.253Z"
   },
   {
    "duration": 19,
    "start_time": "2022-09-02T08:03:30.406Z"
   },
   {
    "duration": 38,
    "start_time": "2022-09-02T08:03:30.428Z"
   },
   {
    "duration": 11,
    "start_time": "2022-09-02T08:03:30.468Z"
   },
   {
    "duration": 713,
    "start_time": "2022-09-02T08:03:30.481Z"
   },
   {
    "duration": 7,
    "start_time": "2022-09-02T08:03:31.196Z"
   },
   {
    "duration": 40,
    "start_time": "2022-09-02T08:03:31.205Z"
   },
   {
    "duration": 53,
    "start_time": "2022-09-02T08:03:31.247Z"
   },
   {
    "duration": 39,
    "start_time": "2022-09-02T08:03:31.303Z"
   },
   {
    "duration": 17,
    "start_time": "2022-09-02T08:03:31.343Z"
   },
   {
    "duration": 23,
    "start_time": "2022-09-02T08:03:31.362Z"
   },
   {
    "duration": 29,
    "start_time": "2022-09-02T08:03:31.386Z"
   },
   {
    "duration": 25,
    "start_time": "2022-09-02T08:03:31.417Z"
   },
   {
    "duration": 2175,
    "start_time": "2022-09-02T08:03:31.443Z"
   },
   {
    "duration": 5,
    "start_time": "2022-09-02T08:03:33.620Z"
   },
   {
    "duration": 4751,
    "start_time": "2022-09-02T08:03:33.626Z"
   },
   {
    "duration": 12,
    "start_time": "2022-09-02T08:03:38.379Z"
   },
   {
    "duration": 112,
    "start_time": "2022-09-02T08:03:38.393Z"
   },
   {
    "duration": 4,
    "start_time": "2022-09-02T08:03:38.510Z"
   },
   {
    "duration": 6,
    "start_time": "2022-09-02T08:03:38.516Z"
   },
   {
    "duration": 17,
    "start_time": "2022-09-02T08:03:38.524Z"
   },
   {
    "duration": 7,
    "start_time": "2022-09-02T08:03:38.543Z"
   },
   {
    "duration": 58,
    "start_time": "2022-09-02T08:03:38.551Z"
   },
   {
    "duration": 10,
    "start_time": "2022-09-02T08:06:53.188Z"
   },
   {
    "duration": 12,
    "start_time": "2022-09-02T08:07:11.733Z"
   },
   {
    "duration": 10,
    "start_time": "2022-09-02T08:07:34.250Z"
   },
   {
    "duration": 4,
    "start_time": "2022-09-02T08:10:56.019Z"
   },
   {
    "duration": 4,
    "start_time": "2022-09-02T08:11:17.597Z"
   },
   {
    "duration": 79,
    "start_time": "2022-09-02T08:11:17.604Z"
   },
   {
    "duration": 19,
    "start_time": "2022-09-02T08:11:17.685Z"
   },
   {
    "duration": 24,
    "start_time": "2022-09-02T08:11:17.706Z"
   },
   {
    "duration": 13,
    "start_time": "2022-09-02T08:11:17.733Z"
   },
   {
    "duration": 782,
    "start_time": "2022-09-02T08:11:17.747Z"
   },
   {
    "duration": 3,
    "start_time": "2022-09-02T08:11:18.531Z"
   },
   {
    "duration": 25,
    "start_time": "2022-09-02T08:11:18.536Z"
   },
   {
    "duration": 30,
    "start_time": "2022-09-02T08:11:18.562Z"
   },
   {
    "duration": 35,
    "start_time": "2022-09-02T08:11:18.593Z"
   },
   {
    "duration": 14,
    "start_time": "2022-09-02T08:11:18.630Z"
   },
   {
    "duration": 39,
    "start_time": "2022-09-02T08:11:18.646Z"
   },
   {
    "duration": 30,
    "start_time": "2022-09-02T08:11:18.688Z"
   },
   {
    "duration": 27,
    "start_time": "2022-09-02T08:11:18.720Z"
   },
   {
    "duration": 48,
    "start_time": "2022-09-02T08:11:18.749Z"
   },
   {
    "duration": 17,
    "start_time": "2022-09-02T08:11:18.802Z"
   },
   {
    "duration": 383,
    "start_time": "2022-09-02T08:11:18.821Z"
   },
   {
    "duration": 4,
    "start_time": "2022-09-02T08:11:19.206Z"
   },
   {
    "duration": 108,
    "start_time": "2022-09-02T08:11:19.213Z"
   },
   {
    "duration": 81,
    "start_time": "2022-09-02T08:11:19.323Z"
   },
   {
    "duration": 3,
    "start_time": "2022-09-02T08:11:19.405Z"
   },
   {
    "duration": 12,
    "start_time": "2022-09-02T08:11:19.410Z"
   },
   {
    "duration": 6,
    "start_time": "2022-09-02T08:11:19.424Z"
   },
   {
    "duration": 13,
    "start_time": "2022-09-02T08:11:19.432Z"
   }
  ],
  "kernelspec": {
   "display_name": "Python 3 (ipykernel)",
   "language": "python",
   "name": "python3"
  },
  "language_info": {
   "codemirror_mode": {
    "name": "ipython",
    "version": 3
   },
   "file_extension": ".py",
   "mimetype": "text/x-python",
   "name": "python",
   "nbconvert_exporter": "python",
   "pygments_lexer": "ipython3",
   "version": "3.9.7"
  },
  "toc": {
   "base_numbering": 1,
   "nav_menu": {},
   "number_sections": true,
   "sideBar": true,
   "skip_h1_title": true,
   "title_cell": "Содержание",
   "title_sidebar": "Contents",
   "toc_cell": true,
   "toc_position": {},
   "toc_section_display": true,
   "toc_window_display": true
  }
 },
 "nbformat": 4,
 "nbformat_minor": 2
}
